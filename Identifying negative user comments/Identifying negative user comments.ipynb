{
 "cells": [
  {
   "cell_type": "markdown",
   "metadata": {
    "toc": true
   },
   "source": [
    "<h1>Содержание<span class=\"tocSkip\"></span></h1>\n",
    "<div class=\"toc\"><ul class=\"toc-item\"><li><span><a href=\"#Подготовка\" data-toc-modified-id=\"Подготовка-1\"><span class=\"toc-item-num\">1&nbsp;&nbsp;</span>Подготовка</a></span><ul class=\"toc-item\"><li><span><a href=\"#Загрузим-данные-и-изучим-их\" data-toc-modified-id=\"Загрузим-данные-и-изучим-их-1.1\"><span class=\"toc-item-num\">1.1&nbsp;&nbsp;</span>Загрузим данные и изучим их</a></span></li><li><span><a href=\"#Проверка-баланса-классов\" data-toc-modified-id=\"Проверка-баланса-классов-1.2\"><span class=\"toc-item-num\">1.2&nbsp;&nbsp;</span>Проверка баланса классов</a></span></li><li><span><a href=\"#Лематизация-и-очистка-текстов\" data-toc-modified-id=\"Лематизация-и-очистка-текстов-1.3\"><span class=\"toc-item-num\">1.3&nbsp;&nbsp;</span>Лематизация и очистка текстов</a></span></li><li><span><a href=\"#Разобьём-данные-на-выборки\" data-toc-modified-id=\"Разобьём-данные-на-выборки-1.4\"><span class=\"toc-item-num\">1.4&nbsp;&nbsp;</span>Разобьём данные на выборки</a></span></li><li><span><a href=\"#Мешок-слов\" data-toc-modified-id=\"Мешок-слов-1.5\"><span class=\"toc-item-num\">1.5&nbsp;&nbsp;</span>Мешок слов</a></span></li><li><span><a href=\"#TF-IDF\" data-toc-modified-id=\"TF-IDF-1.6\"><span class=\"toc-item-num\">1.6&nbsp;&nbsp;</span>TF-IDF</a></span></li></ul></li><li><span><a href=\"#Обучение\" data-toc-modified-id=\"Обучение-2\"><span class=\"toc-item-num\">2&nbsp;&nbsp;</span>Обучение</a></span><ul class=\"toc-item\"><li><span><a href=\"#Логистическая-регрессия\" data-toc-modified-id=\"Логистическая-регрессия-2.1\"><span class=\"toc-item-num\">2.1&nbsp;&nbsp;</span>Логистическая регрессия</a></span></li><li><span><a href=\"#Дерево-решений\" data-toc-modified-id=\"Дерево-решений-2.2\"><span class=\"toc-item-num\">2.2&nbsp;&nbsp;</span>Дерево решений</a></span></li><li><span><a href=\"#LightGBM\" data-toc-modified-id=\"LightGBM-2.3\"><span class=\"toc-item-num\">2.3&nbsp;&nbsp;</span>LightGBM</a></span></li><li><span><a href=\"#CatBoost\" data-toc-modified-id=\"CatBoost-2.4\"><span class=\"toc-item-num\">2.4&nbsp;&nbsp;</span>CatBoost</a></span></li></ul></li><li><span><a href=\"#Выводы\" data-toc-modified-id=\"Выводы-3\"><span class=\"toc-item-num\">3&nbsp;&nbsp;</span>Выводы</a></span></li></ul></div>"
   ]
  },
  {
   "cell_type": "markdown",
   "metadata": {},
   "source": [
    "# Определение негативных комментариев пользователей"
   ]
  },
  {
   "cell_type": "markdown",
   "metadata": {},
   "source": [
    "Требуется обучить модель классифицировать комментарии на позитивные и негативные.\n",
    "<br>Заказчик - это интернет-магазин, который запускает новый сервис. Теперь пользователи могут редактировать и дополнять описания товаров, как в вики-сообществах. То есть клиенты предлагают свои правки и комментируют изменения других. \n",
    "<br>Магазину нужен инструмент, который будет искать токсичные комментарии и отправлять их на модерацию. \n",
    "<br>В вашем распоряжении набор данных с разметкой о токсичности правок.\n",
    "<br>Требование к модели - значением метрики качества *F1* не меньше 0.75."
   ]
  },
  {
   "cell_type": "markdown",
   "metadata": {},
   "source": [
    "## Подготовка"
   ]
  },
  {
   "cell_type": "markdown",
   "metadata": {},
   "source": [
    "Чтобы изучить данные таблиц, сделать необходимые рассчёты и провести исследование сразу импортируем библиотеки, который нам потребуются в данном проекте:"
   ]
  },
  {
   "cell_type": "code",
   "execution_count": 1,
   "metadata": {},
   "outputs": [],
   "source": [
    "from catboost import CatBoostClassifier\n",
    "from lightgbm import LGBMClassifier\n",
    "from nltk.corpus import stopwords as nltk_stopwords\n",
    "from pymystem3 import Mystem\n",
    "from sklearn.ensemble import RandomForestClassifier\n",
    "from sklearn.feature_extraction.text import CountVectorizer, TfidfVectorizer\n",
    "from sklearn.metrics import accuracy_score\n",
    "from sklearn.metrics import classification_report\n",
    "from sklearn.metrics import f1_score\n",
    "from sklearn.linear_model import LogisticRegression\n",
    "from sklearn.model_selection import cross_val_score\n",
    "from sklearn.model_selection import train_test_split\n",
    "from sklearn.tree import DecisionTreeClassifier\n",
    "from tqdm import notebook\n",
    "\n",
    "import nltk\n",
    "import numpy as np\n",
    "import pandas as pd\n",
    "import re\n",
    "import spacy\n",
    "import torch\n",
    "import transformers"
   ]
  },
  {
   "cell_type": "markdown",
   "metadata": {},
   "source": [
    "### Загрузим данные и изучим их"
   ]
  },
  {
   "cell_type": "markdown",
   "metadata": {},
   "source": [
    "Напишем функцию, которая будет отображать основные показатели датасета и строить корреляционную матрицу"
   ]
  },
  {
   "cell_type": "code",
   "execution_count": 2,
   "metadata": {},
   "outputs": [],
   "source": [
    "def df_info(df):\n",
    "    \"\"\"Изучение датасета\"\"\"\n",
    "    print('\\nПервые 10 строчек датафрейма')\n",
    "    display(df.head(10))\n",
    "    print('\\nИнформация о датафрейме\\n')\n",
    "    display(df.info())\n",
    "    print('\\nРасчёт значений в каждом столбце')\n",
    "    display(df.describe())\n",
    "    print('\\nКоличество дубликатов =', df.duplicated().sum())\n",
    "    print('\\nЧисло пропусков в каждом столбце')\n",
    "    display(df.isna().sum())"
   ]
  },
  {
   "cell_type": "markdown",
   "metadata": {},
   "source": [
    "Прочитаем файл и сохраним его"
   ]
  },
  {
   "cell_type": "code",
   "execution_count": 3,
   "metadata": {},
   "outputs": [],
   "source": [
    "df = pd.read_csv('C:\\\\Users\\\\Дмитрий\\\\github\\\\projects\\\\projects\\\\Identifying negative user comments\\\\toxic_comments.csv', \n",
    "                 index_col=[0])"
   ]
  },
  {
   "cell_type": "markdown",
   "metadata": {},
   "source": [
    "Изучим датасет"
   ]
  },
  {
   "cell_type": "code",
   "execution_count": 4,
   "metadata": {
    "scrolled": false
   },
   "outputs": [
    {
     "name": "stdout",
     "output_type": "stream",
     "text": [
      "\n",
      "Первые 10 строчек датафрейма\n"
     ]
    },
    {
     "data": {
      "text/html": [
       "<div>\n",
       "<style scoped>\n",
       "    .dataframe tbody tr th:only-of-type {\n",
       "        vertical-align: middle;\n",
       "    }\n",
       "\n",
       "    .dataframe tbody tr th {\n",
       "        vertical-align: top;\n",
       "    }\n",
       "\n",
       "    .dataframe thead th {\n",
       "        text-align: right;\n",
       "    }\n",
       "</style>\n",
       "<table border=\"1\" class=\"dataframe\">\n",
       "  <thead>\n",
       "    <tr style=\"text-align: right;\">\n",
       "      <th></th>\n",
       "      <th>text</th>\n",
       "      <th>toxic</th>\n",
       "    </tr>\n",
       "  </thead>\n",
       "  <tbody>\n",
       "    <tr>\n",
       "      <th>0</th>\n",
       "      <td>Explanation\\nWhy the edits made under my usern...</td>\n",
       "      <td>0</td>\n",
       "    </tr>\n",
       "    <tr>\n",
       "      <th>1</th>\n",
       "      <td>D'aww! He matches this background colour I'm s...</td>\n",
       "      <td>0</td>\n",
       "    </tr>\n",
       "    <tr>\n",
       "      <th>2</th>\n",
       "      <td>Hey man, I'm really not trying to edit war. It...</td>\n",
       "      <td>0</td>\n",
       "    </tr>\n",
       "    <tr>\n",
       "      <th>3</th>\n",
       "      <td>\"\\nMore\\nI can't make any real suggestions on ...</td>\n",
       "      <td>0</td>\n",
       "    </tr>\n",
       "    <tr>\n",
       "      <th>4</th>\n",
       "      <td>You, sir, are my hero. Any chance you remember...</td>\n",
       "      <td>0</td>\n",
       "    </tr>\n",
       "    <tr>\n",
       "      <th>5</th>\n",
       "      <td>\"\\n\\nCongratulations from me as well, use the ...</td>\n",
       "      <td>0</td>\n",
       "    </tr>\n",
       "    <tr>\n",
       "      <th>6</th>\n",
       "      <td>COCKSUCKER BEFORE YOU PISS AROUND ON MY WORK</td>\n",
       "      <td>1</td>\n",
       "    </tr>\n",
       "    <tr>\n",
       "      <th>7</th>\n",
       "      <td>Your vandalism to the Matt Shirvington article...</td>\n",
       "      <td>0</td>\n",
       "    </tr>\n",
       "    <tr>\n",
       "      <th>8</th>\n",
       "      <td>Sorry if the word 'nonsense' was offensive to ...</td>\n",
       "      <td>0</td>\n",
       "    </tr>\n",
       "    <tr>\n",
       "      <th>9</th>\n",
       "      <td>alignment on this subject and which are contra...</td>\n",
       "      <td>0</td>\n",
       "    </tr>\n",
       "  </tbody>\n",
       "</table>\n",
       "</div>"
      ],
      "text/plain": [
       "                                                text  toxic\n",
       "0  Explanation\\nWhy the edits made under my usern...      0\n",
       "1  D'aww! He matches this background colour I'm s...      0\n",
       "2  Hey man, I'm really not trying to edit war. It...      0\n",
       "3  \"\\nMore\\nI can't make any real suggestions on ...      0\n",
       "4  You, sir, are my hero. Any chance you remember...      0\n",
       "5  \"\\n\\nCongratulations from me as well, use the ...      0\n",
       "6       COCKSUCKER BEFORE YOU PISS AROUND ON MY WORK      1\n",
       "7  Your vandalism to the Matt Shirvington article...      0\n",
       "8  Sorry if the word 'nonsense' was offensive to ...      0\n",
       "9  alignment on this subject and which are contra...      0"
      ]
     },
     "metadata": {},
     "output_type": "display_data"
    },
    {
     "name": "stdout",
     "output_type": "stream",
     "text": [
      "\n",
      "Информация о датафрейме\n",
      "\n",
      "<class 'pandas.core.frame.DataFrame'>\n",
      "Int64Index: 159292 entries, 0 to 159450\n",
      "Data columns (total 2 columns):\n",
      " #   Column  Non-Null Count   Dtype \n",
      "---  ------  --------------   ----- \n",
      " 0   text    159292 non-null  object\n",
      " 1   toxic   159292 non-null  int64 \n",
      "dtypes: int64(1), object(1)\n",
      "memory usage: 3.6+ MB\n"
     ]
    },
    {
     "data": {
      "text/plain": [
       "None"
      ]
     },
     "metadata": {},
     "output_type": "display_data"
    },
    {
     "name": "stdout",
     "output_type": "stream",
     "text": [
      "\n",
      "Расчёт значений в каждом столбце\n"
     ]
    },
    {
     "data": {
      "text/html": [
       "<div>\n",
       "<style scoped>\n",
       "    .dataframe tbody tr th:only-of-type {\n",
       "        vertical-align: middle;\n",
       "    }\n",
       "\n",
       "    .dataframe tbody tr th {\n",
       "        vertical-align: top;\n",
       "    }\n",
       "\n",
       "    .dataframe thead th {\n",
       "        text-align: right;\n",
       "    }\n",
       "</style>\n",
       "<table border=\"1\" class=\"dataframe\">\n",
       "  <thead>\n",
       "    <tr style=\"text-align: right;\">\n",
       "      <th></th>\n",
       "      <th>toxic</th>\n",
       "    </tr>\n",
       "  </thead>\n",
       "  <tbody>\n",
       "    <tr>\n",
       "      <th>count</th>\n",
       "      <td>159292.000000</td>\n",
       "    </tr>\n",
       "    <tr>\n",
       "      <th>mean</th>\n",
       "      <td>0.101612</td>\n",
       "    </tr>\n",
       "    <tr>\n",
       "      <th>std</th>\n",
       "      <td>0.302139</td>\n",
       "    </tr>\n",
       "    <tr>\n",
       "      <th>min</th>\n",
       "      <td>0.000000</td>\n",
       "    </tr>\n",
       "    <tr>\n",
       "      <th>25%</th>\n",
       "      <td>0.000000</td>\n",
       "    </tr>\n",
       "    <tr>\n",
       "      <th>50%</th>\n",
       "      <td>0.000000</td>\n",
       "    </tr>\n",
       "    <tr>\n",
       "      <th>75%</th>\n",
       "      <td>0.000000</td>\n",
       "    </tr>\n",
       "    <tr>\n",
       "      <th>max</th>\n",
       "      <td>1.000000</td>\n",
       "    </tr>\n",
       "  </tbody>\n",
       "</table>\n",
       "</div>"
      ],
      "text/plain": [
       "               toxic\n",
       "count  159292.000000\n",
       "mean        0.101612\n",
       "std         0.302139\n",
       "min         0.000000\n",
       "25%         0.000000\n",
       "50%         0.000000\n",
       "75%         0.000000\n",
       "max         1.000000"
      ]
     },
     "metadata": {},
     "output_type": "display_data"
    },
    {
     "name": "stdout",
     "output_type": "stream",
     "text": [
      "\n",
      "Количество дубликатов = 0\n",
      "\n",
      "Число пропусков в каждом столбце\n"
     ]
    },
    {
     "data": {
      "text/plain": [
       "text     0\n",
       "toxic    0\n",
       "dtype: int64"
      ]
     },
     "metadata": {},
     "output_type": "display_data"
    }
   ],
   "source": [
    "df_info(df)"
   ]
  },
  {
   "cell_type": "markdown",
   "metadata": {},
   "source": [
    "В таблице 159571 строка и 2 столбеца. Типы данных в столбцах - object и int64.\n",
    "<br>Согласно документации в столбеце `text` содержатся тексты комментариев, а `toxic` — целевой признак."
   ]
  },
  {
   "cell_type": "markdown",
   "metadata": {},
   "source": [
    "**Вывод**\n",
    "<br><br> Тексты комментариев судя по их виду нужно готовить к исследованию.\n",
    "<br>Пропусков в данных нет.\n",
    "<br>Подготовим данные к исследованию."
   ]
  },
  {
   "cell_type": "markdown",
   "metadata": {},
   "source": [
    "### Проверка баланса классов"
   ]
  },
  {
   "cell_type": "markdown",
   "metadata": {},
   "source": [
    "Посмотрим как соотносятся ответы в столбце `toxic`:"
   ]
  },
  {
   "cell_type": "code",
   "execution_count": 5,
   "metadata": {},
   "outputs": [
    {
     "data": {
      "text/plain": [
       "0    0.898388\n",
       "1    0.101612\n",
       "Name: toxic, dtype: float64"
      ]
     },
     "execution_count": 5,
     "metadata": {},
     "output_type": "execute_result"
    }
   ],
   "source": [
    "df['toxic'].value_counts(normalize=(0, 1))"
   ]
  },
  {
   "cell_type": "markdown",
   "metadata": {},
   "source": [
    "Посмотрим отношение на графике"
   ]
  },
  {
   "cell_type": "code",
   "execution_count": 6,
   "metadata": {},
   "outputs": [
    {
     "data": {
      "text/plain": [
       "<AxesSubplot:>"
      ]
     },
     "execution_count": 6,
     "metadata": {},
     "output_type": "execute_result"
    },
    {
     "data": {
      "image/png": "[encoded data removed]",
      "text/plain": [
       "<Figure size 432x288 with 1 Axes>"
      ]
     },
     "metadata": {
      "needs_background": "light"
     },
     "output_type": "display_data"
    }
   ],
   "source": [
    "df['toxic'].value_counts(normalize=(0, 1)).plot(kind='bar')"
   ]
  },
  {
   "cell_type": "markdown",
   "metadata": {},
   "source": [
    "**Вывод**\n",
    "\n",
    "Мы наблюдаем дисбаланс классов в отношении примерно 1 к 9. \n",
    "<br>Далее учтём это и будем применять в моделях дисбаланс классов."
   ]
  },
  {
   "cell_type": "markdown",
   "metadata": {},
   "source": [
    "### Лематизация и очистка текстов"
   ]
  },
  {
   "cell_type": "markdown",
   "metadata": {},
   "source": [
    "Переведём тип данных в столбце `text` с `object` на `list`"
   ]
  },
  {
   "cell_type": "code",
   "execution_count": 7,
   "metadata": {},
   "outputs": [],
   "source": [
    "df['clear_text'] = list(df['text'])"
   ]
  },
  {
   "cell_type": "markdown",
   "metadata": {},
   "source": [
    "Напишем функцию для лемматизации текстов"
   ]
  },
  {
   "cell_type": "code",
   "execution_count": 8,
   "metadata": {},
   "outputs": [],
   "source": [
    "w_tokenizer = nltk.tokenize.WhitespaceTokenizer()\n",
    "lemmatizer = nltk.stem.WordNetLemmatizer()\n",
    "\n",
    "def lemmatize_text(text):\n",
    "    return [lemmatizer.lemmatize(w) for w in w_tokenizer.tokenize(text)]"
   ]
  },
  {
   "cell_type": "markdown",
   "metadata": {},
   "source": [
    "Напишем функцию для очистки текстов от лишних символов с помощью регулярных выражений"
   ]
  },
  {
   "cell_type": "code",
   "execution_count": 9,
   "metadata": {},
   "outputs": [],
   "source": [
    "def clear_text(text):\n",
    "    eng_text = re.sub(r'[^a-zA-Z ]', ' ', text)\n",
    "    \n",
    "    return \" \".join(eng_text.split())"
   ]
  },
  {
   "cell_type": "markdown",
   "metadata": {},
   "source": [
    "Считаю, что будет целесообразно обрезать длину каждого комментария до 1000 символов, тк я провел несколько экспериментов с длиной  текстов 5000, 2000, 1000, 500, 300, 220, 200, 190, 180, 150  и 100 символов.\n",
    "<br>Наилучшие результаты метрики F1-score получились на длине текстов в 1000 символов."
   ]
  },
  {
   "cell_type": "code",
   "execution_count": 10,
   "metadata": {},
   "outputs": [],
   "source": [
    "df['clear_text'] = df.clear_text.str.slice(start=0, stop=1000)"
   ]
  },
  {
   "cell_type": "markdown",
   "metadata": {},
   "source": [
    "Лемматизируем тексты"
   ]
  },
  {
   "cell_type": "code",
   "execution_count": 11,
   "metadata": {
    "scrolled": false
   },
   "outputs": [
    {
     "name": "stdout",
     "output_type": "stream",
     "text": [
      "Wall time: 42.2 s\n"
     ]
    }
   ],
   "source": [
    "%%time\n",
    "\n",
    "df['clear_text'] = df.text.apply(lemmatize_text)"
   ]
  },
  {
   "cell_type": "code",
   "execution_count": 12,
   "metadata": {},
   "outputs": [],
   "source": [
    "df['clear_text'] = df.clear_text.apply(\" \".join)"
   ]
  },
  {
   "cell_type": "markdown",
   "metadata": {},
   "source": [
    "Очистим текст от лишних символов"
   ]
  },
  {
   "cell_type": "code",
   "execution_count": 13,
   "metadata": {},
   "outputs": [
    {
     "name": "stdout",
     "output_type": "stream",
     "text": [
      "Wall time: 2.23 s\n"
     ]
    }
   ],
   "source": [
    "%%time\n",
    "\n",
    "df['clear_text'] = df.clear_text.apply(lambda x: clear_text(x))"
   ]
  },
  {
   "cell_type": "markdown",
   "metadata": {},
   "source": [
    "**Вывод**\n",
    "<br><br> Тексты комментариев лемматизированя, очищены от лишних символов и обрезаны."
   ]
  },
  {
   "cell_type": "markdown",
   "metadata": {},
   "source": [
    "### Разобьём данные на выборки"
   ]
  },
  {
   "cell_type": "markdown",
   "metadata": {},
   "source": [
    "Сделаем 2 выборки - обучающую и тестовую в пропорциях 80% к 20% соответственно."
   ]
  },
  {
   "cell_type": "code",
   "execution_count": 14,
   "metadata": {},
   "outputs": [
    {
     "name": "stdout",
     "output_type": "stream",
     "text": [
      "Размер обучающей выборки - (127433, 3) \n",
      "Размер тестовой выборки - (31859, 3)\n"
     ]
    }
   ],
   "source": [
    "train, test = train_test_split(df, test_size=0.2, random_state=12345)\n",
    "print('Размер обучающей выборки -', train.shape, '\\nРазмер тестовой выборки -', test.shape)"
   ]
  },
  {
   "cell_type": "markdown",
   "metadata": {},
   "source": [
    "Разделим учебную и тестовую выборки на признаки и цели"
   ]
  },
  {
   "cell_type": "code",
   "execution_count": 15,
   "metadata": {},
   "outputs": [
    {
     "name": "stdout",
     "output_type": "stream",
     "text": [
      "Размер features_train - (127433, 2) \n",
      "Размер target_train - (127433,) \n",
      "Размер features_test - (31859, 2) \n",
      "Размер target_test - (31859,)\n"
     ]
    }
   ],
   "source": [
    "features_train = train.drop(['toxic'], axis=1)\n",
    "target_train = train['toxic']\n",
    "features_test = test.drop(['toxic'], axis=1)\n",
    "target_test = test['toxic']\n",
    "\n",
    "print('Размер features_train -', features_train.shape, \n",
    "      '\\nРазмер target_train -', target_train.shape,\n",
    "      '\\nРазмер features_test -',features_test.shape, \n",
    "      '\\nРазмер target_test -', target_test.shape)"
   ]
  },
  {
   "cell_type": "markdown",
   "metadata": {},
   "source": [
    "**Вывод**\n",
    "\n",
    "Мы разделили датасет на две выборки:\n",
    "* обучающую, чтобы обучить модели\n",
    "* тестовую, чтобы правильно оценить готовую модель"
   ]
  },
  {
   "cell_type": "markdown",
   "metadata": {},
   "source": [
    "### Мешок слов"
   ]
  },
  {
   "cell_type": "markdown",
   "metadata": {},
   "source": [
    "Сделаем корпуса слов из очищенных стекстов столбца `clear_text` в признаках в обучающей и тестовой выборках"
   ]
  },
  {
   "cell_type": "code",
   "execution_count": 16,
   "metadata": {},
   "outputs": [],
   "source": [
    "corpus = features_train['clear_text'].values\n",
    "corpus_test = features_test['clear_text'].values"
   ]
  },
  {
   "cell_type": "markdown",
   "metadata": {},
   "source": [
    "Удалим стоп-слова для английского языка"
   ]
  },
  {
   "cell_type": "code",
   "execution_count": 17,
   "metadata": {},
   "outputs": [
    {
     "name": "stderr",
     "output_type": "stream",
     "text": [
      "[nltk_data] Downloading package stopwords to\n",
      "[nltk_data]     C:\\Users\\Дмитрий\\AppData\\Roaming\\nltk_data...\n",
      "[nltk_data]   Package stopwords is already up-to-date!\n"
     ]
    }
   ],
   "source": [
    "nltk.download('stopwords')\n",
    "stopwords = set(nltk_stopwords.words('english'))"
   ]
  },
  {
   "cell_type": "markdown",
   "metadata": {},
   "source": [
    "Векторизируем тексты из обучающей и тестовой выборок"
   ]
  },
  {
   "cell_type": "code",
   "execution_count": 18,
   "metadata": {},
   "outputs": [],
   "source": [
    "vectorizerCount = CountVectorizer(stop_words=stopwords)\n",
    "x_train_count = vectorizerCount.fit_transform(corpus)\n",
    "x_test_count = vectorizerCount.transform(corpus_test)"
   ]
  },
  {
   "cell_type": "markdown",
   "metadata": {},
   "source": [
    "### TF-IDF"
   ]
  },
  {
   "cell_type": "markdown",
   "metadata": {},
   "source": [
    "Вычислим TF-IDF тексты из обучающей и тестовой выборок"
   ]
  },
  {
   "cell_type": "code",
   "execution_count": 19,
   "metadata": {},
   "outputs": [],
   "source": [
    "tf_idf = TfidfVectorizer(stop_words=stopwords, ngram_range = (1, 2))\n",
    "x_train_tf_idf = tf_idf.fit_transform(corpus)\n",
    "x_test_tf_idf = tf_idf.transform(corpus_test)"
   ]
  },
  {
   "cell_type": "markdown",
   "metadata": {},
   "source": [
    "## Обучение"
   ]
  },
  {
   "cell_type": "markdown",
   "metadata": {},
   "source": [
    "Напишем функцию для дальнейшей проверки разных моделей"
   ]
  },
  {
   "cell_type": "code",
   "execution_count": 20,
   "metadata": {},
   "outputs": [],
   "source": [
    "result = []\n",
    "def model_train_test(model_type, x_train, x_test):\n",
    "    model = model_type\n",
    "    model.fit(x_train, target_train) \n",
    "    predictions = model.predict(x_test)\n",
    "    result.append(f1_score(target_test, predictions))\n",
    "    return print(classification_report(target_test, predictions), '\\n F1-score =',f1_score(target_test, predictions), '\\n')        "
   ]
  },
  {
   "cell_type": "markdown",
   "metadata": {},
   "source": [
    "### Логистическая регрессия"
   ]
  },
  {
   "cell_type": "markdown",
   "metadata": {},
   "source": [
    "Посмотрим результаты модели на признаках с мешком слов"
   ]
  },
  {
   "cell_type": "code",
   "execution_count": 21,
   "metadata": {},
   "outputs": [
    {
     "name": "stdout",
     "output_type": "stream",
     "text": [
      "              precision    recall  f1-score   support\n",
      "\n",
      "           0       0.97      0.85      0.91     28629\n",
      "           1       0.37      0.81      0.51      3230\n",
      "\n",
      "    accuracy                           0.84     31859\n",
      "   macro avg       0.67      0.83      0.71     31859\n",
      "weighted avg       0.91      0.84      0.87     31859\n",
      " \n",
      " F1-score = 0.5088028169014085 \n",
      "\n",
      "Wall time: 12.8 s\n"
     ]
    },
    {
     "name": "stderr",
     "output_type": "stream",
     "text": [
      "D:\\Anaconda\\lib\\site-packages\\sklearn\\linear_model\\_sag.py:328: ConvergenceWarning: The max_iter was reached which means the coef_ did not converge\n",
      "  warnings.warn(\"The max_iter was reached which means \"\n"
     ]
    }
   ],
   "source": [
    "%%time \n",
    "\n",
    "model_train_test(LogisticRegression(solver=\"saga\", n_jobs=-1, class_weight='balanced'), x_train_count, x_test_count)"
   ]
  },
  {
   "cell_type": "markdown",
   "metadata": {},
   "source": [
    "Посмотрим результаты модели на признаках с TF-IDF"
   ]
  },
  {
   "cell_type": "code",
   "execution_count": 22,
   "metadata": {
    "scrolled": true
   },
   "outputs": [
    {
     "name": "stdout",
     "output_type": "stream",
     "text": [
      "              precision    recall  f1-score   support\n",
      "\n",
      "           0       0.98      0.95      0.97     28629\n",
      "           1       0.67      0.85      0.75      3230\n",
      "\n",
      "    accuracy                           0.94     31859\n",
      "   macro avg       0.83      0.90      0.86     31859\n",
      "weighted avg       0.95      0.94      0.94     31859\n",
      " \n",
      " F1-score = 0.7470997679814384 \n",
      "\n",
      "Wall time: 44.1 s\n"
     ]
    },
    {
     "name": "stderr",
     "output_type": "stream",
     "text": [
      "D:\\Anaconda\\lib\\site-packages\\sklearn\\linear_model\\_sag.py:328: ConvergenceWarning: The max_iter was reached which means the coef_ did not converge\n",
      "  warnings.warn(\"The max_iter was reached which means \"\n"
     ]
    }
   ],
   "source": [
    "%%time\n",
    "\n",
    "model_train_test(LogisticRegression(solver=\"saga\", n_jobs=-1, class_weight='balanced'), x_train_tf_idf, x_test_tf_idf)"
   ]
  },
  {
   "cell_type": "markdown",
   "metadata": {},
   "source": [
    "**Вывод**\n",
    "\n",
    "Лучший показатель Логистической регрессии F1-score = 0.747"
   ]
  },
  {
   "cell_type": "markdown",
   "metadata": {},
   "source": [
    "### Дерево решений"
   ]
  },
  {
   "cell_type": "markdown",
   "metadata": {},
   "source": [
    "Напишем функцию для подбора лучшей глубины дерева"
   ]
  },
  {
   "cell_type": "code",
   "execution_count": 23,
   "metadata": {},
   "outputs": [],
   "source": [
    "def tree(x_train, x_test):\n",
    "    best_model_tree = None\n",
    "    best_result = 0\n",
    "    for i in range(1, 25, 3):\n",
    "        model_tree = DecisionTreeClassifier(max_depth = i)\n",
    "        model_tree.fit(x_train, target_train)\n",
    "        predictions = model_tree.predict(x_test)\n",
    "        result = f1_score(target_test, predictions)\n",
    "        if result > best_result:\n",
    "            best_result = result \n",
    "            best_model_tree = model_tree\n",
    "    \n",
    "    return print(\"F1-score =\", best_result, \"\\nНаилучшая модель с параметрами:\", best_model_tree)"
   ]
  },
  {
   "cell_type": "markdown",
   "metadata": {},
   "source": [
    "Посмотрим на какой глубине дерева оптимально будет работать модель и будет выдавать наилучшее значение F1-score"
   ]
  },
  {
   "cell_type": "code",
   "execution_count": 24,
   "metadata": {},
   "outputs": [
    {
     "name": "stdout",
     "output_type": "stream",
     "text": [
      "F1-score = 0.6562974203338391 \n",
      "Наилучшая модель с параметрами: DecisionTreeClassifier(max_depth=22)\n",
      "Wall time: 26.7 s\n"
     ]
    }
   ],
   "source": [
    "%%time\n",
    "\n",
    "tree(x_train_count, x_test_count)"
   ]
  },
  {
   "cell_type": "code",
   "execution_count": 25,
   "metadata": {},
   "outputs": [
    {
     "name": "stdout",
     "output_type": "stream",
     "text": [
      "F1-score = 0.6655192197360872 \n",
      "Наилучшая модель с параметрами: DecisionTreeClassifier(max_depth=22)\n",
      "Wall time: 5min 15s\n"
     ]
    }
   ],
   "source": [
    "%%time\n",
    "\n",
    "tree(x_train_tf_idf, x_test_tf_idf)"
   ]
  },
  {
   "cell_type": "markdown",
   "metadata": {},
   "source": [
    "**Вывод**\n",
    "\n",
    "Лучший показатель Дерева решений F1-score = 0.665"
   ]
  },
  {
   "cell_type": "markdown",
   "metadata": {},
   "source": [
    "### LightGBM"
   ]
  },
  {
   "cell_type": "markdown",
   "metadata": {},
   "source": [
    "Посмотрим результаты модели на признаках с мешком слов"
   ]
  },
  {
   "cell_type": "code",
   "execution_count": 26,
   "metadata": {},
   "outputs": [
    {
     "name": "stdout",
     "output_type": "stream",
     "text": [
      "              precision    recall  f1-score   support\n",
      "\n",
      "           0       0.96      0.99      0.98     28629\n",
      "           1       0.89      0.63      0.74      3230\n",
      "\n",
      "    accuracy                           0.95     31859\n",
      "   macro avg       0.93      0.81      0.86     31859\n",
      "weighted avg       0.95      0.95      0.95     31859\n",
      " \n",
      " F1-score = 0.7368612474995454 \n",
      "\n",
      "Wall time: 10.7 s\n"
     ]
    }
   ],
   "source": [
    "%%time\n",
    "\n",
    "model_train_test(LGBMClassifier(), x_train_count.astype('float32'), x_test_count.astype('float32'))"
   ]
  },
  {
   "cell_type": "markdown",
   "metadata": {},
   "source": [
    "Посмотрим результаты модели на признаках с TF-IDF"
   ]
  },
  {
   "cell_type": "code",
   "execution_count": 27,
   "metadata": {},
   "outputs": [
    {
     "name": "stdout",
     "output_type": "stream",
     "text": [
      "              precision    recall  f1-score   support\n",
      "\n",
      "           0       0.96      0.99      0.98     28629\n",
      "           1       0.88      0.66      0.76      3230\n",
      "\n",
      "    accuracy                           0.96     31859\n",
      "   macro avg       0.92      0.83      0.87     31859\n",
      "weighted avg       0.95      0.96      0.95     31859\n",
      " \n",
      " F1-score = 0.7563173705601697 \n",
      "\n",
      "Wall time: 1min 10s\n"
     ]
    }
   ],
   "source": [
    "%%time\n",
    "\n",
    "model_train_test(LGBMClassifier(), x_train_tf_idf.astype('float32'), x_test_tf_idf.astype('float32'))"
   ]
  },
  {
   "cell_type": "markdown",
   "metadata": {},
   "source": [
    "**Вывод**\n",
    "\n",
    "Лучший показатель LGBM F1-score = 0.756"
   ]
  },
  {
   "cell_type": "markdown",
   "metadata": {},
   "source": [
    "### CatBoost"
   ]
  },
  {
   "cell_type": "markdown",
   "metadata": {},
   "source": [
    "Посмотрим результаты модели на признаках с мешком слов"
   ]
  },
  {
   "cell_type": "code",
   "execution_count": 28,
   "metadata": {
    "scrolled": false
   },
   "outputs": [
    {
     "name": "stdout",
     "output_type": "stream",
     "text": [
      "Learning rate set to 0.5\n",
      "0:\tlearn: 0.5652124\ttotal: 873ms\tremaining: 42.8s\n",
      "1:\tlearn: 0.5258784\ttotal: 1.62s\tremaining: 38.9s\n",
      "2:\tlearn: 0.4972502\ttotal: 2.37s\tremaining: 37.1s\n",
      "3:\tlearn: 0.4753412\ttotal: 3.1s\tremaining: 35.7s\n",
      "4:\tlearn: 0.4558637\ttotal: 3.83s\tremaining: 34.4s\n",
      "5:\tlearn: 0.4428537\ttotal: 4.54s\tremaining: 33.3s\n",
      "6:\tlearn: 0.4312961\ttotal: 5.27s\tremaining: 32.4s\n",
      "7:\tlearn: 0.4234726\ttotal: 6s\tremaining: 31.5s\n",
      "8:\tlearn: 0.4148625\ttotal: 6.71s\tremaining: 30.6s\n",
      "9:\tlearn: 0.4074721\ttotal: 7.46s\tremaining: 29.9s\n",
      "10:\tlearn: 0.4047467\ttotal: 8.19s\tremaining: 29s\n",
      "11:\tlearn: 0.4000870\ttotal: 8.9s\tremaining: 28.2s\n",
      "12:\tlearn: 0.3960790\ttotal: 9.63s\tremaining: 27.4s\n",
      "13:\tlearn: 0.3916961\ttotal: 10.3s\tremaining: 26.6s\n",
      "14:\tlearn: 0.3885243\ttotal: 11s\tremaining: 25.7s\n",
      "15:\tlearn: 0.3856575\ttotal: 11.8s\tremaining: 25s\n",
      "16:\tlearn: 0.3807267\ttotal: 12.5s\tremaining: 24.2s\n",
      "17:\tlearn: 0.3784751\ttotal: 13.2s\tremaining: 23.5s\n",
      "18:\tlearn: 0.3756470\ttotal: 13.9s\tremaining: 22.7s\n",
      "19:\tlearn: 0.3720004\ttotal: 14.6s\tremaining: 21.9s\n",
      "20:\tlearn: 0.3672063\ttotal: 15.3s\tremaining: 21.2s\n",
      "21:\tlearn: 0.3638598\ttotal: 16.1s\tremaining: 20.5s\n",
      "22:\tlearn: 0.3599428\ttotal: 16.8s\tremaining: 19.8s\n",
      "23:\tlearn: 0.3567563\ttotal: 17.6s\tremaining: 19s\n",
      "24:\tlearn: 0.3536596\ttotal: 18.3s\tremaining: 18.3s\n",
      "25:\tlearn: 0.3490176\ttotal: 19s\tremaining: 17.6s\n",
      "26:\tlearn: 0.3461882\ttotal: 19.7s\tremaining: 16.8s\n",
      "27:\tlearn: 0.3416715\ttotal: 20.4s\tremaining: 16.1s\n",
      "28:\tlearn: 0.3383761\ttotal: 21.2s\tremaining: 15.3s\n",
      "29:\tlearn: 0.3356079\ttotal: 21.9s\tremaining: 14.6s\n",
      "30:\tlearn: 0.3331876\ttotal: 22.6s\tremaining: 13.9s\n",
      "31:\tlearn: 0.3309441\ttotal: 23.3s\tremaining: 13.1s\n",
      "32:\tlearn: 0.3287220\ttotal: 24.1s\tremaining: 12.4s\n",
      "33:\tlearn: 0.3250540\ttotal: 24.8s\tremaining: 11.7s\n",
      "34:\tlearn: 0.3222848\ttotal: 25.5s\tremaining: 10.9s\n",
      "35:\tlearn: 0.3197587\ttotal: 26.2s\tremaining: 10.2s\n",
      "36:\tlearn: 0.3173788\ttotal: 26.9s\tremaining: 9.45s\n",
      "37:\tlearn: 0.3152866\ttotal: 27.6s\tremaining: 8.73s\n",
      "38:\tlearn: 0.3137471\ttotal: 28.4s\tremaining: 8s\n",
      "39:\tlearn: 0.3120307\ttotal: 29.1s\tremaining: 7.27s\n",
      "40:\tlearn: 0.3098300\ttotal: 29.9s\tremaining: 6.56s\n",
      "41:\tlearn: 0.3080707\ttotal: 30.6s\tremaining: 5.83s\n",
      "42:\tlearn: 0.3066216\ttotal: 31.3s\tremaining: 5.1s\n",
      "43:\tlearn: 0.3052598\ttotal: 32.1s\tremaining: 4.37s\n",
      "44:\tlearn: 0.3038667\ttotal: 32.8s\tremaining: 3.64s\n",
      "45:\tlearn: 0.3019696\ttotal: 33.5s\tremaining: 2.91s\n",
      "46:\tlearn: 0.3005577\ttotal: 34.3s\tremaining: 2.19s\n",
      "47:\tlearn: 0.2985536\ttotal: 35.1s\tremaining: 1.46s\n",
      "48:\tlearn: 0.2972338\ttotal: 35.8s\tremaining: 731ms\n",
      "49:\tlearn: 0.2952546\ttotal: 36.6s\tremaining: 0us\n",
      "              precision    recall  f1-score   support\n",
      "\n",
      "           0       0.98      0.95      0.97     28629\n",
      "           1       0.66      0.81      0.73      3230\n",
      "\n",
      "    accuracy                           0.94     31859\n",
      "   macro avg       0.82      0.88      0.85     31859\n",
      "weighted avg       0.95      0.94      0.94     31859\n",
      " \n",
      " F1-score = 0.7268667131891137 \n",
      "\n",
      "Wall time: 50.8 s\n"
     ]
    }
   ],
   "source": [
    "%%time\n",
    "\n",
    "model_train_test(CatBoostClassifier(iterations=50, class_weights = (1, 9)), x_train_count, x_test_count)"
   ]
  },
  {
   "cell_type": "markdown",
   "metadata": {},
   "source": [
    "**Вывод**\n",
    "\n",
    "Лучший показатель  CatBoost F1-score = 0.727"
   ]
  },
  {
   "cell_type": "markdown",
   "metadata": {},
   "source": [
    "## Выводы"
   ]
  },
  {
   "cell_type": "markdown",
   "metadata": {},
   "source": [
    "Результаты исследования  отображены в таблице ниже"
   ]
  },
  {
   "cell_type": "code",
   "execution_count": 29,
   "metadata": {},
   "outputs": [
    {
     "data": {
      "text/html": [
       "<div>\n",
       "<style scoped>\n",
       "    .dataframe tbody tr th:only-of-type {\n",
       "        vertical-align: middle;\n",
       "    }\n",
       "\n",
       "    .dataframe tbody tr th {\n",
       "        vertical-align: top;\n",
       "    }\n",
       "\n",
       "    .dataframe thead th {\n",
       "        text-align: right;\n",
       "    }\n",
       "</style>\n",
       "<table border=\"1\" class=\"dataframe\">\n",
       "  <thead>\n",
       "    <tr style=\"text-align: right;\">\n",
       "      <th></th>\n",
       "      <th>F1-score</th>\n",
       "    </tr>\n",
       "  </thead>\n",
       "  <tbody>\n",
       "    <tr>\n",
       "      <th>Логистическая регрессия с мешком слов</th>\n",
       "      <td>0.508803</td>\n",
       "    </tr>\n",
       "    <tr>\n",
       "      <th>Логистическая регрессия с TF-IDF</th>\n",
       "      <td>0.747100</td>\n",
       "    </tr>\n",
       "    <tr>\n",
       "      <th>LightGBM с мешком слов</th>\n",
       "      <td>0.736861</td>\n",
       "    </tr>\n",
       "    <tr>\n",
       "      <th>LightGBM с TF-IDF</th>\n",
       "      <td>0.756317</td>\n",
       "    </tr>\n",
       "    <tr>\n",
       "      <th>CatBoost с мешком слов</th>\n",
       "      <td>0.726867</td>\n",
       "    </tr>\n",
       "  </tbody>\n",
       "</table>\n",
       "</div>"
      ],
      "text/plain": [
       "                                       F1-score\n",
       "Логистическая регрессия с мешком слов  0.508803\n",
       "Логистическая регрессия с TF-IDF       0.747100\n",
       "LightGBM с мешком слов                 0.736861\n",
       "LightGBM с TF-IDF                      0.756317\n",
       "CatBoost с мешком слов                 0.726867"
      ]
     },
     "execution_count": 29,
     "metadata": {},
     "output_type": "execute_result"
    }
   ],
   "source": [
    "pd.DataFrame(result, \n",
    "             columns=['F1-score'], \n",
    "             index =['Логистическая регрессия с мешком слов', 'Логистическая регрессия с TF-IDF', \n",
    "                     'LightGBM с мешком слов', 'LightGBM с TF-IDF', 'CatBoost с мешком слов'])"
   ]
  },
  {
   "cell_type": "markdown",
   "metadata": {},
   "source": [
    "<br>Наилучшие результаты метрики F1-score получились на длине текстов в 1000 символов. \n",
    "<br>Я провел несколько экспериментов с длиной текстов 5000, 2000, 1000, 500, 300, 220, 200, 190, 180, 150 и 100 символов. \n",
    "<br>У нас наблюдается дисбаланс классов. \n",
    "<br>Модели  пробовал применять с балансом классов и без баланса.\n",
    "<br>Лучший результат модели был достигнут в модели LightGBM с TF-IDF без баланса классов, значение `F1-score = 0.756317`.\n",
    "<br>По ТЗ нужно было достигнуть значения `F1-score = 0.75`.\n",
    "<br>Остальные модели не достигли нужного показателя, как с балансом классов, так и без баланса."
   ]
  }
 ],
 "metadata": {
  "ExecuteTimeLog": [
   {
    "duration": 3317,
    "start_time": "2022-06-12T10:21:19.828Z"
   },
   {
    "duration": 5,
    "start_time": "2022-06-12T10:22:25.225Z"
   },
   {
    "duration": 533,
    "start_time": "2022-06-12T10:24:26.172Z"
   },
   {
    "duration": 6,
    "start_time": "2022-06-12T10:24:28.392Z"
   },
   {
    "duration": 2383,
    "start_time": "2022-06-12T10:25:15.784Z"
   },
   {
    "duration": 681,
    "start_time": "2022-06-12T10:26:17.929Z"
   },
   {
    "duration": 3427,
    "start_time": "2022-06-12T10:28:30.069Z"
   },
   {
    "duration": 4,
    "start_time": "2022-06-12T10:28:33.498Z"
   },
   {
    "duration": 789,
    "start_time": "2022-06-12T10:28:34.817Z"
   },
   {
    "duration": 468,
    "start_time": "2022-06-12T10:28:36.354Z"
   },
   {
    "duration": 3411,
    "start_time": "2022-06-13T07:27:36.207Z"
   },
   {
    "duration": 35,
    "start_time": "2022-06-13T07:27:58.130Z"
   },
   {
    "duration": 22,
    "start_time": "2022-06-13T09:42:50.594Z"
   },
   {
    "duration": 20,
    "start_time": "2022-06-13T12:12:32.647Z"
   },
   {
    "duration": 4,
    "start_time": "2022-06-13T12:12:49.730Z"
   },
   {
    "duration": 7,
    "start_time": "2022-06-13T12:12:49.736Z"
   },
   {
    "duration": 2537,
    "start_time": "2022-06-13T12:12:49.744Z"
   },
   {
    "duration": 305,
    "start_time": "2022-06-13T12:12:52.283Z"
   },
   {
    "duration": 31,
    "start_time": "2022-06-13T12:12:52.589Z"
   },
   {
    "duration": 3,
    "start_time": "2022-06-13T12:14:36.676Z"
   },
   {
    "duration": 3,
    "start_time": "2022-06-13T12:17:44.271Z"
   },
   {
    "duration": 37,
    "start_time": "2022-06-13T12:22:20.069Z"
   },
   {
    "duration": 33,
    "start_time": "2022-06-13T12:22:27.591Z"
   },
   {
    "duration": 41,
    "start_time": "2022-06-13T12:22:32.134Z"
   },
   {
    "duration": 3,
    "start_time": "2022-06-13T12:22:32.935Z"
   },
   {
    "duration": 3,
    "start_time": "2022-06-13T12:22:33.976Z"
   },
   {
    "duration": 15,
    "start_time": "2022-06-13T12:24:31.229Z"
   },
   {
    "duration": 23,
    "start_time": "2022-06-13T12:24:43.885Z"
   },
   {
    "duration": 3,
    "start_time": "2022-06-13T12:29:03.706Z"
   },
   {
    "duration": 21,
    "start_time": "2022-06-13T12:29:05.075Z"
   },
   {
    "duration": 23,
    "start_time": "2022-06-13T12:30:20.290Z"
   },
   {
    "duration": 3344,
    "start_time": "2022-06-13T12:32:03.805Z"
   },
   {
    "duration": 6,
    "start_time": "2022-06-13T12:32:09.797Z"
   },
   {
    "duration": 923,
    "start_time": "2022-06-13T12:32:12.664Z"
   },
   {
    "duration": 292,
    "start_time": "2022-06-13T12:32:14.177Z"
   },
   {
    "duration": 1874,
    "start_time": "2022-06-13T12:32:22.713Z"
   },
   {
    "duration": 4,
    "start_time": "2022-06-13T12:32:36.786Z"
   },
   {
    "duration": 3,
    "start_time": "2022-06-13T12:32:46.521Z"
   },
   {
    "duration": 3,
    "start_time": "2022-06-13T12:32:59.017Z"
   },
   {
    "duration": 328,
    "start_time": "2022-06-13T12:33:01.855Z"
   },
   {
    "duration": 4,
    "start_time": "2022-06-13T12:46:36.479Z"
   },
   {
    "duration": 17,
    "start_time": "2022-06-13T12:59:30.695Z"
   },
   {
    "duration": 16,
    "start_time": "2022-06-13T13:00:00.095Z"
   },
   {
    "duration": 18,
    "start_time": "2022-06-13T13:01:33.248Z"
   },
   {
    "duration": 6865,
    "start_time": "2022-06-13T13:02:01.078Z"
   },
   {
    "duration": 5,
    "start_time": "2022-06-13T13:02:11.482Z"
   },
   {
    "duration": 2365,
    "start_time": "2022-06-13T13:02:12.467Z"
   },
   {
    "duration": 301,
    "start_time": "2022-06-13T13:02:22.962Z"
   },
   {
    "duration": 1872,
    "start_time": "2022-06-13T13:02:28.338Z"
   },
   {
    "duration": 3,
    "start_time": "2022-06-13T13:02:42.698Z"
   },
   {
    "duration": 3,
    "start_time": "2022-06-13T13:02:45.298Z"
   },
   {
    "duration": 277,
    "start_time": "2022-06-13T13:02:47.778Z"
   },
   {
    "duration": 3164,
    "start_time": "2022-06-13T13:03:30.673Z"
   },
   {
    "duration": 4,
    "start_time": "2022-06-13T13:03:33.839Z"
   },
   {
    "duration": 904,
    "start_time": "2022-06-13T13:03:33.845Z"
   },
   {
    "duration": 314,
    "start_time": "2022-06-13T13:03:34.751Z"
   },
   {
    "duration": 4,
    "start_time": "2022-06-13T13:04:07.130Z"
   },
   {
    "duration": 299848,
    "start_time": "2022-06-13T13:04:10.171Z"
   },
   {
    "duration": 3,
    "start_time": "2022-06-13T13:09:53.819Z"
   },
   {
    "duration": 704,
    "start_time": "2022-06-13T13:18:32.575Z"
   },
   {
    "duration": 3,
    "start_time": "2022-06-13T13:19:37.485Z"
   },
   {
    "duration": 734,
    "start_time": "2022-06-13T13:19:38.149Z"
   },
   {
    "duration": 4,
    "start_time": "2022-06-13T13:26:20.640Z"
   },
   {
    "duration": 11,
    "start_time": "2022-06-13T13:26:20.646Z"
   },
   {
    "duration": 767,
    "start_time": "2022-06-13T13:26:20.658Z"
   },
   {
    "duration": 302,
    "start_time": "2022-06-13T13:26:21.427Z"
   },
   {
    "duration": 3,
    "start_time": "2022-06-13T13:26:21.730Z"
   },
   {
    "duration": 19,
    "start_time": "2022-06-13T13:26:21.734Z"
   },
   {
    "duration": 20,
    "start_time": "2022-06-13T13:26:21.754Z"
   },
   {
    "duration": 253916,
    "start_time": "2022-06-13T13:26:38.685Z"
   },
   {
    "duration": 4,
    "start_time": "2022-06-13T13:40:42.006Z"
   },
   {
    "duration": 13,
    "start_time": "2022-06-13T13:40:42.012Z"
   },
   {
    "duration": 786,
    "start_time": "2022-06-13T13:40:42.027Z"
   },
   {
    "duration": 311,
    "start_time": "2022-06-13T13:40:42.815Z"
   },
   {
    "duration": 2,
    "start_time": "2022-06-13T13:40:43.128Z"
   },
   {
    "duration": 7,
    "start_time": "2022-06-13T13:40:43.132Z"
   },
   {
    "duration": 75116,
    "start_time": "2022-06-13T13:40:43.140Z"
   },
   {
    "duration": 3,
    "start_time": "2022-06-13T13:45:14.678Z"
   },
   {
    "duration": 16,
    "start_time": "2022-06-13T13:45:14.683Z"
   },
   {
    "duration": 770,
    "start_time": "2022-06-13T13:45:14.700Z"
   },
   {
    "duration": 311,
    "start_time": "2022-06-13T13:45:15.472Z"
   },
   {
    "duration": 2,
    "start_time": "2022-06-13T13:45:15.785Z"
   },
   {
    "duration": 13,
    "start_time": "2022-06-13T13:45:15.788Z"
   },
   {
    "duration": 3079,
    "start_time": "2022-06-13T13:52:39.146Z"
   },
   {
    "duration": 6,
    "start_time": "2022-06-13T13:52:44.829Z"
   },
   {
    "duration": 912,
    "start_time": "2022-06-13T13:52:46.109Z"
   },
   {
    "duration": 291,
    "start_time": "2022-06-13T13:52:47.581Z"
   },
   {
    "duration": 59,
    "start_time": "2022-06-13T13:55:18.341Z"
   },
   {
    "duration": 3,
    "start_time": "2022-06-13T13:55:50.597Z"
   },
   {
    "duration": 311,
    "start_time": "2022-06-13T14:00:21.116Z"
   },
   {
    "duration": 1363314,
    "start_time": "2022-06-13T14:01:14.070Z"
   },
   {
    "duration": 3176,
    "start_time": "2022-06-13T14:33:10.964Z"
   },
   {
    "duration": 4,
    "start_time": "2022-06-13T14:33:14.142Z"
   },
   {
    "duration": 921,
    "start_time": "2022-06-13T14:33:14.148Z"
   },
   {
    "duration": 309,
    "start_time": "2022-06-13T14:33:15.071Z"
   },
   {
    "duration": 58,
    "start_time": "2022-06-13T14:33:15.381Z"
   },
   {
    "duration": 23,
    "start_time": "2022-06-13T14:33:15.441Z"
   },
   {
    "duration": 50999933,
    "start_time": "2022-06-13T14:33:15.465Z"
   },
   {
    "duration": 3476,
    "start_time": "2022-06-15T21:35:30.102Z"
   },
   {
    "duration": 4,
    "start_time": "2022-06-15T21:35:33.582Z"
   },
   {
    "duration": 2420,
    "start_time": "2022-06-15T21:35:33.588Z"
   },
   {
    "duration": 311,
    "start_time": "2022-06-15T21:35:36.010Z"
   },
   {
    "duration": 60,
    "start_time": "2022-06-15T21:35:36.323Z"
   },
   {
    "duration": 3,
    "start_time": "2022-06-15T21:35:36.395Z"
   },
   {
    "duration": 158,
    "start_time": "2022-06-15T21:35:36.399Z"
   },
   {
    "duration": 7,
    "start_time": "2022-06-15T21:35:49.527Z"
   },
   {
    "duration": 220,
    "start_time": "2022-06-15T21:36:26.446Z"
   },
   {
    "duration": 3,
    "start_time": "2022-06-15T21:37:33.845Z"
   },
   {
    "duration": 4,
    "start_time": "2022-06-15T21:37:48.911Z"
   },
   {
    "duration": 4,
    "start_time": "2022-06-15T21:37:56.975Z"
   },
   {
    "duration": 4,
    "start_time": "2022-06-15T21:38:04.917Z"
   },
   {
    "duration": 140,
    "start_time": "2022-06-15T21:38:43.429Z"
   },
   {
    "duration": 4,
    "start_time": "2022-06-15T21:38:46.605Z"
   },
   {
    "duration": 4,
    "start_time": "2022-06-15T21:38:57.197Z"
   },
   {
    "duration": 4,
    "start_time": "2022-06-15T21:39:12.549Z"
   },
   {
    "duration": 3303,
    "start_time": "2022-06-15T21:39:43.077Z"
   },
   {
    "duration": 5,
    "start_time": "2022-06-15T21:39:46.383Z"
   },
   {
    "duration": 908,
    "start_time": "2022-06-15T21:39:46.395Z"
   },
   {
    "duration": 324,
    "start_time": "2022-06-15T21:39:47.305Z"
   },
   {
    "duration": 71,
    "start_time": "2022-06-15T21:39:47.631Z"
   },
   {
    "duration": 5,
    "start_time": "2022-06-15T21:39:47.704Z"
   },
   {
    "duration": 153,
    "start_time": "2022-06-15T21:39:47.711Z"
   },
   {
    "duration": 291826,
    "start_time": "2022-06-15T21:39:47.869Z"
   },
   {
    "duration": 47,
    "start_time": "2022-06-15T21:44:39.697Z"
   },
   {
    "duration": 13,
    "start_time": "2022-06-15T21:44:39.746Z"
   },
   {
    "duration": 3348,
    "start_time": "2022-06-15T21:44:57.280Z"
   },
   {
    "duration": 4,
    "start_time": "2022-06-15T21:45:00.631Z"
   },
   {
    "duration": 955,
    "start_time": "2022-06-15T21:45:00.637Z"
   },
   {
    "duration": 367,
    "start_time": "2022-06-15T21:45:01.595Z"
   },
   {
    "duration": 78,
    "start_time": "2022-06-15T21:45:01.964Z"
   },
   {
    "duration": 52,
    "start_time": "2022-06-15T21:45:02.044Z"
   },
   {
    "duration": 161,
    "start_time": "2022-06-15T21:45:02.099Z"
   },
   {
    "duration": 494632,
    "start_time": "2022-06-15T21:45:02.262Z"
   },
   {
    "duration": 28,
    "start_time": "2022-06-15T21:53:16.896Z"
   },
   {
    "duration": 14,
    "start_time": "2022-06-15T21:53:16.927Z"
   },
   {
    "duration": 5,
    "start_time": "2022-06-15T21:54:09.940Z"
   },
   {
    "duration": 12,
    "start_time": "2022-06-15T21:54:09.947Z"
   },
   {
    "duration": 786,
    "start_time": "2022-06-15T21:54:09.960Z"
   },
   {
    "duration": 292,
    "start_time": "2022-06-15T21:54:10.748Z"
   },
   {
    "duration": 74,
    "start_time": "2022-06-15T21:54:11.043Z"
   },
   {
    "duration": 12,
    "start_time": "2022-06-15T21:54:11.119Z"
   },
   {
    "duration": 157,
    "start_time": "2022-06-15T21:54:11.133Z"
   },
   {
    "duration": 4,
    "start_time": "2022-06-15T21:54:11.294Z"
   },
   {
    "duration": 11,
    "start_time": "2022-06-15T21:54:20.024Z"
   },
   {
    "duration": 106147,
    "start_time": "2022-06-15T21:54:38.504Z"
   },
   {
    "duration": 6,
    "start_time": "2022-06-15T21:56:28.779Z"
   },
   {
    "duration": 9,
    "start_time": "2022-06-15T21:56:28.787Z"
   },
   {
    "duration": 953,
    "start_time": "2022-06-15T21:56:28.798Z"
   },
   {
    "duration": 357,
    "start_time": "2022-06-15T21:56:29.754Z"
   },
   {
    "duration": 71,
    "start_time": "2022-06-15T21:56:30.114Z"
   },
   {
    "duration": 20,
    "start_time": "2022-06-15T21:56:30.187Z"
   },
   {
    "duration": 188,
    "start_time": "2022-06-15T21:56:30.209Z"
   },
   {
    "duration": 6,
    "start_time": "2022-06-15T21:56:30.399Z"
   },
   {
    "duration": 18,
    "start_time": "2022-06-15T21:56:30.407Z"
   },
   {
    "duration": 37440,
    "start_time": "2022-06-15T21:56:30.428Z"
   },
   {
    "duration": 63,
    "start_time": "2022-06-15T21:57:07.870Z"
   },
   {
    "duration": 25,
    "start_time": "2022-06-15T21:57:07.935Z"
   },
   {
    "duration": 6,
    "start_time": "2022-06-15T21:57:33.183Z"
   },
   {
    "duration": 427,
    "start_time": "2022-06-15T21:59:13.327Z"
   },
   {
    "duration": 6,
    "start_time": "2022-06-15T22:02:29.552Z"
   },
   {
    "duration": 4,
    "start_time": "2022-06-15T22:02:39.735Z"
   },
   {
    "duration": 3303,
    "start_time": "2022-06-16T09:09:22.613Z"
   },
   {
    "duration": 4,
    "start_time": "2022-06-16T09:09:25.919Z"
   },
   {
    "duration": 2320,
    "start_time": "2022-06-16T09:09:25.925Z"
   },
   {
    "duration": 321,
    "start_time": "2022-06-16T09:09:28.247Z"
   },
   {
    "duration": 61,
    "start_time": "2022-06-16T09:09:28.570Z"
   },
   {
    "duration": 3,
    "start_time": "2022-06-16T09:09:28.633Z"
   },
   {
    "duration": 150,
    "start_time": "2022-06-16T09:09:28.638Z"
   },
   {
    "duration": 8,
    "start_time": "2022-06-16T09:12:26.284Z"
   },
   {
    "duration": 53,
    "start_time": "2022-06-16T09:12:33.580Z"
   },
   {
    "duration": 291,
    "start_time": "2022-06-16T09:17:56.132Z"
   },
   {
    "duration": 27,
    "start_time": "2022-06-16T10:08:39.392Z"
   },
   {
    "duration": 76,
    "start_time": "2022-06-16T10:09:32.205Z"
   },
   {
    "duration": 18,
    "start_time": "2022-06-16T10:09:47.310Z"
   },
   {
    "duration": 14,
    "start_time": "2022-06-16T10:15:32.722Z"
   },
   {
    "duration": 4,
    "start_time": "2022-06-16T10:16:36.767Z"
   },
   {
    "duration": 117,
    "start_time": "2022-06-16T10:22:31.162Z"
   },
   {
    "duration": 1134,
    "start_time": "2022-06-16T10:22:42.460Z"
   },
   {
    "duration": 1051,
    "start_time": "2022-06-16T10:23:41.774Z"
   },
   {
    "duration": 74,
    "start_time": "2022-06-16T10:23:42.828Z"
   },
   {
    "duration": 925,
    "start_time": "2022-06-16T10:24:38.159Z"
   },
   {
    "duration": 839,
    "start_time": "2022-06-16T10:25:17.560Z"
   },
   {
    "duration": 827,
    "start_time": "2022-06-16T10:25:28.192Z"
   },
   {
    "duration": 801,
    "start_time": "2022-06-16T10:33:49.464Z"
   },
   {
    "duration": 776,
    "start_time": "2022-06-16T10:34:06.890Z"
   },
   {
    "duration": 3728,
    "start_time": "2022-06-16T15:43:00.721Z"
   },
   {
    "duration": 5,
    "start_time": "2022-06-16T15:43:04.452Z"
   },
   {
    "duration": 3597,
    "start_time": "2022-06-16T15:43:04.458Z"
   },
   {
    "duration": 340,
    "start_time": "2022-06-16T15:43:08.057Z"
   },
   {
    "duration": 75,
    "start_time": "2022-06-16T15:43:08.401Z"
   },
   {
    "duration": 9,
    "start_time": "2022-06-16T15:43:08.478Z"
   },
   {
    "duration": 165,
    "start_time": "2022-06-16T15:43:08.489Z"
   },
   {
    "duration": 9,
    "start_time": "2022-06-16T15:43:08.659Z"
   },
   {
    "duration": 6,
    "start_time": "2022-06-16T15:43:08.670Z"
   },
   {
    "duration": 137,
    "start_time": "2022-06-16T15:43:08.678Z"
   },
   {
    "duration": 920,
    "start_time": "2022-06-16T15:43:08.818Z"
   },
   {
    "duration": 858,
    "start_time": "2022-06-16T15:43:09.741Z"
   },
   {
    "duration": 3417,
    "start_time": "2022-06-17T13:29:33.194Z"
   },
   {
    "duration": 5,
    "start_time": "2022-06-17T13:29:36.614Z"
   },
   {
    "duration": 3507,
    "start_time": "2022-06-17T13:29:36.621Z"
   },
   {
    "duration": 319,
    "start_time": "2022-06-17T13:29:40.129Z"
   },
   {
    "duration": 64,
    "start_time": "2022-06-17T13:29:40.450Z"
   },
   {
    "duration": 145,
    "start_time": "2022-06-17T13:30:58.596Z"
   },
   {
    "duration": 9,
    "start_time": "2022-06-17T13:31:01.146Z"
   },
   {
    "duration": 3,
    "start_time": "2022-06-17T13:31:03.680Z"
   },
   {
    "duration": 121,
    "start_time": "2022-06-17T13:31:04.543Z"
   },
   {
    "duration": 882,
    "start_time": "2022-06-17T13:31:06.180Z"
   },
   {
    "duration": 849,
    "start_time": "2022-06-17T13:31:17.736Z"
   },
   {
    "duration": 802,
    "start_time": "2022-06-17T13:31:25.696Z"
   },
   {
    "duration": 4,
    "start_time": "2022-06-17T13:34:45.727Z"
   },
   {
    "duration": 3533,
    "start_time": "2022-06-17T13:35:17.551Z"
   },
   {
    "duration": 4,
    "start_time": "2022-06-17T13:35:21.087Z"
   },
   {
    "duration": 979,
    "start_time": "2022-06-17T13:35:21.093Z"
   },
   {
    "duration": 333,
    "start_time": "2022-06-17T13:35:22.075Z"
   },
   {
    "duration": 63,
    "start_time": "2022-06-17T13:35:22.410Z"
   },
   {
    "duration": 3,
    "start_time": "2022-06-17T13:37:22.443Z"
   },
   {
    "duration": 151,
    "start_time": "2022-06-17T13:37:26.443Z"
   },
   {
    "duration": 1706,
    "start_time": "2022-06-17T13:38:26.966Z"
   },
   {
    "duration": 6,
    "start_time": "2022-06-17T13:38:45.972Z"
   },
   {
    "duration": 4,
    "start_time": "2022-06-17T14:13:32.695Z"
   },
   {
    "duration": 3,
    "start_time": "2022-06-17T14:13:43.500Z"
   },
   {
    "duration": 36,
    "start_time": "2022-06-17T14:20:37.403Z"
   },
   {
    "duration": 14,
    "start_time": "2022-06-17T14:20:38.895Z"
   },
   {
    "duration": 5,
    "start_time": "2022-06-17T14:30:52.835Z"
   },
   {
    "duration": 4,
    "start_time": "2022-06-17T14:31:20.986Z"
   },
   {
    "duration": 11,
    "start_time": "2022-06-17T14:32:24.627Z"
   },
   {
    "duration": 5,
    "start_time": "2022-06-17T14:34:04.011Z"
   },
   {
    "duration": 6,
    "start_time": "2022-06-17T14:34:25.482Z"
   },
   {
    "duration": 6480,
    "start_time": "2022-06-17T17:00:35.931Z"
   },
   {
    "duration": 9,
    "start_time": "2022-06-17T17:00:46.715Z"
   },
   {
    "duration": 2377,
    "start_time": "2022-06-17T17:00:49.264Z"
   },
   {
    "duration": 327,
    "start_time": "2022-06-17T17:00:51.643Z"
   },
   {
    "duration": 63,
    "start_time": "2022-06-17T17:00:58.743Z"
   },
   {
    "duration": 3601,
    "start_time": "2022-06-17T17:02:32.933Z"
   },
   {
    "duration": 6,
    "start_time": "2022-06-17T17:02:36.539Z"
   },
   {
    "duration": 1080,
    "start_time": "2022-06-17T17:02:36.547Z"
   },
   {
    "duration": 335,
    "start_time": "2022-06-17T17:02:37.630Z"
   },
   {
    "duration": 85,
    "start_time": "2022-06-17T17:02:37.967Z"
   },
   {
    "duration": 20,
    "start_time": "2022-06-17T17:02:38.054Z"
   },
   {
    "duration": 220,
    "start_time": "2022-06-17T17:02:38.076Z"
   },
   {
    "duration": 1574,
    "start_time": "2022-06-17T17:02:41.103Z"
   },
   {
    "duration": 4,
    "start_time": "2022-06-17T17:07:39.608Z"
   },
   {
    "duration": 4,
    "start_time": "2022-06-17T17:07:42.085Z"
   },
   {
    "duration": 795,
    "start_time": "2022-06-17T17:07:44.876Z"
   },
   {
    "duration": 349,
    "start_time": "2022-06-17T17:07:46.285Z"
   },
   {
    "duration": 87,
    "start_time": "2022-06-17T17:07:53.901Z"
   },
   {
    "duration": 8,
    "start_time": "2022-06-17T17:07:56.036Z"
   },
   {
    "duration": 145,
    "start_time": "2022-06-17T17:08:16.743Z"
   },
   {
    "duration": 1584,
    "start_time": "2022-06-17T17:08:28.120Z"
   },
   {
    "duration": 260,
    "start_time": "2022-06-17T17:08:52.420Z"
   },
   {
    "duration": 4,
    "start_time": "2022-06-17T17:09:15.524Z"
   },
   {
    "duration": 4,
    "start_time": "2022-06-17T17:13:36.293Z"
   },
   {
    "duration": 692,
    "start_time": "2022-06-17T17:14:00.620Z"
   },
   {
    "duration": 20,
    "start_time": "2022-06-17T17:14:09.249Z"
   },
   {
    "duration": 5,
    "start_time": "2022-06-17T17:14:18.307Z"
   },
   {
    "duration": 13,
    "start_time": "2022-06-17T17:15:00.484Z"
   },
   {
    "duration": 1061,
    "start_time": "2022-06-17T17:16:17.316Z"
   },
   {
    "duration": 9,
    "start_time": "2022-06-17T17:16:24.924Z"
   },
   {
    "duration": 50679,
    "start_time": "2022-06-17T17:16:29.748Z"
   },
   {
    "duration": 4,
    "start_time": "2022-06-17T17:17:36.563Z"
   },
   {
    "duration": 145,
    "start_time": "2022-06-17T17:17:39.137Z"
   },
   {
    "duration": 988,
    "start_time": "2022-06-17T17:17:39.956Z"
   },
   {
    "duration": 722,
    "start_time": "2022-06-17T17:17:44.133Z"
   },
   {
    "duration": 91,
    "start_time": "2022-06-17T17:20:38.764Z"
   },
   {
    "duration": 14,
    "start_time": "2022-06-17T17:20:48.545Z"
   },
   {
    "duration": 3,
    "start_time": "2022-06-17T17:20:54.477Z"
   },
   {
    "duration": 8,
    "start_time": "2022-06-17T17:21:00.556Z"
   },
   {
    "duration": 9,
    "start_time": "2022-06-17T17:28:08.556Z"
   },
   {
    "duration": 3,
    "start_time": "2022-06-17T17:28:20.708Z"
   },
   {
    "duration": 3,
    "start_time": "2022-06-17T17:29:51.309Z"
   },
   {
    "duration": 41,
    "start_time": "2022-06-17T17:31:00.019Z"
   },
   {
    "duration": 7,
    "start_time": "2022-06-17T17:36:59.772Z"
   },
   {
    "duration": 239,
    "start_time": "2022-06-17T17:37:11.247Z"
   },
   {
    "duration": 250,
    "start_time": "2022-06-17T17:37:39.364Z"
   },
   {
    "duration": 23,
    "start_time": "2022-06-17T17:37:48.180Z"
   },
   {
    "duration": 3,
    "start_time": "2022-06-17T17:38:06.116Z"
   },
   {
    "duration": 21,
    "start_time": "2022-06-17T17:38:08.539Z"
   },
   {
    "duration": 4,
    "start_time": "2022-06-17T17:40:20.187Z"
   },
   {
    "duration": 9,
    "start_time": "2022-06-17T17:41:21.252Z"
   },
   {
    "duration": 72,
    "start_time": "2022-06-17T17:41:43.811Z"
   },
   {
    "duration": 3489,
    "start_time": "2022-06-17T18:23:56.656Z"
   },
   {
    "duration": 5,
    "start_time": "2022-06-17T18:24:00.149Z"
   },
   {
    "duration": 1046,
    "start_time": "2022-06-17T18:24:00.155Z"
   },
   {
    "duration": 392,
    "start_time": "2022-06-17T18:24:01.203Z"
   },
   {
    "duration": 73,
    "start_time": "2022-06-17T18:24:01.597Z"
   },
   {
    "duration": 7,
    "start_time": "2022-06-17T18:24:01.671Z"
   },
   {
    "duration": 197,
    "start_time": "2022-06-17T18:24:01.680Z"
   },
   {
    "duration": 1530,
    "start_time": "2022-06-17T18:24:01.879Z"
   },
   {
    "duration": 3,
    "start_time": "2022-06-17T18:24:03.411Z"
   },
   {
    "duration": 10,
    "start_time": "2022-06-17T18:24:03.416Z"
   },
   {
    "duration": 20,
    "start_time": "2022-06-17T18:24:03.429Z"
   },
   {
    "duration": 9,
    "start_time": "2022-06-17T18:24:03.451Z"
   },
   {
    "duration": 9,
    "start_time": "2022-06-17T18:24:03.462Z"
   },
   {
    "duration": 5,
    "start_time": "2022-06-17T18:24:03.473Z"
   },
   {
    "duration": 59,
    "start_time": "2022-06-17T18:24:03.480Z"
   },
   {
    "duration": 18,
    "start_time": "2022-06-17T18:24:03.541Z"
   },
   {
    "duration": 5,
    "start_time": "2022-06-17T18:29:34.667Z"
   },
   {
    "duration": 3827,
    "start_time": "2022-06-17T18:29:46.489Z"
   },
   {
    "duration": 8,
    "start_time": "2022-06-17T18:29:50.319Z"
   },
   {
    "duration": 1125,
    "start_time": "2022-06-17T18:29:52.326Z"
   },
   {
    "duration": 363,
    "start_time": "2022-06-17T18:29:53.454Z"
   },
   {
    "duration": 71,
    "start_time": "2022-06-17T18:29:59.846Z"
   },
   {
    "duration": 3,
    "start_time": "2022-06-17T18:30:03.582Z"
   },
   {
    "duration": 173,
    "start_time": "2022-06-17T18:30:06.701Z"
   },
   {
    "duration": 1654,
    "start_time": "2022-06-17T18:30:24.253Z"
   },
   {
    "duration": 6,
    "start_time": "2022-06-17T18:30:32.845Z"
   },
   {
    "duration": 4,
    "start_time": "2022-06-17T18:30:34.508Z"
   },
   {
    "duration": 3,
    "start_time": "2022-06-17T18:30:35.197Z"
   },
   {
    "duration": 3,
    "start_time": "2022-06-17T18:30:35.557Z"
   },
   {
    "duration": 7,
    "start_time": "2022-06-17T18:30:38.943Z"
   },
   {
    "duration": 2,
    "start_time": "2022-06-17T18:30:39.254Z"
   },
   {
    "duration": 54,
    "start_time": "2022-06-17T18:33:53.814Z"
   },
   {
    "duration": 16,
    "start_time": "2022-06-17T18:33:55.330Z"
   },
   {
    "duration": 10,
    "start_time": "2022-06-17T18:34:03.891Z"
   },
   {
    "duration": 6,
    "start_time": "2022-06-17T18:34:53.445Z"
   },
   {
    "duration": 330,
    "start_time": "2022-06-17T18:36:44.321Z"
   },
   {
    "duration": 15,
    "start_time": "2022-06-17T18:37:14.266Z"
   },
   {
    "duration": 4,
    "start_time": "2022-06-17T18:37:24.273Z"
   },
   {
    "duration": 3,
    "start_time": "2022-06-17T18:37:31.401Z"
   },
   {
    "duration": 4897,
    "start_time": "2022-06-17T18:37:52.545Z"
   },
   {
    "duration": 3,
    "start_time": "2022-06-17T18:38:10.607Z"
   },
   {
    "duration": 16239,
    "start_time": "2022-06-17T18:38:16.769Z"
   },
   {
    "duration": 975,
    "start_time": "2022-06-17T20:21:35.814Z"
   },
   {
    "duration": 8,
    "start_time": "2022-06-17T20:22:48.316Z"
   },
   {
    "duration": 36,
    "start_time": "2022-06-17T20:23:58.957Z"
   },
   {
    "duration": 3516,
    "start_time": "2022-06-17T20:31:36.165Z"
   },
   {
    "duration": 4,
    "start_time": "2022-06-17T20:31:39.684Z"
   },
   {
    "duration": 945,
    "start_time": "2022-06-17T20:31:39.689Z"
   },
   {
    "duration": 339,
    "start_time": "2022-06-17T20:31:40.636Z"
   },
   {
    "duration": 62,
    "start_time": "2022-06-17T20:31:40.978Z"
   },
   {
    "duration": 11,
    "start_time": "2022-06-17T20:31:41.043Z"
   },
   {
    "duration": 161,
    "start_time": "2022-06-17T20:31:41.056Z"
   },
   {
    "duration": 1372,
    "start_time": "2022-06-17T20:31:41.219Z"
   },
   {
    "duration": 2,
    "start_time": "2022-06-17T20:31:42.593Z"
   },
   {
    "duration": 7,
    "start_time": "2022-06-17T20:31:42.597Z"
   },
   {
    "duration": 5,
    "start_time": "2022-06-17T20:31:42.606Z"
   },
   {
    "duration": 7,
    "start_time": "2022-06-17T20:31:42.612Z"
   },
   {
    "duration": 2,
    "start_time": "2022-06-17T20:31:42.626Z"
   },
   {
    "duration": 18,
    "start_time": "2022-06-17T20:31:42.632Z"
   },
   {
    "duration": 64,
    "start_time": "2022-06-17T20:31:42.652Z"
   },
   {
    "duration": 18,
    "start_time": "2022-06-17T20:31:42.718Z"
   },
   {
    "duration": 287,
    "start_time": "2022-06-17T20:31:42.738Z"
   },
   {
    "duration": 3,
    "start_time": "2022-06-17T20:31:43.027Z"
   },
   {
    "duration": 4371,
    "start_time": "2022-06-17T20:31:43.032Z"
   },
   {
    "duration": 4,
    "start_time": "2022-06-17T20:31:47.405Z"
   },
   {
    "duration": 10,
    "start_time": "2022-06-17T20:31:47.410Z"
   },
   {
    "duration": 15482,
    "start_time": "2022-06-17T20:31:47.425Z"
   },
   {
    "duration": 990,
    "start_time": "2022-06-17T20:32:02.909Z"
   },
   {
    "duration": 8,
    "start_time": "2022-06-17T20:32:03.901Z"
   },
   {
    "duration": 51,
    "start_time": "2022-06-17T20:32:03.911Z"
   },
   {
    "duration": 3,
    "start_time": "2022-06-17T20:35:34.068Z"
   },
   {
    "duration": 45,
    "start_time": "2022-06-17T20:40:53.406Z"
   },
   {
    "duration": 271,
    "start_time": "2022-06-17T20:42:10.559Z"
   },
   {
    "duration": 4,
    "start_time": "2022-06-17T20:43:03.686Z"
   },
   {
    "duration": 4,
    "start_time": "2022-06-17T20:43:09.243Z"
   },
   {
    "duration": 3171,
    "start_time": "2022-06-17T20:43:17.464Z"
   },
   {
    "duration": 4,
    "start_time": "2022-06-17T20:43:20.639Z"
   },
   {
    "duration": 909,
    "start_time": "2022-06-17T20:43:20.644Z"
   },
   {
    "duration": 309,
    "start_time": "2022-06-17T20:43:21.556Z"
   },
   {
    "duration": 65,
    "start_time": "2022-06-17T20:43:21.867Z"
   },
   {
    "duration": 3,
    "start_time": "2022-06-17T20:43:21.934Z"
   },
   {
    "duration": 147,
    "start_time": "2022-06-17T20:43:21.939Z"
   },
   {
    "duration": 1323,
    "start_time": "2022-06-17T20:43:22.088Z"
   },
   {
    "duration": 2,
    "start_time": "2022-06-17T20:43:23.413Z"
   },
   {
    "duration": 7,
    "start_time": "2022-06-17T20:43:23.425Z"
   },
   {
    "duration": 12,
    "start_time": "2022-06-17T20:43:23.433Z"
   },
   {
    "duration": 7,
    "start_time": "2022-06-17T20:43:23.447Z"
   },
   {
    "duration": 5,
    "start_time": "2022-06-17T20:43:23.455Z"
   },
   {
    "duration": 21,
    "start_time": "2022-06-17T20:43:23.462Z"
   },
   {
    "duration": 66,
    "start_time": "2022-06-17T20:43:23.485Z"
   },
   {
    "duration": 15,
    "start_time": "2022-06-17T20:43:23.553Z"
   },
   {
    "duration": 277,
    "start_time": "2022-06-17T20:43:23.570Z"
   },
   {
    "duration": 6,
    "start_time": "2022-06-17T20:43:23.849Z"
   },
   {
    "duration": 4026,
    "start_time": "2022-06-17T20:43:23.856Z"
   },
   {
    "duration": 3,
    "start_time": "2022-06-17T20:43:27.884Z"
   },
   {
    "duration": 5,
    "start_time": "2022-06-17T20:43:27.889Z"
   },
   {
    "duration": 14139,
    "start_time": "2022-06-17T20:43:27.895Z"
   },
   {
    "duration": 928,
    "start_time": "2022-06-17T20:43:42.035Z"
   },
   {
    "duration": 8,
    "start_time": "2022-06-17T20:43:42.965Z"
   },
   {
    "duration": 53,
    "start_time": "2022-06-17T20:43:42.975Z"
   },
   {
    "duration": 3,
    "start_time": "2022-06-17T20:50:25.357Z"
   },
   {
    "duration": 10,
    "start_time": "2022-06-17T20:50:25.364Z"
   },
   {
    "duration": 745,
    "start_time": "2022-06-17T20:50:25.375Z"
   },
   {
    "duration": 290,
    "start_time": "2022-06-17T20:50:26.121Z"
   },
   {
    "duration": 56,
    "start_time": "2022-06-17T20:50:26.413Z"
   },
   {
    "duration": 7,
    "start_time": "2022-06-17T20:50:26.472Z"
   },
   {
    "duration": 144,
    "start_time": "2022-06-17T20:50:35.561Z"
   },
   {
    "duration": 1649,
    "start_time": "2022-06-17T20:50:37.025Z"
   },
   {
    "duration": 58,
    "start_time": "2022-06-17T20:50:51.129Z"
   },
   {
    "duration": 74,
    "start_time": "2022-06-17T20:50:52.457Z"
   },
   {
    "duration": 539,
    "start_time": "2022-06-17T20:51:49.768Z"
   },
   {
    "duration": 13,
    "start_time": "2022-06-17T20:51:52.553Z"
   },
   {
    "duration": 5101,
    "start_time": "2022-06-17T20:51:55.320Z"
   },
   {
    "duration": 4,
    "start_time": "2022-06-17T20:52:08.130Z"
   },
   {
    "duration": 3,
    "start_time": "2022-06-17T20:52:10.049Z"
   },
   {
    "duration": 16478,
    "start_time": "2022-06-17T20:52:11.865Z"
   },
   {
    "duration": 1183,
    "start_time": "2022-06-17T20:53:06.466Z"
   },
   {
    "duration": 9,
    "start_time": "2022-06-17T20:53:25.337Z"
   },
   {
    "duration": 45,
    "start_time": "2022-06-17T20:53:35.905Z"
   },
   {
    "duration": 3281,
    "start_time": "2022-06-17T20:54:21.303Z"
   },
   {
    "duration": 5,
    "start_time": "2022-06-17T20:54:24.588Z"
   },
   {
    "duration": 930,
    "start_time": "2022-06-17T20:54:24.595Z"
   },
   {
    "duration": 337,
    "start_time": "2022-06-17T20:54:25.527Z"
   },
   {
    "duration": 69,
    "start_time": "2022-06-17T20:54:25.866Z"
   },
   {
    "duration": 8,
    "start_time": "2022-06-17T20:54:25.936Z"
   },
   {
    "duration": 175,
    "start_time": "2022-06-17T20:54:25.945Z"
   },
   {
    "duration": 289,
    "start_time": "2022-06-17T20:54:26.122Z"
   },
   {
    "duration": 2,
    "start_time": "2022-06-17T20:54:26.413Z"
   },
   {
    "duration": 9,
    "start_time": "2022-06-17T20:54:26.418Z"
   },
   {
    "duration": 6,
    "start_time": "2022-06-17T20:54:26.429Z"
   },
   {
    "duration": 10,
    "start_time": "2022-06-17T20:54:26.436Z"
   },
   {
    "duration": 7,
    "start_time": "2022-06-17T20:54:26.448Z"
   },
   {
    "duration": 5,
    "start_time": "2022-06-17T20:54:26.456Z"
   },
   {
    "duration": 52,
    "start_time": "2022-06-17T20:54:26.462Z"
   },
   {
    "duration": 16,
    "start_time": "2022-06-17T20:54:26.516Z"
   },
   {
    "duration": 288,
    "start_time": "2022-06-17T20:54:26.533Z"
   },
   {
    "duration": 5,
    "start_time": "2022-06-17T20:54:26.823Z"
   },
   {
    "duration": 3873,
    "start_time": "2022-06-17T20:54:26.830Z"
   },
   {
    "duration": 3,
    "start_time": "2022-06-17T20:54:30.705Z"
   },
   {
    "duration": 14,
    "start_time": "2022-06-17T20:54:30.710Z"
   },
   {
    "duration": 13610,
    "start_time": "2022-06-17T20:54:30.726Z"
   },
   {
    "duration": 943,
    "start_time": "2022-06-17T20:54:44.338Z"
   },
   {
    "duration": 8,
    "start_time": "2022-06-17T20:54:45.282Z"
   },
   {
    "duration": 53,
    "start_time": "2022-06-17T20:54:45.291Z"
   },
   {
    "duration": 3160,
    "start_time": "2022-06-17T20:58:08.301Z"
   },
   {
    "duration": 3,
    "start_time": "2022-06-17T20:58:11.464Z"
   },
   {
    "duration": 930,
    "start_time": "2022-06-17T20:58:11.469Z"
   },
   {
    "duration": 308,
    "start_time": "2022-06-17T20:58:12.401Z"
   },
   {
    "duration": 51,
    "start_time": "2022-06-17T20:58:12.711Z"
   },
   {
    "duration": 10,
    "start_time": "2022-06-17T20:58:12.764Z"
   },
   {
    "duration": 146,
    "start_time": "2022-06-17T20:58:12.776Z"
   },
   {
    "duration": 1298,
    "start_time": "2022-06-17T20:58:12.925Z"
   },
   {
    "duration": 3,
    "start_time": "2022-06-17T20:58:14.226Z"
   },
   {
    "duration": 5,
    "start_time": "2022-06-17T20:58:14.231Z"
   },
   {
    "duration": 6,
    "start_time": "2022-06-17T20:58:14.237Z"
   },
   {
    "duration": 6,
    "start_time": "2022-06-17T20:58:14.244Z"
   },
   {
    "duration": 5,
    "start_time": "2022-06-17T20:58:14.252Z"
   },
   {
    "duration": 11,
    "start_time": "2022-06-17T20:58:14.259Z"
   },
   {
    "duration": 69,
    "start_time": "2022-06-17T20:58:14.272Z"
   },
   {
    "duration": 19,
    "start_time": "2022-06-17T20:58:14.343Z"
   },
   {
    "duration": 304,
    "start_time": "2022-06-17T20:58:14.364Z"
   },
   {
    "duration": 8,
    "start_time": "2022-06-17T20:58:14.670Z"
   },
   {
    "duration": 3533,
    "start_time": "2022-06-17T20:58:14.680Z"
   },
   {
    "duration": 3,
    "start_time": "2022-06-17T20:58:18.215Z"
   },
   {
    "duration": 6,
    "start_time": "2022-06-17T20:58:18.220Z"
   },
   {
    "duration": 12619,
    "start_time": "2022-06-17T20:58:18.227Z"
   },
   {
    "duration": 874,
    "start_time": "2022-06-17T20:58:30.848Z"
   },
   {
    "duration": 8,
    "start_time": "2022-06-17T20:58:31.725Z"
   },
   {
    "duration": 45,
    "start_time": "2022-06-17T20:58:31.735Z"
   },
   {
    "duration": 40,
    "start_time": "2022-06-17T20:59:09.937Z"
   },
   {
    "duration": 41,
    "start_time": "2022-06-17T20:59:20.604Z"
   },
   {
    "duration": 4,
    "start_time": "2022-06-17T21:03:05.823Z"
   },
   {
    "duration": 6,
    "start_time": "2022-06-17T21:03:05.830Z"
   },
   {
    "duration": 773,
    "start_time": "2022-06-17T21:03:05.837Z"
   },
   {
    "duration": 288,
    "start_time": "2022-06-17T21:03:06.612Z"
   },
   {
    "duration": 59,
    "start_time": "2022-06-17T21:03:06.902Z"
   },
   {
    "duration": 8,
    "start_time": "2022-06-17T21:03:06.962Z"
   },
   {
    "duration": 154,
    "start_time": "2022-06-17T21:03:06.972Z"
   },
   {
    "duration": 1284,
    "start_time": "2022-06-17T21:03:07.127Z"
   },
   {
    "duration": 3,
    "start_time": "2022-06-17T21:03:08.413Z"
   },
   {
    "duration": 13,
    "start_time": "2022-06-17T21:03:08.417Z"
   },
   {
    "duration": 23,
    "start_time": "2022-06-17T21:03:08.431Z"
   },
   {
    "duration": 12,
    "start_time": "2022-06-17T21:03:08.455Z"
   },
   {
    "duration": 8,
    "start_time": "2022-06-17T21:03:08.469Z"
   },
   {
    "duration": 17,
    "start_time": "2022-06-17T21:03:08.478Z"
   },
   {
    "duration": 69,
    "start_time": "2022-06-17T21:03:08.497Z"
   },
   {
    "duration": 68,
    "start_time": "2022-06-17T21:03:08.568Z"
   },
   {
    "duration": 317,
    "start_time": "2022-06-17T21:03:08.638Z"
   },
   {
    "duration": 17,
    "start_time": "2022-06-17T21:03:08.957Z"
   },
   {
    "duration": 3983,
    "start_time": "2022-06-17T21:03:08.976Z"
   },
   {
    "duration": 4,
    "start_time": "2022-06-17T21:03:12.961Z"
   },
   {
    "duration": 40,
    "start_time": "2022-06-17T21:03:12.966Z"
   },
   {
    "duration": 17054,
    "start_time": "2022-06-17T21:03:13.008Z"
   },
   {
    "duration": 1007,
    "start_time": "2022-06-17T21:03:30.064Z"
   },
   {
    "duration": 9,
    "start_time": "2022-06-17T21:03:31.074Z"
   },
   {
    "duration": 54,
    "start_time": "2022-06-17T21:03:31.084Z"
   },
   {
    "duration": 135,
    "start_time": "2022-06-17T21:03:48.210Z"
   },
   {
    "duration": 4,
    "start_time": "2022-06-17T21:03:51.736Z"
   },
   {
    "duration": 8,
    "start_time": "2022-06-17T21:03:51.742Z"
   },
   {
    "duration": 787,
    "start_time": "2022-06-17T21:03:51.752Z"
   },
   {
    "duration": 317,
    "start_time": "2022-06-17T21:03:52.541Z"
   },
   {
    "duration": 71,
    "start_time": "2022-06-17T21:03:52.860Z"
   },
   {
    "duration": 17,
    "start_time": "2022-06-17T21:03:52.932Z"
   },
   {
    "duration": 167,
    "start_time": "2022-06-17T21:03:52.951Z"
   },
   {
    "duration": 1911,
    "start_time": "2022-06-17T21:03:53.120Z"
   },
   {
    "duration": 3,
    "start_time": "2022-06-17T21:03:55.034Z"
   },
   {
    "duration": 15,
    "start_time": "2022-06-17T21:03:55.038Z"
   },
   {
    "duration": 16,
    "start_time": "2022-06-17T21:03:55.055Z"
   },
   {
    "duration": 9,
    "start_time": "2022-06-17T21:03:55.073Z"
   },
   {
    "duration": 21,
    "start_time": "2022-06-17T21:03:55.084Z"
   },
   {
    "duration": 10,
    "start_time": "2022-06-17T21:03:55.107Z"
   },
   {
    "duration": 81,
    "start_time": "2022-06-17T21:03:55.118Z"
   },
   {
    "duration": 75,
    "start_time": "2022-06-17T21:03:55.201Z"
   },
   {
    "duration": 519,
    "start_time": "2022-06-17T21:03:55.278Z"
   },
   {
    "duration": 14,
    "start_time": "2022-06-17T21:03:55.799Z"
   },
   {
    "duration": 5161,
    "start_time": "2022-06-17T21:03:55.814Z"
   },
   {
    "duration": 3,
    "start_time": "2022-06-17T21:04:00.977Z"
   },
   {
    "duration": 27,
    "start_time": "2022-06-17T21:04:00.982Z"
   },
   {
    "duration": 18837,
    "start_time": "2022-06-17T21:04:01.011Z"
   },
   {
    "duration": 1266,
    "start_time": "2022-06-17T21:04:19.850Z"
   },
   {
    "duration": 14,
    "start_time": "2022-06-17T21:04:21.119Z"
   },
   {
    "duration": 44,
    "start_time": "2022-06-17T21:04:21.135Z"
   },
   {
    "duration": 5,
    "start_time": "2022-06-17T21:05:28.198Z"
   },
   {
    "duration": 9,
    "start_time": "2022-06-17T21:05:28.205Z"
   },
   {
    "duration": 750,
    "start_time": "2022-06-17T21:05:28.216Z"
   },
   {
    "duration": 298,
    "start_time": "2022-06-17T21:05:28.968Z"
   },
   {
    "duration": 63,
    "start_time": "2022-06-17T21:05:29.267Z"
   },
   {
    "duration": 3,
    "start_time": "2022-06-17T21:05:29.332Z"
   },
   {
    "duration": 148,
    "start_time": "2022-06-17T21:05:29.337Z"
   },
   {
    "duration": 1195,
    "start_time": "2022-06-17T21:05:29.487Z"
   },
   {
    "duration": 2,
    "start_time": "2022-06-17T21:05:30.684Z"
   },
   {
    "duration": 29,
    "start_time": "2022-06-17T21:05:30.688Z"
   },
   {
    "duration": 14,
    "start_time": "2022-06-17T21:05:30.719Z"
   },
   {
    "duration": 27,
    "start_time": "2022-06-17T21:05:30.734Z"
   },
   {
    "duration": 49,
    "start_time": "2022-06-17T21:05:30.763Z"
   },
   {
    "duration": 12,
    "start_time": "2022-06-17T21:05:30.813Z"
   },
   {
    "duration": 74,
    "start_time": "2022-06-17T21:05:30.826Z"
   },
   {
    "duration": 74,
    "start_time": "2022-06-17T21:05:30.901Z"
   },
   {
    "duration": 261,
    "start_time": "2022-06-17T21:05:30.977Z"
   },
   {
    "duration": 72,
    "start_time": "2022-06-17T21:05:31.240Z"
   },
   {
    "duration": 3403,
    "start_time": "2022-06-17T21:05:31.314Z"
   },
   {
    "duration": 9,
    "start_time": "2022-06-17T21:05:34.719Z"
   },
   {
    "duration": 6,
    "start_time": "2022-06-17T21:05:34.730Z"
   },
   {
    "duration": 14059,
    "start_time": "2022-06-17T21:05:34.738Z"
   },
   {
    "duration": 755,
    "start_time": "2022-06-17T21:05:48.798Z"
   },
   {
    "duration": 7,
    "start_time": "2022-06-17T21:05:49.555Z"
   },
   {
    "duration": 42,
    "start_time": "2022-06-17T21:05:49.564Z"
   },
   {
    "duration": 4,
    "start_time": "2022-06-17T21:06:13.870Z"
   },
   {
    "duration": 9,
    "start_time": "2022-06-17T21:06:13.876Z"
   },
   {
    "duration": 786,
    "start_time": "2022-06-17T21:06:13.886Z"
   },
   {
    "duration": 316,
    "start_time": "2022-06-17T21:06:14.674Z"
   },
   {
    "duration": 68,
    "start_time": "2022-06-17T21:06:14.991Z"
   },
   {
    "duration": 9,
    "start_time": "2022-06-17T21:06:15.061Z"
   },
   {
    "duration": 169,
    "start_time": "2022-06-17T21:06:15.072Z"
   },
   {
    "duration": 878,
    "start_time": "2022-06-17T21:06:15.243Z"
   },
   {
    "duration": 2,
    "start_time": "2022-06-17T21:06:16.127Z"
   },
   {
    "duration": 9,
    "start_time": "2022-06-17T21:06:16.130Z"
   },
   {
    "duration": 7,
    "start_time": "2022-06-17T21:06:16.141Z"
   },
   {
    "duration": 8,
    "start_time": "2022-06-17T21:06:16.149Z"
   },
   {
    "duration": 8,
    "start_time": "2022-06-17T21:06:16.159Z"
   },
   {
    "duration": 8,
    "start_time": "2022-06-17T21:06:16.169Z"
   },
   {
    "duration": 83,
    "start_time": "2022-06-17T21:06:16.179Z"
   },
   {
    "duration": 67,
    "start_time": "2022-06-17T21:06:16.265Z"
   },
   {
    "duration": 179,
    "start_time": "2022-06-17T21:06:16.334Z"
   },
   {
    "duration": 17,
    "start_time": "2022-06-17T21:06:16.515Z"
   },
   {
    "duration": 2631,
    "start_time": "2022-06-17T21:06:16.534Z"
   },
   {
    "duration": 4,
    "start_time": "2022-06-17T21:06:19.166Z"
   },
   {
    "duration": 6,
    "start_time": "2022-06-17T21:06:19.172Z"
   },
   {
    "duration": 11508,
    "start_time": "2022-06-17T21:06:19.179Z"
   },
   {
    "duration": 634,
    "start_time": "2022-06-17T21:06:30.689Z"
   },
   {
    "duration": 6,
    "start_time": "2022-06-17T21:06:31.326Z"
   },
   {
    "duration": 55,
    "start_time": "2022-06-17T21:06:31.334Z"
   },
   {
    "duration": 4,
    "start_time": "2022-06-17T21:06:57.487Z"
   },
   {
    "duration": 11,
    "start_time": "2022-06-17T21:06:57.493Z"
   },
   {
    "duration": 746,
    "start_time": "2022-06-17T21:06:57.505Z"
   },
   {
    "duration": 300,
    "start_time": "2022-06-17T21:06:58.253Z"
   },
   {
    "duration": 57,
    "start_time": "2022-06-17T21:06:58.555Z"
   },
   {
    "duration": 14,
    "start_time": "2022-06-17T21:06:58.614Z"
   },
   {
    "duration": 148,
    "start_time": "2022-06-17T21:06:58.630Z"
   },
   {
    "duration": 610,
    "start_time": "2022-06-17T21:06:58.779Z"
   },
   {
    "duration": 3,
    "start_time": "2022-06-17T21:06:59.391Z"
   },
   {
    "duration": 6,
    "start_time": "2022-06-17T21:06:59.395Z"
   },
   {
    "duration": 10,
    "start_time": "2022-06-17T21:06:59.402Z"
   },
   {
    "duration": 5,
    "start_time": "2022-06-17T21:06:59.413Z"
   },
   {
    "duration": 10,
    "start_time": "2022-06-17T21:06:59.419Z"
   },
   {
    "duration": 6,
    "start_time": "2022-06-17T21:06:59.430Z"
   },
   {
    "duration": 63,
    "start_time": "2022-06-17T21:06:59.437Z"
   },
   {
    "duration": 67,
    "start_time": "2022-06-17T21:06:59.502Z"
   },
   {
    "duration": 118,
    "start_time": "2022-06-17T21:06:59.571Z"
   },
   {
    "duration": 10,
    "start_time": "2022-06-17T21:06:59.691Z"
   },
   {
    "duration": 1729,
    "start_time": "2022-06-17T21:06:59.703Z"
   },
   {
    "duration": 5,
    "start_time": "2022-06-17T21:07:01.433Z"
   },
   {
    "duration": 43,
    "start_time": "2022-06-17T21:07:01.439Z"
   },
   {
    "duration": 9287,
    "start_time": "2022-06-17T21:07:01.484Z"
   },
   {
    "duration": 404,
    "start_time": "2022-06-17T21:07:10.773Z"
   },
   {
    "duration": 5,
    "start_time": "2022-06-17T21:07:11.181Z"
   },
   {
    "duration": 64,
    "start_time": "2022-06-17T21:07:11.187Z"
   },
   {
    "duration": 4,
    "start_time": "2022-06-17T21:07:37.478Z"
   },
   {
    "duration": 7,
    "start_time": "2022-06-17T21:07:37.484Z"
   },
   {
    "duration": 750,
    "start_time": "2022-06-17T21:07:37.493Z"
   },
   {
    "duration": 301,
    "start_time": "2022-06-17T21:07:38.245Z"
   },
   {
    "duration": 60,
    "start_time": "2022-06-17T21:07:38.548Z"
   },
   {
    "duration": 16,
    "start_time": "2022-06-17T21:07:38.610Z"
   },
   {
    "duration": 154,
    "start_time": "2022-06-17T21:07:38.628Z"
   },
   {
    "duration": 744,
    "start_time": "2022-06-17T21:07:38.784Z"
   },
   {
    "duration": 3,
    "start_time": "2022-06-17T21:07:39.531Z"
   },
   {
    "duration": 13,
    "start_time": "2022-06-17T21:07:39.535Z"
   },
   {
    "duration": 8,
    "start_time": "2022-06-17T21:07:39.550Z"
   },
   {
    "duration": 7,
    "start_time": "2022-06-17T21:07:39.559Z"
   },
   {
    "duration": 5,
    "start_time": "2022-06-17T21:07:39.568Z"
   },
   {
    "duration": 10,
    "start_time": "2022-06-17T21:07:39.575Z"
   },
   {
    "duration": 66,
    "start_time": "2022-06-17T21:07:39.586Z"
   },
   {
    "duration": 61,
    "start_time": "2022-06-17T21:07:39.654Z"
   },
   {
    "duration": 136,
    "start_time": "2022-06-17T21:07:39.726Z"
   },
   {
    "duration": 9,
    "start_time": "2022-06-17T21:07:39.864Z"
   },
   {
    "duration": 2191,
    "start_time": "2022-06-17T21:07:39.875Z"
   },
   {
    "duration": 4,
    "start_time": "2022-06-17T21:07:42.067Z"
   },
   {
    "duration": 12,
    "start_time": "2022-06-17T21:07:42.073Z"
   },
   {
    "duration": 10337,
    "start_time": "2022-06-17T21:07:42.087Z"
   },
   {
    "duration": 533,
    "start_time": "2022-06-17T21:07:52.426Z"
   },
   {
    "duration": 6,
    "start_time": "2022-06-17T21:07:52.962Z"
   },
   {
    "duration": 45,
    "start_time": "2022-06-17T21:07:52.969Z"
   },
   {
    "duration": 3,
    "start_time": "2022-06-17T21:13:57.345Z"
   },
   {
    "duration": 996599,
    "start_time": "2022-06-17T21:14:19.633Z"
   },
   {
    "duration": 3507,
    "start_time": "2022-06-17T21:54:45.054Z"
   },
   {
    "duration": 4,
    "start_time": "2022-06-17T21:54:48.565Z"
   },
   {
    "duration": 973,
    "start_time": "2022-06-17T21:54:48.571Z"
   },
   {
    "duration": 347,
    "start_time": "2022-06-17T21:54:49.548Z"
   },
   {
    "duration": 72,
    "start_time": "2022-06-17T21:54:49.896Z"
   },
   {
    "duration": 13,
    "start_time": "2022-06-17T21:54:49.970Z"
   },
   {
    "duration": 185,
    "start_time": "2022-06-17T21:54:49.985Z"
   },
   {
    "duration": 836,
    "start_time": "2022-06-17T21:54:50.172Z"
   },
   {
    "duration": 66,
    "start_time": "2022-06-17T21:54:51.009Z"
   },
   {
    "duration": 25,
    "start_time": "2022-06-17T21:54:51.079Z"
   },
   {
    "duration": 195,
    "start_time": "2022-06-17T21:54:51.106Z"
   },
   {
    "duration": 331,
    "start_time": "2022-06-17T21:54:51.304Z"
   },
   {
    "duration": 0,
    "start_time": "2022-06-17T21:54:51.637Z"
   },
   {
    "duration": 0,
    "start_time": "2022-06-17T21:54:51.638Z"
   },
   {
    "duration": 0,
    "start_time": "2022-06-17T21:54:51.639Z"
   },
   {
    "duration": 0,
    "start_time": "2022-06-17T21:54:51.640Z"
   },
   {
    "duration": 0,
    "start_time": "2022-06-17T21:54:51.641Z"
   },
   {
    "duration": 0,
    "start_time": "2022-06-17T21:54:51.642Z"
   },
   {
    "duration": 4218,
    "start_time": "2022-06-17T21:56:03.903Z"
   },
   {
    "duration": 7,
    "start_time": "2022-06-17T21:56:08.122Z"
   },
   {
    "duration": 818,
    "start_time": "2022-06-17T21:56:08.131Z"
   },
   {
    "duration": 354,
    "start_time": "2022-06-17T21:56:08.951Z"
   },
   {
    "duration": 63,
    "start_time": "2022-06-17T21:56:09.307Z"
   },
   {
    "duration": 9,
    "start_time": "2022-06-17T21:56:09.372Z"
   },
   {
    "duration": 178,
    "start_time": "2022-06-17T21:56:09.382Z"
   },
   {
    "duration": 806,
    "start_time": "2022-06-17T21:56:09.562Z"
   },
   {
    "duration": 68,
    "start_time": "2022-06-17T21:56:10.370Z"
   },
   {
    "duration": 19,
    "start_time": "2022-06-17T21:56:10.441Z"
   },
   {
    "duration": 172,
    "start_time": "2022-06-17T21:56:10.461Z"
   },
   {
    "duration": 322,
    "start_time": "2022-06-17T21:56:10.645Z"
   },
   {
    "duration": 0,
    "start_time": "2022-06-17T21:56:10.969Z"
   },
   {
    "duration": 0,
    "start_time": "2022-06-17T21:56:10.970Z"
   },
   {
    "duration": 0,
    "start_time": "2022-06-17T21:56:10.972Z"
   },
   {
    "duration": 0,
    "start_time": "2022-06-17T21:56:10.973Z"
   },
   {
    "duration": 0,
    "start_time": "2022-06-17T21:56:10.974Z"
   },
   {
    "duration": 0,
    "start_time": "2022-06-17T21:56:10.975Z"
   },
   {
    "duration": 3762,
    "start_time": "2022-06-17T21:56:49.725Z"
   },
   {
    "duration": 5,
    "start_time": "2022-06-17T21:56:53.489Z"
   },
   {
    "duration": 874,
    "start_time": "2022-06-17T21:56:53.496Z"
   },
   {
    "duration": 377,
    "start_time": "2022-06-17T21:56:54.373Z"
   },
   {
    "duration": 59,
    "start_time": "2022-06-17T21:56:54.752Z"
   },
   {
    "duration": 2,
    "start_time": "2022-06-17T21:56:54.813Z"
   },
   {
    "duration": 155,
    "start_time": "2022-06-17T21:56:54.826Z"
   },
   {
    "duration": 783,
    "start_time": "2022-06-17T21:56:54.983Z"
   },
   {
    "duration": 69,
    "start_time": "2022-06-17T21:56:55.768Z"
   },
   {
    "duration": 17,
    "start_time": "2022-06-17T21:56:55.840Z"
   },
   {
    "duration": 141,
    "start_time": "2022-06-17T21:56:55.859Z"
   },
   {
    "duration": 171,
    "start_time": "2022-06-17T21:56:56.002Z"
   },
   {
    "duration": 2059,
    "start_time": "2022-06-17T21:56:56.175Z"
   },
   {
    "duration": 4,
    "start_time": "2022-06-17T21:56:58.236Z"
   },
   {
    "duration": 7903,
    "start_time": "2022-06-17T21:56:58.242Z"
   },
   {
    "duration": 523,
    "start_time": "2022-06-17T21:57:06.147Z"
   },
   {
    "duration": 5,
    "start_time": "2022-06-17T21:57:06.672Z"
   },
   {
    "duration": 57,
    "start_time": "2022-06-17T21:57:06.678Z"
   },
   {
    "duration": 4,
    "start_time": "2022-06-17T21:57:24.880Z"
   },
   {
    "duration": 7,
    "start_time": "2022-06-17T21:57:24.886Z"
   },
   {
    "duration": 845,
    "start_time": "2022-06-17T21:57:24.894Z"
   },
   {
    "duration": 327,
    "start_time": "2022-06-17T21:57:25.741Z"
   },
   {
    "duration": 75,
    "start_time": "2022-06-17T21:57:26.069Z"
   },
   {
    "duration": 7,
    "start_time": "2022-06-17T21:57:26.146Z"
   },
   {
    "duration": 184,
    "start_time": "2022-06-17T21:57:26.154Z"
   },
   {
    "duration": 937,
    "start_time": "2022-06-17T21:57:26.340Z"
   },
   {
    "duration": 94,
    "start_time": "2022-06-17T21:57:27.280Z"
   },
   {
    "duration": 83,
    "start_time": "2022-06-17T21:57:27.376Z"
   },
   {
    "duration": 214,
    "start_time": "2022-06-17T21:57:27.462Z"
   },
   {
    "duration": 5,
    "start_time": "2022-06-17T21:57:27.677Z"
   },
   {
    "duration": 2567,
    "start_time": "2022-06-17T21:57:27.683Z"
   },
   {
    "duration": 3,
    "start_time": "2022-06-17T21:57:30.252Z"
   },
   {
    "duration": 11104,
    "start_time": "2022-06-17T21:57:30.257Z"
   },
   {
    "duration": 611,
    "start_time": "2022-06-17T21:57:41.362Z"
   },
   {
    "duration": 5,
    "start_time": "2022-06-17T21:57:41.975Z"
   },
   {
    "duration": 60,
    "start_time": "2022-06-17T21:57:41.981Z"
   },
   {
    "duration": 8,
    "start_time": "2022-06-17T21:57:56.536Z"
   },
   {
    "duration": 12,
    "start_time": "2022-06-17T21:57:56.546Z"
   },
   {
    "duration": 782,
    "start_time": "2022-06-17T21:57:56.560Z"
   },
   {
    "duration": 310,
    "start_time": "2022-06-17T21:57:57.344Z"
   },
   {
    "duration": 79,
    "start_time": "2022-06-17T21:57:57.656Z"
   },
   {
    "duration": 6,
    "start_time": "2022-06-17T21:57:57.740Z"
   },
   {
    "duration": 156,
    "start_time": "2022-06-17T21:57:57.748Z"
   },
   {
    "duration": 1467,
    "start_time": "2022-06-17T21:57:57.905Z"
   },
   {
    "duration": 79,
    "start_time": "2022-06-17T21:57:59.375Z"
   },
   {
    "duration": 74,
    "start_time": "2022-06-17T21:57:59.456Z"
   },
   {
    "duration": 340,
    "start_time": "2022-06-17T21:57:59.532Z"
   },
   {
    "duration": 15,
    "start_time": "2022-06-17T21:57:59.874Z"
   },
   {
    "duration": 4221,
    "start_time": "2022-06-17T21:57:59.890Z"
   },
   {
    "duration": 3,
    "start_time": "2022-06-17T21:58:04.112Z"
   },
   {
    "duration": 12407,
    "start_time": "2022-06-17T21:58:04.125Z"
   },
   {
    "duration": 954,
    "start_time": "2022-06-17T21:58:16.538Z"
   },
   {
    "duration": 6,
    "start_time": "2022-06-17T21:58:17.494Z"
   },
   {
    "duration": 55,
    "start_time": "2022-06-17T21:58:17.502Z"
   },
   {
    "duration": 152,
    "start_time": "2022-06-17T21:58:30.692Z"
   },
   {
    "duration": 5,
    "start_time": "2022-06-17T21:58:34.408Z"
   },
   {
    "duration": 16,
    "start_time": "2022-06-17T21:58:34.416Z"
   },
   {
    "duration": 901,
    "start_time": "2022-06-17T21:58:34.434Z"
   },
   {
    "duration": 344,
    "start_time": "2022-06-17T21:58:35.337Z"
   },
   {
    "duration": 77,
    "start_time": "2022-06-17T21:58:35.683Z"
   },
   {
    "duration": 7,
    "start_time": "2022-06-17T21:58:35.762Z"
   },
   {
    "duration": 179,
    "start_time": "2022-06-17T21:58:35.770Z"
   },
   {
    "duration": 1879,
    "start_time": "2022-06-17T21:58:35.952Z"
   },
   {
    "duration": 63,
    "start_time": "2022-06-17T21:58:37.835Z"
   },
   {
    "duration": 44,
    "start_time": "2022-06-17T21:58:37.900Z"
   },
   {
    "duration": 553,
    "start_time": "2022-06-17T21:58:37.946Z"
   },
   {
    "duration": 6,
    "start_time": "2022-06-17T21:58:38.501Z"
   },
   {
    "duration": 5063,
    "start_time": "2022-06-17T21:58:38.508Z"
   },
   {
    "duration": 2,
    "start_time": "2022-06-17T21:58:43.573Z"
   },
   {
    "duration": 13763,
    "start_time": "2022-06-17T21:58:43.577Z"
   },
   {
    "duration": 1238,
    "start_time": "2022-06-17T21:58:57.344Z"
   },
   {
    "duration": 6,
    "start_time": "2022-06-17T21:58:58.584Z"
   },
   {
    "duration": 58,
    "start_time": "2022-06-17T21:58:58.592Z"
   },
   {
    "duration": 4,
    "start_time": "2022-06-17T21:59:21.912Z"
   },
   {
    "duration": 12,
    "start_time": "2022-06-17T21:59:21.919Z"
   },
   {
    "duration": 837,
    "start_time": "2022-06-17T21:59:21.932Z"
   },
   {
    "duration": 315,
    "start_time": "2022-06-17T21:59:22.771Z"
   },
   {
    "duration": 73,
    "start_time": "2022-06-17T21:59:23.087Z"
   },
   {
    "duration": 3,
    "start_time": "2022-06-17T21:59:23.162Z"
   },
   {
    "duration": 189,
    "start_time": "2022-06-17T21:59:23.166Z"
   },
   {
    "duration": 1242,
    "start_time": "2022-06-17T21:59:23.357Z"
   },
   {
    "duration": 88,
    "start_time": "2022-06-17T21:59:24.602Z"
   },
   {
    "duration": 88,
    "start_time": "2022-06-17T21:59:24.692Z"
   },
   {
    "duration": 273,
    "start_time": "2022-06-17T21:59:24.784Z"
   },
   {
    "duration": 4,
    "start_time": "2022-06-17T21:59:25.059Z"
   },
   {
    "duration": 3196,
    "start_time": "2022-06-17T21:59:25.065Z"
   },
   {
    "duration": 3,
    "start_time": "2022-06-17T21:59:28.262Z"
   },
   {
    "duration": 12154,
    "start_time": "2022-06-17T21:59:28.267Z"
   },
   {
    "duration": 722,
    "start_time": "2022-06-17T21:59:40.423Z"
   },
   {
    "duration": 5,
    "start_time": "2022-06-17T21:59:41.147Z"
   },
   {
    "duration": 51,
    "start_time": "2022-06-17T21:59:41.153Z"
   },
   {
    "duration": 4,
    "start_time": "2022-06-17T21:59:57.952Z"
   },
   {
    "duration": 9,
    "start_time": "2022-06-17T21:59:57.957Z"
   },
   {
    "duration": 798,
    "start_time": "2022-06-17T21:59:57.968Z"
   },
   {
    "duration": 317,
    "start_time": "2022-06-17T21:59:58.769Z"
   },
   {
    "duration": 71,
    "start_time": "2022-06-17T21:59:59.087Z"
   },
   {
    "duration": 9,
    "start_time": "2022-06-17T21:59:59.160Z"
   },
   {
    "duration": 158,
    "start_time": "2022-06-17T21:59:59.170Z"
   },
   {
    "duration": 1091,
    "start_time": "2022-06-17T21:59:59.332Z"
   },
   {
    "duration": 78,
    "start_time": "2022-06-17T22:00:00.427Z"
   },
   {
    "duration": 89,
    "start_time": "2022-06-17T22:00:00.507Z"
   },
   {
    "duration": 241,
    "start_time": "2022-06-17T22:00:00.599Z"
   },
   {
    "duration": 28,
    "start_time": "2022-06-17T22:00:00.842Z"
   },
   {
    "duration": 3117,
    "start_time": "2022-06-17T22:00:00.872Z"
   },
   {
    "duration": 3,
    "start_time": "2022-06-17T22:00:03.990Z"
   },
   {
    "duration": 10781,
    "start_time": "2022-06-17T22:00:03.995Z"
   },
   {
    "duration": 809,
    "start_time": "2022-06-17T22:00:14.778Z"
   },
   {
    "duration": 5,
    "start_time": "2022-06-17T22:00:15.589Z"
   },
   {
    "duration": 64,
    "start_time": "2022-06-17T22:00:15.596Z"
   },
   {
    "duration": 5,
    "start_time": "2022-06-17T22:00:38.645Z"
   },
   {
    "duration": 7,
    "start_time": "2022-06-17T22:00:38.652Z"
   },
   {
    "duration": 795,
    "start_time": "2022-06-17T22:00:38.661Z"
   },
   {
    "duration": 347,
    "start_time": "2022-06-17T22:00:39.458Z"
   },
   {
    "duration": 81,
    "start_time": "2022-06-17T22:00:39.808Z"
   },
   {
    "duration": 15,
    "start_time": "2022-06-17T22:00:39.891Z"
   },
   {
    "duration": 190,
    "start_time": "2022-06-17T22:00:39.908Z"
   },
   {
    "duration": 1023,
    "start_time": "2022-06-17T22:00:40.101Z"
   },
   {
    "duration": 99,
    "start_time": "2022-06-17T22:00:41.127Z"
   },
   {
    "duration": 109,
    "start_time": "2022-06-17T22:00:41.229Z"
   },
   {
    "duration": 257,
    "start_time": "2022-06-17T22:00:41.339Z"
   },
   {
    "duration": 5,
    "start_time": "2022-06-17T22:00:41.598Z"
   },
   {
    "duration": 2833,
    "start_time": "2022-06-17T22:00:41.605Z"
   },
   {
    "duration": 6,
    "start_time": "2022-06-17T22:00:44.441Z"
   },
   {
    "duration": 10821,
    "start_time": "2022-06-17T22:00:44.449Z"
   },
   {
    "duration": 582,
    "start_time": "2022-06-17T22:00:55.271Z"
   },
   {
    "duration": 5,
    "start_time": "2022-06-17T22:00:55.855Z"
   },
   {
    "duration": 49,
    "start_time": "2022-06-17T22:00:55.862Z"
   },
   {
    "duration": 5,
    "start_time": "2022-06-17T22:01:59.616Z"
   },
   {
    "duration": 29,
    "start_time": "2022-06-17T22:01:59.624Z"
   },
   {
    "duration": 827,
    "start_time": "2022-06-17T22:01:59.655Z"
   },
   {
    "duration": 339,
    "start_time": "2022-06-17T22:02:00.484Z"
   },
   {
    "duration": 86,
    "start_time": "2022-06-17T22:02:00.826Z"
   },
   {
    "duration": 21,
    "start_time": "2022-06-17T22:02:00.914Z"
   },
   {
    "duration": 237,
    "start_time": "2022-06-17T22:02:00.937Z"
   },
   {
    "duration": 977,
    "start_time": "2022-06-17T22:02:01.176Z"
   },
   {
    "duration": 64,
    "start_time": "2022-06-17T22:02:02.155Z"
   },
   {
    "duration": 72,
    "start_time": "2022-06-17T22:02:02.231Z"
   },
   {
    "duration": 178,
    "start_time": "2022-06-17T22:02:02.305Z"
   },
   {
    "duration": 4,
    "start_time": "2022-06-17T22:02:02.485Z"
   },
   {
    "duration": 2581,
    "start_time": "2022-06-17T22:02:02.490Z"
   },
   {
    "duration": 2,
    "start_time": "2022-06-17T22:02:05.073Z"
   },
   {
    "duration": 9312,
    "start_time": "2022-06-17T22:02:05.077Z"
   },
   {
    "duration": 631,
    "start_time": "2022-06-17T22:02:14.390Z"
   },
   {
    "duration": 8,
    "start_time": "2022-06-17T22:02:15.028Z"
   },
   {
    "duration": 72,
    "start_time": "2022-06-17T22:02:15.039Z"
   },
   {
    "duration": 5,
    "start_time": "2022-06-17T22:02:41.224Z"
   },
   {
    "duration": 32,
    "start_time": "2022-06-17T22:02:41.231Z"
   },
   {
    "duration": 840,
    "start_time": "2022-06-17T22:02:41.266Z"
   },
   {
    "duration": 330,
    "start_time": "2022-06-17T22:02:42.108Z"
   },
   {
    "duration": 62,
    "start_time": "2022-06-17T22:02:42.443Z"
   },
   {
    "duration": 9,
    "start_time": "2022-06-17T22:02:42.507Z"
   },
   {
    "duration": 169,
    "start_time": "2022-06-17T22:02:42.518Z"
   },
   {
    "duration": 1046,
    "start_time": "2022-06-17T22:02:42.688Z"
   },
   {
    "duration": 65,
    "start_time": "2022-06-17T22:02:43.739Z"
   },
   {
    "duration": 73,
    "start_time": "2022-06-17T22:02:43.807Z"
   },
   {
    "duration": 191,
    "start_time": "2022-06-17T22:02:43.882Z"
   },
   {
    "duration": 3,
    "start_time": "2022-06-17T22:02:44.075Z"
   },
   {
    "duration": 2697,
    "start_time": "2022-06-17T22:02:44.080Z"
   },
   {
    "duration": 3,
    "start_time": "2022-06-17T22:02:46.779Z"
   },
   {
    "duration": 10581,
    "start_time": "2022-06-17T22:02:46.784Z"
   },
   {
    "duration": 624,
    "start_time": "2022-06-17T22:02:57.367Z"
   },
   {
    "duration": 4,
    "start_time": "2022-06-17T22:02:57.994Z"
   },
   {
    "duration": 59,
    "start_time": "2022-06-17T22:02:58.000Z"
   },
   {
    "duration": 4,
    "start_time": "2022-06-17T22:03:14.776Z"
   },
   {
    "duration": 7,
    "start_time": "2022-06-17T22:03:14.782Z"
   },
   {
    "duration": 799,
    "start_time": "2022-06-17T22:03:14.790Z"
   },
   {
    "duration": 329,
    "start_time": "2022-06-17T22:03:15.591Z"
   },
   {
    "duration": 66,
    "start_time": "2022-06-17T22:03:15.922Z"
   },
   {
    "duration": 7,
    "start_time": "2022-06-17T22:03:15.989Z"
   },
   {
    "duration": 179,
    "start_time": "2022-06-17T22:03:15.997Z"
   },
   {
    "duration": 915,
    "start_time": "2022-06-17T22:03:16.178Z"
   },
   {
    "duration": 74,
    "start_time": "2022-06-17T22:03:17.096Z"
   },
   {
    "duration": 83,
    "start_time": "2022-06-17T22:03:17.172Z"
   },
   {
    "duration": 183,
    "start_time": "2022-06-17T22:03:17.257Z"
   },
   {
    "duration": 8,
    "start_time": "2022-06-17T22:03:17.442Z"
   },
   {
    "duration": 2314,
    "start_time": "2022-06-17T22:03:17.451Z"
   },
   {
    "duration": 3,
    "start_time": "2022-06-17T22:03:19.767Z"
   },
   {
    "duration": 9608,
    "start_time": "2022-06-17T22:03:19.772Z"
   },
   {
    "duration": 577,
    "start_time": "2022-06-17T22:03:29.382Z"
   },
   {
    "duration": 6,
    "start_time": "2022-06-17T22:03:29.960Z"
   },
   {
    "duration": 47,
    "start_time": "2022-06-17T22:03:29.968Z"
   },
   {
    "duration": 5,
    "start_time": "2022-06-17T22:03:43.739Z"
   },
   {
    "duration": 21,
    "start_time": "2022-06-17T22:03:43.746Z"
   },
   {
    "duration": 826,
    "start_time": "2022-06-17T22:03:43.768Z"
   },
   {
    "duration": 331,
    "start_time": "2022-06-17T22:03:44.597Z"
   },
   {
    "duration": 66,
    "start_time": "2022-06-17T22:03:44.930Z"
   },
   {
    "duration": 27,
    "start_time": "2022-06-17T22:03:44.998Z"
   },
   {
    "duration": 189,
    "start_time": "2022-06-17T22:03:45.027Z"
   },
   {
    "duration": 938,
    "start_time": "2022-06-17T22:03:45.218Z"
   },
   {
    "duration": 80,
    "start_time": "2022-06-17T22:03:46.157Z"
   },
   {
    "duration": 75,
    "start_time": "2022-06-17T22:03:46.241Z"
   },
   {
    "duration": 187,
    "start_time": "2022-06-17T22:03:46.318Z"
   },
   {
    "duration": 4,
    "start_time": "2022-06-17T22:03:46.507Z"
   },
   {
    "duration": 2478,
    "start_time": "2022-06-17T22:03:46.513Z"
   },
   {
    "duration": 3,
    "start_time": "2022-06-17T22:03:48.993Z"
   },
   {
    "duration": 10508,
    "start_time": "2022-06-17T22:03:48.998Z"
   },
   {
    "duration": 612,
    "start_time": "2022-06-17T22:03:59.508Z"
   },
   {
    "duration": 12,
    "start_time": "2022-06-17T22:04:00.125Z"
   },
   {
    "duration": 66,
    "start_time": "2022-06-17T22:04:00.139Z"
   },
   {
    "duration": 5,
    "start_time": "2022-06-17T22:08:57.411Z"
   },
   {
    "duration": 14,
    "start_time": "2022-06-17T22:08:57.418Z"
   },
   {
    "duration": 779,
    "start_time": "2022-06-17T22:08:57.435Z"
   },
   {
    "duration": 328,
    "start_time": "2022-06-17T22:08:58.216Z"
   },
   {
    "duration": 63,
    "start_time": "2022-06-17T22:08:58.546Z"
   },
   {
    "duration": 17,
    "start_time": "2022-06-17T22:08:58.610Z"
   },
   {
    "duration": 166,
    "start_time": "2022-06-17T22:08:58.629Z"
   },
   {
    "duration": 880,
    "start_time": "2022-06-17T22:08:58.797Z"
   },
   {
    "duration": 72,
    "start_time": "2022-06-17T22:08:59.679Z"
   },
   {
    "duration": 77,
    "start_time": "2022-06-17T22:08:59.752Z"
   },
   {
    "duration": 177,
    "start_time": "2022-06-17T22:08:59.831Z"
   },
   {
    "duration": 5,
    "start_time": "2022-06-17T22:09:00.010Z"
   },
   {
    "duration": 7374,
    "start_time": "2022-06-17T22:09:00.028Z"
   },
   {
    "duration": 3,
    "start_time": "2022-06-17T22:09:07.405Z"
   },
   {
    "duration": 19833,
    "start_time": "2022-06-17T22:09:07.410Z"
   },
   {
    "duration": 752,
    "start_time": "2022-06-17T22:09:27.244Z"
   },
   {
    "duration": 5,
    "start_time": "2022-06-17T22:09:27.998Z"
   },
   {
    "duration": 53,
    "start_time": "2022-06-17T22:09:28.004Z"
   },
   {
    "duration": 4,
    "start_time": "2022-06-17T22:14:33.352Z"
   },
   {
    "duration": 7,
    "start_time": "2022-06-17T22:14:33.357Z"
   },
   {
    "duration": 796,
    "start_time": "2022-06-17T22:14:33.366Z"
   },
   {
    "duration": 347,
    "start_time": "2022-06-17T22:14:34.165Z"
   },
   {
    "duration": 75,
    "start_time": "2022-06-17T22:14:34.514Z"
   },
   {
    "duration": 9,
    "start_time": "2022-06-17T22:14:34.591Z"
   },
   {
    "duration": 170,
    "start_time": "2022-06-17T22:14:34.602Z"
   },
   {
    "duration": 956,
    "start_time": "2022-06-17T22:14:34.773Z"
   },
   {
    "duration": 79,
    "start_time": "2022-06-17T22:14:35.732Z"
   },
   {
    "duration": 89,
    "start_time": "2022-06-17T22:14:35.813Z"
   },
   {
    "duration": 194,
    "start_time": "2022-06-17T22:14:35.904Z"
   },
   {
    "duration": 61,
    "start_time": "2022-06-17T22:14:36.099Z"
   },
   {
    "duration": 0,
    "start_time": "2022-06-17T22:14:36.162Z"
   },
   {
    "duration": 0,
    "start_time": "2022-06-17T22:14:36.164Z"
   },
   {
    "duration": 0,
    "start_time": "2022-06-17T22:14:36.165Z"
   },
   {
    "duration": 0,
    "start_time": "2022-06-17T22:14:36.165Z"
   },
   {
    "duration": 0,
    "start_time": "2022-06-17T22:14:36.166Z"
   },
   {
    "duration": 0,
    "start_time": "2022-06-17T22:14:36.168Z"
   },
   {
    "duration": 4,
    "start_time": "2022-06-17T22:14:54.459Z"
   },
   {
    "duration": 2967,
    "start_time": "2022-06-17T22:14:55.290Z"
   },
   {
    "duration": 3158,
    "start_time": "2022-06-17T22:15:33.419Z"
   },
   {
    "duration": 3004,
    "start_time": "2022-06-17T22:15:50.066Z"
   },
   {
    "duration": 3,
    "start_time": "2022-06-17T22:15:55.858Z"
   },
   {
    "duration": 9883,
    "start_time": "2022-06-17T22:15:57.546Z"
   },
   {
    "duration": 5,
    "start_time": "2022-06-17T22:16:11.834Z"
   },
   {
    "duration": 43,
    "start_time": "2022-06-17T22:16:12.690Z"
   },
   {
    "duration": 3321,
    "start_time": "2022-06-17T22:43:47.746Z"
   },
   {
    "duration": 4,
    "start_time": "2022-06-17T22:43:51.069Z"
   },
   {
    "duration": 773,
    "start_time": "2022-06-17T22:43:51.074Z"
   },
   {
    "duration": 335,
    "start_time": "2022-06-17T22:43:51.849Z"
   },
   {
    "duration": 71,
    "start_time": "2022-06-17T22:43:52.186Z"
   },
   {
    "duration": 19,
    "start_time": "2022-06-17T22:43:52.259Z"
   },
   {
    "duration": 176,
    "start_time": "2022-06-17T22:43:52.280Z"
   },
   {
    "duration": 892,
    "start_time": "2022-06-17T22:43:52.457Z"
   },
   {
    "duration": 57,
    "start_time": "2022-06-17T22:43:53.351Z"
   },
   {
    "duration": 29,
    "start_time": "2022-06-17T22:43:53.411Z"
   },
   {
    "duration": 184,
    "start_time": "2022-06-17T22:43:53.442Z"
   },
   {
    "duration": 123,
    "start_time": "2022-06-17T22:43:53.628Z"
   },
   {
    "duration": 2823,
    "start_time": "2022-06-17T22:43:53.753Z"
   },
   {
    "duration": 7730,
    "start_time": "2022-06-17T22:43:56.578Z"
   },
   {
    "duration": 2894,
    "start_time": "2022-06-17T22:48:04.435Z"
   },
   {
    "duration": 1542,
    "start_time": "2022-06-17T22:51:54.970Z"
   },
   {
    "duration": 4,
    "start_time": "2022-06-17T22:53:45.176Z"
   },
   {
    "duration": 6,
    "start_time": "2022-06-17T22:53:45.183Z"
   },
   {
    "duration": 763,
    "start_time": "2022-06-17T22:53:45.191Z"
   },
   {
    "duration": 313,
    "start_time": "2022-06-17T22:53:45.956Z"
   },
   {
    "duration": 67,
    "start_time": "2022-06-17T22:53:46.271Z"
   },
   {
    "duration": 12,
    "start_time": "2022-06-17T22:53:46.340Z"
   },
   {
    "duration": 163,
    "start_time": "2022-06-17T22:53:46.353Z"
   },
   {
    "duration": 600,
    "start_time": "2022-06-17T22:53:46.517Z"
   },
   {
    "duration": 68,
    "start_time": "2022-06-17T22:53:47.119Z"
   },
   {
    "duration": 72,
    "start_time": "2022-06-17T22:53:47.189Z"
   },
   {
    "duration": 142,
    "start_time": "2022-06-17T22:53:47.263Z"
   },
   {
    "duration": 7,
    "start_time": "2022-06-17T22:53:47.406Z"
   },
   {
    "duration": 1964,
    "start_time": "2022-06-17T22:53:47.426Z"
   },
   {
    "duration": 8258,
    "start_time": "2022-06-17T22:53:49.391Z"
   },
   {
    "duration": 1947,
    "start_time": "2022-06-17T22:53:57.652Z"
   },
   {
    "duration": 1699,
    "start_time": "2022-06-17T22:53:59.601Z"
   },
   {
    "duration": 5,
    "start_time": "2022-06-17T22:54:23.270Z"
   },
   {
    "duration": 8,
    "start_time": "2022-06-17T22:54:23.278Z"
   },
   {
    "duration": 768,
    "start_time": "2022-06-17T22:54:23.287Z"
   },
   {
    "duration": 314,
    "start_time": "2022-06-17T22:54:24.058Z"
   },
   {
    "duration": 81,
    "start_time": "2022-06-17T22:54:24.375Z"
   },
   {
    "duration": 29,
    "start_time": "2022-06-17T22:54:24.458Z"
   },
   {
    "duration": 169,
    "start_time": "2022-06-17T22:54:24.489Z"
   },
   {
    "duration": 1092,
    "start_time": "2022-06-17T22:54:24.659Z"
   },
   {
    "duration": 77,
    "start_time": "2022-06-17T22:54:25.753Z"
   },
   {
    "duration": 62,
    "start_time": "2022-06-17T22:54:25.832Z"
   },
   {
    "duration": 239,
    "start_time": "2022-06-17T22:54:25.895Z"
   },
   {
    "duration": 7,
    "start_time": "2022-06-17T22:54:26.136Z"
   },
   {
    "duration": 3629,
    "start_time": "2022-06-17T22:54:26.144Z"
   },
   {
    "duration": 11074,
    "start_time": "2022-06-17T22:54:29.775Z"
   },
   {
    "duration": 3906,
    "start_time": "2022-06-17T22:54:40.851Z"
   },
   {
    "duration": 2144,
    "start_time": "2022-06-17T22:54:44.759Z"
   },
   {
    "duration": 4,
    "start_time": "2022-06-17T22:55:07.246Z"
   },
   {
    "duration": 23,
    "start_time": "2022-06-17T22:55:07.252Z"
   },
   {
    "duration": 759,
    "start_time": "2022-06-17T22:55:07.277Z"
   },
   {
    "duration": 317,
    "start_time": "2022-06-17T22:55:08.038Z"
   },
   {
    "duration": 73,
    "start_time": "2022-06-17T22:55:08.357Z"
   },
   {
    "duration": 3,
    "start_time": "2022-06-17T22:55:08.432Z"
   },
   {
    "duration": 156,
    "start_time": "2022-06-17T22:55:08.437Z"
   },
   {
    "duration": 1542,
    "start_time": "2022-06-17T22:55:08.594Z"
   },
   {
    "duration": 71,
    "start_time": "2022-06-17T22:55:10.138Z"
   },
   {
    "duration": 89,
    "start_time": "2022-06-17T22:55:10.211Z"
   },
   {
    "duration": 370,
    "start_time": "2022-06-17T22:55:10.301Z"
   },
   {
    "duration": 7,
    "start_time": "2022-06-17T22:55:10.673Z"
   },
   {
    "duration": 5019,
    "start_time": "2022-06-17T22:55:10.682Z"
   },
   {
    "duration": 11143,
    "start_time": "2022-06-17T22:55:15.702Z"
   },
   {
    "duration": 4844,
    "start_time": "2022-06-17T22:55:26.846Z"
   },
   {
    "duration": 2650,
    "start_time": "2022-06-17T22:55:31.692Z"
   },
   {
    "duration": 4,
    "start_time": "2022-06-17T22:56:07.487Z"
   },
   {
    "duration": 29,
    "start_time": "2022-06-17T22:56:07.493Z"
   },
   {
    "duration": 792,
    "start_time": "2022-06-17T22:56:07.524Z"
   },
   {
    "duration": 310,
    "start_time": "2022-06-17T22:56:08.318Z"
   },
   {
    "duration": 58,
    "start_time": "2022-06-17T22:56:08.631Z"
   },
   {
    "duration": 19,
    "start_time": "2022-06-17T22:56:08.691Z"
   },
   {
    "duration": 168,
    "start_time": "2022-06-17T22:56:08.712Z"
   },
   {
    "duration": 1691,
    "start_time": "2022-06-17T22:56:08.881Z"
   },
   {
    "duration": 67,
    "start_time": "2022-06-17T22:56:10.574Z"
   },
   {
    "duration": 68,
    "start_time": "2022-06-17T22:56:10.643Z"
   },
   {
    "duration": 588,
    "start_time": "2022-06-17T22:56:10.713Z"
   },
   {
    "duration": 4,
    "start_time": "2022-06-17T22:56:11.302Z"
   },
   {
    "duration": 5909,
    "start_time": "2022-06-17T22:56:11.307Z"
   },
   {
    "duration": 12795,
    "start_time": "2022-06-17T22:56:17.217Z"
   },
   {
    "duration": 6479,
    "start_time": "2022-06-17T22:56:30.014Z"
   },
   {
    "duration": 2007,
    "start_time": "2022-06-17T22:56:36.495Z"
   },
   {
    "duration": 5,
    "start_time": "2022-06-17T22:57:01.487Z"
   },
   {
    "duration": 55,
    "start_time": "2022-06-17T22:57:01.494Z"
   },
   {
    "duration": 809,
    "start_time": "2022-06-17T22:57:01.551Z"
   },
   {
    "duration": 312,
    "start_time": "2022-06-17T22:57:02.362Z"
   },
   {
    "duration": 68,
    "start_time": "2022-06-17T22:57:02.676Z"
   },
   {
    "duration": 10,
    "start_time": "2022-06-17T22:57:02.746Z"
   },
   {
    "duration": 138,
    "start_time": "2022-06-17T22:57:02.757Z"
   },
   {
    "duration": 1987,
    "start_time": "2022-06-17T22:57:02.897Z"
   },
   {
    "duration": 70,
    "start_time": "2022-06-17T22:57:04.885Z"
   },
   {
    "duration": 97,
    "start_time": "2022-06-17T22:57:04.958Z"
   },
   {
    "duration": 1022,
    "start_time": "2022-06-17T22:57:05.057Z"
   },
   {
    "duration": 9,
    "start_time": "2022-06-17T22:57:06.081Z"
   },
   {
    "duration": 7110,
    "start_time": "2022-06-17T22:57:06.091Z"
   },
   {
    "duration": 13339,
    "start_time": "2022-06-17T22:57:13.203Z"
   },
   {
    "duration": 7467,
    "start_time": "2022-06-17T22:57:26.544Z"
   },
   {
    "duration": 2965,
    "start_time": "2022-06-17T22:57:34.013Z"
   },
   {
    "duration": 4,
    "start_time": "2022-06-17T22:58:43.277Z"
   },
   {
    "duration": 13,
    "start_time": "2022-06-17T22:58:43.283Z"
   },
   {
    "duration": 767,
    "start_time": "2022-06-17T22:58:43.298Z"
   },
   {
    "duration": 325,
    "start_time": "2022-06-17T22:58:44.067Z"
   },
   {
    "duration": 81,
    "start_time": "2022-06-17T22:58:44.394Z"
   },
   {
    "duration": 4,
    "start_time": "2022-06-17T22:58:44.477Z"
   },
   {
    "duration": 161,
    "start_time": "2022-06-17T22:58:44.483Z"
   },
   {
    "duration": 2019,
    "start_time": "2022-06-17T22:58:44.645Z"
   },
   {
    "duration": 71,
    "start_time": "2022-06-17T22:58:46.666Z"
   },
   {
    "duration": 72,
    "start_time": "2022-06-17T22:58:46.738Z"
   },
   {
    "duration": 7575,
    "start_time": "2022-06-17T22:59:22.227Z"
   },
   {
    "duration": 4,
    "start_time": "2022-06-17T22:59:29.804Z"
   },
   {
    "duration": 2297,
    "start_time": "2022-06-17T22:59:29.810Z"
   },
   {
    "duration": 352,
    "start_time": "2022-06-17T22:59:32.109Z"
   },
   {
    "duration": 70,
    "start_time": "2022-06-17T22:59:32.464Z"
   },
   {
    "duration": 6,
    "start_time": "2022-06-17T22:59:32.536Z"
   },
   {
    "duration": 166,
    "start_time": "2022-06-17T22:59:32.543Z"
   },
   {
    "duration": 2086,
    "start_time": "2022-06-17T22:59:32.711Z"
   },
   {
    "duration": 77,
    "start_time": "2022-06-17T22:59:34.799Z"
   },
   {
    "duration": 21,
    "start_time": "2022-06-17T22:59:34.878Z"
   },
   {
    "duration": 2155,
    "start_time": "2022-06-17T22:59:34.901Z"
   },
   {
    "duration": 162,
    "start_time": "2022-06-17T22:59:37.058Z"
   },
   {
    "duration": 8876,
    "start_time": "2022-06-17T22:59:37.221Z"
   },
   {
    "duration": 14832,
    "start_time": "2022-06-17T22:59:46.100Z"
   },
   {
    "duration": 9427,
    "start_time": "2022-06-17T23:00:00.934Z"
   },
   {
    "duration": 2932,
    "start_time": "2022-06-17T23:00:10.363Z"
   },
   {
    "duration": 5,
    "start_time": "2022-06-17T23:00:37.305Z"
   },
   {
    "duration": 4,
    "start_time": "2022-06-17T23:00:37.312Z"
   },
   {
    "duration": 2270,
    "start_time": "2022-06-17T23:00:37.318Z"
   },
   {
    "duration": 314,
    "start_time": "2022-06-17T23:00:39.590Z"
   },
   {
    "duration": 63,
    "start_time": "2022-06-17T23:00:39.905Z"
   },
   {
    "duration": 8,
    "start_time": "2022-06-17T23:00:39.969Z"
   },
   {
    "duration": 169,
    "start_time": "2022-06-17T23:00:39.979Z"
   },
   {
    "duration": 1777,
    "start_time": "2022-06-17T23:00:40.150Z"
   },
   {
    "duration": 69,
    "start_time": "2022-06-17T23:00:41.929Z"
   },
   {
    "duration": 97,
    "start_time": "2022-06-17T23:00:42.000Z"
   },
   {
    "duration": 7775,
    "start_time": "2022-06-17T23:01:00.420Z"
   },
   {
    "duration": 4,
    "start_time": "2022-06-17T23:01:08.197Z"
   },
   {
    "duration": 2209,
    "start_time": "2022-06-17T23:01:08.202Z"
   },
   {
    "duration": 324,
    "start_time": "2022-06-17T23:01:10.413Z"
   },
   {
    "duration": 60,
    "start_time": "2022-06-17T23:01:10.739Z"
   },
   {
    "duration": 33,
    "start_time": "2022-06-17T23:01:10.800Z"
   },
   {
    "duration": 167,
    "start_time": "2022-06-17T23:01:10.834Z"
   },
   {
    "duration": 1645,
    "start_time": "2022-06-17T23:01:11.003Z"
   },
   {
    "duration": 61,
    "start_time": "2022-06-17T23:01:12.650Z"
   },
   {
    "duration": 28,
    "start_time": "2022-06-17T23:01:12.713Z"
   },
   {
    "duration": 574,
    "start_time": "2022-06-17T23:01:12.743Z"
   },
   {
    "duration": 210,
    "start_time": "2022-06-17T23:01:13.318Z"
   },
   {
    "duration": 5783,
    "start_time": "2022-06-17T23:01:13.530Z"
   },
   {
    "duration": 14670,
    "start_time": "2022-06-17T23:01:19.315Z"
   },
   {
    "duration": 6132,
    "start_time": "2022-06-17T23:01:33.986Z"
   },
   {
    "duration": 2703,
    "start_time": "2022-06-17T23:01:40.120Z"
   },
   {
    "duration": 5,
    "start_time": "2022-06-17T23:02:10.645Z"
   },
   {
    "duration": 18,
    "start_time": "2022-06-17T23:02:10.653Z"
   },
   {
    "duration": 788,
    "start_time": "2022-06-17T23:02:10.673Z"
   },
   {
    "duration": 330,
    "start_time": "2022-06-17T23:02:11.463Z"
   },
   {
    "duration": 66,
    "start_time": "2022-06-17T23:02:11.794Z"
   },
   {
    "duration": 4,
    "start_time": "2022-06-17T23:02:11.862Z"
   },
   {
    "duration": 171,
    "start_time": "2022-06-17T23:02:11.867Z"
   },
   {
    "duration": 2105,
    "start_time": "2022-06-17T23:02:12.040Z"
   },
   {
    "duration": 71,
    "start_time": "2022-06-17T23:02:14.147Z"
   },
   {
    "duration": 108,
    "start_time": "2022-06-17T23:02:14.229Z"
   },
   {
    "duration": 1091,
    "start_time": "2022-06-17T23:02:14.340Z"
   },
   {
    "duration": 4,
    "start_time": "2022-06-17T23:02:15.433Z"
   },
   {
    "duration": 7464,
    "start_time": "2022-06-17T23:02:15.439Z"
   },
   {
    "duration": 15479,
    "start_time": "2022-06-17T23:02:22.905Z"
   },
   {
    "duration": 7553,
    "start_time": "2022-06-17T23:02:38.386Z"
   },
   {
    "duration": 2899,
    "start_time": "2022-06-17T23:02:45.941Z"
   },
   {
    "duration": 11,
    "start_time": "2022-06-18T07:10:21.081Z"
   },
   {
    "duration": 3,
    "start_time": "2022-06-18T07:10:41.686Z"
   },
   {
    "duration": 2,
    "start_time": "2022-06-18T07:10:58.375Z"
   },
   {
    "duration": 2,
    "start_time": "2022-06-18T07:11:14.829Z"
   },
   {
    "duration": 4,
    "start_time": "2022-06-18T07:12:08.141Z"
   },
   {
    "duration": 4,
    "start_time": "2022-06-18T07:14:02.253Z"
   },
   {
    "duration": 5,
    "start_time": "2022-06-18T07:15:09.029Z"
   },
   {
    "duration": 4,
    "start_time": "2022-06-18T07:16:19.685Z"
   },
   {
    "duration": 4,
    "start_time": "2022-06-18T07:17:55.982Z"
   },
   {
    "duration": 4,
    "start_time": "2022-06-18T07:18:08.910Z"
   },
   {
    "duration": 6,
    "start_time": "2022-06-18T07:19:42.342Z"
   },
   {
    "duration": 4,
    "start_time": "2022-06-18T07:20:43.158Z"
   },
   {
    "duration": 5,
    "start_time": "2022-06-18T07:27:38.519Z"
   },
   {
    "duration": 5,
    "start_time": "2022-06-18T07:27:53.198Z"
   },
   {
    "duration": 6,
    "start_time": "2022-06-18T07:28:12.062Z"
   },
   {
    "duration": 4,
    "start_time": "2022-06-18T07:28:21.598Z"
   },
   {
    "duration": 3571,
    "start_time": "2022-06-18T10:37:07.919Z"
   },
   {
    "duration": 4,
    "start_time": "2022-06-18T10:37:11.492Z"
   },
   {
    "duration": 3031,
    "start_time": "2022-06-18T10:37:11.497Z"
   },
   {
    "duration": 279,
    "start_time": "2022-06-18T10:37:14.531Z"
   },
   {
    "duration": 50,
    "start_time": "2022-06-18T10:37:14.811Z"
   },
   {
    "duration": 5,
    "start_time": "2022-06-18T10:37:14.863Z"
   },
   {
    "duration": 125,
    "start_time": "2022-06-18T10:37:14.869Z"
   },
   {
    "duration": 1741,
    "start_time": "2022-06-18T10:37:14.996Z"
   },
   {
    "duration": 53,
    "start_time": "2022-06-18T10:37:16.739Z"
   },
   {
    "duration": 31,
    "start_time": "2022-06-18T10:37:16.794Z"
   },
   {
    "duration": 765,
    "start_time": "2022-06-18T10:37:16.827Z"
   },
   {
    "duration": 162,
    "start_time": "2022-06-18T10:37:17.594Z"
   },
   {
    "duration": 6538,
    "start_time": "2022-06-18T10:37:17.758Z"
   },
   {
    "duration": 6719,
    "start_time": "2022-06-18T10:37:24.298Z"
   },
   {
    "duration": 12211,
    "start_time": "2022-06-18T10:37:31.019Z"
   },
   {
    "duration": 2454,
    "start_time": "2022-06-18T10:37:43.232Z"
   },
   {
    "duration": 10621,
    "start_time": "2022-06-18T11:06:58.620Z"
   },
   {
    "duration": 10755,
    "start_time": "2022-06-18T11:07:27.171Z"
   },
   {
    "duration": 4,
    "start_time": "2022-06-18T11:32:10.016Z"
   },
   {
    "duration": 11367,
    "start_time": "2022-06-18T11:32:44.592Z"
   },
   {
    "duration": 2035,
    "start_time": "2022-06-18T11:33:50.553Z"
   },
   {
    "duration": 368,
    "start_time": "2022-06-18T11:35:37.473Z"
   },
   {
    "duration": 3506,
    "start_time": "2022-06-18T13:38:15.213Z"
   },
   {
    "duration": 4,
    "start_time": "2022-06-18T14:20:25.411Z"
   },
   {
    "duration": 3502,
    "start_time": "2022-06-18T14:25:40.579Z"
   },
   {
    "duration": 4,
    "start_time": "2022-06-18T14:25:44.082Z"
   },
   {
    "duration": 3108,
    "start_time": "2022-06-18T14:25:44.087Z"
   },
   {
    "duration": 297,
    "start_time": "2022-06-18T14:25:47.197Z"
   },
   {
    "duration": 51,
    "start_time": "2022-06-18T14:25:47.495Z"
   },
   {
    "duration": 6,
    "start_time": "2022-06-18T14:25:47.547Z"
   },
   {
    "duration": 116,
    "start_time": "2022-06-18T14:25:47.554Z"
   },
   {
    "duration": 1725,
    "start_time": "2022-06-18T14:25:47.672Z"
   },
   {
    "duration": 53,
    "start_time": "2022-06-18T14:25:49.399Z"
   },
   {
    "duration": 15,
    "start_time": "2022-06-18T14:25:49.454Z"
   },
   {
    "duration": 764,
    "start_time": "2022-06-18T14:25:49.470Z"
   },
   {
    "duration": 184,
    "start_time": "2022-06-18T14:25:50.236Z"
   },
   {
    "duration": 6632,
    "start_time": "2022-06-18T14:25:50.421Z"
   },
   {
    "duration": 6871,
    "start_time": "2022-06-18T14:25:57.056Z"
   },
   {
    "duration": 4,
    "start_time": "2022-06-18T14:26:03.929Z"
   },
   {
    "duration": 12633,
    "start_time": "2022-06-18T14:26:03.935Z"
   },
   {
    "duration": 17,
    "start_time": "2022-06-18T14:26:16.570Z"
   },
   {
    "duration": 3,
    "start_time": "2022-06-18T14:26:40.757Z"
   },
   {
    "duration": 12272,
    "start_time": "2022-06-18T14:26:43.677Z"
   },
   {
    "duration": 3,
    "start_time": "2022-06-18T14:27:14.965Z"
   },
   {
    "duration": 12500,
    "start_time": "2022-06-18T14:27:16.926Z"
   },
   {
    "duration": 2381,
    "start_time": "2022-06-18T14:27:29.428Z"
   },
   {
    "duration": 4777,
    "start_time": "2022-06-18T17:55:16.260Z"
   },
   {
    "duration": 7,
    "start_time": "2022-06-18T17:55:21.039Z"
   },
   {
    "duration": 3767,
    "start_time": "2022-06-18T17:55:21.047Z"
   },
   {
    "duration": 356,
    "start_time": "2022-06-18T17:55:24.817Z"
   },
   {
    "duration": 57,
    "start_time": "2022-06-18T17:55:25.176Z"
   },
   {
    "duration": 27,
    "start_time": "2022-06-18T17:55:25.244Z"
   },
   {
    "duration": 151,
    "start_time": "2022-06-18T17:55:25.274Z"
   },
   {
    "duration": 2386,
    "start_time": "2022-06-18T17:55:25.427Z"
   },
   {
    "duration": 69,
    "start_time": "2022-06-18T17:55:27.815Z"
   },
   {
    "duration": 19,
    "start_time": "2022-06-18T17:55:27.887Z"
   },
   {
    "duration": 1094,
    "start_time": "2022-06-18T17:55:27.907Z"
   },
   {
    "duration": 236,
    "start_time": "2022-06-18T17:55:29.003Z"
   },
   {
    "duration": 8970,
    "start_time": "2022-06-18T17:55:29.241Z"
   },
   {
    "duration": 8551,
    "start_time": "2022-06-18T17:55:38.215Z"
   },
   {
    "duration": 4,
    "start_time": "2022-06-18T17:55:46.768Z"
   },
   {
    "duration": 17323,
    "start_time": "2022-06-18T17:55:46.774Z"
   },
   {
    "duration": 3434,
    "start_time": "2022-06-18T17:56:04.098Z"
   },
   {
    "duration": 389,
    "start_time": "2022-06-18T17:56:07.533Z"
   },
   {
    "duration": 62,
    "start_time": "2022-06-18T17:56:07.924Z"
   },
   {
    "duration": 129859,
    "start_time": "2022-06-18T17:56:07.988Z"
   },
   {
    "duration": 128785,
    "start_time": "2022-06-18T17:58:17.849Z"
   },
   {
    "duration": 528,
    "start_time": "2022-06-18T18:01:31.880Z"
   },
   {
    "duration": 48,
    "start_time": "2022-06-18T18:02:57.657Z"
   },
   {
    "duration": 92,
    "start_time": "2022-06-18T18:03:56.256Z"
   },
   {
    "duration": 70366,
    "start_time": "2022-06-18T18:04:05.962Z"
   },
   {
    "duration": 2044,
    "start_time": "2022-06-18T18:05:29.167Z"
   },
   {
    "duration": 13778,
    "start_time": "2022-06-18T18:56:35.056Z"
   },
   {
    "duration": 62254,
    "start_time": "2022-06-18T18:57:39.863Z"
   },
   {
    "duration": 4,
    "start_time": "2022-06-18T19:03:04.415Z"
   },
   {
    "duration": 34,
    "start_time": "2022-06-18T19:03:12.695Z"
   },
   {
    "duration": 1926,
    "start_time": "2022-06-18T19:03:23.455Z"
   },
   {
    "duration": 4537,
    "start_time": "2022-06-18T19:03:34.022Z"
   },
   {
    "duration": 10123,
    "start_time": "2022-06-18T19:03:45.935Z"
   },
   {
    "duration": 17744,
    "start_time": "2022-06-18T19:04:03.654Z"
   },
   {
    "duration": 27,
    "start_time": "2022-06-18T19:06:14.407Z"
   },
   {
    "duration": 17,
    "start_time": "2022-06-18T19:12:55.104Z"
   },
   {
    "duration": 4,
    "start_time": "2022-06-18T19:13:15.632Z"
   },
   {
    "duration": 89265,
    "start_time": "2022-06-18T19:13:43.119Z"
   },
   {
    "duration": 4,
    "start_time": "2022-06-18T19:16:01.624Z"
   },
   {
    "duration": 89387,
    "start_time": "2022-06-18T19:16:04.840Z"
   },
   {
    "duration": 181758,
    "start_time": "2022-06-18T19:19:17.623Z"
   },
   {
    "duration": 7972,
    "start_time": "2022-06-18T19:28:13.695Z"
   },
   {
    "duration": 15382,
    "start_time": "2022-06-18T19:28:41.645Z"
   },
   {
    "duration": 4,
    "start_time": "2022-06-18T19:35:38.263Z"
   },
   {
    "duration": 68,
    "start_time": "2022-06-18T19:36:22.542Z"
   },
   {
    "duration": 10,
    "start_time": "2022-06-18T19:36:35.215Z"
   },
   {
    "duration": 4,
    "start_time": "2022-06-18T19:36:42.790Z"
   },
   {
    "duration": 359419,
    "start_time": "2022-06-18T19:36:43.439Z"
   },
   {
    "duration": 6,
    "start_time": "2022-06-18T19:42:54.336Z"
   },
   {
    "duration": 8399,
    "start_time": "2022-06-18T19:42:54.347Z"
   },
   {
    "duration": 68,
    "start_time": "2022-06-18T19:44:32.078Z"
   },
   {
    "duration": 89,
    "start_time": "2022-06-18T19:44:43.586Z"
   },
   {
    "duration": 94135,
    "start_time": "2022-06-18T19:45:11.615Z"
   },
   {
    "duration": 156727,
    "start_time": "2022-06-18T19:46:45.755Z"
   },
   {
    "duration": 6,
    "start_time": "2022-06-18T19:49:48.959Z"
   },
   {
    "duration": 67,
    "start_time": "2022-06-18T19:50:14.742Z"
   },
   {
    "duration": 1016925,
    "start_time": "2022-06-18T19:50:44.990Z"
   },
   {
    "duration": 4120,
    "start_time": "2022-06-18T20:22:55.936Z"
   },
   {
    "duration": 5,
    "start_time": "2022-06-18T20:23:00.059Z"
   },
   {
    "duration": 3317,
    "start_time": "2022-06-18T20:23:00.066Z"
   },
   {
    "duration": 296,
    "start_time": "2022-06-18T20:23:03.386Z"
   },
   {
    "duration": 63,
    "start_time": "2022-06-18T20:23:03.684Z"
   },
   {
    "duration": 7,
    "start_time": "2022-06-18T20:23:03.749Z"
   },
   {
    "duration": 153,
    "start_time": "2022-06-18T20:23:03.758Z"
   },
   {
    "duration": 879,
    "start_time": "2022-06-18T20:23:03.913Z"
   },
   {
    "duration": 54,
    "start_time": "2022-06-18T20:23:04.794Z"
   },
   {
    "duration": 18,
    "start_time": "2022-06-18T20:23:04.851Z"
   },
   {
    "duration": 158,
    "start_time": "2022-06-18T20:23:04.871Z"
   },
   {
    "duration": 250,
    "start_time": "2022-06-18T20:23:05.032Z"
   },
   {
    "duration": 3184,
    "start_time": "2022-06-18T20:23:05.284Z"
   },
   {
    "duration": 3265,
    "start_time": "2022-06-18T20:23:08.470Z"
   },
   {
    "duration": 5,
    "start_time": "2022-06-18T20:23:11.737Z"
   },
   {
    "duration": 10684,
    "start_time": "2022-06-18T20:23:11.744Z"
   },
   {
    "duration": 2049,
    "start_time": "2022-06-18T20:23:22.430Z"
   },
   {
    "duration": 4,
    "start_time": "2022-06-18T20:23:24.481Z"
   },
   {
    "duration": 36321,
    "start_time": "2022-06-18T20:23:24.487Z"
   },
   {
    "duration": 81326,
    "start_time": "2022-06-18T20:24:00.810Z"
   },
   {
    "duration": 3291,
    "start_time": "2022-06-18T20:25:22.138Z"
   },
   {
    "duration": 6778,
    "start_time": "2022-06-18T20:25:25.431Z"
   },
   {
    "duration": 4,
    "start_time": "2022-06-18T20:25:32.211Z"
   },
   {
    "duration": 78427,
    "start_time": "2022-06-18T20:25:32.217Z"
   },
   {
    "duration": 89022,
    "start_time": "2022-06-18T20:26:50.646Z"
   },
   {
    "duration": 33438,
    "start_time": "2022-06-18T20:28:19.669Z"
   },
   {
    "duration": 58286,
    "start_time": "2022-06-18T20:28:53.109Z"
   },
   {
    "duration": 116924,
    "start_time": "2022-06-18T20:29:51.399Z"
   },
   {
    "duration": 304694,
    "start_time": "2022-06-18T20:31:48.325Z"
   },
   {
    "duration": 4280,
    "start_time": "2022-06-18T20:38:21.874Z"
   },
   {
    "duration": 4,
    "start_time": "2022-06-18T20:38:26.157Z"
   },
   {
    "duration": 809,
    "start_time": "2022-06-18T20:38:26.163Z"
   },
   {
    "duration": 421,
    "start_time": "2022-06-18T20:38:26.974Z"
   },
   {
    "duration": 69,
    "start_time": "2022-06-18T20:38:27.398Z"
   },
   {
    "duration": 7,
    "start_time": "2022-06-18T20:38:27.470Z"
   },
   {
    "duration": 194,
    "start_time": "2022-06-18T20:38:27.479Z"
   },
   {
    "duration": 1473,
    "start_time": "2022-06-18T20:38:27.675Z"
   },
   {
    "duration": 80,
    "start_time": "2022-06-18T20:38:29.150Z"
   },
   {
    "duration": 24,
    "start_time": "2022-06-18T20:38:29.242Z"
   },
   {
    "duration": 329,
    "start_time": "2022-06-18T20:38:29.269Z"
   },
   {
    "duration": 175,
    "start_time": "2022-06-18T20:38:29.600Z"
   },
   {
    "duration": 5151,
    "start_time": "2022-06-18T20:38:29.777Z"
   },
   {
    "duration": 5061,
    "start_time": "2022-06-18T20:38:34.931Z"
   },
   {
    "duration": 4,
    "start_time": "2022-06-18T20:38:39.994Z"
   },
   {
    "duration": 12474,
    "start_time": "2022-06-18T20:38:40.000Z"
   },
   {
    "duration": 2469,
    "start_time": "2022-06-18T20:38:52.476Z"
   },
   {
    "duration": 7,
    "start_time": "2022-06-18T20:38:54.947Z"
   },
   {
    "duration": 63604,
    "start_time": "2022-06-18T20:38:54.957Z"
   },
   {
    "duration": 3925,
    "start_time": "2022-06-18T20:43:30.255Z"
   },
   {
    "duration": 5,
    "start_time": "2022-06-18T20:43:34.182Z"
   },
   {
    "duration": 745,
    "start_time": "2022-06-18T20:43:34.189Z"
   },
   {
    "duration": 372,
    "start_time": "2022-06-18T20:43:34.941Z"
   },
   {
    "duration": 81,
    "start_time": "2022-06-18T20:43:35.316Z"
   },
   {
    "duration": 3,
    "start_time": "2022-06-18T20:43:41.226Z"
   },
   {
    "duration": 162,
    "start_time": "2022-06-18T20:43:42.371Z"
   },
   {
    "duration": 1345,
    "start_time": "2022-06-18T20:43:43.187Z"
   },
   {
    "duration": 55,
    "start_time": "2022-06-18T20:43:48.218Z"
   },
   {
    "duration": 17,
    "start_time": "2022-06-18T20:43:49.282Z"
   },
   {
    "duration": 279,
    "start_time": "2022-06-18T20:43:53.691Z"
   },
   {
    "duration": 197,
    "start_time": "2022-06-18T20:43:54.794Z"
   },
   {
    "duration": 5020,
    "start_time": "2022-06-18T20:43:55.939Z"
   },
   {
    "duration": 5383,
    "start_time": "2022-06-18T20:44:00.961Z"
   },
   {
    "duration": 6,
    "start_time": "2022-06-18T20:44:06.346Z"
   },
   {
    "duration": 13657,
    "start_time": "2022-06-18T20:44:06.354Z"
   },
   {
    "duration": 2667,
    "start_time": "2022-06-18T20:44:20.014Z"
   },
   {
    "duration": 5948,
    "start_time": "2022-06-18T20:44:32.835Z"
   },
   {
    "duration": 11055,
    "start_time": "2022-06-18T20:44:41.002Z"
   },
   {
    "duration": 3992,
    "start_time": "2022-06-18T20:47:14.575Z"
   },
   {
    "duration": 6,
    "start_time": "2022-06-18T20:47:18.569Z"
   },
   {
    "duration": 860,
    "start_time": "2022-06-18T20:47:18.577Z"
   },
   {
    "duration": 334,
    "start_time": "2022-06-18T20:47:19.439Z"
   },
   {
    "duration": 79,
    "start_time": "2022-06-18T20:47:19.776Z"
   },
   {
    "duration": 6,
    "start_time": "2022-06-18T20:47:19.857Z"
   },
   {
    "duration": 168,
    "start_time": "2022-06-18T20:47:19.865Z"
   },
   {
    "duration": 1363,
    "start_time": "2022-06-18T20:47:20.035Z"
   },
   {
    "duration": 66,
    "start_time": "2022-06-18T20:47:21.400Z"
   },
   {
    "duration": 18,
    "start_time": "2022-06-18T20:47:21.468Z"
   },
   {
    "duration": 308,
    "start_time": "2022-06-18T20:47:21.488Z"
   },
   {
    "duration": 209,
    "start_time": "2022-06-18T20:47:21.798Z"
   },
   {
    "duration": 5024,
    "start_time": "2022-06-18T20:47:22.009Z"
   },
   {
    "duration": 5075,
    "start_time": "2022-06-18T20:47:27.037Z"
   },
   {
    "duration": 5,
    "start_time": "2022-06-18T20:47:32.114Z"
   },
   {
    "duration": 13875,
    "start_time": "2022-06-18T20:47:32.121Z"
   },
   {
    "duration": 2711,
    "start_time": "2022-06-18T20:47:45.998Z"
   },
   {
    "duration": 4,
    "start_time": "2022-06-18T20:47:48.711Z"
   },
   {
    "duration": 63903,
    "start_time": "2022-06-18T20:47:48.716Z"
   },
   {
    "duration": 4317,
    "start_time": "2022-06-18T20:50:27.350Z"
   },
   {
    "duration": 6,
    "start_time": "2022-06-18T20:50:34.709Z"
   },
   {
    "duration": 848,
    "start_time": "2022-06-18T20:50:36.041Z"
   },
   {
    "duration": 397,
    "start_time": "2022-06-18T20:50:37.346Z"
   },
   {
    "duration": 56,
    "start_time": "2022-06-18T20:50:39.985Z"
   },
   {
    "duration": 3,
    "start_time": "2022-06-18T20:50:41.192Z"
   },
   {
    "duration": 162,
    "start_time": "2022-06-18T20:50:42.537Z"
   },
   {
    "duration": 1373,
    "start_time": "2022-06-18T20:50:42.984Z"
   },
   {
    "duration": 59,
    "start_time": "2022-06-18T20:50:46.560Z"
   },
   {
    "duration": 21,
    "start_time": "2022-06-18T20:50:48.561Z"
   },
   {
    "duration": 338,
    "start_time": "2022-06-18T20:50:51.234Z"
   },
   {
    "duration": 162,
    "start_time": "2022-06-18T20:50:52.600Z"
   },
   {
    "duration": 5427,
    "start_time": "2022-06-18T20:50:54.413Z"
   },
   {
    "duration": 5400,
    "start_time": "2022-06-18T20:50:59.842Z"
   },
   {
    "duration": 3,
    "start_time": "2022-06-18T20:51:05.244Z"
   },
   {
    "duration": 13902,
    "start_time": "2022-06-18T20:51:42.515Z"
   },
   {
    "duration": 3100,
    "start_time": "2022-06-18T20:51:56.419Z"
   },
   {
    "duration": 6,
    "start_time": "2022-06-18T20:52:12.454Z"
   },
   {
    "duration": 62631,
    "start_time": "2022-06-18T20:52:15.089Z"
   },
   {
    "duration": 5417,
    "start_time": "2022-06-18T20:53:38.729Z"
   },
   {
    "duration": 11488,
    "start_time": "2022-06-18T20:53:46.240Z"
   },
   {
    "duration": 5,
    "start_time": "2022-06-18T20:54:21.792Z"
   },
   {
    "duration": 101928,
    "start_time": "2022-06-18T20:54:25.881Z"
   },
   {
    "duration": 7220,
    "start_time": "2022-06-18T20:57:49.688Z"
   },
   {
    "duration": 7628,
    "start_time": "2022-06-18T20:58:23.040Z"
   },
   {
    "duration": 63017,
    "start_time": "2022-06-18T20:59:04.544Z"
   },
   {
    "duration": 94588,
    "start_time": "2022-06-18T21:02:18.984Z"
   },
   {
    "duration": 189202,
    "start_time": "2022-06-18T21:04:04.616Z"
   },
   {
    "duration": 40771,
    "start_time": "2022-06-18T21:07:43.614Z"
   },
   {
    "duration": 221831,
    "start_time": "2022-06-18T21:08:39.159Z"
   },
   {
    "duration": 5,
    "start_time": "2022-06-18T21:15:02.285Z"
   },
   {
    "duration": 12,
    "start_time": "2022-06-18T21:15:02.292Z"
   },
   {
    "duration": 767,
    "start_time": "2022-06-18T21:15:02.306Z"
   },
   {
    "duration": 305,
    "start_time": "2022-06-18T21:15:03.075Z"
   },
   {
    "duration": 65,
    "start_time": "2022-06-18T21:15:03.381Z"
   },
   {
    "duration": 7,
    "start_time": "2022-06-18T21:15:03.448Z"
   },
   {
    "duration": 154,
    "start_time": "2022-06-18T21:15:03.457Z"
   },
   {
    "duration": 1707,
    "start_time": "2022-06-18T21:15:03.613Z"
   },
   {
    "duration": 73,
    "start_time": "2022-06-18T21:15:05.323Z"
   },
   {
    "duration": 89,
    "start_time": "2022-06-18T21:15:05.398Z"
   },
   {
    "duration": 563,
    "start_time": "2022-06-18T21:15:05.490Z"
   },
   {
    "duration": 5,
    "start_time": "2022-06-18T21:15:06.056Z"
   },
   {
    "duration": 6519,
    "start_time": "2022-06-18T21:15:06.062Z"
   },
   {
    "duration": 6665,
    "start_time": "2022-06-18T21:15:12.582Z"
   },
   {
    "duration": 4,
    "start_time": "2022-06-18T21:15:19.249Z"
   },
   {
    "duration": 16038,
    "start_time": "2022-06-18T21:15:19.254Z"
   },
   {
    "duration": 2907,
    "start_time": "2022-06-18T21:15:35.294Z"
   },
   {
    "duration": 7490,
    "start_time": "2022-06-18T21:17:07.460Z"
   },
   {
    "duration": 14350,
    "start_time": "2022-06-18T21:17:14.952Z"
   },
   {
    "duration": 86685,
    "start_time": "2022-06-18T21:18:55.915Z"
   },
   {
    "duration": 162857,
    "start_time": "2022-06-18T21:20:30.667Z"
   },
   {
    "duration": 133309,
    "start_time": "2022-06-18T21:27:05.594Z"
   },
   {
    "duration": 263923,
    "start_time": "2022-06-18T21:29:49.474Z"
   },
   {
    "duration": 4019,
    "start_time": "2022-06-18T21:34:59.788Z"
   },
   {
    "duration": 6,
    "start_time": "2022-06-18T21:35:03.810Z"
   },
   {
    "duration": 776,
    "start_time": "2022-06-18T21:35:05.505Z"
   },
   {
    "duration": 365,
    "start_time": "2022-06-18T21:35:06.400Z"
   },
   {
    "duration": 67,
    "start_time": "2022-06-18T21:35:08.408Z"
   },
   {
    "duration": 4,
    "start_time": "2022-06-18T21:35:09.513Z"
   },
   {
    "duration": 151,
    "start_time": "2022-06-18T21:35:10.599Z"
   },
   {
    "duration": 2137,
    "start_time": "2022-06-18T21:35:11.057Z"
   },
   {
    "duration": 71,
    "start_time": "2022-06-18T21:35:13.704Z"
   },
   {
    "duration": 23,
    "start_time": "2022-06-18T21:35:15.304Z"
   },
   {
    "duration": 2117,
    "start_time": "2022-06-18T21:35:18.392Z"
   },
   {
    "duration": 223,
    "start_time": "2022-06-18T21:35:20.511Z"
   },
   {
    "duration": 9553,
    "start_time": "2022-06-18T21:35:21.025Z"
   },
   {
    "duration": 9736,
    "start_time": "2022-06-18T21:35:30.581Z"
   },
   {
    "duration": 4,
    "start_time": "2022-06-18T21:35:40.319Z"
   },
   {
    "duration": 16606,
    "start_time": "2022-06-18T21:35:44.929Z"
   },
   {
    "duration": 3122,
    "start_time": "2022-06-18T21:36:01.537Z"
   },
   {
    "duration": 4,
    "start_time": "2022-06-18T21:36:12.320Z"
   },
   {
    "duration": 98057,
    "start_time": "2022-06-18T21:36:13.881Z"
   },
   {
    "duration": 196237,
    "start_time": "2022-06-18T21:37:51.943Z"
   },
   {
    "duration": 8318,
    "start_time": "2022-06-18T21:41:08.182Z"
   },
   {
    "duration": 16375,
    "start_time": "2022-06-18T21:41:16.503Z"
   },
   {
    "duration": 106297,
    "start_time": "2022-06-18T21:41:32.880Z"
   },
   {
    "duration": 78,
    "start_time": "2022-06-18T21:48:34.983Z"
   },
   {
    "duration": 4063,
    "start_time": "2022-06-18T21:49:40.372Z"
   },
   {
    "duration": 5,
    "start_time": "2022-06-18T21:49:44.437Z"
   },
   {
    "duration": 3391,
    "start_time": "2022-06-18T21:49:44.443Z"
   },
   {
    "duration": 324,
    "start_time": "2022-06-18T21:49:47.836Z"
   },
   {
    "duration": 68,
    "start_time": "2022-06-18T21:49:48.162Z"
   },
   {
    "duration": 4,
    "start_time": "2022-06-18T21:49:48.242Z"
   },
   {
    "duration": 142,
    "start_time": "2022-06-18T21:49:48.248Z"
   },
   {
    "duration": 2037,
    "start_time": "2022-06-18T21:49:48.391Z"
   },
   {
    "duration": 72,
    "start_time": "2022-06-18T21:49:50.431Z"
   },
   {
    "duration": 20,
    "start_time": "2022-06-18T21:49:50.506Z"
   },
   {
    "duration": 2059,
    "start_time": "2022-06-18T21:49:50.542Z"
   },
   {
    "duration": 251,
    "start_time": "2022-06-18T21:49:52.603Z"
   },
   {
    "duration": 9317,
    "start_time": "2022-06-18T21:49:52.856Z"
   },
   {
    "duration": 9905,
    "start_time": "2022-06-18T21:50:02.175Z"
   },
   {
    "duration": 5,
    "start_time": "2022-06-18T21:50:12.082Z"
   },
   {
    "duration": 15652,
    "start_time": "2022-06-18T21:50:44.072Z"
   },
   {
    "duration": 3021,
    "start_time": "2022-06-18T21:51:17.770Z"
   },
   {
    "duration": 52,
    "start_time": "2022-06-18T21:53:44.210Z"
   },
   {
    "duration": 2061,
    "start_time": "2022-06-18T21:55:01.367Z"
   },
   {
    "duration": 0,
    "start_time": "2022-06-18T21:55:03.431Z"
   },
   {
    "duration": 0,
    "start_time": "2022-06-18T21:55:03.432Z"
   },
   {
    "duration": 0,
    "start_time": "2022-06-18T21:55:03.433Z"
   },
   {
    "duration": 0,
    "start_time": "2022-06-18T21:55:03.434Z"
   },
   {
    "duration": 0,
    "start_time": "2022-06-18T21:55:03.435Z"
   },
   {
    "duration": 0,
    "start_time": "2022-06-18T21:55:03.437Z"
   },
   {
    "duration": 0,
    "start_time": "2022-06-18T21:55:03.442Z"
   },
   {
    "duration": 0,
    "start_time": "2022-06-18T21:55:03.443Z"
   },
   {
    "duration": 0,
    "start_time": "2022-06-18T21:55:03.444Z"
   },
   {
    "duration": 0,
    "start_time": "2022-06-18T21:55:03.446Z"
   },
   {
    "duration": 0,
    "start_time": "2022-06-18T21:55:03.447Z"
   },
   {
    "duration": 0,
    "start_time": "2022-06-18T21:55:03.448Z"
   },
   {
    "duration": 0,
    "start_time": "2022-06-18T21:55:03.450Z"
   },
   {
    "duration": 0,
    "start_time": "2022-06-18T21:55:03.451Z"
   },
   {
    "duration": 0,
    "start_time": "2022-06-18T21:55:03.453Z"
   },
   {
    "duration": 0,
    "start_time": "2022-06-18T21:55:03.454Z"
   },
   {
    "duration": 0,
    "start_time": "2022-06-18T21:55:03.455Z"
   },
   {
    "duration": 0,
    "start_time": "2022-06-18T21:55:03.457Z"
   },
   {
    "duration": 0,
    "start_time": "2022-06-18T21:55:03.458Z"
   },
   {
    "duration": 0,
    "start_time": "2022-06-18T21:55:03.459Z"
   },
   {
    "duration": 0,
    "start_time": "2022-06-18T21:55:03.460Z"
   },
   {
    "duration": 0,
    "start_time": "2022-06-18T21:55:03.461Z"
   },
   {
    "duration": 0,
    "start_time": "2022-06-18T21:55:03.462Z"
   },
   {
    "duration": 0,
    "start_time": "2022-06-18T21:55:03.463Z"
   },
   {
    "duration": 0,
    "start_time": "2022-06-18T21:55:03.464Z"
   },
   {
    "duration": 2042,
    "start_time": "2022-06-18T21:55:13.432Z"
   },
   {
    "duration": 4,
    "start_time": "2022-06-18T21:55:15.476Z"
   },
   {
    "duration": 3434,
    "start_time": "2022-06-18T21:55:15.482Z"
   },
   {
    "duration": 354,
    "start_time": "2022-06-18T21:55:18.918Z"
   },
   {
    "duration": 68,
    "start_time": "2022-06-18T21:55:19.274Z"
   },
   {
    "duration": 3,
    "start_time": "2022-06-18T21:55:19.344Z"
   },
   {
    "duration": 156,
    "start_time": "2022-06-18T21:55:19.349Z"
   },
   {
    "duration": 2166,
    "start_time": "2022-06-18T21:55:19.507Z"
   },
   {
    "duration": 79,
    "start_time": "2022-06-18T21:55:21.675Z"
   },
   {
    "duration": 22,
    "start_time": "2022-06-18T21:55:21.757Z"
   },
   {
    "duration": 2191,
    "start_time": "2022-06-18T21:55:21.781Z"
   },
   {
    "duration": 177,
    "start_time": "2022-06-18T21:55:23.974Z"
   },
   {
    "duration": 8982,
    "start_time": "2022-06-18T21:55:24.154Z"
   },
   {
    "duration": 9274,
    "start_time": "2022-06-18T21:55:33.138Z"
   },
   {
    "duration": 3,
    "start_time": "2022-06-18T21:55:42.414Z"
   },
   {
    "duration": 93760,
    "start_time": "2022-06-18T21:57:34.795Z"
   },
   {
    "duration": 4396,
    "start_time": "2022-06-18T22:01:45.936Z"
   },
   {
    "duration": 7,
    "start_time": "2022-06-18T22:01:50.335Z"
   },
   {
    "duration": 3433,
    "start_time": "2022-06-18T22:01:50.344Z"
   },
   {
    "duration": 368,
    "start_time": "2022-06-18T22:01:53.780Z"
   },
   {
    "duration": 60,
    "start_time": "2022-06-18T22:01:54.150Z"
   },
   {
    "duration": 9,
    "start_time": "2022-06-18T22:01:54.212Z"
   },
   {
    "duration": 180,
    "start_time": "2022-06-18T22:01:54.224Z"
   },
   {
    "duration": 2183,
    "start_time": "2022-06-18T22:01:59.222Z"
   },
   {
    "duration": 60,
    "start_time": "2022-06-18T22:02:04.772Z"
   },
   {
    "duration": 19,
    "start_time": "2022-06-18T22:02:11.829Z"
   },
   {
    "duration": 926,
    "start_time": "2022-06-18T22:02:13.964Z"
   },
   {
    "duration": 237,
    "start_time": "2022-06-18T22:02:14.908Z"
   },
   {
    "duration": 7525,
    "start_time": "2022-06-18T22:02:29.844Z"
   },
   {
    "duration": 8100,
    "start_time": "2022-06-18T22:02:37.371Z"
   },
   {
    "duration": 3,
    "start_time": "2022-06-18T22:02:45.473Z"
   },
   {
    "duration": 16237,
    "start_time": "2022-06-18T22:03:04.660Z"
   },
   {
    "duration": 2994,
    "start_time": "2022-06-18T22:03:20.899Z"
   },
   {
    "duration": 5,
    "start_time": "2022-06-18T22:03:36.044Z"
   },
   {
    "duration": 92831,
    "start_time": "2022-06-18T22:03:47.107Z"
   },
   {
    "duration": 193736,
    "start_time": "2022-06-18T22:05:19.941Z"
   },
   {
    "duration": 95622,
    "start_time": "2022-06-18T22:24:06.665Z"
   },
   {
    "duration": 174869,
    "start_time": "2022-06-18T22:25:55.112Z"
   },
   {
    "duration": 137374,
    "start_time": "2022-06-18T22:29:22.345Z"
   },
   {
    "duration": 107,
    "start_time": "2022-06-18T22:34:53.587Z"
   },
   {
    "duration": 4252,
    "start_time": "2022-06-18T22:42:37.235Z"
   },
   {
    "duration": 5,
    "start_time": "2022-06-18T22:42:41.489Z"
   },
   {
    "duration": 3357,
    "start_time": "2022-06-18T22:42:41.495Z"
   },
   {
    "duration": 319,
    "start_time": "2022-06-18T22:42:44.854Z"
   },
   {
    "duration": 67,
    "start_time": "2022-06-18T22:42:45.175Z"
   },
   {
    "duration": 4,
    "start_time": "2022-06-18T22:42:45.245Z"
   },
   {
    "duration": 164,
    "start_time": "2022-06-18T22:42:45.250Z"
   },
   {
    "duration": 1905,
    "start_time": "2022-06-18T22:42:45.416Z"
   },
   {
    "duration": 68,
    "start_time": "2022-06-18T22:42:47.323Z"
   },
   {
    "duration": 29,
    "start_time": "2022-06-18T22:42:47.394Z"
   },
   {
    "duration": 944,
    "start_time": "2022-06-18T22:42:47.442Z"
   },
   {
    "duration": 201,
    "start_time": "2022-06-18T22:42:48.388Z"
   },
   {
    "duration": 7431,
    "start_time": "2022-06-18T22:42:48.592Z"
   },
   {
    "duration": 7894,
    "start_time": "2022-06-18T22:42:56.025Z"
   },
   {
    "duration": 3,
    "start_time": "2022-06-18T22:43:03.921Z"
   },
   {
    "duration": 15116,
    "start_time": "2022-06-18T22:43:03.926Z"
   },
   {
    "duration": 3054,
    "start_time": "2022-06-18T22:43:19.044Z"
   },
   {
    "duration": 4,
    "start_time": "2022-06-18T22:43:22.100Z"
   },
   {
    "duration": 88774,
    "start_time": "2022-06-18T22:43:22.106Z"
   },
   {
    "duration": 179551,
    "start_time": "2022-06-18T22:44:50.882Z"
   },
   {
    "duration": 92076,
    "start_time": "2022-06-18T22:47:50.435Z"
   },
   {
    "duration": 168848,
    "start_time": "2022-06-18T22:49:22.515Z"
   },
   {
    "duration": 90816,
    "start_time": "2022-06-18T22:52:11.368Z"
   },
   {
    "duration": 3997,
    "start_time": "2022-06-19T08:27:10.318Z"
   },
   {
    "duration": 5,
    "start_time": "2022-06-19T08:27:14.317Z"
   },
   {
    "duration": 2651,
    "start_time": "2022-06-19T08:27:17.473Z"
   },
   {
    "duration": 330,
    "start_time": "2022-06-19T08:27:20.126Z"
   },
   {
    "duration": 286,
    "start_time": "2022-06-19T08:27:25.129Z"
   },
   {
    "duration": 12,
    "start_time": "2022-06-19T08:27:53.691Z"
   },
   {
    "duration": 494,
    "start_time": "2022-06-19T08:28:40.417Z"
   },
   {
    "duration": 79,
    "start_time": "2022-06-19T08:41:11.263Z"
   },
   {
    "duration": 5,
    "start_time": "2022-06-19T08:41:13.294Z"
   },
   {
    "duration": 152,
    "start_time": "2022-06-19T08:41:34.133Z"
   },
   {
    "duration": 2040,
    "start_time": "2022-06-19T08:41:37.013Z"
   },
   {
    "duration": 389,
    "start_time": "2022-06-19T08:46:18.762Z"
   },
   {
    "duration": 70,
    "start_time": "2022-06-19T08:46:25.971Z"
   },
   {
    "duration": 20,
    "start_time": "2022-06-19T08:46:27.866Z"
   },
   {
    "duration": 4,
    "start_time": "2022-06-19T08:46:37.662Z"
   },
   {
    "duration": 19,
    "start_time": "2022-06-19T09:37:55.951Z"
   },
   {
    "duration": 3,
    "start_time": "2022-06-19T09:45:35.851Z"
   },
   {
    "duration": 52,
    "start_time": "2022-06-19T09:46:14.094Z"
   },
   {
    "duration": 829,
    "start_time": "2022-06-19T09:46:27.789Z"
   },
   {
    "duration": 5,
    "start_time": "2022-06-19T09:46:59.518Z"
   },
   {
    "duration": 851,
    "start_time": "2022-06-19T09:47:00.099Z"
   },
   {
    "duration": 795,
    "start_time": "2022-06-19T09:47:16.355Z"
   },
   {
    "duration": 37,
    "start_time": "2022-06-19T09:47:34.956Z"
   },
   {
    "duration": 50,
    "start_time": "2022-06-19T09:47:42.421Z"
   },
   {
    "duration": 796,
    "start_time": "2022-06-19T09:48:16.670Z"
   },
   {
    "duration": 242176,
    "start_time": "2022-06-19T09:49:54.085Z"
   },
   {
    "duration": 271618,
    "start_time": "2022-06-19T09:54:28.920Z"
   },
   {
    "duration": 2272,
    "start_time": "2022-06-19T10:01:14.690Z"
   },
   {
    "duration": 5,
    "start_time": "2022-06-19T10:04:55.132Z"
   },
   {
    "duration": 177,
    "start_time": "2022-06-19T10:05:20.864Z"
   },
   {
    "duration": 4,
    "start_time": "2022-06-19T10:06:39.754Z"
   },
   {
    "duration": 170956,
    "start_time": "2022-06-19T10:06:40.713Z"
   },
   {
    "duration": 591,
    "start_time": "2022-06-19T10:09:41.217Z"
   },
   {
    "duration": 834,
    "start_time": "2022-06-19T10:10:03.024Z"
   },
   {
    "duration": 770,
    "start_time": "2022-06-19T10:10:34.657Z"
   },
   {
    "duration": 645,
    "start_time": "2022-06-19T10:10:38.576Z"
   },
   {
    "duration": 5823,
    "start_time": "2022-06-19T12:09:56.525Z"
   },
   {
    "duration": 4,
    "start_time": "2022-06-19T12:10:02.350Z"
   },
   {
    "duration": 2149,
    "start_time": "2022-06-19T12:10:02.355Z"
   },
   {
    "duration": 284,
    "start_time": "2022-06-19T12:10:04.506Z"
   },
   {
    "duration": 8,
    "start_time": "2022-06-19T12:10:04.792Z"
   },
   {
    "duration": 408,
    "start_time": "2022-06-19T12:10:04.802Z"
   },
   {
    "duration": 71,
    "start_time": "2022-06-19T12:10:10.272Z"
   },
   {
    "duration": 3,
    "start_time": "2022-06-19T12:12:30.920Z"
   },
   {
    "duration": 134,
    "start_time": "2022-06-19T12:12:36.336Z"
   },
   {
    "duration": 1885,
    "start_time": "2022-06-19T12:12:42.440Z"
   },
   {
    "duration": 515,
    "start_time": "2022-06-19T12:18:36.400Z"
   },
   {
    "duration": 0,
    "start_time": "2022-06-19T12:22:42.195Z"
   },
   {
    "duration": 3894,
    "start_time": "2022-06-19T12:23:11.008Z"
   },
   {
    "duration": 4,
    "start_time": "2022-06-19T12:23:14.904Z"
   },
   {
    "duration": 732,
    "start_time": "2022-06-19T12:23:14.910Z"
   },
   {
    "duration": 290,
    "start_time": "2022-06-19T12:23:15.644Z"
   },
   {
    "duration": 8,
    "start_time": "2022-06-19T12:23:15.936Z"
   },
   {
    "duration": 242,
    "start_time": "2022-06-19T12:23:15.946Z"
   },
   {
    "duration": 49,
    "start_time": "2022-06-19T12:23:16.189Z"
   },
   {
    "duration": 38,
    "start_time": "2022-06-19T12:23:16.240Z"
   },
   {
    "duration": 143,
    "start_time": "2022-06-19T12:23:16.280Z"
   },
   {
    "duration": 1831,
    "start_time": "2022-06-19T12:23:16.425Z"
   },
   {
    "duration": 7,
    "start_time": "2022-06-19T12:23:18.258Z"
   },
   {
    "duration": 3,
    "start_time": "2022-06-19T12:23:21.520Z"
   },
   {
    "duration": 32449,
    "start_time": "2022-06-19T12:23:23.262Z"
   },
   {
    "duration": 17,
    "start_time": "2022-06-19T12:24:14.861Z"
   },
   {
    "duration": 562,
    "start_time": "2022-06-19T12:28:42.548Z"
   },
   {
    "duration": 15,
    "start_time": "2022-06-19T12:28:53.691Z"
   },
   {
    "duration": 464,
    "start_time": "2022-06-19T12:34:29.374Z"
   },
   {
    "duration": 369,
    "start_time": "2022-06-19T12:34:33.755Z"
   },
   {
    "duration": 394,
    "start_time": "2022-06-19T12:34:42.721Z"
   },
   {
    "duration": 39855,
    "start_time": "2022-06-19T12:34:43.117Z"
   },
   {
    "duration": 18931,
    "start_time": "2022-06-19T12:36:00.383Z"
   },
   {
    "duration": 390,
    "start_time": "2022-06-19T12:36:21.222Z"
   },
   {
    "duration": 47700,
    "start_time": "2022-06-19T12:36:22.527Z"
   },
   {
    "duration": 4088,
    "start_time": "2022-06-19T12:46:10.619Z"
   },
   {
    "duration": 4,
    "start_time": "2022-06-19T12:46:15.312Z"
   },
   {
    "duration": 729,
    "start_time": "2022-06-19T12:46:16.301Z"
   },
   {
    "duration": 291,
    "start_time": "2022-06-19T12:46:17.586Z"
   },
   {
    "duration": 8,
    "start_time": "2022-06-19T12:46:24.661Z"
   },
   {
    "duration": 222,
    "start_time": "2022-06-19T12:46:26.064Z"
   },
   {
    "duration": 49,
    "start_time": "2022-06-19T12:46:41.060Z"
   },
   {
    "duration": 4,
    "start_time": "2022-06-19T12:47:44.855Z"
   },
   {
    "duration": 321,
    "start_time": "2022-06-19T12:48:54.569Z"
   },
   {
    "duration": 33173,
    "start_time": "2022-06-19T12:49:10.717Z"
   },
   {
    "duration": 4,
    "start_time": "2022-06-19T12:50:13.324Z"
   },
   {
    "duration": 7,
    "start_time": "2022-06-19T12:50:13.329Z"
   },
   {
    "duration": 1029,
    "start_time": "2022-06-19T12:50:13.337Z"
   },
   {
    "duration": 317,
    "start_time": "2022-06-19T12:50:14.368Z"
   },
   {
    "duration": 8,
    "start_time": "2022-06-19T12:50:14.688Z"
   },
   {
    "duration": 113,
    "start_time": "2022-06-19T12:50:14.698Z"
   },
   {
    "duration": 70,
    "start_time": "2022-06-19T12:50:14.813Z"
   },
   {
    "duration": 3,
    "start_time": "2022-06-19T12:50:14.885Z"
   },
   {
    "duration": 34160,
    "start_time": "2022-06-19T12:50:14.890Z"
   },
   {
    "duration": 19,
    "start_time": "2022-06-19T12:51:20.083Z"
   },
   {
    "duration": 572,
    "start_time": "2022-06-19T12:51:33.884Z"
   },
   {
    "duration": 3,
    "start_time": "2022-06-19T12:51:41.750Z"
   },
   {
    "duration": 139,
    "start_time": "2022-06-19T12:51:58.607Z"
   },
   {
    "duration": 1970,
    "start_time": "2022-06-19T12:52:05.959Z"
   },
   {
    "duration": 13,
    "start_time": "2022-06-19T12:52:20.476Z"
   },
   {
    "duration": 15,
    "start_time": "2022-06-19T13:24:28.918Z"
   },
   {
    "duration": 18,
    "start_time": "2022-06-19T13:24:43.947Z"
   },
   {
    "duration": 49,
    "start_time": "2022-06-19T13:24:47.756Z"
   },
   {
    "duration": 4,
    "start_time": "2022-06-19T13:24:48.965Z"
   },
   {
    "duration": 17,
    "start_time": "2022-06-19T13:25:10.077Z"
   },
   {
    "duration": 200,
    "start_time": "2022-06-19T13:25:18.572Z"
   },
   {
    "duration": 16,
    "start_time": "2022-06-19T13:25:21.005Z"
   },
   {
    "duration": 3,
    "start_time": "2022-06-19T13:26:30.469Z"
   },
   {
    "duration": 6169,
    "start_time": "2022-06-19T13:26:36.909Z"
   },
   {
    "duration": 6146,
    "start_time": "2022-06-19T13:26:46.701Z"
   },
   {
    "duration": 3,
    "start_time": "2022-06-19T13:27:10.494Z"
   },
   {
    "duration": 11669,
    "start_time": "2022-06-19T13:27:12.844Z"
   },
   {
    "duration": 2562,
    "start_time": "2022-06-19T13:27:27.148Z"
   },
   {
    "duration": 72355,
    "start_time": "2022-06-19T13:27:41.856Z"
   },
   {
    "duration": 144691,
    "start_time": "2022-06-19T13:29:02.574Z"
   },
   {
    "duration": 5,
    "start_time": "2022-06-19T13:58:14.224Z"
   },
   {
    "duration": 11,
    "start_time": "2022-06-19T13:58:14.231Z"
   },
   {
    "duration": 721,
    "start_time": "2022-06-19T13:58:14.244Z"
   },
   {
    "duration": 288,
    "start_time": "2022-06-19T13:58:14.967Z"
   },
   {
    "duration": 13,
    "start_time": "2022-06-19T13:58:15.256Z"
   },
   {
    "duration": 100,
    "start_time": "2022-06-19T13:58:15.270Z"
   },
   {
    "duration": 66,
    "start_time": "2022-06-19T13:58:15.372Z"
   },
   {
    "duration": 11,
    "start_time": "2022-06-19T13:58:15.440Z"
   },
   {
    "duration": 31982,
    "start_time": "2022-06-19T13:58:15.452Z"
   },
   {
    "duration": 565,
    "start_time": "2022-06-19T13:58:47.436Z"
   },
   {
    "duration": 3,
    "start_time": "2022-06-19T13:58:48.002Z"
   },
   {
    "duration": 104,
    "start_time": "2022-06-19T13:58:48.007Z"
   },
   {
    "duration": 1836,
    "start_time": "2022-06-19T13:58:48.113Z"
   },
   {
    "duration": 62,
    "start_time": "2022-06-19T13:58:49.952Z"
   },
   {
    "duration": 4,
    "start_time": "2022-06-19T13:58:50.016Z"
   },
   {
    "duration": 21,
    "start_time": "2022-06-19T13:58:50.022Z"
   },
   {
    "duration": 27,
    "start_time": "2022-06-19T13:58:50.045Z"
   },
   {
    "duration": 9,
    "start_time": "2022-06-19T13:58:50.074Z"
   },
   {
    "duration": 5774,
    "start_time": "2022-06-19T13:58:50.085Z"
   },
   {
    "duration": 37676,
    "start_time": "2022-06-19T13:58:55.861Z"
   },
   {
    "duration": 3,
    "start_time": "2022-06-19T14:02:16.064Z"
   },
   {
    "duration": 12388,
    "start_time": "2022-06-19T14:02:19.768Z"
   },
   {
    "duration": 9674,
    "start_time": "2022-06-19T14:02:32.164Z"
   },
   {
    "duration": 4114,
    "start_time": "2022-06-19T14:03:56.591Z"
   },
   {
    "duration": 4,
    "start_time": "2022-06-19T14:04:00.707Z"
   },
   {
    "duration": 843,
    "start_time": "2022-06-19T14:04:00.712Z"
   },
   {
    "duration": 308,
    "start_time": "2022-06-19T14:04:01.557Z"
   },
   {
    "duration": 10,
    "start_time": "2022-06-19T14:04:01.867Z"
   },
   {
    "duration": 250,
    "start_time": "2022-06-19T14:04:01.879Z"
   },
   {
    "duration": 61,
    "start_time": "2022-06-19T14:04:02.131Z"
   },
   {
    "duration": 17,
    "start_time": "2022-06-19T14:04:02.194Z"
   },
   {
    "duration": 32334,
    "start_time": "2022-06-19T14:04:02.212Z"
   },
   {
    "duration": 562,
    "start_time": "2022-06-19T14:04:34.548Z"
   },
   {
    "duration": 4,
    "start_time": "2022-06-19T14:04:35.112Z"
   },
   {
    "duration": 117,
    "start_time": "2022-06-19T14:04:35.117Z"
   },
   {
    "duration": 1758,
    "start_time": "2022-06-19T14:04:35.236Z"
   },
   {
    "duration": 50,
    "start_time": "2022-06-19T14:04:36.997Z"
   },
   {
    "duration": 16,
    "start_time": "2022-06-19T14:04:37.049Z"
   },
   {
    "duration": 28,
    "start_time": "2022-06-19T14:04:37.066Z"
   },
   {
    "duration": 3,
    "start_time": "2022-06-19T14:04:37.096Z"
   },
   {
    "duration": 207,
    "start_time": "2022-06-19T14:04:37.101Z"
   },
   {
    "duration": 6090,
    "start_time": "2022-06-19T14:04:37.310Z"
   },
   {
    "duration": 22511,
    "start_time": "2022-06-19T14:04:43.402Z"
   },
   {
    "duration": 3,
    "start_time": "2022-06-19T14:05:05.915Z"
   },
   {
    "duration": 12714,
    "start_time": "2022-06-19T14:05:05.920Z"
   },
   {
    "duration": 7953,
    "start_time": "2022-06-19T14:05:18.635Z"
   },
   {
    "duration": 321321,
    "start_time": "2022-06-19T14:06:01.537Z"
   },
   {
    "duration": 122938,
    "start_time": "2022-06-19T14:11:22.865Z"
   },
   {
    "duration": 5556,
    "start_time": "2022-06-19T14:18:01.307Z"
   },
   {
    "duration": 5,
    "start_time": "2022-06-19T14:18:06.864Z"
   },
   {
    "duration": 1047,
    "start_time": "2022-06-19T14:18:06.871Z"
   },
   {
    "duration": 362,
    "start_time": "2022-06-19T14:18:07.921Z"
   },
   {
    "duration": 13,
    "start_time": "2022-06-19T14:18:08.286Z"
   },
   {
    "duration": 325,
    "start_time": "2022-06-19T14:18:08.301Z"
   },
   {
    "duration": 89,
    "start_time": "2022-06-19T14:18:08.629Z"
   },
   {
    "duration": 8,
    "start_time": "2022-06-19T14:18:08.721Z"
   },
   {
    "duration": 48480,
    "start_time": "2022-06-19T14:18:08.731Z"
   },
   {
    "duration": 962,
    "start_time": "2022-06-19T14:18:57.216Z"
   },
   {
    "duration": 8,
    "start_time": "2022-06-19T14:18:58.181Z"
   },
   {
    "duration": 233,
    "start_time": "2022-06-19T14:18:58.191Z"
   },
   {
    "duration": 3167,
    "start_time": "2022-06-19T14:18:58.428Z"
   },
   {
    "duration": 70,
    "start_time": "2022-06-19T14:19:01.600Z"
   },
   {
    "duration": 3,
    "start_time": "2022-06-19T14:19:01.672Z"
   },
   {
    "duration": 77,
    "start_time": "2022-06-19T14:19:01.677Z"
   },
   {
    "duration": 5,
    "start_time": "2022-06-19T14:19:01.756Z"
   },
   {
    "duration": 361,
    "start_time": "2022-06-19T14:19:01.763Z"
   },
   {
    "duration": 10182,
    "start_time": "2022-06-19T14:19:02.129Z"
   },
   {
    "duration": 36912,
    "start_time": "2022-06-19T14:19:12.316Z"
   },
   {
    "duration": 5,
    "start_time": "2022-06-19T14:19:49.230Z"
   },
   {
    "duration": 19694,
    "start_time": "2022-06-19T14:19:49.236Z"
   },
   {
    "duration": 63165,
    "start_time": "2022-06-19T14:20:08.932Z"
   },
   {
    "duration": 5,
    "start_time": "2022-06-19T14:21:12.100Z"
   },
   {
    "duration": 174685,
    "start_time": "2022-06-19T14:21:12.107Z"
   },
   {
    "duration": 27947,
    "start_time": "2022-06-19T14:24:06.794Z"
   },
   {
    "duration": 65322,
    "start_time": "2022-06-19T14:24:34.744Z"
   },
   {
    "duration": 14347,
    "start_time": "2022-06-19T14:25:40.068Z"
   },
   {
    "duration": 20,
    "start_time": "2022-06-19T14:25:54.417Z"
   },
   {
    "duration": 43822,
    "start_time": "2022-06-19T14:34:33.502Z"
   },
   {
    "duration": 6,
    "start_time": "2022-06-19T14:35:17.344Z"
   },
   {
    "duration": 2329,
    "start_time": "2022-06-19T14:35:17.352Z"
   },
   {
    "duration": 475,
    "start_time": "2022-06-19T14:35:19.698Z"
   },
   {
    "duration": 17,
    "start_time": "2022-06-19T14:35:20.180Z"
   },
   {
    "duration": 568,
    "start_time": "2022-06-19T14:35:20.203Z"
   },
   {
    "duration": 100,
    "start_time": "2022-06-19T14:35:20.776Z"
   },
   {
    "duration": 83,
    "start_time": "2022-06-19T14:35:20.883Z"
   },
   {
    "duration": 54772,
    "start_time": "2022-06-19T14:35:20.972Z"
   },
   {
    "duration": 931,
    "start_time": "2022-06-19T14:36:15.746Z"
   },
   {
    "duration": 6,
    "start_time": "2022-06-19T14:36:16.679Z"
   },
   {
    "duration": 255,
    "start_time": "2022-06-19T14:36:16.691Z"
   },
   {
    "duration": 2833,
    "start_time": "2022-06-19T14:36:16.948Z"
   },
   {
    "duration": 88,
    "start_time": "2022-06-19T14:36:19.793Z"
   },
   {
    "duration": 35,
    "start_time": "2022-06-19T14:36:19.883Z"
   },
   {
    "duration": 61,
    "start_time": "2022-06-19T14:36:19.920Z"
   },
   {
    "duration": 72,
    "start_time": "2022-06-19T14:36:19.987Z"
   },
   {
    "duration": 457,
    "start_time": "2022-06-19T14:36:20.062Z"
   },
   {
    "duration": 10264,
    "start_time": "2022-06-19T14:36:20.521Z"
   },
   {
    "duration": 36094,
    "start_time": "2022-06-19T14:36:30.798Z"
   },
   {
    "duration": 6,
    "start_time": "2022-06-19T14:37:06.898Z"
   },
   {
    "duration": 21006,
    "start_time": "2022-06-19T14:37:06.910Z"
   },
   {
    "duration": 63523,
    "start_time": "2022-06-19T14:37:27.918Z"
   },
   {
    "duration": 7,
    "start_time": "2022-06-19T14:38:31.444Z"
   },
   {
    "duration": 186789,
    "start_time": "2022-06-19T14:38:31.453Z"
   },
   {
    "duration": 4783,
    "start_time": "2022-06-19T14:53:50.010Z"
   },
   {
    "duration": 5150,
    "start_time": "2022-06-19T14:55:25.400Z"
   },
   {
    "duration": 5,
    "start_time": "2022-06-19T14:55:32.772Z"
   },
   {
    "duration": 1032,
    "start_time": "2022-06-19T14:55:36.402Z"
   },
   {
    "duration": 382,
    "start_time": "2022-06-19T14:55:37.438Z"
   },
   {
    "duration": 9,
    "start_time": "2022-06-19T14:55:55.043Z"
   },
   {
    "duration": 291,
    "start_time": "2022-06-19T14:55:56.544Z"
   },
   {
    "duration": 101,
    "start_time": "2022-06-19T14:55:59.421Z"
   },
   {
    "duration": 7,
    "start_time": "2022-06-19T14:56:02.699Z"
   },
   {
    "duration": 48897,
    "start_time": "2022-06-19T14:56:03.811Z"
   },
   {
    "duration": 865,
    "start_time": "2022-06-19T14:57:00.862Z"
   },
   {
    "duration": 4,
    "start_time": "2022-06-19T14:57:03.323Z"
   },
   {
    "duration": 157,
    "start_time": "2022-06-19T14:57:09.601Z"
   },
   {
    "duration": 2470,
    "start_time": "2022-06-19T14:57:10.659Z"
   },
   {
    "duration": 81,
    "start_time": "2022-06-19T14:57:19.423Z"
   },
   {
    "duration": 4,
    "start_time": "2022-06-19T14:57:21.355Z"
   },
   {
    "duration": 24,
    "start_time": "2022-06-19T14:57:26.514Z"
   },
   {
    "duration": 5,
    "start_time": "2022-06-19T14:57:32.716Z"
   },
   {
    "duration": 255,
    "start_time": "2022-06-19T14:57:39.388Z"
   },
   {
    "duration": 8813,
    "start_time": "2022-06-19T14:57:43.362Z"
   },
   {
    "duration": 31730,
    "start_time": "2022-06-19T14:58:03.349Z"
   },
   {
    "duration": 4,
    "start_time": "2022-06-19T14:58:53.406Z"
   },
   {
    "duration": 17673,
    "start_time": "2022-06-19T14:58:58.857Z"
   },
   {
    "duration": 55282,
    "start_time": "2022-06-19T14:59:22.843Z"
   },
   {
    "duration": 13,
    "start_time": "2022-06-19T15:00:45.763Z"
   },
   {
    "duration": 56253,
    "start_time": "2022-06-19T15:00:48.194Z"
   },
   {
    "duration": 547387,
    "start_time": "2022-06-19T15:02:20.414Z"
   },
   {
    "duration": 167755,
    "start_time": "2022-06-19T15:11:27.814Z"
   },
   {
    "duration": 485712,
    "start_time": "2022-06-19T15:14:15.573Z"
   },
   {
    "duration": 104255,
    "start_time": "2022-06-19T15:22:21.301Z"
   },
   {
    "duration": 10,
    "start_time": "2022-06-19T15:25:57.605Z"
   },
   {
    "duration": 57,
    "start_time": "2022-06-19T15:26:07.724Z"
   },
   {
    "duration": 28392,
    "start_time": "2022-06-19T15:27:44.332Z"
   },
   {
    "duration": 4,
    "start_time": "2022-06-19T15:28:12.726Z"
   },
   {
    "duration": 3187,
    "start_time": "2022-06-19T15:28:12.731Z"
   },
   {
    "duration": 327,
    "start_time": "2022-06-19T15:28:15.920Z"
   },
   {
    "duration": 19,
    "start_time": "2022-06-19T15:28:16.250Z"
   },
   {
    "duration": 259,
    "start_time": "2022-06-19T15:28:16.272Z"
   },
   {
    "duration": 83,
    "start_time": "2022-06-19T15:28:16.533Z"
   },
   {
    "duration": 11,
    "start_time": "2022-06-19T15:28:16.618Z"
   },
   {
    "duration": 43017,
    "start_time": "2022-06-19T15:28:16.631Z"
   },
   {
    "duration": 788,
    "start_time": "2022-06-19T15:28:59.651Z"
   },
   {
    "duration": 3,
    "start_time": "2022-06-19T15:29:00.440Z"
   },
   {
    "duration": 216,
    "start_time": "2022-06-19T15:29:00.445Z"
   },
   {
    "duration": 1139,
    "start_time": "2022-06-19T15:29:00.662Z"
   },
   {
    "duration": 81,
    "start_time": "2022-06-19T15:29:01.813Z"
   },
   {
    "duration": 11,
    "start_time": "2022-06-19T15:29:01.900Z"
   },
   {
    "duration": 39,
    "start_time": "2022-06-19T15:29:01.913Z"
   },
   {
    "duration": 3,
    "start_time": "2022-06-19T15:29:01.954Z"
   },
   {
    "duration": 274,
    "start_time": "2022-06-19T15:29:01.959Z"
   },
   {
    "duration": 3519,
    "start_time": "2022-06-19T15:29:02.235Z"
   },
   {
    "duration": 11442,
    "start_time": "2022-06-19T15:29:05.756Z"
   },
   {
    "duration": 6,
    "start_time": "2022-06-19T15:29:17.202Z"
   },
   {
    "duration": 10480,
    "start_time": "2022-06-19T15:29:17.210Z"
   },
   {
    "duration": 29212,
    "start_time": "2022-06-19T15:29:27.692Z"
   },
   {
    "duration": 4729,
    "start_time": "2022-06-19T15:30:54.126Z"
   },
   {
    "duration": 7,
    "start_time": "2022-06-19T15:30:58.858Z"
   },
   {
    "duration": 969,
    "start_time": "2022-06-19T15:30:58.868Z"
   },
   {
    "duration": 343,
    "start_time": "2022-06-19T15:30:59.839Z"
   },
   {
    "duration": 11,
    "start_time": "2022-06-19T15:31:00.184Z"
   },
   {
    "duration": 302,
    "start_time": "2022-06-19T15:31:00.197Z"
   },
   {
    "duration": 87,
    "start_time": "2022-06-19T15:31:00.505Z"
   },
   {
    "duration": 54,
    "start_time": "2022-06-19T15:31:00.594Z"
   },
   {
    "duration": 42567,
    "start_time": "2022-06-19T15:31:00.649Z"
   },
   {
    "duration": 739,
    "start_time": "2022-06-19T15:31:43.219Z"
   },
   {
    "duration": 18,
    "start_time": "2022-06-19T15:31:43.960Z"
   },
   {
    "duration": 189,
    "start_time": "2022-06-19T15:31:43.979Z"
   },
   {
    "duration": 1705,
    "start_time": "2022-06-19T15:31:44.172Z"
   },
   {
    "duration": 64,
    "start_time": "2022-06-19T15:31:45.879Z"
   },
   {
    "duration": 4,
    "start_time": "2022-06-19T15:31:45.945Z"
   },
   {
    "duration": 38,
    "start_time": "2022-06-19T15:31:45.950Z"
   },
   {
    "duration": 18,
    "start_time": "2022-06-19T15:31:45.991Z"
   },
   {
    "duration": 198,
    "start_time": "2022-06-19T15:31:46.011Z"
   },
   {
    "duration": 5338,
    "start_time": "2022-06-19T15:31:46.211Z"
   },
   {
    "duration": 18807,
    "start_time": "2022-06-19T15:31:51.551Z"
   },
   {
    "duration": 3,
    "start_time": "2022-06-19T15:32:10.360Z"
   },
   {
    "duration": 13177,
    "start_time": "2022-06-19T15:32:10.364Z"
   },
   {
    "duration": 37471,
    "start_time": "2022-06-19T15:32:23.542Z"
   },
   {
    "duration": 5102,
    "start_time": "2022-06-19T15:37:27.651Z"
   },
   {
    "duration": 4,
    "start_time": "2022-06-19T15:37:32.755Z"
   },
   {
    "duration": 994,
    "start_time": "2022-06-19T15:37:32.761Z"
   },
   {
    "duration": 402,
    "start_time": "2022-06-19T15:37:33.756Z"
   },
   {
    "duration": 28,
    "start_time": "2022-06-19T15:37:34.171Z"
   },
   {
    "duration": 313,
    "start_time": "2022-06-19T15:37:34.201Z"
   },
   {
    "duration": 77,
    "start_time": "2022-06-19T15:37:34.519Z"
   },
   {
    "duration": 39,
    "start_time": "2022-06-19T15:37:34.598Z"
   },
   {
    "duration": 7,
    "start_time": "2022-06-19T15:37:34.639Z"
   },
   {
    "duration": 177,
    "start_time": "2022-06-19T15:37:34.648Z"
   },
   {
    "duration": 46260,
    "start_time": "2022-06-19T15:37:34.827Z"
   },
   {
    "duration": 717,
    "start_time": "2022-06-19T15:38:21.092Z"
   },
   {
    "duration": 2508,
    "start_time": "2022-06-19T15:38:21.813Z"
   },
   {
    "duration": 71,
    "start_time": "2022-06-19T15:38:24.324Z"
   },
   {
    "duration": 4,
    "start_time": "2022-06-19T15:38:24.400Z"
   },
   {
    "duration": 44,
    "start_time": "2022-06-19T15:38:24.407Z"
   },
   {
    "duration": 5,
    "start_time": "2022-06-19T15:38:24.453Z"
   },
   {
    "duration": 301,
    "start_time": "2022-06-19T15:38:24.460Z"
   },
   {
    "duration": 8530,
    "start_time": "2022-06-19T15:38:24.763Z"
   },
   {
    "duration": 30526,
    "start_time": "2022-06-19T15:38:33.300Z"
   },
   {
    "duration": 4,
    "start_time": "2022-06-19T15:39:03.828Z"
   },
   {
    "duration": 17821,
    "start_time": "2022-06-19T15:39:03.834Z"
   },
   {
    "duration": 55117,
    "start_time": "2022-06-19T15:39:21.657Z"
   },
   {
    "duration": 4,
    "start_time": "2022-06-19T15:40:54.511Z"
   },
   {
    "duration": 29005,
    "start_time": "2022-06-19T15:41:00.392Z"
   },
   {
    "duration": 379354,
    "start_time": "2022-06-19T15:41:29.400Z"
   },
   {
    "duration": 182325,
    "start_time": "2022-06-19T15:48:37.917Z"
   },
   {
    "duration": 461005,
    "start_time": "2022-06-19T15:51:55.794Z"
   },
   {
    "duration": 101736,
    "start_time": "2022-06-19T15:59:52.880Z"
   },
   {
    "duration": 8,
    "start_time": "2022-06-19T16:23:49.368Z"
   },
   {
    "duration": 8,
    "start_time": "2022-06-19T16:36:35.210Z"
   }
  ],
  "kernelspec": {
   "display_name": "Python 3 (ipykernel)",
   "language": "python",
   "name": "python3"
  },
  "language_info": {
   "codemirror_mode": {
    "name": "ipython",
    "version": 3
   },
   "file_extension": ".py",
   "mimetype": "text/x-python",
   "name": "python",
   "nbconvert_exporter": "python",
   "pygments_lexer": "ipython3",
   "version": "3.9.7"
  },
  "toc": {
   "base_numbering": 1,
   "nav_menu": {},
   "number_sections": true,
   "sideBar": true,
   "skip_h1_title": true,
   "title_cell": "Содержание",
   "title_sidebar": "Contents",
   "toc_cell": true,
   "toc_position": {
    "height": "calc(100% - 180px)",
    "left": "10px",
    "top": "150px",
    "width": "302.391px"
   },
   "toc_section_display": true,
   "toc_window_display": true
  }
 },
 "nbformat": 4,
 "nbformat_minor": 2
}
