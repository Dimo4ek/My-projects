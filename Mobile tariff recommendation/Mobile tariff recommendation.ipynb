{
 "cells": [
  {
   "cell_type": "markdown",
   "metadata": {},
   "source": [
    "# Рекомендация мобильного тарифа"
   ]
  },
  {
   "cell_type": "markdown",
   "metadata": {},
   "source": [
    "**Описание проекта**\n",
    "\n",
    "Оператор мобильной связи выяснил: многие клиенты пользуются архивными тарифами. Они хотят построить систему, способную проанализировать поведение клиентов и предложить пользователям новый тариф: «Смарт» или «Ультра».\n",
    "\n",
    "В вашем распоряжении данные о поведении клиентов, которые уже перешли на эти тарифы. Нужно построить модель для задачи классификации, которая выберет подходящий тариф.\n",
    "\n",
    "Постройте модель с максимально большим значением *accuracy*. Чтобы сдать проект успешно, нужно довести долю правильных ответов по крайней мере до 0.75."
   ]
  },
  {
   "cell_type": "markdown",
   "metadata": {},
   "source": [
    "## Откроем и изучим файл"
   ]
  },
  {
   "cell_type": "markdown",
   "metadata": {},
   "source": [
    "Чтобы изучить данные таблицы, сделать необходимые рассчёты и провести исследование сразу импортируем библиотеки, который нам потребуются в данном проекте:"
   ]
  },
  {
   "cell_type": "code",
   "execution_count": 1,
   "metadata": {},
   "outputs": [],
   "source": [
    "from io import BytesIO\n",
    "from sklearn.dummy import DummyClassifier\n",
    "from sklearn.ensemble import RandomForestClassifier\n",
    "from sklearn.linear_model import LogisticRegression\n",
    "from sklearn.metrics import accuracy_score\n",
    "from sklearn.metrics import mean_squared_error\n",
    "from sklearn.model_selection import train_test_split\n",
    "from sklearn.tree import DecisionTreeClassifier \n",
    "\n",
    "import numpy as np \n",
    "import pandas as pd\n",
    "import requests"
   ]
  },
  {
   "cell_type": "markdown",
   "metadata": {},
   "source": [
    "Напишем функцию, чтобы прочитать и сохранить данные из Google Sheets"
   ]
  },
  {
   "cell_type": "code",
   "execution_count": 2,
   "metadata": {},
   "outputs": [],
   "source": [
    "def table(spreadsheet_id):\n",
    "    spreadsheet_id = spreadsheet_id\n",
    "    file_name = 'https://docs.google.com/spreadsheets/d/{}/export?format=csv'.format(spreadsheet_id)\n",
    "    r = requests.get(file_name)\n",
    "    table = pd.read_csv(BytesIO(r.content))\n",
    "    return table"
   ]
  },
  {
   "cell_type": "markdown",
   "metadata": {},
   "source": [
    "Прочитаем и сохраним файл, который предоставил заказчик"
   ]
  },
  {
   "cell_type": "code",
   "execution_count": 3,
   "metadata": {},
   "outputs": [
    {
     "data": {
      "text/html": [
       "<div>\n",
       "<style scoped>\n",
       "    .dataframe tbody tr th:only-of-type {\n",
       "        vertical-align: middle;\n",
       "    }\n",
       "\n",
       "    .dataframe tbody tr th {\n",
       "        vertical-align: top;\n",
       "    }\n",
       "\n",
       "    .dataframe thead th {\n",
       "        text-align: right;\n",
       "    }\n",
       "</style>\n",
       "<table border=\"1\" class=\"dataframe\">\n",
       "  <thead>\n",
       "    <tr style=\"text-align: right;\">\n",
       "      <th></th>\n",
       "      <th>calls</th>\n",
       "      <th>minutes</th>\n",
       "      <th>messages</th>\n",
       "      <th>mb_used</th>\n",
       "      <th>is_ultra</th>\n",
       "    </tr>\n",
       "  </thead>\n",
       "  <tbody>\n",
       "    <tr>\n",
       "      <th>0</th>\n",
       "      <td>40.0</td>\n",
       "      <td>311.90</td>\n",
       "      <td>83.0</td>\n",
       "      <td>19915.42</td>\n",
       "      <td>0</td>\n",
       "    </tr>\n",
       "    <tr>\n",
       "      <th>1</th>\n",
       "      <td>85.0</td>\n",
       "      <td>516.75</td>\n",
       "      <td>56.0</td>\n",
       "      <td>22696.96</td>\n",
       "      <td>0</td>\n",
       "    </tr>\n",
       "    <tr>\n",
       "      <th>2</th>\n",
       "      <td>77.0</td>\n",
       "      <td>467.66</td>\n",
       "      <td>86.0</td>\n",
       "      <td>21060.45</td>\n",
       "      <td>0</td>\n",
       "    </tr>\n",
       "    <tr>\n",
       "      <th>3</th>\n",
       "      <td>106.0</td>\n",
       "      <td>745.53</td>\n",
       "      <td>81.0</td>\n",
       "      <td>8437.39</td>\n",
       "      <td>1</td>\n",
       "    </tr>\n",
       "    <tr>\n",
       "      <th>4</th>\n",
       "      <td>66.0</td>\n",
       "      <td>418.74</td>\n",
       "      <td>1.0</td>\n",
       "      <td>14502.75</td>\n",
       "      <td>0</td>\n",
       "    </tr>\n",
       "    <tr>\n",
       "      <th>5</th>\n",
       "      <td>58.0</td>\n",
       "      <td>344.56</td>\n",
       "      <td>21.0</td>\n",
       "      <td>15823.37</td>\n",
       "      <td>0</td>\n",
       "    </tr>\n",
       "    <tr>\n",
       "      <th>6</th>\n",
       "      <td>57.0</td>\n",
       "      <td>431.64</td>\n",
       "      <td>20.0</td>\n",
       "      <td>3738.90</td>\n",
       "      <td>1</td>\n",
       "    </tr>\n",
       "    <tr>\n",
       "      <th>7</th>\n",
       "      <td>15.0</td>\n",
       "      <td>132.40</td>\n",
       "      <td>6.0</td>\n",
       "      <td>21911.60</td>\n",
       "      <td>0</td>\n",
       "    </tr>\n",
       "    <tr>\n",
       "      <th>8</th>\n",
       "      <td>7.0</td>\n",
       "      <td>43.39</td>\n",
       "      <td>3.0</td>\n",
       "      <td>2538.67</td>\n",
       "      <td>1</td>\n",
       "    </tr>\n",
       "    <tr>\n",
       "      <th>9</th>\n",
       "      <td>90.0</td>\n",
       "      <td>665.41</td>\n",
       "      <td>38.0</td>\n",
       "      <td>17358.61</td>\n",
       "      <td>0</td>\n",
       "    </tr>\n",
       "  </tbody>\n",
       "</table>\n",
       "</div>"
      ],
      "text/plain": [
       "   calls  minutes  messages   mb_used  is_ultra\n",
       "0   40.0   311.90      83.0  19915.42         0\n",
       "1   85.0   516.75      56.0  22696.96         0\n",
       "2   77.0   467.66      86.0  21060.45         0\n",
       "3  106.0   745.53      81.0   8437.39         1\n",
       "4   66.0   418.74       1.0  14502.75         0\n",
       "5   58.0   344.56      21.0  15823.37         0\n",
       "6   57.0   431.64      20.0   3738.90         1\n",
       "7   15.0   132.40       6.0  21911.60         0\n",
       "8    7.0    43.39       3.0   2538.67         1\n",
       "9   90.0   665.41      38.0  17358.61         0"
      ]
     },
     "execution_count": 3,
     "metadata": {},
     "output_type": "execute_result"
    }
   ],
   "source": [
    "df = table('1srONTJ3arz9RzNbvnzCv9axNq5_jT10PoTflbj86PKM') # чтение файла с данными и сохранение в df \n",
    "df.head(10) # получение первых 10 строк таблицы df"
   ]
  },
  {
   "cell_type": "markdown",
   "metadata": {},
   "source": [
    "Получим общую информацию о таблице"
   ]
  },
  {
   "cell_type": "code",
   "execution_count": 4,
   "metadata": {},
   "outputs": [
    {
     "name": "stdout",
     "output_type": "stream",
     "text": [
      "<class 'pandas.core.frame.DataFrame'>\n",
      "RangeIndex: 3214 entries, 0 to 3213\n",
      "Data columns (total 5 columns):\n",
      " #   Column    Non-Null Count  Dtype  \n",
      "---  ------    --------------  -----  \n",
      " 0   calls     3214 non-null   float64\n",
      " 1   minutes   3214 non-null   float64\n",
      " 2   messages  3214 non-null   float64\n",
      " 3   mb_used   3214 non-null   float64\n",
      " 4   is_ultra  3214 non-null   int64  \n",
      "dtypes: float64(4), int64(1)\n",
      "memory usage: 125.7 KB\n"
     ]
    }
   ],
   "source": [
    "df.info() # получение общей информации о данных в таблице"
   ]
  },
  {
   "cell_type": "markdown",
   "metadata": {},
   "source": [
    "В таблице 5 столбцов. Типы данных в столбцах — `float`, `int`.\n",
    "\n",
    "Согласно документации к данным каждый объект в наборе данных — это информация о поведении одного пользователя за месяц. Известно:\n",
    "* сalls — количество звонков,\n",
    "* minutes — суммарная длительность звонков в минутах,\n",
    "* messages — количество sms-сообщений,\n",
    "* mb_used — израсходованный интернет-трафик в Мб,\n",
    "* is_ultra — каким тарифом пользовался в течение месяца («Ультра» — 1, «Смарт» — 0)."
   ]
  },
  {
   "cell_type": "markdown",
   "metadata": {},
   "source": [
    "**Вывод**\n",
    "\n",
    "Нам дана таблица из 3214 строк с данными клиентов за месяц с указанием совершённых звонков, потраченных минут и интернет трафика, отправленных сообщений и названием тарифа клиента.\n",
    "\n",
    "Предварительно можно утверждать, что, данных достаточно для проведения исследования.\n",
    "\n",
    "В ТЗ сказано, что предобработка данных не понадобится. Это подтверждается тем, что в данных отсуствуют пропуски и нет расхождений с хорошим стилем."
   ]
  },
  {
   "cell_type": "markdown",
   "metadata": {},
   "source": [
    "## Разобьём данные на выборки"
   ]
  },
  {
   "cell_type": "markdown",
   "metadata": {},
   "source": [
    "Сделаем 3 выборки - обучающую, валидационную и тестовую в пропорциях 60%, 20% и 20% соответственно.\n",
    "<br>Для этого разделим весь датасет сначала в пропорциях 80% к 20%, а потом полученные 80% разделим на 75% и 25%, чтобы пропорции первого датасета были были 3:1:1."
   ]
  },
  {
   "cell_type": "code",
   "execution_count": 5,
   "metadata": {},
   "outputs": [],
   "source": [
    "train_valid, test = train_test_split(df, test_size=0.2, random_state=12345) \n",
    "train, valid = train_test_split(train_valid, test_size=0.25, random_state=12345)"
   ]
  },
  {
   "cell_type": "markdown",
   "metadata": {},
   "source": [
    "**Вывод**\n",
    "\n",
    "Мы разделили датасет на три выборки:\n",
    "* обучающую, чтобы обучить модели\n",
    "* валидационную, чтобы проверять модель на переобучение\n",
    "* тестовую, чтобы правильно оценить готовую модель\n",
    "\n",
    "Можно приступать к исследованиям."
   ]
  },
  {
   "cell_type": "markdown",
   "metadata": {},
   "source": [
    "## Исследуем модели"
   ]
  },
  {
   "cell_type": "markdown",
   "metadata": {},
   "source": [
    "Разделим учебную, валидационные и тестовые выборки на признаки и цели:"
   ]
  },
  {
   "cell_type": "code",
   "execution_count": 6,
   "metadata": {},
   "outputs": [],
   "source": [
    "features_train = train.drop(['is_ultra'], axis=1)\n",
    "target_train = train['is_ultra']\n",
    "features_valid = valid.drop(['is_ultra'], axis=1)\n",
    "target_valid = valid['is_ultra']\n",
    "features_test = test.drop(['is_ultra'], axis=1)\n",
    "target_test = test['is_ultra']"
   ]
  },
  {
   "cell_type": "markdown",
   "metadata": {},
   "source": [
    "### Обучающее дерево"
   ]
  },
  {
   "cell_type": "markdown",
   "metadata": {},
   "source": [
    "Посмотрим на какой глубине дерева оптимально будет работать модель и будет выдавать наилучшее значение точности модели"
   ]
  },
  {
   "cell_type": "code",
   "execution_count": 7,
   "metadata": {
    "scrolled": true
   },
   "outputs": [
    {
     "name": "stdout",
     "output_type": "stream",
     "text": [
      "Accuracy наилучшей модели на валидационной выборке: 0.7744945567651633\n",
      "Наилучшая модель с параметрами: DecisionTreeClassifier(max_depth=7, random_state=12345)\n"
     ]
    }
   ],
   "source": [
    "best_model_tree = None\n",
    "best_result_tree = 0\n",
    "for i in range(1, 15):\n",
    "    model_tree = DecisionTreeClassifier(max_depth = i, random_state=12345) # зададим параметры модели обучающего дерева\n",
    "    model_tree.fit(features_train, target_train) # обучаем модель на учебной выборке\n",
    "    predictions_valid = model_tree.predict(features_valid) # проверим предсказания модели на валидационных признаках\n",
    "    result = accuracy_score(target_valid, predictions_valid)\n",
    "    if result > best_result_tree:\n",
    "        best_result_tree = result # сохраним наилучшее значение метрики accuracy на валидационных данных \n",
    "        best_model_tree = model_tree#  сохраним наилучшее значение метрики accuracy на валидационных данных\n",
    "\n",
    "print(\"Accuracy наилучшей модели на валидационной выборке:\", best_result_tree)        \n",
    "print(\"Наилучшая модель с параметрами:\", best_model_tree)  "
   ]
  },
  {
   "cell_type": "markdown",
   "metadata": {},
   "source": [
    "**Вывод**\n",
    "\n",
    "На валидационной выборке модель обучающее дерево показала лучшие результаты точности предсказания `Accuracy = 0.7744945567651633` с глубиной дерева `max_depth = 7`."
   ]
  },
  {
   "cell_type": "markdown",
   "metadata": {},
   "source": [
    "### Случайный лес"
   ]
  },
  {
   "cell_type": "markdown",
   "metadata": {},
   "source": [
    "Определим с каким числом деревьев будет лучший результат точности модели и на какой глубине дерева"
   ]
  },
  {
   "cell_type": "code",
   "execution_count": 8,
   "metadata": {},
   "outputs": [
    {
     "name": "stdout",
     "output_type": "stream",
     "text": [
      "Accuracy наилучшей модели на валидационной выборке: 0.80248833592535\n",
      "Наилучшая модель с параметрами: RandomForestClassifier(max_depth=12, n_estimators=58, random_state=12345)\n"
     ]
    }
   ],
   "source": [
    "best_model_forest = None\n",
    "best_result_forest = 0\n",
    "for est in range(1, 100): # переберём с помощью цикла значения деревьев от 1 до 100\n",
    "    for i in range(1, 15): # переберём с помощью цикла значения глубины деревьева от 1 до 15\n",
    "        model_forest = RandomForestClassifier(random_state=12345, n_estimators=est, max_depth = i) # зададим параметры модели случайный лес\n",
    "        model_forest.fit(features_train, target_train) # обучим модель на обучающей выборке\n",
    "        result = model_forest.score(features_valid, target_valid) # посчитаем качество модели на валидационной выборке\n",
    "        if result > best_result_forest:\n",
    "            best_model_forest = model_forest# сохраним наилучшую модель\n",
    "            best_result_forest = result#  сохраним наилучшее значение метрики accuracy на валидационных данных\n",
    "\n",
    "print(\"Accuracy наилучшей модели на валидационной выборке:\", best_result_forest)        \n",
    "print(\"Наилучшая модель с параметрами:\", best_model_forest)  "
   ]
  },
  {
   "cell_type": "markdown",
   "metadata": {},
   "source": [
    "**Вывод**\n",
    "\n",
    "На валидационной выборке модель случайный лес показала лучшие результаты точности предсказания `Accuracy = 0.80248833592535` с числом деревьев `n_estimators=58` и глубиной дерева `max_depth=12`."
   ]
  },
  {
   "cell_type": "markdown",
   "metadata": {},
   "source": [
    "### Логистическая регрессия"
   ]
  },
  {
   "cell_type": "markdown",
   "metadata": {},
   "source": [
    "Определим с каким числом итераций и каким решателем будет лучший результат точности модели"
   ]
  },
  {
   "cell_type": "code",
   "execution_count": 9,
   "metadata": {
    "scrolled": true
   },
   "outputs": [
    {
     "name": "stderr",
     "output_type": "stream",
     "text": [
      "D:\\Anaconda\\lib\\site-packages\\scipy\\optimize\\linesearch.py:478: LineSearchWarning: The line search algorithm did not converge\n",
      "  warn('The line search algorithm did not converge', LineSearchWarning)\n",
      "D:\\Anaconda\\lib\\site-packages\\scipy\\optimize\\linesearch.py:327: LineSearchWarning: The line search algorithm did not converge\n",
      "  warn('The line search algorithm did not converge', LineSearchWarning)\n",
      "D:\\Anaconda\\lib\\site-packages\\scipy\\optimize\\linesearch.py:437: LineSearchWarning: Rounding errors prevent the line search from converging\n",
      "  warn(msg, LineSearchWarning)\n",
      "D:\\Anaconda\\lib\\site-packages\\scipy\\optimize\\linesearch.py:327: LineSearchWarning: The line search algorithm did not converge\n",
      "  warn('The line search algorithm did not converge', LineSearchWarning)\n",
      "D:\\Anaconda\\lib\\site-packages\\sklearn\\utils\\optimize.py:195: UserWarning: Line Search failed\n",
      "  warnings.warn('Line Search failed')\n",
      "D:\\Anaconda\\lib\\site-packages\\scipy\\optimize\\linesearch.py:478: LineSearchWarning: The line search algorithm did not converge\n",
      "  warn('The line search algorithm did not converge', LineSearchWarning)\n",
      "D:\\Anaconda\\lib\\site-packages\\scipy\\optimize\\linesearch.py:327: LineSearchWarning: The line search algorithm did not converge\n",
      "  warn('The line search algorithm did not converge', LineSearchWarning)\n",
      "D:\\Anaconda\\lib\\site-packages\\scipy\\optimize\\linesearch.py:437: LineSearchWarning: Rounding errors prevent the line search from converging\n",
      "  warn(msg, LineSearchWarning)\n",
      "D:\\Anaconda\\lib\\site-packages\\scipy\\optimize\\linesearch.py:327: LineSearchWarning: The line search algorithm did not converge\n",
      "  warn('The line search algorithm did not converge', LineSearchWarning)\n",
      "D:\\Anaconda\\lib\\site-packages\\sklearn\\utils\\optimize.py:195: UserWarning: Line Search failed\n",
      "  warnings.warn('Line Search failed')\n",
      "D:\\Anaconda\\lib\\site-packages\\scipy\\optimize\\linesearch.py:478: LineSearchWarning: The line search algorithm did not converge\n",
      "  warn('The line search algorithm did not converge', LineSearchWarning)\n",
      "D:\\Anaconda\\lib\\site-packages\\scipy\\optimize\\linesearch.py:327: LineSearchWarning: The line search algorithm did not converge\n",
      "  warn('The line search algorithm did not converge', LineSearchWarning)\n",
      "D:\\Anaconda\\lib\\site-packages\\scipy\\optimize\\linesearch.py:437: LineSearchWarning: Rounding errors prevent the line search from converging\n",
      "  warn(msg, LineSearchWarning)\n",
      "D:\\Anaconda\\lib\\site-packages\\scipy\\optimize\\linesearch.py:327: LineSearchWarning: The line search algorithm did not converge\n",
      "  warn('The line search algorithm did not converge', LineSearchWarning)\n",
      "D:\\Anaconda\\lib\\site-packages\\sklearn\\utils\\optimize.py:195: UserWarning: Line Search failed\n",
      "  warnings.warn('Line Search failed')\n",
      "D:\\Anaconda\\lib\\site-packages\\scipy\\optimize\\linesearch.py:478: LineSearchWarning: The line search algorithm did not converge\n",
      "  warn('The line search algorithm did not converge', LineSearchWarning)\n",
      "D:\\Anaconda\\lib\\site-packages\\scipy\\optimize\\linesearch.py:327: LineSearchWarning: The line search algorithm did not converge\n",
      "  warn('The line search algorithm did not converge', LineSearchWarning)\n",
      "D:\\Anaconda\\lib\\site-packages\\scipy\\optimize\\linesearch.py:437: LineSearchWarning: Rounding errors prevent the line search from converging\n",
      "  warn(msg, LineSearchWarning)\n",
      "D:\\Anaconda\\lib\\site-packages\\scipy\\optimize\\linesearch.py:327: LineSearchWarning: The line search algorithm did not converge\n",
      "  warn('The line search algorithm did not converge', LineSearchWarning)\n",
      "D:\\Anaconda\\lib\\site-packages\\sklearn\\utils\\optimize.py:195: UserWarning: Line Search failed\n",
      "  warnings.warn('Line Search failed')\n",
      "D:\\Anaconda\\lib\\site-packages\\scipy\\optimize\\linesearch.py:478: LineSearchWarning: The line search algorithm did not converge\n",
      "  warn('The line search algorithm did not converge', LineSearchWarning)\n",
      "D:\\Anaconda\\lib\\site-packages\\scipy\\optimize\\linesearch.py:327: LineSearchWarning: The line search algorithm did not converge\n",
      "  warn('The line search algorithm did not converge', LineSearchWarning)\n",
      "D:\\Anaconda\\lib\\site-packages\\scipy\\optimize\\linesearch.py:437: LineSearchWarning: Rounding errors prevent the line search from converging\n",
      "  warn(msg, LineSearchWarning)\n",
      "D:\\Anaconda\\lib\\site-packages\\scipy\\optimize\\linesearch.py:327: LineSearchWarning: The line search algorithm did not converge\n",
      "  warn('The line search algorithm did not converge', LineSearchWarning)\n",
      "D:\\Anaconda\\lib\\site-packages\\sklearn\\utils\\optimize.py:195: UserWarning: Line Search failed\n",
      "  warnings.warn('Line Search failed')\n",
      "D:\\Anaconda\\lib\\site-packages\\scipy\\optimize\\linesearch.py:478: LineSearchWarning: The line search algorithm did not converge\n",
      "  warn('The line search algorithm did not converge', LineSearchWarning)\n",
      "D:\\Anaconda\\lib\\site-packages\\scipy\\optimize\\linesearch.py:327: LineSearchWarning: The line search algorithm did not converge\n",
      "  warn('The line search algorithm did not converge', LineSearchWarning)\n",
      "D:\\Anaconda\\lib\\site-packages\\scipy\\optimize\\linesearch.py:437: LineSearchWarning: Rounding errors prevent the line search from converging\n",
      "  warn(msg, LineSearchWarning)\n",
      "D:\\Anaconda\\lib\\site-packages\\scipy\\optimize\\linesearch.py:327: LineSearchWarning: The line search algorithm did not converge\n",
      "  warn('The line search algorithm did not converge', LineSearchWarning)\n",
      "D:\\Anaconda\\lib\\site-packages\\sklearn\\utils\\optimize.py:195: UserWarning: Line Search failed\n",
      "  warnings.warn('Line Search failed')\n",
      "D:\\Anaconda\\lib\\site-packages\\scipy\\optimize\\linesearch.py:478: LineSearchWarning: The line search algorithm did not converge\n",
      "  warn('The line search algorithm did not converge', LineSearchWarning)\n",
      "D:\\Anaconda\\lib\\site-packages\\scipy\\optimize\\linesearch.py:327: LineSearchWarning: The line search algorithm did not converge\n",
      "  warn('The line search algorithm did not converge', LineSearchWarning)\n",
      "D:\\Anaconda\\lib\\site-packages\\scipy\\optimize\\linesearch.py:437: LineSearchWarning: Rounding errors prevent the line search from converging\n",
      "  warn(msg, LineSearchWarning)\n",
      "D:\\Anaconda\\lib\\site-packages\\scipy\\optimize\\linesearch.py:327: LineSearchWarning: The line search algorithm did not converge\n",
      "  warn('The line search algorithm did not converge', LineSearchWarning)\n",
      "D:\\Anaconda\\lib\\site-packages\\sklearn\\utils\\optimize.py:195: UserWarning: Line Search failed\n",
      "  warnings.warn('Line Search failed')\n",
      "D:\\Anaconda\\lib\\site-packages\\scipy\\optimize\\linesearch.py:478: LineSearchWarning: The line search algorithm did not converge\n",
      "  warn('The line search algorithm did not converge', LineSearchWarning)\n",
      "D:\\Anaconda\\lib\\site-packages\\scipy\\optimize\\linesearch.py:327: LineSearchWarning: The line search algorithm did not converge\n",
      "  warn('The line search algorithm did not converge', LineSearchWarning)\n",
      "D:\\Anaconda\\lib\\site-packages\\scipy\\optimize\\linesearch.py:437: LineSearchWarning: Rounding errors prevent the line search from converging\n",
      "  warn(msg, LineSearchWarning)\n",
      "D:\\Anaconda\\lib\\site-packages\\scipy\\optimize\\linesearch.py:327: LineSearchWarning: The line search algorithm did not converge\n",
      "  warn('The line search algorithm did not converge', LineSearchWarning)\n",
      "D:\\Anaconda\\lib\\site-packages\\sklearn\\utils\\optimize.py:195: UserWarning: Line Search failed\n",
      "  warnings.warn('Line Search failed')\n",
      "D:\\Anaconda\\lib\\site-packages\\scipy\\optimize\\linesearch.py:478: LineSearchWarning: The line search algorithm did not converge\n",
      "  warn('The line search algorithm did not converge', LineSearchWarning)\n",
      "D:\\Anaconda\\lib\\site-packages\\scipy\\optimize\\linesearch.py:327: LineSearchWarning: The line search algorithm did not converge\n",
      "  warn('The line search algorithm did not converge', LineSearchWarning)\n",
      "D:\\Anaconda\\lib\\site-packages\\scipy\\optimize\\linesearch.py:437: LineSearchWarning: Rounding errors prevent the line search from converging\n",
      "  warn(msg, LineSearchWarning)\n",
      "D:\\Anaconda\\lib\\site-packages\\scipy\\optimize\\linesearch.py:327: LineSearchWarning: The line search algorithm did not converge\n",
      "  warn('The line search algorithm did not converge', LineSearchWarning)\n",
      "D:\\Anaconda\\lib\\site-packages\\sklearn\\utils\\optimize.py:195: UserWarning: Line Search failed\n",
      "  warnings.warn('Line Search failed')\n",
      "D:\\Anaconda\\lib\\site-packages\\scipy\\optimize\\linesearch.py:478: LineSearchWarning: The line search algorithm did not converge\n",
      "  warn('The line search algorithm did not converge', LineSearchWarning)\n",
      "D:\\Anaconda\\lib\\site-packages\\scipy\\optimize\\linesearch.py:327: LineSearchWarning: The line search algorithm did not converge\n",
      "  warn('The line search algorithm did not converge', LineSearchWarning)\n",
      "D:\\Anaconda\\lib\\site-packages\\scipy\\optimize\\linesearch.py:437: LineSearchWarning: Rounding errors prevent the line search from converging\n",
      "  warn(msg, LineSearchWarning)\n",
      "D:\\Anaconda\\lib\\site-packages\\scipy\\optimize\\linesearch.py:327: LineSearchWarning: The line search algorithm did not converge\n",
      "  warn('The line search algorithm did not converge', LineSearchWarning)\n",
      "D:\\Anaconda\\lib\\site-packages\\sklearn\\utils\\optimize.py:195: UserWarning: Line Search failed\n",
      "  warnings.warn('Line Search failed')\n"
     ]
    },
    {
     "name": "stderr",
     "output_type": "stream",
     "text": [
      "D:\\Anaconda\\lib\\site-packages\\scipy\\optimize\\linesearch.py:478: LineSearchWarning: The line search algorithm did not converge\n",
      "  warn('The line search algorithm did not converge', LineSearchWarning)\n",
      "D:\\Anaconda\\lib\\site-packages\\scipy\\optimize\\linesearch.py:327: LineSearchWarning: The line search algorithm did not converge\n",
      "  warn('The line search algorithm did not converge', LineSearchWarning)\n",
      "D:\\Anaconda\\lib\\site-packages\\scipy\\optimize\\linesearch.py:437: LineSearchWarning: Rounding errors prevent the line search from converging\n",
      "  warn(msg, LineSearchWarning)\n",
      "D:\\Anaconda\\lib\\site-packages\\scipy\\optimize\\linesearch.py:327: LineSearchWarning: The line search algorithm did not converge\n",
      "  warn('The line search algorithm did not converge', LineSearchWarning)\n",
      "D:\\Anaconda\\lib\\site-packages\\sklearn\\utils\\optimize.py:195: UserWarning: Line Search failed\n",
      "  warnings.warn('Line Search failed')\n",
      "D:\\Anaconda\\lib\\site-packages\\scipy\\optimize\\linesearch.py:478: LineSearchWarning: The line search algorithm did not converge\n",
      "  warn('The line search algorithm did not converge', LineSearchWarning)\n",
      "D:\\Anaconda\\lib\\site-packages\\scipy\\optimize\\linesearch.py:327: LineSearchWarning: The line search algorithm did not converge\n",
      "  warn('The line search algorithm did not converge', LineSearchWarning)\n",
      "D:\\Anaconda\\lib\\site-packages\\scipy\\optimize\\linesearch.py:437: LineSearchWarning: Rounding errors prevent the line search from converging\n",
      "  warn(msg, LineSearchWarning)\n",
      "D:\\Anaconda\\lib\\site-packages\\scipy\\optimize\\linesearch.py:327: LineSearchWarning: The line search algorithm did not converge\n",
      "  warn('The line search algorithm did not converge', LineSearchWarning)\n",
      "D:\\Anaconda\\lib\\site-packages\\sklearn\\utils\\optimize.py:195: UserWarning: Line Search failed\n",
      "  warnings.warn('Line Search failed')\n",
      "D:\\Anaconda\\lib\\site-packages\\scipy\\optimize\\linesearch.py:478: LineSearchWarning: The line search algorithm did not converge\n",
      "  warn('The line search algorithm did not converge', LineSearchWarning)\n",
      "D:\\Anaconda\\lib\\site-packages\\scipy\\optimize\\linesearch.py:327: LineSearchWarning: The line search algorithm did not converge\n",
      "  warn('The line search algorithm did not converge', LineSearchWarning)\n",
      "D:\\Anaconda\\lib\\site-packages\\scipy\\optimize\\linesearch.py:437: LineSearchWarning: Rounding errors prevent the line search from converging\n",
      "  warn(msg, LineSearchWarning)\n",
      "D:\\Anaconda\\lib\\site-packages\\scipy\\optimize\\linesearch.py:327: LineSearchWarning: The line search algorithm did not converge\n",
      "  warn('The line search algorithm did not converge', LineSearchWarning)\n",
      "D:\\Anaconda\\lib\\site-packages\\sklearn\\utils\\optimize.py:195: UserWarning: Line Search failed\n",
      "  warnings.warn('Line Search failed')\n",
      "D:\\Anaconda\\lib\\site-packages\\scipy\\optimize\\linesearch.py:478: LineSearchWarning: The line search algorithm did not converge\n",
      "  warn('The line search algorithm did not converge', LineSearchWarning)\n",
      "D:\\Anaconda\\lib\\site-packages\\scipy\\optimize\\linesearch.py:327: LineSearchWarning: The line search algorithm did not converge\n",
      "  warn('The line search algorithm did not converge', LineSearchWarning)\n",
      "D:\\Anaconda\\lib\\site-packages\\scipy\\optimize\\linesearch.py:437: LineSearchWarning: Rounding errors prevent the line search from converging\n",
      "  warn(msg, LineSearchWarning)\n",
      "D:\\Anaconda\\lib\\site-packages\\scipy\\optimize\\linesearch.py:327: LineSearchWarning: The line search algorithm did not converge\n",
      "  warn('The line search algorithm did not converge', LineSearchWarning)\n",
      "D:\\Anaconda\\lib\\site-packages\\sklearn\\utils\\optimize.py:195: UserWarning: Line Search failed\n",
      "  warnings.warn('Line Search failed')\n",
      "D:\\Anaconda\\lib\\site-packages\\scipy\\optimize\\linesearch.py:478: LineSearchWarning: The line search algorithm did not converge\n",
      "  warn('The line search algorithm did not converge', LineSearchWarning)\n",
      "D:\\Anaconda\\lib\\site-packages\\scipy\\optimize\\linesearch.py:327: LineSearchWarning: The line search algorithm did not converge\n",
      "  warn('The line search algorithm did not converge', LineSearchWarning)\n",
      "D:\\Anaconda\\lib\\site-packages\\scipy\\optimize\\linesearch.py:437: LineSearchWarning: Rounding errors prevent the line search from converging\n",
      "  warn(msg, LineSearchWarning)\n",
      "D:\\Anaconda\\lib\\site-packages\\scipy\\optimize\\linesearch.py:327: LineSearchWarning: The line search algorithm did not converge\n",
      "  warn('The line search algorithm did not converge', LineSearchWarning)\n",
      "D:\\Anaconda\\lib\\site-packages\\sklearn\\utils\\optimize.py:195: UserWarning: Line Search failed\n",
      "  warnings.warn('Line Search failed')\n",
      "D:\\Anaconda\\lib\\site-packages\\scipy\\optimize\\linesearch.py:478: LineSearchWarning: The line search algorithm did not converge\n",
      "  warn('The line search algorithm did not converge', LineSearchWarning)\n",
      "D:\\Anaconda\\lib\\site-packages\\scipy\\optimize\\linesearch.py:327: LineSearchWarning: The line search algorithm did not converge\n",
      "  warn('The line search algorithm did not converge', LineSearchWarning)\n",
      "D:\\Anaconda\\lib\\site-packages\\scipy\\optimize\\linesearch.py:437: LineSearchWarning: Rounding errors prevent the line search from converging\n",
      "  warn(msg, LineSearchWarning)\n",
      "D:\\Anaconda\\lib\\site-packages\\scipy\\optimize\\linesearch.py:327: LineSearchWarning: The line search algorithm did not converge\n",
      "  warn('The line search algorithm did not converge', LineSearchWarning)\n",
      "D:\\Anaconda\\lib\\site-packages\\sklearn\\utils\\optimize.py:195: UserWarning: Line Search failed\n",
      "  warnings.warn('Line Search failed')\n",
      "D:\\Anaconda\\lib\\site-packages\\scipy\\optimize\\linesearch.py:478: LineSearchWarning: The line search algorithm did not converge\n",
      "  warn('The line search algorithm did not converge', LineSearchWarning)\n",
      "D:\\Anaconda\\lib\\site-packages\\scipy\\optimize\\linesearch.py:327: LineSearchWarning: The line search algorithm did not converge\n",
      "  warn('The line search algorithm did not converge', LineSearchWarning)\n",
      "D:\\Anaconda\\lib\\site-packages\\scipy\\optimize\\linesearch.py:437: LineSearchWarning: Rounding errors prevent the line search from converging\n",
      "  warn(msg, LineSearchWarning)\n",
      "D:\\Anaconda\\lib\\site-packages\\scipy\\optimize\\linesearch.py:327: LineSearchWarning: The line search algorithm did not converge\n",
      "  warn('The line search algorithm did not converge', LineSearchWarning)\n",
      "D:\\Anaconda\\lib\\site-packages\\sklearn\\utils\\optimize.py:195: UserWarning: Line Search failed\n",
      "  warnings.warn('Line Search failed')\n",
      "D:\\Anaconda\\lib\\site-packages\\scipy\\optimize\\linesearch.py:478: LineSearchWarning: The line search algorithm did not converge\n",
      "  warn('The line search algorithm did not converge', LineSearchWarning)\n",
      "D:\\Anaconda\\lib\\site-packages\\scipy\\optimize\\linesearch.py:327: LineSearchWarning: The line search algorithm did not converge\n",
      "  warn('The line search algorithm did not converge', LineSearchWarning)\n",
      "D:\\Anaconda\\lib\\site-packages\\scipy\\optimize\\linesearch.py:437: LineSearchWarning: Rounding errors prevent the line search from converging\n",
      "  warn(msg, LineSearchWarning)\n",
      "D:\\Anaconda\\lib\\site-packages\\scipy\\optimize\\linesearch.py:327: LineSearchWarning: The line search algorithm did not converge\n",
      "  warn('The line search algorithm did not converge', LineSearchWarning)\n",
      "D:\\Anaconda\\lib\\site-packages\\sklearn\\utils\\optimize.py:195: UserWarning: Line Search failed\n",
      "  warnings.warn('Line Search failed')\n",
      "D:\\Anaconda\\lib\\site-packages\\scipy\\optimize\\linesearch.py:478: LineSearchWarning: The line search algorithm did not converge\n",
      "  warn('The line search algorithm did not converge', LineSearchWarning)\n",
      "D:\\Anaconda\\lib\\site-packages\\scipy\\optimize\\linesearch.py:327: LineSearchWarning: The line search algorithm did not converge\n",
      "  warn('The line search algorithm did not converge', LineSearchWarning)\n",
      "D:\\Anaconda\\lib\\site-packages\\scipy\\optimize\\linesearch.py:437: LineSearchWarning: Rounding errors prevent the line search from converging\n",
      "  warn(msg, LineSearchWarning)\n",
      "D:\\Anaconda\\lib\\site-packages\\scipy\\optimize\\linesearch.py:327: LineSearchWarning: The line search algorithm did not converge\n",
      "  warn('The line search algorithm did not converge', LineSearchWarning)\n",
      "D:\\Anaconda\\lib\\site-packages\\sklearn\\utils\\optimize.py:195: UserWarning: Line Search failed\n",
      "  warnings.warn('Line Search failed')\n",
      "D:\\Anaconda\\lib\\site-packages\\scipy\\optimize\\linesearch.py:478: LineSearchWarning: The line search algorithm did not converge\n",
      "  warn('The line search algorithm did not converge', LineSearchWarning)\n",
      "D:\\Anaconda\\lib\\site-packages\\scipy\\optimize\\linesearch.py:327: LineSearchWarning: The line search algorithm did not converge\n",
      "  warn('The line search algorithm did not converge', LineSearchWarning)\n",
      "D:\\Anaconda\\lib\\site-packages\\scipy\\optimize\\linesearch.py:437: LineSearchWarning: Rounding errors prevent the line search from converging\n",
      "  warn(msg, LineSearchWarning)\n",
      "D:\\Anaconda\\lib\\site-packages\\scipy\\optimize\\linesearch.py:327: LineSearchWarning: The line search algorithm did not converge\n",
      "  warn('The line search algorithm did not converge', LineSearchWarning)\n",
      "D:\\Anaconda\\lib\\site-packages\\sklearn\\utils\\optimize.py:195: UserWarning: Line Search failed\n",
      "  warnings.warn('Line Search failed')\n"
     ]
    },
    {
     "name": "stdout",
     "output_type": "stream",
     "text": [
      "Accuracy наилучшей модели на валидационной выборке: 0.7262830482115086\n",
      "Наилучшая модель с параметрами: LogisticRegression(max_iter=10000, random_state=12345, solver='newton-cg')\n"
     ]
    }
   ],
   "source": [
    "best_model_logist = None\n",
    "best_result_logist = 0\n",
    "for i in range(10000, 1000000, 50000): # перебираем число итераций с шагом в 50000\n",
    "    for solver in ('newton-cg', 'lbfgs', 'liblinear', 'sag', 'saga'): # перебираем варианты решателя\n",
    "        model_logist = LogisticRegression(random_state=12345, solver=solver, max_iter=i) # инициализируем модель логистической регрессии с параметрами\n",
    "        model_logist.fit(features_train, target_train) # обучим модель на тренировочной выборке\n",
    "        result_logist = model_logist.score(features_valid, target_valid) # получим метрику качества модели на валидационной выборке\n",
    "        if result_logist > best_result_logist:\n",
    "            best_model_logist = model_logist# сохраним наилучшую модель\n",
    "            best_result_logist = result_logist#  сохраним наилучшее значение метрики accuracy на валидационных данных\n",
    "\n",
    "print(\"Accuracy наилучшей модели на валидационной выборке:\", best_result_logist)        \n",
    "print(\"Наилучшая модель с параметрами:\", best_model_logist)         "
   ]
  },
  {
   "cell_type": "markdown",
   "metadata": {},
   "source": [
    "**Вывод**\n",
    "\n",
    "На валидационной выборке модель логистическая регрессия показала результат точности предсказания `Accuracy =  0.7262830482115086` с параметрами `max_iter=10000, random_state=12345, solver='newton-cg'`.\n",
    "\n",
    "Самой точной оказалась модель случайный лес с показателем `accuracy - 0.80248833592535` и параметрами `max_depth=12, n_estimators=58, random_state=12345`."
   ]
  },
  {
   "cell_type": "markdown",
   "metadata": {},
   "source": [
    "## Проверьте модель на тестовой выборке"
   ]
  },
  {
   "cell_type": "markdown",
   "metadata": {},
   "source": [
    "Протестируем модель обучающее дерево с наилучшими параметрами выбранными ранее"
   ]
  },
  {
   "cell_type": "code",
   "execution_count": 10,
   "metadata": {},
   "outputs": [
    {
     "name": "stdout",
     "output_type": "stream",
     "text": [
      "Accuracy: 0.7884914463452566\n"
     ]
    }
   ],
   "source": [
    "model_tree = DecisionTreeClassifier(max_depth = 7, random_state=12345) # зададим параметры модели обучающего дерева\n",
    "model_tree.fit(features_train, target_train) # обучаем модель на учебной выборке\n",
    "predictions_test = model_tree.predict(features_test) # проверим предсказания модели на валидационных признаках\n",
    "result_tree = accuracy_score(target_test, predictions_test)\n",
    "print(\"Accuracy:\", result_tree)"
   ]
  },
  {
   "cell_type": "markdown",
   "metadata": {},
   "source": [
    "Протестируем модель случайный лес с наилучшими параметрами выбранными ранее"
   ]
  },
  {
   "cell_type": "code",
   "execution_count": 11,
   "metadata": {},
   "outputs": [
    {
     "name": "stdout",
     "output_type": "stream",
     "text": [
      "Accuracy: 0.7947122861586314\n"
     ]
    }
   ],
   "source": [
    "model_forest = RandomForestClassifier(max_depth=12, n_estimators=58, random_state=12345) # зададим параметры модели случайный лес\n",
    "model_forest.fit(features_train, target_train) # обучим модель на обучающей выборке\n",
    "result_forest = model_forest.score(features_test, target_test) # посчитаем качество модели на валидационной выборке\n",
    "print(\"Accuracy:\", result_forest)"
   ]
  },
  {
   "cell_type": "markdown",
   "metadata": {},
   "source": [
    "Протестируем модель логистическая регрессия"
   ]
  },
  {
   "cell_type": "code",
   "execution_count": 12,
   "metadata": {
    "scrolled": true
   },
   "outputs": [
    {
     "name": "stdout",
     "output_type": "stream",
     "text": [
      "Accuracy: 0.7589424572317263\n"
     ]
    },
    {
     "name": "stderr",
     "output_type": "stream",
     "text": [
      "D:\\Anaconda\\lib\\site-packages\\scipy\\optimize\\linesearch.py:478: LineSearchWarning: The line search algorithm did not converge\n",
      "  warn('The line search algorithm did not converge', LineSearchWarning)\n",
      "D:\\Anaconda\\lib\\site-packages\\scipy\\optimize\\linesearch.py:327: LineSearchWarning: The line search algorithm did not converge\n",
      "  warn('The line search algorithm did not converge', LineSearchWarning)\n",
      "D:\\Anaconda\\lib\\site-packages\\scipy\\optimize\\linesearch.py:437: LineSearchWarning: Rounding errors prevent the line search from converging\n",
      "  warn(msg, LineSearchWarning)\n",
      "D:\\Anaconda\\lib\\site-packages\\scipy\\optimize\\linesearch.py:327: LineSearchWarning: The line search algorithm did not converge\n",
      "  warn('The line search algorithm did not converge', LineSearchWarning)\n",
      "D:\\Anaconda\\lib\\site-packages\\sklearn\\utils\\optimize.py:195: UserWarning: Line Search failed\n",
      "  warnings.warn('Line Search failed')\n"
     ]
    }
   ],
   "source": [
    "model_logist = LogisticRegression(max_iter=10000, random_state=12345, solver='newton-cg') # инициализируем модель логистической регрессии с параметрами\n",
    "model_logist.fit(features_train, target_train) # обучим модель на тренировочной выборке\n",
    "result_logist_test = model_logist.score(features_test, target_test) # получим метрику качества модели на валидационной выборке\n",
    "\n",
    "print(\"Accuracy:\", result_logist_test)  "
   ]
  },
  {
   "cell_type": "markdown",
   "metadata": {},
   "source": [
    "**Вывод**\n",
    "\n",
    "На тестовой выборке были проверены модели, которые обучали ранее - обучающее дерево, случайный лес и логистическая регрессия.\n",
    "\n",
    "На тестовой выборке самой точной оказалась модель случайный лес с показателем `accuracy - 0.7947122861586314`.\n",
    "\n",
    "При этом на тестовой выборке точность моделей обучающее дерево и логистическая регрессия улучшили свою точность по  сравнению с валидационной выборкой, но до случайного леса по точности не дошли, хотя обучающее дерево достаточно близко."
   ]
  },
  {
   "cell_type": "markdown",
   "metadata": {},
   "source": [
    "## (бонус) Проверьте модели на адекватность"
   ]
  },
  {
   "cell_type": "markdown",
   "metadata": {},
   "source": [
    "Построим простую модель с помощью `DummyClassifier` и попробуем 3 стратегии, чтобы убедиться, что наша модель лучше"
   ]
  },
  {
   "cell_type": "code",
   "execution_count": 13,
   "metadata": {},
   "outputs": [
    {
     "name": "stdout",
     "output_type": "stream",
     "text": [
      "Accuracy: 0.6951788491446346 - Модель: DummyClassifier(strategy='most_frequent')\n",
      "Accuracy: 0.5816485225505443 - Модель: DummyClassifier(strategy='stratified')\n",
      "Accuracy: 0.5178849144634525 - Модель: DummyClassifier(strategy='uniform')\n"
     ]
    }
   ],
   "source": [
    "for strategy in ('most_frequent', 'stratified', 'uniform'): # переберём варианты стратегий\n",
    "    model_dummy = DummyClassifier(strategy=strategy) # инициализируем модель \n",
    "    model_dummy.fit(features_train, target_train) # обучим модель на тренировочной выборке\n",
    "    result_dummy = model_dummy.score(features_test, target_test)\n",
    "    print(f'Accuracy: {result_dummy} - Модель: {model_dummy}') "
   ]
  },
  {
   "cell_type": "markdown",
   "metadata": {},
   "source": [
    "**Вывод**\n",
    "\n",
    "Максимальное значение точности модели построенной с помощью DummyClassifier равно `accuracy - 0.6951788491446346`.\n",
    "\n",
    "При этом выбранная нами модель случайный лес на тестовой выборке дала показатель точности `accuracy - 0.7947122861586314`.\n",
    "\n",
    "На основании этого можно предположить, что все наши модели вменяемы и адекватны, тк у всех показатель точности выше, но использовать разумеется лучше самую точную."
   ]
  },
  {
   "cell_type": "markdown",
   "metadata": {},
   "source": [
    "## Общий вывод"
   ]
  },
  {
   "cell_type": "markdown",
   "metadata": {},
   "source": [
    "Мы построили несколько моделей для задачи классификации, которые выберут подходящий тариф. \n",
    "\n",
    "В ТЗ требование к точности составляло 0.75.\n",
    "\n",
    "На тестовой выборке были проверены модели, которые обучали ранее - обучающее дерево, случайный лес и логистическая регрессия.\n",
    "\n",
    "У них у всех точность был выше 0.75.\n",
    "\n",
    "На тестовой выборке самой точной оказалась модель случайный лес с показателем `accuracy - 0.7947122861586314`.\n",
    "\n",
    "При этом на валидационной выборке модель логистической регрессии выдавала точность менее 0.75, следовательно её не стоит исспользовать для классификации.\n",
    "\n",
    "Для классификации можно взять модели обучающее дерево и случайный лес, но самая высокая точность на валидационной и тестовой выборке была у модели случайный лес.\n"
   ]
  }
 ],
 "metadata": {
  "ExecuteTimeLog": [
   {
    "duration": 365,
    "start_time": "2022-03-17T12:27:26.465Z"
   },
   {
    "duration": 39,
    "start_time": "2022-03-17T12:29:12.784Z"
   },
   {
    "duration": 21,
    "start_time": "2022-03-17T12:30:52.822Z"
   },
   {
    "duration": 12,
    "start_time": "2022-03-17T12:38:00.220Z"
   },
   {
    "duration": 1684,
    "start_time": "2022-03-17T17:57:14.242Z"
   },
   {
    "duration": 39,
    "start_time": "2022-03-17T17:57:20.013Z"
   },
   {
    "duration": 16,
    "start_time": "2022-03-17T17:57:24.196Z"
   },
   {
    "duration": 1852,
    "start_time": "2022-03-18T13:42:23.500Z"
   },
   {
    "duration": 32,
    "start_time": "2022-03-18T13:42:30.760Z"
   },
   {
    "duration": 12,
    "start_time": "2022-03-18T13:42:35.567Z"
   },
   {
    "duration": 74,
    "start_time": "2022-03-18T17:55:50.884Z"
   },
   {
    "duration": 1624,
    "start_time": "2022-03-18T17:55:56.279Z"
   },
   {
    "duration": 48,
    "start_time": "2022-03-18T17:55:58.304Z"
   },
   {
    "duration": 20,
    "start_time": "2022-03-18T17:55:59.776Z"
   },
   {
    "duration": 7,
    "start_time": "2022-03-18T17:56:02.582Z"
   },
   {
    "duration": 9,
    "start_time": "2022-03-18T18:12:41.884Z"
   },
   {
    "duration": 6,
    "start_time": "2022-03-18T18:39:12.429Z"
   },
   {
    "duration": 42,
    "start_time": "2022-03-18T18:39:12.438Z"
   },
   {
    "duration": 22,
    "start_time": "2022-03-18T18:39:12.482Z"
   },
   {
    "duration": 23,
    "start_time": "2022-03-18T18:39:12.507Z"
   },
   {
    "duration": 35,
    "start_time": "2022-03-18T18:39:12.532Z"
   },
   {
    "duration": 7,
    "start_time": "2022-03-18T18:51:44.759Z"
   },
   {
    "duration": 7,
    "start_time": "2022-03-18T19:01:52.614Z"
   },
   {
    "duration": 49,
    "start_time": "2022-03-18T19:01:56.519Z"
   },
   {
    "duration": 90,
    "start_time": "2022-03-18T19:02:06.991Z"
   },
   {
    "duration": 1671,
    "start_time": "2022-03-18T19:02:26.046Z"
   },
   {
    "duration": 96,
    "start_time": "2022-03-18T19:03:00.847Z"
   },
   {
    "duration": 176,
    "start_time": "2022-03-18T19:03:08.550Z"
   },
   {
    "duration": 168,
    "start_time": "2022-03-18T19:16:53.902Z"
   },
   {
    "duration": 179,
    "start_time": "2022-03-18T19:39:51.618Z"
   },
   {
    "duration": 2526,
    "start_time": "2022-03-18T19:40:05.450Z"
   },
   {
    "duration": 174,
    "start_time": "2022-03-18T19:40:19.113Z"
   },
   {
    "duration": 171,
    "start_time": "2022-03-18T19:40:43.690Z"
   },
   {
    "duration": 179,
    "start_time": "2022-03-18T19:41:14.913Z"
   },
   {
    "duration": 173,
    "start_time": "2022-03-18T19:41:24.787Z"
   },
   {
    "duration": 6,
    "start_time": "2022-03-18T19:51:01.979Z"
   },
   {
    "duration": 39,
    "start_time": "2022-03-18T19:51:01.988Z"
   },
   {
    "duration": 16,
    "start_time": "2022-03-18T19:51:02.029Z"
   },
   {
    "duration": 8,
    "start_time": "2022-03-18T19:51:02.048Z"
   },
   {
    "duration": 9,
    "start_time": "2022-03-18T19:51:02.073Z"
   },
   {
    "duration": 194,
    "start_time": "2022-03-18T19:51:02.085Z"
   },
   {
    "duration": 29054,
    "start_time": "2022-03-18T20:16:48.588Z"
   },
   {
    "duration": 579820,
    "start_time": "2022-03-18T20:18:19.071Z"
   },
   {
    "duration": 30857,
    "start_time": "2022-03-18T20:28:05.652Z"
   },
   {
    "duration": 332,
    "start_time": "2022-03-18T20:34:37.434Z"
   },
   {
    "duration": 1242,
    "start_time": "2022-03-18T20:34:44.581Z"
   },
   {
    "duration": 2715,
    "start_time": "2022-03-18T20:34:51.811Z"
   },
   {
    "duration": 7450,
    "start_time": "2022-03-18T20:35:02.771Z"
   },
   {
    "duration": 29983,
    "start_time": "2022-03-18T20:35:20.092Z"
   },
   {
    "duration": 28887,
    "start_time": "2022-03-18T20:36:33.493Z"
   },
   {
    "duration": 163,
    "start_time": "2022-03-18T20:41:11.939Z"
   },
   {
    "duration": 151,
    "start_time": "2022-03-18T20:42:04.779Z"
   },
   {
    "duration": 27778,
    "start_time": "2022-03-18T20:42:43.162Z"
   },
   {
    "duration": 19425,
    "start_time": "2022-03-18T20:57:16.969Z"
   },
   {
    "duration": 233,
    "start_time": "2022-03-18T20:57:52.480Z"
   },
   {
    "duration": 28137,
    "start_time": "2022-03-18T20:58:22.896Z"
   },
   {
    "duration": 28162,
    "start_time": "2022-03-18T20:59:08.928Z"
   },
   {
    "duration": 80,
    "start_time": "2022-03-18T21:02:22.185Z"
   },
   {
    "duration": 60,
    "start_time": "2022-03-18T21:02:30.376Z"
   },
   {
    "duration": 60,
    "start_time": "2022-03-18T21:02:38.743Z"
   },
   {
    "duration": 61,
    "start_time": "2022-03-18T21:02:45.663Z"
   },
   {
    "duration": 0,
    "start_time": "2022-03-18T21:10:00.682Z"
   },
   {
    "duration": 45233,
    "start_time": "2022-03-18T21:13:00.031Z"
   },
   {
    "duration": 60,
    "start_time": "2022-03-18T21:15:27.470Z"
   },
   {
    "duration": 55,
    "start_time": "2022-03-18T21:16:43.175Z"
   },
   {
    "duration": 78,
    "start_time": "2022-03-18T21:18:10.751Z"
   },
   {
    "duration": 80,
    "start_time": "2022-03-18T21:18:18.414Z"
   },
   {
    "duration": 81,
    "start_time": "2022-03-18T21:18:23.895Z"
   },
   {
    "duration": 155,
    "start_time": "2022-03-18T21:22:11.950Z"
   },
   {
    "duration": 28418,
    "start_time": "2022-03-18T21:22:42.678Z"
   },
   {
    "duration": 57,
    "start_time": "2022-03-18T21:24:12.374Z"
   },
   {
    "duration": 58,
    "start_time": "2022-03-18T21:55:09.697Z"
   },
   {
    "duration": 65,
    "start_time": "2022-03-18T21:55:14.313Z"
   },
   {
    "duration": 22,
    "start_time": "2022-03-18T21:55:25.961Z"
   },
   {
    "duration": 36,
    "start_time": "2022-03-18T21:55:35.130Z"
   },
   {
    "duration": 55,
    "start_time": "2022-03-18T21:55:41.913Z"
   },
   {
    "duration": 58,
    "start_time": "2022-03-18T21:55:49.265Z"
   },
   {
    "duration": 5,
    "start_time": "2022-03-18T21:58:20.049Z"
   },
   {
    "duration": 1977,
    "start_time": "2022-03-18T21:58:58.623Z"
   },
   {
    "duration": 51,
    "start_time": "2022-03-18T21:59:00.604Z"
   },
   {
    "duration": 30,
    "start_time": "2022-03-18T21:59:00.658Z"
   },
   {
    "duration": 19,
    "start_time": "2022-03-18T21:59:00.690Z"
   },
   {
    "duration": 7,
    "start_time": "2022-03-18T21:59:00.712Z"
   },
   {
    "duration": 181,
    "start_time": "2022-03-18T21:59:00.721Z"
   },
   {
    "duration": 27802,
    "start_time": "2022-03-18T21:59:00.905Z"
   },
   {
    "duration": 70,
    "start_time": "2022-03-18T21:59:28.709Z"
   },
   {
    "duration": 5,
    "start_time": "2022-03-18T21:59:28.781Z"
   },
   {
    "duration": 18,
    "start_time": "2022-03-18T22:16:53.427Z"
   },
   {
    "duration": 509,
    "start_time": "2022-03-18T22:22:38.819Z"
   },
   {
    "duration": 78,
    "start_time": "2022-03-18T22:26:34.170Z"
   },
   {
    "duration": 144,
    "start_time": "2022-03-18T22:51:21.350Z"
   },
   {
    "duration": 5,
    "start_time": "2022-03-18T22:51:58.593Z"
   },
   {
    "duration": 47,
    "start_time": "2022-03-18T22:51:58.601Z"
   },
   {
    "duration": 17,
    "start_time": "2022-03-18T22:51:58.651Z"
   },
   {
    "duration": 27,
    "start_time": "2022-03-18T22:51:58.671Z"
   },
   {
    "duration": 21,
    "start_time": "2022-03-18T22:51:58.700Z"
   },
   {
    "duration": 149,
    "start_time": "2022-03-18T22:51:58.723Z"
   },
   {
    "duration": 27901,
    "start_time": "2022-03-18T22:51:58.874Z"
   },
   {
    "duration": 54,
    "start_time": "2022-03-18T22:52:26.778Z"
   },
   {
    "duration": 5,
    "start_time": "2022-03-18T22:52:26.836Z"
   },
   {
    "duration": 41,
    "start_time": "2022-03-18T22:52:26.843Z"
   },
   {
    "duration": 365,
    "start_time": "2022-03-18T22:52:26.887Z"
   },
   {
    "duration": 62,
    "start_time": "2022-03-18T22:52:27.254Z"
   },
   {
    "duration": 146,
    "start_time": "2022-03-18T22:52:27.318Z"
   },
   {
    "duration": 11,
    "start_time": "2022-03-18T23:26:25.939Z"
   },
   {
    "duration": 5,
    "start_time": "2022-03-18T23:26:32.103Z"
   },
   {
    "duration": 35,
    "start_time": "2022-03-18T23:26:32.111Z"
   },
   {
    "duration": 15,
    "start_time": "2022-03-18T23:26:32.149Z"
   },
   {
    "duration": 13,
    "start_time": "2022-03-18T23:26:32.166Z"
   },
   {
    "duration": 6,
    "start_time": "2022-03-18T23:26:32.182Z"
   },
   {
    "duration": 160,
    "start_time": "2022-03-18T23:26:32.190Z"
   },
   {
    "duration": 26935,
    "start_time": "2022-03-18T23:26:32.352Z"
   },
   {
    "duration": 57,
    "start_time": "2022-03-18T23:26:59.289Z"
   },
   {
    "duration": 5,
    "start_time": "2022-03-18T23:26:59.349Z"
   },
   {
    "duration": 24,
    "start_time": "2022-03-18T23:26:59.375Z"
   },
   {
    "duration": 376,
    "start_time": "2022-03-18T23:26:59.402Z"
   },
   {
    "duration": 56,
    "start_time": "2022-03-18T23:26:59.780Z"
   },
   {
    "duration": 36,
    "start_time": "2022-03-18T23:26:59.838Z"
   },
   {
    "duration": 8,
    "start_time": "2022-03-18T23:28:19.570Z"
   },
   {
    "duration": 9,
    "start_time": "2022-03-18T23:28:21.955Z"
   },
   {
    "duration": 8,
    "start_time": "2022-03-18T23:28:25.185Z"
   },
   {
    "duration": 8,
    "start_time": "2022-03-18T23:28:26.930Z"
   },
   {
    "duration": 8,
    "start_time": "2022-03-18T23:28:29.658Z"
   },
   {
    "duration": 7,
    "start_time": "2022-03-18T23:29:27.131Z"
   },
   {
    "duration": 7,
    "start_time": "2022-03-18T23:29:33.859Z"
   },
   {
    "duration": 9,
    "start_time": "2022-03-18T23:29:38.258Z"
   },
   {
    "duration": 8,
    "start_time": "2022-03-18T23:29:39.250Z"
   },
   {
    "duration": 7,
    "start_time": "2022-03-18T23:30:36.723Z"
   },
   {
    "duration": 7,
    "start_time": "2022-03-18T23:30:45.450Z"
   },
   {
    "duration": 7,
    "start_time": "2022-03-18T23:32:48.203Z"
   },
   {
    "duration": 7,
    "start_time": "2022-03-18T23:32:48.890Z"
   },
   {
    "duration": 7,
    "start_time": "2022-03-18T23:32:55.387Z"
   },
   {
    "duration": 1563,
    "start_time": "2022-03-18T23:39:04.000Z"
   },
   {
    "duration": 39,
    "start_time": "2022-03-18T23:39:05.566Z"
   },
   {
    "duration": 17,
    "start_time": "2022-03-18T23:39:05.607Z"
   },
   {
    "duration": 10,
    "start_time": "2022-03-18T23:39:05.627Z"
   },
   {
    "duration": 7,
    "start_time": "2022-03-18T23:39:05.674Z"
   },
   {
    "duration": 162,
    "start_time": "2022-03-18T23:39:05.683Z"
   },
   {
    "duration": 26877,
    "start_time": "2022-03-18T23:39:05.847Z"
   },
   {
    "duration": 72,
    "start_time": "2022-03-18T23:39:32.727Z"
   },
   {
    "duration": 6,
    "start_time": "2022-03-18T23:39:32.801Z"
   },
   {
    "duration": 21,
    "start_time": "2022-03-18T23:39:32.809Z"
   },
   {
    "duration": 387,
    "start_time": "2022-03-18T23:39:32.833Z"
   },
   {
    "duration": 68,
    "start_time": "2022-03-18T23:39:33.222Z"
   },
   {
    "duration": 7,
    "start_time": "2022-03-18T23:39:33.292Z"
   },
   {
    "duration": 7,
    "start_time": "2022-03-18T23:39:33.302Z"
   },
   {
    "duration": 6,
    "start_time": "2022-03-18T23:51:42.028Z"
   },
   {
    "duration": 30,
    "start_time": "2022-03-18T23:51:42.038Z"
   },
   {
    "duration": 17,
    "start_time": "2022-03-18T23:51:42.072Z"
   },
   {
    "duration": 11,
    "start_time": "2022-03-18T23:51:42.092Z"
   },
   {
    "duration": 7,
    "start_time": "2022-03-18T23:51:42.107Z"
   },
   {
    "duration": 186,
    "start_time": "2022-03-18T23:51:42.117Z"
   },
   {
    "duration": 27048,
    "start_time": "2022-03-18T23:51:42.305Z"
   },
   {
    "duration": 68,
    "start_time": "2022-03-18T23:52:09.356Z"
   },
   {
    "duration": 5,
    "start_time": "2022-03-18T23:52:09.426Z"
   },
   {
    "duration": 21,
    "start_time": "2022-03-18T23:52:09.433Z"
   },
   {
    "duration": 367,
    "start_time": "2022-03-18T23:52:09.476Z"
   },
   {
    "duration": 70,
    "start_time": "2022-03-18T23:52:09.845Z"
   },
   {
    "duration": 7,
    "start_time": "2022-03-18T23:52:09.917Z"
   },
   {
    "duration": 9,
    "start_time": "2022-03-18T23:52:09.926Z"
   },
   {
    "duration": 1565,
    "start_time": "2022-03-19T20:11:56.397Z"
   },
   {
    "duration": 35,
    "start_time": "2022-03-19T20:11:57.964Z"
   },
   {
    "duration": 12,
    "start_time": "2022-03-19T20:11:58.001Z"
   },
   {
    "duration": 8,
    "start_time": "2022-03-19T20:11:58.016Z"
   },
   {
    "duration": 9,
    "start_time": "2022-03-19T20:11:58.026Z"
   },
   {
    "duration": 136,
    "start_time": "2022-03-19T20:11:58.037Z"
   },
   {
    "duration": 21340,
    "start_time": "2022-03-19T20:11:58.175Z"
   },
   {
    "duration": 37,
    "start_time": "2022-03-19T20:12:19.517Z"
   },
   {
    "duration": 4,
    "start_time": "2022-03-19T20:12:19.556Z"
   },
   {
    "duration": 39,
    "start_time": "2022-03-19T20:12:19.563Z"
   },
   {
    "duration": 392,
    "start_time": "2022-03-19T20:12:19.605Z"
   },
   {
    "duration": 68,
    "start_time": "2022-03-19T20:12:20.002Z"
   },
   {
    "duration": 9,
    "start_time": "2022-03-19T20:12:20.074Z"
   },
   {
    "duration": 8,
    "start_time": "2022-03-19T20:12:20.102Z"
   },
   {
    "duration": 1256,
    "start_time": "2022-03-20T12:33:37.215Z"
   },
   {
    "duration": 44,
    "start_time": "2022-03-20T12:33:38.473Z"
   },
   {
    "duration": 14,
    "start_time": "2022-03-20T12:33:38.519Z"
   },
   {
    "duration": 9,
    "start_time": "2022-03-20T12:33:38.535Z"
   },
   {
    "duration": 8,
    "start_time": "2022-03-20T12:33:38.546Z"
   },
   {
    "duration": 124,
    "start_time": "2022-03-20T12:33:38.555Z"
   },
   {
    "duration": 195866,
    "start_time": "2022-03-20T12:33:38.681Z"
   },
   {
    "duration": 1139,
    "start_time": "2022-03-20T12:55:18.014Z"
   },
   {
    "duration": 5173,
    "start_time": "2022-03-20T12:56:03.918Z"
   },
   {
    "duration": 5061,
    "start_time": "2022-03-20T12:56:52.446Z"
   },
   {
    "duration": 1839,
    "start_time": "2022-03-20T12:59:05.319Z"
   },
   {
    "duration": 1871,
    "start_time": "2022-03-20T12:59:52.917Z"
   },
   {
    "duration": 1316,
    "start_time": "2022-03-20T13:00:54.406Z"
   },
   {
    "duration": 1281,
    "start_time": "2022-03-20T13:01:17.582Z"
   },
   {
    "duration": 1323,
    "start_time": "2022-03-20T13:01:55.278Z"
   },
   {
    "duration": 22066,
    "start_time": "2022-03-20T13:09:33.709Z"
   },
   {
    "duration": 107,
    "start_time": "2022-03-20T13:23:08.552Z"
   },
   {
    "duration": 11,
    "start_time": "2022-03-20T13:23:16.616Z"
   },
   {
    "duration": 21946,
    "start_time": "2022-03-20T13:23:29.672Z"
   },
   {
    "duration": 3545,
    "start_time": "2022-03-20T13:24:17.479Z"
   },
   {
    "duration": 6419,
    "start_time": "2022-03-20T13:39:08.300Z"
   },
   {
    "duration": 13358,
    "start_time": "2022-03-20T13:40:12.868Z"
   },
   {
    "duration": 13538,
    "start_time": "2022-03-20T13:40:47.868Z"
   },
   {
    "duration": 27320,
    "start_time": "2022-03-20T13:41:09.649Z"
   },
   {
    "duration": 1333,
    "start_time": "2022-03-20T13:45:10.128Z"
   },
   {
    "duration": 33,
    "start_time": "2022-03-20T13:45:11.463Z"
   },
   {
    "duration": 11,
    "start_time": "2022-03-20T13:45:11.498Z"
   },
   {
    "duration": 11,
    "start_time": "2022-03-20T13:45:11.512Z"
   },
   {
    "duration": 9,
    "start_time": "2022-03-20T13:45:11.525Z"
   },
   {
    "duration": 132,
    "start_time": "2022-03-20T13:45:11.535Z"
   },
   {
    "duration": 192033,
    "start_time": "2022-03-20T13:45:11.669Z"
   },
   {
    "duration": 25077,
    "start_time": "2022-03-20T13:48:23.704Z"
   },
   {
    "duration": 14,
    "start_time": "2022-03-20T13:48:48.782Z"
   },
   {
    "duration": 231,
    "start_time": "2022-03-20T13:48:48.799Z"
   },
   {
    "duration": 112,
    "start_time": "2022-03-20T13:48:49.032Z"
   },
   {
    "duration": 6,
    "start_time": "2022-03-20T13:48:49.146Z"
   },
   {
    "duration": 8,
    "start_time": "2022-03-20T13:48:49.154Z"
   },
   {
    "duration": 12,
    "start_time": "2022-03-20T13:55:09.277Z"
   },
   {
    "duration": 112,
    "start_time": "2022-03-20T13:55:29.846Z"
   },
   {
    "duration": 14,
    "start_time": "2022-03-20T13:56:28.430Z"
   },
   {
    "duration": 6,
    "start_time": "2022-03-20T13:56:41.581Z"
   },
   {
    "duration": 7,
    "start_time": "2022-03-20T13:56:46.845Z"
   },
   {
    "duration": 16,
    "start_time": "2022-03-20T13:56:50.254Z"
   },
   {
    "duration": 12,
    "start_time": "2022-03-20T13:57:10.366Z"
   },
   {
    "duration": 17,
    "start_time": "2022-03-20T14:01:01.277Z"
   },
   {
    "duration": 9,
    "start_time": "2022-03-20T14:01:25.981Z"
   },
   {
    "duration": 8,
    "start_time": "2022-03-20T14:03:05.765Z"
   },
   {
    "duration": 5,
    "start_time": "2022-03-20T14:03:36.140Z"
   },
   {
    "duration": 8,
    "start_time": "2022-03-20T14:06:42.196Z"
   },
   {
    "duration": 10,
    "start_time": "2022-03-20T14:06:51.964Z"
   },
   {
    "duration": 1202,
    "start_time": "2022-03-20T14:12:41.946Z"
   },
   {
    "duration": 33,
    "start_time": "2022-03-20T14:12:43.150Z"
   },
   {
    "duration": 11,
    "start_time": "2022-03-20T14:12:43.185Z"
   },
   {
    "duration": 9,
    "start_time": "2022-03-20T14:12:43.199Z"
   },
   {
    "duration": 6,
    "start_time": "2022-03-20T14:12:43.210Z"
   },
   {
    "duration": 118,
    "start_time": "2022-03-20T14:12:43.217Z"
   },
   {
    "duration": 187782,
    "start_time": "2022-03-20T14:12:43.336Z"
   },
   {
    "duration": 24575,
    "start_time": "2022-03-20T14:15:51.120Z"
   },
   {
    "duration": 14,
    "start_time": "2022-03-20T14:16:15.696Z"
   },
   {
    "duration": 217,
    "start_time": "2022-03-20T14:16:15.712Z"
   },
   {
    "duration": 119,
    "start_time": "2022-03-20T14:16:15.931Z"
   },
   {
    "duration": 7,
    "start_time": "2022-03-20T14:16:16.052Z"
   }
  ],
  "kernelspec": {
   "display_name": "Python 3 (ipykernel)",
   "language": "python",
   "name": "python3"
  },
  "language_info": {
   "codemirror_mode": {
    "name": "ipython",
    "version": 3
   },
   "file_extension": ".py",
   "mimetype": "text/x-python",
   "name": "python",
   "nbconvert_exporter": "python",
   "pygments_lexer": "ipython3",
   "version": "3.9.7"
  },
  "toc": {
   "base_numbering": 1,
   "nav_menu": {},
   "number_sections": true,
   "sideBar": true,
   "skip_h1_title": true,
   "title_cell": "Table of Contents",
   "title_sidebar": "Contents",
   "toc_cell": false,
   "toc_position": {},
   "toc_section_display": true,
   "toc_window_display": true
  }
 },
 "nbformat": 4,
 "nbformat_minor": 2
}
