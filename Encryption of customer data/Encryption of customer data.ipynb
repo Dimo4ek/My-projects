{
 "cells": [
  {
   "cell_type": "markdown",
   "metadata": {
    "toc": true
   },
   "source": [
    "<h1>Содержание<span class=\"tocSkip\"></span></h1>\n",
    "<div class=\"toc\"><ul class=\"toc-item\"><li><span><a href=\"#Загрузка-данных\" data-toc-modified-id=\"Загрузка-данных-1\"><span class=\"toc-item-num\">1&nbsp;&nbsp;</span>Загрузка данных</a></span></li><li><span><a href=\"#Умножение-матриц\" data-toc-modified-id=\"Умножение-матриц-2\"><span class=\"toc-item-num\">2&nbsp;&nbsp;</span>Умножение матриц</a></span></li><li><span><a href=\"#Алгоритм-преобразования\" data-toc-modified-id=\"Алгоритм-преобразования-3\"><span class=\"toc-item-num\">3&nbsp;&nbsp;</span>Алгоритм преобразования</a></span></li><li><span><a href=\"#Проверка-алгоритма\" data-toc-modified-id=\"Проверка-алгоритма-4\"><span class=\"toc-item-num\">4&nbsp;&nbsp;</span>Проверка алгоритма</a></span><ul class=\"toc-item\"><li><span><a href=\"#Проверим-качество-линейной-регрессии-до-преобразования-признаков\" data-toc-modified-id=\"Проверим-качество-линейной-регрессии-до-преобразования-признаков-4.1\"><span class=\"toc-item-num\">4.1&nbsp;&nbsp;</span>Проверим качество линейной регрессии до преобразования признаков</a></span></li><li><span><a href=\"#Проверим-качество-линейной-регрессии-после-признаков\" data-toc-modified-id=\"Проверим-качество-линейной-регрессии-после-признаков-4.2\"><span class=\"toc-item-num\">4.2&nbsp;&nbsp;</span>Проверим качество линейной регрессии после признаков</a></span></li></ul></li></ul></div>"
   ]
  },
  {
   "cell_type": "markdown",
   "metadata": {},
   "source": [
    "# Шифрование данных клиентов"
   ]
  },
  {
   "cell_type": "markdown",
   "metadata": {},
   "source": [
    "Нам нужно защитить перноснальные данные клиентов страховой компании. Нужно разработать такой метод преобразования данных, чтобы по ним было сложно восстановить персональную информацию и обосновать корректность его работы.\n",
    "\n",
    "Нужно защитить данные, чтобы при преобразовании качество моделей машинного обучения не ухудшилось. Подбирать наилучшую модель не требуется."
   ]
  },
  {
   "cell_type": "markdown",
   "metadata": {},
   "source": [
    "## Загрузка данных"
   ]
  },
  {
   "cell_type": "markdown",
   "metadata": {},
   "source": [
    "Чтобы изучить данные таблиц, сделать необходимые рассчёты и провести исследование сразу импортируем библиотеки, который нам потребуются в данном проекте:"
   ]
  },
  {
   "cell_type": "code",
   "execution_count": 1,
   "metadata": {},
   "outputs": [],
   "source": [
    "from sklearn.linear_model import LinearRegression\n",
    "from sklearn.metrics import r2_score\n",
    "from sklearn.model_selection import train_test_split\n",
    "\n",
    "import matplotlib.pyplot as plt\n",
    "import numpy as np\n",
    "import pandas as pd\n",
    "import random\n",
    "import seaborn as sns"
   ]
  },
  {
   "cell_type": "markdown",
   "metadata": {},
   "source": [
    "Напишем функцию, которая будет отображать основные показатели датасета и строить корреляционную матрицу"
   ]
  },
  {
   "cell_type": "code",
   "execution_count": 2,
   "metadata": {},
   "outputs": [],
   "source": [
    "def df_info(df):\n",
    "    \"\"\"Изучение датасета\"\"\"\n",
    "    print('\\nПервые 10 строчек датафрейма')\n",
    "    display(df.head(10))\n",
    "    print('\\nИнформация о датафрейме\\n')\n",
    "    display(df.info())\n",
    "    print('\\nРасчёт значений в каждом столбце')\n",
    "    display(df.describe())\n",
    "    print('\\nКоличество дубликатов =', df.duplicated().sum())\n",
    "    print('\\nЧисло пропусков в каждом столбце')\n",
    "    display(df.isna().sum())\n",
    "    print('\\nПостроение корреляционной матрицы')\n",
    "    plt.figure(figsize=(12,12))\n",
    "    corr_matrix = sns.heatmap(df.corr(), annot=True)\n",
    "    corr_matrix.axes.set_title(\"\\nКорреляционная матрица\", fontsize=5)"
   ]
  },
  {
   "cell_type": "markdown",
   "metadata": {},
   "source": [
    "Прочитаем файл и сохраним его"
   ]
  },
  {
   "cell_type": "code",
   "execution_count": 3,
   "metadata": {},
   "outputs": [],
   "source": [
    "df = pd.read_csv('C:\\\\Users\\\\Дмитрий\\\\github\\\\projects\\\\projects\\\\Encryption of customer data\\\\insurance.csv') "
   ]
  },
  {
   "cell_type": "markdown",
   "metadata": {},
   "source": [
    "Изучим датасет"
   ]
  },
  {
   "cell_type": "code",
   "execution_count": 4,
   "metadata": {
    "scrolled": false
   },
   "outputs": [
    {
     "name": "stdout",
     "output_type": "stream",
     "text": [
      "\n",
      "Первые 10 строчек датафрейма\n"
     ]
    },
    {
     "data": {
      "text/html": [
       "<div>\n",
       "<style scoped>\n",
       "    .dataframe tbody tr th:only-of-type {\n",
       "        vertical-align: middle;\n",
       "    }\n",
       "\n",
       "    .dataframe tbody tr th {\n",
       "        vertical-align: top;\n",
       "    }\n",
       "\n",
       "    .dataframe thead th {\n",
       "        text-align: right;\n",
       "    }\n",
       "</style>\n",
       "<table border=\"1\" class=\"dataframe\">\n",
       "  <thead>\n",
       "    <tr style=\"text-align: right;\">\n",
       "      <th></th>\n",
       "      <th>Пол</th>\n",
       "      <th>Возраст</th>\n",
       "      <th>Зарплата</th>\n",
       "      <th>Члены семьи</th>\n",
       "      <th>Страховые выплаты</th>\n",
       "    </tr>\n",
       "  </thead>\n",
       "  <tbody>\n",
       "    <tr>\n",
       "      <th>0</th>\n",
       "      <td>1</td>\n",
       "      <td>41.0</td>\n",
       "      <td>49600.0</td>\n",
       "      <td>1</td>\n",
       "      <td>0</td>\n",
       "    </tr>\n",
       "    <tr>\n",
       "      <th>1</th>\n",
       "      <td>0</td>\n",
       "      <td>46.0</td>\n",
       "      <td>38000.0</td>\n",
       "      <td>1</td>\n",
       "      <td>1</td>\n",
       "    </tr>\n",
       "    <tr>\n",
       "      <th>2</th>\n",
       "      <td>0</td>\n",
       "      <td>29.0</td>\n",
       "      <td>21000.0</td>\n",
       "      <td>0</td>\n",
       "      <td>0</td>\n",
       "    </tr>\n",
       "    <tr>\n",
       "      <th>3</th>\n",
       "      <td>0</td>\n",
       "      <td>21.0</td>\n",
       "      <td>41700.0</td>\n",
       "      <td>2</td>\n",
       "      <td>0</td>\n",
       "    </tr>\n",
       "    <tr>\n",
       "      <th>4</th>\n",
       "      <td>1</td>\n",
       "      <td>28.0</td>\n",
       "      <td>26100.0</td>\n",
       "      <td>0</td>\n",
       "      <td>0</td>\n",
       "    </tr>\n",
       "    <tr>\n",
       "      <th>5</th>\n",
       "      <td>1</td>\n",
       "      <td>43.0</td>\n",
       "      <td>41000.0</td>\n",
       "      <td>2</td>\n",
       "      <td>1</td>\n",
       "    </tr>\n",
       "    <tr>\n",
       "      <th>6</th>\n",
       "      <td>1</td>\n",
       "      <td>39.0</td>\n",
       "      <td>39700.0</td>\n",
       "      <td>2</td>\n",
       "      <td>0</td>\n",
       "    </tr>\n",
       "    <tr>\n",
       "      <th>7</th>\n",
       "      <td>1</td>\n",
       "      <td>25.0</td>\n",
       "      <td>38600.0</td>\n",
       "      <td>4</td>\n",
       "      <td>0</td>\n",
       "    </tr>\n",
       "    <tr>\n",
       "      <th>8</th>\n",
       "      <td>1</td>\n",
       "      <td>36.0</td>\n",
       "      <td>49700.0</td>\n",
       "      <td>1</td>\n",
       "      <td>0</td>\n",
       "    </tr>\n",
       "    <tr>\n",
       "      <th>9</th>\n",
       "      <td>1</td>\n",
       "      <td>32.0</td>\n",
       "      <td>51700.0</td>\n",
       "      <td>1</td>\n",
       "      <td>0</td>\n",
       "    </tr>\n",
       "  </tbody>\n",
       "</table>\n",
       "</div>"
      ],
      "text/plain": [
       "   Пол  Возраст  Зарплата  Члены семьи  Страховые выплаты\n",
       "0    1     41.0   49600.0            1                  0\n",
       "1    0     46.0   38000.0            1                  1\n",
       "2    0     29.0   21000.0            0                  0\n",
       "3    0     21.0   41700.0            2                  0\n",
       "4    1     28.0   26100.0            0                  0\n",
       "5    1     43.0   41000.0            2                  1\n",
       "6    1     39.0   39700.0            2                  0\n",
       "7    1     25.0   38600.0            4                  0\n",
       "8    1     36.0   49700.0            1                  0\n",
       "9    1     32.0   51700.0            1                  0"
      ]
     },
     "metadata": {},
     "output_type": "display_data"
    },
    {
     "name": "stdout",
     "output_type": "stream",
     "text": [
      "\n",
      "Информация о датафрейме\n",
      "\n",
      "<class 'pandas.core.frame.DataFrame'>\n",
      "RangeIndex: 5000 entries, 0 to 4999\n",
      "Data columns (total 5 columns):\n",
      " #   Column             Non-Null Count  Dtype  \n",
      "---  ------             --------------  -----  \n",
      " 0   Пол                5000 non-null   int64  \n",
      " 1   Возраст            5000 non-null   float64\n",
      " 2   Зарплата           5000 non-null   float64\n",
      " 3   Члены семьи        5000 non-null   int64  \n",
      " 4   Страховые выплаты  5000 non-null   int64  \n",
      "dtypes: float64(2), int64(3)\n",
      "memory usage: 195.4 KB\n"
     ]
    },
    {
     "data": {
      "text/plain": [
       "None"
      ]
     },
     "metadata": {},
     "output_type": "display_data"
    },
    {
     "name": "stdout",
     "output_type": "stream",
     "text": [
      "\n",
      "Расчёт значений в каждом столбце\n"
     ]
    },
    {
     "data": {
      "text/html": [
       "<div>\n",
       "<style scoped>\n",
       "    .dataframe tbody tr th:only-of-type {\n",
       "        vertical-align: middle;\n",
       "    }\n",
       "\n",
       "    .dataframe tbody tr th {\n",
       "        vertical-align: top;\n",
       "    }\n",
       "\n",
       "    .dataframe thead th {\n",
       "        text-align: right;\n",
       "    }\n",
       "</style>\n",
       "<table border=\"1\" class=\"dataframe\">\n",
       "  <thead>\n",
       "    <tr style=\"text-align: right;\">\n",
       "      <th></th>\n",
       "      <th>Пол</th>\n",
       "      <th>Возраст</th>\n",
       "      <th>Зарплата</th>\n",
       "      <th>Члены семьи</th>\n",
       "      <th>Страховые выплаты</th>\n",
       "    </tr>\n",
       "  </thead>\n",
       "  <tbody>\n",
       "    <tr>\n",
       "      <th>count</th>\n",
       "      <td>5000.000000</td>\n",
       "      <td>5000.000000</td>\n",
       "      <td>5000.000000</td>\n",
       "      <td>5000.000000</td>\n",
       "      <td>5000.000000</td>\n",
       "    </tr>\n",
       "    <tr>\n",
       "      <th>mean</th>\n",
       "      <td>0.499000</td>\n",
       "      <td>30.952800</td>\n",
       "      <td>39916.360000</td>\n",
       "      <td>1.194200</td>\n",
       "      <td>0.148000</td>\n",
       "    </tr>\n",
       "    <tr>\n",
       "      <th>std</th>\n",
       "      <td>0.500049</td>\n",
       "      <td>8.440807</td>\n",
       "      <td>9900.083569</td>\n",
       "      <td>1.091387</td>\n",
       "      <td>0.463183</td>\n",
       "    </tr>\n",
       "    <tr>\n",
       "      <th>min</th>\n",
       "      <td>0.000000</td>\n",
       "      <td>18.000000</td>\n",
       "      <td>5300.000000</td>\n",
       "      <td>0.000000</td>\n",
       "      <td>0.000000</td>\n",
       "    </tr>\n",
       "    <tr>\n",
       "      <th>25%</th>\n",
       "      <td>0.000000</td>\n",
       "      <td>24.000000</td>\n",
       "      <td>33300.000000</td>\n",
       "      <td>0.000000</td>\n",
       "      <td>0.000000</td>\n",
       "    </tr>\n",
       "    <tr>\n",
       "      <th>50%</th>\n",
       "      <td>0.000000</td>\n",
       "      <td>30.000000</td>\n",
       "      <td>40200.000000</td>\n",
       "      <td>1.000000</td>\n",
       "      <td>0.000000</td>\n",
       "    </tr>\n",
       "    <tr>\n",
       "      <th>75%</th>\n",
       "      <td>1.000000</td>\n",
       "      <td>37.000000</td>\n",
       "      <td>46600.000000</td>\n",
       "      <td>2.000000</td>\n",
       "      <td>0.000000</td>\n",
       "    </tr>\n",
       "    <tr>\n",
       "      <th>max</th>\n",
       "      <td>1.000000</td>\n",
       "      <td>65.000000</td>\n",
       "      <td>79000.000000</td>\n",
       "      <td>6.000000</td>\n",
       "      <td>5.000000</td>\n",
       "    </tr>\n",
       "  </tbody>\n",
       "</table>\n",
       "</div>"
      ],
      "text/plain": [
       "               Пол      Возраст      Зарплата  Члены семьи  Страховые выплаты\n",
       "count  5000.000000  5000.000000   5000.000000  5000.000000        5000.000000\n",
       "mean      0.499000    30.952800  39916.360000     1.194200           0.148000\n",
       "std       0.500049     8.440807   9900.083569     1.091387           0.463183\n",
       "min       0.000000    18.000000   5300.000000     0.000000           0.000000\n",
       "25%       0.000000    24.000000  33300.000000     0.000000           0.000000\n",
       "50%       0.000000    30.000000  40200.000000     1.000000           0.000000\n",
       "75%       1.000000    37.000000  46600.000000     2.000000           0.000000\n",
       "max       1.000000    65.000000  79000.000000     6.000000           5.000000"
      ]
     },
     "metadata": {},
     "output_type": "display_data"
    },
    {
     "name": "stdout",
     "output_type": "stream",
     "text": [
      "\n",
      "Количество дубликатов = 153\n",
      "\n",
      "Число пропусков в каждом столбце\n"
     ]
    },
    {
     "data": {
      "text/plain": [
       "Пол                  0\n",
       "Возраст              0\n",
       "Зарплата             0\n",
       "Члены семьи          0\n",
       "Страховые выплаты    0\n",
       "dtype: int64"
      ]
     },
     "metadata": {},
     "output_type": "display_data"
    },
    {
     "name": "stdout",
     "output_type": "stream",
     "text": [
      "\n",
      "Построение корреляционной матрицы\n"
     ]
    },
    {
     "data": {
      "image/png": "[encoded data removed]",
      "text/plain": [
       "<Figure size 864x864 with 2 Axes>"
      ]
     },
     "metadata": {
      "needs_background": "light"
     },
     "output_type": "display_data"
    }
   ],
   "source": [
    "df_info(df)"
   ]
  },
  {
   "cell_type": "markdown",
   "metadata": {},
   "source": [
    "В основной таблице 5 столбцов. Типы данных в столбцах - int64, float64.\n",
    "\n",
    "Согласно документации данные можно описать так:\n",
    "* Признаки: пол, возраст и зарплата застрахованного, количество членов его семьи.\n",
    "* Целевой признак: количество страховых выплат клиенту за последние 5 лет."
   ]
  },
  {
   "cell_type": "markdown",
   "metadata": {},
   "source": [
    "Удалим дубликаты"
   ]
  },
  {
   "cell_type": "code",
   "execution_count": 5,
   "metadata": {},
   "outputs": [],
   "source": [
    "df = df.drop_duplicates()"
   ]
  },
  {
   "cell_type": "markdown",
   "metadata": {},
   "source": [
    "**Вывод**\n",
    "<br><br>\n",
    "Данные были изучены, дубли в данных были удалены.\n",
    "<br>\n",
    "Целевой признак сильнее всего коррелирует с возрастом клиента, но уровень корреляции не настолько большой, чтобы по нему одному можно было делать предсказания.\n",
    "<br>\n",
    "Теперь можно приступить к работе с данными.\n",
    "<br>"
   ]
  },
  {
   "cell_type": "markdown",
   "metadata": {},
   "source": [
    "## Умножение матриц"
   ]
  },
  {
   "cell_type": "markdown",
   "metadata": {},
   "source": [
    "Чтобы записать формулу внутри текста, окружим её символами доллара \\\\$; если снаружи —  двойными символами \\\\$\\\\$. Эти формулы записываются на языке вёрстки *LaTeX.* \n",
    "\n",
    "Для примера мы записали формулы линейной регрессии."
   ]
  },
  {
   "cell_type": "markdown",
   "metadata": {},
   "source": [
    "Обозначения:\n",
    "\n",
    "- $X$ — матрица признаков (нулевой столбец состоит из единиц)\n",
    "\n",
    "- $y$ — вектор целевого признака\n",
    "\n",
    "- $P$ — матрица, на которую умножаются признаки\n",
    "\n",
    "- $w$ — вектор весов линейной регрессии (нулевой элемент равен сдвигу)"
   ]
  },
  {
   "cell_type": "markdown",
   "metadata": {},
   "source": [
    "Предсказания:\n",
    "\n",
    "$$\n",
    "a = Xw\n",
    "$$\n",
    "\n",
    "Задача обучения:\n",
    "\n",
    "$$\n",
    "w = \\arg\\min_w MSE(Xw, y)\n",
    "$$\n",
    "\n",
    "Формула обучения:\n",
    "\n",
    "$$\n",
    "w = (X^T X)^{-1} X^T y\n",
    "$$"
   ]
  },
  {
   "cell_type": "markdown",
   "metadata": {},
   "source": [
    "## Алгоритм преобразования"
   ]
  },
  {
   "cell_type": "markdown",
   "metadata": {},
   "source": [
    "**Алгоритм**\n",
    "<br>Нам нужно защитить данные клиентов страховой компании «Хоть потоп». Разработаем такой метод преобразования данных, чтобы по ним было сложно восстановить персональную информацию. Обоснуйте корректность его работы.\n",
    "1. Сформируем случайную матрицу нужного размера $P$\n",
    "2. Проверим, что матрица $P$ является обратимой. Для этого должно выполняться условие - произведение обратной квадратной матрицы $A$ на саму квадратную матрицу $А$ равно единичной матрице:  $AA^{-1}=A^{-1}A=PP^{-1}=E$\n",
    "3. Умножим матрицу признаков $X$ на случайную обратимую матрицу $P$ и получим матрицу преобразованных признаков\n",
    "4. Проверим корректность наших действий умножив матрицу преобразованных признаков на обратную матрицу $P$. Мы должны получить в результате снова матрицу признаков $X$"
   ]
  },
  {
   "cell_type": "markdown",
   "metadata": {},
   "source": [
    "**Обоснование**\n",
    "<br><br>Матрица $P$ должна иметь размер $m*m$, где $m$ является количеством признаков матрицы $X$.\n",
    "<br>Тогда матрица преобразованных признаков будет иметь размер матрицы $X$.\n",
    "<br>Чтобы доказать и обосновать корректность нашего алгоритма, проведём эксперемент на двух случайных маленьких матрицах, одна из которых является обратимой. \n",
    "<br>Проведя преобразование через умножение матриц, потом вернёмся обратно к исходным данным проведя ещё одно умножение на обратную матрицу к матрице на которую умножали изначально. \n"
   ]
  },
  {
   "cell_type": "code",
   "execution_count": 6,
   "metadata": {},
   "outputs": [
    {
     "data": {
      "text/plain": [
       "array([[8, 5, 9],\n",
       "       [8, 7, 5],\n",
       "       [1, 9, 9],\n",
       "       [2, 7, 1],\n",
       "       [3, 4, 8],\n",
       "       [7, 9, 3],\n",
       "       [3, 7, 1],\n",
       "       [2, 2, 6],\n",
       "       [2, 3, 5],\n",
       "       [7, 5, 8]])"
      ]
     },
     "execution_count": 6,
     "metadata": {},
     "output_type": "execute_result"
    }
   ],
   "source": [
    "X1 = np.random.randint(1, 10, (10, 3)) # зададим случайную матрицу размером 10 на 3 из целых чисел от 1 до 10\n",
    "X1"
   ]
  },
  {
   "cell_type": "code",
   "execution_count": 7,
   "metadata": {},
   "outputs": [
    {
     "data": {
      "text/plain": [
       "array([[3, 3, 4],\n",
       "       [4, 1, 2],\n",
       "       [2, 3, 4]])"
      ]
     },
     "execution_count": 7,
     "metadata": {},
     "output_type": "execute_result"
    }
   ],
   "source": [
    "P1 = np.random.randint(1, 5, (3, 3)) # зададим случайную квадратную матрицу размером 3 на 3 из целых чисел от 1 до 5\n",
    "P1"
   ]
  },
  {
   "cell_type": "code",
   "execution_count": 8,
   "metadata": {},
   "outputs": [
    {
     "data": {
      "text/plain": [
       "array([[1., 0., 0.],\n",
       "       [0., 1., 0.],\n",
       "       [0., 0., 1.]])"
      ]
     },
     "execution_count": 8,
     "metadata": {},
     "output_type": "execute_result"
    }
   ],
   "source": [
    "np.linalg.inv(P1) @ P1 # проверим, что матрица является обратимой умножив матрицу на такую же обратную матрицу"
   ]
  },
  {
   "cell_type": "code",
   "execution_count": 9,
   "metadata": {},
   "outputs": [
    {
     "data": {
      "text/plain": [
       "array([[62, 56, 78],\n",
       "       [62, 46, 66],\n",
       "       [57, 39, 58],\n",
       "       [36, 16, 26],\n",
       "       [41, 37, 52],\n",
       "       [63, 39, 58],\n",
       "       [39, 19, 30],\n",
       "       [26, 26, 36],\n",
       "       [28, 24, 34],\n",
       "       [57, 50, 70]])"
      ]
     },
     "execution_count": 9,
     "metadata": {},
     "output_type": "execute_result"
    }
   ],
   "source": [
    "Z = X1 @ P1 # преобразуем данные - получим матрицу преобразованных признаков\n",
    "Z"
   ]
  },
  {
   "cell_type": "code",
   "execution_count": 10,
   "metadata": {},
   "outputs": [
    {
     "data": {
      "text/plain": [
       "array([[8., 5., 9.],\n",
       "       [8., 7., 5.],\n",
       "       [1., 9., 9.],\n",
       "       [2., 7., 1.],\n",
       "       [3., 4., 8.],\n",
       "       [7., 9., 3.],\n",
       "       [3., 7., 1.],\n",
       "       [2., 2., 6.],\n",
       "       [2., 3., 5.],\n",
       "       [7., 5., 8.]])"
      ]
     },
     "execution_count": 10,
     "metadata": {},
     "output_type": "execute_result"
    }
   ],
   "source": [
    "Z @ np.linalg.inv(P1) # вернемся к изначальной матрице умножив преобразованную матрицу на обратную матрицу P1"
   ]
  },
  {
   "cell_type": "markdown",
   "metadata": {},
   "source": [
    "Таким образом, мы видим, что наш алгоритм рабочий. \n",
    "<br>Он может зашифровать с помощью матричного умножения на квадратную обратимую матрицу данные клиентов, а когда потребуется, мы можем вернуться к оригинальному виду с помощью умножения преобразованных данных на обратную матрицу к матрице на которую умножали изначально."
   ]
  },
  {
   "cell_type": "markdown",
   "metadata": {},
   "source": [
    "## Проверка алгоритма"
   ]
  },
  {
   "cell_type": "markdown",
   "metadata": {},
   "source": [
    "### Проверим качество линейной регрессии до преобразования признаков"
   ]
  },
  {
   "cell_type": "markdown",
   "metadata": {},
   "source": [
    "Разделим наш датафрейм на признаки обучающие и тестовые и целевой признак на обучающий и целевой"
   ]
  },
  {
   "cell_type": "code",
   "execution_count": 11,
   "metadata": {},
   "outputs": [],
   "source": [
    "features = df.drop('Страховые выплаты', axis=1)\n",
    "target = df['Страховые выплаты']\n",
    "features_train, features_test, target_train, target_test = train_test_split(\n",
    "    features, target, test_size=0.25, random_state=12345)"
   ]
  },
  {
   "cell_type": "markdown",
   "metadata": {},
   "source": [
    "Напишем собственную модель линейной регрессии"
   ]
  },
  {
   "cell_type": "code",
   "execution_count": 12,
   "metadata": {},
   "outputs": [],
   "source": [
    "class LinearRegressionMy:\n",
    "    def fit(self, train_features, train_target):\n",
    "        X = np.concatenate((np.ones((train_features.shape[0], 1)), train_features), axis=1)\n",
    "        y = train_target\n",
    "        w = (np.linalg.inv(X.T @ X) @ X.T).dot(y)\n",
    "        self.w = w[1:]\n",
    "        self.w0 = w[0]\n",
    "\n",
    "    def predict(self, test_features):\n",
    "        return test_features.dot(self.w) + self.w0"
   ]
  },
  {
   "cell_type": "markdown",
   "metadata": {},
   "source": [
    "Обучим модель линейной регрессии библиотеки `sklearn` и посмотрим каким будет значение R2:"
   ]
  },
  {
   "cell_type": "code",
   "execution_count": 13,
   "metadata": {},
   "outputs": [
    {
     "name": "stdout",
     "output_type": "stream",
     "text": [
      "0.42307727492147573\n"
     ]
    }
   ],
   "source": [
    "model = LinearRegression()\n",
    "model.fit(features_train, target_train)\n",
    "predictions = model.predict(features_test)\n",
    "r2_model = r2_score(target_test, predictions)\n",
    "print(r2_model)"
   ]
  },
  {
   "cell_type": "markdown",
   "metadata": {},
   "source": [
    "Обучим модель линейной регрессии с помощью собственного класса `LinearRegressionMy` и посмотрим каким будет значение R2:"
   ]
  },
  {
   "cell_type": "code",
   "execution_count": 14,
   "metadata": {},
   "outputs": [
    {
     "name": "stdout",
     "output_type": "stream",
     "text": [
      "0.4230772749214826\n"
     ]
    }
   ],
   "source": [
    "model_my = LinearRegressionMy()\n",
    "model_my.fit(features_train, target_train)\n",
    "predictions_my = model_my.predict(features_test)\n",
    "r2_model_my = r2_score(target_test, predictions_my)\n",
    "print(r2_model_my)"
   ]
  },
  {
   "cell_type": "markdown",
   "metadata": {},
   "source": [
    "### Проверим качество линейной регрессии после признаков"
   ]
  },
  {
   "cell_type": "markdown",
   "metadata": {},
   "source": [
    "Создадим случайную квадратную матрицу размером 5 на 5 из чисел от 0 до 1"
   ]
  },
  {
   "cell_type": "code",
   "execution_count": 15,
   "metadata": {},
   "outputs": [
    {
     "data": {
      "text/plain": [
       "array([[3, 1, 1, 2],\n",
       "       [2, 1, 4, 2],\n",
       "       [3, 1, 4, 3],\n",
       "       [1, 4, 2, 4]])"
      ]
     },
     "execution_count": 15,
     "metadata": {},
     "output_type": "execute_result"
    }
   ],
   "source": [
    "P = np.random.randint(1, 5, (4, 4))\n",
    "P"
   ]
  },
  {
   "cell_type": "markdown",
   "metadata": {},
   "source": [
    "Проверим, что матрица является обратимой умножив матрицу на такую же обратную матрицу"
   ]
  },
  {
   "cell_type": "code",
   "execution_count": 16,
   "metadata": {},
   "outputs": [
    {
     "data": {
      "text/plain": [
       "array([[ 1.00000000e+00, -1.11022302e-16, -6.66133815e-16,\n",
       "        -3.33066907e-16],\n",
       "       [ 0.00000000e+00,  1.00000000e+00, -8.88178420e-16,\n",
       "         0.00000000e+00],\n",
       "       [ 0.00000000e+00, -5.55111512e-17,  1.00000000e+00,\n",
       "        -1.11022302e-16],\n",
       "       [ 4.44089210e-16,  2.22044605e-16,  1.77635684e-15,\n",
       "         1.00000000e+00]])"
      ]
     },
     "execution_count": 16,
     "metadata": {},
     "output_type": "execute_result"
    }
   ],
   "source": [
    "np.linalg.inv(P) @ P"
   ]
  },
  {
   "cell_type": "markdown",
   "metadata": {},
   "source": [
    "Преобразуем данные `features` с помощью матрицы $P$"
   ]
  },
  {
   "cell_type": "code",
   "execution_count": 17,
   "metadata": {
    "scrolled": false
   },
   "outputs": [
    {
     "data": {
      "text/html": [
       "<div>\n",
       "<style scoped>\n",
       "    .dataframe tbody tr th:only-of-type {\n",
       "        vertical-align: middle;\n",
       "    }\n",
       "\n",
       "    .dataframe tbody tr th {\n",
       "        vertical-align: top;\n",
       "    }\n",
       "\n",
       "    .dataframe thead th {\n",
       "        text-align: right;\n",
       "    }\n",
       "</style>\n",
       "<table border=\"1\" class=\"dataframe\">\n",
       "  <thead>\n",
       "    <tr style=\"text-align: right;\">\n",
       "      <th></th>\n",
       "      <th>Пол</th>\n",
       "      <th>Возраст</th>\n",
       "      <th>Зарплата</th>\n",
       "      <th>Члены семьи</th>\n",
       "    </tr>\n",
       "  </thead>\n",
       "  <tbody>\n",
       "    <tr>\n",
       "      <th>0</th>\n",
       "      <td>148886.0</td>\n",
       "      <td>49646.0</td>\n",
       "      <td>198567.0</td>\n",
       "      <td>148888.0</td>\n",
       "    </tr>\n",
       "    <tr>\n",
       "      <th>1</th>\n",
       "      <td>114093.0</td>\n",
       "      <td>38050.0</td>\n",
       "      <td>152186.0</td>\n",
       "      <td>114096.0</td>\n",
       "    </tr>\n",
       "    <tr>\n",
       "      <th>2</th>\n",
       "      <td>63058.0</td>\n",
       "      <td>21029.0</td>\n",
       "      <td>84116.0</td>\n",
       "      <td>63058.0</td>\n",
       "    </tr>\n",
       "    <tr>\n",
       "      <th>3</th>\n",
       "      <td>125144.0</td>\n",
       "      <td>41729.0</td>\n",
       "      <td>166888.0</td>\n",
       "      <td>125150.0</td>\n",
       "    </tr>\n",
       "    <tr>\n",
       "      <th>4</th>\n",
       "      <td>78359.0</td>\n",
       "      <td>26129.0</td>\n",
       "      <td>104513.0</td>\n",
       "      <td>78358.0</td>\n",
       "    </tr>\n",
       "    <tr>\n",
       "      <th>5</th>\n",
       "      <td>123091.0</td>\n",
       "      <td>41052.0</td>\n",
       "      <td>164177.0</td>\n",
       "      <td>123096.0</td>\n",
       "    </tr>\n",
       "    <tr>\n",
       "      <th>6</th>\n",
       "      <td>119183.0</td>\n",
       "      <td>39748.0</td>\n",
       "      <td>158961.0</td>\n",
       "      <td>119188.0</td>\n",
       "    </tr>\n",
       "    <tr>\n",
       "      <th>7</th>\n",
       "      <td>115857.0</td>\n",
       "      <td>38642.0</td>\n",
       "      <td>154509.0</td>\n",
       "      <td>115868.0</td>\n",
       "    </tr>\n",
       "    <tr>\n",
       "      <th>8</th>\n",
       "      <td>149176.0</td>\n",
       "      <td>49741.0</td>\n",
       "      <td>198947.0</td>\n",
       "      <td>149178.0</td>\n",
       "    </tr>\n",
       "    <tr>\n",
       "      <th>9</th>\n",
       "      <td>155168.0</td>\n",
       "      <td>51737.0</td>\n",
       "      <td>206931.0</td>\n",
       "      <td>155170.0</td>\n",
       "    </tr>\n",
       "  </tbody>\n",
       "</table>\n",
       "</div>"
      ],
      "text/plain": [
       "        Пол  Возраст  Зарплата  Члены семьи\n",
       "0  148886.0  49646.0  198567.0     148888.0\n",
       "1  114093.0  38050.0  152186.0     114096.0\n",
       "2   63058.0  21029.0   84116.0      63058.0\n",
       "3  125144.0  41729.0  166888.0     125150.0\n",
       "4   78359.0  26129.0  104513.0      78358.0\n",
       "5  123091.0  41052.0  164177.0     123096.0\n",
       "6  119183.0  39748.0  158961.0     119188.0\n",
       "7  115857.0  38642.0  154509.0     115868.0\n",
       "8  149176.0  49741.0  198947.0     149178.0\n",
       "9  155168.0  51737.0  206931.0     155170.0"
      ]
     },
     "execution_count": 17,
     "metadata": {},
     "output_type": "execute_result"
    }
   ],
   "source": [
    "features_converted = pd.DataFrame((np.array(features) @ P), index=features.index, columns=features.columns)\n",
    "features_converted.head(10)"
   ]
  },
  {
   "cell_type": "markdown",
   "metadata": {},
   "source": [
    "Разделим наши преобразованные признаки и исходный целевой признак на признаки обучающие и тестовые и целевой признак на обучающий и целевой"
   ]
  },
  {
   "cell_type": "code",
   "execution_count": 18,
   "metadata": {},
   "outputs": [],
   "source": [
    "features_train_converted, features_test_converted, target_train_converted, target_test_converted = train_test_split(\n",
    "    features_converted, target, test_size=0.25, random_state=12345)"
   ]
  },
  {
   "cell_type": "markdown",
   "metadata": {},
   "source": [
    "Обучим модель линейной регрессии библиотеки `sklearn` и посмотрим каким будет значение R2:"
   ]
  },
  {
   "cell_type": "code",
   "execution_count": 19,
   "metadata": {},
   "outputs": [
    {
     "name": "stdout",
     "output_type": "stream",
     "text": [
      "0.4230772749214322\n"
     ]
    }
   ],
   "source": [
    "model_converted = LinearRegression()\n",
    "model_converted.fit(features_train_converted, target_train_converted)\n",
    "predictions_converted = model_converted.predict(features_test_converted)\n",
    "r2_model_converted = r2_score(target_test_converted, predictions_converted)\n",
    "print(r2_model_converted)"
   ]
  },
  {
   "cell_type": "markdown",
   "metadata": {},
   "source": [
    "Обучим модель линейной регрессии с помощью собственного класса `LinearRegressionMy` и посмотрим каким будет значение R2"
   ]
  },
  {
   "cell_type": "code",
   "execution_count": 20,
   "metadata": {},
   "outputs": [
    {
     "name": "stdout",
     "output_type": "stream",
     "text": [
      "0.4230772638231117\n"
     ]
    }
   ],
   "source": [
    "model_converted_my = LinearRegressionMy()\n",
    "model_converted_my.fit(features_train_converted, target_train_converted)\n",
    "predictions_converted_my = model_converted_my.predict(features_test_converted)\n",
    "r2_model_converted_my = r2_score(target_test_converted, predictions_converted_my)\n",
    "print(r2_model_converted_my)"
   ]
  },
  {
   "cell_type": "markdown",
   "metadata": {},
   "source": [
    "Сравним показатели качества, которые выдают обе модели обученных на преобразованных и непреобразованных признаках, они должны совпадать "
   ]
  },
  {
   "cell_type": "code",
   "execution_count": 21,
   "metadata": {},
   "outputs": [
    {
     "data": {
      "text/html": [
       "<div>\n",
       "<style scoped>\n",
       "    .dataframe tbody tr th:only-of-type {\n",
       "        vertical-align: middle;\n",
       "    }\n",
       "\n",
       "    .dataframe tbody tr th {\n",
       "        vertical-align: top;\n",
       "    }\n",
       "\n",
       "    .dataframe thead th {\n",
       "        text-align: right;\n",
       "    }\n",
       "</style>\n",
       "<table border=\"1\" class=\"dataframe\">\n",
       "  <thead>\n",
       "    <tr style=\"text-align: right;\">\n",
       "      <th></th>\n",
       "      <th>R2</th>\n",
       "    </tr>\n",
       "  </thead>\n",
       "  <tbody>\n",
       "    <tr>\n",
       "      <th>LinearRegression до преобразования</th>\n",
       "      <td>0.423077</td>\n",
       "    </tr>\n",
       "    <tr>\n",
       "      <th>LinearRegressionMy до преобразования</th>\n",
       "      <td>0.423077</td>\n",
       "    </tr>\n",
       "    <tr>\n",
       "      <th>LinearRegression после преобразования</th>\n",
       "      <td>0.423077</td>\n",
       "    </tr>\n",
       "    <tr>\n",
       "      <th>LinearRegressionMy после преобразования</th>\n",
       "      <td>0.423077</td>\n",
       "    </tr>\n",
       "  </tbody>\n",
       "</table>\n",
       "</div>"
      ],
      "text/plain": [
       "                                               R2\n",
       "LinearRegression до преобразования       0.423077\n",
       "LinearRegressionMy до преобразования     0.423077\n",
       "LinearRegression после преобразования    0.423077\n",
       "LinearRegressionMy после преобразования  0.423077"
      ]
     },
     "execution_count": 21,
     "metadata": {},
     "output_type": "execute_result"
    }
   ],
   "source": [
    "result = pd.DataFrame([r2_model, r2_model_my, r2_model_converted, r2_model_converted_my],\n",
    "                      index=['LinearRegression до преобразования', 'LinearRegressionMy до преобразования', \n",
    "                             'LinearRegression после преобразования', 'LinearRegressionMy после преобразования'], \n",
    "                      columns=['R2'])\n",
    "result"
   ]
  },
  {
   "cell_type": "markdown",
   "metadata": {},
   "source": [
    "**Вывод**\n",
    "\n",
    "С помощью матричного умножения удалось  успешно зашифровать данные клиентов, чтобы по ним нельзя было понять реальные данные. Показатели качества метрики R2 при этом не изменились до преобразования признаков и после преобразования признаков на модели `LinearRegression` от `sklearn` и  на собственной модели линейной регрессии `LinearRegressionMy`."
   ]
  }
 ],
 "metadata": {
  "ExecuteTimeLog": [
   {
    "duration": 1348,
    "start_time": "2022-05-10T10:32:19.093Z"
   },
   {
    "duration": 125,
    "start_time": "2022-05-10T10:35:29.153Z"
   },
   {
    "duration": 17,
    "start_time": "2022-05-10T10:39:37.056Z"
   },
   {
    "duration": 15,
    "start_time": "2022-05-10T10:40:18.136Z"
   },
   {
    "duration": 4,
    "start_time": "2022-05-10T10:40:44.657Z"
   },
   {
    "duration": 583,
    "start_time": "2022-05-10T10:40:55.337Z"
   },
   {
    "duration": 3,
    "start_time": "2022-05-10T10:41:26.649Z"
   },
   {
    "duration": 487,
    "start_time": "2022-05-10T10:41:29.954Z"
   },
   {
    "duration": 4,
    "start_time": "2022-05-10T10:42:35.137Z"
   },
   {
    "duration": 11,
    "start_time": "2022-05-10T10:42:37.112Z"
   },
   {
    "duration": 394,
    "start_time": "2022-05-10T10:42:38.137Z"
   },
   {
    "duration": 6,
    "start_time": "2022-05-10T10:48:26.223Z"
   },
   {
    "duration": 419,
    "start_time": "2022-05-10T10:48:28.192Z"
   },
   {
    "duration": 7,
    "start_time": "2022-05-10T10:49:08.937Z"
   },
   {
    "duration": 95,
    "start_time": "2022-05-10T10:49:23.591Z"
   },
   {
    "duration": 18,
    "start_time": "2022-05-10T10:49:39.415Z"
   },
   {
    "duration": 7,
    "start_time": "2022-05-10T10:50:08.911Z"
   },
   {
    "duration": 7,
    "start_time": "2022-05-10T10:50:32.705Z"
   },
   {
    "duration": 23,
    "start_time": "2022-05-10T10:53:24.814Z"
   },
   {
    "duration": 6,
    "start_time": "2022-05-10T10:59:48.454Z"
   },
   {
    "duration": 28,
    "start_time": "2022-05-10T11:56:53.395Z"
   },
   {
    "duration": 5,
    "start_time": "2022-05-10T12:01:35.925Z"
   },
   {
    "duration": 12,
    "start_time": "2022-05-10T12:01:39.310Z"
   },
   {
    "duration": 12,
    "start_time": "2022-05-10T12:01:40.369Z"
   },
   {
    "duration": 7,
    "start_time": "2022-05-10T12:01:51.159Z"
   },
   {
    "duration": 21,
    "start_time": "2022-05-10T12:01:53.238Z"
   },
   {
    "duration": 411,
    "start_time": "2022-05-10T12:01:54.168Z"
   },
   {
    "duration": 119,
    "start_time": "2022-05-10T12:03:19.549Z"
   },
   {
    "duration": 104,
    "start_time": "2022-05-10T12:03:47.485Z"
   },
   {
    "duration": 5,
    "start_time": "2022-05-10T12:05:38.013Z"
   },
   {
    "duration": 5,
    "start_time": "2022-05-10T12:06:15.204Z"
   },
   {
    "duration": 10,
    "start_time": "2022-05-10T12:06:17.700Z"
   },
   {
    "duration": 409,
    "start_time": "2022-05-10T12:06:18.862Z"
   },
   {
    "duration": 4,
    "start_time": "2022-05-10T12:06:53.405Z"
   },
   {
    "duration": 421,
    "start_time": "2022-05-10T12:06:56.990Z"
   },
   {
    "duration": 4,
    "start_time": "2022-05-10T12:07:05.836Z"
   },
   {
    "duration": 11,
    "start_time": "2022-05-10T12:07:07.916Z"
   },
   {
    "duration": 404,
    "start_time": "2022-05-10T12:07:08.903Z"
   },
   {
    "duration": 5,
    "start_time": "2022-05-10T12:07:39.836Z"
   },
   {
    "duration": 521,
    "start_time": "2022-05-10T12:07:44.575Z"
   },
   {
    "duration": 15,
    "start_time": "2022-05-10T14:17:55.186Z"
   },
   {
    "duration": 5,
    "start_time": "2022-05-10T14:27:11.835Z"
   },
   {
    "duration": 424,
    "start_time": "2022-05-10T14:45:28.687Z"
   },
   {
    "duration": 1168,
    "start_time": "2022-05-10T14:58:50.505Z"
   },
   {
    "duration": 6,
    "start_time": "2022-05-10T14:58:51.678Z"
   },
   {
    "duration": 40,
    "start_time": "2022-05-10T14:58:51.686Z"
   },
   {
    "duration": 423,
    "start_time": "2022-05-10T14:58:51.728Z"
   },
   {
    "duration": 11,
    "start_time": "2022-05-10T14:58:52.156Z"
   },
   {
    "duration": 1721,
    "start_time": "2022-05-11T07:55:29.585Z"
   },
   {
    "duration": 7,
    "start_time": "2022-05-11T07:55:31.309Z"
   },
   {
    "duration": 31,
    "start_time": "2022-05-11T07:55:31.318Z"
   },
   {
    "duration": 704,
    "start_time": "2022-05-11T07:55:31.351Z"
   },
   {
    "duration": 7,
    "start_time": "2022-05-11T07:55:32.058Z"
   },
   {
    "duration": 6,
    "start_time": "2022-05-11T08:36:45.181Z"
   },
   {
    "duration": 31,
    "start_time": "2022-05-11T08:36:53.020Z"
   },
   {
    "duration": 573,
    "start_time": "2022-05-11T08:36:54.229Z"
   },
   {
    "duration": 518,
    "start_time": "2022-05-11T09:02:05.329Z"
   },
   {
    "duration": 4,
    "start_time": "2022-05-11T09:31:31.880Z"
   },
   {
    "duration": 149,
    "start_time": "2022-05-11T09:32:20.711Z"
   },
   {
    "duration": 7,
    "start_time": "2022-05-11T09:33:07.831Z"
   },
   {
    "duration": 7,
    "start_time": "2022-05-11T09:33:59.424Z"
   },
   {
    "duration": 7,
    "start_time": "2022-05-11T09:34:08.879Z"
   },
   {
    "duration": 6,
    "start_time": "2022-05-11T09:35:03.920Z"
   },
   {
    "duration": 6,
    "start_time": "2022-05-11T09:37:06.295Z"
   },
   {
    "duration": 6,
    "start_time": "2022-05-11T10:15:19.915Z"
   },
   {
    "duration": 6,
    "start_time": "2022-05-11T10:15:49.858Z"
   },
   {
    "duration": 11,
    "start_time": "2022-05-11T10:17:06.667Z"
   },
   {
    "duration": 12,
    "start_time": "2022-05-11T10:17:16.954Z"
   },
   {
    "duration": 7,
    "start_time": "2022-05-11T10:21:17.586Z"
   },
   {
    "duration": 5,
    "start_time": "2022-05-11T10:23:36.330Z"
   },
   {
    "duration": 6,
    "start_time": "2022-05-11T10:24:18.610Z"
   },
   {
    "duration": 7,
    "start_time": "2022-05-11T10:45:53.943Z"
   },
   {
    "duration": 6,
    "start_time": "2022-05-11T10:45:57.679Z"
   },
   {
    "duration": 7,
    "start_time": "2022-05-11T10:46:15.112Z"
   },
   {
    "duration": 6,
    "start_time": "2022-05-11T10:46:26.991Z"
   },
   {
    "duration": 7,
    "start_time": "2022-05-11T10:46:31.983Z"
   },
   {
    "duration": 6,
    "start_time": "2022-05-11T10:48:08.736Z"
   },
   {
    "duration": 6,
    "start_time": "2022-05-11T10:48:56.967Z"
   },
   {
    "duration": 7,
    "start_time": "2022-05-11T10:49:03.751Z"
   },
   {
    "duration": 1985,
    "start_time": "2022-05-11T11:04:24.178Z"
   },
   {
    "duration": 10,
    "start_time": "2022-05-11T11:04:26.166Z"
   },
   {
    "duration": 28,
    "start_time": "2022-05-11T11:04:26.179Z"
   },
   {
    "duration": 621,
    "start_time": "2022-05-11T11:04:26.210Z"
   },
   {
    "duration": 9,
    "start_time": "2022-05-11T11:04:26.833Z"
   },
   {
    "duration": 10,
    "start_time": "2022-05-11T11:04:26.844Z"
   },
   {
    "duration": 11,
    "start_time": "2022-05-11T11:04:26.857Z"
   },
   {
    "duration": 9,
    "start_time": "2022-05-11T11:04:26.894Z"
   },
   {
    "duration": 10,
    "start_time": "2022-05-11T11:04:26.905Z"
   },
   {
    "duration": 79,
    "start_time": "2022-05-11T11:04:26.919Z"
   },
   {
    "duration": 7,
    "start_time": "2022-05-11T11:04:54.861Z"
   },
   {
    "duration": 8,
    "start_time": "2022-05-11T11:04:59.973Z"
   },
   {
    "duration": 6,
    "start_time": "2022-05-11T11:05:21.565Z"
   },
   {
    "duration": 7,
    "start_time": "2022-05-11T11:05:22.956Z"
   },
   {
    "duration": 6,
    "start_time": "2022-05-11T11:05:26.509Z"
   },
   {
    "duration": 6,
    "start_time": "2022-05-11T11:05:27.420Z"
   },
   {
    "duration": 7,
    "start_time": "2022-05-11T11:05:37.604Z"
   },
   {
    "duration": 327,
    "start_time": "2022-05-11T11:05:38.676Z"
   },
   {
    "duration": 179,
    "start_time": "2022-05-11T11:05:48.845Z"
   },
   {
    "duration": 7,
    "start_time": "2022-05-11T11:05:54.213Z"
   },
   {
    "duration": 188,
    "start_time": "2022-05-11T11:05:55.693Z"
   },
   {
    "duration": 6,
    "start_time": "2022-05-11T11:06:12.100Z"
   },
   {
    "duration": 6,
    "start_time": "2022-05-11T11:06:13.324Z"
   },
   {
    "duration": 193,
    "start_time": "2022-05-11T11:06:14.237Z"
   },
   {
    "duration": 6,
    "start_time": "2022-05-11T11:06:18.132Z"
   },
   {
    "duration": 204,
    "start_time": "2022-05-11T11:06:19.373Z"
   },
   {
    "duration": 8,
    "start_time": "2022-05-11T11:06:50.109Z"
   },
   {
    "duration": 8,
    "start_time": "2022-05-11T11:06:51.308Z"
   },
   {
    "duration": 6,
    "start_time": "2022-05-11T11:06:52.500Z"
   },
   {
    "duration": 8,
    "start_time": "2022-05-11T11:06:56.197Z"
   },
   {
    "duration": 7,
    "start_time": "2022-05-11T11:07:28.724Z"
   },
   {
    "duration": 6,
    "start_time": "2022-05-11T11:07:29.100Z"
   },
   {
    "duration": 7,
    "start_time": "2022-05-11T11:07:29.700Z"
   },
   {
    "duration": 6,
    "start_time": "2022-05-11T11:07:30.733Z"
   },
   {
    "duration": 7,
    "start_time": "2022-05-11T11:07:31.693Z"
   },
   {
    "duration": 6,
    "start_time": "2022-05-11T11:07:44.021Z"
   },
   {
    "duration": 7,
    "start_time": "2022-05-11T11:07:44.845Z"
   },
   {
    "duration": 8,
    "start_time": "2022-05-11T11:07:45.884Z"
   },
   {
    "duration": 9,
    "start_time": "2022-05-11T11:07:46.964Z"
   },
   {
    "duration": 7,
    "start_time": "2022-05-11T11:07:53.436Z"
   },
   {
    "duration": 8,
    "start_time": "2022-05-11T11:07:54.460Z"
   },
   {
    "duration": 6,
    "start_time": "2022-05-11T11:07:58.052Z"
   },
   {
    "duration": 8,
    "start_time": "2022-05-11T11:08:07.783Z"
   },
   {
    "duration": 6,
    "start_time": "2022-05-11T11:08:14.652Z"
   },
   {
    "duration": 8,
    "start_time": "2022-05-11T11:08:16.460Z"
   },
   {
    "duration": 6,
    "start_time": "2022-05-11T11:08:18.868Z"
   },
   {
    "duration": 7,
    "start_time": "2022-05-11T11:08:21.484Z"
   },
   {
    "duration": 6,
    "start_time": "2022-05-11T11:08:24.900Z"
   },
   {
    "duration": 9,
    "start_time": "2022-05-11T11:08:25.860Z"
   },
   {
    "duration": 6,
    "start_time": "2022-05-11T11:08:29.116Z"
   },
   {
    "duration": 7,
    "start_time": "2022-05-11T11:08:29.852Z"
   },
   {
    "duration": 6,
    "start_time": "2022-05-11T11:08:32.989Z"
   },
   {
    "duration": 7,
    "start_time": "2022-05-11T11:08:35.477Z"
   },
   {
    "duration": 8,
    "start_time": "2022-05-11T11:08:49.892Z"
   },
   {
    "duration": 5,
    "start_time": "2022-05-11T11:08:53.317Z"
   },
   {
    "duration": 6,
    "start_time": "2022-05-11T11:08:54.125Z"
   },
   {
    "duration": 7,
    "start_time": "2022-05-11T11:09:04.476Z"
   },
   {
    "duration": 8,
    "start_time": "2022-05-11T11:09:05.172Z"
   },
   {
    "duration": 6,
    "start_time": "2022-05-11T11:09:06.293Z"
   },
   {
    "duration": 8,
    "start_time": "2022-05-11T11:09:06.844Z"
   },
   {
    "duration": 7,
    "start_time": "2022-05-11T11:09:10.308Z"
   },
   {
    "duration": 7,
    "start_time": "2022-05-11T11:09:11.156Z"
   },
   {
    "duration": 6,
    "start_time": "2022-05-11T11:09:25.148Z"
   },
   {
    "duration": 9,
    "start_time": "2022-05-11T11:09:25.724Z"
   },
   {
    "duration": 1813,
    "start_time": "2022-05-11T16:17:05.945Z"
   },
   {
    "duration": 6,
    "start_time": "2022-05-11T16:17:07.761Z"
   },
   {
    "duration": 23,
    "start_time": "2022-05-11T16:17:07.769Z"
   },
   {
    "duration": 539,
    "start_time": "2022-05-11T16:17:07.793Z"
   },
   {
    "duration": 5,
    "start_time": "2022-05-11T16:17:08.335Z"
   },
   {
    "duration": 5,
    "start_time": "2022-05-11T16:17:08.342Z"
   },
   {
    "duration": 5,
    "start_time": "2022-05-11T16:17:08.349Z"
   },
   {
    "duration": 5,
    "start_time": "2022-05-11T16:17:08.356Z"
   },
   {
    "duration": 5,
    "start_time": "2022-05-11T16:17:08.364Z"
   },
   {
    "duration": 10,
    "start_time": "2022-05-11T16:17:08.423Z"
   },
   {
    "duration": 3,
    "start_time": "2022-05-11T16:17:47.652Z"
   },
   {
    "duration": 11,
    "start_time": "2022-05-11T16:17:47.657Z"
   },
   {
    "duration": 19,
    "start_time": "2022-05-11T16:17:47.670Z"
   },
   {
    "duration": 412,
    "start_time": "2022-05-11T16:17:47.691Z"
   },
   {
    "duration": 18,
    "start_time": "2022-05-11T16:17:48.106Z"
   },
   {
    "duration": 6,
    "start_time": "2022-05-11T16:17:48.125Z"
   },
   {
    "duration": 6,
    "start_time": "2022-05-11T16:17:48.132Z"
   },
   {
    "duration": 8,
    "start_time": "2022-05-11T16:17:48.140Z"
   },
   {
    "duration": 6,
    "start_time": "2022-05-11T16:17:48.151Z"
   },
   {
    "duration": 7,
    "start_time": "2022-05-11T16:17:48.222Z"
   },
   {
    "duration": 3,
    "start_time": "2022-05-11T16:23:17.579Z"
   },
   {
    "duration": 9,
    "start_time": "2022-05-11T16:23:17.584Z"
   },
   {
    "duration": 29,
    "start_time": "2022-05-11T16:23:17.595Z"
   },
   {
    "duration": 426,
    "start_time": "2022-05-11T16:23:17.626Z"
   },
   {
    "duration": 5,
    "start_time": "2022-05-11T16:23:18.054Z"
   },
   {
    "duration": 5,
    "start_time": "2022-05-11T16:23:18.060Z"
   },
   {
    "duration": 8,
    "start_time": "2022-05-11T16:23:18.067Z"
   },
   {
    "duration": 6,
    "start_time": "2022-05-11T16:23:18.077Z"
   },
   {
    "duration": 6,
    "start_time": "2022-05-11T16:23:18.122Z"
   },
   {
    "duration": 5,
    "start_time": "2022-05-11T16:23:18.130Z"
   },
   {
    "duration": 4,
    "start_time": "2022-05-11T16:32:41.359Z"
   },
   {
    "duration": 13,
    "start_time": "2022-05-11T16:32:48.623Z"
   },
   {
    "duration": 6,
    "start_time": "2022-05-11T16:33:35.902Z"
   },
   {
    "duration": 4,
    "start_time": "2022-05-11T16:40:34.438Z"
   },
   {
    "duration": 11,
    "start_time": "2022-05-11T16:42:16.614Z"
   },
   {
    "duration": 7,
    "start_time": "2022-05-11T16:42:21.206Z"
   },
   {
    "duration": 12,
    "start_time": "2022-05-11T16:42:24.982Z"
   },
   {
    "duration": 10,
    "start_time": "2022-05-11T16:43:58.501Z"
   },
   {
    "duration": 5,
    "start_time": "2022-05-11T17:12:50.387Z"
   },
   {
    "duration": 7,
    "start_time": "2022-05-11T17:18:00.393Z"
   },
   {
    "duration": 6,
    "start_time": "2022-05-11T17:22:04.513Z"
   },
   {
    "duration": 5,
    "start_time": "2022-05-11T17:25:48.464Z"
   },
   {
    "duration": 4,
    "start_time": "2022-05-11T17:25:58.496Z"
   },
   {
    "duration": 120,
    "start_time": "2022-05-11T17:27:26.488Z"
   },
   {
    "duration": 6,
    "start_time": "2022-05-11T17:28:10.545Z"
   },
   {
    "duration": 5,
    "start_time": "2022-05-11T17:29:33.906Z"
   },
   {
    "duration": 5,
    "start_time": "2022-05-11T17:30:44.841Z"
   },
   {
    "duration": 34,
    "start_time": "2022-05-11T17:34:27.944Z"
   },
   {
    "duration": 1547,
    "start_time": "2022-05-11T17:35:23.440Z"
   },
   {
    "duration": 5,
    "start_time": "2022-05-11T17:35:24.989Z"
   },
   {
    "duration": 30,
    "start_time": "2022-05-11T17:35:24.996Z"
   },
   {
    "duration": 481,
    "start_time": "2022-05-11T17:35:25.028Z"
   },
   {
    "duration": 10,
    "start_time": "2022-05-11T17:35:25.512Z"
   },
   {
    "duration": 5,
    "start_time": "2022-05-11T17:35:25.524Z"
   },
   {
    "duration": 7,
    "start_time": "2022-05-11T17:35:25.531Z"
   },
   {
    "duration": 5,
    "start_time": "2022-05-11T17:35:25.540Z"
   },
   {
    "duration": 6,
    "start_time": "2022-05-11T17:35:25.547Z"
   },
   {
    "duration": 70,
    "start_time": "2022-05-11T17:35:25.555Z"
   },
   {
    "duration": 5,
    "start_time": "2022-05-11T17:35:25.627Z"
   },
   {
    "duration": 4,
    "start_time": "2022-05-11T17:35:25.634Z"
   },
   {
    "duration": 93,
    "start_time": "2022-05-11T17:35:25.640Z"
   },
   {
    "duration": 6,
    "start_time": "2022-05-11T17:35:25.826Z"
   },
   {
    "duration": 7,
    "start_time": "2022-05-11T17:35:25.923Z"
   },
   {
    "duration": 261,
    "start_time": "2022-05-11T17:35:25.932Z"
   },
   {
    "duration": 0,
    "start_time": "2022-05-11T17:35:26.196Z"
   },
   {
    "duration": 5,
    "start_time": "2022-05-11T17:37:41.052Z"
   },
   {
    "duration": 10,
    "start_time": "2022-05-11T17:38:05.333Z"
   },
   {
    "duration": 13,
    "start_time": "2022-05-11T17:38:16.789Z"
   },
   {
    "duration": 8,
    "start_time": "2022-05-11T17:38:20.476Z"
   },
   {
    "duration": 19,
    "start_time": "2022-05-11T17:40:09.157Z"
   },
   {
    "duration": 3,
    "start_time": "2022-05-11T17:40:43.389Z"
   },
   {
    "duration": 5,
    "start_time": "2022-05-11T17:40:56.060Z"
   },
   {
    "duration": 17,
    "start_time": "2022-05-11T17:41:56.388Z"
   },
   {
    "duration": 2,
    "start_time": "2022-05-11T17:46:48.981Z"
   },
   {
    "duration": 19,
    "start_time": "2022-05-11T17:47:07.923Z"
   },
   {
    "duration": 8,
    "start_time": "2022-05-11T17:47:29.972Z"
   },
   {
    "duration": 12,
    "start_time": "2022-05-11T17:47:41.405Z"
   },
   {
    "duration": 160,
    "start_time": "2022-05-11T17:47:57.388Z"
   },
   {
    "duration": 17,
    "start_time": "2022-05-11T17:48:04.628Z"
   },
   {
    "duration": 3,
    "start_time": "2022-05-11T17:50:58.212Z"
   },
   {
    "duration": 16,
    "start_time": "2022-05-11T17:51:04.195Z"
   },
   {
    "duration": 56,
    "start_time": "2022-05-11T17:51:30.771Z"
   },
   {
    "duration": 1691,
    "start_time": "2022-05-11T17:54:09.376Z"
   },
   {
    "duration": 5,
    "start_time": "2022-05-11T17:54:11.070Z"
   },
   {
    "duration": 24,
    "start_time": "2022-05-11T17:54:11.077Z"
   },
   {
    "duration": 493,
    "start_time": "2022-05-11T17:54:11.103Z"
   },
   {
    "duration": 7,
    "start_time": "2022-05-11T17:54:11.598Z"
   },
   {
    "duration": 17,
    "start_time": "2022-05-11T17:54:11.607Z"
   },
   {
    "duration": 8,
    "start_time": "2022-05-11T17:54:11.626Z"
   },
   {
    "duration": 6,
    "start_time": "2022-05-11T17:54:11.637Z"
   },
   {
    "duration": 6,
    "start_time": "2022-05-11T17:54:11.645Z"
   },
   {
    "duration": 73,
    "start_time": "2022-05-11T17:54:11.654Z"
   },
   {
    "duration": 6,
    "start_time": "2022-05-11T17:54:11.734Z"
   },
   {
    "duration": 7,
    "start_time": "2022-05-11T17:54:11.742Z"
   },
   {
    "duration": 94,
    "start_time": "2022-05-11T17:54:11.751Z"
   },
   {
    "duration": 99,
    "start_time": "2022-05-11T17:54:11.930Z"
   },
   {
    "duration": 8,
    "start_time": "2022-05-11T17:54:12.035Z"
   },
   {
    "duration": 94,
    "start_time": "2022-05-11T17:54:12.045Z"
   },
   {
    "duration": 93,
    "start_time": "2022-05-11T17:54:12.142Z"
   },
   {
    "duration": 11,
    "start_time": "2022-05-11T17:54:12.237Z"
   },
   {
    "duration": 2262,
    "start_time": "2022-05-12T16:53:15.939Z"
   },
   {
    "duration": 8,
    "start_time": "2022-05-12T16:53:18.204Z"
   },
   {
    "duration": 30,
    "start_time": "2022-05-12T16:53:18.214Z"
   },
   {
    "duration": 896,
    "start_time": "2022-05-12T16:53:18.248Z"
   },
   {
    "duration": 7,
    "start_time": "2022-05-12T16:53:19.147Z"
   },
   {
    "duration": 8,
    "start_time": "2022-05-12T16:53:19.156Z"
   },
   {
    "duration": 7,
    "start_time": "2022-05-12T16:53:19.166Z"
   },
   {
    "duration": 57,
    "start_time": "2022-05-12T16:53:19.175Z"
   },
   {
    "duration": 7,
    "start_time": "2022-05-12T16:53:19.243Z"
   },
   {
    "duration": 80,
    "start_time": "2022-05-12T16:53:19.256Z"
   },
   {
    "duration": 13,
    "start_time": "2022-05-12T16:53:19.339Z"
   },
   {
    "duration": 96,
    "start_time": "2022-05-12T16:53:19.355Z"
   },
   {
    "duration": 87,
    "start_time": "2022-05-12T16:53:19.453Z"
   },
   {
    "duration": 101,
    "start_time": "2022-05-12T16:53:19.544Z"
   },
   {
    "duration": 13,
    "start_time": "2022-05-12T16:53:19.647Z"
   },
   {
    "duration": 93,
    "start_time": "2022-05-12T16:53:19.664Z"
   },
   {
    "duration": 23,
    "start_time": "2022-05-12T16:53:19.830Z"
   },
   {
    "duration": 4,
    "start_time": "2022-05-12T16:54:15.906Z"
   },
   {
    "duration": 11,
    "start_time": "2022-05-12T16:54:15.912Z"
   },
   {
    "duration": 30,
    "start_time": "2022-05-12T16:54:15.929Z"
   },
   {
    "duration": 657,
    "start_time": "2022-05-12T16:54:15.963Z"
   },
   {
    "duration": 18,
    "start_time": "2022-05-12T16:54:16.624Z"
   },
   {
    "duration": 10,
    "start_time": "2022-05-12T16:54:16.644Z"
   },
   {
    "duration": 8,
    "start_time": "2022-05-12T16:54:16.656Z"
   },
   {
    "duration": 335,
    "start_time": "2022-05-12T16:54:16.666Z"
   },
   {
    "duration": 0,
    "start_time": "2022-05-12T16:54:17.003Z"
   },
   {
    "duration": 0,
    "start_time": "2022-05-12T16:54:17.005Z"
   },
   {
    "duration": 0,
    "start_time": "2022-05-12T16:54:17.006Z"
   },
   {
    "duration": 0,
    "start_time": "2022-05-12T16:54:17.008Z"
   },
   {
    "duration": 0,
    "start_time": "2022-05-12T16:54:17.009Z"
   },
   {
    "duration": 0,
    "start_time": "2022-05-12T16:54:17.011Z"
   },
   {
    "duration": 0,
    "start_time": "2022-05-12T16:54:17.012Z"
   },
   {
    "duration": 0,
    "start_time": "2022-05-12T16:54:17.013Z"
   },
   {
    "duration": 0,
    "start_time": "2022-05-12T16:54:17.015Z"
   },
   {
    "duration": 4,
    "start_time": "2022-05-12T16:54:34.418Z"
   },
   {
    "duration": 27,
    "start_time": "2022-05-12T16:54:34.426Z"
   },
   {
    "duration": 22,
    "start_time": "2022-05-12T16:54:34.456Z"
   },
   {
    "duration": 878,
    "start_time": "2022-05-12T16:54:34.482Z"
   },
   {
    "duration": 9,
    "start_time": "2022-05-12T16:54:35.363Z"
   },
   {
    "duration": 16,
    "start_time": "2022-05-12T16:54:35.374Z"
   },
   {
    "duration": 9,
    "start_time": "2022-05-12T16:54:35.392Z"
   },
   {
    "duration": 8,
    "start_time": "2022-05-12T16:54:35.432Z"
   },
   {
    "duration": 12,
    "start_time": "2022-05-12T16:54:35.447Z"
   },
   {
    "duration": 24,
    "start_time": "2022-05-12T16:54:35.525Z"
   },
   {
    "duration": 86,
    "start_time": "2022-05-12T16:54:35.552Z"
   },
   {
    "duration": 14,
    "start_time": "2022-05-12T16:54:35.645Z"
   },
   {
    "duration": 23,
    "start_time": "2022-05-12T16:54:35.731Z"
   },
   {
    "duration": 15,
    "start_time": "2022-05-12T16:54:35.925Z"
   },
   {
    "duration": 157,
    "start_time": "2022-05-12T16:54:35.943Z"
   },
   {
    "duration": 0,
    "start_time": "2022-05-12T16:54:36.102Z"
   },
   {
    "duration": 0,
    "start_time": "2022-05-12T16:54:36.104Z"
   },
   {
    "duration": 7,
    "start_time": "2022-05-12T16:55:08.204Z"
   },
   {
    "duration": 8,
    "start_time": "2022-05-12T16:55:10.317Z"
   },
   {
    "duration": 19,
    "start_time": "2022-05-12T16:55:18.492Z"
   },
   {
    "duration": 10,
    "start_time": "2022-05-12T16:55:26.988Z"
   },
   {
    "duration": 1029,
    "start_time": "2022-05-12T16:56:54.660Z"
   },
   {
    "duration": 6,
    "start_time": "2022-05-12T16:57:38.936Z"
   },
   {
    "duration": 6,
    "start_time": "2022-05-12T16:57:49.165Z"
   },
   {
    "duration": 18,
    "start_time": "2022-05-12T16:58:11.757Z"
   },
   {
    "duration": 10,
    "start_time": "2022-05-12T17:04:02.182Z"
   },
   {
    "duration": 68,
    "start_time": "2022-05-12T17:05:00.557Z"
   },
   {
    "duration": 7,
    "start_time": "2022-05-12T17:13:23.267Z"
   },
   {
    "duration": 37,
    "start_time": "2022-05-12T17:39:35.554Z"
   },
   {
    "duration": 8,
    "start_time": "2022-05-12T17:51:18.784Z"
   },
   {
    "duration": 13,
    "start_time": "2022-05-12T17:52:28.001Z"
   },
   {
    "duration": 6,
    "start_time": "2022-05-12T17:54:21.664Z"
   },
   {
    "duration": 8,
    "start_time": "2022-05-12T17:55:27.088Z"
   },
   {
    "duration": 13,
    "start_time": "2022-05-12T18:26:23.573Z"
   },
   {
    "duration": 11,
    "start_time": "2022-05-12T18:26:25.085Z"
   },
   {
    "duration": 6,
    "start_time": "2022-05-12T18:26:34.253Z"
   },
   {
    "duration": 7,
    "start_time": "2022-05-12T18:26:41.573Z"
   },
   {
    "duration": 52,
    "start_time": "2022-05-13T12:34:07.936Z"
   },
   {
    "duration": 1542,
    "start_time": "2022-05-13T12:34:27.230Z"
   },
   {
    "duration": 5,
    "start_time": "2022-05-13T12:34:28.774Z"
   },
   {
    "duration": 16,
    "start_time": "2022-05-13T12:34:28.781Z"
   },
   {
    "duration": 521,
    "start_time": "2022-05-13T12:34:28.799Z"
   },
   {
    "duration": 6,
    "start_time": "2022-05-13T12:34:29.323Z"
   },
   {
    "duration": 6,
    "start_time": "2022-05-13T12:34:29.330Z"
   },
   {
    "duration": 6,
    "start_time": "2022-05-13T12:34:29.338Z"
   },
   {
    "duration": 7,
    "start_time": "2022-05-13T12:34:29.345Z"
   },
   {
    "duration": 54,
    "start_time": "2022-05-13T12:34:29.354Z"
   },
   {
    "duration": 6,
    "start_time": "2022-05-13T12:34:29.410Z"
   },
   {
    "duration": 6,
    "start_time": "2022-05-13T12:34:29.418Z"
   },
   {
    "duration": 82,
    "start_time": "2022-05-13T12:34:29.425Z"
   },
   {
    "duration": 5,
    "start_time": "2022-05-13T12:34:29.509Z"
   },
   {
    "duration": 12,
    "start_time": "2022-05-13T12:34:29.516Z"
   },
   {
    "duration": 84,
    "start_time": "2022-05-13T12:34:29.530Z"
   },
   {
    "duration": 7,
    "start_time": "2022-05-13T12:34:29.617Z"
   },
   {
    "duration": 87,
    "start_time": "2022-05-13T12:34:29.625Z"
   },
   {
    "duration": 7,
    "start_time": "2022-05-13T12:35:34.451Z"
   },
   {
    "duration": 10,
    "start_time": "2022-05-13T12:35:43.931Z"
   },
   {
    "duration": 7,
    "start_time": "2022-05-13T12:35:51.763Z"
   },
   {
    "duration": 12,
    "start_time": "2022-05-13T12:38:04.739Z"
   },
   {
    "duration": 128,
    "start_time": "2022-05-13T12:46:00.027Z"
   },
   {
    "duration": 9,
    "start_time": "2022-05-13T12:46:56.153Z"
   },
   {
    "duration": 1662,
    "start_time": "2022-05-13T12:47:04.938Z"
   },
   {
    "duration": 9,
    "start_time": "2022-05-13T12:47:19.370Z"
   },
   {
    "duration": 4,
    "start_time": "2022-05-13T12:47:56.610Z"
   },
   {
    "duration": 13,
    "start_time": "2022-05-13T12:48:27.794Z"
   },
   {
    "duration": 3,
    "start_time": "2022-05-13T12:50:12.247Z"
   },
   {
    "duration": 7,
    "start_time": "2022-05-13T12:50:12.252Z"
   },
   {
    "duration": 1468,
    "start_time": "2022-05-13T12:50:12.261Z"
   },
   {
    "duration": 480,
    "start_time": "2022-05-13T12:50:13.731Z"
   },
   {
    "duration": 5,
    "start_time": "2022-05-13T12:50:22.305Z"
   },
   {
    "duration": 13,
    "start_time": "2022-05-13T12:50:33.673Z"
   },
   {
    "duration": 4,
    "start_time": "2022-05-13T12:50:50.473Z"
   },
   {
    "duration": 5,
    "start_time": "2022-05-13T12:50:51.121Z"
   },
   {
    "duration": 6,
    "start_time": "2022-05-13T12:50:51.842Z"
   },
   {
    "duration": 5,
    "start_time": "2022-05-13T12:50:53.129Z"
   },
   {
    "duration": 6,
    "start_time": "2022-05-13T12:50:56.010Z"
   },
   {
    "duration": 4,
    "start_time": "2022-05-13T12:50:59.314Z"
   },
   {
    "duration": 7,
    "start_time": "2022-05-13T12:51:00.209Z"
   },
   {
    "duration": 4,
    "start_time": "2022-05-13T12:51:04.994Z"
   },
   {
    "duration": 11,
    "start_time": "2022-05-13T12:51:06.201Z"
   },
   {
    "duration": 8,
    "start_time": "2022-05-13T12:51:07.937Z"
   },
   {
    "duration": 5,
    "start_time": "2022-05-13T12:51:19.185Z"
   },
   {
    "duration": 6,
    "start_time": "2022-05-13T12:51:21.737Z"
   },
   {
    "duration": 15,
    "start_time": "2022-05-13T12:54:03.009Z"
   },
   {
    "duration": 10,
    "start_time": "2022-05-13T12:54:26.873Z"
   },
   {
    "duration": 8,
    "start_time": "2022-05-13T12:54:38.490Z"
   },
   {
    "duration": 4,
    "start_time": "2022-05-13T12:54:42.129Z"
   },
   {
    "duration": 13,
    "start_time": "2022-05-13T12:54:55.905Z"
   },
   {
    "duration": 1441,
    "start_time": "2022-05-13T12:55:36.618Z"
   },
   {
    "duration": 5,
    "start_time": "2022-05-13T12:55:38.061Z"
   },
   {
    "duration": 24,
    "start_time": "2022-05-13T12:55:38.067Z"
   },
   {
    "duration": 439,
    "start_time": "2022-05-13T12:55:38.093Z"
   },
   {
    "duration": 6,
    "start_time": "2022-05-13T12:55:38.534Z"
   },
   {
    "duration": 7,
    "start_time": "2022-05-13T12:55:38.541Z"
   },
   {
    "duration": 7,
    "start_time": "2022-05-13T12:55:38.549Z"
   },
   {
    "duration": 5,
    "start_time": "2022-05-13T12:55:38.558Z"
   },
   {
    "duration": 47,
    "start_time": "2022-05-13T12:55:38.565Z"
   },
   {
    "duration": 10,
    "start_time": "2022-05-13T12:55:38.614Z"
   },
   {
    "duration": 82,
    "start_time": "2022-05-13T12:55:38.626Z"
   },
   {
    "duration": 8,
    "start_time": "2022-05-13T12:55:38.710Z"
   },
   {
    "duration": 6,
    "start_time": "2022-05-13T12:55:38.720Z"
   },
   {
    "duration": 83,
    "start_time": "2022-05-13T12:55:38.729Z"
   },
   {
    "duration": 8,
    "start_time": "2022-05-13T12:55:38.814Z"
   },
   {
    "duration": 84,
    "start_time": "2022-05-13T12:55:38.824Z"
   },
   {
    "duration": 5,
    "start_time": "2022-05-13T12:55:38.910Z"
   },
   {
    "duration": 91,
    "start_time": "2022-05-13T12:55:38.918Z"
   },
   {
    "duration": 102,
    "start_time": "2022-05-13T12:55:39.012Z"
   },
   {
    "duration": 12,
    "start_time": "2022-05-13T12:55:59.625Z"
   },
   {
    "duration": 12,
    "start_time": "2022-05-13T12:56:10.209Z"
   },
   {
    "duration": 15,
    "start_time": "2022-05-13T12:56:18.841Z"
   },
   {
    "duration": 6,
    "start_time": "2022-05-13T13:00:46.577Z"
   },
   {
    "duration": 9,
    "start_time": "2022-05-13T13:03:09.912Z"
   },
   {
    "duration": 8,
    "start_time": "2022-05-13T13:05:48.177Z"
   },
   {
    "duration": 8,
    "start_time": "2022-05-13T13:06:55.112Z"
   },
   {
    "duration": 1437,
    "start_time": "2022-05-13T13:07:14.661Z"
   },
   {
    "duration": 5,
    "start_time": "2022-05-13T13:07:16.100Z"
   },
   {
    "duration": 15,
    "start_time": "2022-05-13T13:07:16.107Z"
   },
   {
    "duration": 489,
    "start_time": "2022-05-13T13:07:16.123Z"
   },
   {
    "duration": 5,
    "start_time": "2022-05-13T13:07:16.615Z"
   },
   {
    "duration": 20,
    "start_time": "2022-05-13T13:07:16.621Z"
   },
   {
    "duration": 19,
    "start_time": "2022-05-13T13:07:16.642Z"
   },
   {
    "duration": 15,
    "start_time": "2022-05-13T13:07:16.663Z"
   },
   {
    "duration": 30,
    "start_time": "2022-05-13T13:07:16.679Z"
   },
   {
    "duration": 19,
    "start_time": "2022-05-13T13:07:16.711Z"
   },
   {
    "duration": 83,
    "start_time": "2022-05-13T13:07:16.731Z"
   },
   {
    "duration": 17,
    "start_time": "2022-05-13T13:07:16.816Z"
   },
   {
    "duration": 76,
    "start_time": "2022-05-13T13:07:16.835Z"
   },
   {
    "duration": 16,
    "start_time": "2022-05-13T13:07:16.913Z"
   },
   {
    "duration": 78,
    "start_time": "2022-05-13T13:07:16.932Z"
   },
   {
    "duration": 100,
    "start_time": "2022-05-13T13:07:17.013Z"
   },
   {
    "duration": 106,
    "start_time": "2022-05-13T13:07:17.115Z"
   },
   {
    "duration": 6,
    "start_time": "2022-05-13T13:07:17.308Z"
   },
   {
    "duration": 18,
    "start_time": "2022-05-13T13:07:17.315Z"
   },
   {
    "duration": 14,
    "start_time": "2022-05-13T13:07:17.335Z"
   },
   {
    "duration": 9,
    "start_time": "2022-05-13T13:14:09.482Z"
   },
   {
    "duration": 8,
    "start_time": "2022-05-13T13:14:14.930Z"
   },
   {
    "duration": 8,
    "start_time": "2022-05-13T13:14:42.642Z"
   },
   {
    "duration": 6,
    "start_time": "2022-05-13T13:14:57.482Z"
   },
   {
    "duration": 10,
    "start_time": "2022-05-13T13:17:07.873Z"
   },
   {
    "duration": 6,
    "start_time": "2022-05-13T13:19:56.882Z"
   },
   {
    "duration": 1414,
    "start_time": "2022-05-13T13:26:18.265Z"
   },
   {
    "duration": 5,
    "start_time": "2022-05-13T13:26:19.682Z"
   },
   {
    "duration": 15,
    "start_time": "2022-05-13T13:26:19.689Z"
   },
   {
    "duration": 506,
    "start_time": "2022-05-13T13:26:19.706Z"
   },
   {
    "duration": 5,
    "start_time": "2022-05-13T13:26:20.214Z"
   },
   {
    "duration": 5,
    "start_time": "2022-05-13T13:26:20.220Z"
   },
   {
    "duration": 4,
    "start_time": "2022-05-13T13:26:20.227Z"
   },
   {
    "duration": 9,
    "start_time": "2022-05-13T13:26:20.233Z"
   },
   {
    "duration": 65,
    "start_time": "2022-05-13T13:26:20.244Z"
   },
   {
    "duration": 7,
    "start_time": "2022-05-13T13:26:20.311Z"
   },
   {
    "duration": 8,
    "start_time": "2022-05-13T13:26:20.320Z"
   },
   {
    "duration": 79,
    "start_time": "2022-05-13T13:26:20.330Z"
   },
   {
    "duration": 12,
    "start_time": "2022-05-13T13:26:20.410Z"
   },
   {
    "duration": 83,
    "start_time": "2022-05-13T13:26:20.425Z"
   },
   {
    "duration": 7,
    "start_time": "2022-05-13T13:26:20.511Z"
   },
   {
    "duration": 93,
    "start_time": "2022-05-13T13:26:20.520Z"
   },
   {
    "duration": 100,
    "start_time": "2022-05-13T13:26:20.615Z"
   },
   {
    "duration": 94,
    "start_time": "2022-05-13T13:26:20.717Z"
   },
   {
    "duration": 11,
    "start_time": "2022-05-13T13:26:20.812Z"
   },
   {
    "duration": 7,
    "start_time": "2022-05-13T13:26:20.824Z"
   },
   {
    "duration": 4,
    "start_time": "2022-05-13T13:29:50.079Z"
   },
   {
    "duration": 109,
    "start_time": "2022-05-13T13:30:19.654Z"
   },
   {
    "duration": 9,
    "start_time": "2022-05-13T13:30:39.862Z"
   },
   {
    "duration": 11,
    "start_time": "2022-05-13T13:31:05.054Z"
   },
   {
    "duration": 4,
    "start_time": "2022-05-13T13:31:21.822Z"
   },
   {
    "duration": 5,
    "start_time": "2022-05-13T13:32:11.846Z"
   },
   {
    "duration": 5,
    "start_time": "2022-05-13T13:32:14.407Z"
   },
   {
    "duration": 14,
    "start_time": "2022-05-13T13:32:28.934Z"
   },
   {
    "duration": 7,
    "start_time": "2022-05-13T13:32:36.438Z"
   },
   {
    "duration": 8,
    "start_time": "2022-05-13T13:32:41.247Z"
   },
   {
    "duration": 6,
    "start_time": "2022-05-13T13:32:43.566Z"
   },
   {
    "duration": 4,
    "start_time": "2022-05-13T13:39:56.363Z"
   },
   {
    "duration": 4,
    "start_time": "2022-05-13T13:47:23.931Z"
   },
   {
    "duration": 4,
    "start_time": "2022-05-13T13:52:55.881Z"
   },
   {
    "duration": 6,
    "start_time": "2022-05-13T13:52:59.377Z"
   },
   {
    "duration": 13,
    "start_time": "2022-05-13T13:53:59.809Z"
   },
   {
    "duration": 5,
    "start_time": "2022-05-13T13:55:05.200Z"
   },
   {
    "duration": 2162,
    "start_time": "2022-05-13T13:55:13.194Z"
   },
   {
    "duration": 5,
    "start_time": "2022-05-13T13:55:15.358Z"
   },
   {
    "duration": 16,
    "start_time": "2022-05-13T13:55:15.364Z"
   },
   {
    "duration": 459,
    "start_time": "2022-05-13T13:55:15.383Z"
   },
   {
    "duration": 6,
    "start_time": "2022-05-13T13:55:15.844Z"
   },
   {
    "duration": 6,
    "start_time": "2022-05-13T13:55:15.852Z"
   },
   {
    "duration": 6,
    "start_time": "2022-05-13T13:55:15.860Z"
   },
   {
    "duration": 243,
    "start_time": "2022-05-13T13:55:15.868Z"
   },
   {
    "duration": 0,
    "start_time": "2022-05-13T13:55:16.113Z"
   },
   {
    "duration": 0,
    "start_time": "2022-05-13T13:55:16.114Z"
   },
   {
    "duration": 0,
    "start_time": "2022-05-13T13:55:16.115Z"
   },
   {
    "duration": 0,
    "start_time": "2022-05-13T13:55:16.116Z"
   },
   {
    "duration": 0,
    "start_time": "2022-05-13T13:55:16.117Z"
   },
   {
    "duration": 0,
    "start_time": "2022-05-13T13:55:16.119Z"
   },
   {
    "duration": 0,
    "start_time": "2022-05-13T13:55:16.120Z"
   },
   {
    "duration": 0,
    "start_time": "2022-05-13T13:55:16.121Z"
   },
   {
    "duration": 0,
    "start_time": "2022-05-13T13:55:16.122Z"
   },
   {
    "duration": 0,
    "start_time": "2022-05-13T13:55:16.123Z"
   },
   {
    "duration": 0,
    "start_time": "2022-05-13T13:55:16.124Z"
   },
   {
    "duration": 0,
    "start_time": "2022-05-13T13:55:16.125Z"
   },
   {
    "duration": 0,
    "start_time": "2022-05-13T13:55:16.126Z"
   },
   {
    "duration": 0,
    "start_time": "2022-05-13T13:55:16.127Z"
   },
   {
    "duration": 4,
    "start_time": "2022-05-13T13:55:27.012Z"
   },
   {
    "duration": 4,
    "start_time": "2022-05-13T13:55:28.621Z"
   },
   {
    "duration": 4,
    "start_time": "2022-05-13T13:55:30.285Z"
   },
   {
    "duration": 6,
    "start_time": "2022-05-13T13:55:31.276Z"
   },
   {
    "duration": 7,
    "start_time": "2022-05-13T13:55:39.340Z"
   },
   {
    "duration": 4,
    "start_time": "2022-05-13T13:55:40.476Z"
   },
   {
    "duration": 9,
    "start_time": "2022-05-13T13:55:41.956Z"
   },
   {
    "duration": 10,
    "start_time": "2022-05-13T13:55:43.636Z"
   },
   {
    "duration": 4,
    "start_time": "2022-05-13T13:55:45.693Z"
   },
   {
    "duration": 5,
    "start_time": "2022-05-13T13:55:48.156Z"
   },
   {
    "duration": 12,
    "start_time": "2022-05-13T13:55:51.012Z"
   },
   {
    "duration": 5,
    "start_time": "2022-05-13T13:55:55.205Z"
   },
   {
    "duration": 9,
    "start_time": "2022-05-13T13:55:56.460Z"
   },
   {
    "duration": 8,
    "start_time": "2022-05-13T13:56:01.356Z"
   },
   {
    "duration": 4,
    "start_time": "2022-05-13T13:56:03.284Z"
   },
   {
    "duration": 11,
    "start_time": "2022-05-13T14:11:04.643Z"
   },
   {
    "duration": 8,
    "start_time": "2022-05-13T14:11:16.419Z"
   },
   {
    "duration": 1434,
    "start_time": "2022-05-13T14:20:59.238Z"
   },
   {
    "duration": 6,
    "start_time": "2022-05-13T14:21:00.675Z"
   },
   {
    "duration": 27,
    "start_time": "2022-05-13T14:21:00.682Z"
   },
   {
    "duration": 509,
    "start_time": "2022-05-13T14:21:00.712Z"
   },
   {
    "duration": 6,
    "start_time": "2022-05-13T14:21:01.223Z"
   },
   {
    "duration": 22,
    "start_time": "2022-05-13T14:21:01.230Z"
   },
   {
    "duration": 18,
    "start_time": "2022-05-13T14:21:01.253Z"
   },
   {
    "duration": 26,
    "start_time": "2022-05-13T14:21:01.273Z"
   },
   {
    "duration": 27,
    "start_time": "2022-05-13T14:21:01.301Z"
   },
   {
    "duration": 83,
    "start_time": "2022-05-13T14:21:01.332Z"
   },
   {
    "duration": 13,
    "start_time": "2022-05-13T14:21:01.417Z"
   },
   {
    "duration": 76,
    "start_time": "2022-05-13T14:21:01.432Z"
   },
   {
    "duration": 10,
    "start_time": "2022-05-13T14:21:01.510Z"
   },
   {
    "duration": 88,
    "start_time": "2022-05-13T14:21:01.523Z"
   },
   {
    "duration": 7,
    "start_time": "2022-05-13T14:21:01.614Z"
   },
   {
    "duration": 89,
    "start_time": "2022-05-13T14:21:01.623Z"
   },
   {
    "duration": 95,
    "start_time": "2022-05-13T14:21:01.714Z"
   },
   {
    "duration": 8,
    "start_time": "2022-05-13T14:21:01.811Z"
   },
   {
    "duration": 91,
    "start_time": "2022-05-13T14:21:01.821Z"
   },
   {
    "duration": 7,
    "start_time": "2022-05-13T14:21:01.914Z"
   },
   {
    "duration": 92,
    "start_time": "2022-05-13T14:21:01.924Z"
   },
   {
    "duration": 1383,
    "start_time": "2022-05-18T06:46:36.951Z"
   },
   {
    "duration": 5,
    "start_time": "2022-05-18T06:46:38.336Z"
   },
   {
    "duration": 64,
    "start_time": "2022-05-18T06:46:38.345Z"
   },
   {
    "duration": 462,
    "start_time": "2022-05-18T06:46:38.411Z"
   },
   {
    "duration": 5,
    "start_time": "2022-05-18T06:46:38.875Z"
   },
   {
    "duration": 6,
    "start_time": "2022-05-18T06:46:38.881Z"
   },
   {
    "duration": 5,
    "start_time": "2022-05-18T06:46:38.889Z"
   },
   {
    "duration": 8,
    "start_time": "2022-05-18T06:46:38.896Z"
   },
   {
    "duration": 5,
    "start_time": "2022-05-18T06:46:38.925Z"
   },
   {
    "duration": 17,
    "start_time": "2022-05-18T06:46:38.934Z"
   },
   {
    "duration": 24,
    "start_time": "2022-05-18T06:46:39.023Z"
   },
   {
    "duration": 6,
    "start_time": "2022-05-18T06:46:39.049Z"
   },
   {
    "duration": 79,
    "start_time": "2022-05-18T06:46:39.056Z"
   },
   {
    "duration": 8,
    "start_time": "2022-05-18T06:46:39.136Z"
   },
   {
    "duration": 83,
    "start_time": "2022-05-18T06:46:39.146Z"
   },
   {
    "duration": 97,
    "start_time": "2022-05-18T06:46:39.231Z"
   },
   {
    "duration": 99,
    "start_time": "2022-05-18T06:46:39.330Z"
   },
   {
    "duration": 7,
    "start_time": "2022-05-18T06:46:39.431Z"
   },
   {
    "duration": 87,
    "start_time": "2022-05-18T06:46:39.441Z"
   },
   {
    "duration": 5,
    "start_time": "2022-05-18T06:46:39.530Z"
   },
   {
    "duration": 88,
    "start_time": "2022-05-18T06:46:39.537Z"
   },
   {
    "duration": 4,
    "start_time": "2022-05-18T06:51:38.585Z"
   },
   {
    "duration": 5,
    "start_time": "2022-05-18T06:54:47.836Z"
   },
   {
    "duration": 4,
    "start_time": "2022-05-18T06:55:21.876Z"
   },
   {
    "duration": 3,
    "start_time": "2022-05-18T06:55:50.060Z"
   },
   {
    "duration": 5,
    "start_time": "2022-05-18T06:55:55.388Z"
   },
   {
    "duration": 4,
    "start_time": "2022-05-18T06:56:29.348Z"
   },
   {
    "duration": 5,
    "start_time": "2022-05-18T06:57:31.732Z"
   },
   {
    "duration": 5,
    "start_time": "2022-05-18T06:58:45.284Z"
   },
   {
    "duration": 4,
    "start_time": "2022-05-18T07:02:13.052Z"
   },
   {
    "duration": 3,
    "start_time": "2022-05-18T07:03:07.011Z"
   },
   {
    "duration": 4,
    "start_time": "2022-05-18T07:03:14.643Z"
   }
  ],
  "kernelspec": {
   "display_name": "Python 3 (ipykernel)",
   "language": "python",
   "name": "python3"
  },
  "language_info": {
   "codemirror_mode": {
    "name": "ipython",
    "version": 3
   },
   "file_extension": ".py",
   "mimetype": "text/x-python",
   "name": "python",
   "nbconvert_exporter": "python",
   "pygments_lexer": "ipython3",
   "version": "3.9.7"
  },
  "toc": {
   "base_numbering": 1,
   "nav_menu": {},
   "number_sections": true,
   "sideBar": true,
   "skip_h1_title": true,
   "title_cell": "Содержание",
   "title_sidebar": "Contents",
   "toc_cell": true,
   "toc_position": {
    "height": "calc(100% - 180px)",
    "left": "10px",
    "top": "150px",
    "width": "317.917px"
   },
   "toc_section_display": true,
   "toc_window_display": true
  }
 },
 "nbformat": 4,
 "nbformat_minor": 2
}
