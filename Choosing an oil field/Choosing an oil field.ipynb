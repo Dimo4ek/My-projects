{
 "cells": [
  {
   "cell_type": "markdown",
   "metadata": {},
   "source": [
    "# Выбор месторождения нефти"
   ]
  },
  {
   "cell_type": "markdown",
   "metadata": {},
   "source": [
    "Заказчик - нефтедобывающая компания. Нужно решить для них, где бурить новую скважину.\n",
    "\n",
    "Нам предоставлены пробы нефти в трёх регионах: в каждом 100 000 месторождений, где измерили качество нефти и объём её запасов. Требуется построить модель машинного обучения, которая поможет определить регион, где добыча принесёт наибольшую прибыль. Требуется проанализировать возможную прибыль и риски техникой *Bootstrap.*\n",
    "\n",
    "Шаги для выбора локации:\n",
    "\n",
    "- В избранном регионе ищут месторождения, для каждого определяют значения признаков;\n",
    "- Строят модель и оценивают объём запасов;\n",
    "- Выбирают месторождения с самым высокими оценками значений. Количество месторождений зависит от бюджета компании и стоимости разработки одной скважины;\n",
    "- Прибыль равна суммарной прибыли отобранных месторождений.\n",
    "\n",
    "**Условия задачи:**\n",
    "\n",
    "* Для обучения модели подходит только линейная регрессия (остальные — недостаточно предсказуемые).\n",
    "* При разведке региона исследуют 500 точек, из которых с помощью машинного обучения выбирают 200 лучших для разработки.\n",
    "* Бюджет на разработку скважин в регионе — 10 млрд рублей.\n",
    "* При нынешних ценах один баррель сырья приносит 450 рублей дохода. Доход с каждой единицы продукта составляет 450 тыс. рублей, поскольку объём указан в тысячах баррелей.\n",
    "* После оценки рисков нужно оставить лишь те регионы, в которых вероятность убытков меньше 2.5%. Среди них выбирают регион с наибольшей средней прибылью.\n",
    "\n",
    "Данные синтетические: детали контрактов и характеристики месторождений не разглашаются."
   ]
  },
  {
   "cell_type": "markdown",
   "metadata": {},
   "source": [
    "## Загрузка и подготовка данных"
   ]
  },
  {
   "cell_type": "markdown",
   "metadata": {},
   "source": [
    "Чтобы изучить данные таблицы, сделать необходимые рассчёты и провести исследование сразу импортируем библиотеки, который нам потребуются в данном проекте:"
   ]
  },
  {
   "cell_type": "code",
   "execution_count": 1,
   "metadata": {},
   "outputs": [],
   "source": [
    "from io import BytesIO\n",
    "from sklearn.linear_model import LinearRegression # импортируем алгоритм линейной регрессии библиотеки sklearn  \n",
    "from sklearn.metrics import mean_squared_error # импортируем функцию для рассчёта среднеквадратичной ошибки\n",
    "from sklearn.model_selection import train_test_split # импортируем функцию для разбиения датасета на разные типы выборок\n",
    "from scipy import stats as st # импортируем функцию stats из библиотеки scipy\n",
    "from scipy.stats import bootstrap  # импортируем функцию bootstrap из библиотеки scipy.stats\n",
    "\n",
    "import matplotlib.pyplot as plt  # импорт библиотеки matplotlib.pyplot\n",
    "import numpy as np # импорт библиотеки numpy\n",
    "import pandas as pd # импорт библиотеки pandas\n",
    "import requests"
   ]
  },
  {
   "cell_type": "markdown",
   "metadata": {},
   "source": [
    "Напишем функцию, чтобы прочитать и сохранить данные из Google Sheets"
   ]
  },
  {
   "cell_type": "code",
   "execution_count": 2,
   "metadata": {},
   "outputs": [],
   "source": [
    "def table(spreadsheet_id):\n",
    "    spreadsheet_id = spreadsheet_id\n",
    "    file_name = 'https://docs.google.com/spreadsheets/d/{}/export?format=csv'.format(spreadsheet_id)\n",
    "    r = requests.get(file_name)\n",
    "    table = pd.read_csv(BytesIO(r.content))\n",
    "    return table"
   ]
  },
  {
   "cell_type": "markdown",
   "metadata": {},
   "source": [
    "Прочитаем и сохраним файлы, которые предоставил заказчик"
   ]
  },
  {
   "cell_type": "code",
   "execution_count": 3,
   "metadata": {},
   "outputs": [
    {
     "data": {
      "text/html": [
       "<div>\n",
       "<style scoped>\n",
       "    .dataframe tbody tr th:only-of-type {\n",
       "        vertical-align: middle;\n",
       "    }\n",
       "\n",
       "    .dataframe tbody tr th {\n",
       "        vertical-align: top;\n",
       "    }\n",
       "\n",
       "    .dataframe thead th {\n",
       "        text-align: right;\n",
       "    }\n",
       "</style>\n",
       "<table border=\"1\" class=\"dataframe\">\n",
       "  <thead>\n",
       "    <tr style=\"text-align: right;\">\n",
       "      <th></th>\n",
       "      <th>id</th>\n",
       "      <th>f0</th>\n",
       "      <th>f1</th>\n",
       "      <th>f2</th>\n",
       "      <th>product</th>\n",
       "    </tr>\n",
       "  </thead>\n",
       "  <tbody>\n",
       "    <tr>\n",
       "      <th>0</th>\n",
       "      <td>txEyH</td>\n",
       "      <td>0.705745</td>\n",
       "      <td>-0.497823</td>\n",
       "      <td>1.221170</td>\n",
       "      <td>105.280062</td>\n",
       "    </tr>\n",
       "    <tr>\n",
       "      <th>1</th>\n",
       "      <td>2acmU</td>\n",
       "      <td>1.334711</td>\n",
       "      <td>-0.340164</td>\n",
       "      <td>4.365080</td>\n",
       "      <td>73.037750</td>\n",
       "    </tr>\n",
       "    <tr>\n",
       "      <th>2</th>\n",
       "      <td>409Wp</td>\n",
       "      <td>1.022732</td>\n",
       "      <td>0.151990</td>\n",
       "      <td>1.419926</td>\n",
       "      <td>85.265647</td>\n",
       "    </tr>\n",
       "    <tr>\n",
       "      <th>3</th>\n",
       "      <td>iJLyR</td>\n",
       "      <td>-0.032172</td>\n",
       "      <td>0.139033</td>\n",
       "      <td>2.978566</td>\n",
       "      <td>168.620776</td>\n",
       "    </tr>\n",
       "    <tr>\n",
       "      <th>4</th>\n",
       "      <td>Xdl7t</td>\n",
       "      <td>1.988431</td>\n",
       "      <td>0.155413</td>\n",
       "      <td>4.751769</td>\n",
       "      <td>154.036647</td>\n",
       "    </tr>\n",
       "    <tr>\n",
       "      <th>5</th>\n",
       "      <td>wX4Hy</td>\n",
       "      <td>0.969570</td>\n",
       "      <td>0.489775</td>\n",
       "      <td>-0.735383</td>\n",
       "      <td>64.741541</td>\n",
       "    </tr>\n",
       "    <tr>\n",
       "      <th>6</th>\n",
       "      <td>tL6pL</td>\n",
       "      <td>0.645075</td>\n",
       "      <td>0.530656</td>\n",
       "      <td>1.780266</td>\n",
       "      <td>49.055285</td>\n",
       "    </tr>\n",
       "    <tr>\n",
       "      <th>7</th>\n",
       "      <td>BYPU6</td>\n",
       "      <td>-0.400648</td>\n",
       "      <td>0.808337</td>\n",
       "      <td>-5.624670</td>\n",
       "      <td>72.943292</td>\n",
       "    </tr>\n",
       "    <tr>\n",
       "      <th>8</th>\n",
       "      <td>j9Oui</td>\n",
       "      <td>0.643105</td>\n",
       "      <td>-0.551583</td>\n",
       "      <td>2.372141</td>\n",
       "      <td>113.356160</td>\n",
       "    </tr>\n",
       "    <tr>\n",
       "      <th>9</th>\n",
       "      <td>OLuZU</td>\n",
       "      <td>2.173381</td>\n",
       "      <td>0.563698</td>\n",
       "      <td>9.441852</td>\n",
       "      <td>127.910945</td>\n",
       "    </tr>\n",
       "  </tbody>\n",
       "</table>\n",
       "</div>"
      ],
      "text/plain": [
       "      id        f0        f1        f2     product\n",
       "0  txEyH  0.705745 -0.497823  1.221170  105.280062\n",
       "1  2acmU  1.334711 -0.340164  4.365080   73.037750\n",
       "2  409Wp  1.022732  0.151990  1.419926   85.265647\n",
       "3  iJLyR -0.032172  0.139033  2.978566  168.620776\n",
       "4  Xdl7t  1.988431  0.155413  4.751769  154.036647\n",
       "5  wX4Hy  0.969570  0.489775 -0.735383   64.741541\n",
       "6  tL6pL  0.645075  0.530656  1.780266   49.055285\n",
       "7  BYPU6 -0.400648  0.808337 -5.624670   72.943292\n",
       "8  j9Oui  0.643105 -0.551583  2.372141  113.356160\n",
       "9  OLuZU  2.173381  0.563698  9.441852  127.910945"
      ]
     },
     "execution_count": 3,
     "metadata": {},
     "output_type": "execute_result"
    }
   ],
   "source": [
    "df_0 = table('1vz4T7PHK6M5zMtCWtVrYT5inSKoL0WqN') # чтение файла с данными и сохранение в df_0 \n",
    "df_0.head(10) # получение первых 10 строк таблицы"
   ]
  },
  {
   "cell_type": "code",
   "execution_count": 4,
   "metadata": {},
   "outputs": [
    {
     "data": {
      "text/html": [
       "<div>\n",
       "<style scoped>\n",
       "    .dataframe tbody tr th:only-of-type {\n",
       "        vertical-align: middle;\n",
       "    }\n",
       "\n",
       "    .dataframe tbody tr th {\n",
       "        vertical-align: top;\n",
       "    }\n",
       "\n",
       "    .dataframe thead th {\n",
       "        text-align: right;\n",
       "    }\n",
       "</style>\n",
       "<table border=\"1\" class=\"dataframe\">\n",
       "  <thead>\n",
       "    <tr style=\"text-align: right;\">\n",
       "      <th></th>\n",
       "      <th>id</th>\n",
       "      <th>f0</th>\n",
       "      <th>f1</th>\n",
       "      <th>f2</th>\n",
       "      <th>product</th>\n",
       "    </tr>\n",
       "  </thead>\n",
       "  <tbody>\n",
       "    <tr>\n",
       "      <th>0</th>\n",
       "      <td>kBEdx</td>\n",
       "      <td>-15.001348</td>\n",
       "      <td>-8.276000</td>\n",
       "      <td>-0.005876</td>\n",
       "      <td>3.179103</td>\n",
       "    </tr>\n",
       "    <tr>\n",
       "      <th>1</th>\n",
       "      <td>62mP7</td>\n",
       "      <td>14.272088</td>\n",
       "      <td>-3.475083</td>\n",
       "      <td>0.999183</td>\n",
       "      <td>26.953261</td>\n",
       "    </tr>\n",
       "    <tr>\n",
       "      <th>2</th>\n",
       "      <td>vyE1P</td>\n",
       "      <td>6.263187</td>\n",
       "      <td>-5.948386</td>\n",
       "      <td>5.001160</td>\n",
       "      <td>134.766305</td>\n",
       "    </tr>\n",
       "    <tr>\n",
       "      <th>3</th>\n",
       "      <td>KcrkZ</td>\n",
       "      <td>-13.081196</td>\n",
       "      <td>-11.506057</td>\n",
       "      <td>4.999415</td>\n",
       "      <td>137.945408</td>\n",
       "    </tr>\n",
       "    <tr>\n",
       "      <th>4</th>\n",
       "      <td>AHL4O</td>\n",
       "      <td>12.702195</td>\n",
       "      <td>-8.147433</td>\n",
       "      <td>5.004363</td>\n",
       "      <td>134.766305</td>\n",
       "    </tr>\n",
       "    <tr>\n",
       "      <th>5</th>\n",
       "      <td>HHckp</td>\n",
       "      <td>-3.327590</td>\n",
       "      <td>-2.205276</td>\n",
       "      <td>3.003647</td>\n",
       "      <td>84.038886</td>\n",
       "    </tr>\n",
       "    <tr>\n",
       "      <th>6</th>\n",
       "      <td>h5Ujo</td>\n",
       "      <td>-11.142655</td>\n",
       "      <td>-10.133399</td>\n",
       "      <td>4.002382</td>\n",
       "      <td>110.992147</td>\n",
       "    </tr>\n",
       "    <tr>\n",
       "      <th>7</th>\n",
       "      <td>muH9x</td>\n",
       "      <td>4.234715</td>\n",
       "      <td>-0.001354</td>\n",
       "      <td>2.004588</td>\n",
       "      <td>53.906522</td>\n",
       "    </tr>\n",
       "    <tr>\n",
       "      <th>8</th>\n",
       "      <td>YiRkx</td>\n",
       "      <td>13.355129</td>\n",
       "      <td>-0.332068</td>\n",
       "      <td>4.998647</td>\n",
       "      <td>134.766305</td>\n",
       "    </tr>\n",
       "    <tr>\n",
       "      <th>9</th>\n",
       "      <td>jG6Gi</td>\n",
       "      <td>1.069227</td>\n",
       "      <td>-11.025667</td>\n",
       "      <td>4.997844</td>\n",
       "      <td>137.945408</td>\n",
       "    </tr>\n",
       "  </tbody>\n",
       "</table>\n",
       "</div>"
      ],
      "text/plain": [
       "      id         f0         f1        f2     product\n",
       "0  kBEdx -15.001348  -8.276000 -0.005876    3.179103\n",
       "1  62mP7  14.272088  -3.475083  0.999183   26.953261\n",
       "2  vyE1P   6.263187  -5.948386  5.001160  134.766305\n",
       "3  KcrkZ -13.081196 -11.506057  4.999415  137.945408\n",
       "4  AHL4O  12.702195  -8.147433  5.004363  134.766305\n",
       "5  HHckp  -3.327590  -2.205276  3.003647   84.038886\n",
       "6  h5Ujo -11.142655 -10.133399  4.002382  110.992147\n",
       "7  muH9x   4.234715  -0.001354  2.004588   53.906522\n",
       "8  YiRkx  13.355129  -0.332068  4.998647  134.766305\n",
       "9  jG6Gi   1.069227 -11.025667  4.997844  137.945408"
      ]
     },
     "execution_count": 4,
     "metadata": {},
     "output_type": "execute_result"
    }
   ],
   "source": [
    "df_1 = table('1Eu11PuatEPl8xh5wHFWrpyN77bHvGQwF') # чтение файла с данными и сохранение в df_1\n",
    "df_1.head(10) # получение первых 10 строк таблицы "
   ]
  },
  {
   "cell_type": "code",
   "execution_count": 5,
   "metadata": {},
   "outputs": [
    {
     "data": {
      "text/html": [
       "<div>\n",
       "<style scoped>\n",
       "    .dataframe tbody tr th:only-of-type {\n",
       "        vertical-align: middle;\n",
       "    }\n",
       "\n",
       "    .dataframe tbody tr th {\n",
       "        vertical-align: top;\n",
       "    }\n",
       "\n",
       "    .dataframe thead th {\n",
       "        text-align: right;\n",
       "    }\n",
       "</style>\n",
       "<table border=\"1\" class=\"dataframe\">\n",
       "  <thead>\n",
       "    <tr style=\"text-align: right;\">\n",
       "      <th></th>\n",
       "      <th>id</th>\n",
       "      <th>f0</th>\n",
       "      <th>f1</th>\n",
       "      <th>f2</th>\n",
       "      <th>product</th>\n",
       "    </tr>\n",
       "  </thead>\n",
       "  <tbody>\n",
       "    <tr>\n",
       "      <th>0</th>\n",
       "      <td>fwXo0</td>\n",
       "      <td>-1.146987</td>\n",
       "      <td>0.963328</td>\n",
       "      <td>-0.828965</td>\n",
       "      <td>27.758673</td>\n",
       "    </tr>\n",
       "    <tr>\n",
       "      <th>1</th>\n",
       "      <td>WJtFt</td>\n",
       "      <td>0.262778</td>\n",
       "      <td>0.269839</td>\n",
       "      <td>-2.530187</td>\n",
       "      <td>56.069697</td>\n",
       "    </tr>\n",
       "    <tr>\n",
       "      <th>2</th>\n",
       "      <td>ovLUW</td>\n",
       "      <td>0.194587</td>\n",
       "      <td>0.289035</td>\n",
       "      <td>-5.586433</td>\n",
       "      <td>62.871910</td>\n",
       "    </tr>\n",
       "    <tr>\n",
       "      <th>3</th>\n",
       "      <td>q6cA6</td>\n",
       "      <td>2.236060</td>\n",
       "      <td>-0.553760</td>\n",
       "      <td>0.930038</td>\n",
       "      <td>114.572842</td>\n",
       "    </tr>\n",
       "    <tr>\n",
       "      <th>4</th>\n",
       "      <td>WPMUX</td>\n",
       "      <td>-0.515993</td>\n",
       "      <td>1.716266</td>\n",
       "      <td>5.899011</td>\n",
       "      <td>149.600746</td>\n",
       "    </tr>\n",
       "    <tr>\n",
       "      <th>5</th>\n",
       "      <td>LzZXx</td>\n",
       "      <td>-0.758092</td>\n",
       "      <td>0.710691</td>\n",
       "      <td>2.585887</td>\n",
       "      <td>90.222465</td>\n",
       "    </tr>\n",
       "    <tr>\n",
       "      <th>6</th>\n",
       "      <td>WBHRv</td>\n",
       "      <td>-0.574891</td>\n",
       "      <td>0.317727</td>\n",
       "      <td>1.773745</td>\n",
       "      <td>45.641478</td>\n",
       "    </tr>\n",
       "    <tr>\n",
       "      <th>7</th>\n",
       "      <td>XO8fn</td>\n",
       "      <td>-1.906649</td>\n",
       "      <td>-2.458350</td>\n",
       "      <td>-0.177097</td>\n",
       "      <td>72.480640</td>\n",
       "    </tr>\n",
       "    <tr>\n",
       "      <th>8</th>\n",
       "      <td>ybmQ5</td>\n",
       "      <td>1.776292</td>\n",
       "      <td>-0.279356</td>\n",
       "      <td>3.004156</td>\n",
       "      <td>106.616832</td>\n",
       "    </tr>\n",
       "    <tr>\n",
       "      <th>9</th>\n",
       "      <td>OilcN</td>\n",
       "      <td>-1.214452</td>\n",
       "      <td>-0.439314</td>\n",
       "      <td>5.922514</td>\n",
       "      <td>52.954532</td>\n",
       "    </tr>\n",
       "  </tbody>\n",
       "</table>\n",
       "</div>"
      ],
      "text/plain": [
       "      id        f0        f1        f2     product\n",
       "0  fwXo0 -1.146987  0.963328 -0.828965   27.758673\n",
       "1  WJtFt  0.262778  0.269839 -2.530187   56.069697\n",
       "2  ovLUW  0.194587  0.289035 -5.586433   62.871910\n",
       "3  q6cA6  2.236060 -0.553760  0.930038  114.572842\n",
       "4  WPMUX -0.515993  1.716266  5.899011  149.600746\n",
       "5  LzZXx -0.758092  0.710691  2.585887   90.222465\n",
       "6  WBHRv -0.574891  0.317727  1.773745   45.641478\n",
       "7  XO8fn -1.906649 -2.458350 -0.177097   72.480640\n",
       "8  ybmQ5  1.776292 -0.279356  3.004156  106.616832\n",
       "9  OilcN -1.214452 -0.439314  5.922514   52.954532"
      ]
     },
     "execution_count": 5,
     "metadata": {},
     "output_type": "execute_result"
    }
   ],
   "source": [
    "df_2 = table('1P7Mj7VWdS8BVaEd2JC8HnsTgrvleJm-R') # чтение файла с данными и сохранение в df_2\n",
    "df_2.head(10) # получение первых 10 строк таблицы "
   ]
  },
  {
   "cell_type": "markdown",
   "metadata": {},
   "source": [
    "Получим общую информацию о таблицах"
   ]
  },
  {
   "cell_type": "code",
   "execution_count": 6,
   "metadata": {},
   "outputs": [
    {
     "name": "stdout",
     "output_type": "stream",
     "text": [
      "<class 'pandas.core.frame.DataFrame'>\n",
      "RangeIndex: 100000 entries, 0 to 99999\n",
      "Data columns (total 5 columns):\n",
      " #   Column   Non-Null Count   Dtype  \n",
      "---  ------   --------------   -----  \n",
      " 0   id       100000 non-null  object \n",
      " 1   f0       100000 non-null  float64\n",
      " 2   f1       100000 non-null  float64\n",
      " 3   f2       100000 non-null  float64\n",
      " 4   product  100000 non-null  float64\n",
      "dtypes: float64(4), object(1)\n",
      "memory usage: 3.8+ MB\n"
     ]
    }
   ],
   "source": [
    "df_0.info()"
   ]
  },
  {
   "cell_type": "code",
   "execution_count": 7,
   "metadata": {},
   "outputs": [
    {
     "name": "stdout",
     "output_type": "stream",
     "text": [
      "<class 'pandas.core.frame.DataFrame'>\n",
      "RangeIndex: 100000 entries, 0 to 99999\n",
      "Data columns (total 5 columns):\n",
      " #   Column   Non-Null Count   Dtype  \n",
      "---  ------   --------------   -----  \n",
      " 0   id       100000 non-null  object \n",
      " 1   f0       100000 non-null  float64\n",
      " 2   f1       100000 non-null  float64\n",
      " 3   f2       100000 non-null  float64\n",
      " 4   product  100000 non-null  float64\n",
      "dtypes: float64(4), object(1)\n",
      "memory usage: 3.8+ MB\n"
     ]
    }
   ],
   "source": [
    "df_1.info()"
   ]
  },
  {
   "cell_type": "code",
   "execution_count": 8,
   "metadata": {},
   "outputs": [
    {
     "name": "stdout",
     "output_type": "stream",
     "text": [
      "<class 'pandas.core.frame.DataFrame'>\n",
      "RangeIndex: 100000 entries, 0 to 99999\n",
      "Data columns (total 5 columns):\n",
      " #   Column   Non-Null Count   Dtype  \n",
      "---  ------   --------------   -----  \n",
      " 0   id       100000 non-null  object \n",
      " 1   f0       100000 non-null  float64\n",
      " 2   f1       100000 non-null  float64\n",
      " 3   f2       100000 non-null  float64\n",
      " 4   product  100000 non-null  float64\n",
      "dtypes: float64(4), object(1)\n",
      "memory usage: 3.8+ MB\n"
     ]
    }
   ],
   "source": [
    "df_2.info()"
   ]
  },
  {
   "cell_type": "markdown",
   "metadata": {},
   "source": [
    "Посмотрим на данные с использованием метода `describe()`"
   ]
  },
  {
   "cell_type": "code",
   "execution_count": 9,
   "metadata": {},
   "outputs": [
    {
     "data": {
      "text/html": [
       "<div>\n",
       "<style scoped>\n",
       "    .dataframe tbody tr th:only-of-type {\n",
       "        vertical-align: middle;\n",
       "    }\n",
       "\n",
       "    .dataframe tbody tr th {\n",
       "        vertical-align: top;\n",
       "    }\n",
       "\n",
       "    .dataframe thead th {\n",
       "        text-align: right;\n",
       "    }\n",
       "</style>\n",
       "<table border=\"1\" class=\"dataframe\">\n",
       "  <thead>\n",
       "    <tr style=\"text-align: right;\">\n",
       "      <th></th>\n",
       "      <th>f0</th>\n",
       "      <th>f1</th>\n",
       "      <th>f2</th>\n",
       "      <th>product</th>\n",
       "    </tr>\n",
       "  </thead>\n",
       "  <tbody>\n",
       "    <tr>\n",
       "      <th>count</th>\n",
       "      <td>100000.000000</td>\n",
       "      <td>100000.000000</td>\n",
       "      <td>100000.000000</td>\n",
       "      <td>100000.000000</td>\n",
       "    </tr>\n",
       "    <tr>\n",
       "      <th>mean</th>\n",
       "      <td>0.500419</td>\n",
       "      <td>0.250143</td>\n",
       "      <td>2.502647</td>\n",
       "      <td>92.500000</td>\n",
       "    </tr>\n",
       "    <tr>\n",
       "      <th>std</th>\n",
       "      <td>0.871832</td>\n",
       "      <td>0.504433</td>\n",
       "      <td>3.248248</td>\n",
       "      <td>44.288691</td>\n",
       "    </tr>\n",
       "    <tr>\n",
       "      <th>min</th>\n",
       "      <td>-1.408605</td>\n",
       "      <td>-0.848218</td>\n",
       "      <td>-12.088328</td>\n",
       "      <td>0.000000</td>\n",
       "    </tr>\n",
       "    <tr>\n",
       "      <th>25%</th>\n",
       "      <td>-0.072580</td>\n",
       "      <td>-0.200881</td>\n",
       "      <td>0.287748</td>\n",
       "      <td>56.497507</td>\n",
       "    </tr>\n",
       "    <tr>\n",
       "      <th>50%</th>\n",
       "      <td>0.502360</td>\n",
       "      <td>0.250252</td>\n",
       "      <td>2.515969</td>\n",
       "      <td>91.849972</td>\n",
       "    </tr>\n",
       "    <tr>\n",
       "      <th>75%</th>\n",
       "      <td>1.073581</td>\n",
       "      <td>0.700646</td>\n",
       "      <td>4.715088</td>\n",
       "      <td>128.564089</td>\n",
       "    </tr>\n",
       "    <tr>\n",
       "      <th>max</th>\n",
       "      <td>2.362331</td>\n",
       "      <td>1.343769</td>\n",
       "      <td>16.003790</td>\n",
       "      <td>185.364347</td>\n",
       "    </tr>\n",
       "  </tbody>\n",
       "</table>\n",
       "</div>"
      ],
      "text/plain": [
       "                  f0             f1             f2        product\n",
       "count  100000.000000  100000.000000  100000.000000  100000.000000\n",
       "mean        0.500419       0.250143       2.502647      92.500000\n",
       "std         0.871832       0.504433       3.248248      44.288691\n",
       "min        -1.408605      -0.848218     -12.088328       0.000000\n",
       "25%        -0.072580      -0.200881       0.287748      56.497507\n",
       "50%         0.502360       0.250252       2.515969      91.849972\n",
       "75%         1.073581       0.700646       4.715088     128.564089\n",
       "max         2.362331       1.343769      16.003790     185.364347"
      ]
     },
     "execution_count": 9,
     "metadata": {},
     "output_type": "execute_result"
    }
   ],
   "source": [
    "df_0.describe()"
   ]
  },
  {
   "cell_type": "code",
   "execution_count": 10,
   "metadata": {},
   "outputs": [
    {
     "data": {
      "text/html": [
       "<div>\n",
       "<style scoped>\n",
       "    .dataframe tbody tr th:only-of-type {\n",
       "        vertical-align: middle;\n",
       "    }\n",
       "\n",
       "    .dataframe tbody tr th {\n",
       "        vertical-align: top;\n",
       "    }\n",
       "\n",
       "    .dataframe thead th {\n",
       "        text-align: right;\n",
       "    }\n",
       "</style>\n",
       "<table border=\"1\" class=\"dataframe\">\n",
       "  <thead>\n",
       "    <tr style=\"text-align: right;\">\n",
       "      <th></th>\n",
       "      <th>f0</th>\n",
       "      <th>f1</th>\n",
       "      <th>f2</th>\n",
       "      <th>product</th>\n",
       "    </tr>\n",
       "  </thead>\n",
       "  <tbody>\n",
       "    <tr>\n",
       "      <th>count</th>\n",
       "      <td>100000.000000</td>\n",
       "      <td>100000.000000</td>\n",
       "      <td>100000.000000</td>\n",
       "      <td>100000.000000</td>\n",
       "    </tr>\n",
       "    <tr>\n",
       "      <th>mean</th>\n",
       "      <td>1.141296</td>\n",
       "      <td>-4.796579</td>\n",
       "      <td>2.494541</td>\n",
       "      <td>68.825000</td>\n",
       "    </tr>\n",
       "    <tr>\n",
       "      <th>std</th>\n",
       "      <td>8.965932</td>\n",
       "      <td>5.119872</td>\n",
       "      <td>1.703572</td>\n",
       "      <td>45.944423</td>\n",
       "    </tr>\n",
       "    <tr>\n",
       "      <th>min</th>\n",
       "      <td>-31.609576</td>\n",
       "      <td>-26.358598</td>\n",
       "      <td>-0.018144</td>\n",
       "      <td>0.000000</td>\n",
       "    </tr>\n",
       "    <tr>\n",
       "      <th>25%</th>\n",
       "      <td>-6.298551</td>\n",
       "      <td>-8.267985</td>\n",
       "      <td>1.000021</td>\n",
       "      <td>26.953261</td>\n",
       "    </tr>\n",
       "    <tr>\n",
       "      <th>50%</th>\n",
       "      <td>1.153055</td>\n",
       "      <td>-4.813172</td>\n",
       "      <td>2.011479</td>\n",
       "      <td>57.085625</td>\n",
       "    </tr>\n",
       "    <tr>\n",
       "      <th>75%</th>\n",
       "      <td>8.621015</td>\n",
       "      <td>-1.332816</td>\n",
       "      <td>3.999904</td>\n",
       "      <td>107.813044</td>\n",
       "    </tr>\n",
       "    <tr>\n",
       "      <th>max</th>\n",
       "      <td>29.421755</td>\n",
       "      <td>18.734063</td>\n",
       "      <td>5.019721</td>\n",
       "      <td>137.945408</td>\n",
       "    </tr>\n",
       "  </tbody>\n",
       "</table>\n",
       "</div>"
      ],
      "text/plain": [
       "                  f0             f1             f2        product\n",
       "count  100000.000000  100000.000000  100000.000000  100000.000000\n",
       "mean        1.141296      -4.796579       2.494541      68.825000\n",
       "std         8.965932       5.119872       1.703572      45.944423\n",
       "min       -31.609576     -26.358598      -0.018144       0.000000\n",
       "25%        -6.298551      -8.267985       1.000021      26.953261\n",
       "50%         1.153055      -4.813172       2.011479      57.085625\n",
       "75%         8.621015      -1.332816       3.999904     107.813044\n",
       "max        29.421755      18.734063       5.019721     137.945408"
      ]
     },
     "execution_count": 10,
     "metadata": {},
     "output_type": "execute_result"
    }
   ],
   "source": [
    "df_1.describe()"
   ]
  },
  {
   "cell_type": "code",
   "execution_count": 11,
   "metadata": {
    "scrolled": true
   },
   "outputs": [
    {
     "data": {
      "text/html": [
       "<div>\n",
       "<style scoped>\n",
       "    .dataframe tbody tr th:only-of-type {\n",
       "        vertical-align: middle;\n",
       "    }\n",
       "\n",
       "    .dataframe tbody tr th {\n",
       "        vertical-align: top;\n",
       "    }\n",
       "\n",
       "    .dataframe thead th {\n",
       "        text-align: right;\n",
       "    }\n",
       "</style>\n",
       "<table border=\"1\" class=\"dataframe\">\n",
       "  <thead>\n",
       "    <tr style=\"text-align: right;\">\n",
       "      <th></th>\n",
       "      <th>f0</th>\n",
       "      <th>f1</th>\n",
       "      <th>f2</th>\n",
       "      <th>product</th>\n",
       "    </tr>\n",
       "  </thead>\n",
       "  <tbody>\n",
       "    <tr>\n",
       "      <th>count</th>\n",
       "      <td>100000.000000</td>\n",
       "      <td>100000.000000</td>\n",
       "      <td>100000.000000</td>\n",
       "      <td>100000.000000</td>\n",
       "    </tr>\n",
       "    <tr>\n",
       "      <th>mean</th>\n",
       "      <td>0.002023</td>\n",
       "      <td>-0.002081</td>\n",
       "      <td>2.495128</td>\n",
       "      <td>95.000000</td>\n",
       "    </tr>\n",
       "    <tr>\n",
       "      <th>std</th>\n",
       "      <td>1.732045</td>\n",
       "      <td>1.730417</td>\n",
       "      <td>3.473445</td>\n",
       "      <td>44.749921</td>\n",
       "    </tr>\n",
       "    <tr>\n",
       "      <th>min</th>\n",
       "      <td>-8.760004</td>\n",
       "      <td>-7.084020</td>\n",
       "      <td>-11.970335</td>\n",
       "      <td>0.000000</td>\n",
       "    </tr>\n",
       "    <tr>\n",
       "      <th>25%</th>\n",
       "      <td>-1.162288</td>\n",
       "      <td>-1.174820</td>\n",
       "      <td>0.130359</td>\n",
       "      <td>59.450441</td>\n",
       "    </tr>\n",
       "    <tr>\n",
       "      <th>50%</th>\n",
       "      <td>0.009424</td>\n",
       "      <td>-0.009482</td>\n",
       "      <td>2.484236</td>\n",
       "      <td>94.925613</td>\n",
       "    </tr>\n",
       "    <tr>\n",
       "      <th>75%</th>\n",
       "      <td>1.158535</td>\n",
       "      <td>1.163678</td>\n",
       "      <td>4.858794</td>\n",
       "      <td>130.595027</td>\n",
       "    </tr>\n",
       "    <tr>\n",
       "      <th>max</th>\n",
       "      <td>7.238262</td>\n",
       "      <td>7.844801</td>\n",
       "      <td>16.739402</td>\n",
       "      <td>190.029838</td>\n",
       "    </tr>\n",
       "  </tbody>\n",
       "</table>\n",
       "</div>"
      ],
      "text/plain": [
       "                  f0             f1             f2        product\n",
       "count  100000.000000  100000.000000  100000.000000  100000.000000\n",
       "mean        0.002023      -0.002081       2.495128      95.000000\n",
       "std         1.732045       1.730417       3.473445      44.749921\n",
       "min        -8.760004      -7.084020     -11.970335       0.000000\n",
       "25%        -1.162288      -1.174820       0.130359      59.450441\n",
       "50%         0.009424      -0.009482       2.484236      94.925613\n",
       "75%         1.158535       1.163678       4.858794     130.595027\n",
       "max         7.238262       7.844801      16.739402     190.029838"
      ]
     },
     "execution_count": 11,
     "metadata": {},
     "output_type": "execute_result"
    }
   ],
   "source": [
    "df_2.describe()"
   ]
  },
  {
   "cell_type": "markdown",
   "metadata": {},
   "source": [
    "Нам даны 3 таблица по 5 столбцов. Типы данных в столбцах — `float` и `object`.\n",
    "\n",
    "Согласно документации к данным признаки:\n",
    "* id — уникальный идентификатор скважины\n",
    "* f0, f1, f2 — три признака точек (неважно, что они означают, но сами признаки значимы)\n",
    "\n",
    "Целевой признак:\n",
    "* product — объём запасов в скважине (тыс. баррелей)"
   ]
  },
  {
   "cell_type": "markdown",
   "metadata": {},
   "source": [
    "**Вывод**\n",
    "<br><br>\n",
    "В каждой строке таблицы трёх таблиц — данные о данные геологоразведке скважин. \n",
    "<br><br>\n",
    "Предварительно можно утверждать, что данных достаточно для построения моделей, их настройки, провеки и дальнейшего исследования. "
   ]
  },
  {
   "cell_type": "markdown",
   "metadata": {},
   "source": [
    "## Обучение и проверка модели"
   ]
  },
  {
   "cell_type": "markdown",
   "metadata": {},
   "source": [
    "**Удаление лишних признаков.<br>**\n",
    "Признак `id` не имеют ценных данных для обучения модели, следовательно его можно удалить:"
   ]
  },
  {
   "cell_type": "code",
   "execution_count": 12,
   "metadata": {},
   "outputs": [
    {
     "data": {
      "text/html": [
       "<div>\n",
       "<style scoped>\n",
       "    .dataframe tbody tr th:only-of-type {\n",
       "        vertical-align: middle;\n",
       "    }\n",
       "\n",
       "    .dataframe tbody tr th {\n",
       "        vertical-align: top;\n",
       "    }\n",
       "\n",
       "    .dataframe thead th {\n",
       "        text-align: right;\n",
       "    }\n",
       "</style>\n",
       "<table border=\"1\" class=\"dataframe\">\n",
       "  <thead>\n",
       "    <tr style=\"text-align: right;\">\n",
       "      <th></th>\n",
       "      <th>f0</th>\n",
       "      <th>f1</th>\n",
       "      <th>f2</th>\n",
       "      <th>product</th>\n",
       "    </tr>\n",
       "  </thead>\n",
       "  <tbody>\n",
       "    <tr>\n",
       "      <th>0</th>\n",
       "      <td>0.705745</td>\n",
       "      <td>-0.497823</td>\n",
       "      <td>1.221170</td>\n",
       "      <td>105.280062</td>\n",
       "    </tr>\n",
       "    <tr>\n",
       "      <th>1</th>\n",
       "      <td>1.334711</td>\n",
       "      <td>-0.340164</td>\n",
       "      <td>4.365080</td>\n",
       "      <td>73.037750</td>\n",
       "    </tr>\n",
       "    <tr>\n",
       "      <th>2</th>\n",
       "      <td>1.022732</td>\n",
       "      <td>0.151990</td>\n",
       "      <td>1.419926</td>\n",
       "      <td>85.265647</td>\n",
       "    </tr>\n",
       "    <tr>\n",
       "      <th>3</th>\n",
       "      <td>-0.032172</td>\n",
       "      <td>0.139033</td>\n",
       "      <td>2.978566</td>\n",
       "      <td>168.620776</td>\n",
       "    </tr>\n",
       "    <tr>\n",
       "      <th>4</th>\n",
       "      <td>1.988431</td>\n",
       "      <td>0.155413</td>\n",
       "      <td>4.751769</td>\n",
       "      <td>154.036647</td>\n",
       "    </tr>\n",
       "    <tr>\n",
       "      <th>5</th>\n",
       "      <td>0.969570</td>\n",
       "      <td>0.489775</td>\n",
       "      <td>-0.735383</td>\n",
       "      <td>64.741541</td>\n",
       "    </tr>\n",
       "    <tr>\n",
       "      <th>6</th>\n",
       "      <td>0.645075</td>\n",
       "      <td>0.530656</td>\n",
       "      <td>1.780266</td>\n",
       "      <td>49.055285</td>\n",
       "    </tr>\n",
       "    <tr>\n",
       "      <th>7</th>\n",
       "      <td>-0.400648</td>\n",
       "      <td>0.808337</td>\n",
       "      <td>-5.624670</td>\n",
       "      <td>72.943292</td>\n",
       "    </tr>\n",
       "    <tr>\n",
       "      <th>8</th>\n",
       "      <td>0.643105</td>\n",
       "      <td>-0.551583</td>\n",
       "      <td>2.372141</td>\n",
       "      <td>113.356160</td>\n",
       "    </tr>\n",
       "    <tr>\n",
       "      <th>9</th>\n",
       "      <td>2.173381</td>\n",
       "      <td>0.563698</td>\n",
       "      <td>9.441852</td>\n",
       "      <td>127.910945</td>\n",
       "    </tr>\n",
       "  </tbody>\n",
       "</table>\n",
       "</div>"
      ],
      "text/plain": [
       "         f0        f1        f2     product\n",
       "0  0.705745 -0.497823  1.221170  105.280062\n",
       "1  1.334711 -0.340164  4.365080   73.037750\n",
       "2  1.022732  0.151990  1.419926   85.265647\n",
       "3 -0.032172  0.139033  2.978566  168.620776\n",
       "4  1.988431  0.155413  4.751769  154.036647\n",
       "5  0.969570  0.489775 -0.735383   64.741541\n",
       "6  0.645075  0.530656  1.780266   49.055285\n",
       "7 -0.400648  0.808337 -5.624670   72.943292\n",
       "8  0.643105 -0.551583  2.372141  113.356160\n",
       "9  2.173381  0.563698  9.441852  127.910945"
      ]
     },
     "execution_count": 12,
     "metadata": {},
     "output_type": "execute_result"
    }
   ],
   "source": [
    "df_0 = df_0.drop(['id'], axis = 1)\n",
    "df_0.head(10)"
   ]
  },
  {
   "cell_type": "code",
   "execution_count": 13,
   "metadata": {},
   "outputs": [
    {
     "data": {
      "text/html": [
       "<div>\n",
       "<style scoped>\n",
       "    .dataframe tbody tr th:only-of-type {\n",
       "        vertical-align: middle;\n",
       "    }\n",
       "\n",
       "    .dataframe tbody tr th {\n",
       "        vertical-align: top;\n",
       "    }\n",
       "\n",
       "    .dataframe thead th {\n",
       "        text-align: right;\n",
       "    }\n",
       "</style>\n",
       "<table border=\"1\" class=\"dataframe\">\n",
       "  <thead>\n",
       "    <tr style=\"text-align: right;\">\n",
       "      <th></th>\n",
       "      <th>f0</th>\n",
       "      <th>f1</th>\n",
       "      <th>f2</th>\n",
       "      <th>product</th>\n",
       "    </tr>\n",
       "  </thead>\n",
       "  <tbody>\n",
       "    <tr>\n",
       "      <th>0</th>\n",
       "      <td>-15.001348</td>\n",
       "      <td>-8.276000</td>\n",
       "      <td>-0.005876</td>\n",
       "      <td>3.179103</td>\n",
       "    </tr>\n",
       "    <tr>\n",
       "      <th>1</th>\n",
       "      <td>14.272088</td>\n",
       "      <td>-3.475083</td>\n",
       "      <td>0.999183</td>\n",
       "      <td>26.953261</td>\n",
       "    </tr>\n",
       "    <tr>\n",
       "      <th>2</th>\n",
       "      <td>6.263187</td>\n",
       "      <td>-5.948386</td>\n",
       "      <td>5.001160</td>\n",
       "      <td>134.766305</td>\n",
       "    </tr>\n",
       "    <tr>\n",
       "      <th>3</th>\n",
       "      <td>-13.081196</td>\n",
       "      <td>-11.506057</td>\n",
       "      <td>4.999415</td>\n",
       "      <td>137.945408</td>\n",
       "    </tr>\n",
       "    <tr>\n",
       "      <th>4</th>\n",
       "      <td>12.702195</td>\n",
       "      <td>-8.147433</td>\n",
       "      <td>5.004363</td>\n",
       "      <td>134.766305</td>\n",
       "    </tr>\n",
       "    <tr>\n",
       "      <th>5</th>\n",
       "      <td>-3.327590</td>\n",
       "      <td>-2.205276</td>\n",
       "      <td>3.003647</td>\n",
       "      <td>84.038886</td>\n",
       "    </tr>\n",
       "    <tr>\n",
       "      <th>6</th>\n",
       "      <td>-11.142655</td>\n",
       "      <td>-10.133399</td>\n",
       "      <td>4.002382</td>\n",
       "      <td>110.992147</td>\n",
       "    </tr>\n",
       "    <tr>\n",
       "      <th>7</th>\n",
       "      <td>4.234715</td>\n",
       "      <td>-0.001354</td>\n",
       "      <td>2.004588</td>\n",
       "      <td>53.906522</td>\n",
       "    </tr>\n",
       "    <tr>\n",
       "      <th>8</th>\n",
       "      <td>13.355129</td>\n",
       "      <td>-0.332068</td>\n",
       "      <td>4.998647</td>\n",
       "      <td>134.766305</td>\n",
       "    </tr>\n",
       "    <tr>\n",
       "      <th>9</th>\n",
       "      <td>1.069227</td>\n",
       "      <td>-11.025667</td>\n",
       "      <td>4.997844</td>\n",
       "      <td>137.945408</td>\n",
       "    </tr>\n",
       "  </tbody>\n",
       "</table>\n",
       "</div>"
      ],
      "text/plain": [
       "          f0         f1        f2     product\n",
       "0 -15.001348  -8.276000 -0.005876    3.179103\n",
       "1  14.272088  -3.475083  0.999183   26.953261\n",
       "2   6.263187  -5.948386  5.001160  134.766305\n",
       "3 -13.081196 -11.506057  4.999415  137.945408\n",
       "4  12.702195  -8.147433  5.004363  134.766305\n",
       "5  -3.327590  -2.205276  3.003647   84.038886\n",
       "6 -11.142655 -10.133399  4.002382  110.992147\n",
       "7   4.234715  -0.001354  2.004588   53.906522\n",
       "8  13.355129  -0.332068  4.998647  134.766305\n",
       "9   1.069227 -11.025667  4.997844  137.945408"
      ]
     },
     "execution_count": 13,
     "metadata": {},
     "output_type": "execute_result"
    }
   ],
   "source": [
    "df_1 = df_1.drop(['id'], axis = 1)\n",
    "df_1.head(10)"
   ]
  },
  {
   "cell_type": "code",
   "execution_count": 14,
   "metadata": {},
   "outputs": [
    {
     "data": {
      "text/html": [
       "<div>\n",
       "<style scoped>\n",
       "    .dataframe tbody tr th:only-of-type {\n",
       "        vertical-align: middle;\n",
       "    }\n",
       "\n",
       "    .dataframe tbody tr th {\n",
       "        vertical-align: top;\n",
       "    }\n",
       "\n",
       "    .dataframe thead th {\n",
       "        text-align: right;\n",
       "    }\n",
       "</style>\n",
       "<table border=\"1\" class=\"dataframe\">\n",
       "  <thead>\n",
       "    <tr style=\"text-align: right;\">\n",
       "      <th></th>\n",
       "      <th>f0</th>\n",
       "      <th>f1</th>\n",
       "      <th>f2</th>\n",
       "      <th>product</th>\n",
       "    </tr>\n",
       "  </thead>\n",
       "  <tbody>\n",
       "    <tr>\n",
       "      <th>0</th>\n",
       "      <td>-1.146987</td>\n",
       "      <td>0.963328</td>\n",
       "      <td>-0.828965</td>\n",
       "      <td>27.758673</td>\n",
       "    </tr>\n",
       "    <tr>\n",
       "      <th>1</th>\n",
       "      <td>0.262778</td>\n",
       "      <td>0.269839</td>\n",
       "      <td>-2.530187</td>\n",
       "      <td>56.069697</td>\n",
       "    </tr>\n",
       "    <tr>\n",
       "      <th>2</th>\n",
       "      <td>0.194587</td>\n",
       "      <td>0.289035</td>\n",
       "      <td>-5.586433</td>\n",
       "      <td>62.871910</td>\n",
       "    </tr>\n",
       "    <tr>\n",
       "      <th>3</th>\n",
       "      <td>2.236060</td>\n",
       "      <td>-0.553760</td>\n",
       "      <td>0.930038</td>\n",
       "      <td>114.572842</td>\n",
       "    </tr>\n",
       "    <tr>\n",
       "      <th>4</th>\n",
       "      <td>-0.515993</td>\n",
       "      <td>1.716266</td>\n",
       "      <td>5.899011</td>\n",
       "      <td>149.600746</td>\n",
       "    </tr>\n",
       "    <tr>\n",
       "      <th>5</th>\n",
       "      <td>-0.758092</td>\n",
       "      <td>0.710691</td>\n",
       "      <td>2.585887</td>\n",
       "      <td>90.222465</td>\n",
       "    </tr>\n",
       "    <tr>\n",
       "      <th>6</th>\n",
       "      <td>-0.574891</td>\n",
       "      <td>0.317727</td>\n",
       "      <td>1.773745</td>\n",
       "      <td>45.641478</td>\n",
       "    </tr>\n",
       "    <tr>\n",
       "      <th>7</th>\n",
       "      <td>-1.906649</td>\n",
       "      <td>-2.458350</td>\n",
       "      <td>-0.177097</td>\n",
       "      <td>72.480640</td>\n",
       "    </tr>\n",
       "    <tr>\n",
       "      <th>8</th>\n",
       "      <td>1.776292</td>\n",
       "      <td>-0.279356</td>\n",
       "      <td>3.004156</td>\n",
       "      <td>106.616832</td>\n",
       "    </tr>\n",
       "    <tr>\n",
       "      <th>9</th>\n",
       "      <td>-1.214452</td>\n",
       "      <td>-0.439314</td>\n",
       "      <td>5.922514</td>\n",
       "      <td>52.954532</td>\n",
       "    </tr>\n",
       "  </tbody>\n",
       "</table>\n",
       "</div>"
      ],
      "text/plain": [
       "         f0        f1        f2     product\n",
       "0 -1.146987  0.963328 -0.828965   27.758673\n",
       "1  0.262778  0.269839 -2.530187   56.069697\n",
       "2  0.194587  0.289035 -5.586433   62.871910\n",
       "3  2.236060 -0.553760  0.930038  114.572842\n",
       "4 -0.515993  1.716266  5.899011  149.600746\n",
       "5 -0.758092  0.710691  2.585887   90.222465\n",
       "6 -0.574891  0.317727  1.773745   45.641478\n",
       "7 -1.906649 -2.458350 -0.177097   72.480640\n",
       "8  1.776292 -0.279356  3.004156  106.616832\n",
       "9 -1.214452 -0.439314  5.922514   52.954532"
      ]
     },
     "execution_count": 14,
     "metadata": {},
     "output_type": "execute_result"
    }
   ],
   "source": [
    "df_2 = df_2.drop(['id'], axis = 1)\n",
    "df_2.head(10)"
   ]
  },
  {
   "cell_type": "markdown",
   "metadata": {},
   "source": [
    "Для каждого из регионов выполним следующие дествия:\n",
    "* Разобьём данные на обучающую и валидационную выборки в соотношении 75:25\n",
    "* Обучим модель Линейной регрессии\n",
    "* Сохраним предсказания и правильные ответы на валидационной выборке\n",
    "* Напечатаем на экране средний запас предсказанного сырья и RMSE"
   ]
  },
  {
   "cell_type": "markdown",
   "metadata": {},
   "source": [
    "**Первый регион:**"
   ]
  },
  {
   "cell_type": "code",
   "execution_count": 15,
   "metadata": {},
   "outputs": [
    {
     "name": "stdout",
     "output_type": "stream",
     "text": [
      "Средний запас предсказанного сырья в данном регионе: 92.59\n",
      "RMSE (квадратный корень из средней квадратичной ошибки): 37.58\n"
     ]
    }
   ],
   "source": [
    "train_0, valid_0 = train_test_split(df_0, test_size=0.25, random_state=12345) # разбиваем выборку на обучающую и валидационную\n",
    "features_train_0 = train_0.drop(['product'], axis=1)\n",
    "target_train_0 = train_0['product']\n",
    "features_valid_0 = valid_0.drop(['product'], axis=1)\n",
    "target_valid_0 = valid_0['product']\n",
    "model_0 = LinearRegression()\n",
    "model_0.fit(features_train_0, target_train_0) # обучаем модель\n",
    "predictions_0 = model_0.predict(features_valid_0) # делаем предсказание\n",
    "rmse_0 = mean_squared_error(target_valid_0, predictions_0)**0.5 # находим квадратный корень из средней квадратичной ошибки\n",
    "predictions_0 = pd.Series(predictions_0) # cохраним предсказания \n",
    "target_valid_0 = target_valid_0.reset_index(drop=True) # сохраним правильные ответы на валидационной выборке\n",
    "print(f'Средний запас предсказанного сырья в данном регионе: {predictions_0.mean() :0.2f}')\n",
    "print(f'RMSE (квадратный корень из средней квадратичной ошибки): {rmse_0 :0.2f}')"
   ]
  },
  {
   "cell_type": "markdown",
   "metadata": {},
   "source": [
    "**Второй регион:**"
   ]
  },
  {
   "cell_type": "code",
   "execution_count": 16,
   "metadata": {},
   "outputs": [
    {
     "name": "stdout",
     "output_type": "stream",
     "text": [
      "Средний запас предсказанного сырья в данном регионе: 68.73\n",
      "RMSE (квадратный корень из средней квадратичной ошибки): 0.89\n"
     ]
    }
   ],
   "source": [
    "train_1, valid_1 = train_test_split(df_1, test_size=0.25, random_state=12345)# разбиваем выборку на обучающую и валидационную\n",
    "features_train_1 = train_1.drop(['product'], axis=1)\n",
    "target_train_1 = train_1['product']\n",
    "features_valid_1 = valid_1.drop(['product'], axis=1)\n",
    "target_valid_1 = valid_1['product']\n",
    "model_1 = LinearRegression()\n",
    "model_1.fit(features_train_1, target_train_1) # обучаем модель\n",
    "predictions_1 = model_1.predict(features_valid_1) # делаем предсказание\n",
    "rmse_1 = mean_squared_error(target_valid_1, predictions_1)**0.5 # находим квадратный корень из средней квадратичной ошибки\n",
    "predictions_1 = pd.Series(predictions_1)  # cохраним предсказания \n",
    "target_valid_1 = target_valid_1.reset_index(drop=True) # сохраним правильные ответы на валидационной выборке\n",
    "print(f'Средний запас предсказанного сырья в данном регионе: {predictions_1.mean() :0.2f}')\n",
    "print(f'RMSE (квадратный корень из средней квадратичной ошибки): {rmse_1 :0.2f}')"
   ]
  },
  {
   "cell_type": "markdown",
   "metadata": {},
   "source": [
    "**Третий регион:**"
   ]
  },
  {
   "cell_type": "code",
   "execution_count": 17,
   "metadata": {},
   "outputs": [
    {
     "name": "stdout",
     "output_type": "stream",
     "text": [
      "Средний запас предсказанного сырья в данном регионе: 94.97\n",
      "RMSE (квадратный корень из средней квадратичной ошибки): 40.03\n"
     ]
    }
   ],
   "source": [
    "train_2, valid_2 = train_test_split(df_2, test_size=0.25, random_state=12345)# разбиваем выборку на обучающую и валидационную\n",
    "features_train_2 = train_2.drop(['product'], axis=1)\n",
    "target_train_2 = train_2['product']\n",
    "features_valid_2 = valid_2.drop(['product'], axis=1)\n",
    "target_valid_2 = valid_2['product']\n",
    "model_2 = LinearRegression()\n",
    "model_2.fit(features_train_2, target_train_2) # обучаем модель\n",
    "predictions_2 = model_2.predict(features_valid_2) # делаем предсказание\n",
    "rmse_2 = mean_squared_error(target_valid_2, predictions_2)**0.5 # находим квадратный корень из средней квадратичной ошибки\n",
    "predictions_2 = pd.Series(predictions_2)  # cохраним предсказания \n",
    "target_valid_2 = target_valid_2.reset_index(drop=True) # сохраним правильные ответы на валидационной выборке\n",
    "print(f'Средний запас предсказанного сырья в данном регионе: {predictions_2.mean() :0.2f}')\n",
    "print(f'RMSE (квадратный корень из средней квадратичной ошибки): {rmse_2 :0.2f}')"
   ]
  },
  {
   "cell_type": "markdown",
   "metadata": {},
   "source": [
    "**Вывод**\n",
    "<br><br>\n",
    "Регионы `df_0 и df_2` имеют близкие значения, как среднего запаса предсказанного сырья, так и RNSE, при этом в регионе `df_1` значиельно ниже среднего запаса предсказанного сырья, но RMSE в этом регионе почти нет (меньше 1).\n",
    "<br> На основании этого можно сделать выводы, что в регионе `df_1` предсказания получились гораздо более точными на валидационной выборке, чем в регионах `df_0 и df_2`."
   ]
  },
  {
   "cell_type": "markdown",
   "metadata": {},
   "source": [
    "## Подготовка к расчёту прибыли"
   ]
  },
  {
   "cell_type": "markdown",
   "metadata": {},
   "source": [
    "Все ключевые значения для расчётов сохраним в отдельных переменных"
   ]
  },
  {
   "cell_type": "code",
   "execution_count": 18,
   "metadata": {},
   "outputs": [],
   "source": [
    "BUDGET = 10000000000 # бюджет  выделяемый на регион\n",
    "PRICE_1000_BARRELS = 450000 # доход с каждой единицы продукта, объём указан в тысячах баррелей\n",
    "WELLS_BEST = 200 # число лучших скважин выбираемых в регионе\n",
    "WELLS = 500 # число исследуемых скважин"
   ]
  },
  {
   "cell_type": "markdown",
   "metadata": {},
   "source": [
    "Рассчитаем какой объём в среднем должна иметь каждая скважина из 200 лучших в регионе  "
   ]
  },
  {
   "cell_type": "code",
   "execution_count": 19,
   "metadata": {},
   "outputs": [
    {
     "name": "stdout",
     "output_type": "stream",
     "text": [
      "Средний объём скважин:111.11\n"
     ]
    }
   ],
   "source": [
    "mean_volume_well = BUDGET/WELLS_BEST/PRICE_1000_BARRELS\n",
    "print(f'Средний объём скважин:{mean_volume_well :0.2f}')"
   ]
  },
  {
   "cell_type": "markdown",
   "metadata": {},
   "source": [
    "**Вывод**\n",
    "<br><br>\n",
    "Из технического задания и произведённых расчётов можно сделать выводы, что выбрать скважины нужно с объемом запасов выше среднего объёма запасов в любом из регионов. \n",
    "<br>По предсказанию моделей средний объём скважин не достигает необходимых нам 111,11 тысяч баррелей в скважине ни в одном из регионов.\n",
    "<br>Нам нужно будет выбрать скважины, чтобы их объём был выше среднего, чтобы хватило бюджета на разработку скважин в регионе, а в целом нужно получить максимально возможную прибыль."
   ]
  },
  {
   "cell_type": "markdown",
   "metadata": {},
   "source": [
    "## Расчёт прибыли"
   ]
  },
  {
   "cell_type": "markdown",
   "metadata": {},
   "source": [
    "Напишем функцию для расчёта прибыли по региону из выбранных скважин предсказаных моделью"
   ]
  },
  {
   "cell_type": "code",
   "execution_count": 20,
   "metadata": {},
   "outputs": [],
   "source": [
    "def profit(target, predict, count):\n",
    "   \n",
    "    predicted_top_200 = predict.nlargest(200) # возьмём 200 максимальных значений из предсказаний\n",
    "    target_top_200 = target[predicted_top_200.index][:count] # возьмём целевое значение объёма сырья, соответствующее предсказаниям\n",
    "    profit = target_top_200.sum()*PRICE_1000_BARRELS - BUDGET # рассчитаем прибыль для полученного объёма сырья\n",
    "    \n",
    "    return profit"
   ]
  },
  {
   "cell_type": "markdown",
   "metadata": {},
   "source": [
    "Посчитаем прибыль для каждого региона"
   ]
  },
  {
   "cell_type": "code",
   "execution_count": 21,
   "metadata": {},
   "outputs": [
    {
     "name": "stdout",
     "output_type": "stream",
     "text": [
      "Прибыль первого региона: 3320826042.86 \n",
      "Прибыль второго региона: 2415086696.68 \n",
      "Прибыль третьего региона:2710349963.60\n"
     ]
    }
   ],
   "source": [
    "profit_0 = profit(target_valid_0, predictions_0, WELLS_BEST)\n",
    "profit_1 = profit(target_valid_1, predictions_1, WELLS_BEST)\n",
    "profit_2 = profit(target_valid_2, predictions_2, WELLS_BEST)\n",
    "print(f'Прибыль первого региона: {profit_0 :0.2f} \\nПрибыль второго региона: {profit_1 :0.2f} \\nПрибыль третьего региона:{profit_2 :0.2f}')"
   ]
  },
  {
   "cell_type": "markdown",
   "metadata": {},
   "source": [
    "**Вывод**\n",
    "<br><br>\n",
    "В первом регионе по предсказаниям модели получилась самая большая прибыль с учётом цены разработки скважин в 10 млрд.  рублей.\n",
    "<br>Прибыль первого региона составила 3320826043.14 рублей."
   ]
  },
  {
   "cell_type": "markdown",
   "metadata": {},
   "source": [
    "## Расчёт рисков "
   ]
  },
  {
   "cell_type": "markdown",
   "metadata": {},
   "source": [
    "Примените технику Bootstrap с 1000 выборок, чтобы найти распределение прибыли.\n",
    "<br>Найдите среднюю прибыль, 95%-й доверительный интервал и риск убытков. Убыток — это отрицательная прибыль."
   ]
  },
  {
   "cell_type": "markdown",
   "metadata": {},
   "source": [
    "**Первый регион:**"
   ]
  },
  {
   "cell_type": "code",
   "execution_count": 22,
   "metadata": {},
   "outputs": [
    {
     "name": "stdout",
     "output_type": "stream",
     "text": [
      "Первый регион: \n",
      "--------------\n",
      "Средняя прибыль: 425938526.91\n",
      "95-% доверительный интервал: (-102090094.74, 947976353.12) \n",
      "Риск убытков: 6.0%\n"
     ]
    }
   ],
   "source": [
    "state = np.random.RandomState(12345)\n",
    "values_0 = []\n",
    "for i in range(1000):\n",
    "    target_subsample_0 = target_valid_0.sample(replace=True, random_state=state, n=WELLS)\n",
    "    probs_subsample_0 = predictions_0[target_subsample_0.index]\n",
    "    values_0.append(profit(target_subsample_0, probs_subsample_0, WELLS_BEST))\n",
    "    \n",
    "values_0 = pd.Series(values_0)\n",
    "mean_0 = values_0.mean()\n",
    "lower_0 = values_0.quantile(0.025)\n",
    "upper_0 = values_0.quantile(0.975)\n",
    "risk_0 = (values_0 < 0).mean() * 100\n",
    "print(f'Первый регион: \\n--------------\\nСредняя прибыль: {mean_0 :0.2f}')\n",
    "print(f'95-% доверительный интервал: ({lower_0 :0.2f}, {upper_0 :0.2f}) \\nРиск убытков: {risk_0}%')"
   ]
  },
  {
   "cell_type": "markdown",
   "metadata": {},
   "source": [
    "**Второй регион:**"
   ]
  },
  {
   "cell_type": "code",
   "execution_count": 23,
   "metadata": {},
   "outputs": [
    {
     "name": "stdout",
     "output_type": "stream",
     "text": [
      "Второй регион: \n",
      "--------------\n",
      "Средняя прибыль: 518259493.70\n",
      "95-% доверительный интервал: (128123231.43, 953612982.07) \n",
      "Риск убытков: 0.3%\n"
     ]
    }
   ],
   "source": [
    "values_1 = []\n",
    "for i in range(1000):\n",
    "    target_subsample_1 = target_valid_1.sample(replace=True, random_state=state, n=WELLS)\n",
    "    probs_subsample_1 = predictions_1[target_subsample_1.index]\n",
    "    values_1.append(profit(target_subsample_1, probs_subsample_1, WELLS_BEST))\n",
    "    \n",
    "values_1 = pd.Series(values_1)\n",
    "mean_1 = values_1.mean()\n",
    "lower_1 = values_1.quantile(0.025)\n",
    "upper_1 = values_1.quantile(0.975)\n",
    "risk_1 = (values_1 < 0).mean() * 100\n",
    "print(f'Второй регион: \\n--------------\\nСредняя прибыль: {mean_1 :0.2f}') \n",
    "print(f'95-% доверительный интервал: ({lower_1 :0.2f}, {upper_1 :0.2f}) \\nРиск убытков: {risk_1}%')"
   ]
  },
  {
   "cell_type": "markdown",
   "metadata": {},
   "source": [
    "**Третий регион:**"
   ]
  },
  {
   "cell_type": "code",
   "execution_count": 24,
   "metadata": {},
   "outputs": [
    {
     "name": "stdout",
     "output_type": "stream",
     "text": [
      "Третий регион: \n",
      "--------------\n",
      "Средняя прибыль: 420194005.34\n",
      "95-% доверительный интервал: (-115852609.16, 989629939.84) \n",
      "Риск убытков: 6.2%\n"
     ]
    }
   ],
   "source": [
    "values_2 = []\n",
    "for i in range(1000):\n",
    "    target_subsample_2 = target_valid_2.sample(replace=True, random_state=state, n=WELLS)\n",
    "    probs_subsample_2 = predictions_2[target_subsample_2.index]\n",
    "    values_2.append(profit(target_subsample_2, probs_subsample_2, WELLS_BEST))\n",
    "    \n",
    "values_2 = pd.Series(values_2)\n",
    "mean_2 = values_2.mean()\n",
    "lower_2 = values_2.quantile(0.025)\n",
    "upper_2 = values_2.quantile(0.975)\n",
    "risk_2 = (values_2 < 0).mean() * 100\n",
    "print(f'Третий регион: \\n--------------\\nСредняя прибыль: {mean_2 :0.2f}') \n",
    "print(f'95-% доверительный интервал: ({lower_2 :0.2f}, {upper_2 :0.2f}) \\nРиск убытков: {risk_2}%')"
   ]
  },
  {
   "cell_type": "markdown",
   "metadata": {},
   "source": [
    "**Вывод**\n",
    "<br><br>\n",
    "**На основании проведённого исследования и расчётов предлагаю производить разработку месторождений во втором регионе.**\n",
    "<br><br>\n",
    "Обоснования выбора региона:\n",
    "<br>Не смотря на то, что в данном регионе прибыль на 200 лучших скважинах наименьшая из трёх регионов и составляет 2415086696.68 рублей, но в данном регионе мы имеем наименьшие риски получить убыток. \n",
    "<br>Риск убытка во втором регионе составляет всего 0,3%, что примерно в 20 раз ниже рисков первого и третьего регионов.\n",
    "<br>\n",
    "Такие низкие риски связаны с тем, что во втором регионе квадратный корень из средней квадратичной ошибки составляет всего 0.89 тыс. баррелей, что 40-45 раз меньше,  чем в первом и третьем регионе."
   ]
  }
 ],
 "metadata": {
  "ExecuteTimeLog": [
   {
    "duration": 2324,
    "start_time": "2022-04-08T17:36:43.905Z"
   },
   {
    "duration": 175,
    "start_time": "2022-04-08T17:49:07.456Z"
   },
   {
    "duration": 154,
    "start_time": "2022-04-08T17:57:47.359Z"
   },
   {
    "duration": 156,
    "start_time": "2022-04-08T17:58:15.422Z"
   },
   {
    "duration": 21,
    "start_time": "2022-04-08T17:59:10.606Z"
   },
   {
    "duration": 20,
    "start_time": "2022-04-08T17:59:11.070Z"
   },
   {
    "duration": 21,
    "start_time": "2022-04-08T17:59:11.622Z"
   },
   {
    "duration": 50,
    "start_time": "2022-04-08T18:01:20.719Z"
   },
   {
    "duration": 44,
    "start_time": "2022-04-08T18:01:21.537Z"
   },
   {
    "duration": 46,
    "start_time": "2022-04-08T18:01:21.640Z"
   },
   {
    "duration": 73,
    "start_time": "2022-04-11T16:44:02.193Z"
   },
   {
    "duration": 2381,
    "start_time": "2022-04-11T16:44:08.774Z"
   },
   {
    "duration": 245,
    "start_time": "2022-04-11T16:44:11.158Z"
   },
   {
    "duration": 230,
    "start_time": "2022-04-11T16:44:11.405Z"
   },
   {
    "duration": 226,
    "start_time": "2022-04-11T16:44:11.637Z"
   },
   {
    "duration": 32,
    "start_time": "2022-04-11T16:44:11.867Z"
   },
   {
    "duration": 26,
    "start_time": "2022-04-11T16:44:11.902Z"
   },
   {
    "duration": 52,
    "start_time": "2022-04-11T16:44:11.931Z"
   },
   {
    "duration": 48,
    "start_time": "2022-04-11T16:44:11.986Z"
   },
   {
    "duration": 72,
    "start_time": "2022-04-11T16:44:12.037Z"
   },
   {
    "duration": 74,
    "start_time": "2022-04-11T16:44:12.111Z"
   },
   {
    "duration": 16,
    "start_time": "2022-04-11T16:44:16.870Z"
   },
   {
    "duration": 22,
    "start_time": "2022-04-11T16:45:04.460Z"
   },
   {
    "duration": 16,
    "start_time": "2022-04-11T16:45:04.891Z"
   },
   {
    "duration": 7,
    "start_time": "2022-04-11T18:43:32.121Z"
   },
   {
    "duration": 168,
    "start_time": "2022-04-11T18:43:32.130Z"
   },
   {
    "duration": 161,
    "start_time": "2022-04-11T18:43:32.300Z"
   },
   {
    "duration": 165,
    "start_time": "2022-04-11T18:43:32.463Z"
   },
   {
    "duration": 19,
    "start_time": "2022-04-11T18:43:32.630Z"
   },
   {
    "duration": 38,
    "start_time": "2022-04-11T18:43:32.651Z"
   },
   {
    "duration": 19,
    "start_time": "2022-04-11T18:43:32.692Z"
   },
   {
    "duration": 73,
    "start_time": "2022-04-11T18:43:32.712Z"
   },
   {
    "duration": 47,
    "start_time": "2022-04-11T18:43:32.792Z"
   },
   {
    "duration": 68,
    "start_time": "2022-04-11T18:43:32.841Z"
   },
   {
    "duration": 38,
    "start_time": "2022-04-11T18:43:32.914Z"
   },
   {
    "duration": 30,
    "start_time": "2022-04-11T18:43:32.966Z"
   },
   {
    "duration": 63,
    "start_time": "2022-04-11T18:43:32.998Z"
   },
   {
    "duration": 14,
    "start_time": "2022-04-11T18:43:36.652Z"
   },
   {
    "duration": 8,
    "start_time": "2022-04-11T18:45:21.659Z"
   },
   {
    "duration": 106,
    "start_time": "2022-04-11T19:10:26.558Z"
   },
   {
    "duration": 16,
    "start_time": "2022-04-11T19:10:37.685Z"
   },
   {
    "duration": 15,
    "start_time": "2022-04-11T19:27:02.616Z"
   },
   {
    "duration": 6,
    "start_time": "2022-04-11T20:24:20.530Z"
   },
   {
    "duration": 5,
    "start_time": "2022-04-11T20:27:42.464Z"
   },
   {
    "duration": 6,
    "start_time": "2022-04-11T20:27:54.056Z"
   },
   {
    "duration": 5,
    "start_time": "2022-04-11T20:28:16.368Z"
   },
   {
    "duration": 6,
    "start_time": "2022-04-11T20:28:16.904Z"
   },
   {
    "duration": 5,
    "start_time": "2022-04-11T20:46:14.480Z"
   },
   {
    "duration": 7,
    "start_time": "2022-04-11T20:58:14.675Z"
   },
   {
    "duration": 170,
    "start_time": "2022-04-11T20:58:14.686Z"
   },
   {
    "duration": 159,
    "start_time": "2022-04-11T20:58:14.859Z"
   },
   {
    "duration": 166,
    "start_time": "2022-04-11T20:58:15.022Z"
   },
   {
    "duration": 19,
    "start_time": "2022-04-11T20:58:15.190Z"
   },
   {
    "duration": 20,
    "start_time": "2022-04-11T20:58:15.211Z"
   },
   {
    "duration": 47,
    "start_time": "2022-04-11T20:58:15.233Z"
   },
   {
    "duration": 45,
    "start_time": "2022-04-11T20:58:15.283Z"
   },
   {
    "duration": 70,
    "start_time": "2022-04-11T20:58:15.331Z"
   },
   {
    "duration": 44,
    "start_time": "2022-04-11T20:58:15.403Z"
   },
   {
    "duration": 34,
    "start_time": "2022-04-11T20:58:15.449Z"
   },
   {
    "duration": 22,
    "start_time": "2022-04-11T20:58:15.485Z"
   },
   {
    "duration": 20,
    "start_time": "2022-04-11T20:58:15.509Z"
   },
   {
    "duration": 130,
    "start_time": "2022-04-11T20:58:15.531Z"
   },
   {
    "duration": 119,
    "start_time": "2022-04-11T20:59:08.710Z"
   },
   {
    "duration": 122,
    "start_time": "2022-04-11T20:59:55.685Z"
   },
   {
    "duration": 6,
    "start_time": "2022-04-11T21:00:08.166Z"
   },
   {
    "duration": 31,
    "start_time": "2022-04-11T21:00:11.829Z"
   },
   {
    "duration": 6,
    "start_time": "2022-04-11T21:01:05.645Z"
   },
   {
    "duration": 26,
    "start_time": "2022-04-11T21:01:07.917Z"
   },
   {
    "duration": 27,
    "start_time": "2022-04-11T21:01:24.173Z"
   },
   {
    "duration": 27,
    "start_time": "2022-04-11T21:01:36.165Z"
   },
   {
    "duration": 6,
    "start_time": "2022-04-11T21:12:05.588Z"
   },
   {
    "duration": 28,
    "start_time": "2022-04-11T21:12:07.660Z"
   },
   {
    "duration": 6,
    "start_time": "2022-04-11T21:12:15.835Z"
   },
   {
    "duration": 26,
    "start_time": "2022-04-11T21:12:18.371Z"
   },
   {
    "duration": 28,
    "start_time": "2022-04-11T21:12:19.042Z"
   },
   {
    "duration": 27,
    "start_time": "2022-04-11T21:12:20.466Z"
   },
   {
    "duration": 1590,
    "start_time": "2022-04-12T16:06:12.527Z"
   },
   {
    "duration": 142,
    "start_time": "2022-04-12T16:06:14.119Z"
   },
   {
    "duration": 127,
    "start_time": "2022-04-12T16:06:14.262Z"
   },
   {
    "duration": 130,
    "start_time": "2022-04-12T16:06:14.391Z"
   },
   {
    "duration": 17,
    "start_time": "2022-04-12T16:06:14.523Z"
   },
   {
    "duration": 15,
    "start_time": "2022-04-12T16:06:14.542Z"
   },
   {
    "duration": 14,
    "start_time": "2022-04-12T16:06:14.559Z"
   },
   {
    "duration": 67,
    "start_time": "2022-04-12T16:06:14.575Z"
   },
   {
    "duration": 37,
    "start_time": "2022-04-12T16:06:14.643Z"
   },
   {
    "duration": 54,
    "start_time": "2022-04-12T16:06:14.682Z"
   },
   {
    "duration": 11,
    "start_time": "2022-04-12T16:06:14.738Z"
   },
   {
    "duration": 13,
    "start_time": "2022-04-12T16:06:14.751Z"
   },
   {
    "duration": 13,
    "start_time": "2022-04-12T16:06:14.766Z"
   },
   {
    "duration": 5,
    "start_time": "2022-04-12T16:06:14.809Z"
   },
   {
    "duration": 30,
    "start_time": "2022-04-12T16:06:14.815Z"
   },
   {
    "duration": 174,
    "start_time": "2022-04-12T16:06:14.847Z"
   },
   {
    "duration": 197,
    "start_time": "2022-04-12T16:06:15.024Z"
   },
   {
    "duration": 130,
    "start_time": "2022-04-12T17:00:42.597Z"
   },
   {
    "duration": 1445,
    "start_time": "2022-04-12T17:01:13.544Z"
   },
   {
    "duration": 155,
    "start_time": "2022-04-12T17:01:14.991Z"
   },
   {
    "duration": 131,
    "start_time": "2022-04-12T17:01:15.148Z"
   },
   {
    "duration": 137,
    "start_time": "2022-04-12T17:01:15.281Z"
   },
   {
    "duration": 18,
    "start_time": "2022-04-12T17:01:15.420Z"
   },
   {
    "duration": 16,
    "start_time": "2022-04-12T17:01:15.440Z"
   },
   {
    "duration": 49,
    "start_time": "2022-04-12T17:01:15.459Z"
   },
   {
    "duration": 44,
    "start_time": "2022-04-12T17:01:15.511Z"
   },
   {
    "duration": 53,
    "start_time": "2022-04-12T17:01:15.557Z"
   },
   {
    "duration": 36,
    "start_time": "2022-04-12T17:01:15.613Z"
   },
   {
    "duration": 11,
    "start_time": "2022-04-12T17:01:15.651Z"
   },
   {
    "duration": 14,
    "start_time": "2022-04-12T17:01:15.664Z"
   },
   {
    "duration": 35,
    "start_time": "2022-04-12T17:01:15.679Z"
   },
   {
    "duration": 144,
    "start_time": "2022-04-12T17:01:15.716Z"
   },
   {
    "duration": 0,
    "start_time": "2022-04-12T17:01:15.862Z"
   },
   {
    "duration": 0,
    "start_time": "2022-04-12T17:01:15.863Z"
   },
   {
    "duration": 0,
    "start_time": "2022-04-12T17:01:15.865Z"
   },
   {
    "duration": 60,
    "start_time": "2022-04-12T17:01:39.949Z"
   },
   {
    "duration": 37,
    "start_time": "2022-04-12T17:02:35.070Z"
   },
   {
    "duration": 131,
    "start_time": "2022-04-12T17:03:11.877Z"
   },
   {
    "duration": 58,
    "start_time": "2022-04-12T17:05:01.950Z"
   },
   {
    "duration": 110,
    "start_time": "2022-04-12T17:05:18.997Z"
   },
   {
    "duration": 6,
    "start_time": "2022-04-12T17:05:37.493Z"
   },
   {
    "duration": 5,
    "start_time": "2022-04-12T17:06:05.613Z"
   },
   {
    "duration": 6,
    "start_time": "2022-04-12T17:06:38.461Z"
   },
   {
    "duration": 230,
    "start_time": "2022-04-12T17:13:01.397Z"
   },
   {
    "duration": 10,
    "start_time": "2022-04-12T17:13:06.910Z"
   },
   {
    "duration": 5,
    "start_time": "2022-04-12T17:13:25.365Z"
   },
   {
    "duration": 8,
    "start_time": "2022-04-12T17:13:48.437Z"
   },
   {
    "duration": 1334,
    "start_time": "2022-04-12T17:14:12.257Z"
   },
   {
    "duration": 133,
    "start_time": "2022-04-12T17:14:13.593Z"
   },
   {
    "duration": 126,
    "start_time": "2022-04-12T17:14:13.728Z"
   },
   {
    "duration": 135,
    "start_time": "2022-04-12T17:14:13.855Z"
   },
   {
    "duration": 22,
    "start_time": "2022-04-12T17:14:13.992Z"
   },
   {
    "duration": 15,
    "start_time": "2022-04-12T17:14:14.016Z"
   },
   {
    "duration": 16,
    "start_time": "2022-04-12T17:14:14.033Z"
   },
   {
    "duration": 73,
    "start_time": "2022-04-12T17:14:14.051Z"
   },
   {
    "duration": 38,
    "start_time": "2022-04-12T17:14:14.126Z"
   },
   {
    "duration": 57,
    "start_time": "2022-04-12T17:14:14.167Z"
   },
   {
    "duration": 11,
    "start_time": "2022-04-12T17:14:14.226Z"
   },
   {
    "duration": 16,
    "start_time": "2022-04-12T17:14:14.239Z"
   },
   {
    "duration": 14,
    "start_time": "2022-04-12T17:14:14.257Z"
   },
   {
    "duration": 317,
    "start_time": "2022-04-12T17:14:14.274Z"
   },
   {
    "duration": 0,
    "start_time": "2022-04-12T17:14:14.593Z"
   },
   {
    "duration": 1,
    "start_time": "2022-04-12T17:14:14.594Z"
   },
   {
    "duration": 0,
    "start_time": "2022-04-12T17:14:14.607Z"
   },
   {
    "duration": 90,
    "start_time": "2022-04-12T17:17:20.019Z"
   },
   {
    "duration": 28,
    "start_time": "2022-04-12T17:17:32.027Z"
   },
   {
    "duration": 8,
    "start_time": "2022-04-12T17:17:35.547Z"
   },
   {
    "duration": 91,
    "start_time": "2022-04-12T17:18:13.715Z"
   },
   {
    "duration": 6,
    "start_time": "2022-04-12T17:18:17.539Z"
   },
   {
    "duration": 89,
    "start_time": "2022-04-12T17:18:41.419Z"
   },
   {
    "duration": 6,
    "start_time": "2022-04-12T17:18:44.155Z"
   },
   {
    "duration": 5,
    "start_time": "2022-04-12T17:18:57.515Z"
   },
   {
    "duration": 104,
    "start_time": "2022-04-12T17:23:50.107Z"
   },
   {
    "duration": 25,
    "start_time": "2022-04-12T17:25:38.147Z"
   },
   {
    "duration": 4,
    "start_time": "2022-04-12T17:25:43.179Z"
   },
   {
    "duration": 106,
    "start_time": "2022-04-12T17:25:52.507Z"
   },
   {
    "duration": 6,
    "start_time": "2022-04-12T17:25:54.843Z"
   },
   {
    "duration": 109,
    "start_time": "2022-04-12T17:29:03.603Z"
   },
   {
    "duration": 38,
    "start_time": "2022-04-12T17:30:32.979Z"
   },
   {
    "duration": 6,
    "start_time": "2022-04-12T17:30:35.803Z"
   },
   {
    "duration": 1299,
    "start_time": "2022-04-12T17:31:06.061Z"
   },
   {
    "duration": 133,
    "start_time": "2022-04-12T17:31:07.362Z"
   },
   {
    "duration": 122,
    "start_time": "2022-04-12T17:31:07.496Z"
   },
   {
    "duration": 124,
    "start_time": "2022-04-12T17:31:07.620Z"
   },
   {
    "duration": 15,
    "start_time": "2022-04-12T17:31:07.745Z"
   },
   {
    "duration": 14,
    "start_time": "2022-04-12T17:31:07.761Z"
   },
   {
    "duration": 35,
    "start_time": "2022-04-12T17:31:07.777Z"
   },
   {
    "duration": 38,
    "start_time": "2022-04-12T17:31:07.813Z"
   },
   {
    "duration": 55,
    "start_time": "2022-04-12T17:31:07.852Z"
   },
   {
    "duration": 37,
    "start_time": "2022-04-12T17:31:07.910Z"
   },
   {
    "duration": 11,
    "start_time": "2022-04-12T17:31:07.948Z"
   },
   {
    "duration": 14,
    "start_time": "2022-04-12T17:31:07.960Z"
   },
   {
    "duration": 35,
    "start_time": "2022-04-12T17:31:07.976Z"
   },
   {
    "duration": 103,
    "start_time": "2022-04-12T17:31:08.013Z"
   },
   {
    "duration": 6,
    "start_time": "2022-04-12T17:31:08.208Z"
   },
   {
    "duration": 119,
    "start_time": "2022-04-12T17:31:08.216Z"
   },
   {
    "duration": 0,
    "start_time": "2022-04-12T17:31:08.337Z"
   },
   {
    "duration": 132,
    "start_time": "2022-04-12T17:32:36.578Z"
   },
   {
    "duration": 5,
    "start_time": "2022-04-12T17:32:37.746Z"
   },
   {
    "duration": 29,
    "start_time": "2022-04-12T17:33:28.786Z"
   },
   {
    "duration": 4,
    "start_time": "2022-04-12T17:33:30.562Z"
   },
   {
    "duration": 88,
    "start_time": "2022-04-12T17:33:43.922Z"
   },
   {
    "duration": 6,
    "start_time": "2022-04-12T17:33:48.355Z"
   },
   {
    "duration": 213,
    "start_time": "2022-04-12T17:38:21.794Z"
   },
   {
    "duration": 5,
    "start_time": "2022-04-12T17:38:29.507Z"
   },
   {
    "duration": 55,
    "start_time": "2022-04-12T17:38:43.954Z"
   },
   {
    "duration": 7,
    "start_time": "2022-04-12T17:38:46.721Z"
   },
   {
    "duration": 29,
    "start_time": "2022-04-12T17:43:57.578Z"
   },
   {
    "duration": 6,
    "start_time": "2022-04-12T17:44:00.077Z"
   },
   {
    "duration": 1370,
    "start_time": "2022-04-12T17:44:10.404Z"
   },
   {
    "duration": 138,
    "start_time": "2022-04-12T17:44:11.776Z"
   },
   {
    "duration": 121,
    "start_time": "2022-04-12T17:44:11.915Z"
   },
   {
    "duration": 123,
    "start_time": "2022-04-12T17:44:12.037Z"
   },
   {
    "duration": 15,
    "start_time": "2022-04-12T17:44:12.162Z"
   },
   {
    "duration": 35,
    "start_time": "2022-04-12T17:44:12.178Z"
   },
   {
    "duration": 13,
    "start_time": "2022-04-12T17:44:12.215Z"
   },
   {
    "duration": 37,
    "start_time": "2022-04-12T17:44:12.230Z"
   },
   {
    "duration": 61,
    "start_time": "2022-04-12T17:44:12.268Z"
   },
   {
    "duration": 34,
    "start_time": "2022-04-12T17:44:12.331Z"
   },
   {
    "duration": 10,
    "start_time": "2022-04-12T17:44:12.367Z"
   },
   {
    "duration": 32,
    "start_time": "2022-04-12T17:44:12.379Z"
   },
   {
    "duration": 15,
    "start_time": "2022-04-12T17:44:12.413Z"
   },
   {
    "duration": 178,
    "start_time": "2022-04-12T17:44:12.431Z"
   },
   {
    "duration": 8,
    "start_time": "2022-04-12T17:44:12.610Z"
   },
   {
    "duration": 156,
    "start_time": "2022-04-12T17:44:12.619Z"
   },
   {
    "duration": 0,
    "start_time": "2022-04-12T17:44:12.777Z"
   },
   {
    "duration": 96,
    "start_time": "2022-04-12T17:45:38.515Z"
   },
   {
    "duration": 7,
    "start_time": "2022-04-12T17:45:39.818Z"
   },
   {
    "duration": 75,
    "start_time": "2022-04-12T17:46:37.034Z"
   },
   {
    "duration": 7,
    "start_time": "2022-04-12T17:46:38.090Z"
   },
   {
    "duration": 66,
    "start_time": "2022-04-12T17:46:50.443Z"
   },
   {
    "duration": 6,
    "start_time": "2022-04-12T17:46:51.803Z"
   },
   {
    "duration": 111,
    "start_time": "2022-04-12T17:47:35.698Z"
   },
   {
    "duration": 24,
    "start_time": "2022-04-12T17:47:43.506Z"
   },
   {
    "duration": 5,
    "start_time": "2022-04-12T17:47:45.098Z"
   },
   {
    "duration": 25,
    "start_time": "2022-04-12T17:48:05.186Z"
   },
   {
    "duration": 5,
    "start_time": "2022-04-12T17:48:07.095Z"
   },
   {
    "duration": 109,
    "start_time": "2022-04-12T17:48:12.403Z"
   },
   {
    "duration": 6,
    "start_time": "2022-04-12T17:48:13.579Z"
   },
   {
    "duration": 34,
    "start_time": "2022-04-12T17:48:42.179Z"
   },
   {
    "duration": 5,
    "start_time": "2022-04-12T17:48:43.275Z"
   },
   {
    "duration": 1346,
    "start_time": "2022-04-12T17:50:57.721Z"
   },
   {
    "duration": 138,
    "start_time": "2022-04-12T17:50:59.069Z"
   },
   {
    "duration": 123,
    "start_time": "2022-04-12T17:50:59.208Z"
   },
   {
    "duration": 124,
    "start_time": "2022-04-12T17:50:59.333Z"
   },
   {
    "duration": 17,
    "start_time": "2022-04-12T17:50:59.458Z"
   },
   {
    "duration": 32,
    "start_time": "2022-04-12T17:50:59.477Z"
   },
   {
    "duration": 15,
    "start_time": "2022-04-12T17:50:59.511Z"
   },
   {
    "duration": 39,
    "start_time": "2022-04-12T17:50:59.528Z"
   },
   {
    "duration": 67,
    "start_time": "2022-04-12T17:50:59.569Z"
   },
   {
    "duration": 35,
    "start_time": "2022-04-12T17:50:59.639Z"
   },
   {
    "duration": 11,
    "start_time": "2022-04-12T17:50:59.676Z"
   },
   {
    "duration": 13,
    "start_time": "2022-04-12T17:50:59.707Z"
   },
   {
    "duration": 14,
    "start_time": "2022-04-12T17:50:59.722Z"
   },
   {
    "duration": 79,
    "start_time": "2022-04-12T17:50:59.738Z"
   },
   {
    "duration": 6,
    "start_time": "2022-04-12T17:50:59.908Z"
   },
   {
    "duration": 115,
    "start_time": "2022-04-12T17:50:59.916Z"
   },
   {
    "duration": 0,
    "start_time": "2022-04-12T17:51:00.032Z"
   },
   {
    "duration": 55,
    "start_time": "2022-04-12T17:53:44.659Z"
   },
   {
    "duration": 9,
    "start_time": "2022-04-12T17:53:55.019Z"
   },
   {
    "duration": 104,
    "start_time": "2022-04-12T17:55:58.410Z"
   },
   {
    "duration": 39,
    "start_time": "2022-04-12T17:56:02.684Z"
   },
   {
    "duration": 9,
    "start_time": "2022-04-12T18:38:17.367Z"
   },
   {
    "duration": 3,
    "start_time": "2022-04-12T18:38:20.559Z"
   },
   {
    "duration": 5,
    "start_time": "2022-04-12T18:38:20.855Z"
   },
   {
    "duration": 2,
    "start_time": "2022-04-12T18:42:59.717Z"
   },
   {
    "duration": 4,
    "start_time": "2022-04-12T18:42:59.989Z"
   },
   {
    "duration": 3,
    "start_time": "2022-04-12T18:51:51.524Z"
   },
   {
    "duration": 3,
    "start_time": "2022-04-12T18:53:02.604Z"
   },
   {
    "duration": 1373,
    "start_time": "2022-04-12T19:53:12.507Z"
   },
   {
    "duration": 141,
    "start_time": "2022-04-12T19:53:13.882Z"
   },
   {
    "duration": 130,
    "start_time": "2022-04-12T19:53:14.027Z"
   },
   {
    "duration": 128,
    "start_time": "2022-04-12T19:53:14.159Z"
   },
   {
    "duration": 23,
    "start_time": "2022-04-12T19:53:14.289Z"
   },
   {
    "duration": 14,
    "start_time": "2022-04-12T19:53:14.314Z"
   },
   {
    "duration": 14,
    "start_time": "2022-04-12T19:53:14.330Z"
   },
   {
    "duration": 63,
    "start_time": "2022-04-12T19:53:14.345Z"
   },
   {
    "duration": 37,
    "start_time": "2022-04-12T19:53:14.410Z"
   },
   {
    "duration": 34,
    "start_time": "2022-04-12T19:53:14.448Z"
   },
   {
    "duration": 32,
    "start_time": "2022-04-12T19:53:14.484Z"
   },
   {
    "duration": 12,
    "start_time": "2022-04-12T19:53:14.518Z"
   },
   {
    "duration": 13,
    "start_time": "2022-04-12T19:53:14.533Z"
   },
   {
    "duration": 66,
    "start_time": "2022-04-12T19:53:14.548Z"
   },
   {
    "duration": 119,
    "start_time": "2022-04-12T19:53:14.616Z"
   },
   {
    "duration": 120,
    "start_time": "2022-04-12T19:53:14.807Z"
   },
   {
    "duration": 79,
    "start_time": "2022-04-12T19:53:14.929Z"
   },
   {
    "duration": 99,
    "start_time": "2022-04-12T19:53:15.010Z"
   },
   {
    "duration": 6,
    "start_time": "2022-04-12T19:59:18.606Z"
   },
   {
    "duration": 7,
    "start_time": "2022-04-12T19:59:45.782Z"
   },
   {
    "duration": 6,
    "start_time": "2022-04-12T20:00:20.590Z"
   },
   {
    "duration": 7,
    "start_time": "2022-04-12T20:00:44.638Z"
   },
   {
    "duration": 7,
    "start_time": "2022-04-12T20:05:42.647Z"
   },
   {
    "duration": 7,
    "start_time": "2022-04-12T20:06:42.310Z"
   },
   {
    "duration": 110,
    "start_time": "2022-04-12T20:44:08.416Z"
   },
   {
    "duration": 4,
    "start_time": "2022-04-12T20:45:05.208Z"
   },
   {
    "duration": 15,
    "start_time": "2022-04-12T20:45:10.904Z"
   },
   {
    "duration": 13,
    "start_time": "2022-04-12T20:50:02.318Z"
   },
   {
    "duration": 1545,
    "start_time": "2022-04-13T12:23:26.530Z"
   },
   {
    "duration": 126,
    "start_time": "2022-04-13T12:23:28.077Z"
   },
   {
    "duration": 119,
    "start_time": "2022-04-13T12:23:28.205Z"
   },
   {
    "duration": 111,
    "start_time": "2022-04-13T12:23:28.326Z"
   },
   {
    "duration": 15,
    "start_time": "2022-04-13T12:23:28.439Z"
   },
   {
    "duration": 13,
    "start_time": "2022-04-13T12:23:28.455Z"
   },
   {
    "duration": 13,
    "start_time": "2022-04-13T12:23:28.469Z"
   },
   {
    "duration": 60,
    "start_time": "2022-04-13T12:23:28.483Z"
   },
   {
    "duration": 32,
    "start_time": "2022-04-13T12:23:28.544Z"
   },
   {
    "duration": 52,
    "start_time": "2022-04-13T12:23:28.577Z"
   },
   {
    "duration": 9,
    "start_time": "2022-04-13T12:23:28.631Z"
   },
   {
    "duration": 12,
    "start_time": "2022-04-13T12:23:28.642Z"
   },
   {
    "duration": 14,
    "start_time": "2022-04-13T12:23:28.656Z"
   },
   {
    "duration": 53,
    "start_time": "2022-04-13T12:23:28.673Z"
   },
   {
    "duration": 199,
    "start_time": "2022-04-13T12:23:28.728Z"
   },
   {
    "duration": 115,
    "start_time": "2022-04-13T12:23:28.928Z"
   },
   {
    "duration": 79,
    "start_time": "2022-04-13T12:23:29.045Z"
   },
   {
    "duration": 98,
    "start_time": "2022-04-13T12:23:29.127Z"
   },
   {
    "duration": 4,
    "start_time": "2022-04-13T12:35:55.367Z"
   },
   {
    "duration": 163,
    "start_time": "2022-04-13T12:37:38.399Z"
   },
   {
    "duration": 3,
    "start_time": "2022-04-13T12:45:59.814Z"
   },
   {
    "duration": 18,
    "start_time": "2022-04-13T12:46:00.583Z"
   },
   {
    "duration": 7,
    "start_time": "2022-04-13T12:51:26.477Z"
   },
   {
    "duration": 8,
    "start_time": "2022-04-13T12:51:57.957Z"
   },
   {
    "duration": 7,
    "start_time": "2022-04-13T12:52:06.061Z"
   },
   {
    "duration": 3,
    "start_time": "2022-04-13T12:53:51.749Z"
   },
   {
    "duration": 6,
    "start_time": "2022-04-13T12:53:53.629Z"
   },
   {
    "duration": 6,
    "start_time": "2022-04-13T12:53:54.485Z"
   },
   {
    "duration": 6,
    "start_time": "2022-04-13T12:53:55.205Z"
   },
   {
    "duration": 3,
    "start_time": "2022-04-13T12:54:41.148Z"
   },
   {
    "duration": 6,
    "start_time": "2022-04-13T12:54:42.005Z"
   },
   {
    "duration": 6,
    "start_time": "2022-04-13T12:54:42.949Z"
   },
   {
    "duration": 3,
    "start_time": "2022-04-13T12:54:56.133Z"
   },
   {
    "duration": 6,
    "start_time": "2022-04-13T12:54:56.805Z"
   },
   {
    "duration": 6,
    "start_time": "2022-04-13T12:54:57.549Z"
   },
   {
    "duration": 6,
    "start_time": "2022-04-13T12:54:58.149Z"
   },
   {
    "duration": 3,
    "start_time": "2022-04-13T13:10:29.604Z"
   },
   {
    "duration": 6,
    "start_time": "2022-04-13T13:10:30.911Z"
   },
   {
    "duration": 5,
    "start_time": "2022-04-13T13:11:02.859Z"
   },
   {
    "duration": 5,
    "start_time": "2022-04-13T13:11:03.659Z"
   },
   {
    "duration": 3,
    "start_time": "2022-04-13T13:12:18.787Z"
   },
   {
    "duration": 6,
    "start_time": "2022-04-13T13:12:19.219Z"
   },
   {
    "duration": 6,
    "start_time": "2022-04-13T13:12:22.491Z"
   },
   {
    "duration": 6,
    "start_time": "2022-04-13T13:12:23.619Z"
   },
   {
    "duration": 3,
    "start_time": "2022-04-13T16:22:44.083Z"
   },
   {
    "duration": 7,
    "start_time": "2022-04-13T16:22:45.474Z"
   },
   {
    "duration": 10,
    "start_time": "2022-04-13T16:23:01.466Z"
   },
   {
    "duration": 98,
    "start_time": "2022-04-13T17:35:12.203Z"
   },
   {
    "duration": 7,
    "start_time": "2022-04-13T17:35:19.867Z"
   },
   {
    "duration": 7,
    "start_time": "2022-04-13T17:35:34.338Z"
   },
   {
    "duration": 7,
    "start_time": "2022-04-13T17:35:46.018Z"
   },
   {
    "duration": 1295,
    "start_time": "2022-04-13T17:36:17.481Z"
   },
   {
    "duration": 110,
    "start_time": "2022-04-13T17:36:18.778Z"
   },
   {
    "duration": 103,
    "start_time": "2022-04-13T17:36:18.889Z"
   },
   {
    "duration": 103,
    "start_time": "2022-04-13T17:36:18.993Z"
   },
   {
    "duration": 12,
    "start_time": "2022-04-13T17:36:19.098Z"
   },
   {
    "duration": 20,
    "start_time": "2022-04-13T17:36:19.111Z"
   },
   {
    "duration": 11,
    "start_time": "2022-04-13T17:36:19.132Z"
   },
   {
    "duration": 31,
    "start_time": "2022-04-13T17:36:19.144Z"
   },
   {
    "duration": 49,
    "start_time": "2022-04-13T17:36:19.177Z"
   },
   {
    "duration": 28,
    "start_time": "2022-04-13T17:36:19.228Z"
   },
   {
    "duration": 9,
    "start_time": "2022-04-13T17:36:19.257Z"
   },
   {
    "duration": 11,
    "start_time": "2022-04-13T17:36:19.267Z"
   },
   {
    "duration": 12,
    "start_time": "2022-04-13T17:36:19.279Z"
   },
   {
    "duration": 58,
    "start_time": "2022-04-13T17:36:19.293Z"
   },
   {
    "duration": 110,
    "start_time": "2022-04-13T17:36:19.425Z"
   },
   {
    "duration": 190,
    "start_time": "2022-04-13T17:36:19.537Z"
   },
   {
    "duration": 5,
    "start_time": "2022-04-13T17:36:19.728Z"
   },
   {
    "duration": 3,
    "start_time": "2022-04-13T17:36:19.825Z"
   },
   {
    "duration": 95,
    "start_time": "2022-04-13T17:36:19.829Z"
   },
   {
    "duration": 9,
    "start_time": "2022-04-13T17:36:19.926Z"
   },
   {
    "duration": 3,
    "start_time": "2022-04-13T17:36:33.797Z"
   },
   {
    "duration": 3,
    "start_time": "2022-04-13T17:36:57.925Z"
   },
   {
    "duration": 8,
    "start_time": "2022-04-13T17:36:59.118Z"
   },
   {
    "duration": 96,
    "start_time": "2022-04-13T18:49:56.864Z"
   },
   {
    "duration": 1266,
    "start_time": "2022-04-13T18:51:35.054Z"
   },
   {
    "duration": 121,
    "start_time": "2022-04-13T18:51:36.322Z"
   },
   {
    "duration": 110,
    "start_time": "2022-04-13T18:51:36.444Z"
   },
   {
    "duration": 116,
    "start_time": "2022-04-13T18:51:36.556Z"
   },
   {
    "duration": 14,
    "start_time": "2022-04-13T18:51:36.674Z"
   },
   {
    "duration": 35,
    "start_time": "2022-04-13T18:51:36.689Z"
   },
   {
    "duration": 18,
    "start_time": "2022-04-13T18:51:36.726Z"
   },
   {
    "duration": 46,
    "start_time": "2022-04-13T18:51:36.746Z"
   },
   {
    "duration": 53,
    "start_time": "2022-04-13T18:51:36.793Z"
   },
   {
    "duration": 29,
    "start_time": "2022-04-13T18:51:36.850Z"
   },
   {
    "duration": 9,
    "start_time": "2022-04-13T18:51:36.881Z"
   },
   {
    "duration": 34,
    "start_time": "2022-04-13T18:51:36.891Z"
   },
   {
    "duration": 11,
    "start_time": "2022-04-13T18:51:36.926Z"
   },
   {
    "duration": 90,
    "start_time": "2022-04-13T18:51:36.938Z"
   },
   {
    "duration": 114,
    "start_time": "2022-04-13T18:51:37.029Z"
   },
   {
    "duration": 188,
    "start_time": "2022-04-13T18:51:37.145Z"
   },
   {
    "duration": 4,
    "start_time": "2022-04-13T18:51:37.337Z"
   },
   {
    "duration": 103,
    "start_time": "2022-04-13T18:51:37.425Z"
   },
   {
    "duration": 3,
    "start_time": "2022-04-13T18:51:37.530Z"
   },
   {
    "duration": 10,
    "start_time": "2022-04-13T18:51:37.535Z"
   },
   {
    "duration": 122,
    "start_time": "2022-04-13T18:51:37.547Z"
   },
   {
    "duration": 15,
    "start_time": "2022-04-13T18:54:29.967Z"
   },
   {
    "duration": 3,
    "start_time": "2022-04-13T19:21:22.189Z"
   },
   {
    "duration": 17,
    "start_time": "2022-04-13T19:22:10.475Z"
   },
   {
    "duration": 5,
    "start_time": "2022-04-13T19:35:59.011Z"
   },
   {
    "duration": 20,
    "start_time": "2022-04-13T19:35:59.570Z"
   },
   {
    "duration": 4,
    "start_time": "2022-04-13T19:38:19.113Z"
   },
   {
    "duration": 5,
    "start_time": "2022-04-13T19:39:34.153Z"
   },
   {
    "duration": 19,
    "start_time": "2022-04-13T19:39:55.500Z"
   },
   {
    "duration": 1451,
    "start_time": "2022-04-13T19:40:31.401Z"
   },
   {
    "duration": 198,
    "start_time": "2022-04-13T19:40:32.855Z"
   },
   {
    "duration": 178,
    "start_time": "2022-04-13T19:40:33.056Z"
   },
   {
    "duration": 128,
    "start_time": "2022-04-13T19:40:33.238Z"
   },
   {
    "duration": 19,
    "start_time": "2022-04-13T19:40:33.368Z"
   },
   {
    "duration": 18,
    "start_time": "2022-04-13T19:40:33.388Z"
   },
   {
    "duration": 21,
    "start_time": "2022-04-13T19:40:33.424Z"
   },
   {
    "duration": 48,
    "start_time": "2022-04-13T19:40:33.448Z"
   },
   {
    "duration": 64,
    "start_time": "2022-04-13T19:40:33.498Z"
   },
   {
    "duration": 35,
    "start_time": "2022-04-13T19:40:33.565Z"
   },
   {
    "duration": 34,
    "start_time": "2022-04-13T19:40:33.602Z"
   },
   {
    "duration": 30,
    "start_time": "2022-04-13T19:40:33.638Z"
   },
   {
    "duration": 17,
    "start_time": "2022-04-13T19:40:33.670Z"
   },
   {
    "duration": 140,
    "start_time": "2022-04-13T19:40:33.689Z"
   },
   {
    "duration": 294,
    "start_time": "2022-04-13T19:40:33.833Z"
   },
   {
    "duration": 108,
    "start_time": "2022-04-13T19:40:34.130Z"
   },
   {
    "duration": 84,
    "start_time": "2022-04-13T19:40:34.241Z"
   },
   {
    "duration": 96,
    "start_time": "2022-04-13T19:40:34.328Z"
   },
   {
    "duration": 8,
    "start_time": "2022-04-13T19:40:34.427Z"
   },
   {
    "duration": 19,
    "start_time": "2022-04-13T19:40:34.437Z"
   },
   {
    "duration": 6,
    "start_time": "2022-04-13T19:40:34.459Z"
   },
   {
    "duration": 180,
    "start_time": "2022-04-13T19:40:34.468Z"
   },
   {
    "duration": 21,
    "start_time": "2022-04-13T19:44:41.587Z"
   },
   {
    "duration": 19,
    "start_time": "2022-04-13T19:45:02.634Z"
   },
   {
    "duration": 17,
    "start_time": "2022-04-13T19:46:15.961Z"
   },
   {
    "duration": 7,
    "start_time": "2022-04-13T19:46:38.081Z"
   },
   {
    "duration": 5,
    "start_time": "2022-04-13T19:47:14.824Z"
   },
   {
    "duration": 3,
    "start_time": "2022-04-13T19:49:31.304Z"
   },
   {
    "duration": 1426,
    "start_time": "2022-04-13T20:20:22.455Z"
   },
   {
    "duration": 126,
    "start_time": "2022-04-13T20:20:23.883Z"
   },
   {
    "duration": 116,
    "start_time": "2022-04-13T20:20:24.011Z"
   },
   {
    "duration": 116,
    "start_time": "2022-04-13T20:20:24.129Z"
   },
   {
    "duration": 15,
    "start_time": "2022-04-13T20:20:24.248Z"
   },
   {
    "duration": 14,
    "start_time": "2022-04-13T20:20:24.264Z"
   },
   {
    "duration": 11,
    "start_time": "2022-04-13T20:20:24.280Z"
   },
   {
    "duration": 61,
    "start_time": "2022-04-13T20:20:24.293Z"
   },
   {
    "duration": 32,
    "start_time": "2022-04-13T20:20:24.356Z"
   },
   {
    "duration": 48,
    "start_time": "2022-04-13T20:20:24.389Z"
   },
   {
    "duration": 10,
    "start_time": "2022-04-13T20:20:24.439Z"
   },
   {
    "duration": 16,
    "start_time": "2022-04-13T20:20:24.450Z"
   },
   {
    "duration": 13,
    "start_time": "2022-04-13T20:20:24.468Z"
   },
   {
    "duration": 55,
    "start_time": "2022-04-13T20:20:24.484Z"
   },
   {
    "duration": 6,
    "start_time": "2022-04-13T20:20:42.828Z"
   },
   {
    "duration": 6,
    "start_time": "2022-04-13T20:21:04.550Z"
   },
   {
    "duration": 299,
    "start_time": "2022-04-13T20:25:41.797Z"
   },
   {
    "duration": 53,
    "start_time": "2022-04-13T20:26:32.885Z"
   },
   {
    "duration": 4,
    "start_time": "2022-04-13T20:26:56.167Z"
   },
   {
    "duration": 111,
    "start_time": "2022-04-13T20:26:56.172Z"
   },
   {
    "duration": 106,
    "start_time": "2022-04-13T20:26:56.284Z"
   },
   {
    "duration": 107,
    "start_time": "2022-04-13T20:26:56.391Z"
   },
   {
    "duration": 12,
    "start_time": "2022-04-13T20:26:56.500Z"
   },
   {
    "duration": 20,
    "start_time": "2022-04-13T20:26:56.513Z"
   },
   {
    "duration": 12,
    "start_time": "2022-04-13T20:26:56.534Z"
   },
   {
    "duration": 31,
    "start_time": "2022-04-13T20:26:56.547Z"
   },
   {
    "duration": 62,
    "start_time": "2022-04-13T20:26:56.580Z"
   },
   {
    "duration": 30,
    "start_time": "2022-04-13T20:26:56.644Z"
   },
   {
    "duration": 9,
    "start_time": "2022-04-13T20:26:56.676Z"
   },
   {
    "duration": 38,
    "start_time": "2022-04-13T20:26:56.686Z"
   },
   {
    "duration": 12,
    "start_time": "2022-04-13T20:26:56.725Z"
   },
   {
    "duration": 86,
    "start_time": "2022-04-13T20:26:56.739Z"
   },
   {
    "duration": 12,
    "start_time": "2022-04-13T20:28:01.142Z"
   },
   {
    "duration": 7,
    "start_time": "2022-04-13T20:28:19.324Z"
   },
   {
    "duration": 4,
    "start_time": "2022-04-13T20:29:23.021Z"
   },
   {
    "duration": 22,
    "start_time": "2022-04-13T20:29:40.341Z"
   },
   {
    "duration": 5,
    "start_time": "2022-04-13T20:29:43.757Z"
   },
   {
    "duration": 4,
    "start_time": "2022-04-13T20:29:46.261Z"
   },
   {
    "duration": 26,
    "start_time": "2022-04-13T20:29:50.893Z"
   },
   {
    "duration": 25,
    "start_time": "2022-04-13T20:29:51.382Z"
   },
   {
    "duration": 2,
    "start_time": "2022-04-13T20:29:53.709Z"
   },
   {
    "duration": 3,
    "start_time": "2022-04-13T20:29:57.276Z"
   },
   {
    "duration": 3,
    "start_time": "2022-04-13T20:30:01.413Z"
   },
   {
    "duration": 8,
    "start_time": "2022-04-13T20:30:06.452Z"
   },
   {
    "duration": 21,
    "start_time": "2022-04-13T20:30:30.132Z"
   },
   {
    "duration": 6,
    "start_time": "2022-04-13T20:31:25.172Z"
   },
   {
    "duration": 7,
    "start_time": "2022-04-13T20:31:25.917Z"
   },
   {
    "duration": 3,
    "start_time": "2022-04-13T20:31:43.853Z"
   },
   {
    "duration": 7,
    "start_time": "2022-04-13T20:31:45.773Z"
   },
   {
    "duration": 7,
    "start_time": "2022-04-13T20:31:46.717Z"
   },
   {
    "duration": 8,
    "start_time": "2022-04-13T20:31:55.108Z"
   },
   {
    "duration": 1387,
    "start_time": "2022-04-13T20:44:40.381Z"
   },
   {
    "duration": 192,
    "start_time": "2022-04-13T20:44:41.771Z"
   },
   {
    "duration": 182,
    "start_time": "2022-04-13T20:44:41.965Z"
   },
   {
    "duration": 184,
    "start_time": "2022-04-13T20:44:42.149Z"
   },
   {
    "duration": 18,
    "start_time": "2022-04-13T20:44:42.335Z"
   },
   {
    "duration": 12,
    "start_time": "2022-04-13T20:44:42.355Z"
   },
   {
    "duration": 12,
    "start_time": "2022-04-13T20:44:42.368Z"
   },
   {
    "duration": 57,
    "start_time": "2022-04-13T20:44:42.381Z"
   },
   {
    "duration": 30,
    "start_time": "2022-04-13T20:44:42.440Z"
   },
   {
    "duration": 28,
    "start_time": "2022-04-13T20:44:42.472Z"
   },
   {
    "duration": 28,
    "start_time": "2022-04-13T20:44:42.501Z"
   },
   {
    "duration": 17,
    "start_time": "2022-04-13T20:44:42.530Z"
   },
   {
    "duration": 17,
    "start_time": "2022-04-13T20:44:42.549Z"
   },
   {
    "duration": 160,
    "start_time": "2022-04-13T20:44:42.568Z"
   },
   {
    "duration": 94,
    "start_time": "2022-04-13T20:44:42.730Z"
   },
   {
    "duration": 108,
    "start_time": "2022-04-13T20:44:42.826Z"
   },
   {
    "duration": 3,
    "start_time": "2022-04-13T20:44:42.936Z"
   },
   {
    "duration": 91,
    "start_time": "2022-04-13T20:44:42.941Z"
   },
   {
    "duration": 92,
    "start_time": "2022-04-13T20:44:43.033Z"
   },
   {
    "duration": 13,
    "start_time": "2022-04-13T20:44:43.127Z"
   },
   {
    "duration": 5,
    "start_time": "2022-04-13T20:44:43.142Z"
   },
   {
    "duration": 125,
    "start_time": "2022-04-13T20:44:43.149Z"
   },
   {
    "duration": 8,
    "start_time": "2022-04-13T20:47:58.900Z"
   },
   {
    "duration": 6,
    "start_time": "2022-04-13T20:55:51.405Z"
   },
   {
    "duration": 5,
    "start_time": "2022-04-13T20:56:10.971Z"
   },
   {
    "duration": 4,
    "start_time": "2022-04-13T21:01:06.698Z"
   },
   {
    "duration": 20,
    "start_time": "2022-04-13T21:01:16.731Z"
   },
   {
    "duration": 98,
    "start_time": "2022-04-13T21:02:43.306Z"
   },
   {
    "duration": 20,
    "start_time": "2022-04-13T21:02:56.379Z"
   },
   {
    "duration": 5,
    "start_time": "2022-04-13T21:03:25.130Z"
   },
   {
    "duration": 5,
    "start_time": "2022-04-13T21:03:40.738Z"
   },
   {
    "duration": 9,
    "start_time": "2022-04-13T21:09:13.058Z"
   },
   {
    "duration": 3,
    "start_time": "2022-04-13T21:09:17.554Z"
   },
   {
    "duration": 8,
    "start_time": "2022-04-13T21:09:18.811Z"
   },
   {
    "duration": 21,
    "start_time": "2022-04-13T21:09:42.946Z"
   },
   {
    "duration": 4,
    "start_time": "2022-04-13T21:14:49.122Z"
   },
   {
    "duration": 7,
    "start_time": "2022-04-13T21:14:50.290Z"
   },
   {
    "duration": 1246,
    "start_time": "2022-04-13T21:15:44.558Z"
   },
   {
    "duration": 114,
    "start_time": "2022-04-13T21:15:45.806Z"
   },
   {
    "duration": 105,
    "start_time": "2022-04-13T21:15:45.925Z"
   },
   {
    "duration": 104,
    "start_time": "2022-04-13T21:15:46.032Z"
   },
   {
    "duration": 14,
    "start_time": "2022-04-13T21:15:46.137Z"
   },
   {
    "duration": 12,
    "start_time": "2022-04-13T21:15:46.152Z"
   },
   {
    "duration": 12,
    "start_time": "2022-04-13T21:15:46.165Z"
   },
   {
    "duration": 61,
    "start_time": "2022-04-13T21:15:46.178Z"
   },
   {
    "duration": 29,
    "start_time": "2022-04-13T21:15:46.240Z"
   },
   {
    "duration": 30,
    "start_time": "2022-04-13T21:15:46.271Z"
   },
   {
    "duration": 28,
    "start_time": "2022-04-13T21:15:46.302Z"
   },
   {
    "duration": 12,
    "start_time": "2022-04-13T21:15:46.332Z"
   },
   {
    "duration": 12,
    "start_time": "2022-04-13T21:15:46.346Z"
   },
   {
    "duration": 73,
    "start_time": "2022-04-13T21:15:46.360Z"
   },
   {
    "duration": 112,
    "start_time": "2022-04-13T21:15:46.435Z"
   },
   {
    "duration": 116,
    "start_time": "2022-04-13T21:15:46.623Z"
   },
   {
    "duration": 2,
    "start_time": "2022-04-13T21:15:46.741Z"
   },
   {
    "duration": 9,
    "start_time": "2022-04-13T21:15:46.823Z"
   },
   {
    "duration": 5,
    "start_time": "2022-04-13T21:15:46.924Z"
   },
   {
    "duration": 99,
    "start_time": "2022-04-13T21:15:46.931Z"
   },
   {
    "duration": 0,
    "start_time": "2022-04-13T21:15:47.031Z"
   },
   {
    "duration": 0,
    "start_time": "2022-04-13T21:15:47.032Z"
   },
   {
    "duration": 0,
    "start_time": "2022-04-13T21:15:47.033Z"
   },
   {
    "duration": 8,
    "start_time": "2022-04-13T21:16:33.724Z"
   },
   {
    "duration": 8,
    "start_time": "2022-04-13T21:16:54.707Z"
   },
   {
    "duration": 89,
    "start_time": "2022-04-13T21:17:43.115Z"
   },
   {
    "duration": 3,
    "start_time": "2022-04-13T21:17:51.644Z"
   },
   {
    "duration": 15,
    "start_time": "2022-04-13T21:17:59.677Z"
   },
   {
    "duration": 3,
    "start_time": "2022-04-13T21:18:09.491Z"
   },
   {
    "duration": 8,
    "start_time": "2022-04-13T21:18:11.947Z"
   },
   {
    "duration": 1153,
    "start_time": "2022-04-13T21:21:27.979Z"
   },
   {
    "duration": 92,
    "start_time": "2022-04-13T21:25:39.227Z"
   },
   {
    "duration": 11,
    "start_time": "2022-04-13T21:26:30.794Z"
   },
   {
    "duration": 1010,
    "start_time": "2022-04-13T21:28:04.059Z"
   },
   {
    "duration": 1019,
    "start_time": "2022-04-13T21:28:25.372Z"
   },
   {
    "duration": 1674,
    "start_time": "2022-04-13T21:28:53.771Z"
   },
   {
    "duration": 1231,
    "start_time": "2022-04-13T21:29:37.780Z"
   },
   {
    "duration": 1069,
    "start_time": "2022-04-13T21:29:41.757Z"
   },
   {
    "duration": 1044,
    "start_time": "2022-04-13T21:29:45.116Z"
   },
   {
    "duration": 1021,
    "start_time": "2022-04-13T21:30:54.396Z"
   },
   {
    "duration": 992,
    "start_time": "2022-04-13T21:31:16.852Z"
   },
   {
    "duration": 981,
    "start_time": "2022-04-13T21:31:26.572Z"
   },
   {
    "duration": 1005,
    "start_time": "2022-04-13T21:31:32.404Z"
   },
   {
    "duration": 1007,
    "start_time": "2022-04-13T21:31:54.443Z"
   },
   {
    "duration": 1429,
    "start_time": "2022-04-13T21:32:31.876Z"
   },
   {
    "duration": 1415,
    "start_time": "2022-04-13T21:37:13.451Z"
   },
   {
    "duration": 1368,
    "start_time": "2022-04-13T21:37:16.444Z"
   },
   {
    "duration": 1411,
    "start_time": "2022-04-13T21:37:18.547Z"
   },
   {
    "duration": 4,
    "start_time": "2022-04-13T21:42:17.402Z"
   },
   {
    "duration": 1403,
    "start_time": "2022-04-13T21:44:33.610Z"
   },
   {
    "duration": 1439,
    "start_time": "2022-04-13T21:44:38.796Z"
   },
   {
    "duration": 1396,
    "start_time": "2022-04-13T21:44:45.475Z"
   },
   {
    "duration": 3,
    "start_time": "2022-04-13T22:52:44.113Z"
   },
   {
    "duration": 982,
    "start_time": "2022-04-13T22:58:15.792Z"
   },
   {
    "duration": 999,
    "start_time": "2022-04-13T22:58:36.106Z"
   },
   {
    "duration": 1003,
    "start_time": "2022-04-13T22:58:44.632Z"
   },
   {
    "duration": 1001,
    "start_time": "2022-04-13T23:10:53.536Z"
   },
   {
    "duration": 1032,
    "start_time": "2022-04-13T23:11:03.576Z"
   },
   {
    "duration": 5,
    "start_time": "2022-04-13T23:15:01.632Z"
   },
   {
    "duration": 8,
    "start_time": "2022-04-13T23:15:30.336Z"
   },
   {
    "duration": 6,
    "start_time": "2022-04-13T23:15:51.120Z"
   },
   {
    "duration": 4,
    "start_time": "2022-04-13T23:15:58.873Z"
   },
   {
    "duration": 5,
    "start_time": "2022-04-13T23:16:23.192Z"
   },
   {
    "duration": 5,
    "start_time": "2022-04-13T23:16:44.303Z"
   },
   {
    "duration": 6,
    "start_time": "2022-04-13T23:16:53.368Z"
   },
   {
    "duration": 4,
    "start_time": "2022-04-13T23:17:14.048Z"
   },
   {
    "duration": 97,
    "start_time": "2022-04-13T23:18:52.976Z"
   },
   {
    "duration": 1019,
    "start_time": "2022-04-13T23:19:00.392Z"
   },
   {
    "duration": 1052,
    "start_time": "2022-04-13T23:19:14.136Z"
   },
   {
    "duration": 95,
    "start_time": "2022-04-13T23:21:09.543Z"
   },
   {
    "duration": 993,
    "start_time": "2022-04-13T23:21:52.640Z"
   },
   {
    "duration": 990,
    "start_time": "2022-04-13T23:23:36.256Z"
   },
   {
    "duration": 1223,
    "start_time": "2022-04-13T23:26:40.461Z"
   },
   {
    "duration": 112,
    "start_time": "2022-04-13T23:26:41.686Z"
   },
   {
    "duration": 105,
    "start_time": "2022-04-13T23:26:41.800Z"
   },
   {
    "duration": 106,
    "start_time": "2022-04-13T23:26:41.907Z"
   },
   {
    "duration": 20,
    "start_time": "2022-04-13T23:26:42.015Z"
   },
   {
    "duration": 13,
    "start_time": "2022-04-13T23:26:42.037Z"
   },
   {
    "duration": 13,
    "start_time": "2022-04-13T23:26:42.052Z"
   },
   {
    "duration": 62,
    "start_time": "2022-04-13T23:26:42.067Z"
   },
   {
    "duration": 31,
    "start_time": "2022-04-13T23:26:42.131Z"
   },
   {
    "duration": 29,
    "start_time": "2022-04-13T23:26:42.165Z"
   },
   {
    "duration": 29,
    "start_time": "2022-04-13T23:26:42.196Z"
   },
   {
    "duration": 12,
    "start_time": "2022-04-13T23:26:42.227Z"
   },
   {
    "duration": 11,
    "start_time": "2022-04-13T23:26:42.241Z"
   },
   {
    "duration": 71,
    "start_time": "2022-04-13T23:26:42.254Z"
   },
   {
    "duration": 114,
    "start_time": "2022-04-13T23:26:42.328Z"
   },
   {
    "duration": 191,
    "start_time": "2022-04-13T23:26:42.443Z"
   },
   {
    "duration": 3,
    "start_time": "2022-04-13T23:26:42.637Z"
   },
   {
    "duration": 100,
    "start_time": "2022-04-13T23:26:42.727Z"
   },
   {
    "duration": 7,
    "start_time": "2022-04-13T23:26:42.829Z"
   },
   {
    "duration": 11,
    "start_time": "2022-04-13T23:26:42.837Z"
   },
   {
    "duration": 1006,
    "start_time": "2022-04-13T23:26:42.849Z"
   },
   {
    "duration": 970,
    "start_time": "2022-04-13T23:26:43.856Z"
   },
   {
    "duration": 1096,
    "start_time": "2022-04-13T23:26:44.828Z"
   },
   {
    "duration": 97,
    "start_time": "2022-04-13T23:26:45.926Z"
   },
   {
    "duration": 3,
    "start_time": "2022-04-13T23:30:32.939Z"
   },
   {
    "duration": 3,
    "start_time": "2022-04-13T23:30:37.004Z"
   },
   {
    "duration": 1265,
    "start_time": "2022-04-13T23:45:27.025Z"
   },
   {
    "duration": 116,
    "start_time": "2022-04-13T23:45:28.292Z"
   },
   {
    "duration": 105,
    "start_time": "2022-04-13T23:45:28.410Z"
   },
   {
    "duration": 106,
    "start_time": "2022-04-13T23:45:28.517Z"
   },
   {
    "duration": 15,
    "start_time": "2022-04-13T23:45:28.624Z"
   },
   {
    "duration": 13,
    "start_time": "2022-04-13T23:45:28.641Z"
   },
   {
    "duration": 13,
    "start_time": "2022-04-13T23:45:28.655Z"
   },
   {
    "duration": 61,
    "start_time": "2022-04-13T23:45:28.670Z"
   },
   {
    "duration": 30,
    "start_time": "2022-04-13T23:45:28.733Z"
   },
   {
    "duration": 29,
    "start_time": "2022-04-13T23:45:28.766Z"
   },
   {
    "duration": 33,
    "start_time": "2022-04-13T23:45:28.797Z"
   },
   {
    "duration": 15,
    "start_time": "2022-04-13T23:45:28.831Z"
   },
   {
    "duration": 13,
    "start_time": "2022-04-13T23:45:28.847Z"
   },
   {
    "duration": 68,
    "start_time": "2022-04-13T23:45:28.861Z"
   },
   {
    "duration": 117,
    "start_time": "2022-04-13T23:45:28.931Z"
   },
   {
    "duration": 115,
    "start_time": "2022-04-13T23:45:29.123Z"
   },
   {
    "duration": 3,
    "start_time": "2022-04-13T23:45:29.239Z"
   },
   {
    "duration": 101,
    "start_time": "2022-04-13T23:45:29.325Z"
   },
   {
    "duration": 6,
    "start_time": "2022-04-13T23:45:29.427Z"
   },
   {
    "duration": 11,
    "start_time": "2022-04-13T23:45:29.434Z"
   },
   {
    "duration": 1026,
    "start_time": "2022-04-13T23:45:29.446Z"
   },
   {
    "duration": 992,
    "start_time": "2022-04-13T23:45:30.473Z"
   },
   {
    "duration": 977,
    "start_time": "2022-04-13T23:45:31.466Z"
   },
   {
    "duration": 1301,
    "start_time": "2022-04-13T23:54:43.917Z"
   },
   {
    "duration": 129,
    "start_time": "2022-04-13T23:54:45.220Z"
   },
   {
    "duration": 111,
    "start_time": "2022-04-13T23:54:45.351Z"
   },
   {
    "duration": 112,
    "start_time": "2022-04-13T23:54:45.464Z"
   },
   {
    "duration": 13,
    "start_time": "2022-04-13T23:54:45.578Z"
   },
   {
    "duration": 13,
    "start_time": "2022-04-13T23:54:45.592Z"
   },
   {
    "duration": 29,
    "start_time": "2022-04-13T23:54:45.606Z"
   },
   {
    "duration": 31,
    "start_time": "2022-04-13T23:54:45.637Z"
   },
   {
    "duration": 29,
    "start_time": "2022-04-13T23:54:45.669Z"
   },
   {
    "duration": 31,
    "start_time": "2022-04-13T23:54:45.725Z"
   },
   {
    "duration": 9,
    "start_time": "2022-04-13T23:54:45.757Z"
   },
   {
    "duration": 12,
    "start_time": "2022-04-13T23:54:45.767Z"
   },
   {
    "duration": 13,
    "start_time": "2022-04-13T23:54:45.781Z"
   },
   {
    "duration": 52,
    "start_time": "2022-04-13T23:54:45.796Z"
   },
   {
    "duration": 114,
    "start_time": "2022-04-13T23:54:45.925Z"
   },
   {
    "duration": 192,
    "start_time": "2022-04-13T23:54:46.041Z"
   },
   {
    "duration": 3,
    "start_time": "2022-04-13T23:54:46.235Z"
   },
   {
    "duration": 86,
    "start_time": "2022-04-13T23:54:46.240Z"
   },
   {
    "duration": 97,
    "start_time": "2022-04-13T23:54:46.328Z"
   },
   {
    "duration": 11,
    "start_time": "2022-04-13T23:54:46.427Z"
   },
   {
    "duration": 1030,
    "start_time": "2022-04-13T23:54:46.440Z"
   },
   {
    "duration": 1007,
    "start_time": "2022-04-13T23:54:47.472Z"
   },
   {
    "duration": 988,
    "start_time": "2022-04-13T23:54:48.480Z"
   },
   {
    "duration": 1619,
    "start_time": "2022-04-17T12:50:27.409Z"
   },
   {
    "duration": 169,
    "start_time": "2022-04-17T12:50:29.031Z"
   },
   {
    "duration": 182,
    "start_time": "2022-04-17T12:50:29.201Z"
   },
   {
    "duration": 128,
    "start_time": "2022-04-17T12:50:29.385Z"
   },
   {
    "duration": 19,
    "start_time": "2022-04-17T12:50:29.516Z"
   },
   {
    "duration": 15,
    "start_time": "2022-04-17T12:50:29.537Z"
   },
   {
    "duration": 22,
    "start_time": "2022-04-17T12:50:29.554Z"
   },
   {
    "duration": 41,
    "start_time": "2022-04-17T12:50:29.607Z"
   },
   {
    "duration": 37,
    "start_time": "2022-04-17T12:50:29.650Z"
   },
   {
    "duration": 54,
    "start_time": "2022-04-17T12:50:29.689Z"
   },
   {
    "duration": 12,
    "start_time": "2022-04-17T12:50:29.745Z"
   },
   {
    "duration": 14,
    "start_time": "2022-04-17T12:50:29.759Z"
   },
   {
    "duration": 39,
    "start_time": "2022-04-17T12:50:29.775Z"
   },
   {
    "duration": 95,
    "start_time": "2022-04-17T12:50:29.817Z"
   },
   {
    "duration": 119,
    "start_time": "2022-04-17T12:50:29.915Z"
   },
   {
    "duration": 116,
    "start_time": "2022-04-17T12:50:30.110Z"
   },
   {
    "duration": 82,
    "start_time": "2022-04-17T12:50:30.228Z"
   },
   {
    "duration": 103,
    "start_time": "2022-04-17T12:50:30.313Z"
   },
   {
    "duration": 13,
    "start_time": "2022-04-17T12:50:30.418Z"
   },
   {
    "duration": 137,
    "start_time": "2022-04-17T12:50:30.433Z"
   },
   {
    "duration": 0,
    "start_time": "2022-04-17T12:50:30.572Z"
   },
   {
    "duration": 0,
    "start_time": "2022-04-17T12:50:30.575Z"
   },
   {
    "duration": 0,
    "start_time": "2022-04-17T12:50:30.576Z"
   },
   {
    "duration": 9,
    "start_time": "2022-04-17T12:51:03.436Z"
   },
   {
    "duration": 12,
    "start_time": "2022-04-17T12:51:15.644Z"
   },
   {
    "duration": 13,
    "start_time": "2022-04-17T12:51:39.940Z"
   },
   {
    "duration": 1205,
    "start_time": "2022-04-17T12:52:01.460Z"
   },
   {
    "duration": 1200,
    "start_time": "2022-04-17T12:52:17.628Z"
   },
   {
    "duration": 1146,
    "start_time": "2022-04-17T12:52:37.539Z"
   },
   {
    "duration": 1153,
    "start_time": "2022-04-17T13:11:39.827Z"
   },
   {
    "duration": 1143,
    "start_time": "2022-04-17T13:12:46.796Z"
   },
   {
    "duration": 1182,
    "start_time": "2022-04-17T13:13:02.297Z"
   },
   {
    "duration": 1242,
    "start_time": "2022-04-17T13:15:33.683Z"
   },
   {
    "duration": 1172,
    "start_time": "2022-04-17T13:17:38.875Z"
   },
   {
    "duration": 1385,
    "start_time": "2022-04-17T13:35:40.091Z"
   },
   {
    "duration": 134,
    "start_time": "2022-04-17T13:35:41.478Z"
   },
   {
    "duration": 117,
    "start_time": "2022-04-17T13:35:41.614Z"
   },
   {
    "duration": 115,
    "start_time": "2022-04-17T13:35:41.733Z"
   },
   {
    "duration": 14,
    "start_time": "2022-04-17T13:35:41.850Z"
   },
   {
    "duration": 13,
    "start_time": "2022-04-17T13:35:41.865Z"
   },
   {
    "duration": 37,
    "start_time": "2022-04-17T13:35:41.880Z"
   },
   {
    "duration": 35,
    "start_time": "2022-04-17T13:35:41.918Z"
   },
   {
    "duration": 53,
    "start_time": "2022-04-17T13:35:41.955Z"
   },
   {
    "duration": 34,
    "start_time": "2022-04-17T13:35:42.012Z"
   },
   {
    "duration": 11,
    "start_time": "2022-04-17T13:35:42.048Z"
   },
   {
    "duration": 14,
    "start_time": "2022-04-17T13:35:42.061Z"
   },
   {
    "duration": 39,
    "start_time": "2022-04-17T13:35:42.077Z"
   },
   {
    "duration": 98,
    "start_time": "2022-04-17T13:35:42.118Z"
   },
   {
    "duration": 101,
    "start_time": "2022-04-17T13:35:42.307Z"
   },
   {
    "duration": 124,
    "start_time": "2022-04-17T13:35:42.411Z"
   },
   {
    "duration": 71,
    "start_time": "2022-04-17T13:35:42.537Z"
   },
   {
    "duration": 97,
    "start_time": "2022-04-17T13:35:42.611Z"
   },
   {
    "duration": 4,
    "start_time": "2022-04-17T13:35:42.711Z"
   },
   {
    "duration": 11,
    "start_time": "2022-04-17T13:35:42.717Z"
   },
   {
    "duration": 1259,
    "start_time": "2022-04-17T13:35:42.729Z"
   },
   {
    "duration": 1224,
    "start_time": "2022-04-17T13:35:43.989Z"
   },
   {
    "duration": 1184,
    "start_time": "2022-04-17T13:35:45.215Z"
   },
   {
    "duration": 1728,
    "start_time": "2022-04-17T13:50:02.917Z"
   },
   {
    "duration": 245,
    "start_time": "2022-04-17T13:50:04.647Z"
   },
   {
    "duration": 328,
    "start_time": "2022-04-17T13:50:04.895Z"
   },
   {
    "duration": 400,
    "start_time": "2022-04-17T13:50:05.226Z"
   },
   {
    "duration": 16,
    "start_time": "2022-04-17T13:50:05.627Z"
   },
   {
    "duration": 13,
    "start_time": "2022-04-17T13:50:05.644Z"
   },
   {
    "duration": 14,
    "start_time": "2022-04-17T13:50:05.659Z"
   },
   {
    "duration": 59,
    "start_time": "2022-04-17T13:50:05.674Z"
   },
   {
    "duration": 35,
    "start_time": "2022-04-17T13:50:05.735Z"
   },
   {
    "duration": 59,
    "start_time": "2022-04-17T13:50:05.773Z"
   },
   {
    "duration": 11,
    "start_time": "2022-04-17T13:50:05.833Z"
   },
   {
    "duration": 15,
    "start_time": "2022-04-17T13:50:05.845Z"
   },
   {
    "duration": 19,
    "start_time": "2022-04-17T13:50:05.861Z"
   },
   {
    "duration": 56,
    "start_time": "2022-04-17T13:50:05.882Z"
   },
   {
    "duration": 179,
    "start_time": "2022-04-17T13:50:05.940Z"
   },
   {
    "duration": 211,
    "start_time": "2022-04-17T13:50:06.121Z"
   },
   {
    "duration": 91,
    "start_time": "2022-04-17T13:50:06.335Z"
   },
   {
    "duration": 81,
    "start_time": "2022-04-17T13:50:06.432Z"
   },
   {
    "duration": 8,
    "start_time": "2022-04-17T13:50:06.515Z"
   },
   {
    "duration": 14,
    "start_time": "2022-04-17T13:50:06.525Z"
   },
   {
    "duration": 1322,
    "start_time": "2022-04-17T13:50:06.541Z"
   },
   {
    "duration": 1277,
    "start_time": "2022-04-17T13:50:07.864Z"
   },
   {
    "duration": 1317,
    "start_time": "2022-04-17T13:50:09.143Z"
   }
  ],
  "kernelspec": {
   "display_name": "Python 3 (ipykernel)",
   "language": "python",
   "name": "python3"
  },
  "language_info": {
   "codemirror_mode": {
    "name": "ipython",
    "version": 3
   },
   "file_extension": ".py",
   "mimetype": "text/x-python",
   "name": "python",
   "nbconvert_exporter": "python",
   "pygments_lexer": "ipython3",
   "version": "3.9.7"
  },
  "toc": {
   "base_numbering": 1,
   "nav_menu": {},
   "number_sections": true,
   "sideBar": true,
   "skip_h1_title": true,
   "title_cell": "Table of Contents",
   "title_sidebar": "Contents",
   "toc_cell": false,
   "toc_position": {
    "height": "calc(100% - 180px)",
    "left": "10px",
    "top": "150px",
    "width": "411.15px"
   },
   "toc_section_display": true,
   "toc_window_display": true
  }
 },
 "nbformat": 4,
 "nbformat_minor": 2
}
