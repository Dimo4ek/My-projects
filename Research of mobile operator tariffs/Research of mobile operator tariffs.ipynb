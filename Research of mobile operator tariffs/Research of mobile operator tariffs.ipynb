{
 "cells": [
  {
   "cell_type": "markdown",
   "metadata": {
    "toc": true
   },
   "source": [
    "<h1>Содержание<span class=\"tocSkip\"></span></h1>\n",
    "<div class=\"toc\"><ul class=\"toc-item\"><li><span><a href=\"#Изучение-данных-из-файлов\" data-toc-modified-id=\"Изучение-данных-из-файлов-1\"><span class=\"toc-item-num\">1&nbsp;&nbsp;</span>Изучение данных из файлов</a></span><ul class=\"toc-item\"><li><span><a href=\"#Вывод\" data-toc-modified-id=\"Вывод-1.1\"><span class=\"toc-item-num\">1.1&nbsp;&nbsp;</span>Вывод</a></span></li></ul></li><li><span><a href=\"#Предобработка-данных\" data-toc-modified-id=\"Предобработка-данных-2\"><span class=\"toc-item-num\">2&nbsp;&nbsp;</span>Предобработка данных</a></span><ul class=\"toc-item\"><li><span><a href=\"#Стиль-заголовков\" data-toc-modified-id=\"Стиль-заголовков-2.1\"><span class=\"toc-item-num\">2.1&nbsp;&nbsp;</span>Стиль заголовков</a></span></li><li><span><a href=\"#Приведём-данные-к-нужным-типам\" data-toc-modified-id=\"Приведём-данные-к-нужным-типам-2.2\"><span class=\"toc-item-num\">2.2&nbsp;&nbsp;</span>Приведём данные к нужным типам</a></span></li><li><span><a href=\"#Найдём-и-исправим-ошибки-в-данных\" data-toc-modified-id=\"Найдём-и-исправим-ошибки-в-данных-2.3\"><span class=\"toc-item-num\">2.3&nbsp;&nbsp;</span>Найдём и исправим ошибки в данных</a></span></li><li><span><a href=\"#Произведём-рассчёты-для-каждого-пользователя\" data-toc-modified-id=\"Произведём-рассчёты-для-каждого-пользователя-2.4\"><span class=\"toc-item-num\">2.4&nbsp;&nbsp;</span>Произведём рассчёты для каждого пользователя</a></span><ul class=\"toc-item\"><li><span><a href=\"#Посчитаем-количество-сделанных-звонков-и-израсходованных-минут-разговора-по-месяцам\" data-toc-modified-id=\"Посчитаем-количество-сделанных-звонков-и-израсходованных-минут-разговора-по-месяцам-2.4.1\"><span class=\"toc-item-num\">2.4.1&nbsp;&nbsp;</span>Посчитаем количество сделанных звонков и израсходованных минут разговора по месяцам</a></span></li><li><span><a href=\"#Посчитаем-количество-отправленных-сообщений-по-месяцам\" data-toc-modified-id=\"Посчитаем-количество-отправленных-сообщений-по-месяцам-2.4.2\"><span class=\"toc-item-num\">2.4.2&nbsp;&nbsp;</span>Посчитаем количество отправленных сообщений по месяцам</a></span></li><li><span><a href=\"#Посчитаем-объем-израсходованного-интернет-трафика-по-месяцам\" data-toc-modified-id=\"Посчитаем-объем-израсходованного-интернет-трафика-по-месяцам-2.4.3\"><span class=\"toc-item-num\">2.4.3&nbsp;&nbsp;</span>Посчитаем объем израсходованного интернет-трафика по месяцам</a></span></li><li><span><a href=\"#Посчитаем-помесячную-выручку-с-каждого-пользователя\" data-toc-modified-id=\"Посчитаем-помесячную-выручку-с-каждого-пользователя-2.4.4\"><span class=\"toc-item-num\">2.4.4&nbsp;&nbsp;</span>Посчитаем помесячную выручку с каждого пользователя</a></span></li></ul></li></ul></li><li><span><a href=\"#Анализ--данных\" data-toc-modified-id=\"Анализ--данных-3\"><span class=\"toc-item-num\">3&nbsp;&nbsp;</span>Анализ  данных</a></span><ul class=\"toc-item\"><li><span><a href=\"#Считаем-среднее-количество,-дисперсию-и-стандартное-отклонение-для-минут-разговора,-числа-сообщений-и-объёму-интернета-по-каждому-тарифу-в-месяц\" data-toc-modified-id=\"Считаем-среднее-количество,-дисперсию-и-стандартное-отклонение-для-минут-разговора,-числа-сообщений-и-объёму-интернета-по-каждому-тарифу-в-месяц-3.1\"><span class=\"toc-item-num\">3.1&nbsp;&nbsp;</span>Считаем среднее количество, дисперсию и стандартное отклонение для минут разговора, числа сообщений и объёму интернета по каждому тарифу в месяц</a></span></li><li><span><a href=\"#Построим-гистограммы-для-исходных-данных-выбоки\" data-toc-modified-id=\"Построим-гистограммы-для-исходных-данных-выбоки-3.2\"><span class=\"toc-item-num\">3.2&nbsp;&nbsp;</span>Построим гистограммы для исходных данных выбоки</a></span><ul class=\"toc-item\"><li><span><a href=\"#Построим-гистограммы-для-исходных-данных-выбоки-по-звонкам\" data-toc-modified-id=\"Построим-гистограммы-для-исходных-данных-выбоки-по-звонкам-3.2.1\"><span class=\"toc-item-num\">3.2.1&nbsp;&nbsp;</span>Построим гистограммы для исходных данных выбоки по звонкам</a></span></li><li><span><a href=\"#Построим-гистограммы-для-исходных-данных-выбоки-по-сообщениям\" data-toc-modified-id=\"Построим-гистограммы-для-исходных-данных-выбоки-по-сообщениям-3.2.2\"><span class=\"toc-item-num\">3.2.2&nbsp;&nbsp;</span>Построим гистограммы для исходных данных выбоки по сообщениям</a></span></li><li><span><a href=\"#Построим-гистограммы-для-исходных-данных-выбоки-по-интернету\" data-toc-modified-id=\"Построим-гистограммы-для-исходных-данных-выбоки-по-интернету-3.2.3\"><span class=\"toc-item-num\">3.2.3&nbsp;&nbsp;</span>Построим гистограммы для исходных данных выбоки по интернету</a></span></li></ul></li></ul></li><li><span><a href=\"#Проверка-гипотез\" data-toc-modified-id=\"Проверка-гипотез-4\"><span class=\"toc-item-num\">4&nbsp;&nbsp;</span>Проверка гипотез</a></span><ul class=\"toc-item\"><li><span><a href=\"#Проверим-гипотезу,-что-средняя-выручка-пользователей-тарифов-«Ультра»-и-«Смарт»-различаются\" data-toc-modified-id=\"Проверим-гипотезу,-что-средняя-выручка-пользователей-тарифов-«Ультра»-и-«Смарт»-различаются-4.1\"><span class=\"toc-item-num\">4.1&nbsp;&nbsp;</span>Проверим гипотезу, что средняя выручка пользователей тарифов «Ультра» и «Смарт» различаются</a></span></li><li><span><a href=\"#Проверим-гипотезу,-что-средняя-выручка-пользователей-из-Москвы-отличается-от-выручки-пользователей-из-других-регионов\" data-toc-modified-id=\"Проверим-гипотезу,-что-средняя-выручка-пользователей-из-Москвы-отличается-от-выручки-пользователей-из-других-регионов-4.2\"><span class=\"toc-item-num\">4.2&nbsp;&nbsp;</span>Проверим гипотезу, что средняя выручка пользователей из Москвы отличается от выручки пользователей из других регионов</a></span></li></ul></li><li><span><a href=\"#Общий-вывод\" data-toc-modified-id=\"Общий-вывод-5\"><span class=\"toc-item-num\">5&nbsp;&nbsp;</span>Общий вывод</a></span></li></ul></div>"
   ]
  },
  {
   "cell_type": "markdown",
   "metadata": {},
   "source": [
    "# Исследование тарифов оператора сотовой связи\n",
    "\n",
    "Оператор сотовой связи предлагает клиентам два тарифных плана: «Смарт» и «Ультра». Чтобы решить на какой тариф выделить больше рекламный бюджет, требуется понять, какой тариф приносит больше денег.<br><br>\n",
    "Нужно сделать предварительный анализ тарифов на небольшой выборке клиентов. В вашем распоряжении данные 500 клиентов: кто они, откуда, каким тарифом пользуются, сколько звонков и сообщений каждый отправил за 2018 год. Нужно проанализировать поведение клиентов и сделать вывод — какой тариф лучше.\n",
    "<br><br>\n",
    "**Описание тарифов**\n",
    "<br><br>\n",
    "Тариф «Смарт»\n",
    "\n",
    "    Ежемесячная плата: 550 рублей\n",
    "    Включено 500 минут разговора, 50 сообщений и 15 Гб интернет-трафика\n",
    "    Стоимость услуг сверх тарифного пакета:\n",
    "    * минута разговора: 3 рубля\n",
    "    * сообщение: 3 рубля\n",
    "    * 1 Гб интернет-трафика: 200 рублей\n",
    "\n",
    "Тариф «Ультра»\n",
    "\n",
    "    Ежемесячная плата: 1950 рублей\n",
    "    Включено 3000 минут разговора, 1000 сообщений и 30 Гб интернет-трафика\n",
    "    Стоимость услуг сверх тарифного пакета:\n",
    "    * минута разговора: 1 рубль\n",
    "    * сообщение: 1 рубль\n",
    "    * 1 Гб интернет-трафика: 150 рублей\n",
    "    \n",
    "**Примечание:**\n",
    "<br><br>\n",
    "Сотовый оператор округляет секунды до минут, а мегабайты — до гигабайт. Каждый звонок округляется отдельно: даже если он длился всего 1 секунду, будет засчитан как 1 минута.\n",
    "<br>\n",
    "Для веб-трафика отдельные сессии не считаются. Вместо этого общая сумма за месяц округляется в бо́льшую сторону. Если абонент использует 1025 мегабайт в этом месяце, с него возьмут плату за 2 гигабайта."
   ]
  },
  {
   "cell_type": "markdown",
   "metadata": {},
   "source": [
    "## Изучение данных из файлов"
   ]
  },
  {
   "cell_type": "markdown",
   "metadata": {},
   "source": [
    "Чтобы изучить данные датафрейма, сделать необходимые рассчёты, провести исследование и составить отчёт сразу импортируем библиотеки, который нам потребуются в данном проекте"
   ]
  },
  {
   "cell_type": "code",
   "execution_count": 1,
   "metadata": {},
   "outputs": [],
   "source": [
    "from collections import Counter\n",
    "from io import BytesIO\n",
    "from scipy import stats as st\n",
    "\n",
    "import copy \n",
    "import math\n",
    "import matplotlib.pyplot as plt\n",
    "import numpy as np \n",
    "import pandas as pd \n",
    "import requests\n",
    "import seaborn as sbn"
   ]
  },
  {
   "cell_type": "markdown",
   "metadata": {},
   "source": [
    "Напишем функцию, чтобы прочитать и сохранить данные из Google Sheets"
   ]
  },
  {
   "cell_type": "code",
   "execution_count": 2,
   "metadata": {},
   "outputs": [],
   "source": [
    "def table(spreadsheet_id):\n",
    "    spreadsheet_id = spreadsheet_id\n",
    "    file_name = 'https://docs.google.com/spreadsheets/d/{}/export?format=csv'.format(spreadsheet_id)\n",
    "    r = requests.get(file_name)\n",
    "    table = pd.read_csv(BytesIO(r.content))\n",
    "    return table"
   ]
  },
  {
   "cell_type": "markdown",
   "metadata": {},
   "source": [
    "Прочитаем и сохраним файл, который предоставил заказчик"
   ]
  },
  {
   "cell_type": "code",
   "execution_count": 3,
   "metadata": {},
   "outputs": [
    {
     "data": {
      "text/html": [
       "<div>\n",
       "<style scoped>\n",
       "    .dataframe tbody tr th:only-of-type {\n",
       "        vertical-align: middle;\n",
       "    }\n",
       "\n",
       "    .dataframe tbody tr th {\n",
       "        vertical-align: top;\n",
       "    }\n",
       "\n",
       "    .dataframe thead th {\n",
       "        text-align: right;\n",
       "    }\n",
       "</style>\n",
       "<table border=\"1\" class=\"dataframe\">\n",
       "  <thead>\n",
       "    <tr style=\"text-align: right;\">\n",
       "      <th></th>\n",
       "      <th>id</th>\n",
       "      <th>call_date</th>\n",
       "      <th>duration</th>\n",
       "      <th>user_id</th>\n",
       "    </tr>\n",
       "  </thead>\n",
       "  <tbody>\n",
       "    <tr>\n",
       "      <th>0</th>\n",
       "      <td>1000_0</td>\n",
       "      <td>2018-07-25</td>\n",
       "      <td>0.00</td>\n",
       "      <td>1000</td>\n",
       "    </tr>\n",
       "    <tr>\n",
       "      <th>1</th>\n",
       "      <td>1000_1</td>\n",
       "      <td>2018-08-17</td>\n",
       "      <td>0.00</td>\n",
       "      <td>1000</td>\n",
       "    </tr>\n",
       "    <tr>\n",
       "      <th>2</th>\n",
       "      <td>1000_2</td>\n",
       "      <td>2018-06-11</td>\n",
       "      <td>2.85</td>\n",
       "      <td>1000</td>\n",
       "    </tr>\n",
       "    <tr>\n",
       "      <th>3</th>\n",
       "      <td>1000_3</td>\n",
       "      <td>2018-09-21</td>\n",
       "      <td>13.80</td>\n",
       "      <td>1000</td>\n",
       "    </tr>\n",
       "    <tr>\n",
       "      <th>4</th>\n",
       "      <td>1000_4</td>\n",
       "      <td>2018-12-15</td>\n",
       "      <td>5.18</td>\n",
       "      <td>1000</td>\n",
       "    </tr>\n",
       "    <tr>\n",
       "      <th>5</th>\n",
       "      <td>1000_5</td>\n",
       "      <td>2018-11-02</td>\n",
       "      <td>0.00</td>\n",
       "      <td>1000</td>\n",
       "    </tr>\n",
       "    <tr>\n",
       "      <th>6</th>\n",
       "      <td>1000_6</td>\n",
       "      <td>2018-10-18</td>\n",
       "      <td>0.00</td>\n",
       "      <td>1000</td>\n",
       "    </tr>\n",
       "    <tr>\n",
       "      <th>7</th>\n",
       "      <td>1000_7</td>\n",
       "      <td>2018-08-22</td>\n",
       "      <td>18.31</td>\n",
       "      <td>1000</td>\n",
       "    </tr>\n",
       "    <tr>\n",
       "      <th>8</th>\n",
       "      <td>1000_8</td>\n",
       "      <td>2018-09-15</td>\n",
       "      <td>18.44</td>\n",
       "      <td>1000</td>\n",
       "    </tr>\n",
       "    <tr>\n",
       "      <th>9</th>\n",
       "      <td>1000_9</td>\n",
       "      <td>2018-08-15</td>\n",
       "      <td>0.00</td>\n",
       "      <td>1000</td>\n",
       "    </tr>\n",
       "  </tbody>\n",
       "</table>\n",
       "</div>"
      ],
      "text/plain": [
       "       id   call_date  duration  user_id\n",
       "0  1000_0  2018-07-25      0.00     1000\n",
       "1  1000_1  2018-08-17      0.00     1000\n",
       "2  1000_2  2018-06-11      2.85     1000\n",
       "3  1000_3  2018-09-21     13.80     1000\n",
       "4  1000_4  2018-12-15      5.18     1000\n",
       "5  1000_5  2018-11-02      0.00     1000\n",
       "6  1000_6  2018-10-18      0.00     1000\n",
       "7  1000_7  2018-08-22     18.31     1000\n",
       "8  1000_8  2018-09-15     18.44     1000\n",
       "9  1000_9  2018-08-15      0.00     1000"
      ]
     },
     "execution_count": 3,
     "metadata": {},
     "output_type": "execute_result"
    }
   ],
   "source": [
    "calls = table('1Vg648wz5T7gqd4Li2c1tZi9cwiCsLUxvpoHlpVB6VNg') # чтение файла с данными и сохранение в calls\n",
    "calls.head(10) # получение первых 10 строк таблицы"
   ]
  },
  {
   "cell_type": "code",
   "execution_count": 4,
   "metadata": {},
   "outputs": [
    {
     "data": {
      "text/html": [
       "<div>\n",
       "<style scoped>\n",
       "    .dataframe tbody tr th:only-of-type {\n",
       "        vertical-align: middle;\n",
       "    }\n",
       "\n",
       "    .dataframe tbody tr th {\n",
       "        vertical-align: top;\n",
       "    }\n",
       "\n",
       "    .dataframe thead th {\n",
       "        text-align: right;\n",
       "    }\n",
       "</style>\n",
       "<table border=\"1\" class=\"dataframe\">\n",
       "  <thead>\n",
       "    <tr style=\"text-align: right;\">\n",
       "      <th></th>\n",
       "      <th>Unnamed: 0</th>\n",
       "      <th>id</th>\n",
       "      <th>mb_used</th>\n",
       "      <th>session_date</th>\n",
       "      <th>user_id</th>\n",
       "    </tr>\n",
       "  </thead>\n",
       "  <tbody>\n",
       "    <tr>\n",
       "      <th>0</th>\n",
       "      <td>0</td>\n",
       "      <td>1000_0</td>\n",
       "      <td>112.95</td>\n",
       "      <td>2018-11-25</td>\n",
       "      <td>1000</td>\n",
       "    </tr>\n",
       "    <tr>\n",
       "      <th>1</th>\n",
       "      <td>1</td>\n",
       "      <td>1000_1</td>\n",
       "      <td>1052.81</td>\n",
       "      <td>2018-09-07</td>\n",
       "      <td>1000</td>\n",
       "    </tr>\n",
       "    <tr>\n",
       "      <th>2</th>\n",
       "      <td>2</td>\n",
       "      <td>1000_2</td>\n",
       "      <td>1197.26</td>\n",
       "      <td>2018-06-25</td>\n",
       "      <td>1000</td>\n",
       "    </tr>\n",
       "    <tr>\n",
       "      <th>3</th>\n",
       "      <td>3</td>\n",
       "      <td>1000_3</td>\n",
       "      <td>550.27</td>\n",
       "      <td>2018-08-22</td>\n",
       "      <td>1000</td>\n",
       "    </tr>\n",
       "    <tr>\n",
       "      <th>4</th>\n",
       "      <td>4</td>\n",
       "      <td>1000_4</td>\n",
       "      <td>302.56</td>\n",
       "      <td>2018-09-24</td>\n",
       "      <td>1000</td>\n",
       "    </tr>\n",
       "    <tr>\n",
       "      <th>5</th>\n",
       "      <td>5</td>\n",
       "      <td>1000_5</td>\n",
       "      <td>399.97</td>\n",
       "      <td>2018-10-02</td>\n",
       "      <td>1000</td>\n",
       "    </tr>\n",
       "    <tr>\n",
       "      <th>6</th>\n",
       "      <td>6</td>\n",
       "      <td>1000_6</td>\n",
       "      <td>540.08</td>\n",
       "      <td>2018-09-07</td>\n",
       "      <td>1000</td>\n",
       "    </tr>\n",
       "    <tr>\n",
       "      <th>7</th>\n",
       "      <td>7</td>\n",
       "      <td>1000_7</td>\n",
       "      <td>415.70</td>\n",
       "      <td>2018-07-11</td>\n",
       "      <td>1000</td>\n",
       "    </tr>\n",
       "    <tr>\n",
       "      <th>8</th>\n",
       "      <td>8</td>\n",
       "      <td>1000_8</td>\n",
       "      <td>505.40</td>\n",
       "      <td>2018-10-08</td>\n",
       "      <td>1000</td>\n",
       "    </tr>\n",
       "    <tr>\n",
       "      <th>9</th>\n",
       "      <td>9</td>\n",
       "      <td>1000_9</td>\n",
       "      <td>345.54</td>\n",
       "      <td>2018-09-03</td>\n",
       "      <td>1000</td>\n",
       "    </tr>\n",
       "  </tbody>\n",
       "</table>\n",
       "</div>"
      ],
      "text/plain": [
       "   Unnamed: 0      id  mb_used session_date  user_id\n",
       "0           0  1000_0   112.95   2018-11-25     1000\n",
       "1           1  1000_1  1052.81   2018-09-07     1000\n",
       "2           2  1000_2  1197.26   2018-06-25     1000\n",
       "3           3  1000_3   550.27   2018-08-22     1000\n",
       "4           4  1000_4   302.56   2018-09-24     1000\n",
       "5           5  1000_5   399.97   2018-10-02     1000\n",
       "6           6  1000_6   540.08   2018-09-07     1000\n",
       "7           7  1000_7   415.70   2018-07-11     1000\n",
       "8           8  1000_8   505.40   2018-10-08     1000\n",
       "9           9  1000_9   345.54   2018-09-03     1000"
      ]
     },
     "execution_count": 4,
     "metadata": {},
     "output_type": "execute_result"
    }
   ],
   "source": [
    "internet = table('1K-NqTuWEUSUS2_BznlndrFAUvlWNxpjER_cSvHYlmZ0') # чтение файла с данными и сохранение в internet\n",
    "internet.head(10) # получение первых 10 строк таблицы"
   ]
  },
  {
   "cell_type": "code",
   "execution_count": 5,
   "metadata": {
    "scrolled": true
   },
   "outputs": [
    {
     "data": {
      "text/html": [
       "<div>\n",
       "<style scoped>\n",
       "    .dataframe tbody tr th:only-of-type {\n",
       "        vertical-align: middle;\n",
       "    }\n",
       "\n",
       "    .dataframe tbody tr th {\n",
       "        vertical-align: top;\n",
       "    }\n",
       "\n",
       "    .dataframe thead th {\n",
       "        text-align: right;\n",
       "    }\n",
       "</style>\n",
       "<table border=\"1\" class=\"dataframe\">\n",
       "  <thead>\n",
       "    <tr style=\"text-align: right;\">\n",
       "      <th></th>\n",
       "      <th>id</th>\n",
       "      <th>message_date</th>\n",
       "      <th>user_id</th>\n",
       "    </tr>\n",
       "  </thead>\n",
       "  <tbody>\n",
       "    <tr>\n",
       "      <th>0</th>\n",
       "      <td>1000_0</td>\n",
       "      <td>2018-06-27</td>\n",
       "      <td>1000</td>\n",
       "    </tr>\n",
       "    <tr>\n",
       "      <th>1</th>\n",
       "      <td>1000_1</td>\n",
       "      <td>2018-10-08</td>\n",
       "      <td>1000</td>\n",
       "    </tr>\n",
       "    <tr>\n",
       "      <th>2</th>\n",
       "      <td>1000_2</td>\n",
       "      <td>2018-08-04</td>\n",
       "      <td>1000</td>\n",
       "    </tr>\n",
       "    <tr>\n",
       "      <th>3</th>\n",
       "      <td>1000_3</td>\n",
       "      <td>2018-06-16</td>\n",
       "      <td>1000</td>\n",
       "    </tr>\n",
       "    <tr>\n",
       "      <th>4</th>\n",
       "      <td>1000_4</td>\n",
       "      <td>2018-12-05</td>\n",
       "      <td>1000</td>\n",
       "    </tr>\n",
       "    <tr>\n",
       "      <th>5</th>\n",
       "      <td>1000_5</td>\n",
       "      <td>2018-06-20</td>\n",
       "      <td>1000</td>\n",
       "    </tr>\n",
       "    <tr>\n",
       "      <th>6</th>\n",
       "      <td>1000_6</td>\n",
       "      <td>2018-11-19</td>\n",
       "      <td>1000</td>\n",
       "    </tr>\n",
       "    <tr>\n",
       "      <th>7</th>\n",
       "      <td>1000_7</td>\n",
       "      <td>2018-10-29</td>\n",
       "      <td>1000</td>\n",
       "    </tr>\n",
       "    <tr>\n",
       "      <th>8</th>\n",
       "      <td>1000_8</td>\n",
       "      <td>2018-06-25</td>\n",
       "      <td>1000</td>\n",
       "    </tr>\n",
       "    <tr>\n",
       "      <th>9</th>\n",
       "      <td>1000_9</td>\n",
       "      <td>2018-12-18</td>\n",
       "      <td>1000</td>\n",
       "    </tr>\n",
       "  </tbody>\n",
       "</table>\n",
       "</div>"
      ],
      "text/plain": [
       "       id message_date  user_id\n",
       "0  1000_0   2018-06-27     1000\n",
       "1  1000_1   2018-10-08     1000\n",
       "2  1000_2   2018-08-04     1000\n",
       "3  1000_3   2018-06-16     1000\n",
       "4  1000_4   2018-12-05     1000\n",
       "5  1000_5   2018-06-20     1000\n",
       "6  1000_6   2018-11-19     1000\n",
       "7  1000_7   2018-10-29     1000\n",
       "8  1000_8   2018-06-25     1000\n",
       "9  1000_9   2018-12-18     1000"
      ]
     },
     "execution_count": 5,
     "metadata": {},
     "output_type": "execute_result"
    }
   ],
   "source": [
    "messages = table('1js3ySgv_qPHUR00_bARTwFyzlAQ1re2j0GPbZqVAtY8') # чтение файла с данными и сохранение в messages\n",
    "messages.head(10) # получение первых 10 строк таблицы"
   ]
  },
  {
   "cell_type": "code",
   "execution_count": 6,
   "metadata": {},
   "outputs": [
    {
     "data": {
      "text/html": [
       "<div>\n",
       "<style scoped>\n",
       "    .dataframe tbody tr th:only-of-type {\n",
       "        vertical-align: middle;\n",
       "    }\n",
       "\n",
       "    .dataframe tbody tr th {\n",
       "        vertical-align: top;\n",
       "    }\n",
       "\n",
       "    .dataframe thead th {\n",
       "        text-align: right;\n",
       "    }\n",
       "</style>\n",
       "<table border=\"1\" class=\"dataframe\">\n",
       "  <thead>\n",
       "    <tr style=\"text-align: right;\">\n",
       "      <th></th>\n",
       "      <th>messages_included</th>\n",
       "      <th>mb_per_month_included</th>\n",
       "      <th>minutes_included</th>\n",
       "      <th>rub_monthly_fee</th>\n",
       "      <th>rub_per_gb</th>\n",
       "      <th>rub_per_message</th>\n",
       "      <th>rub_per_minute</th>\n",
       "      <th>tariff_name</th>\n",
       "    </tr>\n",
       "  </thead>\n",
       "  <tbody>\n",
       "    <tr>\n",
       "      <th>0</th>\n",
       "      <td>50</td>\n",
       "      <td>15360</td>\n",
       "      <td>500</td>\n",
       "      <td>550</td>\n",
       "      <td>200</td>\n",
       "      <td>3</td>\n",
       "      <td>3</td>\n",
       "      <td>smart</td>\n",
       "    </tr>\n",
       "    <tr>\n",
       "      <th>1</th>\n",
       "      <td>1000</td>\n",
       "      <td>30720</td>\n",
       "      <td>3000</td>\n",
       "      <td>1950</td>\n",
       "      <td>150</td>\n",
       "      <td>1</td>\n",
       "      <td>1</td>\n",
       "      <td>ultra</td>\n",
       "    </tr>\n",
       "  </tbody>\n",
       "</table>\n",
       "</div>"
      ],
      "text/plain": [
       "   messages_included  mb_per_month_included  minutes_included  \\\n",
       "0                 50                  15360               500   \n",
       "1               1000                  30720              3000   \n",
       "\n",
       "   rub_monthly_fee  rub_per_gb  rub_per_message  rub_per_minute tariff_name  \n",
       "0              550         200                3               3       smart  \n",
       "1             1950         150                1               1       ultra  "
      ]
     },
     "execution_count": 6,
     "metadata": {},
     "output_type": "execute_result"
    }
   ],
   "source": [
    "tariffs = table('1O86KVg1u3EQFyA4WYZoNjzgX6NVqWF5YntUSSuHeasU') # чтение файла с данными и сохранение в tariffs\n",
    "tariffs.head(10) # получение первых 10 строк таблицы"
   ]
  },
  {
   "cell_type": "code",
   "execution_count": 7,
   "metadata": {
    "scrolled": true
   },
   "outputs": [
    {
     "data": {
      "text/html": [
       "<div>\n",
       "<style scoped>\n",
       "    .dataframe tbody tr th:only-of-type {\n",
       "        vertical-align: middle;\n",
       "    }\n",
       "\n",
       "    .dataframe tbody tr th {\n",
       "        vertical-align: top;\n",
       "    }\n",
       "\n",
       "    .dataframe thead th {\n",
       "        text-align: right;\n",
       "    }\n",
       "</style>\n",
       "<table border=\"1\" class=\"dataframe\">\n",
       "  <thead>\n",
       "    <tr style=\"text-align: right;\">\n",
       "      <th></th>\n",
       "      <th>user_id</th>\n",
       "      <th>age</th>\n",
       "      <th>churn_date</th>\n",
       "      <th>city</th>\n",
       "      <th>first_name</th>\n",
       "      <th>last_name</th>\n",
       "      <th>reg_date</th>\n",
       "      <th>tariff</th>\n",
       "    </tr>\n",
       "  </thead>\n",
       "  <tbody>\n",
       "    <tr>\n",
       "      <th>0</th>\n",
       "      <td>1000</td>\n",
       "      <td>52</td>\n",
       "      <td>NaN</td>\n",
       "      <td>Краснодар</td>\n",
       "      <td>Рафаил</td>\n",
       "      <td>Верещагин</td>\n",
       "      <td>2018-05-25</td>\n",
       "      <td>ultra</td>\n",
       "    </tr>\n",
       "    <tr>\n",
       "      <th>1</th>\n",
       "      <td>1001</td>\n",
       "      <td>41</td>\n",
       "      <td>NaN</td>\n",
       "      <td>Москва</td>\n",
       "      <td>Иван</td>\n",
       "      <td>Ежов</td>\n",
       "      <td>2018-11-01</td>\n",
       "      <td>smart</td>\n",
       "    </tr>\n",
       "    <tr>\n",
       "      <th>2</th>\n",
       "      <td>1002</td>\n",
       "      <td>59</td>\n",
       "      <td>NaN</td>\n",
       "      <td>Стерлитамак</td>\n",
       "      <td>Евгений</td>\n",
       "      <td>Абрамович</td>\n",
       "      <td>2018-06-17</td>\n",
       "      <td>smart</td>\n",
       "    </tr>\n",
       "    <tr>\n",
       "      <th>3</th>\n",
       "      <td>1003</td>\n",
       "      <td>23</td>\n",
       "      <td>NaN</td>\n",
       "      <td>Москва</td>\n",
       "      <td>Белла</td>\n",
       "      <td>Белякова</td>\n",
       "      <td>2018-08-17</td>\n",
       "      <td>ultra</td>\n",
       "    </tr>\n",
       "    <tr>\n",
       "      <th>4</th>\n",
       "      <td>1004</td>\n",
       "      <td>68</td>\n",
       "      <td>NaN</td>\n",
       "      <td>Новокузнецк</td>\n",
       "      <td>Татьяна</td>\n",
       "      <td>Авдеенко</td>\n",
       "      <td>2018-05-14</td>\n",
       "      <td>ultra</td>\n",
       "    </tr>\n",
       "    <tr>\n",
       "      <th>5</th>\n",
       "      <td>1005</td>\n",
       "      <td>67</td>\n",
       "      <td>NaN</td>\n",
       "      <td>Набережные Челны</td>\n",
       "      <td>Афанасий</td>\n",
       "      <td>Горлов</td>\n",
       "      <td>2018-01-25</td>\n",
       "      <td>smart</td>\n",
       "    </tr>\n",
       "    <tr>\n",
       "      <th>6</th>\n",
       "      <td>1006</td>\n",
       "      <td>21</td>\n",
       "      <td>NaN</td>\n",
       "      <td>Ульяновск</td>\n",
       "      <td>Леонид</td>\n",
       "      <td>Ермолаев</td>\n",
       "      <td>2018-02-26</td>\n",
       "      <td>smart</td>\n",
       "    </tr>\n",
       "    <tr>\n",
       "      <th>7</th>\n",
       "      <td>1007</td>\n",
       "      <td>65</td>\n",
       "      <td>NaN</td>\n",
       "      <td>Москва</td>\n",
       "      <td>Юна</td>\n",
       "      <td>Березина</td>\n",
       "      <td>2018-04-19</td>\n",
       "      <td>smart</td>\n",
       "    </tr>\n",
       "    <tr>\n",
       "      <th>8</th>\n",
       "      <td>1008</td>\n",
       "      <td>63</td>\n",
       "      <td>NaN</td>\n",
       "      <td>Челябинск</td>\n",
       "      <td>Рустэм</td>\n",
       "      <td>Пономарёв</td>\n",
       "      <td>2018-12-19</td>\n",
       "      <td>smart</td>\n",
       "    </tr>\n",
       "    <tr>\n",
       "      <th>9</th>\n",
       "      <td>1009</td>\n",
       "      <td>24</td>\n",
       "      <td>NaN</td>\n",
       "      <td>Пермь</td>\n",
       "      <td>Василиса</td>\n",
       "      <td>Блинова</td>\n",
       "      <td>2018-03-22</td>\n",
       "      <td>smart</td>\n",
       "    </tr>\n",
       "  </tbody>\n",
       "</table>\n",
       "</div>"
      ],
      "text/plain": [
       "   user_id  age churn_date              city first_name  last_name  \\\n",
       "0     1000   52        NaN         Краснодар     Рафаил  Верещагин   \n",
       "1     1001   41        NaN            Москва       Иван       Ежов   \n",
       "2     1002   59        NaN       Стерлитамак    Евгений  Абрамович   \n",
       "3     1003   23        NaN            Москва      Белла   Белякова   \n",
       "4     1004   68        NaN       Новокузнецк    Татьяна   Авдеенко   \n",
       "5     1005   67        NaN  Набережные Челны   Афанасий     Горлов   \n",
       "6     1006   21        NaN         Ульяновск     Леонид   Ермолаев   \n",
       "7     1007   65        NaN            Москва        Юна   Березина   \n",
       "8     1008   63        NaN         Челябинск     Рустэм  Пономарёв   \n",
       "9     1009   24        NaN             Пермь   Василиса    Блинова   \n",
       "\n",
       "     reg_date tariff  \n",
       "0  2018-05-25  ultra  \n",
       "1  2018-11-01  smart  \n",
       "2  2018-06-17  smart  \n",
       "3  2018-08-17  ultra  \n",
       "4  2018-05-14  ultra  \n",
       "5  2018-01-25  smart  \n",
       "6  2018-02-26  smart  \n",
       "7  2018-04-19  smart  \n",
       "8  2018-12-19  smart  \n",
       "9  2018-03-22  smart  "
      ]
     },
     "execution_count": 7,
     "metadata": {},
     "output_type": "execute_result"
    }
   ],
   "source": [
    "users = table('1-Xcj0677UUUqBE_Avpz1f-MQ85XUqq4FwD0FFTRFruI') # чтение файла с данными и сохранение в users\n",
    "users.head(10) # получение первых 10 строк таблицы"
   ]
  },
  {
   "cell_type": "markdown",
   "metadata": {},
   "source": [
    "Получим общую информацию о таблицах:"
   ]
  },
  {
   "cell_type": "code",
   "execution_count": 8,
   "metadata": {},
   "outputs": [
    {
     "name": "stdout",
     "output_type": "stream",
     "text": [
      "<class 'pandas.core.frame.DataFrame'>\n",
      "RangeIndex: 202607 entries, 0 to 202606\n",
      "Data columns (total 4 columns):\n",
      " #   Column     Non-Null Count   Dtype  \n",
      "---  ------     --------------   -----  \n",
      " 0   id         202607 non-null  object \n",
      " 1   call_date  202607 non-null  object \n",
      " 2   duration   202607 non-null  float64\n",
      " 3   user_id    202607 non-null  int64  \n",
      "dtypes: float64(1), int64(1), object(2)\n",
      "memory usage: 6.2+ MB\n"
     ]
    }
   ],
   "source": [
    "calls.info() # получение общей информации о данных в таблице"
   ]
  },
  {
   "cell_type": "code",
   "execution_count": 9,
   "metadata": {},
   "outputs": [
    {
     "name": "stdout",
     "output_type": "stream",
     "text": [
      "<class 'pandas.core.frame.DataFrame'>\n",
      "RangeIndex: 149396 entries, 0 to 149395\n",
      "Data columns (total 5 columns):\n",
      " #   Column        Non-Null Count   Dtype  \n",
      "---  ------        --------------   -----  \n",
      " 0   Unnamed: 0    149396 non-null  int64  \n",
      " 1   id            149396 non-null  object \n",
      " 2   mb_used       149396 non-null  float64\n",
      " 3   session_date  149396 non-null  object \n",
      " 4   user_id       149396 non-null  int64  \n",
      "dtypes: float64(1), int64(2), object(2)\n",
      "memory usage: 5.7+ MB\n"
     ]
    }
   ],
   "source": [
    "internet.info() # получение общей информации о данных в таблице"
   ]
  },
  {
   "cell_type": "code",
   "execution_count": 10,
   "metadata": {},
   "outputs": [
    {
     "name": "stdout",
     "output_type": "stream",
     "text": [
      "<class 'pandas.core.frame.DataFrame'>\n",
      "RangeIndex: 123036 entries, 0 to 123035\n",
      "Data columns (total 3 columns):\n",
      " #   Column        Non-Null Count   Dtype \n",
      "---  ------        --------------   ----- \n",
      " 0   id            123036 non-null  object\n",
      " 1   message_date  123036 non-null  object\n",
      " 2   user_id       123036 non-null  int64 \n",
      "dtypes: int64(1), object(2)\n",
      "memory usage: 2.8+ MB\n"
     ]
    }
   ],
   "source": [
    "messages.info() # получение общей информации о данных в таблице"
   ]
  },
  {
   "cell_type": "code",
   "execution_count": 11,
   "metadata": {},
   "outputs": [
    {
     "name": "stdout",
     "output_type": "stream",
     "text": [
      "<class 'pandas.core.frame.DataFrame'>\n",
      "RangeIndex: 2 entries, 0 to 1\n",
      "Data columns (total 8 columns):\n",
      " #   Column                 Non-Null Count  Dtype \n",
      "---  ------                 --------------  ----- \n",
      " 0   messages_included      2 non-null      int64 \n",
      " 1   mb_per_month_included  2 non-null      int64 \n",
      " 2   minutes_included       2 non-null      int64 \n",
      " 3   rub_monthly_fee        2 non-null      int64 \n",
      " 4   rub_per_gb             2 non-null      int64 \n",
      " 5   rub_per_message        2 non-null      int64 \n",
      " 6   rub_per_minute         2 non-null      int64 \n",
      " 7   tariff_name            2 non-null      object\n",
      "dtypes: int64(7), object(1)\n",
      "memory usage: 256.0+ bytes\n"
     ]
    }
   ],
   "source": [
    "tariffs.info() # получение общей информации о данных в таблице"
   ]
  },
  {
   "cell_type": "code",
   "execution_count": 12,
   "metadata": {},
   "outputs": [
    {
     "name": "stdout",
     "output_type": "stream",
     "text": [
      "<class 'pandas.core.frame.DataFrame'>\n",
      "RangeIndex: 500 entries, 0 to 499\n",
      "Data columns (total 8 columns):\n",
      " #   Column      Non-Null Count  Dtype \n",
      "---  ------      --------------  ----- \n",
      " 0   user_id     500 non-null    int64 \n",
      " 1   age         500 non-null    int64 \n",
      " 2   churn_date  38 non-null     object\n",
      " 3   city        500 non-null    object\n",
      " 4   first_name  500 non-null    object\n",
      " 5   last_name   500 non-null    object\n",
      " 6   reg_date    500 non-null    object\n",
      " 7   tariff      500 non-null    object\n",
      "dtypes: int64(2), object(6)\n",
      "memory usage: 31.4+ KB\n"
     ]
    }
   ],
   "source": [
    "users.info() # получение общей информации о данных в таблице"
   ]
  },
  {
   "cell_type": "markdown",
   "metadata": {},
   "source": [
    "Нам даны 5 таблиц:\n",
    "* `calls` - типы данных в столбцах — `float`, `int`, `object`\n",
    "* `internet` - типы данных в столбцах — `float`, `int`, `object`\n",
    "* `messages` - типы данных в столбцах — `int`, `object`\n",
    "* `tariffs` - типы данных в столбцах — `int`, `object`\n",
    "* `users` - типы данных в столбцах — `int`, `object`\n",
    "\n",
    "Согласно документации к данным:\n",
    "Таблица users (информация о пользователях):\n",
    "\n",
    "    user_id — уникальный идентификатор пользователя\n",
    "    first_name — имя пользователя\n",
    "    last_name — фамилия пользователя\n",
    "    age — возраст пользователя (годы)\n",
    "    reg_date — дата подключения тарифа (день, месяц, год)\n",
    "    churn_date — дата прекращения пользования тарифом (если значение пропущено, то тариф ещё действовал на момент выгрузки данных)\n",
    "    city — город проживания пользователя\n",
    "    tarif — название тарифного плана\n",
    "\n",
    "Таблица calls (информация о звонках):\n",
    "\n",
    "    id — уникальный номер звонка\n",
    "    call_date — дата звонка\n",
    "    duration — длительность звонка в минутах\n",
    "    user_id — идентификатор пользователя, сделавшего звонок\n",
    "\n",
    "Таблица messages (информация о сообщениях):\n",
    "\n",
    "    id — уникальный номер сообщения\n",
    "    message_date — дата сообщения\n",
    "    user_id — идентификатор пользователя, отправившего сообщение\n",
    "\n",
    "Таблица internet (информация об интернет-сессиях):\n",
    "\n",
    "    id — уникальный номер сессии\n",
    "    mb_used — объём потраченного за сессию интернет-трафика (в мегабайтах)\n",
    "    session_date — дата интернет-сессии\n",
    "    user_id — идентификатор пользователя\n",
    "\n",
    "Таблица tariffs (информация о тарифах):\n",
    "\n",
    "    tariff_name — название тарифа\n",
    "    rub_monthly_fee — ежемесячная абонентская плата в рублях\n",
    "    minutes_included — количество минут разговора в месяц, включённых в абонентскую плату\n",
    "    messages_included — количество сообщений в месяц, включённых в абонентскую плату\n",
    "    mb_per_month_included — объём интернет-трафика, включённого в абонентскую плату (в мегабайтах)\n",
    "    rub_per_minute — стоимость минуты разговора сверх тарифного пакета (например, если в тарифе 100 минут разговора в месяц, то со 101 минуты будет взиматься плата)\n",
    "    rub_per_message — стоимость отправки сообщения сверх тарифного пакета\n",
    "    rub_per_gb — стоимость дополнительного гигабайта интернет-трафика сверх тарифного пакета (1 гигабайт = 1024 мегабайта)\n",
    "    \n",
    "В названиях колонок таблицы `internet` встречаются cтрочные буквы с прописными, что является нарушением хорошего стиля.\n",
    "\n",
    "\n",
    "Количество значений в столбцах таблицы `users` различается. Значит, в данных есть пропущенные значения."
   ]
  },
  {
   "cell_type": "markdown",
   "metadata": {},
   "source": [
    "### Вывод"
   ]
  },
  {
   "cell_type": "markdown",
   "metadata": {},
   "source": [
    "Нам дано 5 таблиц: \n",
    "* в таблице users указываются персональные данные абонента, возраст, дата подключения тарифа и отключения тарифа, сам тариф\n",
    "* в таблице  tariffs описываются параметры двух тарифов по стоимости, включённым в пакет минутам, сообщениям, интернету и  стоимости услуг связи, если включённые в пакет минуты, сообщения и интернет закончатся\n",
    "* в таблицах calls, messages и internet указывается детализация по звонкам, сообщениям и интернету за 2018 год\n",
    "\n",
    "Предварительно можно утверждать, что, данных достаточно для проверки гипотез. Но встречаются пропуски в данных, а в названиях колонок — расхождения с хорошим стилем.\n",
    "\n",
    "Чтобы двигаться дальше, нужно устранить проблемы в данных."
   ]
  },
  {
   "cell_type": "markdown",
   "metadata": {},
   "source": [
    "## Предобработка данных"
   ]
  },
  {
   "cell_type": "markdown",
   "metadata": {},
   "source": [
    "Исправим данные и приведём их к пригодному для анализа виду."
   ]
  },
  {
   "cell_type": "markdown",
   "metadata": {},
   "source": [
    "### Стиль заголовков\n",
    "Посмотрим названия столбцов всех таблиц:"
   ]
  },
  {
   "cell_type": "code",
   "execution_count": 13,
   "metadata": {},
   "outputs": [
    {
     "data": {
      "text/plain": [
       "Index(['id', 'call_date', 'duration', 'user_id'], dtype='object')"
      ]
     },
     "execution_count": 13,
     "metadata": {},
     "output_type": "execute_result"
    }
   ],
   "source": [
    "calls.columns# перечень названий столбцов таблицы calls "
   ]
  },
  {
   "cell_type": "code",
   "execution_count": 14,
   "metadata": {},
   "outputs": [
    {
     "data": {
      "text/plain": [
       "Index(['Unnamed: 0', 'id', 'mb_used', 'session_date', 'user_id'], dtype='object')"
      ]
     },
     "execution_count": 14,
     "metadata": {},
     "output_type": "execute_result"
    }
   ],
   "source": [
    "internet.columns# перечень названий столбцов таблицы internet"
   ]
  },
  {
   "cell_type": "code",
   "execution_count": 15,
   "metadata": {},
   "outputs": [
    {
     "data": {
      "text/plain": [
       "Index(['id', 'message_date', 'user_id'], dtype='object')"
      ]
     },
     "execution_count": 15,
     "metadata": {},
     "output_type": "execute_result"
    }
   ],
   "source": [
    "messages.columns# перечень названий столбцов таблицы messages"
   ]
  },
  {
   "cell_type": "code",
   "execution_count": 16,
   "metadata": {},
   "outputs": [
    {
     "data": {
      "text/plain": [
       "Index(['messages_included', 'mb_per_month_included', 'minutes_included',\n",
       "       'rub_monthly_fee', 'rub_per_gb', 'rub_per_message', 'rub_per_minute',\n",
       "       'tariff_name'],\n",
       "      dtype='object')"
      ]
     },
     "execution_count": 16,
     "metadata": {},
     "output_type": "execute_result"
    }
   ],
   "source": [
    "tariffs.columns# перечень названий столбцов таблицы tariffs"
   ]
  },
  {
   "cell_type": "code",
   "execution_count": 17,
   "metadata": {},
   "outputs": [
    {
     "data": {
      "text/plain": [
       "Index(['user_id', 'age', 'churn_date', 'city', 'first_name', 'last_name',\n",
       "       'reg_date', 'tariff'],\n",
       "      dtype='object')"
      ]
     },
     "execution_count": 17,
     "metadata": {},
     "output_type": "execute_result"
    }
   ],
   "source": [
    "users.columns# перечень названий столбцов таблицы users"
   ]
  },
  {
   "cell_type": "markdown",
   "metadata": {},
   "source": [
    "Плохой стиль имеет только один столбец в таблице `internet`. \n",
    "<br><br>\n",
    "В таблицах `calls`, `internet` и `messages` встречается столбец с названием `id`, а так как мы в дальнейшем будем объединять таблицы, чтобы считать расходы по каждому абоненту, то данные колонки тоже переименуем для каждой таблицы. \n",
    "<br><br>\n",
    "В таблицах `users` и  `tariffs` встречается столбец с названием тарифа, но колонки называются по разному, а так как мы в дальнейшем будем объединять таблицы по столбцу тариф, чтобы считать расходы по каждому абоненту, то данные колонки тоже переименуем для каждой таблицы, чтобы название колонки было одинаково. \n",
    "<br><br>\n",
    "Исправим названия в соответствие с хорошим стилем и для удобства дальнейших рассчётов:"
   ]
  },
  {
   "cell_type": "code",
   "execution_count": 18,
   "metadata": {},
   "outputs": [],
   "source": [
    "internet = internet.rename(columns={'Unnamed: 0': 'unnamed', 'id': 'id_session_internet'}) # переименование столбцов\n",
    "calls = calls.rename(columns={'id': 'id_call'}) # переименование столбца\n",
    "messages = messages.rename(columns={'id': 'id_message'}) # переименование столбца\n",
    "tariffs = tariffs.rename(columns={'tariff_name': 'tariff'}) # переименование столбца"
   ]
  },
  {
   "cell_type": "code",
   "execution_count": 19,
   "metadata": {},
   "outputs": [
    {
     "data": {
      "text/plain": [
       "Index(['unnamed', 'id_session_internet', 'mb_used', 'session_date', 'user_id'], dtype='object')"
      ]
     },
     "execution_count": 19,
     "metadata": {},
     "output_type": "execute_result"
    }
   ],
   "source": [
    "internet.columns # проверка результатов - перечень названий столбцов"
   ]
  },
  {
   "cell_type": "code",
   "execution_count": 20,
   "metadata": {},
   "outputs": [
    {
     "data": {
      "text/plain": [
       "Index(['id_call', 'call_date', 'duration', 'user_id'], dtype='object')"
      ]
     },
     "execution_count": 20,
     "metadata": {},
     "output_type": "execute_result"
    }
   ],
   "source": [
    "calls.columns # проверка результатов - перечень названий столбцов"
   ]
  },
  {
   "cell_type": "code",
   "execution_count": 21,
   "metadata": {},
   "outputs": [
    {
     "data": {
      "text/plain": [
       "Index(['id_message', 'message_date', 'user_id'], dtype='object')"
      ]
     },
     "execution_count": 21,
     "metadata": {},
     "output_type": "execute_result"
    }
   ],
   "source": [
    "messages.columns # проверка результатов - перечень названий столбцов"
   ]
  },
  {
   "cell_type": "code",
   "execution_count": 22,
   "metadata": {},
   "outputs": [
    {
     "data": {
      "text/plain": [
       "Index(['user_id', 'age', 'churn_date', 'city', 'first_name', 'last_name',\n",
       "       'reg_date', 'tariff'],\n",
       "      dtype='object')"
      ]
     },
     "execution_count": 22,
     "metadata": {},
     "output_type": "execute_result"
    }
   ],
   "source": [
    "users.columns# перечень названий столбцов таблицы users"
   ]
  },
  {
   "cell_type": "markdown",
   "metadata": {},
   "source": [
    "**Вывод**\n",
    "<br><br>\n",
    "Названия колонок приведены к хорошему стилю написания и готовы к объединению таблиц, чтобы в результате не было столбцов с одинаковым названием."
   ]
  },
  {
   "cell_type": "markdown",
   "metadata": {},
   "source": [
    "### Приведём данные к нужным типам"
   ]
  },
  {
   "cell_type": "markdown",
   "metadata": {},
   "source": [
    "В примечании к заданию указано, что «Мегалайн» всегда округляет секунды до минут, а мегабайты — до гигабайт. Каждый звонок округляется отдельно: даже если он длился всего 1 секунду, будет засчитан как 1 минута. \n",
    "<br>\n",
    "Произведём округлений до целого числа в большую сторону столбца `duration` в таблице `internet`:"
   ]
  },
  {
   "cell_type": "code",
   "execution_count": 23,
   "metadata": {},
   "outputs": [],
   "source": [
    "calls['duration'] = np.ceil(calls['duration']) # каждый звонок округлим отдельно до 1 минуты, даже если он длился всего 1 секунду\n",
    "calls['duration'] = calls['duration'].astype('int') # заменим вещественные данные на числовые"
   ]
  },
  {
   "cell_type": "markdown",
   "metadata": {},
   "source": [
    "Преобразуем формат стобца даты звонка в `call_date` в таблице `calls`:"
   ]
  },
  {
   "cell_type": "code",
   "execution_count": 24,
   "metadata": {},
   "outputs": [],
   "source": [
    "calls['call_date'] = pd.to_datetime(calls['call_date'], format='%Y-%m-%d') # меняем формат в стобце даты звонка"
   ]
  },
  {
   "cell_type": "markdown",
   "metadata": {},
   "source": [
    "Преобразуем формат стобца даты звонка в `session_date` в таблице `internet`:"
   ]
  },
  {
   "cell_type": "code",
   "execution_count": 25,
   "metadata": {},
   "outputs": [],
   "source": [
    "internet['session_date'] = pd.to_datetime(internet['session_date'], format='%Y-%m-%d') # меняем формат в стобце даты сессии"
   ]
  },
  {
   "cell_type": "markdown",
   "metadata": {},
   "source": [
    "Преобразуем формат стобца даты звонка в `message_date` в таблице `messages`: "
   ]
  },
  {
   "cell_type": "code",
   "execution_count": 26,
   "metadata": {},
   "outputs": [],
   "source": [
    "messages['message_date'] = pd.to_datetime(messages['message_date'], format='%Y-%m-%d') # меняем формат в стобце даты сообщения"
   ]
  },
  {
   "cell_type": "markdown",
   "metadata": {},
   "source": [
    "Преобразуем формат стобцов даты заключения и расторжения договора в таблице `users`:"
   ]
  },
  {
   "cell_type": "code",
   "execution_count": 27,
   "metadata": {},
   "outputs": [],
   "source": [
    "users['reg_date'] = pd.to_datetime(users['reg_date'], format='%Y-%m-%d') # меняем формат в стобце даты заключенияд договора\n",
    "users['churn_date'] = pd.to_datetime(users['churn_date'], format='%Y-%m-%d') # меняем формат в стобце даты расторжения договора"
   ]
  },
  {
   "cell_type": "markdown",
   "metadata": {},
   "source": [
    "**Вывод**\n",
    "<br><br>\n",
    "Все стобцы с датой во всех таблицах переведены в формат `datetime`, чтобы  в дальнейшем можно было добавлять новые столбцы и делать сортировку по месяцам.\n",
    "<br>\n",
    "Столбец длительности звонка округлён до целого числа вбольшую сторону и переведён в формат целочисленных значений."
   ]
  },
  {
   "cell_type": "markdown",
   "metadata": {},
   "source": [
    "### Найдём и исправим ошибки в данных"
   ]
  },
  {
   "cell_type": "markdown",
   "metadata": {},
   "source": [
    "Столбец `unnamed` в таблице `internet` дублирует индексы в таблице. <br>\n",
    "Этот столбец не потребуется для дальнейшего исследования.<br>\n",
    "Удалим столбец целиком:"
   ]
  },
  {
   "cell_type": "code",
   "execution_count": 28,
   "metadata": {},
   "outputs": [],
   "source": [
    "internet = internet.drop(columns=['unnamed']) # удалим столбец целиком используя метод drop"
   ]
  },
  {
   "cell_type": "markdown",
   "metadata": {},
   "source": [
    "Проверим все таблицы на пропуски:"
   ]
  },
  {
   "cell_type": "code",
   "execution_count": 29,
   "metadata": {},
   "outputs": [
    {
     "data": {
      "text/plain": [
       "user_id         0\n",
       "age             0\n",
       "churn_date    462\n",
       "city            0\n",
       "first_name      0\n",
       "last_name       0\n",
       "reg_date        0\n",
       "tariff          0\n",
       "dtype: int64"
      ]
     },
     "execution_count": 29,
     "metadata": {},
     "output_type": "execute_result"
    }
   ],
   "source": [
    "users.isna().sum()"
   ]
  },
  {
   "cell_type": "code",
   "execution_count": 30,
   "metadata": {},
   "outputs": [
    {
     "data": {
      "text/plain": [
       "id_call      0\n",
       "call_date    0\n",
       "duration     0\n",
       "user_id      0\n",
       "dtype: int64"
      ]
     },
     "execution_count": 30,
     "metadata": {},
     "output_type": "execute_result"
    }
   ],
   "source": [
    "calls.isna().sum()"
   ]
  },
  {
   "cell_type": "code",
   "execution_count": 31,
   "metadata": {},
   "outputs": [
    {
     "data": {
      "text/plain": [
       "id_session_internet    0\n",
       "mb_used                0\n",
       "session_date           0\n",
       "user_id                0\n",
       "dtype: int64"
      ]
     },
     "execution_count": 31,
     "metadata": {},
     "output_type": "execute_result"
    }
   ],
   "source": [
    "internet.isna().sum()"
   ]
  },
  {
   "cell_type": "code",
   "execution_count": 32,
   "metadata": {},
   "outputs": [
    {
     "data": {
      "text/plain": [
       "id_message      0\n",
       "message_date    0\n",
       "user_id         0\n",
       "dtype: int64"
      ]
     },
     "execution_count": 32,
     "metadata": {},
     "output_type": "execute_result"
    }
   ],
   "source": [
    "messages.isna().sum()"
   ]
  },
  {
   "cell_type": "code",
   "execution_count": 33,
   "metadata": {},
   "outputs": [
    {
     "data": {
      "text/plain": [
       "messages_included        0\n",
       "mb_per_month_included    0\n",
       "minutes_included         0\n",
       "rub_monthly_fee          0\n",
       "rub_per_gb               0\n",
       "rub_per_message          0\n",
       "rub_per_minute           0\n",
       "tariff                   0\n",
       "dtype: int64"
      ]
     },
     "execution_count": 33,
     "metadata": {},
     "output_type": "execute_result"
    }
   ],
   "source": [
    "tariffs.isna().sum()"
   ]
  },
  {
   "cell_type": "markdown",
   "metadata": {},
   "source": [
    "**Вывод**\n",
    "<br><br>\n",
    "Удалили столбец `unnamed` целиком в таблице `internet`, тк он прото дублировал индексы таблицы и он не потребуется для дальнейшего исследования.\n",
    "<br><br>\n",
    "Пропуски наблюдаются только в одном столбце `churn_date` таблицы `users`. Производить замену пропусков в данном столбце не будем, тк они  указывают на то, что договор ещё действует и он не закрыт.\n",
    "<br><br>\n",
    "В данных таблицы `calls` мы обнаружили звонки с нулевой продолжительностью. Это не ошибка: нулями обозначены пропущенные звонки, поэтому их не нужно удалять. "
   ]
  },
  {
   "cell_type": "markdown",
   "metadata": {},
   "source": [
    "### Произведём рассчёты для каждого пользователя"
   ]
  },
  {
   "cell_type": "markdown",
   "metadata": {},
   "source": [
    "#### Посчитаем количество сделанных звонков и израсходованных минут разговора по месяцам"
   ]
  },
  {
   "cell_type": "markdown",
   "metadata": {},
   "source": [
    "Добавим столбец месяца в таблицу `calls`:"
   ]
  },
  {
   "cell_type": "code",
   "execution_count": 34,
   "metadata": {},
   "outputs": [],
   "source": [
    "calls['call_month'] = calls['call_date'].dt.month # добавляем колонку номера месяца"
   ]
  },
  {
   "cell_type": "markdown",
   "metadata": {},
   "source": [
    "Заменим порядковое значение месяца на номер месяца и первые три буквы названия месяца в таблице `calls` для корректной сортировки в сводных таблицах:"
   ]
  },
  {
   "cell_type": "code",
   "execution_count": 35,
   "metadata": {},
   "outputs": [],
   "source": [
    "def call(row): # создадим функцию которой передаём порядковое значение месяца и меняем его название\n",
    "    if row['call_month'] == 1:        \n",
    "        return 'january'\n",
    "    elif row['call_month'] == 2:\n",
    "        return 'february'\n",
    "    elif row['call_month'] == 3:\n",
    "        return 'march'\n",
    "    elif row['call_month'] == 4:\n",
    "        return 'april'\n",
    "    elif row['call_month'] == 5:\n",
    "        return 'may'\n",
    "    elif row['call_month'] == 6:\n",
    "        return 'june'\n",
    "    elif row['call_month'] == 7:\n",
    "        return 'july'\n",
    "    elif row['call_month'] == 8:\n",
    "        return 'august'\n",
    "    elif row['call_month'] == 9:\n",
    "        return 'september'\n",
    "    elif row['call_month'] == 10:\n",
    "        return 'october'\n",
    "    elif row['call_month'] == 11:\n",
    "        return 'november'\n",
    "    elif row['call_month'] == 12:\n",
    "        return 'december'\n",
    "    else:\n",
    "        return row['call_month'] == row['call_month']\n",
    "    \n",
    "calls['call_month'] = calls.apply(call, axis = 1)\n"
   ]
  },
  {
   "cell_type": "markdown",
   "metadata": {},
   "source": [
    "Создадим новую таблицу с числом звонков и суммой потраченых минут в месяц по каждому клиенту:"
   ]
  },
  {
   "cell_type": "code",
   "execution_count": 36,
   "metadata": {},
   "outputs": [
    {
     "data": {
      "text/html": [
       "<div>\n",
       "<style scoped>\n",
       "    .dataframe tbody tr th:only-of-type {\n",
       "        vertical-align: middle;\n",
       "    }\n",
       "\n",
       "    .dataframe tbody tr th {\n",
       "        vertical-align: top;\n",
       "    }\n",
       "\n",
       "    .dataframe thead th {\n",
       "        text-align: right;\n",
       "    }\n",
       "</style>\n",
       "<table border=\"1\" class=\"dataframe\">\n",
       "  <thead>\n",
       "    <tr style=\"text-align: right;\">\n",
       "      <th></th>\n",
       "      <th>user_id</th>\n",
       "      <th>month</th>\n",
       "      <th>calls_count</th>\n",
       "      <th>call_minutes</th>\n",
       "    </tr>\n",
       "  </thead>\n",
       "  <tbody>\n",
       "    <tr>\n",
       "      <th>0</th>\n",
       "      <td>1000</td>\n",
       "      <td>august</td>\n",
       "      <td>52</td>\n",
       "      <td>408</td>\n",
       "    </tr>\n",
       "    <tr>\n",
       "      <th>1</th>\n",
       "      <td>1000</td>\n",
       "      <td>december</td>\n",
       "      <td>46</td>\n",
       "      <td>333</td>\n",
       "    </tr>\n",
       "    <tr>\n",
       "      <th>2</th>\n",
       "      <td>1000</td>\n",
       "      <td>july</td>\n",
       "      <td>47</td>\n",
       "      <td>340</td>\n",
       "    </tr>\n",
       "    <tr>\n",
       "      <th>3</th>\n",
       "      <td>1000</td>\n",
       "      <td>june</td>\n",
       "      <td>43</td>\n",
       "      <td>172</td>\n",
       "    </tr>\n",
       "    <tr>\n",
       "      <th>4</th>\n",
       "      <td>1000</td>\n",
       "      <td>may</td>\n",
       "      <td>22</td>\n",
       "      <td>159</td>\n",
       "    </tr>\n",
       "    <tr>\n",
       "      <th>5</th>\n",
       "      <td>1000</td>\n",
       "      <td>november</td>\n",
       "      <td>43</td>\n",
       "      <td>338</td>\n",
       "    </tr>\n",
       "    <tr>\n",
       "      <th>6</th>\n",
       "      <td>1000</td>\n",
       "      <td>october</td>\n",
       "      <td>57</td>\n",
       "      <td>350</td>\n",
       "    </tr>\n",
       "    <tr>\n",
       "      <th>7</th>\n",
       "      <td>1000</td>\n",
       "      <td>september</td>\n",
       "      <td>58</td>\n",
       "      <td>466</td>\n",
       "    </tr>\n",
       "    <tr>\n",
       "      <th>8</th>\n",
       "      <td>1001</td>\n",
       "      <td>december</td>\n",
       "      <td>63</td>\n",
       "      <td>414</td>\n",
       "    </tr>\n",
       "    <tr>\n",
       "      <th>9</th>\n",
       "      <td>1001</td>\n",
       "      <td>november</td>\n",
       "      <td>59</td>\n",
       "      <td>430</td>\n",
       "    </tr>\n",
       "  </tbody>\n",
       "</table>\n",
       "</div>"
      ],
      "text/plain": [
       "   user_id      month  calls_count  call_minutes\n",
       "0     1000     august           52           408\n",
       "1     1000   december           46           333\n",
       "2     1000       july           47           340\n",
       "3     1000       june           43           172\n",
       "4     1000        may           22           159\n",
       "5     1000   november           43           338\n",
       "6     1000    october           57           350\n",
       "7     1000  september           58           466\n",
       "8     1001   december           63           414\n",
       "9     1001   november           59           430"
      ]
     },
     "execution_count": 36,
     "metadata": {},
     "output_type": "execute_result"
    }
   ],
   "source": [
    "calls_month = calls.groupby(['user_id', 'call_month']).agg({'id_call':'count', 'duration':'sum'}).reset_index() # cоздадим новую таблицу с числом звонков и суммой звонков в месяц по каждому клиенту\n",
    "calls_month.columns = ['user_id', 'month', 'calls_count', 'call_minutes']\n",
    "calls_month.head(10)"
   ]
  },
  {
   "cell_type": "code",
   "execution_count": 37,
   "metadata": {},
   "outputs": [
    {
     "name": "stdout",
     "output_type": "stream",
     "text": [
      "<class 'pandas.core.frame.DataFrame'>\n",
      "RangeIndex: 3174 entries, 0 to 3173\n",
      "Data columns (total 4 columns):\n",
      " #   Column        Non-Null Count  Dtype \n",
      "---  ------        --------------  ----- \n",
      " 0   user_id       3174 non-null   int64 \n",
      " 1   month         3174 non-null   object\n",
      " 2   calls_count   3174 non-null   int64 \n",
      " 3   call_minutes  3174 non-null   int32 \n",
      "dtypes: int32(1), int64(2), object(1)\n",
      "memory usage: 86.9+ KB\n"
     ]
    }
   ],
   "source": [
    "calls_month.info()"
   ]
  },
  {
   "cell_type": "code",
   "execution_count": 38,
   "metadata": {},
   "outputs": [
    {
     "data": {
      "text/plain": [
       "user_id         0\n",
       "month           0\n",
       "calls_count     0\n",
       "call_minutes    0\n",
       "dtype: int64"
      ]
     },
     "execution_count": 38,
     "metadata": {},
     "output_type": "execute_result"
    }
   ],
   "source": [
    "calls_month.isna().sum()"
   ]
  },
  {
   "cell_type": "markdown",
   "metadata": {},
   "source": [
    "**Вывод**\n",
    "<br><br>\n",
    "Были создана новая таблица с количеством сделанных звонков и израсходованных минут разговора по месяцам.\n",
    "<br><br>\n",
    "Судя по числу строк в таблицах, мы видим, что осталось не 6000 строк (500 клиентов по 12 месяцев), а 3174 строки. \n",
    "Следовательно значительная часть клиентов вообще не разговаривали ни разу в какие-то месяца 2018 года.\n"
   ]
  },
  {
   "cell_type": "markdown",
   "metadata": {},
   "source": [
    "#### Посчитаем количество отправленных сообщений по месяцам"
   ]
  },
  {
   "cell_type": "markdown",
   "metadata": {},
   "source": [
    "Добавим столбец месяца в таблицу `messages`:"
   ]
  },
  {
   "cell_type": "code",
   "execution_count": 39,
   "metadata": {},
   "outputs": [],
   "source": [
    "messages['message_month'] = messages['message_date'].dt.month # добавляем колонку номера месяца"
   ]
  },
  {
   "cell_type": "markdown",
   "metadata": {},
   "source": [
    "Заменим порядковое значение месяца на номер месяца и первые три буквы названия месяца в таблице `messages` для корректной сортировки в сводных таблицах:"
   ]
  },
  {
   "cell_type": "code",
   "execution_count": 40,
   "metadata": {},
   "outputs": [],
   "source": [
    "def message(row): # создадим функцию которой передаём порядковое значение месяца и меняем его название\n",
    "    if row['message_month'] == 1:\n",
    "        return 'january'\n",
    "    elif row['message_month'] == 2:\n",
    "        return 'february'\n",
    "    elif row['message_month'] == 3:\n",
    "        return 'march'\n",
    "    elif row['message_month'] == 4:\n",
    "        return 'april'\n",
    "    elif row['message_month'] == 5:\n",
    "        return 'may'\n",
    "    elif row['message_month'] == 6:\n",
    "        return 'june'\n",
    "    elif row['message_month'] == 7:\n",
    "        return 'july'\n",
    "    elif row['message_month'] == 8:\n",
    "        return 'august'\n",
    "    elif row['message_month'] == 9:\n",
    "        return 'september'\n",
    "    elif row['message_month'] == 10:\n",
    "        return 'october'\n",
    "    elif row['message_month'] == 11:\n",
    "        return 'november'\n",
    "    elif row['message_month'] == 12:\n",
    "        return 'december'\n",
    "    else:\n",
    "        return row['message_month'] == row['message_month']\n",
    "    \n",
    "messages['message_month'] = messages.apply(message, axis = 1)"
   ]
  },
  {
   "cell_type": "markdown",
   "metadata": {},
   "source": [
    "Создадим новую таблицу с числом отправленных сообщений в месяц по каждому клиенту:"
   ]
  },
  {
   "cell_type": "code",
   "execution_count": 41,
   "metadata": {},
   "outputs": [
    {
     "data": {
      "text/html": [
       "<div>\n",
       "<style scoped>\n",
       "    .dataframe tbody tr th:only-of-type {\n",
       "        vertical-align: middle;\n",
       "    }\n",
       "\n",
       "    .dataframe tbody tr th {\n",
       "        vertical-align: top;\n",
       "    }\n",
       "\n",
       "    .dataframe thead th {\n",
       "        text-align: right;\n",
       "    }\n",
       "</style>\n",
       "<table border=\"1\" class=\"dataframe\">\n",
       "  <thead>\n",
       "    <tr style=\"text-align: right;\">\n",
       "      <th></th>\n",
       "      <th>user_id</th>\n",
       "      <th>month</th>\n",
       "      <th>messages_count</th>\n",
       "    </tr>\n",
       "  </thead>\n",
       "  <tbody>\n",
       "    <tr>\n",
       "      <th>0</th>\n",
       "      <td>1000</td>\n",
       "      <td>august</td>\n",
       "      <td>81</td>\n",
       "    </tr>\n",
       "    <tr>\n",
       "      <th>1</th>\n",
       "      <td>1000</td>\n",
       "      <td>december</td>\n",
       "      <td>70</td>\n",
       "    </tr>\n",
       "    <tr>\n",
       "      <th>2</th>\n",
       "      <td>1000</td>\n",
       "      <td>july</td>\n",
       "      <td>75</td>\n",
       "    </tr>\n",
       "    <tr>\n",
       "      <th>3</th>\n",
       "      <td>1000</td>\n",
       "      <td>june</td>\n",
       "      <td>60</td>\n",
       "    </tr>\n",
       "    <tr>\n",
       "      <th>4</th>\n",
       "      <td>1000</td>\n",
       "      <td>may</td>\n",
       "      <td>22</td>\n",
       "    </tr>\n",
       "    <tr>\n",
       "      <th>5</th>\n",
       "      <td>1000</td>\n",
       "      <td>november</td>\n",
       "      <td>58</td>\n",
       "    </tr>\n",
       "    <tr>\n",
       "      <th>6</th>\n",
       "      <td>1000</td>\n",
       "      <td>october</td>\n",
       "      <td>73</td>\n",
       "    </tr>\n",
       "    <tr>\n",
       "      <th>7</th>\n",
       "      <td>1000</td>\n",
       "      <td>september</td>\n",
       "      <td>57</td>\n",
       "    </tr>\n",
       "    <tr>\n",
       "      <th>8</th>\n",
       "      <td>1002</td>\n",
       "      <td>august</td>\n",
       "      <td>13</td>\n",
       "    </tr>\n",
       "    <tr>\n",
       "      <th>9</th>\n",
       "      <td>1002</td>\n",
       "      <td>december</td>\n",
       "      <td>12</td>\n",
       "    </tr>\n",
       "  </tbody>\n",
       "</table>\n",
       "</div>"
      ],
      "text/plain": [
       "   user_id      month  messages_count\n",
       "0     1000     august              81\n",
       "1     1000   december              70\n",
       "2     1000       july              75\n",
       "3     1000       june              60\n",
       "4     1000        may              22\n",
       "5     1000   november              58\n",
       "6     1000    october              73\n",
       "7     1000  september              57\n",
       "8     1002     august              13\n",
       "9     1002   december              12"
      ]
     },
     "execution_count": 41,
     "metadata": {},
     "output_type": "execute_result"
    }
   ],
   "source": [
    "messages_month = messages.groupby(['user_id', 'message_month']).id_message.count().reset_index()# cоздадим новую таблицу с числом звонков и суммой звонков в месяц по каждому клиенту\n",
    "messages_month.columns = ['user_id', 'month', 'messages_count']\n",
    "messages_month.head(10)"
   ]
  },
  {
   "cell_type": "code",
   "execution_count": 42,
   "metadata": {},
   "outputs": [
    {
     "name": "stdout",
     "output_type": "stream",
     "text": [
      "<class 'pandas.core.frame.DataFrame'>\n",
      "RangeIndex: 2717 entries, 0 to 2716\n",
      "Data columns (total 3 columns):\n",
      " #   Column          Non-Null Count  Dtype \n",
      "---  ------          --------------  ----- \n",
      " 0   user_id         2717 non-null   int64 \n",
      " 1   month           2717 non-null   object\n",
      " 2   messages_count  2717 non-null   int64 \n",
      "dtypes: int64(2), object(1)\n",
      "memory usage: 63.8+ KB\n"
     ]
    }
   ],
   "source": [
    "messages_month.info()"
   ]
  },
  {
   "cell_type": "code",
   "execution_count": 43,
   "metadata": {},
   "outputs": [
    {
     "data": {
      "text/plain": [
       "user_id           0\n",
       "month             0\n",
       "messages_count    0\n",
       "dtype: int64"
      ]
     },
     "execution_count": 43,
     "metadata": {},
     "output_type": "execute_result"
    }
   ],
   "source": [
    "messages_month.isna().sum()"
   ]
  },
  {
   "cell_type": "markdown",
   "metadata": {},
   "source": [
    "**Вывод**\n",
    "<br><br>\n",
    "Была создана новая таблица с количеством отправленных сообщений каждым клиентом по месяцам.\n",
    "<br><br>\n",
    "Судя по числу строк в таблице, мы видим, что осталось не 6000 строк (500 клиентов по 12 месяцев), а 2717 строки.\n",
    "Следовательно значительная часть клиентов вообще нe отправляли сообщения ни разу в какие-то месяца 2018 года."
   ]
  },
  {
   "cell_type": "markdown",
   "metadata": {},
   "source": [
    "#### Посчитаем объем израсходованного интернет-трафика по месяцам"
   ]
  },
  {
   "cell_type": "markdown",
   "metadata": {},
   "source": [
    "При расчёте нужно учитывать, что для веб-трафика отдельные сессии не считаются. Вместо этого общая сумма за месяц округляется в бо́льшую сторону. Если абонент использует 1025 мегабайт в этом месяце, с него возьмут плату за 2 гигабайта.\n",
    "<br><br>\n",
    "Добавим столбец месяца в таблицу `internet`:"
   ]
  },
  {
   "cell_type": "code",
   "execution_count": 44,
   "metadata": {},
   "outputs": [],
   "source": [
    "internet['session_month'] = internet['session_date'].dt.month # добавляем колонку номера месяца"
   ]
  },
  {
   "cell_type": "markdown",
   "metadata": {},
   "source": [
    "Заменим порядковое значение месяца на номер месяца и первые три буквы названия месяца в таблице `internet` для корректной сортировки в сводных таблицах:"
   ]
  },
  {
   "cell_type": "code",
   "execution_count": 45,
   "metadata": {},
   "outputs": [],
   "source": [
    "def inet(row): # создадим функцию которой передаём порядковое значение месяца и меняем его название\n",
    "    if row['session_month'] == 1:\n",
    "        return 'january'\n",
    "    elif row['session_month'] == 2:\n",
    "        return 'february'\n",
    "    elif row['session_month'] == 3:\n",
    "        return 'march'\n",
    "    elif row['session_month'] == 4:\n",
    "        return 'april'\n",
    "    elif row['session_month'] == 5:\n",
    "        return 'may'\n",
    "    elif row['session_month'] == 6:\n",
    "        return 'june'\n",
    "    elif row['session_month'] == 7:\n",
    "        return 'july'\n",
    "    elif row['session_month'] == 8:\n",
    "        return 'august'\n",
    "    elif row['session_month'] == 9:\n",
    "        return 'september'\n",
    "    elif row['session_month'] == 10:\n",
    "        return 'october'\n",
    "    elif row['session_month'] == 11:\n",
    "        return 'november'\n",
    "    elif row['session_month'] == 12:\n",
    "        return 'december'\n",
    "    else:\n",
    "        return row['session_month'] == row['session_month']\n",
    "    \n",
    "internet['session_month'] = internet.apply(inet, axis = 1)"
   ]
  },
  {
   "cell_type": "markdown",
   "metadata": {},
   "source": [
    "Создадим новую таблицу с объёмом израсходованного интернет-трафика в месяц по каждому клиенту:"
   ]
  },
  {
   "cell_type": "code",
   "execution_count": 46,
   "metadata": {},
   "outputs": [
    {
     "data": {
      "text/html": [
       "<div>\n",
       "<style scoped>\n",
       "    .dataframe tbody tr th:only-of-type {\n",
       "        vertical-align: middle;\n",
       "    }\n",
       "\n",
       "    .dataframe tbody tr th {\n",
       "        vertical-align: top;\n",
       "    }\n",
       "\n",
       "    .dataframe thead th {\n",
       "        text-align: right;\n",
       "    }\n",
       "</style>\n",
       "<table border=\"1\" class=\"dataframe\">\n",
       "  <thead>\n",
       "    <tr style=\"text-align: right;\">\n",
       "      <th></th>\n",
       "      <th>user_id</th>\n",
       "      <th>month</th>\n",
       "      <th>internet_volume</th>\n",
       "    </tr>\n",
       "  </thead>\n",
       "  <tbody>\n",
       "    <tr>\n",
       "      <th>0</th>\n",
       "      <td>1000</td>\n",
       "      <td>august</td>\n",
       "      <td>14055.93</td>\n",
       "    </tr>\n",
       "    <tr>\n",
       "      <th>1</th>\n",
       "      <td>1000</td>\n",
       "      <td>december</td>\n",
       "      <td>9817.61</td>\n",
       "    </tr>\n",
       "    <tr>\n",
       "      <th>2</th>\n",
       "      <td>1000</td>\n",
       "      <td>july</td>\n",
       "      <td>14003.64</td>\n",
       "    </tr>\n",
       "    <tr>\n",
       "      <th>3</th>\n",
       "      <td>1000</td>\n",
       "      <td>june</td>\n",
       "      <td>23233.77</td>\n",
       "    </tr>\n",
       "    <tr>\n",
       "      <th>4</th>\n",
       "      <td>1000</td>\n",
       "      <td>may</td>\n",
       "      <td>2253.49</td>\n",
       "    </tr>\n",
       "    <tr>\n",
       "      <th>5</th>\n",
       "      <td>1000</td>\n",
       "      <td>november</td>\n",
       "      <td>14756.47</td>\n",
       "    </tr>\n",
       "    <tr>\n",
       "      <th>6</th>\n",
       "      <td>1000</td>\n",
       "      <td>october</td>\n",
       "      <td>14702.49</td>\n",
       "    </tr>\n",
       "    <tr>\n",
       "      <th>7</th>\n",
       "      <td>1000</td>\n",
       "      <td>september</td>\n",
       "      <td>14568.91</td>\n",
       "    </tr>\n",
       "    <tr>\n",
       "      <th>8</th>\n",
       "      <td>1001</td>\n",
       "      <td>december</td>\n",
       "      <td>14036.66</td>\n",
       "    </tr>\n",
       "    <tr>\n",
       "      <th>9</th>\n",
       "      <td>1001</td>\n",
       "      <td>november</td>\n",
       "      <td>18429.34</td>\n",
       "    </tr>\n",
       "  </tbody>\n",
       "</table>\n",
       "</div>"
      ],
      "text/plain": [
       "   user_id      month  internet_volume\n",
       "0     1000     august         14055.93\n",
       "1     1000   december          9817.61\n",
       "2     1000       july         14003.64\n",
       "3     1000       june         23233.77\n",
       "4     1000        may          2253.49\n",
       "5     1000   november         14756.47\n",
       "6     1000    october         14702.49\n",
       "7     1000  september         14568.91\n",
       "8     1001   december         14036.66\n",
       "9     1001   november         18429.34"
      ]
     },
     "execution_count": 46,
     "metadata": {},
     "output_type": "execute_result"
    }
   ],
   "source": [
    "internet_month = internet.groupby(['user_id', 'session_month']).mb_used.sum().reset_index()# cоздадим новую таблицу с числом звонков и суммой звонков в месяц по каждому клиенту\n",
    "internet_month.columns = ['user_id', 'month', 'internet_volume']\n",
    "internet_month.head(10)"
   ]
  },
  {
   "cell_type": "markdown",
   "metadata": {},
   "source": [
    "Округлим объёмом израсходованного интернет-трафика в месяц по каждому клиенту до гигабайта в большую сторону:"
   ]
  },
  {
   "cell_type": "code",
   "execution_count": 47,
   "metadata": {},
   "outputs": [
    {
     "data": {
      "text/html": [
       "<div>\n",
       "<style scoped>\n",
       "    .dataframe tbody tr th:only-of-type {\n",
       "        vertical-align: middle;\n",
       "    }\n",
       "\n",
       "    .dataframe tbody tr th {\n",
       "        vertical-align: top;\n",
       "    }\n",
       "\n",
       "    .dataframe thead th {\n",
       "        text-align: right;\n",
       "    }\n",
       "</style>\n",
       "<table border=\"1\" class=\"dataframe\">\n",
       "  <thead>\n",
       "    <tr style=\"text-align: right;\">\n",
       "      <th></th>\n",
       "      <th>user_id</th>\n",
       "      <th>month</th>\n",
       "      <th>internet_volume</th>\n",
       "    </tr>\n",
       "  </thead>\n",
       "  <tbody>\n",
       "    <tr>\n",
       "      <th>0</th>\n",
       "      <td>1000</td>\n",
       "      <td>august</td>\n",
       "      <td>14</td>\n",
       "    </tr>\n",
       "    <tr>\n",
       "      <th>1</th>\n",
       "      <td>1000</td>\n",
       "      <td>december</td>\n",
       "      <td>10</td>\n",
       "    </tr>\n",
       "    <tr>\n",
       "      <th>2</th>\n",
       "      <td>1000</td>\n",
       "      <td>july</td>\n",
       "      <td>14</td>\n",
       "    </tr>\n",
       "    <tr>\n",
       "      <th>3</th>\n",
       "      <td>1000</td>\n",
       "      <td>june</td>\n",
       "      <td>23</td>\n",
       "    </tr>\n",
       "    <tr>\n",
       "      <th>4</th>\n",
       "      <td>1000</td>\n",
       "      <td>may</td>\n",
       "      <td>3</td>\n",
       "    </tr>\n",
       "    <tr>\n",
       "      <th>5</th>\n",
       "      <td>1000</td>\n",
       "      <td>november</td>\n",
       "      <td>15</td>\n",
       "    </tr>\n",
       "    <tr>\n",
       "      <th>6</th>\n",
       "      <td>1000</td>\n",
       "      <td>october</td>\n",
       "      <td>15</td>\n",
       "    </tr>\n",
       "    <tr>\n",
       "      <th>7</th>\n",
       "      <td>1000</td>\n",
       "      <td>september</td>\n",
       "      <td>15</td>\n",
       "    </tr>\n",
       "    <tr>\n",
       "      <th>8</th>\n",
       "      <td>1001</td>\n",
       "      <td>december</td>\n",
       "      <td>14</td>\n",
       "    </tr>\n",
       "    <tr>\n",
       "      <th>9</th>\n",
       "      <td>1001</td>\n",
       "      <td>november</td>\n",
       "      <td>18</td>\n",
       "    </tr>\n",
       "  </tbody>\n",
       "</table>\n",
       "</div>"
      ],
      "text/plain": [
       "   user_id      month  internet_volume\n",
       "0     1000     august               14\n",
       "1     1000   december               10\n",
       "2     1000       july               14\n",
       "3     1000       june               23\n",
       "4     1000        may                3\n",
       "5     1000   november               15\n",
       "6     1000    october               15\n",
       "7     1000  september               15\n",
       "8     1001   december               14\n",
       "9     1001   november               18"
      ]
     },
     "execution_count": 47,
     "metadata": {},
     "output_type": "execute_result"
    }
   ],
   "source": [
    "internet_month['internet_volume'] = internet_month.internet_volume.apply(lambda x: math.ceil(x/1024))# объём израсходованного интернет-трафика в месяц округлим отдельно до 1 гигабайта в большую сторону\n",
    "internet_month.head(10)"
   ]
  },
  {
   "cell_type": "markdown",
   "metadata": {},
   "source": [
    "**Вывод**\n",
    "<br><br>\n",
    "Была создана новая таблица с объёмом израсходованного интернет-трафика в месяц по каждому клиенту с округлением до гигабайта в большую сторону.\n",
    "<br><br>\n",
    "Судя по числу строк в таблице, мы видим, что осталось не 6000 строк (500 клиентов по 12 месяцев), а 3203 строки.\n",
    "Следовательно значительная часть клиентов вообще нe пользовались интернетом ни разу за 2018 год.\n"
   ]
  },
  {
   "cell_type": "markdown",
   "metadata": {},
   "source": [
    "#### Посчитаем помесячную выручку с каждого пользователя"
   ]
  },
  {
   "cell_type": "markdown",
   "metadata": {},
   "source": [
    "Изначально в таблицу `tariffs` добавим столбец  `gb_per_month_included` с округлённым до гигабайтов размером пакета включённого в тариф интернета:"
   ]
  },
  {
   "cell_type": "code",
   "execution_count": 48,
   "metadata": {},
   "outputs": [],
   "source": [
    "tariffs['gb_per_month_included'] = tariffs['mb_per_month_included'] / 1024"
   ]
  },
  {
   "cell_type": "markdown",
   "metadata": {},
   "source": [
    "Объединим таблицы с раходами минут, сообщений и интернет трафика по столбцам `user_id` и `month`:"
   ]
  },
  {
   "cell_type": "code",
   "execution_count": 49,
   "metadata": {
    "scrolled": false
   },
   "outputs": [],
   "source": [
    "all_rounds = calls_month.merge(messages_month, on= ['user_id', 'month'], how='outer').merge(internet_month, on= ['user_id', 'month'], how='outer') # присоединяем к таблице со звонками столбцы с мообщениями и мегабайтами\n",
    "all_rounds = all_rounds.fillna(0) # заменим пропуски в новой таблице на 0"
   ]
  },
  {
   "cell_type": "markdown",
   "metadata": {},
   "source": [
    "Добавим к получившейся таблице данные по тарифам клиентов, город их проживания и описание каждого тарифа:"
   ]
  },
  {
   "cell_type": "code",
   "execution_count": 50,
   "metadata": {
    "scrolled": false
   },
   "outputs": [
    {
     "data": {
      "text/html": [
       "<div>\n",
       "<style scoped>\n",
       "    .dataframe tbody tr th:only-of-type {\n",
       "        vertical-align: middle;\n",
       "    }\n",
       "\n",
       "    .dataframe tbody tr th {\n",
       "        vertical-align: top;\n",
       "    }\n",
       "\n",
       "    .dataframe thead th {\n",
       "        text-align: right;\n",
       "    }\n",
       "</style>\n",
       "<table border=\"1\" class=\"dataframe\">\n",
       "  <thead>\n",
       "    <tr style=\"text-align: right;\">\n",
       "      <th></th>\n",
       "      <th>user_id</th>\n",
       "      <th>month</th>\n",
       "      <th>calls_count</th>\n",
       "      <th>call_minutes</th>\n",
       "      <th>messages_count</th>\n",
       "      <th>internet_volume</th>\n",
       "      <th>city</th>\n",
       "      <th>tariff</th>\n",
       "      <th>messages_included</th>\n",
       "      <th>mb_per_month_included</th>\n",
       "      <th>minutes_included</th>\n",
       "      <th>rub_monthly_fee</th>\n",
       "      <th>rub_per_gb</th>\n",
       "      <th>rub_per_message</th>\n",
       "      <th>rub_per_minute</th>\n",
       "      <th>gb_per_month_included</th>\n",
       "    </tr>\n",
       "  </thead>\n",
       "  <tbody>\n",
       "    <tr>\n",
       "      <th>0</th>\n",
       "      <td>1000</td>\n",
       "      <td>august</td>\n",
       "      <td>52.0</td>\n",
       "      <td>408.0</td>\n",
       "      <td>81.0</td>\n",
       "      <td>14.0</td>\n",
       "      <td>Краснодар</td>\n",
       "      <td>ultra</td>\n",
       "      <td>1000</td>\n",
       "      <td>30720</td>\n",
       "      <td>3000</td>\n",
       "      <td>1950</td>\n",
       "      <td>150</td>\n",
       "      <td>1</td>\n",
       "      <td>1</td>\n",
       "      <td>30.0</td>\n",
       "    </tr>\n",
       "    <tr>\n",
       "      <th>1</th>\n",
       "      <td>1000</td>\n",
       "      <td>december</td>\n",
       "      <td>46.0</td>\n",
       "      <td>333.0</td>\n",
       "      <td>70.0</td>\n",
       "      <td>10.0</td>\n",
       "      <td>Краснодар</td>\n",
       "      <td>ultra</td>\n",
       "      <td>1000</td>\n",
       "      <td>30720</td>\n",
       "      <td>3000</td>\n",
       "      <td>1950</td>\n",
       "      <td>150</td>\n",
       "      <td>1</td>\n",
       "      <td>1</td>\n",
       "      <td>30.0</td>\n",
       "    </tr>\n",
       "    <tr>\n",
       "      <th>2</th>\n",
       "      <td>1000</td>\n",
       "      <td>july</td>\n",
       "      <td>47.0</td>\n",
       "      <td>340.0</td>\n",
       "      <td>75.0</td>\n",
       "      <td>14.0</td>\n",
       "      <td>Краснодар</td>\n",
       "      <td>ultra</td>\n",
       "      <td>1000</td>\n",
       "      <td>30720</td>\n",
       "      <td>3000</td>\n",
       "      <td>1950</td>\n",
       "      <td>150</td>\n",
       "      <td>1</td>\n",
       "      <td>1</td>\n",
       "      <td>30.0</td>\n",
       "    </tr>\n",
       "    <tr>\n",
       "      <th>3</th>\n",
       "      <td>1000</td>\n",
       "      <td>june</td>\n",
       "      <td>43.0</td>\n",
       "      <td>172.0</td>\n",
       "      <td>60.0</td>\n",
       "      <td>23.0</td>\n",
       "      <td>Краснодар</td>\n",
       "      <td>ultra</td>\n",
       "      <td>1000</td>\n",
       "      <td>30720</td>\n",
       "      <td>3000</td>\n",
       "      <td>1950</td>\n",
       "      <td>150</td>\n",
       "      <td>1</td>\n",
       "      <td>1</td>\n",
       "      <td>30.0</td>\n",
       "    </tr>\n",
       "    <tr>\n",
       "      <th>4</th>\n",
       "      <td>1000</td>\n",
       "      <td>may</td>\n",
       "      <td>22.0</td>\n",
       "      <td>159.0</td>\n",
       "      <td>22.0</td>\n",
       "      <td>3.0</td>\n",
       "      <td>Краснодар</td>\n",
       "      <td>ultra</td>\n",
       "      <td>1000</td>\n",
       "      <td>30720</td>\n",
       "      <td>3000</td>\n",
       "      <td>1950</td>\n",
       "      <td>150</td>\n",
       "      <td>1</td>\n",
       "      <td>1</td>\n",
       "      <td>30.0</td>\n",
       "    </tr>\n",
       "    <tr>\n",
       "      <th>5</th>\n",
       "      <td>1000</td>\n",
       "      <td>november</td>\n",
       "      <td>43.0</td>\n",
       "      <td>338.0</td>\n",
       "      <td>58.0</td>\n",
       "      <td>15.0</td>\n",
       "      <td>Краснодар</td>\n",
       "      <td>ultra</td>\n",
       "      <td>1000</td>\n",
       "      <td>30720</td>\n",
       "      <td>3000</td>\n",
       "      <td>1950</td>\n",
       "      <td>150</td>\n",
       "      <td>1</td>\n",
       "      <td>1</td>\n",
       "      <td>30.0</td>\n",
       "    </tr>\n",
       "    <tr>\n",
       "      <th>6</th>\n",
       "      <td>1000</td>\n",
       "      <td>october</td>\n",
       "      <td>57.0</td>\n",
       "      <td>350.0</td>\n",
       "      <td>73.0</td>\n",
       "      <td>15.0</td>\n",
       "      <td>Краснодар</td>\n",
       "      <td>ultra</td>\n",
       "      <td>1000</td>\n",
       "      <td>30720</td>\n",
       "      <td>3000</td>\n",
       "      <td>1950</td>\n",
       "      <td>150</td>\n",
       "      <td>1</td>\n",
       "      <td>1</td>\n",
       "      <td>30.0</td>\n",
       "    </tr>\n",
       "    <tr>\n",
       "      <th>7</th>\n",
       "      <td>1000</td>\n",
       "      <td>september</td>\n",
       "      <td>58.0</td>\n",
       "      <td>466.0</td>\n",
       "      <td>57.0</td>\n",
       "      <td>15.0</td>\n",
       "      <td>Краснодар</td>\n",
       "      <td>ultra</td>\n",
       "      <td>1000</td>\n",
       "      <td>30720</td>\n",
       "      <td>3000</td>\n",
       "      <td>1950</td>\n",
       "      <td>150</td>\n",
       "      <td>1</td>\n",
       "      <td>1</td>\n",
       "      <td>30.0</td>\n",
       "    </tr>\n",
       "    <tr>\n",
       "      <th>8</th>\n",
       "      <td>1001</td>\n",
       "      <td>december</td>\n",
       "      <td>63.0</td>\n",
       "      <td>414.0</td>\n",
       "      <td>0.0</td>\n",
       "      <td>14.0</td>\n",
       "      <td>Москва</td>\n",
       "      <td>smart</td>\n",
       "      <td>50</td>\n",
       "      <td>15360</td>\n",
       "      <td>500</td>\n",
       "      <td>550</td>\n",
       "      <td>200</td>\n",
       "      <td>3</td>\n",
       "      <td>3</td>\n",
       "      <td>15.0</td>\n",
       "    </tr>\n",
       "    <tr>\n",
       "      <th>9</th>\n",
       "      <td>1001</td>\n",
       "      <td>november</td>\n",
       "      <td>59.0</td>\n",
       "      <td>430.0</td>\n",
       "      <td>0.0</td>\n",
       "      <td>18.0</td>\n",
       "      <td>Москва</td>\n",
       "      <td>smart</td>\n",
       "      <td>50</td>\n",
       "      <td>15360</td>\n",
       "      <td>500</td>\n",
       "      <td>550</td>\n",
       "      <td>200</td>\n",
       "      <td>3</td>\n",
       "      <td>3</td>\n",
       "      <td>15.0</td>\n",
       "    </tr>\n",
       "  </tbody>\n",
       "</table>\n",
       "</div>"
      ],
      "text/plain": [
       "   user_id      month  calls_count  call_minutes  messages_count  \\\n",
       "0     1000     august         52.0         408.0            81.0   \n",
       "1     1000   december         46.0         333.0            70.0   \n",
       "2     1000       july         47.0         340.0            75.0   \n",
       "3     1000       june         43.0         172.0            60.0   \n",
       "4     1000        may         22.0         159.0            22.0   \n",
       "5     1000   november         43.0         338.0            58.0   \n",
       "6     1000    october         57.0         350.0            73.0   \n",
       "7     1000  september         58.0         466.0            57.0   \n",
       "8     1001   december         63.0         414.0             0.0   \n",
       "9     1001   november         59.0         430.0             0.0   \n",
       "\n",
       "   internet_volume       city tariff  messages_included  \\\n",
       "0             14.0  Краснодар  ultra               1000   \n",
       "1             10.0  Краснодар  ultra               1000   \n",
       "2             14.0  Краснодар  ultra               1000   \n",
       "3             23.0  Краснодар  ultra               1000   \n",
       "4              3.0  Краснодар  ultra               1000   \n",
       "5             15.0  Краснодар  ultra               1000   \n",
       "6             15.0  Краснодар  ultra               1000   \n",
       "7             15.0  Краснодар  ultra               1000   \n",
       "8             14.0     Москва  smart                 50   \n",
       "9             18.0     Москва  smart                 50   \n",
       "\n",
       "   mb_per_month_included  minutes_included  rub_monthly_fee  rub_per_gb  \\\n",
       "0                  30720              3000             1950         150   \n",
       "1                  30720              3000             1950         150   \n",
       "2                  30720              3000             1950         150   \n",
       "3                  30720              3000             1950         150   \n",
       "4                  30720              3000             1950         150   \n",
       "5                  30720              3000             1950         150   \n",
       "6                  30720              3000             1950         150   \n",
       "7                  30720              3000             1950         150   \n",
       "8                  15360               500              550         200   \n",
       "9                  15360               500              550         200   \n",
       "\n",
       "   rub_per_message  rub_per_minute  gb_per_month_included  \n",
       "0                1               1                   30.0  \n",
       "1                1               1                   30.0  \n",
       "2                1               1                   30.0  \n",
       "3                1               1                   30.0  \n",
       "4                1               1                   30.0  \n",
       "5                1               1                   30.0  \n",
       "6                1               1                   30.0  \n",
       "7                1               1                   30.0  \n",
       "8                3               3                   15.0  \n",
       "9                3               3                   15.0  "
      ]
     },
     "execution_count": 50,
     "metadata": {},
     "output_type": "execute_result"
    }
   ],
   "source": [
    "all_rounds = all_rounds.merge(users[['user_id', 'city', 'tariff']], on = ['user_id'], how = 'left').merge(tariffs, on = ['tariff'], how = 'left') \n",
    "all_rounds.head(10)"
   ]
  },
  {
   "cell_type": "markdown",
   "metadata": {},
   "source": [
    "Произведём рассчёт по тарифу на превышающую сумму минут, если клиент не уместился во включённые в тариф минуты, а ячейки в которых получились отрицательные значения заменим нулями с помощью метода `.clip(lower=0)`:"
   ]
  },
  {
   "cell_type": "code",
   "execution_count": 51,
   "metadata": {},
   "outputs": [],
   "source": [
    "all_rounds['overrun_calls'] = \\\n",
    "((all_rounds['call_minutes'] - all_rounds['minutes_included']) * all_rounds['rub_per_minute']).clip(lower=0)"
   ]
  },
  {
   "cell_type": "markdown",
   "metadata": {},
   "source": [
    "Произведём рассчёт по тарифу на превышающую сумму сообщений, если клиент не уместился во включённые в тариф сообщения, а ячейки в которых получились отрицательные значения заменим нулями с помощью метода `.clip(lower=0)`:"
   ]
  },
  {
   "cell_type": "code",
   "execution_count": 52,
   "metadata": {},
   "outputs": [],
   "source": [
    "all_rounds['overrun_messages'] = \\\n",
    "((all_rounds['messages_count'] - all_rounds['minutes_included']) * all_rounds['rub_per_message']).clip(lower=0)"
   ]
  },
  {
   "cell_type": "markdown",
   "metadata": {},
   "source": [
    "Произведём рассчёт по тарифу на превышающую сумму потраченного трафика интернета, если клиент не уместился во включённые в тариф пакеты интернета, а ячейки в которых получились отрицательные значения заменим нулями с помощью метода `.clip(lower=0)`:"
   ]
  },
  {
   "cell_type": "code",
   "execution_count": 53,
   "metadata": {},
   "outputs": [],
   "source": [
    "all_rounds['overrun_internet'] = \\\n",
    "((all_rounds['internet_volume'] - all_rounds['gb_per_month_included']) * all_rounds['rub_per_gb']).clip(lower=0)"
   ]
  },
  {
   "cell_type": "markdown",
   "metadata": {},
   "source": [
    "Произведём расчёт затрат на связь по каждому клиенту с разбивкой по месяцам сложив плату за тариф и стоимость платных услуг по звонкам, сообщениям и интернету, если клиент превысил включённый пакет и запишем эти значения в столбец `total_price`:"
   ]
  },
  {
   "cell_type": "code",
   "execution_count": 54,
   "metadata": {},
   "outputs": [
    {
     "data": {
      "text/html": [
       "<div>\n",
       "<style scoped>\n",
       "    .dataframe tbody tr th:only-of-type {\n",
       "        vertical-align: middle;\n",
       "    }\n",
       "\n",
       "    .dataframe tbody tr th {\n",
       "        vertical-align: top;\n",
       "    }\n",
       "\n",
       "    .dataframe thead th {\n",
       "        text-align: right;\n",
       "    }\n",
       "</style>\n",
       "<table border=\"1\" class=\"dataframe\">\n",
       "  <thead>\n",
       "    <tr style=\"text-align: right;\">\n",
       "      <th></th>\n",
       "      <th>user_id</th>\n",
       "      <th>month</th>\n",
       "      <th>calls_count</th>\n",
       "      <th>call_minutes</th>\n",
       "      <th>messages_count</th>\n",
       "      <th>internet_volume</th>\n",
       "      <th>city</th>\n",
       "      <th>tariff</th>\n",
       "      <th>messages_included</th>\n",
       "      <th>mb_per_month_included</th>\n",
       "      <th>minutes_included</th>\n",
       "      <th>rub_monthly_fee</th>\n",
       "      <th>rub_per_gb</th>\n",
       "      <th>rub_per_message</th>\n",
       "      <th>rub_per_minute</th>\n",
       "      <th>gb_per_month_included</th>\n",
       "      <th>overrun_calls</th>\n",
       "      <th>overrun_messages</th>\n",
       "      <th>overrun_internet</th>\n",
       "      <th>total_price</th>\n",
       "    </tr>\n",
       "  </thead>\n",
       "  <tbody>\n",
       "    <tr>\n",
       "      <th>0</th>\n",
       "      <td>1000</td>\n",
       "      <td>august</td>\n",
       "      <td>52.0</td>\n",
       "      <td>408.0</td>\n",
       "      <td>81.0</td>\n",
       "      <td>14.0</td>\n",
       "      <td>Краснодар</td>\n",
       "      <td>ultra</td>\n",
       "      <td>1000</td>\n",
       "      <td>30720</td>\n",
       "      <td>3000</td>\n",
       "      <td>1950</td>\n",
       "      <td>150</td>\n",
       "      <td>1</td>\n",
       "      <td>1</td>\n",
       "      <td>30.0</td>\n",
       "      <td>0.0</td>\n",
       "      <td>0.0</td>\n",
       "      <td>0.0</td>\n",
       "      <td>1950.0</td>\n",
       "    </tr>\n",
       "    <tr>\n",
       "      <th>1</th>\n",
       "      <td>1000</td>\n",
       "      <td>december</td>\n",
       "      <td>46.0</td>\n",
       "      <td>333.0</td>\n",
       "      <td>70.0</td>\n",
       "      <td>10.0</td>\n",
       "      <td>Краснодар</td>\n",
       "      <td>ultra</td>\n",
       "      <td>1000</td>\n",
       "      <td>30720</td>\n",
       "      <td>3000</td>\n",
       "      <td>1950</td>\n",
       "      <td>150</td>\n",
       "      <td>1</td>\n",
       "      <td>1</td>\n",
       "      <td>30.0</td>\n",
       "      <td>0.0</td>\n",
       "      <td>0.0</td>\n",
       "      <td>0.0</td>\n",
       "      <td>1950.0</td>\n",
       "    </tr>\n",
       "    <tr>\n",
       "      <th>2</th>\n",
       "      <td>1000</td>\n",
       "      <td>july</td>\n",
       "      <td>47.0</td>\n",
       "      <td>340.0</td>\n",
       "      <td>75.0</td>\n",
       "      <td>14.0</td>\n",
       "      <td>Краснодар</td>\n",
       "      <td>ultra</td>\n",
       "      <td>1000</td>\n",
       "      <td>30720</td>\n",
       "      <td>3000</td>\n",
       "      <td>1950</td>\n",
       "      <td>150</td>\n",
       "      <td>1</td>\n",
       "      <td>1</td>\n",
       "      <td>30.0</td>\n",
       "      <td>0.0</td>\n",
       "      <td>0.0</td>\n",
       "      <td>0.0</td>\n",
       "      <td>1950.0</td>\n",
       "    </tr>\n",
       "    <tr>\n",
       "      <th>3</th>\n",
       "      <td>1000</td>\n",
       "      <td>june</td>\n",
       "      <td>43.0</td>\n",
       "      <td>172.0</td>\n",
       "      <td>60.0</td>\n",
       "      <td>23.0</td>\n",
       "      <td>Краснодар</td>\n",
       "      <td>ultra</td>\n",
       "      <td>1000</td>\n",
       "      <td>30720</td>\n",
       "      <td>3000</td>\n",
       "      <td>1950</td>\n",
       "      <td>150</td>\n",
       "      <td>1</td>\n",
       "      <td>1</td>\n",
       "      <td>30.0</td>\n",
       "      <td>0.0</td>\n",
       "      <td>0.0</td>\n",
       "      <td>0.0</td>\n",
       "      <td>1950.0</td>\n",
       "    </tr>\n",
       "    <tr>\n",
       "      <th>4</th>\n",
       "      <td>1000</td>\n",
       "      <td>may</td>\n",
       "      <td>22.0</td>\n",
       "      <td>159.0</td>\n",
       "      <td>22.0</td>\n",
       "      <td>3.0</td>\n",
       "      <td>Краснодар</td>\n",
       "      <td>ultra</td>\n",
       "      <td>1000</td>\n",
       "      <td>30720</td>\n",
       "      <td>3000</td>\n",
       "      <td>1950</td>\n",
       "      <td>150</td>\n",
       "      <td>1</td>\n",
       "      <td>1</td>\n",
       "      <td>30.0</td>\n",
       "      <td>0.0</td>\n",
       "      <td>0.0</td>\n",
       "      <td>0.0</td>\n",
       "      <td>1950.0</td>\n",
       "    </tr>\n",
       "    <tr>\n",
       "      <th>5</th>\n",
       "      <td>1000</td>\n",
       "      <td>november</td>\n",
       "      <td>43.0</td>\n",
       "      <td>338.0</td>\n",
       "      <td>58.0</td>\n",
       "      <td>15.0</td>\n",
       "      <td>Краснодар</td>\n",
       "      <td>ultra</td>\n",
       "      <td>1000</td>\n",
       "      <td>30720</td>\n",
       "      <td>3000</td>\n",
       "      <td>1950</td>\n",
       "      <td>150</td>\n",
       "      <td>1</td>\n",
       "      <td>1</td>\n",
       "      <td>30.0</td>\n",
       "      <td>0.0</td>\n",
       "      <td>0.0</td>\n",
       "      <td>0.0</td>\n",
       "      <td>1950.0</td>\n",
       "    </tr>\n",
       "    <tr>\n",
       "      <th>6</th>\n",
       "      <td>1000</td>\n",
       "      <td>october</td>\n",
       "      <td>57.0</td>\n",
       "      <td>350.0</td>\n",
       "      <td>73.0</td>\n",
       "      <td>15.0</td>\n",
       "      <td>Краснодар</td>\n",
       "      <td>ultra</td>\n",
       "      <td>1000</td>\n",
       "      <td>30720</td>\n",
       "      <td>3000</td>\n",
       "      <td>1950</td>\n",
       "      <td>150</td>\n",
       "      <td>1</td>\n",
       "      <td>1</td>\n",
       "      <td>30.0</td>\n",
       "      <td>0.0</td>\n",
       "      <td>0.0</td>\n",
       "      <td>0.0</td>\n",
       "      <td>1950.0</td>\n",
       "    </tr>\n",
       "    <tr>\n",
       "      <th>7</th>\n",
       "      <td>1000</td>\n",
       "      <td>september</td>\n",
       "      <td>58.0</td>\n",
       "      <td>466.0</td>\n",
       "      <td>57.0</td>\n",
       "      <td>15.0</td>\n",
       "      <td>Краснодар</td>\n",
       "      <td>ultra</td>\n",
       "      <td>1000</td>\n",
       "      <td>30720</td>\n",
       "      <td>3000</td>\n",
       "      <td>1950</td>\n",
       "      <td>150</td>\n",
       "      <td>1</td>\n",
       "      <td>1</td>\n",
       "      <td>30.0</td>\n",
       "      <td>0.0</td>\n",
       "      <td>0.0</td>\n",
       "      <td>0.0</td>\n",
       "      <td>1950.0</td>\n",
       "    </tr>\n",
       "    <tr>\n",
       "      <th>8</th>\n",
       "      <td>1001</td>\n",
       "      <td>december</td>\n",
       "      <td>63.0</td>\n",
       "      <td>414.0</td>\n",
       "      <td>0.0</td>\n",
       "      <td>14.0</td>\n",
       "      <td>Москва</td>\n",
       "      <td>smart</td>\n",
       "      <td>50</td>\n",
       "      <td>15360</td>\n",
       "      <td>500</td>\n",
       "      <td>550</td>\n",
       "      <td>200</td>\n",
       "      <td>3</td>\n",
       "      <td>3</td>\n",
       "      <td>15.0</td>\n",
       "      <td>0.0</td>\n",
       "      <td>0.0</td>\n",
       "      <td>0.0</td>\n",
       "      <td>550.0</td>\n",
       "    </tr>\n",
       "    <tr>\n",
       "      <th>9</th>\n",
       "      <td>1001</td>\n",
       "      <td>november</td>\n",
       "      <td>59.0</td>\n",
       "      <td>430.0</td>\n",
       "      <td>0.0</td>\n",
       "      <td>18.0</td>\n",
       "      <td>Москва</td>\n",
       "      <td>smart</td>\n",
       "      <td>50</td>\n",
       "      <td>15360</td>\n",
       "      <td>500</td>\n",
       "      <td>550</td>\n",
       "      <td>200</td>\n",
       "      <td>3</td>\n",
       "      <td>3</td>\n",
       "      <td>15.0</td>\n",
       "      <td>0.0</td>\n",
       "      <td>0.0</td>\n",
       "      <td>600.0</td>\n",
       "      <td>1150.0</td>\n",
       "    </tr>\n",
       "  </tbody>\n",
       "</table>\n",
       "</div>"
      ],
      "text/plain": [
       "   user_id      month  calls_count  call_minutes  messages_count  \\\n",
       "0     1000     august         52.0         408.0            81.0   \n",
       "1     1000   december         46.0         333.0            70.0   \n",
       "2     1000       july         47.0         340.0            75.0   \n",
       "3     1000       june         43.0         172.0            60.0   \n",
       "4     1000        may         22.0         159.0            22.0   \n",
       "5     1000   november         43.0         338.0            58.0   \n",
       "6     1000    october         57.0         350.0            73.0   \n",
       "7     1000  september         58.0         466.0            57.0   \n",
       "8     1001   december         63.0         414.0             0.0   \n",
       "9     1001   november         59.0         430.0             0.0   \n",
       "\n",
       "   internet_volume       city tariff  messages_included  \\\n",
       "0             14.0  Краснодар  ultra               1000   \n",
       "1             10.0  Краснодар  ultra               1000   \n",
       "2             14.0  Краснодар  ultra               1000   \n",
       "3             23.0  Краснодар  ultra               1000   \n",
       "4              3.0  Краснодар  ultra               1000   \n",
       "5             15.0  Краснодар  ultra               1000   \n",
       "6             15.0  Краснодар  ultra               1000   \n",
       "7             15.0  Краснодар  ultra               1000   \n",
       "8             14.0     Москва  smart                 50   \n",
       "9             18.0     Москва  smart                 50   \n",
       "\n",
       "   mb_per_month_included  minutes_included  rub_monthly_fee  rub_per_gb  \\\n",
       "0                  30720              3000             1950         150   \n",
       "1                  30720              3000             1950         150   \n",
       "2                  30720              3000             1950         150   \n",
       "3                  30720              3000             1950         150   \n",
       "4                  30720              3000             1950         150   \n",
       "5                  30720              3000             1950         150   \n",
       "6                  30720              3000             1950         150   \n",
       "7                  30720              3000             1950         150   \n",
       "8                  15360               500              550         200   \n",
       "9                  15360               500              550         200   \n",
       "\n",
       "   rub_per_message  rub_per_minute  gb_per_month_included  overrun_calls  \\\n",
       "0                1               1                   30.0            0.0   \n",
       "1                1               1                   30.0            0.0   \n",
       "2                1               1                   30.0            0.0   \n",
       "3                1               1                   30.0            0.0   \n",
       "4                1               1                   30.0            0.0   \n",
       "5                1               1                   30.0            0.0   \n",
       "6                1               1                   30.0            0.0   \n",
       "7                1               1                   30.0            0.0   \n",
       "8                3               3                   15.0            0.0   \n",
       "9                3               3                   15.0            0.0   \n",
       "\n",
       "   overrun_messages  overrun_internet  total_price  \n",
       "0               0.0               0.0       1950.0  \n",
       "1               0.0               0.0       1950.0  \n",
       "2               0.0               0.0       1950.0  \n",
       "3               0.0               0.0       1950.0  \n",
       "4               0.0               0.0       1950.0  \n",
       "5               0.0               0.0       1950.0  \n",
       "6               0.0               0.0       1950.0  \n",
       "7               0.0               0.0       1950.0  \n",
       "8               0.0               0.0        550.0  \n",
       "9               0.0             600.0       1150.0  "
      ]
     },
     "execution_count": 54,
     "metadata": {},
     "output_type": "execute_result"
    }
   ],
   "source": [
    "all_rounds['total_price'] = \\\n",
    "all_rounds['rub_monthly_fee'] + all_rounds['overrun_calls'] + \\\n",
    "all_rounds['overrun_messages'] + all_rounds['overrun_internet']\n",
    "all_rounds.head(10) # выведем итоговую таблицу со всеми подсчётами"
   ]
  },
  {
   "cell_type": "markdown",
   "metadata": {},
   "source": [
    "**Вывод**\n",
    "<br><br>\n",
    "Была создана новая таблица в которой сделаны подсчёты по всем 500 клиентам расходов на каждый месяц в зависимости от того сколько они израсходовали минут, сообщений и звонков. Информацию по данным подсчётам записали для каждого клиента в столбцы `total_price` с разбивкой по месяцам."
   ]
  },
  {
   "cell_type": "markdown",
   "metadata": {},
   "source": [
    "## Анализ  данных"
   ]
  },
  {
   "cell_type": "markdown",
   "metadata": {},
   "source": [
    "Опишем поведение клиентов оператора, исходя из выборки. \n",
    "<br><br>\n",
    "Нам нужно посчитать среднее количество, дисперсию и стандартное отклонение для минут разговора, числа сообщений и объёму интернета по каждому тарифу в месяц"
   ]
  },
  {
   "cell_type": "markdown",
   "metadata": {},
   "source": [
    "### Считаем среднее количество, дисперсию и стандартное отклонение для минут разговора, числа сообщений и объёму интернета по каждому тарифу в месяц"
   ]
  },
  {
   "cell_type": "code",
   "execution_count": 55,
   "metadata": {},
   "outputs": [
    {
     "data": {
      "text/html": [
       "<div>\n",
       "<style scoped>\n",
       "    .dataframe tbody tr th:only-of-type {\n",
       "        vertical-align: middle;\n",
       "    }\n",
       "\n",
       "    .dataframe tbody tr th {\n",
       "        vertical-align: top;\n",
       "    }\n",
       "\n",
       "    .dataframe thead tr th {\n",
       "        text-align: left;\n",
       "    }\n",
       "\n",
       "    .dataframe thead tr:last-of-type th {\n",
       "        text-align: right;\n",
       "    }\n",
       "</style>\n",
       "<table border=\"1\" class=\"dataframe\">\n",
       "  <thead>\n",
       "    <tr>\n",
       "      <th></th>\n",
       "      <th colspan=\"3\" halign=\"left\">mean</th>\n",
       "      <th colspan=\"3\" halign=\"left\">var</th>\n",
       "      <th colspan=\"3\" halign=\"left\">std</th>\n",
       "    </tr>\n",
       "    <tr>\n",
       "      <th></th>\n",
       "      <th>call_minutes</th>\n",
       "      <th>internet_volume</th>\n",
       "      <th>messages_count</th>\n",
       "      <th>call_minutes</th>\n",
       "      <th>internet_volume</th>\n",
       "      <th>messages_count</th>\n",
       "      <th>call_minutes</th>\n",
       "      <th>internet_volume</th>\n",
       "      <th>messages_count</th>\n",
       "    </tr>\n",
       "    <tr>\n",
       "      <th>tariff</th>\n",
       "      <th></th>\n",
       "      <th></th>\n",
       "      <th></th>\n",
       "      <th></th>\n",
       "      <th></th>\n",
       "      <th></th>\n",
       "      <th></th>\n",
       "      <th></th>\n",
       "      <th></th>\n",
       "    </tr>\n",
       "  </thead>\n",
       "  <tbody>\n",
       "    <tr>\n",
       "      <th>smart</th>\n",
       "      <td>417.934948</td>\n",
       "      <td>16.328847</td>\n",
       "      <td>33.384029</td>\n",
       "      <td>36219.315784</td>\n",
       "      <td>33.028705</td>\n",
       "      <td>796.812958</td>\n",
       "      <td>190.313730</td>\n",
       "      <td>5.747061</td>\n",
       "      <td>28.227876</td>\n",
       "    </tr>\n",
       "    <tr>\n",
       "      <th>ultra</th>\n",
       "      <td>526.623350</td>\n",
       "      <td>19.494416</td>\n",
       "      <td>49.363452</td>\n",
       "      <td>100873.633397</td>\n",
       "      <td>97.091686</td>\n",
       "      <td>2285.266143</td>\n",
       "      <td>317.606098</td>\n",
       "      <td>9.853511</td>\n",
       "      <td>47.804457</td>\n",
       "    </tr>\n",
       "  </tbody>\n",
       "</table>\n",
       "</div>"
      ],
      "text/plain": [
       "               mean                                           var  \\\n",
       "       call_minutes internet_volume messages_count   call_minutes   \n",
       "tariff                                                              \n",
       "smart    417.934948       16.328847      33.384029   36219.315784   \n",
       "ultra    526.623350       19.494416      49.363452  100873.633397   \n",
       "\n",
       "                                               std                  \\\n",
       "       internet_volume messages_count call_minutes internet_volume   \n",
       "tariff                                                               \n",
       "smart        33.028705     796.812958   190.313730        5.747061   \n",
       "ultra        97.091686    2285.266143   317.606098        9.853511   \n",
       "\n",
       "                       \n",
       "       messages_count  \n",
       "tariff                 \n",
       "smart       28.227876  \n",
       "ultra       47.804457  "
      ]
     },
     "execution_count": 55,
     "metadata": {},
     "output_type": "execute_result"
    }
   ],
   "source": [
    "pd.pivot_table(all_rounds, values = ['call_minutes', 'messages_count', 'internet_volume'], \\\n",
    "               index = ['tariff'], aggfunc = ['mean', 'var', 'std'])"
   ]
  },
  {
   "cell_type": "markdown",
   "metadata": {},
   "source": [
    "**Вывод**\n",
    "<br><br>\n",
    "Тариф  Smart:\n",
    " * В среднем пользователи тратять 418 минут в месяц из 500 минут включённых в тариф. Стандартное отклонение - 190 минут.\n",
    " * В среднем пользователи отправляют 33 сообщения в месяц из 50 сообщений включённых в тариф. Стандартное отклонение - 28 сообщений.\n",
    " * В среднем пользователи используют 16,33 Гб интернета в месяц из 15 Гб в тариф. Стандартное отклонение - 5,75 Гб.\n",
    "\n",
    "Тариф Ultra:\n",
    " * В среднем пользователи тратять 527 минут в месяц из 3000 минут включённых в тариф. Стандартное отклонение - 318 минут.\n",
    " * В среднем пользователи отправляют 49 сообщения в месяц из 1000 сообщений включённых в тариф. Стандартное отклонение - 48 сообщений.\n",
    " * В среднем пользователи используют 19,49 Гб интернета в месяц из 30 Гб в тариф. Стандартное отклонение - 9,85 Гб.\n",
    "\n",
    "Судя по полученным данным можно сделать выводы, что на тарифе Smart клиенты чаще не укладываются во включенные в пакете минуты, сообщения и интернет. По этой причине им приходится докупать дополнительные минуты, сообщения или интернет.\n",
    "<br><br>\n",
    "В тарифе Ultra наоборот клиенты почти всегда укладываются во включенные в пакете минуты, сообщения и интернет. По этой причине им крайне редко приходится докупать дополнительные минуты, сообщения или интернет.\n",
    "<br><br>\n",
    "Метрики характеризующие разброс данных больше у тарифа Ultra."
   ]
  },
  {
   "cell_type": "markdown",
   "metadata": {},
   "source": [
    "### Построим гистограммы для исходных данных выбоки"
   ]
  },
  {
   "cell_type": "markdown",
   "metadata": {},
   "source": [
    "#### Построим гистограммы для исходных данных выбоки по звонкам"
   ]
  },
  {
   "cell_type": "code",
   "execution_count": 56,
   "metadata": {},
   "outputs": [
    {
     "name": "stderr",
     "output_type": "stream",
     "text": [
      "D:\\Anaconda\\lib\\site-packages\\seaborn\\axisgrid.py:2076: UserWarning: The `size` parameter has been renamed to `height`; please update your code.\n",
      "  warnings.warn(msg, UserWarning)\n"
     ]
    },
    {
     "data": {
      "text/plain": [
       "<seaborn.axisgrid.PairGrid at 0x22aaa7bff10>"
      ]
     },
     "execution_count": 56,
     "metadata": {},
     "output_type": "execute_result"
    },
    {
     "data": {
      "image/png": "[encoded data removed]",
      "text/plain": [
       "<Figure size 608.25x576 with 2 Axes>"
      ]
     },
     "metadata": {
      "needs_background": "light"
     },
     "output_type": "display_data"
    }
   ],
   "source": [
    "sbn.pairplot(all_rounds, vars = ['call_minutes'], hue ='tariff', size = 8)"
   ]
  },
  {
   "cell_type": "markdown",
   "metadata": {},
   "source": [
    "**Вывод**\n",
    "<br><br>\n",
    "Судя по графику клиентом с тарифом `smart` значительно больше.\n",
    "<br><br>\n",
    "Судя по графику распределение для выбоки клиентов с тарифом `smart` нормальное ассимитричное с положительной скошенностью.\n",
    "<br><br>\n",
    "Судя по графику распределение для выбоки клиентов с тарифом `ultra` нормальное ассимитричное с более ярко выраженной положительной скошенностью."
   ]
  },
  {
   "cell_type": "markdown",
   "metadata": {},
   "source": [
    "#### Построим гистограммы для исходных данных выбоки по сообщениям"
   ]
  },
  {
   "cell_type": "code",
   "execution_count": 57,
   "metadata": {},
   "outputs": [
    {
     "name": "stderr",
     "output_type": "stream",
     "text": [
      "D:\\Anaconda\\lib\\site-packages\\seaborn\\axisgrid.py:2076: UserWarning: The `size` parameter has been renamed to `height`; please update your code.\n",
      "  warnings.warn(msg, UserWarning)\n"
     ]
    },
    {
     "data": {
      "text/plain": [
       "<seaborn.axisgrid.PairGrid at 0x22aa3810eb0>"
      ]
     },
     "execution_count": 57,
     "metadata": {},
     "output_type": "execute_result"
    },
    {
     "data": {
      "image/png": "[encoded data removed]",
      "text/plain": [
       "<Figure size 608.25x576 with 2 Axes>"
      ]
     },
     "metadata": {
      "needs_background": "light"
     },
     "output_type": "display_data"
    }
   ],
   "source": [
    "sbn.pairplot(all_rounds, vars = ['messages_count'], hue ='tariff', size = 8)"
   ]
  },
  {
   "cell_type": "markdown",
   "metadata": {},
   "source": [
    "**Вывод**\n",
    "<br><br>\n",
    "Судя по графику клиентом с тарифом `smart` значительно больше.\n",
    "<br><br>\n",
    "Судя по графику распределение для выбоки клиентов с тарифом `smart` нормальное ассимитричное с положительной скошенностью.\n",
    "<br><br>\n",
    "Судя по графику распределение для выбоки клиентов с тарифом `ultra` нормальное ассимитричное с более ярко выраженной положительной скошенностью."
   ]
  },
  {
   "cell_type": "markdown",
   "metadata": {},
   "source": [
    "#### Построим гистограммы для исходных данных выбоки по интернету"
   ]
  },
  {
   "cell_type": "code",
   "execution_count": 58,
   "metadata": {},
   "outputs": [
    {
     "name": "stderr",
     "output_type": "stream",
     "text": [
      "D:\\Anaconda\\lib\\site-packages\\seaborn\\axisgrid.py:2076: UserWarning: The `size` parameter has been renamed to `height`; please update your code.\n",
      "  warnings.warn(msg, UserWarning)\n"
     ]
    },
    {
     "data": {
      "text/plain": [
       "<seaborn.axisgrid.PairGrid at 0x22aa53b5610>"
      ]
     },
     "execution_count": 58,
     "metadata": {},
     "output_type": "execute_result"
    },
    {
     "data": {
      "image/png": "[encoded data removed]",
      "text/plain": [
       "<Figure size 608.25x576 with 2 Axes>"
      ]
     },
     "metadata": {
      "needs_background": "light"
     },
     "output_type": "display_data"
    }
   ],
   "source": [
    "sbn.pairplot(all_rounds, vars = ['internet_volume'], hue ='tariff', size = 8)"
   ]
  },
  {
   "cell_type": "markdown",
   "metadata": {},
   "source": [
    "**Вывод**\n",
    "<br><br>\n",
    "Судя по графику клиентом с тарифом `smart` значительно больше.\n",
    "<br><br>\n",
    "Судя по графику распределение для выбоки клиентов с тарифом `smart` нормальное ассимитричное с отрицательной скошенностью.\n",
    "<br><br>\n",
    "Судя по графику распределение для выбоки клиентов с тарифом `ultra` нормальное ассимитричное с положительной скошенностью."
   ]
  },
  {
   "cell_type": "markdown",
   "metadata": {},
   "source": [
    "## Проверка гипотез"
   ]
  },
  {
   "cell_type": "markdown",
   "metadata": {},
   "source": [
    "### Проверим гипотезу, что средняя выручка пользователей тарифов «Ультра» и «Смарт» различаются"
   ]
  },
  {
   "cell_type": "markdown",
   "metadata": {},
   "source": [
    "Нулевой гипотеза - средняя выручка пользователей тарифов «Ультра» и «Смарт» равна\n",
    "<br>\n",
    "Альтернативная гипотеза - средняя выручка пользователей тарифов «Ультра» и «Смарт» различаются\n",
    "<br><br>\n",
    "Проверим нулевую гипотезу используя гипотезу о равенстве средних двух генеральных совокупностей с помощью метода `scipy.stats.ttest_ind` и будем считать, что дисперсии двух выборок различаются:"
   ]
  },
  {
   "cell_type": "code",
   "execution_count": 59,
   "metadata": {
    "scrolled": false
   },
   "outputs": [
    {
     "name": "stdout",
     "output_type": "stream",
     "text": [
      "p-значение:  3.798003235009034e-261\n",
      "Отвергаем нулевую гипотезу\n"
     ]
    }
   ],
   "source": [
    "alpha = 0.05 # критический уровень статистической значимости\n",
    "# если p-value окажется меньше него - отвегнем гипотезу\n",
    "\n",
    "results = st.ttest_ind(all_rounds.query('tariff == \"ultra\"')['total_price'],\n",
    "                       all_rounds.query('tariff == \"smart\"')['total_price'], equal_var = False)\n",
    "\n",
    "print('p-значение: ', results.pvalue)\n",
    "\n",
    "\n",
    "if results.pvalue < alpha:\n",
    "    print(\"Отвергаем нулевую гипотезу\")\n",
    "else:\n",
    "    print(\"Не получилось отвергнуть нулевую гипотезу\") "
   ]
  },
  {
   "cell_type": "markdown",
   "metadata": {},
   "source": [
    "**Вывод**\n",
    "<br><br>\n",
    "Мы отвергаем нулевую гипотезу о том, что средняя выручка пользователей тарифов «Ультра» и «Смарт» равна.\n",
    "<br><br>\n",
    "Следовательно мы не можем отвергнуть гипотезу, что средняя выручка пользователей тарифов «Ультра» и «Смарт» различаются. "
   ]
  },
  {
   "cell_type": "markdown",
   "metadata": {},
   "source": [
    "### Проверим гипотезу, что средняя выручка пользователей из Москвы отличается от выручки пользователей из других регионов"
   ]
  },
  {
   "cell_type": "markdown",
   "metadata": {},
   "source": [
    "Нулевой гипотеза - средняя выручка пользователей из Москвы равна выручки пользователей из других регионов.\n",
    "<br>\n",
    "Альтернативная гипотеза - средняя выручка пользователей из Москвы отличается от выручки пользователей из других регионов\n",
    "<br><br>\n",
    "Проверим нулевую гипотезу используя гипотезу о равенстве средних двух генеральных совокупностей с помощью метода `scipy.stats.ttest_ind` и будем считать, что дисперсии двух выборок различаются:"
   ]
  },
  {
   "cell_type": "code",
   "execution_count": 60,
   "metadata": {},
   "outputs": [
    {
     "name": "stdout",
     "output_type": "stream",
     "text": [
      "p-значение:  0.425625168367989\n",
      "Не получилось отвергнуть нулевую гипотезу\n"
     ]
    }
   ],
   "source": [
    "alpha = 0.01 # критический уровень статистической значимости\n",
    "# если p-value окажется меньше него - отвегнем гипотезу\n",
    "\n",
    "results = st.ttest_ind(all_rounds[all_rounds['city'] == 'Москва']['total_price'],\n",
    "                       all_rounds[all_rounds['city'] != 'Москва']['total_price'], equal_var = False)\n",
    "print('p-значение: ', results.pvalue)\n",
    "\n",
    "\n",
    "if results.pvalue < alpha:\n",
    "    print(\"Отвергаем нулевую гипотезу\")\n",
    "else:\n",
    "    print(\"Не получилось отвергнуть нулевую гипотезу\") "
   ]
  },
  {
   "cell_type": "markdown",
   "metadata": {},
   "source": [
    "**Вывод**\n",
    "<br><br>\n",
    "Мы не смогли отвергнуть нулевую гипотезу о том, что средняя выручка пользователей из Москвы равна выручки пользователей из других регионов.\n",
    "<br><br>\n",
    "Следовательно мы отвергаем гипотезу, что что средняя выручка пользователей из Москвы отличается от выручки пользователей из других регионов."
   ]
  },
  {
   "cell_type": "markdown",
   "metadata": {},
   "source": [
    "## Общий вывод"
   ]
  },
  {
   "cell_type": "markdown",
   "metadata": {},
   "source": [
    "Перед нами в проекте стояла задача сделать предварительный анализ тарифов «Смарт» и «Ультра» на небольшой выборке клиентов из 500 человек. Нам нужно было проанализировать поведение клиентов и сделать вывод — какой тариф лучше. Это требуется чтобы скорректировать рекламный бюджет, коммерческий департамент хочет понять, какой тариф приносит больше денег.\n",
    "<br><br>\n",
    "В рамках данного исследования были произведены расчёты разных параметров по использованию услуг сотовой связи для каждого из тарифов «Смарт» и «Ультра» по месяцам за 2018 год: количество использованных минут и их превышение сверх пакета, число отправленных сообщений и их превышение сверх пакета, объём использованного интернета и его превышение сверх пакета.\n",
    "<br><br>\n",
    "Для каждого клиента была рассчитана выручка по месяцам с учётом использованных услуг сотовой связи.\n",
    "<br><br>\n",
    "Для каждого тарифа мы рассчитали среднее значение использованных за месяц минут, сообщений и интернета.\n",
    "<br><br>\n",
    "Для каждого тарифа мы рассчитали дисперсию использованных за месяц минут, сообщений и интернета.\n",
    "<br><br>\n",
    "Для каждого тарифа мы расчитали стандартное отклонение использованных за месяц минут, сообщений и интернета.\n",
    "<br><br>\n",
    "Далее были построены гистограммы распределения по месяцам по использованным минута, сообщения и интернету. \n",
    "<br>Практически все гистограммы получились с нормальной ассимитричной положительной, либо отрицательной скошенностью распределения выборки клиентов в зависимости от тарифа.\n",
    "<br><br>\n",
    "Проверили две гипотезы на основании которых сделали следующие заключения:\n",
    "<br><br>1. Мы отвергаем нулевую гипотезу о том, что средняя выручка пользователей тарифов «Ультра» и «Смарт» равна.\n",
    "<br>Следовательно, мы не можем отвергнуть гипотезу, что средняя выручка пользователей тарифов «Ультра» и «Смарт» различаются. \n",
    "<br><br>2.Мы не смогли отвергнуть нулевую гипотезу о том, что средняя выручка пользователей из Москвы равна выручки пользователей из других регионов.\n",
    "<br>Следовательно, мы отвергаем гипотезу, что что средняя выручка пользователей из Москвы отличается от выручки пользователей из других регионов.\n",
    "<br><br>\n",
    "Проведя все рассчёты, построив графики, проверив гипотезы и проведя данное исследование можно сделать вывод, что тариф «Ультра» лучше для компании, тк клиенты на нём больше использует услуг связи и в итоге тратят больше денег."
   ]
  }
 ],
 "metadata": {
  "ExecuteTimeLog": [
   {
    "duration": 240,
    "start_time": "2022-02-16T07:43:28.212Z"
   },
   {
    "duration": 671,
    "start_time": "2022-02-16T07:43:34.843Z"
   },
   {
    "duration": 161,
    "start_time": "2022-02-16T07:43:38.025Z"
   },
   {
    "duration": 133,
    "start_time": "2022-02-16T07:46:36.544Z"
   },
   {
    "duration": 90,
    "start_time": "2022-02-16T07:48:24.356Z"
   },
   {
    "duration": 17,
    "start_time": "2022-02-16T07:49:20.393Z"
   },
   {
    "duration": 26,
    "start_time": "2022-02-16T07:59:18.623Z"
   },
   {
    "duration": 22,
    "start_time": "2022-02-16T08:27:34.365Z"
   },
   {
    "duration": 18,
    "start_time": "2022-02-16T08:27:34.389Z"
   },
   {
    "duration": 14,
    "start_time": "2022-02-16T08:27:34.409Z"
   },
   {
    "duration": 6,
    "start_time": "2022-02-16T08:27:34.425Z"
   },
   {
    "duration": 16,
    "start_time": "2022-02-16T08:27:34.433Z"
   },
   {
    "duration": 22,
    "start_time": "2022-02-16T08:32:43.915Z"
   },
   {
    "duration": 3,
    "start_time": "2022-02-16T08:42:47.269Z"
   },
   {
    "duration": 194,
    "start_time": "2022-02-16T08:42:47.274Z"
   },
   {
    "duration": 195,
    "start_time": "2022-02-16T08:42:47.470Z"
   },
   {
    "duration": 93,
    "start_time": "2022-02-16T08:42:47.668Z"
   },
   {
    "duration": 16,
    "start_time": "2022-02-16T08:42:47.763Z"
   },
   {
    "duration": 42,
    "start_time": "2022-02-16T08:42:47.780Z"
   },
   {
    "duration": 22,
    "start_time": "2022-02-16T08:42:47.825Z"
   },
   {
    "duration": 18,
    "start_time": "2022-02-16T08:42:47.849Z"
   },
   {
    "duration": 15,
    "start_time": "2022-02-16T08:42:47.868Z"
   },
   {
    "duration": 36,
    "start_time": "2022-02-16T08:42:47.885Z"
   },
   {
    "duration": 15,
    "start_time": "2022-02-16T08:42:47.923Z"
   },
   {
    "duration": 268,
    "start_time": "2022-02-16T12:45:50.243Z"
   },
   {
    "duration": 214,
    "start_time": "2022-02-16T12:46:16.923Z"
   },
   {
    "duration": 729,
    "start_time": "2022-02-16T12:46:44.557Z"
   },
   {
    "duration": 186,
    "start_time": "2022-02-16T12:46:45.288Z"
   },
   {
    "duration": 150,
    "start_time": "2022-02-16T12:46:45.476Z"
   },
   {
    "duration": 99,
    "start_time": "2022-02-16T12:46:45.628Z"
   },
   {
    "duration": 20,
    "start_time": "2022-02-16T12:46:45.728Z"
   },
   {
    "duration": 71,
    "start_time": "2022-02-16T12:46:45.750Z"
   },
   {
    "duration": 24,
    "start_time": "2022-02-16T12:46:45.823Z"
   },
   {
    "duration": 24,
    "start_time": "2022-02-16T12:46:45.850Z"
   },
   {
    "duration": 18,
    "start_time": "2022-02-16T12:46:45.877Z"
   },
   {
    "duration": 9,
    "start_time": "2022-02-16T12:46:45.897Z"
   },
   {
    "duration": 11,
    "start_time": "2022-02-16T12:46:45.908Z"
   },
   {
    "duration": 6,
    "start_time": "2022-02-16T12:46:51.098Z"
   },
   {
    "duration": 11,
    "start_time": "2022-02-16T12:47:46.922Z"
   },
   {
    "duration": 15,
    "start_time": "2022-02-16T12:47:55.130Z"
   },
   {
    "duration": 19,
    "start_time": "2022-02-16T12:48:11.754Z"
   },
   {
    "duration": 4,
    "start_time": "2022-02-16T12:52:42.994Z"
   },
   {
    "duration": 325,
    "start_time": "2022-02-16T12:53:37.786Z"
   },
   {
    "duration": 4,
    "start_time": "2022-02-16T12:53:44.018Z"
   },
   {
    "duration": 4,
    "start_time": "2022-02-16T12:54:12.202Z"
   },
   {
    "duration": 6,
    "start_time": "2022-02-16T12:54:49.147Z"
   },
   {
    "duration": 4,
    "start_time": "2022-02-16T12:55:17.714Z"
   },
   {
    "duration": 22,
    "start_time": "2022-02-16T13:01:03.746Z"
   },
   {
    "duration": 15,
    "start_time": "2022-02-16T13:01:06.067Z"
   },
   {
    "duration": 227,
    "start_time": "2022-02-16T13:02:09.842Z"
   },
   {
    "duration": 4,
    "start_time": "2022-02-16T13:02:20.346Z"
   },
   {
    "duration": 8,
    "start_time": "2022-02-16T13:05:55.874Z"
   },
   {
    "duration": 8,
    "start_time": "2022-02-16T13:06:19.962Z"
   },
   {
    "duration": 24,
    "start_time": "2022-02-16T13:06:34.002Z"
   },
   {
    "duration": 9,
    "start_time": "2022-02-16T13:08:45.065Z"
   },
   {
    "duration": 285,
    "start_time": "2022-02-16T13:16:45.785Z"
   },
   {
    "duration": 13,
    "start_time": "2022-02-16T13:17:02.969Z"
   },
   {
    "duration": 8,
    "start_time": "2022-02-16T13:17:31.265Z"
   },
   {
    "duration": 3,
    "start_time": "2022-02-16T13:23:47.016Z"
   },
   {
    "duration": 251,
    "start_time": "2022-02-16T13:27:41.472Z"
   },
   {
    "duration": 219,
    "start_time": "2022-02-16T13:29:57.231Z"
   },
   {
    "duration": 236,
    "start_time": "2022-02-16T13:31:01.216Z"
   },
   {
    "duration": 4,
    "start_time": "2022-02-16T13:32:59.831Z"
   },
   {
    "duration": 222,
    "start_time": "2022-02-16T13:33:04.047Z"
   },
   {
    "duration": 4,
    "start_time": "2022-02-16T13:37:29.063Z"
   },
   {
    "duration": 9,
    "start_time": "2022-02-16T13:37:39.383Z"
   },
   {
    "duration": 3,
    "start_time": "2022-02-16T13:39:05.446Z"
   },
   {
    "duration": 4,
    "start_time": "2022-02-16T13:39:19.474Z"
   },
   {
    "duration": 180,
    "start_time": "2022-02-16T13:39:19.480Z"
   },
   {
    "duration": 144,
    "start_time": "2022-02-16T13:39:19.663Z"
   },
   {
    "duration": 100,
    "start_time": "2022-02-16T13:39:19.809Z"
   },
   {
    "duration": 22,
    "start_time": "2022-02-16T13:39:19.911Z"
   },
   {
    "duration": 62,
    "start_time": "2022-02-16T13:39:19.935Z"
   },
   {
    "duration": 23,
    "start_time": "2022-02-16T13:39:20.000Z"
   },
   {
    "duration": 19,
    "start_time": "2022-02-16T13:39:20.025Z"
   },
   {
    "duration": 23,
    "start_time": "2022-02-16T13:39:20.046Z"
   },
   {
    "duration": 7,
    "start_time": "2022-02-16T13:39:20.071Z"
   },
   {
    "duration": 11,
    "start_time": "2022-02-16T13:39:20.079Z"
   },
   {
    "duration": 7,
    "start_time": "2022-02-16T13:39:20.092Z"
   },
   {
    "duration": 11,
    "start_time": "2022-02-16T13:39:20.101Z"
   },
   {
    "duration": 8,
    "start_time": "2022-02-16T13:39:20.113Z"
   },
   {
    "duration": 9,
    "start_time": "2022-02-16T13:39:20.123Z"
   },
   {
    "duration": 8,
    "start_time": "2022-02-16T13:39:20.134Z"
   },
   {
    "duration": 11,
    "start_time": "2022-02-16T13:39:20.170Z"
   },
   {
    "duration": 4,
    "start_time": "2022-02-16T13:39:20.182Z"
   },
   {
    "duration": 9,
    "start_time": "2022-02-16T13:39:34.198Z"
   },
   {
    "duration": 5,
    "start_time": "2022-02-16T13:40:26.878Z"
   },
   {
    "duration": 8,
    "start_time": "2022-02-16T13:40:31.222Z"
   },
   {
    "duration": 23,
    "start_time": "2022-02-16T13:40:40.502Z"
   },
   {
    "duration": 6,
    "start_time": "2022-02-16T13:43:09.013Z"
   },
   {
    "duration": 9,
    "start_time": "2022-02-16T13:43:14.430Z"
   },
   {
    "duration": 26,
    "start_time": "2022-02-16T13:43:20.630Z"
   },
   {
    "duration": 3,
    "start_time": "2022-02-16T13:43:38.994Z"
   },
   {
    "duration": 171,
    "start_time": "2022-02-16T13:43:38.999Z"
   },
   {
    "duration": 132,
    "start_time": "2022-02-16T13:43:39.172Z"
   },
   {
    "duration": 92,
    "start_time": "2022-02-16T13:43:39.306Z"
   },
   {
    "duration": 20,
    "start_time": "2022-02-16T13:43:39.401Z"
   },
   {
    "duration": 56,
    "start_time": "2022-02-16T13:43:39.423Z"
   },
   {
    "duration": 21,
    "start_time": "2022-02-16T13:43:39.481Z"
   },
   {
    "duration": 19,
    "start_time": "2022-02-16T13:43:39.504Z"
   },
   {
    "duration": 17,
    "start_time": "2022-02-16T13:43:39.526Z"
   },
   {
    "duration": 28,
    "start_time": "2022-02-16T13:43:39.546Z"
   },
   {
    "duration": 16,
    "start_time": "2022-02-16T13:43:39.575Z"
   },
   {
    "duration": 8,
    "start_time": "2022-02-16T13:43:39.593Z"
   },
   {
    "duration": 7,
    "start_time": "2022-02-16T13:43:39.603Z"
   },
   {
    "duration": 8,
    "start_time": "2022-02-16T13:43:39.612Z"
   },
   {
    "duration": 5,
    "start_time": "2022-02-16T13:43:39.622Z"
   },
   {
    "duration": 9,
    "start_time": "2022-02-16T13:43:39.628Z"
   },
   {
    "duration": 31,
    "start_time": "2022-02-16T13:43:39.638Z"
   },
   {
    "duration": 4,
    "start_time": "2022-02-16T13:43:39.671Z"
   },
   {
    "duration": 8,
    "start_time": "2022-02-16T13:43:45.990Z"
   },
   {
    "duration": 21,
    "start_time": "2022-02-16T13:44:10.918Z"
   },
   {
    "duration": 6,
    "start_time": "2022-02-16T13:44:32.437Z"
   },
   {
    "duration": 10,
    "start_time": "2022-02-16T13:44:36.005Z"
   },
   {
    "duration": 24,
    "start_time": "2022-02-16T13:44:40.198Z"
   },
   {
    "duration": 234,
    "start_time": "2022-02-16T13:49:33.604Z"
   },
   {
    "duration": 207,
    "start_time": "2022-02-16T13:49:49.877Z"
   },
   {
    "duration": 28,
    "start_time": "2022-02-16T13:50:26.245Z"
   },
   {
    "duration": 9,
    "start_time": "2022-02-16T13:50:33.750Z"
   },
   {
    "duration": 16,
    "start_time": "2022-02-16T13:50:37.741Z"
   },
   {
    "duration": 9,
    "start_time": "2022-02-16T16:46:21.366Z"
   },
   {
    "duration": 19,
    "start_time": "2022-02-16T16:46:24.108Z"
   },
   {
    "duration": 22,
    "start_time": "2022-02-16T16:56:06.108Z"
   },
   {
    "duration": 9,
    "start_time": "2022-02-16T16:56:13.437Z"
   },
   {
    "duration": 17,
    "start_time": "2022-02-16T16:56:17.317Z"
   },
   {
    "duration": 18,
    "start_time": "2022-02-16T17:00:44.308Z"
   },
   {
    "duration": 9,
    "start_time": "2022-02-16T17:00:53.461Z"
   },
   {
    "duration": 9,
    "start_time": "2022-02-16T17:01:28.685Z"
   },
   {
    "duration": 9,
    "start_time": "2022-02-16T17:01:32.253Z"
   },
   {
    "duration": 10,
    "start_time": "2022-02-16T17:02:23.964Z"
   },
   {
    "duration": 15,
    "start_time": "2022-02-16T17:02:28.252Z"
   },
   {
    "duration": 8,
    "start_time": "2022-02-16T17:04:13.421Z"
   },
   {
    "duration": 15,
    "start_time": "2022-02-16T17:04:16.884Z"
   },
   {
    "duration": 37,
    "start_time": "2022-02-16T17:14:44.285Z"
   },
   {
    "duration": 5,
    "start_time": "2022-02-16T17:15:22.948Z"
   },
   {
    "duration": 6,
    "start_time": "2022-02-16T17:15:25.068Z"
   },
   {
    "duration": 4,
    "start_time": "2022-02-16T17:15:47.628Z"
   },
   {
    "duration": 33,
    "start_time": "2022-02-16T17:16:01.708Z"
   },
   {
    "duration": 5,
    "start_time": "2022-02-16T17:16:03.476Z"
   },
   {
    "duration": 4,
    "start_time": "2022-02-16T17:16:05.204Z"
   },
   {
    "duration": 5,
    "start_time": "2022-02-16T17:16:14.948Z"
   },
   {
    "duration": 2,
    "start_time": "2022-02-16T17:16:23.809Z"
   },
   {
    "duration": 169,
    "start_time": "2022-02-16T17:16:23.815Z"
   },
   {
    "duration": 143,
    "start_time": "2022-02-16T17:16:23.986Z"
   },
   {
    "duration": 106,
    "start_time": "2022-02-16T17:16:24.131Z"
   },
   {
    "duration": 21,
    "start_time": "2022-02-16T17:16:24.239Z"
   },
   {
    "duration": 44,
    "start_time": "2022-02-16T17:16:24.261Z"
   },
   {
    "duration": 21,
    "start_time": "2022-02-16T17:16:24.307Z"
   },
   {
    "duration": 18,
    "start_time": "2022-02-16T17:16:24.330Z"
   },
   {
    "duration": 15,
    "start_time": "2022-02-16T17:16:24.350Z"
   },
   {
    "duration": 6,
    "start_time": "2022-02-16T17:16:24.370Z"
   },
   {
    "duration": 13,
    "start_time": "2022-02-16T17:16:24.377Z"
   },
   {
    "duration": 6,
    "start_time": "2022-02-16T17:16:24.392Z"
   },
   {
    "duration": 7,
    "start_time": "2022-02-16T17:16:24.400Z"
   },
   {
    "duration": 8,
    "start_time": "2022-02-16T17:16:24.410Z"
   },
   {
    "duration": 7,
    "start_time": "2022-02-16T17:16:24.420Z"
   },
   {
    "duration": 11,
    "start_time": "2022-02-16T17:16:24.429Z"
   },
   {
    "duration": 48,
    "start_time": "2022-02-16T17:16:24.441Z"
   },
   {
    "duration": 4,
    "start_time": "2022-02-16T17:16:24.491Z"
   },
   {
    "duration": 7,
    "start_time": "2022-02-16T17:16:24.496Z"
   },
   {
    "duration": 5,
    "start_time": "2022-02-16T17:16:24.505Z"
   },
   {
    "duration": 6,
    "start_time": "2022-02-16T17:17:37.377Z"
   },
   {
    "duration": 32,
    "start_time": "2022-02-16T17:17:37.385Z"
   },
   {
    "duration": 23,
    "start_time": "2022-02-16T17:17:37.419Z"
   },
   {
    "duration": 25,
    "start_time": "2022-02-16T17:17:37.444Z"
   },
   {
    "duration": 12,
    "start_time": "2022-02-16T17:17:37.471Z"
   },
   {
    "duration": 18,
    "start_time": "2022-02-16T17:17:37.485Z"
   },
   {
    "duration": 9,
    "start_time": "2022-02-16T17:17:37.506Z"
   },
   {
    "duration": 19,
    "start_time": "2022-02-16T17:20:29.899Z"
   },
   {
    "duration": 9,
    "start_time": "2022-02-16T17:20:32.796Z"
   },
   {
    "duration": 12,
    "start_time": "2022-02-16T17:20:34.100Z"
   },
   {
    "duration": 6,
    "start_time": "2022-02-16T17:21:27.492Z"
   },
   {
    "duration": 9,
    "start_time": "2022-02-16T17:21:30.076Z"
   },
   {
    "duration": 11,
    "start_time": "2022-02-16T17:23:25.331Z"
   },
   {
    "duration": 7,
    "start_time": "2022-02-16T17:23:26.971Z"
   },
   {
    "duration": 6,
    "start_time": "2022-02-16T17:24:10.340Z"
   },
   {
    "duration": 6,
    "start_time": "2022-02-16T17:24:35.891Z"
   },
   {
    "duration": 6,
    "start_time": "2022-02-16T17:24:42.547Z"
   },
   {
    "duration": 4,
    "start_time": "2022-02-16T17:25:19.643Z"
   },
   {
    "duration": 217,
    "start_time": "2022-02-16T17:25:30.923Z"
   },
   {
    "duration": 207,
    "start_time": "2022-02-16T17:25:35.771Z"
   },
   {
    "duration": 243,
    "start_time": "2022-02-16T17:26:32.123Z"
   },
   {
    "duration": 17,
    "start_time": "2022-02-16T17:26:52.772Z"
   },
   {
    "duration": 83,
    "start_time": "2022-02-16T17:31:20.555Z"
   },
   {
    "duration": 77,
    "start_time": "2022-02-16T17:32:19.593Z"
   },
   {
    "duration": 14,
    "start_time": "2022-02-16T17:32:30.082Z"
   },
   {
    "duration": 15,
    "start_time": "2022-02-16T17:32:44.146Z"
   },
   {
    "duration": 6,
    "start_time": "2022-02-16T17:33:18.074Z"
   },
   {
    "duration": 5,
    "start_time": "2022-02-16T17:41:09.231Z"
   },
   {
    "duration": 11,
    "start_time": "2022-02-16T17:41:11.801Z"
   },
   {
    "duration": 8,
    "start_time": "2022-02-16T17:41:14.304Z"
   },
   {
    "duration": 7,
    "start_time": "2022-02-16T17:42:17.863Z"
   },
   {
    "duration": 12,
    "start_time": "2022-02-16T17:42:20.921Z"
   },
   {
    "duration": 8,
    "start_time": "2022-02-16T17:42:27.200Z"
   },
   {
    "duration": 11,
    "start_time": "2022-02-16T17:43:55.976Z"
   },
   {
    "duration": 6,
    "start_time": "2022-02-16T17:44:10.024Z"
   },
   {
    "duration": 19,
    "start_time": "2022-02-16T17:44:33.752Z"
   },
   {
    "duration": 11,
    "start_time": "2022-02-16T18:48:57.998Z"
   },
   {
    "duration": 7,
    "start_time": "2022-02-16T18:49:01.310Z"
   },
   {
    "duration": 223,
    "start_time": "2022-02-16T19:00:00.421Z"
   },
   {
    "duration": 7,
    "start_time": "2022-02-16T19:00:19.045Z"
   },
   {
    "duration": 11,
    "start_time": "2022-02-16T19:01:19.909Z"
   },
   {
    "duration": 6,
    "start_time": "2022-02-16T19:01:48.069Z"
   },
   {
    "duration": 18,
    "start_time": "2022-02-16T19:01:48.389Z"
   },
   {
    "duration": 13,
    "start_time": "2022-02-16T19:01:48.869Z"
   },
   {
    "duration": 204,
    "start_time": "2022-02-16T19:01:49.293Z"
   },
   {
    "duration": 11,
    "start_time": "2022-02-16T19:02:05.206Z"
   },
   {
    "duration": 7,
    "start_time": "2022-02-16T19:02:08.997Z"
   },
   {
    "duration": 8,
    "start_time": "2022-02-16T20:28:18.363Z"
   },
   {
    "duration": 3,
    "start_time": "2022-02-16T20:30:04.960Z"
   },
   {
    "duration": 188,
    "start_time": "2022-02-16T20:30:04.965Z"
   },
   {
    "duration": 151,
    "start_time": "2022-02-16T20:30:05.156Z"
   },
   {
    "duration": 105,
    "start_time": "2022-02-16T20:30:05.309Z"
   },
   {
    "duration": 22,
    "start_time": "2022-02-16T20:30:05.416Z"
   },
   {
    "duration": 47,
    "start_time": "2022-02-16T20:30:05.440Z"
   },
   {
    "duration": 24,
    "start_time": "2022-02-16T20:30:05.491Z"
   },
   {
    "duration": 22,
    "start_time": "2022-02-16T20:30:05.518Z"
   },
   {
    "duration": 44,
    "start_time": "2022-02-16T20:30:05.542Z"
   },
   {
    "duration": 13,
    "start_time": "2022-02-16T20:30:05.588Z"
   },
   {
    "duration": 20,
    "start_time": "2022-02-16T20:30:05.603Z"
   },
   {
    "duration": 34,
    "start_time": "2022-02-16T20:30:05.625Z"
   },
   {
    "duration": 13,
    "start_time": "2022-02-16T20:30:05.661Z"
   },
   {
    "duration": 20,
    "start_time": "2022-02-16T20:30:05.676Z"
   },
   {
    "duration": 9,
    "start_time": "2022-02-16T20:30:05.698Z"
   },
   {
    "duration": 22,
    "start_time": "2022-02-16T20:30:05.710Z"
   },
   {
    "duration": 33,
    "start_time": "2022-02-16T20:30:05.734Z"
   },
   {
    "duration": 6,
    "start_time": "2022-02-16T20:30:05.769Z"
   },
   {
    "duration": 5,
    "start_time": "2022-02-16T20:30:05.779Z"
   },
   {
    "duration": 7,
    "start_time": "2022-02-16T20:30:05.786Z"
   },
   {
    "duration": 10,
    "start_time": "2022-02-16T20:30:05.795Z"
   },
   {
    "duration": 62,
    "start_time": "2022-02-16T20:30:05.807Z"
   },
   {
    "duration": 26,
    "start_time": "2022-02-16T20:30:05.871Z"
   },
   {
    "duration": 22,
    "start_time": "2022-02-16T20:30:05.899Z"
   },
   {
    "duration": 7,
    "start_time": "2022-02-16T20:30:05.923Z"
   },
   {
    "duration": 20,
    "start_time": "2022-02-16T20:30:05.932Z"
   },
   {
    "duration": 20,
    "start_time": "2022-02-16T20:30:05.954Z"
   },
   {
    "duration": 27,
    "start_time": "2022-02-16T20:30:05.975Z"
   },
   {
    "duration": 13,
    "start_time": "2022-02-16T20:30:06.004Z"
   },
   {
    "duration": 11,
    "start_time": "2022-02-16T20:30:06.019Z"
   },
   {
    "duration": 37,
    "start_time": "2022-02-16T20:30:06.032Z"
   },
   {
    "duration": 30,
    "start_time": "2022-02-16T20:30:06.071Z"
   },
   {
    "duration": 10,
    "start_time": "2022-02-16T20:30:06.103Z"
   },
   {
    "duration": 232,
    "start_time": "2022-02-16T20:41:26.401Z"
   },
   {
    "duration": 55,
    "start_time": "2022-02-16T20:41:44.186Z"
   },
   {
    "duration": 50,
    "start_time": "2022-02-16T20:42:23.442Z"
   },
   {
    "duration": 220,
    "start_time": "2022-02-16T20:43:26.643Z"
   },
   {
    "duration": 57,
    "start_time": "2022-02-16T20:43:34.745Z"
   },
   {
    "duration": 47,
    "start_time": "2022-02-16T20:46:55.128Z"
   },
   {
    "duration": 53,
    "start_time": "2022-02-16T20:50:16.153Z"
   },
   {
    "duration": 58,
    "start_time": "2022-02-16T20:51:08.841Z"
   },
   {
    "duration": 46,
    "start_time": "2022-02-16T20:55:02.218Z"
   },
   {
    "duration": 66,
    "start_time": "2022-02-16T20:55:42.586Z"
   },
   {
    "duration": 6,
    "start_time": "2022-02-16T21:00:12.377Z"
   },
   {
    "duration": 6,
    "start_time": "2022-02-16T21:00:49.856Z"
   },
   {
    "duration": 8,
    "start_time": "2022-02-16T21:10:23.336Z"
   },
   {
    "duration": 17,
    "start_time": "2022-02-16T21:10:39.472Z"
   },
   {
    "duration": 9,
    "start_time": "2022-02-16T21:10:42.816Z"
   },
   {
    "duration": 37,
    "start_time": "2022-02-16T21:14:40.216Z"
   },
   {
    "duration": 62,
    "start_time": "2022-02-16T21:15:13.441Z"
   },
   {
    "duration": 34,
    "start_time": "2022-02-16T21:15:55.392Z"
   },
   {
    "duration": 44,
    "start_time": "2022-02-16T21:16:44.977Z"
   },
   {
    "duration": 45,
    "start_time": "2022-02-16T21:17:10.753Z"
   },
   {
    "duration": 6,
    "start_time": "2022-02-16T21:17:44.680Z"
   },
   {
    "duration": 9,
    "start_time": "2022-02-16T21:24:56.920Z"
   },
   {
    "duration": 19,
    "start_time": "2022-02-16T21:25:22.998Z"
   },
   {
    "duration": 9,
    "start_time": "2022-02-16T21:25:26.176Z"
   },
   {
    "duration": 3,
    "start_time": "2022-02-16T21:25:55.598Z"
   },
   {
    "duration": 168,
    "start_time": "2022-02-16T21:25:55.605Z"
   },
   {
    "duration": 149,
    "start_time": "2022-02-16T21:25:55.775Z"
   },
   {
    "duration": 109,
    "start_time": "2022-02-16T21:25:55.926Z"
   },
   {
    "duration": 22,
    "start_time": "2022-02-16T21:25:56.037Z"
   },
   {
    "duration": 48,
    "start_time": "2022-02-16T21:25:56.061Z"
   },
   {
    "duration": 22,
    "start_time": "2022-02-16T21:25:56.111Z"
   },
   {
    "duration": 19,
    "start_time": "2022-02-16T21:25:56.135Z"
   },
   {
    "duration": 16,
    "start_time": "2022-02-16T21:25:56.157Z"
   },
   {
    "duration": 7,
    "start_time": "2022-02-16T21:25:56.175Z"
   },
   {
    "duration": 9,
    "start_time": "2022-02-16T21:25:56.184Z"
   },
   {
    "duration": 7,
    "start_time": "2022-02-16T21:25:56.195Z"
   },
   {
    "duration": 6,
    "start_time": "2022-02-16T21:25:56.204Z"
   },
   {
    "duration": 5,
    "start_time": "2022-02-16T21:25:56.212Z"
   },
   {
    "duration": 5,
    "start_time": "2022-02-16T21:25:56.219Z"
   },
   {
    "duration": 4,
    "start_time": "2022-02-16T21:25:56.226Z"
   },
   {
    "duration": 63,
    "start_time": "2022-02-16T21:25:56.232Z"
   },
   {
    "duration": 4,
    "start_time": "2022-02-16T21:25:56.298Z"
   },
   {
    "duration": 6,
    "start_time": "2022-02-16T21:25:56.303Z"
   },
   {
    "duration": 6,
    "start_time": "2022-02-16T21:25:56.311Z"
   },
   {
    "duration": 8,
    "start_time": "2022-02-16T21:25:56.319Z"
   },
   {
    "duration": 55,
    "start_time": "2022-02-16T21:25:56.329Z"
   },
   {
    "duration": 25,
    "start_time": "2022-02-16T21:25:56.386Z"
   },
   {
    "duration": 21,
    "start_time": "2022-02-16T21:25:56.414Z"
   },
   {
    "duration": 7,
    "start_time": "2022-02-16T21:25:56.437Z"
   },
   {
    "duration": 9,
    "start_time": "2022-02-16T21:25:56.469Z"
   },
   {
    "duration": 19,
    "start_time": "2022-02-16T21:25:56.480Z"
   },
   {
    "duration": 21,
    "start_time": "2022-02-16T21:25:56.501Z"
   },
   {
    "duration": 13,
    "start_time": "2022-02-16T21:25:56.525Z"
   },
   {
    "duration": 34,
    "start_time": "2022-02-16T21:25:56.540Z"
   },
   {
    "duration": 12,
    "start_time": "2022-02-16T21:25:56.575Z"
   },
   {
    "duration": 27,
    "start_time": "2022-02-16T21:25:56.589Z"
   },
   {
    "duration": 62,
    "start_time": "2022-02-16T21:25:56.618Z"
   },
   {
    "duration": 5,
    "start_time": "2022-02-16T21:25:56.682Z"
   },
   {
    "duration": 46,
    "start_time": "2022-02-16T21:25:56.689Z"
   },
   {
    "duration": 5,
    "start_time": "2022-02-16T21:25:56.737Z"
   },
   {
    "duration": 40,
    "start_time": "2022-02-16T21:25:56.743Z"
   },
   {
    "duration": 43,
    "start_time": "2022-02-16T21:25:56.785Z"
   },
   {
    "duration": 5,
    "start_time": "2022-02-16T21:25:56.830Z"
   },
   {
    "duration": 10,
    "start_time": "2022-02-16T21:26:10.559Z"
   },
   {
    "duration": 19,
    "start_time": "2022-02-16T21:26:58.006Z"
   },
   {
    "duration": 12,
    "start_time": "2022-02-16T21:27:03.567Z"
   },
   {
    "duration": 40,
    "start_time": "2022-02-16T21:30:17.807Z"
   },
   {
    "duration": 217,
    "start_time": "2022-02-16T21:30:39.664Z"
   },
   {
    "duration": 37,
    "start_time": "2022-02-16T21:30:49.551Z"
   },
   {
    "duration": 21,
    "start_time": "2022-02-16T21:32:38.190Z"
   },
   {
    "duration": 24,
    "start_time": "2022-02-16T21:33:38.951Z"
   },
   {
    "duration": 3,
    "start_time": "2022-02-16T21:50:14.742Z"
   },
   {
    "duration": 182,
    "start_time": "2022-02-16T21:50:14.751Z"
   },
   {
    "duration": 169,
    "start_time": "2022-02-16T21:50:14.935Z"
   },
   {
    "duration": 97,
    "start_time": "2022-02-16T21:50:15.106Z"
   },
   {
    "duration": 24,
    "start_time": "2022-02-16T21:50:15.205Z"
   },
   {
    "duration": 67,
    "start_time": "2022-02-16T21:50:15.230Z"
   },
   {
    "duration": 21,
    "start_time": "2022-02-16T21:50:15.298Z"
   },
   {
    "duration": 18,
    "start_time": "2022-02-16T21:50:15.321Z"
   },
   {
    "duration": 16,
    "start_time": "2022-02-16T21:50:15.342Z"
   },
   {
    "duration": 12,
    "start_time": "2022-02-16T21:50:15.360Z"
   },
   {
    "duration": 16,
    "start_time": "2022-02-16T21:50:15.373Z"
   },
   {
    "duration": 9,
    "start_time": "2022-02-16T21:50:15.391Z"
   },
   {
    "duration": 7,
    "start_time": "2022-02-16T21:50:15.401Z"
   },
   {
    "duration": 9,
    "start_time": "2022-02-16T21:50:15.410Z"
   },
   {
    "duration": 5,
    "start_time": "2022-02-16T21:50:15.421Z"
   },
   {
    "duration": 10,
    "start_time": "2022-02-16T21:50:15.428Z"
   },
   {
    "duration": 48,
    "start_time": "2022-02-16T21:50:15.440Z"
   },
   {
    "duration": 4,
    "start_time": "2022-02-16T21:50:15.490Z"
   },
   {
    "duration": 6,
    "start_time": "2022-02-16T21:50:15.496Z"
   },
   {
    "duration": 13,
    "start_time": "2022-02-16T21:50:15.504Z"
   },
   {
    "duration": 11,
    "start_time": "2022-02-16T21:50:15.519Z"
   },
   {
    "duration": 48,
    "start_time": "2022-02-16T21:50:15.532Z"
   },
   {
    "duration": 22,
    "start_time": "2022-02-16T21:50:15.582Z"
   },
   {
    "duration": 18,
    "start_time": "2022-02-16T21:50:15.608Z"
   },
   {
    "duration": 6,
    "start_time": "2022-02-16T21:50:15.629Z"
   },
   {
    "duration": 34,
    "start_time": "2022-02-16T21:50:15.637Z"
   },
   {
    "duration": 7,
    "start_time": "2022-02-16T21:50:15.673Z"
   },
   {
    "duration": 21,
    "start_time": "2022-02-16T21:50:15.682Z"
   },
   {
    "duration": 13,
    "start_time": "2022-02-16T21:50:15.704Z"
   },
   {
    "duration": 11,
    "start_time": "2022-02-16T21:50:15.718Z"
   },
   {
    "duration": 5,
    "start_time": "2022-02-16T21:50:15.731Z"
   },
   {
    "duration": 24,
    "start_time": "2022-02-16T21:50:15.770Z"
   },
   {
    "duration": 42,
    "start_time": "2022-02-16T21:50:15.796Z"
   },
   {
    "duration": 5,
    "start_time": "2022-02-16T21:50:15.839Z"
   },
   {
    "duration": 61,
    "start_time": "2022-02-16T21:50:15.846Z"
   },
   {
    "duration": 6,
    "start_time": "2022-02-16T21:50:15.909Z"
   },
   {
    "duration": 18,
    "start_time": "2022-02-16T21:50:15.916Z"
   },
   {
    "duration": 71,
    "start_time": "2022-02-16T21:50:15.936Z"
   },
   {
    "duration": 5,
    "start_time": "2022-02-16T21:50:16.008Z"
   },
   {
    "duration": 21,
    "start_time": "2022-02-16T21:50:16.015Z"
   },
   {
    "duration": 54,
    "start_time": "2022-02-16T21:50:16.037Z"
   },
   {
    "duration": 21,
    "start_time": "2022-02-16T21:50:16.093Z"
   },
   {
    "duration": 355,
    "start_time": "2022-02-17T08:26:12.524Z"
   },
   {
    "duration": 728,
    "start_time": "2022-02-17T08:26:18.634Z"
   },
   {
    "duration": 174,
    "start_time": "2022-02-17T08:26:19.364Z"
   },
   {
    "duration": 242,
    "start_time": "2022-02-17T08:26:19.541Z"
   },
   {
    "duration": 93,
    "start_time": "2022-02-17T08:26:19.786Z"
   },
   {
    "duration": 16,
    "start_time": "2022-02-17T08:26:19.880Z"
   },
   {
    "duration": 34,
    "start_time": "2022-02-17T08:26:19.898Z"
   },
   {
    "duration": 23,
    "start_time": "2022-02-17T08:26:19.935Z"
   },
   {
    "duration": 18,
    "start_time": "2022-02-17T08:26:19.960Z"
   },
   {
    "duration": 40,
    "start_time": "2022-02-17T08:26:19.981Z"
   },
   {
    "duration": 7,
    "start_time": "2022-02-17T08:26:20.024Z"
   },
   {
    "duration": 22,
    "start_time": "2022-02-17T08:26:20.033Z"
   },
   {
    "duration": 9,
    "start_time": "2022-02-17T08:26:20.057Z"
   },
   {
    "duration": 13,
    "start_time": "2022-02-17T08:26:20.068Z"
   },
   {
    "duration": 9,
    "start_time": "2022-02-17T08:26:20.083Z"
   },
   {
    "duration": 8,
    "start_time": "2022-02-17T08:26:20.094Z"
   },
   {
    "duration": 18,
    "start_time": "2022-02-17T08:26:20.104Z"
   },
   {
    "duration": 51,
    "start_time": "2022-02-17T08:26:20.124Z"
   },
   {
    "duration": 3,
    "start_time": "2022-02-17T08:26:20.177Z"
   },
   {
    "duration": 6,
    "start_time": "2022-02-17T08:26:20.182Z"
   },
   {
    "duration": 29,
    "start_time": "2022-02-17T08:26:20.191Z"
   },
   {
    "duration": 6,
    "start_time": "2022-02-17T08:26:20.222Z"
   },
   {
    "duration": 35,
    "start_time": "2022-02-17T08:26:20.230Z"
   },
   {
    "duration": 51,
    "start_time": "2022-02-17T08:26:20.267Z"
   },
   {
    "duration": 21,
    "start_time": "2022-02-17T08:26:20.320Z"
   },
   {
    "duration": 8,
    "start_time": "2022-02-17T08:26:20.345Z"
   },
   {
    "duration": 28,
    "start_time": "2022-02-17T08:26:20.355Z"
   },
   {
    "duration": 7,
    "start_time": "2022-02-17T08:26:20.387Z"
   },
   {
    "duration": 39,
    "start_time": "2022-02-17T08:26:20.397Z"
   },
   {
    "duration": 13,
    "start_time": "2022-02-17T08:26:20.438Z"
   },
   {
    "duration": 22,
    "start_time": "2022-02-17T08:26:20.453Z"
   },
   {
    "duration": 8,
    "start_time": "2022-02-17T08:26:20.477Z"
   },
   {
    "duration": 54,
    "start_time": "2022-02-17T08:26:20.487Z"
   },
   {
    "duration": 61,
    "start_time": "2022-02-17T08:26:20.543Z"
   },
   {
    "duration": 18,
    "start_time": "2022-02-17T08:26:20.607Z"
   },
   {
    "duration": 53,
    "start_time": "2022-02-17T08:26:20.626Z"
   },
   {
    "duration": 5,
    "start_time": "2022-02-17T08:26:20.681Z"
   },
   {
    "duration": 38,
    "start_time": "2022-02-17T08:26:20.688Z"
   },
   {
    "duration": 47,
    "start_time": "2022-02-17T08:26:20.729Z"
   },
   {
    "duration": 5,
    "start_time": "2022-02-17T08:26:20.778Z"
   },
   {
    "duration": 48,
    "start_time": "2022-02-17T08:26:20.785Z"
   },
   {
    "duration": 43,
    "start_time": "2022-02-17T08:26:20.835Z"
   },
   {
    "duration": 40,
    "start_time": "2022-02-17T08:26:20.880Z"
   },
   {
    "duration": 8,
    "start_time": "2022-02-17T08:26:20.922Z"
   },
   {
    "duration": 92,
    "start_time": "2022-02-17T08:30:14.582Z"
   },
   {
    "duration": 48,
    "start_time": "2022-02-17T08:30:39.703Z"
   },
   {
    "duration": 11,
    "start_time": "2022-02-17T08:31:33.879Z"
   },
   {
    "duration": 18,
    "start_time": "2022-02-17T08:43:34.030Z"
   },
   {
    "duration": 240,
    "start_time": "2022-02-17T08:44:57.574Z"
   },
   {
    "duration": 34,
    "start_time": "2022-02-17T08:45:07.134Z"
   },
   {
    "duration": 10,
    "start_time": "2022-02-17T08:57:47.173Z"
   },
   {
    "duration": 33,
    "start_time": "2022-02-17T08:57:54.947Z"
   },
   {
    "duration": 41,
    "start_time": "2022-02-17T09:04:24.291Z"
   },
   {
    "duration": 5,
    "start_time": "2022-02-17T09:04:41.187Z"
   },
   {
    "duration": 9,
    "start_time": "2022-02-17T09:09:15.636Z"
   },
   {
    "duration": 12,
    "start_time": "2022-02-17T09:09:20.252Z"
   },
   {
    "duration": 12,
    "start_time": "2022-02-17T09:09:26.316Z"
   },
   {
    "duration": 38,
    "start_time": "2022-02-17T09:10:13.924Z"
   },
   {
    "duration": 5398,
    "start_time": "2022-02-17T09:20:02.555Z"
   },
   {
    "duration": 4,
    "start_time": "2022-02-17T09:21:41.123Z"
   },
   {
    "duration": 170,
    "start_time": "2022-02-17T09:21:54.543Z"
   },
   {
    "duration": 26,
    "start_time": "2022-02-17T09:21:59.414Z"
   },
   {
    "duration": 5527,
    "start_time": "2022-02-17T09:22:30.294Z"
   },
   {
    "duration": 5445,
    "start_time": "2022-02-17T09:23:05.663Z"
   },
   {
    "duration": 5630,
    "start_time": "2022-02-17T09:23:52.903Z"
   },
   {
    "duration": 5426,
    "start_time": "2022-02-17T09:24:09.591Z"
   },
   {
    "duration": 4155,
    "start_time": "2022-02-17T09:24:39.615Z"
   },
   {
    "duration": 23,
    "start_time": "2022-02-17T09:24:51.311Z"
   },
   {
    "duration": 238,
    "start_time": "2022-02-17T09:27:51.016Z"
   },
   {
    "duration": 4156,
    "start_time": "2022-02-17T09:39:33.865Z"
   },
   {
    "duration": 21,
    "start_time": "2022-02-17T09:39:45.528Z"
   },
   {
    "duration": 6,
    "start_time": "2022-02-17T09:41:52.116Z"
   },
   {
    "duration": 5378,
    "start_time": "2022-02-17T09:42:15.701Z"
   },
   {
    "duration": 4933,
    "start_time": "2022-02-17T09:43:09.076Z"
   },
   {
    "duration": 27,
    "start_time": "2022-02-17T09:43:39.323Z"
   },
   {
    "duration": 4,
    "start_time": "2022-02-17T09:44:14.043Z"
   },
   {
    "duration": 26,
    "start_time": "2022-02-17T09:44:17.260Z"
   },
   {
    "duration": 4,
    "start_time": "2022-02-17T09:44:59.675Z"
   },
   {
    "duration": 26,
    "start_time": "2022-02-17T09:45:02.252Z"
   },
   {
    "duration": 5202,
    "start_time": "2022-02-17T09:45:44.076Z"
   },
   {
    "duration": 4,
    "start_time": "2022-02-17T10:15:56.232Z"
   },
   {
    "duration": 18,
    "start_time": "2022-02-17T10:16:08.743Z"
   },
   {
    "duration": 9,
    "start_time": "2022-02-17T10:27:34.207Z"
   },
   {
    "duration": 64,
    "start_time": "2022-02-17T10:33:55.759Z"
   },
   {
    "duration": 198,
    "start_time": "2022-02-17T10:34:06.071Z"
   },
   {
    "duration": 7230,
    "start_time": "2022-02-17T10:34:26.711Z"
   },
   {
    "duration": 9,
    "start_time": "2022-02-17T10:34:33.943Z"
   },
   {
    "duration": 49,
    "start_time": "2022-02-17T10:34:44.111Z"
   },
   {
    "duration": 9,
    "start_time": "2022-02-17T10:36:21.007Z"
   },
   {
    "duration": 12016,
    "start_time": "2022-02-17T10:37:26.137Z"
   },
   {
    "duration": 9,
    "start_time": "2022-02-17T10:37:38.155Z"
   },
   {
    "duration": 49,
    "start_time": "2022-02-17T10:37:47.383Z"
   },
   {
    "duration": 12111,
    "start_time": "2022-02-17T10:38:18.247Z"
   },
   {
    "duration": 9,
    "start_time": "2022-02-17T10:38:32.727Z"
   },
   {
    "duration": 58,
    "start_time": "2022-02-17T10:38:38.680Z"
   },
   {
    "duration": 42,
    "start_time": "2022-02-17T10:38:43.215Z"
   },
   {
    "duration": 6,
    "start_time": "2022-02-17T10:39:35.527Z"
   },
   {
    "duration": 15,
    "start_time": "2022-02-17T10:39:57.864Z"
   },
   {
    "duration": 38,
    "start_time": "2022-02-17T10:40:18.662Z"
   },
   {
    "duration": 6,
    "start_time": "2022-02-17T10:40:36.919Z"
   },
   {
    "duration": 4,
    "start_time": "2022-02-17T10:41:24.271Z"
   },
   {
    "duration": 27,
    "start_time": "2022-02-17T10:41:57.999Z"
   },
   {
    "duration": 318,
    "start_time": "2022-02-17T15:42:40.037Z"
   },
   {
    "duration": 833,
    "start_time": "2022-02-17T15:42:47.115Z"
   },
   {
    "duration": 202,
    "start_time": "2022-02-17T15:42:47.951Z"
   },
   {
    "duration": 174,
    "start_time": "2022-02-17T15:42:48.156Z"
   },
   {
    "duration": 113,
    "start_time": "2022-02-17T15:42:48.332Z"
   },
   {
    "duration": 24,
    "start_time": "2022-02-17T15:42:48.447Z"
   },
   {
    "duration": 56,
    "start_time": "2022-02-17T15:42:48.473Z"
   },
   {
    "duration": 32,
    "start_time": "2022-02-17T15:42:48.530Z"
   },
   {
    "duration": 24,
    "start_time": "2022-02-17T15:42:48.564Z"
   },
   {
    "duration": 42,
    "start_time": "2022-02-17T15:42:48.592Z"
   },
   {
    "duration": 7,
    "start_time": "2022-02-17T15:42:48.637Z"
   },
   {
    "duration": 10,
    "start_time": "2022-02-17T15:42:48.646Z"
   },
   {
    "duration": 6,
    "start_time": "2022-02-17T15:42:48.658Z"
   },
   {
    "duration": 5,
    "start_time": "2022-02-17T15:42:48.665Z"
   },
   {
    "duration": 7,
    "start_time": "2022-02-17T15:42:48.672Z"
   },
   {
    "duration": 5,
    "start_time": "2022-02-17T15:42:48.680Z"
   },
   {
    "duration": 64,
    "start_time": "2022-02-17T15:42:48.687Z"
   },
   {
    "duration": 70,
    "start_time": "2022-02-17T15:42:48.758Z"
   },
   {
    "duration": 4,
    "start_time": "2022-02-17T15:42:48.829Z"
   },
   {
    "duration": 5,
    "start_time": "2022-02-17T15:42:48.834Z"
   },
   {
    "duration": 4,
    "start_time": "2022-02-17T15:42:48.841Z"
   },
   {
    "duration": 5,
    "start_time": "2022-02-17T15:42:48.847Z"
   },
   {
    "duration": 6,
    "start_time": "2022-02-17T15:42:48.853Z"
   },
   {
    "duration": 28,
    "start_time": "2022-02-17T15:42:48.860Z"
   },
   {
    "duration": 59,
    "start_time": "2022-02-17T15:42:48.890Z"
   },
   {
    "duration": 17,
    "start_time": "2022-02-17T15:42:48.951Z"
   },
   {
    "duration": 6,
    "start_time": "2022-02-17T15:42:48.970Z"
   },
   {
    "duration": 9,
    "start_time": "2022-02-17T15:42:48.978Z"
   },
   {
    "duration": 11,
    "start_time": "2022-02-17T15:42:48.988Z"
   },
   {
    "duration": 44,
    "start_time": "2022-02-17T15:42:49.001Z"
   },
   {
    "duration": 18,
    "start_time": "2022-02-17T15:42:49.047Z"
   },
   {
    "duration": 9,
    "start_time": "2022-02-17T15:42:49.067Z"
   },
   {
    "duration": 4,
    "start_time": "2022-02-17T15:42:49.078Z"
   },
   {
    "duration": 21,
    "start_time": "2022-02-17T15:42:55.720Z"
   },
   {
    "duration": 8,
    "start_time": "2022-02-17T15:42:58.216Z"
   },
   {
    "duration": 11219,
    "start_time": "2022-02-17T15:45:55.328Z"
   },
   {
    "duration": 9,
    "start_time": "2022-02-17T15:46:20.456Z"
   },
   {
    "duration": 16026,
    "start_time": "2022-02-17T15:49:02.776Z"
   },
   {
    "duration": 3,
    "start_time": "2022-02-17T15:49:42.914Z"
   },
   {
    "duration": 150,
    "start_time": "2022-02-17T15:49:42.920Z"
   },
   {
    "duration": 132,
    "start_time": "2022-02-17T15:49:43.072Z"
   },
   {
    "duration": 83,
    "start_time": "2022-02-17T15:49:43.206Z"
   },
   {
    "duration": 20,
    "start_time": "2022-02-17T15:49:43.290Z"
   },
   {
    "duration": 42,
    "start_time": "2022-02-17T15:49:43.311Z"
   },
   {
    "duration": 18,
    "start_time": "2022-02-17T15:49:43.355Z"
   },
   {
    "duration": 15,
    "start_time": "2022-02-17T15:49:43.375Z"
   },
   {
    "duration": 20,
    "start_time": "2022-02-17T15:49:43.392Z"
   },
   {
    "duration": 5,
    "start_time": "2022-02-17T15:49:43.414Z"
   },
   {
    "duration": 12,
    "start_time": "2022-02-17T15:49:43.421Z"
   },
   {
    "duration": 5,
    "start_time": "2022-02-17T15:49:43.435Z"
   },
   {
    "duration": 5,
    "start_time": "2022-02-17T15:49:43.441Z"
   },
   {
    "duration": 8,
    "start_time": "2022-02-17T15:49:43.448Z"
   },
   {
    "duration": 9,
    "start_time": "2022-02-17T15:49:43.457Z"
   },
   {
    "duration": 9,
    "start_time": "2022-02-17T15:49:43.467Z"
   },
   {
    "duration": 27,
    "start_time": "2022-02-17T15:49:43.478Z"
   },
   {
    "duration": 4,
    "start_time": "2022-02-17T15:49:43.507Z"
   },
   {
    "duration": 5,
    "start_time": "2022-02-17T15:49:43.532Z"
   },
   {
    "duration": 9,
    "start_time": "2022-02-17T15:49:43.539Z"
   },
   {
    "duration": 9,
    "start_time": "2022-02-17T15:49:43.549Z"
   },
   {
    "duration": 11,
    "start_time": "2022-02-17T15:49:43.559Z"
   },
   {
    "duration": 32,
    "start_time": "2022-02-17T15:49:43.571Z"
   },
   {
    "duration": 38,
    "start_time": "2022-02-17T15:49:43.606Z"
   },
   {
    "duration": 24,
    "start_time": "2022-02-17T15:49:43.646Z"
   },
   {
    "duration": 6,
    "start_time": "2022-02-17T15:49:43.672Z"
   },
   {
    "duration": 11,
    "start_time": "2022-02-17T15:49:43.680Z"
   },
   {
    "duration": 10,
    "start_time": "2022-02-17T15:49:43.693Z"
   },
   {
    "duration": 32,
    "start_time": "2022-02-17T15:49:43.705Z"
   },
   {
    "duration": 12,
    "start_time": "2022-02-17T15:49:43.738Z"
   },
   {
    "duration": 10,
    "start_time": "2022-02-17T15:49:43.752Z"
   },
   {
    "duration": 6,
    "start_time": "2022-02-17T15:49:43.763Z"
   },
   {
    "duration": 30,
    "start_time": "2022-02-17T15:49:43.770Z"
   },
   {
    "duration": 10315,
    "start_time": "2022-02-17T15:49:43.802Z"
   },
   {
    "duration": 56,
    "start_time": "2022-02-17T15:49:54.119Z"
   },
   {
    "duration": 6,
    "start_time": "2022-02-17T15:49:54.176Z"
   },
   {
    "duration": 49,
    "start_time": "2022-02-17T15:49:54.183Z"
   },
   {
    "duration": 4,
    "start_time": "2022-02-17T15:49:54.234Z"
   },
   {
    "duration": 2,
    "start_time": "2022-02-17T15:52:09.387Z"
   },
   {
    "duration": 153,
    "start_time": "2022-02-17T15:52:09.393Z"
   },
   {
    "duration": 135,
    "start_time": "2022-02-17T15:52:09.548Z"
   },
   {
    "duration": 79,
    "start_time": "2022-02-17T15:52:09.685Z"
   },
   {
    "duration": 20,
    "start_time": "2022-02-17T15:52:09.765Z"
   },
   {
    "duration": 57,
    "start_time": "2022-02-17T15:52:09.787Z"
   },
   {
    "duration": 22,
    "start_time": "2022-02-17T15:52:09.845Z"
   },
   {
    "duration": 15,
    "start_time": "2022-02-17T15:52:09.869Z"
   },
   {
    "duration": 34,
    "start_time": "2022-02-17T15:52:09.886Z"
   },
   {
    "duration": 10,
    "start_time": "2022-02-17T15:52:09.923Z"
   },
   {
    "duration": 19,
    "start_time": "2022-02-17T15:52:09.934Z"
   },
   {
    "duration": 13,
    "start_time": "2022-02-17T15:52:09.955Z"
   },
   {
    "duration": 11,
    "start_time": "2022-02-17T15:52:09.969Z"
   },
   {
    "duration": 19,
    "start_time": "2022-02-17T15:52:09.981Z"
   },
   {
    "duration": 18,
    "start_time": "2022-02-17T15:52:10.002Z"
   },
   {
    "duration": 11,
    "start_time": "2022-02-17T15:52:10.022Z"
   },
   {
    "duration": 52,
    "start_time": "2022-02-17T15:52:10.035Z"
   },
   {
    "duration": 3,
    "start_time": "2022-02-17T15:52:10.089Z"
   },
   {
    "duration": 8,
    "start_time": "2022-02-17T15:52:10.094Z"
   },
   {
    "duration": 17,
    "start_time": "2022-02-17T15:52:10.103Z"
   },
   {
    "duration": 15,
    "start_time": "2022-02-17T15:52:10.122Z"
   },
   {
    "duration": 23,
    "start_time": "2022-02-17T15:52:10.139Z"
   },
   {
    "duration": 55,
    "start_time": "2022-02-17T15:52:10.163Z"
   },
   {
    "duration": 20,
    "start_time": "2022-02-17T15:52:10.220Z"
   },
   {
    "duration": 18,
    "start_time": "2022-02-17T15:52:10.241Z"
   },
   {
    "duration": 11,
    "start_time": "2022-02-17T15:52:10.261Z"
   },
   {
    "duration": 38,
    "start_time": "2022-02-17T15:52:10.274Z"
   },
   {
    "duration": 18,
    "start_time": "2022-02-17T15:52:10.314Z"
   },
   {
    "duration": 34,
    "start_time": "2022-02-17T15:52:10.334Z"
   },
   {
    "duration": 15,
    "start_time": "2022-02-17T15:52:10.369Z"
   },
   {
    "duration": 32,
    "start_time": "2022-02-17T15:52:10.385Z"
   },
   {
    "duration": 15,
    "start_time": "2022-02-17T15:52:10.418Z"
   },
   {
    "duration": 36,
    "start_time": "2022-02-17T15:52:10.434Z"
   },
   {
    "duration": 16912,
    "start_time": "2022-02-17T15:52:10.472Z"
   },
   {
    "duration": 71,
    "start_time": "2022-02-17T15:52:27.386Z"
   },
   {
    "duration": 6,
    "start_time": "2022-02-17T15:52:27.460Z"
   },
   {
    "duration": 70,
    "start_time": "2022-02-17T15:52:27.467Z"
   },
   {
    "duration": 6,
    "start_time": "2022-02-17T15:52:27.539Z"
   },
   {
    "duration": 14,
    "start_time": "2022-02-17T16:04:34.383Z"
   },
   {
    "duration": 104,
    "start_time": "2022-02-17T16:06:02.055Z"
   },
   {
    "duration": 8323,
    "start_time": "2022-02-17T16:08:04.704Z"
   },
   {
    "duration": 45,
    "start_time": "2022-02-17T16:08:58.879Z"
   },
   {
    "duration": 6,
    "start_time": "2022-02-17T16:09:14.726Z"
   },
   {
    "duration": 18,
    "start_time": "2022-02-17T16:09:34.566Z"
   },
   {
    "duration": 292,
    "start_time": "2022-02-17T16:15:23.375Z"
   },
   {
    "duration": 259,
    "start_time": "2022-02-17T16:16:44.408Z"
   },
   {
    "duration": 4,
    "start_time": "2022-02-17T16:17:54.353Z"
   },
   {
    "duration": 145,
    "start_time": "2022-02-17T16:17:54.359Z"
   },
   {
    "duration": 158,
    "start_time": "2022-02-17T16:17:54.505Z"
   },
   {
    "duration": 82,
    "start_time": "2022-02-17T16:17:54.665Z"
   },
   {
    "duration": 20,
    "start_time": "2022-02-17T16:17:54.748Z"
   },
   {
    "duration": 33,
    "start_time": "2022-02-17T16:17:54.769Z"
   },
   {
    "duration": 20,
    "start_time": "2022-02-17T16:17:54.804Z"
   },
   {
    "duration": 17,
    "start_time": "2022-02-17T16:17:54.825Z"
   },
   {
    "duration": 14,
    "start_time": "2022-02-17T16:17:54.845Z"
   },
   {
    "duration": 5,
    "start_time": "2022-02-17T16:17:54.861Z"
   },
   {
    "duration": 7,
    "start_time": "2022-02-17T16:17:54.868Z"
   },
   {
    "duration": 6,
    "start_time": "2022-02-17T16:17:54.876Z"
   },
   {
    "duration": 10,
    "start_time": "2022-02-17T16:17:54.883Z"
   },
   {
    "duration": 10,
    "start_time": "2022-02-17T16:17:54.895Z"
   },
   {
    "duration": 27,
    "start_time": "2022-02-17T16:17:54.906Z"
   },
   {
    "duration": 4,
    "start_time": "2022-02-17T16:17:54.934Z"
   },
   {
    "duration": 29,
    "start_time": "2022-02-17T16:17:54.940Z"
   },
   {
    "duration": 3,
    "start_time": "2022-02-17T16:17:54.971Z"
   },
   {
    "duration": 8,
    "start_time": "2022-02-17T16:17:54.976Z"
   },
   {
    "duration": 8,
    "start_time": "2022-02-17T16:17:54.986Z"
   },
   {
    "duration": 36,
    "start_time": "2022-02-17T16:17:54.996Z"
   },
   {
    "duration": 6,
    "start_time": "2022-02-17T16:17:55.034Z"
   },
   {
    "duration": 28,
    "start_time": "2022-02-17T16:17:55.041Z"
   },
   {
    "duration": 29,
    "start_time": "2022-02-17T16:17:55.073Z"
   },
   {
    "duration": 37,
    "start_time": "2022-02-17T16:17:55.104Z"
   },
   {
    "duration": 7,
    "start_time": "2022-02-17T16:17:55.143Z"
   },
   {
    "duration": 8,
    "start_time": "2022-02-17T16:17:55.152Z"
   },
   {
    "duration": 8,
    "start_time": "2022-02-17T16:17:55.162Z"
   },
   {
    "duration": 18,
    "start_time": "2022-02-17T16:17:55.172Z"
   },
   {
    "duration": 11,
    "start_time": "2022-02-17T16:17:55.191Z"
   },
   {
    "duration": 9,
    "start_time": "2022-02-17T16:17:55.232Z"
   },
   {
    "duration": 5,
    "start_time": "2022-02-17T16:17:55.243Z"
   },
   {
    "duration": 22,
    "start_time": "2022-02-17T16:17:55.250Z"
   },
   {
    "duration": 10271,
    "start_time": "2022-02-17T16:17:55.274Z"
   },
   {
    "duration": 49,
    "start_time": "2022-02-17T16:18:05.547Z"
   },
   {
    "duration": 5,
    "start_time": "2022-02-17T16:18:05.598Z"
   },
   {
    "duration": 70,
    "start_time": "2022-02-17T16:18:05.604Z"
   },
   {
    "duration": 5,
    "start_time": "2022-02-17T16:18:05.675Z"
   },
   {
    "duration": 37,
    "start_time": "2022-02-17T16:18:05.681Z"
   },
   {
    "duration": 6732,
    "start_time": "2022-02-17T16:18:05.720Z"
   },
   {
    "duration": 43,
    "start_time": "2022-02-17T16:18:12.454Z"
   },
   {
    "duration": 4,
    "start_time": "2022-02-17T16:18:12.499Z"
   },
   {
    "duration": 34,
    "start_time": "2022-02-17T16:18:12.505Z"
   },
   {
    "duration": 262,
    "start_time": "2022-02-17T16:18:12.541Z"
   },
   {
    "duration": -1047,
    "start_time": "2022-02-17T16:18:13.851Z"
   },
   {
    "duration": -1059,
    "start_time": "2022-02-17T16:18:13.864Z"
   },
   {
    "duration": 265,
    "start_time": "2022-02-17T16:20:01.776Z"
   },
   {
    "duration": 273,
    "start_time": "2022-02-17T16:21:28.598Z"
   },
   {
    "duration": 3,
    "start_time": "2022-02-17T16:26:45.689Z"
   },
   {
    "duration": 170,
    "start_time": "2022-02-17T16:26:45.700Z"
   },
   {
    "duration": 131,
    "start_time": "2022-02-17T16:26:45.872Z"
   },
   {
    "duration": 83,
    "start_time": "2022-02-17T16:26:46.006Z"
   },
   {
    "duration": 20,
    "start_time": "2022-02-17T16:26:46.090Z"
   },
   {
    "duration": 60,
    "start_time": "2022-02-17T16:26:46.112Z"
   },
   {
    "duration": 33,
    "start_time": "2022-02-17T16:26:46.174Z"
   },
   {
    "duration": 27,
    "start_time": "2022-02-17T16:26:46.209Z"
   },
   {
    "duration": 14,
    "start_time": "2022-02-17T16:26:46.237Z"
   },
   {
    "duration": 5,
    "start_time": "2022-02-17T16:26:46.253Z"
   },
   {
    "duration": 8,
    "start_time": "2022-02-17T16:26:46.261Z"
   },
   {
    "duration": 8,
    "start_time": "2022-02-17T16:26:46.271Z"
   },
   {
    "duration": 4,
    "start_time": "2022-02-17T16:26:46.280Z"
   },
   {
    "duration": 5,
    "start_time": "2022-02-17T16:26:46.286Z"
   },
   {
    "duration": 40,
    "start_time": "2022-02-17T16:26:46.293Z"
   },
   {
    "duration": 4,
    "start_time": "2022-02-17T16:26:46.335Z"
   },
   {
    "duration": 25,
    "start_time": "2022-02-17T16:26:46.341Z"
   },
   {
    "duration": 3,
    "start_time": "2022-02-17T16:26:46.368Z"
   },
   {
    "duration": 8,
    "start_time": "2022-02-17T16:26:46.373Z"
   },
   {
    "duration": 9,
    "start_time": "2022-02-17T16:26:46.382Z"
   },
   {
    "duration": 9,
    "start_time": "2022-02-17T16:26:46.393Z"
   },
   {
    "duration": 32,
    "start_time": "2022-02-17T16:26:46.404Z"
   },
   {
    "duration": 26,
    "start_time": "2022-02-17T16:26:46.438Z"
   },
   {
    "duration": 20,
    "start_time": "2022-02-17T16:26:46.465Z"
   },
   {
    "duration": 16,
    "start_time": "2022-02-17T16:26:46.487Z"
   },
   {
    "duration": 31,
    "start_time": "2022-02-17T16:26:46.504Z"
   },
   {
    "duration": 9,
    "start_time": "2022-02-17T16:26:46.537Z"
   },
   {
    "duration": 6,
    "start_time": "2022-02-17T16:26:46.549Z"
   },
   {
    "duration": 22,
    "start_time": "2022-02-17T16:26:46.557Z"
   },
   {
    "duration": 11,
    "start_time": "2022-02-17T16:26:46.580Z"
   },
   {
    "duration": 40,
    "start_time": "2022-02-17T16:26:46.592Z"
   },
   {
    "duration": 5,
    "start_time": "2022-02-17T16:26:46.634Z"
   },
   {
    "duration": 26,
    "start_time": "2022-02-17T16:26:46.641Z"
   },
   {
    "duration": 10444,
    "start_time": "2022-02-17T16:26:46.669Z"
   },
   {
    "duration": 53,
    "start_time": "2022-02-17T16:26:57.114Z"
   },
   {
    "duration": 5,
    "start_time": "2022-02-17T16:26:57.168Z"
   },
   {
    "duration": 37,
    "start_time": "2022-02-17T16:26:57.174Z"
   },
   {
    "duration": 20,
    "start_time": "2022-02-17T16:26:57.212Z"
   },
   {
    "duration": 13,
    "start_time": "2022-02-17T16:26:57.234Z"
   },
   {
    "duration": 6118,
    "start_time": "2022-02-17T16:26:57.248Z"
   },
   {
    "duration": 41,
    "start_time": "2022-02-17T16:27:03.367Z"
   },
   {
    "duration": 4,
    "start_time": "2022-02-17T16:27:03.410Z"
   },
   {
    "duration": 31,
    "start_time": "2022-02-17T16:27:03.415Z"
   },
   {
    "duration": 7502,
    "start_time": "2022-02-17T16:27:03.447Z"
   },
   {
    "duration": 39,
    "start_time": "2022-02-17T16:27:10.950Z"
   },
   {
    "duration": 19,
    "start_time": "2022-02-17T16:27:10.991Z"
   },
   {
    "duration": 32,
    "start_time": "2022-02-17T16:28:40.598Z"
   },
   {
    "duration": 11,
    "start_time": "2022-02-17T16:29:08.662Z"
   },
   {
    "duration": 25,
    "start_time": "2022-02-17T16:30:06.621Z"
   },
   {
    "duration": 4,
    "start_time": "2022-02-17T16:30:32.899Z"
   },
   {
    "duration": 37,
    "start_time": "2022-02-17T16:30:38.348Z"
   },
   {
    "duration": 428,
    "start_time": "2022-02-17T16:36:19.860Z"
   },
   {
    "duration": 15,
    "start_time": "2022-02-17T16:37:04.996Z"
   },
   {
    "duration": 24,
    "start_time": "2022-02-17T16:37:07.782Z"
   },
   {
    "duration": 10,
    "start_time": "2022-02-17T16:37:17.261Z"
   },
   {
    "duration": 5,
    "start_time": "2022-02-17T16:37:33.866Z"
   },
   {
    "duration": 12,
    "start_time": "2022-02-17T16:38:37.661Z"
   },
   {
    "duration": 36,
    "start_time": "2022-02-17T16:38:41.414Z"
   },
   {
    "duration": 9,
    "start_time": "2022-02-17T16:39:11.732Z"
   },
   {
    "duration": 23,
    "start_time": "2022-02-17T16:39:14.157Z"
   },
   {
    "duration": 12,
    "start_time": "2022-02-17T16:42:24.397Z"
   },
   {
    "duration": 26,
    "start_time": "2022-02-17T16:42:28.462Z"
   },
   {
    "duration": 3,
    "start_time": "2022-02-17T16:44:50.222Z"
   },
   {
    "duration": 150,
    "start_time": "2022-02-17T16:44:50.229Z"
   },
   {
    "duration": 150,
    "start_time": "2022-02-17T16:44:50.381Z"
   },
   {
    "duration": 82,
    "start_time": "2022-02-17T16:44:50.533Z"
   },
   {
    "duration": 21,
    "start_time": "2022-02-17T16:44:50.617Z"
   },
   {
    "duration": 59,
    "start_time": "2022-02-17T16:44:50.640Z"
   },
   {
    "duration": 30,
    "start_time": "2022-02-17T16:44:50.702Z"
   },
   {
    "duration": 26,
    "start_time": "2022-02-17T16:44:50.734Z"
   },
   {
    "duration": 20,
    "start_time": "2022-02-17T16:44:50.763Z"
   },
   {
    "duration": 5,
    "start_time": "2022-02-17T16:44:50.786Z"
   },
   {
    "duration": 9,
    "start_time": "2022-02-17T16:44:50.793Z"
   },
   {
    "duration": 32,
    "start_time": "2022-02-17T16:44:50.803Z"
   },
   {
    "duration": 5,
    "start_time": "2022-02-17T16:44:50.837Z"
   },
   {
    "duration": 5,
    "start_time": "2022-02-17T16:44:50.844Z"
   },
   {
    "duration": 5,
    "start_time": "2022-02-17T16:44:50.850Z"
   },
   {
    "duration": 7,
    "start_time": "2022-02-17T16:44:50.856Z"
   },
   {
    "duration": 29,
    "start_time": "2022-02-17T16:44:50.865Z"
   },
   {
    "duration": 37,
    "start_time": "2022-02-17T16:44:50.896Z"
   },
   {
    "duration": 5,
    "start_time": "2022-02-17T16:44:50.935Z"
   },
   {
    "duration": 6,
    "start_time": "2022-02-17T16:44:50.942Z"
   },
   {
    "duration": 6,
    "start_time": "2022-02-17T16:44:50.950Z"
   },
   {
    "duration": 12,
    "start_time": "2022-02-17T16:44:50.957Z"
   },
   {
    "duration": 30,
    "start_time": "2022-02-17T16:44:50.971Z"
   },
   {
    "duration": 46,
    "start_time": "2022-02-17T16:44:51.006Z"
   },
   {
    "duration": 18,
    "start_time": "2022-02-17T16:44:51.054Z"
   },
   {
    "duration": 6,
    "start_time": "2022-02-17T16:44:51.073Z"
   },
   {
    "duration": 9,
    "start_time": "2022-02-17T16:44:51.081Z"
   },
   {
    "duration": 15,
    "start_time": "2022-02-17T16:44:51.092Z"
   },
   {
    "duration": 14,
    "start_time": "2022-02-17T16:44:51.133Z"
   },
   {
    "duration": 11,
    "start_time": "2022-02-17T16:44:51.149Z"
   },
   {
    "duration": 9,
    "start_time": "2022-02-17T16:44:51.161Z"
   },
   {
    "duration": 7,
    "start_time": "2022-02-17T16:44:51.172Z"
   },
   {
    "duration": 52,
    "start_time": "2022-02-17T16:44:51.180Z"
   },
   {
    "duration": 10461,
    "start_time": "2022-02-17T16:44:51.234Z"
   },
   {
    "duration": 64,
    "start_time": "2022-02-17T16:45:01.697Z"
   },
   {
    "duration": 5,
    "start_time": "2022-02-17T16:45:01.763Z"
   },
   {
    "duration": 39,
    "start_time": "2022-02-17T16:45:01.770Z"
   },
   {
    "duration": 24,
    "start_time": "2022-02-17T16:45:01.811Z"
   },
   {
    "duration": 15,
    "start_time": "2022-02-17T16:45:01.836Z"
   },
   {
    "duration": 6566,
    "start_time": "2022-02-17T16:45:01.853Z"
   },
   {
    "duration": 53,
    "start_time": "2022-02-17T16:45:08.420Z"
   },
   {
    "duration": 6,
    "start_time": "2022-02-17T16:45:08.474Z"
   },
   {
    "duration": 22,
    "start_time": "2022-02-17T16:45:08.481Z"
   },
   {
    "duration": 12558,
    "start_time": "2022-02-17T16:45:08.505Z"
   },
   {
    "duration": 68,
    "start_time": "2022-02-17T16:45:21.065Z"
   },
   {
    "duration": 28,
    "start_time": "2022-02-17T16:45:21.135Z"
   },
   {
    "duration": 11,
    "start_time": "2022-02-17T16:45:21.164Z"
   },
   {
    "duration": 26,
    "start_time": "2022-02-17T16:54:05.779Z"
   },
   {
    "duration": 15,
    "start_time": "2022-02-17T16:55:44.491Z"
   },
   {
    "duration": 282,
    "start_time": "2022-02-17T17:02:39.417Z"
   },
   {
    "duration": 99,
    "start_time": "2022-02-17T17:58:47.866Z"
   },
   {
    "duration": 4,
    "start_time": "2022-02-17T17:59:00.741Z"
   },
   {
    "duration": 9,
    "start_time": "2022-02-17T17:59:08.911Z"
   },
   {
    "duration": 4,
    "start_time": "2022-02-17T17:59:45.797Z"
   },
   {
    "duration": 10,
    "start_time": "2022-02-17T17:59:49.757Z"
   },
   {
    "duration": 3,
    "start_time": "2022-02-18T03:36:02.856Z"
   },
   {
    "duration": 184,
    "start_time": "2022-02-18T03:36:02.861Z"
   },
   {
    "duration": 126,
    "start_time": "2022-02-18T03:36:03.047Z"
   },
   {
    "duration": 81,
    "start_time": "2022-02-18T03:36:03.175Z"
   },
   {
    "duration": 20,
    "start_time": "2022-02-18T03:36:03.258Z"
   },
   {
    "duration": 55,
    "start_time": "2022-02-18T03:36:03.280Z"
   },
   {
    "duration": 22,
    "start_time": "2022-02-18T03:36:03.336Z"
   },
   {
    "duration": 18,
    "start_time": "2022-02-18T03:36:03.359Z"
   },
   {
    "duration": 19,
    "start_time": "2022-02-18T03:36:03.379Z"
   },
   {
    "duration": 27,
    "start_time": "2022-02-18T03:36:03.399Z"
   },
   {
    "duration": 28,
    "start_time": "2022-02-18T03:36:03.428Z"
   },
   {
    "duration": 7,
    "start_time": "2022-02-18T03:36:03.457Z"
   },
   {
    "duration": 6,
    "start_time": "2022-02-18T03:36:03.465Z"
   },
   {
    "duration": 4,
    "start_time": "2022-02-18T03:36:03.473Z"
   },
   {
    "duration": 5,
    "start_time": "2022-02-18T03:36:03.478Z"
   },
   {
    "duration": 6,
    "start_time": "2022-02-18T03:36:03.484Z"
   },
   {
    "duration": 29,
    "start_time": "2022-02-18T03:36:03.491Z"
   },
   {
    "duration": 4,
    "start_time": "2022-02-18T03:36:03.521Z"
   },
   {
    "duration": 6,
    "start_time": "2022-02-18T03:36:03.527Z"
   },
   {
    "duration": 11,
    "start_time": "2022-02-18T03:36:03.535Z"
   },
   {
    "duration": 8,
    "start_time": "2022-02-18T03:36:03.547Z"
   },
   {
    "duration": 10,
    "start_time": "2022-02-18T03:36:03.557Z"
   },
   {
    "duration": 28,
    "start_time": "2022-02-18T03:36:03.568Z"
   },
   {
    "duration": 20,
    "start_time": "2022-02-18T03:36:03.599Z"
   },
   {
    "duration": 26,
    "start_time": "2022-02-18T03:36:03.621Z"
   },
   {
    "duration": 6,
    "start_time": "2022-02-18T03:36:03.648Z"
   },
   {
    "duration": 9,
    "start_time": "2022-02-18T03:36:03.656Z"
   },
   {
    "duration": 6,
    "start_time": "2022-02-18T03:36:03.666Z"
   },
   {
    "duration": 19,
    "start_time": "2022-02-18T03:36:03.674Z"
   },
   {
    "duration": 10,
    "start_time": "2022-02-18T03:36:03.694Z"
   },
   {
    "duration": 31,
    "start_time": "2022-02-18T03:36:03.706Z"
   },
   {
    "duration": 5,
    "start_time": "2022-02-18T03:36:03.738Z"
   },
   {
    "duration": 25,
    "start_time": "2022-02-18T03:36:03.744Z"
   },
   {
    "duration": 10242,
    "start_time": "2022-02-18T03:36:03.770Z"
   },
   {
    "duration": 49,
    "start_time": "2022-02-18T03:36:14.014Z"
   },
   {
    "duration": 4,
    "start_time": "2022-02-18T03:36:14.064Z"
   },
   {
    "duration": 37,
    "start_time": "2022-02-18T03:36:14.069Z"
   },
   {
    "duration": 4,
    "start_time": "2022-02-18T03:36:14.108Z"
   },
   {
    "duration": 31,
    "start_time": "2022-02-18T03:36:14.113Z"
   },
   {
    "duration": 6063,
    "start_time": "2022-02-18T03:36:14.145Z"
   },
   {
    "duration": 49,
    "start_time": "2022-02-18T03:36:20.209Z"
   },
   {
    "duration": 4,
    "start_time": "2022-02-18T03:36:20.259Z"
   },
   {
    "duration": 17,
    "start_time": "2022-02-18T03:36:20.264Z"
   },
   {
    "duration": 7426,
    "start_time": "2022-02-18T03:36:20.282Z"
   },
   {
    "duration": 47,
    "start_time": "2022-02-18T03:36:27.709Z"
   },
   {
    "duration": 17,
    "start_time": "2022-02-18T03:36:27.758Z"
   },
   {
    "duration": 21,
    "start_time": "2022-02-18T03:42:19.559Z"
   },
   {
    "duration": 277,
    "start_time": "2022-02-18T03:52:59.462Z"
   },
   {
    "duration": 253,
    "start_time": "2022-02-18T04:01:47.062Z"
   },
   {
    "duration": 270,
    "start_time": "2022-02-18T04:02:29.349Z"
   },
   {
    "duration": 30,
    "start_time": "2022-02-18T04:03:40.245Z"
   },
   {
    "duration": 260,
    "start_time": "2022-02-18T04:05:13.166Z"
   },
   {
    "duration": 270,
    "start_time": "2022-02-18T04:05:24.357Z"
   },
   {
    "duration": 6,
    "start_time": "2022-02-18T04:06:09.957Z"
   },
   {
    "duration": 282,
    "start_time": "2022-02-18T04:06:13.621Z"
   },
   {
    "duration": 30,
    "start_time": "2022-02-18T04:06:56.581Z"
   },
   {
    "duration": 274,
    "start_time": "2022-02-18T04:10:25.734Z"
   },
   {
    "duration": 9,
    "start_time": "2022-02-18T04:10:39.133Z"
   },
   {
    "duration": 29,
    "start_time": "2022-02-18T04:10:42.596Z"
   },
   {
    "duration": 266,
    "start_time": "2022-02-18T04:18:01.725Z"
   },
   {
    "duration": 4,
    "start_time": "2022-02-18T04:18:11.813Z"
   },
   {
    "duration": 3,
    "start_time": "2022-02-18T04:20:31.132Z"
   },
   {
    "duration": 23,
    "start_time": "2022-02-18T04:20:40.421Z"
   },
   {
    "duration": 11,
    "start_time": "2022-02-18T04:21:00.204Z"
   },
   {
    "duration": 35,
    "start_time": "2022-02-18T04:23:41.820Z"
   },
   {
    "duration": 16,
    "start_time": "2022-02-18T04:27:05.980Z"
   },
   {
    "duration": 9,
    "start_time": "2022-02-18T04:27:16.076Z"
   },
   {
    "duration": 6,
    "start_time": "2022-02-18T04:33:17.563Z"
   },
   {
    "duration": 938,
    "start_time": "2022-02-18T16:23:00.045Z"
   },
   {
    "duration": 241,
    "start_time": "2022-02-18T16:23:00.986Z"
   },
   {
    "duration": 199,
    "start_time": "2022-02-18T16:23:01.231Z"
   },
   {
    "duration": 135,
    "start_time": "2022-02-18T16:23:01.434Z"
   },
   {
    "duration": 30,
    "start_time": "2022-02-18T16:23:01.572Z"
   },
   {
    "duration": 58,
    "start_time": "2022-02-18T16:23:01.612Z"
   },
   {
    "duration": 30,
    "start_time": "2022-02-18T16:23:01.673Z"
   },
   {
    "duration": 24,
    "start_time": "2022-02-18T16:23:01.707Z"
   },
   {
    "duration": 21,
    "start_time": "2022-02-18T16:23:01.734Z"
   },
   {
    "duration": 11,
    "start_time": "2022-02-18T16:23:01.758Z"
   },
   {
    "duration": 47,
    "start_time": "2022-02-18T16:23:01.772Z"
   },
   {
    "duration": 8,
    "start_time": "2022-02-18T16:23:01.822Z"
   },
   {
    "duration": 10,
    "start_time": "2022-02-18T16:23:01.832Z"
   },
   {
    "duration": 12,
    "start_time": "2022-02-18T16:23:01.845Z"
   },
   {
    "duration": 7,
    "start_time": "2022-02-18T16:23:01.860Z"
   },
   {
    "duration": 43,
    "start_time": "2022-02-18T16:23:01.869Z"
   },
   {
    "duration": 63,
    "start_time": "2022-02-18T16:23:01.915Z"
   },
   {
    "duration": 7,
    "start_time": "2022-02-18T16:23:01.982Z"
   },
   {
    "duration": 6,
    "start_time": "2022-02-18T16:23:02.011Z"
   },
   {
    "duration": 5,
    "start_time": "2022-02-18T16:23:02.020Z"
   },
   {
    "duration": 7,
    "start_time": "2022-02-18T16:23:02.028Z"
   },
   {
    "duration": 16,
    "start_time": "2022-02-18T16:23:02.038Z"
   },
   {
    "duration": 83,
    "start_time": "2022-02-18T16:23:02.062Z"
   },
   {
    "duration": 37,
    "start_time": "2022-02-18T16:23:02.149Z"
   },
   {
    "duration": 47,
    "start_time": "2022-02-18T16:23:02.189Z"
   },
   {
    "duration": 10,
    "start_time": "2022-02-18T16:23:02.238Z"
   },
   {
    "duration": 14,
    "start_time": "2022-02-18T16:23:02.251Z"
   },
   {
    "duration": 9,
    "start_time": "2022-02-18T16:23:02.268Z"
   },
   {
    "duration": 26,
    "start_time": "2022-02-18T16:23:02.312Z"
   },
   {
    "duration": 25,
    "start_time": "2022-02-18T16:23:02.341Z"
   },
   {
    "duration": 44,
    "start_time": "2022-02-18T16:23:02.368Z"
   },
   {
    "duration": 8,
    "start_time": "2022-02-18T16:23:02.415Z"
   },
   {
    "duration": 37,
    "start_time": "2022-02-18T16:23:02.425Z"
   },
   {
    "duration": 21486,
    "start_time": "2022-02-18T16:23:02.464Z"
   },
   {
    "duration": 135,
    "start_time": "2022-02-18T16:23:23.953Z"
   },
   {
    "duration": 9,
    "start_time": "2022-02-18T16:23:24.091Z"
   },
   {
    "duration": 111,
    "start_time": "2022-02-18T16:23:24.112Z"
   },
   {
    "duration": 8,
    "start_time": "2022-02-18T16:23:24.225Z"
   },
   {
    "duration": 23,
    "start_time": "2022-02-18T16:23:24.235Z"
   },
   {
    "duration": 13636,
    "start_time": "2022-02-18T16:23:24.261Z"
   },
   {
    "duration": 70,
    "start_time": "2022-02-18T16:23:37.900Z"
   },
   {
    "duration": 7,
    "start_time": "2022-02-18T16:23:37.972Z"
   },
   {
    "duration": 36,
    "start_time": "2022-02-18T16:23:37.982Z"
   },
   {
    "duration": 16560,
    "start_time": "2022-02-18T16:23:38.021Z"
   },
   {
    "duration": 81,
    "start_time": "2022-02-18T16:23:54.584Z"
   },
   {
    "duration": 46,
    "start_time": "2022-02-18T16:23:54.667Z"
   },
   {
    "duration": 5,
    "start_time": "2022-02-18T16:23:54.716Z"
   },
   {
    "duration": 52,
    "start_time": "2022-02-18T16:23:54.724Z"
   },
   {
    "duration": 90,
    "start_time": "2022-02-18T16:23:54.779Z"
   },
   {
    "duration": 6,
    "start_time": "2022-02-18T16:23:54.872Z"
   },
   {
    "duration": 62,
    "start_time": "2022-02-18T16:23:54.881Z"
   },
   {
    "duration": 17,
    "start_time": "2022-02-18T16:23:54.946Z"
   },
   {
    "duration": 8,
    "start_time": "2022-02-18T16:28:48.425Z"
   },
   {
    "duration": 9,
    "start_time": "2022-02-18T16:31:03.048Z"
   },
   {
    "duration": 8,
    "start_time": "2022-02-18T16:31:05.576Z"
   },
   {
    "duration": 495,
    "start_time": "2022-02-18T16:32:09.536Z"
   },
   {
    "duration": 6,
    "start_time": "2022-02-18T16:32:31.800Z"
   },
   {
    "duration": 67,
    "start_time": "2022-02-18T16:40:46.144Z"
   },
   {
    "duration": 8049,
    "start_time": "2022-02-18T16:42:02.455Z"
   },
   {
    "duration": 7,
    "start_time": "2022-02-18T16:43:08.632Z"
   },
   {
    "duration": 9269,
    "start_time": "2022-02-18T16:43:22.087Z"
   },
   {
    "duration": 8,
    "start_time": "2022-02-18T16:44:16.992Z"
   },
   {
    "duration": 8,
    "start_time": "2022-02-18T16:44:48.502Z"
   },
   {
    "duration": 53,
    "start_time": "2022-02-19T05:29:00.457Z"
   },
   {
    "duration": 8,
    "start_time": "2022-02-19T05:29:15.657Z"
   },
   {
    "duration": 51,
    "start_time": "2022-02-19T05:35:30.066Z"
   },
   {
    "duration": 30,
    "start_time": "2022-02-19T05:48:22.850Z"
   },
   {
    "duration": 50,
    "start_time": "2022-02-19T05:48:31.002Z"
   },
   {
    "duration": 6,
    "start_time": "2022-02-19T05:51:07.169Z"
   },
   {
    "duration": 4,
    "start_time": "2022-02-19T05:53:34.996Z"
   },
   {
    "duration": 219,
    "start_time": "2022-02-19T05:53:35.004Z"
   },
   {
    "duration": 191,
    "start_time": "2022-02-19T05:53:35.225Z"
   },
   {
    "duration": 120,
    "start_time": "2022-02-19T05:53:35.419Z"
   },
   {
    "duration": 28,
    "start_time": "2022-02-19T05:53:35.541Z"
   },
   {
    "duration": 46,
    "start_time": "2022-02-19T05:53:35.571Z"
   },
   {
    "duration": 26,
    "start_time": "2022-02-19T05:53:35.619Z"
   },
   {
    "duration": 22,
    "start_time": "2022-02-19T05:53:35.647Z"
   },
   {
    "duration": 43,
    "start_time": "2022-02-19T05:53:35.673Z"
   },
   {
    "duration": 8,
    "start_time": "2022-02-19T05:53:35.719Z"
   },
   {
    "duration": 14,
    "start_time": "2022-02-19T05:53:35.729Z"
   },
   {
    "duration": 6,
    "start_time": "2022-02-19T05:53:35.745Z"
   },
   {
    "duration": 5,
    "start_time": "2022-02-19T05:53:35.754Z"
   },
   {
    "duration": 52,
    "start_time": "2022-02-19T05:53:35.761Z"
   },
   {
    "duration": 6,
    "start_time": "2022-02-19T05:53:35.815Z"
   },
   {
    "duration": 5,
    "start_time": "2022-02-19T05:53:35.824Z"
   },
   {
    "duration": 33,
    "start_time": "2022-02-19T05:53:35.832Z"
   },
   {
    "duration": 46,
    "start_time": "2022-02-19T05:53:35.867Z"
   },
   {
    "duration": 6,
    "start_time": "2022-02-19T05:53:35.915Z"
   },
   {
    "duration": 8,
    "start_time": "2022-02-19T05:53:35.923Z"
   },
   {
    "duration": 6,
    "start_time": "2022-02-19T05:53:35.937Z"
   },
   {
    "duration": 9,
    "start_time": "2022-02-19T05:53:35.946Z"
   },
   {
    "duration": 90,
    "start_time": "2022-02-19T05:53:35.957Z"
   },
   {
    "duration": 33,
    "start_time": "2022-02-19T05:53:36.055Z"
   },
   {
    "duration": 42,
    "start_time": "2022-02-19T05:53:36.092Z"
   },
   {
    "duration": 9,
    "start_time": "2022-02-19T05:53:36.137Z"
   },
   {
    "duration": 12,
    "start_time": "2022-02-19T05:53:36.148Z"
   },
   {
    "duration": 8,
    "start_time": "2022-02-19T05:53:36.162Z"
   },
   {
    "duration": 58,
    "start_time": "2022-02-19T05:53:36.173Z"
   },
   {
    "duration": 15,
    "start_time": "2022-02-19T05:53:36.233Z"
   },
   {
    "duration": 14,
    "start_time": "2022-02-19T05:53:36.251Z"
   },
   {
    "duration": 45,
    "start_time": "2022-02-19T05:53:36.267Z"
   },
   {
    "duration": 33,
    "start_time": "2022-02-19T05:53:36.314Z"
   },
   {
    "duration": 19919,
    "start_time": "2022-02-19T05:53:36.349Z"
   },
   {
    "duration": 89,
    "start_time": "2022-02-19T05:53:56.271Z"
   },
   {
    "duration": 7,
    "start_time": "2022-02-19T05:53:56.362Z"
   },
   {
    "duration": 85,
    "start_time": "2022-02-19T05:53:56.371Z"
   },
   {
    "duration": 7,
    "start_time": "2022-02-19T05:53:56.458Z"
   },
   {
    "duration": 43,
    "start_time": "2022-02-19T05:53:56.467Z"
   },
   {
    "duration": 12707,
    "start_time": "2022-02-19T05:53:56.513Z"
   },
   {
    "duration": 66,
    "start_time": "2022-02-19T05:54:09.223Z"
   },
   {
    "duration": 23,
    "start_time": "2022-02-19T05:54:09.291Z"
   },
   {
    "duration": 24,
    "start_time": "2022-02-19T05:54:09.317Z"
   },
   {
    "duration": 14343,
    "start_time": "2022-02-19T05:54:09.344Z"
   },
   {
    "duration": 80,
    "start_time": "2022-02-19T05:54:23.689Z"
   },
   {
    "duration": 43,
    "start_time": "2022-02-19T05:54:23.771Z"
   },
   {
    "duration": 6,
    "start_time": "2022-02-19T05:54:23.816Z"
   },
   {
    "duration": 39,
    "start_time": "2022-02-19T05:54:23.824Z"
   },
   {
    "duration": 91,
    "start_time": "2022-02-19T05:54:23.865Z"
   },
   {
    "duration": 66,
    "start_time": "2022-02-19T05:54:23.958Z"
   },
   {
    "duration": 61,
    "start_time": "2022-02-19T05:54:24.026Z"
   },
   {
    "duration": 70,
    "start_time": "2022-02-19T05:54:24.090Z"
   },
   {
    "duration": 101,
    "start_time": "2022-02-19T05:54:24.162Z"
   },
   {
    "duration": 68,
    "start_time": "2022-02-19T05:54:24.265Z"
   },
   {
    "duration": 6,
    "start_time": "2022-02-19T05:54:24.336Z"
   },
   {
    "duration": 25,
    "start_time": "2022-02-19T05:54:24.344Z"
   },
   {
    "duration": 13,
    "start_time": "2022-02-19T05:54:24.371Z"
   },
   {
    "duration": 918,
    "start_time": "2022-02-19T14:29:32.329Z"
   },
   {
    "duration": 219,
    "start_time": "2022-02-19T14:29:33.251Z"
   },
   {
    "duration": 171,
    "start_time": "2022-02-19T14:29:33.474Z"
   },
   {
    "duration": 126,
    "start_time": "2022-02-19T14:29:33.648Z"
   },
   {
    "duration": 21,
    "start_time": "2022-02-19T14:29:33.776Z"
   },
   {
    "duration": 30,
    "start_time": "2022-02-19T14:29:33.799Z"
   },
   {
    "duration": 39,
    "start_time": "2022-02-19T14:29:33.831Z"
   },
   {
    "duration": 22,
    "start_time": "2022-02-19T14:29:33.874Z"
   },
   {
    "duration": 20,
    "start_time": "2022-02-19T14:29:33.900Z"
   },
   {
    "duration": 40,
    "start_time": "2022-02-19T14:29:33.922Z"
   },
   {
    "duration": 11,
    "start_time": "2022-02-19T14:29:33.965Z"
   },
   {
    "duration": 9,
    "start_time": "2022-02-19T14:29:33.978Z"
   },
   {
    "duration": 19,
    "start_time": "2022-02-19T14:29:33.989Z"
   },
   {
    "duration": 10,
    "start_time": "2022-02-19T14:29:34.011Z"
   },
   {
    "duration": 46,
    "start_time": "2022-02-19T14:29:34.024Z"
   },
   {
    "duration": 6,
    "start_time": "2022-02-19T14:29:34.073Z"
   },
   {
    "duration": 80,
    "start_time": "2022-02-19T14:29:34.081Z"
   },
   {
    "duration": 5,
    "start_time": "2022-02-19T14:29:34.164Z"
   },
   {
    "duration": 6,
    "start_time": "2022-02-19T14:29:34.172Z"
   },
   {
    "duration": 6,
    "start_time": "2022-02-19T14:29:34.180Z"
   },
   {
    "duration": 6,
    "start_time": "2022-02-19T14:29:34.188Z"
   },
   {
    "duration": 10,
    "start_time": "2022-02-19T14:29:34.196Z"
   },
   {
    "duration": 43,
    "start_time": "2022-02-19T14:29:34.261Z"
   },
   {
    "duration": 30,
    "start_time": "2022-02-19T14:29:34.307Z"
   },
   {
    "duration": 45,
    "start_time": "2022-02-19T14:29:34.339Z"
   },
   {
    "duration": 9,
    "start_time": "2022-02-19T14:29:34.387Z"
   },
   {
    "duration": 20,
    "start_time": "2022-02-19T14:29:34.398Z"
   },
   {
    "duration": 21,
    "start_time": "2022-02-19T14:29:34.421Z"
   },
   {
    "duration": 35,
    "start_time": "2022-02-19T14:29:34.445Z"
   },
   {
    "duration": 15,
    "start_time": "2022-02-19T14:29:34.482Z"
   },
   {
    "duration": 15,
    "start_time": "2022-02-19T14:29:34.500Z"
   },
   {
    "duration": 45,
    "start_time": "2022-02-19T14:29:34.518Z"
   },
   {
    "duration": 34,
    "start_time": "2022-02-19T14:29:34.566Z"
   },
   {
    "duration": 19416,
    "start_time": "2022-02-19T14:29:34.603Z"
   },
   {
    "duration": 98,
    "start_time": "2022-02-19T14:29:54.021Z"
   },
   {
    "duration": 7,
    "start_time": "2022-02-19T14:29:54.122Z"
   },
   {
    "duration": 84,
    "start_time": "2022-02-19T14:29:54.131Z"
   },
   {
    "duration": 8,
    "start_time": "2022-02-19T14:29:54.217Z"
   },
   {
    "duration": 43,
    "start_time": "2022-02-19T14:29:54.228Z"
   },
   {
    "duration": 11928,
    "start_time": "2022-02-19T14:29:54.274Z"
   },
   {
    "duration": 81,
    "start_time": "2022-02-19T14:30:06.204Z"
   },
   {
    "duration": 7,
    "start_time": "2022-02-19T14:30:06.288Z"
   },
   {
    "duration": 25,
    "start_time": "2022-02-19T14:30:06.297Z"
   },
   {
    "duration": 14845,
    "start_time": "2022-02-19T14:30:06.325Z"
   },
   {
    "duration": 66,
    "start_time": "2022-02-19T14:30:21.173Z"
   },
   {
    "duration": 37,
    "start_time": "2022-02-19T14:30:21.261Z"
   },
   {
    "duration": 6,
    "start_time": "2022-02-19T14:30:21.301Z"
   },
   {
    "duration": 61,
    "start_time": "2022-02-19T14:30:21.309Z"
   },
   {
    "duration": 64,
    "start_time": "2022-02-19T14:30:21.373Z"
   },
   {
    "duration": 75,
    "start_time": "2022-02-19T14:30:21.440Z"
   },
   {
    "duration": 84,
    "start_time": "2022-02-19T14:30:21.518Z"
   },
   {
    "duration": 65,
    "start_time": "2022-02-19T14:30:21.604Z"
   },
   {
    "duration": 91,
    "start_time": "2022-02-19T14:30:21.672Z"
   },
   {
    "duration": 52,
    "start_time": "2022-02-19T14:30:21.765Z"
   },
   {
    "duration": 6,
    "start_time": "2022-02-19T14:30:21.819Z"
   },
   {
    "duration": 52,
    "start_time": "2022-02-19T14:30:21.828Z"
   },
   {
    "duration": 17,
    "start_time": "2022-02-19T14:30:21.883Z"
   },
   {
    "duration": 57,
    "start_time": "2022-02-19T14:34:15.948Z"
   },
   {
    "duration": 55,
    "start_time": "2022-02-19T14:34:40.893Z"
   },
   {
    "duration": 4,
    "start_time": "2022-02-19T14:39:06.085Z"
   },
   {
    "duration": 214,
    "start_time": "2022-02-19T14:39:06.092Z"
   },
   {
    "duration": 190,
    "start_time": "2022-02-19T14:39:06.308Z"
   },
   {
    "duration": 111,
    "start_time": "2022-02-19T14:39:06.500Z"
   },
   {
    "duration": 22,
    "start_time": "2022-02-19T14:39:06.614Z"
   },
   {
    "duration": 40,
    "start_time": "2022-02-19T14:39:06.638Z"
   },
   {
    "duration": 29,
    "start_time": "2022-02-19T14:39:06.682Z"
   },
   {
    "duration": 23,
    "start_time": "2022-02-19T14:39:06.714Z"
   },
   {
    "duration": 20,
    "start_time": "2022-02-19T14:39:06.762Z"
   },
   {
    "duration": 7,
    "start_time": "2022-02-19T14:39:06.784Z"
   },
   {
    "duration": 9,
    "start_time": "2022-02-19T14:39:06.794Z"
   },
   {
    "duration": 5,
    "start_time": "2022-02-19T14:39:06.806Z"
   },
   {
    "duration": 48,
    "start_time": "2022-02-19T14:39:06.814Z"
   },
   {
    "duration": 15,
    "start_time": "2022-02-19T14:39:06.865Z"
   },
   {
    "duration": 11,
    "start_time": "2022-02-19T14:39:06.883Z"
   },
   {
    "duration": 6,
    "start_time": "2022-02-19T14:39:06.896Z"
   },
   {
    "duration": 59,
    "start_time": "2022-02-19T14:39:06.904Z"
   },
   {
    "duration": 5,
    "start_time": "2022-02-19T14:39:06.966Z"
   },
   {
    "duration": 7,
    "start_time": "2022-02-19T14:39:06.976Z"
   },
   {
    "duration": 7,
    "start_time": "2022-02-19T14:39:06.986Z"
   },
   {
    "duration": 5,
    "start_time": "2022-02-19T14:39:06.996Z"
   },
   {
    "duration": 7,
    "start_time": "2022-02-19T14:39:07.004Z"
   },
   {
    "duration": 87,
    "start_time": "2022-02-19T14:39:07.013Z"
   },
   {
    "duration": 31,
    "start_time": "2022-02-19T14:39:07.103Z"
   },
   {
    "duration": 47,
    "start_time": "2022-02-19T14:39:07.137Z"
   },
   {
    "duration": 10,
    "start_time": "2022-02-19T14:39:07.186Z"
   },
   {
    "duration": 10,
    "start_time": "2022-02-19T14:39:07.199Z"
   },
   {
    "duration": 53,
    "start_time": "2022-02-19T14:39:07.212Z"
   },
   {
    "duration": 19,
    "start_time": "2022-02-19T14:39:07.268Z"
   },
   {
    "duration": 16,
    "start_time": "2022-02-19T14:39:07.289Z"
   },
   {
    "duration": 13,
    "start_time": "2022-02-19T14:39:07.308Z"
   },
   {
    "duration": 42,
    "start_time": "2022-02-19T14:39:07.324Z"
   },
   {
    "duration": 33,
    "start_time": "2022-02-19T14:39:07.369Z"
   },
   {
    "duration": 20318,
    "start_time": "2022-02-19T14:39:07.404Z"
   },
   {
    "duration": 97,
    "start_time": "2022-02-19T14:39:27.724Z"
   },
   {
    "duration": 8,
    "start_time": "2022-02-19T14:39:27.823Z"
   },
   {
    "duration": 85,
    "start_time": "2022-02-19T14:39:27.833Z"
   },
   {
    "duration": 9,
    "start_time": "2022-02-19T14:39:27.921Z"
   },
   {
    "duration": 43,
    "start_time": "2022-02-19T14:39:27.933Z"
   },
   {
    "duration": 12024,
    "start_time": "2022-02-19T14:39:27.979Z"
   },
   {
    "duration": 83,
    "start_time": "2022-02-19T14:39:40.006Z"
   },
   {
    "duration": 6,
    "start_time": "2022-02-19T14:39:40.092Z"
   },
   {
    "duration": 28,
    "start_time": "2022-02-19T14:39:40.100Z"
   },
   {
    "duration": 15219,
    "start_time": "2022-02-19T14:39:40.130Z"
   },
   {
    "duration": 71,
    "start_time": "2022-02-19T14:39:55.351Z"
   },
   {
    "duration": 53,
    "start_time": "2022-02-19T14:39:55.424Z"
   },
   {
    "duration": 6,
    "start_time": "2022-02-19T14:39:55.480Z"
   },
   {
    "duration": 56,
    "start_time": "2022-02-19T14:39:55.488Z"
   },
   {
    "duration": 44,
    "start_time": "2022-02-19T14:44:17.196Z"
   },
   {
    "duration": 55,
    "start_time": "2022-02-19T14:44:37.604Z"
   },
   {
    "duration": 53,
    "start_time": "2022-02-19T14:44:50.707Z"
   },
   {
    "duration": 55,
    "start_time": "2022-02-19T14:45:00.635Z"
   },
   {
    "duration": 93,
    "start_time": "2022-02-19T14:45:11.738Z"
   },
   {
    "duration": 56,
    "start_time": "2022-02-19T14:45:13.538Z"
   },
   {
    "duration": 55,
    "start_time": "2022-02-19T14:45:17.474Z"
   },
   {
    "duration": 84,
    "start_time": "2022-02-19T14:45:21.227Z"
   },
   {
    "duration": 53,
    "start_time": "2022-02-19T15:11:07.337Z"
   },
   {
    "duration": 6,
    "start_time": "2022-02-19T15:11:10.640Z"
   },
   {
    "duration": 25,
    "start_time": "2022-02-19T15:11:17.732Z"
   },
   {
    "duration": 14,
    "start_time": "2022-02-19T15:11:20.928Z"
   },
   {
    "duration": 488,
    "start_time": "2022-02-19T15:40:14.205Z"
   },
   {
    "duration": 438,
    "start_time": "2022-02-19T15:40:22.814Z"
   },
   {
    "duration": 51,
    "start_time": "2022-02-19T15:40:48.622Z"
   },
   {
    "duration": 53,
    "start_time": "2022-02-19T15:41:02.869Z"
   },
   {
    "duration": 32,
    "start_time": "2022-02-19T15:42:37.149Z"
   },
   {
    "duration": 12,
    "start_time": "2022-02-19T15:43:18.356Z"
   },
   {
    "duration": 29,
    "start_time": "2022-02-19T15:43:33.853Z"
   },
   {
    "duration": 9023,
    "start_time": "2022-02-19T15:44:00.397Z"
   },
   {
    "duration": 158,
    "start_time": "2022-02-19T15:44:27.925Z"
   },
   {
    "duration": 4570,
    "start_time": "2022-02-19T15:44:37.092Z"
   },
   {
    "duration": 27,
    "start_time": "2022-02-19T15:48:08.372Z"
   },
   {
    "duration": 113,
    "start_time": "2022-02-19T15:51:56.795Z"
   },
   {
    "duration": 115,
    "start_time": "2022-02-19T15:52:02.123Z"
   },
   {
    "duration": 13,
    "start_time": "2022-02-19T15:52:09.171Z"
   },
   {
    "duration": 11,
    "start_time": "2022-02-19T15:52:31.915Z"
   },
   {
    "duration": 13,
    "start_time": "2022-02-19T15:53:19.387Z"
   },
   {
    "duration": 15,
    "start_time": "2022-02-19T15:58:27.763Z"
   },
   {
    "duration": 16,
    "start_time": "2022-02-19T15:58:29.019Z"
   },
   {
    "duration": 14,
    "start_time": "2022-02-19T16:00:58.667Z"
   },
   {
    "duration": 14,
    "start_time": "2022-02-19T16:01:10.171Z"
   },
   {
    "duration": 13,
    "start_time": "2022-02-19T16:01:17.174Z"
   },
   {
    "duration": 13,
    "start_time": "2022-02-19T16:01:36.235Z"
   },
   {
    "duration": 13,
    "start_time": "2022-02-19T16:01:47.691Z"
   },
   {
    "duration": 13,
    "start_time": "2022-02-19T16:02:03.539Z"
   },
   {
    "duration": 4,
    "start_time": "2022-02-19T16:02:19.813Z"
   },
   {
    "duration": 241,
    "start_time": "2022-02-19T16:02:19.822Z"
   },
   {
    "duration": 229,
    "start_time": "2022-02-19T16:02:20.065Z"
   },
   {
    "duration": 127,
    "start_time": "2022-02-19T16:02:20.297Z"
   },
   {
    "duration": 21,
    "start_time": "2022-02-19T16:02:20.427Z"
   },
   {
    "duration": 32,
    "start_time": "2022-02-19T16:02:20.462Z"
   },
   {
    "duration": 26,
    "start_time": "2022-02-19T16:02:20.497Z"
   },
   {
    "duration": 39,
    "start_time": "2022-02-19T16:02:20.526Z"
   },
   {
    "duration": 19,
    "start_time": "2022-02-19T16:02:20.569Z"
   },
   {
    "duration": 9,
    "start_time": "2022-02-19T16:02:20.591Z"
   },
   {
    "duration": 13,
    "start_time": "2022-02-19T16:02:20.603Z"
   },
   {
    "duration": 45,
    "start_time": "2022-02-19T16:02:20.618Z"
   },
   {
    "duration": 6,
    "start_time": "2022-02-19T16:02:20.665Z"
   },
   {
    "duration": 11,
    "start_time": "2022-02-19T16:02:20.673Z"
   },
   {
    "duration": 7,
    "start_time": "2022-02-19T16:02:20.687Z"
   },
   {
    "duration": 10,
    "start_time": "2022-02-19T16:02:20.697Z"
   },
   {
    "duration": 72,
    "start_time": "2022-02-19T16:02:20.710Z"
   },
   {
    "duration": 5,
    "start_time": "2022-02-19T16:02:20.785Z"
   },
   {
    "duration": 7,
    "start_time": "2022-02-19T16:02:20.792Z"
   },
   {
    "duration": 8,
    "start_time": "2022-02-19T16:02:20.801Z"
   },
   {
    "duration": 7,
    "start_time": "2022-02-19T16:02:20.811Z"
   },
   {
    "duration": 44,
    "start_time": "2022-02-19T16:02:20.821Z"
   },
   {
    "duration": 40,
    "start_time": "2022-02-19T16:02:20.867Z"
   },
   {
    "duration": 54,
    "start_time": "2022-02-19T16:02:20.913Z"
   },
   {
    "duration": 27,
    "start_time": "2022-02-19T16:02:20.972Z"
   },
   {
    "duration": 8,
    "start_time": "2022-02-19T16:02:21.001Z"
   },
   {
    "duration": 13,
    "start_time": "2022-02-19T16:02:21.011Z"
   },
   {
    "duration": 39,
    "start_time": "2022-02-19T16:02:21.026Z"
   },
   {
    "duration": 21,
    "start_time": "2022-02-19T16:02:21.068Z"
   },
   {
    "duration": 16,
    "start_time": "2022-02-19T16:02:21.092Z"
   },
   {
    "duration": 14,
    "start_time": "2022-02-19T16:02:21.111Z"
   },
   {
    "duration": 9,
    "start_time": "2022-02-19T16:02:21.162Z"
   },
   {
    "duration": 34,
    "start_time": "2022-02-19T16:02:21.174Z"
   },
   {
    "duration": 19568,
    "start_time": "2022-02-19T16:02:21.211Z"
   },
   {
    "duration": 91,
    "start_time": "2022-02-19T16:02:40.781Z"
   },
   {
    "duration": 7,
    "start_time": "2022-02-19T16:02:40.875Z"
   },
   {
    "duration": 87,
    "start_time": "2022-02-19T16:02:40.885Z"
   },
   {
    "duration": 9,
    "start_time": "2022-02-19T16:02:40.975Z"
   },
   {
    "duration": 24,
    "start_time": "2022-02-19T16:02:40.986Z"
   },
   {
    "duration": 12071,
    "start_time": "2022-02-19T16:02:41.012Z"
   },
   {
    "duration": 79,
    "start_time": "2022-02-19T16:02:53.086Z"
   },
   {
    "duration": 7,
    "start_time": "2022-02-19T16:02:53.168Z"
   },
   {
    "duration": 25,
    "start_time": "2022-02-19T16:02:53.177Z"
   },
   {
    "duration": 14474,
    "start_time": "2022-02-19T16:02:53.205Z"
   },
   {
    "duration": 80,
    "start_time": "2022-02-19T16:03:07.682Z"
   },
   {
    "duration": 31,
    "start_time": "2022-02-19T16:03:07.765Z"
   },
   {
    "duration": 6,
    "start_time": "2022-02-19T16:03:07.798Z"
   },
   {
    "duration": 69,
    "start_time": "2022-02-19T16:03:07.806Z"
   },
   {
    "duration": 61,
    "start_time": "2022-02-19T16:03:07.878Z"
   },
   {
    "duration": 71,
    "start_time": "2022-02-19T16:03:07.941Z"
   },
   {
    "duration": 74,
    "start_time": "2022-02-19T16:03:08.015Z"
   },
   {
    "duration": 72,
    "start_time": "2022-02-19T16:03:08.091Z"
   },
   {
    "duration": 99,
    "start_time": "2022-02-19T16:03:08.166Z"
   },
   {
    "duration": 14,
    "start_time": "2022-02-19T16:03:08.267Z"
   },
   {
    "duration": 12,
    "start_time": "2022-02-19T16:03:08.284Z"
   },
   {
    "duration": 17,
    "start_time": "2022-02-19T16:03:08.299Z"
   },
   {
    "duration": 51,
    "start_time": "2022-02-19T16:03:08.318Z"
   },
   {
    "duration": 21,
    "start_time": "2022-02-19T16:03:08.371Z"
   },
   {
    "duration": 14,
    "start_time": "2022-02-19T16:03:08.394Z"
   },
   {
    "duration": 86,
    "start_time": "2022-02-19T16:03:08.410Z"
   },
   {
    "duration": 6,
    "start_time": "2022-02-19T16:03:08.499Z"
   },
   {
    "duration": 31,
    "start_time": "2022-02-19T16:03:08.507Z"
   },
   {
    "duration": 31,
    "start_time": "2022-02-19T16:03:08.540Z"
   },
   {
    "duration": 9,
    "start_time": "2022-02-19T16:39:29.134Z"
   },
   {
    "duration": 24,
    "start_time": "2022-02-19T16:40:37.304Z"
   },
   {
    "duration": 65,
    "start_time": "2022-02-19T16:41:54.911Z"
   },
   {
    "duration": 56,
    "start_time": "2022-02-19T16:41:59.079Z"
   },
   {
    "duration": 59,
    "start_time": "2022-02-19T16:42:00.790Z"
   },
   {
    "duration": 54,
    "start_time": "2022-02-19T16:42:03.310Z"
   },
   {
    "duration": 8,
    "start_time": "2022-02-19T16:42:25.678Z"
   },
   {
    "duration": 68,
    "start_time": "2022-02-19T16:47:03.321Z"
   },
   {
    "duration": 4,
    "start_time": "2022-02-19T16:47:09.147Z"
   },
   {
    "duration": 255,
    "start_time": "2022-02-19T16:47:09.154Z"
   },
   {
    "duration": 211,
    "start_time": "2022-02-19T16:47:09.413Z"
   },
   {
    "duration": 125,
    "start_time": "2022-02-19T16:47:09.628Z"
   },
   {
    "duration": 22,
    "start_time": "2022-02-19T16:47:09.756Z"
   },
   {
    "duration": 35,
    "start_time": "2022-02-19T16:47:09.781Z"
   },
   {
    "duration": 43,
    "start_time": "2022-02-19T16:47:09.820Z"
   },
   {
    "duration": 24,
    "start_time": "2022-02-19T16:47:09.866Z"
   },
   {
    "duration": 20,
    "start_time": "2022-02-19T16:47:09.893Z"
   },
   {
    "duration": 8,
    "start_time": "2022-02-19T16:47:09.915Z"
   },
   {
    "duration": 40,
    "start_time": "2022-02-19T16:47:09.926Z"
   },
   {
    "duration": 6,
    "start_time": "2022-02-19T16:47:09.969Z"
   },
   {
    "duration": 10,
    "start_time": "2022-02-19T16:47:09.977Z"
   },
   {
    "duration": 6,
    "start_time": "2022-02-19T16:47:09.990Z"
   },
   {
    "duration": 8,
    "start_time": "2022-02-19T16:47:09.998Z"
   },
   {
    "duration": 13,
    "start_time": "2022-02-19T16:47:10.008Z"
   },
   {
    "duration": 35,
    "start_time": "2022-02-19T16:47:10.062Z"
   },
   {
    "duration": 6,
    "start_time": "2022-02-19T16:47:10.100Z"
   },
   {
    "duration": 5,
    "start_time": "2022-02-19T16:47:10.112Z"
   },
   {
    "duration": 42,
    "start_time": "2022-02-19T16:47:10.121Z"
   },
   {
    "duration": 10,
    "start_time": "2022-02-19T16:47:10.165Z"
   },
   {
    "duration": 9,
    "start_time": "2022-02-19T16:47:10.178Z"
   },
   {
    "duration": 71,
    "start_time": "2022-02-19T16:47:10.190Z"
   },
   {
    "duration": 32,
    "start_time": "2022-02-19T16:47:10.264Z"
   },
   {
    "duration": 28,
    "start_time": "2022-02-19T16:47:10.299Z"
   },
   {
    "duration": 31,
    "start_time": "2022-02-19T16:47:10.330Z"
   },
   {
    "duration": 12,
    "start_time": "2022-02-19T16:47:10.364Z"
   },
   {
    "duration": 8,
    "start_time": "2022-02-19T16:47:10.379Z"
   },
   {
    "duration": 20,
    "start_time": "2022-02-19T16:47:10.389Z"
   },
   {
    "duration": 51,
    "start_time": "2022-02-19T16:47:10.411Z"
   },
   {
    "duration": 14,
    "start_time": "2022-02-19T16:47:10.465Z"
   },
   {
    "duration": 8,
    "start_time": "2022-02-19T16:47:10.481Z"
   },
   {
    "duration": 34,
    "start_time": "2022-02-19T16:47:10.491Z"
   },
   {
    "duration": 20375,
    "start_time": "2022-02-19T16:47:10.560Z"
   },
   {
    "duration": 87,
    "start_time": "2022-02-19T16:47:30.937Z"
   },
   {
    "duration": 8,
    "start_time": "2022-02-19T16:47:31.026Z"
   },
   {
    "duration": 80,
    "start_time": "2022-02-19T16:47:31.037Z"
   },
   {
    "duration": 6,
    "start_time": "2022-02-19T16:47:31.120Z"
   },
   {
    "duration": 43,
    "start_time": "2022-02-19T16:47:31.129Z"
   },
   {
    "duration": 12288,
    "start_time": "2022-02-19T16:47:31.174Z"
   },
   {
    "duration": 77,
    "start_time": "2022-02-19T16:47:43.464Z"
   },
   {
    "duration": 23,
    "start_time": "2022-02-19T16:47:43.543Z"
   },
   {
    "duration": 24,
    "start_time": "2022-02-19T16:47:43.568Z"
   },
   {
    "duration": 14854,
    "start_time": "2022-02-19T16:47:43.595Z"
   },
   {
    "duration": 74,
    "start_time": "2022-02-19T16:47:58.451Z"
   },
   {
    "duration": 47,
    "start_time": "2022-02-19T16:47:58.528Z"
   },
   {
    "duration": 4,
    "start_time": "2022-02-19T16:47:58.577Z"
   },
   {
    "duration": 41,
    "start_time": "2022-02-19T16:47:58.583Z"
   },
   {
    "duration": 88,
    "start_time": "2022-02-19T16:47:58.626Z"
   },
   {
    "duration": 70,
    "start_time": "2022-02-19T16:47:58.717Z"
   },
   {
    "duration": 53,
    "start_time": "2022-02-19T16:47:58.789Z"
   },
   {
    "duration": 64,
    "start_time": "2022-02-19T16:47:58.845Z"
   },
   {
    "duration": 107,
    "start_time": "2022-02-19T16:47:58.912Z"
   },
   {
    "duration": 16,
    "start_time": "2022-02-19T16:47:59.021Z"
   },
   {
    "duration": 13,
    "start_time": "2022-02-19T16:47:59.060Z"
   },
   {
    "duration": 14,
    "start_time": "2022-02-19T16:47:59.076Z"
   },
   {
    "duration": 13,
    "start_time": "2022-02-19T16:47:59.093Z"
   },
   {
    "duration": 53,
    "start_time": "2022-02-19T16:47:59.108Z"
   },
   {
    "duration": 14,
    "start_time": "2022-02-19T16:47:59.164Z"
   },
   {
    "duration": 51,
    "start_time": "2022-02-19T16:47:59.181Z"
   },
   {
    "duration": 29,
    "start_time": "2022-02-19T16:47:59.234Z"
   },
   {
    "duration": 28,
    "start_time": "2022-02-19T16:47:59.266Z"
   },
   {
    "duration": 14,
    "start_time": "2022-02-19T16:47:59.297Z"
   },
   {
    "duration": 13,
    "start_time": "2022-02-19T16:50:54.223Z"
   },
   {
    "duration": 12,
    "start_time": "2022-02-19T16:51:04.808Z"
   },
   {
    "duration": 55,
    "start_time": "2022-02-19T16:51:11.016Z"
   },
   {
    "duration": 6,
    "start_time": "2022-02-19T16:51:25.023Z"
   },
   {
    "duration": 14,
    "start_time": "2022-02-19T16:51:40.311Z"
   },
   {
    "duration": 14,
    "start_time": "2022-02-19T16:51:43.033Z"
   },
   {
    "duration": 4,
    "start_time": "2022-02-19T16:55:17.739Z"
   },
   {
    "duration": 243,
    "start_time": "2022-02-19T16:55:17.746Z"
   },
   {
    "duration": 188,
    "start_time": "2022-02-19T16:55:17.992Z"
   },
   {
    "duration": 112,
    "start_time": "2022-02-19T16:55:18.182Z"
   },
   {
    "duration": 23,
    "start_time": "2022-02-19T16:55:18.296Z"
   },
   {
    "duration": 48,
    "start_time": "2022-02-19T16:55:18.322Z"
   },
   {
    "duration": 27,
    "start_time": "2022-02-19T16:55:18.374Z"
   },
   {
    "duration": 22,
    "start_time": "2022-02-19T16:55:18.405Z"
   },
   {
    "duration": 41,
    "start_time": "2022-02-19T16:55:18.430Z"
   },
   {
    "duration": 11,
    "start_time": "2022-02-19T16:55:18.474Z"
   },
   {
    "duration": 10,
    "start_time": "2022-02-19T16:55:18.488Z"
   },
   {
    "duration": 7,
    "start_time": "2022-02-19T16:55:18.501Z"
   },
   {
    "duration": 50,
    "start_time": "2022-02-19T16:55:18.511Z"
   },
   {
    "duration": 6,
    "start_time": "2022-02-19T16:55:18.564Z"
   },
   {
    "duration": 11,
    "start_time": "2022-02-19T16:55:18.573Z"
   },
   {
    "duration": 10,
    "start_time": "2022-02-19T16:55:18.586Z"
   },
   {
    "duration": 66,
    "start_time": "2022-02-19T16:55:18.598Z"
   },
   {
    "duration": 5,
    "start_time": "2022-02-19T16:55:18.667Z"
   },
   {
    "duration": 5,
    "start_time": "2022-02-19T16:55:18.677Z"
   },
   {
    "duration": 6,
    "start_time": "2022-02-19T16:55:18.686Z"
   },
   {
    "duration": 8,
    "start_time": "2022-02-19T16:55:18.694Z"
   },
   {
    "duration": 8,
    "start_time": "2022-02-19T16:55:18.705Z"
   },
   {
    "duration": 85,
    "start_time": "2022-02-19T16:55:18.715Z"
   },
   {
    "duration": 30,
    "start_time": "2022-02-19T16:55:18.802Z"
   },
   {
    "duration": 48,
    "start_time": "2022-02-19T16:55:18.834Z"
   },
   {
    "duration": 8,
    "start_time": "2022-02-19T16:55:18.885Z"
   },
   {
    "duration": 15,
    "start_time": "2022-02-19T16:55:18.896Z"
   },
   {
    "duration": 10,
    "start_time": "2022-02-19T16:55:18.914Z"
   },
   {
    "duration": 20,
    "start_time": "2022-02-19T16:55:18.962Z"
   },
   {
    "duration": 17,
    "start_time": "2022-02-19T16:55:18.986Z"
   },
   {
    "duration": 32,
    "start_time": "2022-02-19T16:55:19.005Z"
   },
   {
    "duration": 29,
    "start_time": "2022-02-19T16:55:19.040Z"
   },
   {
    "duration": 35,
    "start_time": "2022-02-19T16:55:19.071Z"
   },
   {
    "duration": 20549,
    "start_time": "2022-02-19T16:55:19.108Z"
   },
   {
    "duration": 77,
    "start_time": "2022-02-19T16:55:39.662Z"
   },
   {
    "duration": 21,
    "start_time": "2022-02-19T16:55:39.742Z"
   },
   {
    "duration": 78,
    "start_time": "2022-02-19T16:55:39.765Z"
   },
   {
    "duration": 8,
    "start_time": "2022-02-19T16:55:39.862Z"
   },
   {
    "duration": 26,
    "start_time": "2022-02-19T16:55:39.873Z"
   },
   {
    "duration": 14378,
    "start_time": "2022-02-19T16:55:39.901Z"
   },
   {
    "duration": 82,
    "start_time": "2022-02-19T16:55:54.282Z"
   },
   {
    "duration": 9,
    "start_time": "2022-02-19T16:55:54.367Z"
   },
   {
    "duration": 30,
    "start_time": "2022-02-19T16:55:54.379Z"
   },
   {
    "duration": 15493,
    "start_time": "2022-02-19T16:55:54.412Z"
   },
   {
    "duration": 81,
    "start_time": "2022-02-19T16:56:09.908Z"
   },
   {
    "duration": 33,
    "start_time": "2022-02-19T16:56:09.992Z"
   },
   {
    "duration": 9,
    "start_time": "2022-02-19T16:56:10.028Z"
   },
   {
    "duration": 78,
    "start_time": "2022-02-19T16:56:10.039Z"
   },
   {
    "duration": 94,
    "start_time": "2022-02-19T16:56:10.120Z"
   },
   {
    "duration": 65,
    "start_time": "2022-02-19T16:57:08.481Z"
   },
   {
    "duration": 995,
    "start_time": "2022-02-19T16:58:41.740Z"
   },
   {
    "duration": 230,
    "start_time": "2022-02-19T16:58:42.738Z"
   },
   {
    "duration": 192,
    "start_time": "2022-02-19T16:58:42.971Z"
   },
   {
    "duration": 119,
    "start_time": "2022-02-19T16:58:43.166Z"
   },
   {
    "duration": 20,
    "start_time": "2022-02-19T16:58:43.287Z"
   },
   {
    "duration": 30,
    "start_time": "2022-02-19T16:58:43.310Z"
   },
   {
    "duration": 40,
    "start_time": "2022-02-19T16:58:43.343Z"
   },
   {
    "duration": 23,
    "start_time": "2022-02-19T16:58:43.387Z"
   },
   {
    "duration": 18,
    "start_time": "2022-02-19T16:58:43.412Z"
   },
   {
    "duration": 9,
    "start_time": "2022-02-19T16:58:43.462Z"
   },
   {
    "duration": 10,
    "start_time": "2022-02-19T16:58:43.474Z"
   },
   {
    "duration": 7,
    "start_time": "2022-02-19T16:58:43.486Z"
   },
   {
    "duration": 6,
    "start_time": "2022-02-19T16:58:43.495Z"
   },
   {
    "duration": 13,
    "start_time": "2022-02-19T16:58:43.504Z"
   },
   {
    "duration": 47,
    "start_time": "2022-02-19T16:58:43.519Z"
   },
   {
    "duration": 5,
    "start_time": "2022-02-19T16:58:43.568Z"
   },
   {
    "duration": 86,
    "start_time": "2022-02-19T16:58:43.575Z"
   },
   {
    "duration": 6,
    "start_time": "2022-02-19T16:58:43.664Z"
   },
   {
    "duration": 5,
    "start_time": "2022-02-19T16:58:43.673Z"
   },
   {
    "duration": 5,
    "start_time": "2022-02-19T16:58:43.681Z"
   },
   {
    "duration": 8,
    "start_time": "2022-02-19T16:58:43.689Z"
   },
   {
    "duration": 7,
    "start_time": "2022-02-19T16:58:43.700Z"
   },
   {
    "duration": 87,
    "start_time": "2022-02-19T16:58:43.713Z"
   },
   {
    "duration": 33,
    "start_time": "2022-02-19T16:58:43.803Z"
   },
   {
    "duration": 46,
    "start_time": "2022-02-19T16:58:43.839Z"
   },
   {
    "duration": 10,
    "start_time": "2022-02-19T16:58:43.887Z"
   },
   {
    "duration": 14,
    "start_time": "2022-02-19T16:58:43.900Z"
   },
   {
    "duration": 8,
    "start_time": "2022-02-19T16:58:43.917Z"
   },
   {
    "duration": 59,
    "start_time": "2022-02-19T16:58:43.927Z"
   },
   {
    "duration": 17,
    "start_time": "2022-02-19T16:58:43.988Z"
   },
   {
    "duration": 14,
    "start_time": "2022-02-19T16:58:44.007Z"
   },
   {
    "duration": 41,
    "start_time": "2022-02-19T16:58:44.023Z"
   },
   {
    "duration": 32,
    "start_time": "2022-02-19T16:58:44.067Z"
   },
   {
    "duration": 19796,
    "start_time": "2022-02-19T16:58:44.102Z"
   },
   {
    "duration": 110,
    "start_time": "2022-02-19T16:59:03.900Z"
   },
   {
    "duration": 6,
    "start_time": "2022-02-19T16:59:04.013Z"
   },
   {
    "duration": 88,
    "start_time": "2022-02-19T16:59:04.022Z"
   },
   {
    "duration": 7,
    "start_time": "2022-02-19T16:59:04.113Z"
   },
   {
    "duration": 43,
    "start_time": "2022-02-19T16:59:04.123Z"
   },
   {
    "duration": 12381,
    "start_time": "2022-02-19T16:59:04.169Z"
   },
   {
    "duration": 69,
    "start_time": "2022-02-19T16:59:16.553Z"
   },
   {
    "duration": 7,
    "start_time": "2022-02-19T16:59:16.624Z"
   },
   {
    "duration": 32,
    "start_time": "2022-02-19T16:59:16.634Z"
   },
   {
    "duration": 14920,
    "start_time": "2022-02-19T16:59:16.669Z"
   },
   {
    "duration": 79,
    "start_time": "2022-02-19T16:59:31.592Z"
   },
   {
    "duration": 36,
    "start_time": "2022-02-19T16:59:31.674Z"
   },
   {
    "duration": 5,
    "start_time": "2022-02-19T16:59:31.712Z"
   },
   {
    "duration": 64,
    "start_time": "2022-02-19T16:59:31.719Z"
   },
   {
    "duration": 587,
    "start_time": "2022-02-19T17:00:51.832Z"
   },
   {
    "duration": 63,
    "start_time": "2022-02-19T17:02:12.272Z"
   },
   {
    "duration": 56,
    "start_time": "2022-02-19T17:02:38.847Z"
   },
   {
    "duration": 57,
    "start_time": "2022-02-19T17:02:40.920Z"
   },
   {
    "duration": 59,
    "start_time": "2022-02-19T17:02:45.303Z"
   },
   {
    "duration": 94,
    "start_time": "2022-02-19T17:02:47.728Z"
   },
   {
    "duration": 15,
    "start_time": "2022-02-19T17:03:04.655Z"
   },
   {
    "duration": 13,
    "start_time": "2022-02-19T17:03:10.639Z"
   },
   {
    "duration": 16,
    "start_time": "2022-02-19T17:03:13.983Z"
   },
   {
    "duration": 15,
    "start_time": "2022-02-19T17:03:15.127Z"
   },
   {
    "duration": 18,
    "start_time": "2022-02-19T17:03:19.278Z"
   },
   {
    "duration": 16,
    "start_time": "2022-02-19T17:03:30.351Z"
   },
   {
    "duration": 107,
    "start_time": "2022-02-19T17:07:31.927Z"
   },
   {
    "duration": 52,
    "start_time": "2022-02-19T17:07:47.791Z"
   },
   {
    "duration": 12,
    "start_time": "2022-02-19T17:08:29.768Z"
   },
   {
    "duration": 12,
    "start_time": "2022-02-19T17:08:46.215Z"
   },
   {
    "duration": 339,
    "start_time": "2022-02-19T17:23:58.757Z"
   },
   {
    "duration": 13,
    "start_time": "2022-02-19T17:24:05.667Z"
   },
   {
    "duration": 65,
    "start_time": "2022-02-19T17:24:14.203Z"
   },
   {
    "duration": 55,
    "start_time": "2022-02-19T17:24:36.555Z"
   },
   {
    "duration": 58,
    "start_time": "2022-02-19T17:24:38.450Z"
   },
   {
    "duration": 56,
    "start_time": "2022-02-19T17:24:39.827Z"
   },
   {
    "duration": 77,
    "start_time": "2022-02-19T17:24:41.438Z"
   },
   {
    "duration": 15,
    "start_time": "2022-02-19T17:24:52.915Z"
   },
   {
    "duration": 13,
    "start_time": "2022-02-19T17:25:01.851Z"
   },
   {
    "duration": 16,
    "start_time": "2022-02-19T17:25:06.108Z"
   },
   {
    "duration": 16,
    "start_time": "2022-02-19T17:25:08.987Z"
   },
   {
    "duration": 14,
    "start_time": "2022-02-19T17:25:17.167Z"
   },
   {
    "duration": 13,
    "start_time": "2022-02-19T17:25:22.411Z"
   },
   {
    "duration": 50,
    "start_time": "2022-02-19T17:25:27.963Z"
   },
   {
    "duration": 6,
    "start_time": "2022-02-19T17:25:28.666Z"
   },
   {
    "duration": 25,
    "start_time": "2022-02-19T17:25:29.482Z"
   },
   {
    "duration": 14,
    "start_time": "2022-02-19T17:25:39.306Z"
   },
   {
    "duration": 53,
    "start_time": "2022-02-19T17:26:10.524Z"
   },
   {
    "duration": 6,
    "start_time": "2022-02-19T17:26:16.642Z"
   },
   {
    "duration": 12,
    "start_time": "2022-02-19T17:39:19.210Z"
   },
   {
    "duration": 11,
    "start_time": "2022-02-19T17:39:29.072Z"
   },
   {
    "duration": 12,
    "start_time": "2022-02-19T17:39:37.672Z"
   },
   {
    "duration": 14,
    "start_time": "2022-02-19T17:39:45.816Z"
   },
   {
    "duration": 13,
    "start_time": "2022-02-19T17:39:50.520Z"
   },
   {
    "duration": 11,
    "start_time": "2022-02-19T17:39:57.464Z"
   },
   {
    "duration": 9,
    "start_time": "2022-02-19T17:43:09.696Z"
   },
   {
    "duration": 12,
    "start_time": "2022-02-19T17:43:17.059Z"
   },
   {
    "duration": 12,
    "start_time": "2022-02-19T17:43:51.783Z"
   },
   {
    "duration": 14,
    "start_time": "2022-02-19T17:44:33.471Z"
   },
   {
    "duration": 10,
    "start_time": "2022-02-19T17:44:52.447Z"
   },
   {
    "duration": 12,
    "start_time": "2022-02-19T17:44:59.359Z"
   },
   {
    "duration": 13,
    "start_time": "2022-02-19T17:45:26.008Z"
   },
   {
    "duration": 12,
    "start_time": "2022-02-19T17:50:12.529Z"
   },
   {
    "duration": 13,
    "start_time": "2022-02-19T17:50:13.044Z"
   },
   {
    "duration": 11,
    "start_time": "2022-02-19T17:50:13.537Z"
   },
   {
    "duration": 13,
    "start_time": "2022-02-19T17:50:15.376Z"
   },
   {
    "duration": 9,
    "start_time": "2022-02-19T17:55:08.044Z"
   },
   {
    "duration": 14,
    "start_time": "2022-02-19T17:55:17.578Z"
   },
   {
    "duration": 163,
    "start_time": "2022-02-19T17:58:29.552Z"
   },
   {
    "duration": 9,
    "start_time": "2022-02-19T17:58:44.193Z"
   },
   {
    "duration": 8,
    "start_time": "2022-02-19T18:00:03.617Z"
   },
   {
    "duration": 917,
    "start_time": "2022-02-19T18:08:30.583Z"
   },
   {
    "duration": 203,
    "start_time": "2022-02-19T18:08:31.503Z"
   },
   {
    "duration": 184,
    "start_time": "2022-02-19T18:08:31.710Z"
   },
   {
    "duration": 119,
    "start_time": "2022-02-19T18:08:31.898Z"
   },
   {
    "duration": 23,
    "start_time": "2022-02-19T18:08:32.020Z"
   },
   {
    "duration": 46,
    "start_time": "2022-02-19T18:08:32.045Z"
   },
   {
    "duration": 29,
    "start_time": "2022-02-19T18:08:32.094Z"
   },
   {
    "duration": 49,
    "start_time": "2022-02-19T18:08:32.128Z"
   },
   {
    "duration": 20,
    "start_time": "2022-02-19T18:08:32.180Z"
   },
   {
    "duration": 10,
    "start_time": "2022-02-19T18:08:32.203Z"
   },
   {
    "duration": 51,
    "start_time": "2022-02-19T18:08:32.216Z"
   },
   {
    "duration": 9,
    "start_time": "2022-02-19T18:08:32.269Z"
   },
   {
    "duration": 7,
    "start_time": "2022-02-19T18:08:32.281Z"
   },
   {
    "duration": 5,
    "start_time": "2022-02-19T18:08:32.291Z"
   },
   {
    "duration": 5,
    "start_time": "2022-02-19T18:08:32.299Z"
   },
   {
    "duration": 7,
    "start_time": "2022-02-19T18:08:32.306Z"
   },
   {
    "duration": 99,
    "start_time": "2022-02-19T18:08:32.316Z"
   },
   {
    "duration": 6,
    "start_time": "2022-02-19T18:08:32.417Z"
   },
   {
    "duration": 6,
    "start_time": "2022-02-19T18:08:32.425Z"
   },
   {
    "duration": 31,
    "start_time": "2022-02-19T18:08:32.434Z"
   },
   {
    "duration": 6,
    "start_time": "2022-02-19T18:08:32.467Z"
   },
   {
    "duration": 8,
    "start_time": "2022-02-19T18:08:32.475Z"
   },
   {
    "duration": 80,
    "start_time": "2022-02-19T18:08:32.490Z"
   },
   {
    "duration": 33,
    "start_time": "2022-02-19T18:08:32.574Z"
   },
   {
    "duration": 27,
    "start_time": "2022-02-19T18:08:32.609Z"
   },
   {
    "duration": 11,
    "start_time": "2022-02-19T18:08:32.661Z"
   },
   {
    "duration": 24,
    "start_time": "2022-02-19T18:08:32.674Z"
   },
   {
    "duration": 26,
    "start_time": "2022-02-19T18:08:32.700Z"
   },
   {
    "duration": 33,
    "start_time": "2022-02-19T18:08:32.729Z"
   },
   {
    "duration": 16,
    "start_time": "2022-02-19T18:08:32.765Z"
   },
   {
    "duration": 28,
    "start_time": "2022-02-19T18:08:32.784Z"
   },
   {
    "duration": 26,
    "start_time": "2022-02-19T18:08:32.815Z"
   },
   {
    "duration": 49,
    "start_time": "2022-02-19T18:08:32.844Z"
   },
   {
    "duration": 19535,
    "start_time": "2022-02-19T18:08:32.896Z"
   },
   {
    "duration": 90,
    "start_time": "2022-02-19T18:08:52.434Z"
   },
   {
    "duration": 7,
    "start_time": "2022-02-19T18:08:52.527Z"
   },
   {
    "duration": 83,
    "start_time": "2022-02-19T18:08:52.536Z"
   },
   {
    "duration": 7,
    "start_time": "2022-02-19T18:08:52.622Z"
   },
   {
    "duration": 43,
    "start_time": "2022-02-19T18:08:52.631Z"
   },
   {
    "duration": 12675,
    "start_time": "2022-02-19T18:08:52.677Z"
   },
   {
    "duration": 75,
    "start_time": "2022-02-19T18:09:05.355Z"
   },
   {
    "duration": 6,
    "start_time": "2022-02-19T18:09:05.432Z"
   },
   {
    "duration": 44,
    "start_time": "2022-02-19T18:09:05.440Z"
   },
   {
    "duration": 14636,
    "start_time": "2022-02-19T18:09:05.486Z"
   },
   {
    "duration": 83,
    "start_time": "2022-02-19T18:09:20.125Z"
   },
   {
    "duration": 58,
    "start_time": "2022-02-19T18:09:20.210Z"
   },
   {
    "duration": 7,
    "start_time": "2022-02-19T18:09:20.271Z"
   },
   {
    "duration": 63,
    "start_time": "2022-02-19T18:09:20.280Z"
   },
   {
    "duration": 64,
    "start_time": "2022-02-19T18:09:20.361Z"
   },
   {
    "duration": 73,
    "start_time": "2022-02-19T18:09:20.427Z"
   },
   {
    "duration": 70,
    "start_time": "2022-02-19T18:09:20.502Z"
   },
   {
    "duration": 52,
    "start_time": "2022-02-19T18:09:20.574Z"
   },
   {
    "duration": 98,
    "start_time": "2022-02-19T18:09:20.629Z"
   },
   {
    "duration": 32,
    "start_time": "2022-02-19T18:09:20.729Z"
   },
   {
    "duration": 14,
    "start_time": "2022-02-19T18:09:20.764Z"
   },
   {
    "duration": 15,
    "start_time": "2022-02-19T18:09:20.780Z"
   },
   {
    "duration": 12,
    "start_time": "2022-02-19T18:09:20.798Z"
   },
   {
    "duration": 53,
    "start_time": "2022-02-19T18:09:20.812Z"
   },
   {
    "duration": 12,
    "start_time": "2022-02-19T18:09:20.867Z"
   },
   {
    "duration": 8,
    "start_time": "2022-02-19T18:09:20.882Z"
   },
   {
    "duration": 81,
    "start_time": "2022-02-19T18:09:20.893Z"
   },
   {
    "duration": 5,
    "start_time": "2022-02-19T18:09:20.976Z"
   },
   {
    "duration": 28,
    "start_time": "2022-02-19T18:09:20.984Z"
   },
   {
    "duration": 13,
    "start_time": "2022-02-19T18:09:21.014Z"
   },
   {
    "duration": 13,
    "start_time": "2022-02-19T18:16:11.492Z"
   },
   {
    "duration": 15,
    "start_time": "2022-02-19T18:27:39.163Z"
   },
   {
    "duration": 13,
    "start_time": "2022-02-19T18:31:27.555Z"
   },
   {
    "duration": 14,
    "start_time": "2022-02-19T18:37:17.767Z"
   },
   {
    "duration": 13,
    "start_time": "2022-02-19T18:38:17.026Z"
   },
   {
    "duration": 12,
    "start_time": "2022-02-19T18:38:18.575Z"
   },
   {
    "duration": 14,
    "start_time": "2022-02-19T18:39:22.050Z"
   },
   {
    "duration": 12,
    "start_time": "2022-02-19T18:39:59.587Z"
   },
   {
    "duration": 13,
    "start_time": "2022-02-19T18:41:02.307Z"
   },
   {
    "duration": 12,
    "start_time": "2022-02-19T18:41:12.898Z"
   },
   {
    "duration": 13,
    "start_time": "2022-02-19T18:41:23.274Z"
   },
   {
    "duration": 13,
    "start_time": "2022-02-19T18:41:33.627Z"
   },
   {
    "duration": 13,
    "start_time": "2022-02-19T18:43:57.633Z"
   },
   {
    "duration": 13,
    "start_time": "2022-02-19T18:44:09.707Z"
   },
   {
    "duration": 12,
    "start_time": "2022-02-19T18:44:57.547Z"
   },
   {
    "duration": 14,
    "start_time": "2022-02-19T18:44:58.555Z"
   },
   {
    "duration": 14,
    "start_time": "2022-02-19T18:50:18.602Z"
   },
   {
    "duration": 16,
    "start_time": "2022-02-19T18:50:48.802Z"
   },
   {
    "duration": 57,
    "start_time": "2022-02-19T18:50:51.854Z"
   },
   {
    "duration": 13,
    "start_time": "2022-02-19T18:51:32.554Z"
   },
   {
    "duration": 13,
    "start_time": "2022-02-19T18:58:39.121Z"
   },
   {
    "duration": 12,
    "start_time": "2022-02-19T18:58:49.332Z"
   },
   {
    "duration": 14,
    "start_time": "2022-02-19T19:00:02.824Z"
   },
   {
    "duration": 13,
    "start_time": "2022-02-19T19:02:20.438Z"
   },
   {
    "duration": 12,
    "start_time": "2022-02-19T19:02:28.181Z"
   },
   {
    "duration": 13,
    "start_time": "2022-02-19T19:04:28.277Z"
   },
   {
    "duration": 14,
    "start_time": "2022-02-19T19:09:26.513Z"
   },
   {
    "duration": 14,
    "start_time": "2022-02-19T19:09:48.463Z"
   },
   {
    "duration": 10064,
    "start_time": "2022-02-19T19:16:40.542Z"
   },
   {
    "duration": 39,
    "start_time": "2022-02-19T19:49:20.203Z"
   },
   {
    "duration": 39,
    "start_time": "2022-02-19T19:50:16.683Z"
   },
   {
    "duration": 31,
    "start_time": "2022-02-19T19:50:23.715Z"
   },
   {
    "duration": 33,
    "start_time": "2022-02-19T19:56:26.114Z"
   },
   {
    "duration": 35,
    "start_time": "2022-02-19T19:56:42.883Z"
   },
   {
    "duration": 578,
    "start_time": "2022-02-19T19:56:52.955Z"
   },
   {
    "duration": 25,
    "start_time": "2022-02-19T19:57:11.066Z"
   },
   {
    "duration": 421,
    "start_time": "2022-02-19T19:57:27.778Z"
   },
   {
    "duration": 349,
    "start_time": "2022-02-19T19:58:37.210Z"
   },
   {
    "duration": 346,
    "start_time": "2022-02-19T19:59:17.322Z"
   },
   {
    "duration": 360,
    "start_time": "2022-02-19T20:00:20.073Z"
   },
   {
    "duration": 13,
    "start_time": "2022-02-19T20:01:35.874Z"
   },
   {
    "duration": 30,
    "start_time": "2022-02-19T20:02:06.961Z"
   },
   {
    "duration": 11399,
    "start_time": "2022-02-19T20:02:37.234Z"
   },
   {
    "duration": 465,
    "start_time": "2022-02-19T20:03:49.847Z"
   },
   {
    "duration": 10485,
    "start_time": "2022-02-19T20:04:14.349Z"
   },
   {
    "duration": 24,
    "start_time": "2022-02-19T20:04:49.043Z"
   },
   {
    "duration": 39,
    "start_time": "2022-02-19T20:07:07.897Z"
   },
   {
    "duration": 141,
    "start_time": "2022-02-19T20:08:12.073Z"
   },
   {
    "duration": 106,
    "start_time": "2022-02-19T20:08:19.309Z"
   },
   {
    "duration": 110,
    "start_time": "2022-02-19T20:11:37.818Z"
   },
   {
    "duration": 31,
    "start_time": "2022-02-19T20:11:44.520Z"
   },
   {
    "duration": 124,
    "start_time": "2022-02-19T20:15:28.898Z"
   },
   {
    "duration": 3697,
    "start_time": "2022-02-19T20:15:48.300Z"
   },
   {
    "duration": 6899,
    "start_time": "2022-02-19T20:17:58.336Z"
   },
   {
    "duration": 132,
    "start_time": "2022-02-19T20:27:00.492Z"
   },
   {
    "duration": 326,
    "start_time": "2022-02-19T20:27:06.047Z"
   },
   {
    "duration": 4861,
    "start_time": "2022-02-19T20:27:17.205Z"
   },
   {
    "duration": 9953,
    "start_time": "2022-02-19T20:29:55.664Z"
   },
   {
    "duration": 6742,
    "start_time": "2022-02-19T20:30:29.759Z"
   },
   {
    "duration": 4480,
    "start_time": "2022-02-19T20:33:10.487Z"
   },
   {
    "duration": 4985,
    "start_time": "2022-02-19T20:36:22.534Z"
   },
   {
    "duration": 4494,
    "start_time": "2022-02-19T20:37:47.246Z"
   },
   {
    "duration": 4519,
    "start_time": "2022-02-19T20:40:54.166Z"
   },
   {
    "duration": 51,
    "start_time": "2022-02-19T23:45:47.902Z"
   },
   {
    "duration": 7,
    "start_time": "2022-02-19T23:45:55.691Z"
   },
   {
    "duration": 664,
    "start_time": "2022-02-19T23:46:29.203Z"
   },
   {
    "duration": 16,
    "start_time": "2022-02-19T23:46:32.875Z"
   },
   {
    "duration": 14,
    "start_time": "2022-02-19T23:46:45.260Z"
   },
   {
    "duration": 12,
    "start_time": "2022-02-19T23:46:48.036Z"
   },
   {
    "duration": 422,
    "start_time": "2022-02-20T00:03:06.648Z"
   },
   {
    "duration": 18,
    "start_time": "2022-02-20T00:16:42.447Z"
   },
   {
    "duration": 16,
    "start_time": "2022-02-20T00:17:26.831Z"
   },
   {
    "duration": 17,
    "start_time": "2022-02-20T00:17:49.447Z"
   },
   {
    "duration": 18,
    "start_time": "2022-02-20T00:19:04.958Z"
   },
   {
    "duration": 52,
    "start_time": "2022-02-20T00:19:06.560Z"
   },
   {
    "duration": 7,
    "start_time": "2022-02-20T00:19:07.846Z"
   },
   {
    "duration": 19,
    "start_time": "2022-02-20T00:19:24.334Z"
   },
   {
    "duration": 20,
    "start_time": "2022-02-20T00:22:01.317Z"
   },
   {
    "duration": 21,
    "start_time": "2022-02-20T00:25:51.206Z"
   },
   {
    "duration": 19,
    "start_time": "2022-02-20T00:37:46.188Z"
   },
   {
    "duration": 13,
    "start_time": "2022-02-20T00:38:36.836Z"
   },
   {
    "duration": 14,
    "start_time": "2022-02-20T00:38:51.861Z"
   },
   {
    "duration": 13,
    "start_time": "2022-02-20T00:39:24.581Z"
   },
   {
    "duration": 13,
    "start_time": "2022-02-20T00:39:28.100Z"
   },
   {
    "duration": 48,
    "start_time": "2022-02-20T00:46:02.566Z"
   },
   {
    "duration": 30,
    "start_time": "2022-02-20T00:46:53.933Z"
   },
   {
    "duration": 368,
    "start_time": "2022-02-20T00:47:06.166Z"
   },
   {
    "duration": 433,
    "start_time": "2022-02-20T00:47:14.413Z"
   },
   {
    "duration": 336,
    "start_time": "2022-02-20T00:47:31.293Z"
   },
   {
    "duration": 371,
    "start_time": "2022-02-20T00:47:50.822Z"
   },
   {
    "duration": 347,
    "start_time": "2022-02-20T00:48:01.956Z"
   },
   {
    "duration": 12,
    "start_time": "2022-02-20T00:48:49.237Z"
   },
   {
    "duration": 14,
    "start_time": "2022-02-20T00:49:06.053Z"
   },
   {
    "duration": 13,
    "start_time": "2022-02-20T00:49:19.908Z"
   },
   {
    "duration": 13,
    "start_time": "2022-02-20T00:49:36.572Z"
   },
   {
    "duration": 14,
    "start_time": "2022-02-20T00:49:45.772Z"
   },
   {
    "duration": 12,
    "start_time": "2022-02-20T00:49:52.597Z"
   },
   {
    "duration": 19,
    "start_time": "2022-02-20T00:51:47.900Z"
   },
   {
    "duration": 20,
    "start_time": "2022-02-20T00:52:26.629Z"
   },
   {
    "duration": 17,
    "start_time": "2022-02-20T00:52:36.572Z"
   },
   {
    "duration": 52,
    "start_time": "2022-02-20T00:52:51.943Z"
   },
   {
    "duration": 13,
    "start_time": "2022-02-20T00:54:38.388Z"
   },
   {
    "duration": 13,
    "start_time": "2022-02-20T00:54:49.500Z"
   },
   {
    "duration": 13,
    "start_time": "2022-02-20T00:55:05.852Z"
   },
   {
    "duration": 12,
    "start_time": "2022-02-20T00:55:09.909Z"
   },
   {
    "duration": 1380,
    "start_time": "2022-02-20T01:40:23.467Z"
   },
   {
    "duration": 225,
    "start_time": "2022-02-20T01:40:24.850Z"
   },
   {
    "duration": 184,
    "start_time": "2022-02-20T01:40:25.078Z"
   },
   {
    "duration": 128,
    "start_time": "2022-02-20T01:40:25.266Z"
   },
   {
    "duration": 23,
    "start_time": "2022-02-20T01:40:25.397Z"
   },
   {
    "duration": 48,
    "start_time": "2022-02-20T01:40:25.422Z"
   },
   {
    "duration": 35,
    "start_time": "2022-02-20T01:40:25.473Z"
   },
   {
    "duration": 26,
    "start_time": "2022-02-20T01:40:25.512Z"
   },
   {
    "duration": 35,
    "start_time": "2022-02-20T01:40:25.541Z"
   },
   {
    "duration": 19,
    "start_time": "2022-02-20T01:40:25.578Z"
   },
   {
    "duration": 15,
    "start_time": "2022-02-20T01:40:25.599Z"
   },
   {
    "duration": 6,
    "start_time": "2022-02-20T01:40:25.616Z"
   },
   {
    "duration": 6,
    "start_time": "2022-02-20T01:40:25.625Z"
   },
   {
    "duration": 5,
    "start_time": "2022-02-20T01:40:25.662Z"
   },
   {
    "duration": 12,
    "start_time": "2022-02-20T01:40:25.670Z"
   },
   {
    "duration": 14,
    "start_time": "2022-02-20T01:40:25.685Z"
   },
   {
    "duration": 81,
    "start_time": "2022-02-20T01:40:25.702Z"
   },
   {
    "duration": 5,
    "start_time": "2022-02-20T01:40:25.785Z"
   },
   {
    "duration": 9,
    "start_time": "2022-02-20T01:40:25.792Z"
   },
   {
    "duration": 8,
    "start_time": "2022-02-20T01:40:25.804Z"
   },
   {
    "duration": 10,
    "start_time": "2022-02-20T01:40:25.814Z"
   },
   {
    "duration": 35,
    "start_time": "2022-02-20T01:40:25.826Z"
   },
   {
    "duration": 46,
    "start_time": "2022-02-20T01:40:25.867Z"
   },
   {
    "duration": 56,
    "start_time": "2022-02-20T01:40:25.918Z"
   },
   {
    "duration": 27,
    "start_time": "2022-02-20T01:40:25.976Z"
   },
   {
    "duration": 10,
    "start_time": "2022-02-20T01:40:26.006Z"
   },
   {
    "duration": 43,
    "start_time": "2022-02-20T01:40:26.019Z"
   },
   {
    "duration": 10,
    "start_time": "2022-02-20T01:40:26.064Z"
   },
   {
    "duration": 25,
    "start_time": "2022-02-20T01:40:26.077Z"
   },
   {
    "duration": 57,
    "start_time": "2022-02-20T01:40:26.105Z"
   },
   {
    "duration": 16,
    "start_time": "2022-02-20T01:40:26.165Z"
   },
   {
    "duration": 8,
    "start_time": "2022-02-20T01:40:26.183Z"
   },
   {
    "duration": 68,
    "start_time": "2022-02-20T01:40:26.193Z"
   },
   {
    "duration": 19454,
    "start_time": "2022-02-20T01:40:26.263Z"
   },
   {
    "duration": 98,
    "start_time": "2022-02-20T01:40:45.720Z"
   },
   {
    "duration": 7,
    "start_time": "2022-02-20T01:40:45.820Z"
   },
   {
    "duration": 81,
    "start_time": "2022-02-20T01:40:45.829Z"
   },
   {
    "duration": 7,
    "start_time": "2022-02-20T01:40:45.913Z"
   },
   {
    "duration": 47,
    "start_time": "2022-02-20T01:40:45.924Z"
   },
   {
    "duration": 12034,
    "start_time": "2022-02-20T01:40:45.974Z"
   },
   {
    "duration": 78,
    "start_time": "2022-02-20T01:40:58.011Z"
   },
   {
    "duration": 7,
    "start_time": "2022-02-20T01:40:58.091Z"
   },
   {
    "duration": 27,
    "start_time": "2022-02-20T01:40:58.101Z"
   },
   {
    "duration": 14651,
    "start_time": "2022-02-20T01:40:58.131Z"
   },
   {
    "duration": 79,
    "start_time": "2022-02-20T01:41:12.785Z"
   },
   {
    "duration": 38,
    "start_time": "2022-02-20T01:41:12.867Z"
   },
   {
    "duration": 5,
    "start_time": "2022-02-20T01:41:12.908Z"
   },
   {
    "duration": 74,
    "start_time": "2022-02-20T01:41:12.915Z"
   },
   {
    "duration": 74,
    "start_time": "2022-02-20T01:41:12.991Z"
   },
   {
    "duration": 54,
    "start_time": "2022-02-20T01:41:13.067Z"
   },
   {
    "duration": 70,
    "start_time": "2022-02-20T01:41:13.123Z"
   },
   {
    "duration": 71,
    "start_time": "2022-02-20T01:41:13.195Z"
   },
   {
    "duration": 99,
    "start_time": "2022-02-20T01:41:13.269Z"
   },
   {
    "duration": 14,
    "start_time": "2022-02-20T01:41:13.370Z"
   },
   {
    "duration": 12,
    "start_time": "2022-02-20T01:41:13.387Z"
   },
   {
    "duration": 15,
    "start_time": "2022-02-20T01:41:13.402Z"
   },
   {
    "duration": 46,
    "start_time": "2022-02-20T01:41:13.419Z"
   },
   {
    "duration": 14,
    "start_time": "2022-02-20T01:41:13.468Z"
   },
   {
    "duration": 11,
    "start_time": "2022-02-20T01:41:13.485Z"
   },
   {
    "duration": 14,
    "start_time": "2022-02-20T01:41:13.499Z"
   },
   {
    "duration": 51,
    "start_time": "2022-02-20T01:41:13.516Z"
   },
   {
    "duration": 12,
    "start_time": "2022-02-20T01:41:13.570Z"
   },
   {
    "duration": 15,
    "start_time": "2022-02-20T01:41:13.585Z"
   },
   {
    "duration": 12,
    "start_time": "2022-02-20T01:41:13.602Z"
   },
   {
    "duration": 55,
    "start_time": "2022-02-20T01:41:13.616Z"
   },
   {
    "duration": 13,
    "start_time": "2022-02-20T01:41:13.673Z"
   },
   {
    "duration": 11,
    "start_time": "2022-02-20T01:41:13.689Z"
   },
   {
    "duration": 12,
    "start_time": "2022-02-20T01:41:13.709Z"
   },
   {
    "duration": 46,
    "start_time": "2022-02-20T01:41:13.724Z"
   },
   {
    "duration": 18,
    "start_time": "2022-02-20T01:41:13.773Z"
   },
   {
    "duration": 12,
    "start_time": "2022-02-20T01:41:13.793Z"
   },
   {
    "duration": 4968,
    "start_time": "2022-02-20T01:41:13.807Z"
   },
   {
    "duration": 4631,
    "start_time": "2022-02-20T01:41:18.778Z"
   },
   {
    "duration": 4232,
    "start_time": "2022-02-20T01:41:23.412Z"
   },
   {
    "duration": 32,
    "start_time": "2022-02-20T01:41:27.646Z"
   },
   {
    "duration": 17,
    "start_time": "2022-02-20T01:41:27.680Z"
   },
   {
    "duration": 1404,
    "start_time": "2022-02-25T17:23:01.276Z"
   },
   {
    "duration": 226,
    "start_time": "2022-02-25T17:23:02.683Z"
   },
   {
    "duration": 190,
    "start_time": "2022-02-25T17:23:02.912Z"
   },
   {
    "duration": 137,
    "start_time": "2022-02-25T17:23:03.110Z"
   },
   {
    "duration": 29,
    "start_time": "2022-02-25T17:23:03.249Z"
   },
   {
    "duration": 53,
    "start_time": "2022-02-25T17:23:03.282Z"
   },
   {
    "duration": 31,
    "start_time": "2022-02-25T17:23:03.339Z"
   },
   {
    "duration": 45,
    "start_time": "2022-02-25T17:23:03.373Z"
   },
   {
    "duration": 21,
    "start_time": "2022-02-25T17:23:03.424Z"
   },
   {
    "duration": 10,
    "start_time": "2022-02-25T17:23:03.448Z"
   },
   {
    "duration": 10,
    "start_time": "2022-02-25T17:23:03.461Z"
   },
   {
    "duration": 7,
    "start_time": "2022-02-25T17:23:03.512Z"
   },
   {
    "duration": 10,
    "start_time": "2022-02-25T17:23:03.522Z"
   },
   {
    "duration": 9,
    "start_time": "2022-02-25T17:23:03.534Z"
   },
   {
    "duration": 7,
    "start_time": "2022-02-25T17:23:03.545Z"
   },
   {
    "duration": 6,
    "start_time": "2022-02-25T17:23:03.555Z"
   },
   {
    "duration": 102,
    "start_time": "2022-02-25T17:23:03.563Z"
   },
   {
    "duration": 7,
    "start_time": "2022-02-25T17:23:03.668Z"
   },
   {
    "duration": 32,
    "start_time": "2022-02-25T17:23:03.678Z"
   },
   {
    "duration": 5,
    "start_time": "2022-02-25T17:23:03.712Z"
   },
   {
    "duration": 6,
    "start_time": "2022-02-25T17:23:03.719Z"
   },
   {
    "duration": 8,
    "start_time": "2022-02-25T17:23:03.727Z"
   },
   {
    "duration": 74,
    "start_time": "2022-02-25T17:23:03.737Z"
   },
   {
    "duration": 32,
    "start_time": "2022-02-25T17:23:03.813Z"
   },
   {
    "duration": 29,
    "start_time": "2022-02-25T17:23:03.848Z"
   },
   {
    "duration": 38,
    "start_time": "2022-02-25T17:23:03.880Z"
   },
   {
    "duration": 12,
    "start_time": "2022-02-25T17:23:03.926Z"
   },
   {
    "duration": 10,
    "start_time": "2022-02-25T17:23:03.941Z"
   },
   {
    "duration": 59,
    "start_time": "2022-02-25T17:23:03.953Z"
   },
   {
    "duration": 16,
    "start_time": "2022-02-25T17:23:04.014Z"
   },
   {
    "duration": 14,
    "start_time": "2022-02-25T17:23:04.032Z"
   },
   {
    "duration": 7,
    "start_time": "2022-02-25T17:23:04.049Z"
   },
   {
    "duration": 36,
    "start_time": "2022-02-25T17:23:25.214Z"
   },
   {
    "duration": 11,
    "start_time": "2022-02-25T17:23:40.349Z"
   },
   {
    "duration": 21,
    "start_time": "2022-02-25T17:23:55.862Z"
   },
   {
    "duration": 10,
    "start_time": "2022-02-25T17:24:48.191Z"
   },
   {
    "duration": 524,
    "start_time": "2022-02-25T17:25:06.909Z"
   },
   {
    "duration": 9,
    "start_time": "2022-02-25T17:25:26.774Z"
   },
   {
    "duration": 35,
    "start_time": "2022-02-25T17:42:28.299Z"
   },
   {
    "duration": 36,
    "start_time": "2022-02-25T17:42:36.476Z"
   },
   {
    "duration": 39,
    "start_time": "2022-02-25T18:03:37.967Z"
   },
   {
    "duration": 9,
    "start_time": "2022-02-25T18:07:49.536Z"
   },
   {
    "duration": 11,
    "start_time": "2022-02-25T18:09:01.983Z"
   },
   {
    "duration": 10,
    "start_time": "2022-02-25T18:22:55.400Z"
   },
   {
    "duration": 10,
    "start_time": "2022-02-25T18:23:02.192Z"
   },
   {
    "duration": 9,
    "start_time": "2022-02-25T18:23:21.231Z"
   },
   {
    "duration": 34,
    "start_time": "2022-02-25T18:28:23.597Z"
   },
   {
    "duration": 34,
    "start_time": "2022-02-25T18:28:29.893Z"
   },
   {
    "duration": 20209,
    "start_time": "2022-02-25T18:28:33.861Z"
   },
   {
    "duration": 25,
    "start_time": "2022-02-25T18:30:18.870Z"
   },
   {
    "duration": 21,
    "start_time": "2022-02-25T18:30:23.270Z"
   },
   {
    "duration": 5,
    "start_time": "2022-02-25T18:47:41.856Z"
   },
   {
    "duration": 225,
    "start_time": "2022-02-25T18:47:41.867Z"
   },
   {
    "duration": 195,
    "start_time": "2022-02-25T18:47:42.111Z"
   },
   {
    "duration": 126,
    "start_time": "2022-02-25T18:47:42.311Z"
   },
   {
    "duration": 27,
    "start_time": "2022-02-25T18:47:42.440Z"
   },
   {
    "duration": 49,
    "start_time": "2022-02-25T18:47:42.469Z"
   },
   {
    "duration": 27,
    "start_time": "2022-02-25T18:47:42.520Z"
   },
   {
    "duration": 24,
    "start_time": "2022-02-25T18:47:42.549Z"
   },
   {
    "duration": 44,
    "start_time": "2022-02-25T18:47:42.577Z"
   },
   {
    "duration": 11,
    "start_time": "2022-02-25T18:47:42.624Z"
   },
   {
    "duration": 10,
    "start_time": "2022-02-25T18:47:42.637Z"
   },
   {
    "duration": 7,
    "start_time": "2022-02-25T18:47:42.649Z"
   },
   {
    "duration": 9,
    "start_time": "2022-02-25T18:47:42.659Z"
   },
   {
    "duration": 46,
    "start_time": "2022-02-25T18:47:42.670Z"
   },
   {
    "duration": 7,
    "start_time": "2022-02-25T18:47:42.719Z"
   },
   {
    "duration": 7,
    "start_time": "2022-02-25T18:47:42.728Z"
   },
   {
    "duration": 74,
    "start_time": "2022-02-25T18:47:42.738Z"
   },
   {
    "duration": 6,
    "start_time": "2022-02-25T18:47:42.814Z"
   },
   {
    "duration": 6,
    "start_time": "2022-02-25T18:47:42.823Z"
   },
   {
    "duration": 5,
    "start_time": "2022-02-25T18:47:42.831Z"
   },
   {
    "duration": 10,
    "start_time": "2022-02-25T18:47:42.839Z"
   },
   {
    "duration": 10,
    "start_time": "2022-02-25T18:47:42.852Z"
   },
   {
    "duration": 91,
    "start_time": "2022-02-25T18:47:42.864Z"
   },
   {
    "duration": 59,
    "start_time": "2022-02-25T18:47:42.962Z"
   },
   {
    "duration": 27,
    "start_time": "2022-02-25T18:47:43.025Z"
   },
   {
    "duration": 10,
    "start_time": "2022-02-25T18:47:43.055Z"
   },
   {
    "duration": 15,
    "start_time": "2022-02-25T18:47:43.068Z"
   },
   {
    "duration": 10,
    "start_time": "2022-02-25T18:47:43.111Z"
   },
   {
    "duration": 35,
    "start_time": "2022-02-25T18:47:43.124Z"
   },
   {
    "duration": 50,
    "start_time": "2022-02-25T18:47:43.162Z"
   },
   {
    "duration": 15,
    "start_time": "2022-02-25T18:47:43.215Z"
   },
   {
    "duration": 9,
    "start_time": "2022-02-25T18:47:43.233Z"
   },
   {
    "duration": 23,
    "start_time": "2022-02-25T18:47:43.245Z"
   },
   {
    "duration": 68,
    "start_time": "2022-02-25T18:47:43.271Z"
   },
   {
    "duration": 21130,
    "start_time": "2022-02-25T18:47:43.341Z"
   },
   {
    "duration": 91,
    "start_time": "2022-02-25T18:48:04.474Z"
   },
   {
    "duration": 111,
    "start_time": "2022-02-25T19:00:57.326Z"
   },
   {
    "duration": 8498,
    "start_time": "2022-02-25T19:01:19.589Z"
   },
   {
    "duration": 8351,
    "start_time": "2022-02-25T19:07:51.486Z"
   },
   {
    "duration": 18,
    "start_time": "2022-02-25T19:10:25.501Z"
   },
   {
    "duration": 41,
    "start_time": "2022-02-25T19:11:23.230Z"
   },
   {
    "duration": 53,
    "start_time": "2022-02-25T19:11:36.781Z"
   },
   {
    "duration": 5,
    "start_time": "2022-02-25T19:15:59.855Z"
   },
   {
    "duration": 259,
    "start_time": "2022-02-25T19:15:59.865Z"
   },
   {
    "duration": 201,
    "start_time": "2022-02-25T19:16:00.127Z"
   },
   {
    "duration": 128,
    "start_time": "2022-02-25T19:16:00.331Z"
   },
   {
    "duration": 30,
    "start_time": "2022-02-25T19:16:00.462Z"
   },
   {
    "duration": 62,
    "start_time": "2022-02-25T19:16:00.494Z"
   },
   {
    "duration": 28,
    "start_time": "2022-02-25T19:16:00.558Z"
   },
   {
    "duration": 28,
    "start_time": "2022-02-25T19:16:00.589Z"
   },
   {
    "duration": 20,
    "start_time": "2022-02-25T19:16:00.622Z"
   },
   {
    "duration": 11,
    "start_time": "2022-02-25T19:16:00.645Z"
   },
   {
    "duration": 10,
    "start_time": "2022-02-25T19:16:00.659Z"
   },
   {
    "duration": 7,
    "start_time": "2022-02-25T19:16:00.711Z"
   },
   {
    "duration": 13,
    "start_time": "2022-02-25T19:16:00.721Z"
   },
   {
    "duration": 8,
    "start_time": "2022-02-25T19:16:00.737Z"
   },
   {
    "duration": 11,
    "start_time": "2022-02-25T19:16:00.748Z"
   },
   {
    "duration": 9,
    "start_time": "2022-02-25T19:16:00.762Z"
   },
   {
    "duration": 67,
    "start_time": "2022-02-25T19:16:00.773Z"
   },
   {
    "duration": 5,
    "start_time": "2022-02-25T19:16:00.843Z"
   },
   {
    "duration": 7,
    "start_time": "2022-02-25T19:16:00.850Z"
   },
   {
    "duration": 10,
    "start_time": "2022-02-25T19:16:00.859Z"
   },
   {
    "duration": 42,
    "start_time": "2022-02-25T19:16:00.871Z"
   },
   {
    "duration": 7,
    "start_time": "2022-02-25T19:16:00.915Z"
   },
   {
    "duration": 50,
    "start_time": "2022-02-25T19:16:00.925Z"
   },
   {
    "duration": 59,
    "start_time": "2022-02-25T19:16:00.980Z"
   },
   {
    "duration": 27,
    "start_time": "2022-02-25T19:16:01.042Z"
   },
   {
    "duration": 10,
    "start_time": "2022-02-25T19:16:01.071Z"
   },
   {
    "duration": 38,
    "start_time": "2022-02-25T19:16:01.084Z"
   },
   {
    "duration": 14,
    "start_time": "2022-02-25T19:16:01.124Z"
   },
   {
    "duration": 29,
    "start_time": "2022-02-25T19:16:01.140Z"
   },
   {
    "duration": 16,
    "start_time": "2022-02-25T19:16:01.172Z"
   },
   {
    "duration": 22,
    "start_time": "2022-02-25T19:16:01.212Z"
   },
   {
    "duration": 10,
    "start_time": "2022-02-25T19:16:01.237Z"
   },
   {
    "duration": 62,
    "start_time": "2022-02-25T19:16:01.250Z"
   },
   {
    "duration": 31,
    "start_time": "2022-02-25T19:16:01.315Z"
   },
   {
    "duration": 19874,
    "start_time": "2022-02-25T19:16:01.348Z"
   },
   {
    "duration": 21,
    "start_time": "2022-02-25T19:16:21.225Z"
   },
   {
    "duration": 92,
    "start_time": "2022-02-25T19:16:21.249Z"
   },
   {
    "duration": 10,
    "start_time": "2022-02-25T19:18:22.973Z"
   },
   {
    "duration": 9,
    "start_time": "2022-02-25T19:21:05.278Z"
   },
   {
    "duration": 20,
    "start_time": "2022-02-25T19:24:09.678Z"
   },
   {
    "duration": 12898,
    "start_time": "2022-02-25T19:24:11.702Z"
   },
   {
    "duration": 29,
    "start_time": "2022-02-25T19:29:12.494Z"
   },
   {
    "duration": 457,
    "start_time": "2022-02-25T19:33:04.958Z"
   },
   {
    "duration": 44,
    "start_time": "2022-02-25T19:33:28.726Z"
   },
   {
    "duration": 10,
    "start_time": "2022-02-25T19:33:38.429Z"
   },
   {
    "duration": 9,
    "start_time": "2022-02-25T19:34:09.885Z"
   },
   {
    "duration": 8,
    "start_time": "2022-02-25T19:34:16.557Z"
   },
   {
    "duration": 4,
    "start_time": "2022-02-25T20:03:26.255Z"
   },
   {
    "duration": 252,
    "start_time": "2022-02-25T20:03:26.264Z"
   },
   {
    "duration": 193,
    "start_time": "2022-02-25T20:03:26.519Z"
   },
   {
    "duration": 127,
    "start_time": "2022-02-25T20:03:26.714Z"
   },
   {
    "duration": 27,
    "start_time": "2022-02-25T20:03:26.844Z"
   },
   {
    "duration": 50,
    "start_time": "2022-02-25T20:03:26.874Z"
   },
   {
    "duration": 27,
    "start_time": "2022-02-25T20:03:26.927Z"
   },
   {
    "duration": 53,
    "start_time": "2022-02-25T20:03:26.957Z"
   },
   {
    "duration": 21,
    "start_time": "2022-02-25T20:03:27.014Z"
   },
   {
    "duration": 8,
    "start_time": "2022-02-25T20:03:27.038Z"
   },
   {
    "duration": 9,
    "start_time": "2022-02-25T20:03:27.049Z"
   },
   {
    "duration": 51,
    "start_time": "2022-02-25T20:03:27.061Z"
   },
   {
    "duration": 6,
    "start_time": "2022-02-25T20:03:27.115Z"
   },
   {
    "duration": 5,
    "start_time": "2022-02-25T20:03:27.123Z"
   },
   {
    "duration": 7,
    "start_time": "2022-02-25T20:03:27.130Z"
   },
   {
    "duration": 7,
    "start_time": "2022-02-25T20:03:27.139Z"
   },
   {
    "duration": 89,
    "start_time": "2022-02-25T20:03:27.149Z"
   },
   {
    "duration": 5,
    "start_time": "2022-02-25T20:03:27.241Z"
   },
   {
    "duration": 6,
    "start_time": "2022-02-25T20:03:27.248Z"
   },
   {
    "duration": 6,
    "start_time": "2022-02-25T20:03:27.256Z"
   },
   {
    "duration": 51,
    "start_time": "2022-02-25T20:03:27.265Z"
   },
   {
    "duration": 10,
    "start_time": "2022-02-25T20:03:27.318Z"
   },
   {
    "duration": 40,
    "start_time": "2022-02-25T20:03:27.330Z"
   },
   {
    "duration": 64,
    "start_time": "2022-02-25T20:03:27.375Z"
   },
   {
    "duration": 29,
    "start_time": "2022-02-25T20:03:27.442Z"
   },
   {
    "duration": 10,
    "start_time": "2022-02-25T20:03:27.473Z"
   },
   {
    "duration": 18,
    "start_time": "2022-02-25T20:03:27.510Z"
   },
   {
    "duration": 11,
    "start_time": "2022-02-25T20:03:27.531Z"
   },
   {
    "duration": 21,
    "start_time": "2022-02-25T20:03:27.544Z"
   },
   {
    "duration": 44,
    "start_time": "2022-02-25T20:03:27.568Z"
   },
   {
    "duration": 15,
    "start_time": "2022-02-25T20:03:27.614Z"
   },
   {
    "duration": 7,
    "start_time": "2022-02-25T20:03:27.631Z"
   },
   {
    "duration": 22,
    "start_time": "2022-02-25T20:03:27.641Z"
   },
   {
    "duration": 67,
    "start_time": "2022-02-25T20:03:27.665Z"
   },
   {
    "duration": 19620,
    "start_time": "2022-02-25T20:03:27.735Z"
   },
   {
    "duration": 87,
    "start_time": "2022-02-25T20:03:47.357Z"
   },
   {
    "duration": 11,
    "start_time": "2022-02-25T20:03:47.447Z"
   },
   {
    "duration": 14,
    "start_time": "2022-02-25T20:03:47.461Z"
   },
   {
    "duration": 43,
    "start_time": "2022-02-25T20:03:47.477Z"
   },
   {
    "duration": 12370,
    "start_time": "2022-02-25T20:03:47.522Z"
   },
   {
    "duration": 53,
    "start_time": "2022-02-25T20:03:59.894Z"
   },
   {
    "duration": 9,
    "start_time": "2022-02-25T20:03:59.949Z"
   },
   {
    "duration": 7,
    "start_time": "2022-02-25T20:03:59.961Z"
   },
   {
    "duration": 57,
    "start_time": "2022-02-25T20:03:59.971Z"
   },
   {
    "duration": 19,
    "start_time": "2022-02-25T20:06:33.399Z"
   },
   {
    "duration": 14776,
    "start_time": "2022-02-25T20:06:48.575Z"
   },
   {
    "duration": 22,
    "start_time": "2022-02-25T20:13:48.903Z"
   },
   {
    "duration": 44,
    "start_time": "2022-02-25T20:17:41.878Z"
   },
   {
    "duration": 23,
    "start_time": "2022-02-25T20:26:59.255Z"
   },
   {
    "duration": 12,
    "start_time": "2022-02-25T21:00:41.626Z"
   },
   {
    "duration": 4,
    "start_time": "2022-02-25T21:11:00.854Z"
   },
   {
    "duration": 249,
    "start_time": "2022-02-25T21:11:00.864Z"
   },
   {
    "duration": 197,
    "start_time": "2022-02-25T21:11:01.115Z"
   },
   {
    "duration": 125,
    "start_time": "2022-02-25T21:11:01.315Z"
   },
   {
    "duration": 28,
    "start_time": "2022-02-25T21:11:01.443Z"
   },
   {
    "duration": 46,
    "start_time": "2022-02-25T21:11:01.473Z"
   },
   {
    "duration": 28,
    "start_time": "2022-02-25T21:11:01.522Z"
   },
   {
    "duration": 23,
    "start_time": "2022-02-25T21:11:01.552Z"
   },
   {
    "duration": 48,
    "start_time": "2022-02-25T21:11:01.579Z"
   },
   {
    "duration": 10,
    "start_time": "2022-02-25T21:11:01.631Z"
   },
   {
    "duration": 16,
    "start_time": "2022-02-25T21:11:01.643Z"
   },
   {
    "duration": 12,
    "start_time": "2022-02-25T21:11:01.662Z"
   },
   {
    "duration": 33,
    "start_time": "2022-02-25T21:11:01.677Z"
   },
   {
    "duration": 6,
    "start_time": "2022-02-25T21:11:01.713Z"
   },
   {
    "duration": 7,
    "start_time": "2022-02-25T21:11:01.721Z"
   },
   {
    "duration": 9,
    "start_time": "2022-02-25T21:11:01.730Z"
   },
   {
    "duration": 74,
    "start_time": "2022-02-25T21:11:01.742Z"
   },
   {
    "duration": 6,
    "start_time": "2022-02-25T21:11:01.818Z"
   },
   {
    "duration": 8,
    "start_time": "2022-02-25T21:11:01.826Z"
   },
   {
    "duration": 7,
    "start_time": "2022-02-25T21:11:01.836Z"
   },
   {
    "duration": 5,
    "start_time": "2022-02-25T21:11:01.846Z"
   },
   {
    "duration": 10,
    "start_time": "2022-02-25T21:11:01.854Z"
   },
   {
    "duration": 81,
    "start_time": "2022-02-25T21:11:01.866Z"
   },
   {
    "duration": 30,
    "start_time": "2022-02-25T21:11:01.952Z"
   },
   {
    "duration": 41,
    "start_time": "2022-02-25T21:11:01.986Z"
   },
   {
    "duration": 9,
    "start_time": "2022-02-25T21:11:02.030Z"
   },
   {
    "duration": 13,
    "start_time": "2022-02-25T21:11:02.042Z"
   },
   {
    "duration": 8,
    "start_time": "2022-02-25T21:11:02.058Z"
   },
   {
    "duration": 60,
    "start_time": "2022-02-25T21:11:02.068Z"
   },
   {
    "duration": 16,
    "start_time": "2022-02-25T21:11:02.130Z"
   },
   {
    "duration": 13,
    "start_time": "2022-02-25T21:11:02.148Z"
   },
   {
    "duration": 6,
    "start_time": "2022-02-25T21:11:02.164Z"
   },
   {
    "duration": 67,
    "start_time": "2022-02-25T21:11:02.173Z"
   },
   {
    "duration": 20192,
    "start_time": "2022-02-25T21:11:02.243Z"
   },
   {
    "duration": 74,
    "start_time": "2022-02-25T21:11:22.438Z"
   },
   {
    "duration": 9,
    "start_time": "2022-02-25T21:11:22.515Z"
   },
   {
    "duration": 11,
    "start_time": "2022-02-25T21:11:22.526Z"
   },
   {
    "duration": 27,
    "start_time": "2022-02-25T21:11:22.539Z"
   },
   {
    "duration": 11859,
    "start_time": "2022-02-25T21:11:22.569Z"
   },
   {
    "duration": 43,
    "start_time": "2022-02-25T21:11:34.430Z"
   },
   {
    "duration": 9,
    "start_time": "2022-02-25T21:11:34.475Z"
   },
   {
    "duration": 27,
    "start_time": "2022-02-25T21:11:34.486Z"
   },
   {
    "duration": 23,
    "start_time": "2022-02-25T21:11:34.516Z"
   },
   {
    "duration": 15012,
    "start_time": "2022-02-25T21:11:34.541Z"
   },
   {
    "duration": 55,
    "start_time": "2022-02-25T21:11:49.555Z"
   },
   {
    "duration": 23,
    "start_time": "2022-02-25T21:11:49.613Z"
   },
   {
    "duration": 9,
    "start_time": "2022-02-25T21:11:49.639Z"
   },
   {
    "duration": 22,
    "start_time": "2022-02-25T21:11:49.650Z"
   },
   {
    "duration": 37,
    "start_time": "2022-02-25T21:12:59.402Z"
   },
   {
    "duration": 27,
    "start_time": "2022-02-25T21:16:57.250Z"
   },
   {
    "duration": 38,
    "start_time": "2022-02-25T21:18:15.986Z"
   },
   {
    "duration": 23,
    "start_time": "2022-02-25T21:28:06.577Z"
   },
   {
    "duration": 35,
    "start_time": "2022-02-25T21:35:35.113Z"
   },
   {
    "duration": 14,
    "start_time": "2022-02-25T21:36:54.073Z"
   },
   {
    "duration": 345,
    "start_time": "2022-02-25T21:40:52.537Z"
   },
   {
    "duration": 38,
    "start_time": "2022-02-25T21:43:09.072Z"
   },
   {
    "duration": 1473,
    "start_time": "2022-02-25T21:44:42.407Z"
   },
   {
    "duration": 240,
    "start_time": "2022-02-25T21:44:43.883Z"
   },
   {
    "duration": 189,
    "start_time": "2022-02-25T21:44:44.127Z"
   },
   {
    "duration": 131,
    "start_time": "2022-02-25T21:44:44.320Z"
   },
   {
    "duration": 27,
    "start_time": "2022-02-25T21:44:44.454Z"
   },
   {
    "duration": 46,
    "start_time": "2022-02-25T21:44:44.484Z"
   },
   {
    "duration": 27,
    "start_time": "2022-02-25T21:44:44.533Z"
   },
   {
    "duration": 23,
    "start_time": "2022-02-25T21:44:44.564Z"
   },
   {
    "duration": 36,
    "start_time": "2022-02-25T21:44:44.590Z"
   },
   {
    "duration": 8,
    "start_time": "2022-02-25T21:44:44.629Z"
   },
   {
    "duration": 9,
    "start_time": "2022-02-25T21:44:44.639Z"
   },
   {
    "duration": 6,
    "start_time": "2022-02-25T21:44:44.651Z"
   },
   {
    "duration": 51,
    "start_time": "2022-02-25T21:44:44.659Z"
   },
   {
    "duration": 5,
    "start_time": "2022-02-25T21:44:44.713Z"
   },
   {
    "duration": 5,
    "start_time": "2022-02-25T21:44:44.721Z"
   },
   {
    "duration": 8,
    "start_time": "2022-02-25T21:44:44.729Z"
   },
   {
    "duration": 96,
    "start_time": "2022-02-25T21:44:44.739Z"
   },
   {
    "duration": 5,
    "start_time": "2022-02-25T21:44:44.838Z"
   },
   {
    "duration": 5,
    "start_time": "2022-02-25T21:44:44.846Z"
   },
   {
    "duration": 11,
    "start_time": "2022-02-25T21:44:44.854Z"
   },
   {
    "duration": 11,
    "start_time": "2022-02-25T21:44:44.867Z"
   },
   {
    "duration": 35,
    "start_time": "2022-02-25T21:44:44.881Z"
   },
   {
    "duration": 44,
    "start_time": "2022-02-25T21:44:44.923Z"
   },
   {
    "duration": 58,
    "start_time": "2022-02-25T21:44:44.970Z"
   },
   {
    "duration": 27,
    "start_time": "2022-02-25T21:44:45.030Z"
   },
   {
    "duration": 9,
    "start_time": "2022-02-25T21:44:45.060Z"
   },
   {
    "duration": 39,
    "start_time": "2022-02-25T21:44:45.071Z"
   },
   {
    "duration": 11,
    "start_time": "2022-02-25T21:44:45.113Z"
   },
   {
    "duration": 24,
    "start_time": "2022-02-25T21:44:45.126Z"
   },
   {
    "duration": 14,
    "start_time": "2022-02-25T21:44:45.153Z"
   },
   {
    "duration": 43,
    "start_time": "2022-02-25T21:44:45.169Z"
   },
   {
    "duration": 8,
    "start_time": "2022-02-25T21:44:45.215Z"
   },
   {
    "duration": 34,
    "start_time": "2022-02-25T21:44:45.226Z"
   },
   {
    "duration": 19366,
    "start_time": "2022-02-25T21:44:45.263Z"
   },
   {
    "duration": 85,
    "start_time": "2022-02-25T21:45:04.631Z"
   },
   {
    "duration": 11,
    "start_time": "2022-02-25T21:45:04.718Z"
   },
   {
    "duration": 14,
    "start_time": "2022-02-25T21:45:04.732Z"
   },
   {
    "duration": 24,
    "start_time": "2022-02-25T21:45:04.749Z"
   },
   {
    "duration": 11680,
    "start_time": "2022-02-25T21:45:04.775Z"
   },
   {
    "duration": 64,
    "start_time": "2022-02-25T21:45:16.457Z"
   },
   {
    "duration": 9,
    "start_time": "2022-02-25T21:45:16.524Z"
   },
   {
    "duration": 11,
    "start_time": "2022-02-25T21:45:16.536Z"
   },
   {
    "duration": 61,
    "start_time": "2022-02-25T21:45:16.550Z"
   },
   {
    "duration": 14705,
    "start_time": "2022-02-25T21:45:16.613Z"
   },
   {
    "duration": 43,
    "start_time": "2022-02-25T21:45:31.321Z"
   },
   {
    "duration": 23,
    "start_time": "2022-02-25T21:45:31.366Z"
   },
   {
    "duration": 11,
    "start_time": "2022-02-25T21:45:31.412Z"
   },
   {
    "duration": 25,
    "start_time": "2022-02-25T21:45:31.426Z"
   },
   {
    "duration": 13,
    "start_time": "2022-02-25T21:45:31.453Z"
   },
   {
    "duration": 59,
    "start_time": "2022-02-25T21:45:31.468Z"
   },
   {
    "duration": 22,
    "start_time": "2022-02-25T21:49:34.380Z"
   },
   {
    "duration": 4,
    "start_time": "2022-02-25T21:49:57.283Z"
   },
   {
    "duration": 23,
    "start_time": "2022-02-25T21:50:05.954Z"
   },
   {
    "duration": 31,
    "start_time": "2022-02-25T21:50:28.243Z"
   },
   {
    "duration": 501,
    "start_time": "2022-02-25T21:51:56.218Z"
   },
   {
    "duration": 58,
    "start_time": "2022-02-25T21:55:09.866Z"
   },
   {
    "duration": 357,
    "start_time": "2022-02-25T21:56:04.682Z"
   },
   {
    "duration": 63,
    "start_time": "2022-02-25T21:56:32.186Z"
   },
   {
    "duration": 4,
    "start_time": "2022-02-25T21:58:01.795Z"
   },
   {
    "duration": 231,
    "start_time": "2022-02-25T21:58:01.805Z"
   },
   {
    "duration": 215,
    "start_time": "2022-02-25T21:58:02.038Z"
   },
   {
    "duration": 124,
    "start_time": "2022-02-25T21:58:02.256Z"
   },
   {
    "duration": 28,
    "start_time": "2022-02-25T21:58:02.383Z"
   },
   {
    "duration": 46,
    "start_time": "2022-02-25T21:58:02.414Z"
   },
   {
    "duration": 30,
    "start_time": "2022-02-25T21:58:02.463Z"
   },
   {
    "duration": 25,
    "start_time": "2022-02-25T21:58:02.496Z"
   },
   {
    "duration": 19,
    "start_time": "2022-02-25T21:58:02.525Z"
   },
   {
    "duration": 10,
    "start_time": "2022-02-25T21:58:02.547Z"
   },
   {
    "duration": 52,
    "start_time": "2022-02-25T21:58:02.560Z"
   },
   {
    "duration": 8,
    "start_time": "2022-02-25T21:58:02.615Z"
   },
   {
    "duration": 6,
    "start_time": "2022-02-25T21:58:02.626Z"
   },
   {
    "duration": 6,
    "start_time": "2022-02-25T21:58:02.635Z"
   },
   {
    "duration": 7,
    "start_time": "2022-02-25T21:58:02.644Z"
   },
   {
    "duration": 57,
    "start_time": "2022-02-25T21:58:02.654Z"
   },
   {
    "duration": 40,
    "start_time": "2022-02-25T21:58:02.715Z"
   },
   {
    "duration": 6,
    "start_time": "2022-02-25T21:58:02.758Z"
   },
   {
    "duration": 48,
    "start_time": "2022-02-25T21:58:02.768Z"
   },
   {
    "duration": 12,
    "start_time": "2022-02-25T21:58:02.819Z"
   },
   {
    "duration": 6,
    "start_time": "2022-02-25T21:58:02.834Z"
   },
   {
    "duration": 8,
    "start_time": "2022-02-25T21:58:02.842Z"
   },
   {
    "duration": 76,
    "start_time": "2022-02-25T21:58:02.852Z"
   },
   {
    "duration": 31,
    "start_time": "2022-02-25T21:58:02.934Z"
   },
   {
    "duration": 46,
    "start_time": "2022-02-25T21:58:02.968Z"
   },
   {
    "duration": 9,
    "start_time": "2022-02-25T21:58:03.017Z"
   },
   {
    "duration": 13,
    "start_time": "2022-02-25T21:58:03.028Z"
   },
   {
    "duration": 8,
    "start_time": "2022-02-25T21:58:03.043Z"
   },
   {
    "duration": 62,
    "start_time": "2022-02-25T21:58:03.054Z"
   },
   {
    "duration": 16,
    "start_time": "2022-02-25T21:58:03.118Z"
   },
   {
    "duration": 17,
    "start_time": "2022-02-25T21:58:03.136Z"
   },
   {
    "duration": 7,
    "start_time": "2022-02-25T21:58:03.156Z"
   },
   {
    "duration": 66,
    "start_time": "2022-02-25T21:58:03.165Z"
   },
   {
    "duration": 20443,
    "start_time": "2022-02-25T21:58:03.234Z"
   },
   {
    "duration": 79,
    "start_time": "2022-02-25T21:58:23.680Z"
   },
   {
    "duration": 8,
    "start_time": "2022-02-25T21:58:23.762Z"
   },
   {
    "duration": 9,
    "start_time": "2022-02-25T21:58:23.772Z"
   },
   {
    "duration": 43,
    "start_time": "2022-02-25T21:58:23.783Z"
   },
   {
    "duration": 12114,
    "start_time": "2022-02-25T21:58:23.828Z"
   },
   {
    "duration": 45,
    "start_time": "2022-02-25T21:58:35.945Z"
   },
   {
    "duration": 25,
    "start_time": "2022-02-25T21:58:35.992Z"
   },
   {
    "duration": 10,
    "start_time": "2022-02-25T21:58:36.020Z"
   },
   {
    "duration": 28,
    "start_time": "2022-02-25T21:58:36.033Z"
   },
   {
    "duration": 14776,
    "start_time": "2022-02-25T21:58:36.063Z"
   },
   {
    "duration": 72,
    "start_time": "2022-02-25T21:58:50.842Z"
   },
   {
    "duration": 23,
    "start_time": "2022-02-25T21:58:50.917Z"
   },
   {
    "duration": 7,
    "start_time": "2022-02-25T21:58:50.943Z"
   },
   {
    "duration": 24,
    "start_time": "2022-02-25T21:58:50.952Z"
   },
   {
    "duration": 71,
    "start_time": "2022-02-25T21:58:50.979Z"
   },
   {
    "duration": 342,
    "start_time": "2022-02-25T23:25:15.703Z"
   },
   {
    "duration": 7,
    "start_time": "2022-02-25T23:25:59.645Z"
   },
   {
    "duration": 36,
    "start_time": "2022-02-25T23:28:28.854Z"
   },
   {
    "duration": 7,
    "start_time": "2022-02-25T23:29:28.654Z"
   },
   {
    "duration": 38,
    "start_time": "2022-02-25T23:30:10.734Z"
   },
   {
    "duration": 7,
    "start_time": "2022-02-25T23:31:15.511Z"
   },
   {
    "duration": 41,
    "start_time": "2022-02-25T23:38:00.565Z"
   },
   {
    "duration": 8657,
    "start_time": "2022-02-25T23:42:33.525Z"
   },
   {
    "duration": 45,
    "start_time": "2022-02-25T23:43:05.998Z"
   },
   {
    "duration": 40,
    "start_time": "2022-02-26T00:01:56.971Z"
   },
   {
    "duration": 402,
    "start_time": "2022-02-26T00:07:32.803Z"
   },
   {
    "duration": 48,
    "start_time": "2022-02-26T00:07:53.764Z"
   },
   {
    "duration": 342,
    "start_time": "2022-02-26T00:49:38.395Z"
   },
   {
    "duration": 124,
    "start_time": "2022-02-26T00:53:28.906Z"
   },
   {
    "duration": 8012,
    "start_time": "2022-02-26T01:08:36.904Z"
   },
   {
    "duration": 456,
    "start_time": "2022-02-26T01:09:00.769Z"
   },
   {
    "duration": 445,
    "start_time": "2022-02-26T01:09:54.632Z"
   },
   {
    "duration": 1799,
    "start_time": "2022-02-26T01:14:54.513Z"
   },
   {
    "duration": 628,
    "start_time": "2022-02-26T01:15:12.272Z"
   },
   {
    "duration": 676,
    "start_time": "2022-02-26T01:16:05.832Z"
   },
   {
    "duration": 528,
    "start_time": "2022-02-26T01:16:35.664Z"
   },
   {
    "duration": 586,
    "start_time": "2022-02-26T01:19:09.225Z"
   },
   {
    "duration": 658,
    "start_time": "2022-02-26T01:19:16.185Z"
   },
   {
    "duration": 685,
    "start_time": "2022-02-26T01:20:36.664Z"
   },
   {
    "duration": 636,
    "start_time": "2022-02-26T01:20:52.103Z"
   },
   {
    "duration": 658,
    "start_time": "2022-02-26T01:23:26.000Z"
   },
   {
    "duration": 3016,
    "start_time": "2022-02-26T01:26:56.871Z"
   },
   {
    "duration": 682,
    "start_time": "2022-02-26T01:27:52.234Z"
   },
   {
    "duration": 668,
    "start_time": "2022-02-26T01:28:05.072Z"
   },
   {
    "duration": 351,
    "start_time": "2022-02-26T01:34:59.620Z"
   },
   {
    "duration": 1034,
    "start_time": "2022-02-26T01:35:36.676Z"
   },
   {
    "duration": 403,
    "start_time": "2022-02-26T01:36:10.444Z"
   },
   {
    "duration": 645,
    "start_time": "2022-02-26T01:36:16.396Z"
   },
   {
    "duration": 703,
    "start_time": "2022-02-26T01:37:12.771Z"
   },
   {
    "duration": 42,
    "start_time": "2022-02-26T02:11:39.482Z"
   },
   {
    "duration": 333,
    "start_time": "2022-02-26T02:13:58.578Z"
   },
   {
    "duration": 337,
    "start_time": "2022-02-26T02:16:23.046Z"
   },
   {
    "duration": 341,
    "start_time": "2022-02-26T02:18:39.138Z"
   },
   {
    "duration": 236,
    "start_time": "2022-02-26T02:20:07.674Z"
   },
   {
    "duration": 10,
    "start_time": "2022-02-26T02:20:15.722Z"
   },
   {
    "duration": 14,
    "start_time": "2022-02-26T02:20:27.802Z"
   },
   {
    "duration": 38,
    "start_time": "2022-02-26T02:22:58.018Z"
   },
   {
    "duration": 8,
    "start_time": "2022-02-26T02:24:18.834Z"
   },
   {
    "duration": 11,
    "start_time": "2022-02-26T02:24:41.538Z"
   },
   {
    "duration": 9,
    "start_time": "2022-02-26T02:24:51.138Z"
   },
   {
    "duration": 55,
    "start_time": "2022-02-26T02:25:43.171Z"
   },
   {
    "duration": 12,
    "start_time": "2022-02-26T02:26:15.637Z"
   },
   {
    "duration": 1519,
    "start_time": "2022-02-26T02:34:29.181Z"
   },
   {
    "duration": 236,
    "start_time": "2022-02-26T02:34:30.702Z"
   },
   {
    "duration": 184,
    "start_time": "2022-02-26T02:34:30.941Z"
   },
   {
    "duration": 130,
    "start_time": "2022-02-26T02:34:31.128Z"
   },
   {
    "duration": 27,
    "start_time": "2022-02-26T02:34:31.260Z"
   },
   {
    "duration": 46,
    "start_time": "2022-02-26T02:34:31.290Z"
   },
   {
    "duration": 28,
    "start_time": "2022-02-26T02:34:31.338Z"
   },
   {
    "duration": 26,
    "start_time": "2022-02-26T02:34:31.371Z"
   },
   {
    "duration": 19,
    "start_time": "2022-02-26T02:34:31.412Z"
   },
   {
    "duration": 8,
    "start_time": "2022-02-26T02:34:31.434Z"
   },
   {
    "duration": 12,
    "start_time": "2022-02-26T02:34:31.444Z"
   },
   {
    "duration": 11,
    "start_time": "2022-02-26T02:34:31.458Z"
   },
   {
    "duration": 48,
    "start_time": "2022-02-26T02:34:31.472Z"
   },
   {
    "duration": 11,
    "start_time": "2022-02-26T02:34:31.523Z"
   },
   {
    "duration": 7,
    "start_time": "2022-02-26T02:34:31.536Z"
   },
   {
    "duration": 9,
    "start_time": "2022-02-26T02:34:31.546Z"
   },
   {
    "duration": 92,
    "start_time": "2022-02-26T02:34:31.557Z"
   },
   {
    "duration": 6,
    "start_time": "2022-02-26T02:34:31.651Z"
   },
   {
    "duration": 8,
    "start_time": "2022-02-26T02:34:31.659Z"
   },
   {
    "duration": 7,
    "start_time": "2022-02-26T02:34:31.669Z"
   },
   {
    "duration": 33,
    "start_time": "2022-02-26T02:34:31.679Z"
   },
   {
    "duration": 9,
    "start_time": "2022-02-26T02:34:31.714Z"
   },
   {
    "duration": 46,
    "start_time": "2022-02-26T02:34:31.729Z"
   },
   {
    "duration": 56,
    "start_time": "2022-02-26T02:34:31.779Z"
   },
   {
    "duration": 26,
    "start_time": "2022-02-26T02:34:31.838Z"
   },
   {
    "duration": 9,
    "start_time": "2022-02-26T02:34:31.867Z"
   },
   {
    "duration": 43,
    "start_time": "2022-02-26T02:34:31.878Z"
   },
   {
    "duration": 10,
    "start_time": "2022-02-26T02:34:31.923Z"
   },
   {
    "duration": 25,
    "start_time": "2022-02-26T02:34:31.935Z"
   },
   {
    "duration": 47,
    "start_time": "2022-02-26T02:34:31.963Z"
   },
   {
    "duration": 14,
    "start_time": "2022-02-26T02:34:32.013Z"
   },
   {
    "duration": 8,
    "start_time": "2022-02-26T02:34:32.030Z"
   },
   {
    "duration": 33,
    "start_time": "2022-02-26T02:34:32.040Z"
   },
   {
    "duration": 20035,
    "start_time": "2022-02-26T02:34:32.075Z"
   },
   {
    "duration": 74,
    "start_time": "2022-02-26T02:34:52.113Z"
   },
   {
    "duration": 25,
    "start_time": "2022-02-26T02:34:52.190Z"
   },
   {
    "duration": 13,
    "start_time": "2022-02-26T02:34:52.218Z"
   },
   {
    "duration": 22,
    "start_time": "2022-02-26T02:34:52.234Z"
   },
   {
    "duration": 12378,
    "start_time": "2022-02-26T02:34:52.258Z"
   },
   {
    "duration": 45,
    "start_time": "2022-02-26T02:35:04.638Z"
   },
   {
    "duration": 26,
    "start_time": "2022-02-26T02:35:04.685Z"
   },
   {
    "duration": 10,
    "start_time": "2022-02-26T02:35:04.713Z"
   },
   {
    "duration": 25,
    "start_time": "2022-02-26T02:35:04.725Z"
   },
   {
    "duration": 14323,
    "start_time": "2022-02-26T02:35:04.753Z"
   },
   {
    "duration": 58,
    "start_time": "2022-02-26T02:35:19.079Z"
   },
   {
    "duration": 20,
    "start_time": "2022-02-26T02:35:19.139Z"
   },
   {
    "duration": 16,
    "start_time": "2022-02-26T02:35:19.162Z"
   },
   {
    "duration": 42,
    "start_time": "2022-02-26T02:35:19.181Z"
   },
   {
    "duration": 45,
    "start_time": "2022-02-26T02:35:19.225Z"
   },
   {
    "duration": 8,
    "start_time": "2022-02-26T02:35:19.272Z"
   },
   {
    "duration": 31,
    "start_time": "2022-02-26T02:35:19.282Z"
   },
   {
    "duration": 7,
    "start_time": "2022-02-26T02:35:19.315Z"
   },
   {
    "duration": 43,
    "start_time": "2022-02-26T02:35:19.324Z"
   },
   {
    "duration": 81,
    "start_time": "2022-02-26T02:35:19.370Z"
   },
   {
    "duration": 696,
    "start_time": "2022-02-26T02:35:19.454Z"
   },
   {
    "duration": 732,
    "start_time": "2022-02-26T02:35:20.152Z"
   },
   {
    "duration": 804,
    "start_time": "2022-02-26T02:35:20.886Z"
   },
   {
    "duration": 31,
    "start_time": "2022-02-26T02:35:21.693Z"
   },
   {
    "duration": 14,
    "start_time": "2022-02-26T02:35:21.728Z"
   },
   {
    "duration": 1229,
    "start_time": "2022-04-06T09:00:36.838Z"
   },
   {
    "duration": 167,
    "start_time": "2022-04-06T09:00:38.069Z"
   },
   {
    "duration": 140,
    "start_time": "2022-04-06T09:00:38.237Z"
   },
   {
    "duration": 97,
    "start_time": "2022-04-06T09:00:38.379Z"
   },
   {
    "duration": 15,
    "start_time": "2022-04-06T09:00:38.478Z"
   },
   {
    "duration": 34,
    "start_time": "2022-04-06T09:00:38.494Z"
   },
   {
    "duration": 27,
    "start_time": "2022-04-06T09:00:38.530Z"
   },
   {
    "duration": 22,
    "start_time": "2022-04-06T09:00:38.559Z"
   },
   {
    "duration": 45,
    "start_time": "2022-04-06T09:00:38.583Z"
   },
   {
    "duration": 11,
    "start_time": "2022-04-06T09:00:38.631Z"
   },
   {
    "duration": 11,
    "start_time": "2022-04-06T09:00:38.645Z"
   },
   {
    "duration": 4,
    "start_time": "2022-04-06T09:00:38.658Z"
   },
   {
    "duration": 6,
    "start_time": "2022-04-06T09:00:38.664Z"
   },
   {
    "duration": 6,
    "start_time": "2022-04-06T09:00:38.671Z"
   },
   {
    "duration": 10,
    "start_time": "2022-04-06T09:00:38.710Z"
   },
   {
    "duration": 9,
    "start_time": "2022-04-06T09:00:38.723Z"
   },
   {
    "duration": 28,
    "start_time": "2022-04-06T09:00:38.734Z"
   },
   {
    "duration": 4,
    "start_time": "2022-04-06T09:00:38.763Z"
   },
   {
    "duration": 7,
    "start_time": "2022-04-06T09:00:38.769Z"
   },
   {
    "duration": 8,
    "start_time": "2022-04-06T09:00:38.778Z"
   },
   {
    "duration": 6,
    "start_time": "2022-04-06T09:00:38.810Z"
   },
   {
    "duration": 10,
    "start_time": "2022-04-06T09:00:38.818Z"
   },
   {
    "duration": 37,
    "start_time": "2022-04-06T09:00:38.830Z"
   },
   {
    "duration": 66,
    "start_time": "2022-04-06T09:00:38.869Z"
   },
   {
    "duration": 24,
    "start_time": "2022-04-06T09:00:38.937Z"
   },
   {
    "duration": 6,
    "start_time": "2022-04-06T09:00:38.963Z"
   },
   {
    "duration": 11,
    "start_time": "2022-04-06T09:00:38.971Z"
   },
   {
    "duration": 30,
    "start_time": "2022-04-06T09:00:38.987Z"
   },
   {
    "duration": 18,
    "start_time": "2022-04-06T09:00:39.021Z"
   },
   {
    "duration": 29,
    "start_time": "2022-04-06T09:00:39.041Z"
   },
   {
    "duration": 11,
    "start_time": "2022-04-06T09:00:39.071Z"
   },
   {
    "duration": 26,
    "start_time": "2022-04-06T09:00:39.084Z"
   },
   {
    "duration": 28,
    "start_time": "2022-04-06T09:00:39.112Z"
   },
   {
    "duration": 8637,
    "start_time": "2022-04-06T09:00:39.142Z"
   },
   {
    "duration": 71,
    "start_time": "2022-04-06T09:00:47.781Z"
   },
   {
    "duration": 13,
    "start_time": "2022-04-06T09:00:47.854Z"
   },
   {
    "duration": 7,
    "start_time": "2022-04-06T09:00:47.869Z"
   },
   {
    "duration": 38,
    "start_time": "2022-04-06T09:00:47.878Z"
   },
   {
    "duration": 6176,
    "start_time": "2022-04-06T09:00:47.918Z"
   },
   {
    "duration": 42,
    "start_time": "2022-04-06T09:00:54.096Z"
   },
   {
    "duration": 11,
    "start_time": "2022-04-06T09:00:54.139Z"
   },
   {
    "duration": 8,
    "start_time": "2022-04-06T09:00:54.152Z"
   },
   {
    "duration": 21,
    "start_time": "2022-04-06T09:00:54.162Z"
   },
   {
    "duration": 4483,
    "start_time": "2022-04-06T09:00:54.185Z"
   },
   {
    "duration": 27,
    "start_time": "2022-04-06T09:00:58.670Z"
   },
   {
    "duration": 25,
    "start_time": "2022-04-06T09:00:58.698Z"
   },
   {
    "duration": 6,
    "start_time": "2022-04-06T09:00:58.725Z"
   },
   {
    "duration": 16,
    "start_time": "2022-04-06T09:00:58.732Z"
   },
   {
    "duration": 61,
    "start_time": "2022-04-06T09:00:58.750Z"
   },
   {
    "duration": 9,
    "start_time": "2022-04-06T09:00:58.813Z"
   },
   {
    "duration": 7,
    "start_time": "2022-04-06T09:00:58.824Z"
   },
   {
    "duration": 10,
    "start_time": "2022-04-06T09:00:58.833Z"
   },
   {
    "duration": 29,
    "start_time": "2022-04-06T09:00:58.844Z"
   },
   {
    "duration": 62,
    "start_time": "2022-04-06T09:00:58.875Z"
   },
   {
    "duration": 560,
    "start_time": "2022-04-06T09:00:58.939Z"
   },
   {
    "duration": 584,
    "start_time": "2022-04-06T09:00:59.500Z"
   },
   {
    "duration": 618,
    "start_time": "2022-04-06T09:01:00.086Z"
   },
   {
    "duration": 20,
    "start_time": "2022-04-06T09:01:00.705Z"
   },
   {
    "duration": 43,
    "start_time": "2022-04-06T09:01:00.727Z"
   }
  ],
  "kernelspec": {
   "display_name": "Python 3 (ipykernel)",
   "language": "python",
   "name": "python3"
  },
  "language_info": {
   "codemirror_mode": {
    "name": "ipython",
    "version": 3
   },
   "file_extension": ".py",
   "mimetype": "text/x-python",
   "name": "python",
   "nbconvert_exporter": "python",
   "pygments_lexer": "ipython3",
   "version": "3.9.7"
  },
  "toc": {
   "base_numbering": 1,
   "nav_menu": {},
   "number_sections": true,
   "sideBar": true,
   "skip_h1_title": true,
   "title_cell": "Содержание",
   "title_sidebar": "Contents",
   "toc_cell": true,
   "toc_position": {
    "height": "calc(100% - 180px)",
    "left": "10px",
    "top": "150px",
    "width": "297.917px"
   },
   "toc_section_display": true,
   "toc_window_display": true
  }
 },
 "nbformat": 4,
 "nbformat_minor": 2
}
