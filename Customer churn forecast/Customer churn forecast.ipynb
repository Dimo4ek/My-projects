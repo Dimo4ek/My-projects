{
 "cells": [
  {
   "cell_type": "markdown",
   "metadata": {
    "toc": true
   },
   "source": [
    "<h1>Содержание<span class=\"tocSkip\"></span></h1>\n",
    "<div class=\"toc\"><ul class=\"toc-item\"><li><span><a href=\"#Подготовка-данных\" data-toc-modified-id=\"Подготовка-данных-1\"><span class=\"toc-item-num\">1&nbsp;&nbsp;</span>Подготовка данных</a></span><ul class=\"toc-item\"><li><span><a href=\"#Изучение-данных-из-файла\" data-toc-modified-id=\"Изучение-данных-из-файла-1.1\"><span class=\"toc-item-num\">1.1&nbsp;&nbsp;</span>Изучение данных из файла</a></span></li><li><span><a href=\"#Обработка-пропусков\" data-toc-modified-id=\"Обработка-пропусков-1.2\"><span class=\"toc-item-num\">1.2&nbsp;&nbsp;</span>Обработка пропусков</a></span></li><li><span><a href=\"#Удаление-лишних-признаков\" data-toc-modified-id=\"Удаление-лишних-признаков-1.3\"><span class=\"toc-item-num\">1.3&nbsp;&nbsp;</span>Удаление лишних признаков</a></span></li><li><span><a href=\"#Преобразование-категориальных-признаков-в-численные\" data-toc-modified-id=\"Преобразование-категориальных-признаков-в-численные-1.4\"><span class=\"toc-item-num\">1.4&nbsp;&nbsp;</span>Преобразование категориальных признаков в численные</a></span></li><li><span><a href=\"#Разобьём-данные-на-выборки\" data-toc-modified-id=\"Разобьём-данные-на-выборки-1.5\"><span class=\"toc-item-num\">1.5&nbsp;&nbsp;</span>Разобьём данные на выборки</a></span></li><li><span><a href=\"#Масштабируем-признаки\" data-toc-modified-id=\"Масштабируем-признаки-1.6\"><span class=\"toc-item-num\">1.6&nbsp;&nbsp;</span>Масштабируем признаки</a></span></li></ul></li><li><span><a href=\"#Исследование-задачи\" data-toc-modified-id=\"Исследование-задачи-2\"><span class=\"toc-item-num\">2&nbsp;&nbsp;</span>Исследование задачи</a></span><ul class=\"toc-item\"><li><span><a href=\"#Исследуем-баланс-классов\" data-toc-modified-id=\"Исследуем-баланс-классов-2.1\"><span class=\"toc-item-num\">2.1&nbsp;&nbsp;</span>Исследуем баланс классов</a></span></li><li><span><a href=\"#Обучающее-дерево-без-учёта-дисбаланса-классов\" data-toc-modified-id=\"Обучающее-дерево-без-учёта-дисбаланса-классов-2.2\"><span class=\"toc-item-num\">2.2&nbsp;&nbsp;</span>Обучающее дерево без учёта дисбаланса классов</a></span></li><li><span><a href=\"#Случайный-лес-без-учёта-дисбаланса-классов\" data-toc-modified-id=\"Случайный-лес-без-учёта-дисбаланса-классов-2.3\"><span class=\"toc-item-num\">2.3&nbsp;&nbsp;</span>Случайный лес без учёта дисбаланса классов</a></span></li></ul></li><li><span><a href=\"#Борьба-с-дисбалансом\" data-toc-modified-id=\"Борьба-с-дисбалансом-3\"><span class=\"toc-item-num\">3&nbsp;&nbsp;</span>Борьба с дисбалансом</a></span><ul class=\"toc-item\"><li><span><a href=\"#Обучающее-дерево-с-учётом-дисбаланса\" data-toc-modified-id=\"Обучающее-дерево-с-учётом-дисбаланса-3.1\"><span class=\"toc-item-num\">3.1&nbsp;&nbsp;</span>Обучающее дерево с учётом дисбаланса</a></span></li><li><span><a href=\"#Случайный-лес\" data-toc-modified-id=\"Случайный-лес-3.2\"><span class=\"toc-item-num\">3.2&nbsp;&nbsp;</span>Случайный лес</a></span></li><li><span><a href=\"#Логистическая-регрессия-со-взвешиванием-классов\" data-toc-modified-id=\"Логистическая-регрессия-со-взвешиванием-классов-3.3\"><span class=\"toc-item-num\">3.3&nbsp;&nbsp;</span>Логистическая регрессия со взвешиванием классов</a></span></li><li><span><a href=\"#Логистическая-регрессия-с-увеличением-выборки\" data-toc-modified-id=\"Логистическая-регрессия-с-увеличением-выборки-3.4\"><span class=\"toc-item-num\">3.4&nbsp;&nbsp;</span>Логистическая регрессия с увеличением выборки</a></span></li><li><span><a href=\"#Случайный-лес-с-увеличением-выборки\" data-toc-modified-id=\"Случайный-лес-с-увеличением-выборки-3.5\"><span class=\"toc-item-num\">3.5&nbsp;&nbsp;</span>Случайный лес с увеличением выборки</a></span></li><li><span><a href=\"#Обучающее-дерево-с-увеличением-выборки\" data-toc-modified-id=\"Обучающее-дерево-с-увеличением-выборки-3.6\"><span class=\"toc-item-num\">3.6&nbsp;&nbsp;</span>Обучающее дерево с увеличением выборки</a></span></li></ul></li><li><span><a href=\"#Тестирование-модели\" data-toc-modified-id=\"Тестирование-модели-4\"><span class=\"toc-item-num\">4&nbsp;&nbsp;</span>Тестирование модели</a></span><ul class=\"toc-item\"><li><span><a href=\"#Тестирование-моделей-с-обучением-только-на-обучающей-выбоке\" data-toc-modified-id=\"Тестирование-моделей-с-обучением-только-на-обучающей-выбоке-4.1\"><span class=\"toc-item-num\">4.1&nbsp;&nbsp;</span>Тестирование моделей с обучением только на обучающей выбоке</a></span></li><li><span><a href=\"#Тестирование-модели-с-обучением-на-обучающей-и-валидационных-выбоках\" data-toc-modified-id=\"Тестирование-модели-с-обучением-на-обучающей-и-валидационных-выбоках-4.2\"><span class=\"toc-item-num\">4.2&nbsp;&nbsp;</span>Тестирование модели с обучением на обучающей и валидационных выбоках</a></span></li></ul></li><li><span><a href=\"#Чек-лист-готовности-проекта\" data-toc-modified-id=\"Чек-лист-готовности-проекта-5\"><span class=\"toc-item-num\">5&nbsp;&nbsp;</span>Чек-лист готовности проекта</a></span></li></ul></div>"
   ]
  },
  {
   "cell_type": "markdown",
   "metadata": {},
   "source": [
    "# Прогноз ухода клиентов"
   ]
  },
  {
   "cell_type": "markdown",
   "metadata": {},
   "source": [
    "Из банка заказчика стали уходить клиенты. Уход не массовый, но скорость оттока  клиентов стала больше, чем раньше. Банковские маркетологи посчитали: сохранять текущих клиентов дешевле, чем привлекать новых.\n",
    "\n",
    "Нужно спрогнозировать, уйдёт клиент из банка в ближайшее время или нет. Вам предоставлены исторические данные о поведении клиентов и расторжении договоров с банком. \n",
    "\n",
    "Нужно построить модель с предельно большим значением *F1*-меры. Метрика должна быть не меньше 0.59. \n",
    "\n",
    "Дополнительно нужно измерять *AUC-ROC*, сравнивайте её значение с *F1*-мерой.\n",
    "\n",
    "Источник данных: [https://www.kaggle.com/barelydedicated/bank-customer-churn-modeling](https://www.kaggle.com/barelydedicated/bank-customer-churn-modeling)"
   ]
  },
  {
   "cell_type": "markdown",
   "metadata": {},
   "source": [
    "## Подготовка данных"
   ]
  },
  {
   "cell_type": "markdown",
   "metadata": {},
   "source": [
    "### Изучение данных из файла"
   ]
  },
  {
   "cell_type": "markdown",
   "metadata": {},
   "source": [
    "Чтобы изучить данные таблицы, сделать необходимые рассчёты и провести исследование сразу импортируем библиотеки, который нам потребуются в данном проекте:"
   ]
  },
  {
   "cell_type": "code",
   "execution_count": 1,
   "metadata": {},
   "outputs": [],
   "source": [
    "from io import BytesIO\n",
    "from sklearn.dummy import DummyClassifier # импортируем алгоритм Dummy библиотеки sklearn\n",
    "from sklearn.ensemble import RandomForestClassifier # импортируем алгоритм случайный лес библиотеки sklearn \n",
    "from sklearn.linear_model import LogisticRegression # импортируем алгоритм логистическую регрессию библиотеки sklearn \n",
    "from sklearn.metrics import accuracy_score # импортируем функцию оценки правильности библиотеки sklearn\n",
    "from sklearn.metrics import confusion_matrix # импортируем функцию из библиотеки sklearn для рассчёта матрицы ошибок\n",
    "from sklearn.metrics import f1_score # импортируем функцию из библиотеки sklearn для рассчёта F1-меры\n",
    "from sklearn.metrics import mean_squared_error # импортируем функцию для рассчёта среднеквадратичной ошибки\n",
    "from sklearn.metrics import precision_score # импортируем функцию из библиотеки sklearn для рассчёта точности\n",
    "from sklearn.metrics import recall_score # импортируем функцию из библиотеки sklearn для рассчёта полноты\n",
    "from sklearn.metrics import roc_auc_score # импортируем функцию из библиотеки sklearn для рассчёта AUC-ROC\n",
    "from sklearn.metrics import roc_curve # импортируем функцию из библиотеки sklearn для построения ROC-кривой\n",
    "from sklearn.model_selection import train_test_split # импортируем функцию для разбиения датасета на разные типы выборок\n",
    "from sklearn.preprocessing import StandardScaler # импортируем алгоритм для масштабирования признаков\n",
    "from sklearn.tree import DecisionTreeClassifier # импортируем алгоритм обучающее дерево библиотеки sklearn  \n",
    "from sklearn.utils import shuffle # импортируем функцию для перемешивания признаков при увеличении выборки\n",
    "\n",
    "import matplotlib.pyplot as plt  # импорт библиотеки matplotlib.pyplot\n",
    "import numpy as np # импорт библиотеки numpy\n",
    "import pandas as pd # импорт библиотеки pandas\n",
    "import requests"
   ]
  },
  {
   "cell_type": "markdown",
   "metadata": {},
   "source": [
    "Напишем функцию, чтобы прочитать и сохранить данные из Google Sheets"
   ]
  },
  {
   "cell_type": "code",
   "execution_count": 2,
   "metadata": {},
   "outputs": [],
   "source": [
    "def table(spreadsheet_id):\n",
    "    spreadsheet_id = spreadsheet_id\n",
    "    file_name = 'https://docs.google.com/spreadsheets/d/{}/export?format=csv'.format(spreadsheet_id)\n",
    "    r = requests.get(file_name)\n",
    "    table = pd.read_csv(BytesIO(r.content))\n",
    "    return table"
   ]
  },
  {
   "cell_type": "markdown",
   "metadata": {},
   "source": [
    "Прочитаем и сохраним файл, который предоставил заказчик"
   ]
  },
  {
   "cell_type": "code",
   "execution_count": 3,
   "metadata": {},
   "outputs": [
    {
     "data": {
      "text/html": [
       "<div>\n",
       "<style scoped>\n",
       "    .dataframe tbody tr th:only-of-type {\n",
       "        vertical-align: middle;\n",
       "    }\n",
       "\n",
       "    .dataframe tbody tr th {\n",
       "        vertical-align: top;\n",
       "    }\n",
       "\n",
       "    .dataframe thead th {\n",
       "        text-align: right;\n",
       "    }\n",
       "</style>\n",
       "<table border=\"1\" class=\"dataframe\">\n",
       "  <thead>\n",
       "    <tr style=\"text-align: right;\">\n",
       "      <th></th>\n",
       "      <th>RowNumber</th>\n",
       "      <th>CustomerId</th>\n",
       "      <th>Surname</th>\n",
       "      <th>CreditScore</th>\n",
       "      <th>Geography</th>\n",
       "      <th>Gender</th>\n",
       "      <th>Age</th>\n",
       "      <th>Tenure</th>\n",
       "      <th>Balance</th>\n",
       "      <th>NumOfProducts</th>\n",
       "      <th>HasCrCard</th>\n",
       "      <th>IsActiveMember</th>\n",
       "      <th>EstimatedSalary</th>\n",
       "      <th>Exited</th>\n",
       "    </tr>\n",
       "  </thead>\n",
       "  <tbody>\n",
       "    <tr>\n",
       "      <th>0</th>\n",
       "      <td>1</td>\n",
       "      <td>15634602</td>\n",
       "      <td>Hargrave</td>\n",
       "      <td>619</td>\n",
       "      <td>France</td>\n",
       "      <td>Female</td>\n",
       "      <td>42</td>\n",
       "      <td>2.0</td>\n",
       "      <td>0.00</td>\n",
       "      <td>1</td>\n",
       "      <td>1</td>\n",
       "      <td>1</td>\n",
       "      <td>101348.88</td>\n",
       "      <td>1</td>\n",
       "    </tr>\n",
       "    <tr>\n",
       "      <th>1</th>\n",
       "      <td>2</td>\n",
       "      <td>15647311</td>\n",
       "      <td>Hill</td>\n",
       "      <td>608</td>\n",
       "      <td>Spain</td>\n",
       "      <td>Female</td>\n",
       "      <td>41</td>\n",
       "      <td>1.0</td>\n",
       "      <td>83807.86</td>\n",
       "      <td>1</td>\n",
       "      <td>0</td>\n",
       "      <td>1</td>\n",
       "      <td>112542.58</td>\n",
       "      <td>0</td>\n",
       "    </tr>\n",
       "    <tr>\n",
       "      <th>2</th>\n",
       "      <td>3</td>\n",
       "      <td>15619304</td>\n",
       "      <td>Onio</td>\n",
       "      <td>502</td>\n",
       "      <td>France</td>\n",
       "      <td>Female</td>\n",
       "      <td>42</td>\n",
       "      <td>8.0</td>\n",
       "      <td>159660.80</td>\n",
       "      <td>3</td>\n",
       "      <td>1</td>\n",
       "      <td>0</td>\n",
       "      <td>113931.57</td>\n",
       "      <td>1</td>\n",
       "    </tr>\n",
       "    <tr>\n",
       "      <th>3</th>\n",
       "      <td>4</td>\n",
       "      <td>15701354</td>\n",
       "      <td>Boni</td>\n",
       "      <td>699</td>\n",
       "      <td>France</td>\n",
       "      <td>Female</td>\n",
       "      <td>39</td>\n",
       "      <td>1.0</td>\n",
       "      <td>0.00</td>\n",
       "      <td>2</td>\n",
       "      <td>0</td>\n",
       "      <td>0</td>\n",
       "      <td>93826.63</td>\n",
       "      <td>0</td>\n",
       "    </tr>\n",
       "    <tr>\n",
       "      <th>4</th>\n",
       "      <td>5</td>\n",
       "      <td>15737888</td>\n",
       "      <td>Mitchell</td>\n",
       "      <td>850</td>\n",
       "      <td>Spain</td>\n",
       "      <td>Female</td>\n",
       "      <td>43</td>\n",
       "      <td>2.0</td>\n",
       "      <td>125510.82</td>\n",
       "      <td>1</td>\n",
       "      <td>1</td>\n",
       "      <td>1</td>\n",
       "      <td>79084.10</td>\n",
       "      <td>0</td>\n",
       "    </tr>\n",
       "    <tr>\n",
       "      <th>5</th>\n",
       "      <td>6</td>\n",
       "      <td>15574012</td>\n",
       "      <td>Chu</td>\n",
       "      <td>645</td>\n",
       "      <td>Spain</td>\n",
       "      <td>Male</td>\n",
       "      <td>44</td>\n",
       "      <td>8.0</td>\n",
       "      <td>113755.78</td>\n",
       "      <td>2</td>\n",
       "      <td>1</td>\n",
       "      <td>0</td>\n",
       "      <td>149756.71</td>\n",
       "      <td>1</td>\n",
       "    </tr>\n",
       "    <tr>\n",
       "      <th>6</th>\n",
       "      <td>7</td>\n",
       "      <td>15592531</td>\n",
       "      <td>Bartlett</td>\n",
       "      <td>822</td>\n",
       "      <td>France</td>\n",
       "      <td>Male</td>\n",
       "      <td>50</td>\n",
       "      <td>7.0</td>\n",
       "      <td>0.00</td>\n",
       "      <td>2</td>\n",
       "      <td>1</td>\n",
       "      <td>1</td>\n",
       "      <td>10062.80</td>\n",
       "      <td>0</td>\n",
       "    </tr>\n",
       "    <tr>\n",
       "      <th>7</th>\n",
       "      <td>8</td>\n",
       "      <td>15656148</td>\n",
       "      <td>Obinna</td>\n",
       "      <td>376</td>\n",
       "      <td>Germany</td>\n",
       "      <td>Female</td>\n",
       "      <td>29</td>\n",
       "      <td>4.0</td>\n",
       "      <td>115046.74</td>\n",
       "      <td>4</td>\n",
       "      <td>1</td>\n",
       "      <td>0</td>\n",
       "      <td>119346.88</td>\n",
       "      <td>1</td>\n",
       "    </tr>\n",
       "    <tr>\n",
       "      <th>8</th>\n",
       "      <td>9</td>\n",
       "      <td>15792365</td>\n",
       "      <td>He</td>\n",
       "      <td>501</td>\n",
       "      <td>France</td>\n",
       "      <td>Male</td>\n",
       "      <td>44</td>\n",
       "      <td>4.0</td>\n",
       "      <td>142051.07</td>\n",
       "      <td>2</td>\n",
       "      <td>0</td>\n",
       "      <td>1</td>\n",
       "      <td>74940.50</td>\n",
       "      <td>0</td>\n",
       "    </tr>\n",
       "    <tr>\n",
       "      <th>9</th>\n",
       "      <td>10</td>\n",
       "      <td>15592389</td>\n",
       "      <td>H?</td>\n",
       "      <td>684</td>\n",
       "      <td>France</td>\n",
       "      <td>Male</td>\n",
       "      <td>27</td>\n",
       "      <td>2.0</td>\n",
       "      <td>134603.88</td>\n",
       "      <td>1</td>\n",
       "      <td>1</td>\n",
       "      <td>1</td>\n",
       "      <td>71725.73</td>\n",
       "      <td>0</td>\n",
       "    </tr>\n",
       "  </tbody>\n",
       "</table>\n",
       "</div>"
      ],
      "text/plain": [
       "   RowNumber  CustomerId   Surname  CreditScore Geography  Gender  Age  \\\n",
       "0          1    15634602  Hargrave          619    France  Female   42   \n",
       "1          2    15647311      Hill          608     Spain  Female   41   \n",
       "2          3    15619304      Onio          502    France  Female   42   \n",
       "3          4    15701354      Boni          699    France  Female   39   \n",
       "4          5    15737888  Mitchell          850     Spain  Female   43   \n",
       "5          6    15574012       Chu          645     Spain    Male   44   \n",
       "6          7    15592531  Bartlett          822    France    Male   50   \n",
       "7          8    15656148    Obinna          376   Germany  Female   29   \n",
       "8          9    15792365        He          501    France    Male   44   \n",
       "9         10    15592389        H?          684    France    Male   27   \n",
       "\n",
       "   Tenure    Balance  NumOfProducts  HasCrCard  IsActiveMember  \\\n",
       "0     2.0       0.00              1          1               1   \n",
       "1     1.0   83807.86              1          0               1   \n",
       "2     8.0  159660.80              3          1               0   \n",
       "3     1.0       0.00              2          0               0   \n",
       "4     2.0  125510.82              1          1               1   \n",
       "5     8.0  113755.78              2          1               0   \n",
       "6     7.0       0.00              2          1               1   \n",
       "7     4.0  115046.74              4          1               0   \n",
       "8     4.0  142051.07              2          0               1   \n",
       "9     2.0  134603.88              1          1               1   \n",
       "\n",
       "   EstimatedSalary  Exited  \n",
       "0        101348.88       1  \n",
       "1        112542.58       0  \n",
       "2        113931.57       1  \n",
       "3         93826.63       0  \n",
       "4         79084.10       0  \n",
       "5        149756.71       1  \n",
       "6         10062.80       0  \n",
       "7        119346.88       1  \n",
       "8         74940.50       0  \n",
       "9         71725.73       0  "
      ]
     },
     "execution_count": 3,
     "metadata": {},
     "output_type": "execute_result"
    }
   ],
   "source": [
    "df = table('1av3OuLdnvzLJDW0Rxlfc5k7iNhewMHnF') # чтение файла с данными и сохранение в df \n",
    "df.head(10) # получение первых 10 строк таблицы df"
   ]
  },
  {
   "cell_type": "markdown",
   "metadata": {},
   "source": [
    "Получим общую информацию о таблице"
   ]
  },
  {
   "cell_type": "code",
   "execution_count": 4,
   "metadata": {},
   "outputs": [
    {
     "name": "stdout",
     "output_type": "stream",
     "text": [
      "<class 'pandas.core.frame.DataFrame'>\n",
      "RangeIndex: 10000 entries, 0 to 9999\n",
      "Data columns (total 14 columns):\n",
      " #   Column           Non-Null Count  Dtype  \n",
      "---  ------           --------------  -----  \n",
      " 0   RowNumber        10000 non-null  int64  \n",
      " 1   CustomerId       10000 non-null  int64  \n",
      " 2   Surname          10000 non-null  object \n",
      " 3   CreditScore      10000 non-null  int64  \n",
      " 4   Geography        10000 non-null  object \n",
      " 5   Gender           10000 non-null  object \n",
      " 6   Age              10000 non-null  int64  \n",
      " 7   Tenure           9091 non-null   float64\n",
      " 8   Balance          10000 non-null  float64\n",
      " 9   NumOfProducts    10000 non-null  int64  \n",
      " 10  HasCrCard        10000 non-null  int64  \n",
      " 11  IsActiveMember   10000 non-null  int64  \n",
      " 12  EstimatedSalary  10000 non-null  float64\n",
      " 13  Exited           10000 non-null  int64  \n",
      "dtypes: float64(3), int64(8), object(3)\n",
      "memory usage: 1.1+ MB\n"
     ]
    }
   ],
   "source": [
    "df.info() # получение общей информации о данных в таблице"
   ]
  },
  {
   "cell_type": "markdown",
   "metadata": {},
   "source": [
    "В таблице 14 столбцов. Типы данных в столбцах — `float`, `object` и `int`.\n",
    "\n",
    "Согласно документации к данным признаки:\n",
    "* RowNumber — индекс строки в данных\n",
    "* CustomerId — уникальный идентификатор клиента\n",
    "* Surname — фамилия\n",
    "* CreditScore — кредитный рейтинг\n",
    "* Geography — страна проживания\n",
    "* Gender — пол\n",
    "* Age — возраст\n",
    "* Tenure — сколько лет человек является клиентом банка\n",
    "* Balance — баланс на счёте\n",
    "* NumOfProducts — количество продуктов банка, используемых клиентом\n",
    "* HasCrCard — наличие кредитной карты\n",
    "* IsActiveMember — активность клиента\n",
    "* EstimatedSalary — предполагаемая зарплата\n",
    "\n",
    "Целевой признак:\n",
    "* Exited — факт ухода клиента\n"
   ]
  },
  {
   "cell_type": "code",
   "execution_count": 5,
   "metadata": {},
   "outputs": [
    {
     "data": {
      "text/html": [
       "<div>\n",
       "<style scoped>\n",
       "    .dataframe tbody tr th:only-of-type {\n",
       "        vertical-align: middle;\n",
       "    }\n",
       "\n",
       "    .dataframe tbody tr th {\n",
       "        vertical-align: top;\n",
       "    }\n",
       "\n",
       "    .dataframe thead th {\n",
       "        text-align: right;\n",
       "    }\n",
       "</style>\n",
       "<table border=\"1\" class=\"dataframe\">\n",
       "  <thead>\n",
       "    <tr style=\"text-align: right;\">\n",
       "      <th></th>\n",
       "      <th>RowNumber</th>\n",
       "      <th>CustomerId</th>\n",
       "      <th>CreditScore</th>\n",
       "      <th>Age</th>\n",
       "      <th>Tenure</th>\n",
       "      <th>Balance</th>\n",
       "      <th>NumOfProducts</th>\n",
       "      <th>HasCrCard</th>\n",
       "      <th>IsActiveMember</th>\n",
       "      <th>EstimatedSalary</th>\n",
       "      <th>Exited</th>\n",
       "    </tr>\n",
       "  </thead>\n",
       "  <tbody>\n",
       "    <tr>\n",
       "      <th>count</th>\n",
       "      <td>10000.00000</td>\n",
       "      <td>1.000000e+04</td>\n",
       "      <td>10000.000000</td>\n",
       "      <td>10000.000000</td>\n",
       "      <td>9091.000000</td>\n",
       "      <td>10000.000000</td>\n",
       "      <td>10000.000000</td>\n",
       "      <td>10000.00000</td>\n",
       "      <td>10000.000000</td>\n",
       "      <td>10000.000000</td>\n",
       "      <td>10000.000000</td>\n",
       "    </tr>\n",
       "    <tr>\n",
       "      <th>mean</th>\n",
       "      <td>5000.50000</td>\n",
       "      <td>1.569094e+07</td>\n",
       "      <td>650.528800</td>\n",
       "      <td>38.921800</td>\n",
       "      <td>4.997690</td>\n",
       "      <td>76485.889288</td>\n",
       "      <td>1.530200</td>\n",
       "      <td>0.70550</td>\n",
       "      <td>0.515100</td>\n",
       "      <td>100090.239881</td>\n",
       "      <td>0.203700</td>\n",
       "    </tr>\n",
       "    <tr>\n",
       "      <th>std</th>\n",
       "      <td>2886.89568</td>\n",
       "      <td>7.193619e+04</td>\n",
       "      <td>96.653299</td>\n",
       "      <td>10.487806</td>\n",
       "      <td>2.894723</td>\n",
       "      <td>62397.405202</td>\n",
       "      <td>0.581654</td>\n",
       "      <td>0.45584</td>\n",
       "      <td>0.499797</td>\n",
       "      <td>57510.492818</td>\n",
       "      <td>0.402769</td>\n",
       "    </tr>\n",
       "    <tr>\n",
       "      <th>min</th>\n",
       "      <td>1.00000</td>\n",
       "      <td>1.556570e+07</td>\n",
       "      <td>350.000000</td>\n",
       "      <td>18.000000</td>\n",
       "      <td>0.000000</td>\n",
       "      <td>0.000000</td>\n",
       "      <td>1.000000</td>\n",
       "      <td>0.00000</td>\n",
       "      <td>0.000000</td>\n",
       "      <td>11.580000</td>\n",
       "      <td>0.000000</td>\n",
       "    </tr>\n",
       "    <tr>\n",
       "      <th>25%</th>\n",
       "      <td>2500.75000</td>\n",
       "      <td>1.562853e+07</td>\n",
       "      <td>584.000000</td>\n",
       "      <td>32.000000</td>\n",
       "      <td>2.000000</td>\n",
       "      <td>0.000000</td>\n",
       "      <td>1.000000</td>\n",
       "      <td>0.00000</td>\n",
       "      <td>0.000000</td>\n",
       "      <td>51002.110000</td>\n",
       "      <td>0.000000</td>\n",
       "    </tr>\n",
       "    <tr>\n",
       "      <th>50%</th>\n",
       "      <td>5000.50000</td>\n",
       "      <td>1.569074e+07</td>\n",
       "      <td>652.000000</td>\n",
       "      <td>37.000000</td>\n",
       "      <td>5.000000</td>\n",
       "      <td>97198.540000</td>\n",
       "      <td>1.000000</td>\n",
       "      <td>1.00000</td>\n",
       "      <td>1.000000</td>\n",
       "      <td>100193.915000</td>\n",
       "      <td>0.000000</td>\n",
       "    </tr>\n",
       "    <tr>\n",
       "      <th>75%</th>\n",
       "      <td>7500.25000</td>\n",
       "      <td>1.575323e+07</td>\n",
       "      <td>718.000000</td>\n",
       "      <td>44.000000</td>\n",
       "      <td>7.000000</td>\n",
       "      <td>127644.240000</td>\n",
       "      <td>2.000000</td>\n",
       "      <td>1.00000</td>\n",
       "      <td>1.000000</td>\n",
       "      <td>149388.247500</td>\n",
       "      <td>0.000000</td>\n",
       "    </tr>\n",
       "    <tr>\n",
       "      <th>max</th>\n",
       "      <td>10000.00000</td>\n",
       "      <td>1.581569e+07</td>\n",
       "      <td>850.000000</td>\n",
       "      <td>92.000000</td>\n",
       "      <td>10.000000</td>\n",
       "      <td>250898.090000</td>\n",
       "      <td>4.000000</td>\n",
       "      <td>1.00000</td>\n",
       "      <td>1.000000</td>\n",
       "      <td>199992.480000</td>\n",
       "      <td>1.000000</td>\n",
       "    </tr>\n",
       "  </tbody>\n",
       "</table>\n",
       "</div>"
      ],
      "text/plain": [
       "         RowNumber    CustomerId   CreditScore           Age       Tenure  \\\n",
       "count  10000.00000  1.000000e+04  10000.000000  10000.000000  9091.000000   \n",
       "mean    5000.50000  1.569094e+07    650.528800     38.921800     4.997690   \n",
       "std     2886.89568  7.193619e+04     96.653299     10.487806     2.894723   \n",
       "min        1.00000  1.556570e+07    350.000000     18.000000     0.000000   \n",
       "25%     2500.75000  1.562853e+07    584.000000     32.000000     2.000000   \n",
       "50%     5000.50000  1.569074e+07    652.000000     37.000000     5.000000   \n",
       "75%     7500.25000  1.575323e+07    718.000000     44.000000     7.000000   \n",
       "max    10000.00000  1.581569e+07    850.000000     92.000000    10.000000   \n",
       "\n",
       "             Balance  NumOfProducts    HasCrCard  IsActiveMember  \\\n",
       "count   10000.000000   10000.000000  10000.00000    10000.000000   \n",
       "mean    76485.889288       1.530200      0.70550        0.515100   \n",
       "std     62397.405202       0.581654      0.45584        0.499797   \n",
       "min         0.000000       1.000000      0.00000        0.000000   \n",
       "25%         0.000000       1.000000      0.00000        0.000000   \n",
       "50%     97198.540000       1.000000      1.00000        1.000000   \n",
       "75%    127644.240000       2.000000      1.00000        1.000000   \n",
       "max    250898.090000       4.000000      1.00000        1.000000   \n",
       "\n",
       "       EstimatedSalary        Exited  \n",
       "count     10000.000000  10000.000000  \n",
       "mean     100090.239881      0.203700  \n",
       "std       57510.492818      0.402769  \n",
       "min          11.580000      0.000000  \n",
       "25%       51002.110000      0.000000  \n",
       "50%      100193.915000      0.000000  \n",
       "75%      149388.247500      0.000000  \n",
       "max      199992.480000      1.000000  "
      ]
     },
     "execution_count": 5,
     "metadata": {},
     "output_type": "execute_result"
    }
   ],
   "source": [
    "df.describe()"
   ]
  },
  {
   "cell_type": "markdown",
   "metadata": {},
   "source": [
    "**Вывод**\n",
    "<br><br>\n",
    "В каждой строке таблицы — данные о клиентах банка, наличие продуктов, активность и факт ухода клиента. \n",
    "<br><br>\n",
    "Предварительно можно утверждать, что, данных достаточно для построения моделей, их настройки и провеки. Но встречаются пропуски в данных.\n",
    "<br><br>\n",
    "Чтобы двигаться дальше, нужно устранить пропуски в данных."
   ]
  },
  {
   "cell_type": "markdown",
   "metadata": {},
   "source": [
    "### Обработка пропусков"
   ]
  },
  {
   "cell_type": "markdown",
   "metadata": {},
   "source": [
    "Сначала посчитаем, сколько в таблице пропущенных значений:"
   ]
  },
  {
   "cell_type": "code",
   "execution_count": 6,
   "metadata": {},
   "outputs": [
    {
     "data": {
      "text/plain": [
       "RowNumber            0\n",
       "CustomerId           0\n",
       "Surname              0\n",
       "CreditScore          0\n",
       "Geography            0\n",
       "Gender               0\n",
       "Age                  0\n",
       "Tenure             909\n",
       "Balance              0\n",
       "NumOfProducts        0\n",
       "HasCrCard            0\n",
       "IsActiveMember       0\n",
       "EstimatedSalary      0\n",
       "Exited               0\n",
       "dtype: int64"
      ]
     },
     "execution_count": 6,
     "metadata": {},
     "output_type": "execute_result"
    }
   ],
   "source": [
    "df.isna().sum() # подсчёт пропусков"
   ]
  },
  {
   "cell_type": "markdown",
   "metadata": {},
   "source": [
    "Посмотрим, что за пропуски в  столбце `Tenure`:"
   ]
  },
  {
   "cell_type": "code",
   "execution_count": 7,
   "metadata": {},
   "outputs": [
    {
     "data": {
      "text/html": [
       "<div>\n",
       "<style scoped>\n",
       "    .dataframe tbody tr th:only-of-type {\n",
       "        vertical-align: middle;\n",
       "    }\n",
       "\n",
       "    .dataframe tbody tr th {\n",
       "        vertical-align: top;\n",
       "    }\n",
       "\n",
       "    .dataframe thead th {\n",
       "        text-align: right;\n",
       "    }\n",
       "</style>\n",
       "<table border=\"1\" class=\"dataframe\">\n",
       "  <thead>\n",
       "    <tr style=\"text-align: right;\">\n",
       "      <th></th>\n",
       "      <th>RowNumber</th>\n",
       "      <th>CustomerId</th>\n",
       "      <th>Surname</th>\n",
       "      <th>CreditScore</th>\n",
       "      <th>Geography</th>\n",
       "      <th>Gender</th>\n",
       "      <th>Age</th>\n",
       "      <th>Tenure</th>\n",
       "      <th>Balance</th>\n",
       "      <th>NumOfProducts</th>\n",
       "      <th>HasCrCard</th>\n",
       "      <th>IsActiveMember</th>\n",
       "      <th>EstimatedSalary</th>\n",
       "      <th>Exited</th>\n",
       "    </tr>\n",
       "  </thead>\n",
       "  <tbody>\n",
       "    <tr>\n",
       "      <th>30</th>\n",
       "      <td>31</td>\n",
       "      <td>15589475</td>\n",
       "      <td>Azikiwe</td>\n",
       "      <td>591</td>\n",
       "      <td>Spain</td>\n",
       "      <td>Female</td>\n",
       "      <td>39</td>\n",
       "      <td>NaN</td>\n",
       "      <td>0.00</td>\n",
       "      <td>3</td>\n",
       "      <td>1</td>\n",
       "      <td>0</td>\n",
       "      <td>140469.38</td>\n",
       "      <td>1</td>\n",
       "    </tr>\n",
       "    <tr>\n",
       "      <th>48</th>\n",
       "      <td>49</td>\n",
       "      <td>15766205</td>\n",
       "      <td>Yin</td>\n",
       "      <td>550</td>\n",
       "      <td>Germany</td>\n",
       "      <td>Male</td>\n",
       "      <td>38</td>\n",
       "      <td>NaN</td>\n",
       "      <td>103391.38</td>\n",
       "      <td>1</td>\n",
       "      <td>0</td>\n",
       "      <td>1</td>\n",
       "      <td>90878.13</td>\n",
       "      <td>0</td>\n",
       "    </tr>\n",
       "    <tr>\n",
       "      <th>51</th>\n",
       "      <td>52</td>\n",
       "      <td>15768193</td>\n",
       "      <td>Trevisani</td>\n",
       "      <td>585</td>\n",
       "      <td>Germany</td>\n",
       "      <td>Male</td>\n",
       "      <td>36</td>\n",
       "      <td>NaN</td>\n",
       "      <td>146050.97</td>\n",
       "      <td>2</td>\n",
       "      <td>0</td>\n",
       "      <td>0</td>\n",
       "      <td>86424.57</td>\n",
       "      <td>0</td>\n",
       "    </tr>\n",
       "    <tr>\n",
       "      <th>53</th>\n",
       "      <td>54</td>\n",
       "      <td>15702298</td>\n",
       "      <td>Parkhill</td>\n",
       "      <td>655</td>\n",
       "      <td>Germany</td>\n",
       "      <td>Male</td>\n",
       "      <td>41</td>\n",
       "      <td>NaN</td>\n",
       "      <td>125561.97</td>\n",
       "      <td>1</td>\n",
       "      <td>0</td>\n",
       "      <td>0</td>\n",
       "      <td>164040.94</td>\n",
       "      <td>1</td>\n",
       "    </tr>\n",
       "    <tr>\n",
       "      <th>60</th>\n",
       "      <td>61</td>\n",
       "      <td>15651280</td>\n",
       "      <td>Hunter</td>\n",
       "      <td>742</td>\n",
       "      <td>Germany</td>\n",
       "      <td>Male</td>\n",
       "      <td>35</td>\n",
       "      <td>NaN</td>\n",
       "      <td>136857.00</td>\n",
       "      <td>1</td>\n",
       "      <td>0</td>\n",
       "      <td>0</td>\n",
       "      <td>84509.57</td>\n",
       "      <td>0</td>\n",
       "    </tr>\n",
       "    <tr>\n",
       "      <th>82</th>\n",
       "      <td>83</td>\n",
       "      <td>15641732</td>\n",
       "      <td>Mills</td>\n",
       "      <td>543</td>\n",
       "      <td>France</td>\n",
       "      <td>Female</td>\n",
       "      <td>36</td>\n",
       "      <td>NaN</td>\n",
       "      <td>0.00</td>\n",
       "      <td>2</td>\n",
       "      <td>0</td>\n",
       "      <td>0</td>\n",
       "      <td>26019.59</td>\n",
       "      <td>0</td>\n",
       "    </tr>\n",
       "    <tr>\n",
       "      <th>85</th>\n",
       "      <td>86</td>\n",
       "      <td>15805254</td>\n",
       "      <td>Ndukaku</td>\n",
       "      <td>652</td>\n",
       "      <td>Spain</td>\n",
       "      <td>Female</td>\n",
       "      <td>75</td>\n",
       "      <td>NaN</td>\n",
       "      <td>0.00</td>\n",
       "      <td>2</td>\n",
       "      <td>1</td>\n",
       "      <td>1</td>\n",
       "      <td>114675.75</td>\n",
       "      <td>0</td>\n",
       "    </tr>\n",
       "    <tr>\n",
       "      <th>94</th>\n",
       "      <td>95</td>\n",
       "      <td>15676966</td>\n",
       "      <td>Capon</td>\n",
       "      <td>730</td>\n",
       "      <td>Spain</td>\n",
       "      <td>Male</td>\n",
       "      <td>42</td>\n",
       "      <td>NaN</td>\n",
       "      <td>0.00</td>\n",
       "      <td>2</td>\n",
       "      <td>0</td>\n",
       "      <td>1</td>\n",
       "      <td>85982.47</td>\n",
       "      <td>0</td>\n",
       "    </tr>\n",
       "    <tr>\n",
       "      <th>99</th>\n",
       "      <td>100</td>\n",
       "      <td>15633059</td>\n",
       "      <td>Fanucci</td>\n",
       "      <td>413</td>\n",
       "      <td>France</td>\n",
       "      <td>Male</td>\n",
       "      <td>34</td>\n",
       "      <td>NaN</td>\n",
       "      <td>0.00</td>\n",
       "      <td>2</td>\n",
       "      <td>0</td>\n",
       "      <td>0</td>\n",
       "      <td>6534.18</td>\n",
       "      <td>0</td>\n",
       "    </tr>\n",
       "    <tr>\n",
       "      <th>111</th>\n",
       "      <td>112</td>\n",
       "      <td>15665790</td>\n",
       "      <td>Rowntree</td>\n",
       "      <td>538</td>\n",
       "      <td>Germany</td>\n",
       "      <td>Male</td>\n",
       "      <td>39</td>\n",
       "      <td>NaN</td>\n",
       "      <td>108055.10</td>\n",
       "      <td>2</td>\n",
       "      <td>1</td>\n",
       "      <td>0</td>\n",
       "      <td>27231.26</td>\n",
       "      <td>0</td>\n",
       "    </tr>\n",
       "  </tbody>\n",
       "</table>\n",
       "</div>"
      ],
      "text/plain": [
       "     RowNumber  CustomerId    Surname  CreditScore Geography  Gender  Age  \\\n",
       "30          31    15589475    Azikiwe          591     Spain  Female   39   \n",
       "48          49    15766205        Yin          550   Germany    Male   38   \n",
       "51          52    15768193  Trevisani          585   Germany    Male   36   \n",
       "53          54    15702298   Parkhill          655   Germany    Male   41   \n",
       "60          61    15651280     Hunter          742   Germany    Male   35   \n",
       "82          83    15641732      Mills          543    France  Female   36   \n",
       "85          86    15805254    Ndukaku          652     Spain  Female   75   \n",
       "94          95    15676966      Capon          730     Spain    Male   42   \n",
       "99         100    15633059    Fanucci          413    France    Male   34   \n",
       "111        112    15665790   Rowntree          538   Germany    Male   39   \n",
       "\n",
       "     Tenure    Balance  NumOfProducts  HasCrCard  IsActiveMember  \\\n",
       "30      NaN       0.00              3          1               0   \n",
       "48      NaN  103391.38              1          0               1   \n",
       "51      NaN  146050.97              2          0               0   \n",
       "53      NaN  125561.97              1          0               0   \n",
       "60      NaN  136857.00              1          0               0   \n",
       "82      NaN       0.00              2          0               0   \n",
       "85      NaN       0.00              2          1               1   \n",
       "94      NaN       0.00              2          0               1   \n",
       "99      NaN       0.00              2          0               0   \n",
       "111     NaN  108055.10              2          1               0   \n",
       "\n",
       "     EstimatedSalary  Exited  \n",
       "30         140469.38       1  \n",
       "48          90878.13       0  \n",
       "51          86424.57       0  \n",
       "53         164040.94       1  \n",
       "60          84509.57       0  \n",
       "82          26019.59       0  \n",
       "85         114675.75       0  \n",
       "94          85982.47       0  \n",
       "99           6534.18       0  \n",
       "111         27231.26       0  "
      ]
     },
     "execution_count": 7,
     "metadata": {},
     "output_type": "execute_result"
    }
   ],
   "source": [
    "df[df['Tenure'].isna()].head(10)"
   ]
  },
  {
   "cell_type": "markdown",
   "metadata": {},
   "source": [
    "Посмотрим какие значения имеются в столбце `Tenure`:"
   ]
  },
  {
   "cell_type": "code",
   "execution_count": 8,
   "metadata": {},
   "outputs": [
    {
     "data": {
      "text/plain": [
       "1.0     952\n",
       "2.0     950\n",
       "8.0     933\n",
       "3.0     928\n",
       "5.0     927\n",
       "7.0     925\n",
       "4.0     885\n",
       "9.0     882\n",
       "6.0     881\n",
       "10.0    446\n",
       "0.0     382\n",
       "Name: Tenure, dtype: int64"
      ]
     },
     "execution_count": 8,
     "metadata": {},
     "output_type": "execute_result"
    }
   ],
   "source": [
    "df['Tenure'].value_counts()"
   ]
  },
  {
   "cell_type": "markdown",
   "metadata": {},
   "source": [
    "Заменим пропуски в столбце `Tenure` на медианное значение столбца:"
   ]
  },
  {
   "cell_type": "code",
   "execution_count": 9,
   "metadata": {
    "scrolled": false
   },
   "outputs": [
    {
     "data": {
      "text/html": [
       "<div>\n",
       "<style scoped>\n",
       "    .dataframe tbody tr th:only-of-type {\n",
       "        vertical-align: middle;\n",
       "    }\n",
       "\n",
       "    .dataframe tbody tr th {\n",
       "        vertical-align: top;\n",
       "    }\n",
       "\n",
       "    .dataframe thead th {\n",
       "        text-align: right;\n",
       "    }\n",
       "</style>\n",
       "<table border=\"1\" class=\"dataframe\">\n",
       "  <thead>\n",
       "    <tr style=\"text-align: right;\">\n",
       "      <th></th>\n",
       "      <th>RowNumber</th>\n",
       "      <th>CustomerId</th>\n",
       "      <th>Surname</th>\n",
       "      <th>CreditScore</th>\n",
       "      <th>Geography</th>\n",
       "      <th>Gender</th>\n",
       "      <th>Age</th>\n",
       "      <th>Tenure</th>\n",
       "      <th>Balance</th>\n",
       "      <th>NumOfProducts</th>\n",
       "      <th>HasCrCard</th>\n",
       "      <th>IsActiveMember</th>\n",
       "      <th>EstimatedSalary</th>\n",
       "      <th>Exited</th>\n",
       "    </tr>\n",
       "  </thead>\n",
       "  <tbody>\n",
       "    <tr>\n",
       "      <th>0</th>\n",
       "      <td>1</td>\n",
       "      <td>15634602</td>\n",
       "      <td>Hargrave</td>\n",
       "      <td>619</td>\n",
       "      <td>France</td>\n",
       "      <td>Female</td>\n",
       "      <td>42</td>\n",
       "      <td>2.0</td>\n",
       "      <td>0.00</td>\n",
       "      <td>1</td>\n",
       "      <td>1</td>\n",
       "      <td>1</td>\n",
       "      <td>101348.88</td>\n",
       "      <td>1</td>\n",
       "    </tr>\n",
       "    <tr>\n",
       "      <th>1</th>\n",
       "      <td>2</td>\n",
       "      <td>15647311</td>\n",
       "      <td>Hill</td>\n",
       "      <td>608</td>\n",
       "      <td>Spain</td>\n",
       "      <td>Female</td>\n",
       "      <td>41</td>\n",
       "      <td>1.0</td>\n",
       "      <td>83807.86</td>\n",
       "      <td>1</td>\n",
       "      <td>0</td>\n",
       "      <td>1</td>\n",
       "      <td>112542.58</td>\n",
       "      <td>0</td>\n",
       "    </tr>\n",
       "    <tr>\n",
       "      <th>2</th>\n",
       "      <td>3</td>\n",
       "      <td>15619304</td>\n",
       "      <td>Onio</td>\n",
       "      <td>502</td>\n",
       "      <td>France</td>\n",
       "      <td>Female</td>\n",
       "      <td>42</td>\n",
       "      <td>8.0</td>\n",
       "      <td>159660.80</td>\n",
       "      <td>3</td>\n",
       "      <td>1</td>\n",
       "      <td>0</td>\n",
       "      <td>113931.57</td>\n",
       "      <td>1</td>\n",
       "    </tr>\n",
       "    <tr>\n",
       "      <th>3</th>\n",
       "      <td>4</td>\n",
       "      <td>15701354</td>\n",
       "      <td>Boni</td>\n",
       "      <td>699</td>\n",
       "      <td>France</td>\n",
       "      <td>Female</td>\n",
       "      <td>39</td>\n",
       "      <td>1.0</td>\n",
       "      <td>0.00</td>\n",
       "      <td>2</td>\n",
       "      <td>0</td>\n",
       "      <td>0</td>\n",
       "      <td>93826.63</td>\n",
       "      <td>0</td>\n",
       "    </tr>\n",
       "    <tr>\n",
       "      <th>4</th>\n",
       "      <td>5</td>\n",
       "      <td>15737888</td>\n",
       "      <td>Mitchell</td>\n",
       "      <td>850</td>\n",
       "      <td>Spain</td>\n",
       "      <td>Female</td>\n",
       "      <td>43</td>\n",
       "      <td>2.0</td>\n",
       "      <td>125510.82</td>\n",
       "      <td>1</td>\n",
       "      <td>1</td>\n",
       "      <td>1</td>\n",
       "      <td>79084.10</td>\n",
       "      <td>0</td>\n",
       "    </tr>\n",
       "    <tr>\n",
       "      <th>5</th>\n",
       "      <td>6</td>\n",
       "      <td>15574012</td>\n",
       "      <td>Chu</td>\n",
       "      <td>645</td>\n",
       "      <td>Spain</td>\n",
       "      <td>Male</td>\n",
       "      <td>44</td>\n",
       "      <td>8.0</td>\n",
       "      <td>113755.78</td>\n",
       "      <td>2</td>\n",
       "      <td>1</td>\n",
       "      <td>0</td>\n",
       "      <td>149756.71</td>\n",
       "      <td>1</td>\n",
       "    </tr>\n",
       "    <tr>\n",
       "      <th>6</th>\n",
       "      <td>7</td>\n",
       "      <td>15592531</td>\n",
       "      <td>Bartlett</td>\n",
       "      <td>822</td>\n",
       "      <td>France</td>\n",
       "      <td>Male</td>\n",
       "      <td>50</td>\n",
       "      <td>7.0</td>\n",
       "      <td>0.00</td>\n",
       "      <td>2</td>\n",
       "      <td>1</td>\n",
       "      <td>1</td>\n",
       "      <td>10062.80</td>\n",
       "      <td>0</td>\n",
       "    </tr>\n",
       "    <tr>\n",
       "      <th>7</th>\n",
       "      <td>8</td>\n",
       "      <td>15656148</td>\n",
       "      <td>Obinna</td>\n",
       "      <td>376</td>\n",
       "      <td>Germany</td>\n",
       "      <td>Female</td>\n",
       "      <td>29</td>\n",
       "      <td>4.0</td>\n",
       "      <td>115046.74</td>\n",
       "      <td>4</td>\n",
       "      <td>1</td>\n",
       "      <td>0</td>\n",
       "      <td>119346.88</td>\n",
       "      <td>1</td>\n",
       "    </tr>\n",
       "    <tr>\n",
       "      <th>8</th>\n",
       "      <td>9</td>\n",
       "      <td>15792365</td>\n",
       "      <td>He</td>\n",
       "      <td>501</td>\n",
       "      <td>France</td>\n",
       "      <td>Male</td>\n",
       "      <td>44</td>\n",
       "      <td>4.0</td>\n",
       "      <td>142051.07</td>\n",
       "      <td>2</td>\n",
       "      <td>0</td>\n",
       "      <td>1</td>\n",
       "      <td>74940.50</td>\n",
       "      <td>0</td>\n",
       "    </tr>\n",
       "    <tr>\n",
       "      <th>9</th>\n",
       "      <td>10</td>\n",
       "      <td>15592389</td>\n",
       "      <td>H?</td>\n",
       "      <td>684</td>\n",
       "      <td>France</td>\n",
       "      <td>Male</td>\n",
       "      <td>27</td>\n",
       "      <td>2.0</td>\n",
       "      <td>134603.88</td>\n",
       "      <td>1</td>\n",
       "      <td>1</td>\n",
       "      <td>1</td>\n",
       "      <td>71725.73</td>\n",
       "      <td>0</td>\n",
       "    </tr>\n",
       "  </tbody>\n",
       "</table>\n",
       "</div>"
      ],
      "text/plain": [
       "   RowNumber  CustomerId   Surname  CreditScore Geography  Gender  Age  \\\n",
       "0          1    15634602  Hargrave          619    France  Female   42   \n",
       "1          2    15647311      Hill          608     Spain  Female   41   \n",
       "2          3    15619304      Onio          502    France  Female   42   \n",
       "3          4    15701354      Boni          699    France  Female   39   \n",
       "4          5    15737888  Mitchell          850     Spain  Female   43   \n",
       "5          6    15574012       Chu          645     Spain    Male   44   \n",
       "6          7    15592531  Bartlett          822    France    Male   50   \n",
       "7          8    15656148    Obinna          376   Germany  Female   29   \n",
       "8          9    15792365        He          501    France    Male   44   \n",
       "9         10    15592389        H?          684    France    Male   27   \n",
       "\n",
       "   Tenure    Balance  NumOfProducts  HasCrCard  IsActiveMember  \\\n",
       "0     2.0       0.00              1          1               1   \n",
       "1     1.0   83807.86              1          0               1   \n",
       "2     8.0  159660.80              3          1               0   \n",
       "3     1.0       0.00              2          0               0   \n",
       "4     2.0  125510.82              1          1               1   \n",
       "5     8.0  113755.78              2          1               0   \n",
       "6     7.0       0.00              2          1               1   \n",
       "7     4.0  115046.74              4          1               0   \n",
       "8     4.0  142051.07              2          0               1   \n",
       "9     2.0  134603.88              1          1               1   \n",
       "\n",
       "   EstimatedSalary  Exited  \n",
       "0        101348.88       1  \n",
       "1        112542.58       0  \n",
       "2        113931.57       1  \n",
       "3         93826.63       0  \n",
       "4         79084.10       0  \n",
       "5        149756.71       1  \n",
       "6         10062.80       0  \n",
       "7        119346.88       1  \n",
       "8         74940.50       0  \n",
       "9         71725.73       0  "
      ]
     },
     "execution_count": 9,
     "metadata": {},
     "output_type": "execute_result"
    }
   ],
   "source": [
    "df['Tenure'] = df['Tenure'].fillna(df['Tenure'].median())\n",
    "df.head(10)"
   ]
  },
  {
   "cell_type": "markdown",
   "metadata": {},
   "source": [
    "**Вывод**\n",
    "<br><br>\n",
    "Строки с пропусками в столбце по сроку обслуживания в банке `Tenure` не имеют какой-то закономерности в данных и скорее всего пропуски образовались из-за утери части данных при выгрузке. \n",
    "<br>Заменим пропуски в столбце по сроку обслуживания в банке на медианное значение столбца `Tenure`."
   ]
  },
  {
   "cell_type": "markdown",
   "metadata": {},
   "source": [
    "### Удаление лишних признаков"
   ]
  },
  {
   "cell_type": "markdown",
   "metadata": {},
   "source": [
    "Часть признаков `RowNumber, CustomerId и Surname` не имеют ценных данных для обучения модели, следовательно их можно удалить:"
   ]
  },
  {
   "cell_type": "code",
   "execution_count": 10,
   "metadata": {},
   "outputs": [
    {
     "data": {
      "text/html": [
       "<div>\n",
       "<style scoped>\n",
       "    .dataframe tbody tr th:only-of-type {\n",
       "        vertical-align: middle;\n",
       "    }\n",
       "\n",
       "    .dataframe tbody tr th {\n",
       "        vertical-align: top;\n",
       "    }\n",
       "\n",
       "    .dataframe thead th {\n",
       "        text-align: right;\n",
       "    }\n",
       "</style>\n",
       "<table border=\"1\" class=\"dataframe\">\n",
       "  <thead>\n",
       "    <tr style=\"text-align: right;\">\n",
       "      <th></th>\n",
       "      <th>CreditScore</th>\n",
       "      <th>Geography</th>\n",
       "      <th>Gender</th>\n",
       "      <th>Age</th>\n",
       "      <th>Tenure</th>\n",
       "      <th>Balance</th>\n",
       "      <th>NumOfProducts</th>\n",
       "      <th>HasCrCard</th>\n",
       "      <th>IsActiveMember</th>\n",
       "      <th>EstimatedSalary</th>\n",
       "      <th>Exited</th>\n",
       "    </tr>\n",
       "  </thead>\n",
       "  <tbody>\n",
       "    <tr>\n",
       "      <th>0</th>\n",
       "      <td>619</td>\n",
       "      <td>France</td>\n",
       "      <td>Female</td>\n",
       "      <td>42</td>\n",
       "      <td>2.0</td>\n",
       "      <td>0.00</td>\n",
       "      <td>1</td>\n",
       "      <td>1</td>\n",
       "      <td>1</td>\n",
       "      <td>101348.88</td>\n",
       "      <td>1</td>\n",
       "    </tr>\n",
       "    <tr>\n",
       "      <th>1</th>\n",
       "      <td>608</td>\n",
       "      <td>Spain</td>\n",
       "      <td>Female</td>\n",
       "      <td>41</td>\n",
       "      <td>1.0</td>\n",
       "      <td>83807.86</td>\n",
       "      <td>1</td>\n",
       "      <td>0</td>\n",
       "      <td>1</td>\n",
       "      <td>112542.58</td>\n",
       "      <td>0</td>\n",
       "    </tr>\n",
       "    <tr>\n",
       "      <th>2</th>\n",
       "      <td>502</td>\n",
       "      <td>France</td>\n",
       "      <td>Female</td>\n",
       "      <td>42</td>\n",
       "      <td>8.0</td>\n",
       "      <td>159660.80</td>\n",
       "      <td>3</td>\n",
       "      <td>1</td>\n",
       "      <td>0</td>\n",
       "      <td>113931.57</td>\n",
       "      <td>1</td>\n",
       "    </tr>\n",
       "    <tr>\n",
       "      <th>3</th>\n",
       "      <td>699</td>\n",
       "      <td>France</td>\n",
       "      <td>Female</td>\n",
       "      <td>39</td>\n",
       "      <td>1.0</td>\n",
       "      <td>0.00</td>\n",
       "      <td>2</td>\n",
       "      <td>0</td>\n",
       "      <td>0</td>\n",
       "      <td>93826.63</td>\n",
       "      <td>0</td>\n",
       "    </tr>\n",
       "    <tr>\n",
       "      <th>4</th>\n",
       "      <td>850</td>\n",
       "      <td>Spain</td>\n",
       "      <td>Female</td>\n",
       "      <td>43</td>\n",
       "      <td>2.0</td>\n",
       "      <td>125510.82</td>\n",
       "      <td>1</td>\n",
       "      <td>1</td>\n",
       "      <td>1</td>\n",
       "      <td>79084.10</td>\n",
       "      <td>0</td>\n",
       "    </tr>\n",
       "    <tr>\n",
       "      <th>5</th>\n",
       "      <td>645</td>\n",
       "      <td>Spain</td>\n",
       "      <td>Male</td>\n",
       "      <td>44</td>\n",
       "      <td>8.0</td>\n",
       "      <td>113755.78</td>\n",
       "      <td>2</td>\n",
       "      <td>1</td>\n",
       "      <td>0</td>\n",
       "      <td>149756.71</td>\n",
       "      <td>1</td>\n",
       "    </tr>\n",
       "    <tr>\n",
       "      <th>6</th>\n",
       "      <td>822</td>\n",
       "      <td>France</td>\n",
       "      <td>Male</td>\n",
       "      <td>50</td>\n",
       "      <td>7.0</td>\n",
       "      <td>0.00</td>\n",
       "      <td>2</td>\n",
       "      <td>1</td>\n",
       "      <td>1</td>\n",
       "      <td>10062.80</td>\n",
       "      <td>0</td>\n",
       "    </tr>\n",
       "    <tr>\n",
       "      <th>7</th>\n",
       "      <td>376</td>\n",
       "      <td>Germany</td>\n",
       "      <td>Female</td>\n",
       "      <td>29</td>\n",
       "      <td>4.0</td>\n",
       "      <td>115046.74</td>\n",
       "      <td>4</td>\n",
       "      <td>1</td>\n",
       "      <td>0</td>\n",
       "      <td>119346.88</td>\n",
       "      <td>1</td>\n",
       "    </tr>\n",
       "    <tr>\n",
       "      <th>8</th>\n",
       "      <td>501</td>\n",
       "      <td>France</td>\n",
       "      <td>Male</td>\n",
       "      <td>44</td>\n",
       "      <td>4.0</td>\n",
       "      <td>142051.07</td>\n",
       "      <td>2</td>\n",
       "      <td>0</td>\n",
       "      <td>1</td>\n",
       "      <td>74940.50</td>\n",
       "      <td>0</td>\n",
       "    </tr>\n",
       "    <tr>\n",
       "      <th>9</th>\n",
       "      <td>684</td>\n",
       "      <td>France</td>\n",
       "      <td>Male</td>\n",
       "      <td>27</td>\n",
       "      <td>2.0</td>\n",
       "      <td>134603.88</td>\n",
       "      <td>1</td>\n",
       "      <td>1</td>\n",
       "      <td>1</td>\n",
       "      <td>71725.73</td>\n",
       "      <td>0</td>\n",
       "    </tr>\n",
       "  </tbody>\n",
       "</table>\n",
       "</div>"
      ],
      "text/plain": [
       "   CreditScore Geography  Gender  Age  Tenure    Balance  NumOfProducts  \\\n",
       "0          619    France  Female   42     2.0       0.00              1   \n",
       "1          608     Spain  Female   41     1.0   83807.86              1   \n",
       "2          502    France  Female   42     8.0  159660.80              3   \n",
       "3          699    France  Female   39     1.0       0.00              2   \n",
       "4          850     Spain  Female   43     2.0  125510.82              1   \n",
       "5          645     Spain    Male   44     8.0  113755.78              2   \n",
       "6          822    France    Male   50     7.0       0.00              2   \n",
       "7          376   Germany  Female   29     4.0  115046.74              4   \n",
       "8          501    France    Male   44     4.0  142051.07              2   \n",
       "9          684    France    Male   27     2.0  134603.88              1   \n",
       "\n",
       "   HasCrCard  IsActiveMember  EstimatedSalary  Exited  \n",
       "0          1               1        101348.88       1  \n",
       "1          0               1        112542.58       0  \n",
       "2          1               0        113931.57       1  \n",
       "3          0               0         93826.63       0  \n",
       "4          1               1         79084.10       0  \n",
       "5          1               0        149756.71       1  \n",
       "6          1               1         10062.80       0  \n",
       "7          1               0        119346.88       1  \n",
       "8          0               1         74940.50       0  \n",
       "9          1               1         71725.73       0  "
      ]
     },
     "execution_count": 10,
     "metadata": {},
     "output_type": "execute_result"
    }
   ],
   "source": [
    "df = df.drop(['RowNumber', 'CustomerId', 'Surname'], axis = 1)\n",
    "df.head(10)"
   ]
  },
  {
   "cell_type": "markdown",
   "metadata": {},
   "source": [
    "**Вывод**\n",
    "<br><br>\n",
    "Мы удалили индекс строкии в данных, уникальный идентификатор клиента и фамилию клиента, тк эти данные не могут повлиять на вероятность ухода из банка, а следовательно учить модель на этих данных не нужно."
   ]
  },
  {
   "cell_type": "markdown",
   "metadata": {},
   "source": [
    "### Преобразование категориальных признаков в численные"
   ]
  },
  {
   "cell_type": "markdown",
   "metadata": {},
   "source": [
    "Преобразуем значения стобцов `Geography и Gender` в числа и удалим первый столбец, чтобы избежать дамми-ловушки:"
   ]
  },
  {
   "cell_type": "code",
   "execution_count": 11,
   "metadata": {},
   "outputs": [
    {
     "data": {
      "text/html": [
       "<div>\n",
       "<style scoped>\n",
       "    .dataframe tbody tr th:only-of-type {\n",
       "        vertical-align: middle;\n",
       "    }\n",
       "\n",
       "    .dataframe tbody tr th {\n",
       "        vertical-align: top;\n",
       "    }\n",
       "\n",
       "    .dataframe thead th {\n",
       "        text-align: right;\n",
       "    }\n",
       "</style>\n",
       "<table border=\"1\" class=\"dataframe\">\n",
       "  <thead>\n",
       "    <tr style=\"text-align: right;\">\n",
       "      <th></th>\n",
       "      <th>CreditScore</th>\n",
       "      <th>Age</th>\n",
       "      <th>Tenure</th>\n",
       "      <th>Balance</th>\n",
       "      <th>NumOfProducts</th>\n",
       "      <th>HasCrCard</th>\n",
       "      <th>IsActiveMember</th>\n",
       "      <th>EstimatedSalary</th>\n",
       "      <th>Exited</th>\n",
       "      <th>Geography_Germany</th>\n",
       "      <th>Geography_Spain</th>\n",
       "      <th>Gender_Male</th>\n",
       "    </tr>\n",
       "  </thead>\n",
       "  <tbody>\n",
       "    <tr>\n",
       "      <th>0</th>\n",
       "      <td>619</td>\n",
       "      <td>42</td>\n",
       "      <td>2.0</td>\n",
       "      <td>0.00</td>\n",
       "      <td>1</td>\n",
       "      <td>1</td>\n",
       "      <td>1</td>\n",
       "      <td>101348.88</td>\n",
       "      <td>1</td>\n",
       "      <td>0</td>\n",
       "      <td>0</td>\n",
       "      <td>0</td>\n",
       "    </tr>\n",
       "    <tr>\n",
       "      <th>1</th>\n",
       "      <td>608</td>\n",
       "      <td>41</td>\n",
       "      <td>1.0</td>\n",
       "      <td>83807.86</td>\n",
       "      <td>1</td>\n",
       "      <td>0</td>\n",
       "      <td>1</td>\n",
       "      <td>112542.58</td>\n",
       "      <td>0</td>\n",
       "      <td>0</td>\n",
       "      <td>1</td>\n",
       "      <td>0</td>\n",
       "    </tr>\n",
       "    <tr>\n",
       "      <th>2</th>\n",
       "      <td>502</td>\n",
       "      <td>42</td>\n",
       "      <td>8.0</td>\n",
       "      <td>159660.80</td>\n",
       "      <td>3</td>\n",
       "      <td>1</td>\n",
       "      <td>0</td>\n",
       "      <td>113931.57</td>\n",
       "      <td>1</td>\n",
       "      <td>0</td>\n",
       "      <td>0</td>\n",
       "      <td>0</td>\n",
       "    </tr>\n",
       "    <tr>\n",
       "      <th>3</th>\n",
       "      <td>699</td>\n",
       "      <td>39</td>\n",
       "      <td>1.0</td>\n",
       "      <td>0.00</td>\n",
       "      <td>2</td>\n",
       "      <td>0</td>\n",
       "      <td>0</td>\n",
       "      <td>93826.63</td>\n",
       "      <td>0</td>\n",
       "      <td>0</td>\n",
       "      <td>0</td>\n",
       "      <td>0</td>\n",
       "    </tr>\n",
       "    <tr>\n",
       "      <th>4</th>\n",
       "      <td>850</td>\n",
       "      <td>43</td>\n",
       "      <td>2.0</td>\n",
       "      <td>125510.82</td>\n",
       "      <td>1</td>\n",
       "      <td>1</td>\n",
       "      <td>1</td>\n",
       "      <td>79084.10</td>\n",
       "      <td>0</td>\n",
       "      <td>0</td>\n",
       "      <td>1</td>\n",
       "      <td>0</td>\n",
       "    </tr>\n",
       "    <tr>\n",
       "      <th>5</th>\n",
       "      <td>645</td>\n",
       "      <td>44</td>\n",
       "      <td>8.0</td>\n",
       "      <td>113755.78</td>\n",
       "      <td>2</td>\n",
       "      <td>1</td>\n",
       "      <td>0</td>\n",
       "      <td>149756.71</td>\n",
       "      <td>1</td>\n",
       "      <td>0</td>\n",
       "      <td>1</td>\n",
       "      <td>1</td>\n",
       "    </tr>\n",
       "    <tr>\n",
       "      <th>6</th>\n",
       "      <td>822</td>\n",
       "      <td>50</td>\n",
       "      <td>7.0</td>\n",
       "      <td>0.00</td>\n",
       "      <td>2</td>\n",
       "      <td>1</td>\n",
       "      <td>1</td>\n",
       "      <td>10062.80</td>\n",
       "      <td>0</td>\n",
       "      <td>0</td>\n",
       "      <td>0</td>\n",
       "      <td>1</td>\n",
       "    </tr>\n",
       "    <tr>\n",
       "      <th>7</th>\n",
       "      <td>376</td>\n",
       "      <td>29</td>\n",
       "      <td>4.0</td>\n",
       "      <td>115046.74</td>\n",
       "      <td>4</td>\n",
       "      <td>1</td>\n",
       "      <td>0</td>\n",
       "      <td>119346.88</td>\n",
       "      <td>1</td>\n",
       "      <td>1</td>\n",
       "      <td>0</td>\n",
       "      <td>0</td>\n",
       "    </tr>\n",
       "    <tr>\n",
       "      <th>8</th>\n",
       "      <td>501</td>\n",
       "      <td>44</td>\n",
       "      <td>4.0</td>\n",
       "      <td>142051.07</td>\n",
       "      <td>2</td>\n",
       "      <td>0</td>\n",
       "      <td>1</td>\n",
       "      <td>74940.50</td>\n",
       "      <td>0</td>\n",
       "      <td>0</td>\n",
       "      <td>0</td>\n",
       "      <td>1</td>\n",
       "    </tr>\n",
       "    <tr>\n",
       "      <th>9</th>\n",
       "      <td>684</td>\n",
       "      <td>27</td>\n",
       "      <td>2.0</td>\n",
       "      <td>134603.88</td>\n",
       "      <td>1</td>\n",
       "      <td>1</td>\n",
       "      <td>1</td>\n",
       "      <td>71725.73</td>\n",
       "      <td>0</td>\n",
       "      <td>0</td>\n",
       "      <td>0</td>\n",
       "      <td>1</td>\n",
       "    </tr>\n",
       "  </tbody>\n",
       "</table>\n",
       "</div>"
      ],
      "text/plain": [
       "   CreditScore  Age  Tenure    Balance  NumOfProducts  HasCrCard  \\\n",
       "0          619   42     2.0       0.00              1          1   \n",
       "1          608   41     1.0   83807.86              1          0   \n",
       "2          502   42     8.0  159660.80              3          1   \n",
       "3          699   39     1.0       0.00              2          0   \n",
       "4          850   43     2.0  125510.82              1          1   \n",
       "5          645   44     8.0  113755.78              2          1   \n",
       "6          822   50     7.0       0.00              2          1   \n",
       "7          376   29     4.0  115046.74              4          1   \n",
       "8          501   44     4.0  142051.07              2          0   \n",
       "9          684   27     2.0  134603.88              1          1   \n",
       "\n",
       "   IsActiveMember  EstimatedSalary  Exited  Geography_Germany  \\\n",
       "0               1        101348.88       1                  0   \n",
       "1               1        112542.58       0                  0   \n",
       "2               0        113931.57       1                  0   \n",
       "3               0         93826.63       0                  0   \n",
       "4               1         79084.10       0                  0   \n",
       "5               0        149756.71       1                  0   \n",
       "6               1         10062.80       0                  0   \n",
       "7               0        119346.88       1                  1   \n",
       "8               1         74940.50       0                  0   \n",
       "9               1         71725.73       0                  0   \n",
       "\n",
       "   Geography_Spain  Gender_Male  \n",
       "0                0            0  \n",
       "1                1            0  \n",
       "2                0            0  \n",
       "3                0            0  \n",
       "4                1            0  \n",
       "5                1            1  \n",
       "6                0            1  \n",
       "7                0            0  \n",
       "8                0            1  \n",
       "9                0            1  "
      ]
     },
     "execution_count": 11,
     "metadata": {},
     "output_type": "execute_result"
    }
   ],
   "source": [
    "df_ohe = pd.get_dummies(df, drop_first=True)\n",
    "df_ohe.head(10)"
   ]
  },
  {
   "cell_type": "markdown",
   "metadata": {},
   "source": [
    "**Вывод**\n",
    "<br><br>\n",
    "Мы преобразовали все категориальные столбцы в таблице и теперь таблица состоит только из чисел."
   ]
  },
  {
   "cell_type": "markdown",
   "metadata": {},
   "source": [
    "### Разобьём данные на выборки"
   ]
  },
  {
   "cell_type": "markdown",
   "metadata": {},
   "source": [
    "Сделаем 3 выборки - обучающую, валидационную и тестовую в пропорциях 60%, 20% и 20% соответственно.\n",
    "<br>Для этого разделим весь датасет сначала в пропорциях 80% к 20%, а потом полученные 80% разделим на 75% и 25%, чтобы пропорции первого датасета были были 3:1:1."
   ]
  },
  {
   "cell_type": "code",
   "execution_count": 12,
   "metadata": {},
   "outputs": [],
   "source": [
    "train_valid, test = train_test_split(df_ohe, test_size=0.2, random_state=12345) \n",
    "train, valid = train_test_split(train_valid, test_size=0.25, random_state=12345)"
   ]
  },
  {
   "cell_type": "markdown",
   "metadata": {},
   "source": [
    "Разделим учебную, валидационные и тестовые выборки на признаки и цели"
   ]
  },
  {
   "cell_type": "code",
   "execution_count": 13,
   "metadata": {},
   "outputs": [],
   "source": [
    "features_train = train.drop(['Exited'], axis=1)\n",
    "target_train = train['Exited']\n",
    "features_valid = valid.drop(['Exited'], axis=1)\n",
    "target_valid = valid['Exited']\n",
    "features_test = test.drop(['Exited'], axis=1)\n",
    "target_test = test['Exited']"
   ]
  },
  {
   "cell_type": "markdown",
   "metadata": {},
   "source": [
    "**Вывод**\n",
    "\n",
    "Мы разделили датасет на три выборки:\n",
    "* обучающую, чтобы обучить модели\n",
    "* валидационную, чтобы проверять модель на переобучение\n",
    "* тестовую, чтобы правильно оценить готовую модель\n"
   ]
  },
  {
   "cell_type": "markdown",
   "metadata": {},
   "source": [
    "### Масштабируем признаки"
   ]
  },
  {
   "cell_type": "markdown",
   "metadata": {},
   "source": [
    "Масштабируем признаки, чтобы алгоритм не решил, что признаки с большими значениями и разбросом важнее:"
   ]
  },
  {
   "cell_type": "code",
   "execution_count": 14,
   "metadata": {},
   "outputs": [
    {
     "data": {
      "text/html": [
       "<div>\n",
       "<style scoped>\n",
       "    .dataframe tbody tr th:only-of-type {\n",
       "        vertical-align: middle;\n",
       "    }\n",
       "\n",
       "    .dataframe tbody tr th {\n",
       "        vertical-align: top;\n",
       "    }\n",
       "\n",
       "    .dataframe thead th {\n",
       "        text-align: right;\n",
       "    }\n",
       "</style>\n",
       "<table border=\"1\" class=\"dataframe\">\n",
       "  <thead>\n",
       "    <tr style=\"text-align: right;\">\n",
       "      <th></th>\n",
       "      <th>CreditScore</th>\n",
       "      <th>Age</th>\n",
       "      <th>Tenure</th>\n",
       "      <th>Balance</th>\n",
       "      <th>NumOfProducts</th>\n",
       "      <th>HasCrCard</th>\n",
       "      <th>IsActiveMember</th>\n",
       "      <th>EstimatedSalary</th>\n",
       "      <th>Geography_Germany</th>\n",
       "      <th>Geography_Spain</th>\n",
       "      <th>Gender_Male</th>\n",
       "    </tr>\n",
       "  </thead>\n",
       "  <tbody>\n",
       "    <tr>\n",
       "      <th>492</th>\n",
       "      <td>-0.134048</td>\n",
       "      <td>-0.078068</td>\n",
       "      <td>-0.369113</td>\n",
       "      <td>0.076163</td>\n",
       "      <td>0.816929</td>\n",
       "      <td>0</td>\n",
       "      <td>1</td>\n",
       "      <td>0.331571</td>\n",
       "      <td>0</td>\n",
       "      <td>0</td>\n",
       "      <td>0</td>\n",
       "    </tr>\n",
       "    <tr>\n",
       "      <th>6655</th>\n",
       "      <td>-1.010798</td>\n",
       "      <td>0.494555</td>\n",
       "      <td>-0.007415</td>\n",
       "      <td>0.136391</td>\n",
       "      <td>-0.896909</td>\n",
       "      <td>1</td>\n",
       "      <td>1</td>\n",
       "      <td>-0.727858</td>\n",
       "      <td>0</td>\n",
       "      <td>0</td>\n",
       "      <td>1</td>\n",
       "    </tr>\n",
       "    <tr>\n",
       "      <th>4287</th>\n",
       "      <td>0.639554</td>\n",
       "      <td>1.353490</td>\n",
       "      <td>-1.454209</td>\n",
       "      <td>0.358435</td>\n",
       "      <td>-0.896909</td>\n",
       "      <td>1</td>\n",
       "      <td>1</td>\n",
       "      <td>-0.477006</td>\n",
       "      <td>1</td>\n",
       "      <td>0</td>\n",
       "      <td>1</td>\n",
       "    </tr>\n",
       "    <tr>\n",
       "      <th>42</th>\n",
       "      <td>-0.990168</td>\n",
       "      <td>2.116987</td>\n",
       "      <td>-1.092511</td>\n",
       "      <td>0.651725</td>\n",
       "      <td>-0.896909</td>\n",
       "      <td>1</td>\n",
       "      <td>1</td>\n",
       "      <td>-0.100232</td>\n",
       "      <td>0</td>\n",
       "      <td>0</td>\n",
       "      <td>0</td>\n",
       "    </tr>\n",
       "    <tr>\n",
       "      <th>8178</th>\n",
       "      <td>0.567351</td>\n",
       "      <td>0.685430</td>\n",
       "      <td>0.715982</td>\n",
       "      <td>0.813110</td>\n",
       "      <td>0.816929</td>\n",
       "      <td>1</td>\n",
       "      <td>1</td>\n",
       "      <td>0.801922</td>\n",
       "      <td>0</td>\n",
       "      <td>0</td>\n",
       "      <td>0</td>\n",
       "    </tr>\n",
       "    <tr>\n",
       "      <th>2127</th>\n",
       "      <td>0.598296</td>\n",
       "      <td>-0.459816</td>\n",
       "      <td>1.439380</td>\n",
       "      <td>0.921963</td>\n",
       "      <td>0.816929</td>\n",
       "      <td>1</td>\n",
       "      <td>0</td>\n",
       "      <td>0.820416</td>\n",
       "      <td>1</td>\n",
       "      <td>0</td>\n",
       "      <td>1</td>\n",
       "    </tr>\n",
       "    <tr>\n",
       "      <th>2051</th>\n",
       "      <td>0.618925</td>\n",
       "      <td>-0.173505</td>\n",
       "      <td>-1.454209</td>\n",
       "      <td>0.482629</td>\n",
       "      <td>0.816929</td>\n",
       "      <td>0</td>\n",
       "      <td>0</td>\n",
       "      <td>1.208574</td>\n",
       "      <td>0</td>\n",
       "      <td>0</td>\n",
       "      <td>0</td>\n",
       "    </tr>\n",
       "    <tr>\n",
       "      <th>6712</th>\n",
       "      <td>-0.546636</td>\n",
       "      <td>0.399118</td>\n",
       "      <td>-0.369113</td>\n",
       "      <td>-1.232442</td>\n",
       "      <td>-0.896909</td>\n",
       "      <td>1</td>\n",
       "      <td>0</td>\n",
       "      <td>1.225280</td>\n",
       "      <td>0</td>\n",
       "      <td>0</td>\n",
       "      <td>0</td>\n",
       "    </tr>\n",
       "    <tr>\n",
       "      <th>4994</th>\n",
       "      <td>1.485360</td>\n",
       "      <td>1.258053</td>\n",
       "      <td>-0.007415</td>\n",
       "      <td>1.450438</td>\n",
       "      <td>-0.896909</td>\n",
       "      <td>1</td>\n",
       "      <td>1</td>\n",
       "      <td>-0.645530</td>\n",
       "      <td>1</td>\n",
       "      <td>0</td>\n",
       "      <td>0</td>\n",
       "    </tr>\n",
       "    <tr>\n",
       "      <th>9523</th>\n",
       "      <td>0.082561</td>\n",
       "      <td>-0.650691</td>\n",
       "      <td>-1.815908</td>\n",
       "      <td>0.607589</td>\n",
       "      <td>-0.896909</td>\n",
       "      <td>1</td>\n",
       "      <td>0</td>\n",
       "      <td>-0.266350</td>\n",
       "      <td>0</td>\n",
       "      <td>0</td>\n",
       "      <td>0</td>\n",
       "    </tr>\n",
       "  </tbody>\n",
       "</table>\n",
       "</div>"
      ],
      "text/plain": [
       "      CreditScore       Age    Tenure   Balance  NumOfProducts  HasCrCard  \\\n",
       "492     -0.134048 -0.078068 -0.369113  0.076163       0.816929          0   \n",
       "6655    -1.010798  0.494555 -0.007415  0.136391      -0.896909          1   \n",
       "4287     0.639554  1.353490 -1.454209  0.358435      -0.896909          1   \n",
       "42      -0.990168  2.116987 -1.092511  0.651725      -0.896909          1   \n",
       "8178     0.567351  0.685430  0.715982  0.813110       0.816929          1   \n",
       "2127     0.598296 -0.459816  1.439380  0.921963       0.816929          1   \n",
       "2051     0.618925 -0.173505 -1.454209  0.482629       0.816929          0   \n",
       "6712    -0.546636  0.399118 -0.369113 -1.232442      -0.896909          1   \n",
       "4994     1.485360  1.258053 -0.007415  1.450438      -0.896909          1   \n",
       "9523     0.082561 -0.650691 -1.815908  0.607589      -0.896909          1   \n",
       "\n",
       "      IsActiveMember  EstimatedSalary  Geography_Germany  Geography_Spain  \\\n",
       "492                1         0.331571                  0                0   \n",
       "6655               1        -0.727858                  0                0   \n",
       "4287               1        -0.477006                  1                0   \n",
       "42                 1        -0.100232                  0                0   \n",
       "8178               1         0.801922                  0                0   \n",
       "2127               0         0.820416                  1                0   \n",
       "2051               0         1.208574                  0                0   \n",
       "6712               0         1.225280                  0                0   \n",
       "4994               1        -0.645530                  1                0   \n",
       "9523               0        -0.266350                  0                0   \n",
       "\n",
       "      Gender_Male  \n",
       "492             0  \n",
       "6655            1  \n",
       "4287            1  \n",
       "42              0  \n",
       "8178            0  \n",
       "2127            1  \n",
       "2051            0  \n",
       "6712            0  \n",
       "4994            0  \n",
       "9523            0  "
      ]
     },
     "execution_count": 14,
     "metadata": {},
     "output_type": "execute_result"
    }
   ],
   "source": [
    "numeric = ['CreditScore', 'Age', 'Tenure', 'Balance', 'NumOfProducts', 'EstimatedSalary']\n",
    "scaler = StandardScaler()\n",
    "scaler.fit(features_train[numeric])\n",
    "features_train[numeric] = scaler.transform(features_train[numeric])\n",
    "features_valid[numeric] = scaler.transform(features_valid[numeric])\n",
    "features_test[numeric] = scaler.transform(features_test[numeric])\n",
    "features_train.head(10)"
   ]
  },
  {
   "cell_type": "markdown",
   "metadata": {},
   "source": [
    "**Вывод**\n",
    "<br><br>\n",
    "Мы масштабировали признаки, теперь алгоритм не посчитает какие-то значения важнее из-за величины или разброса.\n",
    "<br>Данные подготовлены, можно приступать к исследованию."
   ]
  },
  {
   "cell_type": "markdown",
   "metadata": {},
   "source": [
    "## Исследование задачи"
   ]
  },
  {
   "cell_type": "markdown",
   "metadata": {},
   "source": [
    "### Исследуем баланс классов"
   ]
  },
  {
   "cell_type": "markdown",
   "metadata": {},
   "source": [
    "Посмотрим как соотносятся ответы в столбце `Exited`:"
   ]
  },
  {
   "cell_type": "code",
   "execution_count": 15,
   "metadata": {},
   "outputs": [
    {
     "data": {
      "text/plain": [
       "0    0.7963\n",
       "1    0.2037\n",
       "Name: Exited, dtype: float64"
      ]
     },
     "execution_count": 15,
     "metadata": {},
     "output_type": "execute_result"
    }
   ],
   "source": [
    "df_ohe['Exited'].value_counts(normalize=(0, 1))"
   ]
  },
  {
   "cell_type": "markdown",
   "metadata": {},
   "source": [
    "Посмотрим отношение на графике"
   ]
  },
  {
   "cell_type": "code",
   "execution_count": 16,
   "metadata": {},
   "outputs": [
    {
     "data": {
      "text/plain": [
       "<AxesSubplot:>"
      ]
     },
     "execution_count": 16,
     "metadata": {},
     "output_type": "execute_result"
    },
    {
     "data": {
      "image/png": "[encoded data removed]",
      "text/plain": [
       "<Figure size 432x288 with 1 Axes>"
      ]
     },
     "metadata": {
      "needs_background": "light"
     },
     "output_type": "display_data"
    }
   ],
   "source": [
    "df_ohe['Exited'].value_counts(normalize=(0, 1)).plot(kind='bar')"
   ]
  },
  {
   "cell_type": "markdown",
   "metadata": {},
   "source": [
    "**Вывод**\n",
    "\n",
    "Мы мы наблюдаем дисбаланс классов в отношении примерно 1 к 4. Если быть более точным, то нулей в 3,909 раз больше чем единиц. Это нельзя оставлять без внимания. Для начала обучим модель без учёта дисбаланса, а далее улучшим модель учитывая дисбаланс классов."
   ]
  },
  {
   "cell_type": "markdown",
   "metadata": {},
   "source": [
    "### Обучающее дерево без учёта дисбаланса классов"
   ]
  },
  {
   "cell_type": "markdown",
   "metadata": {},
   "source": [
    "Посмотрим на какой глубине дерева оптимально будет работать модель и будет выдавать наилучшее значение F1-меры модели"
   ]
  },
  {
   "cell_type": "code",
   "execution_count": 17,
   "metadata": {},
   "outputs": [
    {
     "name": "stderr",
     "output_type": "stream",
     "text": [
      "D:\\Anaconda\\lib\\site-packages\\sklearn\\metrics\\_classification.py:1248: UndefinedMetricWarning: Precision is ill-defined and being set to 0.0 due to no predicted samples. Use `zero_division` parameter to control this behavior.\n",
      "  _warn_prf(average, modifier, msg_start, len(result))\n"
     ]
    },
    {
     "name": "stdout",
     "output_type": "stream",
     "text": [
      "F1-мера наилучшей модели на валидационной выборке: 0.5583596214511041\n",
      "Полнота наилучшей модели на валидационной выборке: 0.45268542199488493\n",
      "Точность наилучшей модели на валидационной выборке: 0.7283950617283951\n",
      "Accuracy наилучшей модели на валидационной выборке: 0.86\n",
      "Наилучшая модель с параметрами: DecisionTreeClassifier(max_depth=7, random_state=12345)\n",
      "Wall time: 321 ms\n"
     ]
    }
   ],
   "source": [
    "%%time\n",
    "\n",
    "best_model_tree = None\n",
    "best_result_f1_score = 0\n",
    "result_recall = 0\n",
    "result_precision = 0\n",
    "result_accuracy = 0\n",
    "for i in range(1, 15):\n",
    "    model_tree = DecisionTreeClassifier(max_depth = i, random_state=12345) # зададим параметры модели обучающего дерева\n",
    "    model_tree.fit(features_train, target_train) # обучаем модель на учебной выборке\n",
    "    predictions_valid = model_tree.predict(features_valid) # проверим предсказания модели на валидационных признаках\n",
    "    result = f1_score(target_valid, predictions_valid)\n",
    "    recall = recall_score(target_valid, predictions_valid)\n",
    "    precision = precision_score(target_valid, predictions_valid)\n",
    "    accuracy = accuracy_score(target_valid, predictions_valid)\n",
    "    if result > best_result_f1_score: # выберем наилучшее значение метрики f1_score\n",
    "        best_result_f1_score = result \n",
    "        result_recall = recall\n",
    "        result_precision = precision\n",
    "        result_accuracy = accuracy\n",
    "        best_model_tree = model_tree\n",
    "\n",
    "print(\"F1-мера наилучшей модели на валидационной выборке:\", best_result_f1_score)  \n",
    "print(\"Полнота наилучшей модели на валидационной выборке:\", result_recall) \n",
    "print(\"Точность наилучшей модели на валидационной выборке:\", result_precision) \n",
    "print(\"Accuracy наилучшей модели на валидационной выборке:\", result_accuracy) \n",
    "print(\"Наилучшая модель с параметрами:\",best_model_tree)  "
   ]
  },
  {
   "cell_type": "markdown",
   "metadata": {},
   "source": [
    "Найдём матрицу неточностей у лучшей модели"
   ]
  },
  {
   "cell_type": "code",
   "execution_count": 18,
   "metadata": {
    "scrolled": true
   },
   "outputs": [
    {
     "data": {
      "text/plain": [
       "array([[1543,   66],\n",
       "       [ 214,  177]], dtype=int64)"
      ]
     },
     "execution_count": 18,
     "metadata": {},
     "output_type": "execute_result"
    }
   ],
   "source": [
    "model_tree_best = DecisionTreeClassifier(max_depth = 7, random_state=12345) # зададим параметры модели обучающего дерева\n",
    "model_tree_best.fit(features_train, target_train) # обучаем модель на учебной выборке\n",
    "predictions_valid_tree = model_tree_best.predict(features_valid)\n",
    "confusion_matrix(target_valid, predictions_valid_tree)"
   ]
  },
  {
   "cell_type": "markdown",
   "metadata": {},
   "source": [
    "Построим ROC-кривую и вычесли значение AUC-ROC"
   ]
  },
  {
   "cell_type": "code",
   "execution_count": 19,
   "metadata": {},
   "outputs": [
    {
     "name": "stdout",
     "output_type": "stream",
     "text": [
      "AUC-ROC = 0.8231010349393358\n"
     ]
    },
    {
     "data": {
      "text/plain": [
       "Text(0.5, 1.0, 'ROC-кривая')"
      ]
     },
     "execution_count": 19,
     "metadata": {},
     "output_type": "execute_result"
    },
    {
     "data": {
      "image/png": "[encoded data removed]",
      "text/plain": [
       "<Figure size 432x288 with 1 Axes>"
      ]
     },
     "metadata": {
      "needs_background": "light"
     },
     "output_type": "display_data"
    }
   ],
   "source": [
    "probabilities_valid = model_tree_best.predict_proba(features_valid)\n",
    "probabilities_one_valid = probabilities_valid[:, 1]\n",
    "\n",
    "print(f'AUC-ROC = {roc_auc_score(target_valid, probabilities_one_valid)}') # рассчитаем AUC-ROC\n",
    "\n",
    "fpr, tpr, thresholds = roc_curve(target_valid, probabilities_one_valid)\n",
    "\n",
    "plt.figure()\n",
    "plt.plot(fpr, tpr)\n",
    "plt.plot([0, 1],[0, 1],linestyle='--')# ROC-кривая случайной модели \n",
    "plt.ylim([0.0, 1.0])# установим границу осей от 0 до 1\n",
    "plt.xlim([0.0, 1.0])\n",
    "plt.xlabel('False Positive Rate')\n",
    "plt.ylabel('True Positive Rate')\n",
    "plt.title('ROC-кривая')"
   ]
  },
  {
   "cell_type": "markdown",
   "metadata": {},
   "source": [
    "**Вывод**\n",
    "\n",
    "На Обучающем дереве с глубиной 7 показатели качества модели получилсь следующими:\n",
    "* F1-мера наилучшей модели на валидационной выборке: 0.5583596214511041\n",
    "* Полнота наилучшей модели на валидационной выборке: 0.45268542199488493\n",
    "* Точность наилучшей модели на валидационной выборке: 0.7283950617283951\n",
    "* Accuracy наилучшей модели на валидационной выборке: 0.86\n",
    "* AUC-ROC  наилучшей модели на валидационной выборке: 0.8231010349393358\n",
    "\n",
    "Из задания можно сделать выводы, что модель нужно улучшать, тк F1-меру нужно довести минимум до 0,59.<br>\n",
    "Далее учтём дисбаланс классов, рассмотрим разные модели и выберем лучшую по параметрам."
   ]
  },
  {
   "cell_type": "markdown",
   "metadata": {},
   "source": [
    "### Случайный лес без учёта дисбаланса классов"
   ]
  },
  {
   "cell_type": "markdown",
   "metadata": {},
   "source": [
    "Посмотрим на какой глубине дерева и с каким числом деревьев оптимально будет работать модель и будет выдавать наилучшее значение F1-меры модели"
   ]
  },
  {
   "cell_type": "code",
   "execution_count": 20,
   "metadata": {
    "scrolled": false
   },
   "outputs": [
    {
     "name": "stderr",
     "output_type": "stream",
     "text": [
      "D:\\Anaconda\\lib\\site-packages\\sklearn\\metrics\\_classification.py:1248: UndefinedMetricWarning: Precision is ill-defined and being set to 0.0 due to no predicted samples. Use `zero_division` parameter to control this behavior.\n",
      "  _warn_prf(average, modifier, msg_start, len(result))\n",
      "D:\\Anaconda\\lib\\site-packages\\sklearn\\metrics\\_classification.py:1248: UndefinedMetricWarning: Precision is ill-defined and being set to 0.0 due to no predicted samples. Use `zero_division` parameter to control this behavior.\n",
      "  _warn_prf(average, modifier, msg_start, len(result))\n",
      "D:\\Anaconda\\lib\\site-packages\\sklearn\\metrics\\_classification.py:1248: UndefinedMetricWarning: Precision is ill-defined and being set to 0.0 due to no predicted samples. Use `zero_division` parameter to control this behavior.\n",
      "  _warn_prf(average, modifier, msg_start, len(result))\n",
      "D:\\Anaconda\\lib\\site-packages\\sklearn\\metrics\\_classification.py:1248: UndefinedMetricWarning: Precision is ill-defined and being set to 0.0 due to no predicted samples. Use `zero_division` parameter to control this behavior.\n",
      "  _warn_prf(average, modifier, msg_start, len(result))\n",
      "D:\\Anaconda\\lib\\site-packages\\sklearn\\metrics\\_classification.py:1248: UndefinedMetricWarning: Precision is ill-defined and being set to 0.0 due to no predicted samples. Use `zero_division` parameter to control this behavior.\n",
      "  _warn_prf(average, modifier, msg_start, len(result))\n",
      "D:\\Anaconda\\lib\\site-packages\\sklearn\\metrics\\_classification.py:1248: UndefinedMetricWarning: Precision is ill-defined and being set to 0.0 due to no predicted samples. Use `zero_division` parameter to control this behavior.\n",
      "  _warn_prf(average, modifier, msg_start, len(result))\n",
      "D:\\Anaconda\\lib\\site-packages\\sklearn\\metrics\\_classification.py:1248: UndefinedMetricWarning: Precision is ill-defined and being set to 0.0 due to no predicted samples. Use `zero_division` parameter to control this behavior.\n",
      "  _warn_prf(average, modifier, msg_start, len(result))\n",
      "D:\\Anaconda\\lib\\site-packages\\sklearn\\metrics\\_classification.py:1248: UndefinedMetricWarning: Precision is ill-defined and being set to 0.0 due to no predicted samples. Use `zero_division` parameter to control this behavior.\n",
      "  _warn_prf(average, modifier, msg_start, len(result))\n",
      "D:\\Anaconda\\lib\\site-packages\\sklearn\\metrics\\_classification.py:1248: UndefinedMetricWarning: Precision is ill-defined and being set to 0.0 due to no predicted samples. Use `zero_division` parameter to control this behavior.\n",
      "  _warn_prf(average, modifier, msg_start, len(result))\n",
      "D:\\Anaconda\\lib\\site-packages\\sklearn\\metrics\\_classification.py:1248: UndefinedMetricWarning: Precision is ill-defined and being set to 0.0 due to no predicted samples. Use `zero_division` parameter to control this behavior.\n",
      "  _warn_prf(average, modifier, msg_start, len(result))\n",
      "D:\\Anaconda\\lib\\site-packages\\sklearn\\metrics\\_classification.py:1248: UndefinedMetricWarning: Precision is ill-defined and being set to 0.0 due to no predicted samples. Use `zero_division` parameter to control this behavior.\n",
      "  _warn_prf(average, modifier, msg_start, len(result))\n",
      "D:\\Anaconda\\lib\\site-packages\\sklearn\\metrics\\_classification.py:1248: UndefinedMetricWarning: Precision is ill-defined and being set to 0.0 due to no predicted samples. Use `zero_division` parameter to control this behavior.\n",
      "  _warn_prf(average, modifier, msg_start, len(result))\n",
      "D:\\Anaconda\\lib\\site-packages\\sklearn\\metrics\\_classification.py:1248: UndefinedMetricWarning: Precision is ill-defined and being set to 0.0 due to no predicted samples. Use `zero_division` parameter to control this behavior.\n",
      "  _warn_prf(average, modifier, msg_start, len(result))\n",
      "D:\\Anaconda\\lib\\site-packages\\sklearn\\metrics\\_classification.py:1248: UndefinedMetricWarning: Precision is ill-defined and being set to 0.0 due to no predicted samples. Use `zero_division` parameter to control this behavior.\n",
      "  _warn_prf(average, modifier, msg_start, len(result))\n",
      "D:\\Anaconda\\lib\\site-packages\\sklearn\\metrics\\_classification.py:1248: UndefinedMetricWarning: Precision is ill-defined and being set to 0.0 due to no predicted samples. Use `zero_division` parameter to control this behavior.\n",
      "  _warn_prf(average, modifier, msg_start, len(result))\n",
      "D:\\Anaconda\\lib\\site-packages\\sklearn\\metrics\\_classification.py:1248: UndefinedMetricWarning: Precision is ill-defined and being set to 0.0 due to no predicted samples. Use `zero_division` parameter to control this behavior.\n",
      "  _warn_prf(average, modifier, msg_start, len(result))\n",
      "D:\\Anaconda\\lib\\site-packages\\sklearn\\metrics\\_classification.py:1248: UndefinedMetricWarning: Precision is ill-defined and being set to 0.0 due to no predicted samples. Use `zero_division` parameter to control this behavior.\n",
      "  _warn_prf(average, modifier, msg_start, len(result))\n",
      "D:\\Anaconda\\lib\\site-packages\\sklearn\\metrics\\_classification.py:1248: UndefinedMetricWarning: Precision is ill-defined and being set to 0.0 due to no predicted samples. Use `zero_division` parameter to control this behavior.\n",
      "  _warn_prf(average, modifier, msg_start, len(result))\n",
      "D:\\Anaconda\\lib\\site-packages\\sklearn\\metrics\\_classification.py:1248: UndefinedMetricWarning: Precision is ill-defined and being set to 0.0 due to no predicted samples. Use `zero_division` parameter to control this behavior.\n",
      "  _warn_prf(average, modifier, msg_start, len(result))\n",
      "D:\\Anaconda\\lib\\site-packages\\sklearn\\metrics\\_classification.py:1248: UndefinedMetricWarning: Precision is ill-defined and being set to 0.0 due to no predicted samples. Use `zero_division` parameter to control this behavior.\n",
      "  _warn_prf(average, modifier, msg_start, len(result))\n",
      "D:\\Anaconda\\lib\\site-packages\\sklearn\\metrics\\_classification.py:1248: UndefinedMetricWarning: Precision is ill-defined and being set to 0.0 due to no predicted samples. Use `zero_division` parameter to control this behavior.\n",
      "  _warn_prf(average, modifier, msg_start, len(result))\n",
      "D:\\Anaconda\\lib\\site-packages\\sklearn\\metrics\\_classification.py:1248: UndefinedMetricWarning: Precision is ill-defined and being set to 0.0 due to no predicted samples. Use `zero_division` parameter to control this behavior.\n",
      "  _warn_prf(average, modifier, msg_start, len(result))\n",
      "D:\\Anaconda\\lib\\site-packages\\sklearn\\metrics\\_classification.py:1248: UndefinedMetricWarning: Precision is ill-defined and being set to 0.0 due to no predicted samples. Use `zero_division` parameter to control this behavior.\n",
      "  _warn_prf(average, modifier, msg_start, len(result))\n",
      "D:\\Anaconda\\lib\\site-packages\\sklearn\\metrics\\_classification.py:1248: UndefinedMetricWarning: Precision is ill-defined and being set to 0.0 due to no predicted samples. Use `zero_division` parameter to control this behavior.\n",
      "  _warn_prf(average, modifier, msg_start, len(result))\n",
      "D:\\Anaconda\\lib\\site-packages\\sklearn\\metrics\\_classification.py:1248: UndefinedMetricWarning: Precision is ill-defined and being set to 0.0 due to no predicted samples. Use `zero_division` parameter to control this behavior.\n",
      "  _warn_prf(average, modifier, msg_start, len(result))\n",
      "D:\\Anaconda\\lib\\site-packages\\sklearn\\metrics\\_classification.py:1248: UndefinedMetricWarning: Precision is ill-defined and being set to 0.0 due to no predicted samples. Use `zero_division` parameter to control this behavior.\n",
      "  _warn_prf(average, modifier, msg_start, len(result))\n",
      "D:\\Anaconda\\lib\\site-packages\\sklearn\\metrics\\_classification.py:1248: UndefinedMetricWarning: Precision is ill-defined and being set to 0.0 due to no predicted samples. Use `zero_division` parameter to control this behavior.\n",
      "  _warn_prf(average, modifier, msg_start, len(result))\n",
      "D:\\Anaconda\\lib\\site-packages\\sklearn\\metrics\\_classification.py:1248: UndefinedMetricWarning: Precision is ill-defined and being set to 0.0 due to no predicted samples. Use `zero_division` parameter to control this behavior.\n",
      "  _warn_prf(average, modifier, msg_start, len(result))\n",
      "D:\\Anaconda\\lib\\site-packages\\sklearn\\metrics\\_classification.py:1248: UndefinedMetricWarning: Precision is ill-defined and being set to 0.0 due to no predicted samples. Use `zero_division` parameter to control this behavior.\n",
      "  _warn_prf(average, modifier, msg_start, len(result))\n",
      "D:\\Anaconda\\lib\\site-packages\\sklearn\\metrics\\_classification.py:1248: UndefinedMetricWarning: Precision is ill-defined and being set to 0.0 due to no predicted samples. Use `zero_division` parameter to control this behavior.\n",
      "  _warn_prf(average, modifier, msg_start, len(result))\n"
     ]
    },
    {
     "name": "stderr",
     "output_type": "stream",
     "text": [
      "D:\\Anaconda\\lib\\site-packages\\sklearn\\metrics\\_classification.py:1248: UndefinedMetricWarning: Precision is ill-defined and being set to 0.0 due to no predicted samples. Use `zero_division` parameter to control this behavior.\n",
      "  _warn_prf(average, modifier, msg_start, len(result))\n",
      "D:\\Anaconda\\lib\\site-packages\\sklearn\\metrics\\_classification.py:1248: UndefinedMetricWarning: Precision is ill-defined and being set to 0.0 due to no predicted samples. Use `zero_division` parameter to control this behavior.\n",
      "  _warn_prf(average, modifier, msg_start, len(result))\n",
      "D:\\Anaconda\\lib\\site-packages\\sklearn\\metrics\\_classification.py:1248: UndefinedMetricWarning: Precision is ill-defined and being set to 0.0 due to no predicted samples. Use `zero_division` parameter to control this behavior.\n",
      "  _warn_prf(average, modifier, msg_start, len(result))\n",
      "D:\\Anaconda\\lib\\site-packages\\sklearn\\metrics\\_classification.py:1248: UndefinedMetricWarning: Precision is ill-defined and being set to 0.0 due to no predicted samples. Use `zero_division` parameter to control this behavior.\n",
      "  _warn_prf(average, modifier, msg_start, len(result))\n",
      "D:\\Anaconda\\lib\\site-packages\\sklearn\\metrics\\_classification.py:1248: UndefinedMetricWarning: Precision is ill-defined and being set to 0.0 due to no predicted samples. Use `zero_division` parameter to control this behavior.\n",
      "  _warn_prf(average, modifier, msg_start, len(result))\n",
      "D:\\Anaconda\\lib\\site-packages\\sklearn\\metrics\\_classification.py:1248: UndefinedMetricWarning: Precision is ill-defined and being set to 0.0 due to no predicted samples. Use `zero_division` parameter to control this behavior.\n",
      "  _warn_prf(average, modifier, msg_start, len(result))\n",
      "D:\\Anaconda\\lib\\site-packages\\sklearn\\metrics\\_classification.py:1248: UndefinedMetricWarning: Precision is ill-defined and being set to 0.0 due to no predicted samples. Use `zero_division` parameter to control this behavior.\n",
      "  _warn_prf(average, modifier, msg_start, len(result))\n",
      "D:\\Anaconda\\lib\\site-packages\\sklearn\\metrics\\_classification.py:1248: UndefinedMetricWarning: Precision is ill-defined and being set to 0.0 due to no predicted samples. Use `zero_division` parameter to control this behavior.\n",
      "  _warn_prf(average, modifier, msg_start, len(result))\n",
      "D:\\Anaconda\\lib\\site-packages\\sklearn\\metrics\\_classification.py:1248: UndefinedMetricWarning: Precision is ill-defined and being set to 0.0 due to no predicted samples. Use `zero_division` parameter to control this behavior.\n",
      "  _warn_prf(average, modifier, msg_start, len(result))\n",
      "D:\\Anaconda\\lib\\site-packages\\sklearn\\metrics\\_classification.py:1248: UndefinedMetricWarning: Precision is ill-defined and being set to 0.0 due to no predicted samples. Use `zero_division` parameter to control this behavior.\n",
      "  _warn_prf(average, modifier, msg_start, len(result))\n",
      "D:\\Anaconda\\lib\\site-packages\\sklearn\\metrics\\_classification.py:1248: UndefinedMetricWarning: Precision is ill-defined and being set to 0.0 due to no predicted samples. Use `zero_division` parameter to control this behavior.\n",
      "  _warn_prf(average, modifier, msg_start, len(result))\n",
      "D:\\Anaconda\\lib\\site-packages\\sklearn\\metrics\\_classification.py:1248: UndefinedMetricWarning: Precision is ill-defined and being set to 0.0 due to no predicted samples. Use `zero_division` parameter to control this behavior.\n",
      "  _warn_prf(average, modifier, msg_start, len(result))\n",
      "D:\\Anaconda\\lib\\site-packages\\sklearn\\metrics\\_classification.py:1248: UndefinedMetricWarning: Precision is ill-defined and being set to 0.0 due to no predicted samples. Use `zero_division` parameter to control this behavior.\n",
      "  _warn_prf(average, modifier, msg_start, len(result))\n",
      "D:\\Anaconda\\lib\\site-packages\\sklearn\\metrics\\_classification.py:1248: UndefinedMetricWarning: Precision is ill-defined and being set to 0.0 due to no predicted samples. Use `zero_division` parameter to control this behavior.\n",
      "  _warn_prf(average, modifier, msg_start, len(result))\n",
      "D:\\Anaconda\\lib\\site-packages\\sklearn\\metrics\\_classification.py:1248: UndefinedMetricWarning: Precision is ill-defined and being set to 0.0 due to no predicted samples. Use `zero_division` parameter to control this behavior.\n",
      "  _warn_prf(average, modifier, msg_start, len(result))\n",
      "D:\\Anaconda\\lib\\site-packages\\sklearn\\metrics\\_classification.py:1248: UndefinedMetricWarning: Precision is ill-defined and being set to 0.0 due to no predicted samples. Use `zero_division` parameter to control this behavior.\n",
      "  _warn_prf(average, modifier, msg_start, len(result))\n",
      "D:\\Anaconda\\lib\\site-packages\\sklearn\\metrics\\_classification.py:1248: UndefinedMetricWarning: Precision is ill-defined and being set to 0.0 due to no predicted samples. Use `zero_division` parameter to control this behavior.\n",
      "  _warn_prf(average, modifier, msg_start, len(result))\n"
     ]
    },
    {
     "name": "stdout",
     "output_type": "stream",
     "text": [
      "F1-мера наилучшей модели на валидационной выборке: 0.5786963434022258\n",
      "Полнота наилучшей модели на валидационной выборке: 0.46547314578005117\n",
      "Точность наилучшей модели на валидационной выборке: 0.7647058823529411\n",
      "Accuracy наилучшей модели на валидационной выборке: 0.8675\n",
      "Наилучшая модель с параметрами: RandomForestClassifier(max_depth=14, n_estimators=35, random_state=12345)\n",
      "Wall time: 2min 37s\n"
     ]
    }
   ],
   "source": [
    "%%time\n",
    "\n",
    "best_model_forest = None\n",
    "best_result_forest_f1_score = 0\n",
    "forest_recall = 0\n",
    "forest_precision = 0\n",
    "forest_accuracy = 0\n",
    "for est in range(1, 100, 2): # переберём с помощью цикла значения деревьев от 1 до 100\n",
    "    for i in range(1, 15): # переберём с помощью цикла значения глубины деревьева от 1 до 10\n",
    "        model_forest = RandomForestClassifier(random_state=12345, n_estimators=est, max_depth = i) # зададим параметры модели случайный лес\n",
    "        model_forest.fit(features_train, target_train)\n",
    "        predictions_forest = model_forest.predict(features_valid)\n",
    "        result_forest = f1_score(target_valid, predictions_forest) # посчитаем качество модели на валидационной выборке\n",
    "        recall_forest = recall_score(target_valid, predictions_forest)\n",
    "        precision_forest = precision_score(target_valid, predictions_forest)\n",
    "        accuracy_forest = accuracy_score(target_valid, predictions_forest)\n",
    "        if result_forest > best_result_forest_f1_score: # выберем наилучшее значение метрики f1_score \n",
    "            best_model_forest = model_forest# сохраним наилучшую модель\n",
    "            best_result_forest_f1_score = result_forest#  сохраним наилучшее значение метрики accuracy на валидационных данных\n",
    "            forest_recall = recall_forest\n",
    "            forest_precision = precision_forest\n",
    "            forest_accuracy = accuracy_forest\n",
    "        \n",
    "print(\"F1-мера наилучшей модели на валидационной выборке:\", best_result_forest_f1_score)  \n",
    "print(\"Полнота наилучшей модели на валидационной выборке:\", forest_recall) \n",
    "print(\"Точность наилучшей модели на валидационной выборке:\", forest_precision) \n",
    "print(\"Accuracy наилучшей модели на валидационной выборке:\", forest_accuracy) \n",
    "print(\"Наилучшая модель с параметрами:\",best_model_forest)  "
   ]
  },
  {
   "cell_type": "markdown",
   "metadata": {},
   "source": [
    "Найдём матрицу неточностей у лучшей модели, построим ROC-кривую и вычесли значение AUC-ROC"
   ]
  },
  {
   "cell_type": "code",
   "execution_count": 21,
   "metadata": {},
   "outputs": [
    {
     "name": "stdout",
     "output_type": "stream",
     "text": [
      "Матрица неточностей\n",
      "[[1553   56]\n",
      " [ 209  182]]\n",
      "AUC-ROC = 0.8338152241467831\n"
     ]
    },
    {
     "data": {
      "text/plain": [
       "Text(0.5, 1.0, 'ROC-кривая')"
      ]
     },
     "execution_count": 21,
     "metadata": {},
     "output_type": "execute_result"
    },
    {
     "data": {
      "image/png": "[encoded data removed]",
      "text/plain": [
       "<Figure size 432x288 with 1 Axes>"
      ]
     },
     "metadata": {
      "needs_background": "light"
     },
     "output_type": "display_data"
    }
   ],
   "source": [
    "model_forest_best = RandomForestClassifier(random_state=12345, n_estimators=35, max_depth = 14) # зададим параметры модели случайный лес\n",
    "model_forest_best.fit(features_train, target_train)\n",
    "predictions_forest_best = model_forest_best.predict(features_valid)\n",
    "\n",
    "print('Матрица неточностей')\n",
    "print(confusion_matrix(target_valid, predictions_forest_best))\n",
    "\n",
    "probabilities_forest = model_forest_best.predict_proba(features_valid)\n",
    "probabilities_one_forest = probabilities_forest[:, 1]\n",
    "\n",
    "print(f'AUC-ROC = {roc_auc_score(target_valid, probabilities_one_forest)}') # рассчитаем AUC-ROC\n",
    "\n",
    "fpr, tpr, thresholds = roc_curve(target_valid, probabilities_one_forest)\n",
    "\n",
    "plt.figure()\n",
    "plt.plot(fpr, tpr)\n",
    "plt.plot([0, 1],[0, 1],linestyle='--')# ROC-кривая случайной модели \n",
    "plt.ylim([0.0, 1.0])# установим границу осей от 0 до 1\n",
    "plt.xlim([0.0, 1.0])\n",
    "plt.xlabel('False Positive Rate')\n",
    "plt.ylabel('True Positive Rate')\n",
    "plt.title('ROC-кривая')"
   ]
  },
  {
   "cell_type": "markdown",
   "metadata": {},
   "source": [
    "**Вывод**\n",
    "\n",
    "На Случайном лесе с глубиной 14 и числом деревьев 35 показатели качества модели получилсь следующими:\n",
    "* F1-мера наилучшей модели на валидационной выборке: 0.5786963434022258\n",
    "* Полнота наилучшей модели на валидационной выборке: 0.46547314578005117\n",
    "* Точность наилучшей модели на валидационной выборке: 0.7647058823529411\n",
    "* Accuracy наилучшей модели на валидационной выборке: 0.8675\n",
    "* AUC-ROC  наилучшей модели на валидационной выборке: 0.8338152241467831\n",
    "\n",
    "Из задания можно сделать выводы, что модель нужно улучшать, тк F1-меру нужно довести минимум до 0,59.<br>\n",
    "Далее учтём дисбаланс классов, рассмотрим разные модели и выберем лучшую по параметрам."
   ]
  },
  {
   "cell_type": "markdown",
   "metadata": {},
   "source": [
    "## Борьба с дисбалансом"
   ]
  },
  {
   "cell_type": "markdown",
   "metadata": {},
   "source": [
    "### Обучающее дерево с учётом дисбаланса"
   ]
  },
  {
   "cell_type": "markdown",
   "metadata": {},
   "source": [
    "Посмотрим на какой глубине дерева оптимально будет работать модель и будет выдавать наилучшее значение F1-меры при условии, что мы сбалансируем классы добавив взвешивание классов `class_weight='balanced`"
   ]
  },
  {
   "cell_type": "code",
   "execution_count": 22,
   "metadata": {},
   "outputs": [
    {
     "name": "stdout",
     "output_type": "stream",
     "text": [
      "F1-мера наилучшей модели на валидационной выборке: 0.5587044534412956\n",
      "Полнота наилучшей модели на валидационной выборке: 0.7058823529411765\n",
      "Точность наилучшей модели на валидационной выборке: 0.4623115577889447\n",
      "Accuracy наилучшей модели на валидационной выборке: 0.782\n",
      "Наилучшая модель с параметрами: DecisionTreeClassifier(class_weight='balanced', max_depth=6, random_state=12345)\n",
      "Wall time: 316 ms\n"
     ]
    }
   ],
   "source": [
    "%%time\n",
    "\n",
    "best_model_tree_balance = None\n",
    "best_result_f1_score_balance = 0\n",
    "result_recall_balance = 0\n",
    "result_precision_balance = 0\n",
    "result_accuracy_balance = 0\n",
    "for i in range(1, 15):\n",
    "    model_tree_balance = DecisionTreeClassifier(max_depth = i, class_weight='balanced', random_state=12345) # зададим параметры модели обучающего дерева\n",
    "    model_tree_balance.fit(features_train, target_train) # обучаем модель на учебной выборке\n",
    "    predictions_valid_balance = model_tree_balance.predict(features_valid) # проверим предсказания модели на валидационных признаках\n",
    "    result_balance = f1_score(target_valid, predictions_valid_balance)\n",
    "    recall_balance = recall_score(target_valid, predictions_valid_balance)\n",
    "    precision_balance = precision_score(target_valid, predictions_valid_balance)\n",
    "    accuracy_balance = accuracy_score(target_valid, predictions_valid_balance)\n",
    "    if result_balance > best_result_f1_score_balance: # выберем наилучшее значение метрики f1_score\n",
    "        best_result_f1_score_balance = result_balance \n",
    "        result_recall_balance = recall_balance\n",
    "        result_precision_balance = precision_balance\n",
    "        result_accuracy_balance = accuracy_balance\n",
    "        best_model_tree_balance = model_tree_balance\n",
    "\n",
    "print(\"F1-мера наилучшей модели на валидационной выборке:\", best_result_f1_score_balance)  \n",
    "print(\"Полнота наилучшей модели на валидационной выборке:\", result_recall_balance) \n",
    "print(\"Точность наилучшей модели на валидационной выборке:\", result_precision_balance) \n",
    "print(\"Accuracy наилучшей модели на валидационной выборке:\", result_accuracy_balance) \n",
    "print(\"Наилучшая модель с параметрами:\", best_model_tree_balance)  "
   ]
  },
  {
   "cell_type": "markdown",
   "metadata": {},
   "source": [
    "Найдём матрицу неточностей у лучшей модели, построим ROC-кривую и вычесли значение AUC-ROC"
   ]
  },
  {
   "cell_type": "code",
   "execution_count": 23,
   "metadata": {},
   "outputs": [
    {
     "name": "stdout",
     "output_type": "stream",
     "text": [
      "Матрица неточностей\n",
      "[[1288  321]\n",
      " [ 115  276]]\n",
      "AUC-ROC = 0.8090671240258203\n"
     ]
    },
    {
     "data": {
      "text/plain": [
       "Text(0.5, 1.0, 'ROC-кривая')"
      ]
     },
     "execution_count": 23,
     "metadata": {},
     "output_type": "execute_result"
    },
    {
     "data": {
      "image/png": "[encoded data removed]",
      "text/plain": [
       "<Figure size 432x288 with 1 Axes>"
      ]
     },
     "metadata": {
      "needs_background": "light"
     },
     "output_type": "display_data"
    }
   ],
   "source": [
    "model_tree_best_balance = DecisionTreeClassifier(max_depth = 6, class_weight='balanced', random_state=12345) # зададим параметры модели обучающего дерева\n",
    "model_tree_best_balance.fit(features_train, target_train) # обучаем модель на учебной выборке\n",
    "predictions_valid_tree_balance = model_tree_best_balance.predict(features_valid)\n",
    "print('Матрица неточностей')\n",
    "print(confusion_matrix(target_valid, predictions_valid_tree_balance))\n",
    "\n",
    "probabilities_valid = model_tree_best_balance.predict_proba(features_valid)\n",
    "probabilities_one_valid = probabilities_valid[:, 1]\n",
    "\n",
    "print(f'AUC-ROC = {roc_auc_score(target_valid, probabilities_one_valid)}') # рассчитаем AUC-ROC\n",
    "\n",
    "fpr, tpr, thresholds = roc_curve(target_valid, probabilities_one_valid)\n",
    "\n",
    "plt.figure()\n",
    "plt.plot(fpr, tpr)\n",
    "plt.plot([0, 1],[0, 1],linestyle='--')# ROC-кривая случайной модели \n",
    "plt.ylim([0.0, 1.0])# установим границу осей от 0 до 1\n",
    "plt.xlim([0.0, 1.0])\n",
    "plt.xlabel('False Positive Rate')\n",
    "plt.ylabel('True Positive Rate')\n",
    "plt.title('ROC-кривая')\n"
   ]
  },
  {
   "cell_type": "markdown",
   "metadata": {},
   "source": [
    "**Вывод**\n",
    "\n",
    "На Обучающем дереве с глубиной 6 и со взвешиванием классов показатели качества модели получилсь следующими:\n",
    "* F1-мера наилучшей модели на валидационной выборке: 0.5587044534412956\n",
    "* Полнота наилучшей модели на валидационной выборке: 0.7058823529411765\n",
    "* Точность наилучшей модели на валидационной выборке: 0.4623115577889447\n",
    "* Accuracy наилучшей модели на валидационной выборке: 0.782\n",
    "* AUC-ROC  наилучшей модели на валидационной выборке: 0.8090671240258203\n",
    "\n",
    "При взвешивании классов показатель F1-меры немного улучшился с 0.5584 до 0.5587 и улучшилось значение AUC-ROC с  0.7814 до 0.809.<br>\n",
    "Из задания можно сделать выводы, что модель нужно улучшать, тк F1-меру нужно довести минимум до 0,59.\n",
    "Далее рассмотрим другие модели и выберем лучшую по параметрам."
   ]
  },
  {
   "cell_type": "markdown",
   "metadata": {},
   "source": [
    "### Случайный лес"
   ]
  },
  {
   "cell_type": "markdown",
   "metadata": {},
   "source": [
    "Посмотрим на какой глубине дерева и с каким числом деревьев оптимально будет работать модель и будет выдавать наилучшее значение F1-меры при условии, что мы сбалансируем классы добавив взвешивание классов `class_weight='balanced`"
   ]
  },
  {
   "cell_type": "code",
   "execution_count": 24,
   "metadata": {},
   "outputs": [
    {
     "name": "stdout",
     "output_type": "stream",
     "text": [
      "F1-мера наилучшей модели на валидационной выборке: 0.6024096385542169\n",
      "Полнота наилучшей модели на валидационной выборке: 0.5754475703324808\n",
      "Точность наилучшей модели на валидационной выборке: 0.6320224719101124\n",
      "Accuracy наилучшей модели на валидационной выборке: 0.8515\n",
      "Наилучшая модель с параметрами: RandomForestClassifier(class_weight='balanced', max_depth=11, n_estimators=55,\n",
      "                       random_state=12345)\n",
      "Wall time: 2min 37s\n"
     ]
    }
   ],
   "source": [
    "%%time\n",
    "\n",
    "best_model_forest_balance = None\n",
    "best_result_forest_f1_score_balance = 0\n",
    "forest_recall_balance = 0\n",
    "forest_precision_balance = 0\n",
    "forest_accuracy_balance = 0\n",
    "for est in range(1, 100, 2): # переберём с помощью цикла значения деревьев от 1 до 100\n",
    "    for i in range(1, 15): # переберём с помощью цикла значения глубины деревьева от 1 до 15\n",
    "        model_forest_balance = RandomForestClassifier(random_state=12345, n_estimators=est, max_depth = i, class_weight='balanced') # зададим параметры модели случайный лес\n",
    "        model_forest_balance.fit(features_train, target_train)\n",
    "        predictions_forest_balance = model_forest_balance.predict(features_valid)\n",
    "        result_forest_balance = f1_score(target_valid, predictions_forest_balance) \n",
    "        recall_forest_balance = recall_score(target_valid, predictions_forest_balance)\n",
    "        precision_forest_balance = precision_score(target_valid, predictions_forest_balance)\n",
    "        accuracy_forest_balance = accuracy_score(target_valid, predictions_forest_balance)\n",
    "        if result_forest_balance > best_result_forest_f1_score_balance: # выберем наилучшее значение метрики f1_score \n",
    "            best_model_forest_balance = model_forest_balance\n",
    "            best_result_forest_f1_score_balance = result_forest_balance\n",
    "            forest_recall_balance = recall_forest_balance\n",
    "            forest_precision_balance = precision_forest_balance\n",
    "            forest_accuracy_balance = accuracy_forest_balance\n",
    "        \n",
    "print(\"F1-мера наилучшей модели на валидационной выборке:\", best_result_forest_f1_score_balance)  \n",
    "print(\"Полнота наилучшей модели на валидационной выборке:\", forest_recall_balance) \n",
    "print(\"Точность наилучшей модели на валидационной выборке:\", forest_precision_balance) \n",
    "print(\"Accuracy наилучшей модели на валидационной выборке:\", forest_accuracy_balance) \n",
    "print(\"Наилучшая модель с параметрами:\",best_model_forest_balance)  "
   ]
  },
  {
   "cell_type": "markdown",
   "metadata": {},
   "source": [
    "Найдём матрицу неточностей у лучшей модели, построим ROC-кривую и вычесли значение AUC-ROC"
   ]
  },
  {
   "cell_type": "code",
   "execution_count": 25,
   "metadata": {},
   "outputs": [
    {
     "name": "stdout",
     "output_type": "stream",
     "text": [
      "Матрица неточностей\n",
      "[[1478  131]\n",
      " [ 166  225]]\n",
      "AUC-ROC = 0.8481797561351669\n"
     ]
    },
    {
     "data": {
      "text/plain": [
       "Text(0.5, 1.0, 'ROC-кривая')"
      ]
     },
     "execution_count": 25,
     "metadata": {},
     "output_type": "execute_result"
    },
    {
     "data": {
      "image/png": "[encoded data removed]",
      "text/plain": [
       "<Figure size 432x288 with 1 Axes>"
      ]
     },
     "metadata": {
      "needs_background": "light"
     },
     "output_type": "display_data"
    }
   ],
   "source": [
    "model_forest_best_balance = RandomForestClassifier(class_weight='balanced', max_depth=11, n_estimators=55, random_state=12345) # зададим параметры модели случайный лес\n",
    "model_forest_best_balance.fit(features_train, target_train)\n",
    "predictions_forest_best_balance = model_forest_best_balance.predict(features_valid)\n",
    "\n",
    "print('Матрица неточностей')\n",
    "print(confusion_matrix(target_valid, predictions_forest_best_balance))\n",
    "\n",
    "probabilities_forest_balance = model_forest_best_balance.predict_proba(features_valid)\n",
    "probabilities_one_forest_balance = probabilities_forest_balance[:, 1]\n",
    "\n",
    "print(f'AUC-ROC = {roc_auc_score(target_valid, probabilities_one_forest_balance)}') # рассчитаем AUC-ROC\n",
    "\n",
    "fpr, tpr, thresholds = roc_curve(target_valid, probabilities_one_forest_balance)\n",
    "\n",
    "plt.figure()\n",
    "plt.plot(fpr, tpr)\n",
    "plt.plot([0, 1],[0, 1],linestyle='--')# ROC-кривая случайной модели \n",
    "plt.ylim([0.0, 1.0])# установим границу осей от 0 до 1\n",
    "plt.xlim([0.0, 1.0])\n",
    "plt.xlabel('False Positive Rate')\n",
    "plt.ylabel('True Positive Rate')\n",
    "plt.title('ROC-кривая')"
   ]
  },
  {
   "cell_type": "markdown",
   "metadata": {},
   "source": [
    "**Вывод**\n",
    "\n",
    "На Случайном лесе с глубиной деревьев 11 и 55 деревьями со взвешиванием классов показатели качества модели получились следующими:\n",
    "\n",
    "* F1-мера наилучшей модели на валидационной выборке: 0.6024096385542169\n",
    "* Полнота наилучшей модели на валидационной выборке: 0.5754475703324808\n",
    "* Точность наилучшей модели на валидационной выборке: 0.6320224719101124\n",
    "* Accuracy наилучшей модели на валидационной выборке: 0.8515\n",
    "* AUC-ROC наилучшей модели на валидационной выборке: 0.8481797561351669\n",
    "\n",
    "При взвешивании классов показатель F1-меры немного улучшился с 0.579 до 0.6024, но при этом улучшилось значение AUC-ROC с 0.834 до 0.848. <br>\n",
    "Согласно заданию показатели по F1-мере достигли необходимых значений, тк F1-меру нужно довести минимум до 0,59, а у данной модели F1-мера равна 0.6024."
   ]
  },
  {
   "cell_type": "markdown",
   "metadata": {},
   "source": [
    "### Логистическая регрессия со взвешиванием классов"
   ]
  },
  {
   "cell_type": "markdown",
   "metadata": {},
   "source": [
    "Посмотрим с каким числом итераций и каким решателем оптимально будет работать модель и будет выдавать наилучшее значение F1-меры при условии, что мы сбалансируем классы добавив взвешивание классов `class_weight='balanced'`"
   ]
  },
  {
   "cell_type": "code",
   "execution_count": 26,
   "metadata": {},
   "outputs": [
    {
     "name": "stdout",
     "output_type": "stream",
     "text": [
      "F1-мера наилучшей модели на валидационной выборке: 0.4741532976827095\n",
      "Полнота наилучшей модели на валидационной выборке: 0.680306905370844\n",
      "Точность наилучшей модели на валидационной выборке: 0.36388508891928867\n",
      "Accuracy наилучшей модели на валидационной выборке: 0.705\n",
      "Наилучшая модель с параметрами: LogisticRegression(class_weight='balanced', max_iter=1000, random_state=12345,\n",
      "                   solver='newton-cg')\n",
      "Wall time: 7.29 s\n"
     ]
    }
   ],
   "source": [
    "%%time\n",
    "\n",
    "best_model_logist = None\n",
    "best_result_logist = 0\n",
    "logist_recall = 0\n",
    "logist_precision = 0\n",
    "logist_accuracy = 0\n",
    "for i in range(1000, 100000, 2000): # перебираем число итераций с шагом в 1000\n",
    "    for solver in ('newton-cg', 'lbfgs', 'liblinear', 'sag', 'saga'): # перебираем варианты решателя\n",
    "        model_logist = LogisticRegression(random_state=12345, solver=solver, max_iter=i, class_weight='balanced') # инициализируем модель логистической регрессии с параметрами\n",
    "        model_logist.fit(features_train, target_train) # обучим модель на тренировочной выборке\n",
    "        predictions_logist = model_logist.predict(features_valid)\n",
    "        result_logist = f1_score(target_valid, predictions_logist) \n",
    "        recall_logist = recall_score(target_valid, predictions_logist)\n",
    "        precision_logist = precision_score(target_valid, predictions_logist)\n",
    "        accuracy_logist = accuracy_score(target_valid, predictions_logist)\n",
    "        if result_logist > best_result_logist:\n",
    "            best_model_logist = model_logist# сохраним наилучшую модель\n",
    "            best_result_logist = result_logist\n",
    "            logist_recall = recall_logist\n",
    "            logist_precision = precision_logist\n",
    "            logist_accuracy = accuracy_logist\n",
    "\n",
    "print(\"F1-мера наилучшей модели на валидационной выборке:\", best_result_logist)  \n",
    "print(\"Полнота наилучшей модели на валидационной выборке:\", logist_recall) \n",
    "print(\"Точность наилучшей модели на валидационной выборке:\", logist_precision) \n",
    "print(\"Accuracy наилучшей модели на валидационной выборке:\", logist_accuracy) \n",
    "print(\"Наилучшая модель с параметрами:\",best_model_logist)\n"
   ]
  },
  {
   "cell_type": "markdown",
   "metadata": {},
   "source": [
    "Найдём матрицу неточностей у лучшей модели, построим ROC-кривую и вычесли значение AUC-ROC"
   ]
  },
  {
   "cell_type": "code",
   "execution_count": 27,
   "metadata": {},
   "outputs": [
    {
     "name": "stdout",
     "output_type": "stream",
     "text": [
      "Матрица неточностей\n",
      "[[1144  465]\n",
      " [ 125  266]]\n",
      "AUC-ROC = 0.7725581328810606\n"
     ]
    },
    {
     "data": {
      "text/plain": [
       "Text(0.5, 1.0, 'ROC-кривая')"
      ]
     },
     "execution_count": 27,
     "metadata": {},
     "output_type": "execute_result"
    },
    {
     "data": {
      "image/png": "[encoded data removed]",
      "text/plain": [
       "<Figure size 432x288 with 1 Axes>"
      ]
     },
     "metadata": {
      "needs_background": "light"
     },
     "output_type": "display_data"
    }
   ],
   "source": [
    "model_logist_best = LogisticRegression(random_state=12345, solver='newton-cg', max_iter=1000, class_weight='balanced')  # зададим параметры модели логистической регрессии\n",
    "model_logist_best.fit(features_train, target_train)\n",
    "predictions_logist_best = model_logist_best.predict(features_valid)\n",
    "\n",
    "print('Матрица неточностей')\n",
    "print(confusion_matrix(target_valid, predictions_logist_best))\n",
    "\n",
    "probabilities_logist_best = model_logist_best.predict_proba(features_valid)\n",
    "probabilities_one_logist_best = probabilities_logist_best[:, 1]\n",
    "\n",
    "print(f'AUC-ROC = {roc_auc_score(target_valid, probabilities_one_logist_best)}') # рассчитаем AUC-ROC\n",
    "\n",
    "fpr, tpr, thresholds = roc_curve(target_valid, probabilities_one_logist_best)\n",
    "\n",
    "plt.figure()\n",
    "plt.plot(fpr, tpr)\n",
    "plt.plot([0, 1],[0, 1],linestyle='--')# ROC-кривая случайной модели \n",
    "plt.ylim([0.0, 1.0])# установим границу осей от 0 до 1\n",
    "plt.xlim([0.0, 1.0])\n",
    "plt.xlabel('False Positive Rate')\n",
    "plt.ylabel('True Positive Rate')\n",
    "plt.title('ROC-кривая')"
   ]
  },
  {
   "cell_type": "markdown",
   "metadata": {},
   "source": [
    "**Вывод**\n",
    "\n",
    "На логистическоё регрессии со взвешиванием классов показатели качества модели получились следующими:\n",
    "\n",
    "* F1-мера наилучшей модели на валидационной выборке: 0.4741532976827095\n",
    "* Полнота наилучшей модели на валидационной выборке: 0.680306905370844\n",
    "* Точность наилучшей модели на валидационной выборке: 0.36388508891928867\n",
    "* Accuracy наилучшей модели на валидационной выборке: 0.705\n",
    "* AUC-ROC наилучшей модели на валидационной выборке: 0.7725581328810606\n",
    "\n",
    "Данная модель показала значительно более плохие результаты F1-меры, чем предыдущие модели. <br>\n",
    "Согласно заданию F1-меру нужно довести минимум до 0,59, а у данной модели F1-мера равна всего 0.474."
   ]
  },
  {
   "cell_type": "markdown",
   "metadata": {},
   "source": [
    "### Логистическая регрессия с увеличением выборки"
   ]
  },
  {
   "cell_type": "markdown",
   "metadata": {},
   "source": [
    "Посмотрим с каким числом итераций и каким решателем оптимально будет работать модель и будет выдавать наилучшее значение F1-меры при условии, что увеличим выборку, чтобы сравнять баланс классов"
   ]
  },
  {
   "cell_type": "code",
   "execution_count": 28,
   "metadata": {},
   "outputs": [
    {
     "name": "stdout",
     "output_type": "stream",
     "text": [
      "F1-мера наилучшей модели на валидационной выборке: 0.4771126760563381\n",
      "Полнота наилучшей модели на валидационной выборке: 0.6930946291560103\n",
      "Точность наилучшей модели на валидационной выборке: 0.363758389261745\n",
      "Accuracy наилучшей модели на валидационной выборке: 0.703\n",
      "Наилучшая модель с параметрами: LogisticRegression(max_iter=1000, random_state=12345, solver='newton-cg')\n",
      "Wall time: 9.28 s\n"
     ]
    }
   ],
   "source": [
    "%%time\n",
    "\n",
    "def upsample(features, target, repeat):\n",
    "    features_zeros = features[target == 0]\n",
    "    features_ones = features[target == 1]\n",
    "    target_zeros = target[target == 0]\n",
    "    target_ones = target[target == 1]\n",
    "    \n",
    "    features_upsampled = pd.concat([features_zeros] + [features_ones] * repeat)\n",
    "    target_upsampled = pd.concat([target_zeros] + [target_ones] * repeat)\n",
    "    \n",
    "    features_upsampled, target_upsampled = shuffle(features_upsampled, target_upsampled, random_state=12345)\n",
    "    \n",
    "    return features_upsampled, target_upsampled\n",
    "\n",
    "features_upsampled, target_upsampled = upsample(features_train, target_train, 4)\n",
    "\n",
    "best_model_logist_upsample = None\n",
    "best_result_logist_upsample = 0\n",
    "logist_recall_upsample = 0\n",
    "logist_precision_upsample = 0\n",
    "logist_accuracy_upsample = 0\n",
    "for i in range(1000, 100000, 2000): # перебираем число итераций с шагом в 2000\n",
    "    for solver in ('newton-cg', 'lbfgs', 'liblinear', 'sag', 'saga'): # перебираем варианты решателя\n",
    "        model_logist_upsample = LogisticRegression(random_state=12345, solver=solver, max_iter=i) # инициализируем модель логистической регрессии с параметрами\n",
    "        model_logist_upsample.fit(features_upsampled, target_upsampled) # обучим модель на тренировочной выборке\n",
    "        predictions_logist_upsample = model_logist_upsample.predict(features_valid)\n",
    "        result_logist_upsample = f1_score(target_valid, predictions_logist_upsample) \n",
    "        recall_logist_upsample = recall_score(target_valid, predictions_logist_upsample)\n",
    "        precision_logist_upsample = precision_score(target_valid, predictions_logist_upsample)\n",
    "        accuracy_logist_upsample = accuracy_score(target_valid, predictions_logist_upsample)\n",
    "        if result_logist_upsample > best_result_logist_upsample:\n",
    "            best_model_logist_upsample = model_logist_upsample# сохраним наилучшую модель\n",
    "            best_result_logist_upsample = result_logist_upsample\n",
    "            logist_recall_upsample = recall_logist_upsample\n",
    "            logist_precision_upsample = precision_logist_upsample\n",
    "            logist_accuracy_upsample = accuracy_logist_upsample\n",
    "\n",
    "print(\"F1-мера наилучшей модели на валидационной выборке:\", best_result_logist_upsample)  \n",
    "print(\"Полнота наилучшей модели на валидационной выборке:\", logist_recall_upsample) \n",
    "print(\"Точность наилучшей модели на валидационной выборке:\", logist_precision_upsample) \n",
    "print(\"Accuracy наилучшей модели на валидационной выборке:\", logist_accuracy_upsample) \n",
    "print(\"Наилучшая модель с параметрами:\",best_model_logist_upsample)"
   ]
  },
  {
   "cell_type": "markdown",
   "metadata": {},
   "source": [
    "Найдём матрицу неточностей у лучшей модели, построим ROC-кривую и вычесли значение AUC-ROC"
   ]
  },
  {
   "cell_type": "code",
   "execution_count": 29,
   "metadata": {},
   "outputs": [
    {
     "name": "stdout",
     "output_type": "stream",
     "text": [
      "Матрица неточностей\n",
      "[[1135  474]\n",
      " [ 120  271]]\n",
      "AUC-ROC = 0.7725644909786543\n"
     ]
    },
    {
     "data": {
      "text/plain": [
       "Text(0.5, 1.0, 'ROC-кривая')"
      ]
     },
     "execution_count": 29,
     "metadata": {},
     "output_type": "execute_result"
    },
    {
     "data": {
      "image/png": "[encoded data removed]",
      "text/plain": [
       "<Figure size 432x288 with 1 Axes>"
      ]
     },
     "metadata": {
      "needs_background": "light"
     },
     "output_type": "display_data"
    }
   ],
   "source": [
    "features_upsampled, target_upsampled = upsample(features_train, target_train, 4)\n",
    "\n",
    "model_logist_best_upsample = LogisticRegression(random_state=12345, solver='newton-cg', max_iter=1000)  # зададим параметры модели логистической регрессии\n",
    "model_logist_best_upsample.fit(features_upsampled, target_upsampled)\n",
    "predictions_logist_best_upsample = model_logist_best_upsample.predict(features_valid)\n",
    "\n",
    "print('Матрица неточностей')\n",
    "print(confusion_matrix(target_valid, predictions_logist_best_upsample))\n",
    "\n",
    "probabilities_logist_best_upsample = model_logist_best_upsample.predict_proba(features_valid)\n",
    "probabilities_one_logist_best_upsample = probabilities_logist_best_upsample[:, 1]\n",
    "\n",
    "print(f'AUC-ROC = {roc_auc_score(target_valid, probabilities_one_logist_best_upsample)}') # рассчитаем AUC-ROC\n",
    "\n",
    "fpr, tpr, thresholds = roc_curve(target_valid, probabilities_one_logist_best_upsample)\n",
    "\n",
    "plt.figure()\n",
    "plt.plot(fpr, tpr)\n",
    "plt.plot([0, 1],[0, 1],linestyle='--')# ROC-кривая случайной модели \n",
    "plt.ylim([0.0, 1.0])# установим границу осей от 0 до 1\n",
    "plt.xlim([0.0, 1.0])\n",
    "plt.xlabel('False Positive Rate')\n",
    "plt.ylabel('True Positive Rate')\n",
    "plt.title('ROC-кривая')"
   ]
  },
  {
   "cell_type": "markdown",
   "metadata": {},
   "source": [
    "**Вывод**\n",
    "\n",
    "На логистическоё регрессии с увеличенной выборкой показатели качества модели получились следующими:\n",
    "\n",
    "* F1-мера наилучшей модели на валидационной выборке: 0.4771126760563381\n",
    "* Полнота наилучшей модели на валидационной выборке: 0.6930946291560103\n",
    "* Точность наилучшей модели на валидационной выборке: 0.363758389261745\n",
    "* Accuracy наилучшей модели на валидационной выборке: 0.703\n",
    "* AUC-ROC наилучшей модели на валидационной выборке: 0.7725501852590686\n",
    "\n",
    "Данная модель показала ещё более плохие результаты F1-меры, чем со взвешиванием классов. <br>"
   ]
  },
  {
   "cell_type": "markdown",
   "metadata": {},
   "source": [
    "### Случайный лес с увеличением выборки"
   ]
  },
  {
   "cell_type": "markdown",
   "metadata": {},
   "source": [
    "Посмотрим на какой глубине дерева и с каким числом деревьев оптимально будет работать модель и будет выдавать наилучшее значение F1-меры при условии, что увеличим выборку, чтобы сравнять баланс классов"
   ]
  },
  {
   "cell_type": "code",
   "execution_count": 30,
   "metadata": {
    "scrolled": true
   },
   "outputs": [
    {
     "name": "stdout",
     "output_type": "stream",
     "text": [
      "F1-мера наилучшей модели на валидационной выборке: 0.6047678795483061\n",
      "Полнота наилучшей модели на валидационной выборке: 0.6163682864450127\n",
      "Точность наилучшей модели на валидационной выборке: 0.5935960591133005\n",
      "Accuracy наилучшей модели на валидационной выборке: 0.8425\n",
      "Наилучшая модель с параметрами: RandomForestClassifier(max_depth=13, n_estimators=53, random_state=12345)\n",
      "Wall time: 3min 33s\n"
     ]
    }
   ],
   "source": [
    "%%time\n",
    "\n",
    "best_model_forest_upsample = None\n",
    "best_result_forest_f1_score_upsample = 0\n",
    "forest_recall_upsample = 0\n",
    "forest_precision_upsample = 0\n",
    "forest_accuracy_upsample = 0\n",
    "for est in range(1, 100, 2): # переберём с помощью цикла значения деревьев от 1 до 100\n",
    "    for i in range(1, 15): # переберём с помощью цикла значения глубины деревьева от 1 до 15\n",
    "        model_forest_upsample = RandomForestClassifier(random_state=12345, n_estimators=est, max_depth = i) # зададим параметры модели случайный лес\n",
    "        model_forest_upsample.fit(features_upsampled, target_upsampled)\n",
    "        predictions_forest_upsample = model_forest_upsample.predict(features_valid)\n",
    "        result_forest_upsample = f1_score(target_valid, predictions_forest_upsample) \n",
    "        recall_forest_upsample = recall_score(target_valid, predictions_forest_upsample)\n",
    "        precision_forest_upsample = precision_score(target_valid, predictions_forest_upsample)\n",
    "        accuracy_forest_upsample = accuracy_score(target_valid, predictions_forest_upsample)\n",
    "        if result_forest_upsample > best_result_forest_f1_score_upsample: # выберем наилучшее значение метрики f1_score \n",
    "            best_model_forest_upsample = model_forest_upsample\n",
    "            best_result_forest_f1_score_upsample = result_forest_upsample\n",
    "            forest_recall_upsample = recall_forest_upsample\n",
    "            forest_precision_upsample = precision_forest_upsample\n",
    "            forest_accuracy_upsample = accuracy_forest_upsample\n",
    "        \n",
    "print(\"F1-мера наилучшей модели на валидационной выборке:\", best_result_forest_f1_score_upsample)  \n",
    "print(\"Полнота наилучшей модели на валидационной выборке:\", forest_recall_upsample) \n",
    "print(\"Точность наилучшей модели на валидационной выборке:\", forest_precision_upsample) \n",
    "print(\"Accuracy наилучшей модели на валидационной выборке:\", forest_accuracy_upsample) \n",
    "print(\"Наилучшая модель с параметрами:\",best_model_forest_upsample) "
   ]
  },
  {
   "cell_type": "markdown",
   "metadata": {},
   "source": [
    "Найдём матрицу неточностей у лучшей модели, построим ROC-кривую и вычесли значение AUC-ROC"
   ]
  },
  {
   "cell_type": "code",
   "execution_count": 31,
   "metadata": {},
   "outputs": [
    {
     "name": "stdout",
     "output_type": "stream",
     "text": [
      "Матрица неточностей\n",
      "[[1444  165]\n",
      " [ 150  241]]\n",
      "AUC-ROC = 0.8481471708849995\n"
     ]
    },
    {
     "data": {
      "text/plain": [
       "Text(0.5, 1.0, 'ROC-кривая')"
      ]
     },
     "execution_count": 31,
     "metadata": {},
     "output_type": "execute_result"
    },
    {
     "data": {
      "image/png": "[encoded data removed]",
      "text/plain": [
       "<Figure size 432x288 with 1 Axes>"
      ]
     },
     "metadata": {
      "needs_background": "light"
     },
     "output_type": "display_data"
    }
   ],
   "source": [
    "model_forest_best_upsample = RandomForestClassifier(max_depth=13, n_estimators=53, random_state=12345) # зададим параметры модели случайный лес\n",
    "model_forest_best_upsample.fit(features_upsampled, target_upsampled)\n",
    "predictions_forest_best_upsample = model_forest_best_upsample.predict(features_valid)\n",
    "\n",
    "print('Матрица неточностей')\n",
    "print(confusion_matrix(target_valid, predictions_forest_best_upsample))\n",
    "\n",
    "probabilities_forest_upsample = model_forest_best_upsample.predict_proba(features_valid)\n",
    "probabilities_one_forest_upsample = probabilities_forest_upsample[:, 1]\n",
    "\n",
    "print(f'AUC-ROC = {roc_auc_score(target_valid, probabilities_one_forest_upsample)}') # рассчитаем AUC-ROC\n",
    "\n",
    "fpr, tpr, thresholds = roc_curve(target_valid, probabilities_one_forest_upsample)\n",
    "\n",
    "plt.figure()\n",
    "plt.plot(fpr, tpr)\n",
    "plt.plot([0, 1],[0, 1],linestyle='--')# ROC-кривая случайной модели \n",
    "plt.ylim([0.0, 1.0])# установим границу осей от 0 до 1\n",
    "plt.xlim([0.0, 1.0])\n",
    "plt.xlabel('False Positive Rate')\n",
    "plt.ylabel('True Positive Rate')\n",
    "plt.title('ROC-кривая')"
   ]
  },
  {
   "cell_type": "markdown",
   "metadata": {},
   "source": [
    "### Обучающее дерево с увеличением выборки"
   ]
  },
  {
   "cell_type": "markdown",
   "metadata": {},
   "source": [
    "**Вывод**\n",
    "\n",
    "На случайном лесу с увеличенной выборкой показатели качества модели получились следующими:\n",
    "\n",
    "* F1-мера наилучшей модели на валидационной выборке: 0.6047678795483061\n",
    "* Полнота наилучшей модели на валидационной выборке: 0.6163682864450127\n",
    "* Точность наилучшей модели на валидационной выборке: 0.5935960591133005\n",
    "* Accuracy наилучшей модели на валидационной выборке: 0.8425\n",
    "* AUC-ROC наилучшей модели на валидационной выборке: 0.8481471708849995\n",
    "\n",
    "При увеличении выборки F1-меры немного улучшился с 0.6024 до 0.6048. <br>\n",
    "Согласно заданию показатели по F1-мере достигли необходимых значений, тк F1-меру нужно довести минимум до 0,59, а у данной модели F1-мера равна 0.6048."
   ]
  },
  {
   "cell_type": "markdown",
   "metadata": {},
   "source": [
    "Посмотрим на какой глубине дерева оптимально будет работать модель и будет выдавать наилучшее значение F1-меры при условии, что увеличим выборку, чтобы сравнять баланс классов"
   ]
  },
  {
   "cell_type": "code",
   "execution_count": 32,
   "metadata": {},
   "outputs": [
    {
     "name": "stdout",
     "output_type": "stream",
     "text": [
      "F1-мера наилучшей модели на валидационной выборке: 0.5587044534412956\n",
      "Полнота наилучшей модели на валидационной выборке: 0.7058823529411765\n",
      "Точность наилучшей модели на валидационной выборке: 0.4623115577889447\n",
      "Accuracy наилучшей модели на валидационной выборке: 0.782\n",
      "Наилучшая модель с параметрами: DecisionTreeClassifier(max_depth=6, random_state=12345)\n",
      "Wall time: 375 ms\n"
     ]
    }
   ],
   "source": [
    "%%time\n",
    "\n",
    "best_model_tree_upsampled = None\n",
    "best_result_f1_score_upsampled = 0\n",
    "result_recall_upsampled = 0\n",
    "result_precision_upsampled = 0\n",
    "result_accuracy_upsampled = 0\n",
    "for i in range(1, 15):\n",
    "    model_tree_upsampled = DecisionTreeClassifier(max_depth = i, random_state=12345) # зададим параметры модели обучающего дерева\n",
    "    model_tree_upsampled.fit(features_upsampled, target_upsampled) # обучаем модель на учебной выборке\n",
    "    predictions_valid_upsampled = model_tree_upsampled.predict(features_valid) # проверим предсказания модели на валидационных признаках\n",
    "    result_upsampled = f1_score(target_valid, predictions_valid_upsampled)\n",
    "    recall_upsampled = recall_score(target_valid, predictions_valid_upsampled)\n",
    "    precision_upsampled = precision_score(target_valid, predictions_valid_upsampled)\n",
    "    accuracy_upsampled = accuracy_score(target_valid, predictions_valid_upsampled)\n",
    "    if result_upsampled > best_result_f1_score_upsampled: # выберем наилучшее значение метрики f1_score\n",
    "        best_result_f1_score_upsampled = result_upsampled \n",
    "        result_recall_upsampled = recall_upsampled\n",
    "        result_precision_upsampled = precision_upsampled\n",
    "        result_accuracy_upsampled = accuracy_upsampled\n",
    "        best_model_tree_upsampled = model_tree_upsampled\n",
    "\n",
    "print(\"F1-мера наилучшей модели на валидационной выборке:\", best_result_f1_score_upsampled)  \n",
    "print(\"Полнота наилучшей модели на валидационной выборке:\", result_recall_upsampled) \n",
    "print(\"Точность наилучшей модели на валидационной выборке:\", result_precision_upsampled) \n",
    "print(\"Accuracy наилучшей модели на валидационной выборке:\", result_accuracy_upsampled) \n",
    "print(\"Наилучшая модель с параметрами:\", best_model_tree_upsampled)  "
   ]
  },
  {
   "cell_type": "markdown",
   "metadata": {},
   "source": [
    "Найдём матрицу неточностей у лучшей модели, построим ROC-кривую и вычесли значение AUC-ROC"
   ]
  },
  {
   "cell_type": "code",
   "execution_count": 33,
   "metadata": {},
   "outputs": [
    {
     "name": "stdout",
     "output_type": "stream",
     "text": [
      "Матрица неточностей\n",
      "[[1288  321]\n",
      " [ 115  276]]\n",
      "AUC-ROC = 0.809054407830633\n"
     ]
    },
    {
     "data": {
      "text/plain": [
       "Text(0.5, 1.0, 'ROC-кривая')"
      ]
     },
     "execution_count": 33,
     "metadata": {},
     "output_type": "execute_result"
    },
    {
     "data": {
      "image/png": "[encoded data removed]",
      "text/plain": [
       "<Figure size 432x288 with 1 Axes>"
      ]
     },
     "metadata": {
      "needs_background": "light"
     },
     "output_type": "display_data"
    }
   ],
   "source": [
    "model_tree_best_upsampled = DecisionTreeClassifier(max_depth = 6, random_state=12345) # зададим параметры модели обучающего дерева\n",
    "model_tree_best_upsampled.fit(features_upsampled, target_upsampled) # обучаем модель на учебной выборке\n",
    "predictions_valid_tree_upsampled = model_tree_best_upsampled.predict(features_valid)\n",
    "print('Матрица неточностей')\n",
    "print(confusion_matrix(target_valid, predictions_valid_tree_upsampled))\n",
    "\n",
    "probabilities_valid_upsampled = model_tree_best_upsampled.predict_proba(features_valid)\n",
    "probabilities_one_valid_upsampled = probabilities_valid_upsampled[:, 1]\n",
    "\n",
    "print(f'AUC-ROC = {roc_auc_score(target_valid, probabilities_one_valid_upsampled)}') # рассчитаем AUC-ROC\n",
    "\n",
    "fpr, tpr, thresholds = roc_curve(target_valid, probabilities_one_valid_upsampled)\n",
    "\n",
    "plt.figure()\n",
    "plt.plot(fpr, tpr)\n",
    "plt.plot([0, 1],[0, 1],linestyle='--')# ROC-кривая случайной модели \n",
    "plt.ylim([0.0, 1.0])# установим границу осей от 0 до 1\n",
    "plt.xlim([0.0, 1.0])\n",
    "plt.xlabel('False Positive Rate')\n",
    "plt.ylabel('True Positive Rate')\n",
    "plt.title('ROC-кривая')"
   ]
  },
  {
   "cell_type": "markdown",
   "metadata": {},
   "source": [
    "**Вывод**\n",
    "\n",
    "На обучающем дереве с увеличенной выборкой показатели качества модели получились следующими:\n",
    "\n",
    "* F1-мера наилучшей модели на валидационной выборке: 0.5587044534412956\n",
    "* Полнота наилучшей модели на валидационной выборке: 0.7058823529411765\n",
    "* Точность наилучшей модели на валидационной выборке: 0.4623115577889447\n",
    "* Accuracy наилучшей модели на валидационной выборке: 0.782\n",
    "* AUC-ROC наилучшей модели на валидационной выборке: 0.809054407830633\n",
    "\n",
    "При увеличении выборки значение F1-меры не изменилось по сравнению с моделью у которой производилось взвешивание классов.<br>\n"
   ]
  },
  {
   "cell_type": "markdown",
   "metadata": {},
   "source": [
    "## Тестирование модели"
   ]
  },
  {
   "cell_type": "markdown",
   "metadata": {},
   "source": [
    "### Тестирование моделей с обучением только на обучающей выбоке"
   ]
  },
  {
   "cell_type": "markdown",
   "metadata": {},
   "source": [
    "Протестируем модель обучающее дерево с наилучшими параметрами выбранными ранее"
   ]
  },
  {
   "cell_type": "code",
   "execution_count": 34,
   "metadata": {},
   "outputs": [
    {
     "name": "stdout",
     "output_type": "stream",
     "text": [
      "F1-мера наилучшей модели на тестовой выборке: 0.5933852140077821\n",
      "Полнота наилучшей модели на тестовой выборке: 0.7142857142857143\n",
      "Точность наилучшей модели на тестовой выборке: 0.5074875207986689\n",
      "Accuracy наилучшей модели на валидационной выборке: 0.791\n",
      "Матрица неточностей\n",
      "[[1277  296]\n",
      " [ 122  305]]\n",
      "AUC-ROC = 0.8190661797219174\n"
     ]
    },
    {
     "data": {
      "text/plain": [
       "Text(0.5, 1.0, 'ROC-кривая')"
      ]
     },
     "execution_count": 34,
     "metadata": {},
     "output_type": "execute_result"
    },
    {
     "data": {
      "image/png": "[encoded data removed]",
      "text/plain": [
       "<Figure size 432x288 with 1 Axes>"
      ]
     },
     "metadata": {
      "needs_background": "light"
     },
     "output_type": "display_data"
    }
   ],
   "source": [
    "model_tree_test = DecisionTreeClassifier(max_depth = 6, class_weight='balanced', random_state=12345) # зададим параметры модели обучающего дерева\n",
    "model_tree_test.fit(features_train, target_train) # обучаем модель на учебной выборке\n",
    "predictions_tree_test = model_tree_test.predict(features_test)\n",
    "print(\"F1-мера наилучшей модели на тестовой выборке:\", f1_score(target_test, predictions_tree_test))\n",
    "print(\"Полнота наилучшей модели на тестовой выборке:\", recall_score(target_test, predictions_tree_test))\n",
    "print(\"Точность наилучшей модели на тестовой выборке:\", precision_score(target_test, predictions_tree_test))\n",
    "print(\"Accuracy наилучшей модели на валидационной выборке:\", accuracy_score(target_test, predictions_tree_test))\n",
    "\n",
    "print('Матрица неточностей')\n",
    "print(confusion_matrix(target_test, predictions_tree_test))\n",
    "\n",
    "probabilities_tree_test = model_tree_test.predict_proba(features_test)\n",
    "probabilities_one_tree_test = probabilities_tree_test[:, 1]\n",
    "\n",
    "print(f'AUC-ROC = {roc_auc_score(target_test, probabilities_one_tree_test)}') # рассчитаем AUC-ROC\n",
    "\n",
    "fpr, tpr, thresholds = roc_curve(target_test, probabilities_one_tree_test)\n",
    "\n",
    "plt.figure()\n",
    "plt.plot(fpr, tpr)\n",
    "plt.plot([0, 1],[0, 1],linestyle='--')# ROC-кривая случайной модели \n",
    "plt.ylim([0.0, 1.0])# установим границу осей от 0 до 1\n",
    "plt.xlim([0.0, 1.0])\n",
    "plt.xlabel('False Positive Rate')\n",
    "plt.ylabel('True Positive Rate')\n",
    "plt.title('ROC-кривая')"
   ]
  },
  {
   "cell_type": "markdown",
   "metadata": {},
   "source": [
    "Протестируем модель случайный лес с наилучшими параметрами выбранными ранее"
   ]
  },
  {
   "cell_type": "code",
   "execution_count": 35,
   "metadata": {},
   "outputs": [
    {
     "name": "stdout",
     "output_type": "stream",
     "text": [
      "F1-мера наилучшей модели на тестовой выборке: 0.6194477791116446\n",
      "Полнота наилучшей модели на тестовой выборке: 0.6042154566744731\n",
      "Точность наилучшей модели на тестовой выборке: 0.6354679802955665\n",
      "Accuracy наилучшей модели на валидационной выборке: 0.8415\n",
      "Матрица неточностей\n",
      "[[1425  148]\n",
      " [ 169  258]]\n",
      "AUC-ROC = 0.8534676947493639\n"
     ]
    },
    {
     "data": {
      "text/plain": [
       "Text(0.5, 1.0, 'ROC-кривая')"
      ]
     },
     "execution_count": 35,
     "metadata": {},
     "output_type": "execute_result"
    },
    {
     "data": {
      "image/png": "[encoded data removed]",
      "text/plain": [
       "<Figure size 432x288 with 1 Axes>"
      ]
     },
     "metadata": {
      "needs_background": "light"
     },
     "output_type": "display_data"
    }
   ],
   "source": [
    "model_forest_test = RandomForestClassifier(max_depth=13, n_estimators=53, random_state=12345) # зададим параметры модели случайный лес\n",
    "model_forest_test.fit(features_upsampled, target_upsampled)\n",
    "predictions_forest_test = model_forest_test.predict(features_test)\n",
    "print(\"F1-мера наилучшей модели на тестовой выборке:\", f1_score(target_test, predictions_forest_test))\n",
    "print(\"Полнота наилучшей модели на тестовой выборке:\", recall_score(target_test, predictions_forest_test))\n",
    "print(\"Точность наилучшей модели на тестовой выборке:\", precision_score(target_test, predictions_forest_test))\n",
    "print(\"Accuracy наилучшей модели на валидационной выборке:\", accuracy_score(target_test, predictions_forest_test))\n",
    "\n",
    "print('Матрица неточностей')\n",
    "print(confusion_matrix(target_test, predictions_forest_test))\n",
    "\n",
    "probabilities_forest_test = model_forest_test.predict_proba(features_test)\n",
    "probabilities_one_forest_test = probabilities_forest_test[:, 1]\n",
    "\n",
    "print(f'AUC-ROC = {roc_auc_score(target_test, probabilities_one_forest_test)}') # рассчитаем AUC-ROC\n",
    "\n",
    "fpr, tpr, thresholds = roc_curve(target_test, probabilities_one_forest_test)\n",
    "\n",
    "plt.figure()\n",
    "plt.plot(fpr, tpr)\n",
    "plt.plot([0, 1],[0, 1],linestyle='--')# ROC-кривая случайной модели \n",
    "plt.ylim([0.0, 1.0])# установим границу осей от 0 до 1\n",
    "plt.xlim([0.0, 1.0])\n",
    "plt.xlabel('False Positive Rate')\n",
    "plt.ylabel('True Positive Rate')\n",
    "plt.title('ROC-кривая')"
   ]
  },
  {
   "cell_type": "markdown",
   "metadata": {},
   "source": [
    "Протестируем модель логистическая регрессия"
   ]
  },
  {
   "cell_type": "code",
   "execution_count": 36,
   "metadata": {
    "scrolled": false
   },
   "outputs": [
    {
     "name": "stdout",
     "output_type": "stream",
     "text": [
      "F1-мера наилучшей модели на тестовой выборке: 0.5016778523489932\n",
      "Полнота наилучшей модели на тестовой выборке: 0.7002341920374707\n",
      "Точность наилучшей модели на тестовой выборке: 0.3908496732026144\n",
      "Accuracy наилучшей модели на валидационной выборке: 0.703\n",
      "Матрица неточностей\n",
      "[[1107  466]\n",
      " [ 128  299]]\n",
      "AUC-ROC = 0.7638159158278383\n"
     ]
    },
    {
     "data": {
      "text/plain": [
       "Text(0.5, 1.0, 'ROC-кривая')"
      ]
     },
     "execution_count": 36,
     "metadata": {},
     "output_type": "execute_result"
    },
    {
     "data": {
      "image/png": "[encoded data removed]",
      "text/plain": [
       "<Figure size 432x288 with 1 Axes>"
      ]
     },
     "metadata": {
      "needs_background": "light"
     },
     "output_type": "display_data"
    }
   ],
   "source": [
    "model_logist_test = LogisticRegression(random_state=12345, solver='newton-cg', max_iter=1000, class_weight='balanced')  # зададим параметры модели логистической регрессии\n",
    "model_logist_test.fit(features_train, target_train)\n",
    "predictions_logist_test = model_logist_test.predict(features_test)\n",
    "print(\"F1-мера наилучшей модели на тестовой выборке:\", f1_score(target_test, predictions_logist_test))\n",
    "print(\"Полнота наилучшей модели на тестовой выборке:\", recall_score(target_test, predictions_logist_test))\n",
    "print(\"Точность наилучшей модели на тестовой выборке:\", precision_score(target_test, predictions_logist_test))\n",
    "print(\"Accuracy наилучшей модели на валидационной выборке:\", accuracy_score(target_test, predictions_logist_test))\n",
    "\n",
    "print('Матрица неточностей')\n",
    "print(confusion_matrix(target_test, predictions_logist_test))\n",
    "\n",
    "probabilities_logist_test = model_logist_test.predict_proba(features_test)\n",
    "probabilities_one_logist_test = probabilities_logist_test[:, 1]\n",
    "\n",
    "print(f'AUC-ROC = {roc_auc_score(target_test, probabilities_one_logist_test)}') # рассчитаем AUC-ROC\n",
    "\n",
    "fpr, tpr, thresholds = roc_curve(target_test, probabilities_one_logist_test)\n",
    "\n",
    "plt.figure()\n",
    "plt.plot(fpr, tpr)\n",
    "plt.plot([0, 1],[0, 1],linestyle='--')# ROC-кривая случайной модели \n",
    "plt.ylim([0.0, 1.0])# установим границу осей от 0 до 1\n",
    "plt.xlim([0.0, 1.0])\n",
    "plt.xlabel('False Positive Rate')\n",
    "plt.ylabel('True Positive Rate')\n",
    "plt.title('ROC-кривая')"
   ]
  },
  {
   "cell_type": "markdown",
   "metadata": {},
   "source": [
    "**Вывод**\n",
    "\n",
    "На тестовой выборке были проверены модели, которые обучали ранее со сбалансированными классами - обучающее \n",
    "дерево, случайный лес и логистическая регрессия.\n",
    "\n",
    "На тестовой выборке значение F1-меры:\n",
    "* У Обучающего дерева 0.593, а на валидационной было 0.558\n",
    "* У Случайного леса 0.619, а на валидационной было 0.605\n",
    "* У Логистической регрессии 0.502, а на валидационной было 0.477\n",
    "\n",
    "На тестовой выборке значение AUC-ROC:\n",
    "* У Обучающего дерева 0.819, а на валидационной было 0.809\n",
    "* У Случайного леса 0.853, а на валидационной было 0.848\n",
    "* У Логистической регрессии 0.764, а на валидационной было 0.773\n",
    "\n",
    "Самой успешной по показателям F1-меры и AUC-ROC оказалась модель Случайного леса с увеличением выбоки с параметрами `max_depth=13, n_estimators=53,`."
   ]
  },
  {
   "cell_type": "markdown",
   "metadata": {},
   "source": [
    "### Тестирование модели с обучением на обучающей и валидационных выбоках"
   ]
  },
  {
   "cell_type": "markdown",
   "metadata": {},
   "source": [
    "Объединим обучающую и валидационную выборку"
   ]
  },
  {
   "cell_type": "code",
   "execution_count": 37,
   "metadata": {},
   "outputs": [],
   "source": [
    "features_full_train = pd.concat([features_train, features_valid])\n",
    "target_full_train = pd.concat([target_train, target_valid])"
   ]
  },
  {
   "cell_type": "markdown",
   "metadata": {},
   "source": [
    "Увеличим выборку, чтобы сравнять баланс классов при обучении"
   ]
  },
  {
   "cell_type": "code",
   "execution_count": 38,
   "metadata": {},
   "outputs": [],
   "source": [
    "features_full_upsampled, target_full_upsampled = upsample(features_full_train, target_full_train, 4)"
   ]
  },
  {
   "cell_type": "markdown",
   "metadata": {},
   "source": [
    "Обучим самую успешную модель на объединённой выборке из обучающей и валидационной выборок и протестируем её"
   ]
  },
  {
   "cell_type": "code",
   "execution_count": 39,
   "metadata": {},
   "outputs": [
    {
     "name": "stdout",
     "output_type": "stream",
     "text": [
      "F1-мера наилучшей модели на тестовой выборке: 0.6114352392065343\n",
      "Полнота наилучшей модели на тестовой выборке: 0.6135831381733021\n",
      "Точность наилучшей модели на тестовой выборке: 0.6093023255813953\n",
      "Accuracy наилучшей модели на валидационной выборке: 0.8335\n",
      "Матрица неточностей\n",
      "[[1405  168]\n",
      " [ 165  262]]\n",
      "AUC-ROC = 0.8561550223249179\n"
     ]
    },
    {
     "data": {
      "text/plain": [
       "Text(0.5, 1.0, 'ROC-кривая')"
      ]
     },
     "execution_count": 39,
     "metadata": {},
     "output_type": "execute_result"
    },
    {
     "data": {
      "image/png": "[encoded data removed]",
      "text/plain": [
       "<Figure size 432x288 with 1 Axes>"
      ]
     },
     "metadata": {
      "needs_background": "light"
     },
     "output_type": "display_data"
    }
   ],
   "source": [
    "model_forest_test_full = RandomForestClassifier(max_depth=13, n_estimators=53, random_state=12345) # зададим параметры модели случайный лес\n",
    "model_forest_test_full.fit(features_full_upsampled, target_full_upsampled)\n",
    "predictions_forest_test_full = model_forest_test_full.predict(features_test)\n",
    "print(\"F1-мера наилучшей модели на тестовой выборке:\", f1_score(target_test, predictions_forest_test_full))\n",
    "print(\"Полнота наилучшей модели на тестовой выборке:\", recall_score(target_test, predictions_forest_test_full))\n",
    "print(\"Точность наилучшей модели на тестовой выборке:\", precision_score(target_test, predictions_forest_test_full))\n",
    "print(\"Accuracy наилучшей модели на валидационной выборке:\", accuracy_score(target_test, predictions_forest_test_full))\n",
    "\n",
    "print('Матрица неточностей')\n",
    "print(confusion_matrix(target_test, predictions_forest_test_full))\n",
    "\n",
    "probabilities_forest_test_full = model_forest_test_full.predict_proba(features_test)\n",
    "probabilities_one_forest_test_full = probabilities_forest_test_full[:, 1]\n",
    "\n",
    "print(f'AUC-ROC = {roc_auc_score(target_test, probabilities_one_forest_test_full)}') # рассчитаем AUC-ROC\n",
    "\n",
    "fpr, tpr, thresholds = roc_curve(target_test, probabilities_one_forest_test_full)\n",
    "\n",
    "plt.figure()\n",
    "plt.plot(fpr, tpr)\n",
    "plt.plot([0, 1],[0, 1],linestyle='--')# ROC-кривая случайной модели \n",
    "plt.ylim([0.0, 1.0])# установим границу осей от 0 до 1\n",
    "plt.xlim([0.0, 1.0])\n",
    "plt.xlabel('False Positive Rate')\n",
    "plt.ylabel('True Positive Rate')\n",
    "plt.title('ROC-кривая')"
   ]
  },
  {
   "cell_type": "markdown",
   "metadata": {},
   "source": [
    "**Вывод**\n",
    "\n",
    "В результате самая успешная модель Случайного леса с параметрами `max_depth=13, n_estimators=53` при обучении на валидационной и обучающей выборке с увеличением выборок, чтобы сравнять баланс классов выдало значение F1-меры 0.611 и AUC-ROC 0.856.\n",
    "<br> Значение F-меры является более низким, чем на такой же модели с такимиже параметрами, но где для обучения использовалась только обучающая выборка, там значение F1-меры 0.619, а значение AUC-ROC равно 0.853.\n"
   ]
  }
 ],
 "metadata": {
  "ExecuteTimeLog": [
   {
    "duration": 1176,
    "start_time": "2022-03-27T12:47:40.243Z"
   },
   {
    "duration": 46,
    "start_time": "2022-03-27T12:50:25.960Z"
   },
   {
    "duration": 14,
    "start_time": "2022-03-27T12:51:17.575Z"
   },
   {
    "duration": 7,
    "start_time": "2022-03-27T13:42:06.563Z"
   },
   {
    "duration": 137,
    "start_time": "2022-03-27T13:45:04.970Z"
   },
   {
    "duration": 20,
    "start_time": "2022-03-27T13:47:24.379Z"
   },
   {
    "duration": 4,
    "start_time": "2022-03-27T13:54:18.194Z"
   },
   {
    "duration": 144,
    "start_time": "2022-03-27T13:54:27.441Z"
   },
   {
    "duration": 9,
    "start_time": "2022-03-27T13:54:35.713Z"
   },
   {
    "duration": 6,
    "start_time": "2022-03-27T13:55:03.832Z"
   },
   {
    "duration": 33,
    "start_time": "2022-03-27T13:57:47.377Z"
   },
   {
    "duration": 6,
    "start_time": "2022-03-27T14:03:42.903Z"
   },
   {
    "duration": 8,
    "start_time": "2022-03-27T14:04:16.679Z"
   },
   {
    "duration": 8,
    "start_time": "2022-03-27T14:04:37.151Z"
   },
   {
    "duration": 6,
    "start_time": "2022-03-27T14:04:58.487Z"
   },
   {
    "duration": 9,
    "start_time": "2022-03-27T14:05:13.996Z"
   },
   {
    "duration": 7,
    "start_time": "2022-03-27T14:05:32.935Z"
   },
   {
    "duration": 9,
    "start_time": "2022-03-27T14:11:02.574Z"
   },
   {
    "duration": 7,
    "start_time": "2022-03-27T14:11:17.575Z"
   },
   {
    "duration": 6,
    "start_time": "2022-03-27T14:11:47.302Z"
   },
   {
    "duration": 7,
    "start_time": "2022-03-27T14:12:00.302Z"
   },
   {
    "duration": 7,
    "start_time": "2022-03-27T14:12:39.541Z"
   },
   {
    "duration": 6,
    "start_time": "2022-03-27T14:12:56.782Z"
   },
   {
    "duration": 1966,
    "start_time": "2022-03-27T14:14:04.550Z"
   },
   {
    "duration": 11,
    "start_time": "2022-03-27T14:14:19.966Z"
   },
   {
    "duration": 5,
    "start_time": "2022-03-27T14:21:12.445Z"
   },
   {
    "duration": 12,
    "start_time": "2022-03-27T14:23:43.852Z"
   },
   {
    "duration": 10,
    "start_time": "2022-03-27T14:24:04.604Z"
   },
   {
    "duration": 69,
    "start_time": "2022-03-27T14:47:41.718Z"
   },
   {
    "duration": 1625,
    "start_time": "2022-03-27T14:48:02.661Z"
   },
   {
    "duration": 59,
    "start_time": "2022-03-27T14:48:04.288Z"
   },
   {
    "duration": 34,
    "start_time": "2022-03-27T14:48:04.349Z"
   },
   {
    "duration": 9,
    "start_time": "2022-03-27T14:48:04.386Z"
   },
   {
    "duration": 33,
    "start_time": "2022-03-27T14:48:04.397Z"
   },
   {
    "duration": 8,
    "start_time": "2022-03-27T14:48:13.881Z"
   },
   {
    "duration": 93,
    "start_time": "2022-03-27T14:48:41.362Z"
   },
   {
    "duration": 12,
    "start_time": "2022-03-27T14:48:48.289Z"
   },
   {
    "duration": 34,
    "start_time": "2022-03-27T14:50:47.377Z"
   },
   {
    "duration": 12,
    "start_time": "2022-03-27T14:51:00.100Z"
   },
   {
    "duration": 11,
    "start_time": "2022-03-27T14:51:08.345Z"
   },
   {
    "duration": 36,
    "start_time": "2022-03-27T15:04:21.087Z"
   },
   {
    "duration": 33,
    "start_time": "2022-03-27T15:12:48.501Z"
   },
   {
    "duration": 38,
    "start_time": "2022-03-27T15:13:05.919Z"
   },
   {
    "duration": 33,
    "start_time": "2022-03-27T15:13:11.847Z"
   },
   {
    "duration": 13,
    "start_time": "2022-03-27T15:22:01.198Z"
   },
   {
    "duration": 14,
    "start_time": "2022-03-27T15:22:11.414Z"
   },
   {
    "duration": 8,
    "start_time": "2022-03-27T15:23:24.718Z"
   },
   {
    "duration": 23,
    "start_time": "2022-03-27T15:23:30.373Z"
   },
   {
    "duration": 37,
    "start_time": "2022-03-27T15:23:45.461Z"
   },
   {
    "duration": 1493,
    "start_time": "2022-03-27T15:29:24.710Z"
   },
   {
    "duration": 65,
    "start_time": "2022-03-27T15:29:26.206Z"
   },
   {
    "duration": 22,
    "start_time": "2022-03-27T15:29:26.274Z"
   },
   {
    "duration": 12,
    "start_time": "2022-03-27T15:29:26.298Z"
   },
   {
    "duration": 62,
    "start_time": "2022-03-27T15:29:26.314Z"
   },
   {
    "duration": 9,
    "start_time": "2022-03-27T15:29:26.378Z"
   },
   {
    "duration": 43,
    "start_time": "2022-03-27T15:29:26.389Z"
   },
   {
    "duration": 53,
    "start_time": "2022-03-27T15:29:26.435Z"
   },
   {
    "duration": 46,
    "start_time": "2022-03-30T09:35:34.124Z"
   },
   {
    "duration": 1314,
    "start_time": "2022-03-30T09:35:44.445Z"
   },
   {
    "duration": 57,
    "start_time": "2022-03-30T09:35:45.761Z"
   },
   {
    "duration": 12,
    "start_time": "2022-03-30T09:35:45.820Z"
   },
   {
    "duration": 8,
    "start_time": "2022-03-30T09:35:45.834Z"
   },
   {
    "duration": 22,
    "start_time": "2022-03-30T09:35:45.843Z"
   },
   {
    "duration": 7,
    "start_time": "2022-03-30T09:35:45.880Z"
   },
   {
    "duration": 37,
    "start_time": "2022-03-30T09:35:45.889Z"
   },
   {
    "duration": 26,
    "start_time": "2022-03-30T09:35:45.928Z"
   },
   {
    "duration": 39,
    "start_time": "2022-03-30T09:35:45.956Z"
   },
   {
    "duration": 63,
    "start_time": "2022-03-30T10:24:47.746Z"
   },
   {
    "duration": 26,
    "start_time": "2022-03-30T10:25:05.293Z"
   },
   {
    "duration": 9,
    "start_time": "2022-03-30T10:28:27.760Z"
   },
   {
    "duration": 44,
    "start_time": "2022-03-30T12:38:41.159Z"
   },
   {
    "duration": 1226,
    "start_time": "2022-03-30T12:38:52.600Z"
   },
   {
    "duration": 44,
    "start_time": "2022-03-30T12:38:53.827Z"
   },
   {
    "duration": 11,
    "start_time": "2022-03-30T12:38:53.872Z"
   },
   {
    "duration": 26,
    "start_time": "2022-03-30T12:38:53.884Z"
   },
   {
    "duration": 17,
    "start_time": "2022-03-30T12:38:53.912Z"
   },
   {
    "duration": 7,
    "start_time": "2022-03-30T12:38:53.931Z"
   },
   {
    "duration": 31,
    "start_time": "2022-03-30T12:38:53.939Z"
   },
   {
    "duration": 36,
    "start_time": "2022-03-30T12:38:53.971Z"
   },
   {
    "duration": 39,
    "start_time": "2022-03-30T12:38:54.008Z"
   },
   {
    "duration": 27,
    "start_time": "2022-03-30T12:38:54.048Z"
   },
   {
    "duration": 7,
    "start_time": "2022-03-30T12:38:54.077Z"
   },
   {
    "duration": 33,
    "start_time": "2022-03-30T12:38:54.085Z"
   },
   {
    "duration": 552,
    "start_time": "2022-03-30T12:39:32.475Z"
   },
   {
    "duration": 6,
    "start_time": "2022-03-30T12:41:37.282Z"
   },
   {
    "duration": 7,
    "start_time": "2022-03-30T12:50:09.899Z"
   },
   {
    "duration": 223,
    "start_time": "2022-03-30T12:51:19.130Z"
   },
   {
    "duration": 212777,
    "start_time": "2022-03-30T12:59:39.953Z"
   },
   {
    "duration": 0,
    "start_time": "2022-03-30T13:03:12.731Z"
   },
   {
    "duration": 224,
    "start_time": "2022-03-30T13:03:15.609Z"
   },
   {
    "duration": 139655,
    "start_time": "2022-03-30T13:04:18.346Z"
   },
   {
    "duration": 25068,
    "start_time": "2022-03-30T13:08:01.023Z"
   },
   {
    "duration": 4,
    "start_time": "2022-03-30T13:20:50.526Z"
   },
   {
    "duration": 230,
    "start_time": "2022-03-30T13:26:09.848Z"
   },
   {
    "duration": 7,
    "start_time": "2022-03-30T13:26:20.870Z"
   },
   {
    "duration": 2856,
    "start_time": "2022-03-30T13:35:12.411Z"
   },
   {
    "duration": 43,
    "start_time": "2022-03-30T13:35:15.268Z"
   },
   {
    "duration": 11,
    "start_time": "2022-03-30T13:35:15.313Z"
   },
   {
    "duration": 11,
    "start_time": "2022-03-30T13:35:15.325Z"
   },
   {
    "duration": 18,
    "start_time": "2022-03-30T13:35:15.338Z"
   },
   {
    "duration": 5,
    "start_time": "2022-03-30T13:35:15.357Z"
   },
   {
    "duration": 43,
    "start_time": "2022-03-30T13:35:15.363Z"
   },
   {
    "duration": 17,
    "start_time": "2022-03-30T13:35:15.407Z"
   },
   {
    "duration": 25,
    "start_time": "2022-03-30T13:35:15.425Z"
   },
   {
    "duration": 44,
    "start_time": "2022-03-30T13:35:15.451Z"
   },
   {
    "duration": 7,
    "start_time": "2022-03-30T13:35:15.497Z"
   },
   {
    "duration": 9,
    "start_time": "2022-03-30T13:35:15.505Z"
   },
   {
    "duration": 794,
    "start_time": "2022-03-30T13:35:15.516Z"
   },
   {
    "duration": 8,
    "start_time": "2022-03-30T13:35:16.311Z"
   },
   {
    "duration": 255,
    "start_time": "2022-03-30T13:35:16.320Z"
   },
   {
    "duration": 6,
    "start_time": "2022-03-30T13:35:16.580Z"
   },
   {
    "duration": 1704,
    "start_time": "2022-03-30T13:50:36.108Z"
   },
   {
    "duration": 68,
    "start_time": "2022-03-30T13:50:37.815Z"
   },
   {
    "duration": 20,
    "start_time": "2022-03-30T13:50:37.887Z"
   },
   {
    "duration": 15,
    "start_time": "2022-03-30T13:50:37.909Z"
   },
   {
    "duration": 65,
    "start_time": "2022-03-30T13:50:37.927Z"
   },
   {
    "duration": 8,
    "start_time": "2022-03-30T13:50:37.994Z"
   },
   {
    "duration": 57,
    "start_time": "2022-03-30T13:50:38.004Z"
   },
   {
    "duration": 31,
    "start_time": "2022-03-30T13:50:38.068Z"
   },
   {
    "duration": 46,
    "start_time": "2022-03-30T13:50:38.101Z"
   },
   {
    "duration": 47,
    "start_time": "2022-03-30T13:50:38.167Z"
   },
   {
    "duration": 10,
    "start_time": "2022-03-30T13:50:38.217Z"
   },
   {
    "duration": 41,
    "start_time": "2022-03-30T13:50:38.228Z"
   },
   {
    "duration": 1096,
    "start_time": "2022-03-30T13:50:38.271Z"
   },
   {
    "duration": 10,
    "start_time": "2022-03-30T13:50:39.371Z"
   },
   {
    "duration": 353,
    "start_time": "2022-03-30T13:50:39.383Z"
   },
   {
    "duration": 31,
    "start_time": "2022-03-30T13:54:39.773Z"
   },
   {
    "duration": 10,
    "start_time": "2022-03-30T13:54:47.648Z"
   },
   {
    "duration": 148,
    "start_time": "2022-03-30T14:06:08.863Z"
   },
   {
    "duration": 7,
    "start_time": "2022-03-30T14:06:16.343Z"
   },
   {
    "duration": 8,
    "start_time": "2022-03-30T14:06:23.328Z"
   },
   {
    "duration": 7,
    "start_time": "2022-03-30T14:13:54.046Z"
   },
   {
    "duration": 10,
    "start_time": "2022-03-30T14:19:29.263Z"
   },
   {
    "duration": 6,
    "start_time": "2022-03-30T14:19:44.077Z"
   },
   {
    "duration": 10,
    "start_time": "2022-03-30T14:20:03.077Z"
   },
   {
    "duration": 8,
    "start_time": "2022-03-30T14:26:13.789Z"
   },
   {
    "duration": 8,
    "start_time": "2022-03-30T14:26:14.949Z"
   },
   {
    "duration": 116,
    "start_time": "2022-03-30T14:26:15.669Z"
   },
   {
    "duration": 10,
    "start_time": "2022-03-30T14:26:24.116Z"
   },
   {
    "duration": 1161,
    "start_time": "2022-03-30T18:49:00.859Z"
   },
   {
    "duration": 50,
    "start_time": "2022-03-30T18:49:02.023Z"
   },
   {
    "duration": 12,
    "start_time": "2022-03-30T18:49:02.075Z"
   },
   {
    "duration": 16,
    "start_time": "2022-03-30T18:49:02.088Z"
   },
   {
    "duration": 29,
    "start_time": "2022-03-30T18:49:02.106Z"
   },
   {
    "duration": 6,
    "start_time": "2022-03-30T18:49:02.137Z"
   },
   {
    "duration": 29,
    "start_time": "2022-03-30T18:49:02.145Z"
   },
   {
    "duration": 17,
    "start_time": "2022-03-30T18:49:02.176Z"
   },
   {
    "duration": 45,
    "start_time": "2022-03-30T18:49:02.195Z"
   },
   {
    "duration": 28,
    "start_time": "2022-03-30T18:49:02.242Z"
   },
   {
    "duration": 6,
    "start_time": "2022-03-30T18:49:02.272Z"
   },
   {
    "duration": 8,
    "start_time": "2022-03-30T18:49:02.279Z"
   },
   {
    "duration": 545,
    "start_time": "2022-03-30T18:49:02.288Z"
   },
   {
    "duration": 7,
    "start_time": "2022-03-30T18:49:02.834Z"
   },
   {
    "duration": 291,
    "start_time": "2022-03-30T19:01:31.777Z"
   },
   {
    "duration": 140,
    "start_time": "2022-03-30T19:01:55.121Z"
   },
   {
    "duration": 108,
    "start_time": "2022-03-30T19:02:28.458Z"
   },
   {
    "duration": 278,
    "start_time": "2022-03-30T19:03:01.258Z"
   },
   {
    "duration": 105,
    "start_time": "2022-03-30T19:04:16.866Z"
   },
   {
    "duration": 6,
    "start_time": "2022-03-30T19:04:29.801Z"
   },
   {
    "duration": 134,
    "start_time": "2022-03-30T19:04:40.209Z"
   },
   {
    "duration": 30,
    "start_time": "2022-03-30T19:04:47.411Z"
   },
   {
    "duration": 1211,
    "start_time": "2022-03-30T19:06:15.149Z"
   },
   {
    "duration": 41,
    "start_time": "2022-03-30T19:06:16.362Z"
   },
   {
    "duration": 13,
    "start_time": "2022-03-30T19:06:16.405Z"
   },
   {
    "duration": 8,
    "start_time": "2022-03-30T19:06:16.432Z"
   },
   {
    "duration": 20,
    "start_time": "2022-03-30T19:06:16.442Z"
   },
   {
    "duration": 6,
    "start_time": "2022-03-30T19:06:16.463Z"
   },
   {
    "duration": 24,
    "start_time": "2022-03-30T19:06:16.470Z"
   },
   {
    "duration": 49,
    "start_time": "2022-03-30T19:06:16.496Z"
   },
   {
    "duration": 23,
    "start_time": "2022-03-30T19:06:16.547Z"
   },
   {
    "duration": 28,
    "start_time": "2022-03-30T19:06:16.572Z"
   },
   {
    "duration": 31,
    "start_time": "2022-03-30T19:06:16.602Z"
   },
   {
    "duration": 6,
    "start_time": "2022-03-30T19:06:16.635Z"
   },
   {
    "duration": 442,
    "start_time": "2022-03-30T19:06:16.642Z"
   },
   {
    "duration": 8,
    "start_time": "2022-03-30T19:06:17.088Z"
   },
   {
    "duration": 144,
    "start_time": "2022-03-30T19:06:17.098Z"
   },
   {
    "duration": 18,
    "start_time": "2022-03-30T19:08:25.310Z"
   },
   {
    "duration": 17,
    "start_time": "2022-03-30T19:08:45.302Z"
   },
   {
    "duration": 234,
    "start_time": "2022-03-30T19:12:01.252Z"
   },
   {
    "duration": 24,
    "start_time": "2022-03-30T19:12:09.283Z"
   },
   {
    "duration": 5,
    "start_time": "2022-03-30T19:12:12.859Z"
   },
   {
    "duration": 5,
    "start_time": "2022-03-30T19:12:16.619Z"
   },
   {
    "duration": 9,
    "start_time": "2022-03-30T19:12:21.739Z"
   },
   {
    "duration": 9,
    "start_time": "2022-03-30T19:13:22.532Z"
   },
   {
    "duration": 9,
    "start_time": "2022-03-30T19:13:59.219Z"
   },
   {
    "duration": 5,
    "start_time": "2022-03-30T19:15:10.945Z"
   },
   {
    "duration": 41,
    "start_time": "2022-03-30T19:15:10.952Z"
   },
   {
    "duration": 15,
    "start_time": "2022-03-30T19:15:10.996Z"
   },
   {
    "duration": 22,
    "start_time": "2022-03-30T19:15:11.012Z"
   },
   {
    "duration": 21,
    "start_time": "2022-03-30T19:15:11.036Z"
   },
   {
    "duration": 7,
    "start_time": "2022-03-30T19:15:11.060Z"
   },
   {
    "duration": 26,
    "start_time": "2022-03-30T19:15:11.069Z"
   },
   {
    "duration": 49,
    "start_time": "2022-03-30T19:15:11.097Z"
   },
   {
    "duration": 33,
    "start_time": "2022-03-30T19:15:11.148Z"
   },
   {
    "duration": 29,
    "start_time": "2022-03-30T19:15:11.183Z"
   },
   {
    "duration": 23,
    "start_time": "2022-03-30T19:15:11.214Z"
   },
   {
    "duration": 8,
    "start_time": "2022-03-30T19:15:11.239Z"
   },
   {
    "duration": 120,
    "start_time": "2022-03-30T19:15:11.249Z"
   },
   {
    "duration": 7,
    "start_time": "2022-03-30T19:15:11.372Z"
   },
   {
    "duration": 256,
    "start_time": "2022-03-30T19:15:11.381Z"
   },
   {
    "duration": 24,
    "start_time": "2022-03-30T19:15:11.639Z"
   },
   {
    "duration": 6,
    "start_time": "2022-03-30T19:15:11.665Z"
   },
   {
    "duration": 6,
    "start_time": "2022-03-30T19:15:11.673Z"
   },
   {
    "duration": 9,
    "start_time": "2022-03-30T19:15:11.680Z"
   },
   {
    "duration": 48315,
    "start_time": "2022-03-30T19:15:11.691Z"
   },
   {
    "duration": 5155,
    "start_time": "2022-03-30T19:16:00.009Z"
   },
   {
    "duration": 252,
    "start_time": "2022-03-30T19:16:44.835Z"
   },
   {
    "duration": 237,
    "start_time": "2022-03-30T19:17:21.979Z"
   },
   {
    "duration": 4,
    "start_time": "2022-03-30T19:17:41.669Z"
   },
   {
    "duration": 43,
    "start_time": "2022-03-30T19:17:41.675Z"
   },
   {
    "duration": 12,
    "start_time": "2022-03-30T19:17:41.719Z"
   },
   {
    "duration": 7,
    "start_time": "2022-03-30T19:17:41.734Z"
   },
   {
    "duration": 19,
    "start_time": "2022-03-30T19:17:41.742Z"
   },
   {
    "duration": 5,
    "start_time": "2022-03-30T19:17:41.763Z"
   },
   {
    "duration": 26,
    "start_time": "2022-03-30T19:17:41.769Z"
   },
   {
    "duration": 45,
    "start_time": "2022-03-30T19:17:41.797Z"
   },
   {
    "duration": 26,
    "start_time": "2022-03-30T19:17:41.844Z"
   },
   {
    "duration": 31,
    "start_time": "2022-03-30T19:17:41.872Z"
   },
   {
    "duration": 33,
    "start_time": "2022-03-30T19:17:41.905Z"
   },
   {
    "duration": 6,
    "start_time": "2022-03-30T19:17:41.940Z"
   },
   {
    "duration": 120,
    "start_time": "2022-03-30T19:17:41.948Z"
   },
   {
    "duration": 7,
    "start_time": "2022-03-30T19:17:42.070Z"
   },
   {
    "duration": 108,
    "start_time": "2022-03-30T19:17:42.078Z"
   },
   {
    "duration": 97,
    "start_time": "2022-03-30T19:18:15.091Z"
   },
   {
    "duration": 96,
    "start_time": "2022-03-30T19:19:02.067Z"
   },
   {
    "duration": 89,
    "start_time": "2022-03-30T19:19:46.714Z"
   },
   {
    "duration": 125,
    "start_time": "2022-03-30T19:20:12.578Z"
   },
   {
    "duration": 1092,
    "start_time": "2022-03-30T19:20:32.273Z"
   },
   {
    "duration": 49,
    "start_time": "2022-03-30T19:20:33.367Z"
   },
   {
    "duration": 15,
    "start_time": "2022-03-30T19:20:33.417Z"
   },
   {
    "duration": 20,
    "start_time": "2022-03-30T19:20:33.434Z"
   },
   {
    "duration": 19,
    "start_time": "2022-03-30T19:20:33.456Z"
   },
   {
    "duration": 7,
    "start_time": "2022-03-30T19:20:33.478Z"
   },
   {
    "duration": 52,
    "start_time": "2022-03-30T19:20:33.487Z"
   },
   {
    "duration": 27,
    "start_time": "2022-03-30T19:20:33.540Z"
   },
   {
    "duration": 38,
    "start_time": "2022-03-30T19:20:33.569Z"
   },
   {
    "duration": 66,
    "start_time": "2022-03-30T19:20:33.610Z"
   },
   {
    "duration": 10,
    "start_time": "2022-03-30T19:20:33.678Z"
   },
   {
    "duration": 7,
    "start_time": "2022-03-30T19:20:33.690Z"
   },
   {
    "duration": 548,
    "start_time": "2022-03-30T19:20:33.699Z"
   },
   {
    "duration": 8,
    "start_time": "2022-03-30T19:20:34.249Z"
   },
   {
    "duration": 511,
    "start_time": "2022-03-30T19:20:34.259Z"
   },
   {
    "duration": 345,
    "start_time": "2022-03-30T19:21:31.218Z"
   },
   {
    "duration": 460,
    "start_time": "2022-03-30T19:21:52.418Z"
   },
   {
    "duration": 247,
    "start_time": "2022-03-30T19:22:59.139Z"
   },
   {
    "duration": 104,
    "start_time": "2022-03-30T19:24:48.075Z"
   },
   {
    "duration": 93,
    "start_time": "2022-03-30T19:25:14.489Z"
   },
   {
    "duration": 1113,
    "start_time": "2022-03-30T19:25:50.324Z"
   },
   {
    "duration": 40,
    "start_time": "2022-03-30T19:25:51.439Z"
   },
   {
    "duration": 13,
    "start_time": "2022-03-30T19:25:51.481Z"
   },
   {
    "duration": 8,
    "start_time": "2022-03-30T19:25:51.497Z"
   },
   {
    "duration": 39,
    "start_time": "2022-03-30T19:25:51.507Z"
   },
   {
    "duration": 6,
    "start_time": "2022-03-30T19:25:51.548Z"
   },
   {
    "duration": 25,
    "start_time": "2022-03-30T19:25:51.556Z"
   },
   {
    "duration": 19,
    "start_time": "2022-03-30T19:25:51.583Z"
   },
   {
    "duration": 48,
    "start_time": "2022-03-30T19:25:51.604Z"
   },
   {
    "duration": 28,
    "start_time": "2022-03-30T19:25:51.655Z"
   },
   {
    "duration": 7,
    "start_time": "2022-03-30T19:25:51.684Z"
   },
   {
    "duration": 6,
    "start_time": "2022-03-30T19:25:51.692Z"
   },
   {
    "duration": 362,
    "start_time": "2022-03-30T19:25:51.732Z"
   },
   {
    "duration": 7,
    "start_time": "2022-03-30T19:25:52.096Z"
   },
   {
    "duration": 262,
    "start_time": "2022-03-30T19:25:52.104Z"
   },
   {
    "duration": 275,
    "start_time": "2022-03-30T19:31:40.431Z"
   },
   {
    "duration": 1161,
    "start_time": "2022-03-30T19:32:36.231Z"
   },
   {
    "duration": 41,
    "start_time": "2022-03-30T19:32:37.394Z"
   },
   {
    "duration": 14,
    "start_time": "2022-03-30T19:32:37.436Z"
   },
   {
    "duration": 12,
    "start_time": "2022-03-30T19:32:37.452Z"
   },
   {
    "duration": 29,
    "start_time": "2022-03-30T19:32:37.466Z"
   },
   {
    "duration": 7,
    "start_time": "2022-03-30T19:32:37.497Z"
   },
   {
    "duration": 49,
    "start_time": "2022-03-30T19:32:37.506Z"
   },
   {
    "duration": 19,
    "start_time": "2022-03-30T19:32:37.556Z"
   },
   {
    "duration": 29,
    "start_time": "2022-03-30T19:32:37.576Z"
   },
   {
    "duration": 47,
    "start_time": "2022-03-30T19:32:37.633Z"
   },
   {
    "duration": 7,
    "start_time": "2022-03-30T19:32:37.681Z"
   },
   {
    "duration": 16,
    "start_time": "2022-03-30T19:32:37.690Z"
   },
   {
    "duration": 379,
    "start_time": "2022-03-30T19:32:37.708Z"
   },
   {
    "duration": 7,
    "start_time": "2022-03-30T19:32:38.089Z"
   },
   {
    "duration": 189,
    "start_time": "2022-03-30T19:32:38.097Z"
   },
   {
    "duration": 285,
    "start_time": "2022-03-30T19:33:00.898Z"
   },
   {
    "duration": 277,
    "start_time": "2022-03-30T19:34:24.521Z"
   },
   {
    "duration": 27,
    "start_time": "2022-03-30T19:35:44.912Z"
   },
   {
    "duration": 11,
    "start_time": "2022-03-30T20:45:50.929Z"
   },
   {
    "duration": 12,
    "start_time": "2022-03-30T20:46:08.177Z"
   },
   {
    "duration": 4,
    "start_time": "2022-03-30T20:46:14.432Z"
   },
   {
    "duration": 6,
    "start_time": "2022-03-30T20:46:22.024Z"
   },
   {
    "duration": 14,
    "start_time": "2022-03-30T20:47:00.105Z"
   },
   {
    "duration": 4,
    "start_time": "2022-03-30T20:47:17.569Z"
   },
   {
    "duration": 113,
    "start_time": "2022-03-30T20:47:25.904Z"
   },
   {
    "duration": 15,
    "start_time": "2022-03-30T20:50:21.632Z"
   },
   {
    "duration": 5,
    "start_time": "2022-03-30T20:50:38.688Z"
   },
   {
    "duration": 4,
    "start_time": "2022-03-30T20:50:50.144Z"
   },
   {
    "duration": 116,
    "start_time": "2022-03-30T20:51:00.664Z"
   },
   {
    "duration": 111,
    "start_time": "2022-03-30T21:14:05.264Z"
   },
   {
    "duration": 110,
    "start_time": "2022-03-30T21:14:13.271Z"
   },
   {
    "duration": 115,
    "start_time": "2022-03-30T21:14:21.328Z"
   },
   {
    "duration": 1615,
    "start_time": "2022-03-31T06:46:00.827Z"
   },
   {
    "duration": 39,
    "start_time": "2022-03-31T06:46:02.444Z"
   },
   {
    "duration": 27,
    "start_time": "2022-03-31T06:46:02.485Z"
   },
   {
    "duration": 8,
    "start_time": "2022-03-31T06:46:02.514Z"
   },
   {
    "duration": 20,
    "start_time": "2022-03-31T06:46:02.525Z"
   },
   {
    "duration": 5,
    "start_time": "2022-03-31T06:46:02.547Z"
   },
   {
    "duration": 26,
    "start_time": "2022-03-31T06:46:02.554Z"
   },
   {
    "duration": 50,
    "start_time": "2022-03-31T06:46:02.582Z"
   },
   {
    "duration": 25,
    "start_time": "2022-03-31T06:46:02.633Z"
   },
   {
    "duration": 58,
    "start_time": "2022-03-31T06:46:02.660Z"
   },
   {
    "duration": 8,
    "start_time": "2022-03-31T06:46:02.720Z"
   },
   {
    "duration": 6,
    "start_time": "2022-03-31T06:46:02.729Z"
   },
   {
    "duration": 144,
    "start_time": "2022-03-31T06:46:02.737Z"
   },
   {
    "duration": 7,
    "start_time": "2022-03-31T06:46:02.883Z"
   },
   {
    "duration": 335,
    "start_time": "2022-03-31T06:46:02.891Z"
   },
   {
    "duration": 27,
    "start_time": "2022-03-31T06:46:03.228Z"
   },
   {
    "duration": 142,
    "start_time": "2022-03-31T06:46:03.257Z"
   },
   {
    "duration": 325,
    "start_time": "2022-03-31T07:00:02.640Z"
   },
   {
    "duration": 5,
    "start_time": "2022-03-31T07:08:51.241Z"
   },
   {
    "duration": 41,
    "start_time": "2022-03-31T07:08:51.247Z"
   },
   {
    "duration": 12,
    "start_time": "2022-03-31T07:08:51.289Z"
   },
   {
    "duration": 7,
    "start_time": "2022-03-31T07:08:51.302Z"
   },
   {
    "duration": 20,
    "start_time": "2022-03-31T07:08:51.311Z"
   },
   {
    "duration": 6,
    "start_time": "2022-03-31T07:08:51.332Z"
   },
   {
    "duration": 25,
    "start_time": "2022-03-31T07:08:51.340Z"
   },
   {
    "duration": 45,
    "start_time": "2022-03-31T07:08:51.366Z"
   },
   {
    "duration": 25,
    "start_time": "2022-03-31T07:08:51.412Z"
   },
   {
    "duration": 30,
    "start_time": "2022-03-31T07:08:51.438Z"
   },
   {
    "duration": 7,
    "start_time": "2022-03-31T07:08:51.470Z"
   },
   {
    "duration": 31,
    "start_time": "2022-03-31T07:08:51.478Z"
   },
   {
    "duration": 118,
    "start_time": "2022-03-31T07:08:51.511Z"
   },
   {
    "duration": 7,
    "start_time": "2022-03-31T07:08:51.631Z"
   },
   {
    "duration": 300,
    "start_time": "2022-03-31T07:08:51.640Z"
   },
   {
    "duration": 26,
    "start_time": "2022-03-31T07:08:51.941Z"
   },
   {
    "duration": 141,
    "start_time": "2022-03-31T07:08:51.969Z"
   },
   {
    "duration": 320,
    "start_time": "2022-03-31T07:08:52.112Z"
   },
   {
    "duration": 203,
    "start_time": "2022-03-31T07:42:32.824Z"
   },
   {
    "duration": 142,
    "start_time": "2022-03-31T07:43:11.824Z"
   },
   {
    "duration": 148,
    "start_time": "2022-03-31T07:43:32.815Z"
   },
   {
    "duration": 155,
    "start_time": "2022-03-31T07:43:44.903Z"
   },
   {
    "duration": 248,
    "start_time": "2022-03-31T08:23:05.111Z"
   },
   {
    "duration": 4,
    "start_time": "2022-03-31T08:23:36.047Z"
   },
   {
    "duration": 235,
    "start_time": "2022-03-31T08:23:46.160Z"
   },
   {
    "duration": 161598,
    "start_time": "2022-03-31T08:29:53.112Z"
   },
   {
    "duration": 1400,
    "start_time": "2022-03-31T08:36:16.423Z"
   },
   {
    "duration": 41,
    "start_time": "2022-03-31T08:36:17.825Z"
   },
   {
    "duration": 14,
    "start_time": "2022-03-31T08:36:17.867Z"
   },
   {
    "duration": 8,
    "start_time": "2022-03-31T08:36:17.883Z"
   },
   {
    "duration": 37,
    "start_time": "2022-03-31T08:36:17.893Z"
   },
   {
    "duration": 9,
    "start_time": "2022-03-31T08:36:17.932Z"
   },
   {
    "duration": 27,
    "start_time": "2022-03-31T08:36:17.943Z"
   },
   {
    "duration": 51,
    "start_time": "2022-03-31T08:36:17.972Z"
   },
   {
    "duration": 27,
    "start_time": "2022-03-31T08:36:18.025Z"
   },
   {
    "duration": 58,
    "start_time": "2022-03-31T08:36:18.056Z"
   },
   {
    "duration": 8,
    "start_time": "2022-03-31T08:36:18.117Z"
   },
   {
    "duration": 6,
    "start_time": "2022-03-31T08:36:18.127Z"
   },
   {
    "duration": 135,
    "start_time": "2022-03-31T08:36:18.135Z"
   },
   {
    "duration": 7,
    "start_time": "2022-03-31T08:36:18.273Z"
   },
   {
    "duration": 317,
    "start_time": "2022-03-31T08:36:18.282Z"
   },
   {
    "duration": 35,
    "start_time": "2022-03-31T08:36:18.601Z"
   },
   {
    "duration": 152,
    "start_time": "2022-03-31T08:36:18.638Z"
   },
   {
    "duration": 150759,
    "start_time": "2022-03-31T08:36:18.792Z"
   },
   {
    "duration": 289,
    "start_time": "2022-03-31T08:38:49.553Z"
   },
   {
    "duration": 148,
    "start_time": "2022-03-31T08:38:49.843Z"
   },
   {
    "duration": 288,
    "start_time": "2022-03-31T09:13:03.657Z"
   },
   {
    "duration": 310,
    "start_time": "2022-03-31T09:22:21.123Z"
   },
   {
    "duration": 2181,
    "start_time": "2022-03-31T10:56:24.924Z"
   },
   {
    "duration": 57,
    "start_time": "2022-03-31T10:56:27.108Z"
   },
   {
    "duration": 20,
    "start_time": "2022-03-31T10:56:27.168Z"
   },
   {
    "duration": 10,
    "start_time": "2022-03-31T10:56:27.191Z"
   },
   {
    "duration": 66,
    "start_time": "2022-03-31T10:56:27.203Z"
   },
   {
    "duration": 9,
    "start_time": "2022-03-31T10:56:27.272Z"
   },
   {
    "duration": 40,
    "start_time": "2022-03-31T10:56:27.283Z"
   },
   {
    "duration": 64,
    "start_time": "2022-03-31T10:56:27.326Z"
   },
   {
    "duration": 40,
    "start_time": "2022-03-31T10:56:27.393Z"
   },
   {
    "duration": 45,
    "start_time": "2022-03-31T10:56:27.467Z"
   },
   {
    "duration": 11,
    "start_time": "2022-03-31T10:56:27.515Z"
   },
   {
    "duration": 9,
    "start_time": "2022-03-31T10:56:27.529Z"
   },
   {
    "duration": 212,
    "start_time": "2022-03-31T10:56:27.569Z"
   },
   {
    "duration": 11,
    "start_time": "2022-03-31T10:56:27.783Z"
   },
   {
    "duration": 439,
    "start_time": "2022-03-31T10:56:27.796Z"
   },
   {
    "duration": 50,
    "start_time": "2022-03-31T10:56:28.238Z"
   },
   {
    "duration": 210,
    "start_time": "2022-03-31T10:56:28.290Z"
   },
   {
    "duration": 221798,
    "start_time": "2022-03-31T10:56:28.502Z"
   },
   {
    "duration": 459,
    "start_time": "2022-03-31T11:00:10.302Z"
   },
   {
    "duration": 535,
    "start_time": "2022-03-31T11:00:10.763Z"
   },
   {
    "duration": 232,
    "start_time": "2022-03-31T11:00:11.300Z"
   },
   {
    "duration": 76,
    "start_time": "2022-03-31T11:00:11.534Z"
   },
   {
    "duration": 252904,
    "start_time": "2022-03-31T11:03:23.559Z"
   },
   {
    "duration": 898,
    "start_time": "2022-03-31T11:11:55.343Z"
   },
   {
    "duration": 104363,
    "start_time": "2022-03-31T11:41:35.413Z"
   },
   {
    "duration": 30591,
    "start_time": "2022-03-31T11:43:39.277Z"
   },
   {
    "duration": 74459,
    "start_time": "2022-03-31T11:46:24.316Z"
   },
   {
    "duration": 468,
    "start_time": "2022-03-31T11:53:39.076Z"
   },
   {
    "duration": 961,
    "start_time": "2022-03-31T11:56:00.196Z"
   },
   {
    "duration": 117,
    "start_time": "2022-03-31T12:26:48.423Z"
   },
   {
    "duration": 39,
    "start_time": "2022-03-31T12:27:00.927Z"
   },
   {
    "duration": 9,
    "start_time": "2022-03-31T12:27:34.646Z"
   },
   {
    "duration": 39,
    "start_time": "2022-03-31T12:29:10.574Z"
   },
   {
    "duration": 7,
    "start_time": "2022-03-31T12:29:20.870Z"
   },
   {
    "duration": 88,
    "start_time": "2022-03-31T12:29:28.382Z"
   },
   {
    "duration": 55,
    "start_time": "2022-03-31T12:29:39.559Z"
   },
   {
    "duration": 101326,
    "start_time": "2022-03-31T12:33:04.846Z"
   },
   {
    "duration": 1341,
    "start_time": "2022-03-31T12:42:06.013Z"
   },
   {
    "duration": 48,
    "start_time": "2022-03-31T12:57:04.531Z"
   },
   {
    "duration": 40,
    "start_time": "2022-03-31T12:59:01.764Z"
   },
   {
    "duration": 236,
    "start_time": "2022-03-31T13:02:44.931Z"
   },
   {
    "duration": 893,
    "start_time": "2022-03-31T13:07:01.618Z"
   },
   {
    "duration": 871,
    "start_time": "2022-03-31T13:19:45.718Z"
   },
   {
    "duration": 847,
    "start_time": "2022-03-31T13:19:56.500Z"
   },
   {
    "duration": 1831,
    "start_time": "2022-03-31T13:50:09.971Z"
   },
   {
    "duration": 56,
    "start_time": "2022-03-31T13:50:11.805Z"
   },
   {
    "duration": 18,
    "start_time": "2022-03-31T13:50:11.863Z"
   },
   {
    "duration": 9,
    "start_time": "2022-03-31T13:50:11.883Z"
   },
   {
    "duration": 31,
    "start_time": "2022-03-31T13:50:11.895Z"
   },
   {
    "duration": 45,
    "start_time": "2022-03-31T13:50:11.928Z"
   },
   {
    "duration": 39,
    "start_time": "2022-03-31T13:50:11.975Z"
   },
   {
    "duration": 51,
    "start_time": "2022-03-31T13:50:12.016Z"
   },
   {
    "duration": 36,
    "start_time": "2022-03-31T13:50:12.070Z"
   },
   {
    "duration": 71,
    "start_time": "2022-03-31T13:50:12.109Z"
   },
   {
    "duration": 11,
    "start_time": "2022-03-31T13:50:12.183Z"
   },
   {
    "duration": 9,
    "start_time": "2022-03-31T13:50:12.197Z"
   },
   {
    "duration": 219,
    "start_time": "2022-03-31T13:50:12.209Z"
   },
   {
    "duration": 9,
    "start_time": "2022-03-31T13:50:12.435Z"
   },
   {
    "duration": 456,
    "start_time": "2022-03-31T13:50:12.447Z"
   },
   {
    "duration": 40,
    "start_time": "2022-03-31T13:50:12.905Z"
   },
   {
    "duration": 210,
    "start_time": "2022-03-31T13:50:12.967Z"
   },
   {
    "duration": 217618,
    "start_time": "2022-03-31T13:50:13.180Z"
   },
   {
    "duration": 444,
    "start_time": "2022-03-31T13:53:50.801Z"
   },
   {
    "duration": 415,
    "start_time": "2022-03-31T13:53:51.247Z"
   },
   {
    "duration": 220,
    "start_time": "2022-03-31T13:53:51.667Z"
   },
   {
    "duration": 216156,
    "start_time": "2022-03-31T13:53:51.890Z"
   },
   {
    "duration": 877,
    "start_time": "2022-03-31T13:57:28.049Z"
   },
   {
    "duration": 76149,
    "start_time": "2022-03-31T13:57:28.928Z"
   },
   {
    "duration": 783,
    "start_time": "2022-03-31T13:58:45.169Z"
   },
   {
    "duration": 100215,
    "start_time": "2022-03-31T13:58:45.954Z"
   },
   {
    "duration": 987,
    "start_time": "2022-03-31T14:00:26.171Z"
   },
   {
    "duration": 227,
    "start_time": "2022-03-31T14:00:27.167Z"
   },
   {
    "duration": 886,
    "start_time": "2022-03-31T14:00:27.397Z"
   },
   {
    "duration": 956,
    "start_time": "2022-03-31T14:00:28.285Z"
   },
   {
    "duration": 1525,
    "start_time": "2022-04-01T10:58:44.341Z"
   },
   {
    "duration": 39,
    "start_time": "2022-04-01T10:58:45.868Z"
   },
   {
    "duration": 13,
    "start_time": "2022-04-01T10:58:45.910Z"
   },
   {
    "duration": 8,
    "start_time": "2022-04-01T10:58:45.934Z"
   },
   {
    "duration": 21,
    "start_time": "2022-04-01T10:58:45.944Z"
   },
   {
    "duration": 7,
    "start_time": "2022-04-01T10:58:45.967Z"
   },
   {
    "duration": 26,
    "start_time": "2022-04-01T10:58:45.975Z"
   },
   {
    "duration": 19,
    "start_time": "2022-04-01T10:58:46.032Z"
   },
   {
    "duration": 25,
    "start_time": "2022-04-01T10:58:46.053Z"
   },
   {
    "duration": 58,
    "start_time": "2022-04-01T10:58:46.082Z"
   },
   {
    "duration": 8,
    "start_time": "2022-04-01T10:58:46.142Z"
   },
   {
    "duration": 6,
    "start_time": "2022-04-01T10:58:46.152Z"
   },
   {
    "duration": 134,
    "start_time": "2022-04-01T10:58:46.160Z"
   },
   {
    "duration": 8,
    "start_time": "2022-04-01T10:58:46.296Z"
   },
   {
    "duration": 294,
    "start_time": "2022-04-01T10:58:46.306Z"
   },
   {
    "duration": 43,
    "start_time": "2022-04-01T10:58:46.602Z"
   },
   {
    "duration": 124,
    "start_time": "2022-04-01T10:58:46.647Z"
   },
   {
    "duration": 147617,
    "start_time": "2022-04-01T10:58:46.773Z"
   },
   {
    "duration": 308,
    "start_time": "2022-04-01T11:01:14.391Z"
   },
   {
    "duration": 297,
    "start_time": "2022-04-01T11:01:14.701Z"
   },
   {
    "duration": 154,
    "start_time": "2022-04-01T11:01:15.000Z"
   },
   {
    "duration": 146230,
    "start_time": "2022-04-01T11:01:15.156Z"
   },
   {
    "duration": 609,
    "start_time": "2022-04-01T11:03:41.387Z"
   },
   {
    "duration": 63438,
    "start_time": "2022-04-01T11:03:41.998Z"
   },
   {
    "duration": 703,
    "start_time": "2022-04-01T11:04:45.438Z"
   },
   {
    "duration": 72624,
    "start_time": "2022-04-01T11:04:46.143Z"
   },
   {
    "duration": 699,
    "start_time": "2022-04-01T11:05:58.834Z"
   },
   {
    "duration": 226,
    "start_time": "2022-04-01T11:05:59.537Z"
   },
   {
    "duration": 863,
    "start_time": "2022-04-01T11:05:59.765Z"
   },
   {
    "duration": 802,
    "start_time": "2022-04-01T11:06:00.633Z"
   },
   {
    "duration": 68,
    "start_time": "2022-04-01T21:02:43.596Z"
   },
   {
    "duration": 2072,
    "start_time": "2022-04-01T21:02:54.124Z"
   },
   {
    "duration": 51,
    "start_time": "2022-04-01T21:02:56.199Z"
   },
   {
    "duration": 27,
    "start_time": "2022-04-01T21:02:56.253Z"
   },
   {
    "duration": 57,
    "start_time": "2022-04-01T21:03:04.631Z"
   },
   {
    "duration": 10,
    "start_time": "2022-04-01T21:23:38.869Z"
   },
   {
    "duration": 33,
    "start_time": "2022-04-01T21:23:40.781Z"
   },
   {
    "duration": 8,
    "start_time": "2022-04-01T21:24:03.788Z"
   },
   {
    "duration": 23,
    "start_time": "2022-04-01T21:26:10.468Z"
   },
   {
    "duration": 9,
    "start_time": "2022-04-01T22:04:00.391Z"
   },
   {
    "duration": 41,
    "start_time": "2022-04-01T22:04:05.441Z"
   },
   {
    "duration": 12,
    "start_time": "2022-04-01T22:05:09.607Z"
   },
   {
    "duration": 7,
    "start_time": "2022-04-01T22:05:36.609Z"
   },
   {
    "duration": 49,
    "start_time": "2022-04-01T22:05:36.618Z"
   },
   {
    "duration": 17,
    "start_time": "2022-04-01T22:05:36.670Z"
   },
   {
    "duration": 53,
    "start_time": "2022-04-01T22:05:36.690Z"
   },
   {
    "duration": 9,
    "start_time": "2022-04-01T22:05:36.769Z"
   },
   {
    "duration": 21,
    "start_time": "2022-04-01T22:05:36.781Z"
   },
   {
    "duration": 8,
    "start_time": "2022-04-01T22:05:36.804Z"
   },
   {
    "duration": 7,
    "start_time": "2022-04-01T22:06:56.006Z"
   },
   {
    "duration": 33,
    "start_time": "2022-04-01T22:08:08.327Z"
   },
   {
    "duration": 9,
    "start_time": "2022-04-01T22:08:23.062Z"
   },
   {
    "duration": 7,
    "start_time": "2022-04-01T22:10:14.017Z"
   },
   {
    "duration": 73,
    "start_time": "2022-04-01T22:10:14.027Z"
   },
   {
    "duration": 17,
    "start_time": "2022-04-01T22:10:14.103Z"
   },
   {
    "duration": 73,
    "start_time": "2022-04-01T22:10:14.123Z"
   },
   {
    "duration": 10,
    "start_time": "2022-04-01T22:10:14.199Z"
   },
   {
    "duration": 35,
    "start_time": "2022-04-01T22:10:14.211Z"
   },
   {
    "duration": 22,
    "start_time": "2022-04-01T22:10:14.248Z"
   },
   {
    "duration": 40,
    "start_time": "2022-04-01T22:10:14.272Z"
   },
   {
    "duration": 21,
    "start_time": "2022-04-01T22:14:57.479Z"
   },
   {
    "duration": 30,
    "start_time": "2022-04-01T22:15:29.999Z"
   },
   {
    "duration": 2538,
    "start_time": "2022-04-02T16:54:29.933Z"
   },
   {
    "duration": 60,
    "start_time": "2022-04-02T16:54:32.476Z"
   },
   {
    "duration": 18,
    "start_time": "2022-04-02T16:54:32.538Z"
   },
   {
    "duration": 81,
    "start_time": "2022-04-02T16:54:32.559Z"
   },
   {
    "duration": 9,
    "start_time": "2022-04-02T16:54:32.642Z"
   },
   {
    "duration": 36,
    "start_time": "2022-04-02T16:54:32.653Z"
   },
   {
    "duration": 17,
    "start_time": "2022-04-02T16:54:32.691Z"
   },
   {
    "duration": 26,
    "start_time": "2022-04-02T16:54:32.711Z"
   },
   {
    "duration": 49,
    "start_time": "2022-04-02T16:54:32.739Z"
   },
   {
    "duration": 169,
    "start_time": "2022-04-02T16:54:39.391Z"
   },
   {
    "duration": 7,
    "start_time": "2022-04-02T16:54:48.589Z"
   },
   {
    "duration": 51,
    "start_time": "2022-04-02T16:54:48.598Z"
   },
   {
    "duration": 31,
    "start_time": "2022-04-02T16:54:48.652Z"
   },
   {
    "duration": 56,
    "start_time": "2022-04-02T16:54:48.686Z"
   },
   {
    "duration": 10,
    "start_time": "2022-04-02T16:54:48.744Z"
   },
   {
    "duration": 41,
    "start_time": "2022-04-02T16:54:48.756Z"
   },
   {
    "duration": 8,
    "start_time": "2022-04-02T16:54:48.799Z"
   },
   {
    "duration": 24,
    "start_time": "2022-04-02T16:54:48.809Z"
   },
   {
    "duration": 22,
    "start_time": "2022-04-02T16:54:52.726Z"
   },
   {
    "duration": 35,
    "start_time": "2022-04-02T16:55:09.444Z"
   },
   {
    "duration": 46,
    "start_time": "2022-04-02T16:55:20.667Z"
   },
   {
    "duration": 1890,
    "start_time": "2022-04-02T19:35:20.109Z"
   },
   {
    "duration": 54,
    "start_time": "2022-04-02T19:35:22.002Z"
   },
   {
    "duration": 30,
    "start_time": "2022-04-02T19:35:22.058Z"
   },
   {
    "duration": 58,
    "start_time": "2022-04-02T19:35:22.093Z"
   },
   {
    "duration": 12,
    "start_time": "2022-04-02T19:35:22.174Z"
   },
   {
    "duration": 24,
    "start_time": "2022-04-02T19:35:22.189Z"
   },
   {
    "duration": 9,
    "start_time": "2022-04-02T19:35:22.215Z"
   },
   {
    "duration": 68,
    "start_time": "2022-04-02T19:35:22.226Z"
   },
   {
    "duration": 22,
    "start_time": "2022-04-02T19:35:22.296Z"
   },
   {
    "duration": 30,
    "start_time": "2022-04-02T19:35:22.321Z"
   },
   {
    "duration": 12,
    "start_time": "2022-04-02T19:42:31.254Z"
   },
   {
    "duration": 67,
    "start_time": "2022-04-03T06:06:15.741Z"
   },
   {
    "duration": 2078,
    "start_time": "2022-04-03T06:06:24.926Z"
   },
   {
    "duration": 51,
    "start_time": "2022-04-03T06:06:27.007Z"
   },
   {
    "duration": 22,
    "start_time": "2022-04-03T06:06:27.067Z"
   },
   {
    "duration": 75,
    "start_time": "2022-04-03T06:06:27.092Z"
   },
   {
    "duration": 9,
    "start_time": "2022-04-03T06:06:27.170Z"
   },
   {
    "duration": 21,
    "start_time": "2022-04-03T06:06:27.182Z"
   },
   {
    "duration": 7,
    "start_time": "2022-04-03T06:06:27.206Z"
   },
   {
    "duration": 58,
    "start_time": "2022-04-03T06:06:27.216Z"
   },
   {
    "duration": 20,
    "start_time": "2022-04-03T06:06:27.277Z"
   },
   {
    "duration": 30,
    "start_time": "2022-04-03T06:06:27.300Z"
   },
   {
    "duration": 35,
    "start_time": "2022-04-03T06:06:27.332Z"
   },
   {
    "duration": 10,
    "start_time": "2022-04-03T06:06:27.369Z"
   },
   {
    "duration": 53,
    "start_time": "2022-04-03T06:10:44.152Z"
   },
   {
    "duration": 48,
    "start_time": "2022-04-03T06:11:09.745Z"
   },
   {
    "duration": 18,
    "start_time": "2022-04-03T06:12:15.296Z"
   },
   {
    "duration": 18,
    "start_time": "2022-04-03T06:12:41.841Z"
   },
   {
    "duration": 14,
    "start_time": "2022-04-03T06:27:57.238Z"
   },
   {
    "duration": 194,
    "start_time": "2022-04-03T06:27:59.750Z"
   },
   {
    "duration": 459,
    "start_time": "2022-04-03T06:28:25.830Z"
   },
   {
    "duration": 45,
    "start_time": "2022-04-03T06:28:44.053Z"
   },
   {
    "duration": 205,
    "start_time": "2022-04-03T06:29:10.686Z"
   },
   {
    "duration": 235470,
    "start_time": "2022-04-03T06:29:52.454Z"
   },
   {
    "duration": 35,
    "start_time": "2022-04-03T06:36:07.213Z"
   },
   {
    "duration": 204,
    "start_time": "2022-04-03T06:36:21.780Z"
   },
   {
    "duration": 554,
    "start_time": "2022-04-03T06:38:40.509Z"
   },
   {
    "duration": 472,
    "start_time": "2022-04-03T06:39:59.901Z"
   },
   {
    "duration": 341,
    "start_time": "2022-04-03T06:40:09.165Z"
   },
   {
    "duration": 293,
    "start_time": "2022-04-03T06:47:10.596Z"
   },
   {
    "duration": 257581,
    "start_time": "2022-04-03T06:51:10.468Z"
   },
   {
    "duration": 716,
    "start_time": "2022-04-03T06:56:41.875Z"
   },
   {
    "duration": 108153,
    "start_time": "2022-04-03T06:59:45.019Z"
   },
   {
    "duration": 1078,
    "start_time": "2022-04-03T07:16:50.872Z"
   },
   {
    "duration": 100968,
    "start_time": "2022-04-03T10:19:47.406Z"
   },
   {
    "duration": 1025,
    "start_time": "2022-04-03T10:22:07.614Z"
   },
   {
    "duration": 354,
    "start_time": "2022-04-03T10:23:02.213Z"
   },
   {
    "duration": 105326,
    "start_time": "2022-04-03T10:23:15.749Z"
   },
   {
    "duration": 367276,
    "start_time": "2022-04-03T10:33:54.965Z"
   },
   {
    "duration": 914,
    "start_time": "2022-04-03T10:41:05.405Z"
   },
   {
    "duration": 559,
    "start_time": "2022-04-03T10:51:42.101Z"
   },
   {
    "duration": 225,
    "start_time": "2022-04-03T10:53:57.125Z"
   },
   {
    "duration": 574,
    "start_time": "2022-04-03T10:58:40.113Z"
   },
   {
    "duration": 223,
    "start_time": "2022-04-03T10:58:56.651Z"
   },
   {
    "duration": 484,
    "start_time": "2022-04-03T10:59:05.587Z"
   },
   {
    "duration": 216,
    "start_time": "2022-04-03T10:59:13.178Z"
   },
   {
    "duration": 316,
    "start_time": "2022-04-03T11:08:01.898Z"
   },
   {
    "duration": 981,
    "start_time": "2022-04-03T11:08:09.217Z"
   },
   {
    "duration": 240,
    "start_time": "2022-04-03T11:09:02.489Z"
   },
   {
    "duration": 1367,
    "start_time": "2022-04-03T11:17:56.679Z"
   },
   {
    "duration": 1063,
    "start_time": "2022-04-03T11:19:18.319Z"
   },
   {
    "duration": 922,
    "start_time": "2022-04-03T11:19:45.351Z"
   },
   {
    "duration": 134,
    "start_time": "2022-04-03T11:29:20.118Z"
   },
   {
    "duration": 144,
    "start_time": "2022-04-03T11:29:40.615Z"
   },
   {
    "duration": 10,
    "start_time": "2022-04-03T11:33:08.775Z"
   },
   {
    "duration": 16,
    "start_time": "2022-04-03T11:35:44.013Z"
   },
   {
    "duration": 1600,
    "start_time": "2022-04-03T11:37:47.440Z"
   },
   {
    "duration": 1929,
    "start_time": "2022-04-03T11:39:09.250Z"
   },
   {
    "duration": 55,
    "start_time": "2022-04-03T11:39:11.182Z"
   },
   {
    "duration": 37,
    "start_time": "2022-04-03T11:39:11.239Z"
   },
   {
    "duration": 55,
    "start_time": "2022-04-03T11:39:11.280Z"
   },
   {
    "duration": 30,
    "start_time": "2022-04-03T11:39:11.338Z"
   },
   {
    "duration": 30,
    "start_time": "2022-04-03T11:39:11.371Z"
   },
   {
    "duration": 10,
    "start_time": "2022-04-03T11:39:11.404Z"
   },
   {
    "duration": 66,
    "start_time": "2022-04-03T11:39:11.417Z"
   },
   {
    "duration": 30,
    "start_time": "2022-04-03T11:39:11.486Z"
   },
   {
    "duration": 65,
    "start_time": "2022-04-03T11:39:11.522Z"
   },
   {
    "duration": 14,
    "start_time": "2022-04-03T11:39:11.590Z"
   },
   {
    "duration": 13,
    "start_time": "2022-04-03T11:39:11.607Z"
   },
   {
    "duration": 75,
    "start_time": "2022-04-03T11:39:11.622Z"
   },
   {
    "duration": 11,
    "start_time": "2022-04-03T11:39:11.700Z"
   },
   {
    "duration": 214,
    "start_time": "2022-04-03T11:39:11.713Z"
   },
   {
    "duration": 466,
    "start_time": "2022-04-03T11:39:11.930Z"
   },
   {
    "duration": 36,
    "start_time": "2022-04-03T11:39:12.398Z"
   },
   {
    "duration": 213,
    "start_time": "2022-04-03T11:39:12.436Z"
   },
   {
    "duration": 289841,
    "start_time": "2022-04-03T11:39:12.652Z"
   },
   {
    "duration": 646,
    "start_time": "2022-04-03T11:44:02.496Z"
   },
   {
    "duration": 709,
    "start_time": "2022-04-03T11:44:03.145Z"
   },
   {
    "duration": 325,
    "start_time": "2022-04-03T11:44:03.857Z"
   },
   {
    "duration": 237982,
    "start_time": "2022-04-03T11:44:04.185Z"
   },
   {
    "duration": 706,
    "start_time": "2022-04-03T11:48:02.170Z"
   },
   {
    "duration": 75995,
    "start_time": "2022-04-03T11:48:02.878Z"
   },
   {
    "duration": 967,
    "start_time": "2022-04-03T11:49:18.876Z"
   },
   {
    "duration": 91626,
    "start_time": "2022-04-03T11:49:19.846Z"
   },
   {
    "duration": 1168,
    "start_time": "2022-04-03T11:50:51.480Z"
   },
   {
    "duration": 321679,
    "start_time": "2022-04-03T11:50:52.651Z"
   },
   {
    "duration": 905,
    "start_time": "2022-04-03T11:56:14.332Z"
   },
   {
    "duration": 582,
    "start_time": "2022-04-03T11:56:15.240Z"
   },
   {
    "duration": 252,
    "start_time": "2022-04-03T11:56:15.825Z"
   },
   {
    "duration": 250,
    "start_time": "2022-04-03T11:56:16.080Z"
   },
   {
    "duration": 900,
    "start_time": "2022-04-03T11:56:16.333Z"
   },
   {
    "duration": 1010,
    "start_time": "2022-04-03T11:56:17.236Z"
   },
   {
    "duration": 19,
    "start_time": "2022-04-03T11:56:18.249Z"
   },
   {
    "duration": 16,
    "start_time": "2022-04-03T11:56:18.271Z"
   },
   {
    "duration": 1131,
    "start_time": "2022-04-03T11:56:18.289Z"
   },
   {
    "duration": 1180,
    "start_time": "2022-04-03T12:39:35.861Z"
   },
   {
    "duration": 1804,
    "start_time": "2022-04-03T13:05:48.605Z"
   },
   {
    "duration": 55,
    "start_time": "2022-04-03T13:05:50.412Z"
   },
   {
    "duration": 23,
    "start_time": "2022-04-03T13:05:50.469Z"
   },
   {
    "duration": 86,
    "start_time": "2022-04-03T13:05:50.495Z"
   },
   {
    "duration": 12,
    "start_time": "2022-04-03T13:05:50.584Z"
   },
   {
    "duration": 25,
    "start_time": "2022-04-03T13:05:50.599Z"
   },
   {
    "duration": 46,
    "start_time": "2022-04-03T13:05:50.626Z"
   },
   {
    "duration": 25,
    "start_time": "2022-04-03T13:05:50.675Z"
   },
   {
    "duration": 21,
    "start_time": "2022-04-03T13:05:50.703Z"
   },
   {
    "duration": 65,
    "start_time": "2022-04-03T13:05:50.730Z"
   },
   {
    "duration": 12,
    "start_time": "2022-04-03T13:05:50.797Z"
   },
   {
    "duration": 9,
    "start_time": "2022-04-03T13:05:50.811Z"
   },
   {
    "duration": 83,
    "start_time": "2022-04-03T13:05:50.822Z"
   },
   {
    "duration": 12,
    "start_time": "2022-04-03T13:05:50.907Z"
   },
   {
    "duration": 201,
    "start_time": "2022-04-03T13:05:50.922Z"
   },
   {
    "duration": 449,
    "start_time": "2022-04-03T13:05:51.125Z"
   },
   {
    "duration": 35,
    "start_time": "2022-04-03T13:05:51.576Z"
   },
   {
    "duration": 214,
    "start_time": "2022-04-03T13:05:51.613Z"
   },
   {
    "duration": 236752,
    "start_time": "2022-04-03T13:05:51.829Z"
   },
   {
    "duration": 547,
    "start_time": "2022-04-03T13:09:48.584Z"
   },
   {
    "duration": 455,
    "start_time": "2022-04-03T13:09:49.135Z"
   },
   {
    "duration": 238,
    "start_time": "2022-04-03T13:09:49.592Z"
   },
   {
    "duration": 235677,
    "start_time": "2022-04-03T13:09:49.833Z"
   },
   {
    "duration": 839,
    "start_time": "2022-04-03T13:13:45.513Z"
   },
   {
    "duration": 78414,
    "start_time": "2022-04-03T13:13:46.354Z"
   },
   {
    "duration": 881,
    "start_time": "2022-04-03T13:15:04.771Z"
   },
   {
    "duration": 93917,
    "start_time": "2022-04-03T13:15:05.656Z"
   },
   {
    "duration": 1170,
    "start_time": "2022-04-03T13:16:39.580Z"
   },
   {
    "duration": 334234,
    "start_time": "2022-04-03T13:16:40.753Z"
   },
   {
    "duration": 923,
    "start_time": "2022-04-03T13:22:14.990Z"
   },
   {
    "duration": 595,
    "start_time": "2022-04-03T13:22:15.915Z"
   },
   {
    "duration": 239,
    "start_time": "2022-04-03T13:22:16.512Z"
   },
   {
    "duration": 246,
    "start_time": "2022-04-03T13:22:16.753Z"
   },
   {
    "duration": 904,
    "start_time": "2022-04-03T13:22:17.001Z"
   },
   {
    "duration": 1025,
    "start_time": "2022-04-03T13:22:17.907Z"
   },
   {
    "duration": 9,
    "start_time": "2022-04-03T13:22:18.935Z"
   },
   {
    "duration": 31,
    "start_time": "2022-04-03T13:22:18.946Z"
   },
   {
    "duration": 1112,
    "start_time": "2022-04-03T13:22:18.980Z"
   },
   {
    "duration": 1780,
    "start_time": "2022-04-04T09:13:30.563Z"
   },
   {
    "duration": 47,
    "start_time": "2022-04-04T09:13:32.346Z"
   },
   {
    "duration": 17,
    "start_time": "2022-04-04T09:13:32.395Z"
   },
   {
    "duration": 129,
    "start_time": "2022-04-04T09:13:32.415Z"
   },
   {
    "duration": 9,
    "start_time": "2022-04-04T09:13:32.547Z"
   },
   {
    "duration": 20,
    "start_time": "2022-04-04T09:13:32.558Z"
   },
   {
    "duration": 53,
    "start_time": "2022-04-04T09:13:32.581Z"
   },
   {
    "duration": 52,
    "start_time": "2022-04-04T09:13:32.636Z"
   },
   {
    "duration": 24,
    "start_time": "2022-04-04T09:13:32.690Z"
   },
   {
    "duration": 56,
    "start_time": "2022-04-04T09:13:32.718Z"
   },
   {
    "duration": 13,
    "start_time": "2022-04-04T09:13:32.777Z"
   },
   {
    "duration": 28,
    "start_time": "2022-04-04T09:13:32.792Z"
   },
   {
    "duration": 84,
    "start_time": "2022-04-04T09:13:32.822Z"
   },
   {
    "duration": 12,
    "start_time": "2022-04-04T09:13:32.909Z"
   },
   {
    "duration": 182,
    "start_time": "2022-04-04T09:13:32.922Z"
   },
   {
    "duration": 706,
    "start_time": "2022-04-04T09:13:33.106Z"
   },
   {
    "duration": 28,
    "start_time": "2022-04-04T09:13:33.814Z"
   },
   {
    "duration": 282,
    "start_time": "2022-04-04T09:13:33.844Z"
   },
   {
    "duration": 178976,
    "start_time": "2022-04-04T09:13:34.127Z"
   },
   {
    "duration": 431,
    "start_time": "2022-04-04T09:16:33.105Z"
   },
   {
    "duration": 365,
    "start_time": "2022-04-04T09:16:33.539Z"
   },
   {
    "duration": 163,
    "start_time": "2022-04-04T09:16:33.907Z"
   },
   {
    "duration": 177964,
    "start_time": "2022-04-04T09:16:34.072Z"
   },
   {
    "duration": 514,
    "start_time": "2022-04-04T09:19:32.038Z"
   },
   {
    "duration": 69150,
    "start_time": "2022-04-04T09:19:32.554Z"
   },
   {
    "duration": 809,
    "start_time": "2022-04-04T09:20:41.707Z"
   },
   {
    "duration": 80788,
    "start_time": "2022-04-04T09:20:42.518Z"
   },
   {
    "duration": 1011,
    "start_time": "2022-04-04T09:22:03.311Z"
   },
   {
    "duration": 241233,
    "start_time": "2022-04-04T09:22:04.323Z"
   },
   {
    "duration": 670,
    "start_time": "2022-04-04T09:26:05.558Z"
   },
   {
    "duration": 435,
    "start_time": "2022-04-04T09:26:06.230Z"
   },
   {
    "duration": 168,
    "start_time": "2022-04-04T09:26:06.667Z"
   },
   {
    "duration": 172,
    "start_time": "2022-04-04T09:26:06.837Z"
   },
   {
    "duration": 691,
    "start_time": "2022-04-04T09:26:07.012Z"
   },
   {
    "duration": 807,
    "start_time": "2022-04-04T09:26:07.706Z"
   },
   {
    "duration": 7,
    "start_time": "2022-04-04T09:26:08.515Z"
   },
   {
    "duration": 32,
    "start_time": "2022-04-04T09:26:08.523Z"
   },
   {
    "duration": 801,
    "start_time": "2022-04-04T09:26:08.557Z"
   },
   {
    "duration": 1761,
    "start_time": "2022-04-23T20:10:37.144Z"
   },
   {
    "duration": 64,
    "start_time": "2022-04-23T20:10:38.907Z"
   },
   {
    "duration": 14,
    "start_time": "2022-04-23T20:10:38.973Z"
   },
   {
    "duration": 46,
    "start_time": "2022-04-23T20:10:38.989Z"
   },
   {
    "duration": 8,
    "start_time": "2022-04-23T20:10:39.037Z"
   },
   {
    "duration": 16,
    "start_time": "2022-04-23T20:10:39.047Z"
   },
   {
    "duration": 9,
    "start_time": "2022-04-23T20:10:39.065Z"
   },
   {
    "duration": 18,
    "start_time": "2022-04-23T20:10:39.076Z"
   },
   {
    "duration": 15,
    "start_time": "2022-04-23T20:10:39.096Z"
   },
   {
    "duration": 28,
    "start_time": "2022-04-23T20:10:39.114Z"
   },
   {
    "duration": 10,
    "start_time": "2022-04-23T20:10:39.144Z"
   },
   {
    "duration": 13,
    "start_time": "2022-04-23T20:10:39.155Z"
   },
   {
    "duration": 44,
    "start_time": "2022-04-23T20:10:39.170Z"
   },
   {
    "duration": 8,
    "start_time": "2022-04-23T20:10:39.216Z"
   },
   {
    "duration": 213,
    "start_time": "2022-04-23T20:10:39.226Z"
   },
   {
    "duration": 493,
    "start_time": "2022-04-23T20:10:39.441Z"
   },
   {
    "duration": 30,
    "start_time": "2022-04-23T20:10:39.936Z"
   },
   {
    "duration": 167,
    "start_time": "2022-04-23T20:10:39.968Z"
   },
   {
    "duration": 187527,
    "start_time": "2022-04-23T20:10:40.137Z"
   },
   {
    "duration": 436,
    "start_time": "2022-04-23T20:13:47.666Z"
   },
   {
    "duration": 375,
    "start_time": "2022-04-23T20:13:48.104Z"
   },
   {
    "duration": 170,
    "start_time": "2022-04-23T20:13:48.480Z"
   },
   {
    "duration": 194482,
    "start_time": "2022-04-23T20:13:48.652Z"
   },
   {
    "duration": 608,
    "start_time": "2022-04-23T20:17:03.137Z"
   },
   {
    "duration": 141411,
    "start_time": "2022-04-23T20:17:03.747Z"
   },
   {
    "duration": 1149,
    "start_time": "2022-04-23T20:19:25.232Z"
   },
   {
    "duration": 159261,
    "start_time": "2022-04-23T20:19:26.382Z"
   },
   {
    "duration": 1631,
    "start_time": "2022-04-23T20:22:05.647Z"
   },
   {
    "duration": 256720,
    "start_time": "2022-04-23T20:22:07.279Z"
   },
   {
    "duration": 716,
    "start_time": "2022-04-23T20:26:24.001Z"
   },
   {
    "duration": 463,
    "start_time": "2022-04-23T20:26:24.719Z"
   },
   {
    "duration": 202,
    "start_time": "2022-04-23T20:26:25.184Z"
   },
   {
    "duration": 197,
    "start_time": "2022-04-23T20:26:25.388Z"
   },
   {
    "duration": 768,
    "start_time": "2022-04-23T20:26:25.587Z"
   },
   {
    "duration": 1884,
    "start_time": "2022-04-23T20:26:26.357Z"
   },
   {
    "duration": 7,
    "start_time": "2022-04-23T20:26:28.243Z"
   },
   {
    "duration": 20,
    "start_time": "2022-04-23T20:26:28.251Z"
   },
   {
    "duration": 914,
    "start_time": "2022-04-23T20:26:28.273Z"
   }
  ],
  "kernelspec": {
   "display_name": "Python 3 (ipykernel)",
   "language": "python",
   "name": "python3"
  },
  "language_info": {
   "codemirror_mode": {
    "name": "ipython",
    "version": 3
   },
   "file_extension": ".py",
   "mimetype": "text/x-python",
   "name": "python",
   "nbconvert_exporter": "python",
   "pygments_lexer": "ipython3",
   "version": "3.9.7"
  },
  "toc": {
   "base_numbering": 1,
   "nav_menu": {},
   "number_sections": true,
   "sideBar": true,
   "skip_h1_title": true,
   "title_cell": "Содержание",
   "title_sidebar": "Contents",
   "toc_cell": true,
   "toc_position": {
    "height": "calc(100% - 180px)",
    "left": "10px",
    "top": "150px",
    "width": "411.15px"
   },
   "toc_section_display": true,
   "toc_window_display": true
  }
 },
 "nbformat": 4,
 "nbformat_minor": 2
}
