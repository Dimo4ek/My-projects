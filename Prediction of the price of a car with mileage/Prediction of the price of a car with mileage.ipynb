{
 "cells": [
  {
   "cell_type": "markdown",
   "metadata": {},
   "source": [
    "# Предсказание цены машины с пробегом"
   ]
  },
  {
   "cell_type": "markdown",
   "metadata": {},
   "source": [
    "Нам нужно построить модель для определения стоимости автомобилей. \n",
    "Сервис по продаже автомобилей с пробегом разрабатывает приложение для привлечения новых клиентов. В нём можно быстро узнать рыночную стоимость своего автомобиля. В вашем распоряжении исторические данные: технические характеристики, комплектации и цены автомобилей.\n",
    "\n",
    "Заказчику важны:\n",
    "\n",
    "- качество предсказания;\n",
    "- скорость предсказания;\n",
    "- время обучения."
   ]
  },
  {
   "cell_type": "markdown",
   "metadata": {},
   "source": [
    "## Подготовка данных"
   ]
  },
  {
   "cell_type": "markdown",
   "metadata": {},
   "source": [
    "Чтобы изучить данные таблиц, сделать необходимые рассчёты и провести исследование сразу импортируем библиотеки, который нам потребуются в данном проекте:"
   ]
  },
  {
   "cell_type": "code",
   "execution_count": 1,
   "metadata": {},
   "outputs": [],
   "source": [
    "from catboost import CatBoostRegressor\n",
    "from lightgbm import LGBMRegressor\n",
    "from sklearn.ensemble import RandomForestClassifier\n",
    "from sklearn.linear_model import LinearRegression\n",
    "from sklearn.metrics import mean_squared_error\n",
    "from sklearn.model_selection import train_test_split\n",
    "from sklearn.preprocessing import StandardScaler\n",
    "from sklearn.tree import DecisionTreeClassifier\n",
    "\n",
    "import matplotlib.pyplot as plt\n",
    "import numpy as np\n",
    "import pandas as pd\n",
    "import phik\n",
    "import seaborn as sns"
   ]
  },
  {
   "cell_type": "markdown",
   "metadata": {},
   "source": [
    "### Загрузим данные и изучим их"
   ]
  },
  {
   "cell_type": "markdown",
   "metadata": {},
   "source": [
    "Напишем функцию, которая будет отображать основные показатели датасета и строить корреляционную матрицу"
   ]
  },
  {
   "cell_type": "code",
   "execution_count": 2,
   "metadata": {},
   "outputs": [],
   "source": [
    "def df_info(df):\n",
    "    \"\"\"Изучение датасета\"\"\"\n",
    "    print('\\nПервые 10 строчек датафрейма')\n",
    "    display(df.head(10))\n",
    "    print('\\nИнформация о датафрейме\\n')\n",
    "    display(df.info())\n",
    "    print('\\nРасчёт значений в каждом столбце')\n",
    "    display(df.describe())\n",
    "    print('\\nКоличество дубликатов =', df.duplicated().sum())\n",
    "    print('\\nЧисло пропусков в каждом столбце')\n",
    "    display(df.isna().sum())\n",
    "    print('\\nПостроение корреляционной матрицы')\n",
    "    plt.figure(figsize=(12,12))\n",
    "    corr_matrix = sns.heatmap(df.corr(), annot=True)\n",
    "    corr_matrix.axes.set_title(\"\\nКорреляционная матрица\", fontsize=5)"
   ]
  },
  {
   "cell_type": "markdown",
   "metadata": {},
   "source": [
    "Прочитаем файл и сохраним его"
   ]
  },
  {
   "cell_type": "code",
   "execution_count": 3,
   "metadata": {},
   "outputs": [],
   "source": [
    "df = pd.read_csv('C:\\\\Users\\\\Дмитрий\\\\github\\\\projects\\\\projects\\\\Prediction of the price of a car with mileage\\\\autos.csv') "
   ]
  },
  {
   "cell_type": "markdown",
   "metadata": {},
   "source": [
    "Изучим датасет"
   ]
  },
  {
   "cell_type": "code",
   "execution_count": 4,
   "metadata": {
    "scrolled": false
   },
   "outputs": [
    {
     "name": "stdout",
     "output_type": "stream",
     "text": [
      "\n",
      "Первые 10 строчек датафрейма\n"
     ]
    },
    {
     "data": {
      "text/html": [
       "<div>\n",
       "<style scoped>\n",
       "    .dataframe tbody tr th:only-of-type {\n",
       "        vertical-align: middle;\n",
       "    }\n",
       "\n",
       "    .dataframe tbody tr th {\n",
       "        vertical-align: top;\n",
       "    }\n",
       "\n",
       "    .dataframe thead th {\n",
       "        text-align: right;\n",
       "    }\n",
       "</style>\n",
       "<table border=\"1\" class=\"dataframe\">\n",
       "  <thead>\n",
       "    <tr style=\"text-align: right;\">\n",
       "      <th></th>\n",
       "      <th>DateCrawled</th>\n",
       "      <th>Price</th>\n",
       "      <th>VehicleType</th>\n",
       "      <th>RegistrationYear</th>\n",
       "      <th>Gearbox</th>\n",
       "      <th>Power</th>\n",
       "      <th>Model</th>\n",
       "      <th>Kilometer</th>\n",
       "      <th>RegistrationMonth</th>\n",
       "      <th>FuelType</th>\n",
       "      <th>Brand</th>\n",
       "      <th>NotRepaired</th>\n",
       "      <th>DateCreated</th>\n",
       "      <th>NumberOfPictures</th>\n",
       "      <th>PostalCode</th>\n",
       "      <th>LastSeen</th>\n",
       "    </tr>\n",
       "  </thead>\n",
       "  <tbody>\n",
       "    <tr>\n",
       "      <th>0</th>\n",
       "      <td>2016-03-24 11:52:17</td>\n",
       "      <td>480</td>\n",
       "      <td>NaN</td>\n",
       "      <td>1993</td>\n",
       "      <td>manual</td>\n",
       "      <td>0</td>\n",
       "      <td>golf</td>\n",
       "      <td>150000</td>\n",
       "      <td>0</td>\n",
       "      <td>petrol</td>\n",
       "      <td>volkswagen</td>\n",
       "      <td>NaN</td>\n",
       "      <td>2016-03-24 00:00:00</td>\n",
       "      <td>0</td>\n",
       "      <td>70435</td>\n",
       "      <td>2016-04-07 03:16:57</td>\n",
       "    </tr>\n",
       "    <tr>\n",
       "      <th>1</th>\n",
       "      <td>2016-03-24 10:58:45</td>\n",
       "      <td>18300</td>\n",
       "      <td>coupe</td>\n",
       "      <td>2011</td>\n",
       "      <td>manual</td>\n",
       "      <td>190</td>\n",
       "      <td>NaN</td>\n",
       "      <td>125000</td>\n",
       "      <td>5</td>\n",
       "      <td>gasoline</td>\n",
       "      <td>audi</td>\n",
       "      <td>yes</td>\n",
       "      <td>2016-03-24 00:00:00</td>\n",
       "      <td>0</td>\n",
       "      <td>66954</td>\n",
       "      <td>2016-04-07 01:46:50</td>\n",
       "    </tr>\n",
       "    <tr>\n",
       "      <th>2</th>\n",
       "      <td>2016-03-14 12:52:21</td>\n",
       "      <td>9800</td>\n",
       "      <td>suv</td>\n",
       "      <td>2004</td>\n",
       "      <td>auto</td>\n",
       "      <td>163</td>\n",
       "      <td>grand</td>\n",
       "      <td>125000</td>\n",
       "      <td>8</td>\n",
       "      <td>gasoline</td>\n",
       "      <td>jeep</td>\n",
       "      <td>NaN</td>\n",
       "      <td>2016-03-14 00:00:00</td>\n",
       "      <td>0</td>\n",
       "      <td>90480</td>\n",
       "      <td>2016-04-05 12:47:46</td>\n",
       "    </tr>\n",
       "    <tr>\n",
       "      <th>3</th>\n",
       "      <td>2016-03-17 16:54:04</td>\n",
       "      <td>1500</td>\n",
       "      <td>small</td>\n",
       "      <td>2001</td>\n",
       "      <td>manual</td>\n",
       "      <td>75</td>\n",
       "      <td>golf</td>\n",
       "      <td>150000</td>\n",
       "      <td>6</td>\n",
       "      <td>petrol</td>\n",
       "      <td>volkswagen</td>\n",
       "      <td>no</td>\n",
       "      <td>2016-03-17 00:00:00</td>\n",
       "      <td>0</td>\n",
       "      <td>91074</td>\n",
       "      <td>2016-03-17 17:40:17</td>\n",
       "    </tr>\n",
       "    <tr>\n",
       "      <th>4</th>\n",
       "      <td>2016-03-31 17:25:20</td>\n",
       "      <td>3600</td>\n",
       "      <td>small</td>\n",
       "      <td>2008</td>\n",
       "      <td>manual</td>\n",
       "      <td>69</td>\n",
       "      <td>fabia</td>\n",
       "      <td>90000</td>\n",
       "      <td>7</td>\n",
       "      <td>gasoline</td>\n",
       "      <td>skoda</td>\n",
       "      <td>no</td>\n",
       "      <td>2016-03-31 00:00:00</td>\n",
       "      <td>0</td>\n",
       "      <td>60437</td>\n",
       "      <td>2016-04-06 10:17:21</td>\n",
       "    </tr>\n",
       "    <tr>\n",
       "      <th>5</th>\n",
       "      <td>2016-04-04 17:36:23</td>\n",
       "      <td>650</td>\n",
       "      <td>sedan</td>\n",
       "      <td>1995</td>\n",
       "      <td>manual</td>\n",
       "      <td>102</td>\n",
       "      <td>3er</td>\n",
       "      <td>150000</td>\n",
       "      <td>10</td>\n",
       "      <td>petrol</td>\n",
       "      <td>bmw</td>\n",
       "      <td>yes</td>\n",
       "      <td>2016-04-04 00:00:00</td>\n",
       "      <td>0</td>\n",
       "      <td>33775</td>\n",
       "      <td>2016-04-06 19:17:07</td>\n",
       "    </tr>\n",
       "    <tr>\n",
       "      <th>6</th>\n",
       "      <td>2016-04-01 20:48:51</td>\n",
       "      <td>2200</td>\n",
       "      <td>convertible</td>\n",
       "      <td>2004</td>\n",
       "      <td>manual</td>\n",
       "      <td>109</td>\n",
       "      <td>2_reihe</td>\n",
       "      <td>150000</td>\n",
       "      <td>8</td>\n",
       "      <td>petrol</td>\n",
       "      <td>peugeot</td>\n",
       "      <td>no</td>\n",
       "      <td>2016-04-01 00:00:00</td>\n",
       "      <td>0</td>\n",
       "      <td>67112</td>\n",
       "      <td>2016-04-05 18:18:39</td>\n",
       "    </tr>\n",
       "    <tr>\n",
       "      <th>7</th>\n",
       "      <td>2016-03-21 18:54:38</td>\n",
       "      <td>0</td>\n",
       "      <td>sedan</td>\n",
       "      <td>1980</td>\n",
       "      <td>manual</td>\n",
       "      <td>50</td>\n",
       "      <td>other</td>\n",
       "      <td>40000</td>\n",
       "      <td>7</td>\n",
       "      <td>petrol</td>\n",
       "      <td>volkswagen</td>\n",
       "      <td>no</td>\n",
       "      <td>2016-03-21 00:00:00</td>\n",
       "      <td>0</td>\n",
       "      <td>19348</td>\n",
       "      <td>2016-03-25 16:47:58</td>\n",
       "    </tr>\n",
       "    <tr>\n",
       "      <th>8</th>\n",
       "      <td>2016-04-04 23:42:13</td>\n",
       "      <td>14500</td>\n",
       "      <td>bus</td>\n",
       "      <td>2014</td>\n",
       "      <td>manual</td>\n",
       "      <td>125</td>\n",
       "      <td>c_max</td>\n",
       "      <td>30000</td>\n",
       "      <td>8</td>\n",
       "      <td>petrol</td>\n",
       "      <td>ford</td>\n",
       "      <td>NaN</td>\n",
       "      <td>2016-04-04 00:00:00</td>\n",
       "      <td>0</td>\n",
       "      <td>94505</td>\n",
       "      <td>2016-04-04 23:42:13</td>\n",
       "    </tr>\n",
       "    <tr>\n",
       "      <th>9</th>\n",
       "      <td>2016-03-17 10:53:50</td>\n",
       "      <td>999</td>\n",
       "      <td>small</td>\n",
       "      <td>1998</td>\n",
       "      <td>manual</td>\n",
       "      <td>101</td>\n",
       "      <td>golf</td>\n",
       "      <td>150000</td>\n",
       "      <td>0</td>\n",
       "      <td>NaN</td>\n",
       "      <td>volkswagen</td>\n",
       "      <td>NaN</td>\n",
       "      <td>2016-03-17 00:00:00</td>\n",
       "      <td>0</td>\n",
       "      <td>27472</td>\n",
       "      <td>2016-03-31 17:17:06</td>\n",
       "    </tr>\n",
       "  </tbody>\n",
       "</table>\n",
       "</div>"
      ],
      "text/plain": [
       "           DateCrawled  Price  VehicleType  RegistrationYear Gearbox  Power  \\\n",
       "0  2016-03-24 11:52:17    480          NaN              1993  manual      0   \n",
       "1  2016-03-24 10:58:45  18300        coupe              2011  manual    190   \n",
       "2  2016-03-14 12:52:21   9800          suv              2004    auto    163   \n",
       "3  2016-03-17 16:54:04   1500        small              2001  manual     75   \n",
       "4  2016-03-31 17:25:20   3600        small              2008  manual     69   \n",
       "5  2016-04-04 17:36:23    650        sedan              1995  manual    102   \n",
       "6  2016-04-01 20:48:51   2200  convertible              2004  manual    109   \n",
       "7  2016-03-21 18:54:38      0        sedan              1980  manual     50   \n",
       "8  2016-04-04 23:42:13  14500          bus              2014  manual    125   \n",
       "9  2016-03-17 10:53:50    999        small              1998  manual    101   \n",
       "\n",
       "     Model  Kilometer  RegistrationMonth  FuelType       Brand NotRepaired  \\\n",
       "0     golf     150000                  0    petrol  volkswagen         NaN   \n",
       "1      NaN     125000                  5  gasoline        audi         yes   \n",
       "2    grand     125000                  8  gasoline        jeep         NaN   \n",
       "3     golf     150000                  6    petrol  volkswagen          no   \n",
       "4    fabia      90000                  7  gasoline       skoda          no   \n",
       "5      3er     150000                 10    petrol         bmw         yes   \n",
       "6  2_reihe     150000                  8    petrol     peugeot          no   \n",
       "7    other      40000                  7    petrol  volkswagen          no   \n",
       "8    c_max      30000                  8    petrol        ford         NaN   \n",
       "9     golf     150000                  0       NaN  volkswagen         NaN   \n",
       "\n",
       "           DateCreated  NumberOfPictures  PostalCode             LastSeen  \n",
       "0  2016-03-24 00:00:00                 0       70435  2016-04-07 03:16:57  \n",
       "1  2016-03-24 00:00:00                 0       66954  2016-04-07 01:46:50  \n",
       "2  2016-03-14 00:00:00                 0       90480  2016-04-05 12:47:46  \n",
       "3  2016-03-17 00:00:00                 0       91074  2016-03-17 17:40:17  \n",
       "4  2016-03-31 00:00:00                 0       60437  2016-04-06 10:17:21  \n",
       "5  2016-04-04 00:00:00                 0       33775  2016-04-06 19:17:07  \n",
       "6  2016-04-01 00:00:00                 0       67112  2016-04-05 18:18:39  \n",
       "7  2016-03-21 00:00:00                 0       19348  2016-03-25 16:47:58  \n",
       "8  2016-04-04 00:00:00                 0       94505  2016-04-04 23:42:13  \n",
       "9  2016-03-17 00:00:00                 0       27472  2016-03-31 17:17:06  "
      ]
     },
     "metadata": {},
     "output_type": "display_data"
    },
    {
     "name": "stdout",
     "output_type": "stream",
     "text": [
      "\n",
      "Информация о датафрейме\n",
      "\n",
      "<class 'pandas.core.frame.DataFrame'>\n",
      "RangeIndex: 354369 entries, 0 to 354368\n",
      "Data columns (total 16 columns):\n",
      " #   Column             Non-Null Count   Dtype \n",
      "---  ------             --------------   ----- \n",
      " 0   DateCrawled        354369 non-null  object\n",
      " 1   Price              354369 non-null  int64 \n",
      " 2   VehicleType        316879 non-null  object\n",
      " 3   RegistrationYear   354369 non-null  int64 \n",
      " 4   Gearbox            334536 non-null  object\n",
      " 5   Power              354369 non-null  int64 \n",
      " 6   Model              334664 non-null  object\n",
      " 7   Kilometer          354369 non-null  int64 \n",
      " 8   RegistrationMonth  354369 non-null  int64 \n",
      " 9   FuelType           321474 non-null  object\n",
      " 10  Brand              354369 non-null  object\n",
      " 11  NotRepaired        283215 non-null  object\n",
      " 12  DateCreated        354369 non-null  object\n",
      " 13  NumberOfPictures   354369 non-null  int64 \n",
      " 14  PostalCode         354369 non-null  int64 \n",
      " 15  LastSeen           354369 non-null  object\n",
      "dtypes: int64(7), object(9)\n",
      "memory usage: 43.3+ MB\n"
     ]
    },
    {
     "data": {
      "text/plain": [
       "None"
      ]
     },
     "metadata": {},
     "output_type": "display_data"
    },
    {
     "name": "stdout",
     "output_type": "stream",
     "text": [
      "\n",
      "Расчёт значений в каждом столбце\n"
     ]
    },
    {
     "data": {
      "text/html": [
       "<div>\n",
       "<style scoped>\n",
       "    .dataframe tbody tr th:only-of-type {\n",
       "        vertical-align: middle;\n",
       "    }\n",
       "\n",
       "    .dataframe tbody tr th {\n",
       "        vertical-align: top;\n",
       "    }\n",
       "\n",
       "    .dataframe thead th {\n",
       "        text-align: right;\n",
       "    }\n",
       "</style>\n",
       "<table border=\"1\" class=\"dataframe\">\n",
       "  <thead>\n",
       "    <tr style=\"text-align: right;\">\n",
       "      <th></th>\n",
       "      <th>Price</th>\n",
       "      <th>RegistrationYear</th>\n",
       "      <th>Power</th>\n",
       "      <th>Kilometer</th>\n",
       "      <th>RegistrationMonth</th>\n",
       "      <th>NumberOfPictures</th>\n",
       "      <th>PostalCode</th>\n",
       "    </tr>\n",
       "  </thead>\n",
       "  <tbody>\n",
       "    <tr>\n",
       "      <th>count</th>\n",
       "      <td>354369.000000</td>\n",
       "      <td>354369.000000</td>\n",
       "      <td>354369.000000</td>\n",
       "      <td>354369.000000</td>\n",
       "      <td>354369.000000</td>\n",
       "      <td>354369.0</td>\n",
       "      <td>354369.000000</td>\n",
       "    </tr>\n",
       "    <tr>\n",
       "      <th>mean</th>\n",
       "      <td>4416.656776</td>\n",
       "      <td>2004.234448</td>\n",
       "      <td>110.094337</td>\n",
       "      <td>128211.172535</td>\n",
       "      <td>5.714645</td>\n",
       "      <td>0.0</td>\n",
       "      <td>50508.689087</td>\n",
       "    </tr>\n",
       "    <tr>\n",
       "      <th>std</th>\n",
       "      <td>4514.158514</td>\n",
       "      <td>90.227958</td>\n",
       "      <td>189.850405</td>\n",
       "      <td>37905.341530</td>\n",
       "      <td>3.726421</td>\n",
       "      <td>0.0</td>\n",
       "      <td>25783.096248</td>\n",
       "    </tr>\n",
       "    <tr>\n",
       "      <th>min</th>\n",
       "      <td>0.000000</td>\n",
       "      <td>1000.000000</td>\n",
       "      <td>0.000000</td>\n",
       "      <td>5000.000000</td>\n",
       "      <td>0.000000</td>\n",
       "      <td>0.0</td>\n",
       "      <td>1067.000000</td>\n",
       "    </tr>\n",
       "    <tr>\n",
       "      <th>25%</th>\n",
       "      <td>1050.000000</td>\n",
       "      <td>1999.000000</td>\n",
       "      <td>69.000000</td>\n",
       "      <td>125000.000000</td>\n",
       "      <td>3.000000</td>\n",
       "      <td>0.0</td>\n",
       "      <td>30165.000000</td>\n",
       "    </tr>\n",
       "    <tr>\n",
       "      <th>50%</th>\n",
       "      <td>2700.000000</td>\n",
       "      <td>2003.000000</td>\n",
       "      <td>105.000000</td>\n",
       "      <td>150000.000000</td>\n",
       "      <td>6.000000</td>\n",
       "      <td>0.0</td>\n",
       "      <td>49413.000000</td>\n",
       "    </tr>\n",
       "    <tr>\n",
       "      <th>75%</th>\n",
       "      <td>6400.000000</td>\n",
       "      <td>2008.000000</td>\n",
       "      <td>143.000000</td>\n",
       "      <td>150000.000000</td>\n",
       "      <td>9.000000</td>\n",
       "      <td>0.0</td>\n",
       "      <td>71083.000000</td>\n",
       "    </tr>\n",
       "    <tr>\n",
       "      <th>max</th>\n",
       "      <td>20000.000000</td>\n",
       "      <td>9999.000000</td>\n",
       "      <td>20000.000000</td>\n",
       "      <td>150000.000000</td>\n",
       "      <td>12.000000</td>\n",
       "      <td>0.0</td>\n",
       "      <td>99998.000000</td>\n",
       "    </tr>\n",
       "  </tbody>\n",
       "</table>\n",
       "</div>"
      ],
      "text/plain": [
       "               Price  RegistrationYear          Power      Kilometer  \\\n",
       "count  354369.000000     354369.000000  354369.000000  354369.000000   \n",
       "mean     4416.656776       2004.234448     110.094337  128211.172535   \n",
       "std      4514.158514         90.227958     189.850405   37905.341530   \n",
       "min         0.000000       1000.000000       0.000000    5000.000000   \n",
       "25%      1050.000000       1999.000000      69.000000  125000.000000   \n",
       "50%      2700.000000       2003.000000     105.000000  150000.000000   \n",
       "75%      6400.000000       2008.000000     143.000000  150000.000000   \n",
       "max     20000.000000       9999.000000   20000.000000  150000.000000   \n",
       "\n",
       "       RegistrationMonth  NumberOfPictures     PostalCode  \n",
       "count      354369.000000          354369.0  354369.000000  \n",
       "mean            5.714645               0.0   50508.689087  \n",
       "std             3.726421               0.0   25783.096248  \n",
       "min             0.000000               0.0    1067.000000  \n",
       "25%             3.000000               0.0   30165.000000  \n",
       "50%             6.000000               0.0   49413.000000  \n",
       "75%             9.000000               0.0   71083.000000  \n",
       "max            12.000000               0.0   99998.000000  "
      ]
     },
     "metadata": {},
     "output_type": "display_data"
    },
    {
     "name": "stdout",
     "output_type": "stream",
     "text": [
      "\n",
      "Количество дубликатов = 4\n",
      "\n",
      "Число пропусков в каждом столбце\n"
     ]
    },
    {
     "data": {
      "text/plain": [
       "DateCrawled              0\n",
       "Price                    0\n",
       "VehicleType          37490\n",
       "RegistrationYear         0\n",
       "Gearbox              19833\n",
       "Power                    0\n",
       "Model                19705\n",
       "Kilometer                0\n",
       "RegistrationMonth        0\n",
       "FuelType             32895\n",
       "Brand                    0\n",
       "NotRepaired          71154\n",
       "DateCreated              0\n",
       "NumberOfPictures         0\n",
       "PostalCode               0\n",
       "LastSeen                 0\n",
       "dtype: int64"
      ]
     },
     "metadata": {},
     "output_type": "display_data"
    },
    {
     "name": "stdout",
     "output_type": "stream",
     "text": [
      "\n",
      "Построение корреляционной матрицы\n"
     ]
    },
    {
     "data": {
      "image/png": "[encoded data removed]",
      "text/plain": [
       "<Figure size 864x864 with 2 Axes>"
      ]
     },
     "metadata": {
      "needs_background": "light"
     },
     "output_type": "display_data"
    }
   ],
   "source": [
    "df_info(df)"
   ]
  },
  {
   "cell_type": "markdown",
   "metadata": {},
   "source": [
    "В таблице 354369 строк и 16 столбцов. Типы данных в столбцах - int64, object.\n",
    "<br><br>Согласно документации данные можно описать так:\n",
    "<br><br>Признаки\n",
    "* DateCrawled — дата скачивания анкеты из базы\n",
    "* VehicleType — тип автомобильного кузова\n",
    "* RegistrationYear — год регистрации автомобиля\n",
    "* Gearbox — тип коробки передач\n",
    "* Power — мощность (л. с.)\n",
    "* Model — модель автомобиля\n",
    "* Kilometer — пробег (км)\n",
    "* RegistrationMonth — месяц регистрации автомобиля\n",
    "* FuelType — тип топлива\n",
    "* Brand — марка автомобиля\n",
    "* NotRepaired — была машина в ремонте или нет\n",
    "* DateCreated — дата создания анкеты\n",
    "* NumberOfPictures — количество фотографий автомобиля\n",
    "* PostalCode — почтовый индекс владельца анкеты (пользователя)\n",
    "* LastSeen — дата последней активности пользователя\n",
    "\n",
    "<br>Целевой признак\n",
    "\n",
    "* Price — цена (евро)"
   ]
  },
  {
   "cell_type": "markdown",
   "metadata": {},
   "source": [
    "**Вывод**\n",
    "<br><br>В данных встречаются дубликаты и пропуски. Признаки между собой не коррелируют.\n",
    "<br>Некоторые признаки не пригодятся для обучения моделей.\n",
    "<br>В целевом признаке встречаются нули, хотя такого значения быть не может.\n",
    "<br>Устраним проблемы в данных."
   ]
  },
  {
   "cell_type": "markdown",
   "metadata": {},
   "source": [
    "### Удалим признаки, которые не пригодятся для обучения моделей"
   ]
  },
  {
   "cell_type": "markdown",
   "metadata": {},
   "source": [
    "При изучении данных было обнаружено, что признак `NumberOfPictures` содержит только 0. Следовательно можно смело удалять, тк он не повлияет на модель предсказания цены авто.\n",
    "<br>Данные о дате и времени скачивания анкеты из базы, создания объявления и последней активности пользователя тоже не повлияют на модель предсказания цены авто. Следовательно можно удалять признаки: `DateCrawled, DateCreated, LastSeen`\n",
    "<br>Данные о почтовом индексе владельца анкеты и месяце покупки машины не влияет на цену машины. Удалим признаки `RegistrationMonth, PostalCode`. "
   ]
  },
  {
   "cell_type": "code",
   "execution_count": 5,
   "metadata": {},
   "outputs": [],
   "source": [
    "df = df.drop(['NumberOfPictures','DateCrawled','DateCreated', 'LastSeen', 'RegistrationMonth', 'PostalCode'], axis=1)"
   ]
  },
  {
   "cell_type": "markdown",
   "metadata": {},
   "source": [
    "Изучим датасет без признаков не нужных для обучения модели предсказания цены авто"
   ]
  },
  {
   "cell_type": "code",
   "execution_count": 6,
   "metadata": {
    "scrolled": false
   },
   "outputs": [
    {
     "name": "stdout",
     "output_type": "stream",
     "text": [
      "\n",
      "Первые 10 строчек датафрейма\n"
     ]
    },
    {
     "data": {
      "text/html": [
       "<div>\n",
       "<style scoped>\n",
       "    .dataframe tbody tr th:only-of-type {\n",
       "        vertical-align: middle;\n",
       "    }\n",
       "\n",
       "    .dataframe tbody tr th {\n",
       "        vertical-align: top;\n",
       "    }\n",
       "\n",
       "    .dataframe thead th {\n",
       "        text-align: right;\n",
       "    }\n",
       "</style>\n",
       "<table border=\"1\" class=\"dataframe\">\n",
       "  <thead>\n",
       "    <tr style=\"text-align: right;\">\n",
       "      <th></th>\n",
       "      <th>Price</th>\n",
       "      <th>VehicleType</th>\n",
       "      <th>RegistrationYear</th>\n",
       "      <th>Gearbox</th>\n",
       "      <th>Power</th>\n",
       "      <th>Model</th>\n",
       "      <th>Kilometer</th>\n",
       "      <th>FuelType</th>\n",
       "      <th>Brand</th>\n",
       "      <th>NotRepaired</th>\n",
       "    </tr>\n",
       "  </thead>\n",
       "  <tbody>\n",
       "    <tr>\n",
       "      <th>0</th>\n",
       "      <td>480</td>\n",
       "      <td>NaN</td>\n",
       "      <td>1993</td>\n",
       "      <td>manual</td>\n",
       "      <td>0</td>\n",
       "      <td>golf</td>\n",
       "      <td>150000</td>\n",
       "      <td>petrol</td>\n",
       "      <td>volkswagen</td>\n",
       "      <td>NaN</td>\n",
       "    </tr>\n",
       "    <tr>\n",
       "      <th>1</th>\n",
       "      <td>18300</td>\n",
       "      <td>coupe</td>\n",
       "      <td>2011</td>\n",
       "      <td>manual</td>\n",
       "      <td>190</td>\n",
       "      <td>NaN</td>\n",
       "      <td>125000</td>\n",
       "      <td>gasoline</td>\n",
       "      <td>audi</td>\n",
       "      <td>yes</td>\n",
       "    </tr>\n",
       "    <tr>\n",
       "      <th>2</th>\n",
       "      <td>9800</td>\n",
       "      <td>suv</td>\n",
       "      <td>2004</td>\n",
       "      <td>auto</td>\n",
       "      <td>163</td>\n",
       "      <td>grand</td>\n",
       "      <td>125000</td>\n",
       "      <td>gasoline</td>\n",
       "      <td>jeep</td>\n",
       "      <td>NaN</td>\n",
       "    </tr>\n",
       "    <tr>\n",
       "      <th>3</th>\n",
       "      <td>1500</td>\n",
       "      <td>small</td>\n",
       "      <td>2001</td>\n",
       "      <td>manual</td>\n",
       "      <td>75</td>\n",
       "      <td>golf</td>\n",
       "      <td>150000</td>\n",
       "      <td>petrol</td>\n",
       "      <td>volkswagen</td>\n",
       "      <td>no</td>\n",
       "    </tr>\n",
       "    <tr>\n",
       "      <th>4</th>\n",
       "      <td>3600</td>\n",
       "      <td>small</td>\n",
       "      <td>2008</td>\n",
       "      <td>manual</td>\n",
       "      <td>69</td>\n",
       "      <td>fabia</td>\n",
       "      <td>90000</td>\n",
       "      <td>gasoline</td>\n",
       "      <td>skoda</td>\n",
       "      <td>no</td>\n",
       "    </tr>\n",
       "    <tr>\n",
       "      <th>5</th>\n",
       "      <td>650</td>\n",
       "      <td>sedan</td>\n",
       "      <td>1995</td>\n",
       "      <td>manual</td>\n",
       "      <td>102</td>\n",
       "      <td>3er</td>\n",
       "      <td>150000</td>\n",
       "      <td>petrol</td>\n",
       "      <td>bmw</td>\n",
       "      <td>yes</td>\n",
       "    </tr>\n",
       "    <tr>\n",
       "      <th>6</th>\n",
       "      <td>2200</td>\n",
       "      <td>convertible</td>\n",
       "      <td>2004</td>\n",
       "      <td>manual</td>\n",
       "      <td>109</td>\n",
       "      <td>2_reihe</td>\n",
       "      <td>150000</td>\n",
       "      <td>petrol</td>\n",
       "      <td>peugeot</td>\n",
       "      <td>no</td>\n",
       "    </tr>\n",
       "    <tr>\n",
       "      <th>7</th>\n",
       "      <td>0</td>\n",
       "      <td>sedan</td>\n",
       "      <td>1980</td>\n",
       "      <td>manual</td>\n",
       "      <td>50</td>\n",
       "      <td>other</td>\n",
       "      <td>40000</td>\n",
       "      <td>petrol</td>\n",
       "      <td>volkswagen</td>\n",
       "      <td>no</td>\n",
       "    </tr>\n",
       "    <tr>\n",
       "      <th>8</th>\n",
       "      <td>14500</td>\n",
       "      <td>bus</td>\n",
       "      <td>2014</td>\n",
       "      <td>manual</td>\n",
       "      <td>125</td>\n",
       "      <td>c_max</td>\n",
       "      <td>30000</td>\n",
       "      <td>petrol</td>\n",
       "      <td>ford</td>\n",
       "      <td>NaN</td>\n",
       "    </tr>\n",
       "    <tr>\n",
       "      <th>9</th>\n",
       "      <td>999</td>\n",
       "      <td>small</td>\n",
       "      <td>1998</td>\n",
       "      <td>manual</td>\n",
       "      <td>101</td>\n",
       "      <td>golf</td>\n",
       "      <td>150000</td>\n",
       "      <td>NaN</td>\n",
       "      <td>volkswagen</td>\n",
       "      <td>NaN</td>\n",
       "    </tr>\n",
       "  </tbody>\n",
       "</table>\n",
       "</div>"
      ],
      "text/plain": [
       "   Price  VehicleType  RegistrationYear Gearbox  Power    Model  Kilometer  \\\n",
       "0    480          NaN              1993  manual      0     golf     150000   \n",
       "1  18300        coupe              2011  manual    190      NaN     125000   \n",
       "2   9800          suv              2004    auto    163    grand     125000   \n",
       "3   1500        small              2001  manual     75     golf     150000   \n",
       "4   3600        small              2008  manual     69    fabia      90000   \n",
       "5    650        sedan              1995  manual    102      3er     150000   \n",
       "6   2200  convertible              2004  manual    109  2_reihe     150000   \n",
       "7      0        sedan              1980  manual     50    other      40000   \n",
       "8  14500          bus              2014  manual    125    c_max      30000   \n",
       "9    999        small              1998  manual    101     golf     150000   \n",
       "\n",
       "   FuelType       Brand NotRepaired  \n",
       "0    petrol  volkswagen         NaN  \n",
       "1  gasoline        audi         yes  \n",
       "2  gasoline        jeep         NaN  \n",
       "3    petrol  volkswagen          no  \n",
       "4  gasoline       skoda          no  \n",
       "5    petrol         bmw         yes  \n",
       "6    petrol     peugeot          no  \n",
       "7    petrol  volkswagen          no  \n",
       "8    petrol        ford         NaN  \n",
       "9       NaN  volkswagen         NaN  "
      ]
     },
     "metadata": {},
     "output_type": "display_data"
    },
    {
     "name": "stdout",
     "output_type": "stream",
     "text": [
      "\n",
      "Информация о датафрейме\n",
      "\n",
      "<class 'pandas.core.frame.DataFrame'>\n",
      "RangeIndex: 354369 entries, 0 to 354368\n",
      "Data columns (total 10 columns):\n",
      " #   Column            Non-Null Count   Dtype \n",
      "---  ------            --------------   ----- \n",
      " 0   Price             354369 non-null  int64 \n",
      " 1   VehicleType       316879 non-null  object\n",
      " 2   RegistrationYear  354369 non-null  int64 \n",
      " 3   Gearbox           334536 non-null  object\n",
      " 4   Power             354369 non-null  int64 \n",
      " 5   Model             334664 non-null  object\n",
      " 6   Kilometer         354369 non-null  int64 \n",
      " 7   FuelType          321474 non-null  object\n",
      " 8   Brand             354369 non-null  object\n",
      " 9   NotRepaired       283215 non-null  object\n",
      "dtypes: int64(4), object(6)\n",
      "memory usage: 27.0+ MB\n"
     ]
    },
    {
     "data": {
      "text/plain": [
       "None"
      ]
     },
     "metadata": {},
     "output_type": "display_data"
    },
    {
     "name": "stdout",
     "output_type": "stream",
     "text": [
      "\n",
      "Расчёт значений в каждом столбце\n"
     ]
    },
    {
     "data": {
      "text/html": [
       "<div>\n",
       "<style scoped>\n",
       "    .dataframe tbody tr th:only-of-type {\n",
       "        vertical-align: middle;\n",
       "    }\n",
       "\n",
       "    .dataframe tbody tr th {\n",
       "        vertical-align: top;\n",
       "    }\n",
       "\n",
       "    .dataframe thead th {\n",
       "        text-align: right;\n",
       "    }\n",
       "</style>\n",
       "<table border=\"1\" class=\"dataframe\">\n",
       "  <thead>\n",
       "    <tr style=\"text-align: right;\">\n",
       "      <th></th>\n",
       "      <th>Price</th>\n",
       "      <th>RegistrationYear</th>\n",
       "      <th>Power</th>\n",
       "      <th>Kilometer</th>\n",
       "    </tr>\n",
       "  </thead>\n",
       "  <tbody>\n",
       "    <tr>\n",
       "      <th>count</th>\n",
       "      <td>354369.000000</td>\n",
       "      <td>354369.000000</td>\n",
       "      <td>354369.000000</td>\n",
       "      <td>354369.000000</td>\n",
       "    </tr>\n",
       "    <tr>\n",
       "      <th>mean</th>\n",
       "      <td>4416.656776</td>\n",
       "      <td>2004.234448</td>\n",
       "      <td>110.094337</td>\n",
       "      <td>128211.172535</td>\n",
       "    </tr>\n",
       "    <tr>\n",
       "      <th>std</th>\n",
       "      <td>4514.158514</td>\n",
       "      <td>90.227958</td>\n",
       "      <td>189.850405</td>\n",
       "      <td>37905.341530</td>\n",
       "    </tr>\n",
       "    <tr>\n",
       "      <th>min</th>\n",
       "      <td>0.000000</td>\n",
       "      <td>1000.000000</td>\n",
       "      <td>0.000000</td>\n",
       "      <td>5000.000000</td>\n",
       "    </tr>\n",
       "    <tr>\n",
       "      <th>25%</th>\n",
       "      <td>1050.000000</td>\n",
       "      <td>1999.000000</td>\n",
       "      <td>69.000000</td>\n",
       "      <td>125000.000000</td>\n",
       "    </tr>\n",
       "    <tr>\n",
       "      <th>50%</th>\n",
       "      <td>2700.000000</td>\n",
       "      <td>2003.000000</td>\n",
       "      <td>105.000000</td>\n",
       "      <td>150000.000000</td>\n",
       "    </tr>\n",
       "    <tr>\n",
       "      <th>75%</th>\n",
       "      <td>6400.000000</td>\n",
       "      <td>2008.000000</td>\n",
       "      <td>143.000000</td>\n",
       "      <td>150000.000000</td>\n",
       "    </tr>\n",
       "    <tr>\n",
       "      <th>max</th>\n",
       "      <td>20000.000000</td>\n",
       "      <td>9999.000000</td>\n",
       "      <td>20000.000000</td>\n",
       "      <td>150000.000000</td>\n",
       "    </tr>\n",
       "  </tbody>\n",
       "</table>\n",
       "</div>"
      ],
      "text/plain": [
       "               Price  RegistrationYear          Power      Kilometer\n",
       "count  354369.000000     354369.000000  354369.000000  354369.000000\n",
       "mean     4416.656776       2004.234448     110.094337  128211.172535\n",
       "std      4514.158514         90.227958     189.850405   37905.341530\n",
       "min         0.000000       1000.000000       0.000000    5000.000000\n",
       "25%      1050.000000       1999.000000      69.000000  125000.000000\n",
       "50%      2700.000000       2003.000000     105.000000  150000.000000\n",
       "75%      6400.000000       2008.000000     143.000000  150000.000000\n",
       "max     20000.000000       9999.000000   20000.000000  150000.000000"
      ]
     },
     "metadata": {},
     "output_type": "display_data"
    },
    {
     "name": "stdout",
     "output_type": "stream",
     "text": [
      "\n",
      "Количество дубликатов = 45040\n",
      "\n",
      "Число пропусков в каждом столбце\n"
     ]
    },
    {
     "data": {
      "text/plain": [
       "Price                   0\n",
       "VehicleType         37490\n",
       "RegistrationYear        0\n",
       "Gearbox             19833\n",
       "Power                   0\n",
       "Model               19705\n",
       "Kilometer               0\n",
       "FuelType            32895\n",
       "Brand                   0\n",
       "NotRepaired         71154\n",
       "dtype: int64"
      ]
     },
     "metadata": {},
     "output_type": "display_data"
    },
    {
     "name": "stdout",
     "output_type": "stream",
     "text": [
      "\n",
      "Построение корреляционной матрицы\n"
     ]
    },
    {
     "data": {
      "image/png": "[encoded data removed]",
      "text/plain": [
       "<Figure size 864x864 with 2 Axes>"
      ]
     },
     "metadata": {
      "needs_background": "light"
     },
     "output_type": "display_data"
    }
   ],
   "source": [
    "df_info(df)"
   ]
  },
  {
   "cell_type": "markdown",
   "metadata": {},
   "source": [
    "**Вывод**\n",
    "<br><br>Удалив лишние признаки мы видим, что число дубликатов  значительно увеличилось, тк видимо одни анкеты загружали из базы по несколько раз в разное время. \n",
    "<br>Продолжим устранять проблемы в данных."
   ]
  },
  {
   "cell_type": "markdown",
   "metadata": {},
   "source": [
    "### Удалим дубликаты и заменим пропуски"
   ]
  },
  {
   "cell_type": "markdown",
   "metadata": {},
   "source": [
    "Удалим явные дубликаты"
   ]
  },
  {
   "cell_type": "code",
   "execution_count": 7,
   "metadata": {},
   "outputs": [],
   "source": [
    "df = df.drop_duplicates()"
   ]
  },
  {
   "cell_type": "markdown",
   "metadata": {},
   "source": [
    "Посмотрим какие значения и в каком количестве присутствуют в столбцах с категориальными  признаками, чтобы определиться чем можно заменить пропуски"
   ]
  },
  {
   "cell_type": "code",
   "execution_count": 8,
   "metadata": {},
   "outputs": [
    {
     "name": "stdout",
     "output_type": "stream",
     "text": [
      "VehicleType\n"
     ]
    },
    {
     "data": {
      "text/plain": [
       "sedan          78206\n",
       "small          67548\n",
       "wagon          56367\n",
       "bus            25830\n",
       "convertible    18195\n",
       "coupe          14690\n",
       "suv            10776\n",
       "other           3158\n",
       "Name: VehicleType, dtype: int64"
      ]
     },
     "metadata": {},
     "output_type": "display_data"
    },
    {
     "data": {
      "text/plain": [
       "array([nan, 'coupe', 'suv', 'small', 'sedan', 'convertible', 'bus',\n",
       "       'wagon', 'other'], dtype=object)"
      ]
     },
     "metadata": {},
     "output_type": "display_data"
    },
    {
     "name": "stdout",
     "output_type": "stream",
     "text": [
      "Gearbox\n"
     ]
    },
    {
     "data": {
      "text/plain": [
       "manual    232774\n",
       "auto       59348\n",
       "Name: Gearbox, dtype: int64"
      ]
     },
     "metadata": {},
     "output_type": "display_data"
    },
    {
     "data": {
      "text/plain": [
       "array(['manual', 'auto', nan], dtype=object)"
      ]
     },
     "metadata": {},
     "output_type": "display_data"
    },
    {
     "name": "stdout",
     "output_type": "stream",
     "text": [
      "Model\n"
     ]
    },
    {
     "data": {
      "text/plain": [
       "golf                  23639\n",
       "other                 22934\n",
       "3er                   16700\n",
       "polo                  10494\n",
       "corsa                  9738\n",
       "                      ...  \n",
       "kalina                    7\n",
       "rangerover                4\n",
       "serie_3                   4\n",
       "serie_1                   2\n",
       "range_rover_evoque        1\n",
       "Name: Model, Length: 250, dtype: int64"
      ]
     },
     "metadata": {},
     "output_type": "display_data"
    },
    {
     "data": {
      "text/plain": [
       "array(['golf', nan, 'grand', 'fabia', '3er', '2_reihe', 'other', 'c_max',\n",
       "       '3_reihe', 'passat', 'navara', 'ka', 'polo', 'twingo', 'a_klasse',\n",
       "       'scirocco', '5er', 'meriva', 'arosa', 'c4', 'civic', 'transporter',\n",
       "       'punto', 'e_klasse', 'clio', 'kadett', 'kangoo', 'corsa', 'one',\n",
       "       'fortwo', '1er', 'b_klasse', 'signum', 'astra', 'a8', 'jetta',\n",
       "       'fiesta', 'c_klasse', 'micra', 'vito', 'sprinter', '156', 'escort',\n",
       "       'forester', 'xc_reihe', 'scenic', 'a4', 'a1', 'insignia', 'combo',\n",
       "       'focus', 'tt', 'a6', 'jazz', 'omega', 'slk', '7er', '80', '147',\n",
       "       '100', 'z_reihe', 'sportage', 'sorento', 'v40', 'ibiza', 'mustang',\n",
       "       'eos', 'touran', 'getz', 'a3', 'almera', 'megane', 'lupo', 'r19',\n",
       "       'zafira', 'caddy', 'mondeo', 'cordoba', 'colt', 'impreza',\n",
       "       'vectra', 'berlingo', 'tiguan', 'i_reihe', 'espace', 'sharan',\n",
       "       '6_reihe', 'panda', 'up', 'seicento', 'ceed', '5_reihe', 'yeti',\n",
       "       'octavia', 'mii', 'rx_reihe', '6er', 'modus', 'fox', 'matiz',\n",
       "       'beetle', 'c1', 'rio', 'touareg', 'logan', 'spider', 'cuore',\n",
       "       's_max', 'a2', 'galaxy', 'c3', 'viano', 's_klasse', '1_reihe',\n",
       "       'avensis', 'roomster', 'sl', 'kaefer', 'santa', 'cooper', 'leon',\n",
       "       '4_reihe', 'a5', '500', 'laguna', 'ptcruiser', 'clk', 'primera',\n",
       "       'x_reihe', 'exeo', '159', 'transit', 'juke', 'qashqai', 'carisma',\n",
       "       'accord', 'corolla', 'lanos', 'phaeton', 'verso', 'swift', 'rav',\n",
       "       'picanto', 'boxster', 'kalos', 'superb', 'stilo', 'alhambra',\n",
       "       'mx_reihe', 'roadster', 'ypsilon', 'cayenne', 'galant', 'justy',\n",
       "       '90', 'sirion', 'crossfire', 'agila', 'duster', 'cr_reihe', 'v50',\n",
       "       'c_reihe', 'v_klasse', 'm_klasse', 'yaris', 'c5', 'aygo', 'cc',\n",
       "       'carnival', 'fusion', '911', 'bora', 'forfour', 'm_reihe', 'cl',\n",
       "       'tigra', '300c', 'spark', 'v70', 'kuga', 'x_type', 'ducato',\n",
       "       's_type', 'x_trail', 'toledo', 'altea', 'voyager', 'calibra',\n",
       "       'bravo', 'antara', 'tucson', 'citigo', 'jimny', 'wrangler',\n",
       "       'lybra', 'q7', 'lancer', 'captiva', 'c2', 'discovery',\n",
       "       'freelander', 'sandero', 'note', '900', 'cherokee', 'clubman',\n",
       "       'samara', 'defender', '601', 'cx_reihe', 'legacy', 'pajero',\n",
       "       'auris', 'niva', 's60', 'nubira', 'vivaro', 'g_klasse', 'lodgy',\n",
       "       '850', 'range_rover', 'q3', 'serie_2', 'glk', 'charade', 'croma',\n",
       "       'outlander', 'doblo', 'musa', 'move', '9000', 'v60', '145', 'aveo',\n",
       "       '200', 'b_max', 'range_rover_sport', 'terios', 'rangerover', 'q5',\n",
       "       'range_rover_evoque', 'materia', 'delta', 'gl', 'kalina', 'amarok',\n",
       "       'elefantino', 'i3', 'kappa', 'serie_3', 'serie_1'], dtype=object)"
      ]
     },
     "metadata": {},
     "output_type": "display_data"
    },
    {
     "name": "stdout",
     "output_type": "stream",
     "text": [
      "FuelType\n"
     ]
    },
    {
     "data": {
      "text/plain": [
       "petrol      187848\n",
       "gasoline     84794\n",
       "lpg           4888\n",
       "cng            524\n",
       "hybrid         222\n",
       "other          200\n",
       "electric        89\n",
       "Name: FuelType, dtype: int64"
      ]
     },
     "metadata": {},
     "output_type": "display_data"
    },
    {
     "data": {
      "text/plain": [
       "array(['petrol', 'gasoline', nan, 'lpg', 'other', 'hybrid', 'cng',\n",
       "       'electric'], dtype=object)"
      ]
     },
     "metadata": {},
     "output_type": "display_data"
    },
    {
     "name": "stdout",
     "output_type": "stream",
     "text": [
      "NotRepaired\n"
     ]
    },
    {
     "data": {
      "text/plain": [
       "no     211328\n",
       "yes     33443\n",
       "Name: NotRepaired, dtype: int64"
      ]
     },
     "metadata": {},
     "output_type": "display_data"
    },
    {
     "data": {
      "text/plain": [
       "array([nan, 'yes', 'no'], dtype=object)"
      ]
     },
     "metadata": {},
     "output_type": "display_data"
    }
   ],
   "source": [
    "print('VehicleType')\n",
    "display(df['VehicleType'].value_counts())\n",
    "display(df['VehicleType'].unique())\n",
    "print('Gearbox')\n",
    "display(df['Gearbox'].value_counts())\n",
    "display(df['Gearbox'].unique())\n",
    "print('Model')\n",
    "display(df['Model'].value_counts())\n",
    "display(df['Model'].unique())\n",
    "print('FuelType')\n",
    "display(df['FuelType'].value_counts())\n",
    "display(df['FuelType'].unique())\n",
    "print('NotRepaired')\n",
    "display(df['NotRepaired'].value_counts())\n",
    "display(df['NotRepaired'].unique())"
   ]
  },
  {
   "cell_type": "markdown",
   "metadata": {},
   "source": [
    "Заменить пропуски в категориальных признаках на какие-то подходящие значения логически не удаётся.\n",
    "Заменим пропуски в категориальных признаках на `unknown`."
   ]
  },
  {
   "cell_type": "code",
   "execution_count": 9,
   "metadata": {},
   "outputs": [],
   "source": [
    "df = df.fillna('unknown')"
   ]
  },
  {
   "cell_type": "markdown",
   "metadata": {},
   "source": [
    "Изучим датасет без дубликатов и пропусков"
   ]
  },
  {
   "cell_type": "code",
   "execution_count": 10,
   "metadata": {
    "scrolled": false
   },
   "outputs": [
    {
     "name": "stdout",
     "output_type": "stream",
     "text": [
      "\n",
      "Первые 10 строчек датафрейма\n"
     ]
    },
    {
     "data": {
      "text/html": [
       "<div>\n",
       "<style scoped>\n",
       "    .dataframe tbody tr th:only-of-type {\n",
       "        vertical-align: middle;\n",
       "    }\n",
       "\n",
       "    .dataframe tbody tr th {\n",
       "        vertical-align: top;\n",
       "    }\n",
       "\n",
       "    .dataframe thead th {\n",
       "        text-align: right;\n",
       "    }\n",
       "</style>\n",
       "<table border=\"1\" class=\"dataframe\">\n",
       "  <thead>\n",
       "    <tr style=\"text-align: right;\">\n",
       "      <th></th>\n",
       "      <th>Price</th>\n",
       "      <th>VehicleType</th>\n",
       "      <th>RegistrationYear</th>\n",
       "      <th>Gearbox</th>\n",
       "      <th>Power</th>\n",
       "      <th>Model</th>\n",
       "      <th>Kilometer</th>\n",
       "      <th>FuelType</th>\n",
       "      <th>Brand</th>\n",
       "      <th>NotRepaired</th>\n",
       "    </tr>\n",
       "  </thead>\n",
       "  <tbody>\n",
       "    <tr>\n",
       "      <th>0</th>\n",
       "      <td>480</td>\n",
       "      <td>unknown</td>\n",
       "      <td>1993</td>\n",
       "      <td>manual</td>\n",
       "      <td>0</td>\n",
       "      <td>golf</td>\n",
       "      <td>150000</td>\n",
       "      <td>petrol</td>\n",
       "      <td>volkswagen</td>\n",
       "      <td>unknown</td>\n",
       "    </tr>\n",
       "    <tr>\n",
       "      <th>1</th>\n",
       "      <td>18300</td>\n",
       "      <td>coupe</td>\n",
       "      <td>2011</td>\n",
       "      <td>manual</td>\n",
       "      <td>190</td>\n",
       "      <td>unknown</td>\n",
       "      <td>125000</td>\n",
       "      <td>gasoline</td>\n",
       "      <td>audi</td>\n",
       "      <td>yes</td>\n",
       "    </tr>\n",
       "    <tr>\n",
       "      <th>2</th>\n",
       "      <td>9800</td>\n",
       "      <td>suv</td>\n",
       "      <td>2004</td>\n",
       "      <td>auto</td>\n",
       "      <td>163</td>\n",
       "      <td>grand</td>\n",
       "      <td>125000</td>\n",
       "      <td>gasoline</td>\n",
       "      <td>jeep</td>\n",
       "      <td>unknown</td>\n",
       "    </tr>\n",
       "    <tr>\n",
       "      <th>3</th>\n",
       "      <td>1500</td>\n",
       "      <td>small</td>\n",
       "      <td>2001</td>\n",
       "      <td>manual</td>\n",
       "      <td>75</td>\n",
       "      <td>golf</td>\n",
       "      <td>150000</td>\n",
       "      <td>petrol</td>\n",
       "      <td>volkswagen</td>\n",
       "      <td>no</td>\n",
       "    </tr>\n",
       "    <tr>\n",
       "      <th>4</th>\n",
       "      <td>3600</td>\n",
       "      <td>small</td>\n",
       "      <td>2008</td>\n",
       "      <td>manual</td>\n",
       "      <td>69</td>\n",
       "      <td>fabia</td>\n",
       "      <td>90000</td>\n",
       "      <td>gasoline</td>\n",
       "      <td>skoda</td>\n",
       "      <td>no</td>\n",
       "    </tr>\n",
       "    <tr>\n",
       "      <th>5</th>\n",
       "      <td>650</td>\n",
       "      <td>sedan</td>\n",
       "      <td>1995</td>\n",
       "      <td>manual</td>\n",
       "      <td>102</td>\n",
       "      <td>3er</td>\n",
       "      <td>150000</td>\n",
       "      <td>petrol</td>\n",
       "      <td>bmw</td>\n",
       "      <td>yes</td>\n",
       "    </tr>\n",
       "    <tr>\n",
       "      <th>6</th>\n",
       "      <td>2200</td>\n",
       "      <td>convertible</td>\n",
       "      <td>2004</td>\n",
       "      <td>manual</td>\n",
       "      <td>109</td>\n",
       "      <td>2_reihe</td>\n",
       "      <td>150000</td>\n",
       "      <td>petrol</td>\n",
       "      <td>peugeot</td>\n",
       "      <td>no</td>\n",
       "    </tr>\n",
       "    <tr>\n",
       "      <th>7</th>\n",
       "      <td>0</td>\n",
       "      <td>sedan</td>\n",
       "      <td>1980</td>\n",
       "      <td>manual</td>\n",
       "      <td>50</td>\n",
       "      <td>other</td>\n",
       "      <td>40000</td>\n",
       "      <td>petrol</td>\n",
       "      <td>volkswagen</td>\n",
       "      <td>no</td>\n",
       "    </tr>\n",
       "    <tr>\n",
       "      <th>8</th>\n",
       "      <td>14500</td>\n",
       "      <td>bus</td>\n",
       "      <td>2014</td>\n",
       "      <td>manual</td>\n",
       "      <td>125</td>\n",
       "      <td>c_max</td>\n",
       "      <td>30000</td>\n",
       "      <td>petrol</td>\n",
       "      <td>ford</td>\n",
       "      <td>unknown</td>\n",
       "    </tr>\n",
       "    <tr>\n",
       "      <th>9</th>\n",
       "      <td>999</td>\n",
       "      <td>small</td>\n",
       "      <td>1998</td>\n",
       "      <td>manual</td>\n",
       "      <td>101</td>\n",
       "      <td>golf</td>\n",
       "      <td>150000</td>\n",
       "      <td>unknown</td>\n",
       "      <td>volkswagen</td>\n",
       "      <td>unknown</td>\n",
       "    </tr>\n",
       "  </tbody>\n",
       "</table>\n",
       "</div>"
      ],
      "text/plain": [
       "   Price  VehicleType  RegistrationYear Gearbox  Power    Model  Kilometer  \\\n",
       "0    480      unknown              1993  manual      0     golf     150000   \n",
       "1  18300        coupe              2011  manual    190  unknown     125000   \n",
       "2   9800          suv              2004    auto    163    grand     125000   \n",
       "3   1500        small              2001  manual     75     golf     150000   \n",
       "4   3600        small              2008  manual     69    fabia      90000   \n",
       "5    650        sedan              1995  manual    102      3er     150000   \n",
       "6   2200  convertible              2004  manual    109  2_reihe     150000   \n",
       "7      0        sedan              1980  manual     50    other      40000   \n",
       "8  14500          bus              2014  manual    125    c_max      30000   \n",
       "9    999        small              1998  manual    101     golf     150000   \n",
       "\n",
       "   FuelType       Brand NotRepaired  \n",
       "0    petrol  volkswagen     unknown  \n",
       "1  gasoline        audi         yes  \n",
       "2  gasoline        jeep     unknown  \n",
       "3    petrol  volkswagen          no  \n",
       "4  gasoline       skoda          no  \n",
       "5    petrol         bmw         yes  \n",
       "6    petrol     peugeot          no  \n",
       "7    petrol  volkswagen          no  \n",
       "8    petrol        ford     unknown  \n",
       "9   unknown  volkswagen     unknown  "
      ]
     },
     "metadata": {},
     "output_type": "display_data"
    },
    {
     "name": "stdout",
     "output_type": "stream",
     "text": [
      "\n",
      "Информация о датафрейме\n",
      "\n",
      "<class 'pandas.core.frame.DataFrame'>\n",
      "Int64Index: 309329 entries, 0 to 354368\n",
      "Data columns (total 10 columns):\n",
      " #   Column            Non-Null Count   Dtype \n",
      "---  ------            --------------   ----- \n",
      " 0   Price             309329 non-null  int64 \n",
      " 1   VehicleType       309329 non-null  object\n",
      " 2   RegistrationYear  309329 non-null  int64 \n",
      " 3   Gearbox           309329 non-null  object\n",
      " 4   Power             309329 non-null  int64 \n",
      " 5   Model             309329 non-null  object\n",
      " 6   Kilometer         309329 non-null  int64 \n",
      " 7   FuelType          309329 non-null  object\n",
      " 8   Brand             309329 non-null  object\n",
      " 9   NotRepaired       309329 non-null  object\n",
      "dtypes: int64(4), object(6)\n",
      "memory usage: 26.0+ MB\n"
     ]
    },
    {
     "data": {
      "text/plain": [
       "None"
      ]
     },
     "metadata": {},
     "output_type": "display_data"
    },
    {
     "name": "stdout",
     "output_type": "stream",
     "text": [
      "\n",
      "Расчёт значений в каждом столбце\n"
     ]
    },
    {
     "data": {
      "text/html": [
       "<div>\n",
       "<style scoped>\n",
       "    .dataframe tbody tr th:only-of-type {\n",
       "        vertical-align: middle;\n",
       "    }\n",
       "\n",
       "    .dataframe tbody tr th {\n",
       "        vertical-align: top;\n",
       "    }\n",
       "\n",
       "    .dataframe thead th {\n",
       "        text-align: right;\n",
       "    }\n",
       "</style>\n",
       "<table border=\"1\" class=\"dataframe\">\n",
       "  <thead>\n",
       "    <tr style=\"text-align: right;\">\n",
       "      <th></th>\n",
       "      <th>Price</th>\n",
       "      <th>RegistrationYear</th>\n",
       "      <th>Power</th>\n",
       "      <th>Kilometer</th>\n",
       "    </tr>\n",
       "  </thead>\n",
       "  <tbody>\n",
       "    <tr>\n",
       "      <th>count</th>\n",
       "      <td>309329.000000</td>\n",
       "      <td>309329.000000</td>\n",
       "      <td>309329.000000</td>\n",
       "      <td>309329.000000</td>\n",
       "    </tr>\n",
       "    <tr>\n",
       "      <th>mean</th>\n",
       "      <td>4486.937196</td>\n",
       "      <td>2004.360105</td>\n",
       "      <td>110.976908</td>\n",
       "      <td>127217.735809</td>\n",
       "    </tr>\n",
       "    <tr>\n",
       "      <th>std</th>\n",
       "      <td>4564.852796</td>\n",
       "      <td>92.541399</td>\n",
       "      <td>200.969473</td>\n",
       "      <td>38532.941010</td>\n",
       "    </tr>\n",
       "    <tr>\n",
       "      <th>min</th>\n",
       "      <td>0.000000</td>\n",
       "      <td>1000.000000</td>\n",
       "      <td>0.000000</td>\n",
       "      <td>5000.000000</td>\n",
       "    </tr>\n",
       "    <tr>\n",
       "      <th>25%</th>\n",
       "      <td>1100.000000</td>\n",
       "      <td>1999.000000</td>\n",
       "      <td>69.000000</td>\n",
       "      <td>125000.000000</td>\n",
       "    </tr>\n",
       "    <tr>\n",
       "      <th>50%</th>\n",
       "      <td>2800.000000</td>\n",
       "      <td>2003.000000</td>\n",
       "      <td>105.000000</td>\n",
       "      <td>150000.000000</td>\n",
       "    </tr>\n",
       "    <tr>\n",
       "      <th>75%</th>\n",
       "      <td>6500.000000</td>\n",
       "      <td>2008.000000</td>\n",
       "      <td>143.000000</td>\n",
       "      <td>150000.000000</td>\n",
       "    </tr>\n",
       "    <tr>\n",
       "      <th>max</th>\n",
       "      <td>20000.000000</td>\n",
       "      <td>9999.000000</td>\n",
       "      <td>20000.000000</td>\n",
       "      <td>150000.000000</td>\n",
       "    </tr>\n",
       "  </tbody>\n",
       "</table>\n",
       "</div>"
      ],
      "text/plain": [
       "               Price  RegistrationYear          Power      Kilometer\n",
       "count  309329.000000     309329.000000  309329.000000  309329.000000\n",
       "mean     4486.937196       2004.360105     110.976908  127217.735809\n",
       "std      4564.852796         92.541399     200.969473   38532.941010\n",
       "min         0.000000       1000.000000       0.000000    5000.000000\n",
       "25%      1100.000000       1999.000000      69.000000  125000.000000\n",
       "50%      2800.000000       2003.000000     105.000000  150000.000000\n",
       "75%      6500.000000       2008.000000     143.000000  150000.000000\n",
       "max     20000.000000       9999.000000   20000.000000  150000.000000"
      ]
     },
     "metadata": {},
     "output_type": "display_data"
    },
    {
     "name": "stdout",
     "output_type": "stream",
     "text": [
      "\n",
      "Количество дубликатов = 0\n",
      "\n",
      "Число пропусков в каждом столбце\n"
     ]
    },
    {
     "data": {
      "text/plain": [
       "Price               0\n",
       "VehicleType         0\n",
       "RegistrationYear    0\n",
       "Gearbox             0\n",
       "Power               0\n",
       "Model               0\n",
       "Kilometer           0\n",
       "FuelType            0\n",
       "Brand               0\n",
       "NotRepaired         0\n",
       "dtype: int64"
      ]
     },
     "metadata": {},
     "output_type": "display_data"
    },
    {
     "name": "stdout",
     "output_type": "stream",
     "text": [
      "\n",
      "Построение корреляционной матрицы\n"
     ]
    },
    {
     "data": {
      "image/png": "[encoded data removed]",
      "text/plain": [
       "<Figure size 864x864 with 2 Axes>"
      ]
     },
     "metadata": {
      "needs_background": "light"
     },
     "output_type": "display_data"
    }
   ],
   "source": [
    "df_info(df)"
   ]
  },
  {
   "cell_type": "markdown",
   "metadata": {},
   "source": [
    "**Вывод**\n",
    "<br><br>Мы удалили дубликаты и заменили пропуски. \n",
    "<br>Теперь посмотрим распределения количественных признаков.\n",
    "<br>Продолжим устранять проблемы в данных."
   ]
  },
  {
   "cell_type": "markdown",
   "metadata": {},
   "source": [
    "### Посмотрим аномалии в количественных признаках и устраним проблемы в данных"
   ]
  },
  {
   "cell_type": "markdown",
   "metadata": {},
   "source": [
    "Посмотрим расчёт значений в каждом столбце"
   ]
  },
  {
   "cell_type": "code",
   "execution_count": 11,
   "metadata": {},
   "outputs": [
    {
     "data": {
      "text/html": [
       "<div>\n",
       "<style scoped>\n",
       "    .dataframe tbody tr th:only-of-type {\n",
       "        vertical-align: middle;\n",
       "    }\n",
       "\n",
       "    .dataframe tbody tr th {\n",
       "        vertical-align: top;\n",
       "    }\n",
       "\n",
       "    .dataframe thead th {\n",
       "        text-align: right;\n",
       "    }\n",
       "</style>\n",
       "<table border=\"1\" class=\"dataframe\">\n",
       "  <thead>\n",
       "    <tr style=\"text-align: right;\">\n",
       "      <th></th>\n",
       "      <th>Price</th>\n",
       "      <th>RegistrationYear</th>\n",
       "      <th>Power</th>\n",
       "      <th>Kilometer</th>\n",
       "    </tr>\n",
       "  </thead>\n",
       "  <tbody>\n",
       "    <tr>\n",
       "      <th>count</th>\n",
       "      <td>309329.000000</td>\n",
       "      <td>309329.000000</td>\n",
       "      <td>309329.000000</td>\n",
       "      <td>309329.000000</td>\n",
       "    </tr>\n",
       "    <tr>\n",
       "      <th>mean</th>\n",
       "      <td>4486.937196</td>\n",
       "      <td>2004.360105</td>\n",
       "      <td>110.976908</td>\n",
       "      <td>127217.735809</td>\n",
       "    </tr>\n",
       "    <tr>\n",
       "      <th>std</th>\n",
       "      <td>4564.852796</td>\n",
       "      <td>92.541399</td>\n",
       "      <td>200.969473</td>\n",
       "      <td>38532.941010</td>\n",
       "    </tr>\n",
       "    <tr>\n",
       "      <th>min</th>\n",
       "      <td>0.000000</td>\n",
       "      <td>1000.000000</td>\n",
       "      <td>0.000000</td>\n",
       "      <td>5000.000000</td>\n",
       "    </tr>\n",
       "    <tr>\n",
       "      <th>25%</th>\n",
       "      <td>1100.000000</td>\n",
       "      <td>1999.000000</td>\n",
       "      <td>69.000000</td>\n",
       "      <td>125000.000000</td>\n",
       "    </tr>\n",
       "    <tr>\n",
       "      <th>50%</th>\n",
       "      <td>2800.000000</td>\n",
       "      <td>2003.000000</td>\n",
       "      <td>105.000000</td>\n",
       "      <td>150000.000000</td>\n",
       "    </tr>\n",
       "    <tr>\n",
       "      <th>75%</th>\n",
       "      <td>6500.000000</td>\n",
       "      <td>2008.000000</td>\n",
       "      <td>143.000000</td>\n",
       "      <td>150000.000000</td>\n",
       "    </tr>\n",
       "    <tr>\n",
       "      <th>max</th>\n",
       "      <td>20000.000000</td>\n",
       "      <td>9999.000000</td>\n",
       "      <td>20000.000000</td>\n",
       "      <td>150000.000000</td>\n",
       "    </tr>\n",
       "  </tbody>\n",
       "</table>\n",
       "</div>"
      ],
      "text/plain": [
       "               Price  RegistrationYear          Power      Kilometer\n",
       "count  309329.000000     309329.000000  309329.000000  309329.000000\n",
       "mean     4486.937196       2004.360105     110.976908  127217.735809\n",
       "std      4564.852796         92.541399     200.969473   38532.941010\n",
       "min         0.000000       1000.000000       0.000000    5000.000000\n",
       "25%      1100.000000       1999.000000      69.000000  125000.000000\n",
       "50%      2800.000000       2003.000000     105.000000  150000.000000\n",
       "75%      6500.000000       2008.000000     143.000000  150000.000000\n",
       "max     20000.000000       9999.000000   20000.000000  150000.000000"
      ]
     },
     "execution_count": 11,
     "metadata": {},
     "output_type": "execute_result"
    }
   ],
   "source": [
    "df.describe()"
   ]
  },
  {
   "cell_type": "markdown",
   "metadata": {},
   "source": [
    "Напишем функцию для изучения каждого столбца"
   ]
  },
  {
   "cell_type": "code",
   "execution_count": 12,
   "metadata": {},
   "outputs": [],
   "source": [
    "def graph(Column, n, bins, x1 , x2):\n",
    "    display(df[df[Column] < n])\n",
    "            \n",
    "    df[Column].hist(bins=bins, range=(x1, x2), figsize=(7, 7))\n",
    "    plt.xlabel(Column, fontsize=10)\n",
    "    plt.ylabel(r'Quantity', fontsize=10)\n",
    "    plt.title(Column, fontsize=16)\n",
    "    plt.show()"
   ]
  },
  {
   "cell_type": "markdown",
   "metadata": {},
   "source": [
    "**Посмотрим на аномалии в столбце 'RegistrationYear'**"
   ]
  },
  {
   "cell_type": "code",
   "execution_count": 13,
   "metadata": {
    "scrolled": false
   },
   "outputs": [
    {
     "data": {
      "text/html": [
       "<div>\n",
       "<style scoped>\n",
       "    .dataframe tbody tr th:only-of-type {\n",
       "        vertical-align: middle;\n",
       "    }\n",
       "\n",
       "    .dataframe tbody tr th {\n",
       "        vertical-align: top;\n",
       "    }\n",
       "\n",
       "    .dataframe thead th {\n",
       "        text-align: right;\n",
       "    }\n",
       "</style>\n",
       "<table border=\"1\" class=\"dataframe\">\n",
       "  <thead>\n",
       "    <tr style=\"text-align: right;\">\n",
       "      <th></th>\n",
       "      <th>Price</th>\n",
       "      <th>VehicleType</th>\n",
       "      <th>RegistrationYear</th>\n",
       "      <th>Gearbox</th>\n",
       "      <th>Power</th>\n",
       "      <th>Model</th>\n",
       "      <th>Kilometer</th>\n",
       "      <th>FuelType</th>\n",
       "      <th>Brand</th>\n",
       "      <th>NotRepaired</th>\n",
       "    </tr>\n",
       "  </thead>\n",
       "  <tbody>\n",
       "    <tr>\n",
       "      <th>15</th>\n",
       "      <td>450</td>\n",
       "      <td>small</td>\n",
       "      <td>1910</td>\n",
       "      <td>unknown</td>\n",
       "      <td>0</td>\n",
       "      <td>ka</td>\n",
       "      <td>5000</td>\n",
       "      <td>petrol</td>\n",
       "      <td>ford</td>\n",
       "      <td>unknown</td>\n",
       "    </tr>\n",
       "    <tr>\n",
       "      <th>622</th>\n",
       "      <td>0</td>\n",
       "      <td>unknown</td>\n",
       "      <td>1111</td>\n",
       "      <td>unknown</td>\n",
       "      <td>0</td>\n",
       "      <td>unknown</td>\n",
       "      <td>5000</td>\n",
       "      <td>unknown</td>\n",
       "      <td>opel</td>\n",
       "      <td>unknown</td>\n",
       "    </tr>\n",
       "    <tr>\n",
       "      <th>1794</th>\n",
       "      <td>12800</td>\n",
       "      <td>coupe</td>\n",
       "      <td>1965</td>\n",
       "      <td>manual</td>\n",
       "      <td>90</td>\n",
       "      <td>other</td>\n",
       "      <td>100000</td>\n",
       "      <td>petrol</td>\n",
       "      <td>ford</td>\n",
       "      <td>no</td>\n",
       "    </tr>\n",
       "    <tr>\n",
       "      <th>1928</th>\n",
       "      <td>7000</td>\n",
       "      <td>suv</td>\n",
       "      <td>1945</td>\n",
       "      <td>manual</td>\n",
       "      <td>48</td>\n",
       "      <td>other</td>\n",
       "      <td>150000</td>\n",
       "      <td>petrol</td>\n",
       "      <td>volkswagen</td>\n",
       "      <td>no</td>\n",
       "    </tr>\n",
       "    <tr>\n",
       "      <th>2262</th>\n",
       "      <td>6500</td>\n",
       "      <td>convertible</td>\n",
       "      <td>1965</td>\n",
       "      <td>auto</td>\n",
       "      <td>360</td>\n",
       "      <td>unknown</td>\n",
       "      <td>150000</td>\n",
       "      <td>petrol</td>\n",
       "      <td>sonstige_autos</td>\n",
       "      <td>unknown</td>\n",
       "    </tr>\n",
       "    <tr>\n",
       "      <th>...</th>\n",
       "      <td>...</td>\n",
       "      <td>...</td>\n",
       "      <td>...</td>\n",
       "      <td>...</td>\n",
       "      <td>...</td>\n",
       "      <td>...</td>\n",
       "      <td>...</td>\n",
       "      <td>...</td>\n",
       "      <td>...</td>\n",
       "      <td>...</td>\n",
       "    </tr>\n",
       "    <tr>\n",
       "      <th>352529</th>\n",
       "      <td>10000</td>\n",
       "      <td>sedan</td>\n",
       "      <td>1961</td>\n",
       "      <td>manual</td>\n",
       "      <td>80</td>\n",
       "      <td>other</td>\n",
       "      <td>125000</td>\n",
       "      <td>petrol</td>\n",
       "      <td>volvo</td>\n",
       "      <td>no</td>\n",
       "    </tr>\n",
       "    <tr>\n",
       "      <th>352709</th>\n",
       "      <td>15990</td>\n",
       "      <td>coupe</td>\n",
       "      <td>1964</td>\n",
       "      <td>auto</td>\n",
       "      <td>250</td>\n",
       "      <td>other</td>\n",
       "      <td>5000</td>\n",
       "      <td>petrol</td>\n",
       "      <td>chevrolet</td>\n",
       "      <td>no</td>\n",
       "    </tr>\n",
       "    <tr>\n",
       "      <th>353531</th>\n",
       "      <td>6000</td>\n",
       "      <td>sedan</td>\n",
       "      <td>1937</td>\n",
       "      <td>manual</td>\n",
       "      <td>38</td>\n",
       "      <td>other</td>\n",
       "      <td>5000</td>\n",
       "      <td>petrol</td>\n",
       "      <td>mercedes_benz</td>\n",
       "      <td>unknown</td>\n",
       "    </tr>\n",
       "    <tr>\n",
       "      <th>353961</th>\n",
       "      <td>200</td>\n",
       "      <td>unknown</td>\n",
       "      <td>1910</td>\n",
       "      <td>unknown</td>\n",
       "      <td>0</td>\n",
       "      <td>unknown</td>\n",
       "      <td>5000</td>\n",
       "      <td>petrol</td>\n",
       "      <td>sonstige_autos</td>\n",
       "      <td>unknown</td>\n",
       "    </tr>\n",
       "    <tr>\n",
       "      <th>354316</th>\n",
       "      <td>3300</td>\n",
       "      <td>coupe</td>\n",
       "      <td>1957</td>\n",
       "      <td>manual</td>\n",
       "      <td>40</td>\n",
       "      <td>other</td>\n",
       "      <td>100000</td>\n",
       "      <td>petrol</td>\n",
       "      <td>trabant</td>\n",
       "      <td>no</td>\n",
       "    </tr>\n",
       "  </tbody>\n",
       "</table>\n",
       "<p>960 rows × 10 columns</p>\n",
       "</div>"
      ],
      "text/plain": [
       "        Price  VehicleType  RegistrationYear  Gearbox  Power    Model  \\\n",
       "15        450        small              1910  unknown      0       ka   \n",
       "622         0      unknown              1111  unknown      0  unknown   \n",
       "1794    12800        coupe              1965   manual     90    other   \n",
       "1928     7000          suv              1945   manual     48    other   \n",
       "2262     6500  convertible              1965     auto    360  unknown   \n",
       "...       ...          ...               ...      ...    ...      ...   \n",
       "352529  10000        sedan              1961   manual     80    other   \n",
       "352709  15990        coupe              1964     auto    250    other   \n",
       "353531   6000        sedan              1937   manual     38    other   \n",
       "353961    200      unknown              1910  unknown      0  unknown   \n",
       "354316   3300        coupe              1957   manual     40    other   \n",
       "\n",
       "        Kilometer FuelType           Brand NotRepaired  \n",
       "15           5000   petrol            ford     unknown  \n",
       "622          5000  unknown            opel     unknown  \n",
       "1794       100000   petrol            ford          no  \n",
       "1928       150000   petrol      volkswagen          no  \n",
       "2262       150000   petrol  sonstige_autos     unknown  \n",
       "...           ...      ...             ...         ...  \n",
       "352529     125000   petrol           volvo          no  \n",
       "352709       5000   petrol       chevrolet          no  \n",
       "353531       5000   petrol   mercedes_benz     unknown  \n",
       "353961       5000   petrol  sonstige_autos     unknown  \n",
       "354316     100000   petrol         trabant          no  \n",
       "\n",
       "[960 rows x 10 columns]"
      ]
     },
     "metadata": {},
     "output_type": "display_data"
    },
    {
     "data": {
      "image/png": "[encoded data removed]",
      "text/plain": [
       "<Figure size 504x504 with 1 Axes>"
      ]
     },
     "metadata": {
      "needs_background": "light"
     },
     "output_type": "display_data"
    }
   ],
   "source": [
    "graph('RegistrationYear', 1967, 50, 1950 , 2025)"
   ]
  },
  {
   "cell_type": "markdown",
   "metadata": {},
   "source": [
    "Посмотрим сколько значений регистрации авто больше 2017 года"
   ]
  },
  {
   "cell_type": "code",
   "execution_count": 14,
   "metadata": {},
   "outputs": [
    {
     "data": {
      "text/plain": [
       "Price               3825\n",
       "VehicleType         3825\n",
       "RegistrationYear    3825\n",
       "Gearbox             3825\n",
       "Power               3825\n",
       "Model               3825\n",
       "Kilometer           3825\n",
       "FuelType            3825\n",
       "Brand               3825\n",
       "NotRepaired         3825\n",
       "dtype: int64"
      ]
     },
     "execution_count": 14,
     "metadata": {},
     "output_type": "execute_result"
    }
   ],
   "source": [
    "df[df['RegistrationYear'] > 2017].count()"
   ]
  },
  {
   "cell_type": "markdown",
   "metadata": {},
   "source": [
    "Удалим аномальные значения с датой регистрации авто ранее 1968 года и позже 2017 года, тк таких значений мало по сравнению со всем датафреймом"
   ]
  },
  {
   "cell_type": "code",
   "execution_count": 15,
   "metadata": {},
   "outputs": [],
   "source": [
    "df = df[(df['RegistrationYear'] > 1967) & (df['RegistrationYear'] <= 2017)]"
   ]
  },
  {
   "cell_type": "markdown",
   "metadata": {},
   "source": [
    "**Посмотрим на аномалии в столбце 'Price'**"
   ]
  },
  {
   "cell_type": "code",
   "execution_count": 16,
   "metadata": {},
   "outputs": [
    {
     "data": {
      "text/html": [
       "<div>\n",
       "<style scoped>\n",
       "    .dataframe tbody tr th:only-of-type {\n",
       "        vertical-align: middle;\n",
       "    }\n",
       "\n",
       "    .dataframe tbody tr th {\n",
       "        vertical-align: top;\n",
       "    }\n",
       "\n",
       "    .dataframe thead th {\n",
       "        text-align: right;\n",
       "    }\n",
       "</style>\n",
       "<table border=\"1\" class=\"dataframe\">\n",
       "  <thead>\n",
       "    <tr style=\"text-align: right;\">\n",
       "      <th></th>\n",
       "      <th>Price</th>\n",
       "      <th>VehicleType</th>\n",
       "      <th>RegistrationYear</th>\n",
       "      <th>Gearbox</th>\n",
       "      <th>Power</th>\n",
       "      <th>Model</th>\n",
       "      <th>Kilometer</th>\n",
       "      <th>FuelType</th>\n",
       "      <th>Brand</th>\n",
       "      <th>NotRepaired</th>\n",
       "    </tr>\n",
       "  </thead>\n",
       "  <tbody>\n",
       "    <tr>\n",
       "      <th>0</th>\n",
       "      <td>480</td>\n",
       "      <td>unknown</td>\n",
       "      <td>1993</td>\n",
       "      <td>manual</td>\n",
       "      <td>0</td>\n",
       "      <td>golf</td>\n",
       "      <td>150000</td>\n",
       "      <td>petrol</td>\n",
       "      <td>volkswagen</td>\n",
       "      <td>unknown</td>\n",
       "    </tr>\n",
       "    <tr>\n",
       "      <th>7</th>\n",
       "      <td>0</td>\n",
       "      <td>sedan</td>\n",
       "      <td>1980</td>\n",
       "      <td>manual</td>\n",
       "      <td>50</td>\n",
       "      <td>other</td>\n",
       "      <td>40000</td>\n",
       "      <td>petrol</td>\n",
       "      <td>volkswagen</td>\n",
       "      <td>no</td>\n",
       "    </tr>\n",
       "    <tr>\n",
       "      <th>16</th>\n",
       "      <td>300</td>\n",
       "      <td>unknown</td>\n",
       "      <td>2016</td>\n",
       "      <td>unknown</td>\n",
       "      <td>60</td>\n",
       "      <td>polo</td>\n",
       "      <td>150000</td>\n",
       "      <td>petrol</td>\n",
       "      <td>volkswagen</td>\n",
       "      <td>unknown</td>\n",
       "    </tr>\n",
       "    <tr>\n",
       "      <th>23</th>\n",
       "      <td>450</td>\n",
       "      <td>small</td>\n",
       "      <td>1997</td>\n",
       "      <td>manual</td>\n",
       "      <td>50</td>\n",
       "      <td>arosa</td>\n",
       "      <td>150000</td>\n",
       "      <td>petrol</td>\n",
       "      <td>seat</td>\n",
       "      <td>no</td>\n",
       "    </tr>\n",
       "    <tr>\n",
       "      <th>32</th>\n",
       "      <td>245</td>\n",
       "      <td>sedan</td>\n",
       "      <td>1994</td>\n",
       "      <td>unknown</td>\n",
       "      <td>0</td>\n",
       "      <td>golf</td>\n",
       "      <td>150000</td>\n",
       "      <td>petrol</td>\n",
       "      <td>volkswagen</td>\n",
       "      <td>no</td>\n",
       "    </tr>\n",
       "    <tr>\n",
       "      <th>...</th>\n",
       "      <td>...</td>\n",
       "      <td>...</td>\n",
       "      <td>...</td>\n",
       "      <td>...</td>\n",
       "      <td>...</td>\n",
       "      <td>...</td>\n",
       "      <td>...</td>\n",
       "      <td>...</td>\n",
       "      <td>...</td>\n",
       "      <td>...</td>\n",
       "    </tr>\n",
       "    <tr>\n",
       "      <th>354318</th>\n",
       "      <td>400</td>\n",
       "      <td>wagon</td>\n",
       "      <td>1991</td>\n",
       "      <td>manual</td>\n",
       "      <td>0</td>\n",
       "      <td>legacy</td>\n",
       "      <td>150000</td>\n",
       "      <td>petrol</td>\n",
       "      <td>subaru</td>\n",
       "      <td>unknown</td>\n",
       "    </tr>\n",
       "    <tr>\n",
       "      <th>354329</th>\n",
       "      <td>350</td>\n",
       "      <td>small</td>\n",
       "      <td>1996</td>\n",
       "      <td>unknown</td>\n",
       "      <td>65</td>\n",
       "      <td>punto</td>\n",
       "      <td>150000</td>\n",
       "      <td>unknown</td>\n",
       "      <td>fiat</td>\n",
       "      <td>unknown</td>\n",
       "    </tr>\n",
       "    <tr>\n",
       "      <th>354335</th>\n",
       "      <td>390</td>\n",
       "      <td>small</td>\n",
       "      <td>1997</td>\n",
       "      <td>auto</td>\n",
       "      <td>0</td>\n",
       "      <td>corsa</td>\n",
       "      <td>100000</td>\n",
       "      <td>petrol</td>\n",
       "      <td>opel</td>\n",
       "      <td>yes</td>\n",
       "    </tr>\n",
       "    <tr>\n",
       "      <th>354338</th>\n",
       "      <td>180</td>\n",
       "      <td>unknown</td>\n",
       "      <td>1995</td>\n",
       "      <td>unknown</td>\n",
       "      <td>0</td>\n",
       "      <td>unknown</td>\n",
       "      <td>125000</td>\n",
       "      <td>petrol</td>\n",
       "      <td>opel</td>\n",
       "      <td>unknown</td>\n",
       "    </tr>\n",
       "    <tr>\n",
       "      <th>354364</th>\n",
       "      <td>0</td>\n",
       "      <td>unknown</td>\n",
       "      <td>2005</td>\n",
       "      <td>manual</td>\n",
       "      <td>0</td>\n",
       "      <td>colt</td>\n",
       "      <td>150000</td>\n",
       "      <td>petrol</td>\n",
       "      <td>mitsubishi</td>\n",
       "      <td>yes</td>\n",
       "    </tr>\n",
       "  </tbody>\n",
       "</table>\n",
       "<p>31520 rows × 10 columns</p>\n",
       "</div>"
      ],
      "text/plain": [
       "        Price VehicleType  RegistrationYear  Gearbox  Power    Model  \\\n",
       "0         480     unknown              1993   manual      0     golf   \n",
       "7           0       sedan              1980   manual     50    other   \n",
       "16        300     unknown              2016  unknown     60     polo   \n",
       "23        450       small              1997   manual     50    arosa   \n",
       "32        245       sedan              1994  unknown      0     golf   \n",
       "...       ...         ...               ...      ...    ...      ...   \n",
       "354318    400       wagon              1991   manual      0   legacy   \n",
       "354329    350       small              1996  unknown     65    punto   \n",
       "354335    390       small              1997     auto      0    corsa   \n",
       "354338    180     unknown              1995  unknown      0  unknown   \n",
       "354364      0     unknown              2005   manual      0     colt   \n",
       "\n",
       "        Kilometer FuelType       Brand NotRepaired  \n",
       "0          150000   petrol  volkswagen     unknown  \n",
       "7           40000   petrol  volkswagen          no  \n",
       "16         150000   petrol  volkswagen     unknown  \n",
       "23         150000   petrol        seat          no  \n",
       "32         150000   petrol  volkswagen          no  \n",
       "...           ...      ...         ...         ...  \n",
       "354318     150000   petrol      subaru     unknown  \n",
       "354329     150000  unknown        fiat     unknown  \n",
       "354335     100000   petrol        opel         yes  \n",
       "354338     125000   petrol        opel     unknown  \n",
       "354364     150000   petrol  mitsubishi         yes  \n",
       "\n",
       "[31520 rows x 10 columns]"
      ]
     },
     "metadata": {},
     "output_type": "display_data"
    },
    {
     "data": {
      "image/png": "[encoded data removed]",
      "text/plain": [
       "<Figure size 504x504 with 1 Axes>"
      ]
     },
     "metadata": {
      "needs_background": "light"
     },
     "output_type": "display_data"
    }
   ],
   "source": [
    "graph('Price', 500, 300, -10 , 21000)"
   ]
  },
  {
   "cell_type": "markdown",
   "metadata": {},
   "source": [
    "Удалим аномальные значения с ценой менее 500 Евро за авто, тк по данным avto.ru машину иностранного производства можно купить минимум за такую сумму"
   ]
  },
  {
   "cell_type": "code",
   "execution_count": 17,
   "metadata": {},
   "outputs": [],
   "source": [
    "df = df[df['Price'] >= 500]"
   ]
  },
  {
   "cell_type": "markdown",
   "metadata": {},
   "source": [
    "**Посмотрим на аномалии в столбце 'Power'**"
   ]
  },
  {
   "cell_type": "code",
   "execution_count": 18,
   "metadata": {
    "scrolled": false
   },
   "outputs": [
    {
     "data": {
      "text/html": [
       "<div>\n",
       "<style scoped>\n",
       "    .dataframe tbody tr th:only-of-type {\n",
       "        vertical-align: middle;\n",
       "    }\n",
       "\n",
       "    .dataframe tbody tr th {\n",
       "        vertical-align: top;\n",
       "    }\n",
       "\n",
       "    .dataframe thead th {\n",
       "        text-align: right;\n",
       "    }\n",
       "</style>\n",
       "<table border=\"1\" class=\"dataframe\">\n",
       "  <thead>\n",
       "    <tr style=\"text-align: right;\">\n",
       "      <th></th>\n",
       "      <th>Price</th>\n",
       "      <th>VehicleType</th>\n",
       "      <th>RegistrationYear</th>\n",
       "      <th>Gearbox</th>\n",
       "      <th>Power</th>\n",
       "      <th>Model</th>\n",
       "      <th>Kilometer</th>\n",
       "      <th>FuelType</th>\n",
       "      <th>Brand</th>\n",
       "      <th>NotRepaired</th>\n",
       "    </tr>\n",
       "  </thead>\n",
       "  <tbody>\n",
       "    <tr>\n",
       "      <th>37</th>\n",
       "      <td>1500</td>\n",
       "      <td>unknown</td>\n",
       "      <td>2016</td>\n",
       "      <td>unknown</td>\n",
       "      <td>0</td>\n",
       "      <td>kangoo</td>\n",
       "      <td>150000</td>\n",
       "      <td>gasoline</td>\n",
       "      <td>renault</td>\n",
       "      <td>no</td>\n",
       "    </tr>\n",
       "    <tr>\n",
       "      <th>54</th>\n",
       "      <td>4700</td>\n",
       "      <td>wagon</td>\n",
       "      <td>2005</td>\n",
       "      <td>manual</td>\n",
       "      <td>0</td>\n",
       "      <td>signum</td>\n",
       "      <td>150000</td>\n",
       "      <td>unknown</td>\n",
       "      <td>opel</td>\n",
       "      <td>no</td>\n",
       "    </tr>\n",
       "    <tr>\n",
       "      <th>55</th>\n",
       "      <td>550</td>\n",
       "      <td>wagon</td>\n",
       "      <td>1999</td>\n",
       "      <td>manual</td>\n",
       "      <td>0</td>\n",
       "      <td>astra</td>\n",
       "      <td>150000</td>\n",
       "      <td>gasoline</td>\n",
       "      <td>opel</td>\n",
       "      <td>yes</td>\n",
       "    </tr>\n",
       "    <tr>\n",
       "      <th>69</th>\n",
       "      <td>1200</td>\n",
       "      <td>coupe</td>\n",
       "      <td>2001</td>\n",
       "      <td>unknown</td>\n",
       "      <td>0</td>\n",
       "      <td>astra</td>\n",
       "      <td>150000</td>\n",
       "      <td>unknown</td>\n",
       "      <td>opel</td>\n",
       "      <td>unknown</td>\n",
       "    </tr>\n",
       "    <tr>\n",
       "      <th>70</th>\n",
       "      <td>800</td>\n",
       "      <td>small</td>\n",
       "      <td>1993</td>\n",
       "      <td>manual</td>\n",
       "      <td>0</td>\n",
       "      <td>polo</td>\n",
       "      <td>150000</td>\n",
       "      <td>petrol</td>\n",
       "      <td>volkswagen</td>\n",
       "      <td>no</td>\n",
       "    </tr>\n",
       "    <tr>\n",
       "      <th>...</th>\n",
       "      <td>...</td>\n",
       "      <td>...</td>\n",
       "      <td>...</td>\n",
       "      <td>...</td>\n",
       "      <td>...</td>\n",
       "      <td>...</td>\n",
       "      <td>...</td>\n",
       "      <td>...</td>\n",
       "      <td>...</td>\n",
       "      <td>...</td>\n",
       "    </tr>\n",
       "    <tr>\n",
       "      <th>354305</th>\n",
       "      <td>3500</td>\n",
       "      <td>unknown</td>\n",
       "      <td>1995</td>\n",
       "      <td>unknown</td>\n",
       "      <td>0</td>\n",
       "      <td>polo</td>\n",
       "      <td>150000</td>\n",
       "      <td>unknown</td>\n",
       "      <td>volkswagen</td>\n",
       "      <td>unknown</td>\n",
       "    </tr>\n",
       "    <tr>\n",
       "      <th>354332</th>\n",
       "      <td>7900</td>\n",
       "      <td>bus</td>\n",
       "      <td>2007</td>\n",
       "      <td>manual</td>\n",
       "      <td>0</td>\n",
       "      <td>b_klasse</td>\n",
       "      <td>125000</td>\n",
       "      <td>petrol</td>\n",
       "      <td>mercedes_benz</td>\n",
       "      <td>no</td>\n",
       "    </tr>\n",
       "    <tr>\n",
       "      <th>354346</th>\n",
       "      <td>2600</td>\n",
       "      <td>unknown</td>\n",
       "      <td>2005</td>\n",
       "      <td>auto</td>\n",
       "      <td>0</td>\n",
       "      <td>c_klasse</td>\n",
       "      <td>150000</td>\n",
       "      <td>unknown</td>\n",
       "      <td>mercedes_benz</td>\n",
       "      <td>unknown</td>\n",
       "    </tr>\n",
       "    <tr>\n",
       "      <th>354360</th>\n",
       "      <td>3999</td>\n",
       "      <td>wagon</td>\n",
       "      <td>2005</td>\n",
       "      <td>manual</td>\n",
       "      <td>3</td>\n",
       "      <td>3er</td>\n",
       "      <td>150000</td>\n",
       "      <td>gasoline</td>\n",
       "      <td>bmw</td>\n",
       "      <td>no</td>\n",
       "    </tr>\n",
       "    <tr>\n",
       "      <th>354365</th>\n",
       "      <td>2200</td>\n",
       "      <td>unknown</td>\n",
       "      <td>2005</td>\n",
       "      <td>unknown</td>\n",
       "      <td>0</td>\n",
       "      <td>unknown</td>\n",
       "      <td>20000</td>\n",
       "      <td>unknown</td>\n",
       "      <td>sonstige_autos</td>\n",
       "      <td>unknown</td>\n",
       "    </tr>\n",
       "  </tbody>\n",
       "</table>\n",
       "<p>25425 rows × 10 columns</p>\n",
       "</div>"
      ],
      "text/plain": [
       "        Price VehicleType  RegistrationYear  Gearbox  Power     Model  \\\n",
       "37       1500     unknown              2016  unknown      0    kangoo   \n",
       "54       4700       wagon              2005   manual      0    signum   \n",
       "55        550       wagon              1999   manual      0     astra   \n",
       "69       1200       coupe              2001  unknown      0     astra   \n",
       "70        800       small              1993   manual      0      polo   \n",
       "...       ...         ...               ...      ...    ...       ...   \n",
       "354305   3500     unknown              1995  unknown      0      polo   \n",
       "354332   7900         bus              2007   manual      0  b_klasse   \n",
       "354346   2600     unknown              2005     auto      0  c_klasse   \n",
       "354360   3999       wagon              2005   manual      3       3er   \n",
       "354365   2200     unknown              2005  unknown      0   unknown   \n",
       "\n",
       "        Kilometer  FuelType           Brand NotRepaired  \n",
       "37         150000  gasoline         renault          no  \n",
       "54         150000   unknown            opel          no  \n",
       "55         150000  gasoline            opel         yes  \n",
       "69         150000   unknown            opel     unknown  \n",
       "70         150000    petrol      volkswagen          no  \n",
       "...           ...       ...             ...         ...  \n",
       "354305     150000   unknown      volkswagen     unknown  \n",
       "354332     125000    petrol   mercedes_benz          no  \n",
       "354346     150000   unknown   mercedes_benz     unknown  \n",
       "354360     150000  gasoline             bmw          no  \n",
       "354365      20000   unknown  sonstige_autos     unknown  \n",
       "\n",
       "[25425 rows x 10 columns]"
      ]
     },
     "metadata": {},
     "output_type": "display_data"
    },
    {
     "data": {
      "image/png": "[encoded data removed]",
      "text/plain": [
       "<Figure size 504x504 with 1 Axes>"
      ]
     },
     "metadata": {
      "needs_background": "light"
     },
     "output_type": "display_data"
    }
   ],
   "source": [
    "graph('Power', 33, 50, -1 , 500)"
   ]
  },
  {
   "cell_type": "markdown",
   "metadata": {},
   "source": [
    "По данным объявлений на avto.ru - https://auto.ru/nahabino/cars/all/?displacement_from=200&displacement_to=1000&sort=price-asc наименьшая мощность у машины Ока 33 л.с.\n",
    "<br> Посмотрим сколько анамально больших значений мощности более 1100 л.с., тк таких машин в мире выпускалось крайне мало"
   ]
  },
  {
   "cell_type": "code",
   "execution_count": 19,
   "metadata": {},
   "outputs": [
    {
     "data": {
      "text/plain": [
       "Price               215\n",
       "VehicleType         215\n",
       "RegistrationYear    215\n",
       "Gearbox             215\n",
       "Power               215\n",
       "Model               215\n",
       "Kilometer           215\n",
       "FuelType            215\n",
       "Brand               215\n",
       "NotRepaired         215\n",
       "dtype: int64"
      ]
     },
     "execution_count": 19,
     "metadata": {},
     "output_type": "execute_result"
    }
   ],
   "source": [
    "df[df['Power'] > 1100].count()"
   ]
  },
  {
   "cell_type": "markdown",
   "metadata": {},
   "source": [
    "Удалим аномальные значения с мощностью авто менее 33 л.с и более 1100 л.с."
   ]
  },
  {
   "cell_type": "code",
   "execution_count": 20,
   "metadata": {},
   "outputs": [],
   "source": [
    "df = df[(df['Power'] >= 33) & (df['Power'] <= 1100)]"
   ]
  },
  {
   "cell_type": "markdown",
   "metadata": {},
   "source": [
    "Посмотрим расчёт значений в каждом столбце без выбросов"
   ]
  },
  {
   "cell_type": "code",
   "execution_count": 21,
   "metadata": {
    "scrolled": false
   },
   "outputs": [
    {
     "data": {
      "text/html": [
       "<div>\n",
       "<style scoped>\n",
       "    .dataframe tbody tr th:only-of-type {\n",
       "        vertical-align: middle;\n",
       "    }\n",
       "\n",
       "    .dataframe tbody tr th {\n",
       "        vertical-align: top;\n",
       "    }\n",
       "\n",
       "    .dataframe thead th {\n",
       "        text-align: right;\n",
       "    }\n",
       "</style>\n",
       "<table border=\"1\" class=\"dataframe\">\n",
       "  <thead>\n",
       "    <tr style=\"text-align: right;\">\n",
       "      <th></th>\n",
       "      <th>Price</th>\n",
       "      <th>RegistrationYear</th>\n",
       "      <th>Power</th>\n",
       "      <th>Kilometer</th>\n",
       "    </tr>\n",
       "  </thead>\n",
       "  <tbody>\n",
       "    <tr>\n",
       "      <th>count</th>\n",
       "      <td>247286.000000</td>\n",
       "      <td>247286.000000</td>\n",
       "      <td>247286.000000</td>\n",
       "      <td>247286.000000</td>\n",
       "    </tr>\n",
       "    <tr>\n",
       "      <th>mean</th>\n",
       "      <td>5193.277282</td>\n",
       "      <td>2003.620144</td>\n",
       "      <td>124.276101</td>\n",
       "      <td>127014.691491</td>\n",
       "    </tr>\n",
       "    <tr>\n",
       "      <th>std</th>\n",
       "      <td>4632.092507</td>\n",
       "      <td>6.566741</td>\n",
       "      <td>55.515736</td>\n",
       "      <td>37302.273847</td>\n",
       "    </tr>\n",
       "    <tr>\n",
       "      <th>min</th>\n",
       "      <td>500.000000</td>\n",
       "      <td>1968.000000</td>\n",
       "      <td>33.000000</td>\n",
       "      <td>5000.000000</td>\n",
       "    </tr>\n",
       "    <tr>\n",
       "      <th>25%</th>\n",
       "      <td>1600.000000</td>\n",
       "      <td>2000.000000</td>\n",
       "      <td>85.000000</td>\n",
       "      <td>125000.000000</td>\n",
       "    </tr>\n",
       "    <tr>\n",
       "      <th>50%</th>\n",
       "      <td>3500.000000</td>\n",
       "      <td>2004.000000</td>\n",
       "      <td>116.000000</td>\n",
       "      <td>150000.000000</td>\n",
       "    </tr>\n",
       "    <tr>\n",
       "      <th>75%</th>\n",
       "      <td>7499.000000</td>\n",
       "      <td>2008.000000</td>\n",
       "      <td>150.000000</td>\n",
       "      <td>150000.000000</td>\n",
       "    </tr>\n",
       "    <tr>\n",
       "      <th>max</th>\n",
       "      <td>20000.000000</td>\n",
       "      <td>2017.000000</td>\n",
       "      <td>1100.000000</td>\n",
       "      <td>150000.000000</td>\n",
       "    </tr>\n",
       "  </tbody>\n",
       "</table>\n",
       "</div>"
      ],
      "text/plain": [
       "               Price  RegistrationYear          Power      Kilometer\n",
       "count  247286.000000     247286.000000  247286.000000  247286.000000\n",
       "mean     5193.277282       2003.620144     124.276101  127014.691491\n",
       "std      4632.092507          6.566741      55.515736   37302.273847\n",
       "min       500.000000       1968.000000      33.000000    5000.000000\n",
       "25%      1600.000000       2000.000000      85.000000  125000.000000\n",
       "50%      3500.000000       2004.000000     116.000000  150000.000000\n",
       "75%      7499.000000       2008.000000     150.000000  150000.000000\n",
       "max     20000.000000       2017.000000    1100.000000  150000.000000"
      ]
     },
     "execution_count": 21,
     "metadata": {},
     "output_type": "execute_result"
    }
   ],
   "source": [
    "df.describe()"
   ]
  },
  {
   "cell_type": "markdown",
   "metadata": {},
   "source": [
    "Чтобы наглядно увидить как прошла предобработка посмотрим на таблицу корреляции"
   ]
  },
  {
   "cell_type": "code",
   "execution_count": 22,
   "metadata": {
    "scrolled": false
   },
   "outputs": [
    {
     "name": "stdout",
     "output_type": "stream",
     "text": [
      "\n",
      "Первые 10 строчек датафрейма\n"
     ]
    },
    {
     "data": {
      "text/html": [
       "<div>\n",
       "<style scoped>\n",
       "    .dataframe tbody tr th:only-of-type {\n",
       "        vertical-align: middle;\n",
       "    }\n",
       "\n",
       "    .dataframe tbody tr th {\n",
       "        vertical-align: top;\n",
       "    }\n",
       "\n",
       "    .dataframe thead th {\n",
       "        text-align: right;\n",
       "    }\n",
       "</style>\n",
       "<table border=\"1\" class=\"dataframe\">\n",
       "  <thead>\n",
       "    <tr style=\"text-align: right;\">\n",
       "      <th></th>\n",
       "      <th>Price</th>\n",
       "      <th>VehicleType</th>\n",
       "      <th>RegistrationYear</th>\n",
       "      <th>Gearbox</th>\n",
       "      <th>Power</th>\n",
       "      <th>Model</th>\n",
       "      <th>Kilometer</th>\n",
       "      <th>FuelType</th>\n",
       "      <th>Brand</th>\n",
       "      <th>NotRepaired</th>\n",
       "    </tr>\n",
       "  </thead>\n",
       "  <tbody>\n",
       "    <tr>\n",
       "      <th>1</th>\n",
       "      <td>18300</td>\n",
       "      <td>coupe</td>\n",
       "      <td>2011</td>\n",
       "      <td>manual</td>\n",
       "      <td>190</td>\n",
       "      <td>unknown</td>\n",
       "      <td>125000</td>\n",
       "      <td>gasoline</td>\n",
       "      <td>audi</td>\n",
       "      <td>yes</td>\n",
       "    </tr>\n",
       "    <tr>\n",
       "      <th>2</th>\n",
       "      <td>9800</td>\n",
       "      <td>suv</td>\n",
       "      <td>2004</td>\n",
       "      <td>auto</td>\n",
       "      <td>163</td>\n",
       "      <td>grand</td>\n",
       "      <td>125000</td>\n",
       "      <td>gasoline</td>\n",
       "      <td>jeep</td>\n",
       "      <td>unknown</td>\n",
       "    </tr>\n",
       "    <tr>\n",
       "      <th>3</th>\n",
       "      <td>1500</td>\n",
       "      <td>small</td>\n",
       "      <td>2001</td>\n",
       "      <td>manual</td>\n",
       "      <td>75</td>\n",
       "      <td>golf</td>\n",
       "      <td>150000</td>\n",
       "      <td>petrol</td>\n",
       "      <td>volkswagen</td>\n",
       "      <td>no</td>\n",
       "    </tr>\n",
       "    <tr>\n",
       "      <th>4</th>\n",
       "      <td>3600</td>\n",
       "      <td>small</td>\n",
       "      <td>2008</td>\n",
       "      <td>manual</td>\n",
       "      <td>69</td>\n",
       "      <td>fabia</td>\n",
       "      <td>90000</td>\n",
       "      <td>gasoline</td>\n",
       "      <td>skoda</td>\n",
       "      <td>no</td>\n",
       "    </tr>\n",
       "    <tr>\n",
       "      <th>5</th>\n",
       "      <td>650</td>\n",
       "      <td>sedan</td>\n",
       "      <td>1995</td>\n",
       "      <td>manual</td>\n",
       "      <td>102</td>\n",
       "      <td>3er</td>\n",
       "      <td>150000</td>\n",
       "      <td>petrol</td>\n",
       "      <td>bmw</td>\n",
       "      <td>yes</td>\n",
       "    </tr>\n",
       "    <tr>\n",
       "      <th>6</th>\n",
       "      <td>2200</td>\n",
       "      <td>convertible</td>\n",
       "      <td>2004</td>\n",
       "      <td>manual</td>\n",
       "      <td>109</td>\n",
       "      <td>2_reihe</td>\n",
       "      <td>150000</td>\n",
       "      <td>petrol</td>\n",
       "      <td>peugeot</td>\n",
       "      <td>no</td>\n",
       "    </tr>\n",
       "    <tr>\n",
       "      <th>8</th>\n",
       "      <td>14500</td>\n",
       "      <td>bus</td>\n",
       "      <td>2014</td>\n",
       "      <td>manual</td>\n",
       "      <td>125</td>\n",
       "      <td>c_max</td>\n",
       "      <td>30000</td>\n",
       "      <td>petrol</td>\n",
       "      <td>ford</td>\n",
       "      <td>unknown</td>\n",
       "    </tr>\n",
       "    <tr>\n",
       "      <th>9</th>\n",
       "      <td>999</td>\n",
       "      <td>small</td>\n",
       "      <td>1998</td>\n",
       "      <td>manual</td>\n",
       "      <td>101</td>\n",
       "      <td>golf</td>\n",
       "      <td>150000</td>\n",
       "      <td>unknown</td>\n",
       "      <td>volkswagen</td>\n",
       "      <td>unknown</td>\n",
       "    </tr>\n",
       "    <tr>\n",
       "      <th>10</th>\n",
       "      <td>2000</td>\n",
       "      <td>sedan</td>\n",
       "      <td>2004</td>\n",
       "      <td>manual</td>\n",
       "      <td>105</td>\n",
       "      <td>3_reihe</td>\n",
       "      <td>150000</td>\n",
       "      <td>petrol</td>\n",
       "      <td>mazda</td>\n",
       "      <td>no</td>\n",
       "    </tr>\n",
       "    <tr>\n",
       "      <th>11</th>\n",
       "      <td>2799</td>\n",
       "      <td>wagon</td>\n",
       "      <td>2005</td>\n",
       "      <td>manual</td>\n",
       "      <td>140</td>\n",
       "      <td>passat</td>\n",
       "      <td>150000</td>\n",
       "      <td>gasoline</td>\n",
       "      <td>volkswagen</td>\n",
       "      <td>yes</td>\n",
       "    </tr>\n",
       "  </tbody>\n",
       "</table>\n",
       "</div>"
      ],
      "text/plain": [
       "    Price  VehicleType  RegistrationYear Gearbox  Power    Model  Kilometer  \\\n",
       "1   18300        coupe              2011  manual    190  unknown     125000   \n",
       "2    9800          suv              2004    auto    163    grand     125000   \n",
       "3    1500        small              2001  manual     75     golf     150000   \n",
       "4    3600        small              2008  manual     69    fabia      90000   \n",
       "5     650        sedan              1995  manual    102      3er     150000   \n",
       "6    2200  convertible              2004  manual    109  2_reihe     150000   \n",
       "8   14500          bus              2014  manual    125    c_max      30000   \n",
       "9     999        small              1998  manual    101     golf     150000   \n",
       "10   2000        sedan              2004  manual    105  3_reihe     150000   \n",
       "11   2799        wagon              2005  manual    140   passat     150000   \n",
       "\n",
       "    FuelType       Brand NotRepaired  \n",
       "1   gasoline        audi         yes  \n",
       "2   gasoline        jeep     unknown  \n",
       "3     petrol  volkswagen          no  \n",
       "4   gasoline       skoda          no  \n",
       "5     petrol         bmw         yes  \n",
       "6     petrol     peugeot          no  \n",
       "8     petrol        ford     unknown  \n",
       "9    unknown  volkswagen     unknown  \n",
       "10    petrol       mazda          no  \n",
       "11  gasoline  volkswagen         yes  "
      ]
     },
     "metadata": {},
     "output_type": "display_data"
    },
    {
     "name": "stdout",
     "output_type": "stream",
     "text": [
      "\n",
      "Информация о датафрейме\n",
      "\n",
      "<class 'pandas.core.frame.DataFrame'>\n",
      "Int64Index: 247286 entries, 1 to 354368\n",
      "Data columns (total 10 columns):\n",
      " #   Column            Non-Null Count   Dtype \n",
      "---  ------            --------------   ----- \n",
      " 0   Price             247286 non-null  int64 \n",
      " 1   VehicleType       247286 non-null  object\n",
      " 2   RegistrationYear  247286 non-null  int64 \n",
      " 3   Gearbox           247286 non-null  object\n",
      " 4   Power             247286 non-null  int64 \n",
      " 5   Model             247286 non-null  object\n",
      " 6   Kilometer         247286 non-null  int64 \n",
      " 7   FuelType          247286 non-null  object\n",
      " 8   Brand             247286 non-null  object\n",
      " 9   NotRepaired       247286 non-null  object\n",
      "dtypes: int64(4), object(6)\n",
      "memory usage: 20.8+ MB\n"
     ]
    },
    {
     "data": {
      "text/plain": [
       "None"
      ]
     },
     "metadata": {},
     "output_type": "display_data"
    },
    {
     "name": "stdout",
     "output_type": "stream",
     "text": [
      "\n",
      "Расчёт значений в каждом столбце\n"
     ]
    },
    {
     "data": {
      "text/html": [
       "<div>\n",
       "<style scoped>\n",
       "    .dataframe tbody tr th:only-of-type {\n",
       "        vertical-align: middle;\n",
       "    }\n",
       "\n",
       "    .dataframe tbody tr th {\n",
       "        vertical-align: top;\n",
       "    }\n",
       "\n",
       "    .dataframe thead th {\n",
       "        text-align: right;\n",
       "    }\n",
       "</style>\n",
       "<table border=\"1\" class=\"dataframe\">\n",
       "  <thead>\n",
       "    <tr style=\"text-align: right;\">\n",
       "      <th></th>\n",
       "      <th>Price</th>\n",
       "      <th>RegistrationYear</th>\n",
       "      <th>Power</th>\n",
       "      <th>Kilometer</th>\n",
       "    </tr>\n",
       "  </thead>\n",
       "  <tbody>\n",
       "    <tr>\n",
       "      <th>count</th>\n",
       "      <td>247286.000000</td>\n",
       "      <td>247286.000000</td>\n",
       "      <td>247286.000000</td>\n",
       "      <td>247286.000000</td>\n",
       "    </tr>\n",
       "    <tr>\n",
       "      <th>mean</th>\n",
       "      <td>5193.277282</td>\n",
       "      <td>2003.620144</td>\n",
       "      <td>124.276101</td>\n",
       "      <td>127014.691491</td>\n",
       "    </tr>\n",
       "    <tr>\n",
       "      <th>std</th>\n",
       "      <td>4632.092507</td>\n",
       "      <td>6.566741</td>\n",
       "      <td>55.515736</td>\n",
       "      <td>37302.273847</td>\n",
       "    </tr>\n",
       "    <tr>\n",
       "      <th>min</th>\n",
       "      <td>500.000000</td>\n",
       "      <td>1968.000000</td>\n",
       "      <td>33.000000</td>\n",
       "      <td>5000.000000</td>\n",
       "    </tr>\n",
       "    <tr>\n",
       "      <th>25%</th>\n",
       "      <td>1600.000000</td>\n",
       "      <td>2000.000000</td>\n",
       "      <td>85.000000</td>\n",
       "      <td>125000.000000</td>\n",
       "    </tr>\n",
       "    <tr>\n",
       "      <th>50%</th>\n",
       "      <td>3500.000000</td>\n",
       "      <td>2004.000000</td>\n",
       "      <td>116.000000</td>\n",
       "      <td>150000.000000</td>\n",
       "    </tr>\n",
       "    <tr>\n",
       "      <th>75%</th>\n",
       "      <td>7499.000000</td>\n",
       "      <td>2008.000000</td>\n",
       "      <td>150.000000</td>\n",
       "      <td>150000.000000</td>\n",
       "    </tr>\n",
       "    <tr>\n",
       "      <th>max</th>\n",
       "      <td>20000.000000</td>\n",
       "      <td>2017.000000</td>\n",
       "      <td>1100.000000</td>\n",
       "      <td>150000.000000</td>\n",
       "    </tr>\n",
       "  </tbody>\n",
       "</table>\n",
       "</div>"
      ],
      "text/plain": [
       "               Price  RegistrationYear          Power      Kilometer\n",
       "count  247286.000000     247286.000000  247286.000000  247286.000000\n",
       "mean     5193.277282       2003.620144     124.276101  127014.691491\n",
       "std      4632.092507          6.566741      55.515736   37302.273847\n",
       "min       500.000000       1968.000000      33.000000    5000.000000\n",
       "25%      1600.000000       2000.000000      85.000000  125000.000000\n",
       "50%      3500.000000       2004.000000     116.000000  150000.000000\n",
       "75%      7499.000000       2008.000000     150.000000  150000.000000\n",
       "max     20000.000000       2017.000000    1100.000000  150000.000000"
      ]
     },
     "metadata": {},
     "output_type": "display_data"
    },
    {
     "name": "stdout",
     "output_type": "stream",
     "text": [
      "\n",
      "Количество дубликатов = 0\n",
      "\n",
      "Число пропусков в каждом столбце\n"
     ]
    },
    {
     "data": {
      "text/plain": [
       "Price               0\n",
       "VehicleType         0\n",
       "RegistrationYear    0\n",
       "Gearbox             0\n",
       "Power               0\n",
       "Model               0\n",
       "Kilometer           0\n",
       "FuelType            0\n",
       "Brand               0\n",
       "NotRepaired         0\n",
       "dtype: int64"
      ]
     },
     "metadata": {},
     "output_type": "display_data"
    },
    {
     "name": "stdout",
     "output_type": "stream",
     "text": [
      "\n",
      "Построение корреляционной матрицы\n"
     ]
    },
    {
     "data": {
      "image/png": "[encoded data removed]",
      "text/plain": [
       "<Figure size 864x864 with 2 Axes>"
      ]
     },
     "metadata": {
      "needs_background": "light"
     },
     "output_type": "display_data"
    }
   ],
   "source": [
    "df_info(df)"
   ]
  },
  {
   "cell_type": "code",
   "execution_count": 23,
   "metadata": {},
   "outputs": [
    {
     "name": "stdout",
     "output_type": "stream",
     "text": [
      "interval columns not set, guessing: ['Price', 'RegistrationYear', 'Power', 'Kilometer']\n"
     ]
    },
    {
     "data": {
      "text/html": [
       "<div>\n",
       "<style scoped>\n",
       "    .dataframe tbody tr th:only-of-type {\n",
       "        vertical-align: middle;\n",
       "    }\n",
       "\n",
       "    .dataframe tbody tr th {\n",
       "        vertical-align: top;\n",
       "    }\n",
       "\n",
       "    .dataframe thead th {\n",
       "        text-align: right;\n",
       "    }\n",
       "</style>\n",
       "<table border=\"1\" class=\"dataframe\">\n",
       "  <thead>\n",
       "    <tr style=\"text-align: right;\">\n",
       "      <th></th>\n",
       "      <th>Price</th>\n",
       "      <th>VehicleType</th>\n",
       "      <th>RegistrationYear</th>\n",
       "      <th>Gearbox</th>\n",
       "      <th>Power</th>\n",
       "      <th>Model</th>\n",
       "      <th>Kilometer</th>\n",
       "      <th>FuelType</th>\n",
       "      <th>Brand</th>\n",
       "      <th>NotRepaired</th>\n",
       "    </tr>\n",
       "  </thead>\n",
       "  <tbody>\n",
       "    <tr>\n",
       "      <th>Price</th>\n",
       "      <td>1.000000</td>\n",
       "      <td>0.243656</td>\n",
       "      <td>0.637122</td>\n",
       "      <td>0.267428</td>\n",
       "      <td>0.446345</td>\n",
       "      <td>0.558700</td>\n",
       "      <td>0.311720</td>\n",
       "      <td>0.224764</td>\n",
       "      <td>0.336906</td>\n",
       "      <td>0.286564</td>\n",
       "    </tr>\n",
       "    <tr>\n",
       "      <th>VehicleType</th>\n",
       "      <td>0.243656</td>\n",
       "      <td>1.000000</td>\n",
       "      <td>0.495539</td>\n",
       "      <td>0.361875</td>\n",
       "      <td>0.314282</td>\n",
       "      <td>0.897493</td>\n",
       "      <td>0.277465</td>\n",
       "      <td>0.405723</td>\n",
       "      <td>0.591711</td>\n",
       "      <td>0.337788</td>\n",
       "    </tr>\n",
       "    <tr>\n",
       "      <th>RegistrationYear</th>\n",
       "      <td>0.637122</td>\n",
       "      <td>0.495539</td>\n",
       "      <td>1.000000</td>\n",
       "      <td>0.112886</td>\n",
       "      <td>0.190903</td>\n",
       "      <td>0.619880</td>\n",
       "      <td>0.394121</td>\n",
       "      <td>0.298623</td>\n",
       "      <td>0.328604</td>\n",
       "      <td>0.220625</td>\n",
       "    </tr>\n",
       "    <tr>\n",
       "      <th>Gearbox</th>\n",
       "      <td>0.267428</td>\n",
       "      <td>0.361875</td>\n",
       "      <td>0.112886</td>\n",
       "      <td>1.000000</td>\n",
       "      <td>0.423659</td>\n",
       "      <td>0.621927</td>\n",
       "      <td>0.078568</td>\n",
       "      <td>0.186295</td>\n",
       "      <td>0.519538</td>\n",
       "      <td>0.251852</td>\n",
       "    </tr>\n",
       "    <tr>\n",
       "      <th>Power</th>\n",
       "      <td>0.446345</td>\n",
       "      <td>0.314282</td>\n",
       "      <td>0.190903</td>\n",
       "      <td>0.423659</td>\n",
       "      <td>1.000000</td>\n",
       "      <td>0.629368</td>\n",
       "      <td>0.092033</td>\n",
       "      <td>0.188339</td>\n",
       "      <td>0.489730</td>\n",
       "      <td>0.067972</td>\n",
       "    </tr>\n",
       "    <tr>\n",
       "      <th>Model</th>\n",
       "      <td>0.558700</td>\n",
       "      <td>0.897493</td>\n",
       "      <td>0.619880</td>\n",
       "      <td>0.621927</td>\n",
       "      <td>0.629368</td>\n",
       "      <td>1.000000</td>\n",
       "      <td>0.448627</td>\n",
       "      <td>0.525941</td>\n",
       "      <td>0.997775</td>\n",
       "      <td>0.246482</td>\n",
       "    </tr>\n",
       "    <tr>\n",
       "      <th>Kilometer</th>\n",
       "      <td>0.311720</td>\n",
       "      <td>0.277465</td>\n",
       "      <td>0.394121</td>\n",
       "      <td>0.078568</td>\n",
       "      <td>0.092033</td>\n",
       "      <td>0.448627</td>\n",
       "      <td>1.000000</td>\n",
       "      <td>0.174059</td>\n",
       "      <td>0.270346</td>\n",
       "      <td>0.222620</td>\n",
       "    </tr>\n",
       "    <tr>\n",
       "      <th>FuelType</th>\n",
       "      <td>0.224764</td>\n",
       "      <td>0.405723</td>\n",
       "      <td>0.298623</td>\n",
       "      <td>0.186295</td>\n",
       "      <td>0.188339</td>\n",
       "      <td>0.525941</td>\n",
       "      <td>0.174059</td>\n",
       "      <td>1.000000</td>\n",
       "      <td>0.287096</td>\n",
       "      <td>0.185022</td>\n",
       "    </tr>\n",
       "    <tr>\n",
       "      <th>Brand</th>\n",
       "      <td>0.336906</td>\n",
       "      <td>0.591711</td>\n",
       "      <td>0.328604</td>\n",
       "      <td>0.519538</td>\n",
       "      <td>0.489730</td>\n",
       "      <td>0.997775</td>\n",
       "      <td>0.270346</td>\n",
       "      <td>0.287096</td>\n",
       "      <td>1.000000</td>\n",
       "      <td>0.105178</td>\n",
       "    </tr>\n",
       "    <tr>\n",
       "      <th>NotRepaired</th>\n",
       "      <td>0.286564</td>\n",
       "      <td>0.337788</td>\n",
       "      <td>0.220625</td>\n",
       "      <td>0.251852</td>\n",
       "      <td>0.067972</td>\n",
       "      <td>0.246482</td>\n",
       "      <td>0.222620</td>\n",
       "      <td>0.185022</td>\n",
       "      <td>0.105178</td>\n",
       "      <td>1.000000</td>\n",
       "    </tr>\n",
       "  </tbody>\n",
       "</table>\n",
       "</div>"
      ],
      "text/plain": [
       "                     Price  VehicleType  RegistrationYear   Gearbox     Power  \\\n",
       "Price             1.000000     0.243656          0.637122  0.267428  0.446345   \n",
       "VehicleType       0.243656     1.000000          0.495539  0.361875  0.314282   \n",
       "RegistrationYear  0.637122     0.495539          1.000000  0.112886  0.190903   \n",
       "Gearbox           0.267428     0.361875          0.112886  1.000000  0.423659   \n",
       "Power             0.446345     0.314282          0.190903  0.423659  1.000000   \n",
       "Model             0.558700     0.897493          0.619880  0.621927  0.629368   \n",
       "Kilometer         0.311720     0.277465          0.394121  0.078568  0.092033   \n",
       "FuelType          0.224764     0.405723          0.298623  0.186295  0.188339   \n",
       "Brand             0.336906     0.591711          0.328604  0.519538  0.489730   \n",
       "NotRepaired       0.286564     0.337788          0.220625  0.251852  0.067972   \n",
       "\n",
       "                     Model  Kilometer  FuelType     Brand  NotRepaired  \n",
       "Price             0.558700   0.311720  0.224764  0.336906     0.286564  \n",
       "VehicleType       0.897493   0.277465  0.405723  0.591711     0.337788  \n",
       "RegistrationYear  0.619880   0.394121  0.298623  0.328604     0.220625  \n",
       "Gearbox           0.621927   0.078568  0.186295  0.519538     0.251852  \n",
       "Power             0.629368   0.092033  0.188339  0.489730     0.067972  \n",
       "Model             1.000000   0.448627  0.525941  0.997775     0.246482  \n",
       "Kilometer         0.448627   1.000000  0.174059  0.270346     0.222620  \n",
       "FuelType          0.525941   0.174059  1.000000  0.287096     0.185022  \n",
       "Brand             0.997775   0.270346  0.287096  1.000000     0.105178  \n",
       "NotRepaired       0.246482   0.222620  0.185022  0.105178     1.000000  "
      ]
     },
     "execution_count": 23,
     "metadata": {},
     "output_type": "execute_result"
    }
   ],
   "source": [
    "df.phik_matrix()"
   ]
  },
  {
   "cell_type": "markdown",
   "metadata": {},
   "source": [
    "**Вывод**\n",
    "<br><br>Мы удалили признаки, которые не влияют на цену машины.\n",
    "<br>Мы удалили дубликаты и заменили пропуски. \n",
    "<br>Мы удалили или заменили аномальные значения."
   ]
  },
  {
   "cell_type": "markdown",
   "metadata": {},
   "source": [
    "### Преобразование категориальных признаков в численные"
   ]
  },
  {
   "cell_type": "markdown",
   "metadata": {},
   "source": [
    "Преобразуем значения стобцов `VehicleType, Gearbox, Model, FuelType, Brand NotRepaired` в числа и удалим первый столбец, чтобы избежать дамми-ловушки:"
   ]
  },
  {
   "cell_type": "code",
   "execution_count": 24,
   "metadata": {
    "scrolled": false
   },
   "outputs": [
    {
     "data": {
      "text/html": [
       "<div>\n",
       "<style scoped>\n",
       "    .dataframe tbody tr th:only-of-type {\n",
       "        vertical-align: middle;\n",
       "    }\n",
       "\n",
       "    .dataframe tbody tr th {\n",
       "        vertical-align: top;\n",
       "    }\n",
       "\n",
       "    .dataframe thead th {\n",
       "        text-align: right;\n",
       "    }\n",
       "</style>\n",
       "<table border=\"1\" class=\"dataframe\">\n",
       "  <thead>\n",
       "    <tr style=\"text-align: right;\">\n",
       "      <th></th>\n",
       "      <th>Price</th>\n",
       "      <th>RegistrationYear</th>\n",
       "      <th>Power</th>\n",
       "      <th>Kilometer</th>\n",
       "      <th>VehicleType_convertible</th>\n",
       "      <th>VehicleType_coupe</th>\n",
       "      <th>VehicleType_other</th>\n",
       "      <th>VehicleType_sedan</th>\n",
       "      <th>VehicleType_small</th>\n",
       "      <th>VehicleType_suv</th>\n",
       "      <th>...</th>\n",
       "      <th>Brand_smart</th>\n",
       "      <th>Brand_sonstige_autos</th>\n",
       "      <th>Brand_subaru</th>\n",
       "      <th>Brand_suzuki</th>\n",
       "      <th>Brand_toyota</th>\n",
       "      <th>Brand_trabant</th>\n",
       "      <th>Brand_volkswagen</th>\n",
       "      <th>Brand_volvo</th>\n",
       "      <th>NotRepaired_unknown</th>\n",
       "      <th>NotRepaired_yes</th>\n",
       "    </tr>\n",
       "  </thead>\n",
       "  <tbody>\n",
       "    <tr>\n",
       "      <th>1</th>\n",
       "      <td>18300</td>\n",
       "      <td>2011</td>\n",
       "      <td>190</td>\n",
       "      <td>125000</td>\n",
       "      <td>0</td>\n",
       "      <td>1</td>\n",
       "      <td>0</td>\n",
       "      <td>0</td>\n",
       "      <td>0</td>\n",
       "      <td>0</td>\n",
       "      <td>...</td>\n",
       "      <td>0</td>\n",
       "      <td>0</td>\n",
       "      <td>0</td>\n",
       "      <td>0</td>\n",
       "      <td>0</td>\n",
       "      <td>0</td>\n",
       "      <td>0</td>\n",
       "      <td>0</td>\n",
       "      <td>0</td>\n",
       "      <td>1</td>\n",
       "    </tr>\n",
       "    <tr>\n",
       "      <th>2</th>\n",
       "      <td>9800</td>\n",
       "      <td>2004</td>\n",
       "      <td>163</td>\n",
       "      <td>125000</td>\n",
       "      <td>0</td>\n",
       "      <td>0</td>\n",
       "      <td>0</td>\n",
       "      <td>0</td>\n",
       "      <td>0</td>\n",
       "      <td>1</td>\n",
       "      <td>...</td>\n",
       "      <td>0</td>\n",
       "      <td>0</td>\n",
       "      <td>0</td>\n",
       "      <td>0</td>\n",
       "      <td>0</td>\n",
       "      <td>0</td>\n",
       "      <td>0</td>\n",
       "      <td>0</td>\n",
       "      <td>1</td>\n",
       "      <td>0</td>\n",
       "    </tr>\n",
       "    <tr>\n",
       "      <th>3</th>\n",
       "      <td>1500</td>\n",
       "      <td>2001</td>\n",
       "      <td>75</td>\n",
       "      <td>150000</td>\n",
       "      <td>0</td>\n",
       "      <td>0</td>\n",
       "      <td>0</td>\n",
       "      <td>0</td>\n",
       "      <td>1</td>\n",
       "      <td>0</td>\n",
       "      <td>...</td>\n",
       "      <td>0</td>\n",
       "      <td>0</td>\n",
       "      <td>0</td>\n",
       "      <td>0</td>\n",
       "      <td>0</td>\n",
       "      <td>0</td>\n",
       "      <td>1</td>\n",
       "      <td>0</td>\n",
       "      <td>0</td>\n",
       "      <td>0</td>\n",
       "    </tr>\n",
       "    <tr>\n",
       "      <th>4</th>\n",
       "      <td>3600</td>\n",
       "      <td>2008</td>\n",
       "      <td>69</td>\n",
       "      <td>90000</td>\n",
       "      <td>0</td>\n",
       "      <td>0</td>\n",
       "      <td>0</td>\n",
       "      <td>0</td>\n",
       "      <td>1</td>\n",
       "      <td>0</td>\n",
       "      <td>...</td>\n",
       "      <td>0</td>\n",
       "      <td>0</td>\n",
       "      <td>0</td>\n",
       "      <td>0</td>\n",
       "      <td>0</td>\n",
       "      <td>0</td>\n",
       "      <td>0</td>\n",
       "      <td>0</td>\n",
       "      <td>0</td>\n",
       "      <td>0</td>\n",
       "    </tr>\n",
       "    <tr>\n",
       "      <th>5</th>\n",
       "      <td>650</td>\n",
       "      <td>1995</td>\n",
       "      <td>102</td>\n",
       "      <td>150000</td>\n",
       "      <td>0</td>\n",
       "      <td>0</td>\n",
       "      <td>0</td>\n",
       "      <td>1</td>\n",
       "      <td>0</td>\n",
       "      <td>0</td>\n",
       "      <td>...</td>\n",
       "      <td>0</td>\n",
       "      <td>0</td>\n",
       "      <td>0</td>\n",
       "      <td>0</td>\n",
       "      <td>0</td>\n",
       "      <td>0</td>\n",
       "      <td>0</td>\n",
       "      <td>0</td>\n",
       "      <td>0</td>\n",
       "      <td>1</td>\n",
       "    </tr>\n",
       "    <tr>\n",
       "      <th>6</th>\n",
       "      <td>2200</td>\n",
       "      <td>2004</td>\n",
       "      <td>109</td>\n",
       "      <td>150000</td>\n",
       "      <td>1</td>\n",
       "      <td>0</td>\n",
       "      <td>0</td>\n",
       "      <td>0</td>\n",
       "      <td>0</td>\n",
       "      <td>0</td>\n",
       "      <td>...</td>\n",
       "      <td>0</td>\n",
       "      <td>0</td>\n",
       "      <td>0</td>\n",
       "      <td>0</td>\n",
       "      <td>0</td>\n",
       "      <td>0</td>\n",
       "      <td>0</td>\n",
       "      <td>0</td>\n",
       "      <td>0</td>\n",
       "      <td>0</td>\n",
       "    </tr>\n",
       "    <tr>\n",
       "      <th>8</th>\n",
       "      <td>14500</td>\n",
       "      <td>2014</td>\n",
       "      <td>125</td>\n",
       "      <td>30000</td>\n",
       "      <td>0</td>\n",
       "      <td>0</td>\n",
       "      <td>0</td>\n",
       "      <td>0</td>\n",
       "      <td>0</td>\n",
       "      <td>0</td>\n",
       "      <td>...</td>\n",
       "      <td>0</td>\n",
       "      <td>0</td>\n",
       "      <td>0</td>\n",
       "      <td>0</td>\n",
       "      <td>0</td>\n",
       "      <td>0</td>\n",
       "      <td>0</td>\n",
       "      <td>0</td>\n",
       "      <td>1</td>\n",
       "      <td>0</td>\n",
       "    </tr>\n",
       "    <tr>\n",
       "      <th>9</th>\n",
       "      <td>999</td>\n",
       "      <td>1998</td>\n",
       "      <td>101</td>\n",
       "      <td>150000</td>\n",
       "      <td>0</td>\n",
       "      <td>0</td>\n",
       "      <td>0</td>\n",
       "      <td>0</td>\n",
       "      <td>1</td>\n",
       "      <td>0</td>\n",
       "      <td>...</td>\n",
       "      <td>0</td>\n",
       "      <td>0</td>\n",
       "      <td>0</td>\n",
       "      <td>0</td>\n",
       "      <td>0</td>\n",
       "      <td>0</td>\n",
       "      <td>1</td>\n",
       "      <td>0</td>\n",
       "      <td>1</td>\n",
       "      <td>0</td>\n",
       "    </tr>\n",
       "    <tr>\n",
       "      <th>10</th>\n",
       "      <td>2000</td>\n",
       "      <td>2004</td>\n",
       "      <td>105</td>\n",
       "      <td>150000</td>\n",
       "      <td>0</td>\n",
       "      <td>0</td>\n",
       "      <td>0</td>\n",
       "      <td>1</td>\n",
       "      <td>0</td>\n",
       "      <td>0</td>\n",
       "      <td>...</td>\n",
       "      <td>0</td>\n",
       "      <td>0</td>\n",
       "      <td>0</td>\n",
       "      <td>0</td>\n",
       "      <td>0</td>\n",
       "      <td>0</td>\n",
       "      <td>0</td>\n",
       "      <td>0</td>\n",
       "      <td>0</td>\n",
       "      <td>0</td>\n",
       "    </tr>\n",
       "    <tr>\n",
       "      <th>11</th>\n",
       "      <td>2799</td>\n",
       "      <td>2005</td>\n",
       "      <td>140</td>\n",
       "      <td>150000</td>\n",
       "      <td>0</td>\n",
       "      <td>0</td>\n",
       "      <td>0</td>\n",
       "      <td>0</td>\n",
       "      <td>0</td>\n",
       "      <td>0</td>\n",
       "      <td>...</td>\n",
       "      <td>0</td>\n",
       "      <td>0</td>\n",
       "      <td>0</td>\n",
       "      <td>0</td>\n",
       "      <td>0</td>\n",
       "      <td>0</td>\n",
       "      <td>1</td>\n",
       "      <td>0</td>\n",
       "      <td>0</td>\n",
       "      <td>1</td>\n",
       "    </tr>\n",
       "  </tbody>\n",
       "</table>\n",
       "<p>10 rows × 311 columns</p>\n",
       "</div>"
      ],
      "text/plain": [
       "    Price  RegistrationYear  Power  Kilometer  VehicleType_convertible  \\\n",
       "1   18300              2011    190     125000                        0   \n",
       "2    9800              2004    163     125000                        0   \n",
       "3    1500              2001     75     150000                        0   \n",
       "4    3600              2008     69      90000                        0   \n",
       "5     650              1995    102     150000                        0   \n",
       "6    2200              2004    109     150000                        1   \n",
       "8   14500              2014    125      30000                        0   \n",
       "9     999              1998    101     150000                        0   \n",
       "10   2000              2004    105     150000                        0   \n",
       "11   2799              2005    140     150000                        0   \n",
       "\n",
       "    VehicleType_coupe  VehicleType_other  VehicleType_sedan  \\\n",
       "1                   1                  0                  0   \n",
       "2                   0                  0                  0   \n",
       "3                   0                  0                  0   \n",
       "4                   0                  0                  0   \n",
       "5                   0                  0                  1   \n",
       "6                   0                  0                  0   \n",
       "8                   0                  0                  0   \n",
       "9                   0                  0                  0   \n",
       "10                  0                  0                  1   \n",
       "11                  0                  0                  0   \n",
       "\n",
       "    VehicleType_small  VehicleType_suv  ...  Brand_smart  \\\n",
       "1                   0                0  ...            0   \n",
       "2                   0                1  ...            0   \n",
       "3                   1                0  ...            0   \n",
       "4                   1                0  ...            0   \n",
       "5                   0                0  ...            0   \n",
       "6                   0                0  ...            0   \n",
       "8                   0                0  ...            0   \n",
       "9                   1                0  ...            0   \n",
       "10                  0                0  ...            0   \n",
       "11                  0                0  ...            0   \n",
       "\n",
       "    Brand_sonstige_autos  Brand_subaru  Brand_suzuki  Brand_toyota  \\\n",
       "1                      0             0             0             0   \n",
       "2                      0             0             0             0   \n",
       "3                      0             0             0             0   \n",
       "4                      0             0             0             0   \n",
       "5                      0             0             0             0   \n",
       "6                      0             0             0             0   \n",
       "8                      0             0             0             0   \n",
       "9                      0             0             0             0   \n",
       "10                     0             0             0             0   \n",
       "11                     0             0             0             0   \n",
       "\n",
       "    Brand_trabant  Brand_volkswagen  Brand_volvo  NotRepaired_unknown  \\\n",
       "1               0                 0            0                    0   \n",
       "2               0                 0            0                    1   \n",
       "3               0                 1            0                    0   \n",
       "4               0                 0            0                    0   \n",
       "5               0                 0            0                    0   \n",
       "6               0                 0            0                    0   \n",
       "8               0                 0            0                    1   \n",
       "9               0                 1            0                    1   \n",
       "10              0                 0            0                    0   \n",
       "11              0                 1            0                    0   \n",
       "\n",
       "    NotRepaired_yes  \n",
       "1                 1  \n",
       "2                 0  \n",
       "3                 0  \n",
       "4                 0  \n",
       "5                 1  \n",
       "6                 0  \n",
       "8                 0  \n",
       "9                 0  \n",
       "10                0  \n",
       "11                1  \n",
       "\n",
       "[10 rows x 311 columns]"
      ]
     },
     "execution_count": 24,
     "metadata": {},
     "output_type": "execute_result"
    }
   ],
   "source": [
    "df_ohe = pd.get_dummies(df, drop_first=True)\n",
    "df_ohe.head(10)"
   ]
  },
  {
   "cell_type": "markdown",
   "metadata": {},
   "source": [
    "**Вывод**\n",
    "<br><br>\n",
    "Мы преобразовали все категориальные столбцы в таблице и теперь таблица состоит только из чисел."
   ]
  },
  {
   "cell_type": "markdown",
   "metadata": {},
   "source": [
    "### Разобьём данные на выборки"
   ]
  },
  {
   "cell_type": "markdown",
   "metadata": {},
   "source": [
    "Сделаем 3 выборки - обучающую, валидационную и тестовую в пропорциях 60%, 20% и 20% соответственно.\n",
    "<br>Для этого разделим весь датасет сначала в пропорциях 80% к 20%, а потом полученные 80% разделим на 75% и 25%, чтобы пропорции первого датасета были были 3:1:1."
   ]
  },
  {
   "cell_type": "code",
   "execution_count": 25,
   "metadata": {},
   "outputs": [],
   "source": [
    "train_valid, test = train_test_split(df_ohe, test_size=0.2, random_state=12345) \n",
    "train, valid = train_test_split(train_valid, test_size=0.25, random_state=12345)"
   ]
  },
  {
   "cell_type": "markdown",
   "metadata": {},
   "source": [
    "Разделим учебную, валидационные и тестовые выборки на признаки и цели"
   ]
  },
  {
   "cell_type": "code",
   "execution_count": 26,
   "metadata": {},
   "outputs": [],
   "source": [
    "features_train = train.drop(['Price'], axis=1)\n",
    "target_train = train['Price']\n",
    "features_valid = valid.drop(['Price'], axis=1)\n",
    "target_valid = valid['Price']\n",
    "features_test = test.drop(['Price'], axis=1)\n",
    "target_test = test['Price']"
   ]
  },
  {
   "cell_type": "markdown",
   "metadata": {},
   "source": [
    "**Вывод**\n",
    "\n",
    "Мы разделили датасет на три выборки:\n",
    "* обучающую, чтобы обучить модели\n",
    "* валидационную, чтобы проверять модель на переобучение\n",
    "* тестовую, чтобы правильно оценить готовую модель"
   ]
  },
  {
   "cell_type": "markdown",
   "metadata": {},
   "source": [
    "### Масштабируем признаки"
   ]
  },
  {
   "cell_type": "markdown",
   "metadata": {},
   "source": [
    "Масштабируем признаки, чтобы алгоритм не решил, что признаки с большими значениями и разбросом важнее:"
   ]
  },
  {
   "cell_type": "code",
   "execution_count": 27,
   "metadata": {
    "scrolled": false
   },
   "outputs": [
    {
     "data": {
      "text/plain": [
       "'Размер обучающей выборки'"
      ]
     },
     "metadata": {},
     "output_type": "display_data"
    },
    {
     "data": {
      "text/plain": [
       "(148371, 310)"
      ]
     },
     "metadata": {},
     "output_type": "display_data"
    },
    {
     "data": {
      "text/plain": [
       "'Размер валидационной выборки'"
      ]
     },
     "metadata": {},
     "output_type": "display_data"
    },
    {
     "data": {
      "text/plain": [
       "(49457, 310)"
      ]
     },
     "metadata": {},
     "output_type": "display_data"
    },
    {
     "data": {
      "text/plain": [
       "'Размер тестовой выборки'"
      ]
     },
     "metadata": {},
     "output_type": "display_data"
    },
    {
     "data": {
      "text/plain": [
       "(49458, 310)"
      ]
     },
     "metadata": {},
     "output_type": "display_data"
    },
    {
     "data": {
      "text/html": [
       "<div>\n",
       "<style scoped>\n",
       "    .dataframe tbody tr th:only-of-type {\n",
       "        vertical-align: middle;\n",
       "    }\n",
       "\n",
       "    .dataframe tbody tr th {\n",
       "        vertical-align: top;\n",
       "    }\n",
       "\n",
       "    .dataframe thead th {\n",
       "        text-align: right;\n",
       "    }\n",
       "</style>\n",
       "<table border=\"1\" class=\"dataframe\">\n",
       "  <thead>\n",
       "    <tr style=\"text-align: right;\">\n",
       "      <th></th>\n",
       "      <th>RegistrationYear</th>\n",
       "      <th>Power</th>\n",
       "      <th>Kilometer</th>\n",
       "      <th>VehicleType_convertible</th>\n",
       "      <th>VehicleType_coupe</th>\n",
       "      <th>VehicleType_other</th>\n",
       "      <th>VehicleType_sedan</th>\n",
       "      <th>VehicleType_small</th>\n",
       "      <th>VehicleType_suv</th>\n",
       "      <th>VehicleType_unknown</th>\n",
       "      <th>...</th>\n",
       "      <th>Brand_smart</th>\n",
       "      <th>Brand_sonstige_autos</th>\n",
       "      <th>Brand_subaru</th>\n",
       "      <th>Brand_suzuki</th>\n",
       "      <th>Brand_toyota</th>\n",
       "      <th>Brand_trabant</th>\n",
       "      <th>Brand_volkswagen</th>\n",
       "      <th>Brand_volvo</th>\n",
       "      <th>NotRepaired_unknown</th>\n",
       "      <th>NotRepaired_yes</th>\n",
       "    </tr>\n",
       "  </thead>\n",
       "  <tbody>\n",
       "    <tr>\n",
       "      <th>82897</th>\n",
       "      <td>-1.004530</td>\n",
       "      <td>0.462718</td>\n",
       "      <td>0.614111</td>\n",
       "      <td>0</td>\n",
       "      <td>0</td>\n",
       "      <td>0</td>\n",
       "      <td>0</td>\n",
       "      <td>0</td>\n",
       "      <td>0</td>\n",
       "      <td>0</td>\n",
       "      <td>...</td>\n",
       "      <td>0</td>\n",
       "      <td>0</td>\n",
       "      <td>0</td>\n",
       "      <td>0</td>\n",
       "      <td>0</td>\n",
       "      <td>0</td>\n",
       "      <td>0</td>\n",
       "      <td>0</td>\n",
       "      <td>0</td>\n",
       "      <td>0</td>\n",
       "    </tr>\n",
       "    <tr>\n",
       "      <th>197025</th>\n",
       "      <td>-1.004530</td>\n",
       "      <td>0.462718</td>\n",
       "      <td>0.614111</td>\n",
       "      <td>0</td>\n",
       "      <td>0</td>\n",
       "      <td>0</td>\n",
       "      <td>0</td>\n",
       "      <td>0</td>\n",
       "      <td>0</td>\n",
       "      <td>0</td>\n",
       "      <td>...</td>\n",
       "      <td>0</td>\n",
       "      <td>0</td>\n",
       "      <td>0</td>\n",
       "      <td>0</td>\n",
       "      <td>0</td>\n",
       "      <td>0</td>\n",
       "      <td>0</td>\n",
       "      <td>0</td>\n",
       "      <td>0</td>\n",
       "      <td>0</td>\n",
       "    </tr>\n",
       "    <tr>\n",
       "      <th>94132</th>\n",
       "      <td>0.061361</td>\n",
       "      <td>0.336386</td>\n",
       "      <td>0.614111</td>\n",
       "      <td>0</td>\n",
       "      <td>0</td>\n",
       "      <td>0</td>\n",
       "      <td>0</td>\n",
       "      <td>0</td>\n",
       "      <td>0</td>\n",
       "      <td>0</td>\n",
       "      <td>...</td>\n",
       "      <td>0</td>\n",
       "      <td>0</td>\n",
       "      <td>0</td>\n",
       "      <td>0</td>\n",
       "      <td>0</td>\n",
       "      <td>0</td>\n",
       "      <td>0</td>\n",
       "      <td>0</td>\n",
       "      <td>0</td>\n",
       "      <td>0</td>\n",
       "    </tr>\n",
       "    <tr>\n",
       "      <th>40634</th>\n",
       "      <td>-0.395449</td>\n",
       "      <td>-0.620121</td>\n",
       "      <td>0.614111</td>\n",
       "      <td>0</td>\n",
       "      <td>0</td>\n",
       "      <td>0</td>\n",
       "      <td>0</td>\n",
       "      <td>0</td>\n",
       "      <td>0</td>\n",
       "      <td>0</td>\n",
       "      <td>...</td>\n",
       "      <td>0</td>\n",
       "      <td>0</td>\n",
       "      <td>0</td>\n",
       "      <td>0</td>\n",
       "      <td>0</td>\n",
       "      <td>0</td>\n",
       "      <td>0</td>\n",
       "      <td>0</td>\n",
       "      <td>0</td>\n",
       "      <td>0</td>\n",
       "    </tr>\n",
       "    <tr>\n",
       "      <th>113393</th>\n",
       "      <td>-0.699990</td>\n",
       "      <td>0.462718</td>\n",
       "      <td>0.614111</td>\n",
       "      <td>0</td>\n",
       "      <td>0</td>\n",
       "      <td>0</td>\n",
       "      <td>0</td>\n",
       "      <td>0</td>\n",
       "      <td>0</td>\n",
       "      <td>0</td>\n",
       "      <td>...</td>\n",
       "      <td>0</td>\n",
       "      <td>0</td>\n",
       "      <td>0</td>\n",
       "      <td>0</td>\n",
       "      <td>0</td>\n",
       "      <td>0</td>\n",
       "      <td>0</td>\n",
       "      <td>0</td>\n",
       "      <td>1</td>\n",
       "      <td>0</td>\n",
       "    </tr>\n",
       "    <tr>\n",
       "      <th>247788</th>\n",
       "      <td>-2.070421</td>\n",
       "      <td>-0.890831</td>\n",
       "      <td>0.614111</td>\n",
       "      <td>0</td>\n",
       "      <td>0</td>\n",
       "      <td>0</td>\n",
       "      <td>1</td>\n",
       "      <td>0</td>\n",
       "      <td>0</td>\n",
       "      <td>0</td>\n",
       "      <td>...</td>\n",
       "      <td>0</td>\n",
       "      <td>0</td>\n",
       "      <td>0</td>\n",
       "      <td>0</td>\n",
       "      <td>0</td>\n",
       "      <td>0</td>\n",
       "      <td>0</td>\n",
       "      <td>0</td>\n",
       "      <td>0</td>\n",
       "      <td>0</td>\n",
       "    </tr>\n",
       "    <tr>\n",
       "      <th>36722</th>\n",
       "      <td>1.888603</td>\n",
       "      <td>-0.620121</td>\n",
       "      <td>0.614111</td>\n",
       "      <td>0</td>\n",
       "      <td>0</td>\n",
       "      <td>0</td>\n",
       "      <td>0</td>\n",
       "      <td>0</td>\n",
       "      <td>0</td>\n",
       "      <td>1</td>\n",
       "      <td>...</td>\n",
       "      <td>0</td>\n",
       "      <td>0</td>\n",
       "      <td>0</td>\n",
       "      <td>0</td>\n",
       "      <td>0</td>\n",
       "      <td>0</td>\n",
       "      <td>1</td>\n",
       "      <td>0</td>\n",
       "      <td>1</td>\n",
       "      <td>0</td>\n",
       "    </tr>\n",
       "    <tr>\n",
       "      <th>83394</th>\n",
       "      <td>1.736333</td>\n",
       "      <td>-0.692310</td>\n",
       "      <td>-3.142571</td>\n",
       "      <td>0</td>\n",
       "      <td>0</td>\n",
       "      <td>0</td>\n",
       "      <td>1</td>\n",
       "      <td>0</td>\n",
       "      <td>0</td>\n",
       "      <td>0</td>\n",
       "      <td>...</td>\n",
       "      <td>0</td>\n",
       "      <td>0</td>\n",
       "      <td>0</td>\n",
       "      <td>0</td>\n",
       "      <td>0</td>\n",
       "      <td>0</td>\n",
       "      <td>1</td>\n",
       "      <td>0</td>\n",
       "      <td>0</td>\n",
       "      <td>0</td>\n",
       "    </tr>\n",
       "    <tr>\n",
       "      <th>185615</th>\n",
       "      <td>1.888603</td>\n",
       "      <td>-1.342013</td>\n",
       "      <td>0.614111</td>\n",
       "      <td>0</td>\n",
       "      <td>0</td>\n",
       "      <td>0</td>\n",
       "      <td>0</td>\n",
       "      <td>0</td>\n",
       "      <td>0</td>\n",
       "      <td>1</td>\n",
       "      <td>...</td>\n",
       "      <td>0</td>\n",
       "      <td>0</td>\n",
       "      <td>0</td>\n",
       "      <td>0</td>\n",
       "      <td>0</td>\n",
       "      <td>0</td>\n",
       "      <td>1</td>\n",
       "      <td>0</td>\n",
       "      <td>0</td>\n",
       "      <td>0</td>\n",
       "    </tr>\n",
       "    <tr>\n",
       "      <th>18237</th>\n",
       "      <td>-0.852260</td>\n",
       "      <td>-0.205033</td>\n",
       "      <td>0.614111</td>\n",
       "      <td>0</td>\n",
       "      <td>0</td>\n",
       "      <td>0</td>\n",
       "      <td>0</td>\n",
       "      <td>0</td>\n",
       "      <td>0</td>\n",
       "      <td>0</td>\n",
       "      <td>...</td>\n",
       "      <td>0</td>\n",
       "      <td>0</td>\n",
       "      <td>0</td>\n",
       "      <td>0</td>\n",
       "      <td>0</td>\n",
       "      <td>0</td>\n",
       "      <td>0</td>\n",
       "      <td>0</td>\n",
       "      <td>1</td>\n",
       "      <td>0</td>\n",
       "    </tr>\n",
       "  </tbody>\n",
       "</table>\n",
       "<p>10 rows × 310 columns</p>\n",
       "</div>"
      ],
      "text/plain": [
       "        RegistrationYear     Power  Kilometer  VehicleType_convertible  \\\n",
       "82897          -1.004530  0.462718   0.614111                        0   \n",
       "197025         -1.004530  0.462718   0.614111                        0   \n",
       "94132           0.061361  0.336386   0.614111                        0   \n",
       "40634          -0.395449 -0.620121   0.614111                        0   \n",
       "113393         -0.699990  0.462718   0.614111                        0   \n",
       "247788         -2.070421 -0.890831   0.614111                        0   \n",
       "36722           1.888603 -0.620121   0.614111                        0   \n",
       "83394           1.736333 -0.692310  -3.142571                        0   \n",
       "185615          1.888603 -1.342013   0.614111                        0   \n",
       "18237          -0.852260 -0.205033   0.614111                        0   \n",
       "\n",
       "        VehicleType_coupe  VehicleType_other  VehicleType_sedan  \\\n",
       "82897                   0                  0                  0   \n",
       "197025                  0                  0                  0   \n",
       "94132                   0                  0                  0   \n",
       "40634                   0                  0                  0   \n",
       "113393                  0                  0                  0   \n",
       "247788                  0                  0                  1   \n",
       "36722                   0                  0                  0   \n",
       "83394                   0                  0                  1   \n",
       "185615                  0                  0                  0   \n",
       "18237                   0                  0                  0   \n",
       "\n",
       "        VehicleType_small  VehicleType_suv  VehicleType_unknown  ...  \\\n",
       "82897                   0                0                    0  ...   \n",
       "197025                  0                0                    0  ...   \n",
       "94132                   0                0                    0  ...   \n",
       "40634                   0                0                    0  ...   \n",
       "113393                  0                0                    0  ...   \n",
       "247788                  0                0                    0  ...   \n",
       "36722                   0                0                    1  ...   \n",
       "83394                   0                0                    0  ...   \n",
       "185615                  0                0                    1  ...   \n",
       "18237                   0                0                    0  ...   \n",
       "\n",
       "        Brand_smart  Brand_sonstige_autos  Brand_subaru  Brand_suzuki  \\\n",
       "82897             0                     0             0             0   \n",
       "197025            0                     0             0             0   \n",
       "94132             0                     0             0             0   \n",
       "40634             0                     0             0             0   \n",
       "113393            0                     0             0             0   \n",
       "247788            0                     0             0             0   \n",
       "36722             0                     0             0             0   \n",
       "83394             0                     0             0             0   \n",
       "185615            0                     0             0             0   \n",
       "18237             0                     0             0             0   \n",
       "\n",
       "        Brand_toyota  Brand_trabant  Brand_volkswagen  Brand_volvo  \\\n",
       "82897              0              0                 0            0   \n",
       "197025             0              0                 0            0   \n",
       "94132              0              0                 0            0   \n",
       "40634              0              0                 0            0   \n",
       "113393             0              0                 0            0   \n",
       "247788             0              0                 0            0   \n",
       "36722              0              0                 1            0   \n",
       "83394              0              0                 1            0   \n",
       "185615             0              0                 1            0   \n",
       "18237              0              0                 0            0   \n",
       "\n",
       "        NotRepaired_unknown  NotRepaired_yes  \n",
       "82897                     0                0  \n",
       "197025                    0                0  \n",
       "94132                     0                0  \n",
       "40634                     0                0  \n",
       "113393                    1                0  \n",
       "247788                    0                0  \n",
       "36722                     1                0  \n",
       "83394                     0                0  \n",
       "185615                    0                0  \n",
       "18237                     1                0  \n",
       "\n",
       "[10 rows x 310 columns]"
      ]
     },
     "execution_count": 27,
     "metadata": {},
     "output_type": "execute_result"
    }
   ],
   "source": [
    "numeric = ['RegistrationYear', 'Power', 'Kilometer']\n",
    "scaler = StandardScaler()\n",
    "scaler.fit(features_train[numeric])\n",
    "features_train[numeric] = scaler.transform(features_train[numeric])\n",
    "features_valid[numeric] = scaler.transform(features_valid[numeric])\n",
    "features_test[numeric] = scaler.transform(features_test[numeric])\n",
    "display('Размер обучающей выборки', features_train.shape)\n",
    "display('Размер валидационной выборки', features_valid.shape)\n",
    "display('Размер тестовой выборки', features_test.shape)\n",
    "features_train.head(10)"
   ]
  },
  {
   "cell_type": "markdown",
   "metadata": {},
   "source": [
    "**Вывод**\n",
    "<br><br>\n",
    "Мы масштабировали признаки, теперь алгоритм не посчитает какие-то значения важнее из-за величины или разброса.\n",
    "<br>Данные подготовлены, можно приступать к исследованию."
   ]
  },
  {
   "cell_type": "markdown",
   "metadata": {},
   "source": [
    "## Обучение моделей"
   ]
  },
  {
   "cell_type": "markdown",
   "metadata": {},
   "source": [
    "### Обучающее дерево"
   ]
  },
  {
   "cell_type": "markdown",
   "metadata": {},
   "source": [
    "Посмотрим на какой глубине дерева оптимально будет работать модель и будет выдавать наилучшее значение RMSE"
   ]
  },
  {
   "cell_type": "code",
   "execution_count": 28,
   "metadata": {
    "scrolled": false
   },
   "outputs": [
    {
     "name": "stdout",
     "output_type": "stream",
     "text": [
      "MSE наилучшей модели на валидационной выборке: 24288211.150676344\n",
      "Средняя ошибка модели (RMSE): 4928.307128282118\n",
      "Наилучшая модель с параметрами: DecisionTreeClassifier(class_weight='balanced', max_depth=3, random_state=12345)\n",
      "Wall time: 46.8 s\n"
     ]
    }
   ],
   "source": [
    "%%time\n",
    "\n",
    "best_model_tree = None\n",
    "best_result_mean_squared_error = 1000000000\n",
    "for i in range(1, 15):\n",
    "    model_tree = DecisionTreeClassifier(max_depth = i, class_weight='balanced', random_state=12345) # зададим параметры модели обучающего дерева\n",
    "    model_tree.fit(features_train, target_train) # обучаем модель на учебной выборке\n",
    "    predictions_valid = model_tree.predict(features_valid) # проверим предсказания модели на валидационных признаках\n",
    "    result_mean_squared_error = mean_squared_error(target_valid, predictions_valid)\n",
    "    if result_mean_squared_error < best_result_mean_squared_error: # выберем наилучшее значение метрики f1_score\n",
    "        best_result_mean_squared_error = result_mean_squared_error \n",
    "        best_model_tree = model_tree\n",
    "\n",
    "print(\"MSE наилучшей модели на валидационной выборке:\", best_result_mean_squared_error)\n",
    "print(\"Средняя ошибка модели (RMSE):\", best_result_mean_squared_error**0.5)\n",
    "print(\"Наилучшая модель с параметрами:\", best_model_tree)  "
   ]
  },
  {
   "cell_type": "markdown",
   "metadata": {},
   "source": [
    "**Вывод**\n",
    "\n",
    "На модели Обучающее дерево с глубиной 3 и со взвешиванием классов показатели качества модели получилсь следующими:\n",
    "* RMSE наилучшей модели на валидационной выборке: 24288211\n",
    "* Средняя ошибка модели: 4928\n",
    "* Наилучшая модель с параметрами: DecisionTreeClassifier(class_weight='balanced', max_depth=3, random_state=12345)"
   ]
  },
  {
   "cell_type": "markdown",
   "metadata": {},
   "source": [
    "### Случайный лес"
   ]
  },
  {
   "cell_type": "markdown",
   "metadata": {},
   "source": [
    "Посмотрим на какой глубине дерева и с каким числом деревьев оптимально будет работать модель и будет выдавать наилучшее значение RMSE"
   ]
  },
  {
   "cell_type": "code",
   "execution_count": 29,
   "metadata": {},
   "outputs": [
    {
     "name": "stdout",
     "output_type": "stream",
     "text": [
      "MSE наилучшей модели на валидационной выборке: 21365968.014901835\n",
      "Средняя ошибка модели(RMSE): 4622.333611380926\n",
      "Наилучшая модель с параметрами: RandomForestClassifier(class_weight='balanced', max_depth=6, n_estimators=1,\n",
      "                       random_state=12345)\n",
      "Wall time: 2min 37s\n"
     ]
    }
   ],
   "source": [
    "%%time\n",
    "\n",
    "best_model_forest = None\n",
    "best_result_mean_squared_error_forest = 1000000000\n",
    "for est in range(1, 20, 5): # переберём с помощью цикла значения деревьев от 1 до 100\n",
    "    for i in range(1, 15, 5): # переберём с помощью цикла значения глубины деревьева от 1 до 15\n",
    "        model_forest = RandomForestClassifier(random_state=12345, n_estimators=est, max_depth = i, class_weight='balanced') # зададим параметры модели случайный лес\n",
    "        model_forest.fit(features_train, target_train)\n",
    "        predictions_forest = model_forest.predict(features_valid)\n",
    "        result_mean_squared_error_forest = mean_squared_error(target_valid, predictions_forest)\n",
    "        if result_mean_squared_error_forest < best_result_mean_squared_error_forest: # выберем наилучшее значение метрики f1_score\n",
    "            best_result_mean_squared_error_forest = result_mean_squared_error_forest \n",
    "            best_model_forest = model_forest\n",
    "\n",
    "print(\"MSE наилучшей модели на валидационной выборке:\", best_result_mean_squared_error_forest)\n",
    "print(\"Средняя ошибка модели(RMSE):\", best_result_mean_squared_error_forest**0.5)\n",
    "print(\"Наилучшая модель с параметрами:\", best_model_forest)"
   ]
  },
  {
   "cell_type": "markdown",
   "metadata": {},
   "source": [
    "**Вывод**\n",
    "\n",
    "На модели Случайныёй лес с числом деревьев 1 и с глубиной 6 со взвешиванием классов, показатели качества модели получилсь следующими:\n",
    "* MSE наилучшей модели на валидационной выборке: 21365968\n",
    "* Средняя ошибка модели(RMSE): 4622\n",
    "* Наилучшая модель с параметрами: RandomForestClassifier(class_weight='balanced', max_depth=6, n_estimators=1, random_state=12345)"
   ]
  },
  {
   "cell_type": "markdown",
   "metadata": {},
   "source": [
    "### Линейная регрессия "
   ]
  },
  {
   "cell_type": "markdown",
   "metadata": {},
   "source": [
    "Посмотрим какой результат RMSE выдаст модель"
   ]
  },
  {
   "cell_type": "code",
   "execution_count": 30,
   "metadata": {},
   "outputs": [
    {
     "name": "stdout",
     "output_type": "stream",
     "text": [
      "MSE наилучшей модели на валидационной выборке: 6752156.541077169\n",
      "Средняя ошибка модели(RMSE): 2598.4912047334637\n",
      "Wall time: 4.77 s\n"
     ]
    }
   ],
   "source": [
    "%%time\n",
    "\n",
    "model_linear = LinearRegression() \n",
    "model_linear.fit(features_train, target_train) \n",
    "predictions_linear = model_linear.predict(features_valid)\n",
    "result_linear = mean_squared_error(target_valid, predictions_linear)\n",
    "            \n",
    "print(\"MSE наилучшей модели на валидационной выборке:\", result_linear)\n",
    "print(\"Средняя ошибка модели(RMSE):\", result_linear**0.5)"
   ]
  },
  {
   "cell_type": "markdown",
   "metadata": {},
   "source": [
    "**Вывод**\n",
    "\n",
    "На модели Линейная регрессия, показатели качества модели получилсь следующими:\n",
    "* MSE наилучшей модели на валидационной выборке: 6752156\n",
    "* Средняя ошибка модели (RMSE): 2598"
   ]
  },
  {
   "cell_type": "markdown",
   "metadata": {},
   "source": [
    "### CatBoost"
   ]
  },
  {
   "cell_type": "markdown",
   "metadata": {},
   "source": [
    "Посмотрим какой результат RMSE выдаст модель с параметрами `loss_function=\"RMSE\", iterations=200, random_state=12345`"
   ]
  },
  {
   "cell_type": "code",
   "execution_count": 31,
   "metadata": {
    "scrolled": false
   },
   "outputs": [
    {
     "name": "stdout",
     "output_type": "stream",
     "text": [
      "Learning rate set to 0.333822\n",
      "0:\tlearn: 3724.0967791\ttotal: 209ms\tremaining: 41.5s\n",
      "20:\tlearn: 1877.8020446\ttotal: 523ms\tremaining: 4.45s\n",
      "40:\tlearn: 1778.3300624\ttotal: 798ms\tremaining: 3.09s\n",
      "60:\tlearn: 1726.1098452\ttotal: 1.06s\tremaining: 2.42s\n",
      "80:\tlearn: 1691.3817048\ttotal: 1.32s\tremaining: 1.95s\n",
      "100:\tlearn: 1666.8887695\ttotal: 1.59s\tremaining: 1.56s\n",
      "120:\tlearn: 1645.9971960\ttotal: 1.86s\tremaining: 1.22s\n",
      "140:\tlearn: 1627.9603396\ttotal: 2.13s\tremaining: 891ms\n",
      "160:\tlearn: 1614.0118808\ttotal: 2.39s\tremaining: 579ms\n",
      "180:\tlearn: 1602.2884886\ttotal: 2.66s\tremaining: 279ms\n",
      "199:\tlearn: 1590.9224786\ttotal: 2.91s\tremaining: 0us\n",
      "MSE наилучшей модели на валидационной выборке: 2735517.3988543316\n",
      "Средняя ошибка модели(RMSE): 1653.9399622883327\n",
      "Wall time: 5.04 s\n"
     ]
    }
   ],
   "source": [
    "%%time\n",
    "\n",
    "model_cat = CatBoostRegressor(loss_function=\"RMSE\", iterations=200, random_state=12345)\n",
    "model_cat.fit(features_train, target_train, verbose=20) \n",
    "predictions_cat = model_cat.predict(features_valid)\n",
    "result_cat = mean_squared_error(target_valid, predictions_cat)\n",
    "            \n",
    "print(\"MSE наилучшей модели на валидационной выборке:\", result_cat)\n",
    "print(\"Средняя ошибка модели(RMSE):\", result_cat**0.5)"
   ]
  },
  {
   "cell_type": "markdown",
   "metadata": {},
   "source": [
    "Посмотрим какой результат RMSE выдаст модель с параметрами `loss_function=\"RMSE\", iterations=1000, depth=10 , random_state=12345`"
   ]
  },
  {
   "cell_type": "code",
   "execution_count": 32,
   "metadata": {},
   "outputs": [
    {
     "name": "stdout",
     "output_type": "stream",
     "text": [
      "Learning rate set to 0.09021\n",
      "0:\tlearn: 4341.6615800\ttotal: 34.5ms\tremaining: 34.5s\n",
      "50:\tlearn: 1806.9898984\ttotal: 1.75s\tremaining: 32.6s\n",
      "100:\tlearn: 1706.5243946\ttotal: 3.46s\tremaining: 30.8s\n",
      "150:\tlearn: 1653.7340116\ttotal: 5.16s\tremaining: 29s\n",
      "200:\tlearn: 1619.1147368\ttotal: 6.86s\tremaining: 27.3s\n",
      "250:\tlearn: 1591.5319732\ttotal: 8.54s\tremaining: 25.5s\n",
      "300:\tlearn: 1569.2260948\ttotal: 10.2s\tremaining: 23.8s\n",
      "350:\tlearn: 1549.8704222\ttotal: 11.9s\tremaining: 22.1s\n",
      "400:\tlearn: 1532.9903816\ttotal: 13.6s\tremaining: 20.3s\n",
      "450:\tlearn: 1517.5801594\ttotal: 15.3s\tremaining: 18.6s\n",
      "500:\tlearn: 1503.8481430\ttotal: 17s\tremaining: 16.9s\n",
      "550:\tlearn: 1491.8915711\ttotal: 18.7s\tremaining: 15.2s\n",
      "600:\tlearn: 1480.5801168\ttotal: 20.4s\tremaining: 13.6s\n",
      "650:\tlearn: 1470.6801354\ttotal: 22.1s\tremaining: 11.9s\n",
      "700:\tlearn: 1461.0406926\ttotal: 23.9s\tremaining: 10.2s\n",
      "750:\tlearn: 1452.0005850\ttotal: 25.7s\tremaining: 8.52s\n",
      "800:\tlearn: 1443.3097417\ttotal: 27.5s\tremaining: 6.84s\n",
      "850:\tlearn: 1434.5754085\ttotal: 29.4s\tremaining: 5.15s\n",
      "900:\tlearn: 1426.5636777\ttotal: 31.5s\tremaining: 3.46s\n",
      "950:\tlearn: 1418.9390008\ttotal: 33.4s\tremaining: 1.72s\n",
      "999:\tlearn: 1411.4552273\ttotal: 35.1s\tremaining: 0us\n",
      "MSE наилучшей модели на валидационной выборке: 2502232.874992154\n",
      "Средняя ошибка модели(RMSE): 1581.8447695624732\n",
      "Wall time: 36.2 s\n"
     ]
    }
   ],
   "source": [
    "%%time\n",
    "\n",
    "model_cat = CatBoostRegressor(loss_function=\"RMSE\", iterations=1000, depth=10 , random_state=12345)\n",
    "model_cat.fit(features_train, target_train, verbose=50) \n",
    "predictions_cat = model_cat.predict(features_valid)\n",
    "result_cat = mean_squared_error(target_valid, predictions_cat)\n",
    "            \n",
    "print(\"MSE наилучшей модели на валидационной выборке:\", result_cat)\n",
    "print(\"Средняя ошибка модели(RMSE):\", result_cat**0.5)"
   ]
  },
  {
   "cell_type": "markdown",
   "metadata": {},
   "source": [
    "**Вывод**\n",
    "\n",
    "На модели CatBoost, лучшие показатели качества модели получилсь на модели с такими параметрами:\n",
    "* CatBoostRegressor(loss_function=\"RMSE\", iterations=1000, depth=10 , random_state=12345)\n",
    "* MSE наилучшей модели на валидационной выборке: 2502232\n",
    "* Средняя ошибка модели(RMSE): 1582"
   ]
  },
  {
   "cell_type": "markdown",
   "metadata": {},
   "source": [
    "### LightGBM"
   ]
  },
  {
   "cell_type": "markdown",
   "metadata": {},
   "source": [
    "Посмотрим какой результат RMSE выдаст модель с параметрами `n_estimators=50, class_weight='balanced', random_state=12345`"
   ]
  },
  {
   "cell_type": "code",
   "execution_count": 33,
   "metadata": {},
   "outputs": [
    {
     "name": "stdout",
     "output_type": "stream",
     "text": [
      "MSE наилучшей модели на валидационной выборке: 3770953.9735866366\n",
      "Средняя ошибка модели(RMSE): 1941.8944290528866\n",
      "Wall time: 1.93 s\n"
     ]
    }
   ],
   "source": [
    "%%time\n",
    "\n",
    "model_lgbm = LGBMRegressor(n_estimators=50, class_weight='balanced', random_state=12345)\n",
    "model_lgbm.fit(features_train, target_train) \n",
    "predictions_lgbm = model_lgbm.predict(features_valid)\n",
    "result_lgbm = mean_squared_error(target_valid, predictions_lgbm)\n",
    "            \n",
    "print(\"MSE наилучшей модели на валидационной выборке:\", result_lgbm)\n",
    "print(\"Средняя ошибка модели(RMSE):\", result_lgbm**0.5)"
   ]
  },
  {
   "cell_type": "markdown",
   "metadata": {},
   "source": [
    "Посмотрим какой результат RMSE выдаст модель с параметрами `n_estimators=100, num_leaves=20, class_weight='balanced', random_state=12345`"
   ]
  },
  {
   "cell_type": "code",
   "execution_count": 34,
   "metadata": {},
   "outputs": [
    {
     "name": "stdout",
     "output_type": "stream",
     "text": [
      "MSE наилучшей модели на валидационной выборке: 3629765.6657066196\n",
      "Средняя ошибка модели(RMSE): 1905.1943905299058\n",
      "Wall time: 1.78 s\n"
     ]
    }
   ],
   "source": [
    "%%time\n",
    "\n",
    "model_lgbm = LGBMRegressor(n_estimators=100, num_leaves=20, class_weight='balanced', random_state=12345)\n",
    "model_lgbm.fit(features_train, target_train) \n",
    "predictions_lgbm = model_lgbm.predict(features_valid)\n",
    "result_lgbm = mean_squared_error(target_valid, predictions_lgbm)\n",
    "            \n",
    "print(\"MSE наилучшей модели на валидационной выборке:\", result_lgbm)\n",
    "print(\"Средняя ошибка модели(RMSE):\", result_lgbm**0.5)"
   ]
  },
  {
   "cell_type": "markdown",
   "metadata": {},
   "source": [
    "**Вывод**\n",
    "\n",
    "На модели LightGBM, лучшие показатели качества модели получилсь на модели с такими параметрами:\n",
    "* LGBMRegressor(n_estimators=100, num_leaves=20, class_weight='balanced', random_state=12345)\n",
    "* MSE наилучшей модели на валидационной выборке:3629765\n",
    "* Средняя ошибка модели(RMSE): 1905"
   ]
  },
  {
   "cell_type": "markdown",
   "metadata": {},
   "source": [
    "## Анализ моделей"
   ]
  },
  {
   "cell_type": "markdown",
   "metadata": {},
   "source": [
    "Сравним на тестовой выборке 5 наших обученных моделей с гиперпараметрами на которых были лучшие показатели RMSE "
   ]
  },
  {
   "cell_type": "markdown",
   "metadata": {},
   "source": [
    "### Обучающее дерево"
   ]
  },
  {
   "cell_type": "markdown",
   "metadata": {},
   "source": [
    "Измеряем время обучения модели"
   ]
  },
  {
   "cell_type": "code",
   "execution_count": 35,
   "metadata": {},
   "outputs": [
    {
     "name": "stdout",
     "output_type": "stream",
     "text": [
      "Wall time: 1.32 s\n"
     ]
    },
    {
     "data": {
      "text/plain": [
       "DecisionTreeClassifier(class_weight='balanced', max_depth=3, random_state=12345)"
      ]
     },
     "execution_count": 35,
     "metadata": {},
     "output_type": "execute_result"
    }
   ],
   "source": [
    "%%time\n",
    "\n",
    "model_tree_test = DecisionTreeClassifier(class_weight='balanced', max_depth=3, random_state=12345)\n",
    "model_tree_test.fit(features_train, target_train)"
   ]
  },
  {
   "cell_type": "markdown",
   "metadata": {},
   "source": [
    "Измеряем время предсказания модели и смотрим результат RMSE на тестовой выбоке"
   ]
  },
  {
   "cell_type": "code",
   "execution_count": 36,
   "metadata": {
    "scrolled": true
   },
   "outputs": [
    {
     "name": "stdout",
     "output_type": "stream",
     "text": [
      "MSE наилучшей модели на валидационной выборке: 24295791.111104373\n",
      "Средняя ошибка модели(RMSE): 4929.076091023993\n",
      "Wall time: 738 ms\n"
     ]
    }
   ],
   "source": [
    "%%time\n",
    "\n",
    "predictions_tree_test = model_tree_test.predict(features_test) \n",
    "result_mean_squared_error_tree_test = mean_squared_error(target_test, predictions_tree_test)\n",
    "\n",
    "print(\"MSE наилучшей модели на валидационной выборке:\", result_mean_squared_error_tree_test)\n",
    "print(\"Средняя ошибка модели(RMSE):\", result_mean_squared_error_tree_test**0.5)"
   ]
  },
  {
   "cell_type": "markdown",
   "metadata": {},
   "source": [
    "### Случайный лес"
   ]
  },
  {
   "cell_type": "markdown",
   "metadata": {},
   "source": [
    "Измеряем время обучения модели"
   ]
  },
  {
   "cell_type": "code",
   "execution_count": 37,
   "metadata": {},
   "outputs": [
    {
     "name": "stdout",
     "output_type": "stream",
     "text": [
      "Wall time: 565 ms\n"
     ]
    },
    {
     "data": {
      "text/plain": [
       "RandomForestClassifier(class_weight='balanced', max_depth=6, n_estimators=1,\n",
       "                       random_state=12345)"
      ]
     },
     "execution_count": 37,
     "metadata": {},
     "output_type": "execute_result"
    }
   ],
   "source": [
    "%%time\n",
    "\n",
    "model_forest_test = RandomForestClassifier(class_weight='balanced', max_depth=6, n_estimators=1, random_state=12345)\n",
    "model_forest_test.fit(features_train, target_train)"
   ]
  },
  {
   "cell_type": "markdown",
   "metadata": {},
   "source": [
    "Измеряем время предсказания модели и смотрим результат RMSE на тестовой выбоке"
   ]
  },
  {
   "cell_type": "code",
   "execution_count": 38,
   "metadata": {},
   "outputs": [
    {
     "name": "stdout",
     "output_type": "stream",
     "text": [
      "MSE наилучшей модели на валидационной выборке: 21250811.829350155\n",
      "Средняя ошибка модели(RMSE): 4609.86028306175\n",
      "Wall time: 2.1 s\n"
     ]
    }
   ],
   "source": [
    "%%time\n",
    "\n",
    "predictions_forest_test = model_forest_test.predict(features_test) \n",
    "result_mean_squared_error_forest_test = mean_squared_error(target_test, predictions_forest_test)\n",
    "\n",
    "print(\"MSE наилучшей модели на валидационной выборке:\", result_mean_squared_error_forest_test)\n",
    "print(\"Средняя ошибка модели(RMSE):\", result_mean_squared_error_forest_test**0.5)"
   ]
  },
  {
   "cell_type": "markdown",
   "metadata": {},
   "source": [
    "### Линейная регрессия "
   ]
  },
  {
   "cell_type": "markdown",
   "metadata": {},
   "source": [
    "Измеряем время обучения модели"
   ]
  },
  {
   "cell_type": "code",
   "execution_count": 39,
   "metadata": {},
   "outputs": [
    {
     "name": "stdout",
     "output_type": "stream",
     "text": [
      "Wall time: 4.3 s\n"
     ]
    },
    {
     "data": {
      "text/plain": [
       "LinearRegression()"
      ]
     },
     "execution_count": 39,
     "metadata": {},
     "output_type": "execute_result"
    }
   ],
   "source": [
    "%%time\n",
    "\n",
    "model_linear_test = LinearRegression()\n",
    "model_linear_test.fit(features_train, target_train)"
   ]
  },
  {
   "cell_type": "markdown",
   "metadata": {},
   "source": [
    "Измеряем время предсказания модели и смотрим результат RMSE на тестовой выбоке"
   ]
  },
  {
   "cell_type": "code",
   "execution_count": 40,
   "metadata": {},
   "outputs": [
    {
     "name": "stdout",
     "output_type": "stream",
     "text": [
      "MSE наилучшей модели на валидационной выборке: 6745685.961161776\n",
      "Средняя ошибка модели(RMSE): 2597.245841494751\n",
      "Wall time: 98.9 ms\n"
     ]
    }
   ],
   "source": [
    "%%time\n",
    "\n",
    "predictions_linear_test = model_linear_test.predict(features_test) \n",
    "result_mean_squared_error_linear_test = mean_squared_error(target_test, predictions_linear_test)\n",
    "\n",
    "print(\"MSE наилучшей модели на валидационной выборке:\", result_mean_squared_error_linear_test)\n",
    "print(\"Средняя ошибка модели(RMSE):\", result_mean_squared_error_linear_test**0.5)"
   ]
  },
  {
   "cell_type": "markdown",
   "metadata": {},
   "source": [
    "### CatBoost"
   ]
  },
  {
   "cell_type": "markdown",
   "metadata": {},
   "source": [
    "Измеряем время обучения модели"
   ]
  },
  {
   "cell_type": "code",
   "execution_count": 41,
   "metadata": {},
   "outputs": [
    {
     "name": "stdout",
     "output_type": "stream",
     "text": [
      "Learning rate set to 0.09021\n",
      "0:\tlearn: 4341.6615800\ttotal: 36.8ms\tremaining: 36.8s\n",
      "100:\tlearn: 1706.5243946\ttotal: 3.5s\tremaining: 31.1s\n",
      "200:\tlearn: 1619.1147368\ttotal: 6.89s\tremaining: 27.4s\n",
      "300:\tlearn: 1569.2260948\ttotal: 10.3s\tremaining: 23.8s\n",
      "400:\tlearn: 1532.9903816\ttotal: 13.6s\tremaining: 20.3s\n",
      "500:\tlearn: 1503.8481430\ttotal: 17s\tremaining: 16.9s\n",
      "600:\tlearn: 1480.5801168\ttotal: 20.3s\tremaining: 13.5s\n",
      "700:\tlearn: 1461.0406926\ttotal: 23.6s\tremaining: 10.1s\n",
      "800:\tlearn: 1443.3097417\ttotal: 27s\tremaining: 6.7s\n",
      "900:\tlearn: 1426.5636777\ttotal: 30.3s\tremaining: 3.33s\n",
      "999:\tlearn: 1411.4552273\ttotal: 33.6s\tremaining: 0us\n",
      "Wall time: 34.5 s\n"
     ]
    },
    {
     "data": {
      "text/plain": [
       "<catboost.core.CatBoostRegressor at 0x20fa0b75f40>"
      ]
     },
     "execution_count": 41,
     "metadata": {},
     "output_type": "execute_result"
    }
   ],
   "source": [
    "%%time\n",
    "\n",
    "model_cat_test = CatBoostRegressor(loss_function=\"RMSE\", iterations=1000, depth=10 , random_state=12345)\n",
    "model_cat_test.fit(features_train, target_train, verbose=100)"
   ]
  },
  {
   "cell_type": "markdown",
   "metadata": {},
   "source": [
    "Измеряем время предсказания модели и смотрим результат RMSE на тестовой выбоке"
   ]
  },
  {
   "cell_type": "code",
   "execution_count": 42,
   "metadata": {},
   "outputs": [
    {
     "name": "stdout",
     "output_type": "stream",
     "text": [
      "MSE наилучшей модели на валидационной выборке: 2475137.5259367623\n",
      "Средняя ошибка модели(RMSE): 1573.2569802599835\n",
      "Wall time: 291 ms\n"
     ]
    }
   ],
   "source": [
    "%%time\n",
    "\n",
    "predictions_cat_test = model_cat_test.predict(features_test)\n",
    "result_cat_test = mean_squared_error(target_test, predictions_cat_test)\n",
    "            \n",
    "print(\"MSE наилучшей модели на валидационной выборке:\", result_cat_test)\n",
    "print(\"Средняя ошибка модели(RMSE):\", result_cat_test**0.5)"
   ]
  },
  {
   "cell_type": "markdown",
   "metadata": {},
   "source": [
    "### LightGBM"
   ]
  },
  {
   "cell_type": "markdown",
   "metadata": {},
   "source": [
    "Измеряем время обучения модели"
   ]
  },
  {
   "cell_type": "code",
   "execution_count": 43,
   "metadata": {},
   "outputs": [
    {
     "name": "stdout",
     "output_type": "stream",
     "text": [
      "Wall time: 1.5 s\n"
     ]
    },
    {
     "data": {
      "text/plain": [
       "LGBMRegressor(class_weight='balanced', num_leaves=20, random_state=12345)"
      ]
     },
     "execution_count": 43,
     "metadata": {},
     "output_type": "execute_result"
    }
   ],
   "source": [
    "%%time\n",
    "\n",
    "model_lgbm_test = LGBMRegressor(n_estimators=100, num_leaves=20, class_weight='balanced', random_state=12345)\n",
    "model_lgbm_test.fit(features_train, target_train) "
   ]
  },
  {
   "cell_type": "markdown",
   "metadata": {},
   "source": [
    "Измеряем время предсказания модели и смотрим результат RMSE на тестовой выбоке"
   ]
  },
  {
   "cell_type": "code",
   "execution_count": 44,
   "metadata": {},
   "outputs": [
    {
     "name": "stdout",
     "output_type": "stream",
     "text": [
      "MSE наилучшей модели на валидационной выборке: 3628977.122535482\n",
      "Средняя ошибка модели(RMSE): 1904.9874336949003\n",
      "Wall time: 306 ms\n"
     ]
    }
   ],
   "source": [
    "%%time\n",
    "\n",
    "predictions_lgbm_test = model_lgbm_test.predict(features_test)\n",
    "result_lgbm_test = mean_squared_error(target_test, predictions_lgbm_test)\n",
    "            \n",
    "print(\"MSE наилучшей модели на валидационной выборке:\", result_lgbm_test)\n",
    "print(\"Средняя ошибка модели(RMSE):\", result_lgbm_test**0.5)"
   ]
  },
  {
   "cell_type": "markdown",
   "metadata": {},
   "source": [
    "## Вывод"
   ]
  },
  {
   "cell_type": "markdown",
   "metadata": {},
   "source": [
    "Отобразим полученные результаты по 5 исследуемым моделям обучения в виде таблицы, где отобразим необходимые параметры для заказчика:\n",
    "* качество предсказания (RMSE);\n",
    "* скорость предсказания;\n",
    "* время обучения."
   ]
  },
  {
   "cell_type": "code",
   "execution_count": 45,
   "metadata": {},
   "outputs": [
    {
     "data": {
      "text/html": [
       "<div>\n",
       "<style scoped>\n",
       "    .dataframe tbody tr th:only-of-type {\n",
       "        vertical-align: middle;\n",
       "    }\n",
       "\n",
       "    .dataframe tbody tr th {\n",
       "        vertical-align: top;\n",
       "    }\n",
       "\n",
       "    .dataframe thead th {\n",
       "        text-align: right;\n",
       "    }\n",
       "</style>\n",
       "<table border=\"1\" class=\"dataframe\">\n",
       "  <thead>\n",
       "    <tr style=\"text-align: right;\">\n",
       "      <th></th>\n",
       "      <th>CatBoost</th>\n",
       "      <th>LightGBM</th>\n",
       "      <th>Линейная регрессия</th>\n",
       "      <th>Случайный лес</th>\n",
       "      <th>Обучающее дерево</th>\n",
       "    </tr>\n",
       "  </thead>\n",
       "  <tbody>\n",
       "    <tr>\n",
       "      <th>Средняя ошибка модели(RMSE)</th>\n",
       "      <td>1573.00</td>\n",
       "      <td>1904.0</td>\n",
       "      <td>2597.00</td>\n",
       "      <td>4609.00</td>\n",
       "      <td>4929.00</td>\n",
       "    </tr>\n",
       "    <tr>\n",
       "      <th>Cкорость предсказания</th>\n",
       "      <td>0.25</td>\n",
       "      <td>0.5</td>\n",
       "      <td>0.11</td>\n",
       "      <td>2.65</td>\n",
       "      <td>0.54</td>\n",
       "    </tr>\n",
       "    <tr>\n",
       "      <th>Время обучения</th>\n",
       "      <td>45.10</td>\n",
       "      <td>55.0</td>\n",
       "      <td>16.78</td>\n",
       "      <td>0.42</td>\n",
       "      <td>0.90</td>\n",
       "    </tr>\n",
       "  </tbody>\n",
       "</table>\n",
       "</div>"
      ],
      "text/plain": [
       "                             CatBoost  LightGBM  Линейная регрессия  \\\n",
       "Средняя ошибка модели(RMSE)   1573.00    1904.0             2597.00   \n",
       "Cкорость предсказания            0.25       0.5                0.11   \n",
       "Время обучения                  45.10      55.0               16.78   \n",
       "\n",
       "                             Случайный лес  Обучающее дерево  \n",
       "Средняя ошибка модели(RMSE)        4609.00           4929.00  \n",
       "Cкорость предсказания                 2.65              0.54  \n",
       "Время обучения                        0.42              0.90  "
      ]
     },
     "execution_count": 45,
     "metadata": {},
     "output_type": "execute_result"
    }
   ],
   "source": [
    "result_data = {'CatBoost': [1573, 0.25, 45.1],\n",
    "              'LightGBM': [1904, 0.5, 55],\n",
    "              'Линейная регрессия': [2597, 0.11, 16.78],\n",
    "              'Случайный лес': [4609, 2.65, 0.42],\n",
    "              'Обучающее дерево': [4929, 0.54, 0.9],}\n",
    "result_researches = pd.DataFrame(data=result_data, index=['Средняя ошибка модели(RMSE)', 'Cкорость предсказания', 'Время обучения']) \n",
    "result_researches"
   ]
  },
  {
   "cell_type": "markdown",
   "metadata": {},
   "source": [
    "Наилучший результат качества - средняя ошибка модели(RMSE) у модели CatBoostRegressor(loss_function=\"RMSE\", iterations=1000, depth=10 , random_state=12345), скорость предсказания у неё тоже очень высокая, но долгое время обучения.\n",
    "<br><br>Второй результат по качеству у модели LGBMRegressor(n_estimators=100, num_leaves=20, class_weight='balanced', random_state=12345), скорость предсказания и время обучения немного выше, чем у лучшей модели по качеству.\n",
    "<br><br>Третий результат по качеству у модели LinearRegression(), хотя качество уже значительно хуже, чем у лучшей модели по качеству, скорость предсказания самая быстрая, но время обучения тоже значительное.\n",
    "<br><br>Моделей RandomForestClassifier(class_weight='balanced', max_depth=6, n_estimators=1, random_state=12345) и DecisionTreeClassifier(class_weight='balanced', max_depth=3, random_state=12345) качество хуже модели CatBoost в почти в 3 раза.\n",
    "<br><br>Самой оптимальной моделью для поставленной задачи считаю CatBoost, тк результат качества самый высокий, время предсказания второе по скорости, а время обучение не столь большое, чтобы отказываться от первый двух более значительных плюсов."
   ]
  }
 ],
 "metadata": {
  "ExecuteTimeLog": [
   {
    "duration": 1858,
    "start_time": "2022-05-19T13:39:26.959Z"
   },
   {
    "duration": 9,
    "start_time": "2022-05-19T13:57:13.093Z"
   },
   {
    "duration": 1508,
    "start_time": "2022-05-19T13:58:35.193Z"
   },
   {
    "duration": 2088,
    "start_time": "2022-05-19T13:58:46.458Z"
   },
   {
    "duration": 1482,
    "start_time": "2022-05-24T19:10:59.368Z"
   },
   {
    "duration": 7,
    "start_time": "2022-05-24T19:11:06.746Z"
   },
   {
    "duration": 2678,
    "start_time": "2022-05-24T19:11:09.219Z"
   },
   {
    "duration": 1604,
    "start_time": "2022-05-24T19:11:11.898Z"
   },
   {
    "duration": 6,
    "start_time": "2022-05-24T19:22:29.406Z"
   },
   {
    "duration": 10,
    "start_time": "2022-05-24T19:22:42.725Z"
   },
   {
    "duration": 153,
    "start_time": "2022-05-24T19:23:12.021Z"
   },
   {
    "duration": 62,
    "start_time": "2022-05-24T19:24:36.248Z"
   },
   {
    "duration": 5,
    "start_time": "2022-05-24T19:26:06.594Z"
   },
   {
    "duration": 20,
    "start_time": "2022-05-24T19:26:47.336Z"
   },
   {
    "duration": 18,
    "start_time": "2022-05-24T19:27:34.720Z"
   },
   {
    "duration": 123,
    "start_time": "2022-05-24T19:27:53.864Z"
   },
   {
    "duration": 23,
    "start_time": "2022-05-24T19:27:58.893Z"
   },
   {
    "duration": 11,
    "start_time": "2022-05-24T19:28:16.197Z"
   },
   {
    "duration": 30,
    "start_time": "2022-05-24T19:28:19.712Z"
   },
   {
    "duration": 13,
    "start_time": "2022-05-24T19:55:08.001Z"
   },
   {
    "duration": 462,
    "start_time": "2022-05-24T19:55:27.129Z"
   },
   {
    "duration": 439,
    "start_time": "2022-05-24T19:55:54.073Z"
   },
   {
    "duration": 28,
    "start_time": "2022-05-24T19:57:35.553Z"
   },
   {
    "duration": 443,
    "start_time": "2022-05-24T20:48:13.003Z"
   },
   {
    "duration": 22,
    "start_time": "2022-05-24T20:48:29.915Z"
   },
   {
    "duration": 21,
    "start_time": "2022-05-24T20:48:52.267Z"
   },
   {
    "duration": 36,
    "start_time": "2022-05-24T20:49:10.507Z"
   },
   {
    "duration": 1312,
    "start_time": "2022-05-24T20:49:57.195Z"
   },
   {
    "duration": 35,
    "start_time": "2022-05-24T20:50:33.820Z"
   },
   {
    "duration": 1022,
    "start_time": "2022-05-24T20:52:10.029Z"
   },
   {
    "duration": 205,
    "start_time": "2022-05-24T21:37:15.027Z"
   },
   {
    "duration": 223,
    "start_time": "2022-05-24T21:38:16.434Z"
   },
   {
    "duration": 259,
    "start_time": "2022-05-24T21:38:28.003Z"
   },
   {
    "duration": 28,
    "start_time": "2022-05-24T21:40:36.074Z"
   },
   {
    "duration": 52,
    "start_time": "2022-05-24T21:42:29.258Z"
   },
   {
    "duration": 29,
    "start_time": "2022-05-24T21:42:52.530Z"
   },
   {
    "duration": 29,
    "start_time": "2022-05-24T21:42:57.943Z"
   },
   {
    "duration": 46,
    "start_time": "2022-05-24T21:43:28.457Z"
   },
   {
    "duration": 29,
    "start_time": "2022-05-24T21:44:28.633Z"
   },
   {
    "duration": 29,
    "start_time": "2022-05-24T21:44:50.514Z"
   },
   {
    "duration": 26,
    "start_time": "2022-05-24T21:49:56.904Z"
   },
   {
    "duration": 83,
    "start_time": "2022-05-24T22:08:47.512Z"
   },
   {
    "duration": 971,
    "start_time": "2022-05-24T22:10:15.688Z"
   },
   {
    "duration": 1541,
    "start_time": "2022-05-25T08:20:49.680Z"
   },
   {
    "duration": 5,
    "start_time": "2022-05-25T08:20:51.224Z"
   },
   {
    "duration": 1218,
    "start_time": "2022-05-25T08:20:51.231Z"
   },
   {
    "duration": 1571,
    "start_time": "2022-05-25T08:20:52.451Z"
   },
   {
    "duration": 54,
    "start_time": "2022-05-25T08:20:54.024Z"
   },
   {
    "duration": 1144,
    "start_time": "2022-05-25T08:20:54.080Z"
   },
   {
    "duration": 256,
    "start_time": "2022-05-25T08:20:55.226Z"
   },
   {
    "duration": 33,
    "start_time": "2022-05-25T08:20:55.484Z"
   },
   {
    "duration": 52,
    "start_time": "2022-05-25T08:20:55.519Z"
   },
   {
    "duration": 37,
    "start_time": "2022-05-25T08:20:55.572Z"
   },
   {
    "duration": 36,
    "start_time": "2022-05-25T08:20:55.611Z"
   },
   {
    "duration": 33,
    "start_time": "2022-05-25T08:20:55.666Z"
   },
   {
    "duration": 109,
    "start_time": "2022-05-25T08:20:55.700Z"
   },
   {
    "duration": 1106,
    "start_time": "2022-05-25T08:20:55.812Z"
   },
   {
    "duration": 131,
    "start_time": "2022-05-25T08:45:47.555Z"
   },
   {
    "duration": 270,
    "start_time": "2022-05-25T08:46:46.203Z"
   },
   {
    "duration": 397,
    "start_time": "2022-05-25T08:46:56.026Z"
   },
   {
    "duration": 219,
    "start_time": "2022-05-25T08:47:13.175Z"
   },
   {
    "duration": 16063,
    "start_time": "2022-05-25T08:48:34.911Z"
   },
   {
    "duration": 17856,
    "start_time": "2022-05-25T08:49:02.575Z"
   },
   {
    "duration": 3777,
    "start_time": "2022-05-25T08:50:13.654Z"
   },
   {
    "duration": 8773,
    "start_time": "2022-05-25T08:50:34.717Z"
   },
   {
    "duration": 343,
    "start_time": "2022-05-25T08:51:51.857Z"
   },
   {
    "duration": 493,
    "start_time": "2022-05-25T08:52:07.005Z"
   },
   {
    "duration": 858,
    "start_time": "2022-05-25T08:52:22.246Z"
   },
   {
    "duration": 630,
    "start_time": "2022-05-25T08:52:32.238Z"
   },
   {
    "duration": 2523,
    "start_time": "2022-05-25T08:54:37.373Z"
   },
   {
    "duration": 1192,
    "start_time": "2022-05-25T08:54:57.944Z"
   },
   {
    "duration": 730,
    "start_time": "2022-05-25T08:55:56.757Z"
   },
   {
    "duration": 661,
    "start_time": "2022-05-25T08:57:26.365Z"
   },
   {
    "duration": 657,
    "start_time": "2022-05-25T08:57:39.908Z"
   },
   {
    "duration": 1698,
    "start_time": "2022-05-25T08:58:16.758Z"
   },
   {
    "duration": 1302,
    "start_time": "2022-05-25T08:58:39.739Z"
   },
   {
    "duration": 748,
    "start_time": "2022-05-25T08:58:50.380Z"
   },
   {
    "duration": 2442,
    "start_time": "2022-05-25T09:07:42.835Z"
   },
   {
    "duration": 282,
    "start_time": "2022-05-25T09:09:57.731Z"
   },
   {
    "duration": 20,
    "start_time": "2022-05-25T09:10:07.705Z"
   },
   {
    "duration": 32,
    "start_time": "2022-05-25T09:11:51.132Z"
   },
   {
    "duration": 42,
    "start_time": "2022-05-25T09:12:44.194Z"
   },
   {
    "duration": 645,
    "start_time": "2022-05-25T09:12:49.690Z"
   },
   {
    "duration": 806,
    "start_time": "2022-05-25T09:12:59.554Z"
   },
   {
    "duration": 793,
    "start_time": "2022-05-25T09:13:27.482Z"
   },
   {
    "duration": 34,
    "start_time": "2022-05-25T09:14:39.523Z"
   },
   {
    "duration": 23,
    "start_time": "2022-05-25T09:16:19.794Z"
   },
   {
    "duration": 23,
    "start_time": "2022-05-25T09:16:53.890Z"
   },
   {
    "duration": 21,
    "start_time": "2022-05-25T09:17:05.484Z"
   },
   {
    "duration": 850,
    "start_time": "2022-05-25T09:20:52.985Z"
   },
   {
    "duration": 830,
    "start_time": "2022-05-25T09:21:08.611Z"
   },
   {
    "duration": 1583,
    "start_time": "2022-05-25T09:21:50.804Z"
   },
   {
    "duration": 759,
    "start_time": "2022-05-25T09:22:59.341Z"
   },
   {
    "duration": 844,
    "start_time": "2022-05-25T09:23:17.885Z"
   },
   {
    "duration": 1467,
    "start_time": "2022-05-25T09:24:57.862Z"
   },
   {
    "duration": 1569,
    "start_time": "2022-05-25T09:26:37.128Z"
   },
   {
    "duration": 3066,
    "start_time": "2022-05-25T09:27:05.591Z"
   },
   {
    "duration": 1636,
    "start_time": "2022-05-25T09:27:21.575Z"
   },
   {
    "duration": 2341,
    "start_time": "2022-05-25T09:27:44.639Z"
   },
   {
    "duration": 3189,
    "start_time": "2022-05-25T09:28:06.735Z"
   },
   {
    "duration": 2546,
    "start_time": "2022-05-25T09:28:23.183Z"
   },
   {
    "duration": 2993,
    "start_time": "2022-05-25T09:29:01.919Z"
   },
   {
    "duration": 2988,
    "start_time": "2022-05-25T09:29:19.282Z"
   },
   {
    "duration": 2625,
    "start_time": "2022-05-25T09:29:39.463Z"
   },
   {
    "duration": 2578,
    "start_time": "2022-05-25T09:30:07.103Z"
   },
   {
    "duration": 2364,
    "start_time": "2022-05-25T09:30:31.743Z"
   },
   {
    "duration": 2436,
    "start_time": "2022-05-25T09:36:50.978Z"
   },
   {
    "duration": 2344,
    "start_time": "2022-05-25T09:37:12.640Z"
   },
   {
    "duration": 2969,
    "start_time": "2022-05-25T09:39:37.921Z"
   },
   {
    "duration": 2731,
    "start_time": "2022-05-25T09:41:17.433Z"
   },
   {
    "duration": 2649,
    "start_time": "2022-05-25T09:43:11.635Z"
   },
   {
    "duration": 88,
    "start_time": "2022-05-25T09:46:18.366Z"
   },
   {
    "duration": 16,
    "start_time": "2022-05-25T09:59:03.190Z"
   },
   {
    "duration": 13,
    "start_time": "2022-05-25T09:59:23.393Z"
   },
   {
    "duration": 16,
    "start_time": "2022-05-25T10:00:04.383Z"
   },
   {
    "duration": 4,
    "start_time": "2022-05-25T10:02:37.237Z"
   },
   {
    "duration": 11,
    "start_time": "2022-05-25T10:03:21.094Z"
   },
   {
    "duration": 513,
    "start_time": "2022-05-25T10:04:25.630Z"
   },
   {
    "duration": 4,
    "start_time": "2022-05-25T10:05:01.622Z"
   },
   {
    "duration": 583,
    "start_time": "2022-05-25T10:05:02.223Z"
   },
   {
    "duration": 4,
    "start_time": "2022-05-25T10:05:39.997Z"
   },
   {
    "duration": 702,
    "start_time": "2022-05-25T10:05:40.501Z"
   },
   {
    "duration": 229,
    "start_time": "2022-05-25T10:08:02.749Z"
   },
   {
    "duration": 228,
    "start_time": "2022-05-25T10:09:55.855Z"
   },
   {
    "duration": 238,
    "start_time": "2022-05-25T10:11:04.679Z"
   },
   {
    "duration": 22,
    "start_time": "2022-05-25T10:12:40.760Z"
   },
   {
    "duration": 20,
    "start_time": "2022-05-25T10:13:14.510Z"
   },
   {
    "duration": 16,
    "start_time": "2022-05-25T10:13:21.151Z"
   },
   {
    "duration": 20,
    "start_time": "2022-05-25T10:13:25.302Z"
   },
   {
    "duration": 556,
    "start_time": "2022-05-25T10:21:02.858Z"
   },
   {
    "duration": 661,
    "start_time": "2022-05-25T10:21:33.072Z"
   },
   {
    "duration": 503,
    "start_time": "2022-05-25T10:21:42.735Z"
   },
   {
    "duration": 505,
    "start_time": "2022-05-25T10:21:49.703Z"
   },
   {
    "duration": 35,
    "start_time": "2022-05-25T10:23:41.406Z"
   },
   {
    "duration": 73,
    "start_time": "2022-05-25T10:23:55.677Z"
   },
   {
    "duration": 674,
    "start_time": "2022-05-25T10:24:16.944Z"
   },
   {
    "duration": 26,
    "start_time": "2022-05-25T10:24:38.350Z"
   },
   {
    "duration": 3,
    "start_time": "2022-05-25T10:24:46.098Z"
   },
   {
    "duration": 16,
    "start_time": "2022-05-25T10:24:46.105Z"
   },
   {
    "duration": 822,
    "start_time": "2022-05-25T10:24:46.123Z"
   },
   {
    "duration": 1480,
    "start_time": "2022-05-25T10:24:46.947Z"
   },
   {
    "duration": 45,
    "start_time": "2022-05-25T10:24:48.428Z"
   },
   {
    "duration": 1137,
    "start_time": "2022-05-25T10:24:48.476Z"
   },
   {
    "duration": 217,
    "start_time": "2022-05-25T10:24:49.615Z"
   },
   {
    "duration": 34,
    "start_time": "2022-05-25T10:24:49.834Z"
   },
   {
    "duration": 44,
    "start_time": "2022-05-25T10:24:49.870Z"
   },
   {
    "duration": 35,
    "start_time": "2022-05-25T10:24:49.916Z"
   },
   {
    "duration": 42,
    "start_time": "2022-05-25T10:24:49.953Z"
   },
   {
    "duration": 31,
    "start_time": "2022-05-25T10:24:49.997Z"
   },
   {
    "duration": 107,
    "start_time": "2022-05-25T10:24:50.030Z"
   },
   {
    "duration": 1076,
    "start_time": "2022-05-25T10:24:50.139Z"
   },
   {
    "duration": 90,
    "start_time": "2022-05-25T10:24:51.216Z"
   },
   {
    "duration": 3,
    "start_time": "2022-05-25T10:24:51.308Z"
   },
   {
    "duration": 640,
    "start_time": "2022-05-25T10:24:51.312Z"
   },
   {
    "duration": 34,
    "start_time": "2022-05-25T10:24:51.954Z"
   },
   {
    "duration": 85,
    "start_time": "2022-05-25T11:03:10.501Z"
   },
   {
    "duration": 228,
    "start_time": "2022-05-25T11:03:25.492Z"
   },
   {
    "duration": 22,
    "start_time": "2022-05-25T11:06:21.123Z"
   },
   {
    "duration": 90,
    "start_time": "2022-05-25T11:06:41.898Z"
   },
   {
    "duration": 19,
    "start_time": "2022-05-25T11:07:16.954Z"
   },
   {
    "duration": 12,
    "start_time": "2022-05-25T11:08:07.775Z"
   },
   {
    "duration": 11,
    "start_time": "2022-05-25T11:08:14.218Z"
   },
   {
    "duration": 8,
    "start_time": "2022-05-25T11:09:28.504Z"
   },
   {
    "duration": 8,
    "start_time": "2022-05-25T11:09:48.065Z"
   },
   {
    "duration": 8,
    "start_time": "2022-05-25T11:09:53.499Z"
   },
   {
    "duration": 8,
    "start_time": "2022-05-25T11:10:00.088Z"
   },
   {
    "duration": 11,
    "start_time": "2022-05-25T11:14:18.759Z"
   },
   {
    "duration": 10,
    "start_time": "2022-05-25T11:14:33.248Z"
   },
   {
    "duration": 22,
    "start_time": "2022-05-25T11:15:02.103Z"
   },
   {
    "duration": 73,
    "start_time": "2022-05-25T11:15:09.832Z"
   },
   {
    "duration": 226,
    "start_time": "2022-05-25T11:18:34.039Z"
   },
   {
    "duration": 219,
    "start_time": "2022-05-25T11:22:52.087Z"
   },
   {
    "duration": 214,
    "start_time": "2022-05-25T11:23:23.302Z"
   },
   {
    "duration": 1232,
    "start_time": "2022-05-25T11:31:12.765Z"
   },
   {
    "duration": 79,
    "start_time": "2022-05-25T11:31:13.999Z"
   },
   {
    "duration": 900,
    "start_time": "2022-05-25T11:31:14.080Z"
   },
   {
    "duration": 1526,
    "start_time": "2022-05-25T11:31:14.982Z"
   },
   {
    "duration": 56,
    "start_time": "2022-05-25T11:31:16.509Z"
   },
   {
    "duration": 1124,
    "start_time": "2022-05-25T11:31:16.572Z"
   },
   {
    "duration": 252,
    "start_time": "2022-05-25T11:31:17.698Z"
   },
   {
    "duration": 44,
    "start_time": "2022-05-25T11:31:17.952Z"
   },
   {
    "duration": 47,
    "start_time": "2022-05-25T11:31:17.997Z"
   },
   {
    "duration": 56,
    "start_time": "2022-05-25T11:31:18.046Z"
   },
   {
    "duration": 45,
    "start_time": "2022-05-25T11:31:18.104Z"
   },
   {
    "duration": 47,
    "start_time": "2022-05-25T11:31:18.150Z"
   },
   {
    "duration": 112,
    "start_time": "2022-05-25T11:31:18.199Z"
   },
   {
    "duration": 1104,
    "start_time": "2022-05-25T11:31:18.313Z"
   },
   {
    "duration": 92,
    "start_time": "2022-05-25T11:31:19.419Z"
   },
   {
    "duration": 4,
    "start_time": "2022-05-25T11:31:19.513Z"
   },
   {
    "duration": 542,
    "start_time": "2022-05-25T11:31:19.518Z"
   },
   {
    "duration": 26,
    "start_time": "2022-05-25T11:31:20.064Z"
   },
   {
    "duration": 237,
    "start_time": "2022-05-25T11:31:20.091Z"
   },
   {
    "duration": 7,
    "start_time": "2022-05-25T11:31:20.330Z"
   },
   {
    "duration": 41,
    "start_time": "2022-05-25T11:31:20.339Z"
   },
   {
    "duration": 349,
    "start_time": "2022-05-25T11:31:20.382Z"
   },
   {
    "duration": 15,
    "start_time": "2022-05-25T11:42:55.897Z"
   },
   {
    "duration": 127,
    "start_time": "2022-05-25T11:43:15.959Z"
   },
   {
    "duration": 96,
    "start_time": "2022-05-25T11:43:38.952Z"
   },
   {
    "duration": 8,
    "start_time": "2022-05-25T11:44:11.383Z"
   },
   {
    "duration": 10,
    "start_time": "2022-05-25T11:44:27.096Z"
   },
   {
    "duration": 82,
    "start_time": "2022-05-25T11:44:52.016Z"
   },
   {
    "duration": 336,
    "start_time": "2022-05-25T11:45:10.384Z"
   },
   {
    "duration": 12,
    "start_time": "2022-05-25T11:46:19.905Z"
   },
   {
    "duration": 90,
    "start_time": "2022-05-25T11:46:23.025Z"
   },
   {
    "duration": 11,
    "start_time": "2022-05-25T11:48:07.216Z"
   },
   {
    "duration": 84,
    "start_time": "2022-05-25T11:48:10.145Z"
   },
   {
    "duration": 1254,
    "start_time": "2022-05-25T11:48:49.406Z"
   },
   {
    "duration": 82,
    "start_time": "2022-05-25T11:48:50.664Z"
   },
   {
    "duration": 1009,
    "start_time": "2022-05-25T11:48:50.748Z"
   },
   {
    "duration": 1698,
    "start_time": "2022-05-25T11:48:51.759Z"
   },
   {
    "duration": 54,
    "start_time": "2022-05-25T11:48:53.465Z"
   },
   {
    "duration": 1121,
    "start_time": "2022-05-25T11:48:53.520Z"
   },
   {
    "duration": 256,
    "start_time": "2022-05-25T11:48:54.643Z"
   },
   {
    "duration": 33,
    "start_time": "2022-05-25T11:48:54.901Z"
   },
   {
    "duration": 46,
    "start_time": "2022-05-25T11:48:54.936Z"
   },
   {
    "duration": 32,
    "start_time": "2022-05-25T11:48:54.985Z"
   },
   {
    "duration": 50,
    "start_time": "2022-05-25T11:48:55.019Z"
   },
   {
    "duration": 40,
    "start_time": "2022-05-25T11:48:55.073Z"
   },
   {
    "duration": 100,
    "start_time": "2022-05-25T11:48:55.115Z"
   },
   {
    "duration": 1094,
    "start_time": "2022-05-25T11:48:55.216Z"
   },
   {
    "duration": 94,
    "start_time": "2022-05-25T11:48:56.313Z"
   },
   {
    "duration": 4,
    "start_time": "2022-05-25T11:48:56.408Z"
   },
   {
    "duration": 568,
    "start_time": "2022-05-25T11:48:56.413Z"
   },
   {
    "duration": 22,
    "start_time": "2022-05-25T11:48:56.983Z"
   },
   {
    "duration": 243,
    "start_time": "2022-05-25T11:48:57.007Z"
   },
   {
    "duration": 15,
    "start_time": "2022-05-25T11:48:57.252Z"
   },
   {
    "duration": 26,
    "start_time": "2022-05-25T11:48:57.269Z"
   },
   {
    "duration": 381,
    "start_time": "2022-05-25T11:48:57.296Z"
   },
   {
    "duration": 16,
    "start_time": "2022-05-25T11:48:57.681Z"
   },
   {
    "duration": 11,
    "start_time": "2022-05-25T11:49:31.148Z"
   },
   {
    "duration": 8,
    "start_time": "2022-05-25T11:49:38.517Z"
   },
   {
    "duration": 25,
    "start_time": "2022-05-25T11:49:48.612Z"
   },
   {
    "duration": 21,
    "start_time": "2022-05-25T11:50:19.677Z"
   },
   {
    "duration": 20,
    "start_time": "2022-05-25T11:53:23.038Z"
   },
   {
    "duration": 24,
    "start_time": "2022-05-25T11:53:38.886Z"
   },
   {
    "duration": 31,
    "start_time": "2022-05-25T11:54:00.081Z"
   },
   {
    "duration": 12,
    "start_time": "2022-05-25T11:54:58.958Z"
   },
   {
    "duration": 9,
    "start_time": "2022-05-25T11:55:08.805Z"
   },
   {
    "duration": 10,
    "start_time": "2022-05-25T11:55:59.941Z"
   },
   {
    "duration": 84,
    "start_time": "2022-05-25T11:56:01.581Z"
   },
   {
    "duration": 225,
    "start_time": "2022-05-25T11:58:19.181Z"
   },
   {
    "duration": 89,
    "start_time": "2022-05-25T12:05:46.758Z"
   },
   {
    "duration": 1333,
    "start_time": "2022-05-25T12:13:11.706Z"
   },
   {
    "duration": 83,
    "start_time": "2022-05-25T12:13:13.041Z"
   },
   {
    "duration": 961,
    "start_time": "2022-05-25T12:13:13.127Z"
   },
   {
    "duration": 1849,
    "start_time": "2022-05-25T12:13:14.090Z"
   },
   {
    "duration": 44,
    "start_time": "2022-05-25T12:13:21.501Z"
   },
   {
    "duration": 928,
    "start_time": "2022-05-25T12:13:23.052Z"
   },
   {
    "duration": 207,
    "start_time": "2022-05-25T12:13:37.852Z"
   },
   {
    "duration": 30,
    "start_time": "2022-05-25T12:14:10.877Z"
   },
   {
    "duration": 29,
    "start_time": "2022-05-25T12:14:13.387Z"
   },
   {
    "duration": 30,
    "start_time": "2022-05-25T12:14:18.412Z"
   },
   {
    "duration": 29,
    "start_time": "2022-05-25T12:14:20.500Z"
   },
   {
    "duration": 28,
    "start_time": "2022-05-25T12:14:21.812Z"
   },
   {
    "duration": 106,
    "start_time": "2022-05-25T12:14:27.132Z"
   },
   {
    "duration": 779,
    "start_time": "2022-05-25T12:14:28.677Z"
   },
   {
    "duration": 57,
    "start_time": "2022-05-25T12:14:46.419Z"
   },
   {
    "duration": 3,
    "start_time": "2022-05-25T12:14:56.078Z"
   },
   {
    "duration": 560,
    "start_time": "2022-05-25T12:14:58.419Z"
   },
   {
    "duration": 29,
    "start_time": "2022-05-25T12:15:27.266Z"
   },
   {
    "duration": 241,
    "start_time": "2022-05-25T12:15:31.753Z"
   },
   {
    "duration": 9,
    "start_time": "2022-05-25T12:15:49.446Z"
   },
   {
    "duration": 22,
    "start_time": "2022-05-25T12:15:51.477Z"
   },
   {
    "duration": 227,
    "start_time": "2022-05-25T12:15:56.430Z"
   },
   {
    "duration": 15,
    "start_time": "2022-05-25T12:16:26.455Z"
   },
   {
    "duration": 9,
    "start_time": "2022-05-25T12:16:31.702Z"
   },
   {
    "duration": 9,
    "start_time": "2022-05-25T12:16:34.550Z"
   },
   {
    "duration": 7,
    "start_time": "2022-05-25T12:17:04.750Z"
   },
   {
    "duration": 11,
    "start_time": "2022-05-25T12:17:08.882Z"
   },
   {
    "duration": 50,
    "start_time": "2022-05-25T12:17:09.885Z"
   },
   {
    "duration": 1271,
    "start_time": "2022-05-25T12:35:46.556Z"
   },
   {
    "duration": 142,
    "start_time": "2022-05-25T12:35:47.829Z"
   },
   {
    "duration": 1025,
    "start_time": "2022-05-25T12:35:47.973Z"
   },
   {
    "duration": 1551,
    "start_time": "2022-05-25T12:35:49.000Z"
   },
   {
    "duration": 56,
    "start_time": "2022-05-25T12:35:50.553Z"
   },
   {
    "duration": 845,
    "start_time": "2022-05-25T12:35:50.611Z"
   },
   {
    "duration": 210,
    "start_time": "2022-05-25T12:35:51.458Z"
   },
   {
    "duration": 33,
    "start_time": "2022-05-25T12:35:51.671Z"
   },
   {
    "duration": 46,
    "start_time": "2022-05-25T12:35:51.706Z"
   },
   {
    "duration": 53,
    "start_time": "2022-05-25T12:35:51.754Z"
   },
   {
    "duration": 39,
    "start_time": "2022-05-25T12:35:51.809Z"
   },
   {
    "duration": 46,
    "start_time": "2022-05-25T12:35:51.850Z"
   },
   {
    "duration": 101,
    "start_time": "2022-05-25T12:35:51.897Z"
   },
   {
    "duration": 820,
    "start_time": "2022-05-25T12:35:52.001Z"
   },
   {
    "duration": 66,
    "start_time": "2022-05-25T12:35:52.823Z"
   },
   {
    "duration": 4,
    "start_time": "2022-05-25T12:35:52.890Z"
   },
   {
    "duration": 552,
    "start_time": "2022-05-25T12:35:52.895Z"
   },
   {
    "duration": 36,
    "start_time": "2022-05-25T12:35:53.449Z"
   },
   {
    "duration": 256,
    "start_time": "2022-05-25T12:35:53.487Z"
   },
   {
    "duration": 7,
    "start_time": "2022-05-25T12:35:53.745Z"
   },
   {
    "duration": 31,
    "start_time": "2022-05-25T12:35:53.764Z"
   },
   {
    "duration": 237,
    "start_time": "2022-05-25T12:35:53.797Z"
   },
   {
    "duration": 13,
    "start_time": "2022-05-25T12:35:54.035Z"
   },
   {
    "duration": 23,
    "start_time": "2022-05-25T12:35:54.050Z"
   },
   {
    "duration": 17,
    "start_time": "2022-05-25T12:35:54.076Z"
   },
   {
    "duration": 55,
    "start_time": "2022-05-25T12:35:54.095Z"
   },
   {
    "duration": 1345,
    "start_time": "2022-05-26T07:49:14.170Z"
   },
   {
    "duration": 4,
    "start_time": "2022-05-26T07:49:15.517Z"
   },
   {
    "duration": 2675,
    "start_time": "2022-05-26T07:49:15.522Z"
   },
   {
    "duration": 1326,
    "start_time": "2022-05-26T07:49:18.198Z"
   },
   {
    "duration": 49,
    "start_time": "2022-05-26T07:49:19.526Z"
   },
   {
    "duration": 729,
    "start_time": "2022-05-26T07:49:19.576Z"
   },
   {
    "duration": 169,
    "start_time": "2022-05-26T07:49:20.307Z"
   },
   {
    "duration": 27,
    "start_time": "2022-05-26T07:49:20.477Z"
   },
   {
    "duration": 26,
    "start_time": "2022-05-26T07:49:20.505Z"
   },
   {
    "duration": 47,
    "start_time": "2022-05-26T07:49:20.532Z"
   },
   {
    "duration": 29,
    "start_time": "2022-05-26T07:49:20.581Z"
   },
   {
    "duration": 26,
    "start_time": "2022-05-26T07:49:20.612Z"
   },
   {
    "duration": 86,
    "start_time": "2022-05-26T07:49:20.639Z"
   },
   {
    "duration": 691,
    "start_time": "2022-05-26T07:49:20.728Z"
   },
   {
    "duration": 54,
    "start_time": "2022-05-26T07:49:21.421Z"
   },
   {
    "duration": 3,
    "start_time": "2022-05-26T07:49:21.477Z"
   },
   {
    "duration": 479,
    "start_time": "2022-05-26T07:49:21.481Z"
   },
   {
    "duration": 26,
    "start_time": "2022-05-26T07:49:21.962Z"
   },
   {
    "duration": 206,
    "start_time": "2022-05-26T07:49:21.991Z"
   },
   {
    "duration": 9,
    "start_time": "2022-05-26T07:49:22.199Z"
   },
   {
    "duration": 22,
    "start_time": "2022-05-26T07:49:22.209Z"
   },
   {
    "duration": 212,
    "start_time": "2022-05-26T07:49:22.234Z"
   },
   {
    "duration": 11,
    "start_time": "2022-05-26T07:49:22.448Z"
   },
   {
    "duration": 18,
    "start_time": "2022-05-26T07:49:22.461Z"
   },
   {
    "duration": 13,
    "start_time": "2022-05-26T07:49:22.480Z"
   },
   {
    "duration": 47,
    "start_time": "2022-05-26T07:49:22.494Z"
   },
   {
    "duration": 15,
    "start_time": "2022-05-26T08:43:40.765Z"
   },
   {
    "duration": 120,
    "start_time": "2022-05-26T08:44:10.375Z"
   },
   {
    "duration": 32,
    "start_time": "2022-05-26T08:44:14.671Z"
   },
   {
    "duration": 25,
    "start_time": "2022-05-26T08:47:11.518Z"
   },
   {
    "duration": 50,
    "start_time": "2022-05-26T08:47:28.261Z"
   },
   {
    "duration": 53,
    "start_time": "2022-05-26T08:48:28.673Z"
   },
   {
    "duration": 75,
    "start_time": "2022-05-26T08:49:07.909Z"
   },
   {
    "duration": 82,
    "start_time": "2022-05-26T08:49:40.968Z"
   },
   {
    "duration": 158,
    "start_time": "2022-05-26T08:50:40.277Z"
   },
   {
    "duration": 160,
    "start_time": "2022-05-26T08:52:02.784Z"
   },
   {
    "duration": 124,
    "start_time": "2022-05-26T08:59:14.811Z"
   },
   {
    "duration": 3,
    "start_time": "2022-05-26T08:59:30.694Z"
   },
   {
    "duration": 28,
    "start_time": "2022-05-26T08:59:30.700Z"
   },
   {
    "duration": 731,
    "start_time": "2022-05-26T08:59:30.730Z"
   },
   {
    "duration": 1452,
    "start_time": "2022-05-26T08:59:31.462Z"
   },
   {
    "duration": 40,
    "start_time": "2022-05-26T08:59:32.917Z"
   },
   {
    "duration": 768,
    "start_time": "2022-05-26T08:59:32.974Z"
   },
   {
    "duration": 173,
    "start_time": "2022-05-26T08:59:33.743Z"
   },
   {
    "duration": 137,
    "start_time": "2022-05-26T08:59:33.917Z"
   },
   {
    "duration": 96,
    "start_time": "2022-05-26T08:59:34.056Z"
   },
   {
    "duration": 709,
    "start_time": "2022-05-26T08:59:34.153Z"
   },
   {
    "duration": 67,
    "start_time": "2022-05-26T08:59:34.866Z"
   },
   {
    "duration": 5,
    "start_time": "2022-05-26T08:59:34.935Z"
   },
   {
    "duration": 570,
    "start_time": "2022-05-26T08:59:34.942Z"
   },
   {
    "duration": 18,
    "start_time": "2022-05-26T08:59:35.513Z"
   },
   {
    "duration": 206,
    "start_time": "2022-05-26T08:59:35.533Z"
   },
   {
    "duration": 7,
    "start_time": "2022-05-26T08:59:35.741Z"
   },
   {
    "duration": 31,
    "start_time": "2022-05-26T08:59:35.749Z"
   },
   {
    "duration": 199,
    "start_time": "2022-05-26T08:59:35.782Z"
   },
   {
    "duration": 12,
    "start_time": "2022-05-26T08:59:35.982Z"
   },
   {
    "duration": 8,
    "start_time": "2022-05-26T08:59:35.995Z"
   },
   {
    "duration": 9,
    "start_time": "2022-05-26T08:59:36.005Z"
   },
   {
    "duration": 77,
    "start_time": "2022-05-26T08:59:36.016Z"
   },
   {
    "duration": 12,
    "start_time": "2022-05-26T08:59:36.095Z"
   },
   {
    "duration": 167,
    "start_time": "2022-05-26T08:59:36.109Z"
   },
   {
    "duration": 11,
    "start_time": "2022-05-26T09:03:31.738Z"
   },
   {
    "duration": 8,
    "start_time": "2022-05-26T09:03:39.530Z"
   },
   {
    "duration": 14,
    "start_time": "2022-05-26T09:04:56.162Z"
   },
   {
    "duration": 6,
    "start_time": "2022-05-26T09:07:58.338Z"
   },
   {
    "duration": 19,
    "start_time": "2022-05-26T09:08:57.626Z"
   },
   {
    "duration": 27,
    "start_time": "2022-05-26T09:09:14.598Z"
   },
   {
    "duration": 25,
    "start_time": "2022-05-26T09:09:19.881Z"
   },
   {
    "duration": 23,
    "start_time": "2022-05-26T09:09:24.057Z"
   },
   {
    "duration": 21,
    "start_time": "2022-05-26T09:09:37.002Z"
   },
   {
    "duration": 20,
    "start_time": "2022-05-26T09:09:51.801Z"
   },
   {
    "duration": 150,
    "start_time": "2022-05-26T09:14:15.028Z"
   },
   {
    "duration": 149,
    "start_time": "2022-05-26T09:14:28.516Z"
   },
   {
    "duration": 218,
    "start_time": "2022-05-26T09:15:46.278Z"
   },
   {
    "duration": 3,
    "start_time": "2022-05-26T09:18:01.480Z"
   },
   {
    "duration": 14,
    "start_time": "2022-05-26T09:18:01.484Z"
   },
   {
    "duration": 782,
    "start_time": "2022-05-26T09:18:01.499Z"
   },
   {
    "duration": 1312,
    "start_time": "2022-05-26T09:18:02.283Z"
   },
   {
    "duration": 33,
    "start_time": "2022-05-26T09:18:03.597Z"
   },
   {
    "duration": 889,
    "start_time": "2022-05-26T09:18:03.632Z"
   },
   {
    "duration": 174,
    "start_time": "2022-05-26T09:18:04.522Z"
   },
   {
    "duration": 223,
    "start_time": "2022-05-26T09:18:04.697Z"
   },
   {
    "duration": 86,
    "start_time": "2022-05-26T09:18:04.922Z"
   },
   {
    "duration": 694,
    "start_time": "2022-05-26T09:18:05.011Z"
   },
   {
    "duration": 53,
    "start_time": "2022-05-26T09:18:05.707Z"
   },
   {
    "duration": 14,
    "start_time": "2022-05-26T09:18:05.761Z"
   },
   {
    "duration": 477,
    "start_time": "2022-05-26T09:18:05.777Z"
   },
   {
    "duration": 25,
    "start_time": "2022-05-26T09:18:06.255Z"
   },
   {
    "duration": 200,
    "start_time": "2022-05-26T09:18:06.282Z"
   },
   {
    "duration": 7,
    "start_time": "2022-05-26T09:18:06.484Z"
   },
   {
    "duration": 22,
    "start_time": "2022-05-26T09:18:06.493Z"
   },
   {
    "duration": 216,
    "start_time": "2022-05-26T09:18:06.517Z"
   },
   {
    "duration": 13,
    "start_time": "2022-05-26T09:18:06.735Z"
   },
   {
    "duration": 25,
    "start_time": "2022-05-26T09:18:06.750Z"
   },
   {
    "duration": 8,
    "start_time": "2022-05-26T09:18:06.777Z"
   },
   {
    "duration": 48,
    "start_time": "2022-05-26T09:18:06.787Z"
   },
   {
    "duration": 10,
    "start_time": "2022-05-26T09:18:06.837Z"
   },
   {
    "duration": 268,
    "start_time": "2022-05-26T09:18:06.850Z"
   },
   {
    "duration": 20,
    "start_time": "2022-05-26T09:18:07.120Z"
   },
   {
    "duration": 12,
    "start_time": "2022-05-26T09:44:22.913Z"
   },
   {
    "duration": 270,
    "start_time": "2022-05-26T09:45:20.129Z"
   },
   {
    "duration": 548,
    "start_time": "2022-05-26T09:47:29.248Z"
   },
   {
    "duration": 274,
    "start_time": "2022-05-26T09:57:59.725Z"
   },
   {
    "duration": 1047,
    "start_time": "2022-05-26T11:16:23.214Z"
   },
   {
    "duration": 65,
    "start_time": "2022-05-26T11:16:24.263Z"
   },
   {
    "duration": 698,
    "start_time": "2022-05-26T11:16:24.329Z"
   },
   {
    "duration": 2048,
    "start_time": "2022-05-26T11:16:25.029Z"
   },
   {
    "duration": 40,
    "start_time": "2022-05-26T11:16:27.078Z"
   },
   {
    "duration": 1183,
    "start_time": "2022-05-26T11:16:27.119Z"
   },
   {
    "duration": 283,
    "start_time": "2022-05-26T11:16:28.304Z"
   },
   {
    "duration": 407,
    "start_time": "2022-05-26T11:16:28.589Z"
   },
   {
    "duration": 123,
    "start_time": "2022-05-26T11:16:28.998Z"
   },
   {
    "duration": 688,
    "start_time": "2022-05-26T11:16:29.123Z"
   },
   {
    "duration": 54,
    "start_time": "2022-05-26T11:16:29.812Z"
   },
   {
    "duration": 4,
    "start_time": "2022-05-26T11:16:29.875Z"
   },
   {
    "duration": 471,
    "start_time": "2022-05-26T11:16:29.880Z"
   },
   {
    "duration": 27,
    "start_time": "2022-05-26T11:16:30.353Z"
   },
   {
    "duration": 210,
    "start_time": "2022-05-26T11:16:30.382Z"
   },
   {
    "duration": 7,
    "start_time": "2022-05-26T11:16:30.594Z"
   },
   {
    "duration": 42,
    "start_time": "2022-05-26T11:16:30.603Z"
   },
   {
    "duration": 225,
    "start_time": "2022-05-26T11:16:30.647Z"
   },
   {
    "duration": 11,
    "start_time": "2022-05-26T11:16:30.875Z"
   },
   {
    "duration": 7,
    "start_time": "2022-05-26T11:16:30.888Z"
   },
   {
    "duration": 25,
    "start_time": "2022-05-26T11:16:30.896Z"
   },
   {
    "duration": 76,
    "start_time": "2022-05-26T11:16:30.922Z"
   },
   {
    "duration": 588,
    "start_time": "2022-05-26T11:16:31.000Z"
   },
   {
    "duration": 269,
    "start_time": "2022-05-26T11:16:31.589Z"
   },
   {
    "duration": 570,
    "start_time": "2022-05-26T11:17:55.835Z"
   },
   {
    "duration": 99,
    "start_time": "2022-05-26T11:21:46.518Z"
   },
   {
    "duration": 11,
    "start_time": "2022-05-26T11:28:40.324Z"
   },
   {
    "duration": 3,
    "start_time": "2022-05-26T11:31:30.107Z"
   },
   {
    "duration": 247,
    "start_time": "2022-05-26T11:40:19.889Z"
   },
   {
    "duration": 151,
    "start_time": "2022-05-26T11:40:50.657Z"
   },
   {
    "duration": 11,
    "start_time": "2022-05-26T11:44:43.009Z"
   },
   {
    "duration": 3,
    "start_time": "2022-05-26T11:45:01.080Z"
   },
   {
    "duration": 154,
    "start_time": "2022-05-26T11:46:21.888Z"
   },
   {
    "duration": 28,
    "start_time": "2022-05-26T11:47:21.457Z"
   },
   {
    "duration": 143,
    "start_time": "2022-05-26T11:47:46.071Z"
   },
   {
    "duration": 51,
    "start_time": "2022-05-26T11:47:56.569Z"
   },
   {
    "duration": 149,
    "start_time": "2022-05-26T11:48:35.128Z"
   },
   {
    "duration": 34,
    "start_time": "2022-05-26T11:49:45.449Z"
   },
   {
    "duration": 145,
    "start_time": "2022-05-26T11:50:07.192Z"
   },
   {
    "duration": 6,
    "start_time": "2022-05-26T11:50:35.857Z"
   },
   {
    "duration": 154,
    "start_time": "2022-05-26T11:50:43.344Z"
   },
   {
    "duration": 153,
    "start_time": "2022-05-26T11:51:32.953Z"
   },
   {
    "duration": 149,
    "start_time": "2022-05-26T11:51:57.239Z"
   },
   {
    "duration": 165,
    "start_time": "2022-05-26T11:52:12.129Z"
   },
   {
    "duration": 155,
    "start_time": "2022-05-26T11:52:24.065Z"
   },
   {
    "duration": 30,
    "start_time": "2022-05-26T13:31:23.762Z"
   },
   {
    "duration": 44612,
    "start_time": "2022-05-26T13:39:36.487Z"
   },
   {
    "duration": 44682,
    "start_time": "2022-05-26T13:45:14.048Z"
   },
   {
    "duration": 2516,
    "start_time": "2022-05-26T13:47:44.624Z"
   },
   {
    "duration": 44314,
    "start_time": "2022-05-26T13:48:09.389Z"
   },
   {
    "duration": 44262,
    "start_time": "2022-05-26T13:50:58.367Z"
   },
   {
    "duration": 3218,
    "start_time": "2022-05-26T13:52:48.046Z"
   },
   {
    "duration": 43480,
    "start_time": "2022-05-26T13:54:56.830Z"
   },
   {
    "duration": 4466,
    "start_time": "2022-05-26T14:14:38.780Z"
   },
   {
    "duration": 1276,
    "start_time": "2022-05-26T14:23:45.776Z"
   },
   {
    "duration": 5,
    "start_time": "2022-05-26T14:23:47.054Z"
   },
   {
    "duration": 2738,
    "start_time": "2022-05-26T14:23:47.060Z"
   },
   {
    "duration": 1526,
    "start_time": "2022-05-26T14:23:49.800Z"
   },
   {
    "duration": 52,
    "start_time": "2022-05-26T14:23:51.327Z"
   },
   {
    "duration": 720,
    "start_time": "2022-05-26T14:23:51.380Z"
   },
   {
    "duration": 168,
    "start_time": "2022-05-26T14:23:52.101Z"
   },
   {
    "duration": 208,
    "start_time": "2022-05-26T14:23:52.275Z"
   },
   {
    "duration": 72,
    "start_time": "2022-05-26T14:23:52.484Z"
   },
   {
    "duration": 748,
    "start_time": "2022-05-26T14:23:52.559Z"
   },
   {
    "duration": 51,
    "start_time": "2022-05-26T14:23:53.308Z"
   },
   {
    "duration": 14,
    "start_time": "2022-05-26T14:23:53.361Z"
   },
   {
    "duration": 452,
    "start_time": "2022-05-26T14:23:53.376Z"
   },
   {
    "duration": 18,
    "start_time": "2022-05-26T14:23:53.829Z"
   },
   {
    "duration": 207,
    "start_time": "2022-05-26T14:23:53.849Z"
   },
   {
    "duration": 7,
    "start_time": "2022-05-26T14:23:54.057Z"
   },
   {
    "duration": 25,
    "start_time": "2022-05-26T14:23:54.065Z"
   },
   {
    "duration": 209,
    "start_time": "2022-05-26T14:23:54.092Z"
   },
   {
    "duration": 12,
    "start_time": "2022-05-26T14:23:54.303Z"
   },
   {
    "duration": 8,
    "start_time": "2022-05-26T14:23:54.317Z"
   },
   {
    "duration": 9,
    "start_time": "2022-05-26T14:23:54.327Z"
   },
   {
    "duration": 75,
    "start_time": "2022-05-26T14:23:54.338Z"
   },
   {
    "duration": 678,
    "start_time": "2022-05-26T14:23:54.415Z"
   },
   {
    "duration": 574,
    "start_time": "2022-05-26T14:23:55.095Z"
   },
   {
    "duration": 109,
    "start_time": "2022-05-26T14:23:55.671Z"
   },
   {
    "duration": 149,
    "start_time": "2022-05-26T14:23:55.781Z"
   },
   {
    "duration": 39990,
    "start_time": "2022-05-26T14:23:55.931Z"
   },
   {
    "duration": 86,
    "start_time": "2022-05-26T14:28:17.706Z"
   },
   {
    "duration": 1264,
    "start_time": "2022-05-26T14:28:31.248Z"
   },
   {
    "duration": 5,
    "start_time": "2022-05-26T14:28:32.514Z"
   },
   {
    "duration": 2856,
    "start_time": "2022-05-26T14:28:32.521Z"
   },
   {
    "duration": 1436,
    "start_time": "2022-05-26T14:28:35.379Z"
   },
   {
    "duration": 48,
    "start_time": "2022-05-26T14:28:36.817Z"
   },
   {
    "duration": 745,
    "start_time": "2022-05-26T14:28:36.875Z"
   },
   {
    "duration": 168,
    "start_time": "2022-05-26T14:28:37.622Z"
   },
   {
    "duration": 222,
    "start_time": "2022-05-26T14:28:37.791Z"
   },
   {
    "duration": 88,
    "start_time": "2022-05-26T14:28:38.015Z"
   },
   {
    "duration": 694,
    "start_time": "2022-05-26T14:28:38.106Z"
   },
   {
    "duration": 52,
    "start_time": "2022-05-26T14:28:38.801Z"
   },
   {
    "duration": 4,
    "start_time": "2022-05-26T14:28:38.854Z"
   },
   {
    "duration": 473,
    "start_time": "2022-05-26T14:28:38.859Z"
   },
   {
    "duration": 20,
    "start_time": "2022-05-26T14:28:39.333Z"
   },
   {
    "duration": 205,
    "start_time": "2022-05-26T14:28:39.355Z"
   },
   {
    "duration": 16,
    "start_time": "2022-05-26T14:28:39.562Z"
   },
   {
    "duration": 28,
    "start_time": "2022-05-26T14:28:39.580Z"
   },
   {
    "duration": 228,
    "start_time": "2022-05-26T14:28:39.609Z"
   },
   {
    "duration": 13,
    "start_time": "2022-05-26T14:28:39.840Z"
   },
   {
    "duration": 22,
    "start_time": "2022-05-26T14:28:39.855Z"
   },
   {
    "duration": 9,
    "start_time": "2022-05-26T14:28:39.879Z"
   },
   {
    "duration": 58,
    "start_time": "2022-05-26T14:28:39.890Z"
   },
   {
    "duration": 697,
    "start_time": "2022-05-26T14:28:39.950Z"
   },
   {
    "duration": 578,
    "start_time": "2022-05-26T14:28:40.648Z"
   },
   {
    "duration": 109,
    "start_time": "2022-05-26T14:28:41.227Z"
   },
   {
    "duration": 150,
    "start_time": "2022-05-26T14:28:41.338Z"
   },
   {
    "duration": 39446,
    "start_time": "2022-05-26T14:28:41.490Z"
   },
   {
    "duration": 1228,
    "start_time": "2022-05-26T14:32:06.101Z"
   },
   {
    "duration": 5,
    "start_time": "2022-05-26T14:32:07.331Z"
   },
   {
    "duration": 2754,
    "start_time": "2022-05-26T14:32:07.338Z"
   },
   {
    "duration": 1345,
    "start_time": "2022-05-26T14:32:10.094Z"
   },
   {
    "duration": 51,
    "start_time": "2022-05-26T14:32:11.441Z"
   },
   {
    "duration": 723,
    "start_time": "2022-05-26T14:32:11.493Z"
   },
   {
    "duration": 171,
    "start_time": "2022-05-26T14:32:12.218Z"
   },
   {
    "duration": 227,
    "start_time": "2022-05-26T14:32:12.391Z"
   },
   {
    "duration": 88,
    "start_time": "2022-05-26T14:32:12.620Z"
   },
   {
    "duration": 727,
    "start_time": "2022-05-26T14:32:12.711Z"
   },
   {
    "duration": 62,
    "start_time": "2022-05-26T14:32:13.439Z"
   },
   {
    "duration": 5,
    "start_time": "2022-05-26T14:32:13.503Z"
   },
   {
    "duration": 475,
    "start_time": "2022-05-26T14:32:13.509Z"
   },
   {
    "duration": 19,
    "start_time": "2022-05-26T14:32:13.986Z"
   },
   {
    "duration": 212,
    "start_time": "2022-05-26T14:32:14.007Z"
   },
   {
    "duration": 8,
    "start_time": "2022-05-26T14:32:14.221Z"
   },
   {
    "duration": 25,
    "start_time": "2022-05-26T14:32:14.230Z"
   },
   {
    "duration": 210,
    "start_time": "2022-05-26T14:32:14.257Z"
   },
   {
    "duration": 13,
    "start_time": "2022-05-26T14:32:14.469Z"
   },
   {
    "duration": 7,
    "start_time": "2022-05-26T14:32:14.484Z"
   },
   {
    "duration": 10,
    "start_time": "2022-05-26T14:32:14.492Z"
   },
   {
    "duration": 50,
    "start_time": "2022-05-26T14:32:14.503Z"
   },
   {
    "duration": 719,
    "start_time": "2022-05-26T14:32:14.555Z"
   },
   {
    "duration": 575,
    "start_time": "2022-05-26T14:32:15.276Z"
   },
   {
    "duration": 109,
    "start_time": "2022-05-26T14:32:15.852Z"
   },
   {
    "duration": 148,
    "start_time": "2022-05-26T14:32:15.962Z"
   },
   {
    "duration": 39926,
    "start_time": "2022-05-26T14:32:16.111Z"
   },
   {
    "duration": 130,
    "start_time": "2022-05-26T14:37:51.205Z"
   },
   {
    "duration": 4,
    "start_time": "2022-05-26T14:39:33.101Z"
   },
   {
    "duration": 54,
    "start_time": "2022-05-26T14:40:10.232Z"
   },
   {
    "duration": 1224,
    "start_time": "2022-05-26T14:40:21.897Z"
   },
   {
    "duration": 4,
    "start_time": "2022-05-26T14:40:23.123Z"
   },
   {
    "duration": 2711,
    "start_time": "2022-05-26T14:40:23.129Z"
   },
   {
    "duration": 1355,
    "start_time": "2022-05-26T14:40:25.842Z"
   },
   {
    "duration": 39,
    "start_time": "2022-05-26T14:40:27.199Z"
   },
   {
    "duration": 747,
    "start_time": "2022-05-26T14:40:27.239Z"
   },
   {
    "duration": 162,
    "start_time": "2022-05-26T14:40:27.988Z"
   },
   {
    "duration": 230,
    "start_time": "2022-05-26T14:40:28.152Z"
   },
   {
    "duration": 73,
    "start_time": "2022-05-26T14:40:28.384Z"
   },
   {
    "duration": 748,
    "start_time": "2022-05-26T14:40:28.459Z"
   },
   {
    "duration": 50,
    "start_time": "2022-05-26T14:40:29.209Z"
   },
   {
    "duration": 14,
    "start_time": "2022-05-26T14:40:29.261Z"
   },
   {
    "duration": 456,
    "start_time": "2022-05-26T14:40:29.276Z"
   },
   {
    "duration": 20,
    "start_time": "2022-05-26T14:40:29.734Z"
   },
   {
    "duration": 232,
    "start_time": "2022-05-26T14:40:29.756Z"
   },
   {
    "duration": 10,
    "start_time": "2022-05-26T14:40:29.989Z"
   },
   {
    "duration": 25,
    "start_time": "2022-05-26T14:40:30.000Z"
   },
   {
    "duration": 209,
    "start_time": "2022-05-26T14:40:30.026Z"
   },
   {
    "duration": 12,
    "start_time": "2022-05-26T14:40:30.237Z"
   },
   {
    "duration": 8,
    "start_time": "2022-05-26T14:40:30.251Z"
   },
   {
    "duration": 11,
    "start_time": "2022-05-26T14:40:30.274Z"
   },
   {
    "duration": 69,
    "start_time": "2022-05-26T14:40:30.287Z"
   },
   {
    "duration": 718,
    "start_time": "2022-05-26T14:40:30.357Z"
   },
   {
    "duration": 566,
    "start_time": "2022-05-26T14:40:31.077Z"
   },
   {
    "duration": 100,
    "start_time": "2022-05-26T14:40:31.644Z"
   },
   {
    "duration": 163,
    "start_time": "2022-05-26T14:40:31.746Z"
   },
   {
    "duration": 40631,
    "start_time": "2022-05-26T14:40:31.911Z"
   },
   {
    "duration": 88,
    "start_time": "2022-05-26T15:46:37.440Z"
   },
   {
    "duration": 1188,
    "start_time": "2022-05-26T15:46:50.219Z"
   },
   {
    "duration": 5,
    "start_time": "2022-05-26T15:46:51.408Z"
   },
   {
    "duration": 2873,
    "start_time": "2022-05-26T15:46:51.415Z"
   },
   {
    "duration": 1370,
    "start_time": "2022-05-26T15:46:54.290Z"
   },
   {
    "duration": 47,
    "start_time": "2022-05-26T15:46:55.662Z"
   },
   {
    "duration": 813,
    "start_time": "2022-05-26T15:46:55.710Z"
   },
   {
    "duration": 179,
    "start_time": "2022-05-26T15:46:56.524Z"
   },
   {
    "duration": 243,
    "start_time": "2022-05-26T15:46:56.705Z"
   },
   {
    "duration": 88,
    "start_time": "2022-05-26T15:46:56.950Z"
   },
   {
    "duration": 676,
    "start_time": "2022-05-26T15:46:57.041Z"
   },
   {
    "duration": 50,
    "start_time": "2022-05-26T15:46:57.719Z"
   },
   {
    "duration": 3,
    "start_time": "2022-05-26T15:46:57.775Z"
   },
   {
    "duration": 463,
    "start_time": "2022-05-26T15:46:57.779Z"
   },
   {
    "duration": 20,
    "start_time": "2022-05-26T15:46:58.243Z"
   },
   {
    "duration": 206,
    "start_time": "2022-05-26T15:46:58.274Z"
   },
   {
    "duration": 7,
    "start_time": "2022-05-26T15:46:58.482Z"
   },
   {
    "duration": 24,
    "start_time": "2022-05-26T15:46:58.490Z"
   },
   {
    "duration": 217,
    "start_time": "2022-05-26T15:46:58.515Z"
   },
   {
    "duration": 12,
    "start_time": "2022-05-26T15:46:58.733Z"
   },
   {
    "duration": 8,
    "start_time": "2022-05-26T15:46:58.746Z"
   },
   {
    "duration": 26,
    "start_time": "2022-05-26T15:46:58.755Z"
   },
   {
    "duration": 49,
    "start_time": "2022-05-26T15:46:58.783Z"
   },
   {
    "duration": 723,
    "start_time": "2022-05-26T15:46:58.833Z"
   },
   {
    "duration": 593,
    "start_time": "2022-05-26T15:46:59.558Z"
   },
   {
    "duration": 109,
    "start_time": "2022-05-26T15:47:00.153Z"
   },
   {
    "duration": 166,
    "start_time": "2022-05-26T15:47:00.264Z"
   },
   {
    "duration": 40139,
    "start_time": "2022-05-26T15:47:00.433Z"
   },
   {
    "duration": 56,
    "start_time": "2022-05-26T15:52:33.499Z"
   },
   {
    "duration": 1175,
    "start_time": "2022-05-26T15:53:23.122Z"
   },
   {
    "duration": 5,
    "start_time": "2022-05-26T15:53:24.298Z"
   },
   {
    "duration": 2786,
    "start_time": "2022-05-26T15:53:24.305Z"
   },
   {
    "duration": 1315,
    "start_time": "2022-05-26T15:53:27.092Z"
   },
   {
    "duration": 40,
    "start_time": "2022-05-26T15:53:28.409Z"
   },
   {
    "duration": 750,
    "start_time": "2022-05-26T15:53:28.451Z"
   },
   {
    "duration": 179,
    "start_time": "2022-05-26T15:53:29.203Z"
   },
   {
    "duration": 227,
    "start_time": "2022-05-26T15:53:29.384Z"
   },
   {
    "duration": 82,
    "start_time": "2022-05-26T15:53:29.612Z"
   },
   {
    "duration": 737,
    "start_time": "2022-05-26T15:53:29.696Z"
   },
   {
    "duration": 57,
    "start_time": "2022-05-26T15:53:30.435Z"
   },
   {
    "duration": 3,
    "start_time": "2022-05-26T15:53:30.494Z"
   },
   {
    "duration": 483,
    "start_time": "2022-05-26T15:53:30.498Z"
   },
   {
    "duration": 22,
    "start_time": "2022-05-26T15:53:30.984Z"
   },
   {
    "duration": 214,
    "start_time": "2022-05-26T15:53:31.007Z"
   },
   {
    "duration": 8,
    "start_time": "2022-05-26T15:53:31.222Z"
   },
   {
    "duration": 35,
    "start_time": "2022-05-26T15:53:31.231Z"
   },
   {
    "duration": 190,
    "start_time": "2022-05-26T15:53:31.267Z"
   },
   {
    "duration": 22,
    "start_time": "2022-05-26T15:53:31.459Z"
   },
   {
    "duration": 8,
    "start_time": "2022-05-26T15:53:31.483Z"
   },
   {
    "duration": 21,
    "start_time": "2022-05-26T15:53:31.492Z"
   },
   {
    "duration": 48,
    "start_time": "2022-05-26T15:53:31.515Z"
   },
   {
    "duration": 713,
    "start_time": "2022-05-26T15:53:31.565Z"
   },
   {
    "duration": 592,
    "start_time": "2022-05-26T15:53:32.280Z"
   },
   {
    "duration": 115,
    "start_time": "2022-05-26T15:53:32.874Z"
   },
   {
    "duration": 154,
    "start_time": "2022-05-26T15:53:32.991Z"
   },
   {
    "duration": 40400,
    "start_time": "2022-05-26T15:53:33.147Z"
   },
   {
    "duration": 3,
    "start_time": "2022-05-26T15:54:13.548Z"
   },
   {
    "duration": 134,
    "start_time": "2022-05-26T15:54:29.244Z"
   },
   {
    "duration": 1550,
    "start_time": "2022-05-26T22:13:58.195Z"
   },
   {
    "duration": 7,
    "start_time": "2022-05-26T22:13:59.748Z"
   },
   {
    "duration": 1200,
    "start_time": "2022-05-26T22:13:59.757Z"
   },
   {
    "duration": 1672,
    "start_time": "2022-05-26T22:14:00.960Z"
   },
   {
    "duration": 44,
    "start_time": "2022-05-26T22:14:02.634Z"
   },
   {
    "duration": 812,
    "start_time": "2022-05-26T22:14:02.680Z"
   },
   {
    "duration": 189,
    "start_time": "2022-05-26T22:14:03.494Z"
   },
   {
    "duration": 308,
    "start_time": "2022-05-26T22:14:03.685Z"
   },
   {
    "duration": 108,
    "start_time": "2022-05-26T22:14:03.995Z"
   },
   {
    "duration": 785,
    "start_time": "2022-05-26T22:14:04.107Z"
   },
   {
    "duration": 68,
    "start_time": "2022-05-26T22:14:04.894Z"
   },
   {
    "duration": 3,
    "start_time": "2022-05-26T22:14:04.964Z"
   },
   {
    "duration": 560,
    "start_time": "2022-05-26T22:14:04.969Z"
   },
   {
    "duration": 22,
    "start_time": "2022-05-26T22:14:05.531Z"
   },
   {
    "duration": 248,
    "start_time": "2022-05-26T22:14:05.555Z"
   },
   {
    "duration": 11,
    "start_time": "2022-05-26T22:14:05.806Z"
   },
   {
    "duration": 24,
    "start_time": "2022-05-26T22:14:05.827Z"
   },
   {
    "duration": 381,
    "start_time": "2022-05-26T22:14:05.853Z"
   },
   {
    "duration": 17,
    "start_time": "2022-05-26T22:14:06.236Z"
   },
   {
    "duration": 10,
    "start_time": "2022-05-26T22:14:06.258Z"
   },
   {
    "duration": 16,
    "start_time": "2022-05-26T22:14:06.270Z"
   },
   {
    "duration": 94,
    "start_time": "2022-05-26T22:14:06.288Z"
   },
   {
    "duration": 715,
    "start_time": "2022-05-26T22:14:06.384Z"
   },
   {
    "duration": 643,
    "start_time": "2022-05-26T22:14:07.101Z"
   },
   {
    "duration": 114,
    "start_time": "2022-05-26T22:14:07.746Z"
   },
   {
    "duration": 189,
    "start_time": "2022-05-26T22:14:07.863Z"
   },
   {
    "duration": 43114,
    "start_time": "2022-05-26T22:14:08.054Z"
   },
   {
    "duration": 1363,
    "start_time": "2022-05-26T22:20:42.028Z"
   },
   {
    "duration": 5,
    "start_time": "2022-05-26T22:20:43.393Z"
   },
   {
    "duration": 1213,
    "start_time": "2022-05-26T22:20:43.399Z"
   },
   {
    "duration": 1601,
    "start_time": "2022-05-26T22:20:44.614Z"
   },
   {
    "duration": 61,
    "start_time": "2022-05-26T22:20:46.218Z"
   },
   {
    "duration": 919,
    "start_time": "2022-05-26T22:20:46.281Z"
   },
   {
    "duration": 210,
    "start_time": "2022-05-26T22:20:47.202Z"
   },
   {
    "duration": 274,
    "start_time": "2022-05-26T22:20:47.414Z"
   },
   {
    "duration": 97,
    "start_time": "2022-05-26T22:20:47.690Z"
   },
   {
    "duration": 813,
    "start_time": "2022-05-26T22:20:47.789Z"
   },
   {
    "duration": 70,
    "start_time": "2022-05-26T22:20:48.604Z"
   },
   {
    "duration": 4,
    "start_time": "2022-05-26T22:20:48.676Z"
   },
   {
    "duration": 544,
    "start_time": "2022-05-26T22:20:48.681Z"
   },
   {
    "duration": 33,
    "start_time": "2022-05-26T22:20:49.229Z"
   },
   {
    "duration": 248,
    "start_time": "2022-05-26T22:20:49.265Z"
   },
   {
    "duration": 27,
    "start_time": "2022-05-26T22:20:49.515Z"
   },
   {
    "duration": 32,
    "start_time": "2022-05-26T22:20:49.544Z"
   },
   {
    "duration": 240,
    "start_time": "2022-05-26T22:20:49.578Z"
   },
   {
    "duration": 24,
    "start_time": "2022-05-26T22:20:49.820Z"
   },
   {
    "duration": 11,
    "start_time": "2022-05-26T22:20:49.846Z"
   },
   {
    "duration": 15,
    "start_time": "2022-05-26T22:20:49.859Z"
   },
   {
    "duration": 87,
    "start_time": "2022-05-26T22:20:49.876Z"
   },
   {
    "duration": 781,
    "start_time": "2022-05-26T22:20:49.964Z"
   },
   {
    "duration": 624,
    "start_time": "2022-05-26T22:20:50.747Z"
   },
   {
    "duration": 113,
    "start_time": "2022-05-26T22:20:51.373Z"
   },
   {
    "duration": 186,
    "start_time": "2022-05-26T22:20:51.488Z"
   },
   {
    "duration": 45034,
    "start_time": "2022-05-26T22:20:51.675Z"
   },
   {
    "duration": 1625,
    "start_time": "2022-05-27T18:05:24.084Z"
   },
   {
    "duration": 5,
    "start_time": "2022-05-27T18:05:25.711Z"
   },
   {
    "duration": 4190,
    "start_time": "2022-05-27T18:05:25.718Z"
   },
   {
    "duration": 1880,
    "start_time": "2022-05-27T18:05:29.910Z"
   },
   {
    "duration": 52,
    "start_time": "2022-05-27T18:05:31.793Z"
   },
   {
    "duration": 993,
    "start_time": "2022-05-27T18:05:31.847Z"
   },
   {
    "duration": 256,
    "start_time": "2022-05-27T18:05:32.844Z"
   },
   {
    "duration": 317,
    "start_time": "2022-05-27T18:05:33.101Z"
   },
   {
    "duration": 118,
    "start_time": "2022-05-27T18:05:33.419Z"
   },
   {
    "duration": 909,
    "start_time": "2022-05-27T18:05:33.541Z"
   },
   {
    "duration": 67,
    "start_time": "2022-05-27T18:05:34.452Z"
   },
   {
    "duration": 5,
    "start_time": "2022-05-27T18:05:34.522Z"
   },
   {
    "duration": 645,
    "start_time": "2022-05-27T18:05:34.529Z"
   },
   {
    "duration": 20,
    "start_time": "2022-05-27T18:05:35.185Z"
   },
   {
    "duration": 276,
    "start_time": "2022-05-27T18:05:35.206Z"
   },
   {
    "duration": 7,
    "start_time": "2022-05-27T18:05:35.484Z"
   },
   {
    "duration": 22,
    "start_time": "2022-05-27T18:05:35.493Z"
   },
   {
    "duration": 425,
    "start_time": "2022-05-27T18:05:35.516Z"
   },
   {
    "duration": 18,
    "start_time": "2022-05-27T18:05:35.943Z"
   },
   {
    "duration": 27,
    "start_time": "2022-05-27T18:05:35.962Z"
   },
   {
    "duration": 9,
    "start_time": "2022-05-27T18:05:35.990Z"
   },
   {
    "duration": 78,
    "start_time": "2022-05-27T18:05:36.001Z"
   },
   {
    "duration": 774,
    "start_time": "2022-05-27T18:05:36.082Z"
   },
   {
    "duration": 831,
    "start_time": "2022-05-27T18:05:36.858Z"
   },
   {
    "duration": 109,
    "start_time": "2022-05-27T18:05:37.690Z"
   },
   {
    "duration": 208,
    "start_time": "2022-05-27T18:05:37.802Z"
   },
   {
    "duration": 50813,
    "start_time": "2022-05-27T18:05:38.011Z"
   },
   {
    "duration": 14589,
    "start_time": "2022-05-27T18:07:12.298Z"
   },
   {
    "duration": 431844,
    "start_time": "2022-05-27T18:08:10.930Z"
   },
   {
    "duration": 9,
    "start_time": "2022-05-27T18:18:36.762Z"
   },
   {
    "duration": 234,
    "start_time": "2022-05-27T18:42:07.989Z"
   },
   {
    "duration": 36,
    "start_time": "2022-05-27T18:42:16.076Z"
   },
   {
    "duration": 70163,
    "start_time": "2022-05-27T18:42:22.981Z"
   },
   {
    "duration": 310,
    "start_time": "2022-05-27T19:35:09.533Z"
   },
   {
    "duration": 88,
    "start_time": "2022-05-27T19:40:56.371Z"
   },
   {
    "duration": 1520,
    "start_time": "2022-05-27T19:41:14.887Z"
   },
   {
    "duration": 6,
    "start_time": "2022-05-27T19:41:16.410Z"
   },
   {
    "duration": 3286,
    "start_time": "2022-05-27T19:41:16.417Z"
   },
   {
    "duration": 1652,
    "start_time": "2022-05-27T19:41:19.704Z"
   },
   {
    "duration": 49,
    "start_time": "2022-05-27T19:41:21.359Z"
   },
   {
    "duration": 895,
    "start_time": "2022-05-27T19:41:21.410Z"
   },
   {
    "duration": 218,
    "start_time": "2022-05-27T19:41:22.307Z"
   },
   {
    "duration": 268,
    "start_time": "2022-05-27T19:41:22.527Z"
   },
   {
    "duration": 98,
    "start_time": "2022-05-27T19:41:22.797Z"
   },
   {
    "duration": 809,
    "start_time": "2022-05-27T19:41:22.896Z"
   },
   {
    "duration": 59,
    "start_time": "2022-05-27T19:41:23.707Z"
   },
   {
    "duration": 4,
    "start_time": "2022-05-27T19:41:23.768Z"
   },
   {
    "duration": 527,
    "start_time": "2022-05-27T19:41:23.773Z"
   },
   {
    "duration": 24,
    "start_time": "2022-05-27T19:41:24.303Z"
   },
   {
    "duration": 234,
    "start_time": "2022-05-27T19:41:24.328Z"
   },
   {
    "duration": 7,
    "start_time": "2022-05-27T19:41:24.564Z"
   },
   {
    "duration": 29,
    "start_time": "2022-05-27T19:41:24.573Z"
   },
   {
    "duration": 332,
    "start_time": "2022-05-27T19:41:24.604Z"
   },
   {
    "duration": 22,
    "start_time": "2022-05-27T19:41:24.937Z"
   },
   {
    "duration": 11,
    "start_time": "2022-05-27T19:41:24.961Z"
   },
   {
    "duration": 9,
    "start_time": "2022-05-27T19:41:24.974Z"
   },
   {
    "duration": 69,
    "start_time": "2022-05-27T19:41:24.985Z"
   },
   {
    "duration": 654,
    "start_time": "2022-05-27T19:41:25.056Z"
   },
   {
    "duration": 643,
    "start_time": "2022-05-27T19:41:25.712Z"
   },
   {
    "duration": 110,
    "start_time": "2022-05-27T19:41:26.357Z"
   },
   {
    "duration": 157,
    "start_time": "2022-05-27T19:41:26.468Z"
   },
   {
    "duration": 42695,
    "start_time": "2022-05-27T19:41:26.626Z"
   },
   {
    "duration": 83,
    "start_time": "2022-05-27T19:47:17.512Z"
   },
   {
    "duration": 1467,
    "start_time": "2022-05-27T19:47:24.156Z"
   },
   {
    "duration": 79,
    "start_time": "2022-05-27T19:47:31.599Z"
   },
   {
    "duration": 3,
    "start_time": "2022-05-27T19:47:51.399Z"
   },
   {
    "duration": 9,
    "start_time": "2022-05-27T19:47:51.405Z"
   },
   {
    "duration": 2945,
    "start_time": "2022-05-27T19:47:51.416Z"
   },
   {
    "duration": 1447,
    "start_time": "2022-05-27T19:47:54.363Z"
   },
   {
    "duration": 53,
    "start_time": "2022-05-27T19:47:55.812Z"
   },
   {
    "duration": 830,
    "start_time": "2022-05-27T19:47:55.867Z"
   },
   {
    "duration": 218,
    "start_time": "2022-05-27T19:47:56.699Z"
   },
   {
    "duration": 312,
    "start_time": "2022-05-27T19:47:56.920Z"
   },
   {
    "duration": 88,
    "start_time": "2022-05-27T19:47:57.240Z"
   },
   {
    "duration": 763,
    "start_time": "2022-05-27T19:47:57.330Z"
   },
   {
    "duration": 63,
    "start_time": "2022-05-27T19:47:58.096Z"
   },
   {
    "duration": 4,
    "start_time": "2022-05-27T19:47:58.160Z"
   },
   {
    "duration": 503,
    "start_time": "2022-05-27T19:47:58.165Z"
   },
   {
    "duration": 20,
    "start_time": "2022-05-27T19:47:58.670Z"
   },
   {
    "duration": 236,
    "start_time": "2022-05-27T19:47:58.692Z"
   },
   {
    "duration": 24,
    "start_time": "2022-05-27T19:47:58.930Z"
   },
   {
    "duration": 20,
    "start_time": "2022-05-27T19:47:58.955Z"
   },
   {
    "duration": 330,
    "start_time": "2022-05-27T19:47:58.976Z"
   },
   {
    "duration": 12,
    "start_time": "2022-05-27T19:47:59.308Z"
   },
   {
    "duration": 26,
    "start_time": "2022-05-27T19:47:59.322Z"
   },
   {
    "duration": 20,
    "start_time": "2022-05-27T19:47:59.349Z"
   },
   {
    "duration": 54,
    "start_time": "2022-05-27T19:47:59.370Z"
   },
   {
    "duration": 657,
    "start_time": "2022-05-27T19:47:59.426Z"
   },
   {
    "duration": 605,
    "start_time": "2022-05-27T19:48:00.085Z"
   },
   {
    "duration": 110,
    "start_time": "2022-05-27T19:48:00.691Z"
   },
   {
    "duration": 183,
    "start_time": "2022-05-27T19:48:00.803Z"
   },
   {
    "duration": 28518,
    "start_time": "2022-05-27T19:48:07.903Z"
   },
   {
    "duration": 27323,
    "start_time": "2022-05-27T19:49:17.786Z"
   },
   {
    "duration": 68,
    "start_time": "2022-05-27T20:09:35.230Z"
   },
   {
    "duration": 343,
    "start_time": "2022-05-27T20:09:51.953Z"
   },
   {
    "duration": 6858,
    "start_time": "2022-05-27T20:10:48.661Z"
   },
   {
    "duration": 8157,
    "start_time": "2022-05-27T20:30:23.996Z"
   },
   {
    "duration": 79338,
    "start_time": "2022-05-27T20:34:03.236Z"
   },
   {
    "duration": 210,
    "start_time": "2022-05-27T21:13:46.854Z"
   },
   {
    "duration": 1414,
    "start_time": "2022-05-27T21:48:39.477Z"
   },
   {
    "duration": 5,
    "start_time": "2022-05-27T21:48:40.893Z"
   },
   {
    "duration": 895,
    "start_time": "2022-05-27T21:48:40.900Z"
   },
   {
    "duration": 1550,
    "start_time": "2022-05-27T21:48:41.797Z"
   },
   {
    "duration": 51,
    "start_time": "2022-05-27T21:48:43.349Z"
   },
   {
    "duration": 810,
    "start_time": "2022-05-27T21:48:43.401Z"
   },
   {
    "duration": 231,
    "start_time": "2022-05-27T21:48:44.213Z"
   },
   {
    "duration": 276,
    "start_time": "2022-05-27T21:48:44.447Z"
   },
   {
    "duration": 111,
    "start_time": "2022-05-27T21:48:44.724Z"
   },
   {
    "duration": 779,
    "start_time": "2022-05-27T21:48:44.836Z"
   },
   {
    "duration": 66,
    "start_time": "2022-05-27T21:48:45.616Z"
   },
   {
    "duration": 4,
    "start_time": "2022-05-27T21:48:45.684Z"
   },
   {
    "duration": 520,
    "start_time": "2022-05-27T21:48:45.689Z"
   },
   {
    "duration": 20,
    "start_time": "2022-05-27T21:48:46.212Z"
   },
   {
    "duration": 252,
    "start_time": "2022-05-27T21:48:46.233Z"
   },
   {
    "duration": 8,
    "start_time": "2022-05-27T21:48:46.487Z"
   },
   {
    "duration": 25,
    "start_time": "2022-05-27T21:48:46.496Z"
   },
   {
    "duration": 398,
    "start_time": "2022-05-27T21:48:46.523Z"
   },
   {
    "duration": 20,
    "start_time": "2022-05-27T21:48:46.923Z"
   },
   {
    "duration": 18,
    "start_time": "2022-05-27T21:48:46.948Z"
   },
   {
    "duration": 25,
    "start_time": "2022-05-27T21:48:46.971Z"
   },
   {
    "duration": 79,
    "start_time": "2022-05-27T21:48:46.998Z"
   },
   {
    "duration": 793,
    "start_time": "2022-05-27T21:48:47.082Z"
   },
   {
    "duration": 627,
    "start_time": "2022-05-27T21:48:47.878Z"
   },
   {
    "duration": 102,
    "start_time": "2022-05-27T21:48:48.507Z"
   },
   {
    "duration": 188,
    "start_time": "2022-05-27T21:48:48.611Z"
   },
   {
    "duration": 46891,
    "start_time": "2022-05-27T21:48:48.801Z"
   },
   {
    "duration": 59469,
    "start_time": "2022-05-27T21:49:35.695Z"
   },
   {
    "duration": 6838,
    "start_time": "2022-05-27T21:50:35.251Z"
   },
   {
    "duration": 64941,
    "start_time": "2022-05-27T21:50:42.090Z"
   },
   {
    "duration": 22243,
    "start_time": "2022-05-27T21:51:47.033Z"
   },
   {
    "duration": 4928,
    "start_time": "2022-05-27T22:00:22.423Z"
   },
   {
    "duration": 27531,
    "start_time": "2022-05-27T22:00:40.632Z"
   },
   {
    "duration": 24597,
    "start_time": "2022-05-27T22:08:35.263Z"
   },
   {
    "duration": 88630,
    "start_time": "2022-05-27T22:10:57.927Z"
   },
   {
    "duration": 57,
    "start_time": "2022-05-28T06:50:59.710Z"
   },
   {
    "duration": 1728,
    "start_time": "2022-05-28T06:51:06.530Z"
   },
   {
    "duration": 4,
    "start_time": "2022-05-28T06:51:17.379Z"
   },
   {
    "duration": 10,
    "start_time": "2022-05-28T06:51:17.388Z"
   },
   {
    "duration": 1103,
    "start_time": "2022-05-28T06:51:17.400Z"
   },
   {
    "duration": 1552,
    "start_time": "2022-05-28T06:51:18.504Z"
   },
   {
    "duration": 42,
    "start_time": "2022-05-28T06:51:20.058Z"
   },
   {
    "duration": 778,
    "start_time": "2022-05-28T06:51:20.102Z"
   },
   {
    "duration": 184,
    "start_time": "2022-05-28T06:51:20.881Z"
   },
   {
    "duration": 224,
    "start_time": "2022-05-28T06:51:21.067Z"
   },
   {
    "duration": 94,
    "start_time": "2022-05-28T06:51:21.293Z"
   },
   {
    "duration": 737,
    "start_time": "2022-05-28T06:51:21.389Z"
   },
   {
    "duration": 54,
    "start_time": "2022-05-28T06:51:22.129Z"
   },
   {
    "duration": 4,
    "start_time": "2022-05-28T06:51:22.185Z"
   },
   {
    "duration": 660,
    "start_time": "2022-05-28T06:51:22.191Z"
   },
   {
    "duration": 29,
    "start_time": "2022-05-28T06:51:22.854Z"
   },
   {
    "duration": 272,
    "start_time": "2022-05-28T06:51:22.886Z"
   },
   {
    "duration": 10,
    "start_time": "2022-05-28T06:51:23.160Z"
   },
   {
    "duration": 28,
    "start_time": "2022-05-28T06:51:23.172Z"
   },
   {
    "duration": 350,
    "start_time": "2022-05-28T06:51:23.202Z"
   },
   {
    "duration": 13,
    "start_time": "2022-05-28T06:51:23.554Z"
   },
   {
    "duration": 8,
    "start_time": "2022-05-28T06:51:23.569Z"
   },
   {
    "duration": 12,
    "start_time": "2022-05-28T06:51:23.578Z"
   },
   {
    "duration": 88,
    "start_time": "2022-05-28T06:51:23.591Z"
   },
   {
    "duration": 662,
    "start_time": "2022-05-28T06:51:23.680Z"
   },
   {
    "duration": 616,
    "start_time": "2022-05-28T06:51:24.343Z"
   },
   {
    "duration": 113,
    "start_time": "2022-05-28T06:51:24.961Z"
   },
   {
    "duration": 160,
    "start_time": "2022-05-28T06:51:25.076Z"
   },
   {
    "duration": 3714,
    "start_time": "2022-05-28T06:51:41.602Z"
   },
   {
    "duration": 4644,
    "start_time": "2022-05-28T06:52:48.875Z"
   },
   {
    "duration": 4369,
    "start_time": "2022-05-28T06:53:22.403Z"
   },
   {
    "duration": 15343,
    "start_time": "2022-05-28T06:56:21.499Z"
   },
   {
    "duration": 19413,
    "start_time": "2022-05-28T07:04:29.914Z"
   },
   {
    "duration": 52999,
    "start_time": "2022-05-28T07:06:58.067Z"
   },
   {
    "duration": 3555,
    "start_time": "2022-05-28T07:11:31.835Z"
   },
   {
    "duration": 754,
    "start_time": "2022-05-28T07:11:40.227Z"
   },
   {
    "duration": 30,
    "start_time": "2022-05-28T07:12:55.091Z"
   },
   {
    "duration": 1387,
    "start_time": "2022-05-28T07:13:59.810Z"
   },
   {
    "duration": 13731,
    "start_time": "2022-05-28T07:14:07.571Z"
   },
   {
    "duration": 16564,
    "start_time": "2022-05-28T07:14:57.763Z"
   },
   {
    "duration": 118,
    "start_time": "2022-05-28T07:15:30.011Z"
   },
   {
    "duration": 53367,
    "start_time": "2022-05-28T07:17:35.227Z"
   },
   {
    "duration": 333,
    "start_time": "2022-05-28T07:18:42.515Z"
   },
   {
    "duration": 4945,
    "start_time": "2022-05-28T07:24:51.379Z"
   },
   {
    "duration": 610,
    "start_time": "2022-05-28T07:25:00.819Z"
   },
   {
    "duration": 615,
    "start_time": "2022-05-28T07:26:19.509Z"
   },
   {
    "duration": 4560,
    "start_time": "2022-05-28T07:26:28.677Z"
   },
   {
    "duration": 547,
    "start_time": "2022-05-28T07:26:56.997Z"
   },
   {
    "duration": 1350,
    "start_time": "2022-05-28T07:27:30.221Z"
   },
   {
    "duration": 5,
    "start_time": "2022-05-28T07:27:31.574Z"
   },
   {
    "duration": 886,
    "start_time": "2022-05-28T07:27:31.580Z"
   },
   {
    "duration": 1393,
    "start_time": "2022-05-28T07:27:32.468Z"
   },
   {
    "duration": 45,
    "start_time": "2022-05-28T07:27:33.864Z"
   },
   {
    "duration": 759,
    "start_time": "2022-05-28T07:27:33.910Z"
   },
   {
    "duration": 171,
    "start_time": "2022-05-28T07:27:34.670Z"
   },
   {
    "duration": 229,
    "start_time": "2022-05-28T07:27:34.843Z"
   },
   {
    "duration": 86,
    "start_time": "2022-05-28T07:27:35.073Z"
   },
   {
    "duration": 694,
    "start_time": "2022-05-28T07:27:35.161Z"
   },
   {
    "duration": 52,
    "start_time": "2022-05-28T07:27:35.856Z"
   },
   {
    "duration": 4,
    "start_time": "2022-05-28T07:27:35.909Z"
   },
   {
    "duration": 487,
    "start_time": "2022-05-28T07:27:35.914Z"
   },
   {
    "duration": 24,
    "start_time": "2022-05-28T07:27:36.404Z"
   },
   {
    "duration": 202,
    "start_time": "2022-05-28T07:27:36.430Z"
   },
   {
    "duration": 7,
    "start_time": "2022-05-28T07:27:36.634Z"
   },
   {
    "duration": 23,
    "start_time": "2022-05-28T07:27:36.643Z"
   },
   {
    "duration": 338,
    "start_time": "2022-05-28T07:27:36.668Z"
   },
   {
    "duration": 18,
    "start_time": "2022-05-28T07:27:37.008Z"
   },
   {
    "duration": 10,
    "start_time": "2022-05-28T07:27:37.028Z"
   },
   {
    "duration": 9,
    "start_time": "2022-05-28T07:27:37.039Z"
   },
   {
    "duration": 76,
    "start_time": "2022-05-28T07:27:37.049Z"
   },
   {
    "duration": 642,
    "start_time": "2022-05-28T07:27:37.127Z"
   },
   {
    "duration": 622,
    "start_time": "2022-05-28T07:27:37.771Z"
   },
   {
    "duration": 108,
    "start_time": "2022-05-28T07:27:38.395Z"
   },
   {
    "duration": 157,
    "start_time": "2022-05-28T07:27:38.505Z"
   },
   {
    "duration": 42049,
    "start_time": "2022-05-28T07:27:38.664Z"
   },
   {
    "duration": 417838,
    "start_time": "2022-05-28T07:28:20.715Z"
   },
   {
    "duration": 17570,
    "start_time": "2022-05-28T07:35:18.555Z"
   },
   {
    "duration": 5846,
    "start_time": "2022-05-28T07:35:36.128Z"
   },
   {
    "duration": 54322,
    "start_time": "2022-05-28T07:35:41.976Z"
   },
   {
    "duration": 4429,
    "start_time": "2022-05-28T07:36:36.300Z"
   },
   {
    "duration": 5699,
    "start_time": "2022-05-28T07:36:40.731Z"
   },
   {
    "duration": 3564,
    "start_time": "2022-05-28T07:36:46.431Z"
   },
   {
    "duration": 760,
    "start_time": "2022-05-28T07:36:49.997Z"
   },
   {
    "duration": 1389,
    "start_time": "2022-05-28T07:36:50.759Z"
   },
   {
    "duration": 1353,
    "start_time": "2022-05-28T07:38:39.204Z"
   },
   {
    "duration": 5,
    "start_time": "2022-05-28T07:38:40.559Z"
   },
   {
    "duration": 1062,
    "start_time": "2022-05-28T07:38:40.565Z"
   },
   {
    "duration": 1474,
    "start_time": "2022-05-28T07:38:41.629Z"
   },
   {
    "duration": 57,
    "start_time": "2022-05-28T07:38:43.104Z"
   },
   {
    "duration": 793,
    "start_time": "2022-05-28T07:38:43.163Z"
   },
   {
    "duration": 183,
    "start_time": "2022-05-28T07:38:43.958Z"
   },
   {
    "duration": 227,
    "start_time": "2022-05-28T07:38:44.143Z"
   },
   {
    "duration": 90,
    "start_time": "2022-05-28T07:38:44.372Z"
   },
   {
    "duration": 713,
    "start_time": "2022-05-28T07:38:44.465Z"
   },
   {
    "duration": 63,
    "start_time": "2022-05-28T07:38:45.180Z"
   },
   {
    "duration": 4,
    "start_time": "2022-05-28T07:38:45.245Z"
   },
   {
    "duration": 483,
    "start_time": "2022-05-28T07:38:45.250Z"
   },
   {
    "duration": 21,
    "start_time": "2022-05-28T07:38:45.735Z"
   },
   {
    "duration": 228,
    "start_time": "2022-05-28T07:38:45.757Z"
   },
   {
    "duration": 8,
    "start_time": "2022-05-28T07:38:45.987Z"
   },
   {
    "duration": 33,
    "start_time": "2022-05-28T07:38:45.996Z"
   },
   {
    "duration": 330,
    "start_time": "2022-05-28T07:38:46.031Z"
   },
   {
    "duration": 12,
    "start_time": "2022-05-28T07:38:46.363Z"
   },
   {
    "duration": 8,
    "start_time": "2022-05-28T07:38:46.377Z"
   },
   {
    "duration": 9,
    "start_time": "2022-05-28T07:38:46.386Z"
   },
   {
    "duration": 69,
    "start_time": "2022-05-28T07:38:46.396Z"
   },
   {
    "duration": 657,
    "start_time": "2022-05-28T07:38:46.466Z"
   },
   {
    "duration": 611,
    "start_time": "2022-05-28T07:38:47.125Z"
   },
   {
    "duration": 111,
    "start_time": "2022-05-28T07:38:47.738Z"
   },
   {
    "duration": 180,
    "start_time": "2022-05-28T07:38:47.850Z"
   },
   {
    "duration": 42537,
    "start_time": "2022-05-28T07:38:48.032Z"
   },
   {
    "duration": 422695,
    "start_time": "2022-05-28T07:39:53.230Z"
   },
   {
    "duration": 17830,
    "start_time": "2022-05-28T07:49:17.798Z"
   },
   {
    "duration": 5956,
    "start_time": "2022-05-28T07:49:35.631Z"
   },
   {
    "duration": 54719,
    "start_time": "2022-05-28T07:49:41.589Z"
   },
   {
    "duration": 8822,
    "start_time": "2022-05-28T07:50:36.309Z"
   },
   {
    "duration": 5208,
    "start_time": "2022-05-28T07:50:45.132Z"
   },
   {
    "duration": 3595,
    "start_time": "2022-05-28T07:51:01.653Z"
   },
   {
    "duration": 778,
    "start_time": "2022-05-28T07:51:05.250Z"
   },
   {
    "duration": 1363,
    "start_time": "2022-05-28T07:51:09.756Z"
   },
   {
    "duration": 1491,
    "start_time": "2022-05-28T07:56:55.508Z"
   },
   {
    "duration": 127,
    "start_time": "2022-05-28T07:57:02.819Z"
   },
   {
    "duration": 5,
    "start_time": "2022-05-28T07:57:12.379Z"
   },
   {
    "duration": 7,
    "start_time": "2022-05-28T07:57:12.386Z"
   },
   {
    "duration": 1188,
    "start_time": "2022-05-28T07:57:12.395Z"
   },
   {
    "duration": 1461,
    "start_time": "2022-05-28T07:57:13.585Z"
   },
   {
    "duration": 44,
    "start_time": "2022-05-28T07:57:15.049Z"
   },
   {
    "duration": 785,
    "start_time": "2022-05-28T07:57:15.095Z"
   },
   {
    "duration": 192,
    "start_time": "2022-05-28T07:57:15.881Z"
   },
   {
    "duration": 252,
    "start_time": "2022-05-28T07:57:16.074Z"
   },
   {
    "duration": 80,
    "start_time": "2022-05-28T07:57:16.328Z"
   },
   {
    "duration": 778,
    "start_time": "2022-05-28T07:57:16.411Z"
   },
   {
    "duration": 60,
    "start_time": "2022-05-28T07:57:17.191Z"
   },
   {
    "duration": 4,
    "start_time": "2022-05-28T07:57:17.252Z"
   },
   {
    "duration": 559,
    "start_time": "2022-05-28T07:57:17.258Z"
   },
   {
    "duration": 24,
    "start_time": "2022-05-28T07:57:17.827Z"
   },
   {
    "duration": 253,
    "start_time": "2022-05-28T07:57:17.859Z"
   },
   {
    "duration": 16,
    "start_time": "2022-05-28T07:57:18.113Z"
   },
   {
    "duration": 21,
    "start_time": "2022-05-28T07:57:18.131Z"
   },
   {
    "duration": 363,
    "start_time": "2022-05-28T07:57:18.154Z"
   },
   {
    "duration": 15,
    "start_time": "2022-05-28T07:57:18.519Z"
   },
   {
    "duration": 9,
    "start_time": "2022-05-28T07:57:18.537Z"
   },
   {
    "duration": 14,
    "start_time": "2022-05-28T07:57:18.548Z"
   },
   {
    "duration": 90,
    "start_time": "2022-05-28T07:57:18.564Z"
   },
   {
    "duration": 790,
    "start_time": "2022-05-28T07:57:18.657Z"
   },
   {
    "duration": 634,
    "start_time": "2022-05-28T07:57:19.449Z"
   },
   {
    "duration": 115,
    "start_time": "2022-05-28T07:57:20.087Z"
   },
   {
    "duration": 162,
    "start_time": "2022-05-28T07:57:20.204Z"
   },
   {
    "duration": 1489,
    "start_time": "2022-05-28T07:57:28.079Z"
   },
   {
    "duration": 13789,
    "start_time": "2022-05-28T07:57:31.487Z"
   },
   {
    "duration": 29579,
    "start_time": "2022-05-28T07:58:38.847Z"
   },
   {
    "duration": 202,
    "start_time": "2022-05-28T07:59:08.429Z"
   },
   {
    "duration": 57822,
    "start_time": "2022-05-28T07:59:21.975Z"
   },
   {
    "duration": 343,
    "start_time": "2022-05-28T08:00:19.799Z"
   },
   {
    "duration": 5983,
    "start_time": "2022-05-28T08:00:20.144Z"
   },
   {
    "duration": 606,
    "start_time": "2022-05-28T08:00:26.129Z"
   },
   {
    "duration": 13,
    "start_time": "2022-05-28T08:10:06.815Z"
   },
   {
    "duration": 11,
    "start_time": "2022-05-28T08:12:29.999Z"
   },
   {
    "duration": 13,
    "start_time": "2022-05-28T08:13:48.247Z"
   },
   {
    "duration": 1474,
    "start_time": "2022-05-28T08:26:30.775Z"
   },
   {
    "duration": 7,
    "start_time": "2022-05-28T08:26:32.251Z"
   },
   {
    "duration": 963,
    "start_time": "2022-05-28T08:26:32.260Z"
   },
   {
    "duration": 1514,
    "start_time": "2022-05-28T08:26:33.226Z"
   },
   {
    "duration": 45,
    "start_time": "2022-05-28T08:26:34.741Z"
   },
   {
    "duration": 784,
    "start_time": "2022-05-28T08:26:34.788Z"
   },
   {
    "duration": 173,
    "start_time": "2022-05-28T08:26:35.573Z"
   },
   {
    "duration": 241,
    "start_time": "2022-05-28T08:26:35.748Z"
   },
   {
    "duration": 96,
    "start_time": "2022-05-28T08:26:35.991Z"
   },
   {
    "duration": 790,
    "start_time": "2022-05-28T08:26:36.090Z"
   },
   {
    "duration": 72,
    "start_time": "2022-05-28T08:26:36.882Z"
   },
   {
    "duration": 5,
    "start_time": "2022-05-28T08:26:36.958Z"
   },
   {
    "duration": 497,
    "start_time": "2022-05-28T08:26:36.965Z"
   },
   {
    "duration": 22,
    "start_time": "2022-05-28T08:26:37.464Z"
   },
   {
    "duration": 226,
    "start_time": "2022-05-28T08:26:37.488Z"
   },
   {
    "duration": 9,
    "start_time": "2022-05-28T08:26:37.716Z"
   },
   {
    "duration": 23,
    "start_time": "2022-05-28T08:26:37.727Z"
   },
   {
    "duration": 357,
    "start_time": "2022-05-28T08:26:37.752Z"
   },
   {
    "duration": 24,
    "start_time": "2022-05-28T08:26:38.111Z"
   },
   {
    "duration": 11,
    "start_time": "2022-05-28T08:26:38.137Z"
   },
   {
    "duration": 10,
    "start_time": "2022-05-28T08:26:38.150Z"
   },
   {
    "duration": 82,
    "start_time": "2022-05-28T08:26:38.162Z"
   },
   {
    "duration": 834,
    "start_time": "2022-05-28T08:26:38.246Z"
   },
   {
    "duration": 629,
    "start_time": "2022-05-28T08:26:39.082Z"
   },
   {
    "duration": 113,
    "start_time": "2022-05-28T08:26:39.712Z"
   },
   {
    "duration": 177,
    "start_time": "2022-05-28T08:26:39.827Z"
   },
   {
    "duration": 43437,
    "start_time": "2022-05-28T08:26:40.006Z"
   },
   {
    "duration": 1434,
    "start_time": "2022-05-28T08:29:22.522Z"
   },
   {
    "duration": 5,
    "start_time": "2022-05-28T08:29:23.959Z"
   },
   {
    "duration": 1062,
    "start_time": "2022-05-28T08:29:23.965Z"
   },
   {
    "duration": 1467,
    "start_time": "2022-05-28T08:29:25.030Z"
   },
   {
    "duration": 51,
    "start_time": "2022-05-28T08:29:26.499Z"
   },
   {
    "duration": 775,
    "start_time": "2022-05-28T08:29:26.551Z"
   },
   {
    "duration": 188,
    "start_time": "2022-05-28T08:29:27.328Z"
   },
   {
    "duration": 239,
    "start_time": "2022-05-28T08:29:27.518Z"
   },
   {
    "duration": 93,
    "start_time": "2022-05-28T08:29:27.759Z"
   },
   {
    "duration": 733,
    "start_time": "2022-05-28T08:29:27.856Z"
   },
   {
    "duration": 60,
    "start_time": "2022-05-28T08:29:28.591Z"
   },
   {
    "duration": 3,
    "start_time": "2022-05-28T08:29:28.653Z"
   },
   {
    "duration": 571,
    "start_time": "2022-05-28T08:29:28.658Z"
   },
   {
    "duration": 26,
    "start_time": "2022-05-28T08:29:29.231Z"
   },
   {
    "duration": 270,
    "start_time": "2022-05-28T08:29:29.259Z"
   },
   {
    "duration": 9,
    "start_time": "2022-05-28T08:29:29.531Z"
   },
   {
    "duration": 23,
    "start_time": "2022-05-28T08:29:29.542Z"
   },
   {
    "duration": 363,
    "start_time": "2022-05-28T08:29:29.567Z"
   },
   {
    "duration": 15,
    "start_time": "2022-05-28T08:29:29.932Z"
   },
   {
    "duration": 11,
    "start_time": "2022-05-28T08:29:29.949Z"
   },
   {
    "duration": 12,
    "start_time": "2022-05-28T08:29:29.961Z"
   },
   {
    "duration": 102,
    "start_time": "2022-05-28T08:29:29.974Z"
   },
   {
    "duration": 678,
    "start_time": "2022-05-28T08:29:30.078Z"
   },
   {
    "duration": 613,
    "start_time": "2022-05-28T08:29:30.757Z"
   },
   {
    "duration": 113,
    "start_time": "2022-05-28T08:29:31.372Z"
   },
   {
    "duration": 173,
    "start_time": "2022-05-28T08:29:31.486Z"
   },
   {
    "duration": 41352,
    "start_time": "2022-05-28T08:29:31.660Z"
   },
   {
    "duration": 147658,
    "start_time": "2022-05-28T08:30:13.015Z"
   },
   {
    "duration": 18763,
    "start_time": "2022-05-28T08:32:40.674Z"
   },
   {
    "duration": 6668,
    "start_time": "2022-05-28T08:32:59.438Z"
   },
   {
    "duration": 54311,
    "start_time": "2022-05-28T08:33:06.108Z"
   },
   {
    "duration": 195225,
    "start_time": "2022-05-28T08:34:00.423Z"
   },
   {
    "duration": 34381,
    "start_time": "2022-05-28T08:37:15.650Z"
   },
   {
    "duration": 3621,
    "start_time": "2022-05-28T08:37:50.033Z"
   },
   {
    "duration": 775,
    "start_time": "2022-05-28T08:37:53.656Z"
   },
   {
    "duration": 1409,
    "start_time": "2022-05-28T08:37:54.432Z"
   },
   {
    "duration": 14044,
    "start_time": "2022-05-28T08:37:55.843Z"
   },
   {
    "duration": 20940,
    "start_time": "2022-05-28T08:38:09.889Z"
   },
   {
    "duration": 197,
    "start_time": "2022-05-28T08:38:30.831Z"
   },
   {
    "duration": 53272,
    "start_time": "2022-05-28T08:38:31.031Z"
   },
   {
    "duration": 297,
    "start_time": "2022-05-28T08:39:24.305Z"
   },
   {
    "duration": 11233,
    "start_time": "2022-05-28T08:39:24.604Z"
   },
   {
    "duration": 607,
    "start_time": "2022-05-28T08:39:35.923Z"
   },
   {
    "duration": 12,
    "start_time": "2022-05-28T08:39:36.531Z"
   },
   {
    "duration": 12,
    "start_time": "2022-05-28T08:44:15.300Z"
   },
   {
    "duration": 1669,
    "start_time": "2022-05-28T17:31:53.296Z"
   },
   {
    "duration": 4,
    "start_time": "2022-05-28T17:31:54.969Z"
   },
   {
    "duration": 1307,
    "start_time": "2022-05-28T17:31:54.975Z"
   },
   {
    "duration": 1496,
    "start_time": "2022-05-28T17:31:56.284Z"
   },
   {
    "duration": 46,
    "start_time": "2022-05-28T17:31:57.783Z"
   },
   {
    "duration": 792,
    "start_time": "2022-05-28T17:31:57.831Z"
   },
   {
    "duration": 202,
    "start_time": "2022-05-28T17:31:58.625Z"
   },
   {
    "duration": 264,
    "start_time": "2022-05-28T17:31:58.829Z"
   },
   {
    "duration": 88,
    "start_time": "2022-05-28T17:31:59.095Z"
   },
   {
    "duration": 737,
    "start_time": "2022-05-28T17:31:59.185Z"
   },
   {
    "duration": 5,
    "start_time": "2022-05-28T17:33:13.884Z"
   },
   {
    "duration": 6,
    "start_time": "2022-05-28T17:33:16.428Z"
   },
   {
    "duration": 827,
    "start_time": "2022-05-28T17:33:19.740Z"
   },
   {
    "duration": 1384,
    "start_time": "2022-05-28T17:33:21.647Z"
   },
   {
    "duration": 39,
    "start_time": "2022-05-28T17:33:30.857Z"
   },
   {
    "duration": 780,
    "start_time": "2022-05-28T17:33:32.535Z"
   },
   {
    "duration": 5,
    "start_time": "2022-05-28T17:34:07.819Z"
   },
   {
    "duration": 15,
    "start_time": "2022-05-28T17:34:07.826Z"
   },
   {
    "duration": 769,
    "start_time": "2022-05-28T17:34:07.843Z"
   },
   {
    "duration": 1360,
    "start_time": "2022-05-28T17:34:08.614Z"
   },
   {
    "duration": 35,
    "start_time": "2022-05-28T17:34:09.976Z"
   },
   {
    "duration": 903,
    "start_time": "2022-05-28T17:34:10.013Z"
   },
   {
    "duration": 186,
    "start_time": "2022-05-28T17:34:10.917Z"
   },
   {
    "duration": 228,
    "start_time": "2022-05-28T17:34:11.105Z"
   },
   {
    "duration": 88,
    "start_time": "2022-05-28T17:34:11.335Z"
   },
   {
    "duration": 746,
    "start_time": "2022-05-28T17:34:11.425Z"
   },
   {
    "duration": 56,
    "start_time": "2022-05-28T17:34:16.524Z"
   },
   {
    "duration": 4,
    "start_time": "2022-05-28T17:34:29.387Z"
   },
   {
    "duration": 411,
    "start_time": "2022-05-28T17:53:08.324Z"
   },
   {
    "duration": 11,
    "start_time": "2022-05-28T17:54:24.969Z"
   },
   {
    "duration": 13,
    "start_time": "2022-05-28T17:55:28.278Z"
   },
   {
    "duration": 13,
    "start_time": "2022-05-28T17:55:42.056Z"
   },
   {
    "duration": 22,
    "start_time": "2022-05-28T17:56:09.279Z"
   },
   {
    "duration": 54,
    "start_time": "2022-05-28T17:59:53.341Z"
   },
   {
    "duration": 573,
    "start_time": "2022-05-28T18:04:59.717Z"
   },
   {
    "duration": 29,
    "start_time": "2022-05-28T18:05:41.142Z"
   },
   {
    "duration": 611,
    "start_time": "2022-05-28T18:16:05.816Z"
   },
   {
    "duration": 27,
    "start_time": "2022-05-28T18:16:20.437Z"
   },
   {
    "duration": 28,
    "start_time": "2022-05-28T18:16:30.269Z"
   },
   {
    "duration": 562,
    "start_time": "2022-05-28T18:17:02.309Z"
   },
   {
    "duration": 791,
    "start_time": "2022-05-28T18:17:17.420Z"
   },
   {
    "duration": 642,
    "start_time": "2022-05-28T18:17:29.268Z"
   },
   {
    "duration": 492,
    "start_time": "2022-05-28T18:18:55.436Z"
   },
   {
    "duration": 641,
    "start_time": "2022-05-28T18:20:26.348Z"
   },
   {
    "duration": 526,
    "start_time": "2022-05-28T18:20:47.596Z"
   },
   {
    "duration": 19,
    "start_time": "2022-05-28T18:21:04.187Z"
   },
   {
    "duration": 53,
    "start_time": "2022-05-28T18:21:46.280Z"
   },
   {
    "duration": 218,
    "start_time": "2022-05-28T18:24:26.948Z"
   },
   {
    "duration": 226,
    "start_time": "2022-05-28T18:43:53.057Z"
   },
   {
    "duration": 19,
    "start_time": "2022-05-28T18:55:01.420Z"
   },
   {
    "duration": 51,
    "start_time": "2022-05-28T18:55:02.944Z"
   },
   {
    "duration": 6,
    "start_time": "2022-05-28T18:59:53.560Z"
   },
   {
    "duration": 4,
    "start_time": "2022-05-28T19:02:36.353Z"
   },
   {
    "duration": 10,
    "start_time": "2022-05-28T19:02:36.360Z"
   },
   {
    "duration": 682,
    "start_time": "2022-05-28T19:02:36.372Z"
   },
   {
    "duration": 1250,
    "start_time": "2022-05-28T19:02:37.056Z"
   },
   {
    "duration": 32,
    "start_time": "2022-05-28T19:02:38.307Z"
   },
   {
    "duration": 741,
    "start_time": "2022-05-28T19:02:38.341Z"
   },
   {
    "duration": 170,
    "start_time": "2022-05-28T19:02:39.084Z"
   },
   {
    "duration": 214,
    "start_time": "2022-05-28T19:02:39.256Z"
   },
   {
    "duration": 67,
    "start_time": "2022-05-28T19:02:39.471Z"
   },
   {
    "duration": 680,
    "start_time": "2022-05-28T19:02:39.551Z"
   },
   {
    "duration": 64,
    "start_time": "2022-05-28T19:02:40.233Z"
   },
   {
    "duration": 4,
    "start_time": "2022-05-28T19:02:40.299Z"
   },
   {
    "duration": 373,
    "start_time": "2022-05-28T19:02:40.304Z"
   },
   {
    "duration": 11,
    "start_time": "2022-05-28T19:02:40.679Z"
   },
   {
    "duration": 23,
    "start_time": "2022-05-28T19:02:40.692Z"
   },
   {
    "duration": 539,
    "start_time": "2022-05-28T19:02:40.717Z"
   },
   {
    "duration": 21,
    "start_time": "2022-05-28T19:02:41.257Z"
   },
   {
    "duration": 231,
    "start_time": "2022-05-28T19:02:41.279Z"
   },
   {
    "duration": 9,
    "start_time": "2022-05-28T19:02:41.512Z"
   },
   {
    "duration": 37,
    "start_time": "2022-05-28T19:02:41.523Z"
   },
   {
    "duration": 47,
    "start_time": "2022-05-28T19:02:41.562Z"
   },
   {
    "duration": 465,
    "start_time": "2022-05-28T19:03:00.712Z"
   },
   {
    "duration": 503,
    "start_time": "2022-05-28T19:03:24.697Z"
   },
   {
    "duration": 87,
    "start_time": "2022-05-28T19:03:26.424Z"
   },
   {
    "duration": 123,
    "start_time": "2022-05-28T19:03:35.803Z"
   },
   {
    "duration": 32429,
    "start_time": "2022-05-28T19:04:04.492Z"
   },
   {
    "duration": 110018,
    "start_time": "2022-05-28T19:05:31.696Z"
   },
   {
    "duration": 12261,
    "start_time": "2022-05-28T19:09:03.595Z"
   },
   {
    "duration": 5035,
    "start_time": "2022-05-28T19:10:03.590Z"
   },
   {
    "duration": 43919,
    "start_time": "2022-05-28T19:10:18.795Z"
   },
   {
    "duration": 8222,
    "start_time": "2022-05-28T19:13:16.239Z"
   },
   {
    "duration": 4774,
    "start_time": "2022-05-28T19:13:24.684Z"
   },
   {
    "duration": 862,
    "start_time": "2022-05-28T19:14:18.799Z"
   },
   {
    "duration": 539,
    "start_time": "2022-05-28T19:14:23.984Z"
   },
   {
    "duration": 426,
    "start_time": "2022-05-28T19:15:57.680Z"
   },
   {
    "duration": 2738,
    "start_time": "2022-05-28T19:16:00.081Z"
   },
   {
    "duration": 18431,
    "start_time": "2022-05-28T19:17:00.329Z"
   },
   {
    "duration": 197,
    "start_time": "2022-05-28T19:17:18.763Z"
   },
   {
    "duration": 44452,
    "start_time": "2022-05-28T19:18:57.383Z"
   },
   {
    "duration": 286,
    "start_time": "2022-05-28T19:19:41.837Z"
   },
   {
    "duration": 9640,
    "start_time": "2022-05-28T19:19:42.125Z"
   },
   {
    "duration": 601,
    "start_time": "2022-05-28T19:19:51.767Z"
   },
   {
    "duration": 1340,
    "start_time": "2022-05-28T19:25:55.755Z"
   },
   {
    "duration": 6,
    "start_time": "2022-05-28T19:25:57.098Z"
   },
   {
    "duration": 1094,
    "start_time": "2022-05-28T19:25:57.107Z"
   },
   {
    "duration": 1417,
    "start_time": "2022-05-28T19:25:58.203Z"
   },
   {
    "duration": 57,
    "start_time": "2022-05-28T19:25:59.622Z"
   },
   {
    "duration": 852,
    "start_time": "2022-05-28T19:25:59.681Z"
   },
   {
    "duration": 199,
    "start_time": "2022-05-28T19:26:00.535Z"
   },
   {
    "duration": 256,
    "start_time": "2022-05-28T19:26:00.736Z"
   },
   {
    "duration": 94,
    "start_time": "2022-05-28T19:26:00.994Z"
   },
   {
    "duration": 747,
    "start_time": "2022-05-28T19:26:01.091Z"
   },
   {
    "duration": 69,
    "start_time": "2022-05-28T19:26:01.840Z"
   },
   {
    "duration": 5,
    "start_time": "2022-05-28T19:26:01.911Z"
   },
   {
    "duration": 315,
    "start_time": "2022-05-28T19:26:01.919Z"
   },
   {
    "duration": 31,
    "start_time": "2022-05-28T19:26:02.235Z"
   },
   {
    "duration": 33,
    "start_time": "2022-05-28T19:26:02.268Z"
   },
   {
    "duration": 637,
    "start_time": "2022-05-28T19:26:02.303Z"
   },
   {
    "duration": 28,
    "start_time": "2022-05-28T19:26:02.941Z"
   },
   {
    "duration": 239,
    "start_time": "2022-05-28T19:26:02.971Z"
   },
   {
    "duration": 9,
    "start_time": "2022-05-28T19:26:03.211Z"
   },
   {
    "duration": 40,
    "start_time": "2022-05-28T19:26:03.222Z"
   },
   {
    "duration": 47,
    "start_time": "2022-05-28T19:26:03.264Z"
   },
   {
    "duration": 473,
    "start_time": "2022-05-28T19:26:03.312Z"
   },
   {
    "duration": 461,
    "start_time": "2022-05-28T19:26:03.786Z"
   },
   {
    "duration": 96,
    "start_time": "2022-05-28T19:26:04.249Z"
   },
   {
    "duration": 153,
    "start_time": "2022-05-28T19:26:04.353Z"
   },
   {
    "duration": 32654,
    "start_time": "2022-05-28T19:26:04.507Z"
   },
   {
    "duration": 111454,
    "start_time": "2022-05-28T19:26:37.163Z"
   },
   {
    "duration": 11738,
    "start_time": "2022-05-28T19:28:28.620Z"
   },
   {
    "duration": 5463,
    "start_time": "2022-05-28T19:28:40.362Z"
   },
   {
    "duration": 44078,
    "start_time": "2022-05-28T19:28:45.827Z"
   },
   {
    "duration": 4160,
    "start_time": "2022-05-28T19:29:29.907Z"
   },
   {
    "duration": 5184,
    "start_time": "2022-05-28T19:29:34.069Z"
   },
   {
    "duration": 913,
    "start_time": "2022-05-28T19:29:39.255Z"
   },
   {
    "duration": 552,
    "start_time": "2022-05-28T19:29:40.170Z"
   },
   {
    "duration": 400,
    "start_time": "2022-05-28T19:29:40.723Z"
   },
   {
    "duration": 2651,
    "start_time": "2022-05-28T19:29:41.125Z"
   },
   {
    "duration": 11876,
    "start_time": "2022-05-28T19:29:43.778Z"
   },
   {
    "duration": 112,
    "start_time": "2022-05-28T19:29:55.656Z"
   },
   {
    "duration": 44221,
    "start_time": "2022-05-28T19:29:55.771Z"
   },
   {
    "duration": 291,
    "start_time": "2022-05-28T19:30:39.994Z"
   },
   {
    "duration": 4779,
    "start_time": "2022-05-28T19:30:40.286Z"
   },
   {
    "duration": 596,
    "start_time": "2022-05-28T19:30:45.066Z"
   },
   {
    "duration": 14,
    "start_time": "2022-05-28T19:30:45.664Z"
   },
   {
    "duration": 13,
    "start_time": "2022-05-28T19:42:04.758Z"
   },
   {
    "duration": 620,
    "start_time": "2022-05-28T20:12:11.690Z"
   },
   {
    "duration": 636,
    "start_time": "2022-05-28T20:22:13.277Z"
   },
   {
    "duration": 135,
    "start_time": "2022-05-28T20:22:24.881Z"
   },
   {
    "duration": 200,
    "start_time": "2022-05-28T20:22:32.438Z"
   },
   {
    "duration": 5,
    "start_time": "2022-05-28T20:23:28.679Z"
   },
   {
    "duration": 27,
    "start_time": "2022-05-28T20:23:42.069Z"
   },
   {
    "duration": 39,
    "start_time": "2022-05-28T20:23:46.541Z"
   },
   {
    "duration": 3358,
    "start_time": "2022-05-28T20:25:20.693Z"
   },
   {
    "duration": 3565,
    "start_time": "2022-05-28T20:26:48.900Z"
   },
   {
    "duration": 3793,
    "start_time": "2022-05-28T20:27:00.672Z"
   },
   {
    "duration": 3233,
    "start_time": "2022-05-28T20:34:52.090Z"
   },
   {
    "duration": 7,
    "start_time": "2022-05-28T20:34:55.325Z"
   },
   {
    "duration": 779,
    "start_time": "2022-05-28T20:34:55.334Z"
   },
   {
    "duration": 1393,
    "start_time": "2022-05-28T20:34:56.115Z"
   },
   {
    "duration": 56,
    "start_time": "2022-05-28T20:34:57.509Z"
   },
   {
    "duration": 733,
    "start_time": "2022-05-28T20:34:57.567Z"
   },
   {
    "duration": 191,
    "start_time": "2022-05-28T20:34:58.302Z"
   },
   {
    "duration": 203,
    "start_time": "2022-05-28T20:34:58.494Z"
   },
   {
    "duration": 82,
    "start_time": "2022-05-28T20:34:58.699Z"
   },
   {
    "duration": 724,
    "start_time": "2022-05-28T20:34:58.784Z"
   },
   {
    "duration": 60,
    "start_time": "2022-05-28T20:34:59.509Z"
   },
   {
    "duration": 3,
    "start_time": "2022-05-28T20:34:59.571Z"
   },
   {
    "duration": 237,
    "start_time": "2022-05-28T20:34:59.576Z"
   },
   {
    "duration": 11,
    "start_time": "2022-05-28T20:34:59.814Z"
   },
   {
    "duration": 36,
    "start_time": "2022-05-28T20:34:59.827Z"
   },
   {
    "duration": 596,
    "start_time": "2022-05-28T20:34:59.864Z"
   },
   {
    "duration": 19,
    "start_time": "2022-05-28T20:35:00.462Z"
   },
   {
    "duration": 218,
    "start_time": "2022-05-28T20:35:00.483Z"
   },
   {
    "duration": 8,
    "start_time": "2022-05-28T20:35:00.703Z"
   },
   {
    "duration": 20,
    "start_time": "2022-05-28T20:35:00.713Z"
   },
   {
    "duration": 66,
    "start_time": "2022-05-28T20:35:00.734Z"
   },
   {
    "duration": 666,
    "start_time": "2022-05-28T20:35:00.802Z"
   },
   {
    "duration": 3832,
    "start_time": "2022-05-28T20:35:01.470Z"
   },
   {
    "duration": 512,
    "start_time": "2022-05-28T20:35:05.303Z"
   },
   {
    "duration": 451,
    "start_time": "2022-05-28T20:35:05.817Z"
   },
   {
    "duration": 93,
    "start_time": "2022-05-28T20:35:06.269Z"
   },
   {
    "duration": 133,
    "start_time": "2022-05-28T20:35:06.364Z"
   },
   {
    "duration": 32803,
    "start_time": "2022-05-28T20:35:06.500Z"
   },
   {
    "duration": 3283,
    "start_time": "2022-05-28T20:37:49.618Z"
   },
   {
    "duration": 6,
    "start_time": "2022-05-28T20:37:52.904Z"
   },
   {
    "duration": 789,
    "start_time": "2022-05-28T20:37:52.911Z"
   },
   {
    "duration": 1351,
    "start_time": "2022-05-28T20:37:53.702Z"
   },
   {
    "duration": 44,
    "start_time": "2022-05-28T20:37:55.055Z"
   },
   {
    "duration": 802,
    "start_time": "2022-05-28T20:37:55.102Z"
   },
   {
    "duration": 164,
    "start_time": "2022-05-28T20:37:55.906Z"
   },
   {
    "duration": 233,
    "start_time": "2022-05-28T20:37:56.072Z"
   },
   {
    "duration": 85,
    "start_time": "2022-05-28T20:37:56.306Z"
   },
   {
    "duration": 711,
    "start_time": "2022-05-28T20:37:56.393Z"
   },
   {
    "duration": 57,
    "start_time": "2022-05-28T20:37:57.105Z"
   },
   {
    "duration": 3,
    "start_time": "2022-05-28T20:37:57.164Z"
   },
   {
    "duration": 244,
    "start_time": "2022-05-28T20:37:57.169Z"
   },
   {
    "duration": 11,
    "start_time": "2022-05-28T20:37:57.415Z"
   },
   {
    "duration": 33,
    "start_time": "2022-05-28T20:37:57.427Z"
   },
   {
    "duration": 595,
    "start_time": "2022-05-28T20:37:57.462Z"
   },
   {
    "duration": 19,
    "start_time": "2022-05-28T20:37:58.058Z"
   },
   {
    "duration": 230,
    "start_time": "2022-05-28T20:37:58.079Z"
   },
   {
    "duration": 7,
    "start_time": "2022-05-28T20:37:58.311Z"
   },
   {
    "duration": 18,
    "start_time": "2022-05-28T20:37:58.319Z"
   },
   {
    "duration": 57,
    "start_time": "2022-05-28T20:37:58.338Z"
   },
   {
    "duration": 608,
    "start_time": "2022-05-28T20:37:58.397Z"
   },
   {
    "duration": 3812,
    "start_time": "2022-05-28T20:37:59.007Z"
   },
   {
    "duration": 521,
    "start_time": "2022-05-28T20:38:02.821Z"
   },
   {
    "duration": 462,
    "start_time": "2022-05-28T20:38:03.344Z"
   },
   {
    "duration": 93,
    "start_time": "2022-05-28T20:38:03.807Z"
   },
   {
    "duration": 152,
    "start_time": "2022-05-28T20:38:03.902Z"
   },
   {
    "duration": 33622,
    "start_time": "2022-05-28T20:38:04.057Z"
   },
   {
    "duration": 1295,
    "start_time": "2022-05-28T20:38:57.087Z"
   },
   {
    "duration": 5,
    "start_time": "2022-05-28T20:39:00.568Z"
   },
   {
    "duration": 880,
    "start_time": "2022-05-28T20:39:01.851Z"
   },
   {
    "duration": 1433,
    "start_time": "2022-05-28T20:39:02.964Z"
   },
   {
    "duration": 49,
    "start_time": "2022-05-28T20:39:07.579Z"
   },
   {
    "duration": 749,
    "start_time": "2022-05-28T20:39:09.259Z"
   },
   {
    "duration": 160,
    "start_time": "2022-05-28T20:39:11.731Z"
   },
   {
    "duration": 214,
    "start_time": "2022-05-28T20:39:12.795Z"
   },
   {
    "duration": 68,
    "start_time": "2022-05-28T20:39:13.860Z"
   },
   {
    "duration": 728,
    "start_time": "2022-05-28T20:39:14.859Z"
   },
   {
    "duration": 51,
    "start_time": "2022-05-28T20:39:18.819Z"
   },
   {
    "duration": 3,
    "start_time": "2022-05-28T20:39:20.124Z"
   },
   {
    "duration": 222,
    "start_time": "2022-05-28T20:39:21.500Z"
   },
   {
    "duration": 12,
    "start_time": "2022-05-28T20:39:23.268Z"
   },
   {
    "duration": 26,
    "start_time": "2022-05-28T20:39:25.300Z"
   },
   {
    "duration": 1255,
    "start_time": "2022-05-28T20:40:07.115Z"
   },
   {
    "duration": 5,
    "start_time": "2022-05-28T20:40:08.373Z"
   },
   {
    "duration": 742,
    "start_time": "2022-05-28T20:40:08.379Z"
   },
   {
    "duration": 1359,
    "start_time": "2022-05-28T20:40:09.122Z"
   },
   {
    "duration": 46,
    "start_time": "2022-05-28T20:40:10.484Z"
   },
   {
    "duration": 758,
    "start_time": "2022-05-28T20:40:10.532Z"
   },
   {
    "duration": 172,
    "start_time": "2022-05-28T20:40:11.291Z"
   },
   {
    "duration": 201,
    "start_time": "2022-05-28T20:40:11.464Z"
   },
   {
    "duration": 65,
    "start_time": "2022-05-28T20:40:11.666Z"
   },
   {
    "duration": 664,
    "start_time": "2022-05-28T20:40:11.732Z"
   },
   {
    "duration": 59,
    "start_time": "2022-05-28T20:40:12.398Z"
   },
   {
    "duration": 4,
    "start_time": "2022-05-28T20:40:12.458Z"
   },
   {
    "duration": 258,
    "start_time": "2022-05-28T20:40:12.464Z"
   },
   {
    "duration": 11,
    "start_time": "2022-05-28T20:40:12.724Z"
   },
   {
    "duration": 34,
    "start_time": "2022-05-28T20:40:12.737Z"
   },
   {
    "duration": 571,
    "start_time": "2022-05-28T20:40:12.773Z"
   },
   {
    "duration": 23,
    "start_time": "2022-05-28T20:40:13.346Z"
   },
   {
    "duration": 222,
    "start_time": "2022-05-28T20:40:13.371Z"
   },
   {
    "duration": 9,
    "start_time": "2022-05-28T20:40:13.594Z"
   },
   {
    "duration": 20,
    "start_time": "2022-05-28T20:40:13.605Z"
   },
   {
    "duration": 58,
    "start_time": "2022-05-28T20:40:13.627Z"
   },
   {
    "duration": 616,
    "start_time": "2022-05-28T20:40:13.687Z"
   },
   {
    "duration": 3624,
    "start_time": "2022-05-28T20:40:14.305Z"
   },
   {
    "duration": 470,
    "start_time": "2022-05-28T20:40:17.930Z"
   },
   {
    "duration": 450,
    "start_time": "2022-05-28T20:40:18.402Z"
   },
   {
    "duration": 86,
    "start_time": "2022-05-28T20:40:18.854Z"
   },
   {
    "duration": 142,
    "start_time": "2022-05-28T20:40:18.942Z"
   },
   {
    "duration": 31737,
    "start_time": "2022-05-28T20:41:04.673Z"
   },
   {
    "duration": 111151,
    "start_time": "2022-05-28T20:41:45.151Z"
   },
   {
    "duration": 16641,
    "start_time": "2022-05-28T20:56:35.017Z"
   },
   {
    "duration": 5102,
    "start_time": "2022-05-28T20:56:55.653Z"
   },
   {
    "duration": 45873,
    "start_time": "2022-05-28T20:57:04.117Z"
   },
   {
    "duration": 151811,
    "start_time": "2022-05-28T20:57:55.150Z"
   },
   {
    "duration": 275767,
    "start_time": "2022-05-28T21:00:35.714Z"
   },
   {
    "duration": 927,
    "start_time": "2022-05-28T21:05:22.653Z"
   },
   {
    "duration": 543,
    "start_time": "2022-05-28T21:05:25.325Z"
   },
   {
    "duration": 383,
    "start_time": "2022-05-28T21:05:29.606Z"
   },
   {
    "duration": 2600,
    "start_time": "2022-05-28T21:05:35.453Z"
   },
   {
    "duration": 16745,
    "start_time": "2022-05-28T21:05:42.812Z"
   },
   {
    "duration": 119,
    "start_time": "2022-05-28T21:06:01.437Z"
   },
   {
    "duration": 45088,
    "start_time": "2022-05-28T21:06:05.923Z"
   },
   {
    "duration": 257,
    "start_time": "2022-05-28T21:06:56.749Z"
   },
   {
    "duration": 115909,
    "start_time": "2022-05-28T21:07:01.861Z"
   },
   {
    "duration": 514,
    "start_time": "2022-05-28T21:09:05.948Z"
   },
   {
    "duration": 12,
    "start_time": "2022-05-28T21:11:49.603Z"
   }
  ],
  "kernelspec": {
   "display_name": "Python 3 (ipykernel)",
   "language": "python",
   "name": "python3"
  },
  "language_info": {
   "codemirror_mode": {
    "name": "ipython",
    "version": 3
   },
   "file_extension": ".py",
   "mimetype": "text/x-python",
   "name": "python",
   "nbconvert_exporter": "python",
   "pygments_lexer": "ipython3",
   "version": "3.9.7"
  },
  "toc": {
   "base_numbering": 1,
   "nav_menu": {},
   "number_sections": true,
   "sideBar": true,
   "skip_h1_title": true,
   "title_cell": "Table of Contents",
   "title_sidebar": "Contents",
   "toc_cell": false,
   "toc_position": {
    "height": "calc(100% - 180px)",
    "left": "10px",
    "top": "150px",
    "width": "318.683px"
   },
   "toc_section_display": true,
   "toc_window_display": true
  }
 },
 "nbformat": 4,
 "nbformat_minor": 2
}
