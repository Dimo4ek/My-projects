{
 "cells": [
  {
   "cell_type": "markdown",
   "id": "03c3cda4",
   "metadata": {},
   "source": [
    "# Исследование успешности игр"
   ]
  },
  {
   "cell_type": "markdown",
   "id": "d912dc07",
   "metadata": {},
   "source": [
    "**Описание проекта**\n",
    "<br><br>Мы имеем исторические данные о\n",
    "продажах игр, оценки пользователей и экспертов, жанры и платформы\n",
    "(ПК, Xbox, PlayStation и тд). Нужно выявить определяющие успешность\n",
    "игры закономерности. Это позволит сделать ставку на потенциально популярный\n",
    "продукт и спланировать рекламные кампании для продажи игр интернет-магазина на следующий год.\n",
    "<br><br>В наборе данных попадается аббревиатура ESRB (Entertainment Software Rating\n",
    "Board) — это ассоциация, определяющая возрастной рейтинг компьютерных\n",
    "игр. ESRB оценивает игровой контент и присваивает ему подходящую возрастную\n",
    "категорию, например, «Для взрослых», «Для детей младшего возраста» или «Для\n",
    "подростков»."
   ]
  },
  {
   "cell_type": "markdown",
   "id": "03a2e75c",
   "metadata": {},
   "source": [
    "## Изучение данных из файла"
   ]
  },
  {
   "cell_type": "markdown",
   "id": "108a9744",
   "metadata": {},
   "source": [
    "Чтобы изучить данные таблицы, сделать необходимые рассчёты и провести исследование сразу импортируем библиотеки, который нам потребуются в данном проекте:"
   ]
  },
  {
   "cell_type": "code",
   "execution_count": 1,
   "id": "6e6cf5d5",
   "metadata": {},
   "outputs": [],
   "source": [
    "from io import BytesIO # импорт библиотеки BytesIO\n",
    "from scipy import stats as st # импорт библиотеки stats\n",
    "\n",
    "import matplotlib.pyplot as plt # импорт библиотеки matplotlib.pyplot\n",
    "import numpy as np # импорт библиотеки numpy\n",
    "import pandas as pd # импорт библиотеки pandas\n",
    "import requests  # импорт библиотеки requests\n",
    "import seaborn as sns # импорт библиотеки seaborn"
   ]
  },
  {
   "cell_type": "markdown",
   "id": "000eaf0e",
   "metadata": {},
   "source": [
    "Сохраним файл на `Google Sheets` и расшарим его, чтобы он окрывался с любого локального `Jupyter`:"
   ]
  },
  {
   "cell_type": "code",
   "execution_count": 2,
   "id": "ed0dca9b",
   "metadata": {},
   "outputs": [
    {
     "data": {
      "text/html": [
       "<div>\n",
       "<style scoped>\n",
       "    .dataframe tbody tr th:only-of-type {\n",
       "        vertical-align: middle;\n",
       "    }\n",
       "\n",
       "    .dataframe tbody tr th {\n",
       "        vertical-align: top;\n",
       "    }\n",
       "\n",
       "    .dataframe thead th {\n",
       "        text-align: right;\n",
       "    }\n",
       "</style>\n",
       "<table border=\"1\" class=\"dataframe\">\n",
       "  <thead>\n",
       "    <tr style=\"text-align: right;\">\n",
       "      <th></th>\n",
       "      <th>Name</th>\n",
       "      <th>Platform</th>\n",
       "      <th>Year_of_Release</th>\n",
       "      <th>Genre</th>\n",
       "      <th>NA_sales</th>\n",
       "      <th>EU_sales</th>\n",
       "      <th>JP_sales</th>\n",
       "      <th>Other_sales</th>\n",
       "      <th>Critic_Score</th>\n",
       "      <th>User_Score</th>\n",
       "      <th>Rating</th>\n",
       "    </tr>\n",
       "  </thead>\n",
       "  <tbody>\n",
       "    <tr>\n",
       "      <th>0</th>\n",
       "      <td>Wii Sports</td>\n",
       "      <td>Wii</td>\n",
       "      <td>2006.0</td>\n",
       "      <td>Sports</td>\n",
       "      <td>41.36</td>\n",
       "      <td>28.96</td>\n",
       "      <td>3.77</td>\n",
       "      <td>8.45</td>\n",
       "      <td>76.0</td>\n",
       "      <td>8</td>\n",
       "      <td>E</td>\n",
       "    </tr>\n",
       "    <tr>\n",
       "      <th>1</th>\n",
       "      <td>Super Mario Bros.</td>\n",
       "      <td>NES</td>\n",
       "      <td>1985.0</td>\n",
       "      <td>Platform</td>\n",
       "      <td>29.08</td>\n",
       "      <td>3.58</td>\n",
       "      <td>6.81</td>\n",
       "      <td>0.77</td>\n",
       "      <td>NaN</td>\n",
       "      <td>NaN</td>\n",
       "      <td>NaN</td>\n",
       "    </tr>\n",
       "    <tr>\n",
       "      <th>2</th>\n",
       "      <td>Mario Kart Wii</td>\n",
       "      <td>Wii</td>\n",
       "      <td>2008.0</td>\n",
       "      <td>Racing</td>\n",
       "      <td>15.68</td>\n",
       "      <td>12.76</td>\n",
       "      <td>3.79</td>\n",
       "      <td>3.29</td>\n",
       "      <td>82.0</td>\n",
       "      <td>8.3</td>\n",
       "      <td>E</td>\n",
       "    </tr>\n",
       "    <tr>\n",
       "      <th>3</th>\n",
       "      <td>Wii Sports Resort</td>\n",
       "      <td>Wii</td>\n",
       "      <td>2009.0</td>\n",
       "      <td>Sports</td>\n",
       "      <td>15.61</td>\n",
       "      <td>10.93</td>\n",
       "      <td>3.28</td>\n",
       "      <td>2.95</td>\n",
       "      <td>80.0</td>\n",
       "      <td>8</td>\n",
       "      <td>E</td>\n",
       "    </tr>\n",
       "    <tr>\n",
       "      <th>4</th>\n",
       "      <td>Pokemon Red/Pokemon Blue</td>\n",
       "      <td>GB</td>\n",
       "      <td>1996.0</td>\n",
       "      <td>Role-Playing</td>\n",
       "      <td>11.27</td>\n",
       "      <td>8.89</td>\n",
       "      <td>10.22</td>\n",
       "      <td>1.00</td>\n",
       "      <td>NaN</td>\n",
       "      <td>NaN</td>\n",
       "      <td>NaN</td>\n",
       "    </tr>\n",
       "    <tr>\n",
       "      <th>5</th>\n",
       "      <td>Tetris</td>\n",
       "      <td>GB</td>\n",
       "      <td>1989.0</td>\n",
       "      <td>Puzzle</td>\n",
       "      <td>23.20</td>\n",
       "      <td>2.26</td>\n",
       "      <td>4.22</td>\n",
       "      <td>0.58</td>\n",
       "      <td>NaN</td>\n",
       "      <td>NaN</td>\n",
       "      <td>NaN</td>\n",
       "    </tr>\n",
       "    <tr>\n",
       "      <th>6</th>\n",
       "      <td>New Super Mario Bros.</td>\n",
       "      <td>DS</td>\n",
       "      <td>2006.0</td>\n",
       "      <td>Platform</td>\n",
       "      <td>11.28</td>\n",
       "      <td>9.14</td>\n",
       "      <td>6.50</td>\n",
       "      <td>2.88</td>\n",
       "      <td>89.0</td>\n",
       "      <td>8.5</td>\n",
       "      <td>E</td>\n",
       "    </tr>\n",
       "    <tr>\n",
       "      <th>7</th>\n",
       "      <td>Wii Play</td>\n",
       "      <td>Wii</td>\n",
       "      <td>2006.0</td>\n",
       "      <td>Misc</td>\n",
       "      <td>13.96</td>\n",
       "      <td>9.18</td>\n",
       "      <td>2.93</td>\n",
       "      <td>2.84</td>\n",
       "      <td>58.0</td>\n",
       "      <td>6.6</td>\n",
       "      <td>E</td>\n",
       "    </tr>\n",
       "    <tr>\n",
       "      <th>8</th>\n",
       "      <td>New Super Mario Bros. Wii</td>\n",
       "      <td>Wii</td>\n",
       "      <td>2009.0</td>\n",
       "      <td>Platform</td>\n",
       "      <td>14.44</td>\n",
       "      <td>6.94</td>\n",
       "      <td>4.70</td>\n",
       "      <td>2.24</td>\n",
       "      <td>87.0</td>\n",
       "      <td>8.4</td>\n",
       "      <td>E</td>\n",
       "    </tr>\n",
       "    <tr>\n",
       "      <th>9</th>\n",
       "      <td>Duck Hunt</td>\n",
       "      <td>NES</td>\n",
       "      <td>1984.0</td>\n",
       "      <td>Shooter</td>\n",
       "      <td>26.93</td>\n",
       "      <td>0.63</td>\n",
       "      <td>0.28</td>\n",
       "      <td>0.47</td>\n",
       "      <td>NaN</td>\n",
       "      <td>NaN</td>\n",
       "      <td>NaN</td>\n",
       "    </tr>\n",
       "  </tbody>\n",
       "</table>\n",
       "</div>"
      ],
      "text/plain": [
       "                        Name Platform  Year_of_Release         Genre  \\\n",
       "0                 Wii Sports      Wii           2006.0        Sports   \n",
       "1          Super Mario Bros.      NES           1985.0      Platform   \n",
       "2             Mario Kart Wii      Wii           2008.0        Racing   \n",
       "3          Wii Sports Resort      Wii           2009.0        Sports   \n",
       "4   Pokemon Red/Pokemon Blue       GB           1996.0  Role-Playing   \n",
       "5                     Tetris       GB           1989.0        Puzzle   \n",
       "6      New Super Mario Bros.       DS           2006.0      Platform   \n",
       "7                   Wii Play      Wii           2006.0          Misc   \n",
       "8  New Super Mario Bros. Wii      Wii           2009.0      Platform   \n",
       "9                  Duck Hunt      NES           1984.0       Shooter   \n",
       "\n",
       "   NA_sales  EU_sales  JP_sales  Other_sales  Critic_Score User_Score Rating  \n",
       "0     41.36     28.96      3.77         8.45          76.0          8      E  \n",
       "1     29.08      3.58      6.81         0.77           NaN        NaN    NaN  \n",
       "2     15.68     12.76      3.79         3.29          82.0        8.3      E  \n",
       "3     15.61     10.93      3.28         2.95          80.0          8      E  \n",
       "4     11.27      8.89     10.22         1.00           NaN        NaN    NaN  \n",
       "5     23.20      2.26      4.22         0.58           NaN        NaN    NaN  \n",
       "6     11.28      9.14      6.50         2.88          89.0        8.5      E  \n",
       "7     13.96      9.18      2.93         2.84          58.0        6.6      E  \n",
       "8     14.44      6.94      4.70         2.24          87.0        8.4      E  \n",
       "9     26.93      0.63      0.28         0.47           NaN        NaN    NaN  "
      ]
     },
     "execution_count": 2,
     "metadata": {},
     "output_type": "execute_result"
    }
   ],
   "source": [
    "spreadsheet_id = '17kJxwxuAuuKC0c_51BTKxNqd-IQmQK4mpV-lG2Rb7TI'\n",
    "file_name = 'https://docs.google.com/spreadsheets/d/{}/export?format=csv'.format(spreadsheet_id)\n",
    "r = requests.get(file_name)\n",
    "games = pd.read_csv(BytesIO(r.content))# чтение файла с данными и сохранение в df\n",
    "games.head(10)"
   ]
  },
  {
   "cell_type": "markdown",
   "id": "2c54e449",
   "metadata": {},
   "source": [
    "Получим общую информацию о таблице:"
   ]
  },
  {
   "cell_type": "code",
   "execution_count": 3,
   "id": "dc7aa3b8",
   "metadata": {},
   "outputs": [
    {
     "name": "stdout",
     "output_type": "stream",
     "text": [
      "<class 'pandas.core.frame.DataFrame'>\n",
      "RangeIndex: 16715 entries, 0 to 16714\n",
      "Data columns (total 11 columns):\n",
      " #   Column           Non-Null Count  Dtype  \n",
      "---  ------           --------------  -----  \n",
      " 0   Name             16713 non-null  object \n",
      " 1   Platform         16715 non-null  object \n",
      " 2   Year_of_Release  16446 non-null  float64\n",
      " 3   Genre            16713 non-null  object \n",
      " 4   NA_sales         16715 non-null  float64\n",
      " 5   EU_sales         16715 non-null  float64\n",
      " 6   JP_sales         16715 non-null  float64\n",
      " 7   Other_sales      16715 non-null  float64\n",
      " 8   Critic_Score     8137 non-null   float64\n",
      " 9   User_Score       10014 non-null  object \n",
      " 10  Rating           9949 non-null   object \n",
      "dtypes: float64(6), object(5)\n",
      "memory usage: 1.4+ MB\n"
     ]
    }
   ],
   "source": [
    "games.info() # получение общей информации о данных в таблице df"
   ]
  },
  {
   "cell_type": "markdown",
   "id": "08d0ffd6",
   "metadata": {},
   "source": [
    "В таблице 11 столбцов. Типы данных в столбцах — `float`, `object`.\n",
    "\n",
    "Согласно документации к данным:\n",
    "* Name — название игры\n",
    "* Platform — платформа\n",
    "* Year_of_Release — год выпуска\n",
    "* Genre — жанр игры\n",
    "* NA_sales — продажи в Северной Америке (миллионы проданных копий)\n",
    "* EU_sales — продажи в Европе (миллионы проданных копий)\n",
    "* JP_sales — продажи в Японии (миллионы проданных копий)\n",
    "* Other_sales — продажи в других странах (миллионы проданных копий)\n",
    "* Critic_Score — оценка критиков (максимум 100)\n",
    "* User_Score — оценка пользователей (максимум 10)\n",
    "* Rating — рейтинг от организации ESRB (англ. Entertainment Software Rating Board). Эта ассоциация определяет рейтинг компьютерных игр и присваивает им подходящую возрастную категорию.\n",
    "\n",
    "Данные за 2016 год могут быть неполными."
   ]
  },
  {
   "cell_type": "markdown",
   "id": "be2adc2b",
   "metadata": {},
   "source": [
    "**Вывод**\n",
    "<br><br>\n",
    "В каждой строке таблицы — данные об игре, её продажах по регионам и её рейтингах. \n",
    "<br><br>\n",
    "Предварительно можно утверждать, что, данных достаточно для проверки гипотез. Но встречаются пропуски в данных, а в названиях колонок — расхождения с хорошим стилем.\n",
    "<br><br>\n",
    "Чтобы двигаться дальше, нужно устранить проблемы в данных."
   ]
  },
  {
   "cell_type": "markdown",
   "id": "be63b1e3",
   "metadata": {},
   "source": [
    "## Подготовка данных"
   ]
  },
  {
   "cell_type": "markdown",
   "id": "cd1f2d53",
   "metadata": {},
   "source": [
    "Исправим данные и приведём их к пригодному для анализа виду."
   ]
  },
  {
   "cell_type": "markdown",
   "id": "fa1eac34",
   "metadata": {},
   "source": [
    "### Стиль заголовков"
   ]
  },
  {
   "cell_type": "markdown",
   "id": "8155d9ea",
   "metadata": {},
   "source": [
    "Посмотрим названия столбцов:"
   ]
  },
  {
   "cell_type": "code",
   "execution_count": 4,
   "id": "43072d57",
   "metadata": {},
   "outputs": [
    {
     "data": {
      "text/plain": [
       "Index(['Name', 'Platform', 'Year_of_Release', 'Genre', 'NA_sales', 'EU_sales',\n",
       "       'JP_sales', 'Other_sales', 'Critic_Score', 'User_Score', 'Rating'],\n",
       "      dtype='object')"
      ]
     },
     "execution_count": 4,
     "metadata": {},
     "output_type": "execute_result"
    }
   ],
   "source": [
    "games.columns # перечень названий столбцов таблицы"
   ]
  },
  {
   "cell_type": "markdown",
   "id": "58f6e7bd",
   "metadata": {},
   "source": [
    "Приведём названия в соответствие с хорошим стилем:"
   ]
  },
  {
   "cell_type": "code",
   "execution_count": 5,
   "id": "1ba8531f",
   "metadata": {},
   "outputs": [],
   "source": [
    "games.columns = games.columns.str.lower() # все заглавные буквы сделаем строчными"
   ]
  },
  {
   "cell_type": "markdown",
   "id": "8688b8fd",
   "metadata": {},
   "source": [
    "Проверим результат. Для этого ещё раз выведите на экран названия столбцов:"
   ]
  },
  {
   "cell_type": "code",
   "execution_count": 6,
   "id": "6b8e9f29",
   "metadata": {},
   "outputs": [
    {
     "data": {
      "text/plain": [
       "Index(['name', 'platform', 'year_of_release', 'genre', 'na_sales', 'eu_sales',\n",
       "       'jp_sales', 'other_sales', 'critic_score', 'user_score', 'rating'],\n",
       "      dtype='object')"
      ]
     },
     "execution_count": 6,
     "metadata": {},
     "output_type": "execute_result"
    }
   ],
   "source": [
    "games.columns # перечень названий столбцов таблицы"
   ]
  },
  {
   "cell_type": "markdown",
   "id": "fdf300dd",
   "metadata": {},
   "source": [
    "**Вывод**\n",
    "<br><br>Названия колонок приведены к хорошему стилю написания"
   ]
  },
  {
   "cell_type": "markdown",
   "id": "5a2df2f3",
   "metadata": {},
   "source": [
    "### Обработка пропусков"
   ]
  },
  {
   "cell_type": "markdown",
   "id": "ef46f28b",
   "metadata": {},
   "source": [
    "Сначала посчитаем, сколько в таблице пропущенных значений:"
   ]
  },
  {
   "cell_type": "code",
   "execution_count": 7,
   "id": "53b67775",
   "metadata": {},
   "outputs": [
    {
     "data": {
      "text/plain": [
       "name                  2\n",
       "platform              0\n",
       "year_of_release     269\n",
       "genre                 2\n",
       "na_sales              0\n",
       "eu_sales              0\n",
       "jp_sales              0\n",
       "other_sales           0\n",
       "critic_score       8578\n",
       "user_score         6701\n",
       "rating             6766\n",
       "dtype: int64"
      ]
     },
     "execution_count": 7,
     "metadata": {},
     "output_type": "execute_result"
    }
   ],
   "source": [
    "games.isna().sum() # подсчёт пропусков"
   ]
  },
  {
   "cell_type": "markdown",
   "id": "7bfc2d80",
   "metadata": {},
   "source": [
    "Посмотрим, что за пропуски в  столбцах `name` и `genrt`:"
   ]
  },
  {
   "cell_type": "code",
   "execution_count": 8,
   "id": "7e6c2343",
   "metadata": {},
   "outputs": [
    {
     "data": {
      "text/html": [
       "<div>\n",
       "<style scoped>\n",
       "    .dataframe tbody tr th:only-of-type {\n",
       "        vertical-align: middle;\n",
       "    }\n",
       "\n",
       "    .dataframe tbody tr th {\n",
       "        vertical-align: top;\n",
       "    }\n",
       "\n",
       "    .dataframe thead th {\n",
       "        text-align: right;\n",
       "    }\n",
       "</style>\n",
       "<table border=\"1\" class=\"dataframe\">\n",
       "  <thead>\n",
       "    <tr style=\"text-align: right;\">\n",
       "      <th></th>\n",
       "      <th>name</th>\n",
       "      <th>platform</th>\n",
       "      <th>year_of_release</th>\n",
       "      <th>genre</th>\n",
       "      <th>na_sales</th>\n",
       "      <th>eu_sales</th>\n",
       "      <th>jp_sales</th>\n",
       "      <th>other_sales</th>\n",
       "      <th>critic_score</th>\n",
       "      <th>user_score</th>\n",
       "      <th>rating</th>\n",
       "    </tr>\n",
       "  </thead>\n",
       "  <tbody>\n",
       "    <tr>\n",
       "      <th>659</th>\n",
       "      <td>NaN</td>\n",
       "      <td>GEN</td>\n",
       "      <td>1993.0</td>\n",
       "      <td>NaN</td>\n",
       "      <td>1.78</td>\n",
       "      <td>0.53</td>\n",
       "      <td>0.00</td>\n",
       "      <td>0.08</td>\n",
       "      <td>NaN</td>\n",
       "      <td>NaN</td>\n",
       "      <td>NaN</td>\n",
       "    </tr>\n",
       "    <tr>\n",
       "      <th>14244</th>\n",
       "      <td>NaN</td>\n",
       "      <td>GEN</td>\n",
       "      <td>1993.0</td>\n",
       "      <td>NaN</td>\n",
       "      <td>0.00</td>\n",
       "      <td>0.00</td>\n",
       "      <td>0.03</td>\n",
       "      <td>0.00</td>\n",
       "      <td>NaN</td>\n",
       "      <td>NaN</td>\n",
       "      <td>NaN</td>\n",
       "    </tr>\n",
       "  </tbody>\n",
       "</table>\n",
       "</div>"
      ],
      "text/plain": [
       "      name platform  year_of_release genre  na_sales  eu_sales  jp_sales  \\\n",
       "659    NaN      GEN           1993.0   NaN      1.78      0.53      0.00   \n",
       "14244  NaN      GEN           1993.0   NaN      0.00      0.00      0.03   \n",
       "\n",
       "       other_sales  critic_score user_score rating  \n",
       "659           0.08           NaN        NaN    NaN  \n",
       "14244         0.00           NaN        NaN    NaN  "
      ]
     },
     "execution_count": 8,
     "metadata": {},
     "output_type": "execute_result"
    }
   ],
   "source": [
    "games[games['name'].isna()]"
   ]
  },
  {
   "cell_type": "code",
   "execution_count": 9,
   "id": "7136a970",
   "metadata": {},
   "outputs": [
    {
     "data": {
      "text/html": [
       "<div>\n",
       "<style scoped>\n",
       "    .dataframe tbody tr th:only-of-type {\n",
       "        vertical-align: middle;\n",
       "    }\n",
       "\n",
       "    .dataframe tbody tr th {\n",
       "        vertical-align: top;\n",
       "    }\n",
       "\n",
       "    .dataframe thead th {\n",
       "        text-align: right;\n",
       "    }\n",
       "</style>\n",
       "<table border=\"1\" class=\"dataframe\">\n",
       "  <thead>\n",
       "    <tr style=\"text-align: right;\">\n",
       "      <th></th>\n",
       "      <th>name</th>\n",
       "      <th>platform</th>\n",
       "      <th>year_of_release</th>\n",
       "      <th>genre</th>\n",
       "      <th>na_sales</th>\n",
       "      <th>eu_sales</th>\n",
       "      <th>jp_sales</th>\n",
       "      <th>other_sales</th>\n",
       "      <th>critic_score</th>\n",
       "      <th>user_score</th>\n",
       "      <th>rating</th>\n",
       "    </tr>\n",
       "  </thead>\n",
       "  <tbody>\n",
       "    <tr>\n",
       "      <th>659</th>\n",
       "      <td>NaN</td>\n",
       "      <td>GEN</td>\n",
       "      <td>1993.0</td>\n",
       "      <td>NaN</td>\n",
       "      <td>1.78</td>\n",
       "      <td>0.53</td>\n",
       "      <td>0.00</td>\n",
       "      <td>0.08</td>\n",
       "      <td>NaN</td>\n",
       "      <td>NaN</td>\n",
       "      <td>NaN</td>\n",
       "    </tr>\n",
       "    <tr>\n",
       "      <th>14244</th>\n",
       "      <td>NaN</td>\n",
       "      <td>GEN</td>\n",
       "      <td>1993.0</td>\n",
       "      <td>NaN</td>\n",
       "      <td>0.00</td>\n",
       "      <td>0.00</td>\n",
       "      <td>0.03</td>\n",
       "      <td>0.00</td>\n",
       "      <td>NaN</td>\n",
       "      <td>NaN</td>\n",
       "      <td>NaN</td>\n",
       "    </tr>\n",
       "  </tbody>\n",
       "</table>\n",
       "</div>"
      ],
      "text/plain": [
       "      name platform  year_of_release genre  na_sales  eu_sales  jp_sales  \\\n",
       "659    NaN      GEN           1993.0   NaN      1.78      0.53      0.00   \n",
       "14244  NaN      GEN           1993.0   NaN      0.00      0.00      0.03   \n",
       "\n",
       "       other_sales  critic_score user_score rating  \n",
       "659           0.08           NaN        NaN    NaN  \n",
       "14244         0.00           NaN        NaN    NaN  "
      ]
     },
     "execution_count": 9,
     "metadata": {},
     "output_type": "execute_result"
    }
   ],
   "source": [
    "games[games['genre'].isna()]"
   ]
  },
  {
   "cell_type": "markdown",
   "id": "dbb1def7",
   "metadata": {},
   "source": [
    "Посмотрим все игры платформы `GEN`:"
   ]
  },
  {
   "cell_type": "code",
   "execution_count": 10,
   "id": "73a07df8",
   "metadata": {},
   "outputs": [
    {
     "data": {
      "text/html": [
       "<div>\n",
       "<style scoped>\n",
       "    .dataframe tbody tr th:only-of-type {\n",
       "        vertical-align: middle;\n",
       "    }\n",
       "\n",
       "    .dataframe tbody tr th {\n",
       "        vertical-align: top;\n",
       "    }\n",
       "\n",
       "    .dataframe thead th {\n",
       "        text-align: right;\n",
       "    }\n",
       "</style>\n",
       "<table border=\"1\" class=\"dataframe\">\n",
       "  <thead>\n",
       "    <tr style=\"text-align: right;\">\n",
       "      <th></th>\n",
       "      <th>name</th>\n",
       "      <th>platform</th>\n",
       "      <th>year_of_release</th>\n",
       "      <th>genre</th>\n",
       "      <th>na_sales</th>\n",
       "      <th>eu_sales</th>\n",
       "      <th>jp_sales</th>\n",
       "      <th>other_sales</th>\n",
       "      <th>critic_score</th>\n",
       "      <th>user_score</th>\n",
       "      <th>rating</th>\n",
       "    </tr>\n",
       "  </thead>\n",
       "  <tbody>\n",
       "    <tr>\n",
       "      <th>145</th>\n",
       "      <td>Sonic the Hedgehog 2</td>\n",
       "      <td>GEN</td>\n",
       "      <td>1992.0</td>\n",
       "      <td>Platform</td>\n",
       "      <td>4.47</td>\n",
       "      <td>1.20</td>\n",
       "      <td>0.16</td>\n",
       "      <td>0.19</td>\n",
       "      <td>NaN</td>\n",
       "      <td>NaN</td>\n",
       "      <td>NaN</td>\n",
       "    </tr>\n",
       "    <tr>\n",
       "      <th>257</th>\n",
       "      <td>Sonic the Hedgehog</td>\n",
       "      <td>GEN</td>\n",
       "      <td>1991.0</td>\n",
       "      <td>Platform</td>\n",
       "      <td>3.03</td>\n",
       "      <td>0.91</td>\n",
       "      <td>0.26</td>\n",
       "      <td>0.13</td>\n",
       "      <td>NaN</td>\n",
       "      <td>NaN</td>\n",
       "      <td>NaN</td>\n",
       "    </tr>\n",
       "    <tr>\n",
       "      <th>564</th>\n",
       "      <td>Mortal Kombat</td>\n",
       "      <td>GEN</td>\n",
       "      <td>1992.0</td>\n",
       "      <td>Fighting</td>\n",
       "      <td>1.95</td>\n",
       "      <td>0.63</td>\n",
       "      <td>0.00</td>\n",
       "      <td>0.09</td>\n",
       "      <td>NaN</td>\n",
       "      <td>NaN</td>\n",
       "      <td>NaN</td>\n",
       "    </tr>\n",
       "    <tr>\n",
       "      <th>588</th>\n",
       "      <td>Streets of Rage</td>\n",
       "      <td>GEN</td>\n",
       "      <td>1990.0</td>\n",
       "      <td>Action</td>\n",
       "      <td>1.86</td>\n",
       "      <td>0.55</td>\n",
       "      <td>0.11</td>\n",
       "      <td>0.08</td>\n",
       "      <td>NaN</td>\n",
       "      <td>NaN</td>\n",
       "      <td>NaN</td>\n",
       "    </tr>\n",
       "    <tr>\n",
       "      <th>659</th>\n",
       "      <td>NaN</td>\n",
       "      <td>GEN</td>\n",
       "      <td>1993.0</td>\n",
       "      <td>NaN</td>\n",
       "      <td>1.78</td>\n",
       "      <td>0.53</td>\n",
       "      <td>0.00</td>\n",
       "      <td>0.08</td>\n",
       "      <td>NaN</td>\n",
       "      <td>NaN</td>\n",
       "      <td>NaN</td>\n",
       "    </tr>\n",
       "    <tr>\n",
       "      <th>832</th>\n",
       "      <td>NBA Jam</td>\n",
       "      <td>GEN</td>\n",
       "      <td>1992.0</td>\n",
       "      <td>Sports</td>\n",
       "      <td>1.75</td>\n",
       "      <td>0.25</td>\n",
       "      <td>0.00</td>\n",
       "      <td>0.05</td>\n",
       "      <td>NaN</td>\n",
       "      <td>NaN</td>\n",
       "      <td>NaN</td>\n",
       "    </tr>\n",
       "    <tr>\n",
       "      <th>960</th>\n",
       "      <td>Sonic &amp; Knuckles</td>\n",
       "      <td>GEN</td>\n",
       "      <td>1994.0</td>\n",
       "      <td>Platform</td>\n",
       "      <td>1.24</td>\n",
       "      <td>0.43</td>\n",
       "      <td>0.03</td>\n",
       "      <td>0.12</td>\n",
       "      <td>NaN</td>\n",
       "      <td>NaN</td>\n",
       "      <td>NaN</td>\n",
       "    </tr>\n",
       "    <tr>\n",
       "      <th>996</th>\n",
       "      <td>Sonic the Hedgehog 3</td>\n",
       "      <td>GEN</td>\n",
       "      <td>1994.0</td>\n",
       "      <td>Platform</td>\n",
       "      <td>1.02</td>\n",
       "      <td>0.47</td>\n",
       "      <td>0.20</td>\n",
       "      <td>0.07</td>\n",
       "      <td>NaN</td>\n",
       "      <td>NaN</td>\n",
       "      <td>NaN</td>\n",
       "    </tr>\n",
       "    <tr>\n",
       "      <th>1099</th>\n",
       "      <td>Street Fighter II': Special Champion Edition</td>\n",
       "      <td>GEN</td>\n",
       "      <td>1992.0</td>\n",
       "      <td>Fighting</td>\n",
       "      <td>1.00</td>\n",
       "      <td>0.30</td>\n",
       "      <td>0.31</td>\n",
       "      <td>0.04</td>\n",
       "      <td>NaN</td>\n",
       "      <td>NaN</td>\n",
       "      <td>NaN</td>\n",
       "    </tr>\n",
       "    <tr>\n",
       "      <th>1365</th>\n",
       "      <td>Disney's The Lion King</td>\n",
       "      <td>GEN</td>\n",
       "      <td>1994.0</td>\n",
       "      <td>Platform</td>\n",
       "      <td>0.97</td>\n",
       "      <td>0.37</td>\n",
       "      <td>0.03</td>\n",
       "      <td>0.05</td>\n",
       "      <td>NaN</td>\n",
       "      <td>NaN</td>\n",
       "      <td>NaN</td>\n",
       "    </tr>\n",
       "    <tr>\n",
       "      <th>1453</th>\n",
       "      <td>Mortal Kombat 3</td>\n",
       "      <td>GEN</td>\n",
       "      <td>1994.0</td>\n",
       "      <td>Fighting</td>\n",
       "      <td>1.03</td>\n",
       "      <td>0.27</td>\n",
       "      <td>0.00</td>\n",
       "      <td>0.04</td>\n",
       "      <td>NaN</td>\n",
       "      <td>NaN</td>\n",
       "      <td>NaN</td>\n",
       "    </tr>\n",
       "    <tr>\n",
       "      <th>1842</th>\n",
       "      <td>NBA Jam Tournament Edition</td>\n",
       "      <td>GEN</td>\n",
       "      <td>1994.0</td>\n",
       "      <td>Sports</td>\n",
       "      <td>0.95</td>\n",
       "      <td>0.14</td>\n",
       "      <td>0.00</td>\n",
       "      <td>0.03</td>\n",
       "      <td>NaN</td>\n",
       "      <td>NaN</td>\n",
       "      <td>NaN</td>\n",
       "    </tr>\n",
       "    <tr>\n",
       "      <th>6451</th>\n",
       "      <td>Virtua Racing</td>\n",
       "      <td>GEN</td>\n",
       "      <td>1994.0</td>\n",
       "      <td>Racing</td>\n",
       "      <td>0.00</td>\n",
       "      <td>0.00</td>\n",
       "      <td>0.26</td>\n",
       "      <td>0.00</td>\n",
       "      <td>NaN</td>\n",
       "      <td>NaN</td>\n",
       "      <td>NaN</td>\n",
       "    </tr>\n",
       "    <tr>\n",
       "      <th>7885</th>\n",
       "      <td>Shining Force II</td>\n",
       "      <td>GEN</td>\n",
       "      <td>1993.0</td>\n",
       "      <td>Strategy</td>\n",
       "      <td>0.00</td>\n",
       "      <td>0.00</td>\n",
       "      <td>0.19</td>\n",
       "      <td>0.00</td>\n",
       "      <td>NaN</td>\n",
       "      <td>NaN</td>\n",
       "      <td>NaN</td>\n",
       "    </tr>\n",
       "    <tr>\n",
       "      <th>8893</th>\n",
       "      <td>Super Street Fighter II</td>\n",
       "      <td>GEN</td>\n",
       "      <td>1993.0</td>\n",
       "      <td>Fighting</td>\n",
       "      <td>0.00</td>\n",
       "      <td>0.00</td>\n",
       "      <td>0.15</td>\n",
       "      <td>0.00</td>\n",
       "      <td>NaN</td>\n",
       "      <td>NaN</td>\n",
       "      <td>NaN</td>\n",
       "    </tr>\n",
       "    <tr>\n",
       "      <th>9000</th>\n",
       "      <td>Lunar 2: Eternal Blue(sales, but wrong system)</td>\n",
       "      <td>GEN</td>\n",
       "      <td>1994.0</td>\n",
       "      <td>Role-Playing</td>\n",
       "      <td>0.00</td>\n",
       "      <td>0.00</td>\n",
       "      <td>0.14</td>\n",
       "      <td>0.00</td>\n",
       "      <td>NaN</td>\n",
       "      <td>NaN</td>\n",
       "      <td>NaN</td>\n",
       "    </tr>\n",
       "    <tr>\n",
       "      <th>9563</th>\n",
       "      <td>Gunstar Heroes</td>\n",
       "      <td>GEN</td>\n",
       "      <td>1992.0</td>\n",
       "      <td>Shooter</td>\n",
       "      <td>0.00</td>\n",
       "      <td>0.00</td>\n",
       "      <td>0.13</td>\n",
       "      <td>0.00</td>\n",
       "      <td>NaN</td>\n",
       "      <td>NaN</td>\n",
       "      <td>NaN</td>\n",
       "    </tr>\n",
       "    <tr>\n",
       "      <th>9787</th>\n",
       "      <td>Ecco the Dolphin</td>\n",
       "      <td>GEN</td>\n",
       "      <td>1992.0</td>\n",
       "      <td>Adventure</td>\n",
       "      <td>0.00</td>\n",
       "      <td>0.00</td>\n",
       "      <td>0.12</td>\n",
       "      <td>0.00</td>\n",
       "      <td>NaN</td>\n",
       "      <td>NaN</td>\n",
       "      <td>NaN</td>\n",
       "    </tr>\n",
       "    <tr>\n",
       "      <th>11563</th>\n",
       "      <td>Yuu Yuu Hakusho: Makyo Toitsusen</td>\n",
       "      <td>GEN</td>\n",
       "      <td>1994.0</td>\n",
       "      <td>Fighting</td>\n",
       "      <td>0.00</td>\n",
       "      <td>0.00</td>\n",
       "      <td>0.08</td>\n",
       "      <td>0.00</td>\n",
       "      <td>NaN</td>\n",
       "      <td>NaN</td>\n",
       "      <td>NaN</td>\n",
       "    </tr>\n",
       "    <tr>\n",
       "      <th>11660</th>\n",
       "      <td>Dragon Slayer: The Legend of Heroes</td>\n",
       "      <td>GEN</td>\n",
       "      <td>1994.0</td>\n",
       "      <td>Role-Playing</td>\n",
       "      <td>0.00</td>\n",
       "      <td>0.00</td>\n",
       "      <td>0.08</td>\n",
       "      <td>0.00</td>\n",
       "      <td>NaN</td>\n",
       "      <td>NaN</td>\n",
       "      <td>NaN</td>\n",
       "    </tr>\n",
       "    <tr>\n",
       "      <th>11986</th>\n",
       "      <td>Ecco: The Tides of Time</td>\n",
       "      <td>GEN</td>\n",
       "      <td>1993.0</td>\n",
       "      <td>Adventure</td>\n",
       "      <td>0.00</td>\n",
       "      <td>0.00</td>\n",
       "      <td>0.07</td>\n",
       "      <td>0.00</td>\n",
       "      <td>NaN</td>\n",
       "      <td>NaN</td>\n",
       "      <td>NaN</td>\n",
       "    </tr>\n",
       "    <tr>\n",
       "      <th>12098</th>\n",
       "      <td>Street Fighter II': Special Champion Edition (...</td>\n",
       "      <td>GEN</td>\n",
       "      <td>1993.0</td>\n",
       "      <td>Action</td>\n",
       "      <td>0.00</td>\n",
       "      <td>0.00</td>\n",
       "      <td>0.07</td>\n",
       "      <td>0.00</td>\n",
       "      <td>NaN</td>\n",
       "      <td>NaN</td>\n",
       "      <td>NaN</td>\n",
       "    </tr>\n",
       "    <tr>\n",
       "      <th>12264</th>\n",
       "      <td>Streets of Rage 3</td>\n",
       "      <td>GEN</td>\n",
       "      <td>1993.0</td>\n",
       "      <td>Action</td>\n",
       "      <td>0.00</td>\n",
       "      <td>0.00</td>\n",
       "      <td>0.07</td>\n",
       "      <td>0.00</td>\n",
       "      <td>NaN</td>\n",
       "      <td>NaN</td>\n",
       "      <td>NaN</td>\n",
       "    </tr>\n",
       "    <tr>\n",
       "      <th>12984</th>\n",
       "      <td>Dynamite Headdy</td>\n",
       "      <td>GEN</td>\n",
       "      <td>1993.0</td>\n",
       "      <td>Platform</td>\n",
       "      <td>0.00</td>\n",
       "      <td>0.00</td>\n",
       "      <td>0.05</td>\n",
       "      <td>0.00</td>\n",
       "      <td>NaN</td>\n",
       "      <td>NaN</td>\n",
       "      <td>NaN</td>\n",
       "    </tr>\n",
       "    <tr>\n",
       "      <th>13343</th>\n",
       "      <td>Beyond Oasis</td>\n",
       "      <td>GEN</td>\n",
       "      <td>1993.0</td>\n",
       "      <td>Role-Playing</td>\n",
       "      <td>0.00</td>\n",
       "      <td>0.00</td>\n",
       "      <td>0.05</td>\n",
       "      <td>0.00</td>\n",
       "      <td>NaN</td>\n",
       "      <td>NaN</td>\n",
       "      <td>NaN</td>\n",
       "    </tr>\n",
       "    <tr>\n",
       "      <th>14085</th>\n",
       "      <td>J-League Pro Striker 2</td>\n",
       "      <td>GEN</td>\n",
       "      <td>1994.0</td>\n",
       "      <td>Sports</td>\n",
       "      <td>0.00</td>\n",
       "      <td>0.00</td>\n",
       "      <td>0.04</td>\n",
       "      <td>0.00</td>\n",
       "      <td>NaN</td>\n",
       "      <td>NaN</td>\n",
       "      <td>NaN</td>\n",
       "    </tr>\n",
       "    <tr>\n",
       "      <th>14132</th>\n",
       "      <td>Castlevania Bloodlines</td>\n",
       "      <td>GEN</td>\n",
       "      <td>1994.0</td>\n",
       "      <td>Platform</td>\n",
       "      <td>0.00</td>\n",
       "      <td>0.00</td>\n",
       "      <td>0.04</td>\n",
       "      <td>0.00</td>\n",
       "      <td>NaN</td>\n",
       "      <td>NaN</td>\n",
       "      <td>NaN</td>\n",
       "    </tr>\n",
       "    <tr>\n",
       "      <th>14244</th>\n",
       "      <td>NaN</td>\n",
       "      <td>GEN</td>\n",
       "      <td>1993.0</td>\n",
       "      <td>NaN</td>\n",
       "      <td>0.00</td>\n",
       "      <td>0.00</td>\n",
       "      <td>0.03</td>\n",
       "      <td>0.00</td>\n",
       "      <td>NaN</td>\n",
       "      <td>NaN</td>\n",
       "      <td>NaN</td>\n",
       "    </tr>\n",
       "    <tr>\n",
       "      <th>14488</th>\n",
       "      <td>Puzzle &amp; Action: Tant-R</td>\n",
       "      <td>GEN</td>\n",
       "      <td>1994.0</td>\n",
       "      <td>Misc</td>\n",
       "      <td>0.00</td>\n",
       "      <td>0.00</td>\n",
       "      <td>0.03</td>\n",
       "      <td>0.00</td>\n",
       "      <td>NaN</td>\n",
       "      <td>NaN</td>\n",
       "      <td>NaN</td>\n",
       "    </tr>\n",
       "  </tbody>\n",
       "</table>\n",
       "</div>"
      ],
      "text/plain": [
       "                                                    name platform  \\\n",
       "145                                 Sonic the Hedgehog 2      GEN   \n",
       "257                                   Sonic the Hedgehog      GEN   \n",
       "564                                        Mortal Kombat      GEN   \n",
       "588                                      Streets of Rage      GEN   \n",
       "659                                                  NaN      GEN   \n",
       "832                                              NBA Jam      GEN   \n",
       "960                                     Sonic & Knuckles      GEN   \n",
       "996                                 Sonic the Hedgehog 3      GEN   \n",
       "1099        Street Fighter II': Special Champion Edition      GEN   \n",
       "1365                              Disney's The Lion King      GEN   \n",
       "1453                                     Mortal Kombat 3      GEN   \n",
       "1842                          NBA Jam Tournament Edition      GEN   \n",
       "6451                                       Virtua Racing      GEN   \n",
       "7885                                    Shining Force II      GEN   \n",
       "8893                             Super Street Fighter II      GEN   \n",
       "9000      Lunar 2: Eternal Blue(sales, but wrong system)      GEN   \n",
       "9563                                      Gunstar Heroes      GEN   \n",
       "9787                                    Ecco the Dolphin      GEN   \n",
       "11563                   Yuu Yuu Hakusho: Makyo Toitsusen      GEN   \n",
       "11660                Dragon Slayer: The Legend of Heroes      GEN   \n",
       "11986                            Ecco: The Tides of Time      GEN   \n",
       "12098  Street Fighter II': Special Champion Edition (...      GEN   \n",
       "12264                                  Streets of Rage 3      GEN   \n",
       "12984                                    Dynamite Headdy      GEN   \n",
       "13343                                       Beyond Oasis      GEN   \n",
       "14085                             J-League Pro Striker 2      GEN   \n",
       "14132                             Castlevania Bloodlines      GEN   \n",
       "14244                                                NaN      GEN   \n",
       "14488                            Puzzle & Action: Tant-R      GEN   \n",
       "\n",
       "       year_of_release         genre  na_sales  eu_sales  jp_sales  \\\n",
       "145             1992.0      Platform      4.47      1.20      0.16   \n",
       "257             1991.0      Platform      3.03      0.91      0.26   \n",
       "564             1992.0      Fighting      1.95      0.63      0.00   \n",
       "588             1990.0        Action      1.86      0.55      0.11   \n",
       "659             1993.0           NaN      1.78      0.53      0.00   \n",
       "832             1992.0        Sports      1.75      0.25      0.00   \n",
       "960             1994.0      Platform      1.24      0.43      0.03   \n",
       "996             1994.0      Platform      1.02      0.47      0.20   \n",
       "1099            1992.0      Fighting      1.00      0.30      0.31   \n",
       "1365            1994.0      Platform      0.97      0.37      0.03   \n",
       "1453            1994.0      Fighting      1.03      0.27      0.00   \n",
       "1842            1994.0        Sports      0.95      0.14      0.00   \n",
       "6451            1994.0        Racing      0.00      0.00      0.26   \n",
       "7885            1993.0      Strategy      0.00      0.00      0.19   \n",
       "8893            1993.0      Fighting      0.00      0.00      0.15   \n",
       "9000            1994.0  Role-Playing      0.00      0.00      0.14   \n",
       "9563            1992.0       Shooter      0.00      0.00      0.13   \n",
       "9787            1992.0     Adventure      0.00      0.00      0.12   \n",
       "11563           1994.0      Fighting      0.00      0.00      0.08   \n",
       "11660           1994.0  Role-Playing      0.00      0.00      0.08   \n",
       "11986           1993.0     Adventure      0.00      0.00      0.07   \n",
       "12098           1993.0        Action      0.00      0.00      0.07   \n",
       "12264           1993.0        Action      0.00      0.00      0.07   \n",
       "12984           1993.0      Platform      0.00      0.00      0.05   \n",
       "13343           1993.0  Role-Playing      0.00      0.00      0.05   \n",
       "14085           1994.0        Sports      0.00      0.00      0.04   \n",
       "14132           1994.0      Platform      0.00      0.00      0.04   \n",
       "14244           1993.0           NaN      0.00      0.00      0.03   \n",
       "14488           1994.0          Misc      0.00      0.00      0.03   \n",
       "\n",
       "       other_sales  critic_score user_score rating  \n",
       "145           0.19           NaN        NaN    NaN  \n",
       "257           0.13           NaN        NaN    NaN  \n",
       "564           0.09           NaN        NaN    NaN  \n",
       "588           0.08           NaN        NaN    NaN  \n",
       "659           0.08           NaN        NaN    NaN  \n",
       "832           0.05           NaN        NaN    NaN  \n",
       "960           0.12           NaN        NaN    NaN  \n",
       "996           0.07           NaN        NaN    NaN  \n",
       "1099          0.04           NaN        NaN    NaN  \n",
       "1365          0.05           NaN        NaN    NaN  \n",
       "1453          0.04           NaN        NaN    NaN  \n",
       "1842          0.03           NaN        NaN    NaN  \n",
       "6451          0.00           NaN        NaN    NaN  \n",
       "7885          0.00           NaN        NaN    NaN  \n",
       "8893          0.00           NaN        NaN    NaN  \n",
       "9000          0.00           NaN        NaN    NaN  \n",
       "9563          0.00           NaN        NaN    NaN  \n",
       "9787          0.00           NaN        NaN    NaN  \n",
       "11563         0.00           NaN        NaN    NaN  \n",
       "11660         0.00           NaN        NaN    NaN  \n",
       "11986         0.00           NaN        NaN    NaN  \n",
       "12098         0.00           NaN        NaN    NaN  \n",
       "12264         0.00           NaN        NaN    NaN  \n",
       "12984         0.00           NaN        NaN    NaN  \n",
       "13343         0.00           NaN        NaN    NaN  \n",
       "14085         0.00           NaN        NaN    NaN  \n",
       "14132         0.00           NaN        NaN    NaN  \n",
       "14244         0.00           NaN        NaN    NaN  \n",
       "14488         0.00           NaN        NaN    NaN  "
      ]
     },
     "execution_count": 10,
     "metadata": {},
     "output_type": "execute_result"
    }
   ],
   "source": [
    "games.query('platform == \"GEN\"')"
   ]
  },
  {
   "cell_type": "markdown",
   "id": "47f50662",
   "metadata": {},
   "source": [
    "Оказалось, что пропуски в столбцах `name` и `genrt` - это одинаковые строчки.\n",
    "<br>В этих строчках есть только название платформы, год выпуска игры и показатели продаж в разных регионах.\n",
    "<br>Показатели продаж по платформе нам потребуются для дальнейшего исследования. \n",
    "<br>Заменим пропуски в этих столбцах  на `unknown` для `name` и на `Platform` для `genre`:"
   ]
  },
  {
   "cell_type": "code",
   "execution_count": 11,
   "id": "8d242878",
   "metadata": {},
   "outputs": [],
   "source": [
    "games['name'] = games['name'].fillna('unknown') # Заменяем пропуски в названии игр\n",
    "games['genre'] = games['genre'].fillna('Platform') # Заменяем пропуски  в жанрах игр"
   ]
  },
  {
   "cell_type": "markdown",
   "id": "06772586",
   "metadata": {},
   "source": [
    "У пропусков в дате выпуска игры нет какой-то логики или закономерности судя по данным ниже:"
   ]
  },
  {
   "cell_type": "code",
   "execution_count": 12,
   "id": "e2ddc508",
   "metadata": {
    "scrolled": false
   },
   "outputs": [
    {
     "data": {
      "text/html": [
       "<div>\n",
       "<style scoped>\n",
       "    .dataframe tbody tr th:only-of-type {\n",
       "        vertical-align: middle;\n",
       "    }\n",
       "\n",
       "    .dataframe tbody tr th {\n",
       "        vertical-align: top;\n",
       "    }\n",
       "\n",
       "    .dataframe thead th {\n",
       "        text-align: right;\n",
       "    }\n",
       "</style>\n",
       "<table border=\"1\" class=\"dataframe\">\n",
       "  <thead>\n",
       "    <tr style=\"text-align: right;\">\n",
       "      <th></th>\n",
       "      <th>name</th>\n",
       "      <th>platform</th>\n",
       "      <th>year_of_release</th>\n",
       "      <th>genre</th>\n",
       "      <th>na_sales</th>\n",
       "      <th>eu_sales</th>\n",
       "      <th>jp_sales</th>\n",
       "      <th>other_sales</th>\n",
       "      <th>critic_score</th>\n",
       "      <th>user_score</th>\n",
       "      <th>rating</th>\n",
       "    </tr>\n",
       "  </thead>\n",
       "  <tbody>\n",
       "    <tr>\n",
       "      <th>183</th>\n",
       "      <td>Madden NFL 2004</td>\n",
       "      <td>PS2</td>\n",
       "      <td>NaN</td>\n",
       "      <td>Sports</td>\n",
       "      <td>4.26</td>\n",
       "      <td>0.26</td>\n",
       "      <td>0.01</td>\n",
       "      <td>0.71</td>\n",
       "      <td>94.0</td>\n",
       "      <td>8.5</td>\n",
       "      <td>E</td>\n",
       "    </tr>\n",
       "    <tr>\n",
       "      <th>377</th>\n",
       "      <td>FIFA Soccer 2004</td>\n",
       "      <td>PS2</td>\n",
       "      <td>NaN</td>\n",
       "      <td>Sports</td>\n",
       "      <td>0.59</td>\n",
       "      <td>2.36</td>\n",
       "      <td>0.04</td>\n",
       "      <td>0.51</td>\n",
       "      <td>84.0</td>\n",
       "      <td>6.4</td>\n",
       "      <td>E</td>\n",
       "    </tr>\n",
       "    <tr>\n",
       "      <th>456</th>\n",
       "      <td>LEGO Batman: The Videogame</td>\n",
       "      <td>Wii</td>\n",
       "      <td>NaN</td>\n",
       "      <td>Action</td>\n",
       "      <td>1.80</td>\n",
       "      <td>0.97</td>\n",
       "      <td>0.00</td>\n",
       "      <td>0.29</td>\n",
       "      <td>74.0</td>\n",
       "      <td>7.9</td>\n",
       "      <td>E10+</td>\n",
       "    </tr>\n",
       "    <tr>\n",
       "      <th>475</th>\n",
       "      <td>wwe Smackdown vs. Raw 2006</td>\n",
       "      <td>PS2</td>\n",
       "      <td>NaN</td>\n",
       "      <td>Fighting</td>\n",
       "      <td>1.57</td>\n",
       "      <td>1.02</td>\n",
       "      <td>0.00</td>\n",
       "      <td>0.41</td>\n",
       "      <td>NaN</td>\n",
       "      <td>NaN</td>\n",
       "      <td>NaN</td>\n",
       "    </tr>\n",
       "    <tr>\n",
       "      <th>609</th>\n",
       "      <td>Space Invaders</td>\n",
       "      <td>2600</td>\n",
       "      <td>NaN</td>\n",
       "      <td>Shooter</td>\n",
       "      <td>2.36</td>\n",
       "      <td>0.14</td>\n",
       "      <td>0.00</td>\n",
       "      <td>0.03</td>\n",
       "      <td>NaN</td>\n",
       "      <td>NaN</td>\n",
       "      <td>NaN</td>\n",
       "    </tr>\n",
       "    <tr>\n",
       "      <th>...</th>\n",
       "      <td>...</td>\n",
       "      <td>...</td>\n",
       "      <td>...</td>\n",
       "      <td>...</td>\n",
       "      <td>...</td>\n",
       "      <td>...</td>\n",
       "      <td>...</td>\n",
       "      <td>...</td>\n",
       "      <td>...</td>\n",
       "      <td>...</td>\n",
       "      <td>...</td>\n",
       "    </tr>\n",
       "    <tr>\n",
       "      <th>16373</th>\n",
       "      <td>PDC World Championship Darts 2008</td>\n",
       "      <td>PSP</td>\n",
       "      <td>NaN</td>\n",
       "      <td>Sports</td>\n",
       "      <td>0.01</td>\n",
       "      <td>0.00</td>\n",
       "      <td>0.00</td>\n",
       "      <td>0.00</td>\n",
       "      <td>43.0</td>\n",
       "      <td>tbd</td>\n",
       "      <td>E10+</td>\n",
       "    </tr>\n",
       "    <tr>\n",
       "      <th>16405</th>\n",
       "      <td>Freaky Flyers</td>\n",
       "      <td>GC</td>\n",
       "      <td>NaN</td>\n",
       "      <td>Racing</td>\n",
       "      <td>0.01</td>\n",
       "      <td>0.00</td>\n",
       "      <td>0.00</td>\n",
       "      <td>0.00</td>\n",
       "      <td>69.0</td>\n",
       "      <td>6.5</td>\n",
       "      <td>T</td>\n",
       "    </tr>\n",
       "    <tr>\n",
       "      <th>16448</th>\n",
       "      <td>Inversion</td>\n",
       "      <td>PC</td>\n",
       "      <td>NaN</td>\n",
       "      <td>Shooter</td>\n",
       "      <td>0.01</td>\n",
       "      <td>0.00</td>\n",
       "      <td>0.00</td>\n",
       "      <td>0.00</td>\n",
       "      <td>59.0</td>\n",
       "      <td>6.7</td>\n",
       "      <td>M</td>\n",
       "    </tr>\n",
       "    <tr>\n",
       "      <th>16458</th>\n",
       "      <td>Hakuouki: Shinsengumi Kitan</td>\n",
       "      <td>PS3</td>\n",
       "      <td>NaN</td>\n",
       "      <td>Adventure</td>\n",
       "      <td>0.01</td>\n",
       "      <td>0.00</td>\n",
       "      <td>0.00</td>\n",
       "      <td>0.00</td>\n",
       "      <td>NaN</td>\n",
       "      <td>NaN</td>\n",
       "      <td>NaN</td>\n",
       "    </tr>\n",
       "    <tr>\n",
       "      <th>16522</th>\n",
       "      <td>Virtua Quest</td>\n",
       "      <td>GC</td>\n",
       "      <td>NaN</td>\n",
       "      <td>Role-Playing</td>\n",
       "      <td>0.01</td>\n",
       "      <td>0.00</td>\n",
       "      <td>0.00</td>\n",
       "      <td>0.00</td>\n",
       "      <td>55.0</td>\n",
       "      <td>5.5</td>\n",
       "      <td>T</td>\n",
       "    </tr>\n",
       "  </tbody>\n",
       "</table>\n",
       "<p>269 rows × 11 columns</p>\n",
       "</div>"
      ],
      "text/plain": [
       "                                    name platform  year_of_release  \\\n",
       "183                      Madden NFL 2004      PS2              NaN   \n",
       "377                     FIFA Soccer 2004      PS2              NaN   \n",
       "456           LEGO Batman: The Videogame      Wii              NaN   \n",
       "475           wwe Smackdown vs. Raw 2006      PS2              NaN   \n",
       "609                       Space Invaders     2600              NaN   \n",
       "...                                  ...      ...              ...   \n",
       "16373  PDC World Championship Darts 2008      PSP              NaN   \n",
       "16405                      Freaky Flyers       GC              NaN   \n",
       "16448                          Inversion       PC              NaN   \n",
       "16458        Hakuouki: Shinsengumi Kitan      PS3              NaN   \n",
       "16522                       Virtua Quest       GC              NaN   \n",
       "\n",
       "              genre  na_sales  eu_sales  jp_sales  other_sales  critic_score  \\\n",
       "183          Sports      4.26      0.26      0.01         0.71          94.0   \n",
       "377          Sports      0.59      2.36      0.04         0.51          84.0   \n",
       "456          Action      1.80      0.97      0.00         0.29          74.0   \n",
       "475        Fighting      1.57      1.02      0.00         0.41           NaN   \n",
       "609         Shooter      2.36      0.14      0.00         0.03           NaN   \n",
       "...             ...       ...       ...       ...          ...           ...   \n",
       "16373        Sports      0.01      0.00      0.00         0.00          43.0   \n",
       "16405        Racing      0.01      0.00      0.00         0.00          69.0   \n",
       "16448       Shooter      0.01      0.00      0.00         0.00          59.0   \n",
       "16458     Adventure      0.01      0.00      0.00         0.00           NaN   \n",
       "16522  Role-Playing      0.01      0.00      0.00         0.00          55.0   \n",
       "\n",
       "      user_score rating  \n",
       "183          8.5      E  \n",
       "377          6.4      E  \n",
       "456          7.9   E10+  \n",
       "475          NaN    NaN  \n",
       "609          NaN    NaN  \n",
       "...          ...    ...  \n",
       "16373        tbd   E10+  \n",
       "16405        6.5      T  \n",
       "16448        6.7      M  \n",
       "16458        NaN    NaN  \n",
       "16522        5.5      T  \n",
       "\n",
       "[269 rows x 11 columns]"
      ]
     },
     "execution_count": 12,
     "metadata": {},
     "output_type": "execute_result"
    }
   ],
   "source": [
    "games[games['year_of_release'].isnull()] "
   ]
  },
  {
   "cell_type": "markdown",
   "id": "d74b6fcf",
   "metadata": {},
   "source": [
    "Заменим пропуски фиктивно в дате выпуска игры на 1979:"
   ]
  },
  {
   "cell_type": "code",
   "execution_count": 13,
   "id": "da082c1a",
   "metadata": {},
   "outputs": [],
   "source": [
    "games['year_of_release'] = games['year_of_release'].fillna(1979) # Заменяем пропуски в дате выпуска игры"
   ]
  },
  {
   "cell_type": "markdown",
   "id": "e5ecea2a",
   "metadata": {},
   "source": [
    "Чтобы в дальнейшем привести к нужным типам столбцы `critic_score` и `user_score`, заменим пропуски в этих столбцах значениями -1 и -0,1 соответственно:"
   ]
  },
  {
   "cell_type": "code",
   "execution_count": 14,
   "id": "c1b6777f",
   "metadata": {},
   "outputs": [],
   "source": [
    "games['critic_score'] = games['critic_score'].fillna(-1) # Заменяем пропуски в оценке критиков\n",
    "games['user_score'] = games['user_score'].fillna(-0.1) # Заменяем пропуски в оценке пользователей"
   ]
  },
  {
   "cell_type": "markdown",
   "id": "003e78bb",
   "metadata": {},
   "source": [
    "Посмотрим какие значения имеются в столбцах `critic_score` и `user_score`:"
   ]
  },
  {
   "cell_type": "code",
   "execution_count": 15,
   "id": "9570e8b6",
   "metadata": {},
   "outputs": [
    {
     "data": {
      "text/plain": [
       "-1.0     8578\n",
       " 70.0     256\n",
       " 71.0     254\n",
       " 75.0     245\n",
       " 78.0     240\n",
       "         ... \n",
       " 20.0       3\n",
       " 21.0       1\n",
       " 17.0       1\n",
       " 22.0       1\n",
       " 13.0       1\n",
       "Name: critic_score, Length: 83, dtype: int64"
      ]
     },
     "execution_count": 15,
     "metadata": {},
     "output_type": "execute_result"
    }
   ],
   "source": [
    "games['critic_score'].value_counts()"
   ]
  },
  {
   "cell_type": "code",
   "execution_count": 16,
   "id": "d16ea019",
   "metadata": {},
   "outputs": [
    {
     "data": {
      "text/plain": [
       "-0.1    6701\n",
       "tbd     2424\n",
       "7.8      324\n",
       "8        290\n",
       "8.2      282\n",
       "        ... \n",
       "1.1        2\n",
       "1.9        2\n",
       "9.6        2\n",
       "0          1\n",
       "9.7        1\n",
       "Name: user_score, Length: 97, dtype: int64"
      ]
     },
     "execution_count": 16,
     "metadata": {},
     "output_type": "execute_result"
    }
   ],
   "source": [
    "games['user_score'].value_counts()"
   ]
  },
  {
   "cell_type": "markdown",
   "id": "56cd8207",
   "metadata": {},
   "source": [
    "Мы видим, что в столбце `user_score` встречает значение `tbd` 2424 раза. \n",
    "<br> Данная аббрeвиатура означает to be determined, что переводится, как \"предстоит определить\" (\"не определено\").\n",
    "<br> Заменим данное значение по аналогии с пропусками на -0.1:"
   ]
  },
  {
   "cell_type": "code",
   "execution_count": 17,
   "id": "09def768",
   "metadata": {},
   "outputs": [],
   "source": [
    "games = games.replace(to_replace = 'tbd', value = -0.1) # заменим значения \"tbd\" на -0,1"
   ]
  },
  {
   "cell_type": "markdown",
   "id": "736faf02",
   "metadata": {},
   "source": [
    "Заменим пропуски в столбце рейтинг:"
   ]
  },
  {
   "cell_type": "code",
   "execution_count": 18,
   "id": "ee4537d1",
   "metadata": {},
   "outputs": [],
   "source": [
    "games['rating'] = games['rating'].fillna('unknown')# заменим пропуски в столбце рейтинг"
   ]
  },
  {
   "cell_type": "code",
   "execution_count": 19,
   "id": "897f162c",
   "metadata": {},
   "outputs": [
    {
     "data": {
      "text/plain": [
       "unknown    6766\n",
       "E          3990\n",
       "T          2961\n",
       "M          1563\n",
       "E10+       1420\n",
       "EC            8\n",
       "K-A           3\n",
       "RP            3\n",
       "AO            1\n",
       "Name: rating, dtype: int64"
      ]
     },
     "execution_count": 19,
     "metadata": {},
     "output_type": "execute_result"
    }
   ],
   "source": [
    "games['rating'].value_counts()"
   ]
  },
  {
   "cell_type": "code",
   "execution_count": 20,
   "id": "d552636f",
   "metadata": {},
   "outputs": [
    {
     "data": {
      "text/plain": [
       "name               0\n",
       "platform           0\n",
       "year_of_release    0\n",
       "genre              0\n",
       "na_sales           0\n",
       "eu_sales           0\n",
       "jp_sales           0\n",
       "other_sales        0\n",
       "critic_score       0\n",
       "user_score         0\n",
       "rating             0\n",
       "dtype: int64"
      ]
     },
     "execution_count": 20,
     "metadata": {},
     "output_type": "execute_result"
    }
   ],
   "source": [
    "games.isna().sum() # подсчёт пропусков"
   ]
  },
  {
   "cell_type": "markdown",
   "id": "fe022306",
   "metadata": {},
   "source": [
    "**Вывод**\n",
    "<br><br>\n",
    "Пропуски в имени и жанре были в 2 одинаковых строчка.\n",
    "<br>В этих строчках есть только название платформы, год выпуска игры и показатели продаж в разных регионах.\n",
    "<br>Заменим пропуски в этих столбцах на unknown для name, тк имя сложно заменить чем-то другим, если нет информации о всех выпускаемых играх платформой и на Platform для genre, тк это самый распространённый жанр у данной платформы.\n",
    "<br><br>\n",
    "В столбце с датами выпуска игры заменили пропуски на 0, тк это значение выбивается из общего списка и нельзя выпустить игру в 0 году. \n",
    "<br><br>\n",
    "В столбцах с оценками экспертов и оценками критиков замену сделал на несуществующие значения, как -1 и -0.1, тк при замене на 0 в данных столбцах это может повлиять на дальнейшее исследование.\n",
    "<br><br>\n",
    "В столбце оценка пользователей аббревиатуру 'tbd' (\"to be determined\" - \"предстоит определить\") мы тоже заменяем на значение -0.1.\n",
    "<br><br>\n",
    "К пропускам в столбцах `name`, `year_of_release` и `genre` могли привести проблемы с данными при копировании, переносе, хранении и тд.\n",
    "<br>\n",
    "К пропускам в столбцах `critic_score` и `user_score` и `rating` могли привести отсутствие данных от пользователей, тк не на все игры оставляют отзывы эксперты и пользователи.\n",
    "<br>\n",
    "К пропускам в столбце `rating` могло привести, что ассоциация ESRB (Entertainment Software Rating Board) была основана в 1994 году, а многи  игры были выпущены раньше.\n"
   ]
  },
  {
   "cell_type": "markdown",
   "id": "42a8d084",
   "metadata": {},
   "source": [
    "###  Преобразуем данные в нужные типы."
   ]
  },
  {
   "cell_type": "markdown",
   "id": "ea2ec62e",
   "metadata": {},
   "source": [
    "Посмотрим вид значений в столбцах, где мы хотим сделать изменение типа данных:"
   ]
  },
  {
   "cell_type": "code",
   "execution_count": 21,
   "id": "51deb51c",
   "metadata": {},
   "outputs": [
    {
     "data": {
      "text/plain": [
       "2008.0    1427\n",
       "2009.0    1426\n",
       "2010.0    1255\n",
       "2007.0    1197\n",
       "2011.0    1136\n",
       "2006.0    1006\n",
       "2005.0     939\n",
       "2002.0     829\n",
       "2003.0     775\n",
       "2004.0     762\n",
       "2012.0     653\n",
       "2015.0     606\n",
       "2014.0     581\n",
       "2013.0     544\n",
       "2016.0     502\n",
       "2001.0     482\n",
       "1998.0     379\n",
       "2000.0     350\n",
       "1999.0     338\n",
       "1997.0     289\n",
       "1979.0     269\n",
       "1996.0     263\n",
       "1995.0     219\n",
       "1994.0     121\n",
       "1993.0      62\n",
       "1981.0      46\n",
       "1992.0      43\n",
       "1991.0      41\n",
       "1982.0      36\n",
       "1986.0      21\n",
       "1989.0      17\n",
       "1983.0      17\n",
       "1990.0      16\n",
       "1987.0      16\n",
       "1988.0      15\n",
       "1985.0      14\n",
       "1984.0      14\n",
       "1980.0       9\n",
       "Name: year_of_release, dtype: int64"
      ]
     },
     "execution_count": 21,
     "metadata": {},
     "output_type": "execute_result"
    }
   ],
   "source": [
    "games['year_of_release'].value_counts()"
   ]
  },
  {
   "cell_type": "code",
   "execution_count": 22,
   "id": "af1b6e1d",
   "metadata": {},
   "outputs": [
    {
     "data": {
      "text/plain": [
       "-1.0     8578\n",
       " 70.0     256\n",
       " 71.0     254\n",
       " 75.0     245\n",
       " 78.0     240\n",
       "         ... \n",
       " 20.0       3\n",
       " 21.0       1\n",
       " 17.0       1\n",
       " 22.0       1\n",
       " 13.0       1\n",
       "Name: critic_score, Length: 83, dtype: int64"
      ]
     },
     "execution_count": 22,
     "metadata": {},
     "output_type": "execute_result"
    }
   ],
   "source": [
    "games['critic_score'].value_counts()"
   ]
  },
  {
   "cell_type": "code",
   "execution_count": 23,
   "id": "80c590f5",
   "metadata": {},
   "outputs": [
    {
     "data": {
      "text/plain": [
       "-0.1    9125\n",
       "7.8      324\n",
       "8        290\n",
       "8.2      282\n",
       "8.3      254\n",
       "        ... \n",
       "1.5        2\n",
       "0.3        2\n",
       "1.1        2\n",
       "0          1\n",
       "9.7        1\n",
       "Name: user_score, Length: 96, dtype: int64"
      ]
     },
     "execution_count": 23,
     "metadata": {},
     "output_type": "execute_result"
    }
   ],
   "source": [
    "games['user_score'].value_counts()"
   ]
  },
  {
   "cell_type": "markdown",
   "id": "bbe69abc",
   "metadata": {},
   "source": [
    "Заменим вещественные данные на целочисленные в столбцах дата выпуска игры и оценка критиков:"
   ]
  },
  {
   "cell_type": "code",
   "execution_count": 24,
   "id": "f045e3dd",
   "metadata": {},
   "outputs": [],
   "source": [
    "games['year_of_release'] = games['year_of_release'].astype('int') # заменим вещественные данные на числовые используя метод astype в дате выпуска игры\n",
    "games['critic_score'] = games['critic_score'].astype('int') # заменим вещественные данные на числовые используя метод astype в оценке критиков"
   ]
  },
  {
   "cell_type": "markdown",
   "id": "f2ba5ef8",
   "metadata": {},
   "source": [
    "В столбце оценка пользователей умножим значения на 10, чтобы у оценок пользователей был одинаковый численный ранг с оценкой критиков и далее изменим вещественные данные на целочисленные:"
   ]
  },
  {
   "cell_type": "code",
   "execution_count": 25,
   "id": "9d42518f",
   "metadata": {},
   "outputs": [],
   "source": [
    "games['user_score'] = games['user_score'].apply(pd.to_numeric) # заменим значения в столбце оценки пользователей на вещественные используя метод astype в оценке критиков\n",
    "games['user_score'] = games['user_score'].apply(lambda x: x*10) # оценку пользователей умножим на 10, чтобы у оценок пользователей был одинаковый числовой ранг с оценкой критиков\n",
    "games['user_score'] = games['user_score'].astype('int') # заменим вещественные данные на числовые используя метод astype в оценке пользователей"
   ]
  },
  {
   "cell_type": "code",
   "execution_count": 26,
   "id": "65a62114",
   "metadata": {},
   "outputs": [
    {
     "name": "stdout",
     "output_type": "stream",
     "text": [
      "<class 'pandas.core.frame.DataFrame'>\n",
      "RangeIndex: 16715 entries, 0 to 16714\n",
      "Data columns (total 11 columns):\n",
      " #   Column           Non-Null Count  Dtype  \n",
      "---  ------           --------------  -----  \n",
      " 0   name             16715 non-null  object \n",
      " 1   platform         16715 non-null  object \n",
      " 2   year_of_release  16715 non-null  int32  \n",
      " 3   genre            16715 non-null  object \n",
      " 4   na_sales         16715 non-null  float64\n",
      " 5   eu_sales         16715 non-null  float64\n",
      " 6   jp_sales         16715 non-null  float64\n",
      " 7   other_sales      16715 non-null  float64\n",
      " 8   critic_score     16715 non-null  int32  \n",
      " 9   user_score       16715 non-null  int32  \n",
      " 10  rating           16715 non-null  object \n",
      "dtypes: float64(4), int32(3), object(4)\n",
      "memory usage: 1.2+ MB\n"
     ]
    }
   ],
   "source": [
    "games.info()"
   ]
  },
  {
   "cell_type": "markdown",
   "id": "eef08d40",
   "metadata": {},
   "source": [
    "**Вывод**\n",
    "<br><br>\n",
    "Замену типов данные выполнили в столбцах `year_of_release`, `critic_score` и `user_score`, тк нам потребуются данные в этих столбцах для дальнейшего исследования и  подсчётов в данных столбцах, а с типом  данных `int` делать это удобнее всего.\n"
   ]
  },
  {
   "cell_type": "markdown",
   "id": "40fd556b",
   "metadata": {},
   "source": [
    "###  Посчитаем суммарные продажи"
   ]
  },
  {
   "cell_type": "markdown",
   "id": "08e04e01",
   "metadata": {},
   "source": [
    "Посчитаем суммарные продажи во всех регионах и запишем их в отдельный столбец:"
   ]
  },
  {
   "cell_type": "code",
   "execution_count": 27,
   "id": "a91c4d7c",
   "metadata": {},
   "outputs": [],
   "source": [
    "games['total_sales'] = games['na_sales'] + games['eu_sales'] +  games['jp_sales'] + games['other_sales']"
   ]
  },
  {
   "cell_type": "markdown",
   "id": "f69d7d83",
   "metadata": {},
   "source": [
    "**Вывод**\n",
    "<br><br>\n",
    "Добавили новый столбец `total_sales` и посчитали в нём суммарные продажи по  всем регионам в миллионах копий."
   ]
  },
  {
   "cell_type": "markdown",
   "id": "2d38c793",
   "metadata": {},
   "source": [
    "## Проводим исследовательский анализ данных"
   ]
  },
  {
   "cell_type": "markdown",
   "id": "53386263",
   "metadata": {},
   "source": [
    "### Посмотрим, сколько игр выпускалось в разные годы и важны ли данные за все периоды"
   ]
  },
  {
   "cell_type": "markdown",
   "id": "1af6ca62",
   "metadata": {},
   "source": [
    "Посмотрим как распределились результаты по годам:"
   ]
  },
  {
   "cell_type": "code",
   "execution_count": 28,
   "id": "d56d62a0",
   "metadata": {},
   "outputs": [
    {
     "data": {
      "text/html": [
       "<div>\n",
       "<style scoped>\n",
       "    .dataframe tbody tr th:only-of-type {\n",
       "        vertical-align: middle;\n",
       "    }\n",
       "\n",
       "    .dataframe tbody tr th {\n",
       "        vertical-align: top;\n",
       "    }\n",
       "\n",
       "    .dataframe thead th {\n",
       "        text-align: right;\n",
       "    }\n",
       "</style>\n",
       "<table border=\"1\" class=\"dataframe\">\n",
       "  <thead>\n",
       "    <tr style=\"text-align: right;\">\n",
       "      <th></th>\n",
       "      <th>name</th>\n",
       "    </tr>\n",
       "    <tr>\n",
       "      <th>year_of_release</th>\n",
       "      <th></th>\n",
       "    </tr>\n",
       "  </thead>\n",
       "  <tbody>\n",
       "    <tr>\n",
       "      <th>1979</th>\n",
       "      <td>269</td>\n",
       "    </tr>\n",
       "    <tr>\n",
       "      <th>1980</th>\n",
       "      <td>9</td>\n",
       "    </tr>\n",
       "    <tr>\n",
       "      <th>1981</th>\n",
       "      <td>46</td>\n",
       "    </tr>\n",
       "    <tr>\n",
       "      <th>1982</th>\n",
       "      <td>36</td>\n",
       "    </tr>\n",
       "    <tr>\n",
       "      <th>1983</th>\n",
       "      <td>17</td>\n",
       "    </tr>\n",
       "    <tr>\n",
       "      <th>1984</th>\n",
       "      <td>14</td>\n",
       "    </tr>\n",
       "    <tr>\n",
       "      <th>1985</th>\n",
       "      <td>14</td>\n",
       "    </tr>\n",
       "    <tr>\n",
       "      <th>1986</th>\n",
       "      <td>21</td>\n",
       "    </tr>\n",
       "    <tr>\n",
       "      <th>1987</th>\n",
       "      <td>16</td>\n",
       "    </tr>\n",
       "    <tr>\n",
       "      <th>1988</th>\n",
       "      <td>15</td>\n",
       "    </tr>\n",
       "    <tr>\n",
       "      <th>1989</th>\n",
       "      <td>17</td>\n",
       "    </tr>\n",
       "    <tr>\n",
       "      <th>1990</th>\n",
       "      <td>16</td>\n",
       "    </tr>\n",
       "    <tr>\n",
       "      <th>1991</th>\n",
       "      <td>41</td>\n",
       "    </tr>\n",
       "    <tr>\n",
       "      <th>1992</th>\n",
       "      <td>43</td>\n",
       "    </tr>\n",
       "    <tr>\n",
       "      <th>1993</th>\n",
       "      <td>62</td>\n",
       "    </tr>\n",
       "    <tr>\n",
       "      <th>1994</th>\n",
       "      <td>121</td>\n",
       "    </tr>\n",
       "    <tr>\n",
       "      <th>1995</th>\n",
       "      <td>219</td>\n",
       "    </tr>\n",
       "    <tr>\n",
       "      <th>1996</th>\n",
       "      <td>263</td>\n",
       "    </tr>\n",
       "    <tr>\n",
       "      <th>1997</th>\n",
       "      <td>289</td>\n",
       "    </tr>\n",
       "    <tr>\n",
       "      <th>1998</th>\n",
       "      <td>379</td>\n",
       "    </tr>\n",
       "    <tr>\n",
       "      <th>1999</th>\n",
       "      <td>338</td>\n",
       "    </tr>\n",
       "    <tr>\n",
       "      <th>2000</th>\n",
       "      <td>350</td>\n",
       "    </tr>\n",
       "    <tr>\n",
       "      <th>2001</th>\n",
       "      <td>482</td>\n",
       "    </tr>\n",
       "    <tr>\n",
       "      <th>2002</th>\n",
       "      <td>829</td>\n",
       "    </tr>\n",
       "    <tr>\n",
       "      <th>2003</th>\n",
       "      <td>775</td>\n",
       "    </tr>\n",
       "    <tr>\n",
       "      <th>2004</th>\n",
       "      <td>762</td>\n",
       "    </tr>\n",
       "    <tr>\n",
       "      <th>2005</th>\n",
       "      <td>939</td>\n",
       "    </tr>\n",
       "    <tr>\n",
       "      <th>2006</th>\n",
       "      <td>1006</td>\n",
       "    </tr>\n",
       "    <tr>\n",
       "      <th>2007</th>\n",
       "      <td>1197</td>\n",
       "    </tr>\n",
       "    <tr>\n",
       "      <th>2008</th>\n",
       "      <td>1427</td>\n",
       "    </tr>\n",
       "    <tr>\n",
       "      <th>2009</th>\n",
       "      <td>1426</td>\n",
       "    </tr>\n",
       "    <tr>\n",
       "      <th>2010</th>\n",
       "      <td>1255</td>\n",
       "    </tr>\n",
       "    <tr>\n",
       "      <th>2011</th>\n",
       "      <td>1136</td>\n",
       "    </tr>\n",
       "    <tr>\n",
       "      <th>2012</th>\n",
       "      <td>653</td>\n",
       "    </tr>\n",
       "    <tr>\n",
       "      <th>2013</th>\n",
       "      <td>544</td>\n",
       "    </tr>\n",
       "    <tr>\n",
       "      <th>2014</th>\n",
       "      <td>581</td>\n",
       "    </tr>\n",
       "    <tr>\n",
       "      <th>2015</th>\n",
       "      <td>606</td>\n",
       "    </tr>\n",
       "    <tr>\n",
       "      <th>2016</th>\n",
       "      <td>502</td>\n",
       "    </tr>\n",
       "  </tbody>\n",
       "</table>\n",
       "</div>"
      ],
      "text/plain": [
       "                 name\n",
       "year_of_release      \n",
       "1979              269\n",
       "1980                9\n",
       "1981               46\n",
       "1982               36\n",
       "1983               17\n",
       "1984               14\n",
       "1985               14\n",
       "1986               21\n",
       "1987               16\n",
       "1988               15\n",
       "1989               17\n",
       "1990               16\n",
       "1991               41\n",
       "1992               43\n",
       "1993               62\n",
       "1994              121\n",
       "1995              219\n",
       "1996              263\n",
       "1997              289\n",
       "1998              379\n",
       "1999              338\n",
       "2000              350\n",
       "2001              482\n",
       "2002              829\n",
       "2003              775\n",
       "2004              762\n",
       "2005              939\n",
       "2006             1006\n",
       "2007             1197\n",
       "2008             1427\n",
       "2009             1426\n",
       "2010             1255\n",
       "2011             1136\n",
       "2012              653\n",
       "2013              544\n",
       "2014              581\n",
       "2015              606\n",
       "2016              502"
      ]
     },
     "execution_count": 28,
     "metadata": {},
     "output_type": "execute_result"
    }
   ],
   "source": [
    "count_games_year = pd.pivot_table(games, index='year_of_release', values = 'name', aggfunc='count')# сделаем новую таблицу с подсчётом числа выпуска игр по годам\n",
    "count_games_year"
   ]
  },
  {
   "cell_type": "markdown",
   "id": "dc10c41b",
   "metadata": {},
   "source": [
    "Посмотрим как на графике выглядит выпуск игр за все периоды и при этом исключим значения, которые указали в качестве заглушки (1979 год):"
   ]
  },
  {
   "cell_type": "code",
   "execution_count": 29,
   "id": "4f31f272",
   "metadata": {},
   "outputs": [
    {
     "data": {
      "text/plain": [
       "<AxesSubplot:xlabel='year_of_release'>"
      ]
     },
     "execution_count": 29,
     "metadata": {},
     "output_type": "execute_result"
    },
    {
     "data": {
      "image/png": "[encoded data removed]",
      "text/plain": [
       "<Figure size 720x720 with 1 Axes>"
      ]
     },
     "metadata": {
      "needs_background": "light"
     },
     "output_type": "display_data"
    }
   ],
   "source": [
    "count_games_year.drop(1979)['name'].plot(figsize = (10, 10), grid=True)"
   ]
  },
  {
   "cell_type": "markdown",
   "id": "7554b382",
   "metadata": {},
   "source": [
    "   "
   ]
  },
  {
   "cell_type": "markdown",
   "id": "b8e12db2",
   "metadata": {},
   "source": [
    "**Вывод**\n",
    "<br><br>\n",
    "C 1980 года игр каждый год  выпускалось всё больше и больше до 2008 год, далее число игр выпускаемых в год стало постепено снижаться. Распределение по десятилетиям примерно такое:\n",
    "\n",
    "   * В восьмидесятые выпускалось от 9 до 46 игр в год.\n",
    "   * В девяностые выпускалось от 16 до 338 игр в год.\n",
    "   * В нулевые выпускалось от 350 до 1427 игр в год.\n",
    "   * В десятых выпускалось от 502 до 1255 игр в год.\n",
    "   \n",
    "<br>\n",
    "Чтобы понять важны ли данные за все периоды или есть выбросы мы построили график и выбросов нет, следовательно все данные за все периоды будем считать важными."
   ]
  },
  {
   "cell_type": "markdown",
   "id": "d53440a9",
   "metadata": {},
   "source": [
    "### Посмотрим, как менялись продажи по платформам"
   ]
  },
  {
   "cell_type": "markdown",
   "id": "33e7137a",
   "metadata": {},
   "source": [
    "Посмотрим платформы по суммарным продажам:"
   ]
  },
  {
   "cell_type": "code",
   "execution_count": 30,
   "id": "5519a9c7",
   "metadata": {},
   "outputs": [
    {
     "data": {
      "text/html": [
       "<div>\n",
       "<style scoped>\n",
       "    .dataframe tbody tr th:only-of-type {\n",
       "        vertical-align: middle;\n",
       "    }\n",
       "\n",
       "    .dataframe tbody tr th {\n",
       "        vertical-align: top;\n",
       "    }\n",
       "\n",
       "    .dataframe thead th {\n",
       "        text-align: right;\n",
       "    }\n",
       "</style>\n",
       "<table border=\"1\" class=\"dataframe\">\n",
       "  <thead>\n",
       "    <tr style=\"text-align: right;\">\n",
       "      <th></th>\n",
       "      <th>total_sales</th>\n",
       "    </tr>\n",
       "    <tr>\n",
       "      <th>platform</th>\n",
       "      <th></th>\n",
       "    </tr>\n",
       "  </thead>\n",
       "  <tbody>\n",
       "    <tr>\n",
       "      <th>PS2</th>\n",
       "      <td>1255.77</td>\n",
       "    </tr>\n",
       "    <tr>\n",
       "      <th>X360</th>\n",
       "      <td>971.42</td>\n",
       "    </tr>\n",
       "    <tr>\n",
       "      <th>PS3</th>\n",
       "      <td>939.65</td>\n",
       "    </tr>\n",
       "    <tr>\n",
       "      <th>Wii</th>\n",
       "      <td>907.51</td>\n",
       "    </tr>\n",
       "    <tr>\n",
       "      <th>DS</th>\n",
       "      <td>806.12</td>\n",
       "    </tr>\n",
       "    <tr>\n",
       "      <th>PS</th>\n",
       "      <td>730.86</td>\n",
       "    </tr>\n",
       "    <tr>\n",
       "      <th>GBA</th>\n",
       "      <td>317.85</td>\n",
       "    </tr>\n",
       "    <tr>\n",
       "      <th>PS4</th>\n",
       "      <td>314.14</td>\n",
       "    </tr>\n",
       "    <tr>\n",
       "      <th>PSP</th>\n",
       "      <td>294.05</td>\n",
       "    </tr>\n",
       "    <tr>\n",
       "      <th>PC</th>\n",
       "      <td>259.52</td>\n",
       "    </tr>\n",
       "    <tr>\n",
       "      <th>3DS</th>\n",
       "      <td>259.00</td>\n",
       "    </tr>\n",
       "    <tr>\n",
       "      <th>XB</th>\n",
       "      <td>257.74</td>\n",
       "    </tr>\n",
       "    <tr>\n",
       "      <th>GB</th>\n",
       "      <td>255.46</td>\n",
       "    </tr>\n",
       "    <tr>\n",
       "      <th>NES</th>\n",
       "      <td>251.05</td>\n",
       "    </tr>\n",
       "    <tr>\n",
       "      <th>N64</th>\n",
       "      <td>218.68</td>\n",
       "    </tr>\n",
       "    <tr>\n",
       "      <th>SNES</th>\n",
       "      <td>200.04</td>\n",
       "    </tr>\n",
       "    <tr>\n",
       "      <th>GC</th>\n",
       "      <td>198.93</td>\n",
       "    </tr>\n",
       "    <tr>\n",
       "      <th>XOne</th>\n",
       "      <td>159.32</td>\n",
       "    </tr>\n",
       "    <tr>\n",
       "      <th>2600</th>\n",
       "      <td>96.98</td>\n",
       "    </tr>\n",
       "    <tr>\n",
       "      <th>WiiU</th>\n",
       "      <td>82.19</td>\n",
       "    </tr>\n",
       "    <tr>\n",
       "      <th>PSV</th>\n",
       "      <td>54.07</td>\n",
       "    </tr>\n",
       "    <tr>\n",
       "      <th>SAT</th>\n",
       "      <td>33.59</td>\n",
       "    </tr>\n",
       "    <tr>\n",
       "      <th>GEN</th>\n",
       "      <td>30.77</td>\n",
       "    </tr>\n",
       "    <tr>\n",
       "      <th>DC</th>\n",
       "      <td>15.95</td>\n",
       "    </tr>\n",
       "    <tr>\n",
       "      <th>SCD</th>\n",
       "      <td>1.86</td>\n",
       "    </tr>\n",
       "    <tr>\n",
       "      <th>NG</th>\n",
       "      <td>1.44</td>\n",
       "    </tr>\n",
       "    <tr>\n",
       "      <th>WS</th>\n",
       "      <td>1.42</td>\n",
       "    </tr>\n",
       "    <tr>\n",
       "      <th>TG16</th>\n",
       "      <td>0.16</td>\n",
       "    </tr>\n",
       "    <tr>\n",
       "      <th>3DO</th>\n",
       "      <td>0.10</td>\n",
       "    </tr>\n",
       "    <tr>\n",
       "      <th>GG</th>\n",
       "      <td>0.04</td>\n",
       "    </tr>\n",
       "    <tr>\n",
       "      <th>PCFX</th>\n",
       "      <td>0.03</td>\n",
       "    </tr>\n",
       "  </tbody>\n",
       "</table>\n",
       "</div>"
      ],
      "text/plain": [
       "          total_sales\n",
       "platform             \n",
       "PS2           1255.77\n",
       "X360           971.42\n",
       "PS3            939.65\n",
       "Wii            907.51\n",
       "DS             806.12\n",
       "PS             730.86\n",
       "GBA            317.85\n",
       "PS4            314.14\n",
       "PSP            294.05\n",
       "PC             259.52\n",
       "3DS            259.00\n",
       "XB             257.74\n",
       "GB             255.46\n",
       "NES            251.05\n",
       "N64            218.68\n",
       "SNES           200.04\n",
       "GC             198.93\n",
       "XOne           159.32\n",
       "2600            96.98\n",
       "WiiU            82.19\n",
       "PSV             54.07\n",
       "SAT             33.59\n",
       "GEN             30.77\n",
       "DC              15.95\n",
       "SCD              1.86\n",
       "NG               1.44\n",
       "WS               1.42\n",
       "TG16             0.16\n",
       "3DO              0.10\n",
       "GG               0.04\n",
       "PCFX             0.03"
      ]
     },
     "execution_count": 30,
     "metadata": {},
     "output_type": "execute_result"
    }
   ],
   "source": [
    "total_sales_platform = pd.pivot_table(games, index='platform', values = 'total_sales', aggfunc='sum')# сделаем новую таблицу с подсчётом продаж по платформам\n",
    "total_sales_platform = total_sales_platform.sort_values(('total_sales'), ascending=False) # отсортируем по продажам от большего к меньшему\n",
    "total_sales_platform"
   ]
  },
  {
   "cell_type": "markdown",
   "id": "d5777f01",
   "metadata": {},
   "source": [
    "Сделаем таблицу с самыми успешно продаваемыми платформами за всю историю от 290 млн. доларов и далее разобьём их по годам:"
   ]
  },
  {
   "cell_type": "code",
   "execution_count": 31,
   "id": "1a75fc37",
   "metadata": {},
   "outputs": [
    {
     "data": {
      "text/plain": [
       "Index(['PS2', 'X360', 'PS3', 'Wii', 'DS', 'PS', 'GBA', 'PS4', 'PSP'], dtype='object', name='platform')"
      ]
     },
     "execution_count": 31,
     "metadata": {},
     "output_type": "execute_result"
    }
   ],
   "source": [
    "#выделим самые успешно продаваемые платформы\n",
    "total_sales_platform_top = total_sales_platform.query('total_sales > 290')\n",
    "total_sales_platform_top.index"
   ]
  },
  {
   "cell_type": "code",
   "execution_count": 32,
   "id": "c80ed35e",
   "metadata": {
    "scrolled": false
   },
   "outputs": [
    {
     "data": {
      "text/html": [
       "<div>\n",
       "<style scoped>\n",
       "    .dataframe tbody tr th:only-of-type {\n",
       "        vertical-align: middle;\n",
       "    }\n",
       "\n",
       "    .dataframe tbody tr th {\n",
       "        vertical-align: top;\n",
       "    }\n",
       "\n",
       "    .dataframe thead th {\n",
       "        text-align: right;\n",
       "    }\n",
       "</style>\n",
       "<table border=\"1\" class=\"dataframe\">\n",
       "  <thead>\n",
       "    <tr style=\"text-align: right;\">\n",
       "      <th>platform</th>\n",
       "      <th>DS</th>\n",
       "      <th>GBA</th>\n",
       "      <th>PS</th>\n",
       "      <th>PS2</th>\n",
       "      <th>PS3</th>\n",
       "      <th>PS4</th>\n",
       "      <th>PSP</th>\n",
       "      <th>Wii</th>\n",
       "      <th>X360</th>\n",
       "    </tr>\n",
       "    <tr>\n",
       "      <th>year_of_release</th>\n",
       "      <th></th>\n",
       "      <th></th>\n",
       "      <th></th>\n",
       "      <th></th>\n",
       "      <th></th>\n",
       "      <th></th>\n",
       "      <th></th>\n",
       "      <th></th>\n",
       "      <th></th>\n",
       "    </tr>\n",
       "  </thead>\n",
       "  <tbody>\n",
       "    <tr>\n",
       "      <th>1994</th>\n",
       "      <td>NaN</td>\n",
       "      <td>NaN</td>\n",
       "      <td>6.03</td>\n",
       "      <td>NaN</td>\n",
       "      <td>NaN</td>\n",
       "      <td>NaN</td>\n",
       "      <td>NaN</td>\n",
       "      <td>NaN</td>\n",
       "      <td>NaN</td>\n",
       "    </tr>\n",
       "    <tr>\n",
       "      <th>1995</th>\n",
       "      <td>NaN</td>\n",
       "      <td>NaN</td>\n",
       "      <td>35.96</td>\n",
       "      <td>NaN</td>\n",
       "      <td>NaN</td>\n",
       "      <td>NaN</td>\n",
       "      <td>NaN</td>\n",
       "      <td>NaN</td>\n",
       "      <td>NaN</td>\n",
       "    </tr>\n",
       "    <tr>\n",
       "      <th>1996</th>\n",
       "      <td>NaN</td>\n",
       "      <td>NaN</td>\n",
       "      <td>94.70</td>\n",
       "      <td>NaN</td>\n",
       "      <td>NaN</td>\n",
       "      <td>NaN</td>\n",
       "      <td>NaN</td>\n",
       "      <td>NaN</td>\n",
       "      <td>NaN</td>\n",
       "    </tr>\n",
       "    <tr>\n",
       "      <th>1997</th>\n",
       "      <td>NaN</td>\n",
       "      <td>NaN</td>\n",
       "      <td>136.17</td>\n",
       "      <td>NaN</td>\n",
       "      <td>NaN</td>\n",
       "      <td>NaN</td>\n",
       "      <td>NaN</td>\n",
       "      <td>NaN</td>\n",
       "      <td>NaN</td>\n",
       "    </tr>\n",
       "    <tr>\n",
       "      <th>1998</th>\n",
       "      <td>NaN</td>\n",
       "      <td>NaN</td>\n",
       "      <td>169.49</td>\n",
       "      <td>NaN</td>\n",
       "      <td>NaN</td>\n",
       "      <td>NaN</td>\n",
       "      <td>NaN</td>\n",
       "      <td>NaN</td>\n",
       "      <td>NaN</td>\n",
       "    </tr>\n",
       "    <tr>\n",
       "      <th>1999</th>\n",
       "      <td>NaN</td>\n",
       "      <td>NaN</td>\n",
       "      <td>144.53</td>\n",
       "      <td>NaN</td>\n",
       "      <td>NaN</td>\n",
       "      <td>NaN</td>\n",
       "      <td>NaN</td>\n",
       "      <td>NaN</td>\n",
       "      <td>NaN</td>\n",
       "    </tr>\n",
       "    <tr>\n",
       "      <th>2000</th>\n",
       "      <td>NaN</td>\n",
       "      <td>0.07</td>\n",
       "      <td>96.37</td>\n",
       "      <td>39.17</td>\n",
       "      <td>NaN</td>\n",
       "      <td>NaN</td>\n",
       "      <td>NaN</td>\n",
       "      <td>NaN</td>\n",
       "      <td>NaN</td>\n",
       "    </tr>\n",
       "    <tr>\n",
       "      <th>2001</th>\n",
       "      <td>NaN</td>\n",
       "      <td>61.53</td>\n",
       "      <td>35.59</td>\n",
       "      <td>166.43</td>\n",
       "      <td>NaN</td>\n",
       "      <td>NaN</td>\n",
       "      <td>NaN</td>\n",
       "      <td>NaN</td>\n",
       "      <td>NaN</td>\n",
       "    </tr>\n",
       "    <tr>\n",
       "      <th>2002</th>\n",
       "      <td>NaN</td>\n",
       "      <td>74.16</td>\n",
       "      <td>6.67</td>\n",
       "      <td>205.38</td>\n",
       "      <td>NaN</td>\n",
       "      <td>NaN</td>\n",
       "      <td>NaN</td>\n",
       "      <td>NaN</td>\n",
       "      <td>NaN</td>\n",
       "    </tr>\n",
       "    <tr>\n",
       "      <th>2003</th>\n",
       "      <td>NaN</td>\n",
       "      <td>56.67</td>\n",
       "      <td>2.07</td>\n",
       "      <td>184.31</td>\n",
       "      <td>NaN</td>\n",
       "      <td>NaN</td>\n",
       "      <td>NaN</td>\n",
       "      <td>NaN</td>\n",
       "      <td>NaN</td>\n",
       "    </tr>\n",
       "    <tr>\n",
       "      <th>2004</th>\n",
       "      <td>17.27</td>\n",
       "      <td>77.91</td>\n",
       "      <td>NaN</td>\n",
       "      <td>211.81</td>\n",
       "      <td>NaN</td>\n",
       "      <td>NaN</td>\n",
       "      <td>7.06</td>\n",
       "      <td>NaN</td>\n",
       "      <td>NaN</td>\n",
       "    </tr>\n",
       "    <tr>\n",
       "      <th>2005</th>\n",
       "      <td>130.14</td>\n",
       "      <td>33.86</td>\n",
       "      <td>NaN</td>\n",
       "      <td>160.66</td>\n",
       "      <td>NaN</td>\n",
       "      <td>NaN</td>\n",
       "      <td>43.84</td>\n",
       "      <td>NaN</td>\n",
       "      <td>8.25</td>\n",
       "    </tr>\n",
       "    <tr>\n",
       "      <th>2006</th>\n",
       "      <td>119.81</td>\n",
       "      <td>5.28</td>\n",
       "      <td>NaN</td>\n",
       "      <td>103.42</td>\n",
       "      <td>20.96</td>\n",
       "      <td>NaN</td>\n",
       "      <td>55.32</td>\n",
       "      <td>137.15</td>\n",
       "      <td>51.62</td>\n",
       "    </tr>\n",
       "    <tr>\n",
       "      <th>2007</th>\n",
       "      <td>146.94</td>\n",
       "      <td>3.40</td>\n",
       "      <td>NaN</td>\n",
       "      <td>75.99</td>\n",
       "      <td>73.19</td>\n",
       "      <td>NaN</td>\n",
       "      <td>46.93</td>\n",
       "      <td>152.77</td>\n",
       "      <td>95.41</td>\n",
       "    </tr>\n",
       "    <tr>\n",
       "      <th>2008</th>\n",
       "      <td>145.31</td>\n",
       "      <td>NaN</td>\n",
       "      <td>NaN</td>\n",
       "      <td>53.90</td>\n",
       "      <td>118.52</td>\n",
       "      <td>NaN</td>\n",
       "      <td>34.55</td>\n",
       "      <td>171.32</td>\n",
       "      <td>135.26</td>\n",
       "    </tr>\n",
       "    <tr>\n",
       "      <th>2009</th>\n",
       "      <td>119.54</td>\n",
       "      <td>NaN</td>\n",
       "      <td>NaN</td>\n",
       "      <td>26.40</td>\n",
       "      <td>130.93</td>\n",
       "      <td>NaN</td>\n",
       "      <td>37.78</td>\n",
       "      <td>206.97</td>\n",
       "      <td>120.29</td>\n",
       "    </tr>\n",
       "    <tr>\n",
       "      <th>2010</th>\n",
       "      <td>85.02</td>\n",
       "      <td>NaN</td>\n",
       "      <td>NaN</td>\n",
       "      <td>5.64</td>\n",
       "      <td>142.17</td>\n",
       "      <td>NaN</td>\n",
       "      <td>35.04</td>\n",
       "      <td>127.95</td>\n",
       "      <td>170.03</td>\n",
       "    </tr>\n",
       "    <tr>\n",
       "      <th>2011</th>\n",
       "      <td>26.18</td>\n",
       "      <td>NaN</td>\n",
       "      <td>NaN</td>\n",
       "      <td>0.45</td>\n",
       "      <td>156.78</td>\n",
       "      <td>NaN</td>\n",
       "      <td>17.82</td>\n",
       "      <td>59.65</td>\n",
       "      <td>143.84</td>\n",
       "    </tr>\n",
       "    <tr>\n",
       "      <th>2012</th>\n",
       "      <td>11.01</td>\n",
       "      <td>NaN</td>\n",
       "      <td>NaN</td>\n",
       "      <td>NaN</td>\n",
       "      <td>107.36</td>\n",
       "      <td>NaN</td>\n",
       "      <td>7.69</td>\n",
       "      <td>21.71</td>\n",
       "      <td>99.74</td>\n",
       "    </tr>\n",
       "    <tr>\n",
       "      <th>2013</th>\n",
       "      <td>1.54</td>\n",
       "      <td>NaN</td>\n",
       "      <td>NaN</td>\n",
       "      <td>NaN</td>\n",
       "      <td>113.25</td>\n",
       "      <td>25.99</td>\n",
       "      <td>3.14</td>\n",
       "      <td>8.59</td>\n",
       "      <td>88.58</td>\n",
       "    </tr>\n",
       "    <tr>\n",
       "      <th>2014</th>\n",
       "      <td>NaN</td>\n",
       "      <td>NaN</td>\n",
       "      <td>NaN</td>\n",
       "      <td>NaN</td>\n",
       "      <td>47.76</td>\n",
       "      <td>100.00</td>\n",
       "      <td>0.24</td>\n",
       "      <td>3.75</td>\n",
       "      <td>34.74</td>\n",
       "    </tr>\n",
       "    <tr>\n",
       "      <th>2015</th>\n",
       "      <td>NaN</td>\n",
       "      <td>NaN</td>\n",
       "      <td>NaN</td>\n",
       "      <td>NaN</td>\n",
       "      <td>16.82</td>\n",
       "      <td>118.90</td>\n",
       "      <td>0.12</td>\n",
       "      <td>1.14</td>\n",
       "      <td>11.96</td>\n",
       "    </tr>\n",
       "    <tr>\n",
       "      <th>2016</th>\n",
       "      <td>NaN</td>\n",
       "      <td>NaN</td>\n",
       "      <td>NaN</td>\n",
       "      <td>NaN</td>\n",
       "      <td>3.60</td>\n",
       "      <td>69.25</td>\n",
       "      <td>NaN</td>\n",
       "      <td>0.18</td>\n",
       "      <td>1.52</td>\n",
       "    </tr>\n",
       "  </tbody>\n",
       "</table>\n",
       "</div>"
      ],
      "text/plain": [
       "platform             DS    GBA      PS     PS2     PS3     PS4    PSP     Wii  \\\n",
       "year_of_release                                                                 \n",
       "1994                NaN    NaN    6.03     NaN     NaN     NaN    NaN     NaN   \n",
       "1995                NaN    NaN   35.96     NaN     NaN     NaN    NaN     NaN   \n",
       "1996                NaN    NaN   94.70     NaN     NaN     NaN    NaN     NaN   \n",
       "1997                NaN    NaN  136.17     NaN     NaN     NaN    NaN     NaN   \n",
       "1998                NaN    NaN  169.49     NaN     NaN     NaN    NaN     NaN   \n",
       "1999                NaN    NaN  144.53     NaN     NaN     NaN    NaN     NaN   \n",
       "2000                NaN   0.07   96.37   39.17     NaN     NaN    NaN     NaN   \n",
       "2001                NaN  61.53   35.59  166.43     NaN     NaN    NaN     NaN   \n",
       "2002                NaN  74.16    6.67  205.38     NaN     NaN    NaN     NaN   \n",
       "2003                NaN  56.67    2.07  184.31     NaN     NaN    NaN     NaN   \n",
       "2004              17.27  77.91     NaN  211.81     NaN     NaN   7.06     NaN   \n",
       "2005             130.14  33.86     NaN  160.66     NaN     NaN  43.84     NaN   \n",
       "2006             119.81   5.28     NaN  103.42   20.96     NaN  55.32  137.15   \n",
       "2007             146.94   3.40     NaN   75.99   73.19     NaN  46.93  152.77   \n",
       "2008             145.31    NaN     NaN   53.90  118.52     NaN  34.55  171.32   \n",
       "2009             119.54    NaN     NaN   26.40  130.93     NaN  37.78  206.97   \n",
       "2010              85.02    NaN     NaN    5.64  142.17     NaN  35.04  127.95   \n",
       "2011              26.18    NaN     NaN    0.45  156.78     NaN  17.82   59.65   \n",
       "2012              11.01    NaN     NaN     NaN  107.36     NaN   7.69   21.71   \n",
       "2013               1.54    NaN     NaN     NaN  113.25   25.99   3.14    8.59   \n",
       "2014                NaN    NaN     NaN     NaN   47.76  100.00   0.24    3.75   \n",
       "2015                NaN    NaN     NaN     NaN   16.82  118.90   0.12    1.14   \n",
       "2016                NaN    NaN     NaN     NaN    3.60   69.25    NaN    0.18   \n",
       "\n",
       "platform           X360  \n",
       "year_of_release          \n",
       "1994                NaN  \n",
       "1995                NaN  \n",
       "1996                NaN  \n",
       "1997                NaN  \n",
       "1998                NaN  \n",
       "1999                NaN  \n",
       "2000                NaN  \n",
       "2001                NaN  \n",
       "2002                NaN  \n",
       "2003                NaN  \n",
       "2004                NaN  \n",
       "2005               8.25  \n",
       "2006              51.62  \n",
       "2007              95.41  \n",
       "2008             135.26  \n",
       "2009             120.29  \n",
       "2010             170.03  \n",
       "2011             143.84  \n",
       "2012              99.74  \n",
       "2013              88.58  \n",
       "2014              34.74  \n",
       "2015              11.96  \n",
       "2016               1.52  "
      ]
     },
     "execution_count": 32,
     "metadata": {},
     "output_type": "execute_result"
    }
   ],
   "source": [
    "games_platform = games[games['platform'].isin(['PS2', 'X360', 'PS3', 'Wii', 'DS', 'PS', 'GBA', 'PS4', 'PSP'])] # оставим в таблице только топовые платформы\n",
    "total_sales_platform_years = pd.pivot_table(games_platform, index='platform', columns='year_of_release',values = 'total_sales', aggfunc='sum')# сделаем новую таблицу с подсчётом продаж по самым успешным платформам с разбивкой по годам\n",
    "total_sales_platform_years = total_sales_platform_years.drop([1979, 1985], axis=1) # сбросим данные из заглушки\n",
    "total_sales_platform_years = total_sales_platform_years.T # развернём таблицу для наглядности и для дальнейшего построения графика\n",
    "total_sales_platform_years"
   ]
  },
  {
   "cell_type": "markdown",
   "id": "7b121f95",
   "metadata": {},
   "source": [
    "Посмотрим график по таблице с продажами по годам самых успешных платформ:"
   ]
  },
  {
   "cell_type": "code",
   "execution_count": 33,
   "id": "56acd033",
   "metadata": {
    "scrolled": false
   },
   "outputs": [
    {
     "data": {
      "text/plain": [
       "<AxesSubplot:xlabel='year_of_release'>"
      ]
     },
     "execution_count": 33,
     "metadata": {},
     "output_type": "execute_result"
    },
    {
     "data": {
      "image/png": "[encoded data removed]",
      "text/plain": [
       "<Figure size 1656x1080 with 1 Axes>"
      ]
     },
     "metadata": {
      "needs_background": "light"
     },
     "output_type": "display_data"
    }
   ],
   "source": [
    "total_sales_platform_years.plot(figsize = (23, 15), grid=True, lw = 3, marker='o')"
   ]
  },
  {
   "cell_type": "markdown",
   "id": "2f8bddf3",
   "metadata": {},
   "source": [
    "**Вывод**\n",
    "<br><br>\n",
    "На платформах с наибольшими продажами срок существования платформы составляет примерно 12 лет. \n",
    "<br><br>\n",
    "Распределение продаж по годам для всех платформ с наибольшими продажами имеет нормальной распределение вида колокол - сначала продажи растут, далее на 4-5 год достигают максимума, а далее начинают падать.\n",
    "<br><br>\n",
    "При этом, можно наблюдать на платформах PS2, PS3, PS4, что после того, как платформа проходит максимальное число продаж и начинается спад продаж запускается новая платформа и её продажи начинают расти, а продажи предыдущей версии падать, а когда новая платформа достигает максимальных продаж, предыдущая платформа перестаёт существовать."
   ]
  },
  {
   "cell_type": "markdown",
   "id": "61ff0dfa",
   "metadata": {},
   "source": [
    "### Возьмём данные за соответствующий актуальный период"
   ]
  },
  {
   "cell_type": "markdown",
   "id": "1296c871",
   "metadata": {},
   "source": [
    "Возьмём данные из датафрейма `game` с 2014 по 2015 года и создадим новый датафрейм:"
   ]
  },
  {
   "cell_type": "code",
   "execution_count": 34,
   "id": "9fabaefc",
   "metadata": {},
   "outputs": [
    {
     "data": {
      "text/html": [
       "<div>\n",
       "<style scoped>\n",
       "    .dataframe tbody tr th:only-of-type {\n",
       "        vertical-align: middle;\n",
       "    }\n",
       "\n",
       "    .dataframe tbody tr th {\n",
       "        vertical-align: top;\n",
       "    }\n",
       "\n",
       "    .dataframe thead th {\n",
       "        text-align: right;\n",
       "    }\n",
       "</style>\n",
       "<table border=\"1\" class=\"dataframe\">\n",
       "  <thead>\n",
       "    <tr style=\"text-align: right;\">\n",
       "      <th></th>\n",
       "      <th>name</th>\n",
       "      <th>platform</th>\n",
       "      <th>year_of_release</th>\n",
       "      <th>genre</th>\n",
       "      <th>na_sales</th>\n",
       "      <th>eu_sales</th>\n",
       "      <th>jp_sales</th>\n",
       "      <th>other_sales</th>\n",
       "      <th>critic_score</th>\n",
       "      <th>user_score</th>\n",
       "      <th>rating</th>\n",
       "      <th>total_sales</th>\n",
       "    </tr>\n",
       "  </thead>\n",
       "  <tbody>\n",
       "    <tr>\n",
       "      <th>31</th>\n",
       "      <td>Call of Duty: Black Ops 3</td>\n",
       "      <td>PS4</td>\n",
       "      <td>2015</td>\n",
       "      <td>Shooter</td>\n",
       "      <td>6.03</td>\n",
       "      <td>5.86</td>\n",
       "      <td>0.36</td>\n",
       "      <td>2.38</td>\n",
       "      <td>-1</td>\n",
       "      <td>-1</td>\n",
       "      <td>unknown</td>\n",
       "      <td>14.63</td>\n",
       "    </tr>\n",
       "    <tr>\n",
       "      <th>42</th>\n",
       "      <td>Grand Theft Auto V</td>\n",
       "      <td>PS4</td>\n",
       "      <td>2014</td>\n",
       "      <td>Action</td>\n",
       "      <td>3.96</td>\n",
       "      <td>6.31</td>\n",
       "      <td>0.38</td>\n",
       "      <td>1.97</td>\n",
       "      <td>97</td>\n",
       "      <td>83</td>\n",
       "      <td>M</td>\n",
       "      <td>12.62</td>\n",
       "    </tr>\n",
       "    <tr>\n",
       "      <th>47</th>\n",
       "      <td>Pokemon Omega Ruby/Pokemon Alpha Sapphire</td>\n",
       "      <td>3DS</td>\n",
       "      <td>2014</td>\n",
       "      <td>Role-Playing</td>\n",
       "      <td>4.35</td>\n",
       "      <td>3.49</td>\n",
       "      <td>3.10</td>\n",
       "      <td>0.74</td>\n",
       "      <td>-1</td>\n",
       "      <td>-1</td>\n",
       "      <td>unknown</td>\n",
       "      <td>11.68</td>\n",
       "    </tr>\n",
       "    <tr>\n",
       "      <th>77</th>\n",
       "      <td>FIFA 16</td>\n",
       "      <td>PS4</td>\n",
       "      <td>2015</td>\n",
       "      <td>Sports</td>\n",
       "      <td>1.12</td>\n",
       "      <td>6.12</td>\n",
       "      <td>0.06</td>\n",
       "      <td>1.28</td>\n",
       "      <td>82</td>\n",
       "      <td>43</td>\n",
       "      <td>E</td>\n",
       "      <td>8.58</td>\n",
       "    </tr>\n",
       "    <tr>\n",
       "      <th>87</th>\n",
       "      <td>Star Wars Battlefront (2015)</td>\n",
       "      <td>PS4</td>\n",
       "      <td>2015</td>\n",
       "      <td>Shooter</td>\n",
       "      <td>2.99</td>\n",
       "      <td>3.49</td>\n",
       "      <td>0.22</td>\n",
       "      <td>1.28</td>\n",
       "      <td>-1</td>\n",
       "      <td>-1</td>\n",
       "      <td>unknown</td>\n",
       "      <td>7.98</td>\n",
       "    </tr>\n",
       "    <tr>\n",
       "      <th>...</th>\n",
       "      <td>...</td>\n",
       "      <td>...</td>\n",
       "      <td>...</td>\n",
       "      <td>...</td>\n",
       "      <td>...</td>\n",
       "      <td>...</td>\n",
       "      <td>...</td>\n",
       "      <td>...</td>\n",
       "      <td>...</td>\n",
       "      <td>...</td>\n",
       "      <td>...</td>\n",
       "      <td>...</td>\n",
       "    </tr>\n",
       "    <tr>\n",
       "      <th>16667</th>\n",
       "      <td>Hanasaku Manimani</td>\n",
       "      <td>PSV</td>\n",
       "      <td>2014</td>\n",
       "      <td>Adventure</td>\n",
       "      <td>0.00</td>\n",
       "      <td>0.00</td>\n",
       "      <td>0.01</td>\n",
       "      <td>0.00</td>\n",
       "      <td>-1</td>\n",
       "      <td>-1</td>\n",
       "      <td>unknown</td>\n",
       "      <td>0.01</td>\n",
       "    </tr>\n",
       "    <tr>\n",
       "      <th>16668</th>\n",
       "      <td>Fujiko F. Fujio Characters: Great Assembly! Sl...</td>\n",
       "      <td>3DS</td>\n",
       "      <td>2014</td>\n",
       "      <td>Action</td>\n",
       "      <td>0.00</td>\n",
       "      <td>0.00</td>\n",
       "      <td>0.01</td>\n",
       "      <td>0.00</td>\n",
       "      <td>-1</td>\n",
       "      <td>-1</td>\n",
       "      <td>unknown</td>\n",
       "      <td>0.01</td>\n",
       "    </tr>\n",
       "    <tr>\n",
       "      <th>16674</th>\n",
       "      <td>Tsukigime Ranko's Longest Day</td>\n",
       "      <td>PS3</td>\n",
       "      <td>2014</td>\n",
       "      <td>Action</td>\n",
       "      <td>0.00</td>\n",
       "      <td>0.01</td>\n",
       "      <td>0.00</td>\n",
       "      <td>0.00</td>\n",
       "      <td>-1</td>\n",
       "      <td>-1</td>\n",
       "      <td>unknown</td>\n",
       "      <td>0.01</td>\n",
       "    </tr>\n",
       "    <tr>\n",
       "      <th>16692</th>\n",
       "      <td>Metal Gear Solid V: Ground Zeroes</td>\n",
       "      <td>PC</td>\n",
       "      <td>2014</td>\n",
       "      <td>Action</td>\n",
       "      <td>0.00</td>\n",
       "      <td>0.01</td>\n",
       "      <td>0.00</td>\n",
       "      <td>0.00</td>\n",
       "      <td>80</td>\n",
       "      <td>76</td>\n",
       "      <td>M</td>\n",
       "      <td>0.01</td>\n",
       "    </tr>\n",
       "    <tr>\n",
       "      <th>16707</th>\n",
       "      <td>Aiyoku no Eustia</td>\n",
       "      <td>PSV</td>\n",
       "      <td>2014</td>\n",
       "      <td>Misc</td>\n",
       "      <td>0.00</td>\n",
       "      <td>0.00</td>\n",
       "      <td>0.01</td>\n",
       "      <td>0.00</td>\n",
       "      <td>-1</td>\n",
       "      <td>-1</td>\n",
       "      <td>unknown</td>\n",
       "      <td>0.01</td>\n",
       "    </tr>\n",
       "  </tbody>\n",
       "</table>\n",
       "<p>1187 rows × 12 columns</p>\n",
       "</div>"
      ],
      "text/plain": [
       "                                                    name platform  \\\n",
       "31                             Call of Duty: Black Ops 3      PS4   \n",
       "42                                    Grand Theft Auto V      PS4   \n",
       "47             Pokemon Omega Ruby/Pokemon Alpha Sapphire      3DS   \n",
       "77                                               FIFA 16      PS4   \n",
       "87                          Star Wars Battlefront (2015)      PS4   \n",
       "...                                                  ...      ...   \n",
       "16667                                  Hanasaku Manimani      PSV   \n",
       "16668  Fujiko F. Fujio Characters: Great Assembly! Sl...      3DS   \n",
       "16674                      Tsukigime Ranko's Longest Day      PS3   \n",
       "16692                  Metal Gear Solid V: Ground Zeroes       PC   \n",
       "16707                                   Aiyoku no Eustia      PSV   \n",
       "\n",
       "       year_of_release         genre  na_sales  eu_sales  jp_sales  \\\n",
       "31                2015       Shooter      6.03      5.86      0.36   \n",
       "42                2014        Action      3.96      6.31      0.38   \n",
       "47                2014  Role-Playing      4.35      3.49      3.10   \n",
       "77                2015        Sports      1.12      6.12      0.06   \n",
       "87                2015       Shooter      2.99      3.49      0.22   \n",
       "...                ...           ...       ...       ...       ...   \n",
       "16667             2014     Adventure      0.00      0.00      0.01   \n",
       "16668             2014        Action      0.00      0.00      0.01   \n",
       "16674             2014        Action      0.00      0.01      0.00   \n",
       "16692             2014        Action      0.00      0.01      0.00   \n",
       "16707             2014          Misc      0.00      0.00      0.01   \n",
       "\n",
       "       other_sales  critic_score  user_score   rating  total_sales  \n",
       "31            2.38            -1          -1  unknown        14.63  \n",
       "42            1.97            97          83        M        12.62  \n",
       "47            0.74            -1          -1  unknown        11.68  \n",
       "77            1.28            82          43        E         8.58  \n",
       "87            1.28            -1          -1  unknown         7.98  \n",
       "...            ...           ...         ...      ...          ...  \n",
       "16667         0.00            -1          -1  unknown         0.01  \n",
       "16668         0.00            -1          -1  unknown         0.01  \n",
       "16674         0.00            -1          -1  unknown         0.01  \n",
       "16692         0.00            80          76        M         0.01  \n",
       "16707         0.00            -1          -1  unknown         0.01  \n",
       "\n",
       "[1187 rows x 12 columns]"
      ]
     },
     "execution_count": 34,
     "metadata": {},
     "output_type": "execute_result"
    }
   ],
   "source": [
    "games_actual = games[games['year_of_release'].isin([2014, 2015])]\n",
    "games_actual"
   ]
  },
  {
   "cell_type": "markdown",
   "id": "3ce0937f",
   "metadata": {},
   "source": [
    "Посмотрим сумму продаж по платформам c 2015 года:"
   ]
  },
  {
   "cell_type": "code",
   "execution_count": 35,
   "id": "302137e2",
   "metadata": {},
   "outputs": [
    {
     "data": {
      "text/plain": [
       "platform\n",
       "PS4     218.90\n",
       "XOne    114.21\n",
       "3DS      71.54\n",
       "PS3      64.58\n",
       "X360     46.70\n",
       "WiiU     38.38\n",
       "PC       21.80\n",
       "PSV      18.15\n",
       "Wii       4.89\n",
       "PSP       0.36\n",
       "Name: total_sales, dtype: float64"
      ]
     },
     "execution_count": 35,
     "metadata": {},
     "output_type": "execute_result"
    }
   ],
   "source": [
    "games_actual.groupby('platform')['total_sales'].sum().sort_values(ascending = False)"
   ]
  },
  {
   "cell_type": "markdown",
   "id": "0ba38e42",
   "metadata": {},
   "source": [
    "**Вывод**\n",
    "<br><br>\n",
    "Из предыдущих исследований можно сделать вывод, что к актуальному периоду для дальнейшего исследования относятся 2014 и 2015 года, тк индустрия компьютерных игр очень динамично изменяется и смотреть периоды более старые не актуально из-за смены трендов, а данные за 2016 год согласно ТЗ могут быть неполными."
   ]
  },
  {
   "cell_type": "markdown",
   "id": "ed649d3f",
   "metadata": {},
   "source": [
    "### Не учитывайте в работе данные за предыдущие годы."
   ]
  },
  {
   "cell_type": "markdown",
   "id": "a7a4dbcc",
   "metadata": {},
   "source": [
    "**Вывод**\n",
    "<br><br>\n",
    "Не будем учитывать в исследование период до 2014 года и после 2015, тк за индустрия компьютерных игр слишком динамично меняется и тренды меняются быстро, а данные за 2016 год согласно ТЗ могут быть неполными."
   ]
  },
  {
   "cell_type": "markdown",
   "id": "0ec975e5",
   "metadata": {},
   "source": [
    "### Посмотрим какие платформы лидируют по продажам. Выясним растут или падают продажи. Выберем несколько потенциально прибыльных платформ."
   ]
  },
  {
   "cell_type": "markdown",
   "id": "c582b93c",
   "metadata": {},
   "source": [
    "Посмотрим какие платформы лидируют по продажам за актуальный период"
   ]
  },
  {
   "cell_type": "code",
   "execution_count": 36,
   "id": "060ac9c7",
   "metadata": {},
   "outputs": [
    {
     "data": {
      "text/html": [
       "<div>\n",
       "<style scoped>\n",
       "    .dataframe tbody tr th:only-of-type {\n",
       "        vertical-align: middle;\n",
       "    }\n",
       "\n",
       "    .dataframe tbody tr th {\n",
       "        vertical-align: top;\n",
       "    }\n",
       "\n",
       "    .dataframe thead th {\n",
       "        text-align: right;\n",
       "    }\n",
       "</style>\n",
       "<table border=\"1\" class=\"dataframe\">\n",
       "  <thead>\n",
       "    <tr style=\"text-align: right;\">\n",
       "      <th></th>\n",
       "      <th>total_sales</th>\n",
       "    </tr>\n",
       "    <tr>\n",
       "      <th>platform</th>\n",
       "      <th></th>\n",
       "    </tr>\n",
       "  </thead>\n",
       "  <tbody>\n",
       "    <tr>\n",
       "      <th>PS4</th>\n",
       "      <td>218.90</td>\n",
       "    </tr>\n",
       "    <tr>\n",
       "      <th>XOne</th>\n",
       "      <td>114.21</td>\n",
       "    </tr>\n",
       "    <tr>\n",
       "      <th>3DS</th>\n",
       "      <td>71.54</td>\n",
       "    </tr>\n",
       "    <tr>\n",
       "      <th>PS3</th>\n",
       "      <td>64.58</td>\n",
       "    </tr>\n",
       "    <tr>\n",
       "      <th>X360</th>\n",
       "      <td>46.70</td>\n",
       "    </tr>\n",
       "    <tr>\n",
       "      <th>WiiU</th>\n",
       "      <td>38.38</td>\n",
       "    </tr>\n",
       "    <tr>\n",
       "      <th>PC</th>\n",
       "      <td>21.80</td>\n",
       "    </tr>\n",
       "    <tr>\n",
       "      <th>PSV</th>\n",
       "      <td>18.15</td>\n",
       "    </tr>\n",
       "    <tr>\n",
       "      <th>Wii</th>\n",
       "      <td>4.89</td>\n",
       "    </tr>\n",
       "  </tbody>\n",
       "</table>\n",
       "</div>"
      ],
      "text/plain": [
       "          total_sales\n",
       "platform             \n",
       "PS4            218.90\n",
       "XOne           114.21\n",
       "3DS             71.54\n",
       "PS3             64.58\n",
       "X360            46.70\n",
       "WiiU            38.38\n",
       "PC              21.80\n",
       "PSV             18.15\n",
       "Wii              4.89"
      ]
     },
     "execution_count": 36,
     "metadata": {},
     "output_type": "execute_result"
    }
   ],
   "source": [
    "total_sales_platform_actual = pd.pivot_table(games_actual, index='platform', values = 'total_sales', aggfunc='sum')# сделаем новую таблицу с подсчётом продаж по платформам за актуальный период\n",
    "total_sales_platform_actual = total_sales_platform_actual.sort_values(('total_sales'), ascending=False) # отсортируем по продажам от большего к меньшемуза актуальный период\n",
    "total_sales_platform_actual = total_sales_platform_actual.drop('PSP') # уберём платформу PSP, тк в выбранном периоде у них самые низки продажи \n",
    "total_sales_platform_actual"
   ]
  },
  {
   "cell_type": "markdown",
   "id": "98fec0ec",
   "metadata": {},
   "source": [
    "Сделаем таблицу с самыми успешно продаваемыми платформами за актуальный период с продажами и далее разобьём их по годам, чтобы увидеть растут они или падают:"
   ]
  },
  {
   "cell_type": "code",
   "execution_count": 37,
   "id": "7114a55b",
   "metadata": {},
   "outputs": [
    {
     "data": {
      "text/html": [
       "<div>\n",
       "<style scoped>\n",
       "    .dataframe tbody tr th:only-of-type {\n",
       "        vertical-align: middle;\n",
       "    }\n",
       "\n",
       "    .dataframe tbody tr th {\n",
       "        vertical-align: top;\n",
       "    }\n",
       "\n",
       "    .dataframe thead th {\n",
       "        text-align: right;\n",
       "    }\n",
       "</style>\n",
       "<table border=\"1\" class=\"dataframe\">\n",
       "  <thead>\n",
       "    <tr style=\"text-align: right;\">\n",
       "      <th>platform</th>\n",
       "      <th>PS4</th>\n",
       "      <th>XOne</th>\n",
       "      <th>3DS</th>\n",
       "      <th>PS3</th>\n",
       "      <th>WiiU</th>\n",
       "      <th>X360</th>\n",
       "      <th>PC</th>\n",
       "      <th>PSV</th>\n",
       "      <th>Wii</th>\n",
       "    </tr>\n",
       "    <tr>\n",
       "      <th>year_of_release</th>\n",
       "      <th></th>\n",
       "      <th></th>\n",
       "      <th></th>\n",
       "      <th></th>\n",
       "      <th></th>\n",
       "      <th></th>\n",
       "      <th></th>\n",
       "      <th></th>\n",
       "      <th></th>\n",
       "    </tr>\n",
       "  </thead>\n",
       "  <tbody>\n",
       "    <tr>\n",
       "      <th>2014</th>\n",
       "      <td>100.0</td>\n",
       "      <td>54.07</td>\n",
       "      <td>43.76</td>\n",
       "      <td>47.76</td>\n",
       "      <td>22.03</td>\n",
       "      <td>34.74</td>\n",
       "      <td>13.28</td>\n",
       "      <td>11.90</td>\n",
       "      <td>3.75</td>\n",
       "    </tr>\n",
       "    <tr>\n",
       "      <th>2015</th>\n",
       "      <td>118.9</td>\n",
       "      <td>60.14</td>\n",
       "      <td>27.78</td>\n",
       "      <td>16.82</td>\n",
       "      <td>16.35</td>\n",
       "      <td>11.96</td>\n",
       "      <td>8.52</td>\n",
       "      <td>6.25</td>\n",
       "      <td>1.14</td>\n",
       "    </tr>\n",
       "  </tbody>\n",
       "</table>\n",
       "</div>"
      ],
      "text/plain": [
       "platform           PS4   XOne    3DS    PS3   WiiU   X360     PC    PSV   Wii\n",
       "year_of_release                                                              \n",
       "2014             100.0  54.07  43.76  47.76  22.03  34.74  13.28  11.90  3.75\n",
       "2015             118.9  60.14  27.78  16.82  16.35  11.96   8.52   6.25  1.14"
      ]
     },
     "execution_count": 37,
     "metadata": {},
     "output_type": "execute_result"
    }
   ],
   "source": [
    "games_actual_platform = games_actual[games_actual['platform'].isin(['PS4', 'XOne', '3DS', 'WiiU', 'PS3', 'PC', 'X360', 'PSV', 'Wii'])] # оставим в таблице только топовые платформы\n",
    "total_sales_actual_platform_years = pd.pivot_table(games_actual_platform, index='platform', columns='year_of_release',values = 'total_sales', aggfunc='sum')# сделаем новую таблицу с подсчётом продаж по самым успешным платформам c 2015 года с разбивкой по годам\n",
    "total_sales_actual_platform_years = total_sales_actual_platform_years.sort_values((2015), ascending=False)\n",
    "total_sales_actual_platform_years = total_sales_actual_platform_years.T # развернём таблицу для наглядности и для дальнейшего построения графика\n",
    "total_sales_actual_platform_years"
   ]
  },
  {
   "cell_type": "code",
   "execution_count": 38,
   "id": "ae5637cc",
   "metadata": {},
   "outputs": [
    {
     "data": {
      "text/plain": [
       "<AxesSubplot:xlabel='year_of_release'>"
      ]
     },
     "execution_count": 38,
     "metadata": {},
     "output_type": "execute_result"
    },
    {
     "data": {
      "image/png": "[encoded data removed]",
      "text/plain": [
       "<Figure size 864x864 with 1 Axes>"
      ]
     },
     "metadata": {
      "needs_background": "light"
     },
     "output_type": "display_data"
    }
   ],
   "source": [
    "total_sales_actual_platform_years.plot(figsize = (12, 12), grid=True, lw = 3, marker='o')"
   ]
  },
  {
   "cell_type": "markdown",
   "id": "2267c6fc",
   "metadata": {},
   "source": [
    "**Вывод**\n",
    "<br><br>\n",
    "Из графика видно, что платформы из актуального периода исследования с 2014 по 2015 года находятся на этапе падения продаж, кроме PS4 и XOne. Есть только две платформа - это PS4 и XOne, которые находятся в стадии роста и они является самыми потенциально прибыльными платформами, тк растут и в целом продажи за исследуемый период по данным двум платформам максимально большие по отношению к остальным. Продажи платформы PS4 лидируют, на втором месте XOne."
   ]
  },
  {
   "cell_type": "markdown",
   "id": "cc000a06",
   "metadata": {},
   "source": [
    "### Построем график «ящик с усами» по глобальным продажам игр в разбивке по платформам"
   ]
  },
  {
   "cell_type": "markdown",
   "id": "2a7332a1",
   "metadata": {},
   "source": [
    "Изначально посмотрим как выглядит диаграмма размаха по  глобальным продажам актуальных платформ:"
   ]
  },
  {
   "cell_type": "code",
   "execution_count": 39,
   "id": "10858437",
   "metadata": {},
   "outputs": [
    {
     "data": {
      "text/html": [
       "<div>\n",
       "<style scoped>\n",
       "    .dataframe tbody tr th:only-of-type {\n",
       "        vertical-align: middle;\n",
       "    }\n",
       "\n",
       "    .dataframe tbody tr th {\n",
       "        vertical-align: top;\n",
       "    }\n",
       "\n",
       "    .dataframe thead th {\n",
       "        text-align: right;\n",
       "    }\n",
       "</style>\n",
       "<table border=\"1\" class=\"dataframe\">\n",
       "  <thead>\n",
       "    <tr style=\"text-align: right;\">\n",
       "      <th></th>\n",
       "      <th>total_sales</th>\n",
       "    </tr>\n",
       "  </thead>\n",
       "  <tbody>\n",
       "    <tr>\n",
       "      <th>count</th>\n",
       "      <td>9.000000</td>\n",
       "    </tr>\n",
       "    <tr>\n",
       "      <th>mean</th>\n",
       "      <td>66.572222</td>\n",
       "    </tr>\n",
       "    <tr>\n",
       "      <th>std</th>\n",
       "      <td>65.997561</td>\n",
       "    </tr>\n",
       "    <tr>\n",
       "      <th>min</th>\n",
       "      <td>4.890000</td>\n",
       "    </tr>\n",
       "    <tr>\n",
       "      <th>25%</th>\n",
       "      <td>21.800000</td>\n",
       "    </tr>\n",
       "    <tr>\n",
       "      <th>50%</th>\n",
       "      <td>46.700000</td>\n",
       "    </tr>\n",
       "    <tr>\n",
       "      <th>75%</th>\n",
       "      <td>71.540000</td>\n",
       "    </tr>\n",
       "    <tr>\n",
       "      <th>max</th>\n",
       "      <td>218.900000</td>\n",
       "    </tr>\n",
       "  </tbody>\n",
       "</table>\n",
       "</div>"
      ],
      "text/plain": [
       "       total_sales\n",
       "count     9.000000\n",
       "mean     66.572222\n",
       "std      65.997561\n",
       "min       4.890000\n",
       "25%      21.800000\n",
       "50%      46.700000\n",
       "75%      71.540000\n",
       "max     218.900000"
      ]
     },
     "execution_count": 39,
     "metadata": {},
     "output_type": "execute_result"
    }
   ],
   "source": [
    "total_sales_platform_actual.describe()"
   ]
  },
  {
   "cell_type": "code",
   "execution_count": 40,
   "id": "94da9395",
   "metadata": {},
   "outputs": [
    {
     "data": {
      "text/plain": [
       "(-10.0, 230.0)"
      ]
     },
     "execution_count": 40,
     "metadata": {},
     "output_type": "execute_result"
    },
    {
     "data": {
      "image/png": "[encoded data removed]",
      "text/plain": [
       "<Figure size 360x360 with 1 Axes>"
      ]
     },
     "metadata": {
      "needs_background": "light"
     },
     "output_type": "display_data"
    }
   ],
   "source": [
    "ax = plt.figure(figsize=(5,5))\n",
    "ax = sns.boxplot(data = total_sales_platform_actual) \n",
    "ax.set_ylim(-10,230)"
   ]
  },
  {
   "cell_type": "markdown",
   "id": "28c868cd",
   "metadata": {},
   "source": [
    "Перед построением диаграммы размаха по глобальным продажам за актуальный период уберём платформу PSP, тк в выбранном периоде у них самые низкие продажи: "
   ]
  },
  {
   "cell_type": "code",
   "execution_count": 41,
   "id": "a8c553bc",
   "metadata": {},
   "outputs": [],
   "source": [
    "games_actual_boxplot = games_actual[games_actual['platform'] != 'PSP']"
   ]
  },
  {
   "cell_type": "markdown",
   "id": "c088c4ca",
   "metadata": {},
   "source": [
    "Теперь посмотрим как выглядит диаграмма размаха по глобальным продажам игр актуальных платформ:"
   ]
  },
  {
   "cell_type": "code",
   "execution_count": 42,
   "id": "c153e67d",
   "metadata": {},
   "outputs": [
    {
     "data": {
      "text/html": [
       "<div>\n",
       "<style scoped>\n",
       "    .dataframe tbody tr th:only-of-type {\n",
       "        vertical-align: middle;\n",
       "    }\n",
       "\n",
       "    .dataframe tbody tr th {\n",
       "        vertical-align: top;\n",
       "    }\n",
       "\n",
       "    .dataframe thead th {\n",
       "        text-align: right;\n",
       "    }\n",
       "</style>\n",
       "<table border=\"1\" class=\"dataframe\">\n",
       "  <thead>\n",
       "    <tr style=\"text-align: right;\">\n",
       "      <th></th>\n",
       "      <th>count</th>\n",
       "      <th>mean</th>\n",
       "      <th>std</th>\n",
       "      <th>min</th>\n",
       "      <th>25%</th>\n",
       "      <th>50%</th>\n",
       "      <th>75%</th>\n",
       "      <th>max</th>\n",
       "    </tr>\n",
       "    <tr>\n",
       "      <th>platform</th>\n",
       "      <th></th>\n",
       "      <th></th>\n",
       "      <th></th>\n",
       "      <th></th>\n",
       "      <th></th>\n",
       "      <th></th>\n",
       "      <th></th>\n",
       "      <th></th>\n",
       "    </tr>\n",
       "  </thead>\n",
       "  <tbody>\n",
       "    <tr>\n",
       "      <th>3DS</th>\n",
       "      <td>166.0</td>\n",
       "      <td>0.430964</td>\n",
       "      <td>1.223959</td>\n",
       "      <td>0.01</td>\n",
       "      <td>0.0400</td>\n",
       "      <td>0.090</td>\n",
       "      <td>0.2575</td>\n",
       "      <td>11.68</td>\n",
       "    </tr>\n",
       "    <tr>\n",
       "      <th>PC</th>\n",
       "      <td>97.0</td>\n",
       "      <td>0.224742</td>\n",
       "      <td>0.391690</td>\n",
       "      <td>0.01</td>\n",
       "      <td>0.0300</td>\n",
       "      <td>0.080</td>\n",
       "      <td>0.2600</td>\n",
       "      <td>3.05</td>\n",
       "    </tr>\n",
       "    <tr>\n",
       "      <th>PS3</th>\n",
       "      <td>181.0</td>\n",
       "      <td>0.356796</td>\n",
       "      <td>0.685857</td>\n",
       "      <td>0.01</td>\n",
       "      <td>0.0400</td>\n",
       "      <td>0.120</td>\n",
       "      <td>0.4000</td>\n",
       "      <td>5.27</td>\n",
       "    </tr>\n",
       "    <tr>\n",
       "      <th>PS4</th>\n",
       "      <td>212.0</td>\n",
       "      <td>1.032547</td>\n",
       "      <td>1.935690</td>\n",
       "      <td>0.01</td>\n",
       "      <td>0.0900</td>\n",
       "      <td>0.290</td>\n",
       "      <td>0.9725</td>\n",
       "      <td>14.63</td>\n",
       "    </tr>\n",
       "    <tr>\n",
       "      <th>PSV</th>\n",
       "      <td>210.0</td>\n",
       "      <td>0.086429</td>\n",
       "      <td>0.162925</td>\n",
       "      <td>0.01</td>\n",
       "      <td>0.0200</td>\n",
       "      <td>0.040</td>\n",
       "      <td>0.1000</td>\n",
       "      <td>1.96</td>\n",
       "    </tr>\n",
       "    <tr>\n",
       "      <th>Wii</th>\n",
       "      <td>10.0</td>\n",
       "      <td>0.489000</td>\n",
       "      <td>0.651928</td>\n",
       "      <td>0.01</td>\n",
       "      <td>0.0325</td>\n",
       "      <td>0.165</td>\n",
       "      <td>0.8525</td>\n",
       "      <td>2.01</td>\n",
       "    </tr>\n",
       "    <tr>\n",
       "      <th>WiiU</th>\n",
       "      <td>59.0</td>\n",
       "      <td>0.650508</td>\n",
       "      <td>1.275634</td>\n",
       "      <td>0.01</td>\n",
       "      <td>0.0550</td>\n",
       "      <td>0.190</td>\n",
       "      <td>0.6050</td>\n",
       "      <td>7.09</td>\n",
       "    </tr>\n",
       "    <tr>\n",
       "      <th>X360</th>\n",
       "      <td>98.0</td>\n",
       "      <td>0.476531</td>\n",
       "      <td>0.657035</td>\n",
       "      <td>0.01</td>\n",
       "      <td>0.0800</td>\n",
       "      <td>0.230</td>\n",
       "      <td>0.6325</td>\n",
       "      <td>4.28</td>\n",
       "    </tr>\n",
       "    <tr>\n",
       "      <th>XOne</th>\n",
       "      <td>141.0</td>\n",
       "      <td>0.810000</td>\n",
       "      <td>1.220984</td>\n",
       "      <td>0.01</td>\n",
       "      <td>0.1100</td>\n",
       "      <td>0.320</td>\n",
       "      <td>0.9100</td>\n",
       "      <td>7.39</td>\n",
       "    </tr>\n",
       "  </tbody>\n",
       "</table>\n",
       "</div>"
      ],
      "text/plain": [
       "          count      mean       std   min     25%    50%     75%    max\n",
       "platform                                                               \n",
       "3DS       166.0  0.430964  1.223959  0.01  0.0400  0.090  0.2575  11.68\n",
       "PC         97.0  0.224742  0.391690  0.01  0.0300  0.080  0.2600   3.05\n",
       "PS3       181.0  0.356796  0.685857  0.01  0.0400  0.120  0.4000   5.27\n",
       "PS4       212.0  1.032547  1.935690  0.01  0.0900  0.290  0.9725  14.63\n",
       "PSV       210.0  0.086429  0.162925  0.01  0.0200  0.040  0.1000   1.96\n",
       "Wii        10.0  0.489000  0.651928  0.01  0.0325  0.165  0.8525   2.01\n",
       "WiiU       59.0  0.650508  1.275634  0.01  0.0550  0.190  0.6050   7.09\n",
       "X360       98.0  0.476531  0.657035  0.01  0.0800  0.230  0.6325   4.28\n",
       "XOne      141.0  0.810000  1.220984  0.01  0.1100  0.320  0.9100   7.39"
      ]
     },
     "execution_count": 42,
     "metadata": {},
     "output_type": "execute_result"
    }
   ],
   "source": [
    "games_actual_boxplot.groupby('platform')['total_sales'].describe()"
   ]
  },
  {
   "cell_type": "code",
   "execution_count": 43,
   "id": "985e4824",
   "metadata": {
    "scrolled": false
   },
   "outputs": [
    {
     "data": {
      "text/plain": [
       "(-0.1, 15.0)"
      ]
     },
     "execution_count": 43,
     "metadata": {},
     "output_type": "execute_result"
    },
    {
     "data": {
      "image/png": "[encoded data removed]",
      "text/plain": [
       "<Figure size 1080x720 with 1 Axes>"
      ]
     },
     "metadata": {
      "needs_background": "light"
     },
     "output_type": "display_data"
    }
   ],
   "source": [
    "bx = plt.figure(figsize=(15,10))\n",
    "bx = sns.boxplot(data = games_actual_boxplot, x = 'platform', y = 'total_sales')\n",
    "bx.set_ylim(-0.1,15)"
   ]
  },
  {
   "cell_type": "code",
   "execution_count": 44,
   "id": "39d01033",
   "metadata": {},
   "outputs": [
    {
     "data": {
      "text/plain": [
       "(0.0, 1.0)"
      ]
     },
     "execution_count": 44,
     "metadata": {},
     "output_type": "execute_result"
    },
    {
     "data": {
      "image/png": "[encoded data removed]",
      "text/plain": [
       "<Figure size 1080x720 with 1 Axes>"
      ]
     },
     "metadata": {
      "needs_background": "light"
     },
     "output_type": "display_data"
    }
   ],
   "source": [
    "bx = plt.figure(figsize=(15,10))\n",
    "bx = sns.boxplot(data = games_actual_boxplot, x = 'platform', y = 'total_sales')\n",
    "bx.set_ylim(0,1)"
   ]
  },
  {
   "cell_type": "markdown",
   "id": "c8a5a9a2",
   "metadata": {},
   "source": [
    "**Вывод**\n",
    "<br><br>\n",
    "Если рассматривать глобальные продажи с разбивкой только по платформам, то одну платформу можно считать за  выброс - это `PS4`, тк число продаж на данной платформе значительно превышает продажи на других платформах.\n",
    "<br><br>\n",
    "Если рассматривать глобальные продажи игр с разбивкой по каждой платформе, то практически у каждой платформы имеются выбросы, кроме `Wii`.\n",
    "<br> Это означает, что практически на всех платформах, кроме `Wii` есть конкретные игры с более значительными продажами, чем в основной массе игр платформы.\n",
    "<br> У платформы `Wii` по продажам всех игр распределение идёт равномерное, это значит, что у данной платформы нет каких-то игр с выдающимися продажами."
   ]
  },
  {
   "cell_type": "markdown",
   "id": "bf30000c",
   "metadata": {},
   "source": [
    "### Посмотрим, как влияют на продажи внутри одной популярной платформы отзывы пользователей и критиков. "
   ]
  },
  {
   "cell_type": "markdown",
   "id": "e7def3d1",
   "metadata": {},
   "source": [
    "Изучим зависимость продаж платформы PS4 от оценок критиков, предварительно убрав значения заглушки из оценок критиков:"
   ]
  },
  {
   "cell_type": "code",
   "execution_count": 45,
   "id": "89991c00",
   "metadata": {
    "scrolled": false
   },
   "outputs": [
    {
     "data": {
      "text/plain": [
       "<AxesSubplot:xlabel='critic_score', ylabel='total_sales'>"
      ]
     },
     "execution_count": 45,
     "metadata": {},
     "output_type": "execute_result"
    },
    {
     "data": {
      "image/png": "[encoded data removed]",
      "text/plain": [
       "<Figure size 1080x1080 with 1 Axes>"
      ]
     },
     "metadata": {
      "needs_background": "light"
     },
     "output_type": "display_data"
    }
   ],
   "source": [
    "games_actual_critic = games_actual[games_actual['critic_score'] != -1]\n",
    "games_actual_critic.query('platform == \"PS4\"').plot(x='critic_score', y='total_sales', kind='scatter',  ylim=(0, 14), figsize=(15, 15), grid=True)"
   ]
  },
  {
   "cell_type": "markdown",
   "id": "adc95941",
   "metadata": {},
   "source": [
    "Изучим зависимость продаж платформы PS4 от отзывов пользователей, предварительно убрав значения заглушки из отзывов пользователей:"
   ]
  },
  {
   "cell_type": "code",
   "execution_count": 46,
   "id": "5798aac8",
   "metadata": {},
   "outputs": [
    {
     "data": {
      "text/plain": [
       "<AxesSubplot:xlabel='user_score', ylabel='total_sales'>"
      ]
     },
     "execution_count": 46,
     "metadata": {},
     "output_type": "execute_result"
    },
    {
     "data": {
      "image/png": "[encoded data removed]",
      "text/plain": [
       "<Figure size 1080x1080 with 1 Axes>"
      ]
     },
     "metadata": {
      "needs_background": "light"
     },
     "output_type": "display_data"
    }
   ],
   "source": [
    "games_actual_user = games_actual[games_actual['user_score'] != -1]\n",
    "games_actual_user.query('platform == \"PS4\"').plot(x='user_score', y='total_sales', kind='scatter',  ylim=(0, 16), figsize=(15, 15), grid=True)"
   ]
  },
  {
   "cell_type": "markdown",
   "id": "c29efd1d",
   "metadata": {},
   "source": [
    "Посчитаем корреляцию между отзывами пользователей, оценками критиков и продажами для платфоры PS4:"
   ]
  },
  {
   "cell_type": "code",
   "execution_count": 47,
   "id": "4e79062d",
   "metadata": {},
   "outputs": [
    {
     "data": {
      "text/html": [
       "<div>\n",
       "<style scoped>\n",
       "    .dataframe tbody tr th:only-of-type {\n",
       "        vertical-align: middle;\n",
       "    }\n",
       "\n",
       "    .dataframe tbody tr th {\n",
       "        vertical-align: top;\n",
       "    }\n",
       "\n",
       "    .dataframe thead th {\n",
       "        text-align: right;\n",
       "    }\n",
       "</style>\n",
       "<table border=\"1\" class=\"dataframe\">\n",
       "  <thead>\n",
       "    <tr style=\"text-align: right;\">\n",
       "      <th></th>\n",
       "      <th>critic_score</th>\n",
       "      <th>user_score</th>\n",
       "      <th>total_sales</th>\n",
       "    </tr>\n",
       "  </thead>\n",
       "  <tbody>\n",
       "    <tr>\n",
       "      <th>critic_score</th>\n",
       "      <td>1.000000</td>\n",
       "      <td>0.602514</td>\n",
       "      <td>0.427817</td>\n",
       "    </tr>\n",
       "    <tr>\n",
       "      <th>user_score</th>\n",
       "      <td>0.602514</td>\n",
       "      <td>1.000000</td>\n",
       "      <td>-0.003283</td>\n",
       "    </tr>\n",
       "    <tr>\n",
       "      <th>total_sales</th>\n",
       "      <td>0.427817</td>\n",
       "      <td>-0.003283</td>\n",
       "      <td>1.000000</td>\n",
       "    </tr>\n",
       "  </tbody>\n",
       "</table>\n",
       "</div>"
      ],
      "text/plain": [
       "              critic_score  user_score  total_sales\n",
       "critic_score      1.000000    0.602514     0.427817\n",
       "user_score        0.602514    1.000000    -0.003283\n",
       "total_sales       0.427817   -0.003283     1.000000"
      ]
     },
     "execution_count": 47,
     "metadata": {},
     "output_type": "execute_result"
    }
   ],
   "source": [
    "games_actual_critic_user = games_actual_critic[games_actual_critic['user_score'] != -1]\n",
    "games_actual_critic_user.query('platform == \"PS4\"')[['critic_score', 'user_score', 'total_sales']].corr()"
   ]
  },
  {
   "cell_type": "markdown",
   "id": "1ab3b7b3",
   "metadata": {},
   "source": [
    "**Вывод**\n",
    "<br><br>\n",
    "Для платформы PS4 наблюдается прямая зависимость глобальных продаж от оценок критиков, а отзывы пользователей вообще не влияют на продажи на данной платформе.\n",
    "<br><br>\n",
    "Судя по таблице с расчитанной корреляцией отзывы пользователей не влияют на продажи в отличии от оценок критиков.\n",
    "* Коэффициент корреляции между отзывами пользователей и продажами:  -0.00328.\n",
    "* Коэффициент корреляции между оценками критиков и продажами:  0.4278."
   ]
  },
  {
   "cell_type": "markdown",
   "id": "8eb2945c",
   "metadata": {},
   "source": [
    "### Соотнесём выводы с продажами игр на других платформах."
   ]
  },
  {
   "cell_type": "markdown",
   "id": "de9febe5",
   "metadata": {},
   "source": [
    "Посчитаем корреляцию между отзывами пользователей, оценками критиков и продажами по всем платформам за актуальный период:"
   ]
  },
  {
   "cell_type": "code",
   "execution_count": 48,
   "id": "5613c28d",
   "metadata": {},
   "outputs": [
    {
     "data": {
      "text/html": [
       "<div>\n",
       "<style scoped>\n",
       "    .dataframe tbody tr th:only-of-type {\n",
       "        vertical-align: middle;\n",
       "    }\n",
       "\n",
       "    .dataframe tbody tr th {\n",
       "        vertical-align: top;\n",
       "    }\n",
       "\n",
       "    .dataframe thead th {\n",
       "        text-align: right;\n",
       "    }\n",
       "</style>\n",
       "<table border=\"1\" class=\"dataframe\">\n",
       "  <thead>\n",
       "    <tr style=\"text-align: right;\">\n",
       "      <th></th>\n",
       "      <th>critic_score</th>\n",
       "      <th>user_score</th>\n",
       "      <th>total_sales</th>\n",
       "    </tr>\n",
       "  </thead>\n",
       "  <tbody>\n",
       "    <tr>\n",
       "      <th>critic_score</th>\n",
       "      <td>1.000000</td>\n",
       "      <td>0.537409</td>\n",
       "      <td>0.350509</td>\n",
       "    </tr>\n",
       "    <tr>\n",
       "      <th>user_score</th>\n",
       "      <td>0.537409</td>\n",
       "      <td>1.000000</td>\n",
       "      <td>0.032023</td>\n",
       "    </tr>\n",
       "    <tr>\n",
       "      <th>total_sales</th>\n",
       "      <td>0.350509</td>\n",
       "      <td>0.032023</td>\n",
       "      <td>1.000000</td>\n",
       "    </tr>\n",
       "  </tbody>\n",
       "</table>\n",
       "</div>"
      ],
      "text/plain": [
       "              critic_score  user_score  total_sales\n",
       "critic_score      1.000000    0.537409     0.350509\n",
       "user_score        0.537409    1.000000     0.032023\n",
       "total_sales       0.350509    0.032023     1.000000"
      ]
     },
     "execution_count": 48,
     "metadata": {},
     "output_type": "execute_result"
    }
   ],
   "source": [
    "games_actual_critic_user[['critic_score', 'user_score', 'total_sales']].corr()"
   ]
  },
  {
   "cell_type": "markdown",
   "id": "1f22e781",
   "metadata": {},
   "source": [
    "Посчитаем корреляцию между отзывами пользователей, оценками критиков и продажами по пяти самым продаваемым платформам суммарно за актуальный период:"
   ]
  },
  {
   "cell_type": "code",
   "execution_count": 49,
   "id": "eee7ff5d",
   "metadata": {},
   "outputs": [
    {
     "data": {
      "text/html": [
       "<div>\n",
       "<style scoped>\n",
       "    .dataframe tbody tr th:only-of-type {\n",
       "        vertical-align: middle;\n",
       "    }\n",
       "\n",
       "    .dataframe tbody tr th {\n",
       "        vertical-align: top;\n",
       "    }\n",
       "\n",
       "    .dataframe thead th {\n",
       "        text-align: right;\n",
       "    }\n",
       "</style>\n",
       "<table border=\"1\" class=\"dataframe\">\n",
       "  <thead>\n",
       "    <tr style=\"text-align: right;\">\n",
       "      <th></th>\n",
       "      <th>critic_score</th>\n",
       "      <th>user_score</th>\n",
       "      <th>total_sales</th>\n",
       "    </tr>\n",
       "  </thead>\n",
       "  <tbody>\n",
       "    <tr>\n",
       "      <th>critic_score</th>\n",
       "      <td>1.000000</td>\n",
       "      <td>0.601001</td>\n",
       "      <td>0.410567</td>\n",
       "    </tr>\n",
       "    <tr>\n",
       "      <th>user_score</th>\n",
       "      <td>0.601001</td>\n",
       "      <td>1.000000</td>\n",
       "      <td>0.034774</td>\n",
       "    </tr>\n",
       "    <tr>\n",
       "      <th>total_sales</th>\n",
       "      <td>0.410567</td>\n",
       "      <td>0.034774</td>\n",
       "      <td>1.000000</td>\n",
       "    </tr>\n",
       "  </tbody>\n",
       "</table>\n",
       "</div>"
      ],
      "text/plain": [
       "              critic_score  user_score  total_sales\n",
       "critic_score      1.000000    0.601001     0.410567\n",
       "user_score        0.601001    1.000000     0.034774\n",
       "total_sales       0.410567    0.034774     1.000000"
      ]
     },
     "execution_count": 49,
     "metadata": {},
     "output_type": "execute_result"
    }
   ],
   "source": [
    "games_actual_critic_user.query('platform == \"PS4\" or platform == \"XOne\" or platform == \"3DS\" or platform ==\"PS3\" or platform ==\"X360\"')[['critic_score', 'user_score', 'total_sales']].corr()"
   ]
  },
  {
   "cell_type": "markdown",
   "id": "ae60e306",
   "metadata": {},
   "source": [
    "Посчитаем корреляцию между отзывами пользователей, оценками критиков и продажами по пяти самым продаваемым платформам по отдельности за актуальный период:"
   ]
  },
  {
   "cell_type": "code",
   "execution_count": 50,
   "id": "b32b5cba",
   "metadata": {},
   "outputs": [
    {
     "data": {
      "text/html": [
       "<div>\n",
       "<style scoped>\n",
       "    .dataframe tbody tr th:only-of-type {\n",
       "        vertical-align: middle;\n",
       "    }\n",
       "\n",
       "    .dataframe tbody tr th {\n",
       "        vertical-align: top;\n",
       "    }\n",
       "\n",
       "    .dataframe thead th {\n",
       "        text-align: right;\n",
       "    }\n",
       "</style>\n",
       "<table border=\"1\" class=\"dataframe\">\n",
       "  <thead>\n",
       "    <tr style=\"text-align: right;\">\n",
       "      <th></th>\n",
       "      <th>critic_score</th>\n",
       "      <th>user_score</th>\n",
       "      <th>total_sales</th>\n",
       "    </tr>\n",
       "  </thead>\n",
       "  <tbody>\n",
       "    <tr>\n",
       "      <th>critic_score</th>\n",
       "      <td>1.000000</td>\n",
       "      <td>0.602514</td>\n",
       "      <td>0.427817</td>\n",
       "    </tr>\n",
       "    <tr>\n",
       "      <th>user_score</th>\n",
       "      <td>0.602514</td>\n",
       "      <td>1.000000</td>\n",
       "      <td>-0.003283</td>\n",
       "    </tr>\n",
       "    <tr>\n",
       "      <th>total_sales</th>\n",
       "      <td>0.427817</td>\n",
       "      <td>-0.003283</td>\n",
       "      <td>1.000000</td>\n",
       "    </tr>\n",
       "  </tbody>\n",
       "</table>\n",
       "</div>"
      ],
      "text/plain": [
       "              critic_score  user_score  total_sales\n",
       "critic_score      1.000000    0.602514     0.427817\n",
       "user_score        0.602514    1.000000    -0.003283\n",
       "total_sales       0.427817   -0.003283     1.000000"
      ]
     },
     "execution_count": 50,
     "metadata": {},
     "output_type": "execute_result"
    }
   ],
   "source": [
    "games_actual_critic_user.query('platform == \"PS4\"')[['critic_score', 'user_score', 'total_sales']].corr()"
   ]
  },
  {
   "cell_type": "code",
   "execution_count": 51,
   "id": "8d26e895",
   "metadata": {},
   "outputs": [
    {
     "data": {
      "text/html": [
       "<div>\n",
       "<style scoped>\n",
       "    .dataframe tbody tr th:only-of-type {\n",
       "        vertical-align: middle;\n",
       "    }\n",
       "\n",
       "    .dataframe tbody tr th {\n",
       "        vertical-align: top;\n",
       "    }\n",
       "\n",
       "    .dataframe thead th {\n",
       "        text-align: right;\n",
       "    }\n",
       "</style>\n",
       "<table border=\"1\" class=\"dataframe\">\n",
       "  <thead>\n",
       "    <tr style=\"text-align: right;\">\n",
       "      <th></th>\n",
       "      <th>critic_score</th>\n",
       "      <th>user_score</th>\n",
       "      <th>total_sales</th>\n",
       "    </tr>\n",
       "  </thead>\n",
       "  <tbody>\n",
       "    <tr>\n",
       "      <th>critic_score</th>\n",
       "      <td>1.000000</td>\n",
       "      <td>0.453434</td>\n",
       "      <td>0.466241</td>\n",
       "    </tr>\n",
       "    <tr>\n",
       "      <th>user_score</th>\n",
       "      <td>0.453434</td>\n",
       "      <td>1.000000</td>\n",
       "      <td>-0.062044</td>\n",
       "    </tr>\n",
       "    <tr>\n",
       "      <th>total_sales</th>\n",
       "      <td>0.466241</td>\n",
       "      <td>-0.062044</td>\n",
       "      <td>1.000000</td>\n",
       "    </tr>\n",
       "  </tbody>\n",
       "</table>\n",
       "</div>"
      ],
      "text/plain": [
       "              critic_score  user_score  total_sales\n",
       "critic_score      1.000000    0.453434     0.466241\n",
       "user_score        0.453434    1.000000    -0.062044\n",
       "total_sales       0.466241   -0.062044     1.000000"
      ]
     },
     "execution_count": 51,
     "metadata": {},
     "output_type": "execute_result"
    }
   ],
   "source": [
    "games_actual_critic_user.query('platform == \"XOne\"')[['critic_score', 'user_score', 'total_sales']].corr()"
   ]
  },
  {
   "cell_type": "code",
   "execution_count": 52,
   "id": "1169ffb5",
   "metadata": {},
   "outputs": [
    {
     "data": {
      "text/html": [
       "<div>\n",
       "<style scoped>\n",
       "    .dataframe tbody tr th:only-of-type {\n",
       "        vertical-align: middle;\n",
       "    }\n",
       "\n",
       "    .dataframe tbody tr th {\n",
       "        vertical-align: top;\n",
       "    }\n",
       "\n",
       "    .dataframe thead th {\n",
       "        text-align: right;\n",
       "    }\n",
       "</style>\n",
       "<table border=\"1\" class=\"dataframe\">\n",
       "  <thead>\n",
       "    <tr style=\"text-align: right;\">\n",
       "      <th></th>\n",
       "      <th>critic_score</th>\n",
       "      <th>user_score</th>\n",
       "      <th>total_sales</th>\n",
       "    </tr>\n",
       "  </thead>\n",
       "  <tbody>\n",
       "    <tr>\n",
       "      <th>critic_score</th>\n",
       "      <td>1.000000</td>\n",
       "      <td>0.885494</td>\n",
       "      <td>0.306044</td>\n",
       "    </tr>\n",
       "    <tr>\n",
       "      <th>user_score</th>\n",
       "      <td>0.885494</td>\n",
       "      <td>1.000000</td>\n",
       "      <td>0.286141</td>\n",
       "    </tr>\n",
       "    <tr>\n",
       "      <th>total_sales</th>\n",
       "      <td>0.306044</td>\n",
       "      <td>0.286141</td>\n",
       "      <td>1.000000</td>\n",
       "    </tr>\n",
       "  </tbody>\n",
       "</table>\n",
       "</div>"
      ],
      "text/plain": [
       "              critic_score  user_score  total_sales\n",
       "critic_score      1.000000    0.885494     0.306044\n",
       "user_score        0.885494    1.000000     0.286141\n",
       "total_sales       0.306044    0.286141     1.000000"
      ]
     },
     "execution_count": 52,
     "metadata": {},
     "output_type": "execute_result"
    }
   ],
   "source": [
    "games_actual_critic_user.query('platform == \"3DS\"')[['critic_score', 'user_score', 'total_sales']].corr()"
   ]
  },
  {
   "cell_type": "code",
   "execution_count": 53,
   "id": "1df53bea",
   "metadata": {},
   "outputs": [
    {
     "data": {
      "text/html": [
       "<div>\n",
       "<style scoped>\n",
       "    .dataframe tbody tr th:only-of-type {\n",
       "        vertical-align: middle;\n",
       "    }\n",
       "\n",
       "    .dataframe tbody tr th {\n",
       "        vertical-align: top;\n",
       "    }\n",
       "\n",
       "    .dataframe thead th {\n",
       "        text-align: right;\n",
       "    }\n",
       "</style>\n",
       "<table border=\"1\" class=\"dataframe\">\n",
       "  <thead>\n",
       "    <tr style=\"text-align: right;\">\n",
       "      <th></th>\n",
       "      <th>critic_score</th>\n",
       "      <th>user_score</th>\n",
       "      <th>total_sales</th>\n",
       "    </tr>\n",
       "  </thead>\n",
       "  <tbody>\n",
       "    <tr>\n",
       "      <th>critic_score</th>\n",
       "      <td>1.000000</td>\n",
       "      <td>0.693445</td>\n",
       "      <td>0.446575</td>\n",
       "    </tr>\n",
       "    <tr>\n",
       "      <th>user_score</th>\n",
       "      <td>0.693445</td>\n",
       "      <td>1.000000</td>\n",
       "      <td>0.156595</td>\n",
       "    </tr>\n",
       "    <tr>\n",
       "      <th>total_sales</th>\n",
       "      <td>0.446575</td>\n",
       "      <td>0.156595</td>\n",
       "      <td>1.000000</td>\n",
       "    </tr>\n",
       "  </tbody>\n",
       "</table>\n",
       "</div>"
      ],
      "text/plain": [
       "              critic_score  user_score  total_sales\n",
       "critic_score      1.000000    0.693445     0.446575\n",
       "user_score        0.693445    1.000000     0.156595\n",
       "total_sales       0.446575    0.156595     1.000000"
      ]
     },
     "execution_count": 53,
     "metadata": {},
     "output_type": "execute_result"
    }
   ],
   "source": [
    "games_actual_critic_user.query('platform == \"PS3\"')[['critic_score', 'user_score', 'total_sales']].corr()"
   ]
  },
  {
   "cell_type": "code",
   "execution_count": 54,
   "id": "76398963",
   "metadata": {},
   "outputs": [
    {
     "data": {
      "text/html": [
       "<div>\n",
       "<style scoped>\n",
       "    .dataframe tbody tr th:only-of-type {\n",
       "        vertical-align: middle;\n",
       "    }\n",
       "\n",
       "    .dataframe tbody tr th {\n",
       "        vertical-align: top;\n",
       "    }\n",
       "\n",
       "    .dataframe thead th {\n",
       "        text-align: right;\n",
       "    }\n",
       "</style>\n",
       "<table border=\"1\" class=\"dataframe\">\n",
       "  <thead>\n",
       "    <tr style=\"text-align: right;\">\n",
       "      <th></th>\n",
       "      <th>critic_score</th>\n",
       "      <th>user_score</th>\n",
       "      <th>total_sales</th>\n",
       "    </tr>\n",
       "  </thead>\n",
       "  <tbody>\n",
       "    <tr>\n",
       "      <th>critic_score</th>\n",
       "      <td>1.000000</td>\n",
       "      <td>0.625309</td>\n",
       "      <td>0.525723</td>\n",
       "    </tr>\n",
       "    <tr>\n",
       "      <th>user_score</th>\n",
       "      <td>0.625309</td>\n",
       "      <td>1.000000</td>\n",
       "      <td>0.336514</td>\n",
       "    </tr>\n",
       "    <tr>\n",
       "      <th>total_sales</th>\n",
       "      <td>0.525723</td>\n",
       "      <td>0.336514</td>\n",
       "      <td>1.000000</td>\n",
       "    </tr>\n",
       "  </tbody>\n",
       "</table>\n",
       "</div>"
      ],
      "text/plain": [
       "              critic_score  user_score  total_sales\n",
       "critic_score      1.000000    0.625309     0.525723\n",
       "user_score        0.625309    1.000000     0.336514\n",
       "total_sales       0.525723    0.336514     1.000000"
      ]
     },
     "execution_count": 54,
     "metadata": {},
     "output_type": "execute_result"
    }
   ],
   "source": [
    "games_actual_critic_user.query('platform == \"X360\"')[['critic_score', 'user_score', 'total_sales']].corr()"
   ]
  },
  {
   "cell_type": "markdown",
   "id": "a23fc20a",
   "metadata": {},
   "source": [
    "Посчитаем корреляцию между отзывами пользователей, оценками критиков и продажами по двум самым продаваемым платформам за актуальный период:"
   ]
  },
  {
   "cell_type": "code",
   "execution_count": 55,
   "id": "0d62c8f6",
   "metadata": {},
   "outputs": [
    {
     "data": {
      "text/html": [
       "<div>\n",
       "<style scoped>\n",
       "    .dataframe tbody tr th:only-of-type {\n",
       "        vertical-align: middle;\n",
       "    }\n",
       "\n",
       "    .dataframe tbody tr th {\n",
       "        vertical-align: top;\n",
       "    }\n",
       "\n",
       "    .dataframe thead th {\n",
       "        text-align: right;\n",
       "    }\n",
       "</style>\n",
       "<table border=\"1\" class=\"dataframe\">\n",
       "  <thead>\n",
       "    <tr style=\"text-align: right;\">\n",
       "      <th></th>\n",
       "      <th>critic_score</th>\n",
       "      <th>user_score</th>\n",
       "      <th>total_sales</th>\n",
       "    </tr>\n",
       "  </thead>\n",
       "  <tbody>\n",
       "    <tr>\n",
       "      <th>critic_score</th>\n",
       "      <td>1.000000</td>\n",
       "      <td>0.535499</td>\n",
       "      <td>0.424632</td>\n",
       "    </tr>\n",
       "    <tr>\n",
       "      <th>user_score</th>\n",
       "      <td>0.535499</td>\n",
       "      <td>1.000000</td>\n",
       "      <td>-0.015210</td>\n",
       "    </tr>\n",
       "    <tr>\n",
       "      <th>total_sales</th>\n",
       "      <td>0.424632</td>\n",
       "      <td>-0.015210</td>\n",
       "      <td>1.000000</td>\n",
       "    </tr>\n",
       "  </tbody>\n",
       "</table>\n",
       "</div>"
      ],
      "text/plain": [
       "              critic_score  user_score  total_sales\n",
       "critic_score      1.000000    0.535499     0.424632\n",
       "user_score        0.535499    1.000000    -0.015210\n",
       "total_sales       0.424632   -0.015210     1.000000"
      ]
     },
     "execution_count": 55,
     "metadata": {},
     "output_type": "execute_result"
    }
   ],
   "source": [
    "games_actual_critic_user.query('platform == \"PS4\" or platform == \"XOne\"')[['critic_score', 'user_score', 'total_sales']].corr()"
   ]
  },
  {
   "cell_type": "markdown",
   "id": "3a29815d",
   "metadata": {},
   "source": [
    "**Вывод**\n",
    "<br><br>\n",
    "Для всех исследуемых платформ наблюдается прямая задолжность глобальных продаж от оценок критиков и нулевая или очень низкая зависимость от отзывов пользователей. \n",
    "<br><br>\n",
    "У ТОП-2 платформ по продажам корреляция имеет примерно одинаковое значение между продажами и оценками критиков, при этом отзывы пользователей имеют практически нулевую корреляцию, следовательно отзывы пользователей вообще не влияют на продажи:\n",
    "* Коэффициент корреляции между отзывами пользователей и продажами:  -0.01524.\n",
    "* Коэффициент корреляции между оценками критиков и продажами:  0.4246.\n",
    "\n",
    "У всех платформ корреляция имеется зависимость между продажами и оценками критиков, при этом отзывы пользователей имеют практически нулевую корреляцию, следовательно отзывы пользователей вообще не влияют на продажи:\n",
    "* Коэффициент корреляции между отзывами пользователей и продажами - 0.0348.\n",
    "* Коэффициент корреляции между оценками критиков и продажами - 0.4106.\n"
   ]
  },
  {
   "cell_type": "markdown",
   "id": "b44afe79",
   "metadata": {},
   "source": [
    "### Посмотрим на общее распределение игр по жанрам"
   ]
  },
  {
   "cell_type": "markdown",
   "id": "70c5b017",
   "metadata": {},
   "source": [
    "Посмотрим на медианные значения и другие показатели по продажам по каждому жанру с сортировкой по медианному значению по убыванию:"
   ]
  },
  {
   "cell_type": "code",
   "execution_count": 56,
   "id": "c52f6a51",
   "metadata": {},
   "outputs": [
    {
     "data": {
      "text/html": [
       "<div>\n",
       "<style scoped>\n",
       "    .dataframe tbody tr th:only-of-type {\n",
       "        vertical-align: middle;\n",
       "    }\n",
       "\n",
       "    .dataframe tbody tr th {\n",
       "        vertical-align: top;\n",
       "    }\n",
       "\n",
       "    .dataframe thead th {\n",
       "        text-align: right;\n",
       "    }\n",
       "</style>\n",
       "<table border=\"1\" class=\"dataframe\">\n",
       "  <thead>\n",
       "    <tr style=\"text-align: right;\">\n",
       "      <th></th>\n",
       "      <th>25%</th>\n",
       "      <th>50%</th>\n",
       "      <th>75%</th>\n",
       "      <th>count</th>\n",
       "      <th>max</th>\n",
       "      <th>mean</th>\n",
       "      <th>min</th>\n",
       "      <th>std</th>\n",
       "    </tr>\n",
       "    <tr>\n",
       "      <th>genre</th>\n",
       "      <th></th>\n",
       "      <th></th>\n",
       "      <th></th>\n",
       "      <th></th>\n",
       "      <th></th>\n",
       "      <th></th>\n",
       "      <th></th>\n",
       "      <th></th>\n",
       "    </tr>\n",
       "  </thead>\n",
       "  <tbody>\n",
       "    <tr>\n",
       "      <th>Shooter</th>\n",
       "      <td>0.3100</td>\n",
       "      <td>0.680</td>\n",
       "      <td>1.7200</td>\n",
       "      <td>81.0</td>\n",
       "      <td>14.63</td>\n",
       "      <td>1.638519</td>\n",
       "      <td>0.02</td>\n",
       "      <td>2.335047</td>\n",
       "    </tr>\n",
       "    <tr>\n",
       "      <th>Sports</th>\n",
       "      <td>0.0800</td>\n",
       "      <td>0.360</td>\n",
       "      <td>0.7700</td>\n",
       "      <td>113.0</td>\n",
       "      <td>8.58</td>\n",
       "      <td>0.760973</td>\n",
       "      <td>0.01</td>\n",
       "      <td>1.260565</td>\n",
       "    </tr>\n",
       "    <tr>\n",
       "      <th>Platform</th>\n",
       "      <td>0.0550</td>\n",
       "      <td>0.250</td>\n",
       "      <td>1.1600</td>\n",
       "      <td>23.0</td>\n",
       "      <td>3.21</td>\n",
       "      <td>0.646087</td>\n",
       "      <td>0.01</td>\n",
       "      <td>0.843697</td>\n",
       "    </tr>\n",
       "    <tr>\n",
       "      <th>Misc</th>\n",
       "      <td>0.0300</td>\n",
       "      <td>0.170</td>\n",
       "      <td>0.4100</td>\n",
       "      <td>81.0</td>\n",
       "      <td>5.27</td>\n",
       "      <td>0.431481</td>\n",
       "      <td>0.01</td>\n",
       "      <td>0.847930</td>\n",
       "    </tr>\n",
       "    <tr>\n",
       "      <th>Racing</th>\n",
       "      <td>0.0500</td>\n",
       "      <td>0.170</td>\n",
       "      <td>0.4300</td>\n",
       "      <td>45.0</td>\n",
       "      <td>7.09</td>\n",
       "      <td>0.549556</td>\n",
       "      <td>0.01</td>\n",
       "      <td>1.158267</td>\n",
       "    </tr>\n",
       "    <tr>\n",
       "      <th>Simulation</th>\n",
       "      <td>0.0400</td>\n",
       "      <td>0.160</td>\n",
       "      <td>0.3600</td>\n",
       "      <td>26.0</td>\n",
       "      <td>3.05</td>\n",
       "      <td>0.432308</td>\n",
       "      <td>0.01</td>\n",
       "      <td>0.809090</td>\n",
       "    </tr>\n",
       "    <tr>\n",
       "      <th>Fighting</th>\n",
       "      <td>0.0675</td>\n",
       "      <td>0.130</td>\n",
       "      <td>0.3200</td>\n",
       "      <td>44.0</td>\n",
       "      <td>7.55</td>\n",
       "      <td>0.539773</td>\n",
       "      <td>0.01</td>\n",
       "      <td>1.366628</td>\n",
       "    </tr>\n",
       "    <tr>\n",
       "      <th>Action</th>\n",
       "      <td>0.0400</td>\n",
       "      <td>0.110</td>\n",
       "      <td>0.3400</td>\n",
       "      <td>441.0</td>\n",
       "      <td>12.62</td>\n",
       "      <td>0.383787</td>\n",
       "      <td>0.01</td>\n",
       "      <td>0.916382</td>\n",
       "    </tr>\n",
       "    <tr>\n",
       "      <th>Role-Playing</th>\n",
       "      <td>0.0600</td>\n",
       "      <td>0.110</td>\n",
       "      <td>0.4650</td>\n",
       "      <td>167.0</td>\n",
       "      <td>11.68</td>\n",
       "      <td>0.498563</td>\n",
       "      <td>0.01</td>\n",
       "      <td>1.231749</td>\n",
       "    </tr>\n",
       "    <tr>\n",
       "      <th>Strategy</th>\n",
       "      <td>0.0275</td>\n",
       "      <td>0.055</td>\n",
       "      <td>0.2125</td>\n",
       "      <td>24.0</td>\n",
       "      <td>0.52</td>\n",
       "      <td>0.117917</td>\n",
       "      <td>0.01</td>\n",
       "      <td>0.135742</td>\n",
       "    </tr>\n",
       "    <tr>\n",
       "      <th>Puzzle</th>\n",
       "      <td>0.0200</td>\n",
       "      <td>0.050</td>\n",
       "      <td>0.1100</td>\n",
       "      <td>13.0</td>\n",
       "      <td>1.19</td>\n",
       "      <td>0.169231</td>\n",
       "      <td>0.01</td>\n",
       "      <td>0.330768</td>\n",
       "    </tr>\n",
       "    <tr>\n",
       "      <th>Adventure</th>\n",
       "      <td>0.0200</td>\n",
       "      <td>0.040</td>\n",
       "      <td>0.0900</td>\n",
       "      <td>129.0</td>\n",
       "      <td>1.66</td>\n",
       "      <td>0.106434</td>\n",
       "      <td>0.01</td>\n",
       "      <td>0.223665</td>\n",
       "    </tr>\n",
       "  </tbody>\n",
       "</table>\n",
       "</div>"
      ],
      "text/plain": [
       "                 25%    50%     75%  count    max      mean   min       std\n",
       "genre                                                                      \n",
       "Shooter       0.3100  0.680  1.7200   81.0  14.63  1.638519  0.02  2.335047\n",
       "Sports        0.0800  0.360  0.7700  113.0   8.58  0.760973  0.01  1.260565\n",
       "Platform      0.0550  0.250  1.1600   23.0   3.21  0.646087  0.01  0.843697\n",
       "Misc          0.0300  0.170  0.4100   81.0   5.27  0.431481  0.01  0.847930\n",
       "Racing        0.0500  0.170  0.4300   45.0   7.09  0.549556  0.01  1.158267\n",
       "Simulation    0.0400  0.160  0.3600   26.0   3.05  0.432308  0.01  0.809090\n",
       "Fighting      0.0675  0.130  0.3200   44.0   7.55  0.539773  0.01  1.366628\n",
       "Action        0.0400  0.110  0.3400  441.0  12.62  0.383787  0.01  0.916382\n",
       "Role-Playing  0.0600  0.110  0.4650  167.0  11.68  0.498563  0.01  1.231749\n",
       "Strategy      0.0275  0.055  0.2125   24.0   0.52  0.117917  0.01  0.135742\n",
       "Puzzle        0.0200  0.050  0.1100   13.0   1.19  0.169231  0.01  0.330768\n",
       "Adventure     0.0200  0.040  0.0900  129.0   1.66  0.106434  0.01  0.223665"
      ]
     },
     "execution_count": 56,
     "metadata": {},
     "output_type": "execute_result"
    }
   ],
   "source": [
    "total_sales_genre_actual = pd.pivot_table(games_actual, index='genre', values = 'total_sales', aggfunc='describe')# сделаем новую таблицу с подсчётом игр по жанрам за актуальный период\n",
    "total_sales_genre_actual_median = total_sales_genre_actual.sort_values(('50%'), ascending=False) # отсортируем по медианному значению продаж по жанрам от большего к меньшему за актуальный период\n",
    "total_sales_genre_actual_median"
   ]
  },
  {
   "cell_type": "markdown",
   "id": "029b4900",
   "metadata": {},
   "source": [
    "Посмотрим на средние значение и другие показатели по продажам по каждому жанру с сортировкой по среднему значению по убыванию:"
   ]
  },
  {
   "cell_type": "code",
   "execution_count": 57,
   "id": "659b65bb",
   "metadata": {},
   "outputs": [
    {
     "data": {
      "text/html": [
       "<div>\n",
       "<style scoped>\n",
       "    .dataframe tbody tr th:only-of-type {\n",
       "        vertical-align: middle;\n",
       "    }\n",
       "\n",
       "    .dataframe tbody tr th {\n",
       "        vertical-align: top;\n",
       "    }\n",
       "\n",
       "    .dataframe thead th {\n",
       "        text-align: right;\n",
       "    }\n",
       "</style>\n",
       "<table border=\"1\" class=\"dataframe\">\n",
       "  <thead>\n",
       "    <tr style=\"text-align: right;\">\n",
       "      <th></th>\n",
       "      <th>25%</th>\n",
       "      <th>50%</th>\n",
       "      <th>75%</th>\n",
       "      <th>count</th>\n",
       "      <th>max</th>\n",
       "      <th>mean</th>\n",
       "      <th>min</th>\n",
       "      <th>std</th>\n",
       "    </tr>\n",
       "    <tr>\n",
       "      <th>genre</th>\n",
       "      <th></th>\n",
       "      <th></th>\n",
       "      <th></th>\n",
       "      <th></th>\n",
       "      <th></th>\n",
       "      <th></th>\n",
       "      <th></th>\n",
       "      <th></th>\n",
       "    </tr>\n",
       "  </thead>\n",
       "  <tbody>\n",
       "    <tr>\n",
       "      <th>Shooter</th>\n",
       "      <td>0.3100</td>\n",
       "      <td>0.680</td>\n",
       "      <td>1.7200</td>\n",
       "      <td>81.0</td>\n",
       "      <td>14.63</td>\n",
       "      <td>1.638519</td>\n",
       "      <td>0.02</td>\n",
       "      <td>2.335047</td>\n",
       "    </tr>\n",
       "    <tr>\n",
       "      <th>Sports</th>\n",
       "      <td>0.0800</td>\n",
       "      <td>0.360</td>\n",
       "      <td>0.7700</td>\n",
       "      <td>113.0</td>\n",
       "      <td>8.58</td>\n",
       "      <td>0.760973</td>\n",
       "      <td>0.01</td>\n",
       "      <td>1.260565</td>\n",
       "    </tr>\n",
       "    <tr>\n",
       "      <th>Platform</th>\n",
       "      <td>0.0550</td>\n",
       "      <td>0.250</td>\n",
       "      <td>1.1600</td>\n",
       "      <td>23.0</td>\n",
       "      <td>3.21</td>\n",
       "      <td>0.646087</td>\n",
       "      <td>0.01</td>\n",
       "      <td>0.843697</td>\n",
       "    </tr>\n",
       "    <tr>\n",
       "      <th>Racing</th>\n",
       "      <td>0.0500</td>\n",
       "      <td>0.170</td>\n",
       "      <td>0.4300</td>\n",
       "      <td>45.0</td>\n",
       "      <td>7.09</td>\n",
       "      <td>0.549556</td>\n",
       "      <td>0.01</td>\n",
       "      <td>1.158267</td>\n",
       "    </tr>\n",
       "    <tr>\n",
       "      <th>Fighting</th>\n",
       "      <td>0.0675</td>\n",
       "      <td>0.130</td>\n",
       "      <td>0.3200</td>\n",
       "      <td>44.0</td>\n",
       "      <td>7.55</td>\n",
       "      <td>0.539773</td>\n",
       "      <td>0.01</td>\n",
       "      <td>1.366628</td>\n",
       "    </tr>\n",
       "    <tr>\n",
       "      <th>Role-Playing</th>\n",
       "      <td>0.0600</td>\n",
       "      <td>0.110</td>\n",
       "      <td>0.4650</td>\n",
       "      <td>167.0</td>\n",
       "      <td>11.68</td>\n",
       "      <td>0.498563</td>\n",
       "      <td>0.01</td>\n",
       "      <td>1.231749</td>\n",
       "    </tr>\n",
       "    <tr>\n",
       "      <th>Simulation</th>\n",
       "      <td>0.0400</td>\n",
       "      <td>0.160</td>\n",
       "      <td>0.3600</td>\n",
       "      <td>26.0</td>\n",
       "      <td>3.05</td>\n",
       "      <td>0.432308</td>\n",
       "      <td>0.01</td>\n",
       "      <td>0.809090</td>\n",
       "    </tr>\n",
       "    <tr>\n",
       "      <th>Misc</th>\n",
       "      <td>0.0300</td>\n",
       "      <td>0.170</td>\n",
       "      <td>0.4100</td>\n",
       "      <td>81.0</td>\n",
       "      <td>5.27</td>\n",
       "      <td>0.431481</td>\n",
       "      <td>0.01</td>\n",
       "      <td>0.847930</td>\n",
       "    </tr>\n",
       "    <tr>\n",
       "      <th>Action</th>\n",
       "      <td>0.0400</td>\n",
       "      <td>0.110</td>\n",
       "      <td>0.3400</td>\n",
       "      <td>441.0</td>\n",
       "      <td>12.62</td>\n",
       "      <td>0.383787</td>\n",
       "      <td>0.01</td>\n",
       "      <td>0.916382</td>\n",
       "    </tr>\n",
       "    <tr>\n",
       "      <th>Puzzle</th>\n",
       "      <td>0.0200</td>\n",
       "      <td>0.050</td>\n",
       "      <td>0.1100</td>\n",
       "      <td>13.0</td>\n",
       "      <td>1.19</td>\n",
       "      <td>0.169231</td>\n",
       "      <td>0.01</td>\n",
       "      <td>0.330768</td>\n",
       "    </tr>\n",
       "    <tr>\n",
       "      <th>Strategy</th>\n",
       "      <td>0.0275</td>\n",
       "      <td>0.055</td>\n",
       "      <td>0.2125</td>\n",
       "      <td>24.0</td>\n",
       "      <td>0.52</td>\n",
       "      <td>0.117917</td>\n",
       "      <td>0.01</td>\n",
       "      <td>0.135742</td>\n",
       "    </tr>\n",
       "    <tr>\n",
       "      <th>Adventure</th>\n",
       "      <td>0.0200</td>\n",
       "      <td>0.040</td>\n",
       "      <td>0.0900</td>\n",
       "      <td>129.0</td>\n",
       "      <td>1.66</td>\n",
       "      <td>0.106434</td>\n",
       "      <td>0.01</td>\n",
       "      <td>0.223665</td>\n",
       "    </tr>\n",
       "  </tbody>\n",
       "</table>\n",
       "</div>"
      ],
      "text/plain": [
       "                 25%    50%     75%  count    max      mean   min       std\n",
       "genre                                                                      \n",
       "Shooter       0.3100  0.680  1.7200   81.0  14.63  1.638519  0.02  2.335047\n",
       "Sports        0.0800  0.360  0.7700  113.0   8.58  0.760973  0.01  1.260565\n",
       "Platform      0.0550  0.250  1.1600   23.0   3.21  0.646087  0.01  0.843697\n",
       "Racing        0.0500  0.170  0.4300   45.0   7.09  0.549556  0.01  1.158267\n",
       "Fighting      0.0675  0.130  0.3200   44.0   7.55  0.539773  0.01  1.366628\n",
       "Role-Playing  0.0600  0.110  0.4650  167.0  11.68  0.498563  0.01  1.231749\n",
       "Simulation    0.0400  0.160  0.3600   26.0   3.05  0.432308  0.01  0.809090\n",
       "Misc          0.0300  0.170  0.4100   81.0   5.27  0.431481  0.01  0.847930\n",
       "Action        0.0400  0.110  0.3400  441.0  12.62  0.383787  0.01  0.916382\n",
       "Puzzle        0.0200  0.050  0.1100   13.0   1.19  0.169231  0.01  0.330768\n",
       "Strategy      0.0275  0.055  0.2125   24.0   0.52  0.117917  0.01  0.135742\n",
       "Adventure     0.0200  0.040  0.0900  129.0   1.66  0.106434  0.01  0.223665"
      ]
     },
     "execution_count": 57,
     "metadata": {},
     "output_type": "execute_result"
    }
   ],
   "source": [
    "total_sales_genre_actual_mean = total_sales_genre_actual.sort_values(('mean'), ascending=False) # отсортируем по числу игр от большего к меньшему за актуальный период\n",
    "total_sales_genre_actual_mean"
   ]
  },
  {
   "cell_type": "markdown",
   "id": "07ee8e2b",
   "metadata": {},
   "source": [
    "**Вывод**\n",
    "<br><br>\n",
    "Самыми прибыльными жанрами являются `Shooter, Sports и Platform`.\n",
    "<br>Среднее и медианное значение ТОП-3 жанров расположены в одном порядке.\n",
    "<br><br>\n",
    "Выделяются жанры с низкими продажами - это `Strategy, Puzzle и Adventure`.\n",
    "<br>\n",
    "При этом, если у `Puzzle и Strategy` мало продаж, но и число игр выпущенно минимальное значение, то `Adventure` выпускается больше среднего значения по жанрам, но продажи входят АнтиТОП-3."
   ]
  },
  {
   "cell_type": "markdown",
   "id": "a11065a4",
   "metadata": {},
   "source": [
    "## Составим портрет пользователя каждого региона"
   ]
  },
  {
   "cell_type": "markdown",
   "id": "d2c28add",
   "metadata": {},
   "source": [
    "### Определим для пользователя каждого региона (NA, EU, JP) самые популярные платформы (топ-5)"
   ]
  },
  {
   "cell_type": "markdown",
   "id": "761c7d24",
   "metadata": {},
   "source": [
    "Посчитаем продажи в Европе по платформам и определим для каждой платформы долю рынка:"
   ]
  },
  {
   "cell_type": "code",
   "execution_count": 58,
   "id": "da4181d4",
   "metadata": {},
   "outputs": [
    {
     "data": {
      "text/html": [
       "<div>\n",
       "<style scoped>\n",
       "    .dataframe tbody tr th:only-of-type {\n",
       "        vertical-align: middle;\n",
       "    }\n",
       "\n",
       "    .dataframe tbody tr th {\n",
       "        vertical-align: top;\n",
       "    }\n",
       "\n",
       "    .dataframe thead th {\n",
       "        text-align: right;\n",
       "    }\n",
       "</style>\n",
       "<table border=\"1\" class=\"dataframe\">\n",
       "  <thead>\n",
       "    <tr style=\"text-align: right;\">\n",
       "      <th></th>\n",
       "      <th>eu_sales</th>\n",
       "      <th>fraction_eu</th>\n",
       "    </tr>\n",
       "    <tr>\n",
       "      <th>platform</th>\n",
       "      <th></th>\n",
       "      <th></th>\n",
       "    </tr>\n",
       "  </thead>\n",
       "  <tbody>\n",
       "    <tr>\n",
       "      <th>PS4</th>\n",
       "      <td>98.26</td>\n",
       "      <td>0.447735</td>\n",
       "    </tr>\n",
       "    <tr>\n",
       "      <th>XOne</th>\n",
       "      <td>36.62</td>\n",
       "      <td>0.166864</td>\n",
       "    </tr>\n",
       "    <tr>\n",
       "      <th>PS3</th>\n",
       "      <td>24.28</td>\n",
       "      <td>0.110635</td>\n",
       "    </tr>\n",
       "    <tr>\n",
       "      <th>X360</th>\n",
       "      <td>14.78</td>\n",
       "      <td>0.067347</td>\n",
       "    </tr>\n",
       "    <tr>\n",
       "      <th>PC</th>\n",
       "      <td>14.44</td>\n",
       "      <td>0.065798</td>\n",
       "    </tr>\n",
       "    <tr>\n",
       "      <th>3DS</th>\n",
       "      <td>13.79</td>\n",
       "      <td>0.062836</td>\n",
       "    </tr>\n",
       "    <tr>\n",
       "      <th>WiiU</th>\n",
       "      <td>11.67</td>\n",
       "      <td>0.053176</td>\n",
       "    </tr>\n",
       "    <tr>\n",
       "      <th>PSV</th>\n",
       "      <td>3.14</td>\n",
       "      <td>0.014308</td>\n",
       "    </tr>\n",
       "    <tr>\n",
       "      <th>Wii</th>\n",
       "      <td>2.48</td>\n",
       "      <td>0.011300</td>\n",
       "    </tr>\n",
       "    <tr>\n",
       "      <th>PSP</th>\n",
       "      <td>0.00</td>\n",
       "      <td>0.000000</td>\n",
       "    </tr>\n",
       "  </tbody>\n",
       "</table>\n",
       "</div>"
      ],
      "text/plain": [
       "          eu_sales  fraction_eu\n",
       "platform                       \n",
       "PS4          98.26     0.447735\n",
       "XOne         36.62     0.166864\n",
       "PS3          24.28     0.110635\n",
       "X360         14.78     0.067347\n",
       "PC           14.44     0.065798\n",
       "3DS          13.79     0.062836\n",
       "WiiU         11.67     0.053176\n",
       "PSV           3.14     0.014308\n",
       "Wii           2.48     0.011300\n",
       "PSP           0.00     0.000000"
      ]
     },
     "execution_count": 58,
     "metadata": {},
     "output_type": "execute_result"
    }
   ],
   "source": [
    "top_platform_eu = pd.pivot_table(games_actual, index='platform', values = 'eu_sales', aggfunc='sum')# сделаем новую таблицу с подсчётом продаж по региону за актуальный период с для каждой платформы\n",
    "top_platform_eu['fraction_eu'] =  top_platform_eu['eu_sales']/top_platform_eu['eu_sales'].sum() # посчитаем долю рынка для каждой платформы\n",
    "top_platform_eu = top_platform_eu.sort_values('eu_sales', ascending=False) # отсортируем по сумме продаж от большего к меньшему за актуальный период для Еврозоны\n",
    "top_platform_eu"
   ]
  },
  {
   "cell_type": "markdown",
   "id": "f79e08d3",
   "metadata": {},
   "source": [
    "Построим круговую диаграмму, чтобы наглядно увидеть различия в долях продаж у ТОП-5 платформам в Европе"
   ]
  },
  {
   "cell_type": "code",
   "execution_count": 59,
   "id": "1d0c4483",
   "metadata": {},
   "outputs": [
    {
     "data": {
      "image/png": "[encoded data removed]",
      "text/plain": [
       "<Figure size 432x288 with 1 Axes>"
      ]
     },
     "metadata": {},
     "output_type": "display_data"
    }
   ],
   "source": [
    "labels = top_platform_eu.index\n",
    "values = top_platform_eu['fraction_eu']\n",
    "plt.pie(values,labels=labels)\n",
    "plt.axis('equal')\n",
    "plt.show()"
   ]
  },
  {
   "cell_type": "markdown",
   "id": "6ec5824a",
   "metadata": {},
   "source": [
    "Посчитаем продажи в Японии по платформам и определим для каждой платформы долю рынка:"
   ]
  },
  {
   "cell_type": "code",
   "execution_count": 60,
   "id": "c4bc826a",
   "metadata": {},
   "outputs": [
    {
     "data": {
      "text/html": [
       "<div>\n",
       "<style scoped>\n",
       "    .dataframe tbody tr th:only-of-type {\n",
       "        vertical-align: middle;\n",
       "    }\n",
       "\n",
       "    .dataframe tbody tr th {\n",
       "        vertical-align: top;\n",
       "    }\n",
       "\n",
       "    .dataframe thead th {\n",
       "        text-align: right;\n",
       "    }\n",
       "</style>\n",
       "<table border=\"1\" class=\"dataframe\">\n",
       "  <thead>\n",
       "    <tr style=\"text-align: right;\">\n",
       "      <th></th>\n",
       "      <th>jp_sales</th>\n",
       "      <th>fraction_jp</th>\n",
       "    </tr>\n",
       "    <tr>\n",
       "      <th>platform</th>\n",
       "      <th></th>\n",
       "      <th></th>\n",
       "    </tr>\n",
       "  </thead>\n",
       "  <tbody>\n",
       "    <tr>\n",
       "      <th>3DS</th>\n",
       "      <td>36.21</td>\n",
       "      <td>0.490783</td>\n",
       "    </tr>\n",
       "    <tr>\n",
       "      <th>PSV</th>\n",
       "      <td>10.98</td>\n",
       "      <td>0.148821</td>\n",
       "    </tr>\n",
       "    <tr>\n",
       "      <th>PS3</th>\n",
       "      <td>9.92</td>\n",
       "      <td>0.134454</td>\n",
       "    </tr>\n",
       "    <tr>\n",
       "      <th>PS4</th>\n",
       "      <td>9.28</td>\n",
       "      <td>0.125779</td>\n",
       "    </tr>\n",
       "    <tr>\n",
       "      <th>WiiU</th>\n",
       "      <td>6.64</td>\n",
       "      <td>0.089997</td>\n",
       "    </tr>\n",
       "    <tr>\n",
       "      <th>PSP</th>\n",
       "      <td>0.36</td>\n",
       "      <td>0.004879</td>\n",
       "    </tr>\n",
       "    <tr>\n",
       "      <th>XOne</th>\n",
       "      <td>0.31</td>\n",
       "      <td>0.004202</td>\n",
       "    </tr>\n",
       "    <tr>\n",
       "      <th>X360</th>\n",
       "      <td>0.08</td>\n",
       "      <td>0.001084</td>\n",
       "    </tr>\n",
       "    <tr>\n",
       "      <th>PC</th>\n",
       "      <td>0.00</td>\n",
       "      <td>0.000000</td>\n",
       "    </tr>\n",
       "    <tr>\n",
       "      <th>Wii</th>\n",
       "      <td>0.00</td>\n",
       "      <td>0.000000</td>\n",
       "    </tr>\n",
       "  </tbody>\n",
       "</table>\n",
       "</div>"
      ],
      "text/plain": [
       "          jp_sales  fraction_jp\n",
       "platform                       \n",
       "3DS          36.21     0.490783\n",
       "PSV          10.98     0.148821\n",
       "PS3           9.92     0.134454\n",
       "PS4           9.28     0.125779\n",
       "WiiU          6.64     0.089997\n",
       "PSP           0.36     0.004879\n",
       "XOne          0.31     0.004202\n",
       "X360          0.08     0.001084\n",
       "PC            0.00     0.000000\n",
       "Wii           0.00     0.000000"
      ]
     },
     "execution_count": 60,
     "metadata": {},
     "output_type": "execute_result"
    }
   ],
   "source": [
    "top_platform_jp = pd.pivot_table(games_actual, index='platform', values = 'jp_sales', aggfunc='sum')# сделаем новую таблицу с подсчётом продаж по региону за актуальный период с для каждой платформы\n",
    "top_platform_jp = top_platform_jp.sort_values('jp_sales', ascending=False) # отсортируем по сумме продаж от большего к меньшему за актуальный период для Японии\n",
    "top_platform_jp['fraction_jp'] =  top_platform_jp['jp_sales']/top_platform_jp['jp_sales'].sum() # посчитаем долю рынка для каждой платформы\n",
    "top_platform_jp"
   ]
  },
  {
   "cell_type": "markdown",
   "id": "1c2d20ab",
   "metadata": {},
   "source": [
    "Построим круговую диаграмму, чтобы наглядно увидеть различия в долях продаж у ТОП-5 платформам в Японии"
   ]
  },
  {
   "cell_type": "code",
   "execution_count": 61,
   "id": "dc9ae09a",
   "metadata": {},
   "outputs": [
    {
     "data": {
      "image/png": "[encoded data removed]",
      "text/plain": [
       "<Figure size 432x288 with 1 Axes>"
      ]
     },
     "metadata": {},
     "output_type": "display_data"
    }
   ],
   "source": [
    "labels = top_platform_jp.index\n",
    "values = top_platform_jp['fraction_jp']\n",
    "plt.pie(values,labels=labels)\n",
    "plt.axis('equal')\n",
    "plt.show()"
   ]
  },
  {
   "cell_type": "markdown",
   "id": "d29df4eb",
   "metadata": {},
   "source": [
    "Посчитаем продажи в Северной Америке по платформам и определим для каждой платформы долю рынка:"
   ]
  },
  {
   "cell_type": "code",
   "execution_count": 62,
   "id": "5d447200",
   "metadata": {},
   "outputs": [
    {
     "data": {
      "text/html": [
       "<div>\n",
       "<style scoped>\n",
       "    .dataframe tbody tr th:only-of-type {\n",
       "        vertical-align: middle;\n",
       "    }\n",
       "\n",
       "    .dataframe tbody tr th {\n",
       "        vertical-align: top;\n",
       "    }\n",
       "\n",
       "    .dataframe thead th {\n",
       "        text-align: right;\n",
       "    }\n",
       "</style>\n",
       "<table border=\"1\" class=\"dataframe\">\n",
       "  <thead>\n",
       "    <tr style=\"text-align: right;\">\n",
       "      <th></th>\n",
       "      <th>na_sales</th>\n",
       "      <th>fraction_na</th>\n",
       "    </tr>\n",
       "    <tr>\n",
       "      <th>platform</th>\n",
       "      <th></th>\n",
       "      <th></th>\n",
       "    </tr>\n",
       "  </thead>\n",
       "  <tbody>\n",
       "    <tr>\n",
       "      <th>PS4</th>\n",
       "      <td>77.12</td>\n",
       "      <td>0.322502</td>\n",
       "    </tr>\n",
       "    <tr>\n",
       "      <th>XOne</th>\n",
       "      <td>67.00</td>\n",
       "      <td>0.280182</td>\n",
       "    </tr>\n",
       "    <tr>\n",
       "      <th>X360</th>\n",
       "      <td>27.61</td>\n",
       "      <td>0.115460</td>\n",
       "    </tr>\n",
       "    <tr>\n",
       "      <th>PS3</th>\n",
       "      <td>21.38</td>\n",
       "      <td>0.089407</td>\n",
       "    </tr>\n",
       "    <tr>\n",
       "      <th>3DS</th>\n",
       "      <td>18.50</td>\n",
       "      <td>0.077364</td>\n",
       "    </tr>\n",
       "    <tr>\n",
       "      <th>WiiU</th>\n",
       "      <td>17.26</td>\n",
       "      <td>0.072178</td>\n",
       "    </tr>\n",
       "    <tr>\n",
       "      <th>PC</th>\n",
       "      <td>5.87</td>\n",
       "      <td>0.024547</td>\n",
       "    </tr>\n",
       "    <tr>\n",
       "      <th>PSV</th>\n",
       "      <td>2.37</td>\n",
       "      <td>0.009911</td>\n",
       "    </tr>\n",
       "    <tr>\n",
       "      <th>Wii</th>\n",
       "      <td>2.02</td>\n",
       "      <td>0.008447</td>\n",
       "    </tr>\n",
       "    <tr>\n",
       "      <th>PSP</th>\n",
       "      <td>0.00</td>\n",
       "      <td>0.000000</td>\n",
       "    </tr>\n",
       "  </tbody>\n",
       "</table>\n",
       "</div>"
      ],
      "text/plain": [
       "          na_sales  fraction_na\n",
       "platform                       \n",
       "PS4          77.12     0.322502\n",
       "XOne         67.00     0.280182\n",
       "X360         27.61     0.115460\n",
       "PS3          21.38     0.089407\n",
       "3DS          18.50     0.077364\n",
       "WiiU         17.26     0.072178\n",
       "PC            5.87     0.024547\n",
       "PSV           2.37     0.009911\n",
       "Wii           2.02     0.008447\n",
       "PSP           0.00     0.000000"
      ]
     },
     "execution_count": 62,
     "metadata": {},
     "output_type": "execute_result"
    }
   ],
   "source": [
    "top_platform_na = pd.pivot_table(games_actual, index='platform', values = 'na_sales', aggfunc='sum')# сделаем новую таблицу с подсчётом продаж по региону за актуальный период с для каждой платформы\n",
    "top_platform_na = top_platform_na.sort_values('na_sales', ascending=False) # отсортируем по сумме продаж от большего к меньшему за актуальный период для Японии\n",
    "top_platform_na['fraction_na'] =  top_platform_na['na_sales']/top_platform_na['na_sales'].sum() # посчитаем долю рынка для каждой платформы\n",
    "top_platform_na"
   ]
  },
  {
   "cell_type": "markdown",
   "id": "68f1ea5a",
   "metadata": {},
   "source": [
    "Построим круговую диаграмму, чтобы наглядно увидеть различия в долях продаж у ТОП-5 платформам в Северной Америке"
   ]
  },
  {
   "cell_type": "code",
   "execution_count": 63,
   "id": "b1d5d4e8",
   "metadata": {},
   "outputs": [
    {
     "data": {
      "image/png": "[encoded data removed]",
      "text/plain": [
       "<Figure size 432x288 with 1 Axes>"
      ]
     },
     "metadata": {},
     "output_type": "display_data"
    }
   ],
   "source": [
    "labels = top_platform_na.index\n",
    "values = top_platform_na['fraction_na']\n",
    "plt.pie(values,labels=labels)\n",
    "plt.axis('equal')\n",
    "plt.show()"
   ]
  },
  {
   "cell_type": "markdown",
   "id": "c74245ae",
   "metadata": {},
   "source": [
    "**Вывод**\n",
    "<br><br>\n",
    "Самыми продаваемыми платформами (ТОП-5) для Северной Америки являются: \n",
    "* PS4 с долей рынка дродаж в 32,25%\t\n",
    "* XOne с долей рынка дродаж в 28,02%\t\n",
    "* X360 с долей рынка дродаж в 11,55%\t\n",
    "* PS3 с долей рынка дродаж в 8,94%\n",
    "* 3DS с долей рынка дродаж в 7,74%\t\n",
    "\n",
    "Самыми продаваемыми платформами (ТОП-5) для Европы являются: \n",
    "* PS4 с долей рынка дродаж в 44,77%\t\n",
    "* XOne с долей рынка дродаж в 16,69%\t\n",
    "* PS3 с долей рынка дродаж в 11,06%\t\n",
    "* X360 с долей рынка дродаж в 6,73%\n",
    "* PC с долей рынка дродаж в 6,58%\n",
    "\n",
    "\n",
    "Самыми продаваемыми платформами (ТОП-5) для Японии являются: \n",
    "* 3DS с долей рынка дродаж в 49,08%\t\n",
    "* PSV с долей рынка дродаж в 14,88%\t\n",
    "* PS3 с долей рынка дродаж в 13,45%\t\n",
    "* PS4 с долей рынка дродаж в 12,58%\n",
    "* WiiU с долей рынка дродаж в 9%\n",
    "\n",
    "В Северной Америке, Европе и Японии в ТОП-5 входят одни и те же  платформы из списков выше, кроме пятой строчки.\n",
    "<br>В Северной Америке пятую строчку занимает 3DS, а в Европе PC.\n",
    "<br>\n",
    "В Японии платформы в ТОП-5 значительно отличаются, тк Японский рынок является специфичным.\n"
   ]
  },
  {
   "cell_type": "markdown",
   "id": "b52ba208",
   "metadata": {},
   "source": [
    "### Определим для пользователя каждого региона (NA, EU, JP) самые популярные жанры (топ-5)"
   ]
  },
  {
   "cell_type": "markdown",
   "id": "fe4af2a1",
   "metadata": {},
   "source": [
    "Посчитаем продажи в Европе по жанрам и определим для каждой платформы долю рынка в Европе:"
   ]
  },
  {
   "cell_type": "code",
   "execution_count": 64,
   "id": "95e2ea45",
   "metadata": {},
   "outputs": [
    {
     "data": {
      "text/html": [
       "<div>\n",
       "<style scoped>\n",
       "    .dataframe tbody tr th:only-of-type {\n",
       "        vertical-align: middle;\n",
       "    }\n",
       "\n",
       "    .dataframe tbody tr th {\n",
       "        vertical-align: top;\n",
       "    }\n",
       "\n",
       "    .dataframe thead th {\n",
       "        text-align: right;\n",
       "    }\n",
       "</style>\n",
       "<table border=\"1\" class=\"dataframe\">\n",
       "  <thead>\n",
       "    <tr style=\"text-align: right;\">\n",
       "      <th></th>\n",
       "      <th>eu_sales</th>\n",
       "      <th>fraction_eu</th>\n",
       "    </tr>\n",
       "    <tr>\n",
       "      <th>genre</th>\n",
       "      <th></th>\n",
       "      <th></th>\n",
       "    </tr>\n",
       "  </thead>\n",
       "  <tbody>\n",
       "    <tr>\n",
       "      <th>Action</th>\n",
       "      <td>64.00</td>\n",
       "      <td>0.291625</td>\n",
       "    </tr>\n",
       "    <tr>\n",
       "      <th>Shooter</th>\n",
       "      <td>49.62</td>\n",
       "      <td>0.226100</td>\n",
       "    </tr>\n",
       "    <tr>\n",
       "      <th>Sports</th>\n",
       "      <td>33.72</td>\n",
       "      <td>0.153650</td>\n",
       "    </tr>\n",
       "    <tr>\n",
       "      <th>Role-Playing</th>\n",
       "      <td>23.89</td>\n",
       "      <td>0.108858</td>\n",
       "    </tr>\n",
       "    <tr>\n",
       "      <th>Racing</th>\n",
       "      <td>12.36</td>\n",
       "      <td>0.056320</td>\n",
       "    </tr>\n",
       "    <tr>\n",
       "      <th>Misc</th>\n",
       "      <td>12.20</td>\n",
       "      <td>0.055591</td>\n",
       "    </tr>\n",
       "    <tr>\n",
       "      <th>Simulation</th>\n",
       "      <td>6.03</td>\n",
       "      <td>0.027477</td>\n",
       "    </tr>\n",
       "    <tr>\n",
       "      <th>Platform</th>\n",
       "      <td>5.41</td>\n",
       "      <td>0.024651</td>\n",
       "    </tr>\n",
       "    <tr>\n",
       "      <th>Fighting</th>\n",
       "      <td>5.35</td>\n",
       "      <td>0.024378</td>\n",
       "    </tr>\n",
       "    <tr>\n",
       "      <th>Adventure</th>\n",
       "      <td>5.17</td>\n",
       "      <td>0.023558</td>\n",
       "    </tr>\n",
       "    <tr>\n",
       "      <th>Strategy</th>\n",
       "      <td>1.20</td>\n",
       "      <td>0.005468</td>\n",
       "    </tr>\n",
       "    <tr>\n",
       "      <th>Puzzle</th>\n",
       "      <td>0.51</td>\n",
       "      <td>0.002324</td>\n",
       "    </tr>\n",
       "  </tbody>\n",
       "</table>\n",
       "</div>"
      ],
      "text/plain": [
       "              eu_sales  fraction_eu\n",
       "genre                              \n",
       "Action           64.00     0.291625\n",
       "Shooter          49.62     0.226100\n",
       "Sports           33.72     0.153650\n",
       "Role-Playing     23.89     0.108858\n",
       "Racing           12.36     0.056320\n",
       "Misc             12.20     0.055591\n",
       "Simulation        6.03     0.027477\n",
       "Platform          5.41     0.024651\n",
       "Fighting          5.35     0.024378\n",
       "Adventure         5.17     0.023558\n",
       "Strategy          1.20     0.005468\n",
       "Puzzle            0.51     0.002324"
      ]
     },
     "execution_count": 64,
     "metadata": {},
     "output_type": "execute_result"
    }
   ],
   "source": [
    "top_genre_eu = pd.pivot_table(games_actual, index='genre', values = 'eu_sales', aggfunc='sum')# сделаем новую таблицу с подсчётом продаж по региону за актуальный период для каждого жанра\n",
    "top_genre_eu = top_genre_eu.sort_values('eu_sales', ascending=False) # отсортируем по сумме продаж от большего к меньшему за актуальный период для Еврозоны\n",
    "top_genre_eu['fraction_eu'] =  top_genre_eu['eu_sales']/top_genre_eu['eu_sales'].sum() # посчитаем долю рынка для каждого жанра\n",
    "top_genre_eu"
   ]
  },
  {
   "cell_type": "markdown",
   "id": "d5f9955f",
   "metadata": {},
   "source": [
    "Построим круговую диаграмму, чтобы наглядно увидеть различия в долях продаж у ТОП-5 жанров в Европе"
   ]
  },
  {
   "cell_type": "code",
   "execution_count": 65,
   "id": "32698c9f",
   "metadata": {},
   "outputs": [
    {
     "data": {
      "image/png": "[encoded data removed]",
      "text/plain": [
       "<Figure size 432x288 with 1 Axes>"
      ]
     },
     "metadata": {},
     "output_type": "display_data"
    }
   ],
   "source": [
    "labels = top_genre_eu.index\n",
    "values = top_genre_eu['fraction_eu']\n",
    "plt.pie(values,labels=labels)\n",
    "plt.axis('equal')\n",
    "plt.show()"
   ]
  },
  {
   "cell_type": "markdown",
   "id": "af939f76",
   "metadata": {},
   "source": [
    "Посчитаем продажи в Японии по жанрам и определим для каждой платформы долю рынка в Японии:"
   ]
  },
  {
   "cell_type": "code",
   "execution_count": 66,
   "id": "2246ba53",
   "metadata": {},
   "outputs": [
    {
     "data": {
      "text/html": [
       "<div>\n",
       "<style scoped>\n",
       "    .dataframe tbody tr th:only-of-type {\n",
       "        vertical-align: middle;\n",
       "    }\n",
       "\n",
       "    .dataframe tbody tr th {\n",
       "        vertical-align: top;\n",
       "    }\n",
       "\n",
       "    .dataframe thead th {\n",
       "        text-align: right;\n",
       "    }\n",
       "</style>\n",
       "<table border=\"1\" class=\"dataframe\">\n",
       "  <thead>\n",
       "    <tr style=\"text-align: right;\">\n",
       "      <th></th>\n",
       "      <th>jp_sales</th>\n",
       "      <th>fraction_jp</th>\n",
       "    </tr>\n",
       "    <tr>\n",
       "      <th>genre</th>\n",
       "      <th></th>\n",
       "      <th></th>\n",
       "    </tr>\n",
       "  </thead>\n",
       "  <tbody>\n",
       "    <tr>\n",
       "      <th>Role-Playing</th>\n",
       "      <td>24.55</td>\n",
       "      <td>0.332746</td>\n",
       "    </tr>\n",
       "    <tr>\n",
       "      <th>Action</th>\n",
       "      <td>22.51</td>\n",
       "      <td>0.305096</td>\n",
       "    </tr>\n",
       "    <tr>\n",
       "      <th>Fighting</th>\n",
       "      <td>5.62</td>\n",
       "      <td>0.076172</td>\n",
       "    </tr>\n",
       "    <tr>\n",
       "      <th>Misc</th>\n",
       "      <td>4.57</td>\n",
       "      <td>0.061941</td>\n",
       "    </tr>\n",
       "    <tr>\n",
       "      <th>Shooter</th>\n",
       "      <td>3.81</td>\n",
       "      <td>0.051640</td>\n",
       "    </tr>\n",
       "    <tr>\n",
       "      <th>Platform</th>\n",
       "      <td>2.58</td>\n",
       "      <td>0.034969</td>\n",
       "    </tr>\n",
       "    <tr>\n",
       "      <th>Adventure</th>\n",
       "      <td>2.42</td>\n",
       "      <td>0.032800</td>\n",
       "    </tr>\n",
       "    <tr>\n",
       "      <th>Sports</th>\n",
       "      <td>2.34</td>\n",
       "      <td>0.031716</td>\n",
       "    </tr>\n",
       "    <tr>\n",
       "      <th>Simulation</th>\n",
       "      <td>1.98</td>\n",
       "      <td>0.026837</td>\n",
       "    </tr>\n",
       "    <tr>\n",
       "      <th>Racing</th>\n",
       "      <td>1.75</td>\n",
       "      <td>0.023719</td>\n",
       "    </tr>\n",
       "    <tr>\n",
       "      <th>Puzzle</th>\n",
       "      <td>0.93</td>\n",
       "      <td>0.012605</td>\n",
       "    </tr>\n",
       "    <tr>\n",
       "      <th>Strategy</th>\n",
       "      <td>0.72</td>\n",
       "      <td>0.009759</td>\n",
       "    </tr>\n",
       "  </tbody>\n",
       "</table>\n",
       "</div>"
      ],
      "text/plain": [
       "              jp_sales  fraction_jp\n",
       "genre                              \n",
       "Role-Playing     24.55     0.332746\n",
       "Action           22.51     0.305096\n",
       "Fighting          5.62     0.076172\n",
       "Misc              4.57     0.061941\n",
       "Shooter           3.81     0.051640\n",
       "Platform          2.58     0.034969\n",
       "Adventure         2.42     0.032800\n",
       "Sports            2.34     0.031716\n",
       "Simulation        1.98     0.026837\n",
       "Racing            1.75     0.023719\n",
       "Puzzle            0.93     0.012605\n",
       "Strategy          0.72     0.009759"
      ]
     },
     "execution_count": 66,
     "metadata": {},
     "output_type": "execute_result"
    }
   ],
   "source": [
    "top_genre_jp = pd.pivot_table(games_actual, index='genre', values = 'jp_sales', aggfunc='sum')# сделаем новую таблицу с подсчётом продаж по региону за актуальный период для каждого жанра\n",
    "top_genre_jp = top_genre_jp.sort_values('jp_sales', ascending=False) # отсортируем по сумме продаж от большего к меньшему за актуальный период для Еврозоны\n",
    "top_genre_jp['fraction_jp'] =  top_genre_jp['jp_sales']/top_genre_jp['jp_sales'].sum() # посчитаем долю рынка для каждого жанра\n",
    "top_genre_jp"
   ]
  },
  {
   "cell_type": "markdown",
   "id": "418adeda",
   "metadata": {},
   "source": [
    "Построим круговую диаграмму, чтобы наглядно увидеть различия в долях продаж у ТОП-5 жанров в Японии"
   ]
  },
  {
   "cell_type": "code",
   "execution_count": 67,
   "id": "ff994c56",
   "metadata": {},
   "outputs": [
    {
     "data": {
      "image/png": "[encoded data removed]",
      "text/plain": [
       "<Figure size 432x288 with 1 Axes>"
      ]
     },
     "metadata": {},
     "output_type": "display_data"
    }
   ],
   "source": [
    "labels = top_genre_jp.index\n",
    "values = top_genre_jp['fraction_jp']\n",
    "plt.pie(values,labels=labels)\n",
    "plt.axis('equal')\n",
    "plt.show()"
   ]
  },
  {
   "cell_type": "markdown",
   "id": "adbcdb6a",
   "metadata": {},
   "source": [
    "Посчитаем продажи в Северной Америке по жанрам и определим для каждой платформы долю рынка в Северной Америке:"
   ]
  },
  {
   "cell_type": "code",
   "execution_count": 68,
   "id": "39789c59",
   "metadata": {},
   "outputs": [
    {
     "data": {
      "text/html": [
       "<div>\n",
       "<style scoped>\n",
       "    .dataframe tbody tr th:only-of-type {\n",
       "        vertical-align: middle;\n",
       "    }\n",
       "\n",
       "    .dataframe tbody tr th {\n",
       "        vertical-align: top;\n",
       "    }\n",
       "\n",
       "    .dataframe thead th {\n",
       "        text-align: right;\n",
       "    }\n",
       "</style>\n",
       "<table border=\"1\" class=\"dataframe\">\n",
       "  <thead>\n",
       "    <tr style=\"text-align: right;\">\n",
       "      <th></th>\n",
       "      <th>na_sales</th>\n",
       "      <th>fraction_na</th>\n",
       "    </tr>\n",
       "    <tr>\n",
       "      <th>genre</th>\n",
       "      <th></th>\n",
       "      <th></th>\n",
       "    </tr>\n",
       "  </thead>\n",
       "  <tbody>\n",
       "    <tr>\n",
       "      <th>Action</th>\n",
       "      <td>63.24</td>\n",
       "      <td>0.264459</td>\n",
       "    </tr>\n",
       "    <tr>\n",
       "      <th>Shooter</th>\n",
       "      <td>62.78</td>\n",
       "      <td>0.262535</td>\n",
       "    </tr>\n",
       "    <tr>\n",
       "      <th>Sports</th>\n",
       "      <td>38.59</td>\n",
       "      <td>0.161377</td>\n",
       "    </tr>\n",
       "    <tr>\n",
       "      <th>Role-Playing</th>\n",
       "      <td>27.58</td>\n",
       "      <td>0.115335</td>\n",
       "    </tr>\n",
       "    <tr>\n",
       "      <th>Misc</th>\n",
       "      <td>14.29</td>\n",
       "      <td>0.059758</td>\n",
       "    </tr>\n",
       "    <tr>\n",
       "      <th>Fighting</th>\n",
       "      <td>10.59</td>\n",
       "      <td>0.044286</td>\n",
       "    </tr>\n",
       "    <tr>\n",
       "      <th>Racing</th>\n",
       "      <td>8.01</td>\n",
       "      <td>0.033496</td>\n",
       "    </tr>\n",
       "    <tr>\n",
       "      <th>Platform</th>\n",
       "      <td>5.50</td>\n",
       "      <td>0.023000</td>\n",
       "    </tr>\n",
       "    <tr>\n",
       "      <th>Adventure</th>\n",
       "      <td>4.69</td>\n",
       "      <td>0.019613</td>\n",
       "    </tr>\n",
       "    <tr>\n",
       "      <th>Simulation</th>\n",
       "      <td>2.47</td>\n",
       "      <td>0.010329</td>\n",
       "    </tr>\n",
       "    <tr>\n",
       "      <th>Strategy</th>\n",
       "      <td>0.74</td>\n",
       "      <td>0.003095</td>\n",
       "    </tr>\n",
       "    <tr>\n",
       "      <th>Puzzle</th>\n",
       "      <td>0.65</td>\n",
       "      <td>0.002718</td>\n",
       "    </tr>\n",
       "  </tbody>\n",
       "</table>\n",
       "</div>"
      ],
      "text/plain": [
       "              na_sales  fraction_na\n",
       "genre                              \n",
       "Action           63.24     0.264459\n",
       "Shooter          62.78     0.262535\n",
       "Sports           38.59     0.161377\n",
       "Role-Playing     27.58     0.115335\n",
       "Misc             14.29     0.059758\n",
       "Fighting         10.59     0.044286\n",
       "Racing            8.01     0.033496\n",
       "Platform          5.50     0.023000\n",
       "Adventure         4.69     0.019613\n",
       "Simulation        2.47     0.010329\n",
       "Strategy          0.74     0.003095\n",
       "Puzzle            0.65     0.002718"
      ]
     },
     "execution_count": 68,
     "metadata": {},
     "output_type": "execute_result"
    }
   ],
   "source": [
    "top_genre_na = pd.pivot_table(games_actual, index='genre', values = 'na_sales', aggfunc='sum')# сделаем новую таблицу с подсчётом продаж по региону за актуальный период для каждого жанра\n",
    "top_genre_na = top_genre_na.sort_values('na_sales', ascending=False) # отсортируем по сумме продаж от большего к меньшему за актуальный период для Еврозоны\n",
    "top_genre_na['fraction_na'] =  top_genre_na['na_sales']/top_genre_na['na_sales'].sum() # посчитаем долю рынка для каждого жанра\n",
    "top_genre_na"
   ]
  },
  {
   "cell_type": "markdown",
   "id": "81bd79cb",
   "metadata": {},
   "source": [
    "Построим круговую диаграмму, чтобы наглядно увидеть различия в долях продаж у ТОП-5 жанров в Северной Америке"
   ]
  },
  {
   "cell_type": "code",
   "execution_count": 69,
   "id": "ba1c00a7",
   "metadata": {},
   "outputs": [
    {
     "data": {
      "image/png": "[encoded data removed]",
      "text/plain": [
       "<Figure size 432x288 with 1 Axes>"
      ]
     },
     "metadata": {},
     "output_type": "display_data"
    }
   ],
   "source": [
    "labels = top_genre_na.index\n",
    "values = top_genre_na['fraction_na']\n",
    "plt.pie(values,labels=labels)\n",
    "plt.axis('equal')\n",
    "plt.show()"
   ]
  },
  {
   "cell_type": "markdown",
   "id": "4bed18a4",
   "metadata": {},
   "source": [
    "**Вывод**\n",
    "<br><br>\n",
    "Самыми продаваемыми жанрами (ТОП-5) для Северной Америки являются: \n",
    "* Action с долей рынка дродаж в 26,45%\t\n",
    "* Shooter с долей рынка дродаж в 26,25%\t\n",
    "* Sports с долей рынка дродаж в 16,14%\t\n",
    "* Role-Playing \t с долей рынка дродаж в 11,53%\n",
    "* Misc с долей рынка дродаж в 5,96%\t\n",
    "\n",
    "Самыми продаваемыми жанрами (ТОП-5) для Европы являются: \n",
    "* Action с долей рынка дродаж в 29,16%\t\n",
    "* Shooter с долей рынка дродаж в 22,61%\t\n",
    "* Sports с долей рынка дродаж в 15,37%\t\n",
    "* Role-Playing \t с долей рынка дродаж в 10,89%\n",
    "* Racing с долей рынка дродаж в 5,63%\n",
    "\n",
    "Самыми продаваемыми жанрами (ТОП-5) для Японии являются: \n",
    "* Role-Playing с долей рынка дродаж в 33,27%\t\n",
    "* Action с долей рынка дродаж в 30,51%\t\n",
    "* Fighting с долей рынка дродаж в 7,61%\t\n",
    "* Misc с долей рынка дродаж в 6,19%\n",
    "* Shooter с долей рынка дродаж в 5,16%\n",
    "\n",
    "В Северной Америке и Европе в четыре первых самых продаваемых жанра из ТОП-5 входят одни и те же жанры из списков выше. \n",
    "<br>\n",
    "Отличается только последний жанр из ТОП-5, для Северной Америки - это Misc, а для Европы - Racing.\n",
    "<br>\n",
    "Доли продаж по жанрам у Северной Америки и Европе тоже очень похожи для каждого жанра.\n",
    "<br><br>\n",
    "В Японии в ТОП-5 жанров игр по продажам тоже входят 4 жанра, что и у Европы, и Северной Америке, но доли в значительной мере отличаются и места лидерства продаж тоже другие.\n",
    "<br>\n",
    "В Японии нет в ТОП-5 жанров такого жанра как Sports, хотя он присутствует на третьем месте в Европе и Северной Америке. Видимо вместо жанра Sports в Японии активно играют в жанр Fighting."
   ]
  },
  {
   "cell_type": "markdown",
   "id": "994a702f",
   "metadata": {},
   "source": [
    "### Определим для пользователя каждого региона (NA, EU, JP) влияет ли рейтинг ESRB на продажи в отдельном регионе"
   ]
  },
  {
   "cell_type": "markdown",
   "id": "840c9688",
   "metadata": {},
   "source": [
    "Посчитаем продажи в Европе за актуальный период для каждого значения рейтинга и отсортируем по убыванию продаж региона Европа:"
   ]
  },
  {
   "cell_type": "code",
   "execution_count": 70,
   "id": "2a797345",
   "metadata": {},
   "outputs": [
    {
     "data": {
      "text/html": [
       "<div>\n",
       "<style scoped>\n",
       "    .dataframe tbody tr th:only-of-type {\n",
       "        vertical-align: middle;\n",
       "    }\n",
       "\n",
       "    .dataframe tbody tr th {\n",
       "        vertical-align: top;\n",
       "    }\n",
       "\n",
       "    .dataframe thead th {\n",
       "        text-align: right;\n",
       "    }\n",
       "</style>\n",
       "<table border=\"1\" class=\"dataframe\">\n",
       "  <thead>\n",
       "    <tr style=\"text-align: right;\">\n",
       "      <th></th>\n",
       "      <th>eu_sales</th>\n",
       "      <th>fraction_eu</th>\n",
       "    </tr>\n",
       "    <tr>\n",
       "      <th>rating</th>\n",
       "      <th></th>\n",
       "      <th></th>\n",
       "    </tr>\n",
       "  </thead>\n",
       "  <tbody>\n",
       "    <tr>\n",
       "      <th>M</th>\n",
       "      <td>76.90</td>\n",
       "      <td>0.350406</td>\n",
       "    </tr>\n",
       "    <tr>\n",
       "      <th>unknown</th>\n",
       "      <td>51.48</td>\n",
       "      <td>0.234576</td>\n",
       "    </tr>\n",
       "    <tr>\n",
       "      <th>E</th>\n",
       "      <td>44.45</td>\n",
       "      <td>0.202543</td>\n",
       "    </tr>\n",
       "    <tr>\n",
       "      <th>T</th>\n",
       "      <td>24.28</td>\n",
       "      <td>0.110635</td>\n",
       "    </tr>\n",
       "    <tr>\n",
       "      <th>E10+</th>\n",
       "      <td>22.35</td>\n",
       "      <td>0.101841</td>\n",
       "    </tr>\n",
       "  </tbody>\n",
       "</table>\n",
       "</div>"
      ],
      "text/plain": [
       "         eu_sales  fraction_eu\n",
       "rating                        \n",
       "M           76.90     0.350406\n",
       "unknown     51.48     0.234576\n",
       "E           44.45     0.202543\n",
       "T           24.28     0.110635\n",
       "E10+        22.35     0.101841"
      ]
     },
     "execution_count": 70,
     "metadata": {},
     "output_type": "execute_result"
    }
   ],
   "source": [
    "top_rating_eu= pd.pivot_table(games_actual, index='rating', values = 'eu_sales', aggfunc='sum')# сделаем новую таблицу с подсчётом продаж по регионам за актуальный период для каждого значения рейтинга\n",
    "top_rating_eu = top_rating_eu.sort_values('eu_sales', ascending=False) # отсортируем по сумме продаж от большего к меньшему за актуальный период для Еврозоны\n",
    "top_rating_eu['fraction_eu'] =  top_rating_eu['eu_sales']/top_rating_eu['eu_sales'].sum() # посчитаем долю рынка для каждого значения рейтинга\n",
    "top_rating_eu"
   ]
  },
  {
   "cell_type": "markdown",
   "id": "18073c8b",
   "metadata": {},
   "source": [
    "Построим круговую диаграмму, чтобы наглядно увидеть различия в долях продаж для каждого рейтинга в Европе"
   ]
  },
  {
   "cell_type": "code",
   "execution_count": 71,
   "id": "8ec98f9b",
   "metadata": {},
   "outputs": [
    {
     "data": {
      "image/png": "[encoded data removed]",
      "text/plain": [
       "<Figure size 432x288 with 1 Axes>"
      ]
     },
     "metadata": {},
     "output_type": "display_data"
    }
   ],
   "source": [
    "labels = top_rating_eu.index\n",
    "values = top_rating_eu['fraction_eu']\n",
    "plt.pie(values,labels=labels)\n",
    "plt.axis('equal')\n",
    "plt.show()"
   ]
  },
  {
   "cell_type": "markdown",
   "id": "fcc44e4b",
   "metadata": {},
   "source": [
    "Посчитаем продажи в Японии за актуальный период для каждого значения рейтинга и отсортируем по убыванию продаж региона Япония:"
   ]
  },
  {
   "cell_type": "code",
   "execution_count": 72,
   "id": "1cd46af6",
   "metadata": {},
   "outputs": [
    {
     "data": {
      "text/html": [
       "<div>\n",
       "<style scoped>\n",
       "    .dataframe tbody tr th:only-of-type {\n",
       "        vertical-align: middle;\n",
       "    }\n",
       "\n",
       "    .dataframe tbody tr th {\n",
       "        vertical-align: top;\n",
       "    }\n",
       "\n",
       "    .dataframe thead th {\n",
       "        text-align: right;\n",
       "    }\n",
       "</style>\n",
       "<table border=\"1\" class=\"dataframe\">\n",
       "  <thead>\n",
       "    <tr style=\"text-align: right;\">\n",
       "      <th></th>\n",
       "      <th>jp_sales</th>\n",
       "      <th>fraction_jp</th>\n",
       "    </tr>\n",
       "    <tr>\n",
       "      <th>rating</th>\n",
       "      <th></th>\n",
       "      <th></th>\n",
       "    </tr>\n",
       "  </thead>\n",
       "  <tbody>\n",
       "    <tr>\n",
       "      <th>unknown</th>\n",
       "      <td>42.58</td>\n",
       "      <td>0.577121</td>\n",
       "    </tr>\n",
       "    <tr>\n",
       "      <th>T</th>\n",
       "      <td>12.51</td>\n",
       "      <td>0.169558</td>\n",
       "    </tr>\n",
       "    <tr>\n",
       "      <th>E</th>\n",
       "      <td>7.87</td>\n",
       "      <td>0.106668</td>\n",
       "    </tr>\n",
       "    <tr>\n",
       "      <th>M</th>\n",
       "      <td>6.81</td>\n",
       "      <td>0.092301</td>\n",
       "    </tr>\n",
       "    <tr>\n",
       "      <th>E10+</th>\n",
       "      <td>4.01</td>\n",
       "      <td>0.054351</td>\n",
       "    </tr>\n",
       "  </tbody>\n",
       "</table>\n",
       "</div>"
      ],
      "text/plain": [
       "         jp_sales  fraction_jp\n",
       "rating                        \n",
       "unknown     42.58     0.577121\n",
       "T           12.51     0.169558\n",
       "E            7.87     0.106668\n",
       "M            6.81     0.092301\n",
       "E10+         4.01     0.054351"
      ]
     },
     "execution_count": 72,
     "metadata": {},
     "output_type": "execute_result"
    }
   ],
   "source": [
    "top_rating_jp= pd.pivot_table(games_actual, index='rating', values = 'jp_sales', aggfunc='sum')# сделаем новую таблицу с подсчётом продаж по регионам за актуальный период для каждого значения рейтинга\n",
    "top_rating_jp = top_rating_jp.sort_values('jp_sales', ascending=False) # отсортируем по сумме продаж от большего к меньшему за актуальный период для Еврозоны\n",
    "top_rating_jp['fraction_jp'] =  top_rating_jp['jp_sales']/top_rating_jp['jp_sales'].sum() # посчитаем долю рынка для каждого значения рейтинга\n",
    "top_rating_jp"
   ]
  },
  {
   "cell_type": "markdown",
   "id": "43bd5171",
   "metadata": {},
   "source": [
    "Построим круговую диаграмму, чтобы наглядно увидеть различия в долях продаж для каждого рейтинга в Япония"
   ]
  },
  {
   "cell_type": "code",
   "execution_count": 73,
   "id": "453688b6",
   "metadata": {},
   "outputs": [
    {
     "data": {
      "image/png": "[encoded data removed]",
      "text/plain": [
       "<Figure size 432x288 with 1 Axes>"
      ]
     },
     "metadata": {},
     "output_type": "display_data"
    }
   ],
   "source": [
    "labels = top_rating_jp.index\n",
    "values = top_rating_jp['fraction_jp']\n",
    "plt.pie(values,labels=labels)\n",
    "plt.axis('equal')\n",
    "plt.show()"
   ]
  },
  {
   "cell_type": "markdown",
   "id": "adeab214",
   "metadata": {},
   "source": [
    "Посчитаем продажи в Северной Америке за актуальный период для каждого значения рейтинга и отсортируем по убыванию продаж региона Северная Америка:"
   ]
  },
  {
   "cell_type": "code",
   "execution_count": 74,
   "id": "03abad6a",
   "metadata": {},
   "outputs": [
    {
     "data": {
      "text/html": [
       "<div>\n",
       "<style scoped>\n",
       "    .dataframe tbody tr th:only-of-type {\n",
       "        vertical-align: middle;\n",
       "    }\n",
       "\n",
       "    .dataframe tbody tr th {\n",
       "        vertical-align: top;\n",
       "    }\n",
       "\n",
       "    .dataframe thead th {\n",
       "        text-align: right;\n",
       "    }\n",
       "</style>\n",
       "<table border=\"1\" class=\"dataframe\">\n",
       "  <thead>\n",
       "    <tr style=\"text-align: right;\">\n",
       "      <th></th>\n",
       "      <th>na_sales</th>\n",
       "      <th>fraction_na</th>\n",
       "    </tr>\n",
       "    <tr>\n",
       "      <th>rating</th>\n",
       "      <th></th>\n",
       "      <th></th>\n",
       "    </tr>\n",
       "  </thead>\n",
       "  <tbody>\n",
       "    <tr>\n",
       "      <th>M</th>\n",
       "      <td>80.75</td>\n",
       "      <td>0.337682</td>\n",
       "    </tr>\n",
       "    <tr>\n",
       "      <th>unknown</th>\n",
       "      <td>56.19</td>\n",
       "      <td>0.234977</td>\n",
       "    </tr>\n",
       "    <tr>\n",
       "      <th>E</th>\n",
       "      <td>42.77</td>\n",
       "      <td>0.178857</td>\n",
       "    </tr>\n",
       "    <tr>\n",
       "      <th>T</th>\n",
       "      <td>30.00</td>\n",
       "      <td>0.125455</td>\n",
       "    </tr>\n",
       "    <tr>\n",
       "      <th>E10+</th>\n",
       "      <td>29.42</td>\n",
       "      <td>0.123029</td>\n",
       "    </tr>\n",
       "  </tbody>\n",
       "</table>\n",
       "</div>"
      ],
      "text/plain": [
       "         na_sales  fraction_na\n",
       "rating                        \n",
       "M           80.75     0.337682\n",
       "unknown     56.19     0.234977\n",
       "E           42.77     0.178857\n",
       "T           30.00     0.125455\n",
       "E10+        29.42     0.123029"
      ]
     },
     "execution_count": 74,
     "metadata": {},
     "output_type": "execute_result"
    }
   ],
   "source": [
    "top_rating_na= pd.pivot_table(games_actual, index='rating', values = 'na_sales', aggfunc='sum')# сделаем новую таблицу с подсчётом продаж по регионам за актуальный период для каждого значения рейтинга\n",
    "top_rating_na = top_rating_na.sort_values('na_sales', ascending=False) # отсортируем по сумме продаж от большего к меньшему за актуальный период для Еврозоны\n",
    "top_rating_na['fraction_na'] =  top_rating_na['na_sales']/top_rating_na['na_sales'].sum() # посчитаем долю рынка для каждого значения рейтинга\n",
    "top_rating_na"
   ]
  },
  {
   "cell_type": "markdown",
   "id": "117765bf",
   "metadata": {},
   "source": [
    "Построим круговую диаграмму, чтобы наглядно увидеть различия в долях продаж для каждого рейтинга в Северной Америке"
   ]
  },
  {
   "cell_type": "code",
   "execution_count": 75,
   "id": "b26403f7",
   "metadata": {},
   "outputs": [
    {
     "data": {
      "image/png": "[encoded data removed]",
      "text/plain": [
       "<Figure size 432x288 with 1 Axes>"
      ]
     },
     "metadata": {},
     "output_type": "display_data"
    }
   ],
   "source": [
    "labels = top_rating_na.index\n",
    "values = top_rating_na['fraction_na']\n",
    "plt.pie(values,labels=labels)\n",
    "plt.axis('equal')\n",
    "plt.show()"
   ]
  },
  {
   "cell_type": "markdown",
   "id": "1583482a",
   "metadata": {},
   "source": [
    "**Вывод**\n",
    "<br><br>\n",
    "В Северной Америке, Европе и Японии самые продаваемые значения рейтинга - M, E ,T. \n",
    "<br>\n",
    "В Северной Америке, Европе и Японии вообще не покупают игры со значением рейтинга - EC, AO, RP \n",
    "<br><br>\n",
    "В Северной Америке и Европе самые продаваемые значения рейтинг имеют практические одинаковые доли рынка.\n",
    "<br>\n",
    "Из таблиц и графиков выше видно, что рейтинг влияет в Северной Америке с Европой по разному по отношению к Японии.\n",
    "<br> В Северной Америке и Европе самый продаваемый рейтинг - М, а в Япони - \n"
   ]
  },
  {
   "cell_type": "markdown",
   "id": "cea215a9",
   "metadata": {},
   "source": [
    "## Проверим гипотезы"
   ]
  },
  {
   "cell_type": "markdown",
   "id": "8a26fed5",
   "metadata": {},
   "source": [
    "### Проверим гипотезу, что средние пользовательские рейтинги платформ Xbox One и PC одинаковые"
   ]
  },
  {
   "cell_type": "markdown",
   "id": "c9ae5095",
   "metadata": {},
   "source": [
    "**Нулевой гипотеза - средние пользовательские рейтинги платформ Xbox One и PC одинаковые\n",
    "<br>\n",
    "Альтернативная гипотеза - средние пользовательские рейтинги платформ Xbox One и PC различаются**\n",
    "<br><br>\n",
    "Проверим нулевую гипотезу используя гипотезу о равенстве средних двух генеральных совокупностей с помощью метода `scipy.stats.ttest_ind` и будем считать, что дисперсии двух выборок различаются:"
   ]
  },
  {
   "cell_type": "code",
   "execution_count": 76,
   "id": "0daf9636",
   "metadata": {},
   "outputs": [
    {
     "name": "stdout",
     "output_type": "stream",
     "text": [
      "p-значение:  0.20641501693311365\n",
      "Не получилось отвергнуть нулевую гипотезу\n"
     ]
    }
   ],
   "source": [
    "alpha = 0.05 # критический уровень статистической значимости\n",
    "# если p-value окажется меньше него - отвегнем гипотезу\n",
    "\n",
    "results = st.ttest_ind(games_actual_user.query('platform == \"XOne\"')['user_score'],\n",
    "                       games_actual_user.query('platform == \"PC\"')['user_score'], equal_var = False)\n",
    "\n",
    "print('p-значение: ', results.pvalue)\n",
    "\n",
    "\n",
    "if results.pvalue < alpha:\n",
    "    print(\"Отвергаем нулевую гипотезу\")\n",
    "else:\n",
    "    print(\"Не получилось отвергнуть нулевую гипотезу\") "
   ]
  },
  {
   "cell_type": "markdown",
   "id": "c46c01b8",
   "metadata": {},
   "source": [
    "**Вывод**\n",
    "<br><br>\n",
    "Мы не смогли отвергнуть нулевую гипотезу о том, что средние пользовательские рейтинги платформ Xbox One и PC одинаковые.\n",
    "<br><br>\n",
    "Следовательно мы отвергаем гипотезу, что средние пользовательские рейтинги платформ Xbox One и PC различаются."
   ]
  },
  {
   "cell_type": "markdown",
   "id": "f5a09025",
   "metadata": {},
   "source": [
    "### Проверим гипотезу, что cредние пользовательские рейтинги жанров Action и Sports разные"
   ]
  },
  {
   "cell_type": "markdown",
   "id": "62920b70",
   "metadata": {},
   "source": [
    "**Нулевой гипотеза - cредние пользовательские рейтинги жанров Action и Sports одинаковые.\n",
    "<br>\n",
    "Альтернативная гипотеза - cредние пользовательские рейтинги жанров Action и Sports различаются.**\n",
    "<br><br>\n",
    "Проверим нулевую гипотезу используя гипотезу о равенстве средних двух генеральных совокупностей с помощью метода `scipy.stats.ttest_ind` и будем считать, что дисперсии двух выборок различаются:"
   ]
  },
  {
   "cell_type": "code",
   "execution_count": 77,
   "id": "02360320",
   "metadata": {},
   "outputs": [
    {
     "name": "stdout",
     "output_type": "stream",
     "text": [
      "p-значение:  5.639159825656798e-13\n",
      "Отвергаем нулевую гипотезу\n"
     ]
    }
   ],
   "source": [
    "alpha = 0.05 # критический уровень статистической значимости\n",
    "# если p-value окажется меньше него - отвегнем гипотезу\n",
    "\n",
    "results = st.ttest_ind(games_actual_user.query('genre == \"Action\"')['user_score'],\n",
    "                       games_actual_user.query('genre == \"Sports\"')['user_score'], equal_var = False)\n",
    "\n",
    "print('p-значение: ', results.pvalue)\n",
    "\n",
    "\n",
    "if results.pvalue < alpha:\n",
    "    print(\"Отвергаем нулевую гипотезу\")\n",
    "else:\n",
    "    print(\"Не получилось отвергнуть нулевую гипотезу\") "
   ]
  },
  {
   "cell_type": "markdown",
   "id": "34d47571",
   "metadata": {},
   "source": [
    "**Вывод**\n",
    "<br><br>\n",
    "Мы отвергаем нулевую гипотезу о том, что cредние пользовательские рейтинги жанров Action и Sports одинаковые.\n",
    "<br><br>\n",
    "Следовательно мы не можем отвергнуть гипотезу, что cредние пользовательские рейтинги жанров Action и Sports различаются.."
   ]
  },
  {
   "cell_type": "markdown",
   "id": "993126ce",
   "metadata": {},
   "source": [
    "## Общий вывод"
   ]
  },
  {
   "cell_type": "markdown",
   "id": "b857cfb5",
   "metadata": {},
   "source": [
    "Нам нужно было выявить определяющие успешность игры закономерности. Это позволило сделать ставку на потенциально популярный продукт и спланировать рекламные кампании на следующий год.\n",
    "<br><br>\n",
    "На мой взгляд все платформы которые мы смотрим из актуального периода уже прошли стадии роста, пика и на 2016 год уже не продаются или продажи сильно уали. Есть только две платформы - это PS4 и XOne, которые находятся в стадии роста и они является самыми потенциально прибыльными платформами. Продажи платформы PS4 лидируют, на втором месте XOne.\n",
    "<br><br>\n",
    "Для платформы PS4 наблюдается прямая зависимость глобальных продаж от оценок критиков. \n",
    "<br><br>\n",
    "Судя по таблице с расчитанной корреляцией отзывы пользователей не влияют на продажи, в отличии от оценок критиков.\n",
    "* Коэффициент корреляции между отзывами пользователей и продажами:  -0.00328.\n",
    "* Коэффициент корреляции между оценками критиков и продажами:  0.4278.\n",
    "\n",
    "Самыми прибыльными жанрами являются `Shooter, Sports и Platform`.\n",
    "<br>Среднее и медианное значение ТОП-3 жанров расположены в одном порядке.\n",
    "<br><br>\n",
    "**Таким образом можно сделать вывод, что ставку на потенциально популярный продукт стоит сделать на играх жанров `Shooter, Sports и Platform` платформы `PS4` или `XOne` и планировать рекламные компании на 2017 год нужно в этих направлениях.**"
   ]
  }
 ],
 "metadata": {
  "ExecuteTimeLog": [
   {
    "duration": 1654,
    "start_time": "2022-03-10T20:03:07.563Z"
   },
   {
    "duration": 2618,
    "start_time": "2022-03-10T20:03:09.220Z"
   },
   {
    "duration": 14,
    "start_time": "2022-03-10T20:03:11.841Z"
   },
   {
    "duration": 5,
    "start_time": "2022-03-10T20:03:11.858Z"
   },
   {
    "duration": 8,
    "start_time": "2022-03-10T20:03:11.888Z"
   },
   {
    "duration": 8,
    "start_time": "2022-03-10T20:03:11.899Z"
   },
   {
    "duration": 24,
    "start_time": "2022-03-10T20:03:11.909Z"
   },
   {
    "duration": 22,
    "start_time": "2022-03-10T20:03:11.937Z"
   },
   {
    "duration": 45,
    "start_time": "2022-03-10T20:03:11.962Z"
   },
   {
    "duration": 45,
    "start_time": "2022-03-10T20:03:12.009Z"
   },
   {
    "duration": 8,
    "start_time": "2022-03-10T20:03:12.056Z"
   },
   {
    "duration": 49,
    "start_time": "2022-03-10T20:03:12.066Z"
   },
   {
    "duration": 29,
    "start_time": "2022-03-10T20:03:12.117Z"
   },
   {
    "duration": 17,
    "start_time": "2022-03-10T20:03:12.148Z"
   },
   {
    "duration": 11,
    "start_time": "2022-03-10T20:03:12.167Z"
   },
   {
    "duration": 24,
    "start_time": "2022-03-10T20:03:12.180Z"
   },
   {
    "duration": 453,
    "start_time": "2022-03-10T20:03:12.206Z"
   },
   {
    "duration": 5,
    "start_time": "2022-03-10T20:03:12.662Z"
   },
   {
    "duration": 21,
    "start_time": "2022-03-10T20:03:12.670Z"
   },
   {
    "duration": 19,
    "start_time": "2022-03-10T20:03:12.693Z"
   },
   {
    "duration": 17,
    "start_time": "2022-03-10T20:03:12.714Z"
   },
   {
    "duration": 10,
    "start_time": "2022-03-10T20:03:12.733Z"
   },
   {
    "duration": 10,
    "start_time": "2022-03-10T20:03:12.749Z"
   },
   {
    "duration": 24,
    "start_time": "2022-03-10T20:03:12.763Z"
   },
   {
    "duration": 251,
    "start_time": "2022-03-10T20:03:12.789Z"
   },
   {
    "duration": 16,
    "start_time": "2022-03-10T20:03:13.042Z"
   },
   {
    "duration": 6,
    "start_time": "2022-03-10T20:03:13.061Z"
   },
   {
    "duration": 22,
    "start_time": "2022-03-10T20:03:13.088Z"
   },
   {
    "duration": 259,
    "start_time": "2022-03-10T20:03:13.113Z"
   },
   {
    "duration": 18,
    "start_time": "2022-03-10T20:03:13.375Z"
   },
   {
    "duration": 447,
    "start_time": "2022-03-10T20:03:13.395Z"
   },
   {
    "duration": 42,
    "start_time": "2022-03-10T20:03:13.845Z"
   },
   {
    "duration": 73,
    "start_time": "2022-03-10T20:03:13.889Z"
   },
   {
    "duration": 34,
    "start_time": "2022-03-10T20:03:13.986Z"
   },
   {
    "duration": 10,
    "start_time": "2022-03-10T20:03:14.022Z"
   },
   {
    "duration": 8,
    "start_time": "2022-03-10T20:03:14.034Z"
   },
   {
    "duration": 56,
    "start_time": "2022-03-10T20:03:14.044Z"
   },
   {
    "duration": 61,
    "start_time": "2022-03-10T20:03:14.102Z"
   },
   {
    "duration": 32,
    "start_time": "2022-03-10T20:03:14.165Z"
   },
   {
    "duration": 230,
    "start_time": "2022-03-10T20:03:14.200Z"
   },
   {
    "duration": 94,
    "start_time": "2022-03-10T20:03:14.432Z"
   },
   {
    "duration": 1322,
    "start_time": "2022-03-10T20:03:14.528Z"
   },
   {
    "duration": 793,
    "start_time": "2022-03-10T20:03:15.853Z"
   },
   {
    "duration": 795,
    "start_time": "2022-03-10T20:03:16.648Z"
   },
   {
    "duration": 19,
    "start_time": "2022-03-10T20:03:17.446Z"
   },
   {
    "duration": 32,
    "start_time": "2022-03-10T20:03:17.468Z"
   },
   {
    "duration": 25,
    "start_time": "2022-03-10T20:03:17.503Z"
   },
   {
    "duration": 20,
    "start_time": "2022-03-10T20:03:17.531Z"
   },
   {
    "duration": 19,
    "start_time": "2022-03-10T20:03:17.586Z"
   },
   {
    "duration": 31,
    "start_time": "2022-03-10T20:03:17.608Z"
   },
   {
    "duration": 21,
    "start_time": "2022-03-10T20:03:17.642Z"
   },
   {
    "duration": 35,
    "start_time": "2022-03-10T20:03:17.666Z"
   },
   {
    "duration": 20,
    "start_time": "2022-03-10T20:03:17.704Z"
   },
   {
    "duration": 24,
    "start_time": "2022-03-10T20:03:17.727Z"
   },
   {
    "duration": 52,
    "start_time": "2022-03-10T20:03:17.754Z"
   },
   {
    "duration": 32,
    "start_time": "2022-03-10T20:03:17.809Z"
   },
   {
    "duration": 52,
    "start_time": "2022-03-10T20:03:17.844Z"
   },
   {
    "duration": 21,
    "start_time": "2022-03-10T20:03:17.898Z"
   },
   {
    "duration": 34,
    "start_time": "2022-03-10T20:03:17.921Z"
   },
   {
    "duration": 40,
    "start_time": "2022-03-10T20:03:17.958Z"
   },
   {
    "duration": 28,
    "start_time": "2022-03-10T20:03:18.001Z"
   },
   {
    "duration": 38,
    "start_time": "2022-03-10T20:03:18.031Z"
   },
   {
    "duration": 27,
    "start_time": "2022-03-10T20:03:18.072Z"
   },
   {
    "duration": 26,
    "start_time": "2022-03-10T20:03:18.101Z"
   },
   {
    "duration": 27,
    "start_time": "2022-03-10T20:03:18.129Z"
   },
   {
    "duration": 29,
    "start_time": "2022-03-10T20:03:18.158Z"
   },
   {
    "duration": 400,
    "start_time": "2022-03-11T17:24:30.103Z"
   },
   {
    "duration": 1706,
    "start_time": "2022-03-11T17:24:57.467Z"
   },
   {
    "duration": 2271,
    "start_time": "2022-03-11T17:24:59.175Z"
   },
   {
    "duration": 34,
    "start_time": "2022-03-11T17:25:01.450Z"
   },
   {
    "duration": 8,
    "start_time": "2022-03-11T17:25:01.487Z"
   },
   {
    "duration": 5,
    "start_time": "2022-03-11T17:25:06.510Z"
   },
   {
    "duration": 6,
    "start_time": "2022-03-11T17:25:13.031Z"
   },
   {
    "duration": 15,
    "start_time": "2022-03-11T17:29:57.583Z"
   },
   {
    "duration": 22,
    "start_time": "2022-03-11T17:30:10.007Z"
   },
   {
    "duration": 20,
    "start_time": "2022-03-11T17:30:16.831Z"
   },
   {
    "duration": 36,
    "start_time": "2022-03-11T17:30:41.608Z"
   },
   {
    "duration": 8,
    "start_time": "2022-03-11T17:31:43.305Z"
   },
   {
    "duration": 32,
    "start_time": "2022-03-11T17:31:51.401Z"
   },
   {
    "duration": 5,
    "start_time": "2022-03-11T17:32:06.633Z"
   },
   {
    "duration": 8,
    "start_time": "2022-03-11T17:32:18.297Z"
   },
   {
    "duration": 12,
    "start_time": "2022-03-11T17:32:20.305Z"
   },
   {
    "duration": 16,
    "start_time": "2022-03-11T17:32:21.746Z"
   },
   {
    "duration": 57,
    "start_time": "2022-03-11T17:54:43.410Z"
   },
   {
    "duration": 11,
    "start_time": "2022-03-11T17:55:34.403Z"
   },
   {
    "duration": 31,
    "start_time": "2022-03-11T17:56:34.043Z"
   },
   {
    "duration": 13,
    "start_time": "2022-03-11T17:56:38.547Z"
   },
   {
    "duration": 7,
    "start_time": "2022-03-11T17:58:00.531Z"
   },
   {
    "duration": 12,
    "start_time": "2022-03-11T17:58:02.538Z"
   },
   {
    "duration": 14,
    "start_time": "2022-03-11T17:58:07.266Z"
   },
   {
    "duration": 9,
    "start_time": "2022-03-12T06:56:46.801Z"
   },
   {
    "duration": 11,
    "start_time": "2022-03-12T06:57:03.768Z"
   },
   {
    "duration": 11,
    "start_time": "2022-03-12T06:57:05.146Z"
   },
   {
    "duration": 6,
    "start_time": "2022-03-12T06:57:47.168Z"
   },
   {
    "duration": 226,
    "start_time": "2022-03-12T06:58:08.121Z"
   },
   {
    "duration": 13,
    "start_time": "2022-03-12T06:58:11.423Z"
   },
   {
    "duration": 8,
    "start_time": "2022-03-12T06:58:23.083Z"
   },
   {
    "duration": 22,
    "start_time": "2022-03-12T06:58:30.495Z"
   },
   {
    "duration": 230,
    "start_time": "2022-03-12T06:58:37.423Z"
   },
   {
    "duration": 11,
    "start_time": "2022-03-12T06:58:39.351Z"
   },
   {
    "duration": 444,
    "start_time": "2022-03-12T06:58:43.055Z"
   },
   {
    "duration": 25,
    "start_time": "2022-03-12T06:59:44.927Z"
   },
   {
    "duration": 75,
    "start_time": "2022-03-12T07:00:00.751Z"
   },
   {
    "duration": 311,
    "start_time": "2022-03-13T06:57:28.625Z"
   },
   {
    "duration": 1565,
    "start_time": "2022-03-13T06:57:42.888Z"
   },
   {
    "duration": 1839,
    "start_time": "2022-03-13T06:57:44.456Z"
   },
   {
    "duration": 14,
    "start_time": "2022-03-13T06:57:46.298Z"
   },
   {
    "duration": 19,
    "start_time": "2022-03-13T06:57:46.315Z"
   },
   {
    "duration": 4,
    "start_time": "2022-03-13T06:57:46.336Z"
   },
   {
    "duration": 8,
    "start_time": "2022-03-13T06:57:46.342Z"
   },
   {
    "duration": 12,
    "start_time": "2022-03-13T06:57:46.353Z"
   },
   {
    "duration": 18,
    "start_time": "2022-03-13T06:57:46.369Z"
   },
   {
    "duration": 19,
    "start_time": "2022-03-13T06:57:46.433Z"
   },
   {
    "duration": 36,
    "start_time": "2022-03-13T06:57:46.455Z"
   },
   {
    "duration": 8,
    "start_time": "2022-03-13T06:57:46.493Z"
   },
   {
    "duration": 55,
    "start_time": "2022-03-13T06:57:46.504Z"
   },
   {
    "duration": 5,
    "start_time": "2022-03-13T06:57:46.561Z"
   },
   {
    "duration": 9,
    "start_time": "2022-03-13T06:57:46.569Z"
   },
   {
    "duration": 54,
    "start_time": "2022-03-13T06:57:46.580Z"
   },
   {
    "duration": 11,
    "start_time": "2022-03-13T06:57:46.637Z"
   },
   {
    "duration": 32,
    "start_time": "2022-03-13T06:57:46.651Z"
   },
   {
    "duration": 8,
    "start_time": "2022-03-13T06:57:46.685Z"
   },
   {
    "duration": 10,
    "start_time": "2022-03-13T06:57:46.732Z"
   },
   {
    "duration": 16,
    "start_time": "2022-03-13T06:57:46.746Z"
   },
   {
    "duration": 17,
    "start_time": "2022-03-13T06:57:46.764Z"
   },
   {
    "duration": 9,
    "start_time": "2022-03-13T06:57:46.783Z"
   },
   {
    "duration": 40,
    "start_time": "2022-03-13T06:57:46.796Z"
   },
   {
    "duration": 7,
    "start_time": "2022-03-13T06:57:46.838Z"
   },
   {
    "duration": 244,
    "start_time": "2022-03-13T06:57:46.847Z"
   },
   {
    "duration": 13,
    "start_time": "2022-03-13T06:57:47.093Z"
   },
   {
    "duration": 24,
    "start_time": "2022-03-13T06:57:47.109Z"
   },
   {
    "duration": 25,
    "start_time": "2022-03-13T06:57:47.135Z"
   },
   {
    "duration": 368,
    "start_time": "2022-03-13T06:57:57.804Z"
   },
   {
    "duration": 19,
    "start_time": "2022-03-13T06:58:45.541Z"
   },
   {
    "duration": 21,
    "start_time": "2022-03-13T06:59:15.868Z"
   },
   {
    "duration": 6556,
    "start_time": "2022-03-13T07:01:20.157Z"
   },
   {
    "duration": 267,
    "start_time": "2022-03-13T07:02:10.996Z"
   },
   {
    "duration": 4,
    "start_time": "2022-03-13T07:02:27.916Z"
   },
   {
    "duration": 1416,
    "start_time": "2022-03-13T07:02:27.926Z"
   },
   {
    "duration": 13,
    "start_time": "2022-03-13T07:02:29.344Z"
   },
   {
    "duration": 6,
    "start_time": "2022-03-13T07:02:29.360Z"
   },
   {
    "duration": 4,
    "start_time": "2022-03-13T07:02:29.368Z"
   },
   {
    "duration": 7,
    "start_time": "2022-03-13T07:02:29.375Z"
   },
   {
    "duration": 53,
    "start_time": "2022-03-13T07:02:29.384Z"
   },
   {
    "duration": 19,
    "start_time": "2022-03-13T07:02:29.439Z"
   },
   {
    "duration": 18,
    "start_time": "2022-03-13T07:02:29.462Z"
   },
   {
    "duration": 63,
    "start_time": "2022-03-13T07:02:29.483Z"
   },
   {
    "duration": 7,
    "start_time": "2022-03-13T07:02:29.549Z"
   },
   {
    "duration": 33,
    "start_time": "2022-03-13T07:02:29.559Z"
   },
   {
    "duration": 6,
    "start_time": "2022-03-13T07:02:29.595Z"
   },
   {
    "duration": 32,
    "start_time": "2022-03-13T07:02:29.603Z"
   },
   {
    "duration": 13,
    "start_time": "2022-03-13T07:02:29.637Z"
   },
   {
    "duration": 9,
    "start_time": "2022-03-13T07:02:29.653Z"
   },
   {
    "duration": 27,
    "start_time": "2022-03-13T07:02:29.664Z"
   },
   {
    "duration": 5,
    "start_time": "2022-03-13T07:02:29.693Z"
   },
   {
    "duration": 8,
    "start_time": "2022-03-13T07:02:29.733Z"
   },
   {
    "duration": 12,
    "start_time": "2022-03-13T07:02:29.743Z"
   },
   {
    "duration": 9,
    "start_time": "2022-03-13T07:02:29.757Z"
   },
   {
    "duration": 8,
    "start_time": "2022-03-13T07:02:29.768Z"
   },
   {
    "duration": 10,
    "start_time": "2022-03-13T07:02:29.778Z"
   },
   {
    "duration": 5,
    "start_time": "2022-03-13T07:02:29.835Z"
   },
   {
    "duration": 246,
    "start_time": "2022-03-13T07:02:29.842Z"
   },
   {
    "duration": 12,
    "start_time": "2022-03-13T07:02:30.091Z"
   },
   {
    "duration": 5,
    "start_time": "2022-03-13T07:02:30.106Z"
   },
   {
    "duration": 290,
    "start_time": "2022-03-13T07:02:33.546Z"
   },
   {
    "duration": 18,
    "start_time": "2022-03-13T07:02:45.195Z"
   },
   {
    "duration": 23,
    "start_time": "2022-03-13T07:07:33.758Z"
   },
   {
    "duration": 310,
    "start_time": "2022-03-13T07:08:28.887Z"
   },
   {
    "duration": 266,
    "start_time": "2022-03-13T07:08:45.579Z"
   },
   {
    "duration": 437,
    "start_time": "2022-03-13T07:08:55.075Z"
   },
   {
    "duration": 410,
    "start_time": "2022-03-13T07:09:04.379Z"
   },
   {
    "duration": 25,
    "start_time": "2022-03-13T07:12:07.523Z"
   },
   {
    "duration": 72,
    "start_time": "2022-03-13T07:12:36.979Z"
   },
   {
    "duration": 6772,
    "start_time": "2022-03-13T07:39:11.239Z"
   },
   {
    "duration": 7,
    "start_time": "2022-03-13T07:39:28.224Z"
   },
   {
    "duration": 11,
    "start_time": "2022-03-13T07:39:52.173Z"
   },
   {
    "duration": 11,
    "start_time": "2022-03-13T07:40:38.940Z"
   },
   {
    "duration": 9,
    "start_time": "2022-03-13T07:40:51.310Z"
   },
   {
    "duration": 265,
    "start_time": "2022-03-13T07:41:51.982Z"
   },
   {
    "duration": 5,
    "start_time": "2022-03-13T07:42:03.621Z"
   },
   {
    "duration": 273,
    "start_time": "2022-03-13T07:42:08.134Z"
   },
   {
    "duration": 6,
    "start_time": "2022-03-13T07:42:14.549Z"
   },
   {
    "duration": 106,
    "start_time": "2022-03-13T07:43:00.886Z"
   },
   {
    "duration": 286,
    "start_time": "2022-03-13T07:43:44.149Z"
   },
   {
    "duration": 319,
    "start_time": "2022-03-13T07:43:54.116Z"
   },
   {
    "duration": 6,
    "start_time": "2022-03-13T07:43:58.500Z"
   },
   {
    "duration": 7,
    "start_time": "2022-03-13T07:47:56.949Z"
   },
   {
    "duration": 33,
    "start_time": "2022-03-13T07:48:02.253Z"
   },
   {
    "duration": 88,
    "start_time": "2022-03-13T07:48:49.244Z"
   },
   {
    "duration": 85,
    "start_time": "2022-03-13T07:49:17.108Z"
   },
   {
    "duration": 1808,
    "start_time": "2022-03-13T07:51:46.707Z"
   },
   {
    "duration": 3,
    "start_time": "2022-03-13T07:56:25.347Z"
   },
   {
    "duration": 296,
    "start_time": "2022-03-13T07:56:41.172Z"
   },
   {
    "duration": 28,
    "start_time": "2022-03-13T07:57:20.438Z"
   },
   {
    "duration": 4,
    "start_time": "2022-03-13T07:58:36.659Z"
   },
   {
    "duration": 300,
    "start_time": "2022-03-13T08:07:32.777Z"
   },
   {
    "duration": 4,
    "start_time": "2022-03-13T08:09:46.273Z"
   },
   {
    "duration": 284,
    "start_time": "2022-03-13T08:09:48.043Z"
   },
   {
    "duration": 279,
    "start_time": "2022-03-13T08:10:07.890Z"
   },
   {
    "duration": 1656,
    "start_time": "2022-03-13T08:11:02.326Z"
   },
   {
    "duration": 3784,
    "start_time": "2022-03-13T08:11:03.985Z"
   },
   {
    "duration": 21,
    "start_time": "2022-03-13T08:11:07.773Z"
   },
   {
    "duration": 36,
    "start_time": "2022-03-13T08:11:07.797Z"
   },
   {
    "duration": 5,
    "start_time": "2022-03-13T08:11:07.836Z"
   },
   {
    "duration": 17,
    "start_time": "2022-03-13T08:11:07.844Z"
   },
   {
    "duration": 13,
    "start_time": "2022-03-13T08:11:07.863Z"
   },
   {
    "duration": 75,
    "start_time": "2022-03-13T08:11:07.880Z"
   },
   {
    "duration": 39,
    "start_time": "2022-03-13T08:11:07.958Z"
   },
   {
    "duration": 79,
    "start_time": "2022-03-13T08:11:07.999Z"
   },
   {
    "duration": 61,
    "start_time": "2022-03-13T08:11:08.080Z"
   },
   {
    "duration": 51,
    "start_time": "2022-03-13T08:11:08.144Z"
   },
   {
    "duration": 6,
    "start_time": "2022-03-13T08:11:08.198Z"
   },
   {
    "duration": 27,
    "start_time": "2022-03-13T08:11:08.207Z"
   },
   {
    "duration": 14,
    "start_time": "2022-03-13T08:11:08.237Z"
   },
   {
    "duration": 14,
    "start_time": "2022-03-13T08:11:08.254Z"
   },
   {
    "duration": 67,
    "start_time": "2022-03-13T08:11:08.270Z"
   },
   {
    "duration": 10,
    "start_time": "2022-03-13T08:11:08.340Z"
   },
   {
    "duration": 10,
    "start_time": "2022-03-13T08:11:08.352Z"
   },
   {
    "duration": 14,
    "start_time": "2022-03-13T08:11:08.364Z"
   },
   {
    "duration": 9,
    "start_time": "2022-03-13T08:11:08.380Z"
   },
   {
    "duration": 46,
    "start_time": "2022-03-13T08:11:08.391Z"
   },
   {
    "duration": 12,
    "start_time": "2022-03-13T08:11:08.444Z"
   },
   {
    "duration": 8,
    "start_time": "2022-03-13T08:11:08.459Z"
   },
   {
    "duration": 277,
    "start_time": "2022-03-13T08:11:08.469Z"
   },
   {
    "duration": 16,
    "start_time": "2022-03-13T08:11:08.748Z"
   },
   {
    "duration": 8,
    "start_time": "2022-03-13T08:11:08.766Z"
   },
   {
    "duration": 64,
    "start_time": "2022-03-13T08:11:08.777Z"
   },
   {
    "duration": 469,
    "start_time": "2022-03-13T08:11:08.844Z"
   },
   {
    "duration": 40,
    "start_time": "2022-03-13T08:11:09.316Z"
   },
   {
    "duration": 7,
    "start_time": "2022-03-13T08:11:09.358Z"
   },
   {
    "duration": 446,
    "start_time": "2022-03-13T08:11:23.489Z"
   },
   {
    "duration": 82,
    "start_time": "2022-03-13T08:12:16.611Z"
   },
   {
    "duration": 104,
    "start_time": "2022-03-13T08:12:22.490Z"
   },
   {
    "duration": 3741,
    "start_time": "2022-03-13T08:12:29.090Z"
   },
   {
    "duration": 8,
    "start_time": "2022-03-13T08:14:57.962Z"
   },
   {
    "duration": 37,
    "start_time": "2022-03-13T08:15:07.268Z"
   },
   {
    "duration": 9,
    "start_time": "2022-03-13T08:17:03.121Z"
   },
   {
    "duration": 8,
    "start_time": "2022-03-13T08:27:04.570Z"
   },
   {
    "duration": 52,
    "start_time": "2022-03-13T08:27:11.410Z"
   },
   {
    "duration": 303,
    "start_time": "2022-03-13T08:28:27.516Z"
   },
   {
    "duration": 334,
    "start_time": "2022-03-13T08:28:51.244Z"
   },
   {
    "duration": 340,
    "start_time": "2022-03-13T08:29:02.675Z"
   },
   {
    "duration": 296,
    "start_time": "2022-03-13T08:29:20.060Z"
   },
   {
    "duration": 57,
    "start_time": "2022-03-13T08:29:30.515Z"
   },
   {
    "duration": 85,
    "start_time": "2022-03-13T08:29:50.035Z"
   },
   {
    "duration": 54,
    "start_time": "2022-03-13T08:30:12.162Z"
   },
   {
    "duration": 56,
    "start_time": "2022-03-13T08:30:43.539Z"
   },
   {
    "duration": 57,
    "start_time": "2022-03-13T08:31:04.172Z"
   },
   {
    "duration": 708,
    "start_time": "2022-03-13T08:35:04.826Z"
   },
   {
    "duration": 1038,
    "start_time": "2022-03-13T08:35:17.114Z"
   },
   {
    "duration": 871,
    "start_time": "2022-03-13T08:35:36.914Z"
   },
   {
    "duration": 1275,
    "start_time": "2022-03-13T08:36:18.771Z"
   },
   {
    "duration": 46,
    "start_time": "2022-03-13T08:36:25.657Z"
   },
   {
    "duration": 979,
    "start_time": "2022-03-13T08:36:39.107Z"
   },
   {
    "duration": 28,
    "start_time": "2022-03-13T08:36:52.203Z"
   },
   {
    "duration": 50,
    "start_time": "2022-03-13T08:37:00.674Z"
   },
   {
    "duration": 1057,
    "start_time": "2022-03-13T08:37:04.706Z"
   },
   {
    "duration": 80,
    "start_time": "2022-03-13T08:38:00.339Z"
   },
   {
    "duration": 1096,
    "start_time": "2022-03-13T08:38:05.346Z"
   },
   {
    "duration": 777,
    "start_time": "2022-03-13T08:41:46.489Z"
   },
   {
    "duration": 32,
    "start_time": "2022-03-13T08:42:19.267Z"
   },
   {
    "duration": 45,
    "start_time": "2022-03-13T08:42:34.625Z"
   },
   {
    "duration": 863,
    "start_time": "2022-03-13T08:42:53.201Z"
   },
   {
    "duration": 869,
    "start_time": "2022-03-13T08:43:07.822Z"
   },
   {
    "duration": 1026,
    "start_time": "2022-03-13T08:47:05.594Z"
   },
   {
    "duration": 1117,
    "start_time": "2022-03-13T08:51:08.048Z"
   },
   {
    "duration": 1162,
    "start_time": "2022-03-13T08:51:17.986Z"
   },
   {
    "duration": 702,
    "start_time": "2022-03-13T08:52:13.080Z"
   },
   {
    "duration": 1201,
    "start_time": "2022-03-13T08:53:29.847Z"
   },
   {
    "duration": 1085,
    "start_time": "2022-03-13T08:53:41.952Z"
   },
   {
    "duration": 997,
    "start_time": "2022-03-13T08:54:48.577Z"
   },
   {
    "duration": 997,
    "start_time": "2022-03-13T08:55:19.264Z"
   },
   {
    "duration": 1101,
    "start_time": "2022-03-13T08:55:27.352Z"
   },
   {
    "duration": 1100,
    "start_time": "2022-03-13T10:38:23.825Z"
   },
   {
    "duration": 991,
    "start_time": "2022-03-13T10:40:44.089Z"
   },
   {
    "duration": 801,
    "start_time": "2022-03-13T10:41:33.912Z"
   },
   {
    "duration": 1076,
    "start_time": "2022-03-13T10:41:42.367Z"
   },
   {
    "duration": 1261,
    "start_time": "2022-03-13T10:42:01.599Z"
   },
   {
    "duration": 982,
    "start_time": "2022-03-13T10:42:17.088Z"
   },
   {
    "duration": 34,
    "start_time": "2022-03-13T10:53:40.120Z"
   },
   {
    "duration": 10,
    "start_time": "2022-03-13T10:56:02.639Z"
   },
   {
    "duration": 8,
    "start_time": "2022-03-13T11:01:58.823Z"
   },
   {
    "duration": 9,
    "start_time": "2022-03-13T11:03:09.950Z"
   },
   {
    "duration": 10,
    "start_time": "2022-03-13T11:03:21.639Z"
   },
   {
    "duration": 33,
    "start_time": "2022-03-13T11:23:42.555Z"
   },
   {
    "duration": 9,
    "start_time": "2022-03-13T11:23:47.147Z"
   },
   {
    "duration": 853,
    "start_time": "2022-03-13T11:24:55.047Z"
   },
   {
    "duration": 34,
    "start_time": "2022-03-13T11:25:58.226Z"
   },
   {
    "duration": 10,
    "start_time": "2022-03-13T11:26:01.482Z"
   },
   {
    "duration": 10,
    "start_time": "2022-03-13T11:26:43.122Z"
   },
   {
    "duration": 23,
    "start_time": "2022-03-13T11:31:21.451Z"
   },
   {
    "duration": 34,
    "start_time": "2022-03-13T11:35:03.819Z"
   },
   {
    "duration": 8,
    "start_time": "2022-03-13T11:35:28.604Z"
   },
   {
    "duration": 476,
    "start_time": "2022-03-13T11:36:14.451Z"
   },
   {
    "duration": 9,
    "start_time": "2022-03-13T11:36:22.163Z"
   },
   {
    "duration": 10,
    "start_time": "2022-03-13T11:40:04.299Z"
   },
   {
    "duration": 10,
    "start_time": "2022-03-13T11:40:15.586Z"
   },
   {
    "duration": 12,
    "start_time": "2022-03-13T11:40:21.868Z"
   },
   {
    "duration": 20,
    "start_time": "2022-03-13T11:41:30.227Z"
   },
   {
    "duration": 20,
    "start_time": "2022-03-13T11:42:28.131Z"
   },
   {
    "duration": 21,
    "start_time": "2022-03-13T11:42:46.051Z"
   },
   {
    "duration": 52,
    "start_time": "2022-03-13T11:45:36.442Z"
   },
   {
    "duration": 29,
    "start_time": "2022-03-13T11:48:01.339Z"
   },
   {
    "duration": 291,
    "start_time": "2022-03-13T11:51:50.243Z"
   },
   {
    "duration": 36,
    "start_time": "2022-03-13T11:51:59.578Z"
   },
   {
    "duration": 1033,
    "start_time": "2022-03-13T11:53:55.729Z"
   },
   {
    "duration": 530,
    "start_time": "2022-03-13T11:54:19.802Z"
   },
   {
    "duration": 34,
    "start_time": "2022-03-13T12:01:41.275Z"
   },
   {
    "duration": 11,
    "start_time": "2022-03-13T12:01:59.613Z"
   },
   {
    "duration": 21,
    "start_time": "2022-03-13T12:04:56.223Z"
   },
   {
    "duration": 46,
    "start_time": "2022-03-13T12:05:24.495Z"
   },
   {
    "duration": 36,
    "start_time": "2022-03-13T12:05:59.991Z"
   },
   {
    "duration": 36,
    "start_time": "2022-03-13T12:06:31.943Z"
   },
   {
    "duration": 535,
    "start_time": "2022-03-13T12:06:39.822Z"
   },
   {
    "duration": 744,
    "start_time": "2022-03-13T12:13:44.925Z"
   },
   {
    "duration": 610,
    "start_time": "2022-03-13T12:14:02.934Z"
   },
   {
    "duration": 17,
    "start_time": "2022-03-13T12:21:51.692Z"
   },
   {
    "duration": 215,
    "start_time": "2022-03-13T12:21:56.484Z"
   },
   {
    "duration": 225,
    "start_time": "2022-03-13T12:22:08.876Z"
   },
   {
    "duration": 215,
    "start_time": "2022-03-13T12:22:18.732Z"
   },
   {
    "duration": 531,
    "start_time": "2022-03-13T12:22:53.668Z"
   },
   {
    "duration": 210,
    "start_time": "2022-03-13T12:23:01.933Z"
   },
   {
    "duration": 55,
    "start_time": "2022-03-13T12:30:43.907Z"
   },
   {
    "duration": 951,
    "start_time": "2022-03-13T12:31:24.003Z"
   },
   {
    "duration": 1089,
    "start_time": "2022-03-13T12:31:44.124Z"
   },
   {
    "duration": 902,
    "start_time": "2022-03-13T12:31:55.691Z"
   },
   {
    "duration": 918,
    "start_time": "2022-03-13T12:33:07.621Z"
   },
   {
    "duration": 195,
    "start_time": "2022-03-13T12:33:46.932Z"
   },
   {
    "duration": 210,
    "start_time": "2022-03-13T12:34:01.163Z"
   },
   {
    "duration": 195,
    "start_time": "2022-03-13T12:34:08.083Z"
   },
   {
    "duration": 16,
    "start_time": "2022-03-13T13:23:11.380Z"
   },
   {
    "duration": 202,
    "start_time": "2022-03-13T13:23:27.939Z"
   },
   {
    "duration": 31,
    "start_time": "2022-03-13T13:25:35.331Z"
   },
   {
    "duration": 15,
    "start_time": "2022-03-13T13:25:48.650Z"
   },
   {
    "duration": 22,
    "start_time": "2022-03-13T13:26:01.594Z"
   },
   {
    "duration": 256,
    "start_time": "2022-03-13T13:30:41.884Z"
   },
   {
    "duration": 297,
    "start_time": "2022-03-13T13:30:54.756Z"
   },
   {
    "duration": 40,
    "start_time": "2022-03-13T13:31:16.715Z"
   },
   {
    "duration": 197,
    "start_time": "2022-03-13T13:32:14.180Z"
   },
   {
    "duration": 53,
    "start_time": "2022-03-13T13:32:59.036Z"
   },
   {
    "duration": 967,
    "start_time": "2022-03-13T13:33:47.188Z"
   },
   {
    "duration": 980,
    "start_time": "2022-03-13T13:34:11.595Z"
   },
   {
    "duration": 38,
    "start_time": "2022-03-13T13:52:58.602Z"
   },
   {
    "duration": 199,
    "start_time": "2022-03-13T13:53:36.914Z"
   },
   {
    "duration": 286,
    "start_time": "2022-03-13T13:54:15.370Z"
   },
   {
    "duration": 10,
    "start_time": "2022-03-13T13:54:19.691Z"
   },
   {
    "duration": 11,
    "start_time": "2022-03-13T13:55:01.497Z"
   },
   {
    "duration": 126,
    "start_time": "2022-03-13T13:55:02.730Z"
   },
   {
    "duration": 5,
    "start_time": "2022-03-13T13:56:01.706Z"
   },
   {
    "duration": 2479,
    "start_time": "2022-03-13T13:56:01.718Z"
   },
   {
    "duration": 15,
    "start_time": "2022-03-13T13:56:04.200Z"
   },
   {
    "duration": 18,
    "start_time": "2022-03-13T13:56:04.220Z"
   },
   {
    "duration": 5,
    "start_time": "2022-03-13T13:56:04.242Z"
   },
   {
    "duration": 8,
    "start_time": "2022-03-13T13:56:04.251Z"
   },
   {
    "duration": 13,
    "start_time": "2022-03-13T13:56:04.262Z"
   },
   {
    "duration": 75,
    "start_time": "2022-03-13T13:56:04.278Z"
   },
   {
    "duration": 23,
    "start_time": "2022-03-13T13:56:04.359Z"
   },
   {
    "duration": 62,
    "start_time": "2022-03-13T13:56:04.386Z"
   },
   {
    "duration": 14,
    "start_time": "2022-03-13T13:56:04.451Z"
   },
   {
    "duration": 35,
    "start_time": "2022-03-13T13:56:04.468Z"
   },
   {
    "duration": 30,
    "start_time": "2022-03-13T13:56:04.506Z"
   },
   {
    "duration": 9,
    "start_time": "2022-03-13T13:56:04.538Z"
   },
   {
    "duration": 12,
    "start_time": "2022-03-13T13:56:04.550Z"
   },
   {
    "duration": 12,
    "start_time": "2022-03-13T13:56:04.564Z"
   },
   {
    "duration": 80,
    "start_time": "2022-03-13T13:56:04.580Z"
   },
   {
    "duration": 6,
    "start_time": "2022-03-13T13:56:04.663Z"
   },
   {
    "duration": 12,
    "start_time": "2022-03-13T13:56:04.671Z"
   },
   {
    "duration": 12,
    "start_time": "2022-03-13T13:56:04.685Z"
   },
   {
    "duration": 39,
    "start_time": "2022-03-13T13:56:04.700Z"
   },
   {
    "duration": 9,
    "start_time": "2022-03-13T13:56:04.741Z"
   },
   {
    "duration": 11,
    "start_time": "2022-03-13T13:56:04.753Z"
   },
   {
    "duration": 7,
    "start_time": "2022-03-13T13:56:04.769Z"
   },
   {
    "duration": 433,
    "start_time": "2022-03-13T13:56:04.779Z"
   },
   {
    "duration": 22,
    "start_time": "2022-03-13T13:56:05.215Z"
   },
   {
    "duration": 5,
    "start_time": "2022-03-13T13:56:05.240Z"
   },
   {
    "duration": 26,
    "start_time": "2022-03-13T13:56:05.248Z"
   },
   {
    "duration": 481,
    "start_time": "2022-03-13T13:56:05.276Z"
   },
   {
    "duration": 23,
    "start_time": "2022-03-13T13:56:05.760Z"
   },
   {
    "duration": 9,
    "start_time": "2022-03-13T13:56:05.785Z"
   },
   {
    "duration": 79,
    "start_time": "2022-03-13T13:56:05.798Z"
   },
   {
    "duration": 1069,
    "start_time": "2022-03-13T13:56:05.880Z"
   },
   {
    "duration": 37,
    "start_time": "2022-03-13T13:56:06.952Z"
   },
   {
    "duration": 48,
    "start_time": "2022-03-13T13:56:06.992Z"
   },
   {
    "duration": 24,
    "start_time": "2022-03-13T13:56:07.042Z"
   },
   {
    "duration": 77,
    "start_time": "2022-03-13T13:56:07.072Z"
   },
   {
    "duration": 634,
    "start_time": "2022-03-13T13:56:07.152Z"
   },
   {
    "duration": 17,
    "start_time": "2022-03-13T13:56:07.789Z"
   },
   {
    "duration": 238,
    "start_time": "2022-03-13T13:56:07.809Z"
   },
   {
    "duration": 6,
    "start_time": "2022-03-13T13:56:08.049Z"
   },
   {
    "duration": 78,
    "start_time": "2022-03-13T13:56:08.058Z"
   },
   {
    "duration": 1092,
    "start_time": "2022-03-13T13:56:08.140Z"
   },
   {
    "duration": 1060,
    "start_time": "2022-03-13T13:59:39.314Z"
   },
   {
    "duration": 668,
    "start_time": "2022-03-13T13:59:49.665Z"
   },
   {
    "duration": 926,
    "start_time": "2022-03-13T14:00:06.361Z"
   },
   {
    "duration": 1363,
    "start_time": "2022-03-13T14:01:08.958Z"
   },
   {
    "duration": 1019,
    "start_time": "2022-03-13T14:04:45.864Z"
   },
   {
    "duration": 1050,
    "start_time": "2022-03-13T14:04:59.367Z"
   },
   {
    "duration": 960,
    "start_time": "2022-03-13T14:05:14.033Z"
   },
   {
    "duration": 978,
    "start_time": "2022-03-13T14:23:29.870Z"
   },
   {
    "duration": 949,
    "start_time": "2022-03-13T14:31:28.709Z"
   },
   {
    "duration": 17,
    "start_time": "2022-03-13T14:31:37.132Z"
   },
   {
    "duration": 35,
    "start_time": "2022-03-13T14:34:15.324Z"
   },
   {
    "duration": 35,
    "start_time": "2022-03-13T14:34:43.604Z"
   },
   {
    "duration": 7,
    "start_time": "2022-03-13T14:35:42.262Z"
   },
   {
    "duration": 826,
    "start_time": "2022-03-13T14:35:45.669Z"
   },
   {
    "duration": 1000,
    "start_time": "2022-03-13T14:36:09.266Z"
   },
   {
    "duration": 765,
    "start_time": "2022-03-13T14:36:39.509Z"
   },
   {
    "duration": 1027,
    "start_time": "2022-03-13T14:41:33.109Z"
   },
   {
    "duration": 18,
    "start_time": "2022-03-13T14:41:49.757Z"
   },
   {
    "duration": 14,
    "start_time": "2022-03-13T14:48:10.220Z"
   },
   {
    "duration": 21,
    "start_time": "2022-03-13T14:48:19.012Z"
   },
   {
    "duration": 18,
    "start_time": "2022-03-13T14:51:22.588Z"
   },
   {
    "duration": 9,
    "start_time": "2022-03-13T14:54:21.216Z"
   },
   {
    "duration": 28,
    "start_time": "2022-03-13T14:55:51.524Z"
   },
   {
    "duration": 19,
    "start_time": "2022-03-13T14:56:31.441Z"
   },
   {
    "duration": 16,
    "start_time": "2022-03-13T14:56:33.296Z"
   },
   {
    "duration": 18,
    "start_time": "2022-03-13T14:56:43.767Z"
   },
   {
    "duration": 22,
    "start_time": "2022-03-13T14:57:04.936Z"
   },
   {
    "duration": 21,
    "start_time": "2022-03-13T14:57:15.272Z"
   },
   {
    "duration": 19,
    "start_time": "2022-03-13T14:59:09.648Z"
   },
   {
    "duration": 24,
    "start_time": "2022-03-13T16:52:18.714Z"
   },
   {
    "duration": 1645,
    "start_time": "2022-03-13T16:59:38.193Z"
   },
   {
    "duration": 2020,
    "start_time": "2022-03-13T16:59:39.840Z"
   },
   {
    "duration": 13,
    "start_time": "2022-03-13T16:59:41.863Z"
   },
   {
    "duration": 6,
    "start_time": "2022-03-13T16:59:41.879Z"
   },
   {
    "duration": 46,
    "start_time": "2022-03-13T16:59:41.887Z"
   },
   {
    "duration": 8,
    "start_time": "2022-03-13T16:59:41.935Z"
   },
   {
    "duration": 19,
    "start_time": "2022-03-13T16:59:41.946Z"
   },
   {
    "duration": 26,
    "start_time": "2022-03-13T16:59:41.970Z"
   },
   {
    "duration": 27,
    "start_time": "2022-03-13T16:59:42.034Z"
   },
   {
    "duration": 78,
    "start_time": "2022-03-13T16:59:42.064Z"
   },
   {
    "duration": 11,
    "start_time": "2022-03-13T16:59:42.145Z"
   },
   {
    "duration": 46,
    "start_time": "2022-03-13T16:59:42.159Z"
   },
   {
    "duration": 5,
    "start_time": "2022-03-13T16:59:42.232Z"
   },
   {
    "duration": 8,
    "start_time": "2022-03-13T16:59:42.240Z"
   },
   {
    "duration": 10,
    "start_time": "2022-03-13T16:59:42.251Z"
   },
   {
    "duration": 9,
    "start_time": "2022-03-13T16:59:42.264Z"
   },
   {
    "duration": 84,
    "start_time": "2022-03-13T16:59:42.276Z"
   },
   {
    "duration": 6,
    "start_time": "2022-03-13T16:59:42.362Z"
   },
   {
    "duration": 13,
    "start_time": "2022-03-13T16:59:42.370Z"
   },
   {
    "duration": 54,
    "start_time": "2022-03-13T16:59:42.385Z"
   },
   {
    "duration": 9,
    "start_time": "2022-03-13T16:59:42.449Z"
   },
   {
    "duration": 9,
    "start_time": "2022-03-13T16:59:42.460Z"
   },
   {
    "duration": 59,
    "start_time": "2022-03-13T16:59:42.474Z"
   },
   {
    "duration": 6,
    "start_time": "2022-03-13T16:59:42.536Z"
   },
   {
    "duration": 281,
    "start_time": "2022-03-13T16:59:42.544Z"
   },
   {
    "duration": 16,
    "start_time": "2022-03-13T16:59:42.827Z"
   },
   {
    "duration": 6,
    "start_time": "2022-03-13T16:59:42.845Z"
   },
   {
    "duration": 21,
    "start_time": "2022-03-13T16:59:42.854Z"
   },
   {
    "duration": 660,
    "start_time": "2022-03-13T16:59:42.878Z"
   },
   {
    "duration": 31,
    "start_time": "2022-03-13T16:59:43.541Z"
   },
   {
    "duration": 11,
    "start_time": "2022-03-13T16:59:43.575Z"
   },
   {
    "duration": 84,
    "start_time": "2022-03-13T16:59:43.588Z"
   },
   {
    "duration": 1017,
    "start_time": "2022-03-13T16:59:43.674Z"
   },
   {
    "duration": 55,
    "start_time": "2022-03-13T16:59:44.694Z"
   },
   {
    "duration": 11,
    "start_time": "2022-03-13T16:59:44.751Z"
   },
   {
    "duration": 24,
    "start_time": "2022-03-13T16:59:44.765Z"
   },
   {
    "duration": 40,
    "start_time": "2022-03-13T16:59:44.832Z"
   },
   {
    "duration": 672,
    "start_time": "2022-03-13T16:59:44.875Z"
   },
   {
    "duration": 18,
    "start_time": "2022-03-13T16:59:45.550Z"
   },
   {
    "duration": 236,
    "start_time": "2022-03-13T16:59:45.570Z"
   },
   {
    "duration": 7,
    "start_time": "2022-03-13T16:59:58.593Z"
   },
   {
    "duration": 60,
    "start_time": "2022-03-13T17:00:00.080Z"
   },
   {
    "duration": 794,
    "start_time": "2022-03-13T17:00:18.968Z"
   },
   {
    "duration": 688,
    "start_time": "2022-03-13T17:00:31.888Z"
   },
   {
    "duration": 753,
    "start_time": "2022-03-13T17:01:43.647Z"
   },
   {
    "duration": 798,
    "start_time": "2022-03-13T17:02:10.119Z"
   },
   {
    "duration": 27,
    "start_time": "2022-03-13T17:04:25.071Z"
   },
   {
    "duration": 18,
    "start_time": "2022-03-13T17:07:22.064Z"
   },
   {
    "duration": 14,
    "start_time": "2022-03-13T17:08:31.638Z"
   },
   {
    "duration": 21,
    "start_time": "2022-03-13T17:09:12.429Z"
   },
   {
    "duration": 16,
    "start_time": "2022-03-13T17:09:47.006Z"
   },
   {
    "duration": 15,
    "start_time": "2022-03-13T17:09:47.550Z"
   },
   {
    "duration": 17,
    "start_time": "2022-03-13T17:09:48.205Z"
   },
   {
    "duration": 16,
    "start_time": "2022-03-13T17:09:56.342Z"
   },
   {
    "duration": 16,
    "start_time": "2022-03-13T17:09:57.086Z"
   },
   {
    "duration": 18,
    "start_time": "2022-03-13T17:10:14.549Z"
   },
   {
    "duration": 21,
    "start_time": "2022-03-13T17:11:29.638Z"
   },
   {
    "duration": 19,
    "start_time": "2022-03-13T17:11:40.958Z"
   },
   {
    "duration": 444,
    "start_time": "2022-03-13T17:17:05.742Z"
   },
   {
    "duration": 371,
    "start_time": "2022-03-13T17:17:41.415Z"
   },
   {
    "duration": 112,
    "start_time": "2022-03-13T17:17:55.039Z"
   },
   {
    "duration": 117,
    "start_time": "2022-03-13T17:19:00.614Z"
   },
   {
    "duration": 374,
    "start_time": "2022-03-13T17:21:04.046Z"
   },
   {
    "duration": 124,
    "start_time": "2022-03-13T17:21:25.599Z"
   },
   {
    "duration": 443,
    "start_time": "2022-03-13T17:21:30.615Z"
   },
   {
    "duration": 138,
    "start_time": "2022-03-13T17:21:54.247Z"
   },
   {
    "duration": 142,
    "start_time": "2022-03-13T17:22:45.502Z"
   },
   {
    "duration": 27,
    "start_time": "2022-03-13T17:23:30.733Z"
   },
   {
    "duration": 28,
    "start_time": "2022-03-13T17:38:48.593Z"
   },
   {
    "duration": 19,
    "start_time": "2022-03-13T17:39:00.185Z"
   },
   {
    "duration": 20,
    "start_time": "2022-03-13T17:39:03.761Z"
   },
   {
    "duration": 33,
    "start_time": "2022-03-13T17:49:15.496Z"
   },
   {
    "duration": 28,
    "start_time": "2022-03-13T17:54:41.168Z"
   },
   {
    "duration": 33,
    "start_time": "2022-03-13T17:54:54.706Z"
   },
   {
    "duration": 33,
    "start_time": "2022-03-13T17:55:54.201Z"
   },
   {
    "duration": 24,
    "start_time": "2022-03-13T17:56:13.920Z"
   },
   {
    "duration": 33,
    "start_time": "2022-03-13T17:56:46.176Z"
   },
   {
    "duration": 7106,
    "start_time": "2022-03-13T18:04:30.584Z"
   },
   {
    "duration": 21,
    "start_time": "2022-03-13T18:05:31.704Z"
   },
   {
    "duration": 36,
    "start_time": "2022-03-13T18:05:42.774Z"
   },
   {
    "duration": 143,
    "start_time": "2022-03-13T18:05:55.939Z"
   },
   {
    "duration": 134,
    "start_time": "2022-03-13T18:06:09.879Z"
   },
   {
    "duration": 130,
    "start_time": "2022-03-13T18:10:29.543Z"
   },
   {
    "duration": 132,
    "start_time": "2022-03-13T18:10:35.071Z"
   },
   {
    "duration": 131,
    "start_time": "2022-03-13T18:10:44.647Z"
   },
   {
    "duration": 38,
    "start_time": "2022-03-13T18:13:21.052Z"
   },
   {
    "duration": 137,
    "start_time": "2022-03-13T18:13:30.835Z"
   },
   {
    "duration": 30,
    "start_time": "2022-03-13T18:14:04.067Z"
   },
   {
    "duration": 9268,
    "start_time": "2022-03-13T18:17:03.205Z"
   },
   {
    "duration": 324,
    "start_time": "2022-03-13T18:17:30.078Z"
   },
   {
    "duration": 28,
    "start_time": "2022-03-13T18:21:53.351Z"
   },
   {
    "duration": 175,
    "start_time": "2022-03-13T18:23:23.084Z"
   },
   {
    "duration": 23,
    "start_time": "2022-03-13T19:47:43.948Z"
   },
   {
    "duration": 24,
    "start_time": "2022-03-13T19:50:20.122Z"
   },
   {
    "duration": 144,
    "start_time": "2022-03-13T19:51:31.322Z"
   },
   {
    "duration": 25,
    "start_time": "2022-03-13T19:54:54.073Z"
   },
   {
    "duration": 145,
    "start_time": "2022-03-13T19:56:27.882Z"
   },
   {
    "duration": 25,
    "start_time": "2022-03-13T19:58:45.097Z"
   },
   {
    "duration": 141,
    "start_time": "2022-03-13T19:59:41.400Z"
   },
   {
    "duration": 26,
    "start_time": "2022-03-13T20:11:56.192Z"
   },
   {
    "duration": 16,
    "start_time": "2022-03-13T20:12:18.175Z"
   },
   {
    "duration": 17,
    "start_time": "2022-03-13T20:12:21.959Z"
   },
   {
    "duration": 23,
    "start_time": "2022-03-13T20:14:18.287Z"
   },
   {
    "duration": 115,
    "start_time": "2022-03-13T20:16:36.735Z"
   },
   {
    "duration": 31,
    "start_time": "2022-03-13T20:18:39.634Z"
   },
   {
    "duration": 111,
    "start_time": "2022-03-13T20:19:21.494Z"
   },
   {
    "duration": 24,
    "start_time": "2022-03-13T20:21:37.495Z"
   },
   {
    "duration": 116,
    "start_time": "2022-03-13T20:22:18.897Z"
   },
   {
    "duration": 14,
    "start_time": "2022-03-13T20:35:12.706Z"
   },
   {
    "duration": 14,
    "start_time": "2022-03-13T20:38:00.956Z"
   },
   {
    "duration": 16,
    "start_time": "2022-03-13T20:41:39.653Z"
   },
   {
    "duration": 2357,
    "start_time": "2022-03-13T20:54:41.994Z"
   },
   {
    "duration": 2306,
    "start_time": "2022-03-13T20:54:44.355Z"
   },
   {
    "duration": 17,
    "start_time": "2022-03-13T20:54:46.664Z"
   },
   {
    "duration": 7,
    "start_time": "2022-03-13T20:54:46.685Z"
   },
   {
    "duration": 38,
    "start_time": "2022-03-13T20:54:46.695Z"
   },
   {
    "duration": 9,
    "start_time": "2022-03-13T20:54:46.736Z"
   },
   {
    "duration": 19,
    "start_time": "2022-03-13T20:54:46.748Z"
   },
   {
    "duration": 75,
    "start_time": "2022-03-13T20:54:46.773Z"
   },
   {
    "duration": 19,
    "start_time": "2022-03-13T20:54:46.852Z"
   },
   {
    "duration": 76,
    "start_time": "2022-03-13T20:54:46.874Z"
   },
   {
    "duration": 7,
    "start_time": "2022-03-13T20:54:46.953Z"
   },
   {
    "duration": 34,
    "start_time": "2022-03-13T20:54:46.963Z"
   },
   {
    "duration": 6,
    "start_time": "2022-03-13T20:54:47.033Z"
   },
   {
    "duration": 10,
    "start_time": "2022-03-13T20:54:47.042Z"
   },
   {
    "duration": 12,
    "start_time": "2022-03-13T20:54:47.055Z"
   },
   {
    "duration": 14,
    "start_time": "2022-03-13T20:54:47.070Z"
   },
   {
    "duration": 31,
    "start_time": "2022-03-13T20:54:47.132Z"
   },
   {
    "duration": 6,
    "start_time": "2022-03-13T20:54:47.166Z"
   },
   {
    "duration": 13,
    "start_time": "2022-03-13T20:54:47.175Z"
   },
   {
    "duration": 49,
    "start_time": "2022-03-13T20:54:47.191Z"
   },
   {
    "duration": 12,
    "start_time": "2022-03-13T20:54:47.243Z"
   },
   {
    "duration": 12,
    "start_time": "2022-03-13T20:54:47.259Z"
   },
   {
    "duration": 12,
    "start_time": "2022-03-13T20:54:47.335Z"
   },
   {
    "duration": 10,
    "start_time": "2022-03-13T20:54:47.351Z"
   },
   {
    "duration": 261,
    "start_time": "2022-03-13T20:54:47.363Z"
   },
   {
    "duration": 13,
    "start_time": "2022-03-13T20:54:47.627Z"
   },
   {
    "duration": 10,
    "start_time": "2022-03-13T20:54:47.642Z"
   },
   {
    "duration": 24,
    "start_time": "2022-03-13T20:54:47.654Z"
   },
   {
    "duration": 501,
    "start_time": "2022-03-13T20:54:47.681Z"
   },
   {
    "duration": 46,
    "start_time": "2022-03-13T20:54:48.186Z"
   },
   {
    "duration": 9,
    "start_time": "2022-03-13T20:54:48.235Z"
   },
   {
    "duration": 48,
    "start_time": "2022-03-13T20:54:48.246Z"
   },
   {
    "duration": 1053,
    "start_time": "2022-03-13T20:54:48.297Z"
   },
   {
    "duration": 36,
    "start_time": "2022-03-13T20:54:49.352Z"
   },
   {
    "duration": 44,
    "start_time": "2022-03-13T20:54:49.390Z"
   },
   {
    "duration": 23,
    "start_time": "2022-03-13T20:54:49.437Z"
   },
   {
    "duration": 83,
    "start_time": "2022-03-13T20:54:49.463Z"
   },
   {
    "duration": 646,
    "start_time": "2022-03-13T20:54:49.549Z"
   },
   {
    "duration": 34,
    "start_time": "2022-03-13T20:54:50.198Z"
   },
   {
    "duration": 230,
    "start_time": "2022-03-13T20:54:50.235Z"
   },
   {
    "duration": 9,
    "start_time": "2022-03-13T20:54:50.468Z"
   },
   {
    "duration": 78,
    "start_time": "2022-03-13T20:54:50.479Z"
   },
   {
    "duration": 750,
    "start_time": "2022-03-13T20:54:50.559Z"
   },
   {
    "duration": 683,
    "start_time": "2022-03-13T20:54:51.313Z"
   },
   {
    "duration": 792,
    "start_time": "2022-03-13T20:54:51.998Z"
   },
   {
    "duration": 783,
    "start_time": "2022-03-13T20:54:52.792Z"
   },
   {
    "duration": 17,
    "start_time": "2022-03-13T20:54:53.578Z"
   },
   {
    "duration": 39,
    "start_time": "2022-03-13T20:54:53.598Z"
   },
   {
    "duration": 21,
    "start_time": "2022-03-13T20:54:53.639Z"
   },
   {
    "duration": 15,
    "start_time": "2022-03-13T20:54:53.662Z"
   },
   {
    "duration": 63,
    "start_time": "2022-03-13T20:54:53.680Z"
   },
   {
    "duration": 19,
    "start_time": "2022-03-13T20:54:53.746Z"
   },
   {
    "duration": 17,
    "start_time": "2022-03-13T20:54:53.768Z"
   },
   {
    "duration": 62,
    "start_time": "2022-03-13T20:54:53.788Z"
   },
   {
    "duration": 26,
    "start_time": "2022-03-13T20:54:53.853Z"
   },
   {
    "duration": 220,
    "start_time": "2022-03-13T20:54:53.883Z"
   },
   {
    "duration": 30,
    "start_time": "2022-03-13T20:54:54.106Z"
   },
   {
    "duration": 23,
    "start_time": "2022-03-13T20:54:54.139Z"
   },
   {
    "duration": 175,
    "start_time": "2022-03-13T20:54:54.164Z"
   },
   {
    "duration": 25,
    "start_time": "2022-03-13T20:54:54.342Z"
   },
   {
    "duration": 166,
    "start_time": "2022-03-13T20:54:54.370Z"
   },
   {
    "duration": 24,
    "start_time": "2022-03-13T20:54:54.539Z"
   },
   {
    "duration": 154,
    "start_time": "2022-03-13T20:54:54.565Z"
   },
   {
    "duration": 32,
    "start_time": "2022-03-13T20:54:54.722Z"
   },
   {
    "duration": 173,
    "start_time": "2022-03-13T20:54:54.756Z"
   },
   {
    "duration": 28,
    "start_time": "2022-03-13T20:54:54.932Z"
   },
   {
    "duration": 185,
    "start_time": "2022-03-13T20:54:54.963Z"
   },
   {
    "duration": 25,
    "start_time": "2022-03-13T20:54:55.159Z"
   },
   {
    "duration": 180,
    "start_time": "2022-03-13T20:54:55.188Z"
   },
   {
    "duration": 22,
    "start_time": "2022-03-13T20:54:55.371Z"
   },
   {
    "duration": 224,
    "start_time": "2022-03-13T20:54:55.395Z"
   },
   {
    "duration": 33,
    "start_time": "2022-03-13T20:54:55.621Z"
   },
   {
    "duration": 143,
    "start_time": "2022-03-13T20:54:55.657Z"
   },
   {
    "duration": 38,
    "start_time": "2022-03-13T20:54:55.804Z"
   },
   {
    "duration": 120,
    "start_time": "2022-03-13T20:54:55.844Z"
   },
   {
    "duration": 13,
    "start_time": "2022-03-13T20:54:55.966Z"
   },
   {
    "duration": 51,
    "start_time": "2022-03-13T20:54:55.982Z"
   },
   {
    "duration": 1926,
    "start_time": "2022-03-14T15:51:01.024Z"
   },
   {
    "duration": 1705,
    "start_time": "2022-03-14T15:51:02.954Z"
   },
   {
    "duration": 17,
    "start_time": "2022-03-14T15:51:04.663Z"
   },
   {
    "duration": 7,
    "start_time": "2022-03-14T15:51:04.687Z"
   },
   {
    "duration": 4,
    "start_time": "2022-03-14T15:51:04.697Z"
   },
   {
    "duration": 8,
    "start_time": "2022-03-14T15:51:04.704Z"
   },
   {
    "duration": 18,
    "start_time": "2022-03-14T15:51:04.715Z"
   },
   {
    "duration": 67,
    "start_time": "2022-03-14T15:51:04.736Z"
   },
   {
    "duration": 19,
    "start_time": "2022-03-14T15:51:04.808Z"
   },
   {
    "duration": 57,
    "start_time": "2022-03-14T15:51:04.832Z"
   },
   {
    "duration": 11,
    "start_time": "2022-03-14T15:51:04.892Z"
   },
   {
    "duration": 39,
    "start_time": "2022-03-14T15:51:04.906Z"
   },
   {
    "duration": 5,
    "start_time": "2022-03-14T15:51:04.947Z"
   },
   {
    "duration": 37,
    "start_time": "2022-03-14T15:51:04.954Z"
   },
   {
    "duration": 14,
    "start_time": "2022-03-14T15:51:04.994Z"
   },
   {
    "duration": 16,
    "start_time": "2022-03-14T15:51:05.011Z"
   },
   {
    "duration": 64,
    "start_time": "2022-03-14T15:51:05.030Z"
   },
   {
    "duration": 8,
    "start_time": "2022-03-14T15:51:05.097Z"
   },
   {
    "duration": 13,
    "start_time": "2022-03-14T15:51:05.108Z"
   },
   {
    "duration": 19,
    "start_time": "2022-03-14T15:51:05.123Z"
   },
   {
    "duration": 42,
    "start_time": "2022-03-14T15:51:05.145Z"
   },
   {
    "duration": 9,
    "start_time": "2022-03-14T15:51:05.190Z"
   },
   {
    "duration": 22,
    "start_time": "2022-03-14T15:51:05.202Z"
   },
   {
    "duration": 6,
    "start_time": "2022-03-14T15:51:05.227Z"
   },
   {
    "duration": 272,
    "start_time": "2022-03-14T15:51:05.235Z"
   },
   {
    "duration": 13,
    "start_time": "2022-03-14T15:51:05.510Z"
   },
   {
    "duration": 6,
    "start_time": "2022-03-14T15:51:05.530Z"
   },
   {
    "duration": 48,
    "start_time": "2022-03-14T15:51:05.539Z"
   },
   {
    "duration": 455,
    "start_time": "2022-03-14T15:51:05.589Z"
   },
   {
    "duration": 23,
    "start_time": "2022-03-14T15:51:06.046Z"
   },
   {
    "duration": 20,
    "start_time": "2022-03-14T15:51:06.071Z"
   },
   {
    "duration": 51,
    "start_time": "2022-03-14T15:51:06.093Z"
   },
   {
    "duration": 1009,
    "start_time": "2022-03-14T15:51:06.146Z"
   },
   {
    "duration": 48,
    "start_time": "2022-03-14T15:51:07.157Z"
   },
   {
    "duration": 10,
    "start_time": "2022-03-14T15:51:07.207Z"
   },
   {
    "duration": 24,
    "start_time": "2022-03-14T15:51:07.219Z"
   },
   {
    "duration": 65,
    "start_time": "2022-03-14T15:51:07.245Z"
   },
   {
    "duration": 618,
    "start_time": "2022-03-14T15:51:07.313Z"
   },
   {
    "duration": 16,
    "start_time": "2022-03-14T15:51:07.933Z"
   },
   {
    "duration": 228,
    "start_time": "2022-03-14T15:51:07.951Z"
   },
   {
    "duration": 8,
    "start_time": "2022-03-14T15:51:08.181Z"
   },
   {
    "duration": 60,
    "start_time": "2022-03-14T15:51:08.191Z"
   },
   {
    "duration": 735,
    "start_time": "2022-03-14T15:51:08.254Z"
   },
   {
    "duration": 653,
    "start_time": "2022-03-14T15:51:08.992Z"
   },
   {
    "duration": 908,
    "start_time": "2022-03-14T15:51:09.648Z"
   },
   {
    "duration": 773,
    "start_time": "2022-03-14T15:51:10.559Z"
   },
   {
    "duration": 19,
    "start_time": "2022-03-14T15:51:11.335Z"
   },
   {
    "duration": 36,
    "start_time": "2022-03-14T15:51:11.357Z"
   },
   {
    "duration": 22,
    "start_time": "2022-03-14T15:51:11.395Z"
   },
   {
    "duration": 17,
    "start_time": "2022-03-14T15:51:11.419Z"
   },
   {
    "duration": 52,
    "start_time": "2022-03-14T15:51:11.438Z"
   },
   {
    "duration": 16,
    "start_time": "2022-03-14T15:51:11.493Z"
   },
   {
    "duration": 18,
    "start_time": "2022-03-14T15:51:11.511Z"
   },
   {
    "duration": 14,
    "start_time": "2022-03-14T15:51:11.532Z"
   },
   {
    "duration": 51,
    "start_time": "2022-03-14T15:51:11.548Z"
   },
   {
    "duration": 124,
    "start_time": "2022-03-14T15:51:11.601Z"
   },
   {
    "duration": 18,
    "start_time": "2022-03-14T15:51:11.727Z"
   },
   {
    "duration": 43,
    "start_time": "2022-03-14T15:51:11.748Z"
   },
   {
    "duration": 153,
    "start_time": "2022-03-14T15:51:11.793Z"
   },
   {
    "duration": 25,
    "start_time": "2022-03-14T15:51:11.948Z"
   },
   {
    "duration": 142,
    "start_time": "2022-03-14T15:51:11.992Z"
   },
   {
    "duration": 25,
    "start_time": "2022-03-14T15:51:12.137Z"
   },
   {
    "duration": 146,
    "start_time": "2022-03-14T15:51:12.164Z"
   },
   {
    "duration": 24,
    "start_time": "2022-03-14T15:51:12.312Z"
   },
   {
    "duration": 165,
    "start_time": "2022-03-14T15:51:12.339Z"
   },
   {
    "duration": 23,
    "start_time": "2022-03-14T15:51:12.507Z"
   },
   {
    "duration": 173,
    "start_time": "2022-03-14T15:51:12.533Z"
   },
   {
    "duration": 24,
    "start_time": "2022-03-14T15:51:12.709Z"
   },
   {
    "duration": 169,
    "start_time": "2022-03-14T15:51:12.735Z"
   },
   {
    "duration": 23,
    "start_time": "2022-03-14T15:51:12.907Z"
   },
   {
    "duration": 217,
    "start_time": "2022-03-14T15:51:12.932Z"
   },
   {
    "duration": 38,
    "start_time": "2022-03-14T15:51:13.151Z"
   },
   {
    "duration": 117,
    "start_time": "2022-03-14T15:51:13.191Z"
   },
   {
    "duration": 22,
    "start_time": "2022-03-14T15:51:13.310Z"
   },
   {
    "duration": 123,
    "start_time": "2022-03-14T15:51:13.334Z"
   },
   {
    "duration": 12,
    "start_time": "2022-03-14T15:51:13.460Z"
   },
   {
    "duration": 21,
    "start_time": "2022-03-14T15:51:13.475Z"
   },
   {
    "duration": 5,
    "start_time": "2022-03-14T15:52:43.363Z"
   },
   {
    "duration": 9,
    "start_time": "2022-03-14T15:52:53.423Z"
   },
   {
    "duration": 42,
    "start_time": "2022-03-14T15:53:36.793Z"
   },
   {
    "duration": 36,
    "start_time": "2022-03-14T15:54:08.323Z"
   },
   {
    "duration": 11,
    "start_time": "2022-03-14T15:54:14.263Z"
   },
   {
    "duration": 1877,
    "start_time": "2022-04-06T08:50:24.345Z"
   },
   {
    "duration": 1556,
    "start_time": "2022-04-06T08:50:26.224Z"
   },
   {
    "duration": 18,
    "start_time": "2022-04-06T08:50:27.781Z"
   },
   {
    "duration": 5,
    "start_time": "2022-04-06T08:50:27.801Z"
   },
   {
    "duration": 5,
    "start_time": "2022-04-06T08:50:27.808Z"
   },
   {
    "duration": 10,
    "start_time": "2022-04-06T08:50:27.814Z"
   },
   {
    "duration": 13,
    "start_time": "2022-04-06T08:50:27.826Z"
   },
   {
    "duration": 14,
    "start_time": "2022-04-06T08:50:27.841Z"
   },
   {
    "duration": 15,
    "start_time": "2022-04-06T08:50:27.858Z"
   },
   {
    "duration": 55,
    "start_time": "2022-04-06T08:50:27.877Z"
   },
   {
    "duration": 8,
    "start_time": "2022-04-06T08:50:27.934Z"
   },
   {
    "duration": 27,
    "start_time": "2022-04-06T08:50:27.943Z"
   },
   {
    "duration": 4,
    "start_time": "2022-04-06T08:50:27.971Z"
   },
   {
    "duration": 7,
    "start_time": "2022-04-06T08:50:27.977Z"
   },
   {
    "duration": 7,
    "start_time": "2022-04-06T08:50:28.008Z"
   },
   {
    "duration": 13,
    "start_time": "2022-04-06T08:50:28.017Z"
   },
   {
    "duration": 14,
    "start_time": "2022-04-06T08:50:28.031Z"
   },
   {
    "duration": 4,
    "start_time": "2022-04-06T08:50:28.047Z"
   },
   {
    "duration": 9,
    "start_time": "2022-04-06T08:50:28.053Z"
   },
   {
    "duration": 16,
    "start_time": "2022-04-06T08:50:28.063Z"
   },
   {
    "duration": 28,
    "start_time": "2022-04-06T08:50:28.081Z"
   },
   {
    "duration": 6,
    "start_time": "2022-04-06T08:50:28.111Z"
   },
   {
    "duration": 8,
    "start_time": "2022-04-06T08:50:28.118Z"
   },
   {
    "duration": 6,
    "start_time": "2022-04-06T08:50:28.128Z"
   },
   {
    "duration": 116,
    "start_time": "2022-04-06T08:50:28.135Z"
   },
   {
    "duration": 14,
    "start_time": "2022-04-06T08:50:28.253Z"
   },
   {
    "duration": 5,
    "start_time": "2022-04-06T08:50:28.268Z"
   },
   {
    "duration": 33,
    "start_time": "2022-04-06T08:50:28.277Z"
   },
   {
    "duration": 190,
    "start_time": "2022-04-06T08:50:28.312Z"
   },
   {
    "duration": 18,
    "start_time": "2022-04-06T08:50:28.509Z"
   },
   {
    "duration": 6,
    "start_time": "2022-04-06T08:50:28.528Z"
   },
   {
    "duration": 32,
    "start_time": "2022-04-06T08:50:28.536Z"
   },
   {
    "duration": 411,
    "start_time": "2022-04-06T08:50:28.570Z"
   },
   {
    "duration": 9,
    "start_time": "2022-04-06T08:50:28.982Z"
   },
   {
    "duration": 16,
    "start_time": "2022-04-06T08:50:28.993Z"
   },
   {
    "duration": 10,
    "start_time": "2022-04-06T08:50:29.010Z"
   },
   {
    "duration": 122,
    "start_time": "2022-04-06T08:50:29.022Z"
   },
   {
    "duration": 0,
    "start_time": "2022-04-06T08:50:29.146Z"
   },
   {
    "duration": 0,
    "start_time": "2022-04-06T08:50:29.147Z"
   },
   {
    "duration": 0,
    "start_time": "2022-04-06T08:50:29.148Z"
   },
   {
    "duration": 0,
    "start_time": "2022-04-06T08:50:29.149Z"
   },
   {
    "duration": 0,
    "start_time": "2022-04-06T08:50:29.150Z"
   },
   {
    "duration": 0,
    "start_time": "2022-04-06T08:50:29.151Z"
   },
   {
    "duration": 0,
    "start_time": "2022-04-06T08:50:29.151Z"
   },
   {
    "duration": 0,
    "start_time": "2022-04-06T08:50:29.152Z"
   },
   {
    "duration": 0,
    "start_time": "2022-04-06T08:50:29.154Z"
   },
   {
    "duration": 0,
    "start_time": "2022-04-06T08:50:29.154Z"
   },
   {
    "duration": 0,
    "start_time": "2022-04-06T08:50:29.155Z"
   },
   {
    "duration": 0,
    "start_time": "2022-04-06T08:50:29.156Z"
   },
   {
    "duration": 0,
    "start_time": "2022-04-06T08:50:29.157Z"
   },
   {
    "duration": 0,
    "start_time": "2022-04-06T08:50:29.158Z"
   },
   {
    "duration": 0,
    "start_time": "2022-04-06T08:50:29.159Z"
   },
   {
    "duration": 0,
    "start_time": "2022-04-06T08:50:29.160Z"
   },
   {
    "duration": 0,
    "start_time": "2022-04-06T08:50:29.160Z"
   },
   {
    "duration": 0,
    "start_time": "2022-04-06T08:50:29.161Z"
   },
   {
    "duration": 0,
    "start_time": "2022-04-06T08:50:29.162Z"
   },
   {
    "duration": 0,
    "start_time": "2022-04-06T08:50:29.163Z"
   },
   {
    "duration": 0,
    "start_time": "2022-04-06T08:50:29.164Z"
   },
   {
    "duration": 0,
    "start_time": "2022-04-06T08:50:29.165Z"
   },
   {
    "duration": 0,
    "start_time": "2022-04-06T08:50:29.166Z"
   },
   {
    "duration": 0,
    "start_time": "2022-04-06T08:50:29.167Z"
   },
   {
    "duration": 0,
    "start_time": "2022-04-06T08:50:29.168Z"
   },
   {
    "duration": 0,
    "start_time": "2022-04-06T08:50:29.169Z"
   },
   {
    "duration": 0,
    "start_time": "2022-04-06T08:50:29.170Z"
   },
   {
    "duration": 0,
    "start_time": "2022-04-06T08:50:29.209Z"
   },
   {
    "duration": 0,
    "start_time": "2022-04-06T08:50:29.210Z"
   },
   {
    "duration": 0,
    "start_time": "2022-04-06T08:50:29.211Z"
   },
   {
    "duration": 0,
    "start_time": "2022-04-06T08:50:29.212Z"
   },
   {
    "duration": 0,
    "start_time": "2022-04-06T08:50:29.213Z"
   },
   {
    "duration": 0,
    "start_time": "2022-04-06T08:50:29.214Z"
   },
   {
    "duration": 0,
    "start_time": "2022-04-06T08:50:29.215Z"
   },
   {
    "duration": 0,
    "start_time": "2022-04-06T08:50:29.216Z"
   },
   {
    "duration": 0,
    "start_time": "2022-04-06T08:50:29.217Z"
   },
   {
    "duration": 0,
    "start_time": "2022-04-06T08:50:29.218Z"
   },
   {
    "duration": 0,
    "start_time": "2022-04-06T08:50:29.219Z"
   },
   {
    "duration": 0,
    "start_time": "2022-04-06T08:50:29.219Z"
   },
   {
    "duration": 0,
    "start_time": "2022-04-06T08:50:29.221Z"
   },
   {
    "duration": 0,
    "start_time": "2022-04-06T08:50:29.222Z"
   },
   {
    "duration": 2394,
    "start_time": "2022-04-06T09:00:44.755Z"
   },
   {
    "duration": 1981,
    "start_time": "2022-04-06T09:00:47.151Z"
   },
   {
    "duration": 16,
    "start_time": "2022-04-06T09:00:49.134Z"
   },
   {
    "duration": 101,
    "start_time": "2022-04-06T09:00:49.210Z"
   },
   {
    "duration": 5,
    "start_time": "2022-04-06T09:00:49.314Z"
   },
   {
    "duration": 13,
    "start_time": "2022-04-06T09:00:49.322Z"
   },
   {
    "duration": 75,
    "start_time": "2022-04-06T09:00:49.337Z"
   },
   {
    "duration": 19,
    "start_time": "2022-04-06T09:00:49.415Z"
   },
   {
    "duration": 14,
    "start_time": "2022-04-06T09:00:49.436Z"
   },
   {
    "duration": 31,
    "start_time": "2022-04-06T09:00:49.512Z"
   },
   {
    "duration": 10,
    "start_time": "2022-04-06T09:00:49.609Z"
   },
   {
    "duration": 26,
    "start_time": "2022-04-06T09:00:49.622Z"
   },
   {
    "duration": 63,
    "start_time": "2022-04-06T09:00:49.650Z"
   },
   {
    "duration": 10,
    "start_time": "2022-04-06T09:00:49.716Z"
   },
   {
    "duration": 8,
    "start_time": "2022-04-06T09:00:49.728Z"
   },
   {
    "duration": 77,
    "start_time": "2022-04-06T09:00:49.739Z"
   },
   {
    "duration": 12,
    "start_time": "2022-04-06T09:00:49.818Z"
   },
   {
    "duration": 9,
    "start_time": "2022-04-06T09:00:49.832Z"
   },
   {
    "duration": 73,
    "start_time": "2022-04-06T09:00:49.843Z"
   },
   {
    "duration": 13,
    "start_time": "2022-04-06T09:00:49.920Z"
   },
   {
    "duration": 7,
    "start_time": "2022-04-06T09:00:49.935Z"
   },
   {
    "duration": 67,
    "start_time": "2022-04-06T09:00:49.943Z"
   },
   {
    "duration": 15,
    "start_time": "2022-04-06T09:00:50.013Z"
   },
   {
    "duration": 8,
    "start_time": "2022-04-06T09:00:50.030Z"
   },
   {
    "duration": 306,
    "start_time": "2022-04-06T09:00:50.040Z"
   },
   {
    "duration": 72,
    "start_time": "2022-04-06T09:00:50.348Z"
   },
   {
    "duration": 6,
    "start_time": "2022-04-06T09:00:50.423Z"
   },
   {
    "duration": 79,
    "start_time": "2022-04-06T09:00:50.436Z"
   },
   {
    "duration": 497,
    "start_time": "2022-04-06T09:00:50.517Z"
   },
   {
    "duration": 22,
    "start_time": "2022-04-06T09:00:51.016Z"
   },
   {
    "duration": 7,
    "start_time": "2022-04-06T09:00:51.040Z"
   },
   {
    "duration": 112,
    "start_time": "2022-04-06T09:00:51.110Z"
   },
   {
    "duration": 941,
    "start_time": "2022-04-06T09:00:51.224Z"
   },
   {
    "duration": 13,
    "start_time": "2022-04-06T09:00:52.209Z"
   },
   {
    "duration": 12,
    "start_time": "2022-04-06T09:00:52.224Z"
   },
   {
    "duration": 6,
    "start_time": "2022-04-06T09:00:52.238Z"
   },
   {
    "duration": 300,
    "start_time": "2022-04-06T09:00:52.310Z"
   },
   {
    "duration": 0,
    "start_time": "2022-04-06T09:00:52.612Z"
   },
   {
    "duration": 0,
    "start_time": "2022-04-06T09:00:52.613Z"
   },
   {
    "duration": 0,
    "start_time": "2022-04-06T09:00:52.614Z"
   },
   {
    "duration": 0,
    "start_time": "2022-04-06T09:00:52.615Z"
   },
   {
    "duration": 0,
    "start_time": "2022-04-06T09:00:52.616Z"
   },
   {
    "duration": 0,
    "start_time": "2022-04-06T09:00:52.618Z"
   },
   {
    "duration": 0,
    "start_time": "2022-04-06T09:00:52.620Z"
   },
   {
    "duration": 0,
    "start_time": "2022-04-06T09:00:52.621Z"
   },
   {
    "duration": 0,
    "start_time": "2022-04-06T09:00:52.623Z"
   },
   {
    "duration": 0,
    "start_time": "2022-04-06T09:00:52.624Z"
   },
   {
    "duration": 0,
    "start_time": "2022-04-06T09:00:52.625Z"
   },
   {
    "duration": 0,
    "start_time": "2022-04-06T09:00:52.626Z"
   },
   {
    "duration": 0,
    "start_time": "2022-04-06T09:00:52.627Z"
   },
   {
    "duration": 0,
    "start_time": "2022-04-06T09:00:52.628Z"
   },
   {
    "duration": 0,
    "start_time": "2022-04-06T09:00:52.629Z"
   },
   {
    "duration": 0,
    "start_time": "2022-04-06T09:00:52.630Z"
   },
   {
    "duration": 0,
    "start_time": "2022-04-06T09:00:52.632Z"
   },
   {
    "duration": 0,
    "start_time": "2022-04-06T09:00:52.634Z"
   },
   {
    "duration": 0,
    "start_time": "2022-04-06T09:00:52.635Z"
   },
   {
    "duration": 0,
    "start_time": "2022-04-06T09:00:52.709Z"
   },
   {
    "duration": 0,
    "start_time": "2022-04-06T09:00:52.710Z"
   },
   {
    "duration": 0,
    "start_time": "2022-04-06T09:00:52.712Z"
   },
   {
    "duration": 0,
    "start_time": "2022-04-06T09:00:52.714Z"
   },
   {
    "duration": 0,
    "start_time": "2022-04-06T09:00:52.716Z"
   },
   {
    "duration": 0,
    "start_time": "2022-04-06T09:00:52.718Z"
   },
   {
    "duration": 0,
    "start_time": "2022-04-06T09:00:52.719Z"
   },
   {
    "duration": 0,
    "start_time": "2022-04-06T09:00:52.720Z"
   },
   {
    "duration": 0,
    "start_time": "2022-04-06T09:00:52.722Z"
   },
   {
    "duration": 0,
    "start_time": "2022-04-06T09:00:52.723Z"
   },
   {
    "duration": 0,
    "start_time": "2022-04-06T09:00:52.724Z"
   },
   {
    "duration": 0,
    "start_time": "2022-04-06T09:00:52.728Z"
   },
   {
    "duration": 0,
    "start_time": "2022-04-06T09:00:52.729Z"
   },
   {
    "duration": 0,
    "start_time": "2022-04-06T09:00:52.729Z"
   },
   {
    "duration": 0,
    "start_time": "2022-04-06T09:00:52.731Z"
   },
   {
    "duration": 0,
    "start_time": "2022-04-06T09:00:52.732Z"
   },
   {
    "duration": 0,
    "start_time": "2022-04-06T09:00:52.733Z"
   },
   {
    "duration": 0,
    "start_time": "2022-04-06T09:00:52.734Z"
   },
   {
    "duration": 0,
    "start_time": "2022-04-06T09:00:52.735Z"
   },
   {
    "duration": 0,
    "start_time": "2022-04-06T09:00:52.736Z"
   },
   {
    "duration": 0,
    "start_time": "2022-04-06T09:00:52.809Z"
   },
   {
    "duration": 0,
    "start_time": "2022-04-06T09:00:52.812Z"
   },
   {
    "duration": 1692,
    "start_time": "2022-08-11T11:51:12.166Z"
   },
   {
    "duration": 1736,
    "start_time": "2022-08-11T11:51:13.860Z"
   },
   {
    "duration": 17,
    "start_time": "2022-08-11T11:51:15.599Z"
   },
   {
    "duration": 4,
    "start_time": "2022-08-11T11:51:15.618Z"
   },
   {
    "duration": 6,
    "start_time": "2022-08-11T11:51:15.624Z"
   },
   {
    "duration": 16,
    "start_time": "2022-08-11T11:51:15.632Z"
   },
   {
    "duration": 33,
    "start_time": "2022-08-11T11:51:15.650Z"
   },
   {
    "duration": 27,
    "start_time": "2022-08-11T11:51:15.685Z"
   },
   {
    "duration": 22,
    "start_time": "2022-08-11T11:51:15.714Z"
   },
   {
    "duration": 47,
    "start_time": "2022-08-11T11:51:15.740Z"
   },
   {
    "duration": 8,
    "start_time": "2022-08-11T11:51:15.789Z"
   },
   {
    "duration": 32,
    "start_time": "2022-08-11T11:51:15.798Z"
   },
   {
    "duration": 5,
    "start_time": "2022-08-11T11:51:15.833Z"
   },
   {
    "duration": 7,
    "start_time": "2022-08-11T11:51:15.840Z"
   },
   {
    "duration": 26,
    "start_time": "2022-08-11T11:51:15.849Z"
   },
   {
    "duration": 15,
    "start_time": "2022-08-11T11:51:15.878Z"
   },
   {
    "duration": 9,
    "start_time": "2022-08-11T11:51:15.895Z"
   },
   {
    "duration": 4,
    "start_time": "2022-08-11T11:51:15.906Z"
   },
   {
    "duration": 9,
    "start_time": "2022-08-11T11:51:15.912Z"
   },
   {
    "duration": 11,
    "start_time": "2022-08-11T11:51:15.923Z"
   },
   {
    "duration": 34,
    "start_time": "2022-08-11T11:51:15.936Z"
   },
   {
    "duration": 10,
    "start_time": "2022-08-11T11:51:15.972Z"
   },
   {
    "duration": 18,
    "start_time": "2022-08-11T11:51:15.984Z"
   },
   {
    "duration": 9,
    "start_time": "2022-08-11T11:51:16.004Z"
   },
   {
    "duration": 140,
    "start_time": "2022-08-11T11:51:16.015Z"
   },
   {
    "duration": 24,
    "start_time": "2022-08-11T11:51:16.157Z"
   },
   {
    "duration": 8,
    "start_time": "2022-08-11T11:51:16.183Z"
   },
   {
    "duration": 21,
    "start_time": "2022-08-11T11:51:16.200Z"
   },
   {
    "duration": 233,
    "start_time": "2022-08-11T11:51:16.223Z"
   },
   {
    "duration": 25,
    "start_time": "2022-08-11T11:51:16.457Z"
   },
   {
    "duration": 22,
    "start_time": "2022-08-11T11:51:16.484Z"
   },
   {
    "duration": 64,
    "start_time": "2022-08-11T11:51:16.511Z"
   },
   {
    "duration": 532,
    "start_time": "2022-08-11T11:51:16.577Z"
   },
   {
    "duration": 9,
    "start_time": "2022-08-11T11:51:17.111Z"
   },
   {
    "duration": 18,
    "start_time": "2022-08-11T11:51:17.121Z"
   },
   {
    "duration": 9,
    "start_time": "2022-08-11T11:51:17.141Z"
   },
   {
    "duration": 144,
    "start_time": "2022-08-11T11:51:17.152Z"
   },
   {
    "duration": 0,
    "start_time": "2022-08-11T11:51:17.298Z"
   },
   {
    "duration": 0,
    "start_time": "2022-08-11T11:51:17.299Z"
   },
   {
    "duration": 0,
    "start_time": "2022-08-11T11:51:17.300Z"
   },
   {
    "duration": 0,
    "start_time": "2022-08-11T11:51:17.302Z"
   },
   {
    "duration": 0,
    "start_time": "2022-08-11T11:51:17.303Z"
   },
   {
    "duration": 0,
    "start_time": "2022-08-11T11:51:17.304Z"
   },
   {
    "duration": 0,
    "start_time": "2022-08-11T11:51:17.305Z"
   },
   {
    "duration": 0,
    "start_time": "2022-08-11T11:51:17.306Z"
   },
   {
    "duration": 0,
    "start_time": "2022-08-11T11:51:17.308Z"
   },
   {
    "duration": 0,
    "start_time": "2022-08-11T11:51:17.308Z"
   },
   {
    "duration": 0,
    "start_time": "2022-08-11T11:51:17.309Z"
   },
   {
    "duration": 0,
    "start_time": "2022-08-11T11:51:17.311Z"
   },
   {
    "duration": 0,
    "start_time": "2022-08-11T11:51:17.312Z"
   },
   {
    "duration": 0,
    "start_time": "2022-08-11T11:51:17.313Z"
   },
   {
    "duration": 0,
    "start_time": "2022-08-11T11:51:17.314Z"
   },
   {
    "duration": 0,
    "start_time": "2022-08-11T11:51:17.314Z"
   },
   {
    "duration": 0,
    "start_time": "2022-08-11T11:51:17.315Z"
   },
   {
    "duration": 0,
    "start_time": "2022-08-11T11:51:17.317Z"
   },
   {
    "duration": 0,
    "start_time": "2022-08-11T11:51:17.318Z"
   },
   {
    "duration": 0,
    "start_time": "2022-08-11T11:51:17.319Z"
   },
   {
    "duration": 0,
    "start_time": "2022-08-11T11:51:17.320Z"
   },
   {
    "duration": 0,
    "start_time": "2022-08-11T11:51:17.321Z"
   },
   {
    "duration": 0,
    "start_time": "2022-08-11T11:51:17.322Z"
   },
   {
    "duration": 0,
    "start_time": "2022-08-11T11:51:17.323Z"
   },
   {
    "duration": 0,
    "start_time": "2022-08-11T11:51:17.368Z"
   },
   {
    "duration": 0,
    "start_time": "2022-08-11T11:51:17.370Z"
   },
   {
    "duration": 0,
    "start_time": "2022-08-11T11:51:17.374Z"
   },
   {
    "duration": 0,
    "start_time": "2022-08-11T11:51:17.376Z"
   },
   {
    "duration": 0,
    "start_time": "2022-08-11T11:51:17.381Z"
   },
   {
    "duration": 0,
    "start_time": "2022-08-11T11:51:17.385Z"
   },
   {
    "duration": 0,
    "start_time": "2022-08-11T11:51:17.388Z"
   },
   {
    "duration": 0,
    "start_time": "2022-08-11T11:51:17.389Z"
   },
   {
    "duration": 0,
    "start_time": "2022-08-11T11:51:17.391Z"
   },
   {
    "duration": 0,
    "start_time": "2022-08-11T11:51:17.392Z"
   },
   {
    "duration": 0,
    "start_time": "2022-08-11T11:51:17.394Z"
   },
   {
    "duration": 0,
    "start_time": "2022-08-11T11:51:17.396Z"
   },
   {
    "duration": 0,
    "start_time": "2022-08-11T11:51:17.399Z"
   },
   {
    "duration": 0,
    "start_time": "2022-08-11T11:51:17.400Z"
   },
   {
    "duration": 0,
    "start_time": "2022-08-11T11:51:17.401Z"
   },
   {
    "duration": 0,
    "start_time": "2022-08-11T11:51:17.402Z"
   },
   {
    "duration": 0,
    "start_time": "2022-08-11T11:51:17.403Z"
   }
  ],
  "kernelspec": {
   "display_name": "Python 3 (ipykernel)",
   "language": "python",
   "name": "python3"
  },
  "language_info": {
   "codemirror_mode": {
    "name": "ipython",
    "version": 3
   },
   "file_extension": ".py",
   "mimetype": "text/x-python",
   "name": "python",
   "nbconvert_exporter": "python",
   "pygments_lexer": "ipython3",
   "version": "3.9.7"
  },
  "toc": {
   "base_numbering": 1,
   "nav_menu": {},
   "number_sections": false,
   "sideBar": true,
   "skip_h1_title": false,
   "title_cell": "Table of Contents",
   "title_sidebar": "Contents",
   "toc_cell": false,
   "toc_position": {
    "height": "calc(100% - 180px)",
    "left": "10px",
    "top": "150px",
    "width": "366.4px"
   },
   "toc_section_display": true,
   "toc_window_display": true
  }
 },
 "nbformat": 4,
 "nbformat_minor": 5
}
